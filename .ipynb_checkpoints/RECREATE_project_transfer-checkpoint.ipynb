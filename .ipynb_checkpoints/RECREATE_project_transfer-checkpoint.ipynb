{
 "cells": [
  {
   "cell_type": "code",
   "execution_count": 3,
   "metadata": {
    "pycharm": {
     "name": "#%%\n"
    }
   },
   "outputs": [
    {
     "name": "stdout",
     "output_type": "stream",
     "text": [
      "Collecting package metadata (current_repodata.json): done\r\n",
      "Solving environment: done\r\n",
      "\r\n",
      "\r\n",
      "==> WARNING: A newer version of conda exists. <==\r\n",
      "  current version: 4.12.0\r\n",
      "  latest version: 4.14.0\r\n",
      "\r\n",
      "Please update conda by running\r\n",
      "\r\n",
      "    $ conda update -n base -c defaults conda\r\n",
      "\r\n",
      "\r\n",
      "\r\n",
      "## Package Plan ##\r\n",
      "\r\n",
      "  environment location: /Users/nurrizkyimani/.conda/envs/workspace\r\n",
      "\r\n",
      "  added / updated specs:\r\n",
      "    - pandas\r\n",
      "\r\n",
      "\r\n",
      "The following packages will be downloaded:\r\n",
      "\r\n",
      "    package                    |            build\r\n",
      "    ---------------------------|-----------------\r\n",
      "    blas-1.0                   |              mkl           5 KB  anaconda\r\n",
      "    bottleneck-1.3.4           |   py38h67323c0_0         129 KB  anaconda\r\n",
      "    ca-certificates-2022.4.26  |       hecd8cb5_0         132 KB  anaconda\r\n",
      "    certifi-2022.6.15          |   py38hecd8cb5_0         157 KB  anaconda\r\n",
      "    intel-openmp-2021.4.0      |    hecd8cb5_3538         1.2 MB  anaconda\r\n",
      "    mkl-2021.4.0               |     hecd8cb5_637       209.2 MB  anaconda\r\n",
      "    mkl-service-2.4.0          |   py38h9ed2024_0          48 KB  anaconda\r\n",
      "    mkl_fft-1.3.1              |   py38h4ab4a9b_0         187 KB  anaconda\r\n",
      "    mkl_random-1.2.2           |   py38hb2f4e1b_0         306 KB  anaconda\r\n",
      "    numexpr-2.8.1              |   py38h2e5f0a9_2         130 KB  anaconda\r\n",
      "    numpy-1.22.3               |   py38h2e5f0a9_0          10 KB  anaconda\r\n",
      "    numpy-base-1.22.3          |   py38h3b1a694_0         6.5 MB  anaconda\r\n",
      "    openssl-1.1.1o             |       hca72f7f_0         3.5 MB  anaconda\r\n",
      "    pandas-1.4.2               |   py38he9d5cce_0        11.9 MB  anaconda\r\n",
      "    ------------------------------------------------------------\r\n",
      "                                           Total:       233.3 MB\r\n",
      "\r\n",
      "The following NEW packages will be INSTALLED:\r\n",
      "\r\n",
      "  blas               anaconda/osx-64::blas-1.0-mkl\r\n",
      "  bottleneck         anaconda/osx-64::bottleneck-1.3.4-py38h67323c0_0\r\n",
      "  intel-openmp       anaconda/osx-64::intel-openmp-2021.4.0-hecd8cb5_3538\r\n",
      "  mkl                anaconda/osx-64::mkl-2021.4.0-hecd8cb5_637\r\n",
      "  mkl-service        anaconda/osx-64::mkl-service-2.4.0-py38h9ed2024_0\r\n",
      "  mkl_fft            anaconda/osx-64::mkl_fft-1.3.1-py38h4ab4a9b_0\r\n",
      "  mkl_random         anaconda/osx-64::mkl_random-1.2.2-py38hb2f4e1b_0\r\n",
      "  numexpr            anaconda/osx-64::numexpr-2.8.1-py38h2e5f0a9_2\r\n",
      "  numpy              anaconda/osx-64::numpy-1.22.3-py38h2e5f0a9_0\r\n",
      "  numpy-base         anaconda/osx-64::numpy-base-1.22.3-py38h3b1a694_0\r\n",
      "  pandas             anaconda/osx-64::pandas-1.4.2-py38he9d5cce_0\r\n",
      "\r\n",
      "The following packages will be SUPERSEDED by a higher-priority channel:\r\n",
      "\r\n",
      "  ca-certificates    pkgs/main::ca-certificates-2022.07.19~ --> anaconda::ca-certificates-2022.4.26-hecd8cb5_0\r\n",
      "  certifi                                         pkgs/main --> anaconda\r\n",
      "  openssl              pkgs/main::openssl-1.1.1q-hca72f7f_0 --> anaconda::openssl-1.1.1o-hca72f7f_0\r\n",
      "\r\n",
      "\r\n",
      "\r\n",
      "Downloading and Extracting Packages\r\n",
      "mkl-service-2.4.0    | 48 KB     | ##################################### | 100% \r\n",
      "pandas-1.4.2         | 11.9 MB   | ##################################### | 100% \r\n",
      "ca-certificates-2022 | 132 KB    | ##################################### | 100% \r\n",
      "numexpr-2.8.1        | 130 KB    | ##################################### | 100% \r\n",
      "intel-openmp-2021.4. | 1.2 MB    | ##################################### | 100% \r\n",
      "bottleneck-1.3.4     | 129 KB    | ##################################### | 100% \r\n",
      "mkl_random-1.2.2     | 306 KB    | ##################################### | 100% \r\n",
      "numpy-1.22.3         | 10 KB     | ##################################### | 100% \r\n",
      "blas-1.0             | 5 KB      | ##################################### | 100% \r\n",
      "numpy-base-1.22.3    | 6.5 MB    | ##################################### | 100% \r\n",
      "mkl_fft-1.3.1        | 187 KB    | ##################################### | 100% \r\n",
      "openssl-1.1.1o       | 3.5 MB    | ##################################### | 100% \r\n",
      "mkl-2021.4.0         | 209.2 MB  | ##################################### | 100% \r\n",
      "certifi-2022.6.15    | 157 KB    | ##################################### | 100% \r\n",
      "Preparing transaction: done\r\n",
      "Verifying transaction: done\r\n",
      "Executing transaction: done\r\n"
     ]
    }
   ],
   "source": [
    "!conda install -c anaconda pandas -y"
   ]
  },
  {
   "cell_type": "code",
   "execution_count": 5,
   "metadata": {
    "pycharm": {
     "name": "#%%\n"
    }
   },
   "outputs": [],
   "source": [
    "#!pip install pytorch-nlp\n",
    "import pandas as pd\n",
    "import numpy as np"
   ]
  },
  {
   "cell_type": "code",
   "execution_count": 7,
   "metadata": {
    "pycharm": {
     "name": "#%%\n"
    }
   },
   "outputs": [],
   "source": [
    "test = \"yes\""
   ]
  },
  {
   "cell_type": "code",
   "execution_count": null,
   "metadata": {},
   "outputs": [],
   "source": []
  }
 ],
 "metadata": {
  "kernelspec": {
   "display_name": "Python 3 (ipykernel)",
   "language": "python",
   "name": "python3"
  },
  "language_info": {
   "codemirror_mode": {
    "name": "ipython",
    "version": 3
   },
   "file_extension": ".py",
   "mimetype": "text/x-python",
   "name": "python",
   "nbconvert_exporter": "python",
   "pygments_lexer": "ipython3",
   "version": "3.8.13"
  }
 },
 "nbformat": 4,
 "nbformat_minor": 1
}
