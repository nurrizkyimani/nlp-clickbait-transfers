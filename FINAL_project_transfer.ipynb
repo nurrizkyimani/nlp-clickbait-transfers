{
 "cells": [
  {
   "cell_type": "code",
   "execution_count": 1,
   "metadata": {
    "collapsed": true
   },
   "outputs": [
    {
     "name": "stderr",
     "output_type": "stream",
     "text": [
      "/Users/nurrizkyimani/.conda/envs/workspace/lib/python3.8/site-packages/scipy/__init__.py:146: UserWarning: A NumPy version >=1.16.5 and <1.23.0 is required for this version of SciPy (detected version 1.23.2\n",
      "  warnings.warn(f\"A NumPy version >={np_minversion} and <{np_maxversion}\"\n",
      "[nltk_data] Downloading package punkt to\n",
      "[nltk_data]     /Users/nurrizkyimani/nltk_data...\n",
      "[nltk_data]   Package punkt is already up-to-date!\n"
     ]
    },
    {
     "data": {
      "text/plain": "True"
     },
     "execution_count": 1,
     "metadata": {},
     "output_type": "execute_result"
    }
   ],
   "source": [
    "import numpy as np # linear algebra\n",
    "import pandas as pd # data processing, CSV file I/O (e.g. pd.read_csv)\n",
    "\n",
    "import os\n",
    "\n",
    "import re\n",
    "import string\n",
    "import collections\n",
    "import fse\n",
    "import random\n",
    "\n",
    "import torch\n",
    "import torch.nn as nn\n",
    "from torch import optim\n",
    "import torch.nn.functional as F\n",
    "from torchnlp.metrics import get_moses_multi_bleu\n",
    "\n",
    "device = torch.device(\"cuda\" if torch.cuda.is_available() else \"cpu\")\n",
    "torch.manual_seed(1)\n",
    "\n",
    "import nltk\n",
    "nltk.download('punkt')\n",
    "\n",
    "# Any results you write to the current directory are saved as output."
   ]
  },
  {
   "cell_type": "code",
   "execution_count": 2,
   "outputs": [
    {
     "data": {
      "text/plain": "                                                  title          label  \\\n0     Viral! Driver Ojol di Bekasi Antar Pesanan Mak...      clickbait   \n1     Ada Motor Nyangkut di Atas Bambu di Sleman, Ko...      clickbait   \n2          Pesan Gamblang Poyuono Menolak Revisi UU KPK      clickbait   \n3     Kocak! Maling di Rumah Mewah Jakut Terekam CCT...      clickbait   \n4     Viral Video Diduga Baku Tembak di Sleman, Ini ...      clickbait   \n...                                                 ...            ...   \n8607  Smart SIM Diluncurkan, Wakapolri Harap Bisa Me...  non-clickbait   \n8608  Wamena Papua Kembali Membara, Kantor Bupati Di...  non-clickbait   \n8609         BMKG Angkat Bicara Soal Langit Merah Jambi  non-clickbait   \n8610  Operasional Bandara Wamena Dihentikan Akibat R...  non-clickbait   \n8611   Asap Karhutla Riau Mulai Merambah Ke Nias, BM...  non-clickbait   \n\n      label_score  \n0               1  \n1               1  \n2               1  \n3               1  \n4               1  \n...           ...  \n8607            0  \n8608            0  \n8609            0  \n8610            0  \n8611            0  \n\n[8612 rows x 3 columns]",
      "text/html": "<div>\n<style scoped>\n    .dataframe tbody tr th:only-of-type {\n        vertical-align: middle;\n    }\n\n    .dataframe tbody tr th {\n        vertical-align: top;\n    }\n\n    .dataframe thead th {\n        text-align: right;\n    }\n</style>\n<table border=\"1\" class=\"dataframe\">\n  <thead>\n    <tr style=\"text-align: right;\">\n      <th></th>\n      <th>title</th>\n      <th>label</th>\n      <th>label_score</th>\n    </tr>\n  </thead>\n  <tbody>\n    <tr>\n      <th>0</th>\n      <td>Viral! Driver Ojol di Bekasi Antar Pesanan Mak...</td>\n      <td>clickbait</td>\n      <td>1</td>\n    </tr>\n    <tr>\n      <th>1</th>\n      <td>Ada Motor Nyangkut di Atas Bambu di Sleman, Ko...</td>\n      <td>clickbait</td>\n      <td>1</td>\n    </tr>\n    <tr>\n      <th>2</th>\n      <td>Pesan Gamblang Poyuono Menolak Revisi UU KPK</td>\n      <td>clickbait</td>\n      <td>1</td>\n    </tr>\n    <tr>\n      <th>3</th>\n      <td>Kocak! Maling di Rumah Mewah Jakut Terekam CCT...</td>\n      <td>clickbait</td>\n      <td>1</td>\n    </tr>\n    <tr>\n      <th>4</th>\n      <td>Viral Video Diduga Baku Tembak di Sleman, Ini ...</td>\n      <td>clickbait</td>\n      <td>1</td>\n    </tr>\n    <tr>\n      <th>...</th>\n      <td>...</td>\n      <td>...</td>\n      <td>...</td>\n    </tr>\n    <tr>\n      <th>8607</th>\n      <td>Smart SIM Diluncurkan, Wakapolri Harap Bisa Me...</td>\n      <td>non-clickbait</td>\n      <td>0</td>\n    </tr>\n    <tr>\n      <th>8608</th>\n      <td>Wamena Papua Kembali Membara, Kantor Bupati Di...</td>\n      <td>non-clickbait</td>\n      <td>0</td>\n    </tr>\n    <tr>\n      <th>8609</th>\n      <td>BMKG Angkat Bicara Soal Langit Merah Jambi</td>\n      <td>non-clickbait</td>\n      <td>0</td>\n    </tr>\n    <tr>\n      <th>8610</th>\n      <td>Operasional Bandara Wamena Dihentikan Akibat R...</td>\n      <td>non-clickbait</td>\n      <td>0</td>\n    </tr>\n    <tr>\n      <th>8611</th>\n      <td>Asap Karhutla Riau Mulai Merambah Ke Nias, BM...</td>\n      <td>non-clickbait</td>\n      <td>0</td>\n    </tr>\n  </tbody>\n</table>\n<p>8612 rows × 3 columns</p>\n</div>"
     },
     "execution_count": 2,
     "metadata": {},
     "output_type": "execute_result"
    }
   ],
   "source": [
    "# Import the csv\n",
    "all_agree_path = \"2022_thesis_styletransfer/annotated/combined/csv/all_agree.csv\"\n",
    "all_agree_pd = pd.read_csv(all_agree_path)\n",
    "df_clickbait = all_agree_pd[all_agree_pd['label'] == \"clickbait\"]\n",
    "df_nonclickbait = all_agree_pd[all_agree_pd['label'] == \"non-clickbait\"]\n",
    "df_both = pd.concat((df_clickbait, df_nonclickbait), ignore_index=True)\n",
    "\n",
    "df_both_copy = df_both.copy()\n",
    "df_both_copy['label'] = df_both_copy['label'].astype('category')\n",
    "df_both_copy.head(-1)"
   ],
   "metadata": {
    "collapsed": false
   }
  },
  {
   "cell_type": "code",
   "execution_count": 3,
   "outputs": [
    {
     "data": {
      "text/plain": "                                                  title  label_score\n0     Viral! Driver Ojol di Bekasi Antar Pesanan Mak...            1\n1     Ada Motor Nyangkut di Atas Bambu di Sleman, Ko...            1\n2          Pesan Gamblang Poyuono Menolak Revisi UU KPK            1\n3     Kocak! Maling di Rumah Mewah Jakut Terekam CCT...            1\n4     Viral Video Diduga Baku Tembak di Sleman, Ini ...            1\n...                                                 ...          ...\n8603  Komnas HAM Minta Aparat Keamanan Tak Gunakan K...            0\n8604  Mahasiswa Minta TNI Turun Bersama Kawal Aksi D...            0\n8605  Polisi Pulangkan 56 Mahasiswa Setelah Sempat D...            0\n8606  KPK Tepis Tudingan Moeldoko Soal Hambat Investasi            0\n8607  Smart SIM Diluncurkan, Wakapolri Harap Bisa Me...            0\n\n[8608 rows x 2 columns]",
      "text/html": "<div>\n<style scoped>\n    .dataframe tbody tr th:only-of-type {\n        vertical-align: middle;\n    }\n\n    .dataframe tbody tr th {\n        vertical-align: top;\n    }\n\n    .dataframe thead th {\n        text-align: right;\n    }\n</style>\n<table border=\"1\" class=\"dataframe\">\n  <thead>\n    <tr style=\"text-align: right;\">\n      <th></th>\n      <th>title</th>\n      <th>label_score</th>\n    </tr>\n  </thead>\n  <tbody>\n    <tr>\n      <th>0</th>\n      <td>Viral! Driver Ojol di Bekasi Antar Pesanan Mak...</td>\n      <td>1</td>\n    </tr>\n    <tr>\n      <th>1</th>\n      <td>Ada Motor Nyangkut di Atas Bambu di Sleman, Ko...</td>\n      <td>1</td>\n    </tr>\n    <tr>\n      <th>2</th>\n      <td>Pesan Gamblang Poyuono Menolak Revisi UU KPK</td>\n      <td>1</td>\n    </tr>\n    <tr>\n      <th>3</th>\n      <td>Kocak! Maling di Rumah Mewah Jakut Terekam CCT...</td>\n      <td>1</td>\n    </tr>\n    <tr>\n      <th>4</th>\n      <td>Viral Video Diduga Baku Tembak di Sleman, Ini ...</td>\n      <td>1</td>\n    </tr>\n    <tr>\n      <th>...</th>\n      <td>...</td>\n      <td>...</td>\n    </tr>\n    <tr>\n      <th>8603</th>\n      <td>Komnas HAM Minta Aparat Keamanan Tak Gunakan K...</td>\n      <td>0</td>\n    </tr>\n    <tr>\n      <th>8604</th>\n      <td>Mahasiswa Minta TNI Turun Bersama Kawal Aksi D...</td>\n      <td>0</td>\n    </tr>\n    <tr>\n      <th>8605</th>\n      <td>Polisi Pulangkan 56 Mahasiswa Setelah Sempat D...</td>\n      <td>0</td>\n    </tr>\n    <tr>\n      <th>8606</th>\n      <td>KPK Tepis Tudingan Moeldoko Soal Hambat Investasi</td>\n      <td>0</td>\n    </tr>\n    <tr>\n      <th>8607</th>\n      <td>Smart SIM Diluncurkan, Wakapolri Harap Bisa Me...</td>\n      <td>0</td>\n    </tr>\n  </tbody>\n</table>\n<p>8608 rows × 2 columns</p>\n</div>"
     },
     "execution_count": 3,
     "metadata": {},
     "output_type": "execute_result"
    }
   ],
   "source": [
    "df_both_label = df_both_copy.drop('label_score', axis=1)\n",
    "df_both = df_both_copy.drop('label', axis=1)\n",
    "df_both.head(-5)"
   ],
   "metadata": {
    "collapsed": false
   }
  },
  {
   "cell_type": "code",
   "execution_count": 4,
   "outputs": [
    {
     "data": {
      "text/plain": "                                               title      label  \\\n0  Viral! Driver Ojol di Bekasi Antar Pesanan Mak...  clickbait   \n1  Ada Motor Nyangkut di Atas Bambu di Sleman, Ko...  clickbait   \n2       Pesan Gamblang Poyuono Menolak Revisi UU KPK  clickbait   \n3  Kocak! Maling di Rumah Mewah Jakut Terekam CCT...  clickbait   \n4  Viral Video Diduga Baku Tembak di Sleman, Ini ...  clickbait   \n\n   label_encoding  \n0               0  \n1               0  \n2               0  \n3               0  \n4               0  ",
      "text/html": "<div>\n<style scoped>\n    .dataframe tbody tr th:only-of-type {\n        vertical-align: middle;\n    }\n\n    .dataframe tbody tr th {\n        vertical-align: top;\n    }\n\n    .dataframe thead th {\n        text-align: right;\n    }\n</style>\n<table border=\"1\" class=\"dataframe\">\n  <thead>\n    <tr style=\"text-align: right;\">\n      <th></th>\n      <th>title</th>\n      <th>label</th>\n      <th>label_encoding</th>\n    </tr>\n  </thead>\n  <tbody>\n    <tr>\n      <th>0</th>\n      <td>Viral! Driver Ojol di Bekasi Antar Pesanan Mak...</td>\n      <td>clickbait</td>\n      <td>0</td>\n    </tr>\n    <tr>\n      <th>1</th>\n      <td>Ada Motor Nyangkut di Atas Bambu di Sleman, Ko...</td>\n      <td>clickbait</td>\n      <td>0</td>\n    </tr>\n    <tr>\n      <th>2</th>\n      <td>Pesan Gamblang Poyuono Menolak Revisi UU KPK</td>\n      <td>clickbait</td>\n      <td>0</td>\n    </tr>\n    <tr>\n      <th>3</th>\n      <td>Kocak! Maling di Rumah Mewah Jakut Terekam CCT...</td>\n      <td>clickbait</td>\n      <td>0</td>\n    </tr>\n    <tr>\n      <th>4</th>\n      <td>Viral Video Diduga Baku Tembak di Sleman, Ini ...</td>\n      <td>clickbait</td>\n      <td>0</td>\n    </tr>\n  </tbody>\n</table>\n</div>"
     },
     "execution_count": 4,
     "metadata": {},
     "output_type": "execute_result"
    }
   ],
   "source": [
    "from sklearn.preprocessing import LabelEncoder\n",
    "\n",
    "labelencoder = LabelEncoder()\n",
    "df_both_copy['label_encoding'] = labelencoder.fit_transform(df_both_copy['label'])\n",
    "df_encode_clean = df_both_copy.copy()\n",
    "df_encode_clean = df_both = df_both_copy.drop(['label_score'], axis=1)\n",
    "df_encode_clean.head()"
   ],
   "metadata": {
    "collapsed": false
   }
  },
  {
   "cell_type": "markdown",
   "source": [
    "# Preprocessing : Lower Casing"
   ],
   "metadata": {
    "collapsed": false
   }
  },
  {
   "cell_type": "code",
   "execution_count": 5,
   "outputs": [
    {
     "data": {
      "text/plain": "0       viral! driver ojol di bekasi antar pesanan mak...\n1       ada motor nyangkut di atas bambu di sleman, ko...\n2            pesan gamblang poyuono menolak revisi uu kpk\n3       kocak! maling di rumah mewah jakut terekam cct...\n4       viral video diduga baku tembak di sleman, ini ...\n                              ...                        \n8608    wamena papua kembali membara, kantor bupati di...\n8609           bmkg angkat bicara soal langit merah jambi\n8610    operasional bandara wamena dihentikan akibat r...\n8611     asap karhutla riau mulai merambah ke nias, bm...\n8612    tolak ruu pertanahan, ribuan petani siap gelar...\nName: title, Length: 8613, dtype: object"
     },
     "execution_count": 5,
     "metadata": {},
     "output_type": "execute_result"
    }
   ],
   "source": [
    "# preprocessing : lower casing\n",
    "df_encode_clean['title'] = df_encode_clean['title'].str.lower()\n",
    "df_encode_clean.title"
   ],
   "metadata": {
    "collapsed": false
   }
  },
  {
   "cell_type": "markdown",
   "source": [
    "Convert the titl into lower case for all label"
   ],
   "metadata": {
    "collapsed": false
   }
  },
  {
   "cell_type": "code",
   "execution_count": 6,
   "outputs": [
    {
     "data": {
      "text/plain": "                                                  title          label  \\\n0     viral ! driver ojol di bekasi antar pesanan ma...      clickbait   \n1     ada motor nyangkut di atas bambu di sleman , k...      clickbait   \n2          pesan gamblang poyuono menolak revisi uu kpk      clickbait   \n3     kocak ! maling di rumah mewah jakut terekam cc...      clickbait   \n4     viral video diduga baku tembak di sleman , ini...      clickbait   \n...                                                 ...            ...   \n8608  wamena papua kembali membara , kantor bupati d...  non-clickbait   \n8609         bmkg angkat bicara soal langit merah jambi  non-clickbait   \n8610  operasional bandara wamena dihentikan akibat r...  non-clickbait   \n8611  asap karhutla riau mulai merambah ke nias , bm...  non-clickbait   \n8612  tolak ruu pertanahan , ribuan petani siap gela...  non-clickbait   \n\n      label_encoding  \n0                  0  \n1                  0  \n2                  0  \n3                  0  \n4                  0  \n...              ...  \n8608               1  \n8609               1  \n8610               1  \n8611               1  \n8612               1  \n\n[8613 rows x 3 columns]",
      "text/html": "<div>\n<style scoped>\n    .dataframe tbody tr th:only-of-type {\n        vertical-align: middle;\n    }\n\n    .dataframe tbody tr th {\n        vertical-align: top;\n    }\n\n    .dataframe thead th {\n        text-align: right;\n    }\n</style>\n<table border=\"1\" class=\"dataframe\">\n  <thead>\n    <tr style=\"text-align: right;\">\n      <th></th>\n      <th>title</th>\n      <th>label</th>\n      <th>label_encoding</th>\n    </tr>\n  </thead>\n  <tbody>\n    <tr>\n      <th>0</th>\n      <td>viral ! driver ojol di bekasi antar pesanan ma...</td>\n      <td>clickbait</td>\n      <td>0</td>\n    </tr>\n    <tr>\n      <th>1</th>\n      <td>ada motor nyangkut di atas bambu di sleman , k...</td>\n      <td>clickbait</td>\n      <td>0</td>\n    </tr>\n    <tr>\n      <th>2</th>\n      <td>pesan gamblang poyuono menolak revisi uu kpk</td>\n      <td>clickbait</td>\n      <td>0</td>\n    </tr>\n    <tr>\n      <th>3</th>\n      <td>kocak ! maling di rumah mewah jakut terekam cc...</td>\n      <td>clickbait</td>\n      <td>0</td>\n    </tr>\n    <tr>\n      <th>4</th>\n      <td>viral video diduga baku tembak di sleman , ini...</td>\n      <td>clickbait</td>\n      <td>0</td>\n    </tr>\n    <tr>\n      <th>...</th>\n      <td>...</td>\n      <td>...</td>\n      <td>...</td>\n    </tr>\n    <tr>\n      <th>8608</th>\n      <td>wamena papua kembali membara , kantor bupati d...</td>\n      <td>non-clickbait</td>\n      <td>1</td>\n    </tr>\n    <tr>\n      <th>8609</th>\n      <td>bmkg angkat bicara soal langit merah jambi</td>\n      <td>non-clickbait</td>\n      <td>1</td>\n    </tr>\n    <tr>\n      <th>8610</th>\n      <td>operasional bandara wamena dihentikan akibat r...</td>\n      <td>non-clickbait</td>\n      <td>1</td>\n    </tr>\n    <tr>\n      <th>8611</th>\n      <td>asap karhutla riau mulai merambah ke nias , bm...</td>\n      <td>non-clickbait</td>\n      <td>1</td>\n    </tr>\n    <tr>\n      <th>8612</th>\n      <td>tolak ruu pertanahan , ribuan petani siap gela...</td>\n      <td>non-clickbait</td>\n      <td>1</td>\n    </tr>\n  </tbody>\n</table>\n<p>8613 rows × 3 columns</p>\n</div>"
     },
     "execution_count": 6,
     "metadata": {},
     "output_type": "execute_result"
    }
   ],
   "source": [
    "df_encode_clean_t =  df_encode_clean.copy()\n",
    "df_encode_clean_t['title'] = df_encode_clean_t['title'].apply(lambda y: \" \".join((re.sub(r'([!/?/./,/%/\\'/\\\"/-/:])', lambda x: ' ' + x.group()+' ' , y)).split()) , 1)\n",
    "df_encode_clean_t"
   ],
   "metadata": {
    "collapsed": false
   }
  },
  {
   "cell_type": "code",
   "execution_count": 7,
   "outputs": [],
   "source": [
    "df_clickbait_clean = df_encode_clean_t[df_encode_clean_t['label'] == \"clickbait\"]\n",
    "df_nonclickbait_clean = df_encode_clean_t[df_encode_clean_t['label'] == \"non-clickbait\"]"
   ],
   "metadata": {
    "collapsed": false
   }
  },
  {
   "cell_type": "code",
   "execution_count": 8,
   "outputs": [],
   "source": [
    "# create a d_both list\n",
    "import itertools\n",
    "d_both = pd.concat((df_clickbait_clean, df_nonclickbait_clean ), ignore_index=True)\n",
    "d_both = d_both.drop(['label', 'label_encoding'], axis=1)\n",
    "d_both = d_both.values.tolist()\n",
    "d_both = list(itertools.chain.from_iterable(d_both))"
   ],
   "metadata": {
    "collapsed": false
   }
  },
  {
   "cell_type": "code",
   "execution_count": 9,
   "outputs": [
    {
     "data": {
      "text/plain": "['viral ! driver ojol di bekasi antar pesanan makanan pakai sepeda',\n 'ada motor nyangkut di atas bambu di sleman , kok bisa ?',\n 'pesan gamblang poyuono menolak revisi uu kpk',\n 'kocak ! maling di rumah mewah jakut terekam cctv bingung cari jalan kabur',\n 'viral video diduga baku tembak di sleman , ini kata polisi',\n 'waspada ! ada penipuan catut pertamina , korbannya rugi puluhan juta',\n 'jaksa beberkan senpi-peluru tajam pembelian kivlan zen cs , ini rinciannya',\n 'sering quality time bersama keluarga ? ternyata ini 3 manfaatnya !',\n 'menteri jokowi 55 % profesional , ini kandidatnya ?',\n \"pria misterius berjubah putih viral di sumut , ingatkan ' tuhan murka '\",\n 'video porno di sumedang disebar pemeran pria , apa motifnya ?',\n 'terungkap ! video porno di sumedang diperankan pasangan selingkuh',\n 'kendaraan listrik bebas dari aturan ganjil-genap , ini alasannya',\n 'menanti \" kebijakan gila \" jokowi',\n 'akhirnya ! pemkot pekanbaru liburkan sd dan smp karena kabut asap',\n '2 ribu hektare lahan terbakar , udara di palembang tidak sehat !',\n 'viral bocah di bekasi disebut tewas akibat bully , begini kata ketua rt',\n 'anggota dprd banten ramai-ramai gadai sk , ini kata kemendagri',\n \"yuk ' bantu jokowi cari menteri ' , ikuti polling di detikcom !\",\n 'ini 10 poin aspirasi tokoh papua saat bertemu jokowi di istana',\n 'viral ! perampok bercelurit satroni rumah makan gratis untuk duafa di bogor',\n 'perhatian ! ini nama-nama kandidat menteri jokowi',\n \"pasang status ' single ' , inilah saat terakhir kehidupan novy chardon\",\n 'sidang gugatan ikan koi mati , saksi dari pln bicara ini',\n 'fenomena anggota dprd gadaikan sk ke bank , gejala apa ini ?',\n 'apa kabar denda rp 1 juta bagi pembeli di zona merah pkl bandung ?',\n 'geramnya keluarga pada hoax bj habibie meninggal dunia',\n 'video detik-detik mahasiswa merusak pagar dpr',\n 'ini penyebab sulitnya padamkan kebakaran di gunung sumbing',\n 'menlu indonesia-timor leste-australia bertemu di pbb , ini yang dibahas',\n 'ini lokasi diduga mahasiswa halu oleo kendari tertembak',\n 'purnomo-teguh daftar cawalkot solo , peluang gibran tertutup ?',\n 'rapat gabungan pimpinan mpr sepakat ubah tata tertib , ini rinciannya',\n 'panas ! mahasiswa-pendemo pro-uu kpk baru saling lempar botol di depan dpr',\n 'ylbhi sebut mahasiswa belum bisa dikontak usai demo di dpr , ini kata polri',\n \"video demo mahasiswa bandung yang sempat ' memanas '\",\n \"ini pengakuan ' gila ' pelaku pemerkosaan di bondowoso\",\n 'ini alasan hakim vonis seumur hidup prada deri yang mutilasi kekasihnya',\n 'tukang gigi ikut demo ruu kuhp , ini pasal yang sudah dibatalkan mk',\n 'beredar video polisi teriaki tni di mes pati tni al , ini penjelasan polri',\n 'bikin adem ! polwan surabaya lantunkan asmaul husna sambut pendemo',\n 'ini 7 tuntutan mahasiswa yang demo di depan dpr',\n 'ini alasan bogor dan bandung jadi kota favorit lomba sepeda',\n 'ada politikus hingga jurnalis , siapa paling cocok jadi mensos ?',\n 'pelajar demo ricuh hingga lewat tengah malam , ini kata mendikbud',\n \"' pasal unggas jalan-jalan ' di ruu kuhp ada kasus konkretnya , yuk baca !\",\n 'viral pelajar tewas saat hendak ikut demo dpr , begini kejadiannya',\n 'agar siswa tak demo turun ke jalan , ini yang dilakukan disdik jateng',\n 'seru ! ada mantan suami istri bertarung di pilkades serentak di sragen',\n \"gotong keranda mayat ' save kpk ' , massa gejayan memanggil : innalillahi . . .\",\n 'duarr ! bahan peledak terduga teroris jakut didisposal , warga tepuk tangan',\n 'ungkit aksi 1998 , ini 7 tuntutan massa #gejayanmemanggil',\n 'staf presiden berkunjung ke banyuwangi , ini lho tujuannya',\n 'ngeri ! aligator ditemukan hidup di kolam belakang sekolah',\n \"indonesia banyak ' dilirik ' saat sidang majelis umum pbb , ini alasannya\",\n 'mengenaskan ! dikira beruang liar , pria ini ditembak mati putranya',\n \"rkuhp denda gelandangan maksimal rp 1 juta , ini cerita para ' pengemis tajir '\",\n 'mulan jameela cs ditetapkan jadi anggota dpr , ini penjelasan gerindra',\n 'soal ruu kuhp , yuk baca lagi putusan mk soal zina dan lgbt',\n 'ini cara masyarakat simeulue mengantisipasi tsunami',\n \"ini rekayasa lalin di sekitar lokasi aksi ' gejayan memanggil '\",\n 'rusuh wamena , berikut ini rangkaian fakta-faktanya',\n 'gelombang demo tolak pelemahan kpk se-indonesia , ini titik-titiknya',\n 'bukan di china , ini long march massa aksi melintasi pertokoan magelang',\n \"viral cuitan ' sekolah yang pinter biar gajadi polisi ' , ridwan kamil : hoax !\",\n 'diskon ! naik trans semarang di 2 halte ini bisa bayar rp 10 aja',\n '5 manfaat pilates untuk ibu hamil , apa saja ?',\n 'selalu ingin tahu , 5 zodiak ini tidak bisa menghargai privasi orang lain',\n 'move on , ini 5 tanda mantan tak akan mengajakmu balikan',\n 'apakah ada manfaat minum air mineral ? ini faktanya',\n 'tetap tidur lelap , begini cara minum kopi tanpa harus melek semalaman',\n 'mudah bimbang , 5 zodiak ini sering dipengaruhi orang lain',\n 'suka kepo , 4 zodiak ini paling sering mengganggu privasi temannya !',\n '6 zodiak yang diprediksi paling jahat , mengapa ?',\n 'kepribadian ungkap cara menghabiskan uang , begini jika kamu ekstrovert',\n '4 foto terbaru yeonwoo momoland setelah vakum , wajah berubah ?',\n 'dikritik soal foto bikini , ini tanggapan shandy aulia',\n 'ini pengakuan kim kardashian mengenai psalm west',\n 'bukan teknis , ini tantangan berat ari lasso tur di 3 kota',\n 'jangan sampai terlewatkan , penggunaan toner pada rutinitas perawatan kulitmu',\n '8 kebiasaan yang bikin kamu lebih awet muda',\n '5 zodiak yang sering melanggar privasi seseorang',\n 'susu bubuk dan susu cair sama baiknya , ini kata ahli',\n '4 tanda pasangan siap berkomitmen dalam hubungan',\n 'tidak suka berbohong , 5 zodiak ini dikenal paling jujur',\n 'sering stres karena masalah uang ? simak tips mengatur keuangan ini',\n '4 zodiak yang kesulitan berterima kasih ke orang lain',\n '5 zodiak paling anarkis dan selalu membangkang terhadap otoritas untuk bisa hidup bebas',\n 'jika jalanmu cepat , seperti ini tipe kepribadianmu',\n 'kulit ubi jalan kaya nutrisi , ini cara makan ubi jalar bersama kulitnya',\n 'kerap ditanya kapan nikah , begini jawaban chand kelvin',\n 'ciptakan euforia , ini 5 fakta kedatangan nct dream ke indonesia',\n 'jajal dunia akting , ini yang membuat sivia azizah tertarik main di film nkcthi',\n 'bikin heboh , rossa diapit 6 anak muda nct dream',\n 'hari radio nasional , ini 8 selebriti indonesia yang merupakan penyiar radio',\n 'begini arti nama anak kedua sandra dewi',\n 'ingat kemal mochtar ? ini kisahnya turunkan bobot tubuh dari 120 kg jadi 60 kg',\n 'jalan kaki hingga yoga , ini 5 olahraga terbaik untuk ibu hamil',\n '4 fakta tentang autisme yang wajib diketahui',\n '19 hadiah untuk calon atau ibu mertua yang sulit ditaklukkan',\n 'mengapa kurang tidur bisa bikin gemuk ? ini alasan ilmiahnya',\n '4 zodiak ini rutin introspeksi diri dan bercermin dalam menjalani kehidupan',\n '4 zodiak ini akan alami masa terbaik di bulan agustus-september 2019',\n 'jangan dibuang , ini manfaat kupasan kulit kentang untuk kulit',\n 'punya nutrisi tinggi , ini cara mengolah kulit kentang agar bisa dimakan',\n 'diabetes hingga kanker , ini manfaat kulit pisang untuk kesehatan',\n 'bisa dimakan , ini manfaat kulit putih pada semangka !',\n 'secara ilmiah , ini alasan orang putus cinta balikan lagi dengan mantannya',\n 'menurut studi , ini waktu paling tapat untuk berhubungan intim',\n 'sesal shireen sungkar atas meninggalnya bj habibie , kenapa ?',\n 'bj habibie meninggal , begini sedihnya reza rahadian',\n 'dikira jadi pria feminin di film bebas , begini tanggapan baskara mahendra',\n 'begini rencana pemakaman bj habibie di tmp kalibata',\n 'raditya dika dan anak terserang autoimun , simak gejala yang terjadi',\n '5 hal penting yang harus diingat pemilik kulit sensitif',\n 'jangan panik , ini tips mengatasi anak rewel akibat demam tinggi',\n 'hati-hati gadget dapat membuat mata kering , ketahui alasannya',\n '10 fakta tentang cinta yang penting diketahui',\n 'putus cinta bukan masalah , 3 zodiak ini cepat move on',\n 'ini pentingnya air mineral untuk kesehatan',\n 'jangan dibuang , ini manfaat sehat kulit bawang bombay !',\n 'makanan pedas bisa meningkatkan nafsu makan , benarkah ?',\n '5 zodiak ini dikenal tak mau mengalah karena merasa paling benar',\n 'apakah air putih punya kalori ? ini faktanya',\n 'kunyit hingga buah bit , ini pewarna alami untuk makanan',\n 'mengurangi makan nasi , 5 alternatif pengganti nasi ini sangat bergizi !',\n 'tak perlu memaksa , ini 6 cara agar pria mau berkomitmen padamu',\n 'fimela fest 2019 : self love , ini alasan mencintai diri sendiri itu penting',\n 'suka menggantungkan tas di lengan , seperti ini kepribadianmu !',\n 'bisa diandalkan , 4 zodiak ini akan jadi sahabat yang paling kamu butuhkan',\n 'yeonjun txt ulang tahun , ini fakta yang perlu kamu tahu tentangnya',\n 'sudah terpilih , ini dia member yang jadi leader superm',\n 'dikabarkan jadi siti gahara di jagat sinema bumilangit , ini kata cinta laura',\n 'baru tayang , ini sinopsis warkop dki reborn',\n 'tips ampuh hilangkan noda hitam pada kulit wajah',\n 'ingin rambut terlihat prima saat bangun tidur ? ini rahasianya',\n 'alasan anak sebaiknya tidak konsumsi jus buah berlebihan',\n 'penuh motivasi , 4 zodiak ini selalu memastikan mimpinya terwujud !',\n 'suka bersikap seperti ini ternyata membuatmu menyebalkan !',\n 'suka mendominasi percakapan ? seperti ini dirimu di mata orang lain',\n 'rambut gampang lepek ? 3 hal ini mungkin penyebabnya',\n 'liburan , alasan kenapa rating sangat penting saat memilih hotel',\n 'suka membawa tas di tangan , begini kepribadianmu !',\n 'tidak takut gagal , 4 zodiak ini suka ambil risiko besar',\n '7 cara mengetahui anak kesepian , perhatikan tandanya !',\n '3 menu sarapan ini ternyata buruk bagi kesehatan',\n '4 zodiak ini tidak suka berada di alam terbuka',\n 'zodiak mingguan 16-22 september , 3 zodiak ini akan alami karir terbaik',\n 'hati-hati , 4 pasangan zodiak ini sering alami pertengkaran dan perselisihan',\n 'zodiak mingguan 16-22 september , 3 zodiak ini akan alami karir terburuk',\n 'zodiak mingguan 16-22 september , 3 zodiak ini akan alami cinta terbaik',\n 'zodiak mingguan 16-22 september , 3 zodiak ini akan alami cinta terburuk',\n '4 fakta menarik ikon yang jarang diketahui orang',\n 'anaknya trauma ke dokter gigi , begini cara zaskia adya mecca menyiasatinya',\n 'agar selalu terlihat rapi , hindari 5 penyebab rambut kusut',\n 'bukan ketombe , ikuti tips menghilangkan rasa gatal di kulit kepala',\n 'tanda kepribadian ambisius , jika kamu punya koleksi benda ini !',\n 'berkencan di usia 30 ? ini tips penting yang harus dipahami',\n 'jangan tersinggung , 4 zodiak ini memang suka bicara blak-blakan',\n 'saling melengkapi , 4 pasangan zodiak ini jarang bertengkar',\n 'mudah beradaptasi , ini dia 5 zodiak yang sangat menikmati gaya hidup nomaden',\n 'santan hingga daun pandan , ini bahan pelengkap jajanan tradisional',\n 'ini alasan buah pisang sangat baik dimakan penderita asam urat',\n 'ternyata ini cara memasak ikan yang paling baik dan sehat',\n 'legenda musik indonesia , ini 5 fakta tentang chrisye',\n 'mengalami kdrt , begini fakta tiga setia gara',\n 'irish bella alami pendarahan di usia kandungan 6 bulan , ini penyebabnya',\n 'hijabers , sudah tepatkah cara merawat rambutmu ? cari tahu lewat kuis ini yuk',\n 'alis terasa semakin tipis ? cek beberapa penyebabnya',\n 'ternyata musik seperti ini yang mampu meningkatkan motivasi dan semangat',\n 'sebelum yoga , sebaiknya hindari mengonsumsi 4 makanan ini',\n 'tidak lapar tapi ingin makan terus , kenali 4 penyebabnya',\n 'pandai bersosialiasi , 3 zodiak ini sangat menikmati hidup',\n 'ingin tidur lebih cepat di malam hari ? pakai piyama dari bahan ini',\n 'selain uang , ini yang bikin orang enggan travelling sendiri',\n 'berat badan turun cepat jika rajin sarapan ini , menurut studi',\n 'luar biasa , ini manfaat air cucian beras untuk rambut',\n 'menangislah , karena ini manfaat menangis untuk tubuh',\n 'jenis musik ini yang membuat orang tidak mudah stres saat bekerja',\n 'siap kembali usai rehat , ini penampilan baru jungkook bts',\n 'dikabarkan jalin asmara dengan jungkook bts , perempuan ini minta maaf',\n 'kenapa raisa dan zodiak gemini cocok jadi penyanyi ? intip karakter mereka',\n 'disebut lebih seram dari pengabdi setan , ini sinopsis film perempuan tanah jahanam',\n 'pilih olahraga zumba , ini alasan putri marino',\n 'tayang pada oktober 2019 , ini 5 fakta menarik perempuan tanah jahanam',\n 'tak perlu ke dokter kulit , ini trik hilangkan milia',\n 'punya kulit sensitif ? simak tips aplikasi makeup yang tepat berikut ini',\n 'perawatan kulit seluruh tubuh , simak 3 cara cegah kulit kering',\n 'sudah cukupkah kandungan protein rambutmu ?',\n '3 racikan tepung beras untuk perawatan kulit , pernah coba ?',\n 'alasan ibu hamil rentan stres dan cara mengatasinya',\n 'anak tidak mau makan nasi , apakah berbahaya ?',\n '3 penanganan kehamilan risiko tinggi , agar anak terlahir sehat',\n 'baik hati , 5 zodiak ini tidak pernah tega menyakiti orang lain',\n 'bersabarlah , ini 10 tanda pasangan selingkuh di belakangmu',\n 'selain harga terjangkau , ini inovasi pada smartphone yang dibutuhkan gen z',\n 'makan makanan berserat bisa cegah kanker , ini alasannya',\n '8 hal yang diperhatikan pria darimu saat pertama kali bertemu',\n 'kamu bisa mengandalkan mereka , 6 zodiak yang selalu memiliki inisiatif',\n 'umumkan status gender , sam smith inginkan sebutan ini',\n 'mesra sekali , lihat aksi darius sinathrya gendong donna agnesia',\n 'harry styles jadi penghambat reuni one direction ?',\n 'reaksi tak terduga luna f(x) usai tinggalkan sm entertainment',\n 'bercerita tentang anak konflik palestina , ini sinopsis film hayya',\n 'nicky tirta yang santai soal jodoh , lihat karakternya melalui zodiak taurus',\n 'fimela fest 2019 : 3 faktor seseorang melakukan beauty bullying , ini kata psikolog',\n 'dipetisi karena bahas oplas & pajang foto jimin bts , ini kata satria mulia',\n 'nonton wimbledon , meghan markle tampil kasual kenakan jeans , sudah kembali langsing !',\n 'sukses jadi artis , begini potret rumah mpok alpa yang sederhana di perkampungan',\n 'blak-blakan , gisella anastasia ungkap penyebab cerai dari gading marten',\n 'sinopsis drama life episode 16 , akhir cerita yang manis',\n 'tak ingin banyak dituntut , dita soedarjo ingin punya pacar bule ?',\n 'penggemar alami kecelakan , taylor swift kirim ucapan manis',\n 'berkarir di australia , artis 90-an multitalenta ini siapkan banyak judul film',\n 'sangat suportif , monita tahalea makin jatuh hati dengan suami',\n 'makan malam di gunungkidul , ini menu yang dipesan suju dan tvxq',\n 'inilah serial pendek netflix yang wajib kalian tonton',\n 'rencana melahirkan di luar negeri , nikita mirzani : pengen show off aja , biar sombong !',\n 'inilah hadiah istimewa penggemar di hari ulang tahun lisa blackpink',\n \"' let me love you ' milik dj snake sebenarnya diciptakan untuk cl 2ne1 ?\",\n 'liburan bersama suami , cantiknya priyanka chopra gunakan bikini',\n 'pesawat yang ditumpangi mendarat darurat , keanu reeves jadi pahlawan',\n 'marah besar karena pangeran william selingkuh , kate middleton ucap 1 permintaan ini',\n '7 pasangan dalam drama ini punya hubungan paling sehat !',\n 'kuliah di london , el rumi sudah nyoblos duluan !',\n 'annisa pohan diperlakukan bak imigran gelap oleh petugas bandara singapura',\n \"ini alasan kenapa captain america dibuat tetap hidup di ' avengers : endgame '\",\n '12 foto wajah asli idol k-pop saat bangun tidur , ada lisa blackpink - v bts !',\n \"jisoo dan jennie blackpink ' cover keong racun ' , kocak banget !\",\n 'adik angela gilsha larang bayi naik pesawat : ajarin diam atau mulutnya diselotip !',\n 'ditelepon sasaeng fans saat live , ini yang dilakukan jungkook bts',\n 'viral ! persamaan gaya kai exo dan krystal f(x) , bikin fans baper sendiri',\n 'foto punggung kai exo ini sering dikira jungkook bts oleh army',\n 'umumkan hubungan dengan ashley benson setelah satu tahun , ini alasan cara delevigne',\n 'aktor ternama korea ini akui bersusah payah melunasi hutangnya',\n '8 foto visual bomb v bts vs cha eun woo , beda gantengnya bikin galau milih',\n '11 drama korea 2019 yang tak boleh dilewatkan , masih gagal moveon',\n 'inilah sosok ceo baru yg entertainment , seorang wanita',\n 'ada gilang dirga show di jicomfest 2019 , siapa lagi yang melucu di hari pertama ?',\n 'perasaan deddy corbuzier setelah mualaf , bebas dan plong !',\n 'setelah pelembut pakaian , jungkook bts bikin minuman ini ludes terjual',\n '9 k-pop idol bak dewi pakai gaun mewah : suzy , yoona snsd & jennie blackpink',\n 'bukti percakapan seungri bagikan foto wanita telanjang di grup chat',\n \"ini alasan produser ' persona ' pilih iu jadi pemeran utama\",\n 'soal kembali berpindah keyakinan , ini tanggapan pengacara steve emmanuel',\n 'menikah sejak usia muda , pasangan seleb ini jauh dari gosip miring',\n 'terjun ke dunia akting , para artis ini ada yang mulai sejak masih belia',\n 'romance-thriller , ini deretan drama korea terbaru yang seru ditonton streaming',\n '2 inisial baru dalam jaringan narkoba jefri nichol tertangkap , rekan artis ?',\n 'terjawab , begini cara captain marvel temukan tony stark di luar angkasa',\n 'andhika pratama larang ussy sulistiawaty tonton aksinya di jicomfest 2019 , ada apa ?',\n '7 k-pop idol makin ganteng dengan rambut hitam legam , suga bts - johnny nct',\n 'foto jihyo twice sering datangi rumah kang daniel , sudah 7 bulan pacaran ?',\n 'jihyo twice dan kang daniel pacaran , begini komentar dari netizen korea',\n 'berkas nikah ini ungkap agama rina nose yang sebenarnya',\n 'reaksi kaget gading marten saat dengar gempi sebut nama wijaya saputra',\n 'pelukan dan gandengan tangan , roy kiyoshi dan evelyn nada anjani resmi pacaran ?',\n \"kang daniel - jihyo twice pacaran , kenapa lagu baekhyun exo ' un village ' trending ?\",\n '5 foto irish bella jalani maternity shoot , cantik dan elegan bagaikan boneka',\n 'diary waktu sd beredar , agama sehun exo terungkap',\n 'nama asli chef juna terungkap saat unggah sertifikat kompetensi',\n 'terungkap ! begini penampakan kamar shahrukh khan di mannat , luas dan mewah',\n 'princess charlotte kembali pamer pose gemas , sampai bikin kate middleton meleleh !',\n 'terungkap , choi siwon takjub pada satu hal ini dari fans indonesia',\n '10 film horor indonesia yang perlu kamu tonton , dijamin bikin merinding',\n 'beruntung , tiga fangirl asal indonesia ini diantar ayah yunhyeong ikon',\n 'terungkap ! nikita mirzani tak berani berseteru dengan sosok ini',\n \"viral , editan krystal f(x) & jennie blackpink yang bikin kai exo ' melongo '\",\n \"uang bukan alasan , pemain ' ave maryam ' tidak dibayar ?\",\n \"dulu panggil ' sailor moon ' , setelah putus vicky prasetyo sebut anggia ' nenek gayung '\",\n 'fakta lengkap produce x101 yang perlu kamu tahu',\n 'diancam injak leher oleh nikita , tessa mariska samakan nm dengan pohon tauge ?',\n \"10 hal unik yang mungkin kamu lewatkan di mv blackpink ' kill this love '\",\n \"semula kesal dipanggil ' babang tamvan ' , kini andika hasilkan 3 mobil - 2 rumah !\",\n 'fakta lengkap produce x101 yang perlu kamu tahu',\n '7 fakta madam shim , wanita berpengaruh dicurigai dalang kasus jang ja yeon & seungri',\n 'tak jadi anak emas jokowi . begini tanggapan kaesang pangarep',\n 'vebby palwinta akui sudah belajar taaruf , siap segera nikah ?',\n 'sempat mengaku mualaf , ternyata kriss hatta tak pernah memeluk islam',\n 'liburan melulu , kini syahrini dan reino barack kompak makin gendut ?',\n 'album focus dari jus2 got7 ceritakan tentang panca indera , sudah dengerin ?',\n 'tanyakan hal tak pantas pada bts , reporter ini dihujat netizen',\n \"sederet artis ini siapkan ' hadiah ' spesial bagi mereka yang nyoblos\",\n 'tora sudiro - adipati dolken tirukan selfie nicholas saputra , siapa paling mirip ?',\n 'genap 45 tahun , intip kejutan manis yang didapat victoria beckham di ulang tahunnya',\n 'kaki cedera tertimpa lemari , syahrini lupakan rasa sakit dengan cara ini',\n 'sebut dirinya seperti monyet , begini kalau luna maya gelantungan di pohon',\n 'bukan menjadi pembanding , ini perbedaan komik gundala versi baru dan klasik',\n 'foto keluarga lisa blackpink , ayah tirinya orang swiss - ibunya cantik banget',\n \"heboh ! ' warkop dki reborn 3 ' jadi film pertama yang laksanakan mega premiere\",\n 'upi didaulat garap film jagat sinema bumilangit selanjutnya ?',\n 'ruben onsu berencana ke ntt , bakal urus adopsi betrand peto ?',\n 'bastian steel hidup dalam pergaulan bebas dan punya anak istri dalam film ini',\n 'ada sosok ari tulang di gundala , bisa tebak perankan siapa ?',\n '9 aktris cantik yang pernah perankan karakter jelek di drama , suzy - lee sung kyung',\n \"14 fakta menarik ' avengers : endgame ' yang perlu kamu tahu sebelum nonton\",\n 'barbie kumalasari akui punya suara jazzy , cuma bisa dinikmati yang bermusikalitas !',\n 'barbie kumalasari bocorkan honor sekali tampil di tv , tembus dua digit !',\n 'selalu diberitakan dari sisi negatif , ini pesan barbie kumalasari untuk putrinya',\n 'ratna galih program bayi tabung demi dapat anak perempuan , ini alasannya . . .',\n 'kekayaan barbie kumalasari kerap diragukan : biarin mengurangi pajak saya kan ?',\n 'isu salmafina pindah agama merebak , berikut 15 artis yang pernah diterpa hal serupa',\n 'jadi special guest minie tv , bayaran vanessa angel bisa buat beli pulau ?',\n 'masalah semakin panjang , fairuz a . rafiq pernah alami kdrt dengan galih ginanjar ?',\n \"6 fakta xana tang , bintang film ' mulan ' yang juga sahabat iqbaal ramadhan\",\n 'masuk gang sempit , berikut 4 fakta rumah asli barbie kumalasari dan galih ginanjar',\n \"pablo benua dan rey utami ditahan , 12 seleb ini juga jadi korban video ' mulut sampah '\",\n '10 kolaborasi idol k-pop yang nagih banget !',\n 'kevin aprilio betah dengan rambut gaya emo , vicy melanie risih ?',\n 'nonton raditya dika dan line up lain dalam jicomfest 2019 , berapa harga tiketnya ?',\n 'istri ajun perwira ungkap salmafina sunan sudah nyaman dengan keyakinan barunya ?',\n 'mantan pramugari bongkar kelakuan buruk idol k-pop di pesawat , siapa yang terbaik ?',\n 'barbie kumalasari tak penuhi pemeriksaan kepolisian , begini penjelasan pengacaranya',\n \"tessa mariska terseret kasus ' ikan asin ' , ada apa ?\",\n '6 fakta sosok iyan sambiran suami nunung yang juga ditangkap karena narkoba',\n 'spoiler improvindo di jicomfest 2019 , mc dani jamin bakal bikin ngakak',\n 'heboh kabar video masturbasi atlet dw , begini komentar mikha tambayong',\n 'co working space dengan view laut pertama dan satu-satunya di jakarta',\n '20 finalis siap perebutkan gelar puteri muslimah indonesia 2019 , siapa juaranya ?',\n 'rumah berlapis emas , dari mana sumber kekayaan muzdalifah ?',\n \"' endgame ' jadi aksi pamungkas avengers , begini kelanjutan marvel cinematic universe\",\n 'gara-gara air , kim jae wook akhirnya cium park min young',\n \"posting foto dengan tagar ' proud of akad ' , ivan gunawan sudah nikah ?\",\n 'begini upaya kate middleton damaikan pangeran william dan pangeran harry',\n 'hebat ! nurul bashira , puteri muslimah indonesia 2019 sabet 2 gelar sekaligus',\n 'kedatangan seleb dan influencer di event wonderful noon , gimana keseruannya ?',\n 'baru nikah dengan fadel islami , muzdalifah dibuat naik pitam karena hal ini',\n 'dengar cut tary akui 3 kali berhubungan dengan ariel , begini reaksi suami',\n 'menangis di sungkeman syahrini - reino , rosano barack beri wejangan penting ini . . .',\n \"7 pasangan dalam drama korea dengan ' chemistry ' paling kuat\",\n 'tatap syahrini penuh cinta , ini yang dirasakan reino barack jelang sungkeman',\n 'pangeran harry beri tanda meghan markle sudah melahirkan ?',\n 'inilah kekayaan para bintang avengers dari terendah hingga paling tinggi',\n 'dinner silaturahmi syahrini - reino barack digelar tanpa orangtua , ada apa ?',\n 'resmi jadi ayah , ini nama anak raditya dika beserta artinya',\n '7 foto balita baekhyun exo , bukti dari kecil sudah punya aura seorang idol',\n 'langgar mitos usai pernikahan , inikah penyebab perceraian song joong ki ?',\n 'banjir komika favorit , begini cara dapetin tiket jicomfest 2019',\n 'selang 4 tahun kepergian olga syahputra , begini kondisi rumahnya sekarang',\n 'lama tak terlihat di televisi , begini kabar terbaru romy rafael',\n 'bukan zendaya , penyanyi satu ini yang bakal perankan ariel little mermaid live action',\n \"11 fakta zoha rahman , gadis muslim berhijab di ' spider-man : far from home '\",\n 'pernah nyatakan ibunya idap bipolar , begini kondisi sebenarnya ibu barbie kumalasari',\n '3 wanita yang pernah dekat dengan diego michiels , ada nikita willy juga !',\n 'digrebeg di hotel , aktor ftv ridho illahi berduaan dengan selebgram chagii amelia ?',\n 'umur 3 bulan , begini wajah baby zalina anak raisa dan hamish daud sekarang',\n 'inilah member bts yang punya pendapatan paling besar , bias siapa nih ?',\n 'bakal tampil di jicomfest 2019 , intip video gaya lawakan mli yang super gokil',\n 'masih cinta , 5 pasangan seleb indonesia yang balikan - rujuk setelah sempat cerai',\n \"alasan black widow merelakan diri di ' avengers endgame '\",\n '6 foto kemiripan nia ramadhani dan lisa blackpink , cocok jadi kakak adik ?',\n 'crazy rich pluit ! pria ini beli yacht raffi ahmad cash 4 miliar !',\n '3 keunikan hubungan hamish - raisa - zalina , tak pernah terungkap sebelumnya',\n \"12 potret cantik ming xi , model victoria ' s secret yang dilamar anak miliuner china\",\n '7 artis indonesia ini rayakan waisak , siapa saja ?',\n 'heboh ! syahrini dan luna maya sepanggung bareng di shopee ramadan tv show',\n 'sambut ramadan , 3 penyanyi muda ini berbagi kebahagiaan dengan anak-anak panti asuhan',\n \"8 fakta menarik ' aladdin ' properti pakai perhiasan asli lho\",\n 'habis jutaan rupiah di supermarket , struk belanja nikita mirzani panjang banget !',\n 'cowok 22 tahun dicoret dari kartu keluarga , diumumkan lewat koran !',\n '6 film layar lebar ini perdana tayang di sctv untuk temani libur lebaran kamu',\n '10 idol korea yang diperkirakan berangkat wajib militer tahun depan , ada bts & exo',\n '10 fakta vincent raditya , pilot yang lisensinya dicabut karena video prank limbad',\n \"dwayne johnson ' the rock ' bakal bergabung ke marvel cinematic universe ?\",\n 'deretan kpop idol paling fashionable , bisa contek gayanya nih !',\n '2 seleb ini jalani puasa pertama setelah putuskan jadi mualaf',\n 'liburan ke eropa , spider-man punya kostum baru ?',\n 'alami kecelakaan mobil , mantan idol ini tewas seketika',\n \"fakta unik ' pokemon detective pikachu ' , kini bisa ngomong seperti manusia\",\n '14 selebriti hollywood ini ternyata muslim & ikut puasa di bulan ramadan',\n 'sophia latjuba datang ke ulang tahun gading , roy marten ungkap hubungan mereka',\n '8 seleb indonesia ini disebut hamil duluan saat menikah , ternyata hoax',\n 'hengkang dari the voice setelah 16 season , adam levine ada masalah ?',\n 'irina shayk - bradley cooper putus , lady gaga penyebabnya ?',\n \"sederet rumor menarik tim ' avengers ' baru , akan dipimpin captain marvel ?\",\n 'pasca avengers endgame , petinggi marvel studios sudah kantongi nama untuk fase 4',\n '8 k-pop idol ini pernah mengaku naksir dengan idol lain , siapa saja ?',\n 'digombalin penggemar , begini reaksi malu-malu jisoo blackpink',\n '5 tahun merantau di jakarta , akankah fendy chow memenuhi harapan sang ibu ?',\n '8 tahun bernaung di jyp entertainment , soloist cantik ini memutuskan hengkang !',\n 'unggah video ahmad dhani bersama anak , mulan jameela kangen ?',\n 'viral video choi siwon kepedasan , tembus 16 juta viewer dalam 2 hari !',\n \"6 ' squad ' di drama korea ini , benar-benar jadi ' friendship goals '\",\n 'dancer k-pop terpopuler saat ini , gak kalah kece dari idol !',\n \"unggah foto di liburan , bts siapkan program ' bon voyage ' ?\",\n 'menangis saat anang gantikan posisinya di indonesian idol , ini alasan armand maulana',\n 'heboh barbie kumalasari naik pesawat 8 jam , sederet seleb ini tulis caption menyindir',\n 'penghasilan verrell bramasta 3 bulan jadi youtuber , bisa beli 2 mobil !',\n \"selebritis yang jadi terseret jadi ' korban ' skandal bts , siapa saja ?\",\n '12 transformasi millendaru , dari cowok cantik berdada bidang - doyan bikinian',\n 'resmi diluncurkan , ini gebrakan baru di festival film indonesia 2019',\n '5 film indonesia terbaru yang bikin kamu #antingaret berangkat ke bioskop',\n 'taemin shinee akan tampil di hut rcti ke-30 , shawol beruntung bisa bertemu !',\n 'ini bukti sehun exo sosok religius , tak banyak yang tahu',\n 'dipenjara bareng galih ginanjar atau cerai , mana yang akan dipilih barbie kumalasari ?',\n \"james gunn ungkap batman bakal muncul di ' suice squad 2 ' ?\",\n 'mia khalifa buka-bukaan tentang video panas berhijab , diteror isis !',\n 'ruben onsu ulang tahun , ini 16 transformasinya dari tembem abis - segar awet muda',\n '12 artis ini pernah jadi anggota paskibra , siapa saja mereka ?',\n 'pelukan dengan reino barack , ini harga sweater syahrini yang harganya sampai 2 digit !',\n \"10 idola dengan rahang tajam ' mengiris hati ' , kai exo sampai bobby ikon\",\n 'jual rumah demi shakira , kediaman denada ditawar keluarga menteri dengan harga segini',\n 'nia ramadhani hadiri pernikahan anak raam punjabi , sebal sama bcl gara-gara ini',\n '15 pasangan seleb korea yang cinlok tak berakhir bahagia : putus - cerai',\n 'terkuak ! ini alasan ali syakieb - citra kirana putus , bukan karena rezky aditya',\n 'yuk , jemput impian kamu bareng julian jacob !',\n 'nama anak ditiru fans , franda : bayimu tak pantas pakai nama itu !',\n \"hotman paris mengaku dapat panggilan ' gus lora ' , begini penjelasan nu\",\n 'inilah sederet tipe pacar yang biasa ditemui dalam drama korea',\n 'inspirasi gaya tas pinggang ala kylie jenner , effortless stylish !',\n 'sandra dewi akhirnya pamer wajah mikhael moeis , ganteng banget !',\n 'dami kwon kakak g-dragon bakal nikahi aktor kim min joon , begini detailnya',\n 'camila cabello dan shawn mendes pamer ciuman ala ikan , konfirmasi pacaran ?',\n 'booming iklan mie sedaap versi choi siwon , ternyata begini rasanya',\n 'karena ini teuku rassya buka restoran bertema papua',\n 'barbie kumalasari bakal ke amerika bareng boy william , begini ceritanya',\n 'barbie kumalasari & galih ginanjar dikabarkan pisah , begini klarifikasi indra tarigan',\n '5 film terbaik indonesia yang nggak pernah bosan ditonton lagi , apa judul favoritmu ?',\n 'kado pernikahan justin bieber , jam tangan mewah seharga 1 miliar !',\n \"18 tahun setelah ' kkkg ' , kajol dan kareena kapoor satu frame lagi dan makin stunning !\",\n 'ini alasan robby shine mantap berbisnis pusat kebugaran',\n 'halaman kapanlagi korea resmi launching , isinya apa aja sih ?',\n 'rosa meldianti ikut kontes puteri indonesia , lucinta luna merasa tersaingi ?',\n 'kocak ! gara-gara penilaian guru di masa lalu , deepika padukone ancam ranveer singh',\n 'keluar dari grup wa geng menteri ceria , melaney ricardo & luna maya berantem ?',\n 'pengakuan atta halilintar soal berhubungan intim di hotel bersama bebby fey',\n 'jelang pernikahan , hailey baldwin dapat pesta bachelorette yang seru dan nakal !',\n '4 tahun pergi , seperti ini kondisi makam olga syahputra',\n '7 k-pop idol yang mirip karakter animasi disney , j-hope bts - taeyeon snsd',\n '7 pemotretan terbaru jessica iskandar - nia ramadhani , bak bidadari turun dari langit',\n 'spider-man dikabarkan hengkang dari mcu , begini penjelasan sony pictures',\n 'cut meyriska sakit perut selama 5 tahun , ini serangkaian pemeriksaan yang dilaluinya',\n 'siapa sangka , sampo favorit alodita ternyata ada di supermarket !',\n 'deretan kpop idol paling bersinar , mana yang ingin kamu tonton konsernya ?',\n 'ruben onsu disebut punya tabungan rp 27 m , ini sederet sumber penghasilannya',\n \"peluncuran trailer ' gundala ' , abimana arasatya ungkap satu fakta unik\",\n 'jokowi hadiri nikahan wartawan , ternyata anak seleb terkenal',\n \"blak-blakan , millendaru ngaku pernah ada ' urusan ranjang ' dengan artis inisial zl\",\n 'sebelum tertangkap narkoba , ini deretan film jefri nichol !',\n 'jennifer dunn pamer rumah baru , super megah lengkap dengan kolam renang mewah',\n 'irwansyah main sinetron lagi bareng chelsea olivia , zaskia sungkar cemburu ?',\n '10 persiapan penting sebelum masuk area jicomfest 2019',\n \"harga starter pack sekolah saaih halilintar bikin ' sobat miskin ' melongo\",\n \"video adegan yang dihapus dari versi asli ' avengers : endgame ' , masih bikin nangis\",\n 'fakta mengejutkan terkuak , jennifer dunn bohong soal rumah barunya ?',\n 'dulu bercinta sehari 8 ronde , barbie kumalasari bakal minta bilik asmara untuk galih ?',\n 'kalau pandji , ernest dan raditya dika sepanggung , siapa paling bikin kamu ketawa ?',\n 'vanessa angel bicara soal jodoh : siapa sih cowok yang mau nerima aku ?',\n 'ikut sarwendah ke lokasi syuting , inilah hal lucu yang dilakukan betrand peto',\n 'ini alasan yang bikin uus memilih untuk berhenti pakai narkoba',\n 'baru dibaptis , ini pengakuan anwar hadid soal perbedaaan agama dalam keluarga',\n 'youtuber tana mongeau bawa ular ke vmas 2019 , tiru gaya britney spears 18 tahun lalu ?',\n 'foto orangtua jungkook bts , ayahnya ganteng banget - ibunya awet muda',\n 'suka film horor ? berikut deretan film horor yang bakal tayang di bulan april',\n \"jenita janet jajal filler terobosan baru ' algenesss ' , 100 % bahan alami !\",\n 'rapat investor yg entertainment selesai digelar , ini hasilnya !',\n 'lucunya lee dong wook tak bisa berhenti menangis karena ini !',\n 'fakta menarik girlband korea selatan , momoland',\n 'heboh kasus jung joon young , youtuber ini ngaku pernah dilecehkan idol pria',\n 'wanita dengan tubuh berisi terbukti bikin pria lebih bahagia',\n 'kronologi lengkap pemuda di bandung tusuk gadis pujaan karena cinta ditolak',\n 'sarapan bikin ngantuk , mitos atau fakta ?',\n 'sibuk hingga batal bertemu pimpinan kpk , ini agenda jokowi seharian',\n 'spanduk pecel lele hingga obat kuat jadi cara jakmania kritik persija',\n '5 fakta menarik animasi spongebob squarepants yang perlu kamu tahu !',\n 'chris hemsworth atau natalie portman , ini bintang utama thor : love and thunder',\n 'ini anggota pansus pemindahan ibu kota bentukan dpr',\n 'penemuan terbaru ungkap penyebab punahnya dinosaurus',\n 'ketua hipmi lempar isyarat \" punya waktu longgar \" , ini respon presiden jokowi',\n 'jelang berakhirnya pemerintahan , 3 menteri jokowi pamit . . .',\n '6 reaksi shandy aulia hadapi netizen julid',\n 'pertarungan buaya 1 , 8 meter dan anakonda sepanjang 8 meter , siapa yang menang ?',\n 'ini langkah ditjen imigrasi setelah terima surat pencegahan dan pencabutan paspor veronica koman',\n 'ini hasrat pecatur andalan indonesia di piala dunia fide',\n 'disebut oleh dprd hanya ban serep ridwan kamil , ini kata uu ruzhanul',\n 'dirut sriwijaya air dicopot ?',\n 'ini cara para seniman tolak revisi uu kpk',\n 'bocoran foto daihatsu sigra facelift',\n 'kami mencari tahu mengapa cosplayer menyukai kostum karakter , ini jawabannya . . .',\n 'ini pesan terakhir istri yang gantung diri setelah cekcok dengan suami soal foto pelukan',\n 'ini alasan museum sejarah bentoel di malang dijual',\n 'saat luhut dan susi pamit . . .',\n 'tips bagi yang berniat memelihara vw kodok',\n 'karyawan amazon bakal turun ke jalan lakukan protes , apa alasannya ?',\n 'lewat siji , cara beda nikmati koleksi museum seni rupa dan keramik',\n 'bagaimana pilihan jenis gelas bisa pengaruhi rasa kopi ?',\n 'sri mulyani ingin rekam medis 267 juta penduduk ri diidentifikasi , kenapa ?',\n '4 fakta hari pertama penerapan sistem ganjil genap di jakarta barat',\n 'cukup bayar rp 5 . 000 untuk masuk ke 5 museum di jakarta ini',\n 'ketika menteri susi minta maaf dan akui dirinya sedikit tengil . . .',\n 'apa beda penarikan dan pencabutan paspor ? ini penjelasan pakar hukum',\n 'dul jaelani : tolong maafkan saya . . . maafkan saya . . .',\n 'disebut kerjanya cuma menembaki kapal , ini kata menteri susi',\n 'fakta sopir truk tanah jadi tersangka tabrakan beruntun di bintaro',\n 'kemal mochtar berhasil turunkan berat badan 50 kg dalam setahun , apa rahasianya ?',\n 'seorang polisi tepergok tanpa busana dengan istri orang , ini sanksi yang menanti',\n 'kerap diarak orang jepang , apa itu mikoshi ?',\n 'hari tanpa bayangan di indonesia , bagaimana bisa terjadi ?',\n 'cerita jatuh bangun pemilik warung dian dan barokah unhas hingga jadi langganan mahasiswa',\n 'diajak perang gubernur maluku , ini jawaban menteri susi',\n 'viral , seorang pengendara keluarkan jurus silat saat kena razia polisi',\n '7 kisah pasien ditandu menuju puskesmas , disebut \" ambulans desa \" hingga selamatkan ibu melahirkan',\n 'cukai rokok tahun depan naik , ini pertimbangan pemerintah',\n 'viral , penumpang berdiri 6 jam di pesawat demi istri bisa tidur',\n '16 manfaat renang bagi tubuh yang tak bisa diremehkan',\n 'saat 10 capim kpk \" dikunci \" dengan surat bermeterai ini . . .',\n 'viral video wanita bugil naik motor keliling samarinda , ini kronologi kejadiannya',\n 'polemik pb djarum vs kpai yang berujung stop audisi . . .',\n 'sby menitikkan air mata . . .',\n 'armand maulana jadi juri anaknya di the voice | dipenjara , santunan ahmad dhani terhenti ?',\n 'ditilang karena ganjil genap , begini cara mengurus denda tilang',\n 'apa itu espresso dan istilah lain di kedai kopi yang harus kamu tahu',\n 'jangan makan pisang saat sarapan , ini alasannya',\n 'ibu kota baru dikritik ridwan kamil terlalu luas , ini komentar gubernur kaltim',\n 'pindah ibu kota pengaruhi arus era kendaraan listrik ?',\n 'pihak sekolah tidak setuju andreas diasuh wali kota malang , ini sebabnya',\n 'empat fakta baru terungkap dalam sidang kasus narkoba jefri nichol',\n 'hari tanpa bayangan dan ekuinoks , sama atau beda ? ini penjelasannya',\n 'harga emas dunia turun untuk 3 hari beruntun , apa sebabnya ?',\n 'berbagai keluhan pengendara di hari pertama penerapan perluasan ganjil genap',\n 'awas virus joker , segera hapus 24 aplikasi ini dari ponsel android anda',\n 'heboh kasus perselingkuhan berujung pembunuhan , ini sisi klinisnya',\n '4 fakta menarik hari pertama ganjil genap di jakarta timur',\n '5 cara bikin rumah minim cahaya alami tampak lebih terang',\n 'viral video polisi razia mertua sendiri saat operasi patuh , ini penjelasan kasatlantas polres bojonegoro',\n 'disantuni rp 5 juta oleh ahmad dhani , keluarga korban kecelakaan dul merasa cukup ?',\n 'inilah iphone yang paling laris di semester pertama 2019',\n 'cerita paul cummings dan fasilitas disabilitas stadion kanjuruhan',\n 'pelamar cpns kini boleh berusia 40 tahun , untuk posisi apa saja ?',\n 'diputar serentak 12 september , ini 5 fakta film warkop dki reborn 3',\n 'ini 5 bank yang tawarkan bunga deposito tertinggi',\n 'bagaimana persiapan mobil tua sebelum touring jarak jauh ?',\n 'banyak kapal vietnam masuk zee indonesia , ini yang dilakukan menteri susi',\n 'panas-panas , 5 minuman es asli indonesia ini bikin segar',\n 'soal pembatasan mobil tua , ini harapan komunitas volkswagen indonesia',\n 'pengendara yang tak bertanggung jawab harus dipidana !',\n 'betrand peto resmi pindah ke jakarta , begini hari pertama sekolahnya',\n 'ini kronologi kecelakaan bus mira vs innova di nganjuk-madiun',\n 'jack ma putuskan pensiun , alibaba bakal hadapi kondisi sulit ?',\n '4 fakta zara jkt48 dan peran virgo',\n 'uu ruzhanul disebut dprd hanya ban serep , ini tanggapan ridwan kamil',\n 'anggaran pilkada surakarta 2020 capai rp 17 , 8 miliar , ini rinciannya',\n 'tak bisa lakukan pencegahan , ini cara imigrasi pulangkan veronica koman',\n 'video youtube \" lemot \" di smartphone ? ini cara mengatasinya',\n \"jokowi sebut 141 juta penduduk ri ' naik kelas ' pada 2020 , apa maksudnya ?\",\n 'ini alasan perlunya terowongan di tol cisumdawu dan mrt',\n 'toyota calya 2019 meluncur , simak detail harganya',\n 'melemah , ini kurs rupiah di 6 bank besar',\n 'ini alasan mengapa trotoar kalimalang berada di tengah jalan',\n 'ekspor perikanan indonesia kalah dengan vietnam , ini masalahnya',\n 'tips tampil lebih unggul dibanding kandidat pencari kerja lain',\n 'sepekan terakhir suhu di bengkulu makin dingin , ini penyebabnya',\n 'disinggung iriana jokowi , begini kondisi terkini kali bahagia di bekasi',\n 'ini modal desa kutuh bisa raup puluhan miliar rupiah',\n 'apa saja kewenangan dewan pengawas dalam mengawasi kinerja kpk ?',\n 'satu bulan berstatus waspada , bagaimana kondisi gunung slamet ?',\n 'pemprov dki potong tunggakan pajak hingga 50 persen , ini rinciannya',\n 'berikut 5 keunggulan daihatsu sigra',\n '5 hal menarik balkonjazz festival 2019 , pasar balkon hingga ditutup yura yunita',\n 'berlangsung usai pulang kerja , ini daftar harga tiket laga timnas u-16',\n '5 fitur menarik toyota calya yang wajib diketahui',\n 'ini alasan kolonel beben ingin maju di pilkada tangsel 2020',\n 'daihatsu sigra 2019 resmi meluncur , ini ubahannya',\n 'kalah dari marquez , ini kata quartararo',\n 'tuduhan polisi , bantahan veronica koman . . .',\n 'terminal 2 bandara soekarno-hatta jadi terminal traveloka , apa sebabnya ?',\n 'lahan 26 perusahaan sawit di kalbar disegel terkait karhutla , ini daftarnya',\n 'pdi-p dukung jokowi merevisi uu kpk , ini alasannya . . .',\n '3 investor asing tertarik bangun lrt jawa timur , siapa saja ?',\n 'anak keseringan main hp , bagaimana dampaknya ?',\n 'ini penyebab bayi 4 bulan di sumsel meninggal , sesak napas diduga terpapar kabut asap',\n 'apa saja ketentuan penyadapan yang diatur dalam draf revisi uu kpk ?',\n 'bus persib dilempari batu dan 2 pemain terluka , begini kronologinya',\n 'ini jadwal update android 10 untuk ponsel realme',\n 'ini ubahan eksterior dan interior toyota calya 2019',\n 'sempat viral , ini plus minus toyota calya dan daihatsu sigra',\n 'intip 3 arloji seiko bertema monster hunt',\n 'fahri hamzah usul jokowi segera lantik firli cs , ini alasannya . . .',\n 'ada 10 varian , ini harga lengkap daihatsu sigra 2019',\n 'driver grabcar bisa beli rumah dengan bunga kpr tetap , ini syaratnya',\n '3 hal ini jadi penyebab rendahnya minat baca anak indonesia',\n '30 orang jadi tersangka kerusuhan di papua barat dan 12 dpo , ini perannya . . .',\n 'beragam modifikasi komunitas buat kendaraan listrik',\n 'viral stand up comedy kiky saputri yang bikin fadli zon geleng-geleng kepala',\n 'ini tahapan kompetisi voli liga mahasiswa jawa timur',\n 'perkenalkan , ini gadis , anggota dprd maluku berusia 24 tahun',\n 'viral , artis indonesia bernama tiga setia gara menangis karena disiksa suami di as',\n 'viral ! penyanyi tiga setia gara mengaku alami kdrt di amerika serikat',\n 'ini capaian umj di liga mahasiswa 2019',\n '\" pencuri mata \" , sebab pemuda kecanduan game online alami kebutaan',\n 'benarkah fadli zon marah setelah di-roasting komika kiky saputri ?',\n 'cara mengolah sayuran yang benar agar nutrisinya tidak hilang',\n 'ini 6 tips agar masyarakat aman pakai gas elpiji',\n 'jika as ingin gelar perundingan pelucutan senjata nuklir , ini yang diminta korea utara',\n '\" urusan ranjang bukan urusan negara . . . \"',\n 'kabut asap di riau , ini tips pencegahan dan penanganan kesehatannya',\n 'selain spongebob squarepants , ini 4 animasi yang pernah ditegur kpi',\n 'alasan veronica koman baru buka suara . . .',\n 'ini 4 tim yang lolos dari euro futsal championship 2019 palembang',\n 'begini kronologi pelemparan bus persib bandung',\n 'halmahera selatan diguncang gempa , ini bedanya dengan guncangan juli',\n 'mau sukses bisnis buzzer media sosial , lakukan cara ini !',\n 'apa jadinya jika hiu di bumi menghilang ?',\n 'daftar harga mobil bekas rp 100 jutaan , ada avanza dan xenia juga',\n 'tips menjaga kesehatan kulit ala catherine wilson',\n 'ingin jadi digital marketing sukses ? pastikan punya sifat ini',\n 'komentar marquez dan rossi soal insiden sesi kualifikasi gp san marino',\n 'kpi beri sanksi spongebob squarepants , ini penyebabnya',\n 'tips agar keuangan tak tergerus inflasi',\n 'daftar top skor liga inggris , tammy abraham samai aguero',\n 'viral penipuan ojek online berkedok istri sakit , cukup dengarkan saja',\n 'jalan-jalan ala bts , ini 5 pasar unik dan serba murah di seoul',\n 'cerita pengalaman jadi player escort di laga tira-persikabo vs persib . . .',\n 'ini kata saut situmorang soal masa depan kpk pasca 3 pimpinan serahkan mandat ke presiden',\n 'dua cara malaysia hadapi uni emirat arab',\n 'esemka jadi mobil dinas , ini harapan sekda jateng',\n 'layangkan surat keberatan , ini 4 poin tuntutan persib ke pt lib',\n '4 prioritas sebelum mendesain ruang kerja di rumah',\n 'wilayah jakbar tertinggi pelanggar ganjil genap hari pertama , ini alasannya . . .',\n 'indonesian idol kembali digelar , 5 musisi ini menjadi jurinya . . .',\n 'tak cuma gangguan paru , ini efek polusi udara bagi tubuh',\n 'jokowi ungkap kelemahan pengusaha muda indonesia , apa saja ?',\n '\" jangan keruk emas di tanah leluhur kami \"',\n 'gejolak kabut asap , ini prediksi dinamika atmosfer indonesia',\n 'ini penyebab kecelakaan di tol jagorawi yang tewaskan 3 orang',\n 'anita wahid memahami langkah kpk serahkan mandat ke presiden , tapi . . .',\n 'rumah nanas spongebob ada di dunia nyata , yuk intip !',\n '5 cara cegah kutu tak ikut anda setelah bepergian',\n 'diet bisa berdampak buruk pada kekuatan tulang , apa alasannya ?',\n 'kisah bayi \" spesial \" yang lahir \" serba \" 9 / 11',\n 'bukalapak dikabarkan phk karyawan , ada apa ?',\n 'ini jadwal update emui android 10 untuk ponsel huawei',\n 'ini sebab tinggi badan gabby terus bertambah hingga capai 2 , 2 meter',\n 'ingin usaha anda tumbuh ? simak tips dari pebisnis sukses ryan margolin',\n 'ini jenis olahraga yang bikin tinggi , mitos atau fakta ?',\n 'ekspor riau turun , karena kabut asap ?',\n 'cukup jalan kaki dari stasiun bogor , 5 tempat wisata murah di bogor',\n 'ini identitas mayat perempuan yang ditemukan di irigasi',\n 'indonesia vs thailand , alasan suporter tamu tak takut ke jakarta',\n 'menurut google , ini tantangan pertumbuhan startup di indonesia',\n 'foto kehamilannya dinyinyiri netizen , ini jawaban shandy aulia',\n 'akhir perhelatan sos run to care 2019 , ini jumlah donasi terkumpul',\n '5 tanaman paling mematikan di dunia , salah satunya ada di indonesia',\n '6 hal ini batasi pkl berjualan di trotoar',\n 'mahasiswa pariwisata , ini 6 kiat sukses di industri \" hospitality \"',\n 'ini bedanya yukata dengan kimono',\n 'alasan kesehatan dan umur , kivlan zen ajukan penangguhan penahanan',\n 'simak tips investasi sejak dini ala petenis andy roddick',\n 'anang dan ashanty jual rumah mewahnya di cinere , tertarik beli ?',\n 'pembangunan ibu kota baru bisa tangkal risiko resesi ?',\n 'mengenang chrisye , kenapa karya sang legendaris tak pernah mati ?',\n 'banyak warga jabar hanya makan kecap dan kerupuk , ini kata pakar gizi',\n 'benarkah zodiak berhubungan dengan kepribadian seseorang ?',\n 'alasan irish bella dan ammar zoni rahasiakan jenis kelamin calon bayinya',\n 'isu ganti simon mcmenemy , begini tanggapan rahmad darmawan',\n 'raline shah rela bolak-balik amerika-indonesia , ada apa ?',\n 'benarkah rutin makan jamur turunkan risiko kanker prostat pada pria ?',\n 'cara menyimpan twit orang lain di twitter tanpa ketahuan follower',\n 'kata once soal kabar republik cinta management bangkrut',\n 'video perampokan rumah makan gratis di bogor viral , begini kejadiannya',\n 'begini cara andre taulany dapat diskon besar saat beli harley',\n 'yuk , intip koleksi mobil presiden dan wakil presiden pertama di museum joang 45',\n 'wapres jusuf kalla setuju ada dewan pengawas kpk , tetapi . . .',\n 'tarif cukai rokok naik , bagaimana persaingan di industri saat ini ?',\n 'alasan shandy aulia matikan kolom komentar foto kehamilannya di ig',\n 'mahasiswa sodorkan 6 poin soal karhutla , gubernur sumsel siap mundur , jika . . .',\n 'cara polisi tindak pelanggar ganjil genap agar tidak lolos',\n 'lelang proyek jakarta international stadium diprotes , apa kata kementerian pupr ?',\n 'gojek resmi beroperasi di bandara soekarno-hatta , begini cara pesannya',\n 'masih bingung , siapa saja yang harus bayar pajak ?',\n 'usai esemka , bagaimana arah pengembangan mobil nasional ke depan ?',\n \"peserta magang dapat ' karpet merah ' jadi pegawai pln\",\n 'grab bakal pakai kendaraan listrik , apa untungnya bagi mitra pengemudi ?',\n 'ini rincian skema biaya pembangunan ibu kota baru',\n 'jokowi mau bangun istana negara di papua , ini kata bappenas',\n 'sandiaga uno akan kembali gabung dengan gerindra ?',\n 'belum ada tersangka kasus art tewas diterkam anjing , kenapa ?',\n '3 hal tentang permintaan pembangunan istana presiden di papua',\n 'muncul usulan dki gunakan dua wagub , mungkinkah ?',\n 'potret kemiskinan , keluarga di karawang ini tinggal di gubuk mirip kandang ayam',\n 'jokowi : saya paksa bumn terima 1 . 000 masyarakat papua',\n 'ide anies legalkan pkl di trotoar , langgar undang-undang ?',\n 'catat , gerhana matahari cincin terlihat di indonesia pada 26 desember 2019',\n 'sby dan air mata rindu untuk sang belahan hati , ani yudhoyono',\n 'metro sepekan : cerita kecelakaan tol cipularang , siapa wanita berbaju putih ?',\n 'top 3 news : usai raya meninggal , bagaimana kelanjutan kasus video syur vina garut ?',\n 'video : pria pamer ilmu tenaga dalam saat ditilang polisi',\n '100 hari ani yudhoyono berpulang , ini kenangan sby akan sosok memo',\n 'kisah pilu asih , diperkosa dan jadi tumbal pesugihan teman dekat',\n '4 fakta sidang perdana kasus narkoba jefri nichol',\n 'mengaku jadi korban pemerkosaan , ini 4 fakta menarik tentang barbie nouva',\n 'jadi korban perkosaan , kenapa barbie nouva tak lapor polisi ?',\n 'heboh pengakuan barbie nouva pernah diancam pistol dan diperkosa',\n 'elza syarief kecewa dengan perlakuan hotman paris',\n 'video : hailee stainfeld bakal gabung marvel ?',\n 'susah tidur , jefri nichol ditawari ganja di restoran fast food kemang',\n 'sandra dewi bikin iri karena tetap cantik dan singset usai melahirkan',\n 'pelatih timnas indonesia sebut dua pemain thailand ini punya kualitas pembeda',\n 'prediksi timnas indonesia vs thailand : pantang kalah lagi !',\n 'daftar alumnus audisi beasiswa bulu tangkis pb djarum',\n 'jelang timnas indonesia vs thailand , banyak faktor yang bebani skuat garuda',\n 'dikabarkan ingin ke mu , winger juventus marah besar',\n 'headline : audisi pb djarum disetop , bagaimana nasib regenerasi atlet bulu tangkis ?',\n '3 kemenangan terakhir timnas indonesia atas thailand',\n 'jadwal timnas indonesia vs thailand : saatnya bangkit !',\n 'hatem ben arfa dan 7 pemain bintang yang tak punya klub',\n 'wonderkid thailand siap bikin malu timnas indonesia di jakarta',\n '4 pertemuan timnas indonesia vs thailand yang tak terlupakan',\n 'persib incar bachdim dan ferdinand ? begini kata robert alberts',\n '5 pelatih dengan bayaran tertinggi di dunia',\n 'penuh gairah , petenis seksi ini cium mesra pacar baru usai gagal di as terbuka',\n 'susunan pemain timnas indonesia vs thailand : beto kembali jadi andalan',\n '3 kendala manchester united yang belum diatasi ole gunnar solskjaer',\n 'alexis sanchez tak sudi balik ke mu lagi',\n 'samsung galaxy a20s punya tiga kamera utama ?',\n 'pes 2020 resmi meluncur , cek spesifikasi pc kamu apakah bisa main gim ini ?',\n 'top 3 tekno : harga samsung galaxy a50s bikin penasaran',\n 'indonesia bakal alami hari tanpa bayangan pada 23 september , apa itu ?',\n 'ini bocoran spesifikasi , harga , dan fitur iphone 11 yang meluncur malam ini',\n 'ini 4 rahasia tubuh seksi georgina rodriguez , pacar cristiano ronaldo',\n 'punya visi berbeda , apa yang diusung arif-doni untuk duduki kursi panas pssi ?',\n 'ada peran klopp dalam transfer coutinho ke bayern munchen',\n 'fekir masih sakit hati kepada liverpool',\n 'alasan simon mcmenemy usai timnas indonesia kalah telak dari thailand',\n 'timnas indonesia babak belur lawan thailand',\n 'arsenal bikin kesalahan fatal jual iwobi',\n 'observatorium laut milik jerman hilang misterius , dugaan mengarah pada . . .',\n 'top 3 global : sejumlah asteroid melintasi bumi mencuri perhatian',\n 'wanita diduga bomber bunuh diri meledak dekat markas militer filipina , teror ?',\n 'tiga asteroid melintas kemarin dan pagi ini , bagaimana dampaknya untuk bumi ?',\n 'hari pencegahan bunuh diri sedunia , ayo ikut berperan',\n 'korut tembakkan proyektil usai setuju bertemu as akhir september , pertanda apa ?',\n 'menguak makhluk misterius di loch ness skotlandia , teka-teki mulai terpecah',\n 'detik-detik gajah mengamuk di pawai buddha sri lanka , 18 orang terluka',\n 'teleskop radio raksasa di china mendeteksi sinyal dari antariksa , alien ?',\n 'kerap bikin bingung awam , ini perbedaan antara asteroid , komet dan meteor',\n \"donald trump sebut perundingan damai as - taliban sudah ' mati '\",\n 'kisah istri polisi di hong kong berhadapan dengan suami saat demonstrasi',\n 'serempet pejalan kaki , pemotor arogan ditangkap polisi',\n 'perhatikan 4 hal ini sebelum memilih bbm',\n 'kocak , pengendara wanita mabuk laporkan dirinya sendiri ke polisi',\n 'honda genio gunakan rangka baru , apa kelebihannya ?',\n 'banyak yang tak tahu , ini koleksi mobil bj habibie',\n 'motor listrik ini menjawab tantangan di lintasan balap',\n 'perhatikan hal-hal ini saat bangun kustom motor',\n 'perhatikan hal ini sebelum ganti shockbreaker honda adv150',\n 'komunitas mobil komentari perluasan ganjil genap',\n 'posisi kalapas sukamiskin kembali diganti , mengapa ?',\n '3 harimau sumatra dikabarkan muncul di siak , ini penjelasan bbksda riau',\n 'warga geger , ada tiga karung ganja dalam septic tank',\n 'alasan pemuda partai golkar diy minta wali kota yogyakarta mengundurkan diri',\n 'kabut asap kebakaran hutan makin parah di jambi , siapa bertanggung jawab ?',\n '6 masjid indah yang jadi destinasi wisata favorit dunia',\n 'resep cilok anti-alot , mengunyah tak lagi susah',\n 'menikmati sunset pulau dewata di toko oleh-oleh',\n 'mana yang benar , 4 atau 5 destinasi super prioritas ?',\n 'peneliti singapura ungkap fakta mengejutkan soal tsunami aceh',\n 'begini cara atasi depresi pada anak yang perlu orangtua tahu',\n 'remaja sering berpikiran untuk bunuh diri , begini 6 cara mencegahnya',\n 'cara cegah orang bunuh diri lewat medsos',\n 'pertanyaan kapan nikah yang terus menerus bisa picu orang ingin bunuh diri ?',\n 'keinginan untuk bunuh diri bisa muncul karena 5 kondisi ini',\n 'kecanduan seks , ibu satu anak ini pernah tidur dengan lebih dari 100 orang',\n 'tak sengaja telan air mani , apa saja risikonya ?',\n '4 karya bj habibie di industri dirgantara yang bikin bangga indonesia',\n 'hasil lelang proyek stadion bmw digugat , ini kata menteri pupr',\n 'milenial bakal sulit punya rumah di ibu kota baru',\n 'subsidi listrik turun , bagaimana nasib pelanggan 450 va ?',\n 'bj habibie meninggal , menteri bambang kenang soal beda mazhab pembangunan',\n 'bj habibie punya jiwa entrepreneur tinggi',\n 'capim kpk lili pintauli : saya tidak setuju dewan pengawas',\n 'stafsus presiden paparkan bukti jokowi serius bangun papua',\n 'bj habibie meninggal dunia , annisa yudhoyono : beliau siap dipanggil . . .',\n 'melanie subono kabarkan bj habibie meninggal : sampai jumpa di keabadian . . .',\n 'jokowi mendadak kunjungi rspad , tempat bj habibie dirawat',\n 'fakta-fakta penemuan jenazah asih korban pesugihan teman dekatnya',\n 'saksikan pertarungan sengit psm makassar dan psis semarang live di indosiar',\n 'capim nawawi : ada persoalan di wadah pegawai kpk',\n 'siapa yang unggul , persija atau persipura ? saksikan live di indosiar malam ini',\n 'gerindra setuju wacana wagub dki jakarta lebih dari satu , tapi . . .',\n 'ini yang akan didalami dpr dalam fit and proper test capim kpk',\n '4 hal soal polemik pemenang tender proyek stadion bmw',\n 'lima capim kpk akan ikuti fit and proper test hari ini',\n 'gerindra : kalau masih bisa jalan di trotoar , ngapain pkl diusir ?',\n 'pan¬†beberkan¬†janji-janji anies baswedan yang belum terlaksana',\n 'cerita jokowi soal harga bbm dan semen di papua',\n 'top 3 news : kisah pilu asih , jadi tumbal pesugihan teman dekat',\n 'desa di bali ini denda rp 1 juta pendaki gunung agung',\n 'keluarga asih tak percaya , anaknya jadi korban pesugihan teman dekat',\n '4 janji jokowi saat bertemu dengan tokoh papua',\n '4 fakta soal sakitnya bj habibie',\n 'fakta-fakta kecelakaan nganjuk yang telan korban jiwa',\n 'bj habibie meninggal dunia , ahy : berbahagia kembali dengan bu ainun . . .',\n 'duka para artis atas meninggalnya bj habibie',\n 'mimpi disiram darah , elly sugigi kini mantap berhijab',\n 'vicky prasetyo diam-diam dekati sarita abdul mukti',\n 'marsha aruan sudah pakai makeup sejak smp',\n 'terungkap , bill skarsgard sang badut pennywise ternyata pria beranak satu',\n 'pengalaman manggung ari lasso , dari hotel mewah hingga lokasi banjir',\n 'cut meyriska tunjukkan tanda-tanda kehamilan ?',\n 'atta halilintar sindir tukang karang cerita , siapa yang dimaksud ?',\n 'winky wiryawan latihan olah tubuh dan menetralkan diri , buat apa ?',\n 'aguero hengkang , berikut 3 calon striker penggantinya',\n 'pelatih thailand puji dua pemain ini usai permalukan timnas indonesia',\n 'legenda mu puji performa daniel james',\n '3 hal yang harus dilakukan mu untuk membungkam leicester',\n 'lukaku lega bisa bermain di bawah asuhan conte',\n 'thiago silva sebut neymar bakal tetap jadi andalan psg',\n 'sergio ramos minta izin hengkang dari real madrid',\n 'bomber chelsea jadi korban rasial , sang ibu merasa terpukul',\n 'jadi sasaran kritikan , eks kapten mu akui kehilangan berat badan 8 kilogram',\n 'frank lampard ingin rekrut pemain ini untuk chelsea',\n 'hazard berpeluang lakoni debut bersama real madrid lawan levante ?',\n 'nilai pemain timnas indonesia saat dipecundangi thailand',\n 'podcast : audisi pb djarum dihentikan , bagaimana nasib atlet belia',\n 'kecerobohan ederson buat timnas brasil takluk dari peru',\n '5 calon kuat top skorer liga champions 2019-2020',\n 'berapa lama simon mcmenemy menduduki kursi pelatih timnas indonesia ?',\n '3 hal yang wajib segera dibenahi mu',\n 'fakta menarik persaingan liga inggris hingga pekan ke-4',\n \"ramos sebut bek liverpool lebih pantas menangkan ballon d ' or ketimbang cristiano ronaldo\",\n 'klub david beckham mulai menggoda lionel messi',\n 'absen lebih dari semusim , mantan bek juventus siap kembali bela ac milan',\n 'kapten real madrid : biarkan gareth bale bermain golf',\n 'mesin gol barcelona belum komplet saat menjamu valencia',\n 'sepak terjang cucu bj habibie di dunia sepak bola , sempat berguru ke eropa',\n 'neymar masih berpeluang kembali ke barcelona',\n 'sadio mane jawab rumor akan hengkang dari liverpool',\n 'sempat bikin miris , aksi bocah merokok di laga amal ternyata . . .',\n 'top 3 tekno : bocoran informasi spesifikasi , fitur dan harga iphone 11',\n 'video : melihat lebih dekat wujud iphone 11',\n 'dukung grafis tinggi untuk main gim , ini spesifikasi lengkap galaxy a50s',\n 'video top 3 : iphone 11 resmi dirilis , berapa harganya ?',\n 'video : iphone 11 resmi dirilis , lebih baik dari iphone x ?',\n 'apple umumkan ipad anyar 10 , 2 inci , harganya ?',\n 'berbulu dan suka menggigit , kenalkan pelatih gulat masa kecil khabib nurmagomedov',\n 'seksinya pacar cristiano ronaldo , georgina rodriguez , saat sesi foto busana transparan',\n 'mantan bek kiri mu ingin jadi pelatih',\n 'wonderkid inggris bikin mu gigit jari',\n 'mantan pemain barcelona divonis penjara dua tahun',\n 'anaknya menjadi korban rasisme , ibu striker chelsea menangis',\n 'rahim hingga kelamin pria , ini transplantasi dunia yang diklaim sukses',\n 'selain sebesar big ben , 6 asteroid raksasa ini pernah melintas dan dekati bumi',\n 'ini 17 pemenang hassan wirajuda perlindungan wni award 2019',\n 'gara-gara 4 hal sepele , sejumlah orang ini mendadak tajir',\n 'waspada , 4 benda umum di rumah ini ternyata bisa diretas',\n '6 kisah pilu dalam pesan terakhir korban tragedi 9 / 11',\n 'ngeri , bakteri sekarang bisa temukan cara untuk kebal dari antibiotik',\n 'kisah korban penculikan isis , alami kekerasan seksual hingga dijual 20 kali',\n 'lobster super langka ditemukan , begini penampakannya',\n 'romansa sebelum ajal menjemput di tragedi 9 / 11 : aku cinta padamu , sayang . . .',\n 'video : patroli kopi cara polisi dekatkan diri dengan warga',\n 'penampilan terbaru jaguar e-type 1964 setelah 30 tahun terdampar di hutan',\n 'land rover defender 2020 resmi diperkenalkan , intip kecanggihannya',\n 'diduga¬†rebadge merek cina , pemerintah jelaskan sistem perakitan esemka',\n 'suv mewah rolls-royce cullinan kena recall , apa yang bermasalah ?',\n 'dianggap sering kecelakaan , suv bakal dilarang di kota ini',\n 'terlihat mirip , polisi ini ternyata tilang ayah kandungnya',\n 'wajib diperhatikan , ini 5 ciri ban harus segera diganti',\n 'ingin buat sim international , ini syarat dan biayanya',\n 'honda zoomer terdaftar di samsat dki jakarta , berapa harganya ?',\n 'jangan sembarangan , begini teknik mengendarai sepeda motor dengan boks',\n 'cinta ditolak , pisau menghunjam',\n 'cerita mistis pemuda jember melihat karnaval di hutan angker',\n 'cerita petugas bpbd banyumas 24 jam kirim bantuan air bersih',\n 'tersebar video bercanda di dalam mobil sebelum kecelakaan maut nganjuk',\n 'bj habibie dan kisah museum yang belum terwujud',\n 'teka-teki kasus korupsi berjamaah dprd garut , siapa tersangkut ?',\n 'jejak kenangan bj habibie dalam rumah tua di gorontalo',\n 'suhu di gorontalo capai titik terendah , mengapa ?',\n 'cerita dr oz telat menyadari gejala awal alzheimer pada sang ibu',\n 'apa yang harus diperhatikan supaya gurita hidup aman dikonsumsi ?',\n 'kenali faktor risiko bunuh diri pada remaja',\n 'jadi konsumen cerdas , cek klik sebelum beli obat dan makanan',\n 'adakah waktu yang tepat untuk berhubungan seks ?',\n 'sering menahan buang air kecil , 4 penyakit ini siap mengintai',\n 'ini kekhawatiran abraham samad bila revisi uu kpk dibahas dpr-pemerintah',\n 'terungkap di balik wajah bj habibie yang tersenyum saat meninggal',\n 'mampukah indonesia jadi negara maju di 2045 ?',\n 'potret capim kpk : setuju sp 3 hingga kritik wadah pegawai',\n 'cerita ko-pilot pesawat gatotkaca n250 tentang sosok habibie',\n 'cinta habibie ke ainun , basuhan air zam-zam sebelum meninggal dunia',\n 'cerita sby tentang kedekatannya dengan bj habibie',\n 'sosok bj habibie di mata wapres jusuf kalla',\n 'bj habibie di mata jokowi hingga sby',\n 'melihat lebih dekat liang lahat untuk bj¬†habibie',\n 'sekjen mpr : pentingnya uud 1945 untuk cegah korupsi',\n 'ini rangkaian proses pemakaman jenazah bj habibie',\n 'melayat ke rumah duka , sandiaga uno ungkap pesan bj habibie',\n 'amien rais saat melihat jenazah bj habibie : wajahnya tersenyum',\n 'kenangan wiranto tentang bj habibie sejak jadi menteri hingga presiden ri',\n 'kritik kpk era agus rahardjo cs , ¬†capim nawawi : ini ott atau jebakan ?',\n 'agar masyarakat bisa melayat bj habibie , aturan ganjil genap di tiga jalan ini tak berlaku',\n 'headline : janji jokowi untuk papua , damai di bumi cenderawasih bakal terwujud ?',\n 'fakta mengejutkan terungkap usai kecelakaan nganjuk terjadi',\n 'mengingat tragedi berdarah tanjung priok 35 tahun silam',\n 'top 3 news : annisa pohan sebut bj habibie siap dipanggil karena ibu ainun menunggunya',\n '2 pesan terakhir bj habibie ke keponakannya',\n 'nasihat habibie untuk partai golkar dan pemerintah pusat',\n 'dukungan bj habibie yang dikenang menteri susi',\n 'selamat jalan profesor bj habibie . . .',\n 'jokowi : selamat jalan , mr crack . . .',\n 'doa untuk bj habibie yang dibacakan menteri agama',\n 'pesan bj habibie untuk kemajuan industri indonesia',\n 'menteri susi : harga ayam dan daging mahal , ayo makan ikan !',\n 'ingin dapat diskon tiket kereta api ? ini caranya',\n 'malaysia masuk negara berpendapatan menengah ke atas , indonesia kapan ?',\n 'dpr akan pilih 5 pimpinan kpk periode 2019-2023 malam ini ?',\n 'malam kelam aulia kesuma bunuh suami dan anak tirinya',\n 'kisah kesetiaan bj habibie kepada ainun hingga ajal menjemput',\n 'segudang prestasi bj habibie , dari jadi presiden hingga penemu teori kedirgantaraan',\n 'eks ajudan : saya malu melihat habibie-ainun seperti pengantin baru',\n 'pengusaha ajukan nama calon menteri ke jokowi , ini daftarnya',\n 'saat warga antre berfoto dan berdoa di makam bj habibie',\n 'cerita sinta nuriyah tentang bj habibie ingin ikut sahur keliling',\n 'cerita soal bj habibie dan krisis 1998',\n 'sejumlah tokoh hadiri tahlilan bj habibie',\n 'harga tanah naik 4 kali lipat , milenial susah beli rumah di kaltim ?',\n 'kpk tetapkan tersangka eks dirut petral , praktik mafia migas langsung hilang ?',\n 'asisten pribadi : meski sakit , bj habibie masih pikirkan negara',\n 'viral video xanana gusmao cium kening bj habibie , begini kisahnya',\n 'di cap capim kpk bermasalah , ini penjelasan johanis tanak',\n 'berita terkini bj habibie meninggal dan upacara pemakaman',\n 'menkumham sampaikan pandangan pemerintah soal revisi uu kpk , ini isinya',\n 'sctv tayangkan lagi film habibie & ainun , simak 5 fakta menariknya',\n '5 kata-kata mutiara bj habibie semasa hidup yang menyentuh hati',\n 'bicara soal gading marten , gisella anastasia menahan tangis',\n 'kenangan reza rahadian saat bj habibie menelepon pada tengah malam',\n 'cerita ruben onsu antar jemput anak sekolah',\n 'video : mengenal autoimun , penyakit yang diderita raditya dika',\n 'akhirnya maddox buka suara soal brad pitt',\n '3 fakta raymond hartanto , adik boy william yang meninggal dunia',\n 'ketemu marshanda , raffi ahmad dibuat salah tingkah',\n 'selain 6 , 9 detik , berikut 3 film biopik atlet indonesia',\n 'populer di era 60 hingga 80-an , ini profil pedangdut legendaris ida laila¬†',\n 'nasihat bj habibie tentang pengetahuan dan cinta',\n 'duka melly goeslaw untuk bj habibie : bahagia bertemu ibu ainun di surga',\n 'mengharukan , puisi perpisahan najwa shihab untuk bj habibie',\n 'cerita reza rahadian , dapat ilham peran bj habibie lewat mimpi',\n 'melanie soebono dapat pesan terakhir bj habibie , apa katanya ?',\n 'jadi komentator golden memories asia indosiar , ini 5 hit besar ruth sahanaya',\n 'pesan terakhir bj habibie untuk reza rahadian',\n 'miley cyrus dan kaitlynn carter sudah tinggal serumah ?',\n 'cerita bj habibie tentang kesukaan pada sinetron cinta fitri',\n 'digoda mu , fokus gelandang newcastle terganggu',\n 'pemain-pemain tercepat di serie a versi fifa 20 , siapa saja ?',\n 'mau lolos liga champions , mu dituntut menang lawan tim gurem',\n 'urusan transfer , mu siap menggila di bursa musim dingin',\n 'hukuman dikurangi , chelsea bakal bikin pusing ac milan',\n '3 faktor penyebab de ligt terpuruk di juventus',\n 'daniel james masih takjub jalani debut bersama mu',\n 'jadi sorotan , inilah beda reaksi kiper timnas indonesia dan winger thailand',\n 'ini alasan mkhitaryan tinggalkan arsenal',\n 'legenda liverpool sentil penyerang mu',\n 'bj habibie meninggal , persebaya : selamat jalan eyang . . . .',\n 'pertanyakan keseriusan barcelona boyong kembali neymar , lionel messi ngambek ?',\n '10 pemain tercepat di liga inggris versi fifa 20',\n 'mediasi bersama kemenpora , ini 4 kesepakatan pb djarum dengan kpai',\n 'karier kontroversial pelatih timnas indonesia simon mcmenemy',\n 'motogp : ini perbedaan jorge lorenzo dan marc marquez',\n 'saatnya mu bangkit',\n 'dituduh korupsi , agen kiper real madrid ditangkap',\n '3 calon mesin gol manchester city jika sergio aguero pergi',\n 'fiorentina vs juventus : kembalinya sarri , debut aaron ramsey ?',\n 'terungkap , gelandang mu batal pindah ke psg gara-gara neymar',\n '6 wonderkid yang diprediksi bersinar di liga champions 2019-2020',\n '3 tanda cristiano ronaldo bakal nikahi si seksi georgina rodriguez',\n 'ini harga trio iphone 11',\n 'top 3 tekno : kabar duka bj habibie meninggal dunia jadi sorotan',\n '4 pesawat bj habibie yang bikin indonesia bangga',\n 'pixel 4 akan hadir 15 oktober 2019 ?',\n 'video : bj habibie di mata para tokoh dunia',\n 'warganet ramaikan peluncuran iphone 11 dengan meme kocak',\n 'tanya tekno : apa bisa pasang dongle dan perangkat beda frekuensi ?',\n 'video : waspada handphone kw dijual di pasaran , berikut ciri-cirinya',\n 'viral , video persahabatan bj habibie dan xanana gusmao bikin warganet terharu',\n 'mertesacker pahami fans arsenal frustrasi lihat ozil',\n 'si cantik kartika berliana siap begadang kawal liga champions dan liga europa di vidio',\n '3 manajer tim liga inggris ini terancam pemecatan , salah satunya solskjaer',\n 'sosok bj habibie dalam kenangan asisten pelatih bali united',\n 'kesal dengan kondisi klub , presiden napoli tantang ingin beli ac milan',\n '10 pencetak gol termuda sepanjang sejarah liga spanyol',\n 'florentino perez cerita tentang kegagalan real madrid mendapatkan paul pogba',\n 'penasaran , chelsea kembali incar striker ac milan ?',\n 'video : viral video siswa pukuli teman-temannya',\n '6 perang paling berdarah dan mematikan dalam sejarah dunia',\n 'kabar bj habibie meninggal jadi sorotan dunia',\n 'begini cara astronot memperingati tragedi 9 / 11 dari angkasa luar',\n 'matikan gps dan kegiatan sehari-hari ini ternyata bisa bikin cerdas',\n 'bukan ufo , bangunan unik ini merupakan pabrik bir',\n 'penemuan air di planet berpotensi layak huni mirip bumi buka peluang riset alien ?',\n 'taipan pedalaman hingga weling , kenali 6 ular paling mematikan di dunia',\n 'jangan asal ngegas , ini yang mesti dilakukan sebelum motor jalan',\n 'warisan soeharto , ini mobil dinas bj habibie saat jadi presiden',\n 'mau jago gymkhana , simak triknya',\n 'permudah masyarakat melayat bj habibie , ganjil genap di 3 jalan ini tak berlaku',\n 'merek nasional , pemerintah maklumi esemka bima hanya ganti merek ?',\n 'kaya mendadak , pasutri ini beli 3 mobil lalu diburu polisi',\n 'tertarik tingkatkan skill berkendara motor , tempat ini bisa dicoba',\n 'suzuki punya naked bike terbaru , ini bocoran spesifikasi dan harganya',\n ...]"
     },
     "execution_count": 9,
     "metadata": {},
     "output_type": "execute_result"
    }
   ],
   "source": [
    "d_both"
   ],
   "metadata": {
    "collapsed": false
   }
  },
  {
   "cell_type": "code",
   "execution_count": 10,
   "outputs": [
    {
     "name": "stdout",
     "output_type": "stream",
     "text": [
      "['masuk radar pilwalkot medan , menantu jokowi bertemu dpw nasdem sumut', 'malaysia sudutkan ri : isu kabut asap hingga invasi babi', 'kemensos salurkan rp 7 , 3 m bagi korban kerusuhan sosial di papua', 'mpr : amandemen uud 1945 tak akan melebar ke mana-mana', 'peringati tahun baru islam , banyuwangi kembali gelar festival muharam']\n",
      "['viral ! driver ojol di bekasi antar pesanan makanan pakai sepeda', 'ada motor nyangkut di atas bambu di sleman , kok bisa ?', 'pesan gamblang poyuono menolak revisi uu kpk', 'kocak ! maling di rumah mewah jakut terekam cctv bingung cari jalan kabur', 'viral video diduga baku tembak di sleman , ini kata polisi']\n"
     ]
    }
   ],
   "source": [
    "# create list of clickbait and nonclickbait headline\n",
    "\n",
    "df_clickbait_t = df_clickbait_clean.drop(['label', 'label_encoding'], axis=1).values.tolist()\n",
    "clickbait_l_c = list(itertools.chain.from_iterable(df_clickbait_t))\n",
    "\n",
    "df_nonclickbait_t = df_nonclickbait_clean.drop(['label', 'label_encoding'], axis=1).values.tolist()\n",
    "nonclickbait_l_c = list(itertools.chain.from_iterable(df_nonclickbait_t))\n",
    "\n",
    "print(nonclickbait_l_c[0:5])\n",
    "print(clickbait_l_c[0:5])"
   ],
   "metadata": {
    "collapsed": false
   }
  },
  {
   "cell_type": "markdown",
   "source": [
    "# Preprocessed: Ngram [100% DONE]"
   ],
   "metadata": {
    "collapsed": false
   }
  },
  {
   "cell_type": "code",
   "execution_count": 11,
   "outputs": [],
   "source": [
    "#these are methods that will become useful when extracting attribute markers\n",
    "#why do we need all this? well... that's like 5 hours of debugging...\n",
    "def flatten(foo):\n",
    "    return list(_flatten(foo))\n",
    "\n",
    "def _flatten(foo):\n",
    "    for x in foo:\n",
    "        if isinstance(x, collections.Iterable) and not isinstance(x, str):\n",
    "            for y in _flatten(x):\n",
    "                yield y\n",
    "        else:\n",
    "            yield x\n",
    "\n",
    "def array_to_string(a):\n",
    "    return ' '.join(flatten(a))\n",
    "\n",
    "def is_in_string_array(elements, original): #deprecated, does not take into account sequence order\n",
    "    return np.isin(array_to_string(elements).split(), array_to_string(original).split()).any()\n",
    "# no usage in the func\n",
    "def insert_string(string, inserted_string, index):\n",
    "    return string[:index] + inserted_string + string[index:]\n",
    "\n",
    "# modified from https://stackoverflow.com/questions/41752946/replacing-a-character-from-a-certain-index\n",
    "def replace_string(s, newstring, index, nofail=False):\n",
    "    # raise an error if index is outside of the string\n",
    "    if not nofail and index not in range(len(s)):\n",
    "        raise ValueError(\"index outside given string. index:\" + index)\n",
    "\n",
    "    # if not erroring, but the index is still not in the correct range..\n",
    "    if index < 0:  # add it to the beginning\n",
    "        return newstring + s\n",
    "    if index > len(s):  # add it to the end\n",
    "        return s + newstring\n",
    "\n",
    "    # insert the new string between \"slices\" of the original\n",
    "    return s[:index] + newstring + s[index + len(newstring):]"
   ],
   "metadata": {
    "collapsed": false
   }
  },
  {
   "cell_type": "code",
   "execution_count": 12,
   "outputs": [
    {
     "name": "stderr",
     "output_type": "stream",
     "text": [
      "[nltk_data] Downloading package punkt to\n",
      "[nltk_data]     /Users/nurrizkyimani/nltk_data...\n",
      "[nltk_data]   Package punkt is already up-to-date!\n"
     ]
    }
   ],
   "source": [
    "# creating function for making ngram from list of headline\n",
    "import nltk\n",
    "from nltk.util import ngrams\n",
    "nltk.download('punkt')\n",
    "from collections import Counter\n",
    "\n",
    "def ngram_maker_v2(list_sentences, min_length, max_length):\n",
    "    lengths = range(min_length, max_length + 1)\n",
    "    res_ngram = {length : [] for length in lengths}\n",
    "\n",
    "    for leng in lengths:\n",
    "        for sentence in list_sentences:\n",
    "            temp_set = set()\n",
    "            n_grams = ngrams(nltk.word_tokenize(sentence), leng)\n",
    "\n",
    "            for grams in n_grams:\n",
    "                res = ' '.join(grams)\n",
    "                temp_set.add(res)\n",
    "                # print(temp_set)\n",
    "\n",
    "            for key in temp_set:\n",
    "                split_t = tuple(key.split(\" \"))\n",
    "                res_ngram[leng].append(split_t)\n",
    "\n",
    "    return res_ngram"
   ],
   "metadata": {
    "collapsed": false
   }
  },
  {
   "cell_type": "code",
   "execution_count": 13,
   "outputs": [],
   "source": [
    "# create a function that count the ngram occurance\n",
    "def counter_for_ngram(ngram_dict, min_length, max_length):\n",
    "    lengths = range(min_length, max_length + 1)\n",
    "    ngram_count_res = {length : [] for length in lengths}\n",
    "\n",
    "    for key in ngram_dict:\n",
    "        ng_count = Counter(ngram_dict[key])\n",
    "        ngram_count_res[key] = ng_count\n",
    "\n",
    "    return ngram_count_res"
   ],
   "metadata": {
    "collapsed": false
   }
  },
  {
   "cell_type": "code",
   "execution_count": 122,
   "outputs": [],
   "source": [
    "param_span_t = 3\n",
    "clickbait_ngrams_v2= ngram_maker_v2(list_sentences=clickbait_l_c, min_length=1, max_length=param_span_t)\n",
    "clickbait_ngram_count_v2 = counter_for_ngram(ngram_dict=clickbait_ngrams_v2,min_length=1, max_length=param_span_t)\n",
    "\n",
    "non_clickbait_ngrams_v2= ngram_maker_v2(list_sentences=nonclickbait_l_c, min_length=1, max_length=param_span_t)\n",
    "non_clickbait_ngram_count_v2 = counter_for_ngram(ngram_dict=non_clickbait_ngrams_v2,min_length=1, max_length=param_span_t)"
   ],
   "metadata": {
    "collapsed": false
   }
  },
  {
   "cell_type": "code",
   "execution_count": 15,
   "outputs": [],
   "source": [
    "# creat function for get ngram from the word in the one sentence reference only\n",
    "def ngram_from_sentence_v3(ori_sentence, min_length, max_length):\n",
    "    sent_in_arr = [ori_sentence]\n",
    "    res_ngram_sentence = []\n",
    "    stc_ngram_only = ngram_maker_v2(list_sentences=sent_in_arr, min_length=min_length, max_length=max_length)\n",
    "    return stc_ngram_only\n",
    "\n",
    "def count_ngram_sentence_onlyV3(ngram_dictionary, ngram_from_sentence, min_length, max_length):\n",
    "    lengths = range(min_length, max_length + 1)\n",
    "    ngram_compare_arr = []\n",
    "\n",
    "    for length in lengths:\n",
    "        for split in ngram_from_sentence[length]:\n",
    "            ngram_compare_arr.append([split, ngram_dictionary[length][split]])\n",
    "\n",
    "    return np.array(ngram_compare_arr)"
   ],
   "metadata": {
    "collapsed": false
   }
  },
  {
   "cell_type": "code",
   "execution_count": 213,
   "outputs": [],
   "source": [
    "# create function for get the attribute of the sentence\n",
    "\n",
    "smoothing_parameter = 1\n",
    "\n",
    "def array_to_string(a):\n",
    "    return ' '.join(flatten(a))\n",
    "\n",
    "# the word is in the final array;\n",
    "def is_in_string_array_v2(elements, original):\n",
    "    return np.isin(array_to_string(elements).split(), array_to_string(original).split()).any()\n",
    "\n",
    "# the the attribute based on the sentence, with min_length, max_length and the reference clickbait/nonclickbait dictinoary\n",
    "def get_attribute_sentence(sentence, min_length, max_length, ref_bait, param_threshold):\n",
    "    # ngram sentence as reference\n",
    "    sentence_ngram_ref = ngram_from_sentence_v3(ori_sentence=sentence, min_length=min_length, max_length=max_length)\n",
    "\n",
    "    # count the clickbait sentence, clickbait ngram count as based reference\n",
    "    counts_sentence_clickbait = count_ngram_sentence_onlyV3(clickbait_ngram_count_v2,sentence_ngram_ref,min_length,max_length)\n",
    "\n",
    "    # count the non-clickbait sentence, non-clickbait ngram count as based reference\n",
    "    counts_sentence_nonclickbait = count_ngram_sentence_onlyV3(non_clickbait_ngram_count_v2,sentence_ngram_ref,min_length,max_length)\n",
    "\n",
    "    importances = 0\n",
    "\n",
    "    csn_int = counts_sentence_nonclickbait[:,1]\n",
    "    csn_ngram = counts_sentence_nonclickbait[:,0]\n",
    "\n",
    "    csc_int = counts_sentence_clickbait[:,1]\n",
    "    csc_ngram = counts_sentence_clickbait[:,0]\n",
    "\n",
    "    if ref_bait == \"to-clickbait\":\n",
    "        top = (csc_int + smoothing_parameter)\n",
    "        bottom = (csn_int + smoothing_parameter)\n",
    "        importances = (top/bottom)\n",
    "    elif ref_bait == \"to-non-clickbait\":\n",
    "        top = (csn_int+ smoothing_parameter)\n",
    "        bottom = (csc_int + smoothing_parameter)\n",
    "        importances = (top/bottom)\n",
    "\n",
    "    # print(counts_sentence_clickbait)\n",
    "\n",
    "    de = counts_sentence_clickbait[:, 0]\n",
    "    print(de)\n",
    "    print(importances)\n",
    "    importances_t = np.vstack((importances, de)).T\n",
    "\n",
    "    attribute_words = []\n",
    "    for importance in importances_t:\n",
    "        if importance[0] > param_threshold and not is_in_string_array_v2(importance[1], attribute_words):\n",
    "            attribute_words.append(' '.join(importance[1]))\n",
    "\n",
    "    return attribute_words"
   ],
   "metadata": {
    "collapsed": false
   }
  },
  {
   "cell_type": "code",
   "execution_count": 212,
   "outputs": [
    {
     "name": "stdout",
     "output_type": "stream",
     "text": [
      "[[('ini',) 931]\n",
      " [('meninggal',) 34]\n",
      " [('viral',) 94]\n",
      " [('habibie',) 95]\n",
      " [('!',) 257]\n",
      " [('bj',) 82]\n",
      " [('bj', 'habibie') 82]\n",
      " [('!', 'bj') 0]\n",
      " [('habibie', 'meninggal') 13]\n",
      " [('ini', '!') 8]\n",
      " [('viral', 'ini') 0]]\n"
     ]
    },
    {
     "name": "stderr",
     "output_type": "stream",
     "text": [
      "/var/folders/1n/2gdy6g815s301ygx2s35p6_80000gp/T/ipykernel_57094/4054946038.py:16: VisibleDeprecationWarning: Creating an ndarray from ragged nested sequences (which is a list-or-tuple of lists-or-tuples-or ndarrays with different lengths or shapes) is deprecated. If you meant to do this, you must specify 'dtype=object' when creating the ndarray.\n",
      "  return np.array(ngram_compare_arr)\n"
     ]
    }
   ],
   "source": [
    "# run the get attribute sentence\n",
    "test11 = get_attribute_sentence(\"viral ini ! bj habibie meninggal\", 1, 2, \"to-clickbait\", 4 )"
   ],
   "metadata": {
    "collapsed": false
   }
  },
  {
   "cell_type": "code",
   "execution_count": 214,
   "outputs": [],
   "source": [
    "def separate(sentence, style_src):\n",
    "    attributes = get_attribute_sentence(sentence, 1, 2, \"to-clickbait\", 2 )\n",
    "    c = sentence\n",
    "\n",
    "    replace_indexes = []\n",
    "\n",
    "    for a in attributes:\n",
    "        replace_index = -1\n",
    "        replace_index = c.find(a)\n",
    "        replace_indexes.append(replace_index)\n",
    "        c = c.replace(a, \" \"*len(a))\n",
    "\n",
    "    if len(attributes) == 0:\n",
    "        return {'c': c, 'a': [], 'i': [], 's': sentence}\n",
    "\n",
    "    replace_indexes, attributes = zip(*sorted(zip(replace_indexes, attributes)))\n",
    "    return {'c': c, 'a': attributes, 'i': replace_indexes, 's': sentence}\n",
    "\n",
    "def get_c(sentence, style):\n",
    "    return re.sub(' +', ' ', separate(sentence, style)['c'])\n",
    "\n",
    "def get_a(sentence, style):\n",
    "    a = separate(sentence, style)['a']\n",
    "    if len(a) > 0:\n",
    "        return ' '.join(a)\n",
    "    else:\n",
    "        return \"\""
   ],
   "metadata": {
    "collapsed": false
   }
  },
  {
   "cell_type": "code",
   "execution_count": 215,
   "outputs": [
    {
     "name": "stdout",
     "output_type": "stream",
     "text": [
      "[('cari',) ('kabur',) ('jakut',) ('kocak',) ('maling',) ('jalan',)\n",
      " ('bingung',) ('di',) ('cctv',) ('rumah',) ('!',) ('terekam',) ('mewah',)\n",
      " ('kocak', '!') ('cari', 'jalan') ('cctv', 'bingung') ('rumah', 'mewah')\n",
      " ('terekam', 'cctv') ('mewah', 'jakut') ('di', 'rumah') ('jalan', 'kabur')\n",
      " ('jakut', 'terekam') ('maling', 'di') ('bingung', 'cari') ('!', 'maling')]\n",
      "[0.625 6.0 0.5555555555555556 10.0 2.0 0.36585365853658536 3.5\n",
      " 0.5658499234303216 0.5 0.6511627906976745 43.0 5.0 2.3333333333333335 3.0\n",
      " 2.0 2.0 1.0 2.0 2.0 1.2 2.0 2.0 2.0 2.0 2.0]\n",
      "[('cari',) ('kabur',) ('jakut',) ('kocak',) ('maling',) ('jalan',)\n",
      " ('bingung',) ('di',) ('cctv',) ('rumah',) ('!',) ('terekam',) ('mewah',)\n",
      " ('kocak', '!') ('cari', 'jalan') ('cctv', 'bingung') ('rumah', 'mewah')\n",
      " ('terekam', 'cctv') ('mewah', 'jakut') ('di', 'rumah') ('jalan', 'kabur')\n",
      " ('jakut', 'terekam') ('maling', 'di') ('bingung', 'cari') ('!', 'maling')]\n",
      "[0.625 6.0 0.5555555555555556 10.0 2.0 0.36585365853658536 3.5\n",
      " 0.5658499234303216 0.5 0.6511627906976745 43.0 5.0 2.3333333333333335 3.0\n",
      " 2.0 2.0 1.0 2.0 2.0 1.2 2.0 2.0 2.0 2.0 2.0]\n"
     ]
    },
    {
     "name": "stderr",
     "output_type": "stream",
     "text": [
      "/var/folders/1n/2gdy6g815s301ygx2s35p6_80000gp/T/ipykernel_57094/4054946038.py:16: VisibleDeprecationWarning: Creating an ndarray from ragged nested sequences (which is a list-or-tuple of lists-or-tuples-or ndarrays with different lengths or shapes) is deprecated. If you meant to do this, you must specify 'dtype=object' when creating the ndarray.\n",
      "  return np.array(ngram_compare_arr)\n"
     ]
    },
    {
     "data": {
      "text/plain": "{'c': '        maling di rumah       jakut         cctv         cari jalan      ',\n 'a': ('kocak', '!', 'mewah', 'terekam', 'bingung', 'kabur'),\n 'i': (0, 6, 24, 36, 49, 68),\n 's': 'kocak ! maling di rumah mewah jakut terekam cctv bingung cari jalan kabur'}"
     },
     "execution_count": 215,
     "metadata": {},
     "output_type": "execute_result"
    }
   ],
   "source": [
    "stc_test_retrieve = \"kocak ! maling di rumah mewah jakut terekam cctv bingung cari jalan kabur\"\n",
    "\n",
    "get_attribute_sentence(stc_test_retrieve, 1, 2, \"to-clickbait\", 5)\n",
    "\n",
    "separate(stc_test_retrieve, \"to-clickbait\")"
   ],
   "metadata": {
    "collapsed": false
   }
  },
  {
   "cell_type": "markdown",
   "source": [
    "# Preprocessed : TFIDF"
   ],
   "metadata": {
    "collapsed": false
   }
  },
  {
   "cell_type": "markdown",
   "source": [
    "to get similar sentece in the clickbait headline list"
   ],
   "metadata": {
    "collapsed": false
   }
  },
  {
   "cell_type": "code",
   "execution_count": 80,
   "outputs": [],
   "source": [
    "# 3 of all headline list\n",
    "# d_both\n",
    "# nonclickbait_l_c\n",
    "# clickbait_l_c"
   ],
   "metadata": {
    "collapsed": false
   }
  },
  {
   "cell_type": "code",
   "execution_count": 144,
   "outputs": [
    {
     "name": "stderr",
     "output_type": "stream",
     "text": [
      "/Users/nurrizkyimani/.conda/envs/workspace/lib/python3.8/site-packages/sklearn/utils/deprecation.py:87: FutureWarning: Function get_feature_names is deprecated; get_feature_names is deprecated in 1.0 and will be removed in 1.2. Please use get_feature_names_out instead.\n",
      "  warnings.warn(msg, category=FutureWarning)\n"
     ]
    }
   ],
   "source": [
    "# import all needed librarty\n",
    "from sklearn.feature_extraction.text import TfidfVectorizer\n",
    "tfidf_vectorizer=TfidfVectorizer(use_idf=True, stop_words=None)\n",
    "tfidf_vectorizer_vectors=tfidf_vectorizer.fit_transform(d_both)\n",
    "dict_idf = dict(zip(tfidf_vectorizer.get_feature_names(), tfidf_vectorizer.idf_))"
   ],
   "metadata": {
    "collapsed": false
   }
  },
  {
   "cell_type": "code",
   "execution_count": 209,
   "outputs": [],
   "source": [
    "def get_overlap(a, b):\n",
    "    #     print(a, b)\n",
    "    a_counter = collections.Counter(a.split())\n",
    "    b_counter = collections.Counter(b.split())\n",
    "    overlap = a_counter & b_counter\n",
    "    return overlap\n",
    "\n",
    "def get_weighted_overlap(a, b):\n",
    "    overlap = get_overlap(a, b)\n",
    "    a_counter = collections.Counter(a.split())\n",
    "    #calculate\n",
    "    weighted_overlap = 0\n",
    "    for word in overlap:\n",
    "\n",
    "        word_tf = a_counter[word]#/len(a.split()) -> commented out cause division by constant value doesn't matter\n",
    "\n",
    "        get_idf = dict_idf.get(word)\n",
    "        word_idf = 1 if get_idf == None else get_idf #get rid of error when idf not in dict\n",
    "\n",
    "        word_tfidf = word_tf*word_idf\n",
    "        weighted_overlap+=overlap[word]*word_tfidf\n",
    "\n",
    "    return weighted_overlap\n",
    "\n",
    "# 0 = nonclickbait_l_c\n",
    "# 1 = clickbait_l_c\n",
    "\n",
    "def get_closest_sentence_tfidf(sentence, style_src):\n",
    "    opposite_dataset = clickbait_l_c if style_src else nonclickbait_l_c\n",
    "\n",
    "    highest_overlap = 0\n",
    "    closest_sentence = \"\"\n",
    "\n",
    "    min_attribute_markers=len(get_attribute_sentence(sentence, 1, 2, \"clickbait\", 4 ))\n",
    "\n",
    "    print(min_attribute_markers)\n",
    "    num_markers = 0\n",
    "\n",
    "    previous_sentences = []\n",
    "    backoff_count = 0\n",
    "    while(num_markers < min_attribute_markers and backoff_count < param_backoff_limit):\n",
    "        for sentence_b in opposite_dataset:\n",
    "            weighted_overlap = get_weighted_overlap(sentence, sentence_b)\n",
    "            if weighted_overlap > highest_overlap and sentence_b not in previous_sentences:\n",
    "                highest_overlap = weighted_overlap\n",
    "                closest_sentence = sentence_b\n",
    "        highest_overlap = 0\n",
    "        backoff_count += 1\n",
    "        previous_sentences.append(closest_sentence)\n",
    "        num_markers = len((get_attribute_sentence(closest_sentence, 1, 2, \"clickbait\", 4 )))\n",
    "\n",
    "    return closest_sentence\n",
    "\n",
    "# Retrieve using tfidf\n",
    "def retrieve(sentence, style_src):\n",
    "    similar_stc =  get_closest_sentence_tfidf(sentence, 1)\n",
    "    return separate(similar_stc, \"clickbait\")"
   ],
   "metadata": {
    "collapsed": false
   }
  },
  {
   "cell_type": "code",
   "execution_count": 216,
   "outputs": [
    {
     "name": "stdout",
     "output_type": "stream",
     "text": [
      "[('ditahan',) ('56',) ('setelah',) ('pulangkan',) ('polisi',)\n",
      " ('mahasiswa',) ('dpr',) ('usai',) ('di',) ('demo',) ('sempat',)\n",
      " ('ditahan', 'usai') ('di', 'dpr') ('mahasiswa', 'setelah')\n",
      " ('setelah', 'sempat') ('polisi', 'pulangkan') ('pulangkan', '56')\n",
      " ('usai', 'demo') ('56', 'mahasiswa') ('demo', 'di') ('sempat', 'ditahan')]\n",
      "0\n"
     ]
    },
    {
     "name": "stderr",
     "output_type": "stream",
     "text": [
      "/var/folders/1n/2gdy6g815s301ygx2s35p6_80000gp/T/ipykernel_57094/4054946038.py:16: VisibleDeprecationWarning: Creating an ndarray from ragged nested sequences (which is a list-or-tuple of lists-or-tuples-or ndarrays with different lengths or shapes) is deprecated. If you meant to do this, you must specify 'dtype=object' when creating the ndarray.\n",
      "  return np.array(ngram_compare_arr)\n"
     ]
    },
    {
     "ename": "ValueError",
     "evalue": "all the input array dimensions for the concatenation axis must match exactly, but along dimension 1, the array at index 0 has size 1 and the array at index 1 has size 21",
     "output_type": "error",
     "traceback": [
      "\u001B[0;31m---------------------------------------------------------------------------\u001B[0m",
      "\u001B[0;31mValueError\u001B[0m                                Traceback (most recent call last)",
      "Input \u001B[0;32mIn [216]\u001B[0m, in \u001B[0;36m<cell line: 6>\u001B[0;34m()\u001B[0m\n\u001B[1;32m      1\u001B[0m \u001B[38;5;66;03m# stc_test_retrieve = \"rumah mewah\"\u001B[39;00m\n\u001B[1;32m      2\u001B[0m \u001B[38;5;66;03m# stc_test_retrieve = \"jalan kabur\"\u001B[39;00m\n\u001B[1;32m      3\u001B[0m \u001B[38;5;66;03m# stc_test_retrieve = \"tokoh papua\"\u001B[39;00m\n\u001B[1;32m      4\u001B[0m stc_test_2 \u001B[38;5;241m=\u001B[39m \u001B[38;5;124m\"\u001B[39m\u001B[38;5;124mpolisi pulangkan 56 mahasiswa setelah sempat ditahan usai demo di dpr\u001B[39m\u001B[38;5;124m\"\u001B[39m\n\u001B[0;32m----> 6\u001B[0m t2 \u001B[38;5;241m=\u001B[39m \u001B[43mget_closest_sentence_tfidf\u001B[49m\u001B[43m(\u001B[49m\u001B[43mstc_test_2\u001B[49m\u001B[43m,\u001B[49m\u001B[43m \u001B[49m\u001B[38;5;241;43m1\u001B[39;49m\u001B[43m)\u001B[49m\n",
      "Input \u001B[0;32mIn [209]\u001B[0m, in \u001B[0;36mget_closest_sentence_tfidf\u001B[0;34m(sentence, style_src)\u001B[0m\n\u001B[1;32m     31\u001B[0m highest_overlap \u001B[38;5;241m=\u001B[39m \u001B[38;5;241m0\u001B[39m\n\u001B[1;32m     32\u001B[0m closest_sentence \u001B[38;5;241m=\u001B[39m \u001B[38;5;124m\"\u001B[39m\u001B[38;5;124m\"\u001B[39m\n\u001B[0;32m---> 34\u001B[0m min_attribute_markers\u001B[38;5;241m=\u001B[39m\u001B[38;5;28mlen\u001B[39m(\u001B[43mget_attribute_sentence\u001B[49m\u001B[43m(\u001B[49m\u001B[43msentence\u001B[49m\u001B[43m,\u001B[49m\u001B[43m \u001B[49m\u001B[38;5;241;43m1\u001B[39;49m\u001B[43m,\u001B[49m\u001B[43m \u001B[49m\u001B[38;5;241;43m2\u001B[39;49m\u001B[43m,\u001B[49m\u001B[43m \u001B[49m\u001B[38;5;124;43m\"\u001B[39;49m\u001B[38;5;124;43mclickbait\u001B[39;49m\u001B[38;5;124;43m\"\u001B[39;49m\u001B[43m,\u001B[49m\u001B[43m \u001B[49m\u001B[38;5;241;43m4\u001B[39;49m\u001B[43m \u001B[49m\u001B[43m)\u001B[49m)\n\u001B[1;32m     36\u001B[0m \u001B[38;5;28mprint\u001B[39m(min_attribute_markers)\n\u001B[1;32m     37\u001B[0m num_markers \u001B[38;5;241m=\u001B[39m \u001B[38;5;241m0\u001B[39m\n",
      "Input \u001B[0;32mIn [213]\u001B[0m, in \u001B[0;36mget_attribute_sentence\u001B[0;34m(sentence, min_length, max_length, ref_bait, param_threshold)\u001B[0m\n\u001B[1;32m     43\u001B[0m \u001B[38;5;28mprint\u001B[39m(de)\n\u001B[1;32m     44\u001B[0m \u001B[38;5;28mprint\u001B[39m(importances)\n\u001B[0;32m---> 45\u001B[0m importances_t \u001B[38;5;241m=\u001B[39m \u001B[43mnp\u001B[49m\u001B[38;5;241;43m.\u001B[39;49m\u001B[43mvstack\u001B[49m\u001B[43m(\u001B[49m\u001B[43m(\u001B[49m\u001B[43mimportances\u001B[49m\u001B[43m,\u001B[49m\u001B[43m \u001B[49m\u001B[43mde\u001B[49m\u001B[43m)\u001B[49m\u001B[43m)\u001B[49m\u001B[38;5;241m.\u001B[39mT\n\u001B[1;32m     47\u001B[0m attribute_words \u001B[38;5;241m=\u001B[39m []\n\u001B[1;32m     48\u001B[0m \u001B[38;5;28;01mfor\u001B[39;00m importance \u001B[38;5;129;01min\u001B[39;00m importances_t:\n",
      "File \u001B[0;32m<__array_function__ internals>:180\u001B[0m, in \u001B[0;36mvstack\u001B[0;34m(*args, **kwargs)\u001B[0m\n",
      "File \u001B[0;32m~/.conda/envs/workspace/lib/python3.8/site-packages/numpy/core/shape_base.py:282\u001B[0m, in \u001B[0;36mvstack\u001B[0;34m(tup)\u001B[0m\n\u001B[1;32m    280\u001B[0m \u001B[38;5;28;01mif\u001B[39;00m \u001B[38;5;129;01mnot\u001B[39;00m \u001B[38;5;28misinstance\u001B[39m(arrs, \u001B[38;5;28mlist\u001B[39m):\n\u001B[1;32m    281\u001B[0m     arrs \u001B[38;5;241m=\u001B[39m [arrs]\n\u001B[0;32m--> 282\u001B[0m \u001B[38;5;28;01mreturn\u001B[39;00m \u001B[43m_nx\u001B[49m\u001B[38;5;241;43m.\u001B[39;49m\u001B[43mconcatenate\u001B[49m\u001B[43m(\u001B[49m\u001B[43marrs\u001B[49m\u001B[43m,\u001B[49m\u001B[43m \u001B[49m\u001B[38;5;241;43m0\u001B[39;49m\u001B[43m)\u001B[49m\n",
      "File \u001B[0;32m<__array_function__ internals>:180\u001B[0m, in \u001B[0;36mconcatenate\u001B[0;34m(*args, **kwargs)\u001B[0m\n",
      "\u001B[0;31mValueError\u001B[0m: all the input array dimensions for the concatenation axis must match exactly, but along dimension 1, the array at index 0 has size 1 and the array at index 1 has size 21"
     ]
    }
   ],
   "source": [
    "# stc_test_retrieve = \"rumah mewah\"\n",
    "# stc_test_retrieve = \"jalan kabur\"\n",
    "# stc_test_retrieve = \"tokoh papua\"\n",
    "stc_test_2 = \"polisi pulangkan 56 mahasiswa setelah sempat ditahan usai demo di dpr\"\n",
    "\n",
    "t2 = get_closest_sentence_tfidf(stc_test_2, 1)\n",
    "# retrieve(stc_test_retrieve, 0)"
   ],
   "metadata": {
    "collapsed": false
   }
  },
  {
   "cell_type": "markdown",
   "source": [
    "# Generate: Dictionary Preprocess"
   ],
   "metadata": {
    "collapsed": false
   }
  },
  {
   "cell_type": "code",
   "execution_count": null,
   "outputs": [],
   "source": [],
   "metadata": {
    "collapsed": false
   }
  },
  {
   "cell_type": "code",
   "execution_count": null,
   "outputs": [],
   "source": [],
   "metadata": {
    "collapsed": false
   }
  },
  {
   "cell_type": "code",
   "execution_count": 95,
   "outputs": [
    {
     "ename": "NameError",
     "evalue": "name 'test_retrive' is not defined",
     "output_type": "error",
     "traceback": [
      "\u001B[0;31m---------------------------------------------------------------------------\u001B[0m",
      "\u001B[0;31mNameError\u001B[0m                                 Traceback (most recent call last)",
      "Input \u001B[0;32mIn [95]\u001B[0m, in \u001B[0;36m<cell line: 1>\u001B[0;34m()\u001B[0m\n\u001B[0;32m----> 1\u001B[0m \u001B[38;5;28mprint\u001B[39m(\u001B[43mtest_retrive\u001B[49m)\n",
      "\u001B[0;31mNameError\u001B[0m: name 'test_retrive' is not defined"
     ]
    }
   ],
   "source": [],
   "metadata": {
    "collapsed": false
   }
  },
  {
   "cell_type": "code",
   "execution_count": null,
   "outputs": [],
   "source": [],
   "metadata": {
    "collapsed": false
   }
  },
  {
   "cell_type": "markdown",
   "source": [
    "# Dataset:  Train, Validation, Test Split"
   ],
   "metadata": {
    "collapsed": false
   }
  },
  {
   "cell_type": "code",
   "execution_count": 22,
   "outputs": [],
   "source": [],
   "metadata": {
    "collapsed": false
   }
  },
  {
   "cell_type": "markdown",
   "source": [
    "# NN Model : Encoder, Decoder, Seq2Seq"
   ],
   "metadata": {
    "collapsed": false
   }
  },
  {
   "cell_type": "code",
   "execution_count": 22,
   "outputs": [],
   "source": [],
   "metadata": {
    "collapsed": false
   }
  },
  {
   "cell_type": "markdown",
   "source": [
    "# Training: Training & Validation"
   ],
   "metadata": {
    "collapsed": false
   }
  },
  {
   "cell_type": "code",
   "execution_count": 22,
   "outputs": [],
   "source": [],
   "metadata": {
    "collapsed": false
   }
  }
 ],
 "metadata": {
  "kernelspec": {
   "display_name": "Python 3",
   "language": "python",
   "name": "python3"
  },
  "language_info": {
   "codemirror_mode": {
    "name": "ipython",
    "version": 2
   },
   "file_extension": ".py",
   "mimetype": "text/x-python",
   "name": "python",
   "nbconvert_exporter": "python",
   "pygments_lexer": "ipython2",
   "version": "2.7.6"
  }
 },
 "nbformat": 4,
 "nbformat_minor": 0
}
