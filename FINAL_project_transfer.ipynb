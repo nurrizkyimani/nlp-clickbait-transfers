{
 "cells": [
  {
   "cell_type": "markdown",
   "source": [
    "# Mount Google Drive"
   ],
   "metadata": {
    "collapsed": false
   }
  },
  {
   "cell_type": "code",
   "execution_count": 5,
   "outputs": [],
   "source": [
    "# from google.colab import drive\n",
    "# drive.mount(\"/content/drive/\")"
   ],
   "metadata": {
    "collapsed": false
   }
  },
  {
   "cell_type": "code",
   "execution_count": 6,
   "outputs": [],
   "source": [
    "# !pip3 install fse\n",
    "# !pip3 install pytorch-nlp\n",
    "\n",
    "# conda install -c anaconda nltk\n",
    "#  conda install -c anaconda pandas\n",
    "# conda create -n sklearn-env -c conda-forge scikit-learn\n",
    "# conda activate sklearn-env\n",
    "# conda install pytorch torchvision torchaudio -c pytorch"
   ],
   "metadata": {
    "collapsed": false
   }
  },
  {
   "cell_type": "markdown",
   "source": [
    "# Import Libraries"
   ],
   "metadata": {
    "collapsed": false
   }
  },
  {
   "cell_type": "code",
   "execution_count": 7,
   "metadata": {
    "collapsed": true
   },
   "outputs": [
    {
     "name": "stderr",
     "output_type": "stream",
     "text": [
      "/Users/nurrizkyimani/.conda/envs/workspace/lib/python3.8/site-packages/scipy/__init__.py:146: UserWarning: A NumPy version >=1.16.5 and <1.23.0 is required for this version of SciPy (detected version 1.23.2\n",
      "  warnings.warn(f\"A NumPy version >={np_minversion} and <{np_maxversion}\"\n",
      "[nltk_data] Downloading package punkt to\n",
      "[nltk_data]     /Users/nurrizkyimani/nltk_data...\n",
      "[nltk_data]   Package punkt is already up-to-date!\n",
      "[nltk_data] Downloading package punkt to\n",
      "[nltk_data]     /Users/nurrizkyimani/nltk_data...\n",
      "[nltk_data]   Package punkt is already up-to-date!\n"
     ]
    }
   ],
   "source": [
    "import numpy as np # linear algebra\n",
    "import pandas as pd # data processing, CSV file I/O (e.g. pd.read_csv)\n",
    "\n",
    "import os\n",
    "\n",
    "import re\n",
    "import string\n",
    "import collections\n",
    "import fse\n",
    "import random\n",
    "\n",
    "import random\n",
    "import math\n",
    "import time\n",
    "\n",
    "import itertools\n",
    "import torch\n",
    "import torch.nn as nn\n",
    "from torch import optim\n",
    "import torch.nn.functional as F\n",
    "from torchnlp.metrics import get_moses_multi_bleu\n",
    "\n",
    "device = torch.device(\"cuda\" if torch.cuda.is_available() else \"cpu\")\n",
    "torch.manual_seed(1)\n",
    "\n",
    "import nltk\n",
    "nltk.download('punkt')\n",
    "\n",
    "import nltk\n",
    "from nltk.util import ngrams\n",
    "nltk.download('punkt')\n",
    "from collections import Counter\n",
    "\n",
    "from sklearn.feature_extraction.text import TfidfVectorizer\n",
    "from torch.utils.data import Subset\n",
    "from sklearn.model_selection import train_test_split\n",
    "\n",
    "# Any results you write to the current directory are saved as output."
   ]
  },
  {
   "cell_type": "markdown",
   "source": [
    "# Importing Dataset GDrive"
   ],
   "metadata": {
    "collapsed": false
   }
  },
  {
   "cell_type": "code",
   "execution_count": 8,
   "outputs": [],
   "source": [
    "# # import dataset from google drive\n",
    "# path = \"/content/drive/MyDrive/nlp_research/2022_thesis_styletransfer/annotated/combined/csv/\"\n",
    "# all_agree_path = path + \"all_agree.csv\"\n",
    "# all_agree_pd = pd.read_csv(all_agree_path)\n",
    "# df_clickbait = all_agree_pd[all_agree_pd['label'] == \"clickbait\"]\n",
    "# df_nonclickbait = all_agree_pd[all_agree_pd['label'] == \"non-clickbait\"]\n",
    "# df_both = pd.concat((df_clickbait, df_nonclickbait), ignore_index=True)\n",
    "#\n",
    "# df_both_copy = df_both.copy()\n",
    "# df_both_copy['label'] = df_both_copy['label'].astype('category')\n",
    "# df_both_copy.head(-1)"
   ],
   "metadata": {
    "collapsed": false
   }
  },
  {
   "cell_type": "markdown",
   "source": [
    "# Importing dataset"
   ],
   "metadata": {
    "collapsed": false
   }
  },
  {
   "cell_type": "code",
   "execution_count": 9,
   "outputs": [
    {
     "data": {
      "text/plain": "                                                  title          label  \\\n0     Viral! Driver Ojol di Bekasi Antar Pesanan Mak...      clickbait   \n1     Ada Motor Nyangkut di Atas Bambu di Sleman, Ko...      clickbait   \n2          Pesan Gamblang Poyuono Menolak Revisi UU KPK      clickbait   \n3     Kocak! Maling di Rumah Mewah Jakut Terekam CCT...      clickbait   \n4     Viral Video Diduga Baku Tembak di Sleman, Ini ...      clickbait   \n...                                                 ...            ...   \n8607  Smart SIM Diluncurkan, Wakapolri Harap Bisa Me...  non-clickbait   \n8608  Wamena Papua Kembali Membara, Kantor Bupati Di...  non-clickbait   \n8609         BMKG Angkat Bicara Soal Langit Merah Jambi  non-clickbait   \n8610  Operasional Bandara Wamena Dihentikan Akibat R...  non-clickbait   \n8611   Asap Karhutla Riau Mulai Merambah Ke Nias, BM...  non-clickbait   \n\n      label_score  \n0               1  \n1               1  \n2               1  \n3               1  \n4               1  \n...           ...  \n8607            0  \n8608            0  \n8609            0  \n8610            0  \n8611            0  \n\n[8612 rows x 3 columns]",
      "text/html": "<div>\n<style scoped>\n    .dataframe tbody tr th:only-of-type {\n        vertical-align: middle;\n    }\n\n    .dataframe tbody tr th {\n        vertical-align: top;\n    }\n\n    .dataframe thead th {\n        text-align: right;\n    }\n</style>\n<table border=\"1\" class=\"dataframe\">\n  <thead>\n    <tr style=\"text-align: right;\">\n      <th></th>\n      <th>title</th>\n      <th>label</th>\n      <th>label_score</th>\n    </tr>\n  </thead>\n  <tbody>\n    <tr>\n      <th>0</th>\n      <td>Viral! Driver Ojol di Bekasi Antar Pesanan Mak...</td>\n      <td>clickbait</td>\n      <td>1</td>\n    </tr>\n    <tr>\n      <th>1</th>\n      <td>Ada Motor Nyangkut di Atas Bambu di Sleman, Ko...</td>\n      <td>clickbait</td>\n      <td>1</td>\n    </tr>\n    <tr>\n      <th>2</th>\n      <td>Pesan Gamblang Poyuono Menolak Revisi UU KPK</td>\n      <td>clickbait</td>\n      <td>1</td>\n    </tr>\n    <tr>\n      <th>3</th>\n      <td>Kocak! Maling di Rumah Mewah Jakut Terekam CCT...</td>\n      <td>clickbait</td>\n      <td>1</td>\n    </tr>\n    <tr>\n      <th>4</th>\n      <td>Viral Video Diduga Baku Tembak di Sleman, Ini ...</td>\n      <td>clickbait</td>\n      <td>1</td>\n    </tr>\n    <tr>\n      <th>...</th>\n      <td>...</td>\n      <td>...</td>\n      <td>...</td>\n    </tr>\n    <tr>\n      <th>8607</th>\n      <td>Smart SIM Diluncurkan, Wakapolri Harap Bisa Me...</td>\n      <td>non-clickbait</td>\n      <td>0</td>\n    </tr>\n    <tr>\n      <th>8608</th>\n      <td>Wamena Papua Kembali Membara, Kantor Bupati Di...</td>\n      <td>non-clickbait</td>\n      <td>0</td>\n    </tr>\n    <tr>\n      <th>8609</th>\n      <td>BMKG Angkat Bicara Soal Langit Merah Jambi</td>\n      <td>non-clickbait</td>\n      <td>0</td>\n    </tr>\n    <tr>\n      <th>8610</th>\n      <td>Operasional Bandara Wamena Dihentikan Akibat R...</td>\n      <td>non-clickbait</td>\n      <td>0</td>\n    </tr>\n    <tr>\n      <th>8611</th>\n      <td>Asap Karhutla Riau Mulai Merambah Ke Nias, BM...</td>\n      <td>non-clickbait</td>\n      <td>0</td>\n    </tr>\n  </tbody>\n</table>\n<p>8612 rows × 3 columns</p>\n</div>"
     },
     "execution_count": 9,
     "metadata": {},
     "output_type": "execute_result"
    }
   ],
   "source": [
    "# Import the csv\n",
    "all_agree_path = \"2022_thesis_styletransfer/annotated/combined/csv/all_agree.csv\"\n",
    "all_agree_pd = pd.read_csv(all_agree_path)\n",
    "df_clickbait = all_agree_pd[all_agree_pd['label'] == \"clickbait\"]\n",
    "df_nonclickbait = all_agree_pd[all_agree_pd['label'] == \"non-clickbait\"]\n",
    "df_both = pd.concat((df_clickbait, df_nonclickbait), ignore_index=True)\n",
    "\n",
    "df_both_copy = df_both.copy()\n",
    "df_both_copy['label'] = df_both_copy['label'].astype('category')\n",
    "df_both_copy.head(-1)"
   ],
   "metadata": {
    "collapsed": false
   }
  },
  {
   "cell_type": "code",
   "execution_count": 10,
   "outputs": [
    {
     "data": {
      "text/plain": "                                                  title  label_score\n0     Viral! Driver Ojol di Bekasi Antar Pesanan Mak...            1\n1     Ada Motor Nyangkut di Atas Bambu di Sleman, Ko...            1\n2          Pesan Gamblang Poyuono Menolak Revisi UU KPK            1\n3     Kocak! Maling di Rumah Mewah Jakut Terekam CCT...            1\n4     Viral Video Diduga Baku Tembak di Sleman, Ini ...            1\n...                                                 ...          ...\n8603  Komnas HAM Minta Aparat Keamanan Tak Gunakan K...            0\n8604  Mahasiswa Minta TNI Turun Bersama Kawal Aksi D...            0\n8605  Polisi Pulangkan 56 Mahasiswa Setelah Sempat D...            0\n8606  KPK Tepis Tudingan Moeldoko Soal Hambat Investasi            0\n8607  Smart SIM Diluncurkan, Wakapolri Harap Bisa Me...            0\n\n[8608 rows x 2 columns]",
      "text/html": "<div>\n<style scoped>\n    .dataframe tbody tr th:only-of-type {\n        vertical-align: middle;\n    }\n\n    .dataframe tbody tr th {\n        vertical-align: top;\n    }\n\n    .dataframe thead th {\n        text-align: right;\n    }\n</style>\n<table border=\"1\" class=\"dataframe\">\n  <thead>\n    <tr style=\"text-align: right;\">\n      <th></th>\n      <th>title</th>\n      <th>label_score</th>\n    </tr>\n  </thead>\n  <tbody>\n    <tr>\n      <th>0</th>\n      <td>Viral! Driver Ojol di Bekasi Antar Pesanan Mak...</td>\n      <td>1</td>\n    </tr>\n    <tr>\n      <th>1</th>\n      <td>Ada Motor Nyangkut di Atas Bambu di Sleman, Ko...</td>\n      <td>1</td>\n    </tr>\n    <tr>\n      <th>2</th>\n      <td>Pesan Gamblang Poyuono Menolak Revisi UU KPK</td>\n      <td>1</td>\n    </tr>\n    <tr>\n      <th>3</th>\n      <td>Kocak! Maling di Rumah Mewah Jakut Terekam CCT...</td>\n      <td>1</td>\n    </tr>\n    <tr>\n      <th>4</th>\n      <td>Viral Video Diduga Baku Tembak di Sleman, Ini ...</td>\n      <td>1</td>\n    </tr>\n    <tr>\n      <th>...</th>\n      <td>...</td>\n      <td>...</td>\n    </tr>\n    <tr>\n      <th>8603</th>\n      <td>Komnas HAM Minta Aparat Keamanan Tak Gunakan K...</td>\n      <td>0</td>\n    </tr>\n    <tr>\n      <th>8604</th>\n      <td>Mahasiswa Minta TNI Turun Bersama Kawal Aksi D...</td>\n      <td>0</td>\n    </tr>\n    <tr>\n      <th>8605</th>\n      <td>Polisi Pulangkan 56 Mahasiswa Setelah Sempat D...</td>\n      <td>0</td>\n    </tr>\n    <tr>\n      <th>8606</th>\n      <td>KPK Tepis Tudingan Moeldoko Soal Hambat Investasi</td>\n      <td>0</td>\n    </tr>\n    <tr>\n      <th>8607</th>\n      <td>Smart SIM Diluncurkan, Wakapolri Harap Bisa Me...</td>\n      <td>0</td>\n    </tr>\n  </tbody>\n</table>\n<p>8608 rows × 2 columns</p>\n</div>"
     },
     "execution_count": 10,
     "metadata": {},
     "output_type": "execute_result"
    }
   ],
   "source": [
    "df_both_label = df_both_copy.drop('label_score', axis=1)\n",
    "df_both = df_both_copy.drop('label', axis=1)\n",
    "df_both.head(-5)"
   ],
   "metadata": {
    "collapsed": false
   }
  },
  {
   "cell_type": "code",
   "execution_count": 11,
   "outputs": [
    {
     "data": {
      "text/plain": "8613"
     },
     "execution_count": 11,
     "metadata": {},
     "output_type": "execute_result"
    }
   ],
   "source": [
    "len(df_both)"
   ],
   "metadata": {
    "collapsed": false
   }
  },
  {
   "cell_type": "code",
   "execution_count": 12,
   "outputs": [
    {
     "data": {
      "text/plain": "                                               title      label  \\\n0  Viral! Driver Ojol di Bekasi Antar Pesanan Mak...  clickbait   \n1  Ada Motor Nyangkut di Atas Bambu di Sleman, Ko...  clickbait   \n2       Pesan Gamblang Poyuono Menolak Revisi UU KPK  clickbait   \n3  Kocak! Maling di Rumah Mewah Jakut Terekam CCT...  clickbait   \n4  Viral Video Diduga Baku Tembak di Sleman, Ini ...  clickbait   \n\n   label_encoding  \n0               0  \n1               0  \n2               0  \n3               0  \n4               0  ",
      "text/html": "<div>\n<style scoped>\n    .dataframe tbody tr th:only-of-type {\n        vertical-align: middle;\n    }\n\n    .dataframe tbody tr th {\n        vertical-align: top;\n    }\n\n    .dataframe thead th {\n        text-align: right;\n    }\n</style>\n<table border=\"1\" class=\"dataframe\">\n  <thead>\n    <tr style=\"text-align: right;\">\n      <th></th>\n      <th>title</th>\n      <th>label</th>\n      <th>label_encoding</th>\n    </tr>\n  </thead>\n  <tbody>\n    <tr>\n      <th>0</th>\n      <td>Viral! Driver Ojol di Bekasi Antar Pesanan Mak...</td>\n      <td>clickbait</td>\n      <td>0</td>\n    </tr>\n    <tr>\n      <th>1</th>\n      <td>Ada Motor Nyangkut di Atas Bambu di Sleman, Ko...</td>\n      <td>clickbait</td>\n      <td>0</td>\n    </tr>\n    <tr>\n      <th>2</th>\n      <td>Pesan Gamblang Poyuono Menolak Revisi UU KPK</td>\n      <td>clickbait</td>\n      <td>0</td>\n    </tr>\n    <tr>\n      <th>3</th>\n      <td>Kocak! Maling di Rumah Mewah Jakut Terekam CCT...</td>\n      <td>clickbait</td>\n      <td>0</td>\n    </tr>\n    <tr>\n      <th>4</th>\n      <td>Viral Video Diduga Baku Tembak di Sleman, Ini ...</td>\n      <td>clickbait</td>\n      <td>0</td>\n    </tr>\n  </tbody>\n</table>\n</div>"
     },
     "execution_count": 12,
     "metadata": {},
     "output_type": "execute_result"
    }
   ],
   "source": [
    "from sklearn.preprocessing import LabelEncoder\n",
    "\n",
    "labelencoder = LabelEncoder()\n",
    "df_both_copy['label_encoding'] = labelencoder.fit_transform(df_both_copy['label'])\n",
    "df_encode_clean = df_both_copy.copy()\n",
    "df_encode_clean = df_both = df_both_copy.drop(['label_score'], axis=1)\n",
    "df_encode_clean.head()"
   ],
   "metadata": {
    "collapsed": false
   }
  },
  {
   "cell_type": "markdown",
   "source": [
    "# Preprocessing : Lower Casing"
   ],
   "metadata": {
    "collapsed": false
   }
  },
  {
   "cell_type": "code",
   "execution_count": 16,
   "outputs": [
    {
     "data": {
      "text/plain": "0       viral! driver ojol di bekasi antar pesanan mak...\n1       ada motor nyangkut di atas bambu di sleman, ko...\n2            pesan gamblang poyuono menolak revisi uu kpk\n3       kocak! maling di rumah mewah jakut terekam cct...\n4       viral video diduga baku tembak di sleman, ini ...\n                              ...                        \n8608    wamena papua kembali membara, kantor bupati di...\n8609           bmkg angkat bicara soal langit merah jambi\n8610    operasional bandara wamena dihentikan akibat r...\n8611     asap karhutla riau mulai merambah ke nias, bm...\n8612    tolak ruu pertanahan, ribuan petani siap gelar...\nName: title, Length: 8613, dtype: object"
     },
     "execution_count": 16,
     "metadata": {},
     "output_type": "execute_result"
    }
   ],
   "source": [
    "# preprocessing : lower casing\n",
    "df_encode_clean['title'] = df_encode_clean['title'].str.lower()\n",
    "df_encode_clean.title"
   ],
   "metadata": {
    "collapsed": false
   }
  },
  {
   "cell_type": "markdown",
   "source": [
    "Convert the titl into lower case for all label"
   ],
   "metadata": {
    "collapsed": false
   }
  },
  {
   "cell_type": "code",
   "execution_count": 17,
   "outputs": [
    {
     "data": {
      "text/plain": "                                                  title          label  \\\n0     viral ! driver ojol di bekasi antar pesanan ma...      clickbait   \n1     ada motor nyangkut di atas bambu di sleman , k...      clickbait   \n2          pesan gamblang poyuono menolak revisi uu kpk      clickbait   \n3     kocak ! maling di rumah mewah jakut terekam cc...      clickbait   \n4     viral video diduga baku tembak di sleman , ini...      clickbait   \n...                                                 ...            ...   \n8608  wamena papua kembali membara , kantor bupati d...  non-clickbait   \n8609         bmkg angkat bicara soal langit merah jambi  non-clickbait   \n8610  operasional bandara wamena dihentikan akibat r...  non-clickbait   \n8611  asap karhutla riau mulai merambah ke nias , bm...  non-clickbait   \n8612  tolak ruu pertanahan , ribuan petani siap gela...  non-clickbait   \n\n      label_encoding  \n0                  0  \n1                  0  \n2                  0  \n3                  0  \n4                  0  \n...              ...  \n8608               1  \n8609               1  \n8610               1  \n8611               1  \n8612               1  \n\n[8613 rows x 3 columns]",
      "text/html": "<div>\n<style scoped>\n    .dataframe tbody tr th:only-of-type {\n        vertical-align: middle;\n    }\n\n    .dataframe tbody tr th {\n        vertical-align: top;\n    }\n\n    .dataframe thead th {\n        text-align: right;\n    }\n</style>\n<table border=\"1\" class=\"dataframe\">\n  <thead>\n    <tr style=\"text-align: right;\">\n      <th></th>\n      <th>title</th>\n      <th>label</th>\n      <th>label_encoding</th>\n    </tr>\n  </thead>\n  <tbody>\n    <tr>\n      <th>0</th>\n      <td>viral ! driver ojol di bekasi antar pesanan ma...</td>\n      <td>clickbait</td>\n      <td>0</td>\n    </tr>\n    <tr>\n      <th>1</th>\n      <td>ada motor nyangkut di atas bambu di sleman , k...</td>\n      <td>clickbait</td>\n      <td>0</td>\n    </tr>\n    <tr>\n      <th>2</th>\n      <td>pesan gamblang poyuono menolak revisi uu kpk</td>\n      <td>clickbait</td>\n      <td>0</td>\n    </tr>\n    <tr>\n      <th>3</th>\n      <td>kocak ! maling di rumah mewah jakut terekam cc...</td>\n      <td>clickbait</td>\n      <td>0</td>\n    </tr>\n    <tr>\n      <th>4</th>\n      <td>viral video diduga baku tembak di sleman , ini...</td>\n      <td>clickbait</td>\n      <td>0</td>\n    </tr>\n    <tr>\n      <th>...</th>\n      <td>...</td>\n      <td>...</td>\n      <td>...</td>\n    </tr>\n    <tr>\n      <th>8608</th>\n      <td>wamena papua kembali membara , kantor bupati d...</td>\n      <td>non-clickbait</td>\n      <td>1</td>\n    </tr>\n    <tr>\n      <th>8609</th>\n      <td>bmkg angkat bicara soal langit merah jambi</td>\n      <td>non-clickbait</td>\n      <td>1</td>\n    </tr>\n    <tr>\n      <th>8610</th>\n      <td>operasional bandara wamena dihentikan akibat r...</td>\n      <td>non-clickbait</td>\n      <td>1</td>\n    </tr>\n    <tr>\n      <th>8611</th>\n      <td>asap karhutla riau mulai merambah ke nias , bm...</td>\n      <td>non-clickbait</td>\n      <td>1</td>\n    </tr>\n    <tr>\n      <th>8612</th>\n      <td>tolak ruu pertanahan , ribuan petani siap gela...</td>\n      <td>non-clickbait</td>\n      <td>1</td>\n    </tr>\n  </tbody>\n</table>\n<p>8613 rows × 3 columns</p>\n</div>"
     },
     "execution_count": 17,
     "metadata": {},
     "output_type": "execute_result"
    }
   ],
   "source": [
    "# Add space between punctuation\n",
    "df_encode_clean_t =  df_encode_clean.copy()\n",
    "df_encode_clean_t['title'] = df_encode_clean_t['title'].apply(lambda y: \" \".join((re.sub(r'([!/?/./,/%/\\'/\\\"/-/:])', lambda x: ' ' + x.group()+' ' , y)).split()) , 1)\n",
    "df_encode_clean_t"
   ],
   "metadata": {
    "collapsed": false
   }
  },
  {
   "cell_type": "code",
   "execution_count": 18,
   "outputs": [],
   "source": [
    "# separate between clickbait clean and nonclickbait clean\n",
    "df_clickbait_clean = df_encode_clean_t[df_encode_clean_t['label'] == \"clickbait\"]\n",
    "df_nonclickbait_clean = df_encode_clean_t[df_encode_clean_t['label'] == \"non-clickbait\"]"
   ],
   "metadata": {
    "collapsed": false
   }
  },
  {
   "cell_type": "code",
   "execution_count": 18,
   "outputs": [],
   "source": [],
   "metadata": {
    "collapsed": false
   }
  },
  {
   "cell_type": "code",
   "execution_count": 19,
   "outputs": [],
   "source": [
    "# create a list form the combination of df_clickbait and nonclickbait\n",
    "\n",
    "d_both = pd.concat((df_clickbait_clean, df_nonclickbait_clean ), ignore_index=True)\n",
    "d_both = d_both.drop(['label', 'label_encoding'], axis=1)\n",
    "d_both = d_both.values.tolist()\n",
    "d_both = list(itertools.chain.from_iterable(d_both))"
   ],
   "metadata": {
    "collapsed": false
   }
  },
  {
   "cell_type": "code",
   "execution_count": 20,
   "outputs": [
    {
     "data": {
      "text/plain": "                                                  title  label_encoding\n0     viral ! driver ojol di bekasi antar pesanan ma...               0\n1     ada motor nyangkut di atas bambu di sleman , k...               0\n2          pesan gamblang poyuono menolak revisi uu kpk               0\n3     kocak ! maling di rumah mewah jakut terekam cc...               0\n4     viral video diduga baku tembak di sleman , ini...               0\n...                                                 ...             ...\n8608  wamena papua kembali membara , kantor bupati d...               1\n8609         bmkg angkat bicara soal langit merah jambi               1\n8610  operasional bandara wamena dihentikan akibat r...               1\n8611  asap karhutla riau mulai merambah ke nias , bm...               1\n8612  tolak ruu pertanahan , ribuan petani siap gela...               1\n\n[8613 rows x 2 columns]",
      "text/html": "<div>\n<style scoped>\n    .dataframe tbody tr th:only-of-type {\n        vertical-align: middle;\n    }\n\n    .dataframe tbody tr th {\n        vertical-align: top;\n    }\n\n    .dataframe thead th {\n        text-align: right;\n    }\n</style>\n<table border=\"1\" class=\"dataframe\">\n  <thead>\n    <tr style=\"text-align: right;\">\n      <th></th>\n      <th>title</th>\n      <th>label_encoding</th>\n    </tr>\n  </thead>\n  <tbody>\n    <tr>\n      <th>0</th>\n      <td>viral ! driver ojol di bekasi antar pesanan ma...</td>\n      <td>0</td>\n    </tr>\n    <tr>\n      <th>1</th>\n      <td>ada motor nyangkut di atas bambu di sleman , k...</td>\n      <td>0</td>\n    </tr>\n    <tr>\n      <th>2</th>\n      <td>pesan gamblang poyuono menolak revisi uu kpk</td>\n      <td>0</td>\n    </tr>\n    <tr>\n      <th>3</th>\n      <td>kocak ! maling di rumah mewah jakut terekam cc...</td>\n      <td>0</td>\n    </tr>\n    <tr>\n      <th>4</th>\n      <td>viral video diduga baku tembak di sleman , ini...</td>\n      <td>0</td>\n    </tr>\n    <tr>\n      <th>...</th>\n      <td>...</td>\n      <td>...</td>\n    </tr>\n    <tr>\n      <th>8608</th>\n      <td>wamena papua kembali membara , kantor bupati d...</td>\n      <td>1</td>\n    </tr>\n    <tr>\n      <th>8609</th>\n      <td>bmkg angkat bicara soal langit merah jambi</td>\n      <td>1</td>\n    </tr>\n    <tr>\n      <th>8610</th>\n      <td>operasional bandara wamena dihentikan akibat r...</td>\n      <td>1</td>\n    </tr>\n    <tr>\n      <th>8611</th>\n      <td>asap karhutla riau mulai merambah ke nias , bm...</td>\n      <td>1</td>\n    </tr>\n    <tr>\n      <th>8612</th>\n      <td>tolak ruu pertanahan , ribuan petani siap gela...</td>\n      <td>1</td>\n    </tr>\n  </tbody>\n</table>\n<p>8613 rows × 2 columns</p>\n</div>"
     },
     "execution_count": 20,
     "metadata": {},
     "output_type": "execute_result"
    }
   ],
   "source": [
    "d_both_clean = pd.concat((df_clickbait_clean, df_nonclickbait_clean ), ignore_index=True)\n",
    "d_both_clean = d_both_clean.drop(['label'], axis=1)\n",
    "d_both_clean"
   ],
   "metadata": {
    "collapsed": false
   }
  },
  {
   "cell_type": "code",
   "execution_count": 21,
   "outputs": [
    {
     "data": {
      "text/plain": "['viral ! driver ojol di bekasi antar pesanan makanan pakai sepeda',\n 'ada motor nyangkut di atas bambu di sleman , kok bisa ?',\n 'pesan gamblang poyuono menolak revisi uu kpk',\n 'kocak ! maling di rumah mewah jakut terekam cctv bingung cari jalan kabur',\n 'viral video diduga baku tembak di sleman , ini kata polisi',\n 'waspada ! ada penipuan catut pertamina , korbannya rugi puluhan juta',\n 'jaksa beberkan senpi-peluru tajam pembelian kivlan zen cs , ini rinciannya',\n 'sering quality time bersama keluarga ? ternyata ini 3 manfaatnya !',\n 'menteri jokowi 55 % profesional , ini kandidatnya ?',\n \"pria misterius berjubah putih viral di sumut , ingatkan ' tuhan murka '\",\n 'video porno di sumedang disebar pemeran pria , apa motifnya ?',\n 'terungkap ! video porno di sumedang diperankan pasangan selingkuh',\n 'kendaraan listrik bebas dari aturan ganjil-genap , ini alasannya',\n 'menanti \" kebijakan gila \" jokowi',\n 'akhirnya ! pemkot pekanbaru liburkan sd dan smp karena kabut asap',\n '2 ribu hektare lahan terbakar , udara di palembang tidak sehat !',\n 'viral bocah di bekasi disebut tewas akibat bully , begini kata ketua rt',\n 'anggota dprd banten ramai-ramai gadai sk , ini kata kemendagri',\n \"yuk ' bantu jokowi cari menteri ' , ikuti polling di detikcom !\",\n 'ini 10 poin aspirasi tokoh papua saat bertemu jokowi di istana',\n 'viral ! perampok bercelurit satroni rumah makan gratis untuk duafa di bogor',\n 'perhatian ! ini nama-nama kandidat menteri jokowi',\n \"pasang status ' single ' , inilah saat terakhir kehidupan novy chardon\",\n 'sidang gugatan ikan koi mati , saksi dari pln bicara ini',\n 'fenomena anggota dprd gadaikan sk ke bank , gejala apa ini ?',\n 'apa kabar denda rp 1 juta bagi pembeli di zona merah pkl bandung ?',\n 'geramnya keluarga pada hoax bj habibie meninggal dunia',\n 'video detik-detik mahasiswa merusak pagar dpr',\n 'ini penyebab sulitnya padamkan kebakaran di gunung sumbing',\n 'menlu indonesia-timor leste-australia bertemu di pbb , ini yang dibahas',\n 'ini lokasi diduga mahasiswa halu oleo kendari tertembak',\n 'purnomo-teguh daftar cawalkot solo , peluang gibran tertutup ?',\n 'rapat gabungan pimpinan mpr sepakat ubah tata tertib , ini rinciannya',\n 'panas ! mahasiswa-pendemo pro-uu kpk baru saling lempar botol di depan dpr',\n 'ylbhi sebut mahasiswa belum bisa dikontak usai demo di dpr , ini kata polri',\n \"video demo mahasiswa bandung yang sempat ' memanas '\",\n \"ini pengakuan ' gila ' pelaku pemerkosaan di bondowoso\",\n 'ini alasan hakim vonis seumur hidup prada deri yang mutilasi kekasihnya',\n 'tukang gigi ikut demo ruu kuhp , ini pasal yang sudah dibatalkan mk',\n 'beredar video polisi teriaki tni di mes pati tni al , ini penjelasan polri',\n 'bikin adem ! polwan surabaya lantunkan asmaul husna sambut pendemo',\n 'ini 7 tuntutan mahasiswa yang demo di depan dpr',\n 'ini alasan bogor dan bandung jadi kota favorit lomba sepeda',\n 'ada politikus hingga jurnalis , siapa paling cocok jadi mensos ?',\n 'pelajar demo ricuh hingga lewat tengah malam , ini kata mendikbud',\n \"' pasal unggas jalan-jalan ' di ruu kuhp ada kasus konkretnya , yuk baca !\",\n 'viral pelajar tewas saat hendak ikut demo dpr , begini kejadiannya',\n 'agar siswa tak demo turun ke jalan , ini yang dilakukan disdik jateng',\n 'seru ! ada mantan suami istri bertarung di pilkades serentak di sragen',\n \"gotong keranda mayat ' save kpk ' , massa gejayan memanggil : innalillahi . . .\",\n 'duarr ! bahan peledak terduga teroris jakut didisposal , warga tepuk tangan',\n 'ungkit aksi 1998 , ini 7 tuntutan massa #gejayanmemanggil',\n 'staf presiden berkunjung ke banyuwangi , ini lho tujuannya',\n 'ngeri ! aligator ditemukan hidup di kolam belakang sekolah',\n \"indonesia banyak ' dilirik ' saat sidang majelis umum pbb , ini alasannya\",\n 'mengenaskan ! dikira beruang liar , pria ini ditembak mati putranya',\n \"rkuhp denda gelandangan maksimal rp 1 juta , ini cerita para ' pengemis tajir '\",\n 'mulan jameela cs ditetapkan jadi anggota dpr , ini penjelasan gerindra',\n 'soal ruu kuhp , yuk baca lagi putusan mk soal zina dan lgbt',\n 'ini cara masyarakat simeulue mengantisipasi tsunami',\n \"ini rekayasa lalin di sekitar lokasi aksi ' gejayan memanggil '\",\n 'rusuh wamena , berikut ini rangkaian fakta-faktanya',\n 'gelombang demo tolak pelemahan kpk se-indonesia , ini titik-titiknya',\n 'bukan di china , ini long march massa aksi melintasi pertokoan magelang',\n \"viral cuitan ' sekolah yang pinter biar gajadi polisi ' , ridwan kamil : hoax !\",\n 'diskon ! naik trans semarang di 2 halte ini bisa bayar rp 10 aja',\n '5 manfaat pilates untuk ibu hamil , apa saja ?',\n 'selalu ingin tahu , 5 zodiak ini tidak bisa menghargai privasi orang lain',\n 'move on , ini 5 tanda mantan tak akan mengajakmu balikan',\n 'apakah ada manfaat minum air mineral ? ini faktanya',\n 'tetap tidur lelap , begini cara minum kopi tanpa harus melek semalaman',\n 'mudah bimbang , 5 zodiak ini sering dipengaruhi orang lain',\n 'suka kepo , 4 zodiak ini paling sering mengganggu privasi temannya !',\n '6 zodiak yang diprediksi paling jahat , mengapa ?',\n 'kepribadian ungkap cara menghabiskan uang , begini jika kamu ekstrovert',\n '4 foto terbaru yeonwoo momoland setelah vakum , wajah berubah ?',\n 'dikritik soal foto bikini , ini tanggapan shandy aulia',\n 'ini pengakuan kim kardashian mengenai psalm west',\n 'bukan teknis , ini tantangan berat ari lasso tur di 3 kota',\n 'jangan sampai terlewatkan , penggunaan toner pada rutinitas perawatan kulitmu',\n '8 kebiasaan yang bikin kamu lebih awet muda',\n '5 zodiak yang sering melanggar privasi seseorang',\n 'susu bubuk dan susu cair sama baiknya , ini kata ahli',\n '4 tanda pasangan siap berkomitmen dalam hubungan',\n 'tidak suka berbohong , 5 zodiak ini dikenal paling jujur',\n 'sering stres karena masalah uang ? simak tips mengatur keuangan ini',\n '4 zodiak yang kesulitan berterima kasih ke orang lain',\n '5 zodiak paling anarkis dan selalu membangkang terhadap otoritas untuk bisa hidup bebas',\n 'jika jalanmu cepat , seperti ini tipe kepribadianmu',\n 'kulit ubi jalan kaya nutrisi , ini cara makan ubi jalar bersama kulitnya',\n 'kerap ditanya kapan nikah , begini jawaban chand kelvin',\n 'ciptakan euforia , ini 5 fakta kedatangan nct dream ke indonesia',\n 'jajal dunia akting , ini yang membuat sivia azizah tertarik main di film nkcthi',\n 'bikin heboh , rossa diapit 6 anak muda nct dream',\n 'hari radio nasional , ini 8 selebriti indonesia yang merupakan penyiar radio',\n 'begini arti nama anak kedua sandra dewi',\n 'ingat kemal mochtar ? ini kisahnya turunkan bobot tubuh dari 120 kg jadi 60 kg',\n 'jalan kaki hingga yoga , ini 5 olahraga terbaik untuk ibu hamil',\n '4 fakta tentang autisme yang wajib diketahui',\n '19 hadiah untuk calon atau ibu mertua yang sulit ditaklukkan',\n 'mengapa kurang tidur bisa bikin gemuk ? ini alasan ilmiahnya',\n '4 zodiak ini rutin introspeksi diri dan bercermin dalam menjalani kehidupan',\n '4 zodiak ini akan alami masa terbaik di bulan agustus-september 2019',\n 'jangan dibuang , ini manfaat kupasan kulit kentang untuk kulit',\n 'punya nutrisi tinggi , ini cara mengolah kulit kentang agar bisa dimakan',\n 'diabetes hingga kanker , ini manfaat kulit pisang untuk kesehatan',\n 'bisa dimakan , ini manfaat kulit putih pada semangka !',\n 'secara ilmiah , ini alasan orang putus cinta balikan lagi dengan mantannya',\n 'menurut studi , ini waktu paling tapat untuk berhubungan intim',\n 'sesal shireen sungkar atas meninggalnya bj habibie , kenapa ?',\n 'bj habibie meninggal , begini sedihnya reza rahadian',\n 'dikira jadi pria feminin di film bebas , begini tanggapan baskara mahendra',\n 'begini rencana pemakaman bj habibie di tmp kalibata',\n 'raditya dika dan anak terserang autoimun , simak gejala yang terjadi',\n '5 hal penting yang harus diingat pemilik kulit sensitif',\n 'jangan panik , ini tips mengatasi anak rewel akibat demam tinggi',\n 'hati-hati gadget dapat membuat mata kering , ketahui alasannya',\n '10 fakta tentang cinta yang penting diketahui',\n 'putus cinta bukan masalah , 3 zodiak ini cepat move on',\n 'ini pentingnya air mineral untuk kesehatan',\n 'jangan dibuang , ini manfaat sehat kulit bawang bombay !',\n 'makanan pedas bisa meningkatkan nafsu makan , benarkah ?',\n '5 zodiak ini dikenal tak mau mengalah karena merasa paling benar',\n 'apakah air putih punya kalori ? ini faktanya',\n 'kunyit hingga buah bit , ini pewarna alami untuk makanan',\n 'mengurangi makan nasi , 5 alternatif pengganti nasi ini sangat bergizi !',\n 'tak perlu memaksa , ini 6 cara agar pria mau berkomitmen padamu',\n 'fimela fest 2019 : self love , ini alasan mencintai diri sendiri itu penting',\n 'suka menggantungkan tas di lengan , seperti ini kepribadianmu !',\n 'bisa diandalkan , 4 zodiak ini akan jadi sahabat yang paling kamu butuhkan',\n 'yeonjun txt ulang tahun , ini fakta yang perlu kamu tahu tentangnya',\n 'sudah terpilih , ini dia member yang jadi leader superm',\n 'dikabarkan jadi siti gahara di jagat sinema bumilangit , ini kata cinta laura',\n 'baru tayang , ini sinopsis warkop dki reborn',\n 'tips ampuh hilangkan noda hitam pada kulit wajah',\n 'ingin rambut terlihat prima saat bangun tidur ? ini rahasianya',\n 'alasan anak sebaiknya tidak konsumsi jus buah berlebihan',\n 'penuh motivasi , 4 zodiak ini selalu memastikan mimpinya terwujud !',\n 'suka bersikap seperti ini ternyata membuatmu menyebalkan !',\n 'suka mendominasi percakapan ? seperti ini dirimu di mata orang lain',\n 'rambut gampang lepek ? 3 hal ini mungkin penyebabnya',\n 'liburan , alasan kenapa rating sangat penting saat memilih hotel',\n 'suka membawa tas di tangan , begini kepribadianmu !',\n 'tidak takut gagal , 4 zodiak ini suka ambil risiko besar',\n '7 cara mengetahui anak kesepian , perhatikan tandanya !',\n '3 menu sarapan ini ternyata buruk bagi kesehatan',\n '4 zodiak ini tidak suka berada di alam terbuka',\n 'zodiak mingguan 16-22 september , 3 zodiak ini akan alami karir terbaik',\n 'hati-hati , 4 pasangan zodiak ini sering alami pertengkaran dan perselisihan',\n 'zodiak mingguan 16-22 september , 3 zodiak ini akan alami karir terburuk',\n 'zodiak mingguan 16-22 september , 3 zodiak ini akan alami cinta terbaik',\n 'zodiak mingguan 16-22 september , 3 zodiak ini akan alami cinta terburuk',\n '4 fakta menarik ikon yang jarang diketahui orang',\n 'anaknya trauma ke dokter gigi , begini cara zaskia adya mecca menyiasatinya',\n 'agar selalu terlihat rapi , hindari 5 penyebab rambut kusut',\n 'bukan ketombe , ikuti tips menghilangkan rasa gatal di kulit kepala',\n 'tanda kepribadian ambisius , jika kamu punya koleksi benda ini !',\n 'berkencan di usia 30 ? ini tips penting yang harus dipahami',\n 'jangan tersinggung , 4 zodiak ini memang suka bicara blak-blakan',\n 'saling melengkapi , 4 pasangan zodiak ini jarang bertengkar',\n 'mudah beradaptasi , ini dia 5 zodiak yang sangat menikmati gaya hidup nomaden',\n 'santan hingga daun pandan , ini bahan pelengkap jajanan tradisional',\n 'ini alasan buah pisang sangat baik dimakan penderita asam urat',\n 'ternyata ini cara memasak ikan yang paling baik dan sehat',\n 'legenda musik indonesia , ini 5 fakta tentang chrisye',\n 'mengalami kdrt , begini fakta tiga setia gara',\n 'irish bella alami pendarahan di usia kandungan 6 bulan , ini penyebabnya',\n 'hijabers , sudah tepatkah cara merawat rambutmu ? cari tahu lewat kuis ini yuk',\n 'alis terasa semakin tipis ? cek beberapa penyebabnya',\n 'ternyata musik seperti ini yang mampu meningkatkan motivasi dan semangat',\n 'sebelum yoga , sebaiknya hindari mengonsumsi 4 makanan ini',\n 'tidak lapar tapi ingin makan terus , kenali 4 penyebabnya',\n 'pandai bersosialiasi , 3 zodiak ini sangat menikmati hidup',\n 'ingin tidur lebih cepat di malam hari ? pakai piyama dari bahan ini',\n 'selain uang , ini yang bikin orang enggan travelling sendiri',\n 'berat badan turun cepat jika rajin sarapan ini , menurut studi',\n 'luar biasa , ini manfaat air cucian beras untuk rambut',\n 'menangislah , karena ini manfaat menangis untuk tubuh',\n 'jenis musik ini yang membuat orang tidak mudah stres saat bekerja',\n 'siap kembali usai rehat , ini penampilan baru jungkook bts',\n 'dikabarkan jalin asmara dengan jungkook bts , perempuan ini minta maaf',\n 'kenapa raisa dan zodiak gemini cocok jadi penyanyi ? intip karakter mereka',\n 'disebut lebih seram dari pengabdi setan , ini sinopsis film perempuan tanah jahanam',\n 'pilih olahraga zumba , ini alasan putri marino',\n 'tayang pada oktober 2019 , ini 5 fakta menarik perempuan tanah jahanam',\n 'tak perlu ke dokter kulit , ini trik hilangkan milia',\n 'punya kulit sensitif ? simak tips aplikasi makeup yang tepat berikut ini',\n 'perawatan kulit seluruh tubuh , simak 3 cara cegah kulit kering',\n 'sudah cukupkah kandungan protein rambutmu ?',\n '3 racikan tepung beras untuk perawatan kulit , pernah coba ?',\n 'alasan ibu hamil rentan stres dan cara mengatasinya',\n 'anak tidak mau makan nasi , apakah berbahaya ?',\n '3 penanganan kehamilan risiko tinggi , agar anak terlahir sehat',\n 'baik hati , 5 zodiak ini tidak pernah tega menyakiti orang lain',\n 'bersabarlah , ini 10 tanda pasangan selingkuh di belakangmu',\n 'selain harga terjangkau , ini inovasi pada smartphone yang dibutuhkan gen z',\n 'makan makanan berserat bisa cegah kanker , ini alasannya',\n '8 hal yang diperhatikan pria darimu saat pertama kali bertemu',\n 'kamu bisa mengandalkan mereka , 6 zodiak yang selalu memiliki inisiatif',\n 'umumkan status gender , sam smith inginkan sebutan ini',\n 'mesra sekali , lihat aksi darius sinathrya gendong donna agnesia',\n 'harry styles jadi penghambat reuni one direction ?',\n 'reaksi tak terduga luna f(x) usai tinggalkan sm entertainment',\n 'bercerita tentang anak konflik palestina , ini sinopsis film hayya',\n 'nicky tirta yang santai soal jodoh , lihat karakternya melalui zodiak taurus',\n 'fimela fest 2019 : 3 faktor seseorang melakukan beauty bullying , ini kata psikolog',\n 'dipetisi karena bahas oplas & pajang foto jimin bts , ini kata satria mulia',\n 'nonton wimbledon , meghan markle tampil kasual kenakan jeans , sudah kembali langsing !',\n 'sukses jadi artis , begini potret rumah mpok alpa yang sederhana di perkampungan',\n 'blak-blakan , gisella anastasia ungkap penyebab cerai dari gading marten',\n 'sinopsis drama life episode 16 , akhir cerita yang manis',\n 'tak ingin banyak dituntut , dita soedarjo ingin punya pacar bule ?',\n 'penggemar alami kecelakan , taylor swift kirim ucapan manis',\n 'berkarir di australia , artis 90-an multitalenta ini siapkan banyak judul film',\n 'sangat suportif , monita tahalea makin jatuh hati dengan suami',\n 'makan malam di gunungkidul , ini menu yang dipesan suju dan tvxq',\n 'inilah serial pendek netflix yang wajib kalian tonton',\n 'rencana melahirkan di luar negeri , nikita mirzani : pengen show off aja , biar sombong !',\n 'inilah hadiah istimewa penggemar di hari ulang tahun lisa blackpink',\n \"' let me love you ' milik dj snake sebenarnya diciptakan untuk cl 2ne1 ?\",\n 'liburan bersama suami , cantiknya priyanka chopra gunakan bikini',\n 'pesawat yang ditumpangi mendarat darurat , keanu reeves jadi pahlawan',\n 'marah besar karena pangeran william selingkuh , kate middleton ucap 1 permintaan ini',\n '7 pasangan dalam drama ini punya hubungan paling sehat !',\n 'kuliah di london , el rumi sudah nyoblos duluan !',\n 'annisa pohan diperlakukan bak imigran gelap oleh petugas bandara singapura',\n \"ini alasan kenapa captain america dibuat tetap hidup di ' avengers : endgame '\",\n '12 foto wajah asli idol k-pop saat bangun tidur , ada lisa blackpink - v bts !',\n \"jisoo dan jennie blackpink ' cover keong racun ' , kocak banget !\",\n 'adik angela gilsha larang bayi naik pesawat : ajarin diam atau mulutnya diselotip !',\n 'ditelepon sasaeng fans saat live , ini yang dilakukan jungkook bts',\n 'viral ! persamaan gaya kai exo dan krystal f(x) , bikin fans baper sendiri',\n 'foto punggung kai exo ini sering dikira jungkook bts oleh army',\n 'umumkan hubungan dengan ashley benson setelah satu tahun , ini alasan cara delevigne',\n 'aktor ternama korea ini akui bersusah payah melunasi hutangnya',\n '8 foto visual bomb v bts vs cha eun woo , beda gantengnya bikin galau milih',\n '11 drama korea 2019 yang tak boleh dilewatkan , masih gagal moveon',\n 'inilah sosok ceo baru yg entertainment , seorang wanita',\n 'ada gilang dirga show di jicomfest 2019 , siapa lagi yang melucu di hari pertama ?',\n 'perasaan deddy corbuzier setelah mualaf , bebas dan plong !',\n 'setelah pelembut pakaian , jungkook bts bikin minuman ini ludes terjual',\n '9 k-pop idol bak dewi pakai gaun mewah : suzy , yoona snsd & jennie blackpink',\n 'bukti percakapan seungri bagikan foto wanita telanjang di grup chat',\n \"ini alasan produser ' persona ' pilih iu jadi pemeran utama\",\n 'soal kembali berpindah keyakinan , ini tanggapan pengacara steve emmanuel',\n 'menikah sejak usia muda , pasangan seleb ini jauh dari gosip miring',\n 'terjun ke dunia akting , para artis ini ada yang mulai sejak masih belia',\n 'romance-thriller , ini deretan drama korea terbaru yang seru ditonton streaming',\n '2 inisial baru dalam jaringan narkoba jefri nichol tertangkap , rekan artis ?',\n 'terjawab , begini cara captain marvel temukan tony stark di luar angkasa',\n 'andhika pratama larang ussy sulistiawaty tonton aksinya di jicomfest 2019 , ada apa ?',\n '7 k-pop idol makin ganteng dengan rambut hitam legam , suga bts - johnny nct',\n 'foto jihyo twice sering datangi rumah kang daniel , sudah 7 bulan pacaran ?',\n 'jihyo twice dan kang daniel pacaran , begini komentar dari netizen korea',\n 'berkas nikah ini ungkap agama rina nose yang sebenarnya',\n 'reaksi kaget gading marten saat dengar gempi sebut nama wijaya saputra',\n 'pelukan dan gandengan tangan , roy kiyoshi dan evelyn nada anjani resmi pacaran ?',\n \"kang daniel - jihyo twice pacaran , kenapa lagu baekhyun exo ' un village ' trending ?\",\n '5 foto irish bella jalani maternity shoot , cantik dan elegan bagaikan boneka',\n 'diary waktu sd beredar , agama sehun exo terungkap',\n 'nama asli chef juna terungkap saat unggah sertifikat kompetensi',\n 'terungkap ! begini penampakan kamar shahrukh khan di mannat , luas dan mewah',\n 'princess charlotte kembali pamer pose gemas , sampai bikin kate middleton meleleh !',\n 'terungkap , choi siwon takjub pada satu hal ini dari fans indonesia',\n '10 film horor indonesia yang perlu kamu tonton , dijamin bikin merinding',\n 'beruntung , tiga fangirl asal indonesia ini diantar ayah yunhyeong ikon',\n 'terungkap ! nikita mirzani tak berani berseteru dengan sosok ini',\n \"viral , editan krystal f(x) & jennie blackpink yang bikin kai exo ' melongo '\",\n \"uang bukan alasan , pemain ' ave maryam ' tidak dibayar ?\",\n \"dulu panggil ' sailor moon ' , setelah putus vicky prasetyo sebut anggia ' nenek gayung '\",\n 'fakta lengkap produce x101 yang perlu kamu tahu',\n 'diancam injak leher oleh nikita , tessa mariska samakan nm dengan pohon tauge ?',\n \"10 hal unik yang mungkin kamu lewatkan di mv blackpink ' kill this love '\",\n \"semula kesal dipanggil ' babang tamvan ' , kini andika hasilkan 3 mobil - 2 rumah !\",\n 'fakta lengkap produce x101 yang perlu kamu tahu',\n '7 fakta madam shim , wanita berpengaruh dicurigai dalang kasus jang ja yeon & seungri',\n 'tak jadi anak emas jokowi . begini tanggapan kaesang pangarep',\n 'vebby palwinta akui sudah belajar taaruf , siap segera nikah ?',\n 'sempat mengaku mualaf , ternyata kriss hatta tak pernah memeluk islam',\n 'liburan melulu , kini syahrini dan reino barack kompak makin gendut ?',\n 'album focus dari jus2 got7 ceritakan tentang panca indera , sudah dengerin ?',\n 'tanyakan hal tak pantas pada bts , reporter ini dihujat netizen',\n \"sederet artis ini siapkan ' hadiah ' spesial bagi mereka yang nyoblos\",\n 'tora sudiro - adipati dolken tirukan selfie nicholas saputra , siapa paling mirip ?',\n 'genap 45 tahun , intip kejutan manis yang didapat victoria beckham di ulang tahunnya',\n 'kaki cedera tertimpa lemari , syahrini lupakan rasa sakit dengan cara ini',\n 'sebut dirinya seperti monyet , begini kalau luna maya gelantungan di pohon',\n 'bukan menjadi pembanding , ini perbedaan komik gundala versi baru dan klasik',\n 'foto keluarga lisa blackpink , ayah tirinya orang swiss - ibunya cantik banget',\n \"heboh ! ' warkop dki reborn 3 ' jadi film pertama yang laksanakan mega premiere\",\n 'upi didaulat garap film jagat sinema bumilangit selanjutnya ?',\n 'ruben onsu berencana ke ntt , bakal urus adopsi betrand peto ?',\n 'bastian steel hidup dalam pergaulan bebas dan punya anak istri dalam film ini',\n 'ada sosok ari tulang di gundala , bisa tebak perankan siapa ?',\n '9 aktris cantik yang pernah perankan karakter jelek di drama , suzy - lee sung kyung',\n \"14 fakta menarik ' avengers : endgame ' yang perlu kamu tahu sebelum nonton\",\n 'barbie kumalasari akui punya suara jazzy , cuma bisa dinikmati yang bermusikalitas !',\n 'barbie kumalasari bocorkan honor sekali tampil di tv , tembus dua digit !',\n 'selalu diberitakan dari sisi negatif , ini pesan barbie kumalasari untuk putrinya',\n 'ratna galih program bayi tabung demi dapat anak perempuan , ini alasannya . . .',\n 'kekayaan barbie kumalasari kerap diragukan : biarin mengurangi pajak saya kan ?',\n 'isu salmafina pindah agama merebak , berikut 15 artis yang pernah diterpa hal serupa',\n 'jadi special guest minie tv , bayaran vanessa angel bisa buat beli pulau ?',\n 'masalah semakin panjang , fairuz a . rafiq pernah alami kdrt dengan galih ginanjar ?',\n \"6 fakta xana tang , bintang film ' mulan ' yang juga sahabat iqbaal ramadhan\",\n 'masuk gang sempit , berikut 4 fakta rumah asli barbie kumalasari dan galih ginanjar',\n \"pablo benua dan rey utami ditahan , 12 seleb ini juga jadi korban video ' mulut sampah '\",\n '10 kolaborasi idol k-pop yang nagih banget !',\n 'kevin aprilio betah dengan rambut gaya emo , vicy melanie risih ?',\n 'nonton raditya dika dan line up lain dalam jicomfest 2019 , berapa harga tiketnya ?',\n 'istri ajun perwira ungkap salmafina sunan sudah nyaman dengan keyakinan barunya ?',\n 'mantan pramugari bongkar kelakuan buruk idol k-pop di pesawat , siapa yang terbaik ?',\n 'barbie kumalasari tak penuhi pemeriksaan kepolisian , begini penjelasan pengacaranya',\n \"tessa mariska terseret kasus ' ikan asin ' , ada apa ?\",\n '6 fakta sosok iyan sambiran suami nunung yang juga ditangkap karena narkoba',\n 'spoiler improvindo di jicomfest 2019 , mc dani jamin bakal bikin ngakak',\n 'heboh kabar video masturbasi atlet dw , begini komentar mikha tambayong',\n 'co working space dengan view laut pertama dan satu-satunya di jakarta',\n '20 finalis siap perebutkan gelar puteri muslimah indonesia 2019 , siapa juaranya ?',\n 'rumah berlapis emas , dari mana sumber kekayaan muzdalifah ?',\n \"' endgame ' jadi aksi pamungkas avengers , begini kelanjutan marvel cinematic universe\",\n 'gara-gara air , kim jae wook akhirnya cium park min young',\n \"posting foto dengan tagar ' proud of akad ' , ivan gunawan sudah nikah ?\",\n 'begini upaya kate middleton damaikan pangeran william dan pangeran harry',\n 'hebat ! nurul bashira , puteri muslimah indonesia 2019 sabet 2 gelar sekaligus',\n 'kedatangan seleb dan influencer di event wonderful noon , gimana keseruannya ?',\n 'baru nikah dengan fadel islami , muzdalifah dibuat naik pitam karena hal ini',\n 'dengar cut tary akui 3 kali berhubungan dengan ariel , begini reaksi suami',\n 'menangis di sungkeman syahrini - reino , rosano barack beri wejangan penting ini . . .',\n \"7 pasangan dalam drama korea dengan ' chemistry ' paling kuat\",\n 'tatap syahrini penuh cinta , ini yang dirasakan reino barack jelang sungkeman',\n 'pangeran harry beri tanda meghan markle sudah melahirkan ?',\n 'inilah kekayaan para bintang avengers dari terendah hingga paling tinggi',\n 'dinner silaturahmi syahrini - reino barack digelar tanpa orangtua , ada apa ?',\n 'resmi jadi ayah , ini nama anak raditya dika beserta artinya',\n '7 foto balita baekhyun exo , bukti dari kecil sudah punya aura seorang idol',\n 'langgar mitos usai pernikahan , inikah penyebab perceraian song joong ki ?',\n 'banjir komika favorit , begini cara dapetin tiket jicomfest 2019',\n 'selang 4 tahun kepergian olga syahputra , begini kondisi rumahnya sekarang',\n 'lama tak terlihat di televisi , begini kabar terbaru romy rafael',\n 'bukan zendaya , penyanyi satu ini yang bakal perankan ariel little mermaid live action',\n \"11 fakta zoha rahman , gadis muslim berhijab di ' spider-man : far from home '\",\n 'pernah nyatakan ibunya idap bipolar , begini kondisi sebenarnya ibu barbie kumalasari',\n '3 wanita yang pernah dekat dengan diego michiels , ada nikita willy juga !',\n 'digrebeg di hotel , aktor ftv ridho illahi berduaan dengan selebgram chagii amelia ?',\n 'umur 3 bulan , begini wajah baby zalina anak raisa dan hamish daud sekarang',\n 'inilah member bts yang punya pendapatan paling besar , bias siapa nih ?',\n 'bakal tampil di jicomfest 2019 , intip video gaya lawakan mli yang super gokil',\n 'masih cinta , 5 pasangan seleb indonesia yang balikan - rujuk setelah sempat cerai',\n \"alasan black widow merelakan diri di ' avengers endgame '\",\n '6 foto kemiripan nia ramadhani dan lisa blackpink , cocok jadi kakak adik ?',\n 'crazy rich pluit ! pria ini beli yacht raffi ahmad cash 4 miliar !',\n '3 keunikan hubungan hamish - raisa - zalina , tak pernah terungkap sebelumnya',\n \"12 potret cantik ming xi , model victoria ' s secret yang dilamar anak miliuner china\",\n '7 artis indonesia ini rayakan waisak , siapa saja ?',\n 'heboh ! syahrini dan luna maya sepanggung bareng di shopee ramadan tv show',\n 'sambut ramadan , 3 penyanyi muda ini berbagi kebahagiaan dengan anak-anak panti asuhan',\n \"8 fakta menarik ' aladdin ' properti pakai perhiasan asli lho\",\n 'habis jutaan rupiah di supermarket , struk belanja nikita mirzani panjang banget !',\n 'cowok 22 tahun dicoret dari kartu keluarga , diumumkan lewat koran !',\n '6 film layar lebar ini perdana tayang di sctv untuk temani libur lebaran kamu',\n '10 idol korea yang diperkirakan berangkat wajib militer tahun depan , ada bts & exo',\n '10 fakta vincent raditya , pilot yang lisensinya dicabut karena video prank limbad',\n \"dwayne johnson ' the rock ' bakal bergabung ke marvel cinematic universe ?\",\n 'deretan kpop idol paling fashionable , bisa contek gayanya nih !',\n '2 seleb ini jalani puasa pertama setelah putuskan jadi mualaf',\n 'liburan ke eropa , spider-man punya kostum baru ?',\n 'alami kecelakaan mobil , mantan idol ini tewas seketika',\n \"fakta unik ' pokemon detective pikachu ' , kini bisa ngomong seperti manusia\",\n '14 selebriti hollywood ini ternyata muslim & ikut puasa di bulan ramadan',\n 'sophia latjuba datang ke ulang tahun gading , roy marten ungkap hubungan mereka',\n '8 seleb indonesia ini disebut hamil duluan saat menikah , ternyata hoax',\n 'hengkang dari the voice setelah 16 season , adam levine ada masalah ?',\n 'irina shayk - bradley cooper putus , lady gaga penyebabnya ?',\n \"sederet rumor menarik tim ' avengers ' baru , akan dipimpin captain marvel ?\",\n 'pasca avengers endgame , petinggi marvel studios sudah kantongi nama untuk fase 4',\n '8 k-pop idol ini pernah mengaku naksir dengan idol lain , siapa saja ?',\n 'digombalin penggemar , begini reaksi malu-malu jisoo blackpink',\n '5 tahun merantau di jakarta , akankah fendy chow memenuhi harapan sang ibu ?',\n '8 tahun bernaung di jyp entertainment , soloist cantik ini memutuskan hengkang !',\n 'unggah video ahmad dhani bersama anak , mulan jameela kangen ?',\n 'viral video choi siwon kepedasan , tembus 16 juta viewer dalam 2 hari !',\n \"6 ' squad ' di drama korea ini , benar-benar jadi ' friendship goals '\",\n 'dancer k-pop terpopuler saat ini , gak kalah kece dari idol !',\n \"unggah foto di liburan , bts siapkan program ' bon voyage ' ?\",\n 'menangis saat anang gantikan posisinya di indonesian idol , ini alasan armand maulana',\n 'heboh barbie kumalasari naik pesawat 8 jam , sederet seleb ini tulis caption menyindir',\n 'penghasilan verrell bramasta 3 bulan jadi youtuber , bisa beli 2 mobil !',\n \"selebritis yang jadi terseret jadi ' korban ' skandal bts , siapa saja ?\",\n '12 transformasi millendaru , dari cowok cantik berdada bidang - doyan bikinian',\n 'resmi diluncurkan , ini gebrakan baru di festival film indonesia 2019',\n '5 film indonesia terbaru yang bikin kamu #antingaret berangkat ke bioskop',\n 'taemin shinee akan tampil di hut rcti ke-30 , shawol beruntung bisa bertemu !',\n 'ini bukti sehun exo sosok religius , tak banyak yang tahu',\n 'dipenjara bareng galih ginanjar atau cerai , mana yang akan dipilih barbie kumalasari ?',\n \"james gunn ungkap batman bakal muncul di ' suice squad 2 ' ?\",\n 'mia khalifa buka-bukaan tentang video panas berhijab , diteror isis !',\n 'ruben onsu ulang tahun , ini 16 transformasinya dari tembem abis - segar awet muda',\n '12 artis ini pernah jadi anggota paskibra , siapa saja mereka ?',\n 'pelukan dengan reino barack , ini harga sweater syahrini yang harganya sampai 2 digit !',\n \"10 idola dengan rahang tajam ' mengiris hati ' , kai exo sampai bobby ikon\",\n 'jual rumah demi shakira , kediaman denada ditawar keluarga menteri dengan harga segini',\n 'nia ramadhani hadiri pernikahan anak raam punjabi , sebal sama bcl gara-gara ini',\n '15 pasangan seleb korea yang cinlok tak berakhir bahagia : putus - cerai',\n 'terkuak ! ini alasan ali syakieb - citra kirana putus , bukan karena rezky aditya',\n 'yuk , jemput impian kamu bareng julian jacob !',\n 'nama anak ditiru fans , franda : bayimu tak pantas pakai nama itu !',\n \"hotman paris mengaku dapat panggilan ' gus lora ' , begini penjelasan nu\",\n 'inilah sederet tipe pacar yang biasa ditemui dalam drama korea',\n 'inspirasi gaya tas pinggang ala kylie jenner , effortless stylish !',\n 'sandra dewi akhirnya pamer wajah mikhael moeis , ganteng banget !',\n 'dami kwon kakak g-dragon bakal nikahi aktor kim min joon , begini detailnya',\n 'camila cabello dan shawn mendes pamer ciuman ala ikan , konfirmasi pacaran ?',\n 'booming iklan mie sedaap versi choi siwon , ternyata begini rasanya',\n 'karena ini teuku rassya buka restoran bertema papua',\n 'barbie kumalasari bakal ke amerika bareng boy william , begini ceritanya',\n 'barbie kumalasari & galih ginanjar dikabarkan pisah , begini klarifikasi indra tarigan',\n '5 film terbaik indonesia yang nggak pernah bosan ditonton lagi , apa judul favoritmu ?',\n 'kado pernikahan justin bieber , jam tangan mewah seharga 1 miliar !',\n \"18 tahun setelah ' kkkg ' , kajol dan kareena kapoor satu frame lagi dan makin stunning !\",\n 'ini alasan robby shine mantap berbisnis pusat kebugaran',\n 'halaman kapanlagi korea resmi launching , isinya apa aja sih ?',\n 'rosa meldianti ikut kontes puteri indonesia , lucinta luna merasa tersaingi ?',\n 'kocak ! gara-gara penilaian guru di masa lalu , deepika padukone ancam ranveer singh',\n 'keluar dari grup wa geng menteri ceria , melaney ricardo & luna maya berantem ?',\n 'pengakuan atta halilintar soal berhubungan intim di hotel bersama bebby fey',\n 'jelang pernikahan , hailey baldwin dapat pesta bachelorette yang seru dan nakal !',\n '4 tahun pergi , seperti ini kondisi makam olga syahputra',\n '7 k-pop idol yang mirip karakter animasi disney , j-hope bts - taeyeon snsd',\n '7 pemotretan terbaru jessica iskandar - nia ramadhani , bak bidadari turun dari langit',\n 'spider-man dikabarkan hengkang dari mcu , begini penjelasan sony pictures',\n 'cut meyriska sakit perut selama 5 tahun , ini serangkaian pemeriksaan yang dilaluinya',\n 'siapa sangka , sampo favorit alodita ternyata ada di supermarket !',\n 'deretan kpop idol paling bersinar , mana yang ingin kamu tonton konsernya ?',\n 'ruben onsu disebut punya tabungan rp 27 m , ini sederet sumber penghasilannya',\n \"peluncuran trailer ' gundala ' , abimana arasatya ungkap satu fakta unik\",\n 'jokowi hadiri nikahan wartawan , ternyata anak seleb terkenal',\n \"blak-blakan , millendaru ngaku pernah ada ' urusan ranjang ' dengan artis inisial zl\",\n 'sebelum tertangkap narkoba , ini deretan film jefri nichol !',\n 'jennifer dunn pamer rumah baru , super megah lengkap dengan kolam renang mewah',\n 'irwansyah main sinetron lagi bareng chelsea olivia , zaskia sungkar cemburu ?',\n '10 persiapan penting sebelum masuk area jicomfest 2019',\n \"harga starter pack sekolah saaih halilintar bikin ' sobat miskin ' melongo\",\n \"video adegan yang dihapus dari versi asli ' avengers : endgame ' , masih bikin nangis\",\n 'fakta mengejutkan terkuak , jennifer dunn bohong soal rumah barunya ?',\n 'dulu bercinta sehari 8 ronde , barbie kumalasari bakal minta bilik asmara untuk galih ?',\n 'kalau pandji , ernest dan raditya dika sepanggung , siapa paling bikin kamu ketawa ?',\n 'vanessa angel bicara soal jodoh : siapa sih cowok yang mau nerima aku ?',\n 'ikut sarwendah ke lokasi syuting , inilah hal lucu yang dilakukan betrand peto',\n 'ini alasan yang bikin uus memilih untuk berhenti pakai narkoba',\n 'baru dibaptis , ini pengakuan anwar hadid soal perbedaaan agama dalam keluarga',\n 'youtuber tana mongeau bawa ular ke vmas 2019 , tiru gaya britney spears 18 tahun lalu ?',\n 'foto orangtua jungkook bts , ayahnya ganteng banget - ibunya awet muda',\n 'suka film horor ? berikut deretan film horor yang bakal tayang di bulan april',\n \"jenita janet jajal filler terobosan baru ' algenesss ' , 100 % bahan alami !\",\n 'rapat investor yg entertainment selesai digelar , ini hasilnya !',\n 'lucunya lee dong wook tak bisa berhenti menangis karena ini !',\n 'fakta menarik girlband korea selatan , momoland',\n 'heboh kasus jung joon young , youtuber ini ngaku pernah dilecehkan idol pria',\n 'wanita dengan tubuh berisi terbukti bikin pria lebih bahagia',\n 'kronologi lengkap pemuda di bandung tusuk gadis pujaan karena cinta ditolak',\n 'sarapan bikin ngantuk , mitos atau fakta ?',\n 'sibuk hingga batal bertemu pimpinan kpk , ini agenda jokowi seharian',\n 'spanduk pecel lele hingga obat kuat jadi cara jakmania kritik persija',\n '5 fakta menarik animasi spongebob squarepants yang perlu kamu tahu !',\n 'chris hemsworth atau natalie portman , ini bintang utama thor : love and thunder',\n 'ini anggota pansus pemindahan ibu kota bentukan dpr',\n 'penemuan terbaru ungkap penyebab punahnya dinosaurus',\n 'ketua hipmi lempar isyarat \" punya waktu longgar \" , ini respon presiden jokowi',\n 'jelang berakhirnya pemerintahan , 3 menteri jokowi pamit . . .',\n '6 reaksi shandy aulia hadapi netizen julid',\n 'pertarungan buaya 1 , 8 meter dan anakonda sepanjang 8 meter , siapa yang menang ?',\n 'ini langkah ditjen imigrasi setelah terima surat pencegahan dan pencabutan paspor veronica koman',\n 'ini hasrat pecatur andalan indonesia di piala dunia fide',\n 'disebut oleh dprd hanya ban serep ridwan kamil , ini kata uu ruzhanul',\n 'dirut sriwijaya air dicopot ?',\n 'ini cara para seniman tolak revisi uu kpk',\n 'bocoran foto daihatsu sigra facelift',\n 'kami mencari tahu mengapa cosplayer menyukai kostum karakter , ini jawabannya . . .',\n 'ini pesan terakhir istri yang gantung diri setelah cekcok dengan suami soal foto pelukan',\n 'ini alasan museum sejarah bentoel di malang dijual',\n 'saat luhut dan susi pamit . . .',\n 'tips bagi yang berniat memelihara vw kodok',\n 'karyawan amazon bakal turun ke jalan lakukan protes , apa alasannya ?',\n 'lewat siji , cara beda nikmati koleksi museum seni rupa dan keramik',\n 'bagaimana pilihan jenis gelas bisa pengaruhi rasa kopi ?',\n 'sri mulyani ingin rekam medis 267 juta penduduk ri diidentifikasi , kenapa ?',\n '4 fakta hari pertama penerapan sistem ganjil genap di jakarta barat',\n 'cukup bayar rp 5 . 000 untuk masuk ke 5 museum di jakarta ini',\n 'ketika menteri susi minta maaf dan akui dirinya sedikit tengil . . .',\n 'apa beda penarikan dan pencabutan paspor ? ini penjelasan pakar hukum',\n 'dul jaelani : tolong maafkan saya . . . maafkan saya . . .',\n 'disebut kerjanya cuma menembaki kapal , ini kata menteri susi',\n 'fakta sopir truk tanah jadi tersangka tabrakan beruntun di bintaro',\n 'kemal mochtar berhasil turunkan berat badan 50 kg dalam setahun , apa rahasianya ?',\n 'seorang polisi tepergok tanpa busana dengan istri orang , ini sanksi yang menanti',\n 'kerap diarak orang jepang , apa itu mikoshi ?',\n 'hari tanpa bayangan di indonesia , bagaimana bisa terjadi ?',\n 'cerita jatuh bangun pemilik warung dian dan barokah unhas hingga jadi langganan mahasiswa',\n 'diajak perang gubernur maluku , ini jawaban menteri susi',\n 'viral , seorang pengendara keluarkan jurus silat saat kena razia polisi',\n '7 kisah pasien ditandu menuju puskesmas , disebut \" ambulans desa \" hingga selamatkan ibu melahirkan',\n 'cukai rokok tahun depan naik , ini pertimbangan pemerintah',\n 'viral , penumpang berdiri 6 jam di pesawat demi istri bisa tidur',\n '16 manfaat renang bagi tubuh yang tak bisa diremehkan',\n 'saat 10 capim kpk \" dikunci \" dengan surat bermeterai ini . . .',\n 'viral video wanita bugil naik motor keliling samarinda , ini kronologi kejadiannya',\n 'polemik pb djarum vs kpai yang berujung stop audisi . . .',\n 'sby menitikkan air mata . . .',\n 'armand maulana jadi juri anaknya di the voice | dipenjara , santunan ahmad dhani terhenti ?',\n 'ditilang karena ganjil genap , begini cara mengurus denda tilang',\n 'apa itu espresso dan istilah lain di kedai kopi yang harus kamu tahu',\n 'jangan makan pisang saat sarapan , ini alasannya',\n 'ibu kota baru dikritik ridwan kamil terlalu luas , ini komentar gubernur kaltim',\n 'pindah ibu kota pengaruhi arus era kendaraan listrik ?',\n 'pihak sekolah tidak setuju andreas diasuh wali kota malang , ini sebabnya',\n 'empat fakta baru terungkap dalam sidang kasus narkoba jefri nichol',\n 'hari tanpa bayangan dan ekuinoks , sama atau beda ? ini penjelasannya',\n 'harga emas dunia turun untuk 3 hari beruntun , apa sebabnya ?',\n 'berbagai keluhan pengendara di hari pertama penerapan perluasan ganjil genap',\n 'awas virus joker , segera hapus 24 aplikasi ini dari ponsel android anda',\n 'heboh kasus perselingkuhan berujung pembunuhan , ini sisi klinisnya',\n '4 fakta menarik hari pertama ganjil genap di jakarta timur',\n '5 cara bikin rumah minim cahaya alami tampak lebih terang',\n 'viral video polisi razia mertua sendiri saat operasi patuh , ini penjelasan kasatlantas polres bojonegoro',\n 'disantuni rp 5 juta oleh ahmad dhani , keluarga korban kecelakaan dul merasa cukup ?',\n 'inilah iphone yang paling laris di semester pertama 2019',\n 'cerita paul cummings dan fasilitas disabilitas stadion kanjuruhan',\n 'pelamar cpns kini boleh berusia 40 tahun , untuk posisi apa saja ?',\n 'diputar serentak 12 september , ini 5 fakta film warkop dki reborn 3',\n 'ini 5 bank yang tawarkan bunga deposito tertinggi',\n 'bagaimana persiapan mobil tua sebelum touring jarak jauh ?',\n 'banyak kapal vietnam masuk zee indonesia , ini yang dilakukan menteri susi',\n 'panas-panas , 5 minuman es asli indonesia ini bikin segar',\n 'soal pembatasan mobil tua , ini harapan komunitas volkswagen indonesia',\n 'pengendara yang tak bertanggung jawab harus dipidana !',\n 'betrand peto resmi pindah ke jakarta , begini hari pertama sekolahnya',\n 'ini kronologi kecelakaan bus mira vs innova di nganjuk-madiun',\n 'jack ma putuskan pensiun , alibaba bakal hadapi kondisi sulit ?',\n '4 fakta zara jkt48 dan peran virgo',\n 'uu ruzhanul disebut dprd hanya ban serep , ini tanggapan ridwan kamil',\n 'anggaran pilkada surakarta 2020 capai rp 17 , 8 miliar , ini rinciannya',\n 'tak bisa lakukan pencegahan , ini cara imigrasi pulangkan veronica koman',\n 'video youtube \" lemot \" di smartphone ? ini cara mengatasinya',\n \"jokowi sebut 141 juta penduduk ri ' naik kelas ' pada 2020 , apa maksudnya ?\",\n 'ini alasan perlunya terowongan di tol cisumdawu dan mrt',\n 'toyota calya 2019 meluncur , simak detail harganya',\n 'melemah , ini kurs rupiah di 6 bank besar',\n 'ini alasan mengapa trotoar kalimalang berada di tengah jalan',\n 'ekspor perikanan indonesia kalah dengan vietnam , ini masalahnya',\n 'tips tampil lebih unggul dibanding kandidat pencari kerja lain',\n 'sepekan terakhir suhu di bengkulu makin dingin , ini penyebabnya',\n 'disinggung iriana jokowi , begini kondisi terkini kali bahagia di bekasi',\n 'ini modal desa kutuh bisa raup puluhan miliar rupiah',\n 'apa saja kewenangan dewan pengawas dalam mengawasi kinerja kpk ?',\n 'satu bulan berstatus waspada , bagaimana kondisi gunung slamet ?',\n 'pemprov dki potong tunggakan pajak hingga 50 persen , ini rinciannya',\n 'berikut 5 keunggulan daihatsu sigra',\n '5 hal menarik balkonjazz festival 2019 , pasar balkon hingga ditutup yura yunita',\n 'berlangsung usai pulang kerja , ini daftar harga tiket laga timnas u-16',\n '5 fitur menarik toyota calya yang wajib diketahui',\n 'ini alasan kolonel beben ingin maju di pilkada tangsel 2020',\n 'daihatsu sigra 2019 resmi meluncur , ini ubahannya',\n 'kalah dari marquez , ini kata quartararo',\n 'tuduhan polisi , bantahan veronica koman . . .',\n 'terminal 2 bandara soekarno-hatta jadi terminal traveloka , apa sebabnya ?',\n 'lahan 26 perusahaan sawit di kalbar disegel terkait karhutla , ini daftarnya',\n 'pdi-p dukung jokowi merevisi uu kpk , ini alasannya . . .',\n '3 investor asing tertarik bangun lrt jawa timur , siapa saja ?',\n 'anak keseringan main hp , bagaimana dampaknya ?',\n 'ini penyebab bayi 4 bulan di sumsel meninggal , sesak napas diduga terpapar kabut asap',\n 'apa saja ketentuan penyadapan yang diatur dalam draf revisi uu kpk ?',\n 'bus persib dilempari batu dan 2 pemain terluka , begini kronologinya',\n 'ini jadwal update android 10 untuk ponsel realme',\n 'ini ubahan eksterior dan interior toyota calya 2019',\n 'sempat viral , ini plus minus toyota calya dan daihatsu sigra',\n 'intip 3 arloji seiko bertema monster hunt',\n 'fahri hamzah usul jokowi segera lantik firli cs , ini alasannya . . .',\n 'ada 10 varian , ini harga lengkap daihatsu sigra 2019',\n 'driver grabcar bisa beli rumah dengan bunga kpr tetap , ini syaratnya',\n '3 hal ini jadi penyebab rendahnya minat baca anak indonesia',\n '30 orang jadi tersangka kerusuhan di papua barat dan 12 dpo , ini perannya . . .',\n 'beragam modifikasi komunitas buat kendaraan listrik',\n 'viral stand up comedy kiky saputri yang bikin fadli zon geleng-geleng kepala',\n 'ini tahapan kompetisi voli liga mahasiswa jawa timur',\n 'perkenalkan , ini gadis , anggota dprd maluku berusia 24 tahun',\n 'viral , artis indonesia bernama tiga setia gara menangis karena disiksa suami di as',\n 'viral ! penyanyi tiga setia gara mengaku alami kdrt di amerika serikat',\n 'ini capaian umj di liga mahasiswa 2019',\n '\" pencuri mata \" , sebab pemuda kecanduan game online alami kebutaan',\n 'benarkah fadli zon marah setelah di-roasting komika kiky saputri ?',\n 'cara mengolah sayuran yang benar agar nutrisinya tidak hilang',\n 'ini 6 tips agar masyarakat aman pakai gas elpiji',\n 'jika as ingin gelar perundingan pelucutan senjata nuklir , ini yang diminta korea utara',\n '\" urusan ranjang bukan urusan negara . . . \"',\n 'kabut asap di riau , ini tips pencegahan dan penanganan kesehatannya',\n 'selain spongebob squarepants , ini 4 animasi yang pernah ditegur kpi',\n 'alasan veronica koman baru buka suara . . .',\n 'ini 4 tim yang lolos dari euro futsal championship 2019 palembang',\n 'begini kronologi pelemparan bus persib bandung',\n 'halmahera selatan diguncang gempa , ini bedanya dengan guncangan juli',\n 'mau sukses bisnis buzzer media sosial , lakukan cara ini !',\n 'apa jadinya jika hiu di bumi menghilang ?',\n 'daftar harga mobil bekas rp 100 jutaan , ada avanza dan xenia juga',\n 'tips menjaga kesehatan kulit ala catherine wilson',\n 'ingin jadi digital marketing sukses ? pastikan punya sifat ini',\n 'komentar marquez dan rossi soal insiden sesi kualifikasi gp san marino',\n 'kpi beri sanksi spongebob squarepants , ini penyebabnya',\n 'tips agar keuangan tak tergerus inflasi',\n 'daftar top skor liga inggris , tammy abraham samai aguero',\n 'viral penipuan ojek online berkedok istri sakit , cukup dengarkan saja',\n 'jalan-jalan ala bts , ini 5 pasar unik dan serba murah di seoul',\n 'cerita pengalaman jadi player escort di laga tira-persikabo vs persib . . .',\n 'ini kata saut situmorang soal masa depan kpk pasca 3 pimpinan serahkan mandat ke presiden',\n 'dua cara malaysia hadapi uni emirat arab',\n 'esemka jadi mobil dinas , ini harapan sekda jateng',\n 'layangkan surat keberatan , ini 4 poin tuntutan persib ke pt lib',\n '4 prioritas sebelum mendesain ruang kerja di rumah',\n 'wilayah jakbar tertinggi pelanggar ganjil genap hari pertama , ini alasannya . . .',\n 'indonesian idol kembali digelar , 5 musisi ini menjadi jurinya . . .',\n 'tak cuma gangguan paru , ini efek polusi udara bagi tubuh',\n 'jokowi ungkap kelemahan pengusaha muda indonesia , apa saja ?',\n '\" jangan keruk emas di tanah leluhur kami \"',\n 'gejolak kabut asap , ini prediksi dinamika atmosfer indonesia',\n 'ini penyebab kecelakaan di tol jagorawi yang tewaskan 3 orang',\n 'anita wahid memahami langkah kpk serahkan mandat ke presiden , tapi . . .',\n 'rumah nanas spongebob ada di dunia nyata , yuk intip !',\n '5 cara cegah kutu tak ikut anda setelah bepergian',\n 'diet bisa berdampak buruk pada kekuatan tulang , apa alasannya ?',\n 'kisah bayi \" spesial \" yang lahir \" serba \" 9 / 11',\n 'bukalapak dikabarkan phk karyawan , ada apa ?',\n 'ini jadwal update emui android 10 untuk ponsel huawei',\n 'ini sebab tinggi badan gabby terus bertambah hingga capai 2 , 2 meter',\n 'ingin usaha anda tumbuh ? simak tips dari pebisnis sukses ryan margolin',\n 'ini jenis olahraga yang bikin tinggi , mitos atau fakta ?',\n 'ekspor riau turun , karena kabut asap ?',\n 'cukup jalan kaki dari stasiun bogor , 5 tempat wisata murah di bogor',\n 'ini identitas mayat perempuan yang ditemukan di irigasi',\n 'indonesia vs thailand , alasan suporter tamu tak takut ke jakarta',\n 'menurut google , ini tantangan pertumbuhan startup di indonesia',\n 'foto kehamilannya dinyinyiri netizen , ini jawaban shandy aulia',\n 'akhir perhelatan sos run to care 2019 , ini jumlah donasi terkumpul',\n '5 tanaman paling mematikan di dunia , salah satunya ada di indonesia',\n '6 hal ini batasi pkl berjualan di trotoar',\n 'mahasiswa pariwisata , ini 6 kiat sukses di industri \" hospitality \"',\n 'ini bedanya yukata dengan kimono',\n 'alasan kesehatan dan umur , kivlan zen ajukan penangguhan penahanan',\n 'simak tips investasi sejak dini ala petenis andy roddick',\n 'anang dan ashanty jual rumah mewahnya di cinere , tertarik beli ?',\n 'pembangunan ibu kota baru bisa tangkal risiko resesi ?',\n 'mengenang chrisye , kenapa karya sang legendaris tak pernah mati ?',\n 'banyak warga jabar hanya makan kecap dan kerupuk , ini kata pakar gizi',\n 'benarkah zodiak berhubungan dengan kepribadian seseorang ?',\n 'alasan irish bella dan ammar zoni rahasiakan jenis kelamin calon bayinya',\n 'isu ganti simon mcmenemy , begini tanggapan rahmad darmawan',\n 'raline shah rela bolak-balik amerika-indonesia , ada apa ?',\n 'benarkah rutin makan jamur turunkan risiko kanker prostat pada pria ?',\n 'cara menyimpan twit orang lain di twitter tanpa ketahuan follower',\n 'kata once soal kabar republik cinta management bangkrut',\n 'video perampokan rumah makan gratis di bogor viral , begini kejadiannya',\n 'begini cara andre taulany dapat diskon besar saat beli harley',\n 'yuk , intip koleksi mobil presiden dan wakil presiden pertama di museum joang 45',\n 'wapres jusuf kalla setuju ada dewan pengawas kpk , tetapi . . .',\n 'tarif cukai rokok naik , bagaimana persaingan di industri saat ini ?',\n 'alasan shandy aulia matikan kolom komentar foto kehamilannya di ig',\n 'mahasiswa sodorkan 6 poin soal karhutla , gubernur sumsel siap mundur , jika . . .',\n 'cara polisi tindak pelanggar ganjil genap agar tidak lolos',\n 'lelang proyek jakarta international stadium diprotes , apa kata kementerian pupr ?',\n 'gojek resmi beroperasi di bandara soekarno-hatta , begini cara pesannya',\n 'masih bingung , siapa saja yang harus bayar pajak ?',\n 'usai esemka , bagaimana arah pengembangan mobil nasional ke depan ?',\n \"peserta magang dapat ' karpet merah ' jadi pegawai pln\",\n 'grab bakal pakai kendaraan listrik , apa untungnya bagi mitra pengemudi ?',\n 'ini rincian skema biaya pembangunan ibu kota baru',\n 'jokowi mau bangun istana negara di papua , ini kata bappenas',\n 'sandiaga uno akan kembali gabung dengan gerindra ?',\n 'belum ada tersangka kasus art tewas diterkam anjing , kenapa ?',\n '3 hal tentang permintaan pembangunan istana presiden di papua',\n 'muncul usulan dki gunakan dua wagub , mungkinkah ?',\n 'potret kemiskinan , keluarga di karawang ini tinggal di gubuk mirip kandang ayam',\n 'jokowi : saya paksa bumn terima 1 . 000 masyarakat papua',\n 'ide anies legalkan pkl di trotoar , langgar undang-undang ?',\n 'catat , gerhana matahari cincin terlihat di indonesia pada 26 desember 2019',\n 'sby dan air mata rindu untuk sang belahan hati , ani yudhoyono',\n 'metro sepekan : cerita kecelakaan tol cipularang , siapa wanita berbaju putih ?',\n 'top 3 news : usai raya meninggal , bagaimana kelanjutan kasus video syur vina garut ?',\n 'video : pria pamer ilmu tenaga dalam saat ditilang polisi',\n '100 hari ani yudhoyono berpulang , ini kenangan sby akan sosok memo',\n 'kisah pilu asih , diperkosa dan jadi tumbal pesugihan teman dekat',\n '4 fakta sidang perdana kasus narkoba jefri nichol',\n 'mengaku jadi korban pemerkosaan , ini 4 fakta menarik tentang barbie nouva',\n 'jadi korban perkosaan , kenapa barbie nouva tak lapor polisi ?',\n 'heboh pengakuan barbie nouva pernah diancam pistol dan diperkosa',\n 'elza syarief kecewa dengan perlakuan hotman paris',\n 'video : hailee stainfeld bakal gabung marvel ?',\n 'susah tidur , jefri nichol ditawari ganja di restoran fast food kemang',\n 'sandra dewi bikin iri karena tetap cantik dan singset usai melahirkan',\n 'pelatih timnas indonesia sebut dua pemain thailand ini punya kualitas pembeda',\n 'prediksi timnas indonesia vs thailand : pantang kalah lagi !',\n 'daftar alumnus audisi beasiswa bulu tangkis pb djarum',\n 'jelang timnas indonesia vs thailand , banyak faktor yang bebani skuat garuda',\n 'dikabarkan ingin ke mu , winger juventus marah besar',\n 'headline : audisi pb djarum disetop , bagaimana nasib regenerasi atlet bulu tangkis ?',\n '3 kemenangan terakhir timnas indonesia atas thailand',\n 'jadwal timnas indonesia vs thailand : saatnya bangkit !',\n 'hatem ben arfa dan 7 pemain bintang yang tak punya klub',\n 'wonderkid thailand siap bikin malu timnas indonesia di jakarta',\n '4 pertemuan timnas indonesia vs thailand yang tak terlupakan',\n 'persib incar bachdim dan ferdinand ? begini kata robert alberts',\n '5 pelatih dengan bayaran tertinggi di dunia',\n 'penuh gairah , petenis seksi ini cium mesra pacar baru usai gagal di as terbuka',\n 'susunan pemain timnas indonesia vs thailand : beto kembali jadi andalan',\n '3 kendala manchester united yang belum diatasi ole gunnar solskjaer',\n 'alexis sanchez tak sudi balik ke mu lagi',\n 'samsung galaxy a20s punya tiga kamera utama ?',\n 'pes 2020 resmi meluncur , cek spesifikasi pc kamu apakah bisa main gim ini ?',\n 'top 3 tekno : harga samsung galaxy a50s bikin penasaran',\n 'indonesia bakal alami hari tanpa bayangan pada 23 september , apa itu ?',\n 'ini bocoran spesifikasi , harga , dan fitur iphone 11 yang meluncur malam ini',\n 'ini 4 rahasia tubuh seksi georgina rodriguez , pacar cristiano ronaldo',\n 'punya visi berbeda , apa yang diusung arif-doni untuk duduki kursi panas pssi ?',\n 'ada peran klopp dalam transfer coutinho ke bayern munchen',\n 'fekir masih sakit hati kepada liverpool',\n 'alasan simon mcmenemy usai timnas indonesia kalah telak dari thailand',\n 'timnas indonesia babak belur lawan thailand',\n 'arsenal bikin kesalahan fatal jual iwobi',\n 'observatorium laut milik jerman hilang misterius , dugaan mengarah pada . . .',\n 'top 3 global : sejumlah asteroid melintasi bumi mencuri perhatian',\n 'wanita diduga bomber bunuh diri meledak dekat markas militer filipina , teror ?',\n 'tiga asteroid melintas kemarin dan pagi ini , bagaimana dampaknya untuk bumi ?',\n 'hari pencegahan bunuh diri sedunia , ayo ikut berperan',\n 'korut tembakkan proyektil usai setuju bertemu as akhir september , pertanda apa ?',\n 'menguak makhluk misterius di loch ness skotlandia , teka-teki mulai terpecah',\n 'detik-detik gajah mengamuk di pawai buddha sri lanka , 18 orang terluka',\n 'teleskop radio raksasa di china mendeteksi sinyal dari antariksa , alien ?',\n 'kerap bikin bingung awam , ini perbedaan antara asteroid , komet dan meteor',\n \"donald trump sebut perundingan damai as - taliban sudah ' mati '\",\n 'kisah istri polisi di hong kong berhadapan dengan suami saat demonstrasi',\n 'serempet pejalan kaki , pemotor arogan ditangkap polisi',\n 'perhatikan 4 hal ini sebelum memilih bbm',\n 'kocak , pengendara wanita mabuk laporkan dirinya sendiri ke polisi',\n 'honda genio gunakan rangka baru , apa kelebihannya ?',\n 'banyak yang tak tahu , ini koleksi mobil bj habibie',\n 'motor listrik ini menjawab tantangan di lintasan balap',\n 'perhatikan hal-hal ini saat bangun kustom motor',\n 'perhatikan hal ini sebelum ganti shockbreaker honda adv150',\n 'komunitas mobil komentari perluasan ganjil genap',\n 'posisi kalapas sukamiskin kembali diganti , mengapa ?',\n '3 harimau sumatra dikabarkan muncul di siak , ini penjelasan bbksda riau',\n 'warga geger , ada tiga karung ganja dalam septic tank',\n 'alasan pemuda partai golkar diy minta wali kota yogyakarta mengundurkan diri',\n 'kabut asap kebakaran hutan makin parah di jambi , siapa bertanggung jawab ?',\n '6 masjid indah yang jadi destinasi wisata favorit dunia',\n 'resep cilok anti-alot , mengunyah tak lagi susah',\n 'menikmati sunset pulau dewata di toko oleh-oleh',\n 'mana yang benar , 4 atau 5 destinasi super prioritas ?',\n 'peneliti singapura ungkap fakta mengejutkan soal tsunami aceh',\n 'begini cara atasi depresi pada anak yang perlu orangtua tahu',\n 'remaja sering berpikiran untuk bunuh diri , begini 6 cara mencegahnya',\n 'cara cegah orang bunuh diri lewat medsos',\n 'pertanyaan kapan nikah yang terus menerus bisa picu orang ingin bunuh diri ?',\n 'keinginan untuk bunuh diri bisa muncul karena 5 kondisi ini',\n 'kecanduan seks , ibu satu anak ini pernah tidur dengan lebih dari 100 orang',\n 'tak sengaja telan air mani , apa saja risikonya ?',\n '4 karya bj habibie di industri dirgantara yang bikin bangga indonesia',\n 'hasil lelang proyek stadion bmw digugat , ini kata menteri pupr',\n 'milenial bakal sulit punya rumah di ibu kota baru',\n 'subsidi listrik turun , bagaimana nasib pelanggan 450 va ?',\n 'bj habibie meninggal , menteri bambang kenang soal beda mazhab pembangunan',\n 'bj habibie punya jiwa entrepreneur tinggi',\n 'capim kpk lili pintauli : saya tidak setuju dewan pengawas',\n 'stafsus presiden paparkan bukti jokowi serius bangun papua',\n 'bj habibie meninggal dunia , annisa yudhoyono : beliau siap dipanggil . . .',\n 'melanie subono kabarkan bj habibie meninggal : sampai jumpa di keabadian . . .',\n 'jokowi mendadak kunjungi rspad , tempat bj habibie dirawat',\n 'fakta-fakta penemuan jenazah asih korban pesugihan teman dekatnya',\n 'saksikan pertarungan sengit psm makassar dan psis semarang live di indosiar',\n 'capim nawawi : ada persoalan di wadah pegawai kpk',\n 'siapa yang unggul , persija atau persipura ? saksikan live di indosiar malam ini',\n 'gerindra setuju wacana wagub dki jakarta lebih dari satu , tapi . . .',\n 'ini yang akan didalami dpr dalam fit and proper test capim kpk',\n '4 hal soal polemik pemenang tender proyek stadion bmw',\n 'lima capim kpk akan ikuti fit and proper test hari ini',\n 'gerindra : kalau masih bisa jalan di trotoar , ngapain pkl diusir ?',\n 'pan¬†beberkan¬†janji-janji anies baswedan yang belum terlaksana',\n 'cerita jokowi soal harga bbm dan semen di papua',\n 'top 3 news : kisah pilu asih , jadi tumbal pesugihan teman dekat',\n 'desa di bali ini denda rp 1 juta pendaki gunung agung',\n 'keluarga asih tak percaya , anaknya jadi korban pesugihan teman dekat',\n '4 janji jokowi saat bertemu dengan tokoh papua',\n '4 fakta soal sakitnya bj habibie',\n 'fakta-fakta kecelakaan nganjuk yang telan korban jiwa',\n 'bj habibie meninggal dunia , ahy : berbahagia kembali dengan bu ainun . . .',\n 'duka para artis atas meninggalnya bj habibie',\n 'mimpi disiram darah , elly sugigi kini mantap berhijab',\n 'vicky prasetyo diam-diam dekati sarita abdul mukti',\n 'marsha aruan sudah pakai makeup sejak smp',\n 'terungkap , bill skarsgard sang badut pennywise ternyata pria beranak satu',\n 'pengalaman manggung ari lasso , dari hotel mewah hingga lokasi banjir',\n 'cut meyriska tunjukkan tanda-tanda kehamilan ?',\n 'atta halilintar sindir tukang karang cerita , siapa yang dimaksud ?',\n 'winky wiryawan latihan olah tubuh dan menetralkan diri , buat apa ?',\n 'aguero hengkang , berikut 3 calon striker penggantinya',\n 'pelatih thailand puji dua pemain ini usai permalukan timnas indonesia',\n 'legenda mu puji performa daniel james',\n '3 hal yang harus dilakukan mu untuk membungkam leicester',\n 'lukaku lega bisa bermain di bawah asuhan conte',\n 'thiago silva sebut neymar bakal tetap jadi andalan psg',\n 'sergio ramos minta izin hengkang dari real madrid',\n 'bomber chelsea jadi korban rasial , sang ibu merasa terpukul',\n 'jadi sasaran kritikan , eks kapten mu akui kehilangan berat badan 8 kilogram',\n 'frank lampard ingin rekrut pemain ini untuk chelsea',\n 'hazard berpeluang lakoni debut bersama real madrid lawan levante ?',\n 'nilai pemain timnas indonesia saat dipecundangi thailand',\n 'podcast : audisi pb djarum dihentikan , bagaimana nasib atlet belia',\n 'kecerobohan ederson buat timnas brasil takluk dari peru',\n '5 calon kuat top skorer liga champions 2019-2020',\n 'berapa lama simon mcmenemy menduduki kursi pelatih timnas indonesia ?',\n '3 hal yang wajib segera dibenahi mu',\n 'fakta menarik persaingan liga inggris hingga pekan ke-4',\n \"ramos sebut bek liverpool lebih pantas menangkan ballon d ' or ketimbang cristiano ronaldo\",\n 'klub david beckham mulai menggoda lionel messi',\n 'absen lebih dari semusim , mantan bek juventus siap kembali bela ac milan',\n 'kapten real madrid : biarkan gareth bale bermain golf',\n 'mesin gol barcelona belum komplet saat menjamu valencia',\n 'sepak terjang cucu bj habibie di dunia sepak bola , sempat berguru ke eropa',\n 'neymar masih berpeluang kembali ke barcelona',\n 'sadio mane jawab rumor akan hengkang dari liverpool',\n 'sempat bikin miris , aksi bocah merokok di laga amal ternyata . . .',\n 'top 3 tekno : bocoran informasi spesifikasi , fitur dan harga iphone 11',\n 'video : melihat lebih dekat wujud iphone 11',\n 'dukung grafis tinggi untuk main gim , ini spesifikasi lengkap galaxy a50s',\n 'video top 3 : iphone 11 resmi dirilis , berapa harganya ?',\n 'video : iphone 11 resmi dirilis , lebih baik dari iphone x ?',\n 'apple umumkan ipad anyar 10 , 2 inci , harganya ?',\n 'berbulu dan suka menggigit , kenalkan pelatih gulat masa kecil khabib nurmagomedov',\n 'seksinya pacar cristiano ronaldo , georgina rodriguez , saat sesi foto busana transparan',\n 'mantan bek kiri mu ingin jadi pelatih',\n 'wonderkid inggris bikin mu gigit jari',\n 'mantan pemain barcelona divonis penjara dua tahun',\n 'anaknya menjadi korban rasisme , ibu striker chelsea menangis',\n 'rahim hingga kelamin pria , ini transplantasi dunia yang diklaim sukses',\n 'selain sebesar big ben , 6 asteroid raksasa ini pernah melintas dan dekati bumi',\n 'ini 17 pemenang hassan wirajuda perlindungan wni award 2019',\n 'gara-gara 4 hal sepele , sejumlah orang ini mendadak tajir',\n 'waspada , 4 benda umum di rumah ini ternyata bisa diretas',\n '6 kisah pilu dalam pesan terakhir korban tragedi 9 / 11',\n 'ngeri , bakteri sekarang bisa temukan cara untuk kebal dari antibiotik',\n 'kisah korban penculikan isis , alami kekerasan seksual hingga dijual 20 kali',\n 'lobster super langka ditemukan , begini penampakannya',\n 'romansa sebelum ajal menjemput di tragedi 9 / 11 : aku cinta padamu , sayang . . .',\n 'video : patroli kopi cara polisi dekatkan diri dengan warga',\n 'penampilan terbaru jaguar e-type 1964 setelah 30 tahun terdampar di hutan',\n 'land rover defender 2020 resmi diperkenalkan , intip kecanggihannya',\n 'diduga¬†rebadge merek cina , pemerintah jelaskan sistem perakitan esemka',\n 'suv mewah rolls-royce cullinan kena recall , apa yang bermasalah ?',\n 'dianggap sering kecelakaan , suv bakal dilarang di kota ini',\n 'terlihat mirip , polisi ini ternyata tilang ayah kandungnya',\n 'wajib diperhatikan , ini 5 ciri ban harus segera diganti',\n 'ingin buat sim international , ini syarat dan biayanya',\n 'honda zoomer terdaftar di samsat dki jakarta , berapa harganya ?',\n 'jangan sembarangan , begini teknik mengendarai sepeda motor dengan boks',\n 'cinta ditolak , pisau menghunjam',\n 'cerita mistis pemuda jember melihat karnaval di hutan angker',\n 'cerita petugas bpbd banyumas 24 jam kirim bantuan air bersih',\n 'tersebar video bercanda di dalam mobil sebelum kecelakaan maut nganjuk',\n 'bj habibie dan kisah museum yang belum terwujud',\n 'teka-teki kasus korupsi berjamaah dprd garut , siapa tersangkut ?',\n 'jejak kenangan bj habibie dalam rumah tua di gorontalo',\n 'suhu di gorontalo capai titik terendah , mengapa ?',\n 'cerita dr oz telat menyadari gejala awal alzheimer pada sang ibu',\n 'apa yang harus diperhatikan supaya gurita hidup aman dikonsumsi ?',\n 'kenali faktor risiko bunuh diri pada remaja',\n 'jadi konsumen cerdas , cek klik sebelum beli obat dan makanan',\n 'adakah waktu yang tepat untuk berhubungan seks ?',\n 'sering menahan buang air kecil , 4 penyakit ini siap mengintai',\n 'ini kekhawatiran abraham samad bila revisi uu kpk dibahas dpr-pemerintah',\n 'terungkap di balik wajah bj habibie yang tersenyum saat meninggal',\n 'mampukah indonesia jadi negara maju di 2045 ?',\n 'potret capim kpk : setuju sp 3 hingga kritik wadah pegawai',\n 'cerita ko-pilot pesawat gatotkaca n250 tentang sosok habibie',\n 'cinta habibie ke ainun , basuhan air zam-zam sebelum meninggal dunia',\n 'cerita sby tentang kedekatannya dengan bj habibie',\n 'sosok bj habibie di mata wapres jusuf kalla',\n 'bj habibie di mata jokowi hingga sby',\n 'melihat lebih dekat liang lahat untuk bj¬†habibie',\n 'sekjen mpr : pentingnya uud 1945 untuk cegah korupsi',\n 'ini rangkaian proses pemakaman jenazah bj habibie',\n 'melayat ke rumah duka , sandiaga uno ungkap pesan bj habibie',\n 'amien rais saat melihat jenazah bj habibie : wajahnya tersenyum',\n 'kenangan wiranto tentang bj habibie sejak jadi menteri hingga presiden ri',\n 'kritik kpk era agus rahardjo cs , ¬†capim nawawi : ini ott atau jebakan ?',\n 'agar masyarakat bisa melayat bj habibie , aturan ganjil genap di tiga jalan ini tak berlaku',\n 'headline : janji jokowi untuk papua , damai di bumi cenderawasih bakal terwujud ?',\n 'fakta mengejutkan terungkap usai kecelakaan nganjuk terjadi',\n 'mengingat tragedi berdarah tanjung priok 35 tahun silam',\n 'top 3 news : annisa pohan sebut bj habibie siap dipanggil karena ibu ainun menunggunya',\n '2 pesan terakhir bj habibie ke keponakannya',\n 'nasihat habibie untuk partai golkar dan pemerintah pusat',\n 'dukungan bj habibie yang dikenang menteri susi',\n 'selamat jalan profesor bj habibie . . .',\n 'jokowi : selamat jalan , mr crack . . .',\n 'doa untuk bj habibie yang dibacakan menteri agama',\n 'pesan bj habibie untuk kemajuan industri indonesia',\n 'menteri susi : harga ayam dan daging mahal , ayo makan ikan !',\n 'ingin dapat diskon tiket kereta api ? ini caranya',\n 'malaysia masuk negara berpendapatan menengah ke atas , indonesia kapan ?',\n 'dpr akan pilih 5 pimpinan kpk periode 2019-2023 malam ini ?',\n 'malam kelam aulia kesuma bunuh suami dan anak tirinya',\n 'kisah kesetiaan bj habibie kepada ainun hingga ajal menjemput',\n 'segudang prestasi bj habibie , dari jadi presiden hingga penemu teori kedirgantaraan',\n 'eks ajudan : saya malu melihat habibie-ainun seperti pengantin baru',\n 'pengusaha ajukan nama calon menteri ke jokowi , ini daftarnya',\n 'saat warga antre berfoto dan berdoa di makam bj habibie',\n 'cerita sinta nuriyah tentang bj habibie ingin ikut sahur keliling',\n 'cerita soal bj habibie dan krisis 1998',\n 'sejumlah tokoh hadiri tahlilan bj habibie',\n 'harga tanah naik 4 kali lipat , milenial susah beli rumah di kaltim ?',\n 'kpk tetapkan tersangka eks dirut petral , praktik mafia migas langsung hilang ?',\n 'asisten pribadi : meski sakit , bj habibie masih pikirkan negara',\n 'viral video xanana gusmao cium kening bj habibie , begini kisahnya',\n 'di cap capim kpk bermasalah , ini penjelasan johanis tanak',\n 'berita terkini bj habibie meninggal dan upacara pemakaman',\n 'menkumham sampaikan pandangan pemerintah soal revisi uu kpk , ini isinya',\n 'sctv tayangkan lagi film habibie & ainun , simak 5 fakta menariknya',\n '5 kata-kata mutiara bj habibie semasa hidup yang menyentuh hati',\n 'bicara soal gading marten , gisella anastasia menahan tangis',\n 'kenangan reza rahadian saat bj habibie menelepon pada tengah malam',\n 'cerita ruben onsu antar jemput anak sekolah',\n 'video : mengenal autoimun , penyakit yang diderita raditya dika',\n 'akhirnya maddox buka suara soal brad pitt',\n '3 fakta raymond hartanto , adik boy william yang meninggal dunia',\n 'ketemu marshanda , raffi ahmad dibuat salah tingkah',\n 'selain 6 , 9 detik , berikut 3 film biopik atlet indonesia',\n 'populer di era 60 hingga 80-an , ini profil pedangdut legendaris ida laila¬†',\n 'nasihat bj habibie tentang pengetahuan dan cinta',\n 'duka melly goeslaw untuk bj habibie : bahagia bertemu ibu ainun di surga',\n 'mengharukan , puisi perpisahan najwa shihab untuk bj habibie',\n 'cerita reza rahadian , dapat ilham peran bj habibie lewat mimpi',\n 'melanie soebono dapat pesan terakhir bj habibie , apa katanya ?',\n 'jadi komentator golden memories asia indosiar , ini 5 hit besar ruth sahanaya',\n 'pesan terakhir bj habibie untuk reza rahadian',\n 'miley cyrus dan kaitlynn carter sudah tinggal serumah ?',\n 'cerita bj habibie tentang kesukaan pada sinetron cinta fitri',\n 'digoda mu , fokus gelandang newcastle terganggu',\n 'pemain-pemain tercepat di serie a versi fifa 20 , siapa saja ?',\n 'mau lolos liga champions , mu dituntut menang lawan tim gurem',\n 'urusan transfer , mu siap menggila di bursa musim dingin',\n 'hukuman dikurangi , chelsea bakal bikin pusing ac milan',\n '3 faktor penyebab de ligt terpuruk di juventus',\n 'daniel james masih takjub jalani debut bersama mu',\n 'jadi sorotan , inilah beda reaksi kiper timnas indonesia dan winger thailand',\n 'ini alasan mkhitaryan tinggalkan arsenal',\n 'legenda liverpool sentil penyerang mu',\n 'bj habibie meninggal , persebaya : selamat jalan eyang . . . .',\n 'pertanyakan keseriusan barcelona boyong kembali neymar , lionel messi ngambek ?',\n '10 pemain tercepat di liga inggris versi fifa 20',\n 'mediasi bersama kemenpora , ini 4 kesepakatan pb djarum dengan kpai',\n 'karier kontroversial pelatih timnas indonesia simon mcmenemy',\n 'motogp : ini perbedaan jorge lorenzo dan marc marquez',\n 'saatnya mu bangkit',\n 'dituduh korupsi , agen kiper real madrid ditangkap',\n '3 calon mesin gol manchester city jika sergio aguero pergi',\n 'fiorentina vs juventus : kembalinya sarri , debut aaron ramsey ?',\n 'terungkap , gelandang mu batal pindah ke psg gara-gara neymar',\n '6 wonderkid yang diprediksi bersinar di liga champions 2019-2020',\n '3 tanda cristiano ronaldo bakal nikahi si seksi georgina rodriguez',\n 'ini harga trio iphone 11',\n 'top 3 tekno : kabar duka bj habibie meninggal dunia jadi sorotan',\n '4 pesawat bj habibie yang bikin indonesia bangga',\n 'pixel 4 akan hadir 15 oktober 2019 ?',\n 'video : bj habibie di mata para tokoh dunia',\n 'warganet ramaikan peluncuran iphone 11 dengan meme kocak',\n 'tanya tekno : apa bisa pasang dongle dan perangkat beda frekuensi ?',\n 'video : waspada handphone kw dijual di pasaran , berikut ciri-cirinya',\n 'viral , video persahabatan bj habibie dan xanana gusmao bikin warganet terharu',\n 'mertesacker pahami fans arsenal frustrasi lihat ozil',\n 'si cantik kartika berliana siap begadang kawal liga champions dan liga europa di vidio',\n '3 manajer tim liga inggris ini terancam pemecatan , salah satunya solskjaer',\n 'sosok bj habibie dalam kenangan asisten pelatih bali united',\n 'kesal dengan kondisi klub , presiden napoli tantang ingin beli ac milan',\n '10 pencetak gol termuda sepanjang sejarah liga spanyol',\n 'florentino perez cerita tentang kegagalan real madrid mendapatkan paul pogba',\n 'penasaran , chelsea kembali incar striker ac milan ?',\n 'video : viral video siswa pukuli teman-temannya',\n '6 perang paling berdarah dan mematikan dalam sejarah dunia',\n 'kabar bj habibie meninggal jadi sorotan dunia',\n 'begini cara astronot memperingati tragedi 9 / 11 dari angkasa luar',\n 'matikan gps dan kegiatan sehari-hari ini ternyata bisa bikin cerdas',\n 'bukan ufo , bangunan unik ini merupakan pabrik bir',\n 'penemuan air di planet berpotensi layak huni mirip bumi buka peluang riset alien ?',\n 'taipan pedalaman hingga weling , kenali 6 ular paling mematikan di dunia',\n 'jangan asal ngegas , ini yang mesti dilakukan sebelum motor jalan',\n 'warisan soeharto , ini mobil dinas bj habibie saat jadi presiden',\n 'mau jago gymkhana , simak triknya',\n 'permudah masyarakat melayat bj habibie , ganjil genap di 3 jalan ini tak berlaku',\n 'merek nasional , pemerintah maklumi esemka bima hanya ganti merek ?',\n 'kaya mendadak , pasutri ini beli 3 mobil lalu diburu polisi',\n 'tertarik tingkatkan skill berkendara motor , tempat ini bisa dicoba',\n 'suzuki punya naked bike terbaru , ini bocoran spesifikasi dan harganya',\n ...]"
     },
     "execution_count": 21,
     "metadata": {},
     "output_type": "execute_result"
    }
   ],
   "source": [
    "d_both"
   ],
   "metadata": {
    "collapsed": false
   }
  },
  {
   "cell_type": "code",
   "execution_count": 22,
   "outputs": [
    {
     "name": "stdout",
     "output_type": "stream",
     "text": [
      "['masuk radar pilwalkot medan , menantu jokowi bertemu dpw nasdem sumut', 'malaysia sudutkan ri : isu kabut asap hingga invasi babi', 'kemensos salurkan rp 7 , 3 m bagi korban kerusuhan sosial di papua', 'mpr : amandemen uud 1945 tak akan melebar ke mana-mana', 'peringati tahun baru islam , banyuwangi kembali gelar festival muharam']\n",
      "['viral ! driver ojol di bekasi antar pesanan makanan pakai sepeda', 'ada motor nyangkut di atas bambu di sleman , kok bisa ?', 'pesan gamblang poyuono menolak revisi uu kpk', 'kocak ! maling di rumah mewah jakut terekam cctv bingung cari jalan kabur', 'viral video diduga baku tembak di sleman , ini kata polisi']\n"
     ]
    }
   ],
   "source": [
    "# create list of clickbait and nonclickbait headline\n",
    "\n",
    "df_clickbait_t = df_clickbait_clean.drop(['label', 'label_encoding'], axis=1).values.tolist()\n",
    "clickbait_l_c = list(itertools.chain.from_iterable(df_clickbait_t))\n",
    "\n",
    "df_nonclickbait_t = df_nonclickbait_clean.drop(['label', 'label_encoding'], axis=1).values.tolist()\n",
    "nonclickbait_l_c = list(itertools.chain.from_iterable(df_nonclickbait_t))\n",
    "\n",
    "print(nonclickbait_l_c[0:5])\n",
    "print(clickbait_l_c[0:5])"
   ],
   "metadata": {
    "collapsed": false
   }
  },
  {
   "cell_type": "markdown",
   "source": [
    "# Feature Extraction: Ngram [100% DONE]"
   ],
   "metadata": {
    "collapsed": false
   }
  },
  {
   "cell_type": "code",
   "execution_count": 23,
   "outputs": [],
   "source": [
    "#these are methods that will become useful when extracting attribute markers\n",
    "#why do we need all this? well... that's like 5 hours of debugging...\n",
    "def flatten(foo):\n",
    "    return list(_flatten(foo))\n",
    "\n",
    "def _flatten(foo):\n",
    "    for x in foo:\n",
    "        if isinstance(x, collections.Iterable) and not isinstance(x, str):\n",
    "            for y in _flatten(x):\n",
    "                yield y\n",
    "        else:\n",
    "            yield x\n",
    "\n",
    "def array_to_string(a):\n",
    "    return ' '.join(flatten(a))\n",
    "\n",
    "def is_in_string_array(elements, original): #deprecated, does not take into account sequence order\n",
    "    return np.isin(array_to_string(elements).split(), array_to_string(original).split()).any()\n",
    "# no usage in the func\n",
    "def insert_string(string, inserted_string, index):\n",
    "    return string[:index] + inserted_string + string[index:]\n",
    "\n",
    "# modified from https://stackoverflow.com/questions/41752946/replacing-a-character-from-a-certain-index\n",
    "def replace_string(s, newstring, index, nofail=False):\n",
    "    # raise an error if index is outside of the string\n",
    "    if not nofail and index not in range(len(s)):\n",
    "        raise ValueError(\"index outside given string. index:\" + index)\n",
    "\n",
    "    # if not erroring, but the index is still not in the correct range..\n",
    "    if index < 0:  # add it to the beginning\n",
    "        return newstring + s\n",
    "    if index > len(s):  # add it to the end\n",
    "        return s + newstring\n",
    "\n",
    "    # insert the new string between \"slices\" of the original\n",
    "    return s[:index] + newstring + s[index + len(newstring):]"
   ],
   "metadata": {
    "collapsed": false
   }
  },
  {
   "cell_type": "code",
   "execution_count": 24,
   "outputs": [],
   "source": [
    "# creating function for making ngram from list of headline\n",
    "def ngram_maker_v2(list_sentences, min_length, max_length):\n",
    "    lengths = range(min_length, max_length + 1)\n",
    "    res_ngram = {length : [] for length in lengths}\n",
    "\n",
    "    for leng in lengths:\n",
    "        for sentence in list_sentences:\n",
    "            temp_set = set()\n",
    "            n_grams = ngrams(nltk.word_tokenize(sentence), leng)\n",
    "\n",
    "            for grams in n_grams:\n",
    "                res = ' '.join(grams)\n",
    "                temp_set.add(res)\n",
    "\n",
    "            for key in temp_set:\n",
    "                split_t = tuple(key.split(\" \"))\n",
    "                res_ngram[leng].append(split_t)\n",
    "\n",
    "    return res_ngram"
   ],
   "metadata": {
    "collapsed": false
   }
  },
  {
   "cell_type": "code",
   "execution_count": 25,
   "outputs": [],
   "source": [
    "# create a function that count the ngram occurance\n",
    "def counter_for_ngram(ngram_dict, min_length, max_length):\n",
    "    lengths = range(min_length, max_length + 1)\n",
    "    ngram_count_res = {length : [] for length in lengths}\n",
    "\n",
    "    for key in ngram_dict:\n",
    "        ng_count = Counter(ngram_dict[key])\n",
    "        ngram_count_res[key] = ng_count\n",
    "\n",
    "    return ngram_count_res"
   ],
   "metadata": {
    "collapsed": false
   }
  },
  {
   "cell_type": "code",
   "execution_count": 26,
   "outputs": [],
   "source": [
    "param_span_t = 3\n",
    "clickbait_ngrams_v2= ngram_maker_v2(list_sentences=clickbait_l_c, min_length=1, max_length=param_span_t)\n",
    "clickbait_ngram_count_v2 = counter_for_ngram(ngram_dict=clickbait_ngrams_v2,min_length=1, max_length=param_span_t)\n",
    "\n",
    "non_clickbait_ngrams_v2= ngram_maker_v2(list_sentences=nonclickbait_l_c, min_length=1, max_length=param_span_t)\n",
    "non_clickbait_ngram_count_v2 = counter_for_ngram(ngram_dict=non_clickbait_ngrams_v2,min_length=1, max_length=param_span_t)"
   ],
   "metadata": {
    "collapsed": false
   }
  },
  {
   "cell_type": "code",
   "execution_count": 27,
   "outputs": [],
   "source": [
    "# creat function for get ngram from the word in the one sentence reference only\n",
    "def ngram_from_sentence_v3(ori_sentence, min_length, max_length):\n",
    "    sent_in_arr = [ori_sentence]\n",
    "    res_ngram_sentence = []\n",
    "    stc_ngram_only = ngram_maker_v2(list_sentences=sent_in_arr, min_length=min_length, max_length=max_length)\n",
    "    return stc_ngram_only\n",
    "\n",
    "def count_ngram_sentence_onlyV3(ngram_dictionary, ngram_from_sentence, min_length, max_length):\n",
    "    lengths = range(min_length, max_length + 1)\n",
    "    ngram_compare_arr = []\n",
    "\n",
    "    for length in lengths:\n",
    "        for split in ngram_from_sentence[length]:\n",
    "            ngram_compare_arr.append([split, ngram_dictionary[length][split]])\n",
    "\n",
    "    return np.array(ngram_compare_arr)"
   ],
   "metadata": {
    "collapsed": false
   }
  },
  {
   "cell_type": "code",
   "execution_count": 28,
   "outputs": [],
   "source": [
    "# create function for get the attribute of the sentence\n",
    "\n",
    "smoothing_parameter = 1\n",
    "\n",
    "def array_to_string(a):\n",
    "    return ' '.join(flatten(a))\n",
    "\n",
    "# the word is in the final array;\n",
    "def is_in_string_array_v2(elements, original):\n",
    "    return np.isin(array_to_string(elements).split(), array_to_string(original).split()).any()\n",
    "\n",
    "# the the attribute based on the sentence, with min_length, max_length and the reference clickbait/nonclickbait dictinoary\n",
    "def get_attribute_sentence(sentence, min_length, max_length, ref_bait, param_threshold):\n",
    "    # ngram sentence as reference\n",
    "    sentence_ngram_ref = ngram_from_sentence_v3(ori_sentence=sentence, min_length=min_length, max_length=max_length)\n",
    "\n",
    "    # count the clickbait sentence, clickbait ngram count as based reference\n",
    "    counts_sentence_clickbait = count_ngram_sentence_onlyV3(clickbait_ngram_count_v2,sentence_ngram_ref,min_length,max_length)\n",
    "\n",
    "    # print(counts_sentence_clickbait)\n",
    "\n",
    "    # count the non-clickbait sentence, non-clickbait ngram count as based reference\n",
    "    counts_sentence_nonclickbait = count_ngram_sentence_onlyV3(non_clickbait_ngram_count_v2,sentence_ngram_ref,min_length,max_length)\n",
    "\n",
    "    importances = 0\n",
    "\n",
    "    csn_int = counts_sentence_nonclickbait[:,1]\n",
    "    csn_ngram = counts_sentence_nonclickbait[:,0]\n",
    "\n",
    "    csc_int = counts_sentence_clickbait[:,1]\n",
    "    csc_ngram = counts_sentence_clickbait[:,0]\n",
    "\n",
    "    if ref_bait == \"to-clickbait\":\n",
    "        top = (csc_int + smoothing_parameter)\n",
    "        bottom = (csn_int + smoothing_parameter)\n",
    "        importances = (top/bottom)\n",
    "    elif ref_bait == \"to-non-clickbait\":\n",
    "        top = (csn_int+ smoothing_parameter)\n",
    "        bottom = (csc_int + smoothing_parameter)\n",
    "        importances = (top/bottom)\n",
    "\n",
    "    # print(counts_sentence_clickbait)\n",
    "\n",
    "    de = counts_sentence_clickbait[:, 0]\n",
    "    # print(\"impot: \", importances)\n",
    "\n",
    "    # print(\" de: \", de)\n",
    "    importances_t = np.vstack((importances, de)).T\n",
    "\n",
    "    # print(\"importances_t\", importances_t)\n",
    "\n",
    "    attribute_words = []\n",
    "    for importance in importances_t:\n",
    "        if importance[0] > param_threshold and not is_in_string_array_v2(importance[1], attribute_words):\n",
    "            # print(importance[1])\n",
    "            attribute_words.append(' '.join(importance[1]))\n",
    "\n",
    "    return attribute_words"
   ],
   "metadata": {
    "collapsed": false
   }
  },
  {
   "cell_type": "code",
   "execution_count": 29,
   "outputs": [
    {
     "name": "stderr",
     "output_type": "stream",
     "text": [
      "/var/folders/1n/2gdy6g815s301ygx2s35p6_80000gp/T/ipykernel_44240/4054946038.py:16: VisibleDeprecationWarning: Creating an ndarray from ragged nested sequences (which is a list-or-tuple of lists-or-tuples-or ndarrays with different lengths or shapes) is deprecated. If you meant to do this, you must specify 'dtype=object' when creating the ndarray.\n",
      "  return np.array(ngram_compare_arr)\n",
      "/var/folders/1n/2gdy6g815s301ygx2s35p6_80000gp/T/ipykernel_44240/1295762271.py:8: DeprecationWarning: Using or importing the ABCs from 'collections' instead of from 'collections.abc' is deprecated since Python 3.3, and in 3.10 it will stop working\n",
      "  if isinstance(x, collections.Iterable) and not isinstance(x, str):\n"
     ]
    }
   ],
   "source": [
    "# run the get attribute sentence\n",
    "test11 = get_attribute_sentence(\"viral ini ! bj habibie meninggal\", 1, 2, \"to-clickbait\", 4 )"
   ],
   "metadata": {
    "collapsed": false
   }
  },
  {
   "cell_type": "code",
   "execution_count": 30,
   "outputs": [],
   "source": [
    "def separate(sentence, style_src, param_threshold):\n",
    "    attributes = get_attribute_sentence(sentence, 1, 2, \"to-clickbait\", param_threshold )\n",
    "    c = sentence\n",
    "\n",
    "    replace_indexes = []\n",
    "\n",
    "    for a in attributes:\n",
    "        replace_index = -1\n",
    "        replace_index = c.find(a)\n",
    "        replace_indexes.append(replace_index)\n",
    "        c = c.replace(a, \" \"*len(a))\n",
    "\n",
    "    if len(attributes) == 0:\n",
    "        return {'c': c, 'a': [], 'i': [], 's': sentence}\n",
    "\n",
    "    replace_indexes, attributes = zip(*sorted(zip(replace_indexes, attributes)))\n",
    "    return {'c': c, 'a': attributes, 'i': replace_indexes, 's': sentence}\n",
    "\n",
    "def get_c(sentence, style, param_threshold):\n",
    "    return re.sub(' +', ' ', separate(sentence, style, param_threshold)['c'])\n",
    "\n",
    "def get_a(sentence, style, param_threshold):\n",
    "    a = separate(sentence, style, param_threshold)['a']\n",
    "    if len(a) > 0:\n",
    "        return ' '.join(a)\n",
    "    else:\n",
    "        return \"\""
   ],
   "metadata": {
    "collapsed": false
   }
  },
  {
   "cell_type": "code",
   "execution_count": 31,
   "outputs": [],
   "source": [
    "# stc_test_retrieve = \"kocak ! maling di rumah mewah jakut terekam cctv bingung cari jalan kabur\"\n",
    "# get_attribute_sentence(stc_test_retrieve, 1, 2, \"to-clickbait\", 5)\n",
    "# separate(stc_test_retrieve, \"to-clickbait\", 5)\n",
    "#\n",
    "# \"Viral !\"\n",
    "#\n",
    "# Viral\n",
    "# !\n",
    "# Viral !\n",
    "#\n",
    "# [\"Viral\", \"!\"]"
   ],
   "metadata": {
    "collapsed": false
   }
  },
  {
   "cell_type": "markdown",
   "source": [
    "# Preprocessed : TFIDF, Retrieve Function [100% DONE]"
   ],
   "metadata": {
    "collapsed": false
   }
  },
  {
   "cell_type": "markdown",
   "source": [
    "to get similar sentece in the clickbait headline list"
   ],
   "metadata": {
    "collapsed": false
   }
  },
  {
   "cell_type": "code",
   "execution_count": 32,
   "outputs": [],
   "source": [
    "# 3 of all headline list\n",
    "# d_both\n",
    "# nonclickbait_l_c\n",
    "# clickbait_l_c"
   ],
   "metadata": {
    "collapsed": false
   }
  },
  {
   "cell_type": "code",
   "execution_count": 33,
   "outputs": [
    {
     "name": "stderr",
     "output_type": "stream",
     "text": [
      "/Users/nurrizkyimani/.conda/envs/workspace/lib/python3.8/site-packages/sklearn/utils/deprecation.py:87: FutureWarning: Function get_feature_names is deprecated; get_feature_names is deprecated in 1.0 and will be removed in 1.2. Please use get_feature_names_out instead.\n",
      "  warnings.warn(msg, category=FutureWarning)\n"
     ]
    }
   ],
   "source": [
    "# import all needed librarty\n",
    "tfidf_vectorizer=TfidfVectorizer(use_idf=True, stop_words=None)\n",
    "tfidf_vectorizer_vectors=tfidf_vectorizer.fit_transform(d_both)\n",
    "dict_idf = dict(zip(tfidf_vectorizer.get_feature_names(), tfidf_vectorizer.idf_))"
   ],
   "metadata": {
    "collapsed": false
   }
  },
  {
   "cell_type": "markdown",
   "source": [],
   "metadata": {
    "collapsed": false
   }
  },
  {
   "cell_type": "code",
   "execution_count": 34,
   "outputs": [],
   "source": [
    "param_backoff_limit = 3\n",
    "def get_overlap(a, b):\n",
    "    #     print(a, b)\n",
    "    a_counter = collections.Counter(a.split())\n",
    "    b_counter = collections.Counter(b.split())\n",
    "    overlap = a_counter & b_counter\n",
    "    return overlap\n",
    "\n",
    "def get_weighted_overlap(a, b):\n",
    "    overlap = get_overlap(a, b)\n",
    "    a_counter = collections.Counter(a.split())\n",
    "    #calculate\n",
    "    weighted_overlap = 0\n",
    "    for word in overlap:\n",
    "\n",
    "        word_tf = a_counter[word]#/len(a.split()) -> commented out cause division by constant value doesn't matter\n",
    "\n",
    "        get_idf = dict_idf.get(word)\n",
    "        word_idf = 1 if get_idf == None else get_idf #get rid of error when idf not in dict\n",
    "\n",
    "        word_tfidf = word_tf*word_idf\n",
    "        weighted_overlap+=overlap[word]*word_tfidf\n",
    "\n",
    "    return weighted_overlap\n",
    "\n",
    "# 0 = nonclickbait_l_c\n",
    "# 1 = clickbait_l_c\n",
    "\n",
    "def get_similar_sentence_v2(sentence, style_src):\n",
    "    opposite_dataset = clickbait_l_c if style_src else nonclickbait_l_c\n",
    "\n",
    "    closest_sentence = \"\"\n",
    "    highest_overlap = 0\n",
    "    previous_sentences = []\n",
    "\n",
    "    for sentence_b in opposite_dataset:\n",
    "        weighted_overlap = get_weighted_overlap(sentence, sentence_b)\n",
    "        if weighted_overlap > highest_overlap and sentence_b not in previous_sentences:\n",
    "            highest_overlap = weighted_overlap\n",
    "            closest_sentence = sentence_b\n",
    "\n",
    "    return closest_sentence\n",
    "\n",
    "def get_similar_sentence(sentence, style_src):\n",
    "\n",
    "    opposite_dataset = clickbait_l_c if style_src else nonclickbait_l_c\n",
    "    highest_overlap = 0\n",
    "    closest_sentence = \"\"\n",
    "    num_markers = 0\n",
    "    previous_sentences = []\n",
    "    backoff_count = 0\n",
    "\n",
    "    min_attribute_markers=len(get_attribute_sentence(sentence, 1, 2, \"to-non-clickbait\", 5 ))\n",
    "\n",
    "    while(num_markers < min_attribute_markers and backoff_count < param_backoff_limit):\n",
    "        for sentence_b in opposite_dataset:\n",
    "            weighted_overlap = get_weighted_overlap(sentence, sentence_b)\n",
    "            if weighted_overlap > highest_overlap and sentence_b not in previous_sentences:\n",
    "                highest_overlap = weighted_overlap\n",
    "                closest_sentence = sentence_b\n",
    "        highest_overlap = 0\n",
    "        backoff_count += 1\n",
    "        previous_sentences.append(closest_sentence)\n",
    "        num_markers = len((get_attribute_sentence(closest_sentence, 1, 2, \"to-clickbait\", 5 )))\n",
    "\n",
    "    return closest_sentence"
   ],
   "metadata": {
    "collapsed": false
   }
  },
  {
   "cell_type": "code",
   "execution_count": 35,
   "outputs": [],
   "source": [
    "# Retrieve using tfidf\n",
    "def retrieve_v2(sentence, style_ret_src):\n",
    "    style_src = 0\n",
    "    if(style_ret_src == \"to-clickbait\"):\n",
    "        style_src = 1\n",
    "\n",
    "    similar_stc =  get_similar_sentence_v2(sentence=sentence, style_src=style_src)\n",
    "    print(\"v2 stc: \", similar_stc)\n",
    "    return separate(sentence=similar_stc, style_src= \"to-clickbait\", param_threshold=5)\n",
    "\n",
    "# Retrieve using tfidf\n",
    "def retrieve(sentence, style_ret_src):\n",
    "    style_src = 0\n",
    "    if(style_ret_src == \"to-clickbait\"):\n",
    "        style_src = 1\n",
    "\n",
    "    similar_stc =  get_similar_sentence(sentence=sentence, style_src=style_src)\n",
    "    print(\"v1 stc: \", similar_stc)\n",
    "    return separate(sentence=similar_stc, style_src= \"to-clickbait\", param_threshold=5)"
   ],
   "metadata": {
    "collapsed": false
   }
  },
  {
   "cell_type": "code",
   "execution_count": 36,
   "outputs": [
    {
     "name": "stdout",
     "output_type": "stream",
     "text": [
      "v1 stc:  duarr ! bahan peledak terduga teroris jakut didisposal , warga tepuk tangan\n"
     ]
    },
    {
     "name": "stderr",
     "output_type": "stream",
     "text": [
      "/var/folders/1n/2gdy6g815s301ygx2s35p6_80000gp/T/ipykernel_44240/4054946038.py:16: VisibleDeprecationWarning: Creating an ndarray from ragged nested sequences (which is a list-or-tuple of lists-or-tuples-or ndarrays with different lengths or shapes) is deprecated. If you meant to do this, you must specify 'dtype=object' when creating the ndarray.\n",
      "  return np.array(ngram_compare_arr)\n"
     ]
    },
    {
     "data": {
      "text/plain": "{'c': 'duarr   bahan peledak terduga teroris jakut didisposal , warga tepuk tangan',\n 'a': ('!',),\n 'i': (6,),\n 's': 'duarr ! bahan peledak terduga teroris jakut didisposal , warga tepuk tangan'}"
     },
     "execution_count": 36,
     "metadata": {},
     "output_type": "execute_result"
    }
   ],
   "source": [
    "stc_test_retrieve = \"tim jibom disposal bahan peledak di rumah terduga teroris di jakut\"\n",
    "retrieve(stc_test_retrieve, \"to-clickbait\")\n",
    "# retrieve_v2(stc_test_retrieve,  \"to-clickbait\")"
   ],
   "metadata": {
    "collapsed": false
   }
  },
  {
   "cell_type": "code",
   "execution_count": 37,
   "outputs": [],
   "source": [
    "# ref_word = \"jokowi ke jakarta\"\n",
    "# retrive_setence = retrieve(ref_word) -> clickbait_dataset\n",
    "#\n",
    "# retrive_setence = \"viral !  jokowi ke australia naik pesawat\" -> clickbait_datset\n",
    "#\n",
    "#\n",
    "# retrive_setence, ref_word\n",
    "#\n",
    "# retrive_setence => attribute \"viral, ! \", content : \"jokowi ke australia naik pesawat\" , sentence :\"viral !  jokowi ke australia naik pesawat\"\n",
    "#\n",
    "#\n"
   ],
   "metadata": {
    "collapsed": false
   }
  },
  {
   "cell_type": "markdown",
   "source": [
    "# Feature Extraction: Generate, Dictionary Preprocess [100%]"
   ],
   "metadata": {
    "collapsed": false
   }
  },
  {
   "cell_type": "code",
   "execution_count": 38,
   "outputs": [],
   "source": [
    "# Resources: https://pytorch.org/tutorials/intermediate/seq2seq_translation_tutorial.html\n",
    "# Had to modify & adapt most of the code in the tutorial since this isn't translation & data preprocessing is different\n",
    "\n",
    "SOS_token = 0\n",
    "EOS_token = 1\n",
    "\n",
    "class Lang:\n",
    "    def __init__(self, name):\n",
    "        self.name = name\n",
    "        self.word2index = {}\n",
    "        self.word2count = {}\n",
    "        self.index2word = {0: \"SOS\", 1: \"EOS\"}\n",
    "        self.n_words = 2  # Count SOS and EOS\n",
    "\n",
    "    def addSentence(self, sentence):\n",
    "        for word in sentence.split(' '):\n",
    "            self.addWord(word)\n",
    "\n",
    "    def addWord(self, word):\n",
    "        if word not in self.word2index:\n",
    "            self.word2index[word] = self.n_words\n",
    "            self.word2count[word] = 1\n",
    "            self.index2word[self.n_words] = word\n",
    "            self.n_words += 1\n",
    "        else:\n",
    "            self.word2count[word] += 1"
   ],
   "metadata": {
    "collapsed": false
   }
  },
  {
   "cell_type": "code",
   "execution_count": 39,
   "outputs": [],
   "source": [
    "# count the overlap; we need function for this;\n",
    "def get_overlap(a, b):\n",
    "    a_counter = collections.Counter(a.split())\n",
    "    b_counter = collections.Counter(b.split())\n",
    "    overlap = a_counter & b_counter\n",
    "    return overlap\n",
    "\n",
    "def get_total_overlap(a, b):\n",
    "    return len(list(get_overlap(a, b).elements()))"
   ],
   "metadata": {
    "collapsed": false
   }
  },
  {
   "cell_type": "code",
   "execution_count": 40,
   "outputs": [
    {
     "name": "stderr",
     "output_type": "stream",
     "text": [
      "/var/folders/1n/2gdy6g815s301ygx2s35p6_80000gp/T/ipykernel_44240/4054946038.py:16: VisibleDeprecationWarning: Creating an ndarray from ragged nested sequences (which is a list-or-tuple of lists-or-tuples-or ndarrays with different lengths or shapes) is deprecated. If you meant to do this, you must specify 'dtype=object' when creating the ndarray.\n",
      "  return np.array(ngram_compare_arr)\n"
     ]
    },
    {
     "name": "stdout",
     "output_type": "stream",
     "text": [
      "Counted words:\n",
      "input 13917\n",
      "output 13896\n"
     ]
    },
    {
     "data": {
      "text/plain": "[[' driver di bekasi antar pesanan makanan sepeda',\n  'viral ! ojol pakai',\n  'viral ! driver ojol di bekasi antar pesanan makanan pakai sepeda'],\n ['ada motor nyangkut di atas bambu di sleman , bisa ',\n  'kok ?',\n  'ada motor nyangkut di atas bambu di sleman , kok bisa ?'],\n ['pesan gamblang poyuono menolak revisi uu kpk',\n  '',\n  'pesan gamblang poyuono menolak revisi uu kpk'],\n [' maling di rumah mewah jakut cctv bingung cari jalan ',\n  'kocak ! terekam kabur',\n  'kocak ! maling di rumah mewah jakut terekam cctv bingung cari jalan kabur'],\n [' diduga baku tembak di sleman , polisi',\n  'viral video ini kata',\n  'viral video diduga baku tembak di sleman , ini kata polisi'],\n ['waspada ada penipuan catut pertamina , korbannya rugi puluhan juta',\n  'akhirnya !',\n  'waspada ! ada penipuan catut pertamina , korbannya rugi puluhan juta'],\n ['jaksa beberkan senpi-peluru tajam pembelian kivlan zen cs , ',\n  'ini rinciannya',\n  'jaksa beberkan senpi-peluru tajam pembelian kivlan zen cs , ini rinciannya'],\n ['sering quality time bersama keluarga 3 ',\n  '? ternyata ini manfaatnya !',\n  'sering quality time bersama keluarga ? ternyata ini 3 manfaatnya !'],\n [' 55 % profesional , kandidatnya ',\n  'menteri jokowi ini',\n  'menteri jokowi 55 % profesional , ini kandidatnya ?'],\n [\" misterius berjubah putih di sumut , ingatkan ' tuhan murka '\",\n  'viral',\n  \"pria misterius berjubah putih viral di sumut , ingatkan ' tuhan murka '\"],\n [' porno disebar , motifnya ',\n  'video di sumedang pemeran pria apa ?',\n  'video porno di sumedang disebar pemeran pria , apa motifnya ?'],\n [' porno diperankan ',\n  'terungkap ! video di sumedang pasangan selingkuh',\n  'terungkap ! video porno di sumedang diperankan pasangan selingkuh'],\n ['kendaraan listrik bebas dari aturan ganjil-genap , ',\n  'ini alasannya',\n  'kendaraan listrik bebas dari aturan ganjil-genap , ini alasannya'],\n ['menanti \" kebijakan gila \" jokowi',\n  '',\n  'menanti \" kebijakan gila \" jokowi'],\n [' pemkot pekanbaru liburkan sd dan smp karena kabut asap',\n  'akhirnya !',\n  'akhirnya ! pemkot pekanbaru liburkan sd dan smp karena kabut asap'],\n ['2 ribu hektare lahan terbakar , udara di palembang tidak sehat ',\n  'akhirnya !',\n  '2 ribu hektare lahan terbakar , udara di palembang tidak sehat !'],\n [' di bekasi disebut tewas akibat bully , ketua rt',\n  'viral bocah begini kata',\n  'viral bocah di bekasi disebut tewas akibat bully , begini kata ketua rt'],\n ['anggota dprd banten ramai-ramai gadai sk , kemendagri',\n  'ini kata',\n  'anggota dprd banten ramai-ramai gadai sk , ini kata kemendagri'],\n [\" ' bantu jokowi cari menteri ' , ikuti polling di detikcom \",\n  'yuk !',\n  \"yuk ' bantu jokowi cari menteri ' , ikuti polling di detikcom !\"],\n [' 10 poin aspirasi tokoh papua jokowi di istana',\n  'saat bertemu',\n  'ini 10 poin aspirasi tokoh papua saat bertemu jokowi di istana'],\n [' perampok bercelurit satroni rumah makan gratis untuk duafa di bogor',\n  '!',\n  'viral ! perampok bercelurit satroni rumah makan gratis untuk duafa di bogor'],\n ['perhatian nama-nama kandidat ',\n  '! ini menteri jokowi',\n  'perhatian ! ini nama-nama kandidat menteri jokowi'],\n [\"pasang status ' single ' , saat terakhir kehidupan novy chardon\",\n  'inilah',\n  \"pasang status ' single ' , inilah saat terakhir kehidupan novy chardon\"],\n ['sidang gugatan ikan koi mati , saksi dari pln bicara ',\n  'ini',\n  'sidang gugatan ikan koi mati , saksi dari pln bicara ini'],\n ['fenomena anggota dprd gadaikan sk ke bank , ',\n  'gejala apa ini ?',\n  'fenomena anggota dprd gadaikan sk ke bank , gejala apa ini ?'],\n [' kabar denda rp 1 juta bagi pembeli di zona merah pkl bandung ',\n  '?',\n  'apa kabar denda rp 1 juta bagi pembeli di zona merah pkl bandung ?'],\n ['geramnya keluarga pada hoax bj habibie meninggal dunia',\n  '',\n  'geramnya keluarga pada hoax bj habibie meninggal dunia'],\n [' mahasiswa merusak pagar dpr',\n  'video detik-detik',\n  'video detik-detik mahasiswa merusak pagar dpr'],\n [' penyebab sulitnya padamkan kebakaran di gunung sumbing',\n  'ini rinciannya',\n  'ini penyebab sulitnya padamkan kebakaran di gunung sumbing'],\n ['menlu indonesia-timor leste-australia bertemu di pbb , yang dibahas',\n  'ini rinciannya',\n  'menlu indonesia-timor leste-australia bertemu di pbb , ini yang dibahas'],\n [' lokasi diduga mahasiswa halu oleo kendari tertembak',\n  'ini',\n  'ini lokasi diduga mahasiswa halu oleo kendari tertembak'],\n ['purnomo-teguh daftar cawalkot solo , peluang gibran tertutup ',\n  'kok ?',\n  'purnomo-teguh daftar cawalkot solo , peluang gibran tertutup ?'],\n ['rapat gabungan pimpinan mpr sepakat ubah tata tertib , ',\n  'ini',\n  'rapat gabungan pimpinan mpr sepakat ubah tata tertib , ini rinciannya'],\n ['panas mahasiswa-pendemo pro-uu kpk baru saling lempar botol di depan dpr',\n  '!',\n  'panas ! mahasiswa-pendemo pro-uu kpk baru saling lempar botol di depan dpr'],\n ['ylbhi sebut mahasiswa belum bisa dikontak usai demo di dpr , polri',\n  'ini kata',\n  'ylbhi sebut mahasiswa belum bisa dikontak usai demo di dpr , ini kata polri'],\n [\" demo mahasiswa bandung yang sempat ' memanas '\",\n  'video detik-detik',\n  \"video demo mahasiswa bandung yang sempat ' memanas '\"],\n [\" ' gila ' pelaku pemerkosaan di bondowoso\",\n  'ini pengakuan',\n  \"ini pengakuan ' gila ' pelaku pemerkosaan di bondowoso\"],\n [' hakim vonis seumur hidup prada deri yang mutilasi kekasihnya',\n  'ini',\n  'ini alasan hakim vonis seumur hidup prada deri yang mutilasi kekasihnya'],\n ['tukang gigi ikut demo ruu kuhp , pasal yang sudah dibatalkan mk',\n  'ini',\n  'tukang gigi ikut demo ruu kuhp , ini pasal yang sudah dibatalkan mk'],\n ['beredar polisi teriaki tni di mes pati tni al , polri',\n  'ini penjelasan',\n  'beredar video polisi teriaki tni di mes pati tni al , ini penjelasan polri'],\n [' adem polwan surabaya lantunkan asmaul husna sambut pendemo',\n  'bikin !',\n  'bikin adem ! polwan surabaya lantunkan asmaul husna sambut pendemo'],\n [' 7 tuntutan mahasiswa yang demo di depan dpr',\n  'ini rinciannya',\n  'ini 7 tuntutan mahasiswa yang demo di depan dpr'],\n [' bogor dan bandung jadi kota lomba sepeda',\n  'ini alasan favorit',\n  'ini alasan bogor dan bandung jadi kota favorit lomba sepeda'],\n ['ada politikus hingga jurnalis , cocok jadi mensos ',\n  'siapa paling ?',\n  'ada politikus hingga jurnalis , siapa paling cocok jadi mensos ?'],\n ['pelajar demo ricuh hingga lewat , mendikbud',\n  'tengah malam ini kata',\n  'pelajar demo ricuh hingga lewat tengah malam , ini kata mendikbud'],\n [\"' pasal unggas jalan-jalan ' di ruu kuhp ada kasus konkretnya , baca \",\n  'yuk !',\n  \"' pasal unggas jalan-jalan ' di ruu kuhp ada kasus konkretnya , yuk baca !\"],\n [' pelajar tewas saat hendak ikut demo dpr , kejadiannya',\n  'viral begini',\n  'viral pelajar tewas saat hendak ikut demo dpr , begini kejadiannya'],\n ['agar siswa tak demo turun ke jalan , disdik jateng',\n  'ini yang dilakukan',\n  'agar siswa tak demo turun ke jalan , ini yang dilakukan disdik jateng'],\n [' ada mantan istri bertarung di pilkades serentak di sragen',\n  'seru ! suami',\n  'seru ! ada mantan suami istri bertarung di pilkades serentak di sragen'],\n [\"gotong keranda mayat ' save kpk ' , massa gejayan memanggil : .\",\n  'innalillahi . .',\n  \"gotong keranda mayat ' save kpk ' , massa gejayan memanggil : innalillahi . . .\"],\n ['duarr bahan peledak terduga teroris jakut didisposal , warga tepuk tangan',\n  '!',\n  'duarr ! bahan peledak terduga teroris jakut didisposal , warga tepuk tangan'],\n ['ungkit aksi 1998 , 7 tuntutan massa #gejayanmemanggil',\n  'ini rinciannya',\n  'ungkit aksi 1998 , ini 7 tuntutan massa #gejayanmemanggil'],\n ['staf presiden berkunjung ke banyuwangi , lho tujuannya',\n  'ini',\n  'staf presiden berkunjung ke banyuwangi , ini lho tujuannya'],\n [' aligator ditemukan hidup di kolam belakang sekolah',\n  'ngeri !',\n  'ngeri ! aligator ditemukan hidup di kolam belakang sekolah'],\n [\"indonesia banyak ' dilirik sidang majelis umum pbb , \",\n  \"' saat ini alasannya\",\n  \"indonesia banyak ' dilirik ' saat sidang majelis umum pbb , ini alasannya\"],\n ['mengenaskan dikira beruang liar , ditembak mati putranya',\n  '! pria ini',\n  'mengenaskan ! dikira beruang liar , pria ini ditembak mati putranya'],\n [\"rkuhp denda gelandangan maksimal rp 1 juta , para ' pengemis '\",\n  'ini cerita tajir',\n  \"rkuhp denda gelandangan maksimal rp 1 juta , ini cerita para ' pengemis tajir '\"],\n ['mulan cs ditetapkan dpr , gerindra',\n  'jameela jadi anggota ini penjelasan',\n  'mulan jameela cs ditetapkan jadi anggota dpr , ini penjelasan gerindra'],\n ['soal ruu kuhp , baca lagi putusan mk soal zina dan lgbt',\n  'yuk !',\n  'soal ruu kuhp , yuk baca lagi putusan mk soal zina dan lgbt'],\n [' masyarakat simeulue mengantisipasi tsunami',\n  'ini',\n  'ini cara masyarakat simeulue mengantisipasi tsunami'],\n [\" rekayasa lalin di sekitar lokasi aksi ' gejayan memanggil '\",\n  'ini rinciannya',\n  \"ini rekayasa lalin di sekitar lokasi aksi ' gejayan memanggil '\"],\n ['rusuh wamena , fakta-faktanya',\n  'berikut ini rangkaian',\n  'rusuh wamena , berikut ini rangkaian fakta-faktanya'],\n ['gelombang demo tolak pelemahan kpk se-indonesia , titik-titiknya',\n  'ini',\n  'gelombang demo tolak pelemahan kpk se-indonesia , ini titik-titiknya'],\n ['bukan di china , long march massa aksi melintasi pertokoan magelang',\n  'ini rinciannya',\n  'bukan di china , ini long march massa aksi melintasi pertokoan magelang'],\n [\" cuitan ' sekolah yang pinter gajadi polisi ' , ridwan kamil : hoax \",\n  'viral !',\n  \"viral cuitan ' sekolah yang pinter biar gajadi polisi ' , ridwan kamil : hoax !\"],\n ['diskon naik trans semarang di 2 halte bisa bayar rp 10 ',\n  '! ini aja',\n  'diskon ! naik trans semarang di 2 halte ini bisa bayar rp 10 aja'],\n ['5 pilates untuk ibu hamil , ',\n  'apa saja ?',\n  '5 manfaat pilates untuk ibu hamil , apa saja ?'],\n ['selalu ingin tahu , 5 tidak bisa menghargai privasi ',\n  'zodiak ini orang lain',\n  'selalu ingin tahu , 5 zodiak ini tidak bisa menghargai privasi orang lain'],\n [' on , 5 tanda mantan tak akan mengajakmu balikan',\n  'move ini',\n  'move on , ini 5 tanda mantan tak akan mengajakmu balikan'],\n [' ada minum air mineral faktanya',\n  'apakah manfaat ? ini',\n  'apakah ada manfaat minum air mineral ? ini faktanya'],\n ['tetap lelap , tanpa harus melek semalaman',\n  'tidur begini cara minum kopi',\n  'tetap tidur lelap , begini cara minum kopi tanpa harus melek semalaman'],\n [' bimbang , 5 sering dipengaruhi ',\n  'mudah zodiak ini orang lain',\n  'mudah bimbang , 5 zodiak ini sering dipengaruhi orang lain'],\n [' , 4 sering mengganggu privasi temannya ',\n  'suka kepo zodiak ini paling !',\n  'suka kepo , 4 zodiak ini paling sering mengganggu privasi temannya !'],\n ['6 yang diprediksi jahat , ',\n  'zodiak paling mengapa ?',\n  '6 zodiak yang diprediksi paling jahat , mengapa ?'],\n [' ungkap menghabiskan uang , jika ekstrovert',\n  'kepribadian cara begini kamu',\n  'kepribadian ungkap cara menghabiskan uang , begini jika kamu ekstrovert'],\n ['4 terbaru yeonwoo momoland setelah vakum , berubah ',\n  'foto wajah ?',\n  '4 foto terbaru yeonwoo momoland setelah vakum , wajah berubah ?'],\n ['dikritik soal , ',\n  'foto bikini ini tanggapan shandy aulia',\n  'dikritik soal foto bikini , ini tanggapan shandy aulia'],\n [' kim kardashian mengenai psalm west',\n  'ini',\n  'ini pengakuan kim kardashian mengenai psalm west'],\n ['bukan teknis , tantangan berat ari lasso tur di 3 kota',\n  'ini rinciannya',\n  'bukan teknis , ini tantangan berat ari lasso tur di 3 kota'],\n ['jangan sampai terlewatkan , penggunaan toner pada rutinitas perawatan kulitmu',\n  '',\n  'jangan sampai terlewatkan , penggunaan toner pada rutinitas perawatan kulitmu'],\n ['8 kebiasaan yang lebih muda',\n  'bikin kamu awet',\n  '8 kebiasaan yang bikin kamu lebih awet muda'],\n ['5 yang sering melanggar privasi seseorang',\n  'zodiak paling',\n  '5 zodiak yang sering melanggar privasi seseorang'],\n ['susu bubuk dan susu cair sama baiknya , ahli',\n  'ini kata',\n  'susu bubuk dan susu cair sama baiknya , ini kata ahli'],\n ['4 tanda siap berkomitmen dalam hubungan',\n  'pasangan',\n  '4 tanda pasangan siap berkomitmen dalam hubungan'],\n ['tidak berbohong , 5 dikenal ',\n  'suka zodiak ini paling jujur',\n  'tidak suka berbohong , 5 zodiak ini dikenal paling jujur'],\n ['sering karena masalah uang mengatur keuangan ',\n  'stres ? simak tips ini',\n  'sering stres karena masalah uang ? simak tips mengatur keuangan ini'],\n ['4 yang kesulitan berterima kasih ke ',\n  'zodiak orang lain',\n  '4 zodiak yang kesulitan berterima kasih ke orang lain'],\n ['5 anarkis dan selalu membangkang terhadap otoritas untuk bisa hidup bebas',\n  'zodiak paling',\n  '5 zodiak paling anarkis dan selalu membangkang terhadap otoritas untuk bisa hidup bebas'],\n ['jika jalanmu cepat ',\n  ', seperti ini tipe kepribadianmu',\n  'jika jalanmu cepat , seperti ini tipe kepribadianmu'],\n [' ubi jalan kaya nutrisi , makan ubi jalar bersama nya',\n  'kulit ini cara',\n  'kulit ubi jalan kaya nutrisi , ini cara makan ubi jalar bersama kulitnya'],\n ['kerap , chand kelvin',\n  'ditanya kapan nikah begini jawaban',\n  'kerap ditanya kapan nikah , begini jawaban chand kelvin'],\n ['ciptakan euforia , 5 kedatangan dream ke indonesia',\n  'ini fakta nct',\n  'ciptakan euforia , ini 5 fakta kedatangan nct dream ke indonesia'],\n ['jajal dunia akting , yang membuat sivia azizah tertarik main di film nkcthi',\n  'ini',\n  'jajal dunia akting , ini yang membuat sivia azizah tertarik main di film nkcthi'],\n [' , diapit 6 anak muda dream',\n  'bikin heboh rossa nct',\n  'bikin heboh , rossa diapit 6 anak muda nct dream'],\n ['hari radio nasional , 8 indonesia yang merupakan penyiar radio',\n  'ini',\n  'hari radio nasional , ini 8 selebriti indonesia yang merupakan penyiar radio'],\n [' arti nama anak kedua ',\n  'begini sandra dewi',\n  'begini arti nama anak kedua sandra dewi'],\n ['ingat kemal mochtar kisahnya turunkan bobot tubuh dari 120 kg jadi 60 kg',\n  '? ini',\n  'ingat kemal mochtar ? ini kisahnya turunkan bobot tubuh dari 120 kg jadi 60 kg'],\n ['jalan kaki hingga yoga , 5 olahraga terbaik untuk ibu hamil',\n  'ini',\n  'jalan kaki hingga yoga , ini 5 olahraga terbaik untuk ibu hamil'],\n ['4 tentang autisme yang wajib ',\n  'fakta',\n  '4 fakta tentang autisme yang wajib diketahui'],\n ['19 hadiah untuk calon atau ibu yang sulit ditaklukkan',\n  'mertua',\n  '19 hadiah untuk calon atau ibu mertua yang sulit ditaklukkan'],\n [' kurang bisa gemuk ilmiahnya',\n  'mengapa tidur bikin ? ini alasan',\n  'mengapa kurang tidur bisa bikin gemuk ? ini alasan ilmiahnya'],\n ['4 rutin introspeksi diri dan bercermin dalam menjalani kehidupan',\n  'zodiak ini',\n  '4 zodiak ini rutin introspeksi diri dan bercermin dalam menjalani kehidupan'],\n ['4 masa terbaik di bulan agustus-september 2019',\n  'zodiak ini akan alami',\n  '4 zodiak ini akan alami masa terbaik di bulan agustus-september 2019'],\n ['jangan dibuang , kupasan kentang untuk ',\n  'ini manfaat kulit',\n  'jangan dibuang , ini manfaat kupasan kulit kentang untuk kulit'],\n ['punya nutrisi mengolah kentang agar bisa dimakan',\n  'tinggi , ini cara kulit',\n  'punya nutrisi tinggi , ini cara mengolah kulit kentang agar bisa dimakan'],\n ['diabetes hingga kanker , pisang untuk kesehatan',\n  'ini manfaat kulit !',\n  'diabetes hingga kanker , ini manfaat kulit pisang untuk kesehatan'],\n ['bisa dimakan , putih pada semangka ',\n  'ini manfaat kulit !',\n  'bisa dimakan , ini manfaat kulit putih pada semangka !'],\n ['secara ilmiah , orang putus cinta balikan lagi dengan mantannya',\n  'ini',\n  'secara ilmiah , ini alasan orang putus cinta balikan lagi dengan mantannya'],\n ['menurut studi , waktu tapat untuk ',\n  'ini paling berhubungan intim',\n  'menurut studi , ini waktu paling tapat untuk berhubungan intim'],\n ['sesal shireen atas meninggalnya bj habibie , ',\n  'kenapa ?',\n  'sesal shireen sungkar atas meninggalnya bj habibie , kenapa ?'],\n ['bj habibie meninggal , sedihnya reza rahadian',\n  'begini',\n  'bj habibie meninggal , begini sedihnya reza rahadian'],\n ['dikira jadi feminin di film bebas , baskara mahendra',\n  'pria begini tanggapan',\n  'dikira jadi pria feminin di film bebas , begini tanggapan baskara mahendra'],\n [' rencana pemakaman bj habibie di tmp kalibata',\n  'viral begini',\n  'begini rencana pemakaman bj habibie di tmp kalibata'],\n [' dan anak terserang autoimun , yang terjadi',\n  'raditya dika simak gejala',\n  'raditya dika dan anak terserang autoimun , simak gejala yang terjadi'],\n ['5 penting diingat pemilik sensitif',\n  'hal yang harus kulit',\n  '5 hal penting yang harus diingat pemilik kulit sensitif'],\n ['jangan panik , mengatasi anak rewel akibat demam tinggi',\n  'ini tips',\n  'jangan panik , ini tips mengatasi anak rewel akibat demam tinggi'],\n ['hati-hati gadget dapat membuat mata kering , ketahui ',\n  'ini alasannya',\n  'hati-hati gadget dapat membuat mata kering , ketahui alasannya'],\n ['10 tentang cinta yang penting ',\n  'fakta',\n  '10 fakta tentang cinta yang penting diketahui'],\n ['putus cinta bukan masalah , 3 cepat on',\n  'move ini',\n  'putus cinta bukan masalah , 3 zodiak ini cepat move on'],\n [' pentingnya air mineral untuk kesehatan',\n  'ini rinciannya',\n  'ini pentingnya air mineral untuk kesehatan'],\n ['jangan dibuang , sehat bawang bombay ',\n  'ini manfaat kulit !',\n  'jangan dibuang , ini manfaat sehat kulit bawang bombay !'],\n ['makanan pedas bisa makan , ',\n  'meningkatkan nafsu benarkah ?',\n  'makanan pedas bisa meningkatkan nafsu makan , benarkah ?'],\n ['5 dikenal tak mau mengalah karena merasa benar',\n  'zodiak paling',\n  '5 zodiak ini dikenal tak mau mengalah karena merasa paling benar'],\n [' air putih punya kalori faktanya',\n  'apakah manfaat ? ini',\n  'apakah air putih punya kalori ? ini faktanya'],\n ['kunyit hingga buah bit , pewarna alami untuk makanan',\n  'ini',\n  'kunyit hingga buah bit , ini pewarna alami untuk makanan'],\n ['mengurangi makan nasi , 5 alternatif pengganti nasi sangat bergizi ',\n  'ini !',\n  'mengurangi makan nasi , 5 alternatif pengganti nasi ini sangat bergizi !'],\n ['tak perlu memaksa , 6 agar mau berkomitmen padamu',\n  'ini cara pria',\n  'tak perlu memaksa , ini 6 cara agar pria mau berkomitmen padamu'],\n ['fimela fest 2019 : self , mencintai diri itu penting',\n  'love ini alasan sendiri',\n  'fimela fest 2019 : self love , ini alasan mencintai diri sendiri itu penting'],\n [' menggantungkan tas di lengan ',\n  'suka , seperti ini kepribadianmu !',\n  'suka menggantungkan tas di lengan , seperti ini kepribadianmu !'],\n ['bisa diandalkan , 4 akan jadi sahabat yang butuhkan',\n  'zodiak ini paling kamu',\n  'bisa diandalkan , 4 zodiak ini akan jadi sahabat yang paling kamu butuhkan'],\n ['yeonjun ulang tahun , tahu tentangnya',\n  'txt ini fakta yang perlu kamu',\n  'yeonjun txt ulang tahun , ini fakta yang perlu kamu tahu tentangnya'],\n ['sudah terpilih , dia yang jadi leader ',\n  'ini member superm',\n  'sudah terpilih , ini dia member yang jadi leader superm'],\n ['dikabarkan jadi siti gahara di jagat sinema bumilangit , cinta laura',\n  'ini',\n  'dikabarkan jadi siti gahara di jagat sinema bumilangit , ini kata cinta laura'],\n ['baru tayang , sinopsis warkop dki reborn',\n  'ini',\n  'baru tayang , ini sinopsis warkop dki reborn'],\n [' ampuh hilangkan noda hitam pada ',\n  'tips kulit wajah',\n  'tips ampuh hilangkan noda hitam pada kulit wajah'],\n ['ingin prima saat bangun rahasianya',\n  'rambut terlihat tidur ? ini',\n  'ingin rambut terlihat prima saat bangun tidur ? ini rahasianya'],\n [' anak sebaiknya tidak konsumsi jus buah berlebihan',\n  'ini alasan',\n  'alasan anak sebaiknya tidak konsumsi jus buah berlebihan'],\n ['penuh motivasi , 4 selalu memastikan mimpinya terwujud ',\n  'zodiak ini',\n  'penuh motivasi , 4 zodiak ini selalu memastikan mimpinya terwujud !'],\n [' bersikap seperti membuatmu menyebalkan ',\n  'suka ini ternyata !',\n  'suka bersikap seperti ini ternyata membuatmu menyebalkan !'],\n [' mendominasi percakapan seperti dirimu di mata ',\n  'suka ? ini orang lain',\n  'suka mendominasi percakapan ? seperti ini dirimu di mata orang lain'],\n [' gampang lepek 3 mungkin ',\n  'rambut ? hal ini penyebabnya',\n  'rambut gampang lepek ? 3 hal ini mungkin penyebabnya'],\n [' , sangat penting saat hotel',\n  'liburan alasan kenapa rating memilih',\n  'liburan , alasan kenapa rating sangat penting saat memilih hotel'],\n [' membawa tas di tangan , ',\n  'suka begini kepribadianmu !',\n  'suka membawa tas di tangan , begini kepribadianmu !'],\n ['tidak takut gagal , 4 ambil risiko besar',\n  'zodiak ini',\n  'tidak takut gagal , 4 zodiak ini suka ambil risiko besar'],\n ['7 mengetahui anak kesepian , perhatikan tandanya ',\n  'cara !',\n  '7 cara mengetahui anak kesepian , perhatikan tandanya !'],\n ['3 menu buruk bagi kesehatan',\n  'sarapan ini',\n  '3 menu sarapan ini ternyata buruk bagi kesehatan'],\n ['4 tidak berada di alam terbuka',\n  'zodiak ini suka',\n  '4 zodiak ini tidak suka berada di alam terbuka'],\n [' september , 3 karir terbaik',\n  'zodiak mingguan 16-22 ini akan alami',\n  'zodiak mingguan 16-22 september , 3 zodiak ini akan alami karir terbaik'],\n ['hati-hati , 4 sering alami pertengkaran dan perselisihan',\n  'pasangan zodiak ini',\n  'hati-hati , 4 pasangan zodiak ini sering alami pertengkaran dan perselisihan'],\n [' september , 3 karir terburuk',\n  'zodiak mingguan 16-22 ini akan alami',\n  'zodiak mingguan 16-22 september , 3 zodiak ini akan alami karir terburuk'],\n [' september , 3 cinta terbaik',\n  'zodiak mingguan 16-22 ini akan alami',\n  'zodiak mingguan 16-22 september , 3 zodiak ini akan alami cinta terbaik'],\n [' september , 3 cinta terburuk',\n  'zodiak mingguan 16-22 ini akan alami',\n  'zodiak mingguan 16-22 september , 3 zodiak ini akan alami cinta terburuk'],\n ['4 ikon yang orang',\n  'fakta jarang diketahui',\n  '4 fakta menarik ikon yang jarang diketahui orang'],\n ['anaknya trauma ke gigi , adya mecca menyiasatinya',\n  'dokter begini cara zaskia',\n  'anaknya trauma ke dokter gigi , begini cara zaskia adya mecca menyiasatinya'],\n ['agar selalu rapi , hindari 5 penyebab kusut',\n  'rambut',\n  'agar selalu terlihat rapi , hindari 5 penyebab rambut kusut'],\n ['bukan ketombe , ikuti menghilangkan rasa di kepala',\n  'tips gatal kulit',\n  'bukan ketombe , ikuti tips menghilangkan rasa gatal di kulit kepala'],\n ['tanda ambisius , jika punya koleksi benda ',\n  'kepribadian kamu ini !',\n  'tanda kepribadian ambisius , jika kamu punya koleksi benda ini !'],\n ['berkencan di usia 30 penting dipahami',\n  '? ini tips yang harus',\n  'berkencan di usia 30 ? ini tips penting yang harus dipahami'],\n ['jangan tersinggung , 4 memang bicara ',\n  'zodiak ini suka blak-blakan',\n  'jangan tersinggung , 4 zodiak ini memang suka bicara blak-blakan'],\n ['saling melengkapi , 4 ',\n  'pasangan zodiak ini jarang bertengkar',\n  'saling melengkapi , 4 pasangan zodiak ini jarang bertengkar'],\n [' beradaptasi , dia 5 yang sangat menikmati hidup nomaden',\n  'mudah ini zodiak gaya',\n  'mudah beradaptasi , ini dia 5 zodiak yang sangat menikmati gaya hidup nomaden'],\n ['santan hingga daun pandan , bahan pelengkap jajanan tradisional',\n  'ini',\n  'santan hingga daun pandan , ini bahan pelengkap jajanan tradisional'],\n [' buah pisang sangat baik dimakan penderita asam urat',\n  'ini',\n  'ini alasan buah pisang sangat baik dimakan penderita asam urat'],\n [' memasak ikan yang baik dan sehat',\n  'ternyata ini cara paling',\n  'ternyata ini cara memasak ikan yang paling baik dan sehat'],\n ['legenda musik indonesia , 5 tentang chrisye',\n  'ini fakta',\n  'legenda musik indonesia , ini 5 fakta tentang chrisye'],\n ['mengalami , tiga ',\n  'kdrt begini fakta setia gara',\n  'mengalami kdrt , begini fakta tiga setia gara'],\n ['irish bella alami pendarahan di usia 6 bulan , ',\n  'kandungan ini penyebabnya',\n  'irish bella alami pendarahan di usia kandungan 6 bulan , ini penyebabnya'],\n ['hijabers , sudah tepatkah merawat rambutmu cari tahu lewat kuis ',\n  'cara ? ini yuk',\n  'hijabers , sudah tepatkah cara merawat rambutmu ? cari tahu lewat kuis ini yuk'],\n ['alis terasa semakin tipis cek beberapa ',\n  '?',\n  'alis terasa semakin tipis ? cek beberapa penyebabnya'],\n [' musik seperti yang mampu motivasi dan semangat',\n  'ini ternyata',\n  'ternyata musik seperti ini yang mampu meningkatkan motivasi dan semangat'],\n ['sebelum yoga , sebaiknya hindari mengonsumsi 4 makanan ',\n  'ini rinciannya',\n  'sebelum yoga , sebaiknya hindari mengonsumsi 4 makanan ini'],\n ['tidak lapar tapi ingin makan terus , 4 ',\n  'kenali penyebabnya',\n  'tidak lapar tapi ingin makan terus , kenali 4 penyebabnya'],\n ['pandai bersosialiasi , 3 sangat menikmati hidup',\n  'zodiak ini',\n  'pandai bersosialiasi , 3 zodiak ini sangat menikmati hidup'],\n ['ingin lebih cepat di malam hari piyama dari bahan ',\n  'tidur ? pakai ini',\n  'ingin tidur lebih cepat di malam hari ? pakai piyama dari bahan ini'],\n ['selain uang , yang orang enggan travelling ',\n  'bikin ini',\n  'selain uang , ini yang bikin orang enggan travelling sendiri'],\n ['berat badan turun cepat jika rajin , menurut studi',\n  'ini',\n  'berat badan turun cepat jika rajin sarapan ini , menurut studi'],\n ['luar biasa , air cucian beras untuk ',\n  'ini manfaat rambut',\n  'luar biasa , ini manfaat air cucian beras untuk rambut'],\n [' lah untuk tubuh',\n  'menangis , karena ini manfaat',\n  'menangislah , karena ini manfaat menangis untuk tubuh'],\n ['jenis musik yang membuat orang tidak saat bekerja',\n  'ini mudah stres',\n  'jenis musik ini yang membuat orang tidak mudah stres saat bekerja'],\n ['siap kembali usai rehat , penampilan baru ',\n  'jungkook bts bikin ini',\n  'siap kembali usai rehat , ini penampilan baru jungkook bts'],\n ['dikabarkan jalin asmara dengan , perempuan minta maaf',\n  'jungkook bts ini',\n  'dikabarkan jalin asmara dengan jungkook bts , perempuan ini minta maaf'],\n [' raisa dan cocok jadi penyanyi karakter mereka',\n  'kenapa zodiak gemini ? intip',\n  'kenapa raisa dan zodiak gemini cocok jadi penyanyi ? intip karakter mereka'],\n ['disebut lebih seram dari pengabdi setan , sinopsis film perempuan tanah jahanam',\n  'ini rinciannya',\n  'disebut lebih seram dari pengabdi setan , ini sinopsis film perempuan tanah jahanam'],\n ['pilih olahraga zumba , putri marino',\n  'ini alasan',\n  'pilih olahraga zumba , ini alasan putri marino'],\n ['tayang pada oktober 2019 , 5 perempuan tanah jahanam',\n  'ini fakta',\n  'tayang pada oktober 2019 , ini 5 fakta menarik perempuan tanah jahanam'],\n ['tak perlu ke , trik hilangkan milia',\n  'dokter kulit ini',\n  'tak perlu ke dokter kulit , ini trik hilangkan milia'],\n ['punya sensitif aplikasi makeup yang tepat ',\n  'kulit ? simak tips berikut ini',\n  'punya kulit sensitif ? simak tips aplikasi makeup yang tepat berikut ini'],\n ['perawatan seluruh tubuh , 3 cegah kering',\n  'kulit simak cara',\n  'perawatan kulit seluruh tubuh , simak 3 cara cegah kulit kering'],\n ['sudah cukupkah protein rambutmu ',\n  '?',\n  'sudah cukupkah kandungan protein rambutmu ?'],\n ['3 racikan tepung beras untuk perawatan , pernah coba ',\n  '?',\n  '3 racikan tepung beras untuk perawatan kulit , pernah coba ?'],\n [' ibu hamil rentan dan ',\n  'alasan stres cara mengatasinya',\n  'alasan ibu hamil rentan stres dan cara mengatasinya'],\n ['anak tidak mau makan nasi , berbahaya ',\n  'apakah ?',\n  'anak tidak mau makan nasi , apakah berbahaya ?'],\n ['3 penanganan kehamilan risiko agar anak terlahir sehat',\n  'tinggi ,',\n  '3 penanganan kehamilan risiko tinggi , agar anak terlahir sehat'],\n ['baik hati , 5 tidak pernah tega menyakiti ',\n  'mudah zodiak ini orang lain',\n  'baik hati , 5 zodiak ini tidak pernah tega menyakiti orang lain'],\n ['bersabarlah , 10 tanda di belakangmu',\n  'ini pasangan selingkuh',\n  'bersabarlah , ini 10 tanda pasangan selingkuh di belakangmu'],\n ['selain harga terjangkau , inovasi pada smartphone yang dibutuhkan gen z',\n  'ini',\n  'selain harga terjangkau , ini inovasi pada smartphone yang dibutuhkan gen z'],\n ['makan makanan berserat bisa cegah kanker , ',\n  'ini',\n  'makan makanan berserat bisa cegah kanker , ini alasannya'],\n ['8 yang diperhatikan darimu saat pertama kali bertemu',\n  'hal pria',\n  '8 hal yang diperhatikan pria darimu saat pertama kali bertemu'],\n [' bisa mengandalkan mereka , 6 yang selalu memiliki inisiatif',\n  'zodiak',\n  'kamu bisa mengandalkan mereka , 6 zodiak yang selalu memiliki inisiatif'],\n ['umumkan status gender , sam smith inginkan sebutan ',\n  'ini',\n  'umumkan status gender , sam smith inginkan sebutan ini'],\n [' sekali , aksi darius sinathrya donna agnesia',\n  'mesra lihat gendong',\n  'mesra sekali , lihat aksi darius sinathrya gendong donna agnesia'],\n ['harry styles jadi penghambat reuni one direction ',\n  '?',\n  'harry styles jadi penghambat reuni one direction ?'],\n [' tak terduga luna f( ) usai tinggalkan entertainment',\n  'reaksi x sm',\n  'reaksi tak terduga luna f(x) usai tinggalkan sm entertainment'],\n ['bercerita tentang anak konflik palestina , sinopsis film hayya',\n  'ini rinciannya',\n  'bercerita tentang anak konflik palestina , ini sinopsis film hayya'],\n ['nicky tirta yang soal , karakternya melalui ',\n  'santai jodoh lihat zodiak taurus',\n  'nicky tirta yang santai soal jodoh , lihat karakternya melalui zodiak taurus'],\n ['fimela fest 2019 : 3 faktor seseorang melakukan beauty bullying , psikolog',\n  'ini',\n  'fimela fest 2019 : 3 faktor seseorang melakukan beauty bullying , ini kata psikolog'],\n ['dipetisi karena bahas oplas & , satria ',\n  'pajang foto jimin bts ini kata mulia',\n  'dipetisi karena bahas oplas & pajang foto jimin bts , ini kata satria mulia'],\n ['nonton wimbledon , markle tampil kasual kenakan jeans , sudah kembali langsing ',\n  'meghan !',\n  'nonton wimbledon , meghan markle tampil kasual kenakan jeans , sudah kembali langsing !'],\n ['sukses jadi , rumah mpok alpa yang sederhana di perkampungan',\n  'artis begini potret',\n  'sukses jadi artis , begini potret rumah mpok alpa yang sederhana di perkampungan'],\n [' , gisella anastasia ungkap penyebab dari gading marten',\n  'blak-blakan cerai',\n  'blak-blakan , gisella anastasia ungkap penyebab cerai dari gading marten'],\n ['sinopsis drama life episode 16 , akhir yang manis',\n  'cerita',\n  'sinopsis drama life episode 16 , akhir cerita yang manis'],\n ['tak ingin banyak dituntut , dita soedarjo ingin punya ',\n  'pacar bule ?',\n  'tak ingin banyak dituntut , dita soedarjo ingin punya pacar bule ?'],\n [' alami kecelakan , taylor swift kirim ucapan manis',\n  'penggemar',\n  'penggemar alami kecelakan , taylor swift kirim ucapan manis'],\n ['berkarir di australia , 90-an multitalenta siapkan banyak judul film',\n  'artis ini',\n  'berkarir di australia , artis 90-an multitalenta ini siapkan banyak judul film'],\n ['sangat suportif , monita tahalea makin jatuh hati dengan ',\n  'fakta suami',\n  'sangat suportif , monita tahalea makin jatuh hati dengan suami'],\n ['makan malam di gunungkidul , menu yang dipesan suju dan tvxq',\n  'ini rinciannya',\n  'makan malam di gunungkidul , ini menu yang dipesan suju dan tvxq'],\n [' serial pendek netflix yang wajib tonton',\n  'inilah kalian',\n  'inilah serial pendek netflix yang wajib kalian tonton'],\n ['rencana melahirkan di luar negeri , : pengen show off , sombong ',\n  'nikita mirzani aja biar !',\n  'rencana melahirkan di luar negeri , nikita mirzani : pengen show off aja , biar sombong !'],\n [' hadiah istimewa di hari ulang tahun lisa ',\n  'inilah penggemar blackpink',\n  'inilah hadiah istimewa penggemar di hari ulang tahun lisa blackpink'],\n [\"' let me you ' milik dj snake sebenarnya diciptakan untuk cl 2ne1 \",\n  '?',\n  \"' let me love you ' milik dj snake sebenarnya diciptakan untuk cl 2ne1 ?\"],\n [' bersama , cantiknya priyanka chopra gunakan ',\n  'liburan suami bikini',\n  'liburan bersama suami , cantiknya priyanka chopra gunakan bikini'],\n ['pesawat yang ditumpangi mendarat darurat , keanu reeves jadi pahlawan',\n  '',\n  'pesawat yang ditumpangi mendarat darurat , keanu reeves jadi pahlawan'],\n ['marah besar karena pangeran william , kate middleton 1 permintaan ',\n  'selingkuh ucap ini',\n  'marah besar karena pangeran william selingkuh , kate middleton ucap 1 permintaan ini'],\n ['7 dalam drama punya hubungan sehat ',\n  'pasangan ini paling !',\n  '7 pasangan dalam drama ini punya hubungan paling sehat !'],\n ['kuliah di london , el rumi sudah nyoblos ',\n  'duluan !',\n  'kuliah di london , el rumi sudah nyoblos duluan !'],\n [' pohan diperlakukan imigran gelap oleh petugas bandara singapura',\n  'annisa bak',\n  'annisa pohan diperlakukan bak imigran gelap oleh petugas bandara singapura'],\n [\" america dibuat tetap hidup : '\",\n  \"ini alasan kenapa captain di ' avengers endgame\",\n  \"ini alasan kenapa captain america dibuat tetap hidup di ' avengers : endgame '\"],\n ['12 saat bangun lisa - ',\n  'foto wajah asli idol k-pop tidur , ada blackpink v bts !',\n  '12 foto wajah asli idol k-pop saat bangun tidur , ada lisa blackpink - v bts !'],\n [\"jisoo dan ' cover keong ' , \",\n  'jennie blackpink racun kocak banget !',\n  \"jisoo dan jennie blackpink ' cover keong racun ' , kocak banget !\"],\n ['adik angela gilsha larang bayi naik pesawat : ajarin diam atau mulutnya diselotip ',\n  'akhirnya !',\n  'adik angela gilsha larang bayi naik pesawat : ajarin diam atau mulutnya diselotip !'],\n ['ditelepon sasaeng saat live , ',\n  'fans ini yang dilakukan jungkook bts',\n  'ditelepon sasaeng fans saat live , ini yang dilakukan jungkook bts'],\n [' persamaan dan krystal f( ) , ',\n  'viral ! gaya kai exo x bikin fans baper sendiri',\n  'viral ! persamaan gaya kai exo dan krystal f(x) , bikin fans baper sendiri'],\n [' punggung sering dikira oleh army',\n  'foto kai exo ini jungkook bts',\n  'foto punggung kai exo ini sering dikira jungkook bts oleh army'],\n ['umumkan hubungan dengan ashley benson setelah satu tahun , delevigne',\n  'ini alasan',\n  'umumkan hubungan dengan ashley benson setelah satu tahun , ini alasan cara delevigne'],\n ['aktor ternama korea akui bersusah payah melunasi hutangnya',\n  'ini rinciannya',\n  'aktor ternama korea ini akui bersusah payah melunasi hutangnya'],\n ['8 bomb s eun woo , beda gantengnya galau milih',\n  'foto visual v bts cha bikin',\n  '8 foto visual bomb v bts vs cha eun woo , beda gantengnya bikin galau milih'],\n ['11 2019 yang tak boleh dilewatkan gagal moveon',\n  'drama korea , masih',\n  '11 drama korea 2019 yang tak boleh dilewatkan , masih gagal moveon'],\n [' sosok ceo baru entertainment , seorang ',\n  'inilah yg wanita',\n  'inilah sosok ceo baru yg entertainment , seorang wanita'],\n ['ada gilang dirga show di jicomfest 2019 , lagi yang melucu di hari pertama ',\n  'siapa ?',\n  'ada gilang dirga show di jicomfest 2019 , siapa lagi yang melucu di hari pertama ?'],\n ['perasaan setelah mualaf , bebas dan plong ',\n  'deddy corbuzier',\n  'perasaan deddy corbuzier setelah mualaf , bebas dan plong !'],\n ['setelah pelembut pakaian , minuman ludes terjual',\n  'jungkook bts bikin ini',\n  'setelah pelembut pakaian , jungkook bts bikin minuman ini ludes terjual'],\n ['9 gaun mewah : , yoona & ',\n  'k-pop idol bak dewi pakai suzy snsd jennie blackpink',\n  '9 k-pop idol bak dewi pakai gaun mewah : suzy , yoona snsd & jennie blackpink'],\n ['bukti percakapan seungri bagikan telanjang di grup ',\n  'foto wanita chat',\n  'bukti percakapan seungri bagikan foto wanita telanjang di grup chat'],\n [\" produser ' persona ' pilih iu jadi utama\",\n  'ini alasan',\n  \"ini alasan produser ' persona ' pilih iu jadi pemeran utama\"],\n ['soal kembali berpindah keyakinan , pengacara steve emmanuel',\n  'ini tanggapan',\n  'soal kembali berpindah keyakinan , ini tanggapan pengacara steve emmanuel'],\n ['menikah sejak usia muda , jauh dari miring',\n  'pasangan seleb ini gosip',\n  'menikah sejak usia muda , pasangan seleb ini jauh dari gosip miring'],\n ['terjun ke dunia akting , para ada yang mulai sejak masih belia',\n  'ini',\n  'terjun ke dunia akting , para artis ini ada yang mulai sejak masih belia'],\n ['romance-thriller , terbaru yang ditonton streaming',\n  'ini deretan drama korea seru',\n  'romance-thriller , ini deretan drama korea terbaru yang seru ditonton streaming'],\n ['2 inisial baru dalam jaringan nichol tertangkap , ',\n  'narkoba jefri rekan artis ?',\n  '2 inisial baru dalam jaringan narkoba jefri nichol tertangkap , rekan artis ?'],\n ['terjawab , temukan tony stark di luar angkasa',\n  'begini cara captain marvel',\n  'terjawab , begini cara captain marvel temukan tony stark di luar angkasa'],\n [' pratama larang sulistiawaty tonton aksinya di jicomfest 2019 ',\n  'andhika ussy , ada apa ?',\n  'andhika pratama larang ussy sulistiawaty tonton aksinya di jicomfest 2019 , ada apa ?'],\n ['7 makin dengan hitam legam , suga - johnny ',\n  'k-pop idol ganteng rambut bts nct',\n  '7 k-pop idol makin ganteng dengan rambut hitam legam , suga bts - johnny nct'],\n [' sering datangi rumah kang daniel , sudah 7 bulan pacaran ',\n  'foto jihyo twice ?',\n  'foto jihyo twice sering datangi rumah kang daniel , sudah 7 bulan pacaran ?'],\n [' dan kang daniel pacaran , dari korea',\n  'jihyo twice begini komentar netizen',\n  'jihyo twice dan kang daniel pacaran , begini komentar dari netizen korea'],\n ['berkas ungkap agama rina yang sebenarnya',\n  'nikah ini nose',\n  'berkas nikah ini ungkap agama rina nose yang sebenarnya'],\n [' gading marten saat dengar gempi wijaya saputra',\n  'reaksi kaget sebut nama',\n  'reaksi kaget gading marten saat dengar gempi sebut nama wijaya saputra'],\n ['pelukan dan gandengan tangan , dan evelyn nada anjani resmi pacaran ',\n  'roy kiyoshi ?',\n  'pelukan dan gandengan tangan , roy kiyoshi dan evelyn nada anjani resmi pacaran ?'],\n [\"kang daniel - pacaran , lagu ' un village ' trending \",\n  'jihyo twice kenapa baekhyun exo ?',\n  \"kang daniel - jihyo twice pacaran , kenapa lagu baekhyun exo ' un village ' trending ?\"],\n ['5 irish bella jalani maternity shoot , dan bagaikan boneka',\n  'foto cantik elegan',\n  '5 foto irish bella jalani maternity shoot , cantik dan elegan bagaikan boneka'],\n ['diary waktu sd beredar , agama ',\n  'sehun exo terungkap',\n  'diary waktu sd beredar , agama sehun exo terungkap'],\n ['nama chef juna saat sertifikat kompetensi',\n  'asli terungkap unggah',\n  'nama asli chef juna terungkap saat unggah sertifikat kompetensi'],\n [' penampakan kamar shahrukh khan di mannat , luas dan mewah',\n  'terungkap ! begini',\n  'terungkap ! begini penampakan kamar shahrukh khan di mannat , luas dan mewah'],\n ['princess charlotte kembali , sampai kate middleton meleleh ',\n  'pamer pose gemas bikin !',\n  'princess charlotte kembali pamer pose gemas , sampai bikin kate middleton meleleh !'],\n [' , takjub pada satu dari indonesia',\n  'terungkap choi siwon hal ini fans',\n  'terungkap , choi siwon takjub pada satu hal ini dari fans indonesia'],\n ['10 film horor indonesia tonton , dijamin ',\n  'yang perlu kamu bikin merinding',\n  '10 film horor indonesia yang perlu kamu tonton , dijamin bikin merinding'],\n [' , tiga fangirl diantar ayah yunhyeong ikon',\n  'beruntung asal indonesia ini',\n  'beruntung , tiga fangirl asal indonesia ini diantar ayah yunhyeong ikon'],\n [' tak berani dengan sosok ',\n  'terungkap ! nikita mirzani berseteru ini',\n  'terungkap ! nikita mirzani tak berani berseteru dengan sosok ini'],\n [\" , editan krystal f( ) & yang ' '\",\n  'viral x jennie blackpink bikin kai exo melongo',\n  \"viral , editan krystal f(x) & jennie blackpink yang bikin kai exo ' melongo '\"],\n [\"uang bukan , pemain ' ave maryam ' tidak dibayar \",\n  '?',\n  \"uang bukan alasan , pemain ' ave maryam ' tidak dibayar ?\"],\n [\"dulu panggil ' sailor moon ' , setelah putus vicky prasetyo sebut anggia ' nenek gayung '\",\n  '',\n  \"dulu panggil ' sailor moon ' , setelah putus vicky prasetyo sebut anggia ' nenek gayung '\"],\n [' lengkap x101 tahu',\n  'fakta produce yang perlu kamu',\n  'fakta lengkap produce x101 yang perlu kamu tahu'],\n ['diancam injak leher oleh , tessa mariska samakan nm dengan pohon tauge ',\n  'nikita ?',\n  'diancam injak leher oleh nikita , tessa mariska samakan nm dengan pohon tauge ?'],\n [\"10 yang mungkin lewatkan di ' kill this '\",\n  'hal unik kamu mv blackpink love',\n  \"10 hal unik yang mungkin kamu lewatkan di mv blackpink ' kill this love '\"],\n [\"semula dipanggil ' babang tamvan ' , kini andika hasilkan 3 mobil - 2 rumah \",\n  '!',\n  \"semula kesal dipanggil ' babang tamvan ' , kini andika hasilkan 3 mobil - 2 rumah !\"],\n [' lengkap x101 tahu',\n  'fakta produce yang perlu kamu',\n  'fakta lengkap produce x101 yang perlu kamu tahu'],\n ['7 madam shim , berpengaruh dicurigai dalang kasus ja yeon & seungri',\n  'fakta wanita jang',\n  '7 fakta madam shim , wanita berpengaruh dicurigai dalang kasus jang ja yeon & seungri'],\n ['tak jadi anak emas jokowi . kaesang pangarep',\n  'begini tanggapan',\n  'tak jadi anak emas jokowi . begini tanggapan kaesang pangarep'],\n ['vebby palwinta akui sudah belajar taaruf , siap segera ',\n  '?',\n  'vebby palwinta akui sudah belajar taaruf , siap segera nikah ?'],\n ['sempat mengaku mualaf , kriss hatta tak pernah memeluk islam',\n  'ini ternyata',\n  'sempat mengaku mualaf , ternyata kriss hatta tak pernah memeluk islam'],\n [' melulu , kini syahrini dan reino barack makin gendut ',\n  'liburan kompak ?',\n  'liburan melulu , kini syahrini dan reino barack kompak makin gendut ?'],\n ['album focus dari jus2 got7 ceritakan tentang panca indera , sudah dengerin ',\n  '?',\n  'album focus dari jus2 got7 ceritakan tentang panca indera , sudah dengerin ?'],\n ['tanyakan tak pantas pada , reporter dihujat ',\n  'hal bts ini netizen',\n  'tanyakan hal tak pantas pada bts , reporter ini dihujat netizen'],\n [\" siapkan ' hadiah ' spesial bagi mereka yang nyoblos\",\n  'sederet artis ini',\n  \"sederet artis ini siapkan ' hadiah ' spesial bagi mereka yang nyoblos\"],\n ['tora sudiro - adipati dolken tirukan selfie nicholas saputra , mirip ',\n  'siapa paling ?',\n  'tora sudiro - adipati dolken tirukan selfie nicholas saputra , siapa paling mirip ?'],\n ['genap 45 tahun , kejutan manis yang didapat victoria beckham di ulang tahunnya',\n  'intip',\n  'genap 45 tahun , intip kejutan manis yang didapat victoria beckham di ulang tahunnya'],\n ['kaki cedera tertimpa lemari , syahr lupakan rasa sakit dengan ',\n  'ini cara',\n  'kaki cedera tertimpa lemari , syahrini lupakan rasa sakit dengan cara ini'],\n ['sebut dirinya seperti , kalau luna maya gelantungan di pohon',\n  'monyet begini',\n  'sebut dirinya seperti monyet , begini kalau luna maya gelantungan di pohon'],\n ['bukan menjadi pembanding , perbedaan komik gundala versi baru dan klasik',\n  'ini',\n  'bukan menjadi pembanding , ini perbedaan komik gundala versi baru dan klasik'],\n [' keluarga lisa , ayah tirinya orang swiss - ibunya ',\n  'foto blackpink cantik banget',\n  'foto keluarga lisa blackpink , ayah tirinya orang swiss - ibunya cantik banget'],\n [\" ' warkop dki reborn 3 film pertama yang laksanakan mega premiere\",\n  \"heboh ! ' jadi\",\n  \"heboh ! ' warkop dki reborn 3 ' jadi film pertama yang laksanakan mega premiere\"],\n ['upi didaulat garap film jagat sinema bumilangit selanjutnya ',\n  '?',\n  'upi didaulat garap film jagat sinema bumilangit selanjutnya ?'],\n [' berencana ke ntt , bakal urus adopsi ',\n  'ruben onsu betrand peto ?',\n  'ruben onsu berencana ke ntt , bakal urus adopsi betrand peto ?'],\n ['bastian steel hidup dalam pergaulan bebas dan punya anak istri dalam film ',\n  'ini rinciannya',\n  'bastian steel hidup dalam pergaulan bebas dan punya anak istri dalam film ini'],\n ['ada sosok ari tulang di gundala , bisa tebak perankan ',\n  'siapa ?',\n  'ada sosok ari tulang di gundala , bisa tebak perankan siapa ?'],\n ['9 aktris perankan karakter jelek di drama , - lee kyung',\n  'cantik yang pernah suzy sung',\n  '9 aktris cantik yang pernah perankan karakter jelek di drama , suzy - lee sung kyung'],\n [\"14 ' : perlu tahu sebelum nonton\",\n  \"fakta menarik avengers endgame ' yang kamu\",\n  \"14 fakta menarik ' avengers : endgame ' yang perlu kamu tahu sebelum nonton\"],\n [' akui punya suara jazzy , cuma bisa dinikmati yang bermusikalitas ',\n  'barbie kumalasari !',\n  'barbie kumalasari akui punya suara jazzy , cuma bisa dinikmati yang bermusikalitas !'],\n [' bocorkan honor sekali tampil di tv , tembus dua digit ',\n  'barbie kumalasari !',\n  'barbie kumalasari bocorkan honor sekali tampil di tv , tembus dua digit !'],\n ['selalu diberitakan dari sisi negatif , pesan untuk putrinya',\n  'ini barbie kumalasari',\n  'selalu diberitakan dari sisi negatif , ini pesan barbie kumalasari untuk putrinya'],\n ['ratna galih program bayi tabung demi dapat anak perempuan , .',\n  'ini . .',\n  'ratna galih program bayi tabung demi dapat anak perempuan , ini alasannya . . .'],\n ['kekayaan kerap diragukan : biarin mengurangi pajak saya kan ',\n  'barbie kumalasari ?',\n  'kekayaan barbie kumalasari kerap diragukan : biarin mengurangi pajak saya kan ?'],\n ['isu salmafina pindah agama merebak , 15 diterpa serupa',\n  'berikut artis yang pernah hal',\n  'isu salmafina pindah agama merebak , berikut 15 artis yang pernah diterpa hal serupa'],\n ['jadi guest minie tv , bayaran angel bisa buat beli pulau ',\n  'special vanessa ?',\n  'jadi special guest minie tv , bayaran vanessa angel bisa buat beli pulau ?'],\n ['masalah semakin panjang , fairuz a . rafiq pernah alami dengan galih ginanjar ',\n  '?',\n  'masalah semakin panjang , fairuz a . rafiq pernah alami kdrt dengan galih ginanjar ?'],\n [\"6 xana tang , bintang film ' mulan juga sahabat iqbaal ramadhan\",\n  \"fakta ' yang\",\n  \"6 fakta xana tang , bintang film ' mulan ' yang juga sahabat iqbaal ramadhan\"],\n ['masuk gang sempit , 4 rumah dan galih ginanjar',\n  'berikut fakta asli barbie kumalasari',\n  'masuk gang sempit , berikut 4 fakta rumah asli barbie kumalasari dan galih ginanjar'],\n [\"pablo benua dan rey utami ditahan , 12 juga jadi korban ' mulut sampah '\",\n  'seleb ini video',\n  \"pablo benua dan rey utami ditahan , 12 seleb ini juga jadi korban video ' mulut sampah '\"],\n ['10 kolaborasi yang nagih ',\n  'idol k-pop banget !',\n  '10 kolaborasi idol k-pop yang nagih banget !'],\n ['kevin aprilio betah dengan emo , vicy melanie risih ',\n  'rambut gaya ?',\n  'kevin aprilio betah dengan rambut gaya emo , vicy melanie risih ?'],\n ['nonton dan line up lain dalam jicomfest 2019 , harga tiketnya ',\n  'raditya dika berapa ?',\n  'nonton raditya dika dan line up lain dalam jicomfest 2019 , berapa harga tiketnya ?'],\n ['istri ajun perwira ungkap salmafina sunan sudah nyaman dengan keyakinan ',\n  'barunya ?',\n  'istri ajun perwira ungkap salmafina sunan sudah nyaman dengan keyakinan barunya ?'],\n ['mantan pramugari bongkar kelakuan buruk di pesawat , yang terbaik ',\n  'idol k-pop siapa ?',\n  'mantan pramugari bongkar kelakuan buruk idol k-pop di pesawat , siapa yang terbaik ?'],\n [' tak penuhi pemeriksaan kepolisian , pengacaranya',\n  'barbie kumalasari begini penjelasan',\n  'barbie kumalasari tak penuhi pemeriksaan kepolisian , begini penjelasan pengacaranya'],\n [\"tessa mariska terseret kasus ' ikan asin ' \",\n  ', ada apa ?',\n  \"tessa mariska terseret kasus ' ikan asin ' , ada apa ?\"],\n ['6 sosok iyan sambiran nunung yang juga ditangkap karena narkoba',\n  'suami',\n  '6 fakta sosok iyan sambiran suami nunung yang juga ditangkap karena narkoba'],\n ['spoiler improvindo di jicomfest 2019 , mc dani jamin bakal ',\n  'bikin',\n  'spoiler improvindo di jicomfest 2019 , mc dani jamin bakal bikin ngakak'],\n [' kabar masturbasi atlet dw , mikha tambayong',\n  'heboh video begini komentar',\n  'heboh kabar video masturbasi atlet dw , begini komentar mikha tambayong'],\n ['co working space dengan view laut pertama dan satu-satunya di jakarta',\n  '',\n  'co working space dengan view laut pertama dan satu-satunya di jakarta'],\n ['20 finalis siap perebutkan gelar muslimah indonesia 2019 , juaranya ',\n  'siapa ?',\n  '20 finalis siap perebutkan gelar puteri muslimah indonesia 2019 , siapa juaranya ?'],\n ['rumah berlapis emas , dari sumber kekayaan muzdalifah ',\n  'mana ?',\n  'rumah berlapis emas , dari mana sumber kekayaan muzdalifah ?'],\n [\"' aksi pamungkas , kelanjutan cinematic universe\",\n  \"endgame ' jadi avengers begini marvel\",\n  \"' endgame ' jadi aksi pamungkas avengers , begini kelanjutan marvel cinematic universe\"],\n [' air , kim jae wook cium park min young',\n  'gara-gara',\n  'gara-gara air , kim jae wook akhirnya cium park min young'],\n [\" dengan ' proud of akad ' , ivan gunawan sudah \",\n  'posting foto tagar nikah ?',\n  \"posting foto dengan tagar ' proud of akad ' , ivan gunawan sudah nikah ?\"],\n [' upaya kate middleton damaikan pangeran william dan pangeran harry',\n  'begini',\n  'begini upaya kate middleton damaikan pangeran william dan pangeran harry'],\n ['hebat nurul bashira , muslimah indonesia 2019 sabet 2 gelar sekaligus',\n  '! puteri',\n  'hebat ! nurul bashira , puteri muslimah indonesia 2019 sabet 2 gelar sekaligus'],\n ['kedatangan dan influencer wonderful noon , gimana keseruannya ',\n  'seleb di event ?',\n  'kedatangan seleb dan influencer di event wonderful noon , gimana keseruannya ?'],\n ['baru dengan fadel islami , muzdalifah dibuat naik pitam karena ',\n  'nikah hal ini',\n  'baru nikah dengan fadel islami , muzdalifah dibuat naik pitam karena hal ini'],\n ['dengar cut tary akui 3 kali dengan , ',\n  'berhubungan ariel begini reaksi suami',\n  'dengar cut tary akui 3 kali berhubungan dengan ariel , begini reaksi suami'],\n [' di sungkeman syahr - reino , rosano barack beri wejangan penting .',\n  'menangis ini . .',\n  'menangis di sungkeman syahrini - reino , rosano barack beri wejangan penting ini . . .'],\n [\"7 dalam dengan ' chemistry ' kuat\",\n  'pasangan drama korea paling',\n  \"7 pasangan dalam drama korea dengan ' chemistry ' paling kuat\"],\n ['tatap syahr penuh cinta , yang dirasakan reino barack jelang sungkeman',\n  'ini',\n  'tatap syahrini penuh cinta , ini yang dirasakan reino barack jelang sungkeman'],\n ['pangeran harry beri tanda markle sudah melahirkan ',\n  '?',\n  'pangeran harry beri tanda meghan markle sudah melahirkan ?'],\n [' kekayaan para bintang dari terendah hingga tinggi',\n  'inilah avengers paling',\n  'inilah kekayaan para bintang avengers dari terendah hingga paling tinggi'],\n ['dinner silaturahmi syahrini - reino barack digelar tanpa ',\n  'orangtua , ada apa ?',\n  'dinner silaturahmi syahrini - reino barack digelar tanpa orangtua , ada apa ?'],\n ['resmi jadi ayah , nama anak beserta artinya',\n  'raditya dika ini dokter',\n  'resmi jadi ayah , ini nama anak raditya dika beserta artinya'],\n ['7 balita , bukti dari kecil sudah punya aura seorang ',\n  'foto baekhyun exo idol',\n  '7 foto balita baekhyun exo , bukti dari kecil sudah punya aura seorang idol'],\n ['langgar usai pernikahan , penyebab perceraian song joong ki ',\n  'mitos inikah ?',\n  'langgar mitos usai pernikahan , inikah penyebab perceraian song joong ki ?'],\n ['banjir komika , dapetin tiket jicomfest 2019',\n  'begini cara',\n  'banjir komika favorit , begini cara dapetin tiket jicomfest 2019'],\n ['selang 4 tahun kepergian olga syahputra , kondisi ',\n  'begini rumahnya sekarang',\n  'selang 4 tahun kepergian olga syahputra , begini kondisi rumahnya sekarang'],\n ['lama tak di televisi , kabar terbaru romy rafael',\n  'terlihat begini',\n  'lama tak terlihat di televisi , begini kabar terbaru romy rafael'],\n ['bukan zendaya , penyanyi satu yang bakal perankan little mermaid live action',\n  'ini',\n  'bukan zendaya , penyanyi satu ini yang bakal perankan ariel little mermaid live action'],\n [\"11 zoha rahman , gadis muslim berhijab spider-man : far from home '\",\n  \"fakta di '\",\n  \"11 fakta zoha rahman , gadis muslim berhijab di ' spider-man : far from home '\"],\n ['pernah nyatakan ibunya idap bipolar , kondisi sebenarnya ibu ',\n  'begini barbie kumalasari',\n  'pernah nyatakan ibunya idap bipolar , begini kondisi sebenarnya ibu barbie kumalasari'],\n ['3 dekat dengan diego michiels willy juga ',\n  'wanita yang pernah , ada nikita !',\n  '3 wanita yang pernah dekat dengan diego michiels , ada nikita willy juga !'],\n ['digrebeg di hotel , aktor ftv ridho illahi berduaan dengan selebgram chagii amelia ',\n  '?',\n  'digrebeg di hotel , aktor ftv ridho illahi berduaan dengan selebgram chagii amelia ?'],\n ['umur 3 bulan , baby zalina anak raisa dan daud ',\n  'begini wajah hamish sekarang',\n  'umur 3 bulan , begini wajah baby zalina anak raisa dan hamish daud sekarang'],\n [' yang punya pendapatan besar , bias ',\n  'inilah member bts paling siapa nih ?',\n  'inilah member bts yang punya pendapatan paling besar , bias siapa nih ?'],\n ['bakal tampil di jicomfest 2019 , lawakan mli yang super gokil',\n  'intip video gaya',\n  'bakal tampil di jicomfest 2019 , intip video gaya lawakan mli yang super gokil'],\n ['masih cinta , 5 indonesia yang balikan - rujuk setelah sempat ',\n  'pasangan seleb cerai',\n  'masih cinta , 5 pasangan seleb indonesia yang balikan - rujuk setelah sempat cerai'],\n [\" black widow merelakan diri '\",\n  \"alasan di ' avengers endgame\",\n  \"alasan black widow merelakan diri di ' avengers endgame '\"],\n ['6 kemiripan ramadhani dan lisa jadi adik ',\n  'foto nia blackpink , cocok kakak ?',\n  '6 foto kemiripan nia ramadhani dan lisa blackpink , cocok jadi kakak adik ?'],\n ['crazy rich pluit beli yacht raffi ahmad cash 4 miliar ',\n  '! pria ini',\n  'crazy rich pluit ! pria ini beli yacht raffi ahmad cash 4 miliar !'],\n ['3 keunikan hubungan - raisa - zalina , tak pernah sebelumnya',\n  'hamish terungkap',\n  '3 keunikan hubungan hamish - raisa - zalina , tak pernah terungkap sebelumnya'],\n [\"12 ming xi , model victoria ' s secret yang anak miliuner china\",\n  'potret cantik dilamar',\n  \"12 potret cantik ming xi , model victoria ' s secret yang dilamar anak miliuner china\"],\n ['7 indonesia rayakan waisak , ',\n  'artis ini siapa saja ?',\n  '7 artis indonesia ini rayakan waisak , siapa saja ?'],\n [' syahrini dan luna maya sepanggung di shopee ramadan tv show',\n  'heboh ! bareng',\n  'heboh ! syahrini dan luna maya sepanggung bareng di shopee ramadan tv show'],\n ['sambut ramadan , 3 penyanyi muda berbagi kebahagiaan dengan anak-anak panti asuhan',\n  'ini',\n  'sambut ramadan , 3 penyanyi muda ini berbagi kebahagiaan dengan anak-anak panti asuhan'],\n [\"8 ' aladdin ' properti perhiasan lho\",\n  'fakta menarik pakai asli',\n  \"8 fakta menarik ' aladdin ' properti pakai perhiasan asli lho\"],\n ['habis jutaan rupiah di supermarket , struk belanja panjang ',\n  'nikita mirzani banget !',\n  'habis jutaan rupiah di supermarket , struk belanja nikita mirzani panjang banget !'],\n [' 22 tahun dicoret dari kartu keluarga , diumumkan lewat koran ',\n  '!',\n  'cowok 22 tahun dicoret dari kartu keluarga , diumumkan lewat koran !'],\n ['6 film layar lebar perdana tayang di sctv untuk temani libur lebaran ',\n  'ini',\n  '6 film layar lebar ini perdana tayang di sctv untuk temani libur lebaran kamu'],\n ['10 korea yang diperkirakan berangkat wajib militer tahun depan & ',\n  'idol , ada bts exo',\n  '10 idol korea yang diperkirakan berangkat wajib militer tahun depan , ada bts & exo'],\n ['10 vincent , pilot yang lisensinya dicabut karena prank limbad',\n  'fakta raditya video',\n  '10 fakta vincent raditya , pilot yang lisensinya dicabut karena video prank limbad'],\n [\"dwayne johnson ' the rock ' bakal bergabung ke cinematic universe \",\n  '?',\n  \"dwayne johnson ' the rock ' bakal bergabung ke marvel cinematic universe ?\"],\n [' kpop fashionable , bisa contek gayanya ',\n  'deretan idol paling nih !',\n  'deretan kpop idol paling fashionable , bisa contek gayanya nih !'],\n ['2 jalani pertama setelah putuskan jadi mualaf',\n  'seleb ini puasa',\n  '2 seleb ini jalani puasa pertama setelah putuskan jadi mualaf'],\n [' ke eropa , spider-man punya baru ',\n  'liburan kostum ?',\n  'liburan ke eropa , spider-man punya kostum baru ?'],\n ['alami kecelakaan mobil , mantan tewas seketika',\n  'idol ini',\n  'alami kecelakaan mobil , mantan idol ini tewas seketika'],\n [\" ' pokemon detective pikachu ' , kini bisa ngomong seperti manusia\",\n  'fakta unik',\n  \"fakta unik ' pokemon detective pikachu ' , kini bisa ngomong seperti manusia\"],\n ['14 muslim & ikut di bulan ramadan',\n  'selebriti hollywood ini ternyata puasa',\n  '14 selebriti hollywood ini ternyata muslim & ikut puasa di bulan ramadan'],\n ['sophia latjuba datang ke ulang tahun gading , marten ungkap hubungan mereka',\n  'roy',\n  'sophia latjuba datang ke ulang tahun gading , roy marten ungkap hubungan mereka'],\n ['8 indonesia disebut hamil saat menikah , hoax',\n  'seleb ini duluan ternyata',\n  '8 seleb indonesia ini disebut hamil duluan saat menikah , ternyata hoax'],\n [' dari the voice setelah 16 season , adam levine ada masalah ',\n  'hengkang ?',\n  'hengkang dari the voice setelah 16 season , adam levine ada masalah ?'],\n ['irina shayk - bradley cooper lady gaga ',\n  'putus , penyebabnya ?',\n  'irina shayk - bradley cooper putus , lady gaga penyebabnya ?'],\n [\" tim ' ' baru , akan dipimpin \",\n  'sederet rumor menarik avengers captain marvel ?',\n  \"sederet rumor menarik tim ' avengers ' baru , akan dipimpin captain marvel ?\"],\n ['pasca , petinggi studios sudah kantongi nama untuk fase 4',\n  'avengers endgame marvel',\n  'pasca avengers endgame , petinggi marvel studios sudah kantongi nama untuk fase 4'],\n ['8 pernah mengaku naksir dengan lain , ',\n  'k-pop idol ini siapa saja ?',\n  '8 k-pop idol ini pernah mengaku naksir dengan idol lain , siapa saja ?'],\n ['digombalin , malu-malu jisoo ',\n  'penggemar begini reaksi blackpink',\n  'digombalin penggemar , begini reaksi malu-malu jisoo blackpink'],\n ['5 tahun merantau di jakarta , akankah fendy chow memenuhi harapan ibu ',\n  '?',\n  '5 tahun merantau di jakarta , akankah fendy chow memenuhi harapan sang ibu ?'],\n ['8 tahun bernaung di jyp entertainment , soloist memutuskan ',\n  'cantik ini hengkang !',\n  '8 tahun bernaung di jyp entertainment , soloist cantik ini memutuskan hengkang !'],\n [' ahmad dhani bersama anak , mulan kangen ',\n  'unggah video jameela ?',\n  'unggah video ahmad dhani bersama anak , mulan jameela kangen ?'],\n [' kepedasan , tembus 16 juta viewer dalam 2 hari ',\n  'viral video choi siwon !',\n  'viral video choi siwon kepedasan , tembus 16 juta viewer dalam 2 hari !'],\n [\"6 ' squad ' di , benar-benar friendship goals '\",\n  \"drama korea ini jadi '\",\n  \"6 ' squad ' di drama korea ini , benar-benar jadi ' friendship goals '\"],\n ['dancer terpopuler saat , kalah dari ',\n  'k-pop ini gak kece idol !',\n  'dancer k-pop terpopuler saat ini , gak kalah kece dari idol !'],\n [\" di , siapkan program ' bon voyage ' \",\n  'unggah foto liburan bts ?',\n  \"unggah foto di liburan , bts siapkan program ' bon voyage ' ?\"],\n [' saat anang gantikan posisinya di indonesian , maulana',\n  'menangis idol ini alasan armand',\n  'menangis saat anang gantikan posisinya di indonesian idol , ini alasan armand maulana'],\n [' naik pesawat 8 jam , tulis caption menyindir',\n  'heboh barbie kumalasari sederet seleb ini',\n  'heboh barbie kumalasari naik pesawat 8 jam , sederet seleb ini tulis caption menyindir'],\n ['penghasilan 3 bulan jadi , bisa beli 2 mobil ',\n  'verrell bramasta youtuber !',\n  'penghasilan verrell bramasta 3 bulan jadi youtuber , bisa beli 2 mobil !'],\n [\"selebritis yang jadi terseret korban ' skandal , \",\n  \"jadi ' bts siapa saja ?\",\n  \"selebritis yang jadi terseret jadi ' korban ' skandal bts , siapa saja ?\"],\n ['12 transformasi , dari berdada bidang - bikinian',\n  'millendaru cowok cantik doyan',\n  '12 transformasi millendaru , dari cowok cantik berdada bidang - doyan bikinian'],\n ['resmi diluncurkan , gebrakan baru di festival film indonesia 2019',\n  'ini',\n  'resmi diluncurkan , ini gebrakan baru di festival film indonesia 2019'],\n ['5 film indonesia terbaru yang #antingaret berangkat ke bioskop',\n  'bikin kamu',\n  '5 film indonesia terbaru yang bikin kamu #antingaret berangkat ke bioskop'],\n ['taemin shinee akan tampil di hut rcti ke-30 , shawol bisa bertemu ',\n  '!',\n  'taemin shinee akan tampil di hut rcti ke-30 , shawol beruntung bisa bertemu !'],\n [' bukti sosok religius , tak banyak yang tahu',\n  'sehun ini',\n  'ini bukti sehun exo sosok religius , tak banyak yang tahu'],\n ['dipenjara galih ginanjar atau , yang akan dipilih ',\n  'bareng cerai mana barbie kumalasari ?',\n  'dipenjara bareng galih ginanjar atau cerai , mana yang akan dipilih barbie kumalasari ?'],\n [\"james gunn ungkap batman bakal muncul suice squad 2 ' \",\n  \"di ' ?\",\n  \"james gunn ungkap batman bakal muncul di ' suice squad 2 ' ?\"],\n ['mia khalifa tentang panas berhijab , diteror isis ',\n  'buka-bukaan video !',\n  'mia khalifa buka-bukaan tentang video panas berhijab , diteror isis !'],\n [' ulang tahun , 16 transformasinya dari tembem abis - segar muda',\n  'ruben onsu ini awet',\n  'ruben onsu ulang tahun , ini 16 transformasinya dari tembem abis - segar awet muda'],\n ['12 pernah paskibra , mereka ',\n  'artis ini jadi anggota siapa saja ?',\n  '12 artis ini pernah jadi anggota paskibra , siapa saja mereka ?'],\n ['pelukan dengan reino barack , harga sweater syahr yang sampai 2 digit ',\n  'ini harganya !',\n  'pelukan dengan reino barack , ini harga sweater syahrini yang harganya sampai 2 digit !'],\n [\"10 idola dengan rahang tajam ' mengiris hati ' , sampai bobby ikon\",\n  'exo',\n  \"10 idola dengan rahang tajam ' mengiris hati ' , kai exo sampai bobby ikon\"],\n ['jual rumah demi shakira , kediaman denada ditawar keluarga menteri dengan harga segini',\n  '',\n  'jual rumah demi shakira , kediaman denada ditawar keluarga menteri dengan harga segini'],\n [' ramadhani hadiri pernikahan anak raam punjabi , sebal sama bcl ',\n  'gara-gara ini',\n  'nia ramadhani hadiri pernikahan anak raam punjabi , sebal sama bcl gara-gara ini'],\n ['15 korea yang cinlok tak berakhir bahagia : putus - ',\n  'pasangan seleb cerai',\n  '15 pasangan seleb korea yang cinlok tak berakhir bahagia : putus - cerai'],\n [' ali syakieb - bukan karena ',\n  'terkuak ! ini alasan citra kirana putus , rezky aditya',\n  'terkuak ! ini alasan ali syakieb - citra kirana putus , bukan karena rezky aditya'],\n [' , jemput impian julian jacob ',\n  'yuk kamu bareng !',\n  'yuk , jemput impian kamu bareng julian jacob !'],\n ['nama anak ditiru , franda : bayimu tak pantas nama itu ',\n  'fans pakai !',\n  'nama anak ditiru fans , franda : bayimu tak pantas pakai nama itu !'],\n [\" mengaku dapat panggilan ' gus lora ' , nu\",\n  'hotman paris begini penjelasan',\n  \"hotman paris mengaku dapat panggilan ' gus lora ' , begini penjelasan nu\"],\n [' yang biasa ditemui dalam ',\n  'inilah sederet tipe pacar drama korea',\n  'inilah sederet tipe pacar yang biasa ditemui dalam drama korea'],\n ['inspirasi tas kylie , effortless stylish ',\n  'gaya pinggang ala jenner !',\n  'inspirasi gaya tas pinggang ala kylie jenner , effortless stylish !'],\n [' mikhael moeis , ',\n  'sandra dewi akhirnya pamer wajah ganteng banget !',\n  'sandra dewi akhirnya pamer wajah mikhael moeis , ganteng banget !'],\n ['dami kwon g-dragon bakal nikahi aktor kim min joon , detailnya',\n  'kakak begini',\n  'dami kwon kakak g-dragon bakal nikahi aktor kim min joon , begini detailnya'],\n ['camila cabello dan shawn mendes ikan , konfirmasi pacaran ',\n  'pamer ciuman ala ?',\n  'camila cabello dan shawn mendes pamer ciuman ala ikan , konfirmasi pacaran ?'],\n ['booming iklan mie sedaap versi , ',\n  'choi siwon ternyata begini rasanya',\n  'booming iklan mie sedaap versi choi siwon , ternyata begini rasanya'],\n ['karena rassya buka restoran bertema papua',\n  'ini',\n  'karena ini teuku rassya buka restoran bertema papua'],\n [' bakal ke amerika boy william , ceritanya',\n  'begini barbie kumalasari',\n  'barbie kumalasari bakal ke amerika bareng boy william , begini ceritanya'],\n [' & galih ginanjar dikabarkan pisah , klarifikasi indra tarigan',\n  'barbie kumalasari begini penjelasan',\n  'barbie kumalasari & galih ginanjar dikabarkan pisah , begini klarifikasi indra tarigan'],\n ['5 film terbaik indonesia yang pernah bosan ditonton judul favoritmu ',\n  'nggak lagi , apa ?',\n  '5 film terbaik indonesia yang nggak pernah bosan ditonton lagi , apa judul favoritmu ?'],\n ['kado pernikahan justin bieber , jam tangan mewah seharga 1 miliar ',\n  'akhirnya !',\n  'kado pernikahan justin bieber , jam tangan mewah seharga 1 miliar !'],\n [\"18 tahun setelah ' kkkg ' , kajol dan kareena kapoor satu frame lagi dan makin stunning \",\n  '!',\n  \"18 tahun setelah ' kkkg ' , kajol dan kareena kapoor satu frame lagi dan makin stunning !\"],\n [' robby shine mantap berbisnis pusat kebugaran',\n  'ini alasan',\n  'ini alasan robby shine mantap berbisnis pusat kebugaran'],\n ['halaman k nlagi korea resmi launching , sih ',\n  'apa isinya aja ?',\n  'halaman kapanlagi korea resmi launching , isinya apa aja sih ?'],\n [' ikut kontes indonesia , luna merasa tersaingi ',\n  'rosa meldianti puteri lucinta ?',\n  'rosa meldianti ikut kontes puteri indonesia , lucinta luna merasa tersaingi ?'],\n [' penilaian guru di masa lalu , deepika padukone ancam ranveer singh',\n  'kocak ! gara-gara',\n  'kocak ! gara-gara penilaian guru di masa lalu , deepika padukone ancam ranveer singh'],\n ['keluar dari grup wa geng menteri ceria , melaney ricardo & luna maya berantem ',\n  '?',\n  'keluar dari grup wa geng menteri ceria , melaney ricardo & luna maya berantem ?'],\n [' soal di hotel bersama ',\n  'pengakuan atta halilintar berhubungan intim bebby fey',\n  'pengakuan atta halilintar soal berhubungan intim di hotel bersama bebby fey'],\n ['jelang pernikahan , dapat pesta bachelorette yang dan nakal ',\n  'hailey baldwin seru !',\n  'jelang pernikahan , hailey baldwin dapat pesta bachelorette yang seru dan nakal !'],\n ['4 tahun pergi kondisi makam olga syahputra',\n  ', seperti ini',\n  '4 tahun pergi , seperti ini kondisi makam olga syahputra'],\n ['7 yang mirip karakter animasi disney , j-hope - taeyeon ',\n  'k-pop idol bts snsd',\n  '7 k-pop idol yang mirip karakter animasi disney , j-hope bts - taeyeon snsd'],\n ['7 terbaru - ramadhani , bidadari turun dari langit',\n  'pemotretan jessica iskandar nia bak',\n  '7 pemotretan terbaru jessica iskandar - nia ramadhani , bak bidadari turun dari langit'],\n ['spider-man dikabarkan dari mcu , sony pictures',\n  'hengkang begini penjelasan',\n  'spider-man dikabarkan hengkang dari mcu , begini penjelasan sony pictures'],\n ['cut meyriska sakit selama 5 tahun , serangkaian pemeriksaan yang dilaluinya',\n  'ini',\n  'cut meyriska sakit perut selama 5 tahun , ini serangkaian pemeriksaan yang dilaluinya'],\n [' sangka , sampo alodita supermarket ',\n  'siapa favorit ternyata ada di !',\n  'siapa sangka , sampo favorit alodita ternyata ada di supermarket !'],\n [' kpop , yang ingin tonton konsernya ',\n  'deretan idol paling bersinar mana kamu ?',\n  'deretan kpop idol paling bersinar , mana yang ingin kamu tonton konsernya ?'],\n [' disebut punya tabungan rp 27 m , sumber penghasilannya',\n  'ruben onsu ini sederet',\n  'ruben onsu disebut punya tabungan rp 27 m , ini sederet sumber penghasilannya'],\n [\"peluncuran trailer ' gundala ' , abimana arasatya ungkap satu \",\n  'fakta unik',\n  \"peluncuran trailer ' gundala ' , abimana arasatya ungkap satu fakta unik\"],\n ['jokowi hadiri nikahan wartawan , anak ',\n  'ternyata seleb terkenal',\n  'jokowi hadiri nikahan wartawan , ternyata anak seleb terkenal'],\n [\" , pernah ada ' urusan ' dengan inisial zl\",\n  'blak-blakan millendaru ngaku ranjang artis',\n  \"blak-blakan , millendaru ngaku pernah ada ' urusan ranjang ' dengan artis inisial zl\"],\n ['sebelum tertangkap narkoba , film jefri nichol ',\n  'ini deretan !',\n  'sebelum tertangkap narkoba , ini deretan film jefri nichol !'],\n ['jennifer dunn rumah baru , super megah lengkap dengan kolam mewah',\n  'pamer renang',\n  'jennifer dunn pamer rumah baru , super megah lengkap dengan kolam renang mewah'],\n ['irwansyah main sinetron lagi chelsea olivia , cemburu ',\n  'bareng zaskia sungkar ?',\n  'irwansyah main sinetron lagi bareng chelsea olivia , zaskia sungkar cemburu ?'],\n ['10 persiapan penting sebelum masuk area jicomfest 2019',\n  '',\n  '10 persiapan penting sebelum masuk area jicomfest 2019'],\n [\"harga starter pack sekolah saaih ' sobat miskin ' \",\n  'halilintar bikin melongo',\n  \"harga starter pack sekolah saaih halilintar bikin ' sobat miskin ' melongo\"],\n [\" yang dihapus dari versi ' : ' \",\n  'video adegan asli avengers endgame , masih bikin nangis',\n  \"video adegan yang dihapus dari versi asli ' avengers : endgame ' , masih bikin nangis\"],\n [' , jennifer dunn soal rumah ',\n  'fakta mengejutkan terkuak bohong barunya ?',\n  'fakta mengejutkan terkuak , jennifer dunn bohong soal rumah barunya ?'],\n ['dulu sehari 8 ronde , bakal minta bilik asmara untuk galih ',\n  'barbie kumalasari ?',\n  'dulu bercinta sehari 8 ronde , barbie kumalasari bakal minta bilik asmara untuk galih ?'],\n ['kalau pandji , ernest dan sepanggung , ketawa ',\n  'raditya dika siapa paling bikin kamu ?',\n  'kalau pandji , ernest dan raditya dika sepanggung , siapa paling bikin kamu ketawa ?'],\n [' angel bicara soal : sih yang mau nerima aku ',\n  'vanessa jodoh siapa cowok ?',\n  'vanessa angel bicara soal jodoh : siapa sih cowok yang mau nerima aku ?'],\n ['ikut ke lokasi syuting , ',\n  'sarwendah inilah hal lucu yang dilakukan betrand peto',\n  'ikut sarwendah ke lokasi syuting , inilah hal lucu yang dilakukan betrand peto'],\n [' yang uus untuk berhenti narkoba',\n  'ini alasan bikin memilih pakai',\n  'ini alasan yang bikin uus memilih untuk berhenti pakai narkoba'],\n ['baru dibaptis , anwar hadid soal perbedaaan agama dalam keluarga',\n  'ini pengakuan',\n  'baru dibaptis , ini pengakuan anwar hadid soal perbedaaan agama dalam keluarga'],\n [' tana mongeau bawa ular ke vmas 2019 , tiru britney spears 18 tahun lalu ',\n  'youtuber gaya ?',\n  'youtuber tana mongeau bawa ular ke vmas 2019 , tiru gaya britney spears 18 tahun lalu ?'],\n [' , ayahnya - ibunya muda',\n  'foto orangtua jungkook bts ganteng banget awet',\n  'foto orangtua jungkook bts , ayahnya ganteng banget - ibunya awet muda'],\n [' film horor film horor yang bakal tayang di bulan april',\n  'suka ? berikut deretan',\n  'suka film horor ? berikut deretan film horor yang bakal tayang di bulan april'],\n [\"jenita janet jajal filler terobosan baru ' algenesss ' , 100 % bahan alami \",\n  'akhirnya !',\n  \"jenita janet jajal filler terobosan baru ' algenesss ' , 100 % bahan alami !\"],\n ['rapat investor entertainment selesai digelar , hasilnya ',\n  'yg ini !',\n  'rapat investor yg entertainment selesai digelar , ini hasilnya !'],\n ['lucunya lee dong wook tak bisa berhenti karena ',\n  'ini !',\n  'lucunya lee dong wook tak bisa berhenti menangis karena ini !'],\n [' girlband korea selatan , momoland',\n  'fakta menarik',\n  'fakta menarik girlband korea selatan , momoland'],\n [' kasus jung joon young , pernah ',\n  'heboh youtuber ini ngaku dilecehkan idol pria',\n  'heboh kasus jung joon young , youtuber ini ngaku pernah dilecehkan idol pria'],\n [' dengan tubuh berisi terbukti lebih bahagia',\n  'wanita bikin pria',\n  'wanita dengan tubuh berisi terbukti bikin pria lebih bahagia'],\n ['kronologi lengkap pemuda di bandung tusuk gadis pujaan karena cinta ditolak',\n  '',\n  'kronologi lengkap pemuda di bandung tusuk gadis pujaan karena cinta ditolak'],\n [' ngantuk , atau ',\n  'sarapan bikin mitos fakta ?',\n  'sarapan bikin ngantuk , mitos atau fakta ?'],\n ['sibuk hingga batal bertemu pimpinan kpk , agenda jokowi seharian',\n  'ini',\n  'sibuk hingga batal bertemu pimpinan kpk , ini agenda jokowi seharian'],\n ['spanduk pecel lele hingga obat kuat jadi jakmania kritik persija',\n  'cara',\n  'spanduk pecel lele hingga obat kuat jadi cara jakmania kritik persija'],\n ['5 animasi spongebob squarepants tahu ',\n  'fakta menarik yang perlu kamu !',\n  '5 fakta menarik animasi spongebob squarepants yang perlu kamu tahu !'],\n ['chris hemsworth atau natalie portman , bintang utama thor : and thunder',\n  'ini love',\n  'chris hemsworth atau natalie portman , ini bintang utama thor : love and thunder'],\n [' anggota pansus pemindahan ibu kota bentukan dpr',\n  'ini',\n  'ini anggota pansus pemindahan ibu kota bentukan dpr'],\n ['penemuan terbaru ungkap penyebab punahnya dinosaurus',\n  '',\n  'penemuan terbaru ungkap penyebab punahnya dinosaurus'],\n ['ketua hipmi lempar isyarat \" punya waktu longgar \" , presiden jokowi',\n  'ini',\n  'ketua hipmi lempar isyarat \" punya waktu longgar \" , ini respon presiden jokowi'],\n ['jelang berakhirnya pemerintahan , 3 pamit .',\n  'menteri jokowi . .',\n  'jelang berakhirnya pemerintahan , 3 menteri jokowi pamit . . .'],\n ['6 hadapi julid',\n  'reaksi shandy aulia netizen',\n  '6 reaksi shandy aulia hadapi netizen julid'],\n ['pertarungan buaya 1 , 8 meter dan anakonda sepanjang 8 meter , yang menang ',\n  'siapa ?',\n  'pertarungan buaya 1 , 8 meter dan anakonda sepanjang 8 meter , siapa yang menang ?'],\n [' langkah ditjen imigrasi setelah terima surat pencegahan dan pencabutan paspor veronica koman',\n  'ini',\n  'ini langkah ditjen imigrasi setelah terima surat pencegahan dan pencabutan paspor veronica koman'],\n [' hasrat pecatur indonesia di piala dunia fide',\n  'ini andalan',\n  'ini hasrat pecatur andalan indonesia di piala dunia fide'],\n ['disebut oleh dprd hanya ban serep ridwan kamil , uu ruzhanul',\n  'ini',\n  'disebut oleh dprd hanya ban serep ridwan kamil , ini kata uu ruzhanul'],\n ['dirut sriwijaya air dicopot ', '?', 'dirut sriwijaya air dicopot ?'],\n [' para seniman tolak revisi uu kpk',\n  'ini',\n  'ini cara para seniman tolak revisi uu kpk'],\n [' daihatsu sigra facelift',\n  'bocoran foto',\n  'bocoran foto daihatsu sigra facelift'],\n ['kami mencari tahu cosplayer menyukai karakter , jawabannya .',\n  'mengapa kostum ini . .',\n  'kami mencari tahu mengapa cosplayer menyukai kostum karakter , ini jawabannya . . .'],\n [' pesan terakhir istri yang gantung diri setelah cekcok dengan soal pelukan',\n  'ini suami foto',\n  'ini pesan terakhir istri yang gantung diri setelah cekcok dengan suami soal foto pelukan'],\n [' museum sejarah bentoel di malang dijual',\n  'ini alasan',\n  'ini alasan museum sejarah bentoel di malang dijual'],\n ['saat luhut dan susi pamit .', '. .', 'saat luhut dan susi pamit . . .'],\n [' bagi yang berniat memelihara vw kodok',\n  'tips',\n  'tips bagi yang berniat memelihara vw kodok'],\n ['karyawan amazon bakal turun ke jalan lakukan protes , ',\n  'apa alasannya ?',\n  'karyawan amazon bakal turun ke jalan lakukan protes , apa alasannya ?'],\n ['lewat siji , beda koleksi museum seni rupa dan keramik',\n  'cara nikmati',\n  'lewat siji , cara beda nikmati koleksi museum seni rupa dan keramik'],\n [' pilihan jenis gelas bisa pengaruhi rasa kopi ',\n  '?',\n  'bagaimana pilihan jenis gelas bisa pengaruhi rasa kopi ?'],\n ['sri mulyani ingin rekam medis 267 juta penduduk ri diidentifikasi , ',\n  'kenapa ?',\n  'sri mulyani ingin rekam medis 267 juta penduduk ri diidentifikasi , kenapa ?'],\n ['4 hari pertama penerapan sistem ganjil genap di jakarta barat',\n  'fakta',\n  '4 fakta hari pertama penerapan sistem ganjil genap di jakarta barat'],\n ['cukup bayar rp 5 . 000 untuk masuk ke 5 museum di jakarta ',\n  'ini',\n  'cukup bayar rp 5 . 000 untuk masuk ke 5 museum di jakarta ini'],\n ['ketika menteri susi minta maaf dan akui dirinya sedikit tengil .',\n  '. .',\n  'ketika menteri susi minta maaf dan akui dirinya sedikit tengil . . .'],\n [' beda penarikan dan pencabutan paspor pakar hukum',\n  'apa ? ini penjelasan',\n  'apa beda penarikan dan pencabutan paspor ? ini penjelasan pakar hukum'],\n ['dul jaelani : tolong maafkan saya . maafkan saya .',\n  '. .',\n  'dul jaelani : tolong maafkan saya . . . maafkan saya . . .'],\n ['disebut kerjanya cuma menembaki kapal , menteri susi',\n  'ini kata',\n  'disebut kerjanya cuma menembaki kapal , ini kata menteri susi'],\n [' sopir truk tanah jadi tersangka tabrakan beruntun di bintaro',\n  'fakta diketahui',\n  'fakta sopir truk tanah jadi tersangka tabrakan beruntun di bintaro'],\n ['kemal mochtar berhasil turunkan berat badan 50 kg dalam setahun , rahasianya ',\n  'apa ?',\n  'kemal mochtar berhasil turunkan berat badan 50 kg dalam setahun , apa rahasianya ?'],\n ['seorang polisi tepergok tanpa dengan istri orang , sanksi yang menanti',\n  'busana ini',\n  'seorang polisi tepergok tanpa busana dengan istri orang , ini sanksi yang menanti'],\n ['kerap diarak orang jepang , itu mikoshi ',\n  'apa ?',\n  'kerap diarak orang jepang , apa itu mikoshi ?'],\n [' di indonesia , bisa terjadi ',\n  'hari tanpa bayangan bagaimana ?',\n  'hari tanpa bayangan di indonesia , bagaimana bisa terjadi ?'],\n [' jatuh bangun pemilik warung dan barokah unhas hingga jadi langganan mahasiswa',\n  'cerita dian',\n  'cerita jatuh bangun pemilik warung dian dan barokah unhas hingga jadi langganan mahasiswa'],\n ['diajak perang gubernur maluku , menteri susi',\n  'ini jawaban',\n  'diajak perang gubernur maluku , ini jawaban menteri susi'],\n [' , seorang pengendara keluarkan jurus silat saat kena razia polisi',\n  'viral',\n  'viral , seorang pengendara keluarkan jurus silat saat kena razia polisi'],\n ['7 pasien ditandu menuju puskesmas , disebut \" ambulans desa \" hingga selamatkan ibu melahirkan',\n  'kisah',\n  '7 kisah pasien ditandu menuju puskesmas , disebut \" ambulans desa \" hingga selamatkan ibu melahirkan'],\n ['cukai rokok tahun depan naik , pertimbangan pemerintah',\n  'ini rinciannya',\n  'cukai rokok tahun depan naik , ini pertimbangan pemerintah'],\n [' , penumpang berdiri 6 jam di pesawat demi istri bisa ',\n  'viral tidur',\n  'viral , penumpang berdiri 6 jam di pesawat demi istri bisa tidur'],\n ['16 bagi tubuh yang tak bisa diremehkan',\n  'manfaat renang',\n  '16 manfaat renang bagi tubuh yang tak bisa diremehkan'],\n ['saat 10 capim kpk \" dikunci \" dengan surat bermeterai .',\n  'ini . .',\n  'saat 10 capim kpk \" dikunci \" dengan surat bermeterai ini . . .'],\n [' bugil naik motor keliling samarinda , kronologi kejadiannya',\n  'viral video wanita ini',\n  'viral video wanita bugil naik motor keliling samarinda , ini kronologi kejadiannya'],\n ['polemik pb djarum vs kpai yang berujung stop audisi .',\n  '. .',\n  'polemik pb djarum vs kpai yang berujung stop audisi . . .'],\n ['sby menitikkan air mata .',\n  'innalillahi . .',\n  'sby menitikkan air mata . . .'],\n [' maulana jadi juri anaknya di the voice | dipenjara , santunan ahmad dhani terhenti ',\n  'armand ?',\n  'armand maulana jadi juri anaknya di the voice | dipenjara , santunan ahmad dhani terhenti ?'],\n ['ditilang karena ganjil genap , mengurus denda tilang',\n  'begini cara',\n  'ditilang karena ganjil genap , begini cara mengurus denda tilang'],\n [' itu espresso dan istilah lain di kedai kopi tahu',\n  'apa yang harus kamu',\n  'apa itu espresso dan istilah lain di kedai kopi yang harus kamu tahu'],\n ['jangan makan pisang saat , ',\n  'sarapan ini alasannya',\n  'jangan makan pisang saat sarapan , ini alasannya'],\n ['ibu kota baru dikritik ridwan kamil terlalu luas , gubernur kaltim',\n  'ini',\n  'ibu kota baru dikritik ridwan kamil terlalu luas , ini komentar gubernur kaltim'],\n ['pindah ibu kota pengaruhi arus era kendaraan listrik ',\n  'kok ?',\n  'pindah ibu kota pengaruhi arus era kendaraan listrik ?'],\n ['pihak sekolah tidak setuju andreas diasuh wali kota malang , ',\n  'ini sebabnya',\n  'pihak sekolah tidak setuju andreas diasuh wali kota malang , ini sebabnya'],\n ['empat baru dalam sidang kasus nichol',\n  'fakta narkoba jefri',\n  'empat fakta baru terungkap dalam sidang kasus narkoba jefri nichol'],\n [' dan ekuinoks , sama atau beda ',\n  'hari tanpa bayangan ? ini penjelasannya',\n  'hari tanpa bayangan dan ekuinoks , sama atau beda ? ini penjelasannya'],\n ['harga emas dunia turun untuk 3 hari beruntun , ',\n  'apa sebabnya ?',\n  'harga emas dunia turun untuk 3 hari beruntun , apa sebabnya ?'],\n ['berbagai keluhan pengendara di hari pertama penerapan perluasan ganjil genap',\n  '',\n  'berbagai keluhan pengendara di hari pertama penerapan perluasan ganjil genap'],\n [' virus joker , segera hapus 24 aplikasi dari ponsel android ',\n  'ini anda',\n  'awas virus joker , segera hapus 24 aplikasi ini dari ponsel android anda'],\n [' kasus berujung pembunuhan , sisi kl snya',\n  'heboh perselingkuhan ini',\n  'heboh kasus perselingkuhan berujung pembunuhan , ini sisi klinisnya'],\n ['4 hari pertama ganjil genap di jakarta timur',\n  'fakta menarik',\n  '4 fakta menarik hari pertama ganjil genap di jakarta timur'],\n ['5 rumah minim cahaya alami tampak lebih terang',\n  'cara',\n  '5 cara bikin rumah minim cahaya alami tampak lebih terang'],\n [' polisi razia saat operasi patuh , kasatlantas polres bojonegoro',\n  'viral video mertua sendiri ini penjelasan',\n  'viral video polisi razia mertua sendiri saat operasi patuh , ini penjelasan kasatlantas polres bojonegoro'],\n ['disantuni rp 5 juta oleh ahmad dhani , keluarga korban kecelakaan dul merasa cukup ',\n  '?',\n  'disantuni rp 5 juta oleh ahmad dhani , keluarga korban kecelakaan dul merasa cukup ?'],\n [' iphone yang laris di semester pertama 2019',\n  'inilah',\n  'inilah iphone yang paling laris di semester pertama 2019'],\n [' paul cummings dan fasilitas disabilitas stadion kanjuruhan',\n  'cerita',\n  'cerita paul cummings dan fasilitas disabilitas stadion kanjuruhan'],\n ['pelamar cpns kini boleh 40 tahun , untuk posisi ',\n  'berusia apa saja ?',\n  'pelamar cpns kini boleh berusia 40 tahun , untuk posisi apa saja ?'],\n ['diputar serentak 12 september , 5 film warkop dki reborn 3',\n  'ini fakta',\n  'diputar serentak 12 september , ini 5 fakta film warkop dki reborn 3'],\n [' 5 bank yang tawarkan bunga deposito tertinggi',\n  'ini rinciannya',\n  'ini 5 bank yang tawarkan bunga deposito tertinggi'],\n [' persiapan mobil tua sebelum touring jarak jauh ',\n  'bagaimana ?',\n  'bagaimana persiapan mobil tua sebelum touring jarak jauh ?'],\n ['banyak kapal vietnam masuk zee indonesia , menteri susi',\n  'ini yang dilakukan',\n  'banyak kapal vietnam masuk zee indonesia , ini yang dilakukan menteri susi'],\n ['panas-panas , 5 minuman es indonesia segar',\n  'bikin ini',\n  'panas-panas , 5 minuman es asli indonesia ini bikin segar'],\n ['soal pembatasan mobil tua , harapan komunitas volkswagen indonesia',\n  'ini rinciannya',\n  'soal pembatasan mobil tua , ini harapan komunitas volkswagen indonesia'],\n ['pengendara yang tak bertanggung jawab harus dipidana ',\n  '!',\n  'pengendara yang tak bertanggung jawab harus dipidana !'],\n [' resmi pindah ke jakarta , hari pertama sekolahnya',\n  'betrand peto begini',\n  'betrand peto resmi pindah ke jakarta , begini hari pertama sekolahnya'],\n [' kronologi kecelakaan bus mira vs innova di nganjuk-madiun',\n  'ini',\n  'ini kronologi kecelakaan bus mira vs innova di nganjuk-madiun'],\n ['jack ma putuskan pensiun , alibaba bakal hadapi kondisi sulit ',\n  '?',\n  'jack ma putuskan pensiun , alibaba bakal hadapi kondisi sulit ?'],\n ['4 zara jkt48 dan peran ',\n  'fakta virgo',\n  '4 fakta zara jkt48 dan peran virgo'],\n ['uu ruzhanul disebut dprd hanya ban serep , ridwan kamil',\n  'ini',\n  'uu ruzhanul disebut dprd hanya ban serep , ini tanggapan ridwan kamil'],\n ['anggaran pilkada surakarta 2020 capai rp 17 , 8 miliar , ',\n  'ini',\n  'anggaran pilkada surakarta 2020 capai rp 17 , 8 miliar , ini rinciannya'],\n ['tak bisa lakukan pencegahan , imigrasi pulangkan veronica koman',\n  'ini cara',\n  'tak bisa lakukan pencegahan , ini cara imigrasi pulangkan veronica koman'],\n [' youtube \" lemot \" di smartphone ',\n  'video ? ini cara mengatasinya',\n  'video youtube \" lemot \" di smartphone ? ini cara mengatasinya'],\n [\"jokowi sebut 141 juta penduduk ri ' naik kelas ' pada 2020 , maksudnya \",\n  '?',\n  \"jokowi sebut 141 juta penduduk ri ' naik kelas ' pada 2020 , apa maksudnya ?\"],\n [' perlunya terowongan di tol cisumdawu dan mrt',\n  'ini',\n  'ini alasan perlunya terowongan di tol cisumdawu dan mrt'],\n ['toyota calya 2019 meluncur , detail ',\n  'simak harganya',\n  'toyota calya 2019 meluncur , simak detail harganya'],\n ['melemah , kurs rupiah di 6 bank besar',\n  'ini',\n  'melemah , ini kurs rupiah di 6 bank besar'],\n [' trotoar kalimalang berada di tengah jalan',\n  'ini alasan',\n  'ini alasan mengapa trotoar kalimalang berada di tengah jalan'],\n ['ekspor perikanan indonesia kalah dengan vietnam , masalahnya',\n  'ini rinciannya',\n  'ekspor perikanan indonesia kalah dengan vietnam , ini masalahnya'],\n [' tampil lebih unggul dibanding kandidat pencari kerja lain',\n  'ini tips',\n  'tips tampil lebih unggul dibanding kandidat pencari kerja lain'],\n ['sepekan terakhir suhu di bengkulu makin , ',\n  'ini penyebabnya',\n  'sepekan terakhir suhu di bengkulu makin dingin , ini penyebabnya'],\n ['disinggung iriana jokowi , kondisi terkini kali bahagia di bekasi',\n  'begini',\n  'disinggung iriana jokowi , begini kondisi terkini kali bahagia di bekasi'],\n [' modal desa kutuh bisa raup puluhan miliar rupiah',\n  'ini',\n  'ini modal desa kutuh bisa raup puluhan miliar rupiah'],\n [' kewenangan dewan pengawas dalam mengawasi kinerja kpk ',\n  'apa ?',\n  'apa saja kewenangan dewan pengawas dalam mengawasi kinerja kpk ?'],\n ['satu bulan berstatus kondisi gunung slamet ',\n  'waspada , bagaimana ?',\n  'satu bulan berstatus waspada , bagaimana kondisi gunung slamet ?'],\n ['pemprov dki potong tunggakan pajak hingga 50 persen , ',\n  'ini rinciannya',\n  'pemprov dki potong tunggakan pajak hingga 50 persen , ini rinciannya'],\n [' 5 keunggulan daihatsu sigra',\n  'berikut',\n  'berikut 5 keunggulan daihatsu sigra'],\n ['5 balkonjazz festival 2019 , pasar balkon hingga ditutup yura yunita',\n  'hal menarik',\n  '5 hal menarik balkonjazz festival 2019 , pasar balkon hingga ditutup yura yunita'],\n ['berlangsung usai pulang kerja , daftar harga tiket laga timnas u-16',\n  'ini',\n  'berlangsung usai pulang kerja , ini daftar harga tiket laga timnas u-16'],\n ['5 fitur toyota calya yang wajib ',\n  'menarik diketahui',\n  '5 fitur menarik toyota calya yang wajib diketahui'],\n [' kolonel beben ingin maju di pilkada tangsel 2020',\n  'ini',\n  'ini alasan kolonel beben ingin maju di pilkada tangsel 2020'],\n ['daihatsu sigra 2019 resmi meluncur , ubahannya',\n  'ini rinciannya',\n  'daihatsu sigra 2019 resmi meluncur , ini ubahannya'],\n ['kalah dari marquez , quartararo',\n  'ini kata',\n  'kalah dari marquez , ini kata quartararo'],\n ['tuduhan polisi , bantahan veronica koman .',\n  '. .',\n  'tuduhan polisi , bantahan veronica koman . . .'],\n ['terminal 2 bandara soekarno-hatta jadi terminal traveloka , ',\n  'apa sebabnya ?',\n  'terminal 2 bandara soekarno-hatta jadi terminal traveloka , apa sebabnya ?'],\n ['lahan 26 perusahaan sawit di kalbar disegel terkait karhutla , daftarnya',\n  'ini',\n  'lahan 26 perusahaan sawit di kalbar disegel terkait karhutla , ini daftarnya'],\n ['pdi-p dukung jokowi merevisi uu kpk , .',\n  'ini . .',\n  'pdi-p dukung jokowi merevisi uu kpk , ini alasannya . . .'],\n ['3 investor asing tertarik bangun lrt jawa timur , ',\n  'siapa ?',\n  '3 investor asing tertarik bangun lrt jawa timur , siapa saja ?'],\n ['anak keseringan main hp , dampaknya ',\n  '?',\n  'anak keseringan main hp , bagaimana dampaknya ?'],\n [' penyebab bayi 4 bulan di sumsel meninggal , sesak napas diduga terpapar kabut asap',\n  'ini rinciannya',\n  'ini penyebab bayi 4 bulan di sumsel meninggal , sesak napas diduga terpapar kabut asap'],\n [' ketentuan penyad n yang diatur dalam draf revisi uu kpk ',\n  'apa saja ?',\n  'apa saja ketentuan penyadapan yang diatur dalam draf revisi uu kpk ?'],\n ['bus persib dilempari batu dan 2 pemain terluka , ',\n  'begini kronologinya',\n  'bus persib dilempari batu dan 2 pemain terluka , begini kronologinya'],\n [' jadwal update android 10 untuk ponsel realme',\n  'ini',\n  'ini jadwal update android 10 untuk ponsel realme'],\n [' ubahan eksterior dan interior toyota calya 2019',\n  'ini rinciannya',\n  'ini ubahan eksterior dan interior toyota calya 2019'],\n ['sempat , plus minus toyota calya dan daihatsu sigra',\n  'ini',\n  'sempat viral , ini plus minus toyota calya dan daihatsu sigra'],\n [' 3 arloji seiko bertema monster hunt',\n  'yuk intip',\n  'intip 3 arloji seiko bertema monster hunt'],\n ['fahri hamzah usul jokowi segera lantik firli cs , .',\n  'ini . .',\n  'fahri hamzah usul jokowi segera lantik firli cs , ini alasannya . . .'],\n ['ada 10 varian , harga lengkap daihatsu sigra 2019',\n  'ini rinciannya',\n  'ada 10 varian , ini harga lengkap daihatsu sigra 2019'],\n ['driver grabcar bisa beli rumah dengan bunga kpr tetap , syaratnya',\n  'ini',\n  'driver grabcar bisa beli rumah dengan bunga kpr tetap , ini syaratnya'],\n ['3 jadi penyebab rendahnya minat baca anak indonesia',\n  'ini',\n  '3 hal ini jadi penyebab rendahnya minat baca anak indonesia'],\n ['30 orang jadi tersangka kerusuhan di papua barat dan 12 dpo , perannya .',\n  'ini . .',\n  '30 orang jadi tersangka kerusuhan di papua barat dan 12 dpo , ini perannya . . .'],\n ['beragam modifikasi komunitas buat kendaraan listrik',\n  '',\n  'beragam modifikasi komunitas buat kendaraan listrik'],\n [' stand up comedy kiky saputri yang fadli zon geleng-geleng kepala',\n  'viral',\n  'viral stand up comedy kiky saputri yang bikin fadli zon geleng-geleng kepala'],\n [' tahapan kompetisi voli liga mahasiswa jawa timur',\n  'ini',\n  'ini tahapan kompetisi voli liga mahasiswa jawa timur'],\n ['perkenalkan , gadis , anggota dprd maluku 24 tahun',\n  'ini',\n  'perkenalkan , ini gadis , anggota dprd maluku berusia 24 tahun'],\n [' , indonesia bernama tiga karena disiksa di as',\n  'viral artis setia gara menangis suami',\n  'viral , artis indonesia bernama tiga setia gara menangis karena disiksa suami di as'],\n [' penyanyi tiga mengaku alami di amerika serikat',\n  'viral ! setia gara kdrt',\n  'viral ! penyanyi tiga setia gara mengaku alami kdrt di amerika serikat'],\n [' capaian umj di liga mahasiswa 2019',\n  'ini',\n  'ini capaian umj di liga mahasiswa 2019'],\n ['\" pencuri mata \" , sebab pemuda game online alami kebutaan',\n  'pria kecanduan',\n  '\" pencuri mata \" , sebab pemuda kecanduan game online alami kebutaan'],\n [' fadli zon marah setelah di-roasting komika kiky saputri ',\n  'benarkah ?',\n  'benarkah fadli zon marah setelah di-roasting komika kiky saputri ?'],\n [' mengolah sayuran agar nutrisinya tidak hilang',\n  'cara yang benar',\n  'cara mengolah sayuran yang benar agar nutrisinya tidak hilang'],\n [' 6 agar masyarakat aman gas elpiji',\n  'ini tips',\n  'ini 6 tips agar masyarakat aman pakai gas elpiji'],\n ['jika as ingin gelar perundingan pelucutan senjata nuklir , yang diminta korea utara',\n  'ini',\n  'jika as ingin gelar perundingan pelucutan senjata nuklir , ini yang diminta korea utara'],\n ['\" urusan bukan urusan negara . \"',\n  'ranjang . .',\n  '\" urusan ranjang bukan urusan negara . . . \"'],\n ['kabut asap di riau , pencegahan dan penanganan kesehatannya',\n  'ini tips',\n  'kabut asap di riau , ini tips pencegahan dan penanganan kesehatannya'],\n ['selain spongebob squarepants , 4 animasi ditegur kpi',\n  'ini yang pernah',\n  'selain spongebob squarepants , ini 4 animasi yang pernah ditegur kpi'],\n [' veronica koman baru .',\n  'alasan buka suara . .',\n  'alasan veronica koman baru buka suara . . .'],\n [' 4 tim yang lolos dari euro futsal championship 2019 palembang',\n  'ini rinciannya',\n  'ini 4 tim yang lolos dari euro futsal championship 2019 palembang'],\n [' kronologi pelemparan bus persib bandung',\n  'viral begini',\n  'begini kronologi pelemparan bus persib bandung'],\n ['halmahera selatan diguncang gempa , bedanya dengan guncangan juli',\n  'ini',\n  'halmahera selatan diguncang gempa , ini bedanya dengan guncangan juli'],\n ['mau sukses bisnis buzzer media sosial ',\n  ', lakukan cara ini !',\n  'mau sukses bisnis buzzer media sosial , lakukan cara ini !'],\n [' jadinya jika hiu di bumi menghilang ',\n  'apa ?',\n  'apa jadinya jika hiu di bumi menghilang ?'],\n ['daftar harga mobil bekas rp 100 jutaan avanza dan xenia juga',\n  ', ada',\n  'daftar harga mobil bekas rp 100 jutaan , ada avanza dan xenia juga'],\n [' menjaga kesehatan catherine wilson',\n  'tips kulit ala',\n  'tips menjaga kesehatan kulit ala catherine wilson'],\n ['ingin jadi digital marketing sukses pastikan punya ',\n  '? ini',\n  'ingin jadi digital marketing sukses ? pastikan punya sifat ini'],\n [' marquez dan rossi soal insiden sesi kualifikasi gp san marino',\n  'ini komentar',\n  'komentar marquez dan rossi soal insiden sesi kualifikasi gp san marino'],\n ['kpi beri sanksi spongebob squarepants , ',\n  'ini penyebabnya',\n  'kpi beri sanksi spongebob squarepants , ini penyebabnya'],\n [' agar keuangan tak tergerus inflasi',\n  'tips',\n  'tips agar keuangan tak tergerus inflasi'],\n ['daftar top skor liga inggris , tammy abraham samai aguero',\n  '',\n  'daftar top skor liga inggris , tammy abraham samai aguero'],\n [' penipuan ojek online berkedok istri cukup dengarkan ',\n  'viral sakit , saja',\n  'viral penipuan ojek online berkedok istri sakit , cukup dengarkan saja'],\n ['j n-j n , 5 pasar dan serba murah di seoul',\n  'ala bts ini unik',\n  'jalan-jalan ala bts , ini 5 pasar unik dan serba murah di seoul'],\n [' pengalaman jadi player escort di laga tira-persikabo vs persib .',\n  'cerita . .',\n  'cerita pengalaman jadi player escort di laga tira-persikabo vs persib . . .'],\n [' saut situmorang soal masa depan kpk pasca 3 pimpinan serahkan mandat ke presiden',\n  'ini kata',\n  'ini kata saut situmorang soal masa depan kpk pasca 3 pimpinan serahkan mandat ke presiden'],\n ['dua malaysia hadapi uni emirat arab',\n  'ini cara',\n  'dua cara malaysia hadapi uni emirat arab'],\n ['esemka jadi mobil dinas , harapan sekda jateng',\n  'ini',\n  'esemka jadi mobil dinas , ini harapan sekda jateng'],\n ['layangkan surat keberatan , 4 poin tuntutan persib ke pt lib',\n  'ini rinciannya',\n  'layangkan surat keberatan , ini 4 poin tuntutan persib ke pt lib'],\n ['4 prioritas sebelum mendesain ruang kerja di rumah',\n  '',\n  '4 prioritas sebelum mendesain ruang kerja di rumah'],\n ['wilayah jakbar tertinggi pelanggar ganjil genap hari pertama , .',\n  'ini . .',\n  'wilayah jakbar tertinggi pelanggar ganjil genap hari pertama , ini alasannya . . .'],\n ['indonesian kembali digelar , 5 musisi menjadi jurinya .',\n  'idol ini . .',\n  'indonesian idol kembali digelar , 5 musisi ini menjadi jurinya . . .'],\n [' gangguan paru , efek polusi udara bagi tubuh',\n  'tak cuma ini',\n  'tak cuma gangguan paru , ini efek polusi udara bagi tubuh'],\n ['jokowi ungkap kelemahan pengusaha muda indonesia , ',\n  'apa ?',\n  'jokowi ungkap kelemahan pengusaha muda indonesia , apa saja ?'],\n ['\" jangan keruk emas di tanah leluhur kami \"',\n  '',\n  '\" jangan keruk emas di tanah leluhur kami \"'],\n ['gejolak kabut asap , prediksi dinamika atmosfer indonesia',\n  'ini',\n  'gejolak kabut asap , ini prediksi dinamika atmosfer indonesia'],\n [' penyebab kecelakaan di tol jagorawi yang tewaskan 3 orang',\n  'ini',\n  'ini penyebab kecelakaan di tol jagorawi yang tewaskan 3 orang'],\n ['anita wahid memahami langkah kpk serahkan mandat ke presiden , . .',\n  'tapi .',\n  'anita wahid memahami langkah kpk serahkan mandat ke presiden , tapi . . .'],\n ['rumah nanas spongebob dunia nyata , ',\n  'ada di yuk intip !',\n  'rumah nanas spongebob ada di dunia nyata , yuk intip !'],\n ['5 cegah kutu tak ikut setelah bepergian',\n  'cara anda',\n  '5 cara cegah kutu tak ikut anda setelah bepergian'],\n ['diet bisa berdampak buruk pada kekuatan tulang , ',\n  'apa alasannya ?',\n  'diet bisa berdampak buruk pada kekuatan tulang , apa alasannya ?'],\n [' bayi \" spesial \" yang lahir \" serba \" 9 / 11',\n  'kisah suami',\n  'kisah bayi \" spesial \" yang lahir \" serba \" 9 / 11'],\n ['bukal k dikabarkan phk karyawan ',\n  'apa , ada ?',\n  'bukalapak dikabarkan phk karyawan , ada apa ?'],\n [' jadwal update emui android 10 untuk ponsel huawei',\n  'ini',\n  'ini jadwal update emui android 10 untuk ponsel huawei'],\n [' sebab tinggi badan gabby terus bertambah hingga capai 2 , 2 meter',\n  'ini',\n  'ini sebab tinggi badan gabby terus bertambah hingga capai 2 , 2 meter'],\n ['ingin usaha tumbuh dari pebisnis sukses ryan margolin',\n  'anda ? simak tips',\n  'ingin usaha anda tumbuh ? simak tips dari pebisnis sukses ryan margolin'],\n [' jenis olahraga yang atau ',\n  'ini bikin tinggi , mitos fakta ?',\n  'ini jenis olahraga yang bikin tinggi , mitos atau fakta ?'],\n ['ekspor riau turun kabut asap ',\n  ', karena ?',\n  'ekspor riau turun , karena kabut asap ?'],\n ['cukup jalan kaki dari stasiun bogor , 5 murah di bogor',\n  'tempat wisata',\n  'cukup jalan kaki dari stasiun bogor , 5 tempat wisata murah di bogor'],\n [' identitas mayat perempuan yang ditemukan di irigasi',\n  'ini rinciannya',\n  'ini identitas mayat perempuan yang ditemukan di irigasi'],\n ['indonesia vs thailand , suporter tamu tak takut ke jakarta',\n  'ini alasan',\n  'indonesia vs thailand , alasan suporter tamu tak takut ke jakarta'],\n ['menurut google , tantangan pertumbuhan startup di indonesia',\n  'ini rinciannya',\n  'menurut google , ini tantangan pertumbuhan startup di indonesia'],\n [' kehamilannya dinyinyiri , ',\n  'foto netizen ini jawaban shandy aulia',\n  'foto kehamilannya dinyinyiri netizen , ini jawaban shandy aulia'],\n ['akhir perhelatan sos run to care 2019 , jumlah donasi terkumpul',\n  'ini',\n  'akhir perhelatan sos run to care 2019 , ini jumlah donasi terkumpul'],\n ['5 tanaman mematikan di dunia , satunya indonesia',\n  'paling salah ada di',\n  '5 tanaman paling mematikan di dunia , salah satunya ada di indonesia'],\n ['6 batasi pkl berjualan di trotoar',\n  'hal ini',\n  '6 hal ini batasi pkl berjualan di trotoar'],\n ['mahasiswa pariwisata , 6 kiat sukses di industri \" hospitality \"',\n  'ini rinciannya',\n  'mahasiswa pariwisata , ini 6 kiat sukses di industri \" hospitality \"'],\n [' bedanya yukata dengan kimono',\n  'ini rinciannya',\n  'ini bedanya yukata dengan kimono'],\n [' kesehatan dan umur , kivlan zen ajukan penangguhan penahanan',\n  'alasan',\n  'alasan kesehatan dan umur , kivlan zen ajukan penangguhan penahanan'],\n [' investasi sejak dini petenis andy roddick',\n  'simak tips ala',\n  'simak tips investasi sejak dini ala petenis andy roddick'],\n ['anang dan ashanty jual rumah mewahnya di cinere , tertarik beli ',\n  '?',\n  'anang dan ashanty jual rumah mewahnya di cinere , tertarik beli ?'],\n ['pembangunan ibu kota baru bisa tangkal risiko resesi ',\n  '?',\n  'pembangunan ibu kota baru bisa tangkal risiko resesi ?'],\n ['mengenang chrisye , karya legendaris tak pernah mati ',\n  'kenapa sang ?',\n  'mengenang chrisye , kenapa karya sang legendaris tak pernah mati ?'],\n ['banyak warga jabar hanya makan kecap dan kerupuk , pakar gizi',\n  'ini kata',\n  'banyak warga jabar hanya makan kecap dan kerupuk , ini kata pakar gizi'],\n [' dengan seseorang ',\n  'benarkah zodiak berhubungan kepribadian ?',\n  'benarkah zodiak berhubungan dengan kepribadian seseorang ?'],\n [' irish bella dan ammar zoni rahasiakan jenis calon bayinya',\n  'alasan kelamin',\n  'alasan irish bella dan ammar zoni rahasiakan jenis kelamin calon bayinya'],\n ['isu ganti simon mcmenemy , rahmad darmawan',\n  'begini tanggapan',\n  'isu ganti simon mcmenemy , begini tanggapan rahmad darmawan'],\n ['raline shah rela bolak-balik amerika-indonesia ',\n  ', ada apa ?',\n  'raline shah rela bolak-balik amerika-indonesia , ada apa ?'],\n [' rutin makan jamur turunkan risiko kanker prostat pada ',\n  'benarkah pria ?',\n  'benarkah rutin makan jamur turunkan risiko kanker prostat pada pria ?'],\n [' menyimpan twit di twitter tanpa follower',\n  'cara orang lain ketahuan',\n  'cara menyimpan twit orang lain di twitter tanpa ketahuan follower'],\n [' once soal kabar republik cinta management bangkrut',\n  'kata',\n  'kata once soal kabar republik cinta management bangkrut'],\n [' perampokan rumah makan gratis di bogor , kejadiannya',\n  'viral begini',\n  'video perampokan rumah makan gratis di bogor viral , begini kejadiannya'],\n [' andre taulany dapat diskon besar saat beli harley',\n  'begini cara',\n  'begini cara andre taulany dapat diskon besar saat beli harley'],\n [' , koleksi mobil presiden dan wakil presiden pertama di museum joang 45',\n  'yuk',\n  'yuk , intip koleksi mobil presiden dan wakil presiden pertama di museum joang 45'],\n ['wapres jusuf kalla setuju ada dewan pengawas kpk , tetapi .',\n  'innalillahi . .',\n  'wapres jusuf kalla setuju ada dewan pengawas kpk , tetapi . . .'],\n ['tarif cukai rokok naik , persaingan di industri saat ',\n  '? ini',\n  'tarif cukai rokok naik , bagaimana persaingan di industri saat ini ?'],\n [' matikan kolom kehamilannya di ig',\n  'alasan shandy aulia komentar foto',\n  'alasan shandy aulia matikan kolom komentar foto kehamilannya di ig'],\n ['mahasiswa sodorkan 6 poin soal karhutla , gubernur sumsel siap mundur , jika .',\n  '. .',\n  'mahasiswa sodorkan 6 poin soal karhutla , gubernur sumsel siap mundur , jika . . .'],\n [' polisi tindak pelanggar ganjil genap agar tidak lolos',\n  'cara',\n  'cara polisi tindak pelanggar ganjil genap agar tidak lolos'],\n ['lelang proyek jakarta international stadium diprotes , kementerian pupr ',\n  'apa ?',\n  'lelang proyek jakarta international stadium diprotes , apa kata kementerian pupr ?'],\n ['gojek resmi beroperasi di bandara soekarno-hatta , pesannya',\n  'begini',\n  'gojek resmi beroperasi di bandara soekarno-hatta , begini cara pesannya'],\n ['masih bingung , bayar pajak ',\n  'siapa saja yang harus ?',\n  'masih bingung , siapa saja yang harus bayar pajak ?'],\n ['usai esemka , arah pengembangan mobil nasional ke depan ',\n  'bagaimana ?',\n  'usai esemka , bagaimana arah pengembangan mobil nasional ke depan ?'],\n [\"peserta magang dapat ' karpet merah pegawai pln\",\n  \"' jadi\",\n  \"peserta magang dapat ' karpet merah ' jadi pegawai pln\"],\n ['grab bakal kendaraan listrik , untungnya bagi mitra pengemudi ',\n  'pakai apa ?',\n  'grab bakal pakai kendaraan listrik , apa untungnya bagi mitra pengemudi ?'],\n [' rincian skema biaya pembangunan ibu kota baru',\n  'ini',\n  'ini rincian skema biaya pembangunan ibu kota baru'],\n ['jokowi mau bangun istana negara di papua , bappenas',\n  'ini kata',\n  'jokowi mau bangun istana negara di papua , ini kata bappenas'],\n ['sandiaga uno akan kembali gabung dengan gerindra ',\n  '?',\n  'sandiaga uno akan kembali gabung dengan gerindra ?'],\n ['belum ada tersangka kasus art tewas diterkam anjing , ',\n  'kenapa ?',\n  'belum ada tersangka kasus art tewas diterkam anjing , kenapa ?'],\n ['3 tentang permintaan pembangunan istana presiden di papua',\n  'hal',\n  '3 hal tentang permintaan pembangunan istana presiden di papua'],\n ['muncul usulan dki gunakan dua wagub , mungkinkah ',\n  'kok ?',\n  'muncul usulan dki gunakan dua wagub , mungkinkah ?'],\n [' kemiskinan , keluarga di karawang tinggal di gubuk mirip kandang ayam',\n  'ini',\n  'potret kemiskinan , keluarga di karawang ini tinggal di gubuk mirip kandang ayam'],\n ['jokowi : saya paksa bumn terima 1 . 000 masyarakat papua',\n  '',\n  'jokowi : saya paksa bumn terima 1 . 000 masyarakat papua'],\n ['ide anies legalkan pkl di trotoar , langgar undang-undang ',\n  '?',\n  'ide anies legalkan pkl di trotoar , langgar undang-undang ?'],\n ['catat , gerhana matahari di indonesia pada 26 desember 2019',\n  'cincin terlihat',\n  'catat , gerhana matahari cincin terlihat di indonesia pada 26 desember 2019'],\n ['sby dan air mata rindu untuk belahan hati , ani yudhoyono',\n  'sang ?',\n  'sby dan air mata rindu untuk sang belahan hati , ani yudhoyono'],\n ['metro sepekan : kecelakaan tol cipularang , berbaju putih ',\n  'cerita siapa wanita ?',\n  'metro sepekan : cerita kecelakaan tol cipularang , siapa wanita berbaju putih ?'],\n [' : usai raya meninggal , kelanjutan kasus vina garut ',\n  'top 3 news bagaimana video syur ?',\n  'top 3 news : usai raya meninggal , bagaimana kelanjutan kasus video syur vina garut ?'],\n [' : ilmu tenaga dalam saat ditilang polisi',\n  'video pria pamer',\n  'video : pria pamer ilmu tenaga dalam saat ditilang polisi'],\n ['100 hari ani yudhoyono berpulang , kenangan sby akan sosok memo',\n  'ini',\n  '100 hari ani yudhoyono berpulang , ini kenangan sby akan sosok memo'],\n [' pilu , diperkosa dan jadi tumbal dekat',\n  'asih pesugihan teman',\n  'kisah pilu asih , diperkosa dan jadi tumbal pesugihan teman dekat'],\n ['4 sidang perdana kasus nichol',\n  'fakta terungkap narkoba jefri',\n  '4 fakta sidang perdana kasus narkoba jefri nichol'],\n ['mengaku jadi korban pemerkosaan , 4 tentang nouva',\n  'ini fakta menarik',\n  'mengaku jadi korban pemerkosaan , ini 4 fakta menarik tentang barbie nouva'],\n ['jadi korban perkosaan , nouva tak lapor polisi ',\n  'kenapa ?',\n  'jadi korban perkosaan , kenapa barbie nouva tak lapor polisi ?'],\n [' nouva pernah diancam dan diperkosa',\n  'heboh pengakuan barbie pistol',\n  'heboh pengakuan barbie nouva pernah diancam pistol dan diperkosa'],\n ['elza kecewa dengan perlakuan ',\n  'syarief hotman paris',\n  'elza syarief kecewa dengan perlakuan hotman paris'],\n [' : hailee stainfeld bakal gabung ',\n  'video marvel ?',\n  'video : hailee stainfeld bakal gabung marvel ?'],\n ['susah nichol ditawari ganja di restoran fast food kemang',\n  ', jefri pakai tidur',\n  'susah tidur , jefri nichol ditawari ganja di restoran fast food kemang'],\n [' iri karena tetap dan singset usai melahirkan',\n  'sandra dewi bikin cantik',\n  'sandra dewi bikin iri karena tetap cantik dan singset usai melahirkan'],\n ['pelatih timnas indonesia sebut dua pemain thailand punya kualitas pembeda',\n  'ini',\n  'pelatih timnas indonesia sebut dua pemain thailand ini punya kualitas pembeda'],\n ['prediksi timnas indonesia vs thailand : pantang kalah lagi ',\n  '!',\n  'prediksi timnas indonesia vs thailand : pantang kalah lagi !'],\n ['daftar alumnus audisi beasiswa bulu tangkis pb djarum',\n  '',\n  'daftar alumnus audisi beasiswa bulu tangkis pb djarum'],\n ['jelang timnas indonesia vs thailand , banyak faktor yang bebani skuat garuda',\n  '',\n  'jelang timnas indonesia vs thailand , banyak faktor yang bebani skuat garuda'],\n ['dikabarkan ingin ke mu , winger juventus marah besar',\n  '',\n  'dikabarkan ingin ke mu , winger juventus marah besar'],\n ['headline : audisi pb djarum disetop , nasib regenerasi atlet bulu tangkis ',\n  'bagaimana ?',\n  'headline : audisi pb djarum disetop , bagaimana nasib regenerasi atlet bulu tangkis ?'],\n ['3 kemenangan terakhir timnas indonesia atas thailand',\n  '',\n  '3 kemenangan terakhir timnas indonesia atas thailand'],\n ['jadwal timnas indonesia vs thailand : saatnya bangkit ',\n  '!',\n  'jadwal timnas indonesia vs thailand : saatnya bangkit !'],\n ['hatem ben arfa dan 7 pemain bintang yang tak punya klub',\n  '',\n  'hatem ben arfa dan 7 pemain bintang yang tak punya klub'],\n ['wonderkid thailand siap timnas indonesia di jakarta',\n  'bikin malu',\n  'wonderkid thailand siap bikin malu timnas indonesia di jakarta'],\n ['4 pertemuan timnas indonesia vs thailand yang tak terlupakan',\n  '',\n  '4 pertemuan timnas indonesia vs thailand yang tak terlupakan'],\n ['persib incar bachdim dan ferdinand robert alberts',\n  'begini kata',\n  'persib incar bachdim dan ferdinand ? begini kata robert alberts'],\n ['5 pelatih dengan bayaran tertinggi di dunia',\n  '',\n  '5 pelatih dengan bayaran tertinggi di dunia'],\n ['penuh gairah , petenis cium baru usai gagal di as terbuka',\n  'seksi ini mesra pacar',\n  'penuh gairah , petenis seksi ini cium mesra pacar baru usai gagal di as terbuka'],\n ['susunan pemain timnas indonesia vs thailand : beto kembali jadi ',\n  'andalan',\n  'susunan pemain timnas indonesia vs thailand : beto kembali jadi andalan'],\n ['3 kendala manchester united diatasi ole gunnar solskjaer',\n  'yang belum',\n  '3 kendala manchester united yang belum diatasi ole gunnar solskjaer'],\n ['alexis sanchez tak sudi balik ke mu lagi',\n  '',\n  'alexis sanchez tak sudi balik ke mu lagi'],\n ['samsung galaxy a20s punya tiga kamera utama ',\n  'kok ?',\n  'samsung galaxy a20s punya tiga kamera utama ?'],\n ['pes 2020 resmi meluncur pc bisa main gim ',\n  ', cek spesifikasi kamu apakah ini ?',\n  'pes 2020 resmi meluncur , cek spesifikasi pc kamu apakah bisa main gim ini ?'],\n [' : harga samsung galaxy a50s penasaran',\n  'top 3 tekno bikin',\n  'top 3 tekno : harga samsung galaxy a50s bikin penasaran'],\n ['indonesia bakal alami pada 23 september , itu ',\n  'hari tanpa bayangan apa ?',\n  'indonesia bakal alami hari tanpa bayangan pada 23 september , apa itu ?'],\n [' , harga , dan fitur iphone 11 yang meluncur malam ',\n  'ini bocoran spesifikasi',\n  'ini bocoran spesifikasi , harga , dan fitur iphone 11 yang meluncur malam ini'],\n [' 4 rahasia tubuh rodriguez , cristiano ronaldo',\n  'ini seksi georgina pacar',\n  'ini 4 rahasia tubuh seksi georgina rodriguez , pacar cristiano ronaldo'],\n ['punya visi berbeda , yang diusung arif-doni untuk duduki kursi panas pssi ',\n  'apa ?',\n  'punya visi berbeda , apa yang diusung arif-doni untuk duduki kursi panas pssi ?'],\n ['ada peran klopp dalam transfer coutinho ke bayern munchen',\n  '',\n  'ada peran klopp dalam transfer coutinho ke bayern munchen'],\n ['fekir masih sakit hati kepada liverpool',\n  '',\n  'fekir masih sakit hati kepada liverpool'],\n [' simon mcmenemy usai timnas indonesia kalah telak dari thailand',\n  'alasan',\n  'alasan simon mcmenemy usai timnas indonesia kalah telak dari thailand'],\n ['timnas indonesia babak belur lawan thailand',\n  '',\n  'timnas indonesia babak belur lawan thailand'],\n ['arsenal kesalahan fatal jual iwobi',\n  'bikin !',\n  'arsenal bikin kesalahan fatal jual iwobi'],\n ['observatorium laut milik jerman hilang misterius , dugaan mengarah pada .',\n  '. .',\n  'observatorium laut milik jerman hilang misterius , dugaan mengarah pada . . .'],\n [' global : sejumlah asteroid melintasi bumi mencuri perhatian',\n  'top 3',\n  'top 3 global : sejumlah asteroid melintasi bumi mencuri perhatian'],\n [' diduga bomber bunuh diri meledak dekat markas militer filipina , teror ',\n  'wanita ?',\n  'wanita diduga bomber bunuh diri meledak dekat markas militer filipina , teror ?'],\n ['tiga asteroid melintas kemarin dan pagi , dampaknya untuk bumi ',\n  'ini bagaimana ?',\n  'tiga asteroid melintas kemarin dan pagi ini , bagaimana dampaknya untuk bumi ?'],\n ['hari pencegahan bunuh diri sedunia , ayo ikut berperan',\n  '',\n  'hari pencegahan bunuh diri sedunia , ayo ikut berperan'],\n ['korut tembakkan proyektil usai setuju bertemu as akhir september , pertanda ',\n  '?',\n  'korut tembakkan proyektil usai setuju bertemu as akhir september , pertanda apa ?'],\n ['menguak makhluk misterius di loch ness skotlandia , teka-teki mulai terpecah',\n  '',\n  'menguak makhluk misterius di loch ness skotlandia , teka-teki mulai terpecah'],\n [' gajah mengamuk di pawai buddha sri lanka , 18 orang terluka',\n  'detik-detik',\n  'detik-detik gajah mengamuk di pawai buddha sri lanka , 18 orang terluka'],\n ['teleskop radio raksasa di china mendeteksi sinyal dari antariksa , alien ',\n  '?',\n  'teleskop radio raksasa di china mendeteksi sinyal dari antariksa , alien ?'],\n ['kerap bingung awam , perbedaan antara asteroid , komet dan meteor',\n  'ini',\n  'kerap bikin bingung awam , ini perbedaan antara asteroid , komet dan meteor'],\n [\"donald trump sebut perundingan damai as - taliban sudah ' mati '\",\n  '',\n  \"donald trump sebut perundingan damai as - taliban sudah ' mati '\"],\n [' istri polisi di hong kong berhadapan dengan saat demonstrasi',\n  'kisah suami',\n  'kisah istri polisi di hong kong berhadapan dengan suami saat demonstrasi'],\n ['serempet pejalan kaki , pemotor arogan ditangkap polisi',\n  '',\n  'serempet pejalan kaki , pemotor arogan ditangkap polisi'],\n ['perhatikan 4 sebelum bbm',\n  'hal ini',\n  'perhatikan 4 hal ini sebelum memilih bbm'],\n [' , pengendara mabuk laporkan dirinya ke polisi',\n  'kocak wanita sendiri',\n  'kocak , pengendara wanita mabuk laporkan dirinya sendiri ke polisi'],\n ['honda genio gunakan rangka baru , kelebihannya ',\n  'apa ?',\n  'honda genio gunakan rangka baru , apa kelebihannya ?'],\n ['banyak yang tak tahu , koleksi mobil bj habibie',\n  'ini',\n  'banyak yang tak tahu , ini koleksi mobil bj habibie'],\n ['motor listrik menjawab tantangan di lintasan balap',\n  'ini rinciannya',\n  'motor listrik ini menjawab tantangan di lintasan balap'],\n ['perhatikan hal-hal saat bangun kustom motor',\n  'ini',\n  'perhatikan hal-hal ini saat bangun kustom motor'],\n ['perhatikan sebelum ganti shockbreaker honda adv150',\n  'hal ini',\n  'perhatikan hal ini sebelum ganti shockbreaker honda adv150'],\n ['komunitas mobil komentari perluasan ganjil genap',\n  '',\n  'komunitas mobil komentari perluasan ganjil genap'],\n ['posisi kalapas sukamiskin kembali , ',\n  'diganti mengapa ?',\n  'posisi kalapas sukamiskin kembali diganti , mengapa ?'],\n ['3 harimau sumatra dikabarkan muncul di siak , bbksda riau',\n  'ini',\n  '3 harimau sumatra dikabarkan muncul di siak , ini penjelasan bbksda riau'],\n ['warga geger tiga karung ganja dalam septic tank',\n  ', ada !',\n  'warga geger , ada tiga karung ganja dalam septic tank'],\n [' pemuda partai golkar diy minta wali kota yogyakarta mengundurkan diri',\n  'alasan',\n  'alasan pemuda partai golkar diy minta wali kota yogyakarta mengundurkan diri'],\n ['kabut asap kebakaran hutan makin parah di jambi , bertanggung jawab ',\n  'siapa ?',\n  'kabut asap kebakaran hutan makin parah di jambi , siapa bertanggung jawab ?'],\n ['6 masjid indah yang jadi destinasi wisata dunia',\n  'favorit',\n  '6 masjid indah yang jadi destinasi wisata favorit dunia'],\n ['resep cilok anti-alot , mengunyah tak lagi susah',\n  '',\n  'resep cilok anti-alot , mengunyah tak lagi susah'],\n ['menikmati sunset pulau dewata di toko oleh-oleh',\n  '',\n  'menikmati sunset pulau dewata di toko oleh-oleh'],\n [' yang 4 atau 5 destinasi super prioritas ',\n  'mana benar , ?',\n  'mana yang benar , 4 atau 5 destinasi super prioritas ?'],\n ['peneliti singapura ungkap soal tsunami aceh',\n  'fakta mengejutkan',\n  'peneliti singapura ungkap fakta mengejutkan soal tsunami aceh'],\n [' atasi depresi pada perlu tahu',\n  'begini cara anak yang orangtua',\n  'begini cara atasi depresi pada anak yang perlu orangtua tahu'],\n ['remaja sering berpikiran untuk bunuh diri , 6 mencegahnya',\n  'begini cara',\n  'remaja sering berpikiran untuk bunuh diri , begini 6 cara mencegahnya'],\n [' cegah orang bunuh diri lewat medsos',\n  'cara',\n  'cara cegah orang bunuh diri lewat medsos'],\n ['pertanyaan yang terus menerus bisa picu orang ingin bunuh diri ',\n  'kapan nikah ?',\n  'pertanyaan kapan nikah yang terus menerus bisa picu orang ingin bunuh diri ?'],\n ['keinginan untuk bunuh diri bisa muncul karena 5 kondisi ',\n  'ini rinciannya',\n  'keinginan untuk bunuh diri bisa muncul karena 5 kondisi ini'],\n [' seks , ibu satu anak pernah dengan lebih dari 100 orang',\n  'kecanduan ini tidur',\n  'kecanduan seks , ibu satu anak ini pernah tidur dengan lebih dari 100 orang'],\n [' telan air mani , risikonya ',\n  'tak sengaja apa saja ?',\n  'tak sengaja telan air mani , apa saja risikonya ?'],\n ['4 karya bj habibie di industri dirgantara yang bangga indonesia',\n  'bikin',\n  '4 karya bj habibie di industri dirgantara yang bikin bangga indonesia'],\n ['hasil lelang proyek stadion bmw digugat , menteri pupr',\n  'ini kata',\n  'hasil lelang proyek stadion bmw digugat , ini kata menteri pupr'],\n ['milenial bakal sulit punya rumah di ibu kota baru',\n  '',\n  'milenial bakal sulit punya rumah di ibu kota baru'],\n ['subsidi listrik turun , nasib pelanggan 450 va ',\n  '?',\n  'subsidi listrik turun , bagaimana nasib pelanggan 450 va ?'],\n ['bj habibie meninggal , menteri bambang kenang soal beda mazhab pembangunan',\n  '',\n  'bj habibie meninggal , menteri bambang kenang soal beda mazhab pembangunan'],\n ['bj habibie punya jiwa entrepreneur tinggi',\n  '',\n  'bj habibie punya jiwa entrepreneur tinggi'],\n ['capim kpk lili pintauli : saya tidak setuju dewan pengawas',\n  '',\n  'capim kpk lili pintauli : saya tidak setuju dewan pengawas'],\n ['stafsus presiden paparkan bukti jokowi serius bangun papua',\n  '',\n  'stafsus presiden paparkan bukti jokowi serius bangun papua'],\n ['bj habibie meninggal dunia , yudhoyono : beliau siap dipanggil .',\n  'annisa . .',\n  'bj habibie meninggal dunia , annisa yudhoyono : beliau siap dipanggil . . .'],\n ['melanie subono kabarkan bj habibie meninggal : sampai jumpa di keabadian .',\n  'innalillahi . .',\n  'melanie subono kabarkan bj habibie meninggal : sampai jumpa di keabadian . . .'],\n ['jokowi mendadak kunjungi rspad bj habibie dirawat',\n  ', tempat',\n  'jokowi mendadak kunjungi rspad , tempat bj habibie dirawat'],\n [' penemuan jenazah korban dekatnya',\n  'fakta-fakta asih pesugihan teman',\n  'fakta-fakta penemuan jenazah asih korban pesugihan teman dekatnya'],\n ['saksikan pertarungan sengit psm makassar dan psis semarang live di indosiar',\n  '',\n  'saksikan pertarungan sengit psm makassar dan psis semarang live di indosiar'],\n ['capim nawawi : ada persoalan di wadah pegawai kpk',\n  '',\n  'capim nawawi : ada persoalan di wadah pegawai kpk'],\n [' yang unggul , persija atau persipura saksikan live di indosiar malam ',\n  'siapa ? ini',\n  'siapa yang unggul , persija atau persipura ? saksikan live di indosiar malam ini'],\n ['gerindra setuju wacana wagub dki jakarta lebih dari satu , . .',\n  'kata tapi .',\n  'gerindra setuju wacana wagub dki jakarta lebih dari satu , tapi . . .'],\n [' yang akan didalami dpr dalam fit and proper test capim kpk',\n  'ini',\n  'ini yang akan didalami dpr dalam fit and proper test capim kpk'],\n ['4 soal polemik pemenang tender proyek stadion bmw',\n  'hal pria',\n  '4 hal soal polemik pemenang tender proyek stadion bmw'],\n ['lima capim kpk akan ikuti fit and proper test hari ',\n  'ini rinciannya',\n  'lima capim kpk akan ikuti fit and proper test hari ini'],\n ['gerindra : kalau masih bisa jalan di trotoar , ngapain pkl diusir ',\n  'kok ?',\n  'gerindra : kalau masih bisa jalan di trotoar , ngapain pkl diusir ?'],\n ['pan¬†beberkan¬†janji-janji anies baswedan terlaksana',\n  'yang belum',\n  'pan¬†beberkan¬†janji-janji anies baswedan yang belum terlaksana'],\n [' jokowi soal harga bbm dan semen di papua',\n  'cerita dian',\n  'cerita jokowi soal harga bbm dan semen di papua'],\n [' : pilu , jadi tumbal dekat',\n  'top 3 news kisah asih pesugihan teman',\n  'top 3 news : kisah pilu asih , jadi tumbal pesugihan teman dekat'],\n ['desa di bali denda rp 1 juta pendaki gunung agung',\n  'ini rinciannya',\n  'desa di bali ini denda rp 1 juta pendaki gunung agung'],\n ['keluarga tak percaya , anaknya jadi korban dekat',\n  'asih pesugihan teman',\n  'keluarga asih tak percaya , anaknya jadi korban pesugihan teman dekat'],\n ['4 janji jokowi dengan tokoh papua',\n  'saat bertemu',\n  '4 janji jokowi saat bertemu dengan tokoh papua'],\n ['4 soal sakitnya bj habibie',\n  'fakta diketahui',\n  '4 fakta soal sakitnya bj habibie'],\n [' kecelakaan nganjuk yang telan korban jiwa',\n  'fakta-fakta pakai',\n  'fakta-fakta kecelakaan nganjuk yang telan korban jiwa'],\n ['bj habibie meninggal dunia , ahy : berbahagia kembali dengan ainun .',\n  'bu . .',\n  'bj habibie meninggal dunia , ahy : berbahagia kembali dengan bu ainun . . .'],\n ['duka para atas meninggalnya bj habibie',\n  'artis',\n  'duka para artis atas meninggalnya bj habibie'],\n ['mimpi disiram darah , elly kini mantap berhijab',\n  'sugigi',\n  'mimpi disiram darah , elly sugigi kini mantap berhijab'],\n ['vicky prasetyo diam-diam dekati sarita abdul mukti',\n  '',\n  'vicky prasetyo diam-diam dekati sarita abdul mukti'],\n ['marsha aruan sudah makeup sejak smp',\n  'kisah pakai',\n  'marsha aruan sudah pakai makeup sejak smp'],\n [' , bill skarsgard badut pennywise beranak satu',\n  'terungkap sang ternyata pria',\n  'terungkap , bill skarsgard sang badut pennywise ternyata pria beranak satu'],\n ['pengalaman manggung ari lasso , dari hotel mewah hingga lokasi banjir',\n  '',\n  'pengalaman manggung ari lasso , dari hotel mewah hingga lokasi banjir'],\n ['cut meyriska tunjukkan tanda-tanda kehamilan ',\n  '?',\n  'cut meyriska tunjukkan tanda-tanda kehamilan ?'],\n [' tukang karang , yang dimaksud ',\n  'atta halilintar sindir cerita siapa ?',\n  'atta halilintar sindir tukang karang cerita , siapa yang dimaksud ?'],\n ['winky wiryawan latihan olah tubuh dan menetralkan diri , buat ',\n  '?',\n  'winky wiryawan latihan olah tubuh dan menetralkan diri , buat apa ?'],\n ['aguero , 3 calon striker penggantinya',\n  'hengkang berikut',\n  'aguero hengkang , berikut 3 calon striker penggantinya'],\n ['pelatih thailand puji dua pemain usai permalukan timnas indonesia',\n  'ini',\n  'pelatih thailand puji dua pemain ini usai permalukan timnas indonesia'],\n ['legenda mu puji performa daniel james',\n  '',\n  'legenda mu puji performa daniel james'],\n ['3 dilakukan mu untuk membungkam leicester',\n  'hal yang harus kulit',\n  '3 hal yang harus dilakukan mu untuk membungkam leicester'],\n ['lukaku lega bisa bermain di bawah asuhan conte',\n  '',\n  'lukaku lega bisa bermain di bawah asuhan conte'],\n ['thiago silva sebut neymar bakal tetap jadi psg',\n  'andalan',\n  'thiago silva sebut neymar bakal tetap jadi andalan psg'],\n ['sergio ramos minta izin dari real madrid',\n  'hengkang',\n  'sergio ramos minta izin hengkang dari real madrid'],\n ['bomber chelsea jadi korban rasial , ibu merasa terpukul',\n  'sang',\n  'bomber chelsea jadi korban rasial , sang ibu merasa terpukul'],\n ['jadi sasaran kritikan , eks kapten mu akui kehilangan berat badan 8 kilogram',\n  '',\n  'jadi sasaran kritikan , eks kapten mu akui kehilangan berat badan 8 kilogram'],\n ['frank lampard ingin rekrut pemain untuk chelsea',\n  'ini',\n  'frank lampard ingin rekrut pemain ini untuk chelsea'],\n ['hazard berpeluang lakoni debut bersama real madrid lawan levante ',\n  '?',\n  'hazard berpeluang lakoni debut bersama real madrid lawan levante ?'],\n ['nilai pemain timnas indonesia saat dipecundangi thailand',\n  '',\n  'nilai pemain timnas indonesia saat dipecundangi thailand'],\n ['podcast : audisi pb djarum dihentikan , nasib atlet belia',\n  'bagaimana ?',\n  'podcast : audisi pb djarum dihentikan , bagaimana nasib atlet belia'],\n ['kecerobohan ederson buat timnas brasil takluk dari peru',\n  '',\n  'kecerobohan ederson buat timnas brasil takluk dari peru'],\n ['5 calon kuat top skorer liga ',\n  'champions 2019-2020',\n  '5 calon kuat top skorer liga champions 2019-2020'],\n [' lama simon mcmenemy menduduki kursi pelatih timnas indonesia ',\n  'berapa ?',\n  'berapa lama simon mcmenemy menduduki kursi pelatih timnas indonesia ?'],\n ['3 yang wajib segera dibenahi mu',\n  'hal',\n  '3 hal yang wajib segera dibenahi mu'],\n [' persaingan liga inggris hingga pekan ke-4',\n  'ini fakta menarik',\n  'fakta menarik persaingan liga inggris hingga pekan ke-4'],\n [\"ramos sebut bek liverpool lebih pantas menangkan ballon d ' or ketimbang cristiano ronaldo\",\n  '',\n  \"ramos sebut bek liverpool lebih pantas menangkan ballon d ' or ketimbang cristiano ronaldo\"],\n ['klub david beckham mulai menggoda messi',\n  'lionel ?',\n  'klub david beckham mulai menggoda lionel messi'],\n ['absen lebih dari semusim , mantan bek juventus siap kembali bela ac milan',\n  '',\n  'absen lebih dari semusim , mantan bek juventus siap kembali bela ac milan'],\n ['kapten real madrid : biarkan gareth bale bermain golf',\n  '',\n  'kapten real madrid : biarkan gareth bale bermain golf'],\n ['mesin gol barcelona belum komplet saat menjamu valencia',\n  '',\n  'mesin gol barcelona belum komplet saat menjamu valencia'],\n ['sepak terjang cucu bj habibie di dunia sepak bola , sempat berguru ke eropa',\n  '',\n  'sepak terjang cucu bj habibie di dunia sepak bola , sempat berguru ke eropa'],\n ['neymar masih berpeluang kembali ke barcelona',\n  '',\n  'neymar masih berpeluang kembali ke barcelona'],\n ['sadio mane jawab akan dari liverpool',\n  'rumor hengkang',\n  'sadio mane jawab rumor akan hengkang dari liverpool'],\n ['sempat , aksi merokok di laga amal .',\n  'bikin miris bocah ternyata . .',\n  'sempat bikin miris , aksi bocah merokok di laga amal ternyata . . .'],\n [' : informasi , fitur dan harga iphone 11',\n  'top 3 tekno bocoran spesifikasi',\n  'top 3 tekno : bocoran informasi spesifikasi , fitur dan harga iphone 11'],\n [' : melihat lebih dekat wujud iphone 11',\n  'video detik-detik',\n  'video : melihat lebih dekat wujud iphone 11'],\n ['dukung grafis tinggi untuk main gim , lengkap galaxy a50s',\n  'ini spesifikasi',\n  'dukung grafis tinggi untuk main gim , ini spesifikasi lengkap galaxy a50s'],\n [' : iphone 11 resmi dirilis , ',\n  'video top 3 berapa harganya ?',\n  'video top 3 : iphone 11 resmi dirilis , berapa harganya ?'],\n [' : iphone 11 resmi dirilis , lebih baik dari iphone ',\n  'video x ?',\n  'video : iphone 11 resmi dirilis , lebih baik dari iphone x ?'],\n ['apple umumkan ipad anyar 10 , 2 inci , ',\n  'harganya ?',\n  'apple umumkan ipad anyar 10 , 2 inci , harganya ?'],\n ['berbulu dan menggigit , kenalkan pelatih gulat masa kecil nurmagomedov',\n  'suka khabib',\n  'berbulu dan suka menggigit , kenalkan pelatih gulat masa kecil khabib nurmagomedov'],\n [' cristiano ronaldo , rodriguez , saat sesi ',\n  'seksinya pacar georgina foto busana transparan',\n  'seksinya pacar cristiano ronaldo , georgina rodriguez , saat sesi foto busana transparan'],\n ['mantan bek kiri mu ingin jadi pelatih',\n  '',\n  'mantan bek kiri mu ingin jadi pelatih'],\n ['wonderkid inggris mu gigit jari',\n  'bikin',\n  'wonderkid inggris bikin mu gigit jari'],\n ['mantan pemain barcelona divonis penjara dua tahun',\n  '',\n  'mantan pemain barcelona divonis penjara dua tahun'],\n ['anaknya menjadi korban rasisme , ibu striker chelsea ',\n  'menangis',\n  'anaknya menjadi korban rasisme , ibu striker chelsea menangis'],\n ['rahim hingga , transplantasi dunia yang diklaim sukses',\n  'pria ini',\n  'rahim hingga kelamin pria , ini transplantasi dunia yang diklaim sukses'],\n ['selain sebesar big ben , 6 asteroid raksasa pernah melintas dan dekati bumi',\n  'ini',\n  'selain sebesar big ben , 6 asteroid raksasa ini pernah melintas dan dekati bumi'],\n [' 17 pemenang hassan wirajuda perlindungan wni award 2019',\n  'ini',\n  'ini 17 pemenang hassan wirajuda perlindungan wni award 2019'],\n [' 4 sepele , sejumlah orang mendadak ',\n  'gara-gara hal ini tajir',\n  'gara-gara 4 hal sepele , sejumlah orang ini mendadak tajir'],\n [' 4 benda umum di rumah bisa diretas',\n  'waspada , ini ternyata',\n  'waspada , 4 benda umum di rumah ini ternyata bisa diretas'],\n ['6 pilu dalam pesan terakhir korban tragedi 9 / 11',\n  'kisah',\n  '6 kisah pilu dalam pesan terakhir korban tragedi 9 / 11'],\n [' , bakteri bisa temukan untuk kebal dari antibiotik',\n  'ngeri sekarang cara',\n  'ngeri , bakteri sekarang bisa temukan cara untuk kebal dari antibiotik'],\n [' korban penculikan isis , alami kekerasan seksual hingga dijual 20 kali',\n  'kisah suami',\n  'kisah korban penculikan isis , alami kekerasan seksual hingga dijual 20 kali'],\n ['lobster super langka ditemukan , penampakannya',\n  'viral begini',\n  'lobster super langka ditemukan , begini penampakannya'],\n ['romansa sebelum ajal menjemput di tragedi 9 / 11 : aku cinta padamu , sayang .',\n  '. .',\n  'romansa sebelum ajal menjemput di tragedi 9 / 11 : aku cinta padamu , sayang . . .'],\n [' : patroli kopi polisi dekatkan diri dengan warga',\n  'video cara',\n  'video : patroli kopi cara polisi dekatkan diri dengan warga'],\n ['penampilan terbaru jaguar e-type 1964 setelah 30 tahun terdampar di hutan',\n  '',\n  'penampilan terbaru jaguar e-type 1964 setelah 30 tahun terdampar di hutan'],\n ['land rover defender 2020 resmi diperkenalkan , kecanggihannya',\n  'intip',\n  'land rover defender 2020 resmi diperkenalkan , intip kecanggihannya'],\n ['diduga¬†rebadge merek cina , pemerintah jelaskan sistem perakitan esemka',\n  '',\n  'diduga¬†rebadge merek cina , pemerintah jelaskan sistem perakitan esemka'],\n ['suv mewah rolls-royce cullinan kena recall , yang bermasalah ',\n  'apa ?',\n  'suv mewah rolls-royce cullinan kena recall , apa yang bermasalah ?'],\n ['dianggap sering kecelakaan , suv bakal dilarang di kota ',\n  'ini rinciannya',\n  'dianggap sering kecelakaan , suv bakal dilarang di kota ini'],\n [' mirip , polisi tilang ayah kandungnya',\n  'terlihat ini ternyata',\n  'terlihat mirip , polisi ini ternyata tilang ayah kandungnya'],\n ['wajib diperhatikan , 5 ciri ban harus segera ',\n  'ini diganti',\n  'wajib diperhatikan , ini 5 ciri ban harus segera diganti'],\n ['ingin buat sim international , syarat dan biayanya',\n  'ini',\n  'ingin buat sim international , ini syarat dan biayanya'],\n ['honda zoomer terdaftar di samsat dki jakarta , ',\n  'berapa ?',\n  'honda zoomer terdaftar di samsat dki jakarta , berapa harganya ?'],\n ['jangan sembarangan , teknik mengendarai sepeda motor dengan boks',\n  'viral begini',\n  'jangan sembarangan , begini teknik mengendarai sepeda motor dengan boks'],\n ['cinta ditolak , pisau menghunjam', '', 'cinta ditolak , pisau menghunjam'],\n [' mistis pemuda jember melihat karnaval di hutan angker',\n  'cerita dian',\n  'cerita mistis pemuda jember melihat karnaval di hutan angker'],\n [' petugas bpbd banyumas 24 jam kirim bantuan air bersih',\n  'cerita dian',\n  'cerita petugas bpbd banyumas 24 jam kirim bantuan air bersih'],\n ['tersebar bercanda di dalam mobil sebelum kecelakaan maut nganjuk',\n  'video',\n  'tersebar video bercanda di dalam mobil sebelum kecelakaan maut nganjuk'],\n ['bj habibie dan museum terwujud',\n  'yang belum',\n  'bj habibie dan kisah museum yang belum terwujud'],\n ['teka-teki kasus korupsi berjamaah dprd garut , tersangkut ',\n  'siapa ?',\n  'teka-teki kasus korupsi berjamaah dprd garut , siapa tersangkut ?'],\n ['jejak kenangan bj habibie dalam rumah tua di gorontalo',\n  '',\n  'jejak kenangan bj habibie dalam rumah tua di gorontalo'],\n ['suhu di gorontalo capai titik terendah , ',\n  '?',\n  'suhu di gorontalo capai titik terendah , mengapa ?'],\n [' dr oz telat menyadari awal alzheimer pada ibu',\n  'cerita gejala sang',\n  'cerita dr oz telat menyadari gejala awal alzheimer pada sang ibu'],\n [' diperhatikan supaya gurita hidup aman ',\n  'apa yang harus dikonsumsi ?',\n  'apa yang harus diperhatikan supaya gurita hidup aman dikonsumsi ?'],\n [' faktor risiko bunuh diri pada remaja',\n  'kenali',\n  'kenali faktor risiko bunuh diri pada remaja'],\n ['jadi konsumen cerdas klik sebelum beli obat dan makanan',\n  ', cek',\n  'jadi konsumen cerdas , cek klik sebelum beli obat dan makanan'],\n ['adakah waktu yang tepat untuk seks ',\n  '?',\n  'adakah waktu yang tepat untuk berhubungan seks ?'],\n ['sering menahan buang air kecil , 4 penyakit siap mengintai',\n  'ini rinciannya',\n  'sering menahan buang air kecil , 4 penyakit ini siap mengintai'],\n [' kekhawatiran abraham samad bila revisi uu kpk dibahas dpr-pemerintah',\n  'ini',\n  'ini kekhawatiran abraham samad bila revisi uu kpk dibahas dpr-pemerintah'],\n [' di balik bj habibie yang tersenyum saat meninggal',\n  'terungkap wajah',\n  'terungkap di balik wajah bj habibie yang tersenyum saat meninggal'],\n ['mampukah indonesia jadi negara maju di 2045 ',\n  '?',\n  'mampukah indonesia jadi negara maju di 2045 ?'],\n [' capim kpk : setuju sp 3 hingga kritik wadah pegawai',\n  'potret ini',\n  'potret capim kpk : setuju sp 3 hingga kritik wadah pegawai'],\n [' ko-pilot pesawat gatotkaca n250 tentang sosok habibie',\n  'cerita dian',\n  'cerita ko-pilot pesawat gatotkaca n250 tentang sosok habibie'],\n ['cinta habibie ke ainun , basuhan air zam-zam sebelum meninggal dunia',\n  '',\n  'cinta habibie ke ainun , basuhan air zam-zam sebelum meninggal dunia'],\n [' sby tentang kedekatannya dengan bj habibie',\n  'cerita dian',\n  'cerita sby tentang kedekatannya dengan bj habibie'],\n ['sosok bj habibie di mata wapres jusuf kalla',\n  '',\n  'sosok bj habibie di mata wapres jusuf kalla'],\n ['bj habibie di mata jokowi hingga sby',\n  '',\n  'bj habibie di mata jokowi hingga sby'],\n ['melihat lebih dekat liang lahat untuk bj¬†habibie',\n  '',\n  'melihat lebih dekat liang lahat untuk bj¬†habibie'],\n ['sekjen mpr : pentingnya uud 1945 untuk cegah korupsi',\n  '',\n  'sekjen mpr : pentingnya uud 1945 untuk cegah korupsi'],\n [' proses pemakaman jenazah bj habibie',\n  'ini rangkaian',\n  'ini rangkaian proses pemakaman jenazah bj habibie'],\n ['melayat ke rumah duka , sandiaga uno ungkap pesan bj habibie',\n  '',\n  'melayat ke rumah duka , sandiaga uno ungkap pesan bj habibie'],\n ['amien rais saat melihat jenazah bj habibie : wajahnya tersenyum',\n  '',\n  'amien rais saat melihat jenazah bj habibie : wajahnya tersenyum'],\n ['kenangan wiranto tentang bj habibie sejak jadi menteri hingga presiden ri',\n  '',\n  'kenangan wiranto tentang bj habibie sejak jadi menteri hingga presiden ri'],\n ['kritik kpk era agus rahardjo cs , ¬†capim nawawi : ott atau jebakan ',\n  'ini',\n  'kritik kpk era agus rahardjo cs , ¬†capim nawawi : ini ott atau jebakan ?'],\n ['agar masyarakat bisa melayat bj habibie , aturan ganjil genap di tiga jalan tak berlaku',\n  'ini',\n  'agar masyarakat bisa melayat bj habibie , aturan ganjil genap di tiga jalan ini tak berlaku'],\n ['headline : janji jokowi untuk papua , damai di bumi cenderawasih bakal terwujud ',\n  '?',\n  'headline : janji jokowi untuk papua , damai di bumi cenderawasih bakal terwujud ?'],\n [' usai kecelakaan nganjuk terjadi',\n  'fakta mengejutkan',\n  'fakta mengejutkan terungkap usai kecelakaan nganjuk terjadi'],\n ['mengingat tragedi tanjung priok 35 tahun silam',\n  'berdarah',\n  'mengingat tragedi berdarah tanjung priok 35 tahun silam'],\n [' : pohan sebut bj habibie siap dipanggil karena ibu ainun menunggunya',\n  'top 3 news annisa',\n  'top 3 news : annisa pohan sebut bj habibie siap dipanggil karena ibu ainun menunggunya'],\n ['2 pesan terakhir bj habibie ke keponakannya',\n  '',\n  '2 pesan terakhir bj habibie ke keponakannya'],\n [' habibie untuk partai golkar dan pemerintah pusat',\n  'nasihat',\n  'nasihat habibie untuk partai golkar dan pemerintah pusat'],\n ['dukungan bj habibie yang dikenang menteri susi',\n  '',\n  'dukungan bj habibie yang dikenang menteri susi'],\n ['selamat jalan profesor bj habibie .',\n  'innalillahi . .',\n  'selamat jalan profesor bj habibie . . .'],\n ['jokowi : selamat jalan , mr crack .',\n  '. .',\n  'jokowi : selamat jalan , mr crack . . .'],\n ['doa untuk bj habibie yang dibacakan menteri agama',\n  '',\n  'doa untuk bj habibie yang dibacakan menteri agama'],\n ['pesan bj habibie untuk kemajuan industri indonesia',\n  '',\n  'pesan bj habibie untuk kemajuan industri indonesia'],\n ['menteri susi : harga ayam dan daging mahal , ayo makan ikan ',\n  '!',\n  'menteri susi : harga ayam dan daging mahal , ayo makan ikan !'],\n ['ingin dapat diskon tiket kereta api ',\n  '? ini',\n  'ingin dapat diskon tiket kereta api ? ini caranya'],\n ['malaysia masuk negara berpendapatan menengah ke atas , indonesia ',\n  '?',\n  'malaysia masuk negara berpendapatan menengah ke atas , indonesia kapan ?'],\n ['dpr akan pilih 5 pimpinan kpk periode 2019-2023 malam ',\n  'ini ?',\n  'dpr akan pilih 5 pimpinan kpk periode 2019-2023 malam ini ?'],\n ['malam kelam bunuh dan anak tirinya',\n  'aulia kesuma suami',\n  'malam kelam aulia kesuma bunuh suami dan anak tirinya'],\n [' kesetiaan bj habibie kepada ainun hingga ajal menjemput',\n  'kisah suami',\n  'kisah kesetiaan bj habibie kepada ainun hingga ajal menjemput'],\n ['segudang prestasi bj habibie , dari hingga penemu teori kedirgantaraan',\n  'jadi presiden',\n  'segudang prestasi bj habibie , dari jadi presiden hingga penemu teori kedirgantaraan'],\n ['eks ajudan : saya melihat habibie-ainun seperti pengantin baru',\n  'bikin malu',\n  'eks ajudan : saya malu melihat habibie-ainun seperti pengantin baru'],\n ['pengusaha ajukan nama calon menteri ke jokowi , daftarnya',\n  'ini rinciannya',\n  'pengusaha ajukan nama calon menteri ke jokowi , ini daftarnya'],\n ['saat warga antre berfoto dan berdoa di makam bj habibie',\n  '',\n  'saat warga antre berfoto dan berdoa di makam bj habibie'],\n [' sinta nuriyah tentang bj habibie ingin ikut sahur keliling',\n  'cerita',\n  'cerita sinta nuriyah tentang bj habibie ingin ikut sahur keliling'],\n [' soal bj habibie dan krisis 1998',\n  'cerita',\n  'cerita soal bj habibie dan krisis 1998'],\n ['sejumlah tokoh hadiri tahlilan bj habibie',\n  '',\n  'sejumlah tokoh hadiri tahlilan bj habibie'],\n ['harga tanah naik 4 kali lipat , milenial susah beli rumah di kaltim ',\n  '?',\n  'harga tanah naik 4 kali lipat , milenial susah beli rumah di kaltim ?'],\n ['kpk tetapkan tersangka eks dirut petral , praktik mafia migas langsung hilang ',\n  '?',\n  'kpk tetapkan tersangka eks dirut petral , praktik mafia migas langsung hilang ?'],\n ['asisten pribadi : meski bj habibie masih pikirkan negara',\n  'sakit ,',\n  'asisten pribadi : meski sakit , bj habibie masih pikirkan negara'],\n [' xanana gusmao cium kening bj habibie , kisahnya',\n  'viral video begini',\n  'viral video xanana gusmao cium kening bj habibie , begini kisahnya'],\n ['di cap capim kpk bermasalah , johanis tanak',\n  'ini',\n  'di cap capim kpk bermasalah , ini penjelasan johanis tanak'],\n ['berita terkini bj habibie meninggal dan upacara pemakaman',\n  '',\n  'berita terkini bj habibie meninggal dan upacara pemakaman'],\n ['menkumham sampaikan pandangan pemerintah soal revisi uu kpk , ',\n  'ini isinya',\n  'menkumham sampaikan pandangan pemerintah soal revisi uu kpk , ini isinya'],\n ['sctv tayangkan lagi film habibie & ainun , 5 menariknya',\n  'simak fakta',\n  'sctv tayangkan lagi film habibie & ainun , simak 5 fakta menariknya'],\n ['5 kata-kata mutiara bj habibie semasa hidup yang hati',\n  'menyentuh',\n  '5 kata-kata mutiara bj habibie semasa hidup yang menyentuh hati'],\n ['bicara soal gading marten , gisella anastasia menahan tangis',\n  '',\n  'bicara soal gading marten , gisella anastasia menahan tangis'],\n ['kenangan reza rahadian saat bj habibie menelepon pada ',\n  'tengah malam',\n  'kenangan reza rahadian saat bj habibie menelepon pada tengah malam'],\n [' antar jemput anak sekolah',\n  'ruben onsu',\n  'cerita ruben onsu antar jemput anak sekolah'],\n [' : mengenal autoimun , penyakit yang diderita ',\n  'raditya dika',\n  'video : mengenal autoimun , penyakit yang diderita raditya dika'],\n [' maddox soal brad pitt',\n  'suami akhirnya buka suara',\n  'akhirnya maddox buka suara soal brad pitt'],\n ['3 raymond hartanto , adik boy william yang meninggal dunia',\n  'fakta',\n  '3 fakta raymond hartanto , adik boy william yang meninggal dunia'],\n [' marshanda , raffi ahmad dibuat ',\n  'ketemu salah tingkah',\n  'ketemu marshanda , raffi ahmad dibuat salah tingkah'],\n ['selain 6 , 9 detik , 3 film biopik atlet indonesia',\n  'berikut',\n  'selain 6 , 9 detik , berikut 3 film biopik atlet indonesia'],\n [' di era 60 hingga 80-an , profil pedangdut legendaris ida laila¬†',\n  'populer ini',\n  'populer di era 60 hingga 80-an , ini profil pedangdut legendaris ida laila¬†'],\n [' bj habibie tentang pengetahuan dan cinta',\n  'nasihat',\n  'nasihat bj habibie tentang pengetahuan dan cinta'],\n ['duka melly goeslaw untuk bj habibie : bahagia bertemu ibu ainun di surga',\n  '',\n  'duka melly goeslaw untuk bj habibie : bahagia bertemu ibu ainun di surga'],\n ['mengharukan , puisi perpisahan untuk bj habibie',\n  'najwa shihab ?',\n  'mengharukan , puisi perpisahan najwa shihab untuk bj habibie'],\n [' reza rahadian , dapat ilham peran bj habibie lewat mimpi',\n  'cerita',\n  'cerita reza rahadian , dapat ilham peran bj habibie lewat mimpi'],\n ['melanie soebono d t pesan terakhir bj habibie , katanya ',\n  'apa ?',\n  'melanie soebono dapat pesan terakhir bj habibie , apa katanya ?'],\n ['jadi komentator golden memories asia indosiar , 5 hit besar ruth sahanaya',\n  'ini',\n  'jadi komentator golden memories asia indosiar , ini 5 hit besar ruth sahanaya'],\n ['pesan terakhir bj habibie untuk reza rahadian',\n  '',\n  'pesan terakhir bj habibie untuk reza rahadian'],\n ['miley cyrus dan kaitlynn carter sudah tinggal serumah ',\n  'kok ?',\n  'miley cyrus dan kaitlynn carter sudah tinggal serumah ?'],\n [' bj habibie tentang kesukaan pada sinetron cinta fitri',\n  'cerita dian',\n  'cerita bj habibie tentang kesukaan pada sinetron cinta fitri'],\n [' mu , fokus gelandang newcastle terganggu',\n  'digoda',\n  'digoda mu , fokus gelandang newcastle terganggu'],\n ['pemain-pemain tercepat di serie a versi fifa 20 , ',\n  'siapa ?',\n  'pemain-pemain tercepat di serie a versi fifa 20 , siapa saja ?'],\n ['mau lolos liga champions , mu dituntut menang lawan tim gurem',\n  '',\n  'mau lolos liga champions , mu dituntut menang lawan tim gurem'],\n ['urusan transfer , mu siap menggila di bursa musim ',\n  'dingin',\n  'urusan transfer , mu siap menggila di bursa musim dingin'],\n ['hukuman dikurangi , chelsea bakal pusing ac milan',\n  'bikin !',\n  'hukuman dikurangi , chelsea bakal bikin pusing ac milan'],\n ['3 faktor penyebab de ligt terpuruk di juventus',\n  '',\n  '3 faktor penyebab de ligt terpuruk di juventus'],\n ['daniel james masih takjub jalani debut bersama mu',\n  '',\n  'daniel james masih takjub jalani debut bersama mu'],\n ['jadi , beda kiper timnas indonesia dan winger thailand',\n  'sorotan inilah reaksi',\n  'jadi sorotan , inilah beda reaksi kiper timnas indonesia dan winger thailand'],\n [' mkhitaryan tinggalkan arsenal',\n  'ini',\n  'ini alasan mkhitaryan tinggalkan arsenal'],\n ['legenda liverpool sentil penyerang mu',\n  '',\n  'legenda liverpool sentil penyerang mu'],\n ['bj habibie meninggal , persebaya : selamat jalan eyang ',\n  'innalillahi . .',\n  'bj habibie meninggal , persebaya : selamat jalan eyang . . . .'],\n ['pertanyakan keseriusan barcelona boyong kembali neymar , messi ngambek ',\n  'lionel ?',\n  'pertanyakan keseriusan barcelona boyong kembali neymar , lionel messi ngambek ?'],\n ['10 pemain tercepat di liga inggris versi fifa 20',\n  '',\n  '10 pemain tercepat di liga inggris versi fifa 20'],\n ['mediasi bersama kemenpora , 4 kesepakatan pb djarum dengan kpai',\n  'ini',\n  'mediasi bersama kemenpora , ini 4 kesepakatan pb djarum dengan kpai'],\n ['karier kontroversial pelatih timnas indonesia simon mcmenemy',\n  '',\n  'karier kontroversial pelatih timnas indonesia simon mcmenemy'],\n ['motogp : perbedaan jorge lorenzo dan marc marquez',\n  'ini',\n  'motogp : ini perbedaan jorge lorenzo dan marc marquez'],\n ['saatnya mu bangkit', '', 'saatnya mu bangkit'],\n ['dituduh korupsi , agen kiper real madrid ditangkap',\n  '',\n  'dituduh korupsi , agen kiper real madrid ditangkap'],\n ['3 calon mesin gol manchester city jika sergio aguero pergi',\n  '',\n  '3 calon mesin gol manchester city jika sergio aguero pergi'],\n ['fiorentina vs juventus : kembalinya sarri , debut aaron ramsey ',\n  '?',\n  'fiorentina vs juventus : kembalinya sarri , debut aaron ramsey ?'],\n [' , gelandang mu batal pindah ke psg neymar',\n  'gara-gara',\n  'terungkap , gelandang mu batal pindah ke psg gara-gara neymar'],\n ['6 wonderkid yang diprediksi di liga ',\n  'bersinar champions 2019-2020',\n  '6 wonderkid yang diprediksi bersinar di liga champions 2019-2020'],\n ['3 tanda cristiano ronaldo bakal nikahi si rodriguez',\n  'seksi georgina',\n  '3 tanda cristiano ronaldo bakal nikahi si seksi georgina rodriguez'],\n [' harga trio iphone 11', 'ini rinciannya', 'ini harga trio iphone 11'],\n [' : kabar duka bj habibie meninggal dunia jadi ',\n  'top 3 tekno sorotan',\n  'top 3 tekno : kabar duka bj habibie meninggal dunia jadi sorotan'],\n ['4 pesawat bj habibie yang indonesia bangga',\n  'bikin !',\n  '4 pesawat bj habibie yang bikin indonesia bangga'],\n ['pixel 4 akan hadir 15 oktober 2019 ',\n  '?',\n  'pixel 4 akan hadir 15 oktober 2019 ?'],\n [' : bj habibie di mata para tokoh dunia',\n  'video',\n  'video : bj habibie di mata para tokoh dunia'],\n [' ramaikan peluncuran iphone 11 dengan meme ',\n  'warganet kocak',\n  'warganet ramaikan peluncuran iphone 11 dengan meme kocak'],\n ['tanya : bisa pasang dongle dan perangkat beda frekuensi ',\n  'apa ?',\n  'tanya tekno : apa bisa pasang dongle dan perangkat beda frekuensi ?'],\n [' : waspada handphone kw dijual di pasaran , ciri-cirinya',\n  'video berikut',\n  'video : waspada handphone kw dijual di pasaran , berikut ciri-cirinya'],\n [' , persahabatan bj habibie dan xanana gusmao terharu',\n  'viral video bikin warganet',\n  'viral , video persahabatan bj habibie dan xanana gusmao bikin warganet terharu'],\n ['mertesacker pahami arsenal frustrasi ozil',\n  'fans lihat',\n  'mertesacker pahami fans arsenal frustrasi lihat ozil'],\n ['si kartika berliana siap begadang kawal liga champions dan liga europa di vidio',\n  'cantik',\n  'si cantik kartika berliana siap begadang kawal liga champions dan liga europa di vidio'],\n ['3 manajer tim liga inggris terancam pemecatan , satunya solskjaer',\n  'ini',\n  '3 manajer tim liga inggris ini terancam pemecatan , salah satunya solskjaer'],\n ['sosok bj habibie dalam kenangan asisten pelatih bali united',\n  '',\n  'sosok bj habibie dalam kenangan asisten pelatih bali united'],\n [' dengan kondisi klub , presiden napoli tantang ingin beli ac milan',\n  'kesal',\n  'kesal dengan kondisi klub , presiden napoli tantang ingin beli ac milan'],\n ['10 pencetak gol termuda sepanjang sejarah liga spanyol',\n  '',\n  '10 pencetak gol termuda sepanjang sejarah liga spanyol'],\n ['florentino perez tentang kegagalan real madrid mendapatkan paul pogba',\n  'cerita',\n  'florentino perez cerita tentang kegagalan real madrid mendapatkan paul pogba'],\n ['penasaran , chelsea kembali incar striker ac milan ',\n  '?',\n  'penasaran , chelsea kembali incar striker ac milan ?'],\n [' : siswa pukuli teman-temannya',\n  'video viral',\n  'video : viral video siswa pukuli teman-temannya'],\n ['6 perang dan mematikan dalam sejarah dunia',\n  'paling berdarah',\n  '6 perang paling berdarah dan mematikan dalam sejarah dunia'],\n ['kabar bj habibie meninggal jadi dunia',\n  'cara sorotan',\n  'kabar bj habibie meninggal jadi sorotan dunia'],\n [' astronot memperingati tragedi 9 / 11 dari angkasa luar',\n  'begini cara',\n  'begini cara astronot memperingati tragedi 9 / 11 dari angkasa luar'],\n ['matikan gps dan kegiatan sehari-hari bisa cerdas',\n  'ini ternyata bikin',\n  'matikan gps dan kegiatan sehari-hari ini ternyata bisa bikin cerdas'],\n ['bukan ufo , bangunan merupakan pabrik bir',\n  'ini',\n  'bukan ufo , bangunan unik ini merupakan pabrik bir'],\n ['penemuan air di planet berpotensi layak huni mirip bumi buka peluang riset alien ',\n  'kok ?',\n  'penemuan air di planet berpotensi layak huni mirip bumi buka peluang riset alien ?'],\n ['taipan pedalaman hingga weling , 6 ular mematikan di dunia',\n  'kenali paling',\n  'taipan pedalaman hingga weling , kenali 6 ular paling mematikan di dunia'],\n ['jangan asal ngegas , yang mesti dilakukan sebelum motor jalan',\n  'ini',\n  'jangan asal ngegas , ini yang mesti dilakukan sebelum motor jalan'],\n ['warisan soeharto , mobil dinas bj habibie saat ',\n  'jadi presiden',\n  'warisan soeharto , ini mobil dinas bj habibie saat jadi presiden'],\n ['mau jago gymkhana , triknya', 'simak', 'mau jago gymkhana , simak triknya'],\n ['permudah masyarakat melayat bj habibie , ganjil genap di 3 jalan tak berlaku',\n  'ini',\n  'permudah masyarakat melayat bj habibie , ganjil genap di 3 jalan ini tak berlaku'],\n ['merek nasional , pemerintah maklumi esemka bima hanya ganti merek ',\n  'kok ?',\n  'merek nasional , pemerintah maklumi esemka bima hanya ganti merek ?'],\n ['kaya mendadak , pasutri beli 3 mobil lalu diburu polisi',\n  'ini',\n  'kaya mendadak , pasutri ini beli 3 mobil lalu diburu polisi'],\n ['tertarik tingkatkan skill berkendara motor bisa dicoba',\n  ', tempat',\n  'tertarik tingkatkan skill berkendara motor , tempat ini bisa dicoba'],\n ['suzuki punya naked bike terbaru , dan ',\n  'ini bocoran spesifikasi harganya',\n  'suzuki punya naked bike terbaru , ini bocoran spesifikasi dan harganya'],\n ...]"
     },
     "execution_count": 40,
     "metadata": {},
     "output_type": "execute_result"
    }
   ],
   "source": [
    "\n",
    "noise_chance = 0.4\n",
    "param_t = 4\n",
    "\n",
    "def prepareData():\n",
    "    input_lang = Lang(\"input\")\n",
    "    output_lang = Lang(\"output\")\n",
    "\n",
    "    d_pos_a = []\n",
    "    pairs_pos = []\n",
    "\n",
    "    for sentence in nonclickbait_l_c:\n",
    "        c = get_c(sentence, 1, param_t)\n",
    "        a = get_a(sentence, 1, param_t)\n",
    "        d_pos_a.append(a)\n",
    "        pairs_pos.append([c, a, sentence])\n",
    "\n",
    "    d_neg_a = []\n",
    "    pairs_neg = []\n",
    "\n",
    "    for sentence in clickbait_l_c:\n",
    "        c = get_c(sentence, 0, param_t)\n",
    "        a = get_a(sentence, 0, param_t)\n",
    "        d_neg_a.append(a)\n",
    "        pairs_neg.append([c, a, sentence])\n",
    "\n",
    "    #adding noise for pos\n",
    "    for pair in pairs_pos:\n",
    "        if random.random() < noise_chance:\n",
    "            real_a = pair[1].split()\n",
    "\n",
    "            if(len(real_a) == 0):\n",
    "                continue\n",
    "\n",
    "            for a in d_pos_a:\n",
    "                if(len(a) == 0):\n",
    "                    continue\n",
    "                a = a.split()\n",
    "                overlap = get_total_overlap(' '.join(real_a), ' '.join(a))\n",
    "                if overlap > 0 and ((overlap == len(real_a) - 1 and len(real_a) - len(a) == 1) or (overlap == len(real_a) and len(real_a) - len(a) == -1)):\n",
    "                    real_a = a\n",
    "                    break;\n",
    "            pair[1] = ' '.join(real_a)\n",
    "\n",
    "    #adding noise for neg\n",
    "    for pair in pairs_neg:\n",
    "        if random.random() < noise_chance:\n",
    "            real_a = pair[1].split()\n",
    "            if(len(real_a) == 0):\n",
    "                continue\n",
    "\n",
    "            for a in d_neg_a:\n",
    "                if(len(a) == 0):\n",
    "                    continue\n",
    "                a = a.split()\n",
    "\n",
    "                overlap = get_total_overlap(' '.join(real_a), ' '.join(a))\n",
    "                if overlap > 0 and ((overlap == len(real_a) - 1 and len(real_a) - len(a) == 1) or (overlap == len(real_a) and len(real_a) - len(a) == -1)):\n",
    "                    real_a = a\n",
    "                    break;\n",
    "            pair[1] = ' '.join(real_a)\n",
    "\n",
    "    pairs = np.concatenate((pairs_pos, pairs_neg), 0)\n",
    "    for pair in pairs:\n",
    "        input_lang.addSentence(pair[0])\n",
    "        input_lang.addSentence(pair[1])\n",
    "        output_lang.addSentence(pair[2])\n",
    "\n",
    "    print(\"Counted words:\")\n",
    "    print(input_lang.name, input_lang.n_words)\n",
    "    print(output_lang.name, output_lang.n_words)\n",
    "    return input_lang, output_lang, pairs, pairs_neg, pairs_pos\n",
    "\n",
    "input_lang, output_lang, pairs, pairs_click, pairs_nonclick = prepareData()\n",
    "\n",
    "pairs_click"
   ],
   "metadata": {
    "collapsed": false
   }
  },
  {
   "cell_type": "code",
   "execution_count": 41,
   "outputs": [
    {
     "data": {
      "text/plain": "                                                      0  \\\n0         driver di bekasi antar pesanan makanan sepeda   \n1     ada motor nyangkut di atas bambu di sleman , b...   \n2          pesan gamblang poyuono menolak revisi uu kpk   \n3      maling di rumah mewah jakut cctv bingung cari...   \n4                 diduga baku tembak di sleman , polisi   \n...                                                 ...   \n3311   ungkap perasaan karena gelandangan bakal dike...   \n3312  istana bantah jokowi tak peka pada korban kabu...   \n3313   rilis teaser ' ' jelang , konsep dan koreogra...   \n3314  ada niat tambah momongan tanpa ikut program ha...   \n3315            akan segera , soobin akui ingin spoiler   \n\n                                         1  \\\n0                       viral ! ojol pakai   \n1                                    kok ?   \n2                                            \n3                    kocak ! terekam kabur   \n4                     viral video ini kata   \n...                                    ...   \n3311  tamara bleszynski miris ramai dipuji   \n3312                         usai ' bareng   \n3313        twice mv feel special comeback   \n3314                                   aja   \n3315              txt comeback gatal pamer   \n\n                                                      2  \n0     viral ! driver ojol di bekasi antar pesanan ma...  \n1     ada motor nyangkut di atas bambu di sleman , k...  \n2          pesan gamblang poyuono menolak revisi uu kpk  \n3     kocak ! maling di rumah mewah jakut terekam cc...  \n4     viral video diduga baku tembak di sleman , ini...  \n...                                                 ...  \n3311  tamara bleszynski ungkap perasaan miris karena...  \n3312  istana bantah jokowi tak peka pada korban kabu...  \n3313  twice rilis teaser mv ' feel special ' jelang ...  \n3314  ada niat tambah momongan tanpa ikut program ha...  \n3315  txt akan segera comeback , soobin akui gatal i...  \n\n[3316 rows x 3 columns]",
      "text/html": "<div>\n<style scoped>\n    .dataframe tbody tr th:only-of-type {\n        vertical-align: middle;\n    }\n\n    .dataframe tbody tr th {\n        vertical-align: top;\n    }\n\n    .dataframe thead th {\n        text-align: right;\n    }\n</style>\n<table border=\"1\" class=\"dataframe\">\n  <thead>\n    <tr style=\"text-align: right;\">\n      <th></th>\n      <th>0</th>\n      <th>1</th>\n      <th>2</th>\n    </tr>\n  </thead>\n  <tbody>\n    <tr>\n      <th>0</th>\n      <td>driver di bekasi antar pesanan makanan sepeda</td>\n      <td>viral ! ojol pakai</td>\n      <td>viral ! driver ojol di bekasi antar pesanan ma...</td>\n    </tr>\n    <tr>\n      <th>1</th>\n      <td>ada motor nyangkut di atas bambu di sleman , b...</td>\n      <td>kok ?</td>\n      <td>ada motor nyangkut di atas bambu di sleman , k...</td>\n    </tr>\n    <tr>\n      <th>2</th>\n      <td>pesan gamblang poyuono menolak revisi uu kpk</td>\n      <td></td>\n      <td>pesan gamblang poyuono menolak revisi uu kpk</td>\n    </tr>\n    <tr>\n      <th>3</th>\n      <td>maling di rumah mewah jakut cctv bingung cari...</td>\n      <td>kocak ! terekam kabur</td>\n      <td>kocak ! maling di rumah mewah jakut terekam cc...</td>\n    </tr>\n    <tr>\n      <th>4</th>\n      <td>diduga baku tembak di sleman , polisi</td>\n      <td>viral video ini kata</td>\n      <td>viral video diduga baku tembak di sleman , ini...</td>\n    </tr>\n    <tr>\n      <th>...</th>\n      <td>...</td>\n      <td>...</td>\n      <td>...</td>\n    </tr>\n    <tr>\n      <th>3311</th>\n      <td>ungkap perasaan karena gelandangan bakal dike...</td>\n      <td>tamara bleszynski miris ramai dipuji</td>\n      <td>tamara bleszynski ungkap perasaan miris karena...</td>\n    </tr>\n    <tr>\n      <th>3312</th>\n      <td>istana bantah jokowi tak peka pada korban kabu...</td>\n      <td>usai ' bareng</td>\n      <td>istana bantah jokowi tak peka pada korban kabu...</td>\n    </tr>\n    <tr>\n      <th>3313</th>\n      <td>rilis teaser ' ' jelang , konsep dan koreogra...</td>\n      <td>twice mv feel special comeback</td>\n      <td>twice rilis teaser mv ' feel special ' jelang ...</td>\n    </tr>\n    <tr>\n      <th>3314</th>\n      <td>ada niat tambah momongan tanpa ikut program ha...</td>\n      <td>aja</td>\n      <td>ada niat tambah momongan tanpa ikut program ha...</td>\n    </tr>\n    <tr>\n      <th>3315</th>\n      <td>akan segera , soobin akui ingin spoiler</td>\n      <td>txt comeback gatal pamer</td>\n      <td>txt akan segera comeback , soobin akui gatal i...</td>\n    </tr>\n  </tbody>\n</table>\n<p>3316 rows × 3 columns</p>\n</div>"
     },
     "execution_count": 41,
     "metadata": {},
     "output_type": "execute_result"
    }
   ],
   "source": [
    "pc = pd.DataFrame(pairs_click)\n",
    "pc"
   ],
   "metadata": {
    "collapsed": false
   }
  },
  {
   "cell_type": "code",
   "execution_count": 42,
   "outputs": [
    {
     "data": {
      "text/plain": "                                                      0 1   \\\n0     masuk radar pilwalkot medan , menantu jokowi b...      \n1     malaysia sudutkan ri : isu kabut asap hingga i...      \n2     kemensos salurkan rp 7 , 3 m bagi korban kerus...      \n3     mpr : amandemen uud 1945 tak akan melebar ke m...      \n4     peringati tahun baru islam , banyuwangi kembal...      \n...                                                 ... ..   \n5292  wamena papua kembali membara , kantor bupati d...      \n5293         bmkg angkat bicara soal langit merah jambi      \n5294  operasional bandara wamena dihentikan akibat r...      \n5295  asap karhutla riau mulai merambah ke nias , bm...      \n5296  tolak ruu pertanahan , ribuan petani siap gela...      \n\n                                                      2  \n0     masuk radar pilwalkot medan , menantu jokowi b...  \n1     malaysia sudutkan ri : isu kabut asap hingga i...  \n2     kemensos salurkan rp 7 , 3 m bagi korban kerus...  \n3     mpr : amandemen uud 1945 tak akan melebar ke m...  \n4     peringati tahun baru islam , banyuwangi kembal...  \n...                                                 ...  \n5292  wamena papua kembali membara , kantor bupati d...  \n5293         bmkg angkat bicara soal langit merah jambi  \n5294  operasional bandara wamena dihentikan akibat r...  \n5295  asap karhutla riau mulai merambah ke nias , bm...  \n5296  tolak ruu pertanahan , ribuan petani siap gela...  \n\n[5297 rows x 3 columns]",
      "text/html": "<div>\n<style scoped>\n    .dataframe tbody tr th:only-of-type {\n        vertical-align: middle;\n    }\n\n    .dataframe tbody tr th {\n        vertical-align: top;\n    }\n\n    .dataframe thead th {\n        text-align: right;\n    }\n</style>\n<table border=\"1\" class=\"dataframe\">\n  <thead>\n    <tr style=\"text-align: right;\">\n      <th></th>\n      <th>0</th>\n      <th>1</th>\n      <th>2</th>\n    </tr>\n  </thead>\n  <tbody>\n    <tr>\n      <th>0</th>\n      <td>masuk radar pilwalkot medan , menantu jokowi b...</td>\n      <td></td>\n      <td>masuk radar pilwalkot medan , menantu jokowi b...</td>\n    </tr>\n    <tr>\n      <th>1</th>\n      <td>malaysia sudutkan ri : isu kabut asap hingga i...</td>\n      <td></td>\n      <td>malaysia sudutkan ri : isu kabut asap hingga i...</td>\n    </tr>\n    <tr>\n      <th>2</th>\n      <td>kemensos salurkan rp 7 , 3 m bagi korban kerus...</td>\n      <td></td>\n      <td>kemensos salurkan rp 7 , 3 m bagi korban kerus...</td>\n    </tr>\n    <tr>\n      <th>3</th>\n      <td>mpr : amandemen uud 1945 tak akan melebar ke m...</td>\n      <td></td>\n      <td>mpr : amandemen uud 1945 tak akan melebar ke m...</td>\n    </tr>\n    <tr>\n      <th>4</th>\n      <td>peringati tahun baru islam , banyuwangi kembal...</td>\n      <td></td>\n      <td>peringati tahun baru islam , banyuwangi kembal...</td>\n    </tr>\n    <tr>\n      <th>...</th>\n      <td>...</td>\n      <td>...</td>\n      <td>...</td>\n    </tr>\n    <tr>\n      <th>5292</th>\n      <td>wamena papua kembali membara , kantor bupati d...</td>\n      <td></td>\n      <td>wamena papua kembali membara , kantor bupati d...</td>\n    </tr>\n    <tr>\n      <th>5293</th>\n      <td>bmkg angkat bicara soal langit merah jambi</td>\n      <td></td>\n      <td>bmkg angkat bicara soal langit merah jambi</td>\n    </tr>\n    <tr>\n      <th>5294</th>\n      <td>operasional bandara wamena dihentikan akibat r...</td>\n      <td></td>\n      <td>operasional bandara wamena dihentikan akibat r...</td>\n    </tr>\n    <tr>\n      <th>5295</th>\n      <td>asap karhutla riau mulai merambah ke nias , bm...</td>\n      <td></td>\n      <td>asap karhutla riau mulai merambah ke nias , bm...</td>\n    </tr>\n    <tr>\n      <th>5296</th>\n      <td>tolak ruu pertanahan , ribuan petani siap gela...</td>\n      <td></td>\n      <td>tolak ruu pertanahan , ribuan petani siap gela...</td>\n    </tr>\n  </tbody>\n</table>\n<p>5297 rows × 3 columns</p>\n</div>"
     },
     "execution_count": 42,
     "metadata": {},
     "output_type": "execute_result"
    }
   ],
   "source": [
    "pnc = pd.DataFrame(pairs_nonclick)\n",
    "pnc"
   ],
   "metadata": {
    "collapsed": false
   }
  },
  {
   "cell_type": "code",
   "execution_count": 43,
   "outputs": [
    {
     "name": "stdout",
     "output_type": "stream",
     "text": [
      "Counted words:\n",
      "input 13917\n",
      "output 13930\n"
     ]
    }
   ],
   "source": [
    "for pair in pairs:\n",
    "    input_lang.addSentence(pair[0])\n",
    "    output_lang.addSentence(pair[1])\n",
    "for pair in pairs:\n",
    "    input_lang.addSentence(pair[1])\n",
    "    output_lang.addSentence(pair[0])\n",
    "\n",
    "print(\"Counted words:\")\n",
    "print(input_lang.name, input_lang.n_words)\n",
    "print(output_lang.name, output_lang.n_words)"
   ],
   "metadata": {
    "collapsed": false
   }
  },
  {
   "cell_type": "markdown",
   "source": [
    "# Dataset:  Train, Validation, Test Split [100% Done]"
   ],
   "metadata": {
    "collapsed": false
   }
  },
  {
   "cell_type": "code",
   "execution_count": 1,
   "outputs": [],
   "source": [
    "def train_val_dataset(dataset, val_split=0.25):\n",
    "    train_idx, val_idx = train_test_split(list(range(len(dataset))), test_size=val_split)\n",
    "    datasets = {}\n",
    "    datasets['train'] = Subset(dataset, train_idx)\n",
    "    datasets['val'] = Subset(dataset, val_idx)\n",
    "    return datasets"
   ],
   "metadata": {
    "collapsed": false
   }
  },
  {
   "cell_type": "code",
   "execution_count": 36,
   "outputs": [],
   "source": [
    "from sklearn.model_selection import train_test_split\n",
    "\n",
    "train_data, test_data = train_test_split(pairs, test_size=0.3, random_state=42)\n",
    "# train_data, test_data = train_test_split(pairs, test_size=0.3, random_state=42)\n",
    "train_data, test_data  = train_test_split(pairs, test_size=0.2, random_state=42)\n",
    "train_data, validation_data = train_test_split(train_data, test_size=0.18, random_state=42)"
   ],
   "metadata": {
    "collapsed": false
   }
  },
  {
   "cell_type": "code",
   "execution_count": 37,
   "outputs": [
    {
     "name": "stdout",
     "output_type": "stream",
     "text": [
      "Number of training examples: 5649\n",
      "Number of testing examples: 1723\n",
      "Number of validation examples: 1241\n"
     ]
    }
   ],
   "source": [
    "print(f\"Number of training examples: {len(train_data)}\")\n",
    "print(f\"Number of testing examples: {len(test_data)}\")\n",
    "print(f\"Number of validation examples: {len(validation_data)}\")"
   ],
   "metadata": {
    "collapsed": false
   }
  },
  {
   "cell_type": "code",
   "execution_count": 38,
   "outputs": [
    {
     "name": "stdout",
     "output_type": "stream",
     "text": [
      "['tak perlu ke lombok-bali , gili di jawa timur yang memikat' 'inilah'\n",
      " 'tak perlu ke lombok-bali , inilah gili di jawa timur yang memikat']\n",
      "['hasil liga europa : eintracht frankfurt vs arsenal 0-3' ''\n",
      " 'hasil liga europa : eintracht frankfurt vs arsenal 0-3']\n",
      "['hotel riau akan tampung warga terkena dampak kebakaran hutan' ''\n",
      " 'hotel riau akan tampung warga terkena dampak kebakaran hutan']\n"
     ]
    }
   ],
   "source": [
    "print(f\"{train_data[0]}\")\n",
    "print(test_data[0])\n",
    "print(validation_data[0])"
   ],
   "metadata": {
    "collapsed": false
   }
  },
  {
   "cell_type": "markdown",
   "source": [
    "\n",
    "# STAGE 3: NN Model : Encoder, Decoder, Seq2Seq [100% Done]"
   ],
   "metadata": {
    "collapsed": false
   }
  },
  {
   "cell_type": "code",
   "execution_count": 133,
   "outputs": [],
   "source": [
    "class Maxout(nn.Module):\n",
    "    def __init__(self, pool_size):\n",
    "        super().__init__()\n",
    "        self._pool_size = pool_size\n",
    "\n",
    "    def forward(self, x):\n",
    "        assert x.shape[1] % self._pool_size == 0, \\\n",
    "            'Wrong input last dim size ({}) for Maxout({})'.format(x.shape[1], self._pool_size)\n",
    "        m, i = x.view(*x.shape[:1], x.shape[1] // self._pool_size, self._pool_size, *x.shape[2:]).max(2)\n",
    "        return m"
   ],
   "metadata": {
    "collapsed": false
   }
  },
  {
   "cell_type": "code",
   "execution_count": 178,
   "outputs": [],
   "source": [
    "class EncoderRNN(nn.Module):\n",
    "    def __init__(self, input_size, word_vec_size, hidden_size, weight):\n",
    "        super(EncoderRNN, self).__init__()\n",
    "        self.hidden_size = hidden_size\n",
    "\n",
    "        # self.embedding = nn.Embedding(input_size, word_vec_size)\n",
    "        self.embedding = nn.Embedding.from_pretrained(weight)\n",
    "\n",
    "        self.gru = nn.GRU(word_vec_size, hidden_size)\n",
    "\n",
    "    def forward(self, input, hidden):\n",
    "        embedded = self.embedding(input).view(1, 1, -1)\n",
    "        output = embedded\n",
    "        output, hidden = self.gru(output, hidden)\n",
    "        return output, hidden\n",
    "\n",
    "    def initHidden(self):\n",
    "        return torch.zeros(1, 1, self.hidden_size, device=device)"
   ],
   "metadata": {
    "collapsed": false
   }
  },
  {
   "cell_type": "code",
   "execution_count": 179,
   "outputs": [],
   "source": [
    "class DecoderRNN(nn.Module):\n",
    "    def __init__(self, hidden_size, word_vec_size, output_size, weight):\n",
    "        super(DecoderRNN, self).__init__()\n",
    "        self.hidden_size = hidden_size\n",
    "\n",
    "        # self.embedding = nn.Embedding(output_size, word_vec_size)\n",
    "        self.embedding = nn.Embedding.from_pretrained(weight)\n",
    "\n",
    "        self.gru = nn.GRU(word_vec_size, hidden_size)\n",
    "        self.out = nn.Linear(hidden_size, output_size)\n",
    "        self.softmax = nn.LogSoftmax(dim=1)\n",
    "        self.maxout = Maxout(1)\n",
    "\n",
    "    def forward(self, input, hidden):\n",
    "        output = self.embedding(input).view(1, 1, -1)\n",
    "        output = self.maxout(output)\n",
    "        output, hidden = self.gru(output, hidden)\n",
    "        output = self.softmax(self.out(output[0]))\n",
    "        return output, hidden\n",
    "\n",
    "    def initHidden(self):\n",
    "        return torch.zeros(1, 1, self.hidden_size, device=device)"
   ],
   "metadata": {
    "collapsed": false
   }
  },
  {
   "cell_type": "markdown",
   "source": [
    "# STAGE 5: Improvement : Add fast text model"
   ],
   "metadata": {
    "collapsed": false
   }
  },
  {
   "cell_type": "code",
   "execution_count": 65,
   "outputs": [],
   "source": [
    "# !pip install --upgrade gensim"
   ],
   "metadata": {
    "collapsed": false
   }
  },
  {
   "cell_type": "code",
   "execution_count": 66,
   "outputs": [],
   "source": [
    "from gensim.models.fasttext import load_facebook_model\n",
    "\n",
    "ft = load_facebook_model('fastext_model_tweet.bin')"
   ],
   "metadata": {
    "collapsed": false
   }
  },
  {
   "cell_type": "code",
   "execution_count": 67,
   "outputs": [],
   "source": [
    "# fast_text_path = \"2022_thesis_styletransfer/cp_fastext_model_tweet.bin\"\n",
    "# ft = load_facebook_model(fast_text_path)"
   ],
   "metadata": {
    "collapsed": false
   }
  },
  {
   "cell_type": "code",
   "execution_count": 68,
   "outputs": [
    {
     "data": {
      "text/plain": "100"
     },
     "execution_count": 68,
     "metadata": {},
     "output_type": "execute_result"
    }
   ],
   "source": [
    "ft.vector_size"
   ],
   "metadata": {
    "collapsed": false
   }
  },
  {
   "cell_type": "code",
   "execution_count": 69,
   "outputs": [],
   "source": [
    "embedding_matrix_ft_input = np.random.random((input_lang.n_words , ft.vector_size))\n",
    "embedding_matrix_ft_output = np.random.random((output_lang.n_words, ft.vector_size))\n",
    "\n",
    "embedding_matrix_ft_input_test = np.random.random((input_lang.n_words , ft.vector_size))\n",
    "\n",
    "# torch.zeros(max_length, encoder_a.hidden_size, device=device)"
   ],
   "metadata": {
    "collapsed": false
   }
  },
  {
   "cell_type": "code",
   "execution_count": 70,
   "outputs": [
    {
     "name": "stdout",
     "output_type": "stream",
     "text": [
      "13927\n",
      "100\n"
     ]
    }
   ],
   "source": [
    "print(input_lang.n_words)\n",
    "print(ft.vector_size)"
   ],
   "metadata": {
    "collapsed": false
   }
  },
  {
   "cell_type": "code",
   "execution_count": 71,
   "outputs": [],
   "source": [
    "for i, word in input_lang.index2word.items():\n",
    "    try:\n",
    "        embedding_matrix_ft_input[i] = ft.wv[word]\n",
    "    except:\n",
    "        pass\n",
    "\n",
    "for i, word in output_lang.index2word.items():\n",
    "    try:\n",
    "        embedding_matrix_ft_output[i] = ft.wv[word]\n",
    "    except:\n",
    "        pass"
   ],
   "metadata": {
    "collapsed": false
   }
  },
  {
   "cell_type": "code",
   "execution_count": 72,
   "outputs": [],
   "source": [
    "embedding_matrix_ft_input = torch.from_numpy(embedding_matrix_ft_input)\n",
    "embedding_matrix_ft_output = torch.from_numpy(embedding_matrix_ft_output)"
   ],
   "metadata": {
    "collapsed": false
   }
  },
  {
   "cell_type": "code",
   "execution_count": 73,
   "outputs": [
    {
     "name": "stdout",
     "output_type": "stream",
     "text": [
      "tensor([[-7.4259e-02,  1.6886e-01,  1.8216e-01,  ...,  9.6468e-02,\n",
      "          2.2153e-01, -5.3748e-02],\n",
      "        [-3.0592e-03, -1.5431e-03, -2.3437e-04,  ...,  1.4830e-03,\n",
      "          2.1542e-03, -1.5045e-03],\n",
      "        [ 9.2200e-02,  3.7329e-01, -5.2906e-01,  ..., -2.1978e-01,\n",
      "         -3.4488e-01, -5.9725e-01],\n",
      "        ...,\n",
      "        [ 1.1046e-01,  9.3198e-02, -4.3081e-01,  ...,  7.1032e-01,\n",
      "          3.3464e-02, -1.4703e-01],\n",
      "        [-1.0751e-02, -1.2092e+00,  4.2839e-02,  ...,  6.0887e-02,\n",
      "         -1.8061e-01, -4.9997e-01],\n",
      "        [ 3.7626e-02,  2.1549e-01,  7.7507e-02,  ...,  9.6235e-02,\n",
      "          1.1772e-03, -2.0547e-01]])\n"
     ]
    }
   ],
   "source": [
    "embedding_matrix_ft_output = embedding_matrix_ft_output.float()\n",
    "embedding_matrix_ft_input = embedding_matrix_ft_input.float()\n",
    "\n",
    "print(embedding_matrix_ft_output)"
   ],
   "metadata": {
    "collapsed": false
   }
  },
  {
   "cell_type": "markdown",
   "source": [
    "# STAGE 3: Word to Index Conversion"
   ],
   "metadata": {
    "collapsed": false
   }
  },
  {
   "cell_type": "code",
   "execution_count": 74,
   "outputs": [],
   "source": [
    "#Preparing Training Data\n",
    "def indexesFromSentence(lang, sentence):\n",
    "    return [lang.word2index[word] for word in sentence.split(' ')]\n",
    "\n",
    "\n",
    "def tensorFromSentence(lang, sentence):\n",
    "    indexes = indexesFromSentence(lang, sentence)\n",
    "    indexes.append(EOS_token)\n",
    "    # print(\"Indexes\", indexes )\n",
    "    return torch.tensor(indexes, dtype=torch.long, device=device).view(-1, 1)\n",
    "\n",
    "\n",
    "def tensorsFromPair(pair):\n",
    "    input_c_tensor = tensorFromSentence(input_lang, pair[0])\n",
    "    input_a_tensor = tensorFromSentence(input_lang, pair[1])\n",
    "    target_tensor = tensorFromSentence(output_lang, pair[2])\n",
    "    # print(input_c_tensor)\n",
    "    # print(input_a_tensor)\n",
    "    return (input_c_tensor, input_a_tensor, target_tensor)"
   ],
   "metadata": {
    "collapsed": false
   }
  },
  {
   "cell_type": "code",
   "execution_count": 75,
   "outputs": [
    {
     "data": {
      "text/plain": "[(tensor([[5719],\n          [5720],\n          [ 876],\n          [  58],\n          [ 287],\n          [5721],\n          [4482],\n          [ 133],\n          [5722],\n          [   4],\n          [  26],\n          [ 789],\n          [   2],\n          [   1]]),\n  tensor([[13561],\n          [13390],\n          [13383],\n          [ 1223],\n          [   16],\n          [13414],\n          [13429],\n          [13385],\n          [    1]]),\n  tensor([[6151],\n          [6152],\n          [1017],\n          [  71],\n          [1240],\n          [  45],\n          [ 325],\n          [6153],\n          [  11],\n          [4892],\n          [ 161],\n          [6154],\n          [   6],\n          [  32],\n          [1444],\n          [  19],\n          [ 306],\n          [ 443],\n          [ 922],\n          [  22],\n          [   1]]))]"
     },
     "execution_count": 75,
     "metadata": {},
     "output_type": "execute_result"
    }
   ],
   "source": [
    "training_pairs = [tensorsFromPair(random.choice(pairs_click)) for i in range(1)]\n",
    "training_pairs"
   ],
   "metadata": {
    "collapsed": false
   }
  },
  {
   "cell_type": "code",
   "execution_count": 76,
   "outputs": [],
   "source": [
    "#Training\n",
    "MAX_LENGTH = 50\n",
    "\n",
    "teacher_forcing_ratio = 0.5\n",
    "\n",
    "\n",
    "def train(input_c_tensor, input_a_tensor, target_tensor, encoder_c, encoder_a, decoder, encoder_c_optimizer, encoder_a_optimizer, decoder_optimizer, criterion, max_length=MAX_LENGTH):\n",
    "    encoder_c_hidden = encoder_c.initHidden()\n",
    "    encoder_a_hidden = encoder_a.initHidden()\n",
    "\n",
    "    # print(\"encoder_a_hidden\", encoder_a_hidden)\n",
    "\n",
    "    encoder_a_optimizer.zero_grad()\n",
    "    encoder_c_optimizer.zero_grad()\n",
    "    decoder_optimizer.zero_grad()\n",
    "\n",
    "    input_c_length = input_c_tensor.size(0)\n",
    "    input_a_length = input_a_tensor.size(0)\n",
    "    target_length = target_tensor.size(0)\n",
    "\n",
    "    encoder_c_outputs = torch.zeros(max_length, encoder_c.hidden_size, device=device)\n",
    "    encoder_a_outputs = torch.zeros(max_length, encoder_a.hidden_size, device=device)\n",
    "\n",
    "    loss = 0\n",
    "\n",
    "    for ei in range(input_c_length):\n",
    "        encoder_c_output, encoder_c_hidden = encoder_c(\n",
    "            input_c_tensor[ei], encoder_c_hidden)\n",
    "        encoder_c_outputs[ei] = encoder_c_output[0, 0]\n",
    "\n",
    "    for ei in range(input_a_length):\n",
    "        encoder_a_output, encoder_a_hidden = encoder_a(\n",
    "            input_a_tensor[ei], encoder_a_hidden)\n",
    "        encoder_a_outputs[ei] = encoder_a_output[0, 0]\n",
    "\n",
    "\n",
    "    decoder_input = torch.tensor([[SOS_token]], device=device)\n",
    "    decoder_hidden = torch.cat((encoder_c_hidden, encoder_a_hidden), 2)\n",
    "\n",
    "    use_teacher_forcing = True if random.random() < teacher_forcing_ratio else False\n",
    "\n",
    "    if use_teacher_forcing:\n",
    "        # Teacher forcing: Feed the target as the next input\n",
    "        for di in range(target_length):\n",
    "            decoder_output, decoder_hidden = decoder(decoder_input, decoder_hidden)\n",
    "            loss += criterion(decoder_output, target_tensor[di])\n",
    "            decoder_input = target_tensor[di]  # Teacher forcing\n",
    "\n",
    "    else:\n",
    "        # Without teacher forcing: use its own predictions as the next input\n",
    "        for di in range(target_length):\n",
    "            decoder_output, decoder_hidden = decoder(decoder_input, decoder_hidden)\n",
    "            topv, topi = decoder_output.topk(1)\n",
    "            decoder_input = topi.squeeze().detach()  # detach from history as input\n",
    "\n",
    "            loss += criterion(decoder_output, target_tensor[di])\n",
    "            if decoder_input.item() == EOS_token:\n",
    "                break\n",
    "\n",
    "    loss.backward()\n",
    "\n",
    "    encoder_c_optimizer.step()\n",
    "    encoder_a_optimizer.step()\n",
    "    decoder_optimizer.step()\n",
    "\n",
    "    return loss.item() / target_length"
   ],
   "metadata": {
    "collapsed": false
   }
  },
  {
   "cell_type": "markdown",
   "source": [
    "# STAGE 3: NN Model : Training Architecture"
   ],
   "metadata": {
    "collapsed": false
   }
  },
  {
   "cell_type": "code",
   "execution_count": 77,
   "outputs": [],
   "source": [
    "import time\n",
    "import math\n",
    "\n",
    "def asMinutes(s):\n",
    "    m = math.floor(s / 60)\n",
    "    s -= m * 60\n",
    "    return '%dm %ds' % (m, s)\n",
    "\n",
    "\n",
    "def timeSince(since, percent):\n",
    "    now = time.time()\n",
    "    s = now - since\n",
    "    es = s / (percent)\n",
    "    rs = es - s\n",
    "    return '%s (- %s)' % (asMinutes(s), asMinutes(rs))"
   ],
   "metadata": {
    "collapsed": false
   }
  },
  {
   "cell_type": "code",
   "execution_count": 258,
   "outputs": [],
   "source": [
    "import matplotlib.pyplot as plt\n",
    "plt.switch_backend('agg')\n",
    "import matplotlib.ticker as ticker\n",
    "import numpy as np\n",
    "\n",
    "\n",
    "def showPlot(points):\n",
    "    plt.figure()\n",
    "    fig, ax = plt.subplots()\n",
    "    # this locator puts ticks at regular intervals\n",
    "    loc = ticker.MultipleLocator(base=0.2)\n",
    "    ax.yaxis.set_major_locator(loc)\n",
    "    plt.plot(points)"
   ],
   "metadata": {
    "collapsed": false
   }
  },
  {
   "cell_type": "code",
   "execution_count": 259,
   "outputs": [],
   "source": [
    "def trainIters(\n",
    "        encoder_a,\n",
    "        encoder_c,\n",
    "        decoder,\n",
    "        n_iters,\n",
    "\n",
    "        criterion,\n",
    "        encoder_c_optimizer,\n",
    "        encoder_a_optimizer,\n",
    "        decoder_optimizer,\n",
    "\n",
    "        print_every=1000,\n",
    "        plot_every=100,\n",
    "        learning_rate=0.01):\n",
    "\n",
    "    encoder_a.train()\n",
    "    encoder_c.train()\n",
    "    decoder.train()\n",
    "\n",
    "    start = time.time()\n",
    "    plot_losses = []\n",
    "    print_loss_total = 0  # Reset every print_every\n",
    "    plot_loss_total = 0  # Reset every plot_every\n",
    "\n",
    "    # encoder_c_optimizer = optim.Adadelta(encoder_c.parameters(), lr=learning_rate)\n",
    "    # encoder_a_optimizer = optim.Adadelta(encoder_a.parameters(), lr=learning_rate)\n",
    "    # decoder_optimizer = optim.Adadelta(decoder.parameters(), lr=learning_rate)\n",
    "    # training_pairs = [tensorsFromPair(random.choice(pairs)) for i in range(n_iters)]\n",
    "\n",
    "    training_pairs = [tensorsFromPair(random.choice(pairs_click)) for i in range(n_iters)]\n",
    "    # training_pairs = [tensorsFromPair(random.choice(pairs)) for i in range(n_iters)]\n",
    "\n",
    "    # criterion = nn.NLLLoss()\n",
    "\n",
    "    ouput_loss_total = 0\n",
    "\n",
    "    for iter in range(1, n_iters + 1):\n",
    "\n",
    "        training_pair = training_pairs[iter - 1]\n",
    "        input_a_tensor = training_pair[0]\n",
    "        input_c_tensor = training_pair[1]\n",
    "        target_tensor = training_pair[2]\n",
    "\n",
    "        loss = train(input_c_tensor, input_a_tensor, target_tensor,\n",
    "                     encoder_c, encoder_a, decoder,\n",
    "                     encoder_c_optimizer, encoder_c_optimizer, decoder_optimizer,\n",
    "                     criterion)\n",
    "\n",
    "        print_loss_total += loss\n",
    "        plot_loss_total += loss\n",
    "        ouput_loss_total += loss\n",
    "\n",
    "        if iter % print_every == 0:\n",
    "            print_loss_avg = print_loss_total / print_every\n",
    "            print_loss_total = 0\n",
    "            print('%s (%d %d%%) %.4f' % (timeSince(start, iter / n_iters),\n",
    "                                         iter, iter / n_iters * 100, print_loss_avg))\n",
    "\n",
    "        if iter % plot_every == 0:\n",
    "            plot_loss_avg = plot_loss_total / plot_every\n",
    "            plot_losses.append(plot_loss_avg)\n",
    "            plot_loss_total = 0\n",
    "\n",
    "    showPlot(plot_losses)\n",
    "\n",
    "    return ouput_loss_total/n_iters"
   ],
   "metadata": {
    "collapsed": false
   }
  },
  {
   "cell_type": "code",
   "execution_count": 260,
   "outputs": [],
   "source": [
    "def evaluating(\n",
    "        encoder_a,\n",
    "        encoder_c,\n",
    "        decoder,\n",
    "\n",
    "        criterion,\n",
    "        n_iters,\n",
    "        plot_every : int =10,\n",
    "        max_length=MAX_LENGTH\n",
    "):\n",
    "\n",
    "    encoder_a.eval()\n",
    "    encoder_c.eval()\n",
    "    decoder.eval()\n",
    "\n",
    "    plot_losses = []\n",
    "    plot_loss_total = 0\n",
    "    loss_total_output = 0\n",
    "\n",
    "    training_pairs = [tensorsFromPair(random.choice(pairs_click)) for i in range(n_iters)]\n",
    "    # training_pairs = [tensorsFromPair(random.choice(pairs)) for i in range(n_iters)]\n",
    "\n",
    "    start: float = time.time()\n",
    "\n",
    "    with torch.no_grad():\n",
    "        for iter  in  range(1, n_iters + 1):\n",
    "            # taking the pair and extract the c, a, target\n",
    "            training_pair = training_pairs[iter - 1]\n",
    "            input_c_tensor = training_pair[0]\n",
    "            input_a_tensor = training_pair[1]\n",
    "            target_tensor = training_pair[2]\n",
    "\n",
    "            # START: eval func\n",
    "            # init hidden\n",
    "            encoder_c_hidden = encoder_c.initHidden()\n",
    "            encoder_a_hidden = encoder_a.initHidden()\n",
    "\n",
    "            # len of sentence of c, a, t, that already; e.g input_c_length= len(input_c_tensor)\n",
    "            input_c_length = input_c_tensor.size(0)\n",
    "            input_a_length = input_a_tensor.size(0)\n",
    "            target_length = target_tensor.size(0)\n",
    "\n",
    "            encoder_c_outputs = torch.zeros(max_length, encoder_c.hidden_size, device=device)\n",
    "            encoder_a_outputs = torch.zeros(max_length, encoder_a.hidden_size, device=device)\n",
    "\n",
    "            loss = 0\n",
    "\n",
    "            for ei in range(input_c_length):\n",
    "                encoder_c_output, encoder_c_hidden = encoder_c(input_c_tensor[ei], encoder_c_hidden)\n",
    "                encoder_c_outputs[ei] = encoder_c_output[0, 0]\n",
    "\n",
    "            for ei in range(input_a_length):\n",
    "                encoder_a_output, encoder_a_hidden = encoder_a(input_a_tensor[ei], encoder_a_hidden)\n",
    "                encoder_a_outputs[ei] = encoder_a_output[0, 0]\n",
    "\n",
    "            decoder_input = torch.tensor([[SOS_token]], device=device)\n",
    "            decoder_hidden = torch.cat((encoder_c_hidden, encoder_a_hidden), 2)\n",
    "\n",
    "            use_teacher_forcing = True if random.random() < teacher_forcing_ratio else False\n",
    "\n",
    "            if use_teacher_forcing:\n",
    "                # Teacher forcing: Feed the target as the next input\n",
    "                for di in range(target_length):\n",
    "                    decoder_output, decoder_hidden = decoder(\n",
    "                        decoder_input, decoder_hidden)\n",
    "                    loss += criterion(decoder_output, target_tensor[di])\n",
    "                    decoder_input = target_tensor[di]  # Teacher forcing\n",
    "\n",
    "            else:\n",
    "            # Without teacher forcing: use its own predictions as the next input\n",
    "                for di in range(target_length):\n",
    "                    decoder_output, decoder_hidden = decoder(\n",
    "                        decoder_input, decoder_hidden)\n",
    "                    topv, topi = decoder_output.topk(1)\n",
    "                    decoder_input = topi.squeeze().detach()  # detach from history as input\n",
    "\n",
    "                    loss += criterion(decoder_output, target_tensor[di])\n",
    "                    if decoder_input.item() == EOS_token:\n",
    "                        break\n",
    "\n",
    "            l = loss.item() / target_length\n",
    "            # END: Eval Func\n",
    "\n",
    "            loss_total_output += l\n",
    "            plot_loss_total += l\n",
    "\n",
    "            if iter % plot_every == 0:\n",
    "                plot_loss_avg = plot_loss_total / plot_every\n",
    "                plot_losses.append(plot_loss_avg)\n",
    "                # print('%s (%d %d%%) %.4f' % (timeSince(start, iter / n_iters),\n",
    "                #                              iter, iter / n_iters * 100, plot_loss_avg))\n",
    "                plot_loss_total = 0\n",
    "\n",
    "        showPlot(plot_losses)\n",
    "\n",
    "    return loss_total_output/ n_iters"
   ],
   "metadata": {
    "collapsed": false
   }
  },
  {
   "cell_type": "code",
   "execution_count": 261,
   "outputs": [],
   "source": [
    "# word_vec_size = 128\n",
    "word_vec_size = ft.vector_size\n",
    "hidden_size = 512\n",
    "\n",
    "# encoder_c = EncoderRNN(input_lang.n_words, word_vec_size, hidden_size).to(device)\n",
    "# encoder_a = EncoderRNN(input_lang.n_words, word_vec_size, hidden_size).to(device)\n",
    "# decoder = DecoderRNN(hidden_size + hidden_size, word_vec_size, output_lang.n_words).to(device)\n",
    "\n",
    "encoder_c = EncoderRNN(input_lang.n_words, word_vec_size, hidden_size, embedding_matrix_ft_input).to(device)\n",
    "encoder_a = EncoderRNN(input_lang.n_words, word_vec_size, hidden_size, embedding_matrix_ft_input).to(device)\n",
    "\n",
    "decoder = DecoderRNN(hidden_size + hidden_size, word_vec_size, output_lang.n_words, embedding_matrix_ft_output).to(device)"
   ],
   "metadata": {
    "collapsed": false
   }
  },
  {
   "cell_type": "code",
   "execution_count": 262,
   "outputs": [
    {
     "name": "stdout",
     "output_type": "stream",
     "text": [
      "5297\n",
      "3316\n",
      "8613\n"
     ]
    }
   ],
   "source": [
    "# trainIters(encoder_c, encoder_a, decoder, 200, print_every=100)\n",
    "# len(pairs_click)\n",
    "print(len(pairs) - len(pairs_click))\n",
    "print(len(pairs_click))\n",
    "print(len(pairs))"
   ],
   "metadata": {
    "collapsed": false
   }
  },
  {
   "cell_type": "code",
   "execution_count": 263,
   "outputs": [],
   "source": [
    "def epoch_time(start_time, end_time):\n",
    "    elapsed_time = end_time - start_time\n",
    "    elapsed_mins = int(elapsed_time / 60)\n",
    "    elapsed_secs = int(elapsed_time - (elapsed_mins * 60))\n",
    "    return elapsed_mins, elapsed_secs"
   ],
   "metadata": {
    "collapsed": false
   }
  },
  {
   "cell_type": "code",
   "execution_count": 268,
   "outputs": [
    {
     "name": "stdout",
     "output_type": "stream",
     "text": [
      "0m 34s (- 22m 43s) (50 2%) 6.8913\n",
      "1m 6s (- 21m 3s) (100 5%) 6.8099\n",
      "1m 37s (- 20m 5s) (150 7%) 7.1184\n",
      "2m 7s (- 19m 4s) (200 10%) 6.9466\n",
      "2m 36s (- 18m 18s) (250 12%) 6.9606\n",
      "3m 12s (- 18m 8s) (300 15%) 7.0870\n",
      "3m 44s (- 17m 37s) (350 17%) 6.9832\n",
      "4m 16s (- 17m 4s) (400 20%) 6.9154\n",
      "4m 57s (- 17m 3s) (450 22%) 7.3593\n",
      "5m 28s (- 16m 26s) (500 25%) 7.1346\n",
      "5m 58s (- 15m 43s) (550 27%) 6.6985\n",
      "6m 27s (- 15m 3s) (600 30%) 6.9822\n",
      "7m 1s (- 14m 35s) (650 32%) 7.3053\n"
     ]
    },
    {
     "ename": "KeyboardInterrupt",
     "evalue": "",
     "output_type": "error",
     "traceback": [
      "\u001B[0;31m---------------------------------------------------------------------------\u001B[0m",
      "\u001B[0;31mKeyboardInterrupt\u001B[0m                         Traceback (most recent call last)",
      "Input \u001B[0;32mIn [268]\u001B[0m, in \u001B[0;36m<cell line: 15>\u001B[0;34m()\u001B[0m\n\u001B[1;32m     15\u001B[0m \u001B[38;5;28;01mfor\u001B[39;00m epoch \u001B[38;5;129;01min\u001B[39;00m \u001B[38;5;28mrange\u001B[39m(N_EPOCHS):\n\u001B[1;32m     17\u001B[0m     start_time \u001B[38;5;241m=\u001B[39m time\u001B[38;5;241m.\u001B[39mtime()\n\u001B[0;32m---> 19\u001B[0m     train_loss \u001B[38;5;241m=\u001B[39m \u001B[43mtrainIters\u001B[49m\u001B[43m(\u001B[49m\n\u001B[1;32m     20\u001B[0m \u001B[43m        \u001B[49m\u001B[43mencoder_a\u001B[49m\u001B[43m,\u001B[49m\n\u001B[1;32m     21\u001B[0m \u001B[43m        \u001B[49m\u001B[43mencoder_c\u001B[49m\u001B[43m,\u001B[49m\n\u001B[1;32m     22\u001B[0m \u001B[43m        \u001B[49m\u001B[43mdecoder\u001B[49m\u001B[43m,\u001B[49m\n\u001B[1;32m     23\u001B[0m \u001B[43m        \u001B[49m\u001B[43mTRAINING_DATASET_SIZE\u001B[49m\u001B[43m,\u001B[49m\n\u001B[1;32m     24\u001B[0m \n\u001B[1;32m     25\u001B[0m \u001B[43m        \u001B[49m\u001B[43mcriterion\u001B[49m\u001B[43m,\u001B[49m\n\u001B[1;32m     26\u001B[0m \u001B[43m        \u001B[49m\u001B[43mencoder_c_optimizer\u001B[49m\u001B[43m,\u001B[49m\n\u001B[1;32m     27\u001B[0m \u001B[43m        \u001B[49m\u001B[43mencoder_a_optimizer\u001B[49m\u001B[43m,\u001B[49m\n\u001B[1;32m     28\u001B[0m \u001B[43m        \u001B[49m\u001B[43mdecoder_optimizer\u001B[49m\u001B[43m,\u001B[49m\n\u001B[1;32m     29\u001B[0m \u001B[43m        \u001B[49m\u001B[43mprint_every\u001B[49m\u001B[38;5;241;43m=\u001B[39;49m\u001B[38;5;241;43m50\u001B[39;49m\n\u001B[1;32m     30\u001B[0m \u001B[43m    \u001B[49m\u001B[43m)\u001B[49m\n\u001B[1;32m     32\u001B[0m     valid_loss \u001B[38;5;241m=\u001B[39m evaluating(encoder_a, encoder_c, decoder, criterion, EVALUATION_DATASET_SIZE, plot_every\u001B[38;5;241m=\u001B[39m\u001B[38;5;241m50\u001B[39m)\n\u001B[1;32m     34\u001B[0m     end_time \u001B[38;5;241m=\u001B[39m time\u001B[38;5;241m.\u001B[39mtime()\n",
      "Input \u001B[0;32mIn [259]\u001B[0m, in \u001B[0;36mtrainIters\u001B[0;34m(encoder_a, encoder_c, decoder, n_iters, criterion, encoder_c_optimizer, encoder_a_optimizer, decoder_optimizer, print_every, plot_every, learning_rate)\u001B[0m\n\u001B[1;32m     41\u001B[0m input_c_tensor \u001B[38;5;241m=\u001B[39m training_pair[\u001B[38;5;241m1\u001B[39m]\n\u001B[1;32m     42\u001B[0m target_tensor \u001B[38;5;241m=\u001B[39m training_pair[\u001B[38;5;241m2\u001B[39m]\n\u001B[0;32m---> 44\u001B[0m loss \u001B[38;5;241m=\u001B[39m \u001B[43mtrain\u001B[49m\u001B[43m(\u001B[49m\u001B[43minput_c_tensor\u001B[49m\u001B[43m,\u001B[49m\u001B[43m \u001B[49m\u001B[43minput_a_tensor\u001B[49m\u001B[43m,\u001B[49m\u001B[43m \u001B[49m\u001B[43mtarget_tensor\u001B[49m\u001B[43m,\u001B[49m\n\u001B[1;32m     45\u001B[0m \u001B[43m             \u001B[49m\u001B[43mencoder_c\u001B[49m\u001B[43m,\u001B[49m\u001B[43m \u001B[49m\u001B[43mencoder_a\u001B[49m\u001B[43m,\u001B[49m\u001B[43m \u001B[49m\u001B[43mdecoder\u001B[49m\u001B[43m,\u001B[49m\n\u001B[1;32m     46\u001B[0m \u001B[43m             \u001B[49m\u001B[43mencoder_c_optimizer\u001B[49m\u001B[43m,\u001B[49m\u001B[43m \u001B[49m\u001B[43mencoder_c_optimizer\u001B[49m\u001B[43m,\u001B[49m\u001B[43m \u001B[49m\u001B[43mdecoder_optimizer\u001B[49m\u001B[43m,\u001B[49m\n\u001B[1;32m     47\u001B[0m \u001B[43m             \u001B[49m\u001B[43mcriterion\u001B[49m\u001B[43m)\u001B[49m\n\u001B[1;32m     49\u001B[0m print_loss_total \u001B[38;5;241m+\u001B[39m\u001B[38;5;241m=\u001B[39m loss\n\u001B[1;32m     50\u001B[0m plot_loss_total \u001B[38;5;241m+\u001B[39m\u001B[38;5;241m=\u001B[39m loss\n",
      "Input \u001B[0;32mIn [256]\u001B[0m, in \u001B[0;36mtrain\u001B[0;34m(input_c_tensor, input_a_tensor, target_tensor, encoder_c, encoder_a, decoder, encoder_c_optimizer, encoder_a_optimizer, decoder_optimizer, criterion, max_length)\u001B[0m\n\u001B[1;32m     57\u001B[0m         \u001B[38;5;28;01mif\u001B[39;00m decoder_input\u001B[38;5;241m.\u001B[39mitem() \u001B[38;5;241m==\u001B[39m EOS_token:\n\u001B[1;32m     58\u001B[0m             \u001B[38;5;28;01mbreak\u001B[39;00m\n\u001B[0;32m---> 60\u001B[0m \u001B[43mloss\u001B[49m\u001B[38;5;241;43m.\u001B[39;49m\u001B[43mbackward\u001B[49m\u001B[43m(\u001B[49m\u001B[43m)\u001B[49m\n\u001B[1;32m     62\u001B[0m encoder_c_optimizer\u001B[38;5;241m.\u001B[39mstep()\n\u001B[1;32m     63\u001B[0m encoder_a_optimizer\u001B[38;5;241m.\u001B[39mstep()\n",
      "File \u001B[0;32m~/.conda/envs/workspace/lib/python3.8/site-packages/torch/_tensor.py:255\u001B[0m, in \u001B[0;36mTensor.backward\u001B[0;34m(self, gradient, retain_graph, create_graph, inputs)\u001B[0m\n\u001B[1;32m    246\u001B[0m \u001B[38;5;28;01mif\u001B[39;00m has_torch_function_unary(\u001B[38;5;28mself\u001B[39m):\n\u001B[1;32m    247\u001B[0m     \u001B[38;5;28;01mreturn\u001B[39;00m handle_torch_function(\n\u001B[1;32m    248\u001B[0m         Tensor\u001B[38;5;241m.\u001B[39mbackward,\n\u001B[1;32m    249\u001B[0m         (\u001B[38;5;28mself\u001B[39m,),\n\u001B[0;32m   (...)\u001B[0m\n\u001B[1;32m    253\u001B[0m         create_graph\u001B[38;5;241m=\u001B[39mcreate_graph,\n\u001B[1;32m    254\u001B[0m         inputs\u001B[38;5;241m=\u001B[39minputs)\n\u001B[0;32m--> 255\u001B[0m \u001B[43mtorch\u001B[49m\u001B[38;5;241;43m.\u001B[39;49m\u001B[43mautograd\u001B[49m\u001B[38;5;241;43m.\u001B[39;49m\u001B[43mbackward\u001B[49m\u001B[43m(\u001B[49m\u001B[38;5;28;43mself\u001B[39;49m\u001B[43m,\u001B[49m\u001B[43m \u001B[49m\u001B[43mgradient\u001B[49m\u001B[43m,\u001B[49m\u001B[43m \u001B[49m\u001B[43mretain_graph\u001B[49m\u001B[43m,\u001B[49m\u001B[43m \u001B[49m\u001B[43mcreate_graph\u001B[49m\u001B[43m,\u001B[49m\u001B[43m \u001B[49m\u001B[43minputs\u001B[49m\u001B[38;5;241;43m=\u001B[39;49m\u001B[43minputs\u001B[49m\u001B[43m)\u001B[49m\n",
      "File \u001B[0;32m~/.conda/envs/workspace/lib/python3.8/site-packages/torch/autograd/__init__.py:147\u001B[0m, in \u001B[0;36mbackward\u001B[0;34m(tensors, grad_tensors, retain_graph, create_graph, grad_variables, inputs)\u001B[0m\n\u001B[1;32m    144\u001B[0m \u001B[38;5;28;01mif\u001B[39;00m retain_graph \u001B[38;5;129;01mis\u001B[39;00m \u001B[38;5;28;01mNone\u001B[39;00m:\n\u001B[1;32m    145\u001B[0m     retain_graph \u001B[38;5;241m=\u001B[39m create_graph\n\u001B[0;32m--> 147\u001B[0m \u001B[43mVariable\u001B[49m\u001B[38;5;241;43m.\u001B[39;49m\u001B[43m_execution_engine\u001B[49m\u001B[38;5;241;43m.\u001B[39;49m\u001B[43mrun_backward\u001B[49m\u001B[43m(\u001B[49m\n\u001B[1;32m    148\u001B[0m \u001B[43m    \u001B[49m\u001B[43mtensors\u001B[49m\u001B[43m,\u001B[49m\u001B[43m \u001B[49m\u001B[43mgrad_tensors_\u001B[49m\u001B[43m,\u001B[49m\u001B[43m \u001B[49m\u001B[43mretain_graph\u001B[49m\u001B[43m,\u001B[49m\u001B[43m \u001B[49m\u001B[43mcreate_graph\u001B[49m\u001B[43m,\u001B[49m\u001B[43m \u001B[49m\u001B[43minputs\u001B[49m\u001B[43m,\u001B[49m\n\u001B[1;32m    149\u001B[0m \u001B[43m    \u001B[49m\u001B[43mallow_unreachable\u001B[49m\u001B[38;5;241;43m=\u001B[39;49m\u001B[38;5;28;43;01mTrue\u001B[39;49;00m\u001B[43m,\u001B[49m\u001B[43m \u001B[49m\u001B[43maccumulate_grad\u001B[49m\u001B[38;5;241;43m=\u001B[39;49m\u001B[38;5;28;43;01mTrue\u001B[39;49;00m\u001B[43m)\u001B[49m\n",
      "\u001B[0;31mKeyboardInterrupt\u001B[0m: "
     ]
    }
   ],
   "source": [
    "N_EPOCHS = 1\n",
    "best_valid_loss = float('inf')\n",
    "\n",
    "learning_rate=0.01\n",
    "\n",
    "encoder_c_optimizer = optim.Adadelta(encoder_c.parameters(), lr=learning_rate)\n",
    "encoder_a_optimizer = optim.Adadelta(encoder_a.parameters(), lr=learning_rate)\n",
    "decoder_optimizer = optim.Adadelta(decoder.parameters(), lr=learning_rate)\n",
    "\n",
    "TRAINING_DATASET_SIZE = 2000\n",
    "EVALUATION_DATASET_SIZE = 500\n",
    "\n",
    "criterion = nn.NLLLoss()\n",
    "\n",
    "for epoch in range(N_EPOCHS):\n",
    "\n",
    "    start_time = time.time()\n",
    "\n",
    "    train_loss = trainIters(\n",
    "        encoder_a,\n",
    "        encoder_c,\n",
    "        decoder,\n",
    "        TRAINING_DATASET_SIZE,\n",
    "\n",
    "        criterion,\n",
    "        encoder_c_optimizer,\n",
    "        encoder_a_optimizer,\n",
    "        decoder_optimizer,\n",
    "        print_every=50\n",
    "    )\n",
    "\n",
    "    valid_loss = evaluating(encoder_a, encoder_c, decoder, criterion, EVALUATION_DATASET_SIZE, plot_every=50)\n",
    "\n",
    "    end_time = time.time()\n",
    "    epoch_mins, epoch_secs = epoch_time(start_time, end_time)\n",
    "\n",
    "    if valid_loss < best_valid_loss:\n",
    "        best_valid_loss = valid_loss\n",
    "        torch.save(encoder_a.state_dict(), 'encoder_a-model.pt')\n",
    "        torch.save(encoder_c.state_dict(), 'encoder_c-model.pt')\n",
    "        torch.save(decoder.state_dict(), 'decoder-model.pt')\n",
    "\n",
    "    print(f'Epoch: {epoch+1:02} | Time: {epoch_mins}m {epoch_secs}s')\n",
    "    print(f'\\tTrain Loss: {train_loss:.3f} | Train PPL: {math.exp(train_loss):7.3f}')\n",
    "    print(f'\\t Val. Loss: {valid_loss:.3f} |  Val. PPL: {math.exp(valid_loss):7.3f}')\n",
    "    print(\"Done\")"
   ],
   "metadata": {
    "collapsed": false
   }
  },
  {
   "cell_type": "markdown",
   "source": [
    "# Stage 3: Testing the DeleteRetrieve to Generate Text"
   ],
   "metadata": {
    "collapsed": false
   }
  },
  {
   "cell_type": "code",
   "execution_count": null,
   "outputs": [],
   "source": [
    "def encoderStep(encoder_c, encoder_a, c, a, max_length=MAX_LENGTH):\n",
    "    input_c_tensor = tensorFromSentence(input_lang, c)\n",
    "    input_a_tensor = tensorFromSentence(input_lang, a)\n",
    "\n",
    "    input_c_length = input_c_tensor.size()[0]\n",
    "    input_a_length = input_a_tensor.size()[0]\n",
    "\n",
    "    encoder_c_hidden = encoder_c.initHidden()\n",
    "    encoder_a_hidden = encoder_a.initHidden()\n",
    "\n",
    "    encoder_c_outputs = torch.zeros(max_length, encoder_c.hidden_size, device=device)\n",
    "    encoder_a_outputs = torch.zeros(max_length, encoder_a.hidden_size, device=device)\n",
    "\n",
    "    for ei in range(input_c_length):\n",
    "        encoder_c_output, encoder_c_hidden = encoder_c(input_c_tensor[ei],\n",
    "                                                       encoder_c_hidden)\n",
    "        encoder_c_outputs[ei] += encoder_c_output[0, 0]\n",
    "\n",
    "\n",
    "    for ei in range(input_a_length):\n",
    "        encoder_a_output, encoder_a_hidden = encoder_a(input_a_tensor[ei],\n",
    "                                                       encoder_a_hidden)\n",
    "        encoder_a_outputs[ei] += encoder_a_output[0, 0]\n",
    "\n",
    "\n",
    "\n",
    "    return torch.cat((encoder_c_hidden, encoder_a_hidden), 2)"
   ],
   "metadata": {
    "collapsed": false
   }
  },
  {
   "cell_type": "code",
   "execution_count": null,
   "outputs": [],
   "source": [
    "def get_c_embedding(encoder_c, c, max_length=MAX_LENGTH):\n",
    "    input_c_tensor = tensorFromSentence(input_lang, c)\n",
    "\n",
    "    input_c_length = input_c_tensor.size()[0]\n",
    "\n",
    "    encoder_c_hidden = encoder_c.initHidden()\n",
    "\n",
    "    encoder_c_outputs = torch.zeros(max_length, encoder_c.hidden_size, device=device)\n",
    "\n",
    "    for ei in range(input_c_length):\n",
    "        encoder_c_output, encoder_c_hidden = encoder_c(input_c_tensor[ei],\n",
    "                                                       encoder_c_hidden)\n",
    "        encoder_c_outputs[ei] += encoder_c_output[0, 0]\n",
    "\n",
    "    return encoder_c_hidden"
   ],
   "metadata": {
    "collapsed": false
   }
  },
  {
   "cell_type": "code",
   "execution_count": null,
   "outputs": [],
   "source": [
    "ALPHA = 0.7\n",
    "\n",
    "class Node:\n",
    "    def __init__(self, p_t, i, d_hidden, lvl, node_parent=None):\n",
    "        self.p_t = p_t\n",
    "        self.i = i\n",
    "        self.d_hidden = d_hidden\n",
    "        self.lvl = lvl\n",
    "        self.node_parent = node_parent\n",
    "\n",
    "        self.p_sentence = self.sentenceProb()\n",
    "\n",
    "    def prepareToDecode(self):\n",
    "        d_in = self.i.squeeze()#.detatch()\n",
    "        return d_in, self.d_hidden\n",
    "\n",
    "    def sentenceProb(self):\n",
    "        if self.node_parent == None:\n",
    "            return self.p_t\n",
    "        return self.node_parent.sentenceProb() + self.p_t #addition because of log\n",
    "\n",
    "    def normProb(self):\n",
    "        #Normalised probability\n",
    "        #         return 1/((self.lvl+1)**ALPHA) * self.sentenceProb()\n",
    "        #perplexity\n",
    "        return torch.exp(self.sentenceProb()) ** (-1/(self.lvl+1))\n",
    "\n",
    "    def getToken(self):\n",
    "        return output_lang.index2word[self.i.item()]\n",
    "\n",
    "    def getTokens(self):\n",
    "        token = [self.getToken()]\n",
    "\n",
    "        if(self.node_parent == None):\n",
    "            return token\n",
    "        else:\n",
    "            return self.node_parent.getTokens() + token\n",
    "\n",
    "    def getSentence(self):\n",
    "        return ' '.join(self.getTokens())"
   ],
   "metadata": {
    "collapsed": false
   }
  },
  {
   "cell_type": "code",
   "execution_count": null,
   "outputs": [],
   "source": [
    "BEAM_WIDTH = 10\n",
    "\n",
    "def evaluate(encoder_c, encoder_a, decoder, c, a, max_length=MAX_LENGTH):\n",
    "    with torch.no_grad():\n",
    "        decoder_input = torch.tensor([[SOS_token]], device=device)  # SOS\n",
    "\n",
    "        decoder_hidden = encoderStep(encoder_c, encoder_a, c, a)\n",
    "        decoded_words = []\n",
    "\n",
    "        #BEAM SEARCH\n",
    "\n",
    "        nodes = []\n",
    "        finished_nodes = []\n",
    "        for di in range(max_length):\n",
    "            if di == 0:\n",
    "                decoder_output, decoder_hidden = decoder(decoder_input, decoder_hidden)\n",
    "                top_ps, top_is = decoder_output.data.topk(BEAM_WIDTH)\n",
    "                top_ps = top_ps.view(-1)\n",
    "                top_is = top_is.view(-1)\n",
    "                for index in range(len(top_is)):\n",
    "                    p_t = top_ps[index]\n",
    "                    i = top_is[index]\n",
    "                    nodes.append(Node(p_t, i, decoder_hidden, di))\n",
    "            else:\n",
    "                prev_nodes = [x for x in nodes if x.lvl == di-1]\n",
    "                prev_nodes = sorted(prev_nodes, key=lambda x: x.p_sentence.item(), reverse=True)\n",
    "                prev_nodes = prev_nodes[:BEAM_WIDTH]\n",
    "                nodes = []\n",
    "                for node in prev_nodes:\n",
    "                    decoder_output, decoder_hidden = decoder(*node.prepareToDecode())\n",
    "                    top_ps, top_is = decoder_output.data.topk(BEAM_WIDTH)\n",
    "                    top_ps = top_ps.view(-1)\n",
    "                    top_is = top_is.view(-1)\n",
    "\n",
    "                    for index in range(len(top_is)):\n",
    "                        p_t = top_ps[index]\n",
    "                        i = top_is[index]\n",
    "                        child_node = Node(p_t, i, decoder_hidden, di, node)\n",
    "\n",
    "                        if i.item() == EOS_token:\n",
    "                            finished_nodes.append(child_node)\n",
    "                        else:\n",
    "                            nodes.append(child_node)\n",
    "\n",
    "        final_node = sorted(finished_nodes, key=lambda x: x.p_sentence.item(), reverse=True)[0]\n",
    "        return final_node.getTokens()\n",
    "\n",
    "# evaluate(encoder_c, encoder_a, decoder, \"the food\", \"great\")"
   ],
   "metadata": {
    "collapsed": false
   }
  },
  {
   "cell_type": "code",
   "execution_count": null,
   "outputs": [],
   "source": [
    "def evaluateWithoutBeamSearch(encoder_c, encoder_a, decoder, c, a, max_length=MAX_LENGTH):\n",
    "    with torch.no_grad():\n",
    "        decoder_input = torch.tensor([[SOS_token]], device=device)  # SOS\n",
    "\n",
    "        decoder_hidden = encoderStep(encoder_c, encoder_a, c, a)\n",
    "        decoded_words = []\n",
    "\n",
    "        #BEAM SEARCH\n",
    "        for di in range(max_length):\n",
    "            decoder_output, decoder_hidden = decoder(decoder_input, decoder_hidden)\n",
    "\n",
    "            topv, topi = F.softmax(decoder_output).data.topk(1)\n",
    "\n",
    "            if topi.item() == EOS_token:\n",
    "                decoded_words.append('<EOS>')\n",
    "                break\n",
    "            else:\n",
    "                decoded_words.append(output_lang.index2word[topi.item()])\n",
    "\n",
    "            decoder_input = topi.squeeze().detach()\n",
    "\n",
    "        return decoded_words\n",
    "# ' '.join(evaluateWithoutBeamSearch(encoder_c, encoder_a, decoder, \"the food is\", \"great\"))"
   ],
   "metadata": {
    "collapsed": false
   }
  },
  {
   "cell_type": "code",
   "execution_count": null,
   "outputs": [],
   "source": [
    "def evaluateRandomly(encoder_c, encoder_a, decoder, n=10):\n",
    "    for i in range(n):\n",
    "        pair = random.choice(pairs)\n",
    "        print('>', pair[0])\n",
    "        print('=', pair[1])\n",
    "        output_words = evaluate(encoder_c, encoder_a, decoder, pair[0], pair[1])\n",
    "        output_sentence = ' '.join(output_words)\n",
    "        print('<', output_sentence)\n",
    "        print('')"
   ],
   "metadata": {
    "collapsed": false
   }
  },
  {
   "cell_type": "code",
   "execution_count": null,
   "outputs": [],
   "source": [
    "evaluateRandomly(encoder_c, encoder_a, decoder)"
   ],
   "metadata": {
    "collapsed": false
   }
  },
  {
   "cell_type": "code",
   "execution_count": null,
   "outputs": [],
   "source": [
    "def DeleteAndRetrieve(sentence, style):\n",
    "    c_src = separate(sentence, 0)['c']\n",
    "    a_tgt = ' '.join(retrieve(sentence, not style)['a'])\n",
    "    return ' '.join(evaluate(encoder_c, encoder_a, decoder, c_src, a_tgt))"
   ],
   "metadata": {
    "collapsed": false
   }
  },
  {
   "cell_type": "markdown",
   "source": [
    "# STAGE 4: ADDITIONAL: FULL COPY ONLY ONE EPOCH"
   ],
   "metadata": {
    "collapsed": false
   }
  },
  {
   "cell_type": "code",
   "execution_count": null,
   "outputs": [],
   "source": [
    "class Maxout(nn.Module):\n",
    "    def __init__(self, pool_size):\n",
    "        super().__init__()\n",
    "        self._pool_size = pool_size\n",
    "\n",
    "    def forward(self, x):\n",
    "        assert x.shape[1] % self._pool_size == 0, \\\n",
    "            'Wrong input last dim size ({}) for Maxout({})'.format(x.shape[1], self._pool_size)\n",
    "        m, i = x.view(*x.shape[:1], x.shape[1] // self._pool_size, self._pool_size, *x.shape[2:]).max(2)\n",
    "        return m"
   ],
   "metadata": {
    "collapsed": false
   }
  },
  {
   "cell_type": "code",
   "execution_count": null,
   "outputs": [],
   "source": [
    "class EncoderRNN(nn.Module):\n",
    "    def __init__(self, input_size, word_vec_size, hidden_size):\n",
    "        super(EncoderRNN, self).__init__()\n",
    "        self.hidden_size = hidden_size\n",
    "\n",
    "        self.embedding = nn.Embedding(input_size, word_vec_size)\n",
    "        self.gru = nn.GRU(word_vec_size, hidden_size)\n",
    "\n",
    "    def forward(self, input, hidden):\n",
    "        embedded = self.embedding(input).view(1, 1, -1)\n",
    "        output = embedded\n",
    "        output, hidden = self.gru(output, hidden)\n",
    "        return output, hidden\n",
    "\n",
    "    def initHidden(self):\n",
    "        return torch.zeros(1, 1, self.hidden_size, device=device)"
   ],
   "metadata": {
    "collapsed": false
   }
  },
  {
   "cell_type": "code",
   "execution_count": null,
   "outputs": [],
   "source": [
    "class DecoderRNN(nn.Module):\n",
    "    def __init__(self, hidden_size, word_vec_size, output_size):\n",
    "        super(DecoderRNN, self).__init__()\n",
    "        self.hidden_size = hidden_size\n",
    "        self.embedding = nn.Embedding(output_size, word_vec_size)\n",
    "        self.gru = nn.GRU(word_vec_size, hidden_size)\n",
    "        self.out = nn.Linear(hidden_size, output_size)\n",
    "        self.softmax = nn.LogSoftmax(dim=1)\n",
    "        self.maxout = Maxout(1)\n",
    "\n",
    "    def forward(self, input, hidden):\n",
    "        output = self.embedding(input).view(1, 1, -1)\n",
    "        output = self.maxout(output)\n",
    "        output, hidden = self.gru(output, hidden)\n",
    "        output = self.softmax(self.out(output[0]))\n",
    "        return output, hidden\n",
    "\n",
    "    def initHidden(self):\n",
    "        return torch.zeros(1, 1, self.hidden_size, device=device)"
   ],
   "metadata": {
    "collapsed": false
   }
  },
  {
   "cell_type": "code",
   "execution_count": null,
   "outputs": [],
   "source": [
    "#Preparing Training Data\n",
    "def indexesFromSentence(lang, sentence):\n",
    "    return [lang.word2index[word] for word in sentence.split(' ')]\n",
    "\n",
    "\n",
    "def tensorFromSentence(lang, sentence):\n",
    "    indexes = indexesFromSentence(lang, sentence)\n",
    "    indexes.append(EOS_token)\n",
    "    return torch.tensor(indexes, dtype=torch.long, device=device).view(-1, 1)\n",
    "\n",
    "\n",
    "def tensorsFromPair(pair):\n",
    "    input_c_tensor = tensorFromSentence(input_lang, pair[0])\n",
    "    input_a_tensor = tensorFromSentence(input_lang, pair[1])\n",
    "    target_tensor = tensorFromSentence(output_lang, pair[2])\n",
    "    return (input_c_tensor, input_a_tensor, target_tensor)"
   ],
   "metadata": {
    "collapsed": false
   }
  },
  {
   "cell_type": "code",
   "execution_count": null,
   "outputs": [],
   "source": [
    "#Training\n",
    "MAX_LENGTH = 50\n",
    "\n",
    "teacher_forcing_ratio = 0.5\n",
    "\n",
    "\n",
    "def train(input_c_tensor, input_a_tensor, target_tensor, encoder_c, encoder_a, decoder, encoder_c_optimizer, encoder_a_optimizer, decoder_optimizer, criterion, max_length=MAX_LENGTH):\n",
    "    encoder_c_hidden = encoder_c.initHidden()\n",
    "    encoder_a_hidden = encoder_a.initHidden()\n",
    "\n",
    "    encoder_a_optimizer.zero_grad()\n",
    "    encoder_c_optimizer.zero_grad()\n",
    "\n",
    "    decoder_optimizer.zero_grad()\n",
    "\n",
    "    input_c_length = input_c_tensor.size(0)\n",
    "    input_a_length = input_a_tensor.size(0)\n",
    "\n",
    "    target_length = target_tensor.size(0)\n",
    "\n",
    "    encoder_c_outputs = torch.zeros(max_length, encoder_c.hidden_size, device=device)\n",
    "    encoder_a_outputs = torch.zeros(max_length, encoder_a.hidden_size, device=device)\n",
    "\n",
    "    loss = 0\n",
    "\n",
    "    for ei in range(input_c_length):\n",
    "        encoder_c_output, encoder_c_hidden = encoder_c(\n",
    "            input_c_tensor[ei], encoder_c_hidden)\n",
    "        encoder_c_outputs[ei] = encoder_c_output[0, 0]\n",
    "\n",
    "    for ei in range(input_a_length):\n",
    "        encoder_a_output, encoder_a_hidden = encoder_a(\n",
    "            input_a_tensor[ei], encoder_a_hidden)\n",
    "        encoder_a_outputs[ei] = encoder_a_output[0, 0]\n",
    "\n",
    "\n",
    "    decoder_input = torch.tensor([[SOS_token]], device=device)\n",
    "\n",
    "    decoder_hidden = torch.cat((encoder_c_hidden, encoder_a_hidden), 2)\n",
    "\n",
    "    use_teacher_forcing = True if random.random() < teacher_forcing_ratio else False\n",
    "\n",
    "    if use_teacher_forcing:\n",
    "        # Teacher forcing: Feed the target as the next input\n",
    "        for di in range(target_length):\n",
    "            decoder_output, decoder_hidden = decoder(\n",
    "                decoder_input, decoder_hidden)\n",
    "            loss += criterion(decoder_output, target_tensor[di])\n",
    "            decoder_input = target_tensor[di]  # Teacher forcing\n",
    "\n",
    "    else:\n",
    "        # Without teacher forcing: use its own predictions as the next input\n",
    "        for di in range(target_length):\n",
    "            decoder_output, decoder_hidden = decoder(\n",
    "                decoder_input, decoder_hidden)\n",
    "            topv, topi = decoder_output.topk(1)\n",
    "            decoder_input = topi.squeeze().detach()  # detach from history as input\n",
    "\n",
    "            loss += criterion(decoder_output, target_tensor[di])\n",
    "            if decoder_input.item() == EOS_token:\n",
    "                break\n",
    "\n",
    "    loss.backward()\n",
    "\n",
    "    encoder_c_optimizer.step()\n",
    "    encoder_a_optimizer.step()\n",
    "    decoder_optimizer.step()\n",
    "\n",
    "    return loss.item() / target_length"
   ],
   "metadata": {
    "collapsed": false
   }
  },
  {
   "cell_type": "code",
   "execution_count": null,
   "outputs": [],
   "source": [
    "import time\n",
    "import math\n",
    "\n",
    "def asMinutes(s):\n",
    "    m = math.floor(s / 60)\n",
    "    s -= m * 60\n",
    "    return '%dm %ds' % (m, s)\n",
    "\n",
    "\n",
    "def timeSince(since, percent):\n",
    "    now = time.time()\n",
    "    s = now - since\n",
    "    es = s / (percent)\n",
    "    rs = es - s\n",
    "    return '%s (- %s)' % (asMinutes(s), asMinutes(rs))"
   ],
   "metadata": {
    "collapsed": false
   }
  },
  {
   "cell_type": "code",
   "execution_count": null,
   "outputs": [],
   "source": [
    "import matplotlib.pyplot as plt\n",
    "plt.switch_backend('agg')\n",
    "import matplotlib.ticker as ticker\n",
    "import numpy as np\n",
    "\n",
    "\n",
    "def showPlot(points):\n",
    "    plt.figure()\n",
    "    fig, ax = plt.subplots()\n",
    "    # this locator puts ticks at regular intervals\n",
    "    loc = ticker.MultipleLocator(base=0.2)\n",
    "    ax.yaxis.set_major_locator(loc)\n",
    "    plt.plot(points)"
   ],
   "metadata": {
    "collapsed": false
   }
  },
  {
   "cell_type": "code",
   "execution_count": null,
   "outputs": [],
   "source": [
    "def trainIters(encoder_a, encoder_c, decoder, n_iters, print_every=1000, plot_every=100, learning_rate=0.01):\n",
    "    start = time.time()\n",
    "    plot_losses = []\n",
    "    print_loss_total = 0  # Reset every print_every\n",
    "    plot_loss_total = 0  # Reset every plot_every\n",
    "\n",
    "    encoder_c_optimizer = optim.Adadelta(encoder_c.parameters(), lr=learning_rate)\n",
    "    encoder_a_optimizer = optim.Adadelta(encoder_a.parameters(), lr=learning_rate)\n",
    "    decoder_optimizer = optim.Adadelta(decoder.parameters(), lr=learning_rate)\n",
    "    training_pairs = [tensorsFromPair(random.choice(pairs))\n",
    "                      for i in range(n_iters)]\n",
    "    criterion = nn.NLLLoss()\n",
    "\n",
    "    for iter in range(1, n_iters + 1):\n",
    "        training_pair = training_pairs[iter - 1]\n",
    "        input_a_tensor = training_pair[0]\n",
    "        input_c_tensor = training_pair[1]\n",
    "\n",
    "        target_tensor = training_pair[2]\n",
    "        loss = train(input_c_tensor, input_a_tensor, target_tensor, encoder_c, encoder_a,\n",
    "                     decoder, encoder_c_optimizer, encoder_c_optimizer, decoder_optimizer, criterion)\n",
    "        print_loss_total += loss\n",
    "        plot_loss_total += loss\n",
    "\n",
    "        if iter % print_every == 0:\n",
    "            print_loss_avg = print_loss_total / print_every\n",
    "            print_loss_total = 0\n",
    "            print('%s (%d %d%%) %.4f' % (timeSince(start, iter / n_iters),\n",
    "                                         iter, iter / n_iters * 100, print_loss_avg))\n",
    "\n",
    "        if iter % plot_every == 0:\n",
    "            plot_loss_avg = plot_loss_total / plot_every\n",
    "            plot_losses.append(plot_loss_avg)\n",
    "            plot_loss_total = 0\n",
    "\n",
    "    showPlot(plot_losses)"
   ],
   "metadata": {
    "collapsed": false
   }
  },
  {
   "cell_type": "code",
   "execution_count": null,
   "outputs": [],
   "source": [
    "word_vec_size = 128\n",
    "hidden_size = 512\n",
    "encoder_c = EncoderRNN(input_lang.n_words, word_vec_size, hidden_size).to(device)\n",
    "encoder_a = EncoderRNN(input_lang.n_words, word_vec_size, hidden_size).to(device)\n",
    "\n",
    "decoder = DecoderRNN(hidden_size + hidden_size, word_vec_size, output_lang.n_words).to(device)"
   ],
   "metadata": {
    "collapsed": false
   }
  },
  {
   "cell_type": "code",
   "execution_count": null,
   "outputs": [],
   "source": [
    "# len(pairs)"
   ],
   "metadata": {
    "collapsed": false
   }
  },
  {
   "cell_type": "code",
   "execution_count": null,
   "outputs": [],
   "source": [
    "trainIters(encoder_c, encoder_a, decoder, 8613, print_every=200)"
   ],
   "metadata": {
    "collapsed": false
   }
  },
  {
   "cell_type": "markdown",
   "source": [
    "# Stage 5: DeleteOnly"
   ],
   "metadata": {
    "collapsed": false
   }
  },
  {
   "cell_type": "code",
   "execution_count": 78,
   "outputs": [],
   "source": [
    "# Resources: https://pytorch.org/tutorials/intermediate/seq2seq_translation_tutorial.html\n",
    "# Had to modify & adapt most of the code in the tutorial since this isn't translation & data preprocessing is different\n",
    "\n",
    "SOS_token = 0\n",
    "EOS_token = 1\n",
    "\n",
    "\n",
    "class Lang:\n",
    "    def __init__(self, name):\n",
    "        self.name = name\n",
    "        self.word2index = {}\n",
    "        self.word2count = {}\n",
    "        self.index2word = {0: \"SOS\", 1: \"EOS\"}\n",
    "        self.n_words = 2  # Count SOS and EOS\n",
    "\n",
    "    def addSentence(self, sentence):\n",
    "        for word in sentence.split(' '):\n",
    "            self.addWord(word)\n",
    "\n",
    "    def addWord(self, word):\n",
    "        if word not in self.word2index:\n",
    "            self.word2index[word] = self.n_words\n",
    "            self.word2count[word] = 1\n",
    "            self.index2word[self.n_words] = word\n",
    "            self.n_words += 1\n",
    "        else:\n",
    "            self.word2count[word] += 1"
   ],
   "metadata": {
    "collapsed": false
   }
  },
  {
   "cell_type": "code",
   "execution_count": 79,
   "outputs": [],
   "source": [
    "param_t = 4\n",
    "\n",
    "def prepareData():\n",
    "    input_lang = Lang(\"input\")\n",
    "    output_lang = Lang(\"output\")\n",
    "    pairs = []\n",
    "    for sentence in clickbait_l_c:\n",
    "        pairs.append([get_c(sentence, 1, param_t), sentence, 1])\n",
    "\n",
    "    for sentence in nonclickbait_l_c:\n",
    "        pairs.append([get_c(sentence, 0, param_t), sentence, 0])\n",
    "\n",
    "    for pair in pairs:\n",
    "        input_lang.addSentence(pair[0])\n",
    "        output_lang.addSentence(pair[1])\n",
    "\n",
    "    print(\"Counted words:\")\n",
    "    print(input_lang.name, input_lang.n_words)\n",
    "    print(output_lang.name, output_lang.n_words)\n",
    "    return input_lang, output_lang, pairs\n",
    "\n"
   ],
   "metadata": {
    "collapsed": false
   }
  },
  {
   "cell_type": "code",
   "execution_count": 80,
   "outputs": [
    {
     "name": "stderr",
     "output_type": "stream",
     "text": [
      "/var/folders/1n/2gdy6g815s301ygx2s35p6_80000gp/T/ipykernel_44240/4054946038.py:16: VisibleDeprecationWarning: Creating an ndarray from ragged nested sequences (which is a list-or-tuple of lists-or-tuples-or ndarrays with different lengths or shapes) is deprecated. If you meant to do this, you must specify 'dtype=object' when creating the ndarray.\n",
      "  return np.array(ngram_compare_arr)\n"
     ]
    },
    {
     "name": "stdout",
     "output_type": "stream",
     "text": [
      "Counted words:\n",
      "input 13380\n",
      "output 13896\n"
     ]
    }
   ],
   "source": [
    "input_lang, output_lang, pairs = prepareData()"
   ],
   "metadata": {
    "collapsed": false
   }
  },
  {
   "cell_type": "code",
   "execution_count": 81,
   "outputs": [
    {
     "name": "stdout",
     "output_type": "stream",
     "text": [
      "Counted words:\n",
      "input 13927\n",
      "output 13927\n"
     ]
    }
   ],
   "source": [
    "for pair in pairs:\n",
    "    input_lang.addSentence(pair[0])\n",
    "    output_lang.addSentence(pair[1])\n",
    "for pair in pairs:\n",
    "    input_lang.addSentence(pair[1])\n",
    "    output_lang.addSentence(pair[0])\n",
    "\n",
    "print(\"Counted words:\")\n",
    "print(input_lang.name, input_lang.n_words)\n",
    "print(output_lang.name, output_lang.n_words)"
   ],
   "metadata": {
    "collapsed": false
   }
  },
  {
   "cell_type": "code",
   "execution_count": 82,
   "outputs": [],
   "source": [
    "class EncoderRNN(nn.Module):\n",
    "    def __init__(self, input_size, word_vec_size, hidden_size, weight):\n",
    "        super(EncoderRNN, self).__init__()\n",
    "        self.hidden_size = hidden_size\n",
    "\n",
    "        # self.embedding = nn.Embedding(input_size, word_vec_size)\n",
    "        self.embedding = nn.Embedding.from_pretrained(weight)\n",
    "        self.gru = nn.GRU(word_vec_size, hidden_size)\n",
    "\n",
    "    def forward(self, input, hidden):\n",
    "        embedded = self.embedding(input).view(1, 1, -1)\n",
    "        output = embedded\n",
    "        output, hidden = self.gru(output, hidden)\n",
    "        return output, hidden\n",
    "\n",
    "    def initHidden(self):\n",
    "        return torch.zeros(1, 1, self.hidden_size, device=device)"
   ],
   "metadata": {
    "collapsed": false
   }
  },
  {
   "cell_type": "code",
   "execution_count": 83,
   "outputs": [],
   "source": [
    "class StyleEmbedder(nn.Module):\n",
    "    def __init__(self, num_styles, dimensions):\n",
    "        super(StyleEmbedder, self).__init__()\n",
    "        self.dimensions = dimensions\n",
    "        self.embedding = nn.Embedding(num_styles, dimensions)\n",
    "\n",
    "    def forward(self, input):\n",
    "        embedded = self.embedding(input).view(1, 1, -1)\n",
    "        return embedded"
   ],
   "metadata": {
    "collapsed": false
   }
  },
  {
   "cell_type": "code",
   "execution_count": 84,
   "outputs": [],
   "source": [
    "class Maxout(nn.Module):\n",
    "    def __init__(self, pool_size):\n",
    "        super().__init__()\n",
    "        self._pool_size = pool_size\n",
    "\n",
    "    def forward(self, x):\n",
    "        assert x.shape[1] % self._pool_size == 0, \\\n",
    "            'Wrong input last dim size ({}) for Maxout({})'.format(x.shape[1], self._pool_size)\n",
    "        m, i = x.view(*x.shape[:1], x.shape[1] // self._pool_size, self._pool_size, *x.shape[2:]).max(2)\n",
    "        return m"
   ],
   "metadata": {
    "collapsed": false
   }
  },
  {
   "cell_type": "code",
   "execution_count": 85,
   "outputs": [],
   "source": [
    "class DecoderRNN(nn.Module):\n",
    "    def __init__(self, hidden_size, word_vec_size, output_size,weight):\n",
    "        super(DecoderRNN, self).__init__()\n",
    "        self.hidden_size = hidden_size\n",
    "\n",
    "        # self.embedding = nn.Embedding(output_size, word_vec_size)\n",
    "        self.embedding = nn.Embedding.from_pretrained(weight)\n",
    "\n",
    "        self.gru = nn.GRU(word_vec_size, hidden_size)\n",
    "        self.out = nn.Linear(hidden_size, output_size)\n",
    "        self.softmax = nn.LogSoftmax(dim=1)\n",
    "        self.maxout = Maxout(1)\n",
    "\n",
    "    def forward(self, input, hidden):\n",
    "        output = self.embedding(input).view(1, 1, -1)\n",
    "        output = self.maxout(output)\n",
    "        output, hidden = self.gru(output, hidden)\n",
    "        output = self.softmax(self.out(output[0]))\n",
    "        return output, hidden\n",
    "\n",
    "    def initHidden(self):\n",
    "        return torch.zeros(1, 1, self.hidden_size, device=device)"
   ],
   "metadata": {
    "collapsed": false
   }
  },
  {
   "cell_type": "code",
   "execution_count": 86,
   "outputs": [],
   "source": [
    "#Preparing Training Data\n",
    "def indexesFromSentence(lang, sentence):\n",
    "    return [lang.word2index[word] for word in sentence.split(' ')]\n",
    "\n",
    "\n",
    "def tensorFromSentence(lang, sentence):\n",
    "    indexes = indexesFromSentence(lang, sentence)\n",
    "    indexes.append(EOS_token)\n",
    "    return torch.tensor(indexes, dtype=torch.long, device=device).view(-1, 1)\n",
    "\n",
    "def tensorFromStyle(style):\n",
    "    #     one_hot_encoded_style = []\n",
    "    #     if style:\n",
    "    #         one_hot_encoded_style = [1,0]\n",
    "    #     else:\n",
    "    #         one_hot_encoded_style = [0,1]\n",
    "    return torch.tensor(style, dtype=torch.long, device=device).view(-1, 1)\n",
    "\n",
    "def tensorsFromPair(pair):\n",
    "    input_tensor = tensorFromSentence(input_lang, pair[0])\n",
    "    target_tensor = tensorFromSentence(output_lang, pair[1])\n",
    "    style_tensor = tensorFromStyle(pair[2])\n",
    "    return (input_tensor, style_tensor, target_tensor)  #add style_tensor"
   ],
   "metadata": {
    "collapsed": false
   }
  },
  {
   "cell_type": "code",
   "execution_count": 87,
   "outputs": [],
   "source": [
    "#Training\n",
    "MAX_LENGTH = 50\n",
    "\n",
    "teacher_forcing_ratio = 0.5\n",
    "\n",
    "\n",
    "def train(\n",
    "        input_tensor,\n",
    "        style_tensor,\n",
    "        target_tensor,\n",
    "\n",
    "        encoder,\n",
    "        style_embedder,\n",
    "        decoder,\n",
    "\n",
    "        encoder_optimizer,\n",
    "        style_embedder_optimizer,\n",
    "        decoder_optimizer,\n",
    "\n",
    "        criterion,\n",
    "        max_length=MAX_LENGTH):\n",
    "\n",
    "\n",
    "    encoder_hidden = encoder.initHidden()\n",
    "\n",
    "    encoder_optimizer.zero_grad()\n",
    "    decoder_optimizer.zero_grad()\n",
    "    style_embedder_optimizer.zero_grad()\n",
    "\n",
    "    input_length = input_tensor.size(0)\n",
    "    target_length = target_tensor.size(0)\n",
    "\n",
    "    encoder_outputs = torch.zeros(max_length, encoder.hidden_size, device=device)\n",
    "\n",
    "    loss = 0\n",
    "\n",
    "    for ei in range(input_length):\n",
    "        encoder_output, encoder_hidden = encoder(\n",
    "            input_tensor[ei], encoder_hidden)\n",
    "        encoder_outputs[ei] = encoder_output[0, 0]\n",
    "\n",
    "\n",
    "    decoder_input = torch.tensor([[SOS_token]], device=device)\n",
    "\n",
    "    #calculate style embedding\n",
    "    style_embedding = style_embedder(style_tensor)\n",
    "\n",
    "    decoder_hidden = torch.cat((encoder_hidden, style_embedding), 2) #TODO: concatenate style embedding\n",
    "\n",
    "    use_teacher_forcing = True if random.random() < teacher_forcing_ratio else False\n",
    "\n",
    "    if use_teacher_forcing:\n",
    "        # Teacher forcing: Feed the target as the next input\n",
    "        for di in range(target_length):\n",
    "            decoder_output, decoder_hidden = decoder(\n",
    "                decoder_input, decoder_hidden)\n",
    "            loss += criterion(decoder_output, target_tensor[di])\n",
    "            decoder_input = target_tensor[di]  # Teacher forcing\n",
    "\n",
    "    else:\n",
    "        # Without teacher forcing: use its own predictions as the next input\n",
    "        for di in range(target_length):\n",
    "            decoder_output, decoder_hidden = decoder(\n",
    "                decoder_input, decoder_hidden)\n",
    "            topv, topi = decoder_output.topk(1)\n",
    "            decoder_input = topi.squeeze().detach()  # detach from history as input\n",
    "\n",
    "            loss += criterion(decoder_output, target_tensor[di])\n",
    "            if decoder_input.item() == EOS_token:\n",
    "                break\n",
    "\n",
    "    loss.backward()\n",
    "\n",
    "    encoder_optimizer.step()\n",
    "    #style embedding\n",
    "    style_embedder_optimizer.step()\n",
    "\n",
    "    decoder_optimizer.step()\n",
    "\n",
    "\n",
    "    return loss.item() / target_length"
   ],
   "metadata": {
    "collapsed": false
   }
  },
  {
   "cell_type": "code",
   "execution_count": 88,
   "outputs": [],
   "source": [
    "import matplotlib.pyplot as plt\n",
    "plt.switch_backend('agg')\n",
    "import matplotlib.ticker as ticker\n",
    "import numpy as np\n",
    "\n",
    "\n",
    "def showPlot(points):\n",
    "    plt.figure()\n",
    "    fig, ax = plt.subplots()\n",
    "    # this locator puts ticks at regular intervals\n",
    "    loc = ticker.MultipleLocator(base=0.2)\n",
    "    ax.yaxis.set_major_locator(loc)\n",
    "    plt.plot(points)\n",
    "\n",
    "import time\n",
    "import math\n",
    "\n",
    "def asMinutes(s):\n",
    "    m = math.floor(s / 60)\n",
    "    s -= m * 60\n",
    "    return '%dm %ds' % (m, s)\n",
    "\n",
    "def timeSince(since, percent):\n",
    "    now = time.time()\n",
    "    s = now - since\n",
    "    es = s / (percent)\n",
    "    rs = es - s\n",
    "    return '%s (- %s)' % (asMinutes(s), asMinutes(rs))"
   ],
   "metadata": {
    "collapsed": false
   }
  },
  {
   "cell_type": "code",
   "execution_count": 89,
   "outputs": [],
   "source": [
    "def trainIters(\n",
    "        encoder,\n",
    "        style_embedder,\n",
    "        decoder,\n",
    "\n",
    "        criterion,\n",
    "        encoder_optimizer,\n",
    "        style_embedder_optimizer,\n",
    "        decoder_optimizer,\n",
    "\n",
    "        n_iters,\n",
    "        print_every=1000,\n",
    "        plot_every=100,\n",
    "        learning_rate=0.01):\n",
    "\n",
    "    start = time.time()\n",
    "    plot_losses = []\n",
    "    print_loss_total = 0  # Reset every print_every\n",
    "    plot_loss_total = 0  # Reset every plot_every\n",
    "\n",
    "    encoder.train()\n",
    "    style_embedder.train()\n",
    "    decoder.train()\n",
    "\n",
    "    # encoder_optimizer = optim.Adadelta(encoder.parameters(), lr=learning_rate)\n",
    "    # decoder_optimizer = optim.Adadelta(decoder.parameters(), lr=learning_rate)\n",
    "    # style_embedder_optimizer = optim.Adadelta(style_embedder.parameters(), lr=learning_rate)\n",
    "\n",
    "    training_pairs = [tensorsFromPair(random.choice(pairs))for i in range(n_iters)]\n",
    "    # criterion = nn.NLLLoss()\n",
    "\n",
    "    ouput_loss_total = 0\n",
    "\n",
    "    for iter in range(1, n_iters + 1):\n",
    "        training_pair = training_pairs[iter - 1]\n",
    "        input_tensor = training_pair[0]\n",
    "        style_tensor = training_pair[1]\n",
    "        target_tensor = training_pair[2]\n",
    "\n",
    "        loss = train(input_tensor, style_tensor, target_tensor, encoder, style_embedder,\n",
    "                     decoder, encoder_optimizer, style_embedder_optimizer, decoder_optimizer, criterion)\n",
    "\n",
    "        print_loss_total += loss\n",
    "        plot_loss_total += loss\n",
    "        ouput_loss_total += loss\n",
    "\n",
    "        if iter % print_every == 0:\n",
    "            print_loss_avg = print_loss_total / print_every\n",
    "            print_loss_total = 0\n",
    "            print('%s (%d %d%%) %.4f' % (timeSince(start, iter / n_iters),\n",
    "                                         iter, iter / n_iters * 100, print_loss_avg))\n",
    "\n",
    "        if iter % plot_every == 0:\n",
    "            plot_loss_avg = plot_loss_total / plot_every\n",
    "            plot_losses.append(plot_loss_avg)\n",
    "            plot_loss_total = 0\n",
    "\n",
    "    showPlot(plot_losses)\n",
    "    return ouput_loss_total/n_iters"
   ],
   "metadata": {
    "collapsed": false
   }
  },
  {
   "cell_type": "code",
   "execution_count": 90,
   "outputs": [],
   "source": [
    "def evaluating(\n",
    "        encoder,\n",
    "        style_embedder,\n",
    "        decoder,\n",
    "\n",
    "        criterion,\n",
    "        n_iters,\n",
    "        plot_every : int =10,\n",
    "        max_length=MAX_LENGTH\n",
    "):\n",
    "\n",
    "    encoder.eval()\n",
    "    style_embedder.eval()\n",
    "    decoder.eval()\n",
    "\n",
    "    plot_losses = []\n",
    "    plot_loss_total = 0\n",
    "    loss_total_output = 0\n",
    "\n",
    "    training_pairs = [tensorsFromPair(random.choice(pairs)) for i in range(n_iters)]\n",
    "    # training_pairs = [tensorsFromPair(random.choice(pairs)) for i in range(n_iters)]\n",
    "\n",
    "    start: float = time.time()\n",
    "\n",
    "    with torch.no_grad():\n",
    "        for iter  in  range(1, n_iters + 1):\n",
    "            # taking the pair and extract the c, a, target\n",
    "            training_pair = training_pairs[iter - 1]\n",
    "            input_tensor = training_pair[0]\n",
    "            style_tensor = training_pair[1]\n",
    "            target_tensor = training_pair[2]\n",
    "\n",
    "            encoder_hidden = encoder.initHidden()\n",
    "\n",
    "            encoder_optimizer.zero_grad()\n",
    "            decoder_optimizer.zero_grad()\n",
    "            #style embedding\n",
    "            style_embedder_optimizer.zero_grad()\n",
    "\n",
    "\n",
    "            input_length = input_tensor.size(0)\n",
    "            target_length = target_tensor.size(0)\n",
    "\n",
    "            encoder_outputs = torch.zeros(max_length, encoder.hidden_size, device=device)\n",
    "\n",
    "            loss = 0\n",
    "\n",
    "            for ei in range(input_length):\n",
    "                encoder_output, encoder_hidden = encoder(\n",
    "                    input_tensor[ei], encoder_hidden)\n",
    "                encoder_outputs[ei] = encoder_output[0, 0]\n",
    "\n",
    "\n",
    "            decoder_input = torch.tensor([[SOS_token]], device=device)\n",
    "\n",
    "            #calculate style embedding\n",
    "            style_embedding = style_embedder(style_tensor)\n",
    "\n",
    "            decoder_hidden = torch.cat((encoder_hidden, style_embedding), 2) #TODO: concatenate style embedding\n",
    "\n",
    "            use_teacher_forcing = True if random.random() < teacher_forcing_ratio else False\n",
    "\n",
    "            if use_teacher_forcing:\n",
    "                # Teacher forcing: Feed the target as the next input\n",
    "                for di in range(target_length):\n",
    "                    decoder_output, decoder_hidden = decoder(\n",
    "                        decoder_input, decoder_hidden)\n",
    "                    loss += criterion(decoder_output, target_tensor[di])\n",
    "                    decoder_input = target_tensor[di]  # Teacher forcing\n",
    "\n",
    "            else:\n",
    "                # Without teacher forcing: use its own predictions as the next input\n",
    "                for di in range(target_length):\n",
    "                    decoder_output, decoder_hidden = decoder(\n",
    "                        decoder_input, decoder_hidden)\n",
    "                    topv, topi = decoder_output.topk(1)\n",
    "                    decoder_input = topi.squeeze().detach()  # detach from history as input\n",
    "\n",
    "                    loss += criterion(decoder_output, target_tensor[di])\n",
    "                    if decoder_input.item() == EOS_token:\n",
    "                        break\n",
    "\n",
    "            l = loss.item() / target_length\n",
    "            # END: Eval Func\n",
    "\n",
    "            loss_total_output += l\n",
    "            plot_loss_total += l\n",
    "\n",
    "            if iter % plot_every == 0:\n",
    "                plot_loss_avg = plot_loss_total / plot_every\n",
    "                plot_losses.append(plot_loss_avg)\n",
    "                # print('%s (%d %d%%) %.4f' % (timeSince(start, iter / n_iters),\n",
    "                #                              iter, iter / n_iters * 100, plot_loss_avg))\n",
    "                plot_loss_total = 0\n",
    "\n",
    "        showPlot(plot_losses)\n",
    "\n",
    "    return loss_total_output/ n_iters"
   ],
   "metadata": {
    "collapsed": false
   }
  },
  {
   "cell_type": "code",
   "execution_count": 92,
   "outputs": [],
   "source": [
    "# word_vec_size = 128\n",
    "word_vec_size = ft.vector_size\n",
    "\n",
    "hidden_size = 512\n",
    "style_vec_size = 128\n",
    "\n",
    "# encoder1 = EncoderRNN(input_lang.n_words, word_vec_size, hidden_size).to(device)\n",
    "# decoder1 = DecoderRNN(hidden_size + style_vec_size, word_vec_size, output_lang.n_words).to(device)\n",
    "\n",
    "encoder1 = EncoderRNN(input_lang.n_words, word_vec_size, hidden_size, embedding_matrix_ft_input).to(device)\n",
    "decoder1 = DecoderRNN(hidden_size + style_vec_size, word_vec_size, output_lang.n_words, embedding_matrix_ft_output).to(device)\n",
    "\n",
    "style_embedder1 = StyleEmbedder(2, style_vec_size).to(device)"
   ],
   "metadata": {
    "collapsed": false
   }
  },
  {
   "cell_type": "code",
   "execution_count": 94,
   "outputs": [
    {
     "name": "stdout",
     "output_type": "stream",
     "text": [
      "0m 6s (- 2m 29s) (20 4%) 5.6562\n",
      "0m 12s (- 2m 23s) (40 8%) 6.7899\n",
      "0m 17s (- 2m 11s) (60 12%) 6.1643\n",
      "0m 24s (- 2m 10s) (80 16%) 6.7491\n",
      "0m 32s (- 2m 9s) (100 20%) 7.1132\n",
      "0m 39s (- 2m 4s) (120 24%) 7.6527\n",
      "0m 46s (- 2m 0s) (140 28%) 7.2228\n",
      "0m 53s (- 1m 53s) (160 32%) 7.1589\n",
      "0m 59s (- 1m 45s) (180 36%) 7.3757\n",
      "1m 5s (- 1m 38s) (200 40%) 7.0133\n",
      "1m 12s (- 1m 32s) (220 44%) 6.8911\n",
      "1m 24s (- 1m 31s) (240 48%) 7.1854\n",
      "1m 30s (- 1m 23s) (260 52%) 6.7948\n",
      "1m 35s (- 1m 15s) (280 56%) 6.3255\n",
      "1m 42s (- 1m 8s) (300 60%) 7.1648\n",
      "1m 48s (- 1m 1s) (320 64%) 7.3104\n",
      "1m 55s (- 0m 54s) (340 68%) 7.3726\n",
      "2m 2s (- 0m 47s) (360 72%) 7.3812\n",
      "2m 8s (- 0m 40s) (380 76%) 7.4629\n",
      "2m 15s (- 0m 33s) (400 80%) 7.2371\n",
      "2m 21s (- 0m 27s) (420 84%) 7.0916\n"
     ]
    },
    {
     "ename": "KeyboardInterrupt",
     "evalue": "",
     "output_type": "error",
     "traceback": [
      "\u001B[0;31m---------------------------------------------------------------------------\u001B[0m",
      "\u001B[0;31mKeyboardInterrupt\u001B[0m                         Traceback (most recent call last)",
      "Input \u001B[0;32mIn [94]\u001B[0m, in \u001B[0;36m<cell line: 15>\u001B[0;34m()\u001B[0m\n\u001B[1;32m     15\u001B[0m \u001B[38;5;28;01mfor\u001B[39;00m epoch \u001B[38;5;129;01min\u001B[39;00m \u001B[38;5;28mrange\u001B[39m(N_EPOCHS):\n\u001B[1;32m     17\u001B[0m     start_time \u001B[38;5;241m=\u001B[39m time\u001B[38;5;241m.\u001B[39mtime()\n\u001B[0;32m---> 19\u001B[0m     train_loss \u001B[38;5;241m=\u001B[39m \u001B[43mtrainIters\u001B[49m\u001B[43m(\u001B[49m\n\u001B[1;32m     20\u001B[0m \u001B[43m        \u001B[49m\u001B[43mencoder1\u001B[49m\u001B[43m,\u001B[49m\n\u001B[1;32m     21\u001B[0m \u001B[43m        \u001B[49m\u001B[43mstyle_embedder1\u001B[49m\u001B[43m,\u001B[49m\n\u001B[1;32m     22\u001B[0m \u001B[43m        \u001B[49m\u001B[43mdecoder1\u001B[49m\u001B[43m,\u001B[49m\n\u001B[1;32m     23\u001B[0m \n\u001B[1;32m     24\u001B[0m \u001B[43m        \u001B[49m\u001B[43mcriterion1\u001B[49m\u001B[43m,\u001B[49m\n\u001B[1;32m     25\u001B[0m \u001B[43m        \u001B[49m\u001B[43mencoder_optimizer\u001B[49m\u001B[43m,\u001B[49m\n\u001B[1;32m     26\u001B[0m \u001B[43m        \u001B[49m\u001B[43mstyle_embedder_optimizer\u001B[49m\u001B[43m,\u001B[49m\n\u001B[1;32m     27\u001B[0m \u001B[43m        \u001B[49m\u001B[43mdecoder_optimizer\u001B[49m\u001B[43m,\u001B[49m\n\u001B[1;32m     28\u001B[0m \u001B[43m        \u001B[49m\u001B[43mTRAINING_DATASET_SIZE\u001B[49m\u001B[43m,\u001B[49m\n\u001B[1;32m     29\u001B[0m \u001B[43m        \u001B[49m\u001B[43mprint_every\u001B[49m\u001B[38;5;241;43m=\u001B[39;49m\u001B[38;5;241;43m20\u001B[39;49m\n\u001B[1;32m     30\u001B[0m \u001B[43m    \u001B[49m\u001B[43m)\u001B[49m\n\u001B[1;32m     32\u001B[0m     \u001B[38;5;66;03m# valid_loss = evaluating(encoder_a, encoder_c, decoder, criterion, EVALUATION_DATASET_SIZE, plot_every=20)\u001B[39;00m\n\u001B[1;32m     34\u001B[0m     valid_loss \u001B[38;5;241m=\u001B[39m evaluating(\n\u001B[1;32m     35\u001B[0m         encoder1,\n\u001B[1;32m     36\u001B[0m         style_embedder1,\n\u001B[0;32m   (...)\u001B[0m\n\u001B[1;32m     39\u001B[0m         EVALUATION_DATASET_SIZE,\n\u001B[1;32m     40\u001B[0m         plot_every\u001B[38;5;241m=\u001B[39m\u001B[38;5;241m20\u001B[39m)\n",
      "Input \u001B[0;32mIn [89]\u001B[0m, in \u001B[0;36mtrainIters\u001B[0;34m(encoder, style_embedder, decoder, criterion, encoder_optimizer, style_embedder_optimizer, decoder_optimizer, n_iters, print_every, plot_every, learning_rate)\u001B[0m\n\u001B[1;32m     37\u001B[0m style_tensor \u001B[38;5;241m=\u001B[39m training_pair[\u001B[38;5;241m1\u001B[39m]\n\u001B[1;32m     38\u001B[0m target_tensor \u001B[38;5;241m=\u001B[39m training_pair[\u001B[38;5;241m2\u001B[39m]\n\u001B[0;32m---> 40\u001B[0m loss \u001B[38;5;241m=\u001B[39m \u001B[43mtrain\u001B[49m\u001B[43m(\u001B[49m\u001B[43minput_tensor\u001B[49m\u001B[43m,\u001B[49m\u001B[43m \u001B[49m\u001B[43mstyle_tensor\u001B[49m\u001B[43m,\u001B[49m\u001B[43m \u001B[49m\u001B[43mtarget_tensor\u001B[49m\u001B[43m,\u001B[49m\u001B[43m \u001B[49m\u001B[43mencoder\u001B[49m\u001B[43m,\u001B[49m\u001B[43m \u001B[49m\u001B[43mstyle_embedder\u001B[49m\u001B[43m,\u001B[49m\n\u001B[1;32m     41\u001B[0m \u001B[43m             \u001B[49m\u001B[43mdecoder\u001B[49m\u001B[43m,\u001B[49m\u001B[43m \u001B[49m\u001B[43mencoder_optimizer\u001B[49m\u001B[43m,\u001B[49m\u001B[43m \u001B[49m\u001B[43mstyle_embedder_optimizer\u001B[49m\u001B[43m,\u001B[49m\u001B[43m \u001B[49m\u001B[43mdecoder_optimizer\u001B[49m\u001B[43m,\u001B[49m\u001B[43m \u001B[49m\u001B[43mcriterion\u001B[49m\u001B[43m)\u001B[49m\n\u001B[1;32m     43\u001B[0m print_loss_total \u001B[38;5;241m+\u001B[39m\u001B[38;5;241m=\u001B[39m loss\n\u001B[1;32m     44\u001B[0m plot_loss_total \u001B[38;5;241m+\u001B[39m\u001B[38;5;241m=\u001B[39m loss\n",
      "Input \u001B[0;32mIn [87]\u001B[0m, in \u001B[0;36mtrain\u001B[0;34m(input_tensor, style_tensor, target_tensor, encoder, style_embedder, decoder, encoder_optimizer, style_embedder_optimizer, decoder_optimizer, criterion, max_length)\u001B[0m\n\u001B[1;32m     69\u001B[0m         \u001B[38;5;28;01mif\u001B[39;00m decoder_input\u001B[38;5;241m.\u001B[39mitem() \u001B[38;5;241m==\u001B[39m EOS_token:\n\u001B[1;32m     70\u001B[0m             \u001B[38;5;28;01mbreak\u001B[39;00m\n\u001B[0;32m---> 72\u001B[0m \u001B[43mloss\u001B[49m\u001B[38;5;241;43m.\u001B[39;49m\u001B[43mbackward\u001B[49m\u001B[43m(\u001B[49m\u001B[43m)\u001B[49m\n\u001B[1;32m     74\u001B[0m encoder_optimizer\u001B[38;5;241m.\u001B[39mstep()\n\u001B[1;32m     75\u001B[0m \u001B[38;5;66;03m#style embedding\u001B[39;00m\n",
      "File \u001B[0;32m~/.conda/envs/workspace/lib/python3.8/site-packages/torch/_tensor.py:255\u001B[0m, in \u001B[0;36mTensor.backward\u001B[0;34m(self, gradient, retain_graph, create_graph, inputs)\u001B[0m\n\u001B[1;32m    246\u001B[0m \u001B[38;5;28;01mif\u001B[39;00m has_torch_function_unary(\u001B[38;5;28mself\u001B[39m):\n\u001B[1;32m    247\u001B[0m     \u001B[38;5;28;01mreturn\u001B[39;00m handle_torch_function(\n\u001B[1;32m    248\u001B[0m         Tensor\u001B[38;5;241m.\u001B[39mbackward,\n\u001B[1;32m    249\u001B[0m         (\u001B[38;5;28mself\u001B[39m,),\n\u001B[0;32m   (...)\u001B[0m\n\u001B[1;32m    253\u001B[0m         create_graph\u001B[38;5;241m=\u001B[39mcreate_graph,\n\u001B[1;32m    254\u001B[0m         inputs\u001B[38;5;241m=\u001B[39minputs)\n\u001B[0;32m--> 255\u001B[0m \u001B[43mtorch\u001B[49m\u001B[38;5;241;43m.\u001B[39;49m\u001B[43mautograd\u001B[49m\u001B[38;5;241;43m.\u001B[39;49m\u001B[43mbackward\u001B[49m\u001B[43m(\u001B[49m\u001B[38;5;28;43mself\u001B[39;49m\u001B[43m,\u001B[49m\u001B[43m \u001B[49m\u001B[43mgradient\u001B[49m\u001B[43m,\u001B[49m\u001B[43m \u001B[49m\u001B[43mretain_graph\u001B[49m\u001B[43m,\u001B[49m\u001B[43m \u001B[49m\u001B[43mcreate_graph\u001B[49m\u001B[43m,\u001B[49m\u001B[43m \u001B[49m\u001B[43minputs\u001B[49m\u001B[38;5;241;43m=\u001B[39;49m\u001B[43minputs\u001B[49m\u001B[43m)\u001B[49m\n",
      "File \u001B[0;32m~/.conda/envs/workspace/lib/python3.8/site-packages/torch/autograd/__init__.py:147\u001B[0m, in \u001B[0;36mbackward\u001B[0;34m(tensors, grad_tensors, retain_graph, create_graph, grad_variables, inputs)\u001B[0m\n\u001B[1;32m    144\u001B[0m \u001B[38;5;28;01mif\u001B[39;00m retain_graph \u001B[38;5;129;01mis\u001B[39;00m \u001B[38;5;28;01mNone\u001B[39;00m:\n\u001B[1;32m    145\u001B[0m     retain_graph \u001B[38;5;241m=\u001B[39m create_graph\n\u001B[0;32m--> 147\u001B[0m \u001B[43mVariable\u001B[49m\u001B[38;5;241;43m.\u001B[39;49m\u001B[43m_execution_engine\u001B[49m\u001B[38;5;241;43m.\u001B[39;49m\u001B[43mrun_backward\u001B[49m\u001B[43m(\u001B[49m\n\u001B[1;32m    148\u001B[0m \u001B[43m    \u001B[49m\u001B[43mtensors\u001B[49m\u001B[43m,\u001B[49m\u001B[43m \u001B[49m\u001B[43mgrad_tensors_\u001B[49m\u001B[43m,\u001B[49m\u001B[43m \u001B[49m\u001B[43mretain_graph\u001B[49m\u001B[43m,\u001B[49m\u001B[43m \u001B[49m\u001B[43mcreate_graph\u001B[49m\u001B[43m,\u001B[49m\u001B[43m \u001B[49m\u001B[43minputs\u001B[49m\u001B[43m,\u001B[49m\n\u001B[1;32m    149\u001B[0m \u001B[43m    \u001B[49m\u001B[43mallow_unreachable\u001B[49m\u001B[38;5;241;43m=\u001B[39;49m\u001B[38;5;28;43;01mTrue\u001B[39;49;00m\u001B[43m,\u001B[49m\u001B[43m \u001B[49m\u001B[43maccumulate_grad\u001B[49m\u001B[38;5;241;43m=\u001B[39;49m\u001B[38;5;28;43;01mTrue\u001B[39;49;00m\u001B[43m)\u001B[49m\n",
      "\u001B[0;31mKeyboardInterrupt\u001B[0m: "
     ]
    }
   ],
   "source": [
    "N_EPOCHS = 10\n",
    "best_valid_loss = float('inf')\n",
    "\n",
    "learning_rate=0.1\n",
    "\n",
    "encoder_optimizer = optim.Adadelta(encoder1.parameters(), lr=learning_rate)\n",
    "decoder_optimizer = optim.Adadelta(decoder1.parameters(), lr=learning_rate)\n",
    "style_embedder_optimizer = optim.Adadelta(style_embedder1.parameters(), lr=learning_rate)\n",
    "\n",
    "TRAINING_DATASET_SIZE = 500\n",
    "EVALUATION_DATASET_SIZE = 100\n",
    "\n",
    "criterion1 = nn.NLLLoss()\n",
    "\n",
    "for epoch in range(N_EPOCHS):\n",
    "\n",
    "    start_time = time.time()\n",
    "\n",
    "    train_loss = trainIters(\n",
    "        encoder1,\n",
    "        style_embedder1,\n",
    "        decoder1,\n",
    "\n",
    "        criterion1,\n",
    "        encoder_optimizer,\n",
    "        style_embedder_optimizer,\n",
    "        decoder_optimizer,\n",
    "        TRAINING_DATASET_SIZE,\n",
    "        print_every=20\n",
    "    )\n",
    "\n",
    "    # valid_loss = evaluating(encoder_a, encoder_c, decoder, criterion, EVALUATION_DATASET_SIZE, plot_every=20)\n",
    "\n",
    "    valid_loss = evaluating(\n",
    "        encoder1,\n",
    "        style_embedder1,\n",
    "        decoder1,\n",
    "        criterion1,\n",
    "        EVALUATION_DATASET_SIZE,\n",
    "        plot_every=20)\n",
    "\n",
    "    end_time = time.time()\n",
    "    epoch_mins, epoch_secs = epoch_time(start_time, end_time)\n",
    "\n",
    "    if valid_loss < best_valid_loss:\n",
    "        best_valid_loss = valid_loss\n",
    "        torch.save(encoder_a.state_dict(), 'encoder_a-model.pt')\n",
    "        torch.save(encoder_c.state_dict(), 'encoder_c-model.pt')\n",
    "        torch.save(decoder.state_dict(), 'decoder-model.pt')\n",
    "\n",
    "    print(f'Epoch: {epoch+1:02} | Time: {epoch_mins}m {epoch_secs}s')\n",
    "    print(f'\\tTrain Loss: {train_loss:.3f} | Train PPL: {math.exp(train_loss):7.3f}')\n",
    "    print(f'\\t Val. Loss: {valid_loss:.3f} |  Val. PPL: {math.exp(valid_loss):7.3f}')\n",
    "    print(\"Done\")"
   ],
   "metadata": {
    "collapsed": false
   }
  },
  {
   "cell_type": "markdown",
   "source": [
    "# Create Clickbait title for Nonclickbait dataset"
   ],
   "metadata": {
    "collapsed": false
   }
  },
  {
   "cell_type": "code",
   "execution_count": null,
   "outputs": [],
   "source": [
    "pairs"
   ],
   "metadata": {
    "collapsed": false
   }
  },
  {
   "cell_type": "markdown",
   "source": [
    "# BLEU Evaluation Metrics"
   ],
   "metadata": {
    "collapsed": false
   }
  },
  {
   "cell_type": "code",
   "execution_count": null,
   "outputs": [],
   "source": [],
   "metadata": {
    "collapsed": false
   }
  }
 ],
 "metadata": {
  "kernelspec": {
   "display_name": "Python 3",
   "language": "python",
   "name": "python3"
  },
  "language_info": {
   "codemirror_mode": {
    "name": "ipython",
    "version": 2
   },
   "file_extension": ".py",
   "mimetype": "text/x-python",
   "name": "python",
   "nbconvert_exporter": "python",
   "pygments_lexer": "ipython2",
   "version": "2.7.6"
  }
 },
 "nbformat": 4,
 "nbformat_minor": 0
}
