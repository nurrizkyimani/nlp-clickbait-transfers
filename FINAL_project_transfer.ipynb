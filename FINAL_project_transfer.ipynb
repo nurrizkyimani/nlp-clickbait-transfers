{
 "cells": [
  {
   "cell_type": "markdown",
   "source": [
    "# Mount Google Drive"
   ],
   "metadata": {
    "collapsed": false
   }
  },
  {
   "cell_type": "code",
   "execution_count": 1,
   "outputs": [],
   "source": [
    "# from google.colab import drive\n",
    "# drive.mount(\"/content/drive/\")"
   ],
   "metadata": {
    "collapsed": false
   }
  },
  {
   "cell_type": "code",
   "execution_count": 2,
   "outputs": [],
   "source": [
    "# !pip3 install fse\n",
    "# !pip3 install pytorch-nlp\n",
    "\n",
    "# conda install -c anaconda nltk\n",
    "#  conda install -c anaconda pandas\n",
    "# conda create -n sklearn-env -c conda-forge scikit-learn\n",
    "# conda activate sklearn-env\n",
    "# conda install pytorch torchvision torchaudio -c pytorch"
   ],
   "metadata": {
    "collapsed": false
   }
  },
  {
   "cell_type": "markdown",
   "source": [
    "# Import Libraries"
   ],
   "metadata": {
    "collapsed": false
   }
  },
  {
   "cell_type": "code",
   "execution_count": 3,
   "metadata": {
    "collapsed": true
   },
   "outputs": [
    {
     "name": "stderr",
     "output_type": "stream",
     "text": [
      "[nltk_data] Downloading package punkt to\n",
      "[nltk_data]     /Users/nurrizkyimani/nltk_data...\n",
      "[nltk_data]   Package punkt is already up-to-date!\n",
      "[nltk_data] Downloading package punkt to\n",
      "[nltk_data]     /Users/nurrizkyimani/nltk_data...\n",
      "[nltk_data]   Package punkt is already up-to-date!\n"
     ]
    }
   ],
   "source": [
    "import numpy as np # linear algebra\n",
    "import pandas as pd # data processing, CSV file I/O (e.g. pd.read_csv)\n",
    "\n",
    "import os\n",
    "\n",
    "import re\n",
    "import string\n",
    "import collections\n",
    "import fse\n",
    "import random\n",
    "\n",
    "import random\n",
    "import math\n",
    "import time\n",
    "\n",
    "import itertools\n",
    "import torch\n",
    "import torch.nn as nn\n",
    "from torch import optim\n",
    "import torch.nn.functional as F\n",
    "from torchnlp.metrics import get_moses_multi_bleu\n",
    "\n",
    "device = torch.device(\"cuda\" if torch.cuda.is_available() else \"cpu\")\n",
    "torch.manual_seed(1)\n",
    "\n",
    "import nltk\n",
    "nltk.download('punkt')\n",
    "\n",
    "import nltk\n",
    "from nltk.util import ngrams\n",
    "nltk.download('punkt')\n",
    "from collections import Counter\n",
    "\n",
    "from sklearn.feature_extraction.text import TfidfVectorizer\n",
    "from torch.utils.data import Subset\n",
    "from sklearn.model_selection import train_test_split\n",
    "\n",
    "# Any results you write to the current directory are saved as output."
   ]
  },
  {
   "cell_type": "code",
   "execution_count": 4,
   "outputs": [],
   "source": [
    "# !wget \"https://storage.googleapis.com/babert-pretraining/IndoNLU_finals/models/fasttext/fasttext.4B.id.300.epoch5.uncased.bin\" -P \"/content/drive/MyDrive/nlp_research/2022_thesis_styletransfer\""
   ],
   "metadata": {
    "collapsed": false
   }
  },
  {
   "cell_type": "markdown",
   "source": [
    "# Importing Dataset GDrive"
   ],
   "metadata": {
    "collapsed": false
   }
  },
  {
   "cell_type": "code",
   "execution_count": 5,
   "outputs": [],
   "source": [
    "# # import dataset from google drive\n",
    "# path = \"/content/drive/MyDrive/nlp_research/2022_thesis_styletransfer/annotated/combined/csv/\"\n",
    "# all_agree_path = path + \"main.csv\"\n",
    "# all_agree_pd = pd.read_csv(all_agree_path)\n",
    "# df_clickbait = all_agree_pd[all_agree_pd['label'] == \"clickbait\"]\n",
    "# df_nonclickbait = all_agree_pd[all_agree_pd['label'] == \"non-clickbait\"]\n",
    "# df_both = pd.concat((df_clickbait, df_nonclickbait), ignore_index=True)\n",
    "#\n",
    "# df_both_copy = df_both.copy()\n",
    "# df_both_copy['label'] = df_both_copy['label'].astype('category')\n",
    "# df_both_copy.head(-1)"
   ],
   "metadata": {
    "collapsed": false
   }
  },
  {
   "cell_type": "markdown",
   "source": [
    "# Importing dataset"
   ],
   "metadata": {
    "collapsed": false
   }
  },
  {
   "cell_type": "code",
   "execution_count": 81,
   "outputs": [
    {
     "data": {
      "text/plain": "                                                  title          label  \\\n0     Masuk Radar Pilwalkot Medan, Menantu Jokowi Be...  non-clickbait   \n1     Malaysia Sudutkan RI: Isu Kabut Asap hingga In...  non-clickbait   \n2     Kemensos Salurkan Rp 7,3 M bagi Korban Kerusuh...  non-clickbait   \n3     Terkait Mayat Bayi Mengenaskan di Tangerang, S...  non-clickbait   \n4     Uang Rp 1,6 M yang Raib di Parkiran Kantor Gub...  non-clickbait   \n...                                                 ...            ...   \n8704  Diperankan Bastian Bintang, ANTV Bakal Hadirka...  non-clickbait   \n8705  Gubernur Tetapkan Riau Darurat Pencemaran Udar...  non-clickbait   \n8706   Asap Karhutla Riau Mulai Merambah Ke Nias, BM...  non-clickbait   \n8707  Tolak RUU Pertanahan, Ribuan Petani Siap Gelar...  non-clickbait   \n8708  Beredar Isu Internet Papua Diblokir Lagi, Telk...  non-clickbait   \n\n      label_score  \n0               0  \n1               0  \n2               0  \n3               0  \n4               0  \n...           ...  \n8704            0  \n8705            0  \n8706            0  \n8707            0  \n8708            0  \n\n[8709 rows x 3 columns]",
      "text/html": "<div>\n<style scoped>\n    .dataframe tbody tr th:only-of-type {\n        vertical-align: middle;\n    }\n\n    .dataframe tbody tr th {\n        vertical-align: top;\n    }\n\n    .dataframe thead th {\n        text-align: right;\n    }\n</style>\n<table border=\"1\" class=\"dataframe\">\n  <thead>\n    <tr style=\"text-align: right;\">\n      <th></th>\n      <th>title</th>\n      <th>label</th>\n      <th>label_score</th>\n    </tr>\n  </thead>\n  <tbody>\n    <tr>\n      <th>0</th>\n      <td>Masuk Radar Pilwalkot Medan, Menantu Jokowi Be...</td>\n      <td>non-clickbait</td>\n      <td>0</td>\n    </tr>\n    <tr>\n      <th>1</th>\n      <td>Malaysia Sudutkan RI: Isu Kabut Asap hingga In...</td>\n      <td>non-clickbait</td>\n      <td>0</td>\n    </tr>\n    <tr>\n      <th>2</th>\n      <td>Kemensos Salurkan Rp 7,3 M bagi Korban Kerusuh...</td>\n      <td>non-clickbait</td>\n      <td>0</td>\n    </tr>\n    <tr>\n      <th>3</th>\n      <td>Terkait Mayat Bayi Mengenaskan di Tangerang, S...</td>\n      <td>non-clickbait</td>\n      <td>0</td>\n    </tr>\n    <tr>\n      <th>4</th>\n      <td>Uang Rp 1,6 M yang Raib di Parkiran Kantor Gub...</td>\n      <td>non-clickbait</td>\n      <td>0</td>\n    </tr>\n    <tr>\n      <th>...</th>\n      <td>...</td>\n      <td>...</td>\n      <td>...</td>\n    </tr>\n    <tr>\n      <th>8704</th>\n      <td>Diperankan Bastian Bintang, ANTV Bakal Hadirka...</td>\n      <td>non-clickbait</td>\n      <td>0</td>\n    </tr>\n    <tr>\n      <th>8705</th>\n      <td>Gubernur Tetapkan Riau Darurat Pencemaran Udar...</td>\n      <td>non-clickbait</td>\n      <td>0</td>\n    </tr>\n    <tr>\n      <th>8706</th>\n      <td>Asap Karhutla Riau Mulai Merambah Ke Nias, BM...</td>\n      <td>non-clickbait</td>\n      <td>0</td>\n    </tr>\n    <tr>\n      <th>8707</th>\n      <td>Tolak RUU Pertanahan, Ribuan Petani Siap Gelar...</td>\n      <td>non-clickbait</td>\n      <td>0</td>\n    </tr>\n    <tr>\n      <th>8708</th>\n      <td>Beredar Isu Internet Papua Diblokir Lagi, Telk...</td>\n      <td>non-clickbait</td>\n      <td>0</td>\n    </tr>\n  </tbody>\n</table>\n<p>8709 rows × 3 columns</p>\n</div>"
     },
     "execution_count": 81,
     "metadata": {},
     "output_type": "execute_result"
    }
   ],
   "source": [
    "# Import the csv\n",
    "all_agree_path = \"2022_thesis_styletransfer/annotated/combined/csv/main.csv\"\n",
    "all_agree_pd = pd.read_csv(all_agree_path)\n",
    "df_clickbait = all_agree_pd[all_agree_pd['label'] == \"clizckbait\"]\n",
    "df_nonclickbait = all_agree_pd[all_agree_pd['label'] == \"non-clickbait\"]\n",
    "df_both = pd.concat((df_clickbait, df_nonclickbait), ignore_index=True)\n",
    "\n",
    "df_both_copy = df_both.copy()\n",
    "df_both_copy['label'] = df_both_copy['label'].astype('category')\n",
    "df_both_copy.head(-1)"
   ],
   "metadata": {
    "collapsed": false
   }
  },
  {
   "cell_type": "code",
   "execution_count": 7,
   "outputs": [
    {
     "data": {
      "text/plain": "                                                   title  label_score\n0      Viral! Driver Ojol di Bekasi Antar Pesanan Mak...            1\n1      Ada Motor Nyangkut di Atas Bambu di Sleman, Ko...            1\n2           Pesan Gamblang Poyuono Menolak Revisi UU KPK            1\n3      Detik-detik Lima Kendaraan Alami Kecelakaan Be...            1\n4      Kocak! Maling di Rumah Mewah Jakut Terekam CCT...            1\n...                                                  ...          ...\n14990  Wamena Papua Kembali Membara, Kantor Bupati Di...            0\n14991         BMKG Angkat Bicara Soal Langit Merah Jambi            0\n14992  Densus 88 Tangkap Teroris Jaringan ISIS di Jak...            0\n14993  Operasional Bandara Wamena Dihentikan Akibat R...            0\n14994  Diperankan Bastian Bintang, ANTV Bakal Hadirka...            0\n\n[14995 rows x 2 columns]",
      "text/html": "<div>\n<style scoped>\n    .dataframe tbody tr th:only-of-type {\n        vertical-align: middle;\n    }\n\n    .dataframe tbody tr th {\n        vertical-align: top;\n    }\n\n    .dataframe thead th {\n        text-align: right;\n    }\n</style>\n<table border=\"1\" class=\"dataframe\">\n  <thead>\n    <tr style=\"text-align: right;\">\n      <th></th>\n      <th>title</th>\n      <th>label_score</th>\n    </tr>\n  </thead>\n  <tbody>\n    <tr>\n      <th>0</th>\n      <td>Viral! Driver Ojol di Bekasi Antar Pesanan Mak...</td>\n      <td>1</td>\n    </tr>\n    <tr>\n      <th>1</th>\n      <td>Ada Motor Nyangkut di Atas Bambu di Sleman, Ko...</td>\n      <td>1</td>\n    </tr>\n    <tr>\n      <th>2</th>\n      <td>Pesan Gamblang Poyuono Menolak Revisi UU KPK</td>\n      <td>1</td>\n    </tr>\n    <tr>\n      <th>3</th>\n      <td>Detik-detik Lima Kendaraan Alami Kecelakaan Be...</td>\n      <td>1</td>\n    </tr>\n    <tr>\n      <th>4</th>\n      <td>Kocak! Maling di Rumah Mewah Jakut Terekam CCT...</td>\n      <td>1</td>\n    </tr>\n    <tr>\n      <th>...</th>\n      <td>...</td>\n      <td>...</td>\n    </tr>\n    <tr>\n      <th>14990</th>\n      <td>Wamena Papua Kembali Membara, Kantor Bupati Di...</td>\n      <td>0</td>\n    </tr>\n    <tr>\n      <th>14991</th>\n      <td>BMKG Angkat Bicara Soal Langit Merah Jambi</td>\n      <td>0</td>\n    </tr>\n    <tr>\n      <th>14992</th>\n      <td>Densus 88 Tangkap Teroris Jaringan ISIS di Jak...</td>\n      <td>0</td>\n    </tr>\n    <tr>\n      <th>14993</th>\n      <td>Operasional Bandara Wamena Dihentikan Akibat R...</td>\n      <td>0</td>\n    </tr>\n    <tr>\n      <th>14994</th>\n      <td>Diperankan Bastian Bintang, ANTV Bakal Hadirka...</td>\n      <td>0</td>\n    </tr>\n  </tbody>\n</table>\n<p>14995 rows × 2 columns</p>\n</div>"
     },
     "execution_count": 7,
     "metadata": {},
     "output_type": "execute_result"
    }
   ],
   "source": [
    "df_both_label = df_both_copy.drop('label_score', axis=1)\n",
    "df_both = df_both_copy.drop('label', axis=1)\n",
    "df_both.head(-5)"
   ],
   "metadata": {
    "collapsed": false
   }
  },
  {
   "cell_type": "code",
   "execution_count": 8,
   "outputs": [
    {
     "data": {
      "text/plain": "15000"
     },
     "execution_count": 8,
     "metadata": {},
     "output_type": "execute_result"
    }
   ],
   "source": [
    "len(df_both)"
   ],
   "metadata": {
    "collapsed": false
   }
  },
  {
   "cell_type": "code",
   "execution_count": 9,
   "outputs": [
    {
     "data": {
      "text/plain": "                                               title      label  \\\n0  Viral! Driver Ojol di Bekasi Antar Pesanan Mak...  clickbait   \n1  Ada Motor Nyangkut di Atas Bambu di Sleman, Ko...  clickbait   \n2       Pesan Gamblang Poyuono Menolak Revisi UU KPK  clickbait   \n3  Detik-detik Lima Kendaraan Alami Kecelakaan Be...  clickbait   \n4  Kocak! Maling di Rumah Mewah Jakut Terekam CCT...  clickbait   \n\n   label_encoding  \n0               0  \n1               0  \n2               0  \n3               0  \n4               0  ",
      "text/html": "<div>\n<style scoped>\n    .dataframe tbody tr th:only-of-type {\n        vertical-align: middle;\n    }\n\n    .dataframe tbody tr th {\n        vertical-align: top;\n    }\n\n    .dataframe thead th {\n        text-align: right;\n    }\n</style>\n<table border=\"1\" class=\"dataframe\">\n  <thead>\n    <tr style=\"text-align: right;\">\n      <th></th>\n      <th>title</th>\n      <th>label</th>\n      <th>label_encoding</th>\n    </tr>\n  </thead>\n  <tbody>\n    <tr>\n      <th>0</th>\n      <td>Viral! Driver Ojol di Bekasi Antar Pesanan Mak...</td>\n      <td>clickbait</td>\n      <td>0</td>\n    </tr>\n    <tr>\n      <th>1</th>\n      <td>Ada Motor Nyangkut di Atas Bambu di Sleman, Ko...</td>\n      <td>clickbait</td>\n      <td>0</td>\n    </tr>\n    <tr>\n      <th>2</th>\n      <td>Pesan Gamblang Poyuono Menolak Revisi UU KPK</td>\n      <td>clickbait</td>\n      <td>0</td>\n    </tr>\n    <tr>\n      <th>3</th>\n      <td>Detik-detik Lima Kendaraan Alami Kecelakaan Be...</td>\n      <td>clickbait</td>\n      <td>0</td>\n    </tr>\n    <tr>\n      <th>4</th>\n      <td>Kocak! Maling di Rumah Mewah Jakut Terekam CCT...</td>\n      <td>clickbait</td>\n      <td>0</td>\n    </tr>\n  </tbody>\n</table>\n</div>"
     },
     "execution_count": 9,
     "metadata": {},
     "output_type": "execute_result"
    }
   ],
   "source": [
    "from sklearn.preprocessing import LabelEncoder\n",
    "\n",
    "labelencoder = LabelEncoder()\n",
    "df_both_copy['label_encoding'] = labelencoder.fit_transform(df_both_copy['label'])\n",
    "df_encode_clean = df_both_copy.copy()\n",
    "df_encode_clean = df_both = df_both_copy.drop(['label_score'], axis=1)\n",
    "df_encode_clean.head()"
   ],
   "metadata": {
    "collapsed": false
   }
  },
  {
   "cell_type": "markdown",
   "source": [
    "# Preprocessing : Lower Casing"
   ],
   "metadata": {
    "collapsed": false
   }
  },
  {
   "cell_type": "code",
   "execution_count": 10,
   "outputs": [
    {
     "data": {
      "text/plain": "0        viral! driver ojol di bekasi antar pesanan mak...\n1        ada motor nyangkut di atas bambu di sleman, ko...\n2             pesan gamblang poyuono menolak revisi uu kpk\n3        detik-detik lima kendaraan alami kecelakaan be...\n4        kocak! maling di rumah mewah jakut terekam cct...\n                               ...                        \n14995    gubernur tetapkan riau darurat pencemaran udar...\n14996     asap karhutla riau mulai merambah ke nias, bm...\n14997    tolak ruu pertanahan, ribuan petani siap gelar...\n14998    beredar isu internet papua diblokir lagi, telk...\n14999    emmy awards 2019: peter dinklage cetak rekor b...\nName: title, Length: 15000, dtype: object"
     },
     "execution_count": 10,
     "metadata": {},
     "output_type": "execute_result"
    }
   ],
   "source": [
    "# preprocessing : lower casing\n",
    "df_encode_clean['title'] = df_encode_clean['title'].str.lower()\n",
    "df_encode_clean.title"
   ],
   "metadata": {
    "collapsed": false
   }
  },
  {
   "cell_type": "markdown",
   "source": [
    "Convert the titl into lower case for all label"
   ],
   "metadata": {
    "collapsed": false
   }
  },
  {
   "cell_type": "code",
   "execution_count": 11,
   "outputs": [
    {
     "data": {
      "text/plain": "                                                   title          label  \\\n0      viral ! driver ojol di bekasi antar pesanan ma...      clickbait   \n1      ada motor nyangkut di atas bambu di sleman , k...      clickbait   \n2           pesan gamblang poyuono menolak revisi uu kpk      clickbait   \n3      detik-detik lima kendaraan alami kecelakaan be...      clickbait   \n4      kocak ! maling di rumah mewah jakut terekam cc...      clickbait   \n...                                                  ...            ...   \n14995  gubernur tetapkan riau darurat pencemaran udar...  non-clickbait   \n14996  asap karhutla riau mulai merambah ke nias , bm...  non-clickbait   \n14997  tolak ruu pertanahan , ribuan petani siap gela...  non-clickbait   \n14998  beredar isu internet papua diblokir lagi , tel...  non-clickbait   \n14999  emmy awards 2019 : peter dinklage cetak rekor ...  non-clickbait   \n\n       label_encoding  \n0                   0  \n1                   0  \n2                   0  \n3                   0  \n4                   0  \n...               ...  \n14995               1  \n14996               1  \n14997               1  \n14998               1  \n14999               1  \n\n[15000 rows x 3 columns]",
      "text/html": "<div>\n<style scoped>\n    .dataframe tbody tr th:only-of-type {\n        vertical-align: middle;\n    }\n\n    .dataframe tbody tr th {\n        vertical-align: top;\n    }\n\n    .dataframe thead th {\n        text-align: right;\n    }\n</style>\n<table border=\"1\" class=\"dataframe\">\n  <thead>\n    <tr style=\"text-align: right;\">\n      <th></th>\n      <th>title</th>\n      <th>label</th>\n      <th>label_encoding</th>\n    </tr>\n  </thead>\n  <tbody>\n    <tr>\n      <th>0</th>\n      <td>viral ! driver ojol di bekasi antar pesanan ma...</td>\n      <td>clickbait</td>\n      <td>0</td>\n    </tr>\n    <tr>\n      <th>1</th>\n      <td>ada motor nyangkut di atas bambu di sleman , k...</td>\n      <td>clickbait</td>\n      <td>0</td>\n    </tr>\n    <tr>\n      <th>2</th>\n      <td>pesan gamblang poyuono menolak revisi uu kpk</td>\n      <td>clickbait</td>\n      <td>0</td>\n    </tr>\n    <tr>\n      <th>3</th>\n      <td>detik-detik lima kendaraan alami kecelakaan be...</td>\n      <td>clickbait</td>\n      <td>0</td>\n    </tr>\n    <tr>\n      <th>4</th>\n      <td>kocak ! maling di rumah mewah jakut terekam cc...</td>\n      <td>clickbait</td>\n      <td>0</td>\n    </tr>\n    <tr>\n      <th>...</th>\n      <td>...</td>\n      <td>...</td>\n      <td>...</td>\n    </tr>\n    <tr>\n      <th>14995</th>\n      <td>gubernur tetapkan riau darurat pencemaran udar...</td>\n      <td>non-clickbait</td>\n      <td>1</td>\n    </tr>\n    <tr>\n      <th>14996</th>\n      <td>asap karhutla riau mulai merambah ke nias , bm...</td>\n      <td>non-clickbait</td>\n      <td>1</td>\n    </tr>\n    <tr>\n      <th>14997</th>\n      <td>tolak ruu pertanahan , ribuan petani siap gela...</td>\n      <td>non-clickbait</td>\n      <td>1</td>\n    </tr>\n    <tr>\n      <th>14998</th>\n      <td>beredar isu internet papua diblokir lagi , tel...</td>\n      <td>non-clickbait</td>\n      <td>1</td>\n    </tr>\n    <tr>\n      <th>14999</th>\n      <td>emmy awards 2019 : peter dinklage cetak rekor ...</td>\n      <td>non-clickbait</td>\n      <td>1</td>\n    </tr>\n  </tbody>\n</table>\n<p>15000 rows × 3 columns</p>\n</div>"
     },
     "execution_count": 11,
     "metadata": {},
     "output_type": "execute_result"
    }
   ],
   "source": [
    "# Add space between punctuation\n",
    "df_encode_clean_t =  df_encode_clean.copy()\n",
    "df_encode_clean_t['title'] = df_encode_clean_t['title'].apply(lambda y: \" \".join((re.sub(r'([!/?/./,/%/\\'/\\\"/-/:])', lambda x: ' ' + x.group()+' ' , y)).split()) , 1)\n",
    "df_encode_clean_t"
   ],
   "metadata": {
    "collapsed": false
   }
  },
  {
   "cell_type": "code",
   "execution_count": 12,
   "outputs": [],
   "source": [
    "# separate between clickbait clean and nonclickbait clean\n",
    "df_clickbait_clean = df_encode_clean_t[df_encode_clean_t['label'] == \"clickbait\"]\n",
    "df_nonclickbait_clean = df_encode_clean_t[df_encode_clean_t['label'] == \"non-clickbait\"]"
   ],
   "metadata": {
    "collapsed": false
   }
  },
  {
   "cell_type": "code",
   "execution_count": 13,
   "outputs": [],
   "source": [
    "# create a list form the combination of df_clickbait and nonclickbait\n",
    "\n",
    "d_both = pd.concat((df_clickbait_clean, df_nonclickbait_clean ), ignore_index=True)\n",
    "d_both = d_both.drop(['label', 'label_encoding'], axis=1)\n",
    "d_both = d_both.values.tolist()\n",
    "d_both = list(itertools.chain.from_iterable(d_both))"
   ],
   "metadata": {
    "collapsed": false
   }
  },
  {
   "cell_type": "code",
   "execution_count": 14,
   "outputs": [
    {
     "data": {
      "text/plain": "                                                   title  label_encoding\n0      viral ! driver ojol di bekasi antar pesanan ma...               0\n1      ada motor nyangkut di atas bambu di sleman , k...               0\n2           pesan gamblang poyuono menolak revisi uu kpk               0\n3      detik-detik lima kendaraan alami kecelakaan be...               0\n4      kocak ! maling di rumah mewah jakut terekam cc...               0\n...                                                  ...             ...\n14995  gubernur tetapkan riau darurat pencemaran udar...               1\n14996  asap karhutla riau mulai merambah ke nias , bm...               1\n14997  tolak ruu pertanahan , ribuan petani siap gela...               1\n14998  beredar isu internet papua diblokir lagi , tel...               1\n14999  emmy awards 2019 : peter dinklage cetak rekor ...               1\n\n[15000 rows x 2 columns]",
      "text/html": "<div>\n<style scoped>\n    .dataframe tbody tr th:only-of-type {\n        vertical-align: middle;\n    }\n\n    .dataframe tbody tr th {\n        vertical-align: top;\n    }\n\n    .dataframe thead th {\n        text-align: right;\n    }\n</style>\n<table border=\"1\" class=\"dataframe\">\n  <thead>\n    <tr style=\"text-align: right;\">\n      <th></th>\n      <th>title</th>\n      <th>label_encoding</th>\n    </tr>\n  </thead>\n  <tbody>\n    <tr>\n      <th>0</th>\n      <td>viral ! driver ojol di bekasi antar pesanan ma...</td>\n      <td>0</td>\n    </tr>\n    <tr>\n      <th>1</th>\n      <td>ada motor nyangkut di atas bambu di sleman , k...</td>\n      <td>0</td>\n    </tr>\n    <tr>\n      <th>2</th>\n      <td>pesan gamblang poyuono menolak revisi uu kpk</td>\n      <td>0</td>\n    </tr>\n    <tr>\n      <th>3</th>\n      <td>detik-detik lima kendaraan alami kecelakaan be...</td>\n      <td>0</td>\n    </tr>\n    <tr>\n      <th>4</th>\n      <td>kocak ! maling di rumah mewah jakut terekam cc...</td>\n      <td>0</td>\n    </tr>\n    <tr>\n      <th>...</th>\n      <td>...</td>\n      <td>...</td>\n    </tr>\n    <tr>\n      <th>14995</th>\n      <td>gubernur tetapkan riau darurat pencemaran udar...</td>\n      <td>1</td>\n    </tr>\n    <tr>\n      <th>14996</th>\n      <td>asap karhutla riau mulai merambah ke nias , bm...</td>\n      <td>1</td>\n    </tr>\n    <tr>\n      <th>14997</th>\n      <td>tolak ruu pertanahan , ribuan petani siap gela...</td>\n      <td>1</td>\n    </tr>\n    <tr>\n      <th>14998</th>\n      <td>beredar isu internet papua diblokir lagi , tel...</td>\n      <td>1</td>\n    </tr>\n    <tr>\n      <th>14999</th>\n      <td>emmy awards 2019 : peter dinklage cetak rekor ...</td>\n      <td>1</td>\n    </tr>\n  </tbody>\n</table>\n<p>15000 rows × 2 columns</p>\n</div>"
     },
     "execution_count": 14,
     "metadata": {},
     "output_type": "execute_result"
    }
   ],
   "source": [
    "d_both_clean = pd.concat((df_clickbait_clean, df_nonclickbait_clean ), ignore_index=True)\n",
    "d_both_clean = d_both_clean.drop(['label'], axis=1)\n",
    "d_both_clean"
   ],
   "metadata": {
    "collapsed": false
   }
  },
  {
   "cell_type": "code",
   "execution_count": 15,
   "outputs": [
    {
     "data": {
      "text/plain": "['viral ! driver ojol di bekasi antar pesanan makanan pakai sepeda',\n 'ada motor nyangkut di atas bambu di sleman , kok bisa ?',\n 'pesan gamblang poyuono menolak revisi uu kpk',\n 'detik-detik lima kendaraan alami kecelakaan beruntun di cipularang',\n 'kocak ! maling di rumah mewah jakut terekam cctv bingung cari jalan kabur',\n 'hampir seluas jabar , ini tantangan sintang siapkan generasi emas',\n 'viral video diduga baku tembak di sleman , ini kata polisi',\n 'waspada ! ada penipuan catut pertamina , korbannya rugi puluhan juta',\n 'jaksa beberkan senpi-peluru tajam pembelian kivlan zen cs , ini rinciannya',\n 'sering quality time bersama keluarga ? ternyata ini 3 manfaatnya !',\n 'menteri jokowi 55 % profesional , ini kandidatnya ?',\n 'sebut pemilihan capim kpk cacat yuridis , ini saran samad ke dpr',\n \"pria misterius berjubah putih viral di sumut , ingatkan ' tuhan murka '\",\n 'video porno di sumedang disebar pemeran pria , apa motifnya ?',\n 'terungkap ! video porno di sumedang diperankan pasangan selingkuh',\n 'detik-detik mencekam perampokan di rumah makan gratis untuk duafa di bogor',\n 'kendaraan listrik bebas dari aturan ganjil-genap , ini alasannya',\n 'menanti \" kebijakan gila \" jokowi',\n 'akhirnya ! pemkot pekanbaru liburkan sd dan smp karena kabut asap',\n '2 ribu hektare lahan terbakar , udara di palembang tidak sehat !',\n 'viral bocah di bekasi disebut tewas akibat bully , begini kata ketua rt',\n 'anggota dprd banten ramai-ramai gadai sk , ini kata kemendagri',\n \"yuk ' bantu jokowi cari menteri ' , ikuti polling di detikcom !\",\n 'anggota dprd banten gadai sk , komisi ii dpr : tutup utang kampanye ?',\n 'soal aduan penetapan tersangka veronica koman , ini kata komnas ham',\n \"viral video korban kecelakaan maut di nganjuk ingin bikin ' video tabrakan '\",\n 'ini 10 poin aspirasi tokoh papua saat bertemu jokowi di istana',\n 'viral ! perampok bercelurit satroni rumah makan gratis untuk duafa di bogor',\n 'perhatian ! ini nama-nama kandidat menteri jokowi',\n 'apakah pekerja masih dibutuhkan pertambangan australia saat otomatisasi makin marak ?',\n 'pengacara : kivlan zen siap sekali jalani sidang , ini yang ditunggu-tunggu',\n \"pasang status ' single ' , inilah saat terakhir kehidupan novy chardon\",\n 'sidang gugatan ikan koi mati , saksi dari pln bicara ini',\n 'ini opsi pdam surabaya agar 60 ribu pelanggan kembali menikmati air',\n 'fenomena anggota dprd gadaikan sk ke bank , gejala apa ini ?',\n 'apa kabar denda rp 1 juta bagi pembeli di zona merah pkl bandung ?',\n 'dituduh hamili perempuan muda , kades : saya booking',\n 'geramnya keluarga pada hoax bj habibie meninggal dunia',\n 'ketum fpi bingung dipanggil soal makar 17 april , ini kata polisi',\n 'ini harapan sri mulyani-komarudin hidayat untuk rektor baru ui 2019-2024',\n 'video detik-detik mahasiswa merusak pagar dpr',\n 'begini awal mula kecelakaan maut di lampung yang tewaskan 8 orang',\n 'ini penyebab sulitnya padamkan kebakaran di gunung sumbing',\n 'menlu indonesia-timor leste-australia bertemu di pbb , ini yang dibahas',\n 'ini lokasi diduga mahasiswa halu oleo kendari tertembak',\n 'purnomo-teguh daftar cawalkot solo , peluang gibran tertutup ?',\n 'rapat gabungan pimpinan mpr sepakat ubah tata tertib , ini rinciannya',\n 'panas ! mahasiswa-pendemo pro-uu kpk baru saling lempar botol di depan dpr',\n 'lsm safenet : ruu kks bikin bssn jadi lembaga superbody ?',\n 'ylbhi sebut mahasiswa belum bisa dikontak usai demo di dpr , ini kata polri',\n \"video demo mahasiswa bandung yang sempat ' memanas '\",\n \"ini pengakuan ' gila ' pelaku pemerkosaan di bondowoso\",\n 'viral pasangan abg depok berbuat mesum di kontrakan digerebek polisi',\n 'ini alasan hakim vonis seumur hidup prada deri yang mutilasi kekasihnya',\n 'prabowo singgung angka stunting indonesia tinggi : what is wrong ?',\n 'mengenaskan ! 15 orang sekeluarga tewas dalam serangan arab saudi di yaman',\n 'tukang gigi ikut demo ruu kuhp , ini pasal yang sudah dibatalkan mk',\n 'benarkah demo mahasiswa tak ditunggangi ?',\n 'beredar video polisi teriaki tni di mes pati tni al , ini penjelasan polri',\n 'viral api muncul dari dalam tanah di ponorogo',\n 'bikin adem ! polwan surabaya lantunkan asmaul husna sambut pendemo',\n 'ini 7 tuntutan mahasiswa yang demo di depan dpr',\n 'ini alasan bogor dan bandung jadi kota favorit lomba sepeda',\n 'ini pasukan asmaul husna , para polwan pendingin tensi demo di surabaya',\n 'ada politikus hingga jurnalis , siapa paling cocok jadi mensos ?',\n 'di sebelah mana batu-bensin di ambulans pemprov dki yang diamankan polisi ?',\n 'pospol tomang dibakar !',\n 'hore ! gunung sampah di pinggir kali ciliwung cilebut dibersihkan minggu ini',\n 'tak cuma legal mengkonsumsi , di wilayah ini tiap rumah boleh tanam 4 pohon ganja',\n 'pelajar demo ricuh hingga lewat tengah malam , ini kata mendikbud',\n \"' pasal unggas jalan-jalan ' di ruu kuhp ada kasus konkretnya , yuk baca !\",\n 'ngaku diperkosa , ternyata laporan mahasiswi ini palsu',\n 'viral pelajar tewas saat hendak ikut demo dpr , begini kejadiannya',\n 'gempa ambon kamis pagi dan 5 faktanya',\n 'agar siswa tak demo turun ke jalan , ini yang dilakukan disdik jateng',\n 'tok ! dpr sahkan ruu soal bela negara jadi uu',\n 'seru ! ada mantan suami istri bertarung di pilkades serentak di sragen',\n 'bahaya konsep domein verklaring dalam ruu pertanahan',\n \"gotong keranda mayat ' save kpk ' , massa gejayan memanggil : innalillahi . . .\",\n 'ini inovasi tim dentsu yang menang di young spikes indonesia',\n 'duarr ! bahan peledak terduga teroris jakut didisposal , warga tepuk tangan',\n 'pasal-pasal kontroversial dalam ruu pertanahan',\n 'ungkit aksi 1998 , ini 7 tuntutan massa #gejayanmemanggil',\n 'staf presiden berkunjung ke banyuwangi , ini lho tujuannya',\n 'ada demo di depan dpr siang ini , cek rekayasa lalu lintasnya',\n 'ngeri ! aligator ditemukan hidup di kolam belakang sekolah',\n 'miris ! ada gunung sampah 16 meter di tepi sungai ciliwung cilebut bogor',\n 'jokowi kumpulkan menko polhukam-menkum ham , bahas situasi keamanan ?',\n \"indonesia banyak ' dilirik ' saat sidang majelis umum pbb , ini alasannya\",\n 'mengenaskan ! dikira beruang liar , pria ini ditembak mati putranya',\n \"rkuhp denda gelandangan maksimal rp 1 juta , ini cerita para ' pengemis tajir '\",\n 'heboh layar digital di lampu merah garut tampilkan kata-kata kotor',\n 'doa agar tak malas di hari senin biar semangat di awal pekan',\n 'mulan jameela cs ditetapkan jadi anggota dpr , ini penjelasan gerindra',\n 'soal ruu kuhp , yuk baca lagi putusan mk soal zina dan lgbt',\n 'program si manis manjakan kaum wanita di malang saat urus sim',\n 'menunggu jokowi seperti theseus',\n \"akan jadi ' pengantin ' , terduga teroris di jakut tinggalkan surat wasiat\",\n 'alasan golkar rotasi anggotanya di komisi xi jelang fit & proper bpk',\n 'ini cara masyarakat simeulue mengantisipasi tsunami',\n \"ini rekayasa lalin di sekitar lokasi aksi ' gejayan memanggil '\",\n 'rusuh wamena , berikut ini rangkaian fakta-faktanya',\n 'gelombang demo tolak pelemahan kpk se-indonesia , ini titik-titiknya',\n 'bukan di china , ini long march massa aksi melintasi pertokoan magelang',\n 'ruu pks beda nasib dengan ruu kpk , ini fakta-faktanya',\n 'heboh timbangan beras bpnt berkurang , ini kata pemkab sumedang',\n \"viral cuitan ' sekolah yang pinter biar gajadi polisi ' , ridwan kamil : hoax !\",\n 'demo di mana-mana , jokowi sedang panggil pejabat-pejabat ini di istana',\n 'dpr bakal sahkan ruu keamanan siber 30 september ?',\n 'diskon ! naik trans semarang di 2 halte ini bisa bayar rp 10 aja',\n '5 manfaat pilates untuk ibu hamil , apa saja ?',\n 'pentingnya sarapan dengan makanan padat untuk anak',\n 'selalu ingin tahu , 5 zodiak ini tidak bisa menghargai privasi orang lain',\n '3 jenis diet untuk organ intim lebih sehat',\n 'move on , ini 5 tanda mantan tak akan mengajakmu balikan',\n 'mengenal bahaya memakai baju baru tanpa dicuci dulu',\n 'pertengkaran dengan pasangan bisa memperkuat hubungan , benarkah ?',\n 'apakah ada manfaat minum air mineral ? ini faktanya',\n '5 tips menyimpan uang untuk membeli rumah pertama',\n 'tips membuat kamar bayi hemat budget',\n 'tetap tidur lelap , begini cara minum kopi tanpa harus melek semalaman',\n 'mudah bimbang , 5 zodiak ini sering dipengaruhi orang lain',\n 'suka kepo , 4 zodiak ini paling sering mengganggu privasi temannya !',\n '5 mantra yang jadi kekuatan para extra women saat memperjuangkan passion',\n '6 zodiak yang diprediksi paling jahat , mengapa ?',\n 'polemik pb djarum-kpai , beasiswa atau eksploitasi ?',\n '5 inspirasi masakan praktis terbuat dari daging ayam',\n 'kepribadian ungkap cara menghabiskan uang , begini jika kamu ekstrovert',\n 'dalam sehari , maksimalnya berapa kali suami istri bisa berhubungan intim ?',\n 'raffi ahmad blak-blakan soal kirim bunga ke desy ratnasari',\n '4 foto terbaru yeonwoo momoland setelah vakum , wajah berubah ?',\n 'dikritik soal foto bikini , ini tanggapan shandy aulia',\n '4 album terlaris 2019 , bts sementara duduki posisi pertama',\n 'fakta sandra dewi melahirkan anak kedua',\n 'serunya meet n greet michelle ziudith dan megantara di on off festival hari kedua',\n 'ini pengakuan kim kardashian mengenai psalm west',\n 'bukan teknis , ini tantangan berat ari lasso tur di 3 kota',\n 'lorong , jadi film comeback dari winky wiryawan ?',\n 'jangan sampai terlewatkan , penggunaan toner pada rutinitas perawatan kulitmu',\n 'kandungan wajib pada toner sesuai dengan kondisi kulit wajahmu',\n '9 perawatan kulit untuk mengatasi masalah bintik-bintik gelap',\n '5 rahasia kecantikan tradisional para perempuan tiongkok',\n 'inovasi perawatan kulit korea dalam delapan langkah',\n 'tips merawat dan menata rambut tipis agar tampak bervolume',\n 'rekomendasi essential oil dengan kandungan tea tree yang kulit berjerawat',\n '4 manfaat alpukat untuk kecantikan dari wajah sampai rambut',\n 'cari tahu tentang eksfoliasi kulit dan cara tepat melakukannya',\n '5 rahasia kecantikan perempuan asia',\n 'tips melakukan puasa kulit',\n '8 kebiasaan yang bikin kamu lebih awet muda',\n 'sebenarnya apa kegunaan kencur dalam masakan ?',\n '5 zodiak yang sering melanggar privasi seseorang',\n 'mencintai seseorang dalam diam harus tegar menahan rindu sendirian',\n 'susu bubuk dan susu cair sama baiknya , ini kata ahli',\n '4 tanda pasangan siap berkomitmen dalam hubungan',\n 'tidak suka berbohong , 5 zodiak ini dikenal paling jujur',\n '5 cara menghilangkan bau mulut yang berasal dari dalam perut',\n 'sering stres karena masalah uang ? simak tips mengatur keuangan ini',\n 'berapa lama baiknya membiarkan adonan mengembang sempurna ?',\n 'cerita nadhila qp ngajar beauty class di on off festival 2019',\n '4 zodiak yang kesulitan berterima kasih ke orang lain',\n '5 inspirasi camilan enak berbahan dasar labu kuning',\n '4 tips efektif melangsingkan perut dengan planking',\n '5 zodiak paling anarkis dan selalu membangkang terhadap otoritas untuk bisa hidup bebas',\n 'mengintip spesifikasi canggih hingga harga iphone 11',\n 'tetap bertahan usai bertengkar , tanda hubungan siap dibawa ke pelaminan',\n '7 kebiasaan kecil yang ternyata toxic buat hubungan cintamu',\n 'apakah kulit ubi bisa dimakan ? apa manfaatnya ?',\n 'jika jalanmu cepat , seperti ini tipe kepribadianmu',\n 'kulit ubi jalan kaya nutrisi , ini cara makan ubi jalar bersama kulitnya',\n '4 gaya autentik bj habibie yang menjadi kenangan',\n 'sakit hingga bosan , alasan perempuan memalsukan kepuasan seksualnya',\n 'melihat uniknya gaya khloe kardashian lewat rambut barunya',\n 'kerap ditanya kapan nikah , begini jawaban chand kelvin',\n 'lirik lagu louis tomlinson , kill my mind',\n 'keseruan nicky tirta berbagi menu masakan baru pada kaum ibu',\n 'kesulitan yang dirasakan prisia nasution di film lorong',\n 'ciptakan euforia , ini 5 fakta kedatangan nct dream ke indonesia',\n 'sempat lihat hantu di rumah , raffi ahmad santai',\n 'jajal dunia akting , ini yang membuat sivia azizah tertarik main di film nkcthi',\n 'bikin heboh , rossa diapit 6 anak muda nct dream',\n 'sepak terjang jefri nichol di dunia hiburan hingga terjerat narkoba',\n 'hari radio nasional , ini 8 selebriti indonesia yang merupakan penyiar radio',\n 'sivia azizah ungkap rencana debut sebagai penyanyi solo',\n 'cerita melanie subono ada di samping bj habibie saat meninggal dunia',\n 'tegarnya jefri nichol ditilik dari zodiak capricorn',\n 'begini arti nama anak kedua sandra dewi',\n 'ingat kemal mochtar ? ini kisahnya turunkan bobot tubuh dari 120 kg jadi 60 kg',\n '6 cara menggunakan lipstik sesuai bentuk bibir',\n 'alasan pentingnya melakukan pengelupasan kulit untuk perawatan wajah',\n 'tak hanya menjadi masalah rambut , ketombe juga bisa jadi ancaman untuk kulit wajah',\n '3 hal dasar yang harus dipahami sebelum beli skincare',\n 'blackheads gagal terangkat strip pore , tandanya bukan komedo',\n 'cara mencegah timbulnya benjolan halus di kulit usai bercukur',\n '4 kebiasaan sehari-hari yang menyumbat pori-pori kulit wajah',\n 'rangkaian perawatan kecantikan wajah yang aman untuk kulit remaja',\n 'jalan kaki hingga yoga , ini 5 olahraga terbaik untuk ibu hamil',\n '5 cara mendidik anak agar lebih disiplin sejak dini',\n '4 fakta tentang autisme yang wajib diketahui',\n '19 hadiah untuk calon atau ibu mertua yang sulit ditaklukkan',\n 'cara memasak brokoli agar tetap hijau segar',\n 'mengapa kurang tidur bisa bikin gemuk ? ini alasan ilmiahnya',\n 'fimela fest 2019 : takut adalah hal yang wajar , tapi seberapa besar kita berani melawan ?',\n 'rebutan kursi , kenapa ibu hamil harus duduk di commuter line ?',\n '5 kondisi yang sebaiknya tak olahraga dulu',\n '4 zodiak ini rutin introspeksi diri dan bercermin dalam menjalani kehidupan',\n '4 zodiak yang selalu berpikir positif dalam menggapai tujuan',\n '4 zodiak ini akan alami masa terbaik di bulan agustus-september 2019',\n 'cara mengurangi perasaan grogi saat kencan pertama',\n '4 cara mengatasi pilek secara alami',\n '3 zodiak yang mudah jatuh hati pada sahabatnya sendiri',\n 'jangan dibuang , ini manfaat kupasan kulit kentang untuk kulit',\n 'punya nutrisi tinggi , ini cara mengolah kulit kentang agar bisa dimakan',\n 'diabetes hingga kanker , ini manfaat kulit pisang untuk kesehatan',\n '5 zodiak yang dikenal sangat manja dan menggemaskan',\n 'bisakah traveling bikin telat datang bulan ?',\n 'tips agar makanan yang digoreng tidak hitam',\n 'bisa dimakan , ini manfaat kulit putih pada semangka !',\n 'bulu kuduk merinding saat mendengar lagu bagus , kenapa begitu ?',\n 'secara ilmiah , ini alasan orang putus cinta balikan lagi dengan mantannya',\n 'fimela fest 2019 : manfaat mindfull parenting buat ortu-anak chill out',\n 'memiliki pasangan akan menambah masalah baru dalam hidup',\n 'menurut studi , ini waktu paling tapat untuk berhubungan intim',\n '5 rekomendasi restoran halal di korea selatan',\n 'fimela fest 2019 : 5 alasan perempuan milenial perlu mencintai diri sendiri',\n 'sesal shireen sungkar atas meninggalnya bj habibie , kenapa ?',\n 'bj habibie meninggal , begini sedihnya reza rahadian',\n 'eksklusif joe taslim , meski sibuk jadi artis internasional tetap pandai bagi waktu bersama keluarga',\n 'alasan orlando bloom tolak hadir di saturday night live',\n 'dikira jadi pria feminin di film bebas , begini tanggapan baskara mahendra',\n 'begini rencana pemakaman bj habibie di tmp kalibata',\n 'raditya dika dan anak terserang autoimun , simak gejala yang terjadi',\n 'alasan bj habibie dijuluki sebagai mr crack',\n '4 fakta seru jelang comeback twice , feel special',\n 'belajar tentang cinta yang suci dari sosok bj habibie',\n 'mengetahui sifat boy william dari karakter zodiak libra',\n '5 hal yang perlu diperhatikan saat memilih produk pelembap wajah',\n '5 tips menggunakan lipstik matte secara sempurna',\n 'cegah timbulnya jerawat , perlukah serum untuk perawatan kulit berminyak ?',\n 'apakah retinol benar bisa memperbaiki kulit ?',\n '3 makanan anti-aging terbaik bagi perempuan agar kulit tetap kencang',\n '5 hal penting yang harus diingat pemilik kulit sensitif',\n 'jangan panik , ini tips mengatasi anak rewel akibat demam tinggi',\n 'fimela fest 2019 : cara menghindari memukul anak ketika orangtua emosi',\n 'fimela fest 2019 : batasi anak main gadget bentuk mindful parenting ?',\n 'awas , rokok elektrik bisa menurunkan kesuburan perempuan',\n 'hati-hati gadget dapat membuat mata kering , ketahui alasannya',\n '10 fakta tentang cinta yang penting diketahui',\n 'hubungan jarak jauh sulit dipertahankan jika kau menghilang begitu saja',\n 'fimela fest 2019 : 3 cara melatih body positivity pada diri',\n 'mengenal manfaat penting asuransi kesehatan bagi keluarga',\n 'destinasi kuliner berkonsep unik dengan 100 pilihan menu makanan',\n 'keindahan bak surga dari 5 destinasi wisata tersembunyi di indonesia',\n 'putus cinta bukan masalah , 3 zodiak ini cepat move on',\n '5 olahan masakan yang perlu ditambah ketumbar agar makin sedap',\n 'ini pentingnya air mineral untuk kesehatan',\n 'jangan dibuang , ini manfaat sehat kulit bawang bombay !',\n 'makanan pedas bisa meningkatkan nafsu makan , benarkah ?',\n '5 zodiak ini dikenal tak mau mengalah karena merasa paling benar',\n '3 karakter yang dapat mendukung kesuksesan karir',\n '5 kue tradisional jepang berbahan dasar tepung beras',\n 'apakah air putih punya kalori ? ini faktanya',\n 'kunyit hingga buah bit , ini pewarna alami untuk makanan',\n 'mengurangi makan nasi , 5 alternatif pengganti nasi ini sangat bergizi !',\n 'tips menggunakan serai agar masakan lebih harum aromanya',\n 'saling mendukung , cara agar pernikahan langgeng selamanya',\n 'tak perlu memaksa , ini 6 cara agar pria mau berkomitmen padamu',\n 'fimela fest 2019 : 3 negara dengan praktik beauty bullying tertinggi',\n 'fimela fest 2019 : self love , ini alasan mencintai diri sendiri itu penting',\n 'suka menggantungkan tas di lengan , seperti ini kepribadianmu !',\n 'bisa diandalkan , 4 zodiak ini akan jadi sahabat yang paling kamu butuhkan',\n 'yeonjun txt ulang tahun , ini fakta yang perlu kamu tahu tentangnya',\n 'begini makeup andalan marsha aruan',\n 'jadi penonton , kendall jenner rindu tampil di new york fashion week',\n 'sudah terpilih , ini dia member yang jadi leader superm',\n 'satu gaya rambut , 4 ekspresi menggemaskan dian sastrowardoyo',\n 'alice norin ungkap pentingnya komunikasi dengan anak',\n 'dikabarkan jadi siti gahara di jagat sinema bumilangit , ini kata cinta laura',\n 'tulisan menyentuh boy william untuk sang adik',\n 'anniversary , cantiknya memes berbalut kebaya saat menikah dengan addie ms',\n 'usai kontroversi buteyko , andien ungkap manfaat push bike bagi anak',\n 'baru tayang , ini sinopsis warkop dki reborn',\n 'tips ampuh hilangkan noda hitam pada kulit wajah',\n 'fungsi dan cara kerja toner dalam rutinitas perawatan kecantikan kulit',\n 'ingin rambut terlihat prima saat bangun tidur ? ini rahasianya',\n '5 trik agar lipstik matte menempel sempurna pada bibir',\n '6 tips pengaplikasian makeup yang harus diperhatikan untuk pemilik kulit sensitif',\n 'rekomendasi 5 lipstik lokal yang hadir dalam ukuran mini',\n '3 alasan cleansing oil jadi pembersih wajah terbaik menurut ahli',\n 'fimela fest 2019 : mengenal beauty bullying agar tak terjebak di dalamnya',\n 'tips makeup tahan seharian saat beraktivitas di luar ruangan',\n 'alasan anak sebaiknya tidak konsumsi jus buah berlebihan',\n '5 bahan alami yang bisa dimanfaatkan untuk obat batuk anak',\n '5 makanan yang harus dihindari ibu hamil agar janin sehat',\n 'cara membuat daging-dagingan ala vegetarian',\n 'makanan yang jatuh belum lima menit masih amankah dimakan ?',\n 'fimela fest 2019 : bersikap optimis , cara untuk mencintai diri sendiri',\n '5 zodiak ini mudah menyerah dalam memperjuangkan cinta',\n 'penuh motivasi , 4 zodiak ini selalu memastikan mimpinya terwujud !',\n 'suka bersikap seperti ini ternyata membuatmu menyebalkan !',\n 'jangan dibuang , minyak zaitun kedaluwarsa bisa jadi makeup remover !',\n 'jangan sembarangan , simak dulu serba-serbi menurunkan berat badan dengan hipnoterapi',\n 'suka mendominasi percakapan ? seperti ini dirimu di mata orang lain',\n 'dalam cinta , terkadang harus menyakiti dan tersakiti saat membuat pilihan',\n 'kata-kata romantis bj habibie untuk ainun',\n 'fimela fest 2019 : cara menghentikan beauty bullying di media sosial',\n 'bahan-bahan apa saja sih yang sebaiknya ada dalam sampo anti-ketombe ?',\n 'review : sampo anti-ketombe supermarket yang curi perhatian influencer ternama',\n 'rambut gampang lepek ? 3 hal ini mungkin penyebabnya',\n '3 masalah rambut yang sering jadi penyebab bad hair day',\n 'zodiak yang mudah jatuh cinta pada pandangan pertama',\n 'kesalahanku menyakiti perasaan pria yang tulus mencintaiku',\n 'tips memilih dan menyimpan kayu manis agar aromanya awet',\n 'cara agar tepung panir pada gorengan tidak mudah rontok',\n 'cara mengolah kulit putih semangka menjadi manisan',\n 'cara efektif mengusir dan mencegah kutu pada beras ketan',\n 'cinta tak bisa dipaksakan meski sudah dekat satu sama lain',\n 'tips menggunakan asam jawa agar masakan lebih sedap',\n 'liburan , alasan kenapa rating sangat penting saat memilih hotel',\n 'cara menyimpan ubi agar tahan lama dan tidak bertunas',\n 'suka membawa tas di tangan , begini kepribadianmu !',\n 'tidak takut gagal , 4 zodiak ini suka ambil risiko besar',\n 'benarkah mengonsumsi pil kb bisa menurunkan gairah seksual perempuan ?',\n 'meski sulit , bangun pagi punya sejumlah manfaat bagi kesehatan',\n 'yang sering didoakan bisa makin didekatkan',\n 'alasan niki zefanya jadi line up di smartfren wow concert',\n 'nicky tirta : aku sekarang dekat sama ibu-ibu',\n '5 manfaat lain bengkuang yang perlu diketahui',\n '5 rekomendasi serum anti-aging dari merek lokal dengan harga terjangkau',\n '7 cara mengetahui anak kesepian , perhatikan tandanya !',\n '6 zodiak yang hanya memikirkan diri sendiri',\n '3 menu sarapan ini ternyata buruk bagi kesehatan',\n 'cara buat face mist alami untuk kulit berminyak',\n '4 jenis sayuran yang tepat untuk turunkan kolesterol',\n '4 zodiak ini tidak suka berada di alam terbuka',\n 'tips menghilangkan bau amis dan alot pada kerang',\n 'fimela fest 2019 : 5 alasan pentingnya perempuan berdamai dengan rasa takut',\n '3 kado untuk diri sendiri yang bisa dibeli setelah gajian',\n '3 zodiak paling pemalu',\n 'bolehkah berolahraga saat flu dan batuk ?',\n 'cinta yang dipaksakan akan sulit bertahan lama',\n 'zodiak mingguan 16-22 september , 3 zodiak ini akan alami karir terbaik',\n 'hati-hati , 4 pasangan zodiak ini sering alami pertengkaran dan perselisihan',\n 'fimela fest 2019 : 6 langkah terbaik untuk mulai mengelola keuangan',\n 'zodiak mingguan 16-22 september , 3 zodiak ini akan alami karir terburuk',\n 'fimela fest 2019 : 15 hal membuat perempuan fearless luar biasa',\n 'fimela fest 2019 : grow fearless sebagai kekuatan baru untuk memberdayakan perempuan',\n 'apakah aman makan salmon mentah ? apa bahayanya ?',\n 'koleksi jam tangan yang nyaman untuk semua profesi',\n 'dua hati yang terlalu berbeda sulit untuk disatukan bersama',\n 'zodiak mingguan 16-22 september , 3 zodiak ini akan alami cinta terbaik',\n 'zodiak mingguan 16-22 september , 3 zodiak ini akan alami cinta terburuk',\n 'unggah foto , perut cinta laura jadi perhatian',\n 'pakai cadar , vebby palwinta dibilang sangat cantik',\n 'pengalaman alice norin beberapa kali kerja bareng anak',\n 'cara google doodle kenang 70 tahun sosok chrisye',\n 'alasan raline shah pilih kedai kopi sebagai lini bisnis terbarunya',\n 'ajak anak lari , zee zee shahab arahkan jadi atlet ?',\n 'mata anak minus , gisella anastasia stres',\n '10 member girl group terpopuler september 2019',\n '4 fakta menarik ikon yang jarang diketahui orang',\n 'anaknya trauma ke dokter gigi , begini cara zaskia adya mecca menyiasatinya',\n 'momen comeback anang hermansyah jadi juri indonesian idol',\n '4 selebriti hollywood yang ternyata punya kembaran',\n 'serunya marsha timothy ajak teman sma reuni nonton film bebas di bioskop',\n 'intip sifat reisa broto asmoro dilihat dari zodiak capricorn',\n 'agar selalu terlihat rapi , hindari 5 penyebab rambut kusut',\n 'ketahui kekurangan dan kelebihan menggunakan produk makeup yang tahan 24 jam',\n 'cara menggunakan minyak jarak untuk hilangkan jerawat',\n '3 resep jitu masker rambut buatan sendiri dari minyak zaitun',\n 'tips agar wangi parfum lebih awet dan tahan lama',\n 'bukan ketombe , ikuti tips menghilangkan rasa gatal di kulit kepala',\n '5 inspirasi makeup terkini dari panggung london fashion week',\n '5 tanda kulit terlalu banyak menggunakan produk skincare',\n '6 zodiak yang terlalu keras pada diri mereka sendiri',\n 'usiamu terus bertambah tapi belum bisa bahagiakan orangtua ? ya , kita sama',\n 'rekomendasi buku untuk pasangan muda yang wajib dimiliki',\n 'fimela fest 2019 : 5 selebriti dunia yang gencar suarakan kesetaraan hak perempuan',\n 'tanda kepribadian ambisius , jika kamu punya koleksi benda ini !',\n 'fimela fest 2019 : pentingnya self-love , karena menerima diri sendiri itu bikin happy',\n 'berkencan di usia 30 ? ini tips penting yang harus dipahami',\n '3 pertolongan pertama mengatasi mata lelah',\n 'jangan tersinggung , 4 zodiak ini memang suka bicara blak-blakan',\n 'saling melengkapi , 4 pasangan zodiak ini jarang bertengkar',\n 'mudah beradaptasi , ini dia 5 zodiak yang sangat menikmati gaya hidup nomaden',\n 'tips menyusun itinerary untuk travelling secara efektif',\n 'berapa banyak buah pisang sebaiknya dimakan per hari ?',\n 'saat merasa hubungan sudah tak sehat , itu saat terbaik untuk mengakhirinya',\n 'makin dewasa , kenapa perempuan makin mudah cemas ?',\n 'santan hingga daun pandan , ini bahan pelengkap jajanan tradisional',\n 'terlalu posesif hanya akan menyiksa diri sendiri',\n 'ini alasan buah pisang sangat baik dimakan penderita asam urat',\n '5 hal yang harus dilakukan dengan barang-barang pemberian mantan',\n 'praktikkan 6 fungsi baking soda untuk kecantikan dan kesehatan',\n 'ternyata ini cara memasak ikan yang paling baik dan sehat',\n '5 cara mengakhiri hubungan dengan damai agar tidak terlalu menyakitkan',\n 'legenda musik indonesia , ini 5 fakta tentang chrisye',\n '5 lagu yang gambarkan karakter dan musikalitas chrisye',\n 'video call hingga cctv online , cara denada obati rindu dengan anak di singapura',\n 'bantah hubungan darah , ray sahetapy ungkap sosok tiga setia gara',\n 'mengalami kdrt , begini fakta tiga setia gara',\n 'irish bella alami pendarahan di usia kandungan 6 bulan , ini penyebabnya',\n 'bukti keabadian lagu chrisye dari masa ke masa',\n 'terungkap soal kematian adik louis tomlinson',\n '4 lagu yang mempermanis cerita film pretty boys',\n 'perempuan tanah jahanam rilis trailer baru , ketika tara basro menguak misteri keluarganya',\n 'aurelie moeremans bilang asmaranya dengan marcello tahitoe kandas',\n 'cerita di balik foto nana mirdad , andrew white dan brad pitt',\n 'hijabers , sudah tepatkah cara merawat rambutmu ? cari tahu lewat kuis ini yuk',\n 'cara paling efektif untuk mengatasi hiperpigmentasi',\n 'cara membuat sendiri facial mist untuk wajah berminyak',\n '3 pilihan pembersih wajah esensial berdasarkan manfaat dan jenis kulit',\n 'manfaat algae dalam skincare untuk kesehatan kulit',\n 'infusi perawatan kulit yang terkemas dalam cushion high end',\n 'alis terasa semakin tipis ? cek beberapa penyebabnya',\n 'berhenti melakukan 5 kebiasaan yang dapat merusak anak rambut',\n 'mengenali alergi anestesi sebelum melakukan prosedur kesehatan',\n 'manfaat witch hazel untuk perawatan kulit',\n 'fimela fest 2019 : 3 faktor yang perlu dipahami dalam mindful parenting',\n 'fimela fest 2019 : biasakan anak sarapan tingkatkan pengetahuan',\n 'ternyata musik seperti ini yang mampu meningkatkan motivasi dan semangat',\n '4 alasan pria sensitif pasangan terbaik dalam hubungan',\n 'jenis musik seperti ini yang tingkatkan konsentrasi dan produktivitas kerja',\n '3 cara sissy priscillia mengatur keuangan keluarga agar tidak boros',\n 'sebelum yoga , sebaiknya hindari mengonsumsi 4 makanan ini',\n 'tidak lapar tapi ingin makan terus , kenali 4 penyebabnya',\n '4 zodiak yang suka memforsir diri sendiri secara berlebihan',\n 'pandai bersosialiasi , 3 zodiak ini sangat menikmati hidup',\n 'ingin tidur lebih cepat di malam hari ? pakai piyama dari bahan ini',\n 'berani jatuh cinta harus berani menerima pasangan apa adanya',\n 'selain uang , ini yang bikin orang enggan travelling sendiri',\n 'fimela fest 2019 : jarang disebut , 3 sosok perempuan yang berperan penting mengangkat isu kesetaraan gender',\n '4 tips agar alat masak berbahan teflon lebih awet',\n 'berat badan turun cepat jika rajin sarapan ini , menurut studi',\n 'tips aman dan cerdas menggunakan kartu kredit',\n '3 tips mencegah pening saat melakukan gerakan yoga',\n 'luar biasa , ini manfaat air cucian beras untuk rambut',\n '5 cara agar pernikahan langgeng dan bahagia selalu',\n 'fimela fest 2019 : 5 tanda dirimu sudah berhasil mencintai diri sendiri',\n 'tips mematangkan alpukat cepat dengan oven',\n 'fimela fest 2019 : 3 langkah merencanakan keuangan yang sehat',\n 'menangislah , karena ini manfaat menangis untuk tubuh',\n '5 zodiak yang memiliki body positivity',\n '3 ide destinasi dengan wellness retreat di negeri paman sam',\n 'tips mematangkan alpukat dengan buah apel',\n 'jenis musik ini yang membuat orang tidak mudah stres saat bekerja',\n '4 waktu terbaik untuk berhubungan intim dan manfaatnya',\n 'siap kembali usai rehat , ini penampilan baru jungkook bts',\n 'dikabarkan jalin asmara dengan jungkook bts , perempuan ini minta maaf',\n 'kenapa raisa dan zodiak gemini cocok jadi penyanyi ? intip karakter mereka',\n '4 momen mengharukan b . i selama berkarier di ikon',\n 'disebut lebih seram dari pengabdi setan , ini sinopsis film perempuan tanah jahanam',\n 'pilih olahraga zumba , ini alasan putri marino',\n 'fimela fest 2019 : ini arti fearless women bagi asmara abigail',\n 'tayang pada oktober 2019 , ini 5 fakta menarik perempuan tanah jahanam',\n 'tak perlu ke dokter kulit , ini trik hilangkan milia',\n 'punya kulit sensitif ? simak tips aplikasi makeup yang tepat berikut ini',\n 'rekomendasi parfum aroma musk yang patut dicoba',\n 'perawatan kulit seluruh tubuh , simak 3 cara cegah kulit kering',\n 'sudah cukupkah kandungan protein rambutmu ?',\n '3 cara memanfaatkan baby oil untuk perawatan kecantikan',\n '3 racikan tepung beras untuk perawatan kulit , pernah coba ?',\n 'alasan ibu hamil rentan stres dan cara mengatasinya',\n 'fimela fest 2019 : pola asuh terbaik untuk membuat anak merasa istimewa',\n 'anak tidak mau makan nasi , apakah berbahaya ?',\n '3 penanganan kehamilan risiko tinggi , agar anak terlahir sehat',\n 'tidak suka membesar-besarkan masalah , 3 zodiak ini sangat bijaksana',\n 'tips redakan nyeri pms dengan diet sehat',\n 'efek minum air dalam botol yang telah terekspos sinar matahari terlalu lama',\n 'merayakan kesendirian : tuhan takkan membiarkan hamba-nya sendirian',\n 'tips makan sehat atasi kecemasan dan stres dari nutrisionis',\n '4 hal yang perlu dilakukan sebelum aerobik bagi yang jarang olahraga',\n 'tips menghindari nyeri pinggang karena duduk terlalu lama di perjalanan',\n 'cara menyimpan beras agar awet dan tidak berkutu',\n '3 zodiak yang paling cocok dengan perempuan scorpio',\n 'baik hati , 5 zodiak ini tidak pernah tega menyakiti orang lain',\n 'pilih tujuan yang tepat biar aman dan nyaman nikmati liburan halal',\n 'fimela fest 2019 : berani bekerja keras , itu karakter kuat perempuan fearless',\n 'studi menarik : bekerja 1 , 6 jam di jakarta setara selembar tiket bioskop',\n '3 cara efektif menghilangkan rasa gatal pada talas atau taro',\n 'sudah berjuang keras tapi belum berjodoh , ikhlaskan saja',\n '4 pasang zodiak yang sangat cocok bersama',\n 'tips memilih asuransi kesehatan yang tepat buatmu',\n 'bersabarlah , ini 10 tanda pasangan selingkuh di belakangmu',\n 'selain harga terjangkau , ini inovasi pada smartphone yang dibutuhkan gen z',\n 'makan makanan berserat bisa cegah kanker , ini alasannya',\n '8 hal yang diperhatikan pria darimu saat pertama kali bertemu',\n '6 tips mengelola stres dari ahli gizi',\n 'inspirasi 10 makanan enak yang terbuat dari singkong',\n 'kamu bisa mengandalkan mereka , 6 zodiak yang selalu memiliki inisiatif',\n 'cerita lola amaria besut film tentang olahraga 6 , 9 detik',\n 'umumkan status gender , sam smith inginkan sebutan ini',\n 'mesra sekali , lihat aksi darius sinathrya gendong donna agnesia',\n 'agatha pricilla ungkap cita-cita lain di dunia musik',\n 'harry styles jadi penghambat reuni one direction ?',\n 'rianti cartwright ungkap bahagia di ultah pernikahan ke-9',\n 'reaksi tak terduga luna f(x) usai tinggalkan sm entertainment',\n 'bercerita tentang anak konflik palestina , ini sinopsis film hayya',\n 'nicky tirta yang santai soal jodoh , lihat karakternya melalui zodiak taurus',\n 'cerita haru denada jual dua rumah miliknya demi pengobatan anak',\n 'tips padu padan makeup sesuai dress yang dipakai , biar cantik di berbagai occasion',\n 'pentingnya menggunakan essence dan manfaatnya dalam perawatan kulit',\n 'fimela fest 2019 : 3 faktor seseorang melakukan beauty bullying , ini kata psikolog',\n 'rekomendasi produk scrub wajah dengan harga yang ramah di kantong',\n 'dipetisi karena bahas oplas & pajang foto jimin bts , ini kata satria mulia',\n 'nonton wimbledon , meghan markle tampil kasual kenakan jeans , sudah kembali langsing !',\n 'sukses jadi artis , begini potret rumah mpok alpa yang sederhana di perkampungan',\n 'cerita admin lambe turah , sering diancam mau dibunuh - penghasilan 500 juta sebulan',\n 'blak-blakan , gisella anastasia ungkap penyebab cerai dari gading marten',\n 'sinopsis drama life episode 16 , akhir cerita yang manis',\n 'tak ingin banyak dituntut , dita soedarjo ingin punya pacar bule ?',\n 'penggemar alami kecelakan , taylor swift kirim ucapan manis',\n 'berkarir di australia , artis 90-an multitalenta ini siapkan banyak judul film',\n 'sangat suportif , monita tahalea makin jatuh hati dengan suami',\n 'pernah main web drama bareng , interaksi sehun exo dan mina gugudan bikin fans gemas',\n 'makan malam di gunungkidul , ini menu yang dipesan suju dan tvxq',\n 'inilah serial pendek netflix yang wajib kalian tonton',\n 'jelang pernikahan , ajun perwira merasa deg-degan',\n 'rencana melahirkan di luar negeri , nikita mirzani : pengen show off aja , biar sombong !',\n 'inilah hadiah istimewa penggemar di hari ulang tahun lisa blackpink',\n \"' let me love you ' milik dj snake sebenarnya diciptakan untuk cl 2ne1 ?\",\n 'liburan bersama suami , cantiknya priyanka chopra gunakan bikini',\n 'model majalah playboy mengaku dapat pesan tak senonoh dari tunangan jennifer lopez',\n 'pesawat yang ditumpangi mendarat darurat , keanu reeves jadi pahlawan',\n 'marah besar karena pangeran william selingkuh , kate middleton ucap 1 permintaan ini',\n '7 pasangan dalam drama ini punya hubungan paling sehat !',\n 'pmui festival hadirkan artis ternama dan pesulam professional dunia',\n 'tak sesuai prediksi , asri welas harus jalani persalinan lebih awal !',\n 'rencana pernikahan kevin aprilio , tak mau pakai uang addie ms sepeser pun !',\n 'tak hanya pandai menyanyi , eddy kim juga jago bermain gitar number',\n 'kuliah di london , el rumi sudah nyoblos duluan !',\n 'annisa pohan diperlakukan bak imigran gelap oleh petugas bandara singapura',\n 'serunya dinner bareng prilly latuconsina di bali , bagi tips kecantikan hingga curhat',\n 'unggah foto candid jepretan reino barack , rambut syahrini berantakan',\n \"ini alasan kenapa captain america dibuat tetap hidup di ' avengers : endgame '\",\n '41 idola yang pilih tinggalkan sm ent , sebagian besar karena nggak cocok kontrak',\n '12 foto wajah asli idol k-pop saat bangun tidur , ada lisa blackpink - v bts !',\n \"jisoo dan jennie blackpink ' cover keong racun ' , kocak banget !\",\n 'adik angela gilsha larang bayi naik pesawat : ajarin diam atau mulutnya diselotip !',\n '13 raja dan ratu dance (dancing machine) sm entertainment dari masa ke masa',\n 'ditelepon sasaeng fans saat live , ini yang dilakukan jungkook bts',\n 'kathryn mayorga , mengaku diperkosa cristiano ronaldo 10 tahun lalu',\n 'detektif kematian tupac shakur ungkap pembunuh sang rapper yang sebenarnya',\n 'disebut masuk islam karena sabrina , deddy corbuzier : cemen amat',\n 'bikin kuis , gibran rakabuming janjikan hadiah sneakers yeezy bernilai fantastis',\n 'viral ! persamaan gaya kai exo dan krystal f(x) , bikin fans baper sendiri',\n 'foto punggung kai exo ini sering dikira jungkook bts oleh army',\n 'dijamin pulang terpingkal , jicomfest 2019 hadirkan komika internasional paling lucu',\n 'umumkan hubungan dengan ashley benson setelah satu tahun , ini alasan cara delevigne',\n 'aktor ternama korea ini akui bersusah payah melunasi hutangnya',\n '8 foto visual bomb v bts vs cha eun woo , beda gantengnya bikin galau milih',\n 'syuting serial baru , pakai hijab prilly latuconsina bikin adem',\n '11 drama korea 2019 yang tak boleh dilewatkan , masih gagal moveon',\n 'inilah sosok ceo baru yg entertainment , seorang wanita',\n 'sah ! deddy corbuzier baca dua kalimat syahadat dibimbing gus miftah di jogja',\n 'ada gilang dirga show di jicomfest 2019 , siapa lagi yang melucu di hari pertama ?',\n 'perasaan deddy corbuzier setelah mualaf , bebas dan plong !',\n 'setelah pelembut pakaian , jungkook bts bikin minuman ini ludes terjual',\n '9 k-pop idol bak dewi pakai gaun mewah : suzy , yoona snsd & jennie blackpink',\n 'dipotret dengan kamera ponsel , foto v bts ini jadi perbincangan netizen',\n 'antara chika jessica dan lucinta luna , manakah yang lebih mirip lisa blackpink ?',\n 'seungri akhirnya akui ikut sebarkan video seks ilegal',\n 'deolipa project rilis single ketiga , bergenre blues dan menyayat hati',\n 'bukti percakapan seungri bagikan foto wanita telanjang di grup chat',\n 'beberapa bintang bollywod cantik yang kini dapat penghargaan aktris terburuk',\n \"ini alasan produser ' persona ' pilih iu jadi pemeran utama\",\n 'soal kembali berpindah keyakinan , ini tanggapan pengacara steve emmanuel',\n 'menikah sejak usia muda , pasangan seleb ini jauh dari gosip miring',\n 'terjun ke dunia akting , para artis ini ada yang mulai sejak masih belia',\n 'mulai go public , jennifer dunn - faisal haris : masha allah bahagia luar biasa',\n 'mantan staff wanna one ungkap perangai buruk kang daniel',\n 'gara-gara nasi , bomi apink masuk ugd',\n \"sinopsis ' hobbs and shaw ' , aksi dua musuh berteman musnahkan virus mematikan !\",\n 'romance-thriller , ini deretan drama korea terbaru yang seru ditonton streaming',\n '2 inisial baru dalam jaringan narkoba jefri nichol tertangkap , rekan artis ?',\n 'terjawab , begini cara captain marvel temukan tony stark di luar angkasa',\n 'andhika pratama larang ussy sulistiawaty tonton aksinya di jicomfest 2019 , ada apa ?',\n '7 k-pop idol makin ganteng dengan rambut hitam legam , suga bts - johnny nct',\n 'foto jihyo twice sering datangi rumah kang daniel , sudah 7 bulan pacaran ?',\n 'jihyo twice dan kang daniel pacaran , begini komentar dari netizen korea',\n 'berkas nikah ini ungkap agama rina nose yang sebenarnya',\n 'reaksi kaget gading marten saat dengar gempi sebut nama wijaya saputra',\n 'pelukan dan gandengan tangan , roy kiyoshi dan evelyn nada anjani resmi pacaran ?',\n \"kang daniel - jihyo twice pacaran , kenapa lagu baekhyun exo ' un village ' trending ?\",\n '5 foto irish bella jalani maternity shoot , cantik dan elegan bagaikan boneka',\n '9 foto rumah nabila syakieb , klasik dan kamar putrinya bagaikan ruangan princess',\n 'tips #antingaret berburu tiket konser kpop idola',\n 'diary waktu sd beredar , agama sehun exo terungkap',\n 'nama asli chef juna terungkap saat unggah sertifikat kompetensi',\n 'terungkap ! begini penampakan kamar shahrukh khan di mannat , luas dan mewah',\n 'princess charlotte kembali pamer pose gemas , sampai bikin kate middleton meleleh !',\n 'alasan raffi ahmad kirim hewan kurban ke pesantren suami kartika putri',\n 'terungkap , choi siwon takjub pada satu hal ini dari fans indonesia',\n 'diego michiels baru menikah , istrinya dikabarkan sudah berbadan dua',\n '10 film horor indonesia yang perlu kamu tonton , dijamin bikin merinding',\n 'lebih meriah , festival pesona tambora 2019 hadirkan tari kolosal garapan denny malik',\n 'personil spice girl akhirnya buka suara soal tudingan hubungan sesama jenis',\n 'beruntung , tiga fangirl asal indonesia ini diantar ayah yunhyeong ikon',\n 'barusan putus , millendaru sebut sang mantan sebagai pacar yang paling disayang',\n 'terungkap ! nikita mirzani tak berani berseteru dengan sosok ini',\n 'iboma 2019 bakal bertabur bintang , yuk intip siapa saja pengisi acaranya',\n \"viral , editan krystal f(x) & jennie blackpink yang bikin kai exo ' melongo '\",\n 'pemilu semakin dekat , begini harapan prilly latuconsina',\n \"tolak tawaran ' mimican ' dari menteri , vanessa angel minta langsung ngamar\",\n \"uang bukan alasan , pemain ' ave maryam ' tidak dibayar ?\",\n \"dulu panggil ' sailor moon ' , setelah putus vicky prasetyo sebut anggia ' nenek gayung '\",\n 'fakta lengkap produce x101 yang perlu kamu tahu',\n 'diancam injak leher oleh nikita , tessa mariska samakan nm dengan pohon tauge ?',\n 'ditanya hotman paris , millendaru akui pernah berhubungan intim dengan pria',\n \"10 hal unik yang mungkin kamu lewatkan di mv blackpink ' kill this love '\",\n 'curhat pilu gisella anastasia , difoto diam-diam diperlakukan seperti satwa',\n \"bisnis toko kosmetik online , rency milano selipkan ' misi ' untuk ibu rumah tangga\",\n \"semula kesal dipanggil ' babang tamvan ' , kini andika hasilkan 3 mobil - 2 rumah !\",\n 'fakta lengkap produce x101 yang perlu kamu tahu',\n '7 fakta madam shim , wanita berpengaruh dicurigai dalang kasus jang ja yeon & seungri',\n 'soal kasus penganiayaan kriss hatta , tata liem : kerasukan mitos madame kelinci',\n 'peringati ulang tahun jonghyun shinee , sang kakak buat kado istimewa',\n 'tak jadi anak emas jokowi . begini tanggapan kaesang pangarep',\n 'vebby palwinta akui sudah belajar taaruf , siap segera nikah ?',\n 'ternyata selangkangan brandon salim selalu gatal bila berkeringat',\n 'sempat mengaku mualaf , ternyata kriss hatta tak pernah memeluk islam',\n 'liburan melulu , kini syahrini dan reino barack kompak makin gendut ?',\n 'nia ramadhani ungkap 1 hal yang bisa membuatnya diusir dari rumah oleh suaminya',\n 'album focus dari jus2 got7 ceritakan tentang panca indera , sudah dengerin ?',\n '5 persiapan penting sebelum nonton jus2 <focus> premiere showcase tour in jakarta',\n 'tanyakan hal tak pantas pada bts , reporter ini dihujat netizen',\n 'tunjukkan dukungan untuk bts , park hyungsik dan park seo joon unggah ini',\n \"sederet artis ini siapkan ' hadiah ' spesial bagi mereka yang nyoblos\",\n 'tora sudiro - adipati dolken tirukan selfie nicholas saputra , siapa paling mirip ?',\n 'genap 45 tahun , intip kejutan manis yang didapat victoria beckham di ulang tahunnya',\n 'kaki cedera tertimpa lemari , syahrini lupakan rasa sakit dengan cara ini',\n 'sebut dirinya seperti monyet , begini kalau luna maya gelantungan di pohon',\n \"8 potret keseruan blackpink jadi bintang tamu ' the late late show '\",\n 'bukan menjadi pembanding , ini perbedaan komik gundala versi baru dan klasik',\n 'foto keluarga lisa blackpink , ayah tirinya orang swiss - ibunya cantik banget',\n 'foto rumah lisa blackpink di thailand , punya ciri khas',\n 'ketahuan selingkuh , video intim andy hui-jacqueline wong di taksi beredar luas',\n \"heboh ! ' warkop dki reborn 3 ' jadi film pertama yang laksanakan mega premiere\",\n 'menikah di usia 44 tahun , inka christie rasakan getaran saat pertama kenal suami',\n 'upi didaulat garap film jagat sinema bumilangit selanjutnya ?',\n 'shawn mendes akhirnya jelaskan kondisi hubungannya dengan camila cabello',\n 'ruben onsu berencana ke ntt , bakal urus adopsi betrand peto ?',\n 'bastian steel hidup dalam pergaulan bebas dan punya anak istri dalam film ini',\n 'ria ricis , baim wong , dan 8 seleb lain ramai bikin giveaway senyum berhadiah menarik',\n 'ada sosok ari tulang di gundala , bisa tebak perankan siapa ?',\n \"7-8 september , kamu bisa ' nikah ' dengan oppa di booth kapanlagi korea on off festival\",\n 'asha shara diisukan lepas hijab karena postingan ig : saya malah gak tau',\n 'sinopsis drama big episode 8 , kejadian aneh yang dialami gong yoo',\n '9 aktris cantik yang pernah perankan karakter jelek di drama , suzy - lee sung kyung',\n 'ogah disebut settingan , deddy corbuzier geram saat lucinta luna videokan aksi labrak',\n \"14 fakta menarik ' avengers : endgame ' yang perlu kamu tahu sebelum nonton\",\n 'barbie kumalasari akui punya suara jazzy , cuma bisa dinikmati yang bermusikalitas !',\n 'mampir booth kapanlagi korea di on off festival , bisa dapetin total hadiah rp 10 juta',\n 'pesinetron giovanni tobing mualaf , ternyata sudah sejak pasca menikah',\n 'barbie kumalasari bocorkan honor sekali tampil di tv , tembus dua digit !',\n 'selalu diberitakan dari sisi negatif , ini pesan barbie kumalasari untuk putrinya',\n 'pernah tinggal di as , barbie kumalasari tak tahu kfc berasal dari amerika',\n \"vanessa angel ' pamer ' papa baru , doddy sudrajat : gak ada bekas anak\",\n 'ratna galih program bayi tabung demi dapat anak perempuan , ini alasannya . . .',\n 'kekayaan barbie kumalasari kerap diragukan : biarin mengurangi pajak saya kan ?',\n 'isu salmafina pindah agama merebak , berikut 15 artis yang pernah diterpa hal serupa',\n 'jadi special guest minie tv , bayaran vanessa angel bisa buat beli pulau ?',\n 'masalah semakin panjang , fairuz a . rafiq pernah alami kdrt dengan galih ginanjar ?',\n \"6 fakta xana tang , bintang film ' mulan ' yang juga sahabat iqbaal ramadhan\",\n 'masuk gang sempit , berikut 4 fakta rumah asli barbie kumalasari dan galih ginanjar',\n \"pablo benua dan rey utami ditahan , 12 seleb ini juga jadi korban video ' mulut sampah '\",\n '10 kolaborasi idol k-pop yang nagih banget !',\n 'kevin aprilio betah dengan rambut gaya emo , vicy melanie risih ?',\n 'nonton raditya dika dan line up lain dalam jicomfest 2019 , berapa harga tiketnya ?',\n 'sederet fasilitas unik di rumah mewah selebriti indonesia , ada mini golf - danau',\n 'istri ajun perwira ungkap salmafina sunan sudah nyaman dengan keyakinan barunya ?',\n '9 potret kedekatan cut keke dan istri pertama suaminya yang akrab banget',\n 'mantan pramugari bongkar kelakuan buruk idol k-pop di pesawat , siapa yang terbaik ?',\n 'barbie kumalasari tak penuhi pemeriksaan kepolisian , begini penjelasan pengacaranya',\n \"tessa mariska terseret kasus ' ikan asin ' , ada apa ?\",\n '6 fakta sosok iyan sambiran suami nunung yang juga ditangkap karena narkoba',\n 'spoiler improvindo di jicomfest 2019 , mc dani jamin bakal bikin ngakak',\n 'terungkap fakta jika nunung srimulat tak pernah menyapa warga',\n 'heboh kabar video masturbasi atlet dw , begini komentar mikha tambayong',\n 'co working space dengan view laut pertama dan satu-satunya di jakarta',\n '20 finalis siap perebutkan gelar puteri muslimah indonesia 2019 , siapa juaranya ?',\n 'rumah berlapis emas , dari mana sumber kekayaan muzdalifah ?',\n \"' endgame ' jadi aksi pamungkas avengers , begini kelanjutan marvel cinematic universe\",\n 'gara-gara air , kim jae wook akhirnya cium park min young',\n \"posting foto dengan tagar ' proud of akad ' , ivan gunawan sudah nikah ?\",\n 'begini upaya kate middleton damaikan pangeran william dan pangeran harry',\n 'ke new zealand tanpa kate middleton , pangeran william : kekuatan cinta akan menang',\n \"spoiler film ' avengers : endgame ' , pria ini babak belur di luar bioskop\",\n 'hebat ! nurul bashira , puteri muslimah indonesia 2019 sabet 2 gelar sekaligus',\n 'sempat grogi , reino barack sudah sudah cium kening syahrini sebelum lamaran dijawab',\n 'kedatangan seleb dan influencer di event wonderful noon , gimana keseruannya ?',\n 'sinopsis drama w episode 9 , akankah ada happy ending untuk han hyo joo ?',\n 'baru nikah dengan fadel islami , muzdalifah dibuat naik pitam karena hal ini',\n 'dengar cut tary akui 3 kali berhubungan dengan ariel , begini reaksi suami',\n 'romantisnya chef arnold bersama sang istri yang sedang hamil anak pertama',\n 'menangis di sungkeman syahrini - reino , rosano barack beri wejangan penting ini . . .',\n \"7 pasangan dalam drama korea dengan ' chemistry ' paling kuat\",\n 'cerita ginanjar pernah panik takut rumahnya kebakaran',\n 'pertama kali nyekar bareng suami , syahrini bocorkan romantisnya reino barack',\n 'tatap syahrini penuh cinta , ini yang dirasakan reino barack jelang sungkeman',\n 'pangeran harry beri tanda meghan markle sudah melahirkan ?',\n 'inilah kekayaan para bintang avengers dari terendah hingga paling tinggi',\n 'dinner silaturahmi syahrini - reino barack digelar tanpa orangtua , ada apa ?',\n 'resmi jadi ayah , ini nama anak raditya dika beserta artinya',\n '7 foto balita baekhyun exo , bukti dari kecil sudah punya aura seorang idol',\n '7 potret penampilan cantik jisoo blackpink jadi cinta pertama song joong ki',\n 'langgar mitos usai pernikahan , inikah penyebab perceraian song joong ki ?',\n '6 k-pop idol cowok imut dengan rambut mangkuk , jungkook bts - chanyeol exo',\n 'banjir komika favorit , begini cara dapetin tiket jicomfest 2019',\n 'inilah 7 drama populer jeon mi sun , artis korea yang bunuh diri',\n 'selang 4 tahun kepergian olga syahputra , begini kondisi rumahnya sekarang',\n 'lama tak terlihat di televisi , begini kabar terbaru romy rafael',\n \"pertama kali tahu soal ' ikan asin ' , suami fairuz a rafiq mau ngajak berantem aja\",\n 'bukan zendaya , penyanyi satu ini yang bakal perankan ariel little mermaid live action',\n \"11 fakta zoha rahman , gadis muslim berhijab di ' spider-man : far from home '\",\n 'pernah nyatakan ibunya idap bipolar , begini kondisi sebenarnya ibu barbie kumalasari',\n 'nia ramadhani pamer body singset , pakai swimsuit one piece',\n '3 wanita yang pernah dekat dengan diego michiels , ada nikita willy juga !',\n 'digrebeg di hotel , aktor ftv ridho illahi berduaan dengan selebgram chagii amelia ?',\n 'umur 3 bulan , begini wajah baby zalina anak raisa dan hamish daud sekarang',\n 'inilah member bts yang punya pendapatan paling besar , bias siapa nih ?',\n 'bakal tampil di jicomfest 2019 , intip video gaya lawakan mli yang super gokil',\n 'berapa persen level humormu , buktiin di jicomfest 2019',\n 'fakta menarik dena rachman , tak mau ubah wajah - pegang gelar magister desain',\n 'masih cinta , 5 pasangan seleb indonesia yang balikan - rujuk setelah sempat cerai',\n \"alasan black widow merelakan diri di ' avengers endgame '\",\n '6 foto kemiripan nia ramadhani dan lisa blackpink , cocok jadi kakak adik ?',\n 'crazy rich pluit ! pria ini beli yacht raffi ahmad cash 4 miliar !',\n '9 potret transformasi song joong ki di drama baru , manly makin kekar & tetap ganteng',\n '3 keunikan hubungan hamish - raisa - zalina , tak pernah terungkap sebelumnya',\n 'kabar duka datang dari prabowo subianto dan keluarga',\n \"12 potret cantik ming xi , model victoria ' s secret yang dilamar anak miliuner china\",\n 'nikita mirzani susui baby arkana bukan pakai asi , tapi pakai asit',\n '7 artis indonesia ini rayakan waisak , siapa saja ?',\n 'cerita nia ramadhani yang pernah kesasar di rumah keluarga bakrie saat awal pacaran',\n 'heboh ! syahrini dan luna maya sepanggung bareng di shopee ramadan tv show',\n 'sambut ramadan , 3 penyanyi muda ini berbagi kebahagiaan dengan anak-anak panti asuhan',\n \"8 fakta menarik ' aladdin ' properti pakai perhiasan asli lho\",\n 'mengenal keluarga ustaz arifin ilham : dari 3 istri , 8 anak sampai menantu yang cantik',\n 'bikin rusak kalung berlian syahrini , ivan gunawan panik',\n 'habis jutaan rupiah di supermarket , struk belanja nikita mirzani panjang banget !',\n 'model ini meniru visual sampai gaya berbusana dari jennie blackpink',\n 'cowok 22 tahun dicoret dari kartu keluarga , diumumkan lewat koran !',\n '6 film layar lebar ini perdana tayang di sctv untuk temani libur lebaran kamu',\n '10 idol korea yang diperkirakan berangkat wajib militer tahun depan , ada bts & exo',\n 'ashanty bukber bareng keluarga besar , ada millendaru tampilannya jadi sorotan',\n '10 fakta vincent raditya , pilot yang lisensinya dicabut karena video prank limbad',\n \"dwayne johnson ' the rock ' bakal bergabung ke marvel cinematic universe ?\",\n 'deretan kpop idol paling fashionable , bisa contek gayanya nih !',\n 'congrats ! meghan markle melahirkan bayi laki-laki',\n '2 seleb ini jalani puasa pertama setelah putuskan jadi mualaf',\n 'penampilan berhijab irish bella saat nonton bareng ammar zoni sukses curi perhatian',\n 'foto perdana baby arkana anak ketiga nikita mirzani , cute banget !',\n 'liburan ke eropa , spider-man punya kostum baru ?',\n 'alami kecelakaan mobil , mantan idol ini tewas seketika',\n \"fakta unik ' pokemon detective pikachu ' , kini bisa ngomong seperti manusia\",\n '14 selebriti hollywood ini ternyata muslim & ikut puasa di bulan ramadan',\n 'belakangi masjid super indah begini cara ammar zoni menatap irish bella yang berhijab',\n \"sutradara ' avengers : endgame ' ungkap marvel akan umumkan karakter gay\",\n 'sophia latjuba datang ke ulang tahun gading , roy marten ungkap hubungan mereka',\n '8 seleb indonesia ini disebut hamil duluan saat menikah , ternyata hoax',\n 'hengkang dari the voice setelah 16 season , adam levine ada masalah ?',\n 'tidur dengan banyak wanita , lamar odom keluarkan banyak dana untuk aborsi',\n 'irina shayk - bradley cooper putus , lady gaga penyebabnya ?',\n \"sederet rumor menarik tim ' avengers ' baru , akan dipimpin captain marvel ?\",\n 'komentar tyson soal kaki melanie ricardo',\n 'pasca avengers endgame , petinggi marvel studios sudah kantongi nama untuk fase 4',\n 'amber f(x) cerita soal hubungan asmara dan mantan kekasihnya',\n '8 k-pop idol ini pernah mengaku naksir dengan idol lain , siapa saja ?',\n '11 potret ootd hijab cantik ayana jihye moon , mualaf korea puasa ramadan di indonesia',\n 'di rusia rambut nabi muhammad dijaga 7 pesawat jet , di indonesia dijaga anak pendekar',\n 'digombalin penggemar , begini reaksi malu-malu jisoo blackpink',\n '5 tahun merantau di jakarta , akankah fendy chow memenuhi harapan sang ibu ?',\n '8 tahun bernaung di jyp entertainment , soloist cantik ini memutuskan hengkang !',\n 'posisi juri indonesian idol digantikan anang , armand maulana menangis',\n 'unggah video ahmad dhani bersama anak , mulan jameela kangen ?',\n 'dituding pansos , tiga setia gara : kalau mau terkenal , saya tendang pantat kim k aja',\n 'viral video choi siwon kepedasan , tembus 16 juta viewer dalam 2 hari !',\n \"6 ' squad ' di drama korea ini , benar-benar jadi ' friendship goals '\",\n 'dancer k-pop terpopuler saat ini , gak kalah kece dari idol !',\n 'chung ha dan ateez buka smartfren wow concert , seisi istora senayan bergemuruh !',\n \"unggah foto di liburan , bts siapkan program ' bon voyage ' ?\",\n \"disomasi barbie kumalasari , billy syahputra : gue nggak ' nyentil ' , sebelum ' disentil '\",\n 'jadi gemuk punya double chin , jessica mila nyaris tak bisa dikenali',\n 'menangis saat anang gantikan posisinya di indonesian idol , ini alasan armand maulana',\n 'top 3 puteri indonesia 2019 dikirim ke ajang kecantikan internasional',\n 'heboh barbie kumalasari naik pesawat 8 jam , sederet seleb ini tulis caption menyindir',\n 'penghasilan verrell bramasta 3 bulan jadi youtuber , bisa beli 2 mobil !',\n \"selebritis yang jadi terseret jadi ' korban ' skandal bts , siapa saja ?\",\n '12 transformasi millendaru , dari cowok cantik berdada bidang - doyan bikinian',\n 'resmi diluncurkan , ini gebrakan baru di festival film indonesia 2019',\n '5 film indonesia terbaru yang bikin kamu #antingaret berangkat ke bioskop',\n 'taemin shinee akan tampil di hut rcti ke-30 , shawol beruntung bisa bertemu !',\n 'ini bukti sehun exo sosok religius , tak banyak yang tahu',\n 'dipenjara bareng galih ginanjar atau cerai , mana yang akan dipilih barbie kumalasari ?',\n \"james gunn ungkap batman bakal muncul di ' suice squad 2 ' ?\",\n 'mia khalifa buka-bukaan tentang video panas berhijab , diteror isis !',\n \"klarifikasi ria ricis soal timnya yang mendadak resign usai video ' saya kembali '\",\n 'ruben onsu ulang tahun , ini 16 transformasinya dari tembem abis - segar awet muda',\n 'hadiri resepsi anak raam punjabi , luna maya & bcl santap api menyala !',\n '12 artis ini pernah jadi anggota paskibra , siapa saja mereka ?',\n 'pelukan dengan reino barack , ini harga sweater syahrini yang harganya sampai 2 digit !',\n \"10 idola dengan rahang tajam ' mengiris hati ' , kai exo sampai bobby ikon\",\n 'jual rumah demi shakira , kediaman denada ditawar keluarga menteri dengan harga segini',\n 'nia ramadhani hadiri pernikahan anak raam punjabi , sebal sama bcl gara-gara ini',\n '15 pasangan seleb korea yang cinlok tak berakhir bahagia : putus - cerai',\n 'terkuak ! ini alasan ali syakieb - citra kirana putus , bukan karena rezky aditya',\n 'yuk , jemput impian kamu bareng julian jacob !',\n 'nama anak ditiru fans , franda : bayimu tak pantas pakai nama itu !',\n 'kesal dianggap pansos , bebby fey beber bukti foto sang youtuber',\n \"hotman paris mengaku dapat panggilan ' gus lora ' , begini penjelasan nu\",\n 'bak dilan , gombalan jaemin nct dream sukses bikin fans baper',\n 'kylie jenner unggah foto telanjang di pelukan travis scott',\n 'inilah sederet tipe pacar yang biasa ditemui dalam drama korea',\n 'inspirasi gaya tas pinggang ala kylie jenner , effortless stylish !',\n 'bisnis yang ditekuni dua anak bj habibie , sama-sama cerdas dan sukses',\n 'sandra dewi akhirnya pamer wajah mikhael moeis , ganteng banget !',\n 'dami kwon kakak g-dragon bakal nikahi aktor kim min joon , begini detailnya',\n 'camila cabello dan shawn mendes pamer ciuman ala ikan , konfirmasi pacaran ?',\n 'booming iklan mie sedaap versi choi siwon , ternyata begini rasanya',\n 'karena ini teuku rassya buka restoran bertema papua',\n 'kylie jenner blak-blakan masalah hubungan seksual dengan travis scott',\n 'barbie kumalasari bakal ke amerika bareng boy william , begini ceritanya',\n 'barbie kumalasari & galih ginanjar dikabarkan pisah , begini klarifikasi indra tarigan',\n '5 film terbaik indonesia yang nggak pernah bosan ditonton lagi , apa judul favoritmu ?',\n 'sharing sampo anti-ketombe favorit , #racunalo viral di medsos',\n 'kado pernikahan justin bieber , jam tangan mewah seharga 1 miliar !',\n \"18 tahun setelah ' kkkg ' , kajol dan kareena kapoor satu frame lagi dan makin stunning !\",\n 'ini alasan robby shine mantap berbisnis pusat kebugaran',\n 'halaman kapanlagi korea resmi launching , isinya apa aja sih ?',\n 'rosa meldianti ikut kontes puteri indonesia , lucinta luna merasa tersaingi ?',\n 'barbie kumalasari akhirnya klarifikasi setelah dihujat gara-gara naik pesawat 8 jam',\n 'kocak ! gara-gara penilaian guru di masa lalu , deepika padukone ancam ranveer singh',\n 'gisella anastasia akhirnya ungkap alasan gugat cerai gading marten',\n 'keluar dari grup wa geng menteri ceria , melaney ricardo & luna maya berantem ?',\n 'khirani beranjak remaja , mayangsari bagikan trik parentingnya',\n 'pengakuan atta halilintar soal berhubungan intim di hotel bersama bebby fey',\n 'jelang pernikahan , hailey baldwin dapat pesta bachelorette yang seru dan nakal !',\n '4 tahun pergi , seperti ini kondisi makam olga syahputra',\n '7 k-pop idol yang mirip karakter animasi disney , j-hope bts - taeyeon snsd',\n 'betrand peto ke korea , gayanya di bandara total hampir mencapai rp 50 juta',\n \"lagu ' location unknown ' viral , gempi putri gading dan gisel akhirnya dinotice honne\",\n '7 pemotretan terbaru jessica iskandar - nia ramadhani , bak bidadari turun dari langit',\n \"syahrini unggah video tubuh mungilnya ' diunyel-unyel ' reino barack !\",\n 'spider-man dikabarkan hengkang dari mcu , begini penjelasan sony pictures',\n 'cut meyriska sakit perut selama 5 tahun , ini serangkaian pemeriksaan yang dilaluinya',\n 'damai , melaney ricardo unggah foto pelukan dengan elza syarief',\n 'siapa sangka , sampo favorit alodita ternyata ada di supermarket !',\n 'deretan kpop idol paling bersinar , mana yang ingin kamu tonton konsernya ?',\n 'sound on ! dengerin nikmatnya para influencers seruput nongshim ramyun',\n 'cara zaskia adya mecca atasi trauma putrinya periksa gigi',\n 'nikita mirzani ungkap alasan kekasih mau sama dirinya : kamu enak sayang',\n 'nikita mirzani meski kaya tapi nggak boros , sadar diri janda anak tiga banyak cicilan',\n 'ruben onsu disebut punya tabungan rp 27 m , ini sederet sumber penghasilannya',\n 'foto jadul rossa saat masih sma , tampil manis dengan rambut pendek',\n \"peluncuran trailer ' gundala ' , abimana arasatya ungkap satu fakta unik\",\n 'aksi gilang ramadhan dan 500 atraksi lainnya di festival dhol 2019',\n 'jokowi hadiri nikahan wartawan , ternyata anak seleb terkenal',\n \"blak-blakan , millendaru ngaku pernah ada ' urusan ranjang ' dengan artis inisial zl\",\n 'sebelum tertangkap narkoba , ini deretan film jefri nichol !',\n 'dikabarkan putus , shenina cinnamon posting foto bareng jefri nichol',\n 'jennifer dunn pamer rumah baru , super megah lengkap dengan kolam renang mewah',\n 'vanessa angel blak-blakan mengenai alasan putus dengan bibi',\n 'alasan celine evangelista pakai kerudung di acara pemberkatan 7 bulan kehamilan',\n 'irwansyah main sinetron lagi bareng chelsea olivia , zaskia sungkar cemburu ?',\n 'momen gemas saat nastusha cemburu jika ada yang deketin chelsea olivia',\n '10 persiapan penting sebelum masuk area jicomfest 2019',\n 'sederet potret cantik shandy aulia , tak absen olahraga meski hamil muda',\n \"harga starter pack sekolah saaih halilintar bikin ' sobat miskin ' melongo\",\n \"video adegan yang dihapus dari versi asli ' avengers : endgame ' , masih bikin nangis\",\n 'fakta mengejutkan terkuak , jennifer dunn bohong soal rumah barunya ?',\n '9 film indonesia yang bakal tayang di bioskop bulan agustus 2019',\n 'dulu bercinta sehari 8 ronde , barbie kumalasari bakal minta bilik asmara untuk galih ?',\n 'pernah pakai ganja , ini tanggapan uus soal seleb yang terlibat narkoba',\n '5 potret song hye kyo pemotretan w magazine , cantik bak princess disney',\n 'kalau pandji , ernest dan raditya dika sepanggung , siapa paling bikin kamu ketawa ?',\n 'deretan pria yang sempat dekati cut meyriska , mulai artis - perwira',\n 'vanessa angel bicara soal jodoh : siapa sih cowok yang mau nerima aku ?',\n 'ikut sarwendah ke lokasi syuting , inilah hal lucu yang dilakukan betrand peto',\n 'ini alasan yang bikin uus memilih untuk berhenti pakai narkoba',\n 'sinopsis drama rich man episode 3 , kerja keras suho exo terancam gagal !',\n 'kate middleton & pangeran william bawa ketiga anaknya naik pesawat murah',\n 'baru dibaptis , ini pengakuan anwar hadid soal perbedaaan agama dalam keluarga',\n 'tom holland akhirnya ungkap nasib film spider-man selanjutnya',\n 'blak-blakan , tyas mirasih akhirnya bongkar perselingkuhan raffi ahmad di masa lalu',\n 'brie larson tunjukkan kemampuan bermusik dengan cover lagu satu ini',\n 'youtuber tana mongeau bawa ular ke vmas 2019 , tiru gaya britney spears 18 tahun lalu ?',\n 'foto orangtua jungkook bts , ayahnya ganteng banget - ibunya awet muda',\n 'maia estianty ungkap luna maya diam-diam tengah siapkan pernikahan !',\n 'resmi ! choi jong hoon ditetapkan sebagai tersangka dalam kasus penyuapan polisi',\n 'lakukan v live , brand new boys bocorkan tanggal debut',\n 'suka film horor ? berikut deretan film horor yang bakal tayang di bulan april',\n \"jenita janet jajal filler terobosan baru ' algenesss ' , 100 % bahan alami !\",\n 'rapat investor yg entertainment selesai digelar , ini hasilnya !',\n \"rilis teaser pendek , serial ' strager things ' ungkap tanggal tayang season ketiga\",\n 'lucunya lee dong wook tak bisa berhenti menangis karena ini !',\n \"potret ' us ' , film thriller jenaka yang bikin deg-degan\",\n 'billy syahputra anggap angela lee hanya teman',\n 'fakta menarik girlband korea selatan , momoland',\n 'deretan selebriti indonesia yang ngefans idol korea',\n 'heboh kasus jung joon young , youtuber ini ngaku pernah dilecehkan idol pria',\n 'wanita dengan tubuh berisi terbukti bikin pria lebih bahagia',\n 'kronologi lengkap pemuda di bandung tusuk gadis pujaan karena cinta ditolak',\n 'sarapan bikin ngantuk , mitos atau fakta ?',\n 'puisi hairdryer dian sastro yang tak terduga dan reaksi netizen',\n 'unggah foto bersama habibie , syahrini : semoga dipertemukan dengan ibu ainun di surga',\n 'acungkan pisau , pria ini resahkan pengunjung pantai kuta',\n 'minta anggaran naik ke sri mulyani , anggota dpr curhat terjebak di lift',\n 'senangnya suporter thailand diberi hadiah jersey dan syal indonesia',\n 'penjelasan pihak sd di bekasi soal video pemukulan seorang siswa kepada teman-temannya',\n 'sibuk hingga batal bertemu pimpinan kpk , ini agenda jokowi seharian',\n 'spanduk pecel lele hingga obat kuat jadi cara jakmania kritik persija',\n 'aplikasi google ungkap fitur-fitur kamera baru di pixel 4',\n '5 fakta menarik animasi spongebob squarepants yang perlu kamu tahu !',\n 'chris hemsworth atau natalie portman , ini bintang utama thor : love and thunder',\n 'ini anggota pansus pemindahan ibu kota bentukan dpr',\n 'penemuan terbaru ungkap penyebab punahnya dinosaurus',\n 'cerita saut diajak makan pecel 3 pimpinan kpk setelah tulis surat pengunduran diri',\n 'tim dokter jelaskan kondisi kesehatan bj habibie',\n 'ketua hipmi lempar isyarat \" punya waktu longgar \" , ini respon presiden jokowi',\n 'cinta ditolak , pemuda di bandung tusuk gadis pujaan',\n 'tarik mata-mata dari rusia , as alami \" kebutaan \"',\n 'cerita gabby , perempuan setinggi 2 , 2 meter yang selalu ditolak saat melamar kerja',\n 'fakta bocah 11 tahun dicabuli dan dibunuh saat akan pergi ngaji , diimingi uang hingga dijerat dengan sarung',\n 'viral video penggerebekan pasangan selingkuh , penginapan di buleleng disidak',\n 'diskriminasi hingga pelanggaran ham dinilai akar masalah papua yang belum tersentuh',\n 'jelang berakhirnya pemerintahan , 3 menteri jokowi pamit . . .',\n 'gagal , rencana 3 . 000 orang main petak umpet di ikea',\n '6 reaksi shandy aulia hadapi netizen julid',\n 'pertarungan buaya 1 , 8 meter dan anakonda sepanjang 8 meter , siapa yang menang ?',\n 'ini langkah ditjen imigrasi setelah terima surat pencegahan dan pencabutan paspor veronica koman',\n 'fakta kecelakaan bus mira vs innova di nganjuk-madiun , sempat ambil video hingga 3 penumpang tewas',\n 'ini hasrat pecatur andalan indonesia di piala dunia fide',\n 'disebut oleh dprd hanya ban serep ridwan kamil , ini kata uu ruzhanul',\n 'anak posesif , nicky tirta dilarang dekat dengan wanita lain',\n 'dirut sriwijaya air dicopot ?',\n 'viral pemutihan sim yang sudah mati , polisi sebut hoax',\n 'ini cara para seniman tolak revisi uu kpk',\n 'bocoran foto daihatsu sigra facelift',\n 'lambaian tangan meghan markle di tengah keramaian final us open . . .',\n 'kami mencari tahu mengapa cosplayer menyukai kostum karakter , ini jawabannya . . .',\n 'lanjutkan penguatan , berikut kurs rupiah hari ini di 6 bank',\n 'sisi buruk tote bag pengganti kantong plastik',\n 'ini pesan terakhir istri yang gantung diri setelah cekcok dengan suami soal foto pelukan',\n 'ini alasan museum sejarah bentoel di malang dijual',\n 'saat luhut dan susi pamit . . .',\n 'tips bagi yang berniat memelihara vw kodok',\n 'karyawan amazon bakal turun ke jalan lakukan protes , apa alasannya ?',\n 'lewat siji , cara beda nikmati koleksi museum seni rupa dan keramik',\n 'bagaimana pilihan jenis gelas bisa pengaruhi rasa kopi ?',\n 'waspada bahaya polutan udara di dalam ruangan',\n 'sri mulyani ingin rekam medis 267 juta penduduk ri diidentifikasi , kenapa ?',\n '4 fakta hari pertama penerapan sistem ganjil genap di jakarta barat',\n 'cukup bayar rp 5 . 000 untuk masuk ke 5 museum di jakarta ini',\n 'cerita bupati mamberamo tengah papua saat puluhan mahasiswanya memilih pulang kampung',\n 'ketika menteri susi minta maaf dan akui dirinya sedikit tengil . . .',\n 'bedanya teknologi hybrid e-power pada nissan note',\n 'apa beda penarikan dan pencabutan paspor ? ini penjelasan pakar hukum',\n 'dul jaelani : tolong maafkan saya . . . maafkan saya . . .',\n 'disebut kerjanya cuma menembaki kapal , ini kata menteri susi',\n 'fakta sopir truk tanah jadi tersangka tabrakan beruntun di bintaro',\n 'kemal mochtar berhasil turunkan berat badan 50 kg dalam setahun , apa rahasianya ?',\n 'seorang polisi tepergok tanpa busana dengan istri orang , ini sanksi yang menanti',\n 'kerap diarak orang jepang , apa itu mikoshi ?',\n 'hari tanpa bayangan di indonesia , bagaimana bisa terjadi ?',\n 'cerita jatuh bangun pemilik warung dian dan barokah unhas hingga jadi langganan mahasiswa',\n 'diajak perang gubernur maluku , ini jawaban menteri susi',\n 'viral , seorang pengendara keluarkan jurus silat saat kena razia polisi',\n 'fakta kabut asap di sumatera dan kalimantan , penerbangan dibatalkan hingga warga sesak nafas',\n '7 kisah pasien ditandu menuju puskesmas , disebut \" ambulans desa \" hingga selamatkan ibu melahirkan',\n 'cukai rokok tahun depan naik , ini pertimbangan pemerintah',\n 'viral , penumpang berdiri 6 jam di pesawat demi istri bisa tidur',\n '16 manfaat renang bagi tubuh yang tak bisa diremehkan',\n 'saat 10 capim kpk \" dikunci \" dengan surat bermeterai ini . . .',\n 'viral video wanita bugil naik motor keliling samarinda , ini kronologi kejadiannya',\n 'polemik pb djarum vs kpai yang berujung stop audisi . . .',\n 'sby menitikkan air mata . . .',\n 'armand maulana jadi juri anaknya di the voice | dipenjara , santunan ahmad dhani terhenti ?',\n 'ditilang karena ganjil genap , begini cara mengurus denda tilang',\n 'apa itu espresso dan istilah lain di kedai kopi yang harus kamu tahu',\n 'jangan makan pisang saat sarapan , ini alasannya',\n 'duduk perkara ratusan mahasiswa papua pilih pulang kampung , berawal dari maklumat . . .',\n 'ibu kota baru dikritik ridwan kamil terlalu luas , ini komentar gubernur kaltim',\n 'samsung galaxy a20s dibekali tiga kamera belakang ?',\n 'pindah ibu kota pengaruhi arus era kendaraan listrik ?',\n 'pihak sekolah tidak setuju andreas diasuh wali kota malang , ini sebabnya',\n 'empat fakta baru terungkap dalam sidang kasus narkoba jefri nichol',\n 'pemain nba tak boleh lagi bergaya ala ninja',\n 'hari tanpa bayangan dan ekuinoks , sama atau beda ? ini penjelasannya',\n 'turunkan berat badan 50 kg , kemal mochtar : jaga porsi makan dan gerak !',\n 'unik , saudara kembar ini sama-sama dilantik jadi kepala desa di gresik',\n 'harga emas dunia turun untuk 3 hari beruntun , apa sebabnya ?',\n 'berbagai keluhan pengendara di hari pertama penerapan perluasan ganjil genap',\n 'awas virus joker , segera hapus 24 aplikasi ini dari ponsel android anda',\n 'heboh kasus perselingkuhan berujung pembunuhan , ini sisi klinisnya',\n 'alasan m rafli tak dimainkan sebagai striker di arema fc',\n '3 kabar terbaru ria irawan , belajar bicara hingga radioterapi',\n 'berbagai reaksi pelanggar ganjil genap , coba suap petugas hingga telepon kerabat',\n '4 fakta menarik hari pertama ganjil genap di jakarta timur',\n 'penyakit tbc , dari penyebab , gejala , pengobatan , hingga pencegahan',\n ...]"
     },
     "execution_count": 15,
     "metadata": {},
     "output_type": "execute_result"
    }
   ],
   "source": [
    "d_both"
   ],
   "metadata": {
    "collapsed": false
   }
  },
  {
   "cell_type": "code",
   "execution_count": 16,
   "outputs": [
    {
     "name": "stdout",
     "output_type": "stream",
     "text": [
      "['masuk radar pilwalkot medan , menantu jokowi bertemu dpw nasdem sumut', 'malaysia sudutkan ri : isu kabut asap hingga invasi babi', 'kemensos salurkan rp 7 , 3 m bagi korban kerusuhan sosial di papua', 'terkait mayat bayi mengenaskan di tangerang , seorang pria ditangkap polisi', 'uang rp 1 , 6 m yang raib di parkiran kantor gubernur sumut untuk honor tapd']\n",
      "['viral ! driver ojol di bekasi antar pesanan makanan pakai sepeda', 'ada motor nyangkut di atas bambu di sleman , kok bisa ?', 'pesan gamblang poyuono menolak revisi uu kpk', 'detik-detik lima kendaraan alami kecelakaan beruntun di cipularang', 'kocak ! maling di rumah mewah jakut terekam cctv bingung cari jalan kabur']\n"
     ]
    }
   ],
   "source": [
    "# create list of clickbait and nonclickbait headline\n",
    "\n",
    "df_clickbait_t = df_clickbait_clean.drop(['label', 'label_encoding'], axis=1).values.tolist()\n",
    "clickbait_l_c = list(itertools.chain.from_iterable(df_clickbait_t))\n",
    "\n",
    "df_nonclickbait_t = df_nonclickbait_clean.drop(['label', 'label_encoding'], axis=1).values.tolist()\n",
    "nonclickbait_l_c = list(itertools.chain.from_iterable(df_nonclickbait_t))\n",
    "\n",
    "print(nonclickbait_l_c[0:5])\n",
    "print(clickbait_l_c[0:5])"
   ],
   "metadata": {
    "collapsed": false
   }
  },
  {
   "cell_type": "markdown",
   "source": [
    "# Feature Extraction: Ngram [100% DONE]"
   ],
   "metadata": {
    "collapsed": false
   }
  },
  {
   "cell_type": "code",
   "execution_count": 17,
   "outputs": [],
   "source": [
    "#these are methods that will become useful when extracting attribute markers\n",
    "#why do we need all this? well... that's like 5 hours of debugging...\n",
    "def flatten(foo):\n",
    "    return list(_flatten(foo))\n",
    "\n",
    "def _flatten(foo):\n",
    "    for x in foo:\n",
    "        if isinstance(x, collections.Iterable) and not isinstance(x, str):\n",
    "            for y in _flatten(x):\n",
    "                yield y\n",
    "        else:\n",
    "            yield x\n",
    "\n",
    "def array_to_string(a):\n",
    "    return ' '.join(flatten(a))\n",
    "\n",
    "def is_in_string_array(elements, original): #deprecated, does not take into account sequence order\n",
    "    return np.isin(array_to_string(elements).split(), array_to_string(original).split()).any()\n",
    "# no usage in the func\n",
    "def insert_string(string, inserted_string, index):\n",
    "    return string[:index] + inserted_string + string[index:]\n",
    "\n",
    "# modified from https://stackoverflow.com/questions/41752946/replacing-a-character-from-a-certain-index\n",
    "def replace_string(s, newstring, index, nofail=False):\n",
    "    # raise an error if index is outside of the string\n",
    "    if not nofail and index not in range(len(s)):\n",
    "        raise ValueError(\"index outside given string. index:\" + index)\n",
    "\n",
    "    # if not erroring, but the index is still not in the correct range..\n",
    "    if index < 0:  # add it to the beginning\n",
    "        return newstring + s\n",
    "    if index > len(s):  # add it to the end\n",
    "        return s + newstring\n",
    "\n",
    "    # insert the new string between \"slices\" of the original\n",
    "    return s[:index] + newstring + s[index + len(newstring):]"
   ],
   "metadata": {
    "collapsed": false
   }
  },
  {
   "cell_type": "code",
   "execution_count": 18,
   "outputs": [],
   "source": [
    "# creating function for making ngram from list of headline\n",
    "def ngram_maker_v2(list_sentences, min_length, max_length):\n",
    "    lengths = range(min_length, max_length + 1)\n",
    "    res_ngram = {length : [] for length in lengths}\n",
    "\n",
    "    for leng in lengths:\n",
    "        for sentence in list_sentences:\n",
    "            temp_set = set()\n",
    "            n_grams = ngrams(nltk.word_tokenize(sentence), leng)\n",
    "\n",
    "            for grams in n_grams:\n",
    "                res = ' '.join(grams)\n",
    "                temp_set.add(res)\n",
    "\n",
    "            for key in temp_set:\n",
    "                split_t = tuple(key.split(\" \"))\n",
    "                res_ngram[leng].append(split_t)\n",
    "\n",
    "    return res_ngram"
   ],
   "metadata": {
    "collapsed": false
   }
  },
  {
   "cell_type": "code",
   "execution_count": 19,
   "outputs": [],
   "source": [
    "# create a function that count the ngram occurance\n",
    "def counter_for_ngram(ngram_dict, min_length, max_length):\n",
    "    lengths = range(min_length, max_length + 1)\n",
    "    ngram_count_res = {length : [] for length in lengths}\n",
    "\n",
    "    for key in ngram_dict:\n",
    "        ng_count = Counter(ngram_dict[key])\n",
    "        ngram_count_res[key] = ng_count\n",
    "\n",
    "    return ngram_count_res"
   ],
   "metadata": {
    "collapsed": false
   }
  },
  {
   "cell_type": "code",
   "execution_count": 20,
   "outputs": [],
   "source": [
    "param_span_t = 3\n",
    "clickbait_ngrams_v2= ngram_maker_v2(list_sentences=clickbait_l_c, min_length=1, max_length=param_span_t)\n",
    "clickbait_ngram_count_v2 = counter_for_ngram(ngram_dict=clickbait_ngrams_v2,min_length=1, max_length=param_span_t)\n",
    "\n",
    "non_clickbait_ngrams_v2= ngram_maker_v2(list_sentences=nonclickbait_l_c, min_length=1, max_length=param_span_t)\n",
    "non_clickbait_ngram_count_v2 = counter_for_ngram(ngram_dict=non_clickbait_ngrams_v2,min_length=1, max_length=param_span_t)"
   ],
   "metadata": {
    "collapsed": false
   }
  },
  {
   "cell_type": "code",
   "execution_count": 21,
   "outputs": [],
   "source": [
    "# creat function for get ngram from the word in the one sentence reference only\n",
    "def ngram_from_sentence_v3(ori_sentence, min_length, max_length):\n",
    "    sent_in_arr = [ori_sentence]\n",
    "    res_ngram_sentence = []\n",
    "    stc_ngram_only = ngram_maker_v2(list_sentences=sent_in_arr, min_length=min_length, max_length=max_length)\n",
    "    return stc_ngram_only\n",
    "\n",
    "def count_ngram_sentence_onlyV3(ngram_dictionary, ngram_from_sentence, min_length, max_length):\n",
    "    lengths = range(min_length, max_length + 1)\n",
    "    ngram_compare_arr = []\n",
    "\n",
    "    for length in lengths:\n",
    "        for split in ngram_from_sentence[length]:\n",
    "            ngram_compare_arr.append([split, ngram_dictionary[length][split]])\n",
    "\n",
    "    return np.array(ngram_compare_arr)"
   ],
   "metadata": {
    "collapsed": false
   }
  },
  {
   "cell_type": "code",
   "execution_count": 22,
   "outputs": [],
   "source": [
    "# create function for get the attribute of the sentence\n",
    "\n",
    "smoothing_parameter = 1\n",
    "\n",
    "def array_to_string(a):\n",
    "    return ' '.join(flatten(a))\n",
    "\n",
    "# the word is in the final array;\n",
    "def is_in_string_array_v2(elements, original):\n",
    "    return np.isin(array_to_string(elements).split(), array_to_string(original).split()).any()\n",
    "\n",
    "# the the attribute based on the sentence, with min_length, max_length and the reference clickbait/nonclickbait dictinoary\n",
    "def get_attribute_sentence(sentence, min_length, max_length, ref_bait, param_threshold):\n",
    "    # ngram sentence as reference\n",
    "    sentence_ngram_ref = ngram_from_sentence_v3(ori_sentence=sentence, min_length=min_length, max_length=max_length)\n",
    "\n",
    "    # count the clickbait sentence, clickbait ngram count as based reference\n",
    "    counts_sentence_clickbait = count_ngram_sentence_onlyV3(clickbait_ngram_count_v2,sentence_ngram_ref,min_length,max_length)\n",
    "\n",
    "    # print(counts_sentence_clickbait)\n",
    "\n",
    "    # count the non-clickbait sentence, non-clickbait ngram count as based reference\n",
    "    counts_sentence_nonclickbait = count_ngram_sentence_onlyV3(non_clickbait_ngram_count_v2,sentence_ngram_ref,min_length,max_length)\n",
    "\n",
    "    importances = 0\n",
    "\n",
    "    csn_int = counts_sentence_nonclickbait[:,1]\n",
    "    csn_ngram = counts_sentence_nonclickbait[:,0]\n",
    "\n",
    "    csc_int = counts_sentence_clickbait[:,1]\n",
    "    csc_ngram = counts_sentence_clickbait[:,0]\n",
    "\n",
    "    if ref_bait == \"to-clickbait\":\n",
    "        top = (csc_int + smoothing_parameter)\n",
    "        bottom = (csn_int + smoothing_parameter)\n",
    "        importances = (top/bottom)\n",
    "    elif ref_bait == \"to-non-clickbait\":\n",
    "        top = (csn_int+ smoothing_parameter)\n",
    "        bottom = (csc_int + smoothing_parameter)\n",
    "        importances = (top/bottom)\n",
    "\n",
    "    # print(counts_sentence_clickbait)\n",
    "\n",
    "    de = counts_sentence_clickbait[:, 0]\n",
    "    # print(\"impot: \", importances)\n",
    "\n",
    "    # print(\" de: \", de)\n",
    "    importances_t = np.vstack((importances, de)).T\n",
    "\n",
    "    # print(\"importances_t\", importances_t)\n",
    "\n",
    "    attribute_words = []\n",
    "    for importance in importances_t:\n",
    "        if importance[0] > param_threshold and not is_in_string_array_v2(importance[1], attribute_words):\n",
    "            # print(importance[1])\n",
    "            attribute_words.append(' '.join(importance[1]))\n",
    "\n",
    "    return attribute_words"
   ],
   "metadata": {
    "collapsed": false
   }
  },
  {
   "cell_type": "code",
   "execution_count": 23,
   "outputs": [
    {
     "name": "stderr",
     "output_type": "stream",
     "text": [
      "/var/folders/1n/2gdy6g815s301ygx2s35p6_80000gp/T/ipykernel_2115/4054946038.py:16: VisibleDeprecationWarning: Creating an ndarray from ragged nested sequences (which is a list-or-tuple of lists-or-tuples-or ndarrays with different lengths or shapes) is deprecated. If you meant to do this, you must specify 'dtype=object' when creating the ndarray.\n",
      "  return np.array(ngram_compare_arr)\n",
      "/var/folders/1n/2gdy6g815s301ygx2s35p6_80000gp/T/ipykernel_2115/1295762271.py:8: DeprecationWarning: Using or importing the ABCs from 'collections' instead of from 'collections.abc' is deprecated since Python 3.3, and in 3.10 it will stop working\n",
      "  if isinstance(x, collections.Iterable) and not isinstance(x, str):\n"
     ]
    }
   ],
   "source": [
    "# run the get attribute sentence\n",
    "test11 = get_attribute_sentence(\"viral ini ! bj habibie meninggal\", 1, 2, \"to-clickbait\", 4 )"
   ],
   "metadata": {
    "collapsed": false
   }
  },
  {
   "cell_type": "code",
   "execution_count": 24,
   "outputs": [],
   "source": [
    "def separate(sentence, style_src, param_threshold):\n",
    "    attributes = get_attribute_sentence(sentence, 1, 2, \"to-clickbait\", param_threshold )\n",
    "    c = sentence\n",
    "\n",
    "    replace_indexes = []\n",
    "\n",
    "    for a in attributes:\n",
    "        replace_index = -1\n",
    "        replace_index = c.find(a)\n",
    "        replace_indexes.append(replace_index)\n",
    "        c = c.replace(a, \" \"*len(a))\n",
    "\n",
    "    if len(attributes) == 0:\n",
    "        return {'c': c, 'a': [], 'i': [], 's': sentence}\n",
    "\n",
    "    replace_indexes, attributes = zip(*sorted(zip(replace_indexes, attributes)))\n",
    "    return {'c': c, 'a': attributes, 'i': replace_indexes, 's': sentence}\n",
    "\n",
    "def get_c(sentence, style, param_threshold):\n",
    "    return re.sub(' +', ' ', separate(sentence, style, param_threshold)['c'])\n",
    "\n",
    "def get_a(sentence, style, param_threshold):\n",
    "    a = separate(sentence, style, param_threshold)['a']\n",
    "    if len(a) > 0:\n",
    "        return ' '.join(a)\n",
    "    else:\n",
    "        return \"\""
   ],
   "metadata": {
    "collapsed": false
   }
  },
  {
   "cell_type": "markdown",
   "source": [
    "# Preprocessed : TFIDF, Retrieve Function [100% DONE]"
   ],
   "metadata": {
    "collapsed": false
   }
  },
  {
   "cell_type": "markdown",
   "source": [
    "to get similar sentece in the clickbait headline list"
   ],
   "metadata": {
    "collapsed": false
   }
  },
  {
   "cell_type": "code",
   "execution_count": 25,
   "outputs": [],
   "source": [
    "# 3 of all headline list\n",
    "# d_both\n",
    "# nonclickbait_l_c\n",
    "# clickbait_l_c"
   ],
   "metadata": {
    "collapsed": false
   }
  },
  {
   "cell_type": "code",
   "execution_count": 24,
   "outputs": [
    {
     "name": "stderr",
     "output_type": "stream",
     "text": [
      "/Users/nurrizkyimani/.conda/envs/workspace/lib/python3.8/site-packages/sklearn/utils/deprecation.py:87: FutureWarning: Function get_feature_names is deprecated; get_feature_names is deprecated in 1.0 and will be removed in 1.2. Please use get_feature_names_out instead.\n",
      "  warnings.warn(msg, category=FutureWarning)\n"
     ]
    }
   ],
   "source": [
    "# import all needed librarty\n",
    "tfidf_vectorizer=TfidfVectorizer(use_idf=True, stop_words=None)\n",
    "tfidf_vectorizer_vectors=tfidf_vectorizer.fit_transform(d_both)\n",
    "dict_idf = dict(zip(tfidf_vectorizer.get_feature_names(), tfidf_vectorizer.idf_))"
   ],
   "metadata": {
    "collapsed": false
   }
  },
  {
   "cell_type": "markdown",
   "source": [],
   "metadata": {
    "collapsed": false
   }
  },
  {
   "cell_type": "code",
   "execution_count": 25,
   "outputs": [],
   "source": [
    "param_backoff_limit = 3\n",
    "def get_overlap(a, b):\n",
    "    #     print(a, b)\n",
    "    a_counter = collections.Counter(a.split())\n",
    "    b_counter = collections.Counter(b.split())\n",
    "    overlap = a_counter & b_counter\n",
    "    return overlap\n",
    "\n",
    "def get_weighted_overlap(a, b):\n",
    "    overlap = get_overlap(a, b)\n",
    "    a_counter = collections.Counter(a.split())\n",
    "    #calculate\n",
    "    weighted_overlap = 0\n",
    "    for word in overlap:\n",
    "\n",
    "        word_tf = a_counter[word]#/len(a.split()) -> commented out cause division by constant value doesn't matter\n",
    "\n",
    "        get_idf = dict_idf.get(word)\n",
    "        word_idf = 1 if get_idf == None else get_idf #get rid of error when idf not in dict\n",
    "\n",
    "        word_tfidf = word_tf*word_idf\n",
    "        weighted_overlap+=overlap[word]*word_tfidf\n",
    "\n",
    "    return weighted_overlap\n",
    "\n",
    "# 0 = nonclickbait_l_c\n",
    "# 1 = clickbait_l_c\n",
    "\n",
    "def get_similar_sentence_v2(sentence, style_src):\n",
    "    opposite_dataset = clickbait_l_c if style_src else nonclickbait_l_c\n",
    "\n",
    "    closest_sentence = \"\"\n",
    "    highest_overlap = 0\n",
    "    previous_sentences = []\n",
    "\n",
    "    for sentence_b in opposite_dataset:\n",
    "        weighted_overlap = get_weighted_overlap(sentence, sentence_b)\n",
    "        if weighted_overlap > highest_overlap and sentence_b not in previous_sentences:\n",
    "            highest_overlap = weighted_overlap\n",
    "            closest_sentence = sentence_b\n",
    "\n",
    "    return closest_sentence\n",
    "\n",
    "def get_similar_sentence(sentence, style_src):\n",
    "\n",
    "    opposite_dataset = clickbait_l_c if style_src else nonclickbait_l_c\n",
    "    highest_overlap = 0\n",
    "    closest_sentence = \"\"\n",
    "    num_markers = 0\n",
    "    previous_sentences = []\n",
    "    backoff_count = 0\n",
    "\n",
    "    min_attribute_markers=len(get_attribute_sentence(sentence, 1, 2, \"to-non-clickbait\", 5 ))\n",
    "\n",
    "    while(num_markers < min_attribute_markers and backoff_count < param_backoff_limit):\n",
    "        for sentence_b in opposite_dataset:\n",
    "            weighted_overlap = get_weighted_overlap(sentence, sentence_b)\n",
    "            if weighted_overlap > highest_overlap and sentence_b not in previous_sentences:\n",
    "                highest_overlap = weighted_overlap\n",
    "                closest_sentence = sentence_b\n",
    "        highest_overlap = 0\n",
    "        backoff_count += 1\n",
    "        previous_sentences.append(closest_sentence)\n",
    "        num_markers = len((get_attribute_sentence(closest_sentence, 1, 2, \"to-clickbait\", 5 )))\n",
    "\n",
    "    return closest_sentence"
   ],
   "metadata": {
    "collapsed": false
   }
  },
  {
   "cell_type": "code",
   "execution_count": 26,
   "outputs": [],
   "source": [
    "# Retrieve using tfidf\n",
    "def retrieve_v2(sentence, style_ret_src):\n",
    "    style_src = 0\n",
    "    if(style_ret_src == \"to-clickbait\"):\n",
    "        style_src = 1\n",
    "\n",
    "    similar_stc =  get_similar_sentence_v2(sentence=sentence, style_src=style_src)\n",
    "    print(\"v2 stc: \", similar_stc)\n",
    "    return separate(sentence=similar_stc, style_src= \"to-clickbait\", param_threshold=5)\n",
    "\n",
    "# Retrieve using tfidf\n",
    "def retrieve(sentence, style_ret_src):\n",
    "    style_src = 0\n",
    "    if(style_ret_src == \"to-clickbait\"):\n",
    "        style_src = 1\n",
    "\n",
    "    similar_stc =  get_similar_sentence(sentence=sentence, style_src=style_src)\n",
    "    print(\"v1 stc: \", similar_stc)\n",
    "    return separate(sentence=similar_stc, style_src= \"to-clickbait\", param_threshold=5)"
   ],
   "metadata": {
    "collapsed": false
   }
  },
  {
   "cell_type": "code",
   "execution_count": 27,
   "outputs": [
    {
     "name": "stdout",
     "output_type": "stream",
     "text": [
      "v1 stc:  duarr ! bahan peledak terduga teroris jakut didisposal , warga tepuk tangan\n"
     ]
    },
    {
     "name": "stderr",
     "output_type": "stream",
     "text": [
      "/var/folders/1n/2gdy6g815s301ygx2s35p6_80000gp/T/ipykernel_46291/4054946038.py:16: VisibleDeprecationWarning: Creating an ndarray from ragged nested sequences (which is a list-or-tuple of lists-or-tuples-or ndarrays with different lengths or shapes) is deprecated. If you meant to do this, you must specify 'dtype=object' when creating the ndarray.\n",
      "  return np.array(ngram_compare_arr)\n"
     ]
    },
    {
     "data": {
      "text/plain": "{'c': 'duarr   bahan peledak terduga teroris jakut didisposal , warga tepuk tangan',\n 'a': ('!',),\n 'i': (6,),\n 's': 'duarr ! bahan peledak terduga teroris jakut didisposal , warga tepuk tangan'}"
     },
     "execution_count": 27,
     "metadata": {},
     "output_type": "execute_result"
    }
   ],
   "source": [
    "stc_test_retrieve = \"tim jibom disposal bahan peledak di rumah terduga teroris di jakut\"\n",
    "retrieve(stc_test_retrieve, \"to-clickbait\")\n",
    "# retrieve_v2(stc_test_retrieve,  \"to-clickbait\")"
   ],
   "metadata": {
    "collapsed": false
   }
  },
  {
   "cell_type": "markdown",
   "source": [
    "# Feature Extraction: Generate, Dictionary Preprocess [100%]"
   ],
   "metadata": {
    "collapsed": false
   }
  },
  {
   "cell_type": "code",
   "execution_count": 30,
   "outputs": [],
   "source": [
    "# Resources: https://pytorch.org/tutorials/intermediate/seq2seq_translation_tutorial.html\n",
    "# Had to modify & adapt most of the code in the tutorial since this isn't translation & data preprocessing is different\n",
    "\n",
    "SOS_token = 0\n",
    "EOS_token = 1\n",
    "\n",
    "class Lang:\n",
    "    def __init__(self, name):\n",
    "        self.name = name\n",
    "        self.word2index = {}\n",
    "        self.word2count = {}\n",
    "        self.index2word = {0: \"SOS\", 1: \"EOS\"}\n",
    "        self.n_words = 2  # Count SOS and EOS\n",
    "\n",
    "    def addSentence(self, sentence):\n",
    "        for word in sentence.split(' '):\n",
    "            self.addWord(word)\n",
    "\n",
    "    def addWord(self, word):\n",
    "        if word not in self.word2index:\n",
    "            self.word2index[word] = self.n_words\n",
    "            self.word2count[word] = 1\n",
    "            self.index2word[self.n_words] = word\n",
    "            self.n_words += 1\n",
    "        else:\n",
    "            self.word2count[word] += 1"
   ],
   "metadata": {
    "collapsed": false
   }
  },
  {
   "cell_type": "code",
   "execution_count": 31,
   "outputs": [],
   "source": [
    "# count the overlap; we need function for this;\n",
    "def get_overlap(a, b):\n",
    "    a_counter = collections.Counter(a.split())\n",
    "    b_counter = collections.Counter(b.split())\n",
    "    overlap = a_counter & b_counter\n",
    "    return overlap\n",
    "\n",
    "def get_total_overlap(a, b):\n",
    "    return len(list(get_overlap(a, b).elements()))"
   ],
   "metadata": {
    "collapsed": false
   }
  },
  {
   "cell_type": "code",
   "execution_count": 32,
   "outputs": [
    {
     "name": "stderr",
     "output_type": "stream",
     "text": [
      "/var/folders/1n/2gdy6g815s301ygx2s35p6_80000gp/T/ipykernel_45599/4054946038.py:16: VisibleDeprecationWarning: Creating an ndarray from ragged nested sequences (which is a list-or-tuple of lists-or-tuples-or ndarrays with different lengths or shapes) is deprecated. If you meant to do this, you must specify 'dtype=object' when creating the ndarray.\n",
      "  return np.array(ngram_compare_arr)\n"
     ]
    },
    {
     "name": "stdout",
     "output_type": "stream",
     "text": [
      "Counted words:\n",
      "input 18304\n",
      "output 18268\n"
     ]
    },
    {
     "data": {
      "text/plain": "[[' driver di bekasi antar pesanan makanan pakai sepeda',\n  'viral ! ojol',\n  'viral ! driver ojol di bekasi antar pesanan makanan pakai sepeda'],\n ['ada motor nyangkut bambu di sleman , ',\n  'di atas kok bisa ?',\n  'ada motor nyangkut di atas bambu di sleman , kok bisa ?'],\n ['pesan gamblang poyuono menolak revisi uu kpk',\n  '',\n  'pesan gamblang poyuono menolak revisi uu kpk'],\n [' lima kendaraan alami kecelakaan beruntun di cipularang',\n  'detik-detik',\n  'detik-detik lima kendaraan alami kecelakaan beruntun di cipularang'],\n [' maling di rumah mewah jakut terekam cctv bingung cari jalan kabur',\n  'kocak !',\n  'kocak ! maling di rumah mewah jakut terekam cctv bingung cari jalan kabur'],\n ['hampir seluas tantangan sintang siapkan generasi emas',\n  'jabar ,',\n  'hampir seluas jabar , ini tantangan sintang siapkan generasi emas'],\n [' diduga baku tembak di sleman , polisi',\n  'viral video ini kata',\n  'viral video diduga baku tembak di sleman , ini kata polisi'],\n ['waspada ada penipuan catut pertamina , korbannya rugi puluhan juta',\n  'kocak !',\n  'waspada ! ada penipuan catut pertamina , korbannya rugi puluhan juta'],\n ['jaksa beberkan senpi-peluru tajam pembelian kivlan zen cs , ',\n  'ini rinciannya',\n  'jaksa beberkan senpi-peluru tajam pembelian kivlan zen cs , ini rinciannya'],\n ['sering quality time bersama keluarga 3 manfaatnya ',\n  '? ternyata ini !',\n  'sering quality time bersama keluarga ? ternyata ini 3 manfaatnya !'],\n ['menteri jokowi 55 % profesional , kandidatnya ',\n  'ini ?',\n  'menteri jokowi 55 % profesional , ini kandidatnya ?'],\n ['sebut pemilihan capim kpk cacat yuridis , saran samad ke dpr',\n  'ini',\n  'sebut pemilihan capim kpk cacat yuridis , ini saran samad ke dpr'],\n [\"pria berjubah putih di sumut , ingatkan ' tuhan murka '\",\n  'misterius viral',\n  \"pria misterius berjubah putih viral di sumut , ingatkan ' tuhan murka '\"],\n [' porno di sumedang disebar pria , motifnya ',\n  'video pemeran apa ?',\n  'video porno di sumedang disebar pemeran pria , apa motifnya ?'],\n [' porno di sumedang diperankan pasangan selingkuh',\n  'terungkap video',\n  'terungkap ! video porno di sumedang diperankan pasangan selingkuh'],\n [' mencekam di rumah makan gratis untuk duafa di bogor',\n  'detik-detik',\n  'detik-detik mencekam perampokan di rumah makan gratis untuk duafa di bogor'],\n ['kendaraan listrik bebas dari aturan ganjil-genap , ',\n  'ini alasannya',\n  'kendaraan listrik bebas dari aturan ganjil-genap , ini alasannya'],\n ['menanti \" kebijakan gila \" jokowi',\n  '',\n  'menanti \" kebijakan gila \" jokowi'],\n ['akhirnya pemkot pekanbaru liburkan sd dan smp karena kabut asap',\n  '!',\n  'akhirnya ! pemkot pekanbaru liburkan sd dan smp karena kabut asap'],\n ['2 ribu hektare lahan terbakar di palembang tidak sehat ',\n  ', udara !',\n  '2 ribu hektare lahan terbakar , udara di palembang tidak sehat !'],\n [' bocah di bekasi disebut tewas akibat bully , ketua rt',\n  'begini kata',\n  'viral bocah di bekasi disebut tewas akibat bully , begini kata ketua rt'],\n ['anggota dprd banten ramai-ramai gadai sk , kemendagri',\n  'ini',\n  'anggota dprd banten ramai-ramai gadai sk , ini kata kemendagri'],\n [\" ' bantu jokowi cari menteri ' polling di detikcom \",\n  'yuk , ikuti !',\n  \"yuk ' bantu jokowi cari menteri ' , ikuti polling di detikcom !\"],\n ['anggota dprd banten gadai sk , komisi ii dpr : tutup utang kampanye ',\n  'ini ?',\n  'anggota dprd banten gadai sk , komisi ii dpr : tutup utang kampanye ?'],\n ['soal aduan penetapan tersangka veronica koman , komnas ham',\n  'ini kata',\n  'soal aduan penetapan tersangka veronica koman , ini kata komnas ham'],\n [\" korban kecelakaan maut di nganjuk ingin bikin ' tabrakan '\",\n  'video',\n  \"viral video korban kecelakaan maut di nganjuk ingin bikin ' video tabrakan '\"],\n [' 10 poin aspirasi tokoh papua jokowi di istana',\n  'ini saat bertemu',\n  'ini 10 poin aspirasi tokoh papua saat bertemu jokowi di istana'],\n [' perampok bercelurit satroni rumah makan gratis untuk duafa di bogor',\n  'viral ! ojol',\n  'viral ! perampok bercelurit satroni rumah makan gratis untuk duafa di bogor'],\n ['perhatian nama-nama kandidat menteri jokowi',\n  '! ini',\n  'perhatian ! ini nama-nama kandidat menteri jokowi'],\n [' pekerja masih dibutuhkan pertambangan australia saat otomatisasi makin marak ',\n  '?',\n  'apakah pekerja masih dibutuhkan pertambangan australia saat otomatisasi makin marak ?'],\n ['pengacara : kivlan zen siap sekali jalani sidang , yang ditunggu-tunggu',\n  'ini',\n  'pengacara : kivlan zen siap sekali jalani sidang , ini yang ditunggu-tunggu'],\n [\"pasang status ' single ' , saat terakhir kehidupan \",\n  'inilah novy chardon',\n  \"pasang status ' single ' , inilah saat terakhir kehidupan novy chardon\"],\n ['sidang gugatan ikan koi mati , saksi dari pln bicara ',\n  'ini rinciannya',\n  'sidang gugatan ikan koi mati , saksi dari pln bicara ini'],\n [' opsi pdam surabaya agar 60 ribu pelanggan kembali menikmati air',\n  'ini rinciannya',\n  'ini opsi pdam surabaya agar 60 ribu pelanggan kembali menikmati air'],\n ['fenomena anggota dprd gadaikan sk ke bank , gejala ',\n  'apa ini ?',\n  'fenomena anggota dprd gadaikan sk ke bank , gejala apa ini ?'],\n [' kabar denda rp 1 juta bagi pembeli di zona merah pkl bandung ',\n  'apa ?',\n  'apa kabar denda rp 1 juta bagi pembeli di zona merah pkl bandung ?'],\n ['dituduh hamili perempuan muda , kades : saya booking',\n  '',\n  'dituduh hamili perempuan muda , kades : saya booking'],\n ['geramnya keluarga pada hoax bj habibie meninggal dunia',\n  '',\n  'geramnya keluarga pada hoax bj habibie meninggal dunia'],\n ['ketum fpi bingung dipanggil soal makar 17 april , polisi',\n  'ini kata',\n  'ketum fpi bingung dipanggil soal makar 17 april , ini kata polisi'],\n [' harapan sri mulyani-komarudin hidayat untuk rektor baru ui 2019-2024',\n  'ini',\n  'ini harapan sri mulyani-komarudin hidayat untuk rektor baru ui 2019-2024'],\n [' mahasiswa merusak pagar dpr',\n  'detik-detik',\n  'video detik-detik mahasiswa merusak pagar dpr'],\n [' awal mula kecelakaan maut di lampung yang tewaskan 8 orang',\n  'begini',\n  'begini awal mula kecelakaan maut di lampung yang tewaskan 8 orang'],\n [' penyebab sulitnya padamkan kebakaran di gunung sumbing',\n  'ini',\n  'ini penyebab sulitnya padamkan kebakaran di gunung sumbing'],\n ['menlu indonesia-timor leste-australia pbb , yang dibahas',\n  'bertemu di ini',\n  'menlu indonesia-timor leste-australia bertemu di pbb , ini yang dibahas'],\n [' lokasi diduga mahasiswa halu oleo kendari tertembak',\n  'ini rinciannya',\n  'ini lokasi diduga mahasiswa halu oleo kendari tertembak'],\n ['purnomo-teguh daftar cawalkot solo , peluang gibran tertutup ',\n  'ini ?',\n  'purnomo-teguh daftar cawalkot solo , peluang gibran tertutup ?'],\n ['rapat gabungan pimpinan mpr sepakat ubah tata tertib , ',\n  'ini rinciannya',\n  'rapat gabungan pimpinan mpr sepakat ubah tata tertib , ini rinciannya'],\n ['panas mahasiswa-pendemo pro-uu kpk baru saling lempar botol di depan dpr',\n  '!',\n  'panas ! mahasiswa-pendemo pro-uu kpk baru saling lempar botol di depan dpr'],\n ['lsm safenet : ruu kks bikin bssn jadi lembaga superbody ',\n  '?',\n  'lsm safenet : ruu kks bikin bssn jadi lembaga superbody ?'],\n ['ylbhi sebut mahasiswa belum bisa dikontak usai demo di dpr , polri',\n  'ini kata',\n  'ylbhi sebut mahasiswa belum bisa dikontak usai demo di dpr , ini kata polri'],\n [\" demo mahasiswa bandung yang sempat ' memanas '\",\n  'video',\n  \"video demo mahasiswa bandung yang sempat ' memanas '\"],\n [\" pengakuan ' gila ' pelaku pemerkosaan di bondowoso\",\n  'ini',\n  \"ini pengakuan ' gila ' pelaku pemerkosaan di bondowoso\"],\n [' pasangan abg depok berbuat mesum di kontrakan digerebek polisi',\n  'misterius viral',\n  'viral pasangan abg depok berbuat mesum di kontrakan digerebek polisi'],\n [' hakim vonis seumur hidup prada deri yang mutilasi kekasihnya',\n  'ini',\n  'ini alasan hakim vonis seumur hidup prada deri yang mutilasi kekasihnya'],\n ['prabowo singgung angka stunting indonesia tinggi : what is wrong ',\n  '?',\n  'prabowo singgung angka stunting indonesia tinggi : what is wrong ?'],\n ['mengenaskan 15 orang sekeluarga tewas dalam serangan arab saudi di yaman',\n  '!',\n  'mengenaskan ! 15 orang sekeluarga tewas dalam serangan arab saudi di yaman'],\n ['tukang gigi ikut demo ruu kuhp , pasal yang sudah dibatalkan mk',\n  'ini',\n  'tukang gigi ikut demo ruu kuhp , ini pasal yang sudah dibatalkan mk'],\n [' demo mahasiswa tak ditunggangi ',\n  'benarkah ?',\n  'benarkah demo mahasiswa tak ditunggangi ?'],\n ['beredar polisi teriaki tni di mes pati tni al , polri',\n  'video ini penjelasan',\n  'beredar video polisi teriaki tni di mes pati tni al , ini penjelasan polri'],\n [' api muncul dari dalam tanah di ponorogo',\n  'viral',\n  'viral api muncul dari dalam tanah di ponorogo'],\n ['bikin polwan surabaya lantunkan asmaul husna sambut pendemo',\n  '!',\n  'bikin adem ! polwan surabaya lantunkan asmaul husna sambut pendemo'],\n [' 7 tuntutan mahasiswa yang demo di depan dpr',\n  'ini rinciannya',\n  'ini 7 tuntutan mahasiswa yang demo di depan dpr'],\n [' bogor dan bandung jadi kota favorit lomba sepeda',\n  'ini',\n  'ini alasan bogor dan bandung jadi kota favorit lomba sepeda'],\n [' pasukan asmaul husna , para polwan pendingin tensi demo di surabaya',\n  'ini rinciannya',\n  'ini pasukan asmaul husna , para polwan pendingin tensi demo di surabaya'],\n ['ada politikus hingga jurnalis , paling cocok jadi mensos ',\n  'siapa ?',\n  'ada politikus hingga jurnalis , siapa paling cocok jadi mensos ?'],\n ['di sebelah batu-bensin di ambulans pemprov dki yang diamankan polisi ',\n  '?',\n  'di sebelah mana batu-bensin di ambulans pemprov dki yang diamankan polisi ?'],\n ['pospol tomang dibakar ', '!', 'pospol tomang dibakar !'],\n ['hore gunung sampah di pinggir kali ciliwung cilebut dibersihkan minggu ',\n  '! ini',\n  'hore ! gunung sampah di pinggir kali ciliwung cilebut dibersihkan minggu ini'],\n [' legal mengkonsumsi , di wilayah tiap rumah boleh tanam 4 pohon ganja',\n  'tak cuma ini',\n  'tak cuma legal mengkonsumsi , di wilayah ini tiap rumah boleh tanam 4 pohon ganja'],\n ['pelajar demo ricuh hingga lewat , mendikbud',\n  'tengah malam ini kata',\n  'pelajar demo ricuh hingga lewat tengah malam , ini kata mendikbud'],\n [\"' pasal unggas jalan-jalan ' di ruu kuhp ada kasus konkretnya , baca \",\n  'yuk !',\n  \"' pasal unggas jalan-jalan ' di ruu kuhp ada kasus konkretnya , yuk baca !\"],\n ['ngaku diperkosa , laporan mahasiswi palsu',\n  'ternyata ini',\n  'ngaku diperkosa , ternyata laporan mahasiswi ini palsu'],\n [' pelajar tewas ikut demo dpr , kejadiannya',\n  'viral saat hendak begini',\n  'viral pelajar tewas saat hendak ikut demo dpr , begini kejadiannya'],\n ['gempa ambon kamis pagi dan 5 faktanya',\n  '',\n  'gempa ambon kamis pagi dan 5 faktanya'],\n ['agar siswa tak demo turun ke jalan , yang dilakukan disdik jateng',\n  'ini',\n  'agar siswa tak demo turun ke jalan , ini yang dilakukan disdik jateng'],\n ['tok dpr sahkan ruu soal bela negara jadi uu',\n  'kocak !',\n  'tok ! dpr sahkan ruu soal bela negara jadi uu'],\n [' ada mantan suami istri bertarung di pilkades serentak di sragen',\n  'seru !',\n  'seru ! ada mantan suami istri bertarung di pilkades serentak di sragen'],\n ['bahaya konsep domein verklaring dalam ruu pertanahan',\n  '',\n  'bahaya konsep domein verklaring dalam ruu pertanahan'],\n [\"gotong keranda mayat ' save kpk ' , massa gejayan memanggil : .\",\n  '. .',\n  \"gotong keranda mayat ' save kpk ' , massa gejayan memanggil : innalillahi . . .\"],\n [' inovasi tim dentsu yang menang di young spikes indonesia',\n  'ini',\n  'ini inovasi tim dentsu yang menang di young spikes indonesia'],\n ['duarr bahan peledak terduga teroris jakut didisposal , warga tepuk tangan',\n  '!',\n  'duarr ! bahan peledak terduga teroris jakut didisposal , warga tepuk tangan'],\n ['pasal-pasal kontroversial dalam ruu pertanahan',\n  '',\n  'pasal-pasal kontroversial dalam ruu pertanahan'],\n ['ungkit aksi 1998 , 7 tuntutan massa #gejayanmemanggil',\n  'ini',\n  'ungkit aksi 1998 , ini 7 tuntutan massa #gejayanmemanggil'],\n ['staf presiden berkunjung ke banyuwangi , lho tujuannya',\n  'ini rinciannya',\n  'staf presiden berkunjung ke banyuwangi , ini lho tujuannya'],\n ['ada demo di depan dpr siang rekayasa lalu lintasnya',\n  ', cek',\n  'ada demo di depan dpr siang ini , cek rekayasa lalu lintasnya'],\n ['ngeri aligator ditemukan hidup belakang sekolah',\n  'di kolam',\n  'ngeri ! aligator ditemukan hidup di kolam belakang sekolah'],\n [' ada gunung sampah 16 meter di tepi sungai ciliwung cilebut bogor',\n  'miris !',\n  'miris ! ada gunung sampah 16 meter di tepi sungai ciliwung cilebut bogor'],\n ['jokowi kumpulkan menko polhukam-menkum ham , bahas situasi keamanan ',\n  'ini ?',\n  'jokowi kumpulkan menko polhukam-menkum ham , bahas situasi keamanan ?'],\n [\"indonesia banyak ' sidang majelis umum pbb , \",\n  \"dilirik ' saat ini alasannya\",\n  \"indonesia banyak ' dilirik ' saat sidang majelis umum pbb , ini alasannya\"],\n ['mengenaskan beruang liar , pria ditembak mati putranya',\n  '! ini',\n  'mengenaskan ! dikira beruang liar , pria ini ditembak mati putranya'],\n [\"rkuhp denda gelandangan maksimal rp 1 juta , para ' pengemis '\",\n  'ini cerita tajir',\n  \"rkuhp denda gelandangan maksimal rp 1 juta , ini cerita para ' pengemis tajir '\"],\n [' layar digital di lampu merah garut tampilkan kotor',\n  'kata-kata',\n  'heboh layar digital di lampu merah garut tampilkan kata-kata kotor'],\n ['doa agar tak malas di hari senin biar semangat di awal pekan',\n  '',\n  'doa agar tak malas di hari senin biar semangat di awal pekan'],\n ['mulan cs ditetapkan dpr , gerindra',\n  'jameela jadi anggota ini penjelasan',\n  'mulan jameela cs ditetapkan jadi anggota dpr , ini penjelasan gerindra'],\n ['soal ruu kuhp , baca lagi putusan mk soal zina dan lgbt',\n  'yuk',\n  'soal ruu kuhp , yuk baca lagi putusan mk soal zina dan lgbt'],\n ['program si manis manjakan kaum di malang saat urus sim',\n  'wanita',\n  'program si manis manjakan kaum wanita di malang saat urus sim'],\n ['menunggu jokowi seperti theseus', '', 'menunggu jokowi seperti theseus'],\n [\"akan jadi ' pengantin ' , terduga teroris di jakut tinggalkan surat wasiat\",\n  '',\n  \"akan jadi ' pengantin ' , terduga teroris di jakut tinggalkan surat wasiat\"],\n [' golkar rotasi anggotanya di komisi xi jelang fit & proper bpk',\n  'ini alasan',\n  'alasan golkar rotasi anggotanya di komisi xi jelang fit & proper bpk'],\n [' masyarakat simeulue mengantisipasi tsunami',\n  'ini cara',\n  'ini cara masyarakat simeulue mengantisipasi tsunami'],\n [\" rekayasa lalin di sekitar lokasi aksi ' gejayan memanggil '\",\n  'ini',\n  \"ini rekayasa lalin di sekitar lokasi aksi ' gejayan memanggil '\"],\n ['rusuh wamena , fakta-faktanya',\n  'berikut ini rangkaian',\n  'rusuh wamena , berikut ini rangkaian fakta-faktanya'],\n ['gelombang demo tolak pelemahan kpk se-indonesia , titik-titiknya',\n  'ini rinciannya',\n  'gelombang demo tolak pelemahan kpk se-indonesia , ini titik-titiknya'],\n ['bukan di china , long march massa aksi melintasi pertokoan magelang',\n  'ini',\n  'bukan di china , ini long march massa aksi melintasi pertokoan magelang'],\n ['ruu pks beda nasib dengan ruu kpk , fakta-faktanya',\n  'ini rinciannya',\n  'ruu pks beda nasib dengan ruu kpk , ini fakta-faktanya'],\n [' timbangan beras bpnt berkurang , pemkab sumedang',\n  'ini kata',\n  'heboh timbangan beras bpnt berkurang , ini kata pemkab sumedang'],\n [\" cuitan ' sekolah yang pinter biar gajadi polisi ' , ridwan kamil : hoax \",\n  'viral ! ojol',\n  \"viral cuitan ' sekolah yang pinter biar gajadi polisi ' , ridwan kamil : hoax !\"],\n ['demo di mana-mana , jokowi sedang panggil pejabat-pejabat di istana',\n  'ini rinciannya',\n  'demo di mana-mana , jokowi sedang panggil pejabat-pejabat ini di istana'],\n ['dpr bakal sahkan ruu keamanan siber 30 september ',\n  '?',\n  'dpr bakal sahkan ruu keamanan siber 30 september ?'],\n ['diskon naik trans semarang di 2 halte bisa bayar rp 10 aja',\n  '!',\n  'diskon ! naik trans semarang di 2 halte ini bisa bayar rp 10 aja'],\n ['5 pilates untuk ibu hamil , saja ',\n  'manfaat apa ?',\n  '5 manfaat pilates untuk ibu hamil , apa saja ?'],\n ['pentingnya sarapan dengan makanan padat untuk anak',\n  '',\n  'pentingnya sarapan dengan makanan padat untuk anak'],\n ['selalu ingin tahu , 5 tidak bisa menghargai privasi orang lain',\n  'zodiak ini',\n  'selalu ingin tahu , 5 zodiak ini tidak bisa menghargai privasi orang lain'],\n ['3 jenis diet untuk organ lebih sehat',\n  'intim',\n  '3 jenis diet untuk organ intim lebih sehat'],\n ['move on , 5 tanda mantan tak akan mengajakmu balikan',\n  'ini',\n  'move on , ini 5 tanda mantan tak akan mengajakmu balikan'],\n ['mengenal bahaya memakai baju baru tanpa dicuci dulu',\n  '',\n  'mengenal bahaya memakai baju baru tanpa dicuci dulu'],\n ['pertengkaran dengan pasangan bisa memperkuat hubungan , ',\n  '?',\n  'pertengkaran dengan pasangan bisa memperkuat hubungan , benarkah ?'],\n [' ada minum air mineral faktanya',\n  'apakah manfaat ? ini',\n  'apakah ada manfaat minum air mineral ? ini faktanya'],\n ['5 menyimpan uang untuk membeli rumah pertama',\n  'tips',\n  '5 tips menyimpan uang untuk membeli rumah pertama'],\n [' membuat kamar bayi hemat budget',\n  'tips',\n  'tips membuat kamar bayi hemat budget'],\n ['tetap lelap , minum kopi tanpa harus melek semalaman',\n  'begini cara',\n  'tetap tidur lelap , begini cara minum kopi tanpa harus melek semalaman'],\n ['mudah bimbang , 5 sering dipengaruhi orang lain',\n  'ini',\n  'mudah bimbang , 5 zodiak ini sering dipengaruhi orang lain'],\n ['suka kepo , 4 paling sering mengganggu privasi temannya ',\n  'zodiak ini !',\n  'suka kepo , 4 zodiak ini paling sering mengganggu privasi temannya !'],\n ['5 mantra yang jadi kekuatan para extra women saat memperjuangkan passion',\n  '',\n  '5 mantra yang jadi kekuatan para extra women saat memperjuangkan passion'],\n ['6 yang diprediksi paling jahat , ',\n  'mengapa ?',\n  '6 zodiak yang diprediksi paling jahat , mengapa ?'],\n ['polemik pb djarum-kpai , beasiswa atau eksploitasi ',\n  '?',\n  'polemik pb djarum-kpai , beasiswa atau eksploitasi ?'],\n [' masakan praktis terbuat dari daging ayam',\n  '5 inspirasi',\n  '5 inspirasi masakan praktis terbuat dari daging ayam'],\n [' ungkap menghabiskan uang , jika ekstrovert',\n  'kepribadian cara begini kamu',\n  'kepribadian ungkap cara menghabiskan uang , begini jika kamu ekstrovert'],\n ['dalam sehari , maksimalnya kali suami istri bisa ',\n  'berapa berhubungan intim ?',\n  'dalam sehari , maksimalnya berapa kali suami istri bisa berhubungan intim ?'],\n [' ahmad soal kirim bunga ke desy ratnasari',\n  'raffi blak-blakan',\n  'raffi ahmad blak-blakan soal kirim bunga ke desy ratnasari'],\n ['4 terbaru yeonwoo momoland setelah vakum , wajah berubah ',\n  'foto ?',\n  '4 foto terbaru yeonwoo momoland setelah vakum , wajah berubah ?'],\n ['dikritik soal bik , shandy aulia',\n  'ini tanggapan',\n  'dikritik soal foto bikini , ini tanggapan shandy aulia'],\n ['4 album terlaris 2019 , sementara duduki posisi pertama',\n  'bts',\n  '4 album terlaris 2019 , bts sementara duduki posisi pertama'],\n [' sandra dewi melahirkan anak kedua',\n  'fakta diketahui',\n  'fakta sandra dewi melahirkan anak kedua'],\n ['serunya meet n greet michelle ziudith dan megantara di on off festival hari kedua',\n  '',\n  'serunya meet n greet michelle ziudith dan megantara di on off festival hari kedua'],\n [' pengakuan kim kardashian mengenai psalm west',\n  'ini',\n  'ini pengakuan kim kardashian mengenai psalm west'],\n ['bukan teknis , tantangan berat ari lasso tur di 3 kota',\n  'ini',\n  'bukan teknis , ini tantangan berat ari lasso tur di 3 kota'],\n ['lorong , jadi film dari winky wiryawan ',\n  'comeback ?',\n  'lorong , jadi film comeback dari winky wiryawan ?'],\n ['jangan sampai terlewatkan , penggunaan toner pada rutinitas perawatan kulitmu',\n  '',\n  'jangan sampai terlewatkan , penggunaan toner pada rutinitas perawatan kulitmu'],\n ['kandungan wajib pada toner sesuai dengan kondisi wajahmu',\n  'kulit cara',\n  'kandungan wajib pada toner sesuai dengan kondisi kulit wajahmu'],\n ['9 perawatan untuk mengatasi masalah bintik-bintik gelap',\n  'kulit',\n  '9 perawatan kulit untuk mengatasi masalah bintik-bintik gelap'],\n ['5 rahasia kecantikan tradisional para perempuan tiongkok',\n  '',\n  '5 rahasia kecantikan tradisional para perempuan tiongkok'],\n ['inovasi perawatan korea dalam delapan langkah',\n  'kulit cara',\n  'inovasi perawatan kulit korea dalam delapan langkah'],\n [' merawat dan menata rambut tipis agar tampak bervolume',\n  'tips perut',\n  'tips merawat dan menata rambut tipis agar tampak bervolume'],\n ['rekomendasi essential oil dengan kandungan tea tree yang berjerawat',\n  'kulit cara',\n  'rekomendasi essential oil dengan kandungan tea tree yang kulit berjerawat'],\n ['4 alpukat untuk kecantikan dari wajah sampai rambut',\n  'manfaat',\n  '4 manfaat alpukat untuk kecantikan dari wajah sampai rambut'],\n ['cari tahu tentang eksfoliasi dan tepat melakukannya',\n  'kulit cara',\n  'cari tahu tentang eksfoliasi kulit dan cara tepat melakukannya'],\n ['5 rahasia kecantikan perempuan asia',\n  '',\n  '5 rahasia kecantikan perempuan asia'],\n [' puasa ', 'tips kulit', 'tips melakukan puasa kulit'],\n ['8 yang bikin muda',\n  'kebiasaan kamu lebih awet',\n  '8 kebiasaan yang bikin kamu lebih awet muda'],\n ['sebenarnya kegunaan kencur dalam masakan ',\n  'apa ?',\n  'sebenarnya apa kegunaan kencur dalam masakan ?'],\n ['5 melanggar privasi seseorang',\n  'zodiak yang sering',\n  '5 zodiak yang sering melanggar privasi seseorang'],\n ['mencintai seseorang dalam diam harus tegar menahan rindu sendirian',\n  '',\n  'mencintai seseorang dalam diam harus tegar menahan rindu sendirian'],\n ['susu bubuk dan susu cair sama , ahli',\n  'ini kata',\n  'susu bubuk dan susu cair sama baiknya , ini kata ahli'],\n ['4 tanda pasangan siap berkomitmen dalam hubungan',\n  '',\n  '4 tanda pasangan siap berkomitmen dalam hubungan'],\n ['tidak suka berbohong , 5 dikenal paling jujur',\n  'zodiak ini',\n  'tidak suka berbohong , 5 zodiak ini dikenal paling jujur'],\n ['5 menghilangkan bau mulut yang berasal dari dalam ',\n  'cara perut',\n  '5 cara menghilangkan bau mulut yang berasal dari dalam perut'],\n ['sering karena masalah uang mengatur keuangan ',\n  'stres ? simak tips ini',\n  'sering stres karena masalah uang ? simak tips mengatur keuangan ini'],\n [' lama membiarkan adonan mengembang sempurna ',\n  'berapa baiknya ?',\n  'berapa lama baiknya membiarkan adonan mengembang sempurna ?'],\n [' nadhila qp ngajar beauty di on off festival 2019',\n  'cerita',\n  'cerita nadhila qp ngajar beauty class di on off festival 2019'],\n ['4 yang kesulitan berterima kasih ke orang lain',\n  'zodiak',\n  '4 zodiak yang kesulitan berterima kasih ke orang lain'],\n [' camilan enak berbahan dasar labu kuning',\n  '5 inspirasi',\n  '5 inspirasi camilan enak berbahan dasar labu kuning'],\n ['4 efektif melangsingkan dengan planking',\n  'tips perut',\n  '4 tips efektif melangsingkan perut dengan planking'],\n ['5 paling anarkis dan selalu membangkang terhadap otoritas untuk bisa hidup bebas',\n  'zodiak ini',\n  '5 zodiak paling anarkis dan selalu membangkang terhadap otoritas untuk bisa hidup bebas'],\n ['mengintip spesifikasi canggih hingga harga iphone 11',\n  '',\n  'mengintip spesifikasi canggih hingga harga iphone 11'],\n ['tetap bertahan usai , tanda hubungan siap dibawa ke pelaminan',\n  'bertengkar',\n  'tetap bertahan usai bertengkar , tanda hubungan siap dibawa ke pelaminan'],\n ['7 kecil yang toxic buat hubungan cintamu',\n  'kebiasaan ternyata',\n  '7 kebiasaan kecil yang ternyata toxic buat hubungan cintamu'],\n [' ubi manfaatnya ',\n  'apakah kulit bisa dimakan ? apa',\n  'apakah kulit ubi bisa dimakan ? apa manfaatnya ?'],\n ['jika jalanmu cepat tipe ',\n  ', seperti ini kepribadianmu',\n  'jika jalanmu cepat , seperti ini tipe kepribadianmu'],\n [' ubi jalan kaya nutrisi , makan ubi jalar bersama nya',\n  'kulit ini cara',\n  'kulit ubi jalan kaya nutrisi , ini cara makan ubi jalar bersama kulitnya'],\n ['4 autentik bj habibie yang menjadi kenangan',\n  'gaya',\n  '4 gaya autentik bj habibie yang menjadi kenangan'],\n ['sakit hingga bosan , perempuan memalsukan kepuasan seksualnya',\n  'alasan',\n  'sakit hingga bosan , alasan perempuan memalsukan kepuasan seksualnya'],\n ['melihat khloe kardashian lewat rambut barunya',\n  'gaya',\n  'melihat uniknya gaya khloe kardashian lewat rambut barunya'],\n ['kerap ditanya kapan nikah , chand kelvin',\n  'begini',\n  'kerap ditanya kapan nikah , begini jawaban chand kelvin'],\n ['lirik lagu louis tomlinson , my mind',\n  'kill',\n  'lirik lagu louis tomlinson , kill my mind'],\n ['keseruan nicky tirta berbagi menu masakan baru pada kaum ibu',\n  '',\n  'keseruan nicky tirta berbagi menu masakan baru pada kaum ibu'],\n ['kesulitan yang dirasakan prisia nasution di film lorong',\n  '',\n  'kesulitan yang dirasakan prisia nasution di film lorong'],\n ['ciptakan euforia , 5 kedatangan dream ke indonesia',\n  'ini fakta',\n  'ciptakan euforia , ini 5 fakta kedatangan nct dream ke indonesia'],\n ['sempat lihat hantu di ahmad santai',\n  'rumah , raffi',\n  'sempat lihat hantu di rumah , raffi ahmad santai'],\n ['jajal dunia akting , yang membuat sivia azizah tertarik main di film nkcthi',\n  'ini',\n  'jajal dunia akting , ini yang membuat sivia azizah tertarik main di film nkcthi'],\n ['bikin , rossa diapit 6 anak muda dream',\n  'nct',\n  'bikin heboh , rossa diapit 6 anak muda nct dream'],\n ['sepak terjang jefri nichol di dunia hiburan hingga terjerat narkoba',\n  '',\n  'sepak terjang jefri nichol di dunia hiburan hingga terjerat narkoba'],\n ['hari radio nasional , 8 selebriti indonesia yang merupakan penyiar radio',\n  'ini',\n  'hari radio nasional , ini 8 selebriti indonesia yang merupakan penyiar radio'],\n ['sivia azizah ungkap rencana debut sebagai penyanyi solo',\n  '',\n  'sivia azizah ungkap rencana debut sebagai penyanyi solo'],\n [' melanie subono ada di samping bj habibie saat meninggal dunia',\n  'cerita class',\n  'cerita melanie subono ada di samping bj habibie saat meninggal dunia'],\n ['tegarnya jefri nichol ditilik dari ',\n  'zodiak capricorn',\n  'tegarnya jefri nichol ditilik dari zodiak capricorn'],\n [' arti nama anak kedua sandra dewi',\n  'begini jawaban',\n  'begini arti nama anak kedua sandra dewi'],\n ['ingat kemal mochtar kisahnya turunkan bobot tubuh dari 120 kg jadi 60 kg',\n  '? ini',\n  'ingat kemal mochtar ? ini kisahnya turunkan bobot tubuh dari 120 kg jadi 60 kg'],\n ['6 menggunakan lipstik sesuai bentuk bibir',\n  'ini cara',\n  '6 cara menggunakan lipstik sesuai bentuk bibir'],\n [' pentingnya pengelupasan wajah',\n  'alasan melakukan kulit untuk perawatan',\n  'alasan pentingnya melakukan pengelupasan kulit untuk perawatan wajah'],\n ['tak hanya menjadi masalah rambut , ketombe juga bisa jadi ancaman untuk wajah',\n  'kulit',\n  'tak hanya menjadi masalah rambut , ketombe juga bisa jadi ancaman untuk kulit wajah'],\n ['3 dasar sebelum beli skincare',\n  'hal yang harus dipahami',\n  '3 hal dasar yang harus dipahami sebelum beli skincare'],\n ['blackheads gagal terangkat strip pore , tandanya bukan komedo',\n  '',\n  'blackheads gagal terangkat strip pore , tandanya bukan komedo'],\n [' mencegah timbulnya benjolan halus di usai bercukur',\n  'kulit',\n  'cara mencegah timbulnya benjolan halus di kulit usai bercukur'],\n ['4 sehari-hari yang menyumbat pori-pori wajah',\n  'kebiasaan kulit',\n  '4 kebiasaan sehari-hari yang menyumbat pori-pori kulit wajah'],\n [' perawatan kecantikan wajah yang aman untuk remaja',\n  'rangkaian kulit',\n  'rangkaian perawatan kecantikan wajah yang aman untuk kulit remaja'],\n ['jalan kaki hingga yoga , 5 olahraga terbaik untuk ibu hamil',\n  'ini',\n  'jalan kaki hingga yoga , ini 5 olahraga terbaik untuk ibu hamil'],\n ['5 mendidik anak agar lebih disiplin sejak dini',\n  'ini cara',\n  '5 cara mendidik anak agar lebih disiplin sejak dini'],\n ['4 tentang autisme yang wajib ',\n  'fakta diketahui',\n  '4 fakta tentang autisme yang wajib diketahui'],\n ['19 hadiah untuk calon atau ibu mertua yang sulit ditaklukkan',\n  '',\n  '19 hadiah untuk calon atau ibu mertua yang sulit ditaklukkan'],\n [' memasak brokoli agar tetap hijau segar',\n  'ini cara',\n  'cara memasak brokoli agar tetap hijau segar'],\n [' kurang gemuk ilmiahnya',\n  'mengapa tidur bisa bikin ? ini alasan',\n  'mengapa kurang tidur bisa bikin gemuk ? ini alasan ilmiahnya'],\n ['fimela fest 2019 : takut adalah yang wajar , tapi seberapa besar kita berani melawan ',\n  'hal ?',\n  'fimela fest 2019 : takut adalah hal yang wajar , tapi seberapa besar kita berani melawan ?'],\n ['rebutan kursi , ibu hamil harus duduk di commuter line ',\n  'kenapa ?',\n  'rebutan kursi , kenapa ibu hamil harus duduk di commuter line ?'],\n ['5 kondisi yang sebaiknya tak olahraga dulu',\n  '',\n  '5 kondisi yang sebaiknya tak olahraga dulu'],\n ['4 rutin introspeksi diri dan bercermin dalam menjalani kehidupan',\n  'ini',\n  '4 zodiak ini rutin introspeksi diri dan bercermin dalam menjalani kehidupan'],\n ['4 yang selalu berpikir positif dalam menggapai tujuan',\n  'zodiak ini',\n  '4 zodiak yang selalu berpikir positif dalam menggapai tujuan'],\n ['4 masa terbaik di bulan agustus-september 2019',\n  'zodiak ini akan alami',\n  '4 zodiak ini akan alami masa terbaik di bulan agustus-september 2019'],\n [' mengurangi perasaan grogi saat kencan pertama',\n  'cara',\n  'cara mengurangi perasaan grogi saat kencan pertama'],\n ['4 mengatasi pilek se alami',\n  'ini cara',\n  '4 cara mengatasi pilek secara alami'],\n ['3 yang mudah jatuh hati pada sahabatnya sendiri',\n  'zodiak',\n  '3 zodiak yang mudah jatuh hati pada sahabatnya sendiri'],\n ['jangan dibuang , kupasan kentang untuk ',\n  'ini manfaat kulit !',\n  'jangan dibuang , ini manfaat kupasan kulit kentang untuk kulit'],\n ['punya nutrisi tinggi , mengolah kentang agar ',\n  'ini cara kulit bisa dimakan',\n  'punya nutrisi tinggi , ini cara mengolah kulit kentang agar bisa dimakan'],\n ['diabetes hingga kanker , pisang untuk kesehatan',\n  'ini manfaat kulit',\n  'diabetes hingga kanker , ini manfaat kulit pisang untuk kesehatan'],\n ['5 yang dikenal sangat manja dan menggemaskan',\n  'zodiak',\n  '5 zodiak yang dikenal sangat manja dan menggemaskan'],\n ['bisakah traveling bikin telat datang bulan ',\n  'ini ?',\n  'bisakah traveling bikin telat datang bulan ?'],\n [' agar digoreng tidak hitam',\n  'tips makanan yang',\n  'tips agar makanan yang digoreng tidak hitam'],\n [' , putih pada semangka ',\n  'bisa dimakan ini manfaat kulit !',\n  'bisa dimakan , ini manfaat kulit putih pada semangka !'],\n ['bulu kuduk merinding saat mendengar lagu bagus , begitu ',\n  'kenapa ?',\n  'bulu kuduk merinding saat mendengar lagu bagus , kenapa begitu ?'],\n ['secara ilmiah , orang putus cinta balikan lagi dengan mantannya',\n  'ini alasan',\n  'secara ilmiah , ini alasan orang putus cinta balikan lagi dengan mantannya'],\n ['fimela fest 2019 : mindfull parenting buat ortu-anak chill out',\n  'manfaat kulit',\n  'fimela fest 2019 : manfaat mindfull parenting buat ortu-anak chill out'],\n ['memiliki pasangan akan menambah masalah baru dalam hidup',\n  '',\n  'memiliki pasangan akan menambah masalah baru dalam hidup'],\n ['menurut studi , waktu paling tapat untuk ',\n  'ini berhubungan intim',\n  'menurut studi , ini waktu paling tapat untuk berhubungan intim'],\n ['5 rekomendasi restoran korea selatan',\n  'halal di',\n  '5 rekomendasi restoran halal di korea selatan'],\n ['fimela fest 2019 : 5 perempuan milenial perlu mencintai ',\n  'alasan diri sendiri',\n  'fimela fest 2019 : 5 alasan perempuan milenial perlu mencintai diri sendiri'],\n ['sesal shireen sungkar atas meninggalnya bj habibie , ',\n  '?',\n  'sesal shireen sungkar atas meninggalnya bj habibie , kenapa ?'],\n ['bj habibie meninggal , sedihnya reza rahadian',\n  'begini',\n  'bj habibie meninggal , begini sedihnya reza rahadian'],\n ['eksklusif joe taslim , meski sibuk jadi artis internasional tetap pandai bagi waktu bersama keluarga',\n  '',\n  'eksklusif joe taslim , meski sibuk jadi artis internasional tetap pandai bagi waktu bersama keluarga'],\n [' orlando bloom tolak hadir di saturday night live',\n  'ini alasan',\n  'alasan orlando bloom tolak hadir di saturday night live'],\n [' jadi pria feminin di film bebas , baskara mahendra',\n  'begini tanggapan',\n  'dikira jadi pria feminin di film bebas , begini tanggapan baskara mahendra'],\n [' rencana pemakaman bj habibie di tmp kalibata',\n  'begini jawaban',\n  'begini rencana pemakaman bj habibie di tmp kalibata'],\n [' dan anak terserang autoimun , gejala yang terjadi',\n  'raditya dika simak',\n  'raditya dika dan anak terserang autoimun , simak gejala yang terjadi'],\n [' bj habibie dijuluki sebagai mr crack',\n  'alasan',\n  'alasan bj habibie dijuluki sebagai mr crack'],\n ['4 jelang , feel special',\n  'fakta seru comeback twice',\n  '4 fakta seru jelang comeback twice , feel special'],\n ['belajar yang suci dari sosok bj habibie',\n  'tentang cinta',\n  'belajar tentang cinta yang suci dari sosok bj habibie'],\n ['mengetahui sifat boy william dari karakter libra',\n  'zodiak',\n  'mengetahui sifat boy william dari karakter zodiak libra'],\n ['5 saat memilih produk pelembap wajah',\n  'hal yang perlu diperhatikan',\n  '5 hal yang perlu diperhatikan saat memilih produk pelembap wajah'],\n ['5 menggunakan lipstik matte secara sempurna',\n  'tips',\n  '5 tips menggunakan lipstik matte secara sempurna'],\n ['cegah timbulnya jerawat , perlukah serum ',\n  'untuk perawatan kulit ?',\n  'cegah timbulnya jerawat , perlukah serum untuk perawatan kulit berminyak ?'],\n [' retinol benar bisa memperbaiki ',\n  'apakah ?',\n  'apakah retinol benar bisa memperbaiki kulit ?'],\n ['3 makanan anti-aging terbaik bagi perempuan agar tetap kencang',\n  'kulit cara',\n  '3 makanan anti-aging terbaik bagi perempuan agar kulit tetap kencang'],\n ['5 penting diingat pemilik ',\n  'hal yang harus kulit sensitif',\n  '5 hal penting yang harus diingat pemilik kulit sensitif'],\n ['jangan , mengatasi anak rewel akibat demam tinggi',\n  'ini tips',\n  'jangan panik , ini tips mengatasi anak rewel akibat demam tinggi'],\n ['fimela fest 2019 : menghindari memukul anak ketika orangtua emosi',\n  'cara',\n  'fimela fest 2019 : cara menghindari memukul anak ketika orangtua emosi'],\n ['fimela fest 2019 : batasi anak main bentuk mindful parenting ',\n  'gadget ?',\n  'fimela fest 2019 : batasi anak main gadget bentuk mindful parenting ?'],\n [' , rokok elektrik bisa menurunkan kesuburan perempuan',\n  'awas !',\n  'awas , rokok elektrik bisa menurunkan kesuburan perempuan'],\n ['hati-hati dapat membuat mata kering , ketahui ',\n  'gadget alasannya',\n  'hati-hati gadget dapat membuat mata kering , ketahui alasannya'],\n ['10 yang penting ',\n  'fakta tentang cinta diketahui',\n  '10 fakta tentang cinta yang penting diketahui'],\n ['hubungan jarak jauh sulit dipertahankan jika kau menghilang begitu saja',\n  '',\n  'hubungan jarak jauh sulit dipertahankan jika kau menghilang begitu saja'],\n ['fimela fest 2019 melatih body positivity pada diri',\n  ': 3',\n  'fimela fest 2019 : 3 cara melatih body positivity pada diri'],\n ['mengenal penting asuransi kesehatan bagi keluarga',\n  'manfaat',\n  'mengenal manfaat penting asuransi kesehatan bagi keluarga'],\n ['destinasi kuliner berkonsep unik dengan 100 pilihan menu makanan',\n  '',\n  'destinasi kuliner berkonsep unik dengan 100 pilihan menu makanan'],\n ['keindahan dari 5 destinasi wisata tersembunyi di indonesia',\n  'bak surga',\n  'keindahan bak surga dari 5 destinasi wisata tersembunyi di indonesia'],\n ['putus cinta bukan masalah , 3 cepat move on',\n  'zodiak ini',\n  'putus cinta bukan masalah , 3 zodiak ini cepat move on'],\n ['5 olahan masakan ditambah ketumbar agar makin sedap',\n  'yang perlu',\n  '5 olahan masakan yang perlu ditambah ketumbar agar makin sedap'],\n [' pentingnya air mineral untuk kesehatan',\n  'ini rinciannya',\n  'ini pentingnya air mineral untuk kesehatan'],\n ['jangan dibuang , sehat bawang bombay ',\n  'ini manfaat kulit !',\n  'jangan dibuang , ini manfaat sehat kulit bawang bombay !'],\n ['makanan pedas bisa meningkatkan makan , ',\n  'benarkah ?',\n  'makanan pedas bisa meningkatkan nafsu makan , benarkah ?'],\n ['5 dikenal tak mau mengalah karena merasa paling benar',\n  'ini',\n  '5 zodiak ini dikenal tak mau mengalah karena merasa paling benar'],\n ['3 karakter yang dapat mendukung kesuksesan ',\n  'karir',\n  '3 karakter yang dapat mendukung kesuksesan karir'],\n ['5 kue tradisional jepang berbahan dasar tepung beras',\n  '',\n  '5 kue tradisional jepang berbahan dasar tepung beras'],\n [' air putih punya kalori faktanya',\n  'ini ?',\n  'apakah air putih punya kalori ? ini faktanya'],\n ['kunyit hingga buah bit , pewarna alami untuk makanan',\n  'ini rinciannya',\n  'kunyit hingga buah bit , ini pewarna alami untuk makanan'],\n ['mengurangi , 5 alternatif pengganti nasi sangat bergizi ',\n  'makan nasi ini !',\n  'mengurangi makan nasi , 5 alternatif pengganti nasi ini sangat bergizi !'],\n [' menggunakan serai agar masakan lebih harum aromanya',\n  'tips',\n  'tips menggunakan serai agar masakan lebih harum aromanya'],\n ['saling mendukung , agar pernikahan langgeng selamanya',\n  'cara',\n  'saling mendukung , cara agar pernikahan langgeng selamanya'],\n ['tak perlu memaksa , 6 agar pria mau berkomitmen padamu',\n  'ini',\n  'tak perlu memaksa , ini 6 cara agar pria mau berkomitmen padamu'],\n ['fimela fest 2019 negara dengan praktik beauty bullying tertinggi',\n  ': 3',\n  'fimela fest 2019 : 3 negara dengan praktik beauty bullying tertinggi'],\n ['fimela fest 2019 : self love , mencintai itu penting',\n  'ini alasan diri sendiri',\n  'fimela fest 2019 : self love , ini alasan mencintai diri sendiri itu penting'],\n ['suka menggantungkan tas di lengan ',\n  ', seperti ini kepribadianmu',\n  'suka menggantungkan tas di lengan , seperti ini kepribadianmu !'],\n ['bisa diandalkan , 4 akan jadi sahabat yang paling butuhkan',\n  'zodiak ini kamu',\n  'bisa diandalkan , 4 zodiak ini akan jadi sahabat yang paling kamu butuhkan'],\n ['yeonjun txt ulang tahun , tahu tentangnya',\n  'ini fakta yang perlu kamu',\n  'yeonjun txt ulang tahun , ini fakta yang perlu kamu tahu tentangnya'],\n [' makeup andalan marsha aruan',\n  'begini jawaban',\n  'begini makeup andalan marsha aruan'],\n ['jadi penonton , kendall jenner rindu tampil di new york fashion week',\n  '',\n  'jadi penonton , kendall jenner rindu tampil di new york fashion week'],\n ['sudah terpilih , dia yang jadi leader ',\n  'ini member superm',\n  'sudah terpilih , ini dia member yang jadi leader superm'],\n ['satu rambut , 4 menggemaskan dian sastrowardoyo',\n  'gaya ekspresi',\n  'satu gaya rambut , 4 ekspresi menggemaskan dian sastrowardoyo'],\n ['alice norin ungkap pentingnya komunikasi dengan anak',\n  '',\n  'alice norin ungkap pentingnya komunikasi dengan anak'],\n ['dikabarkan jadi siti gahara di jagat sinema bumilangit , cinta laura',\n  'ini',\n  'dikabarkan jadi siti gahara di jagat sinema bumilangit , ini kata cinta laura'],\n ['tulisan boy william untuk sang adik',\n  'menyentuh',\n  'tulisan menyentuh boy william untuk sang adik'],\n ['anniversary , cantiknya memes berbalut kebaya saat menikah dengan ',\n  'addie ms !',\n  'anniversary , cantiknya memes berbalut kebaya saat menikah dengan addie ms'],\n ['usai kontroversi buteyko , andien ungkap push bike bagi anak',\n  'manfaat',\n  'usai kontroversi buteyko , andien ungkap manfaat push bike bagi anak'],\n ['baru tayang , sinopsis warkop dki reborn',\n  'ini rinciannya',\n  'baru tayang , ini sinopsis warkop dki reborn'],\n [' ampuh hilangkan noda hitam pada wajah',\n  'tips kulit',\n  'tips ampuh hilangkan noda hitam pada kulit wajah'],\n ['fungsi dan kerja toner dalam rutinitas perawatan kecantikan ',\n  'cara kulit',\n  'fungsi dan cara kerja toner dalam rutinitas perawatan kecantikan kulit'],\n ['ingin rambut terlihat rahasianya',\n  'prima saat bangun tidur ? ini',\n  'ingin rambut terlihat prima saat bangun tidur ? ini rahasianya'],\n ['5 trik agar lipstik matte menempel sempurna pada bibir',\n  '',\n  '5 trik agar lipstik matte menempel sempurna pada bibir'],\n ['6 pengaplikasian makeup untuk pemilik ',\n  'tips yang harus diperhatikan kulit sensitif',\n  '6 tips pengaplikasian makeup yang harus diperhatikan untuk pemilik kulit sensitif'],\n ['rekomendasi 5 lipstik lokal yang hadir dalam ukuran mini',\n  '',\n  'rekomendasi 5 lipstik lokal yang hadir dalam ukuran mini'],\n ['3 cleansing oil jadi pembersih wajah terbaik menurut ahli',\n  'ini alasan',\n  '3 alasan cleansing oil jadi pembersih wajah terbaik menurut ahli'],\n ['fimela fest 2019 : mengenal beauty bullying agar tak terjebak di dalamnya',\n  '',\n  'fimela fest 2019 : mengenal beauty bullying agar tak terjebak di dalamnya'],\n [' makeup tahan seharian saat beraktivitas di luar ruangan',\n  'tips',\n  'tips makeup tahan seharian saat beraktivitas di luar ruangan'],\n [' anak sebaiknya tidak konsumsi jus buah berlebihan',\n  'ini alasan',\n  'alasan anak sebaiknya tidak konsumsi jus buah berlebihan'],\n ['5 bahan alami yang bisa dimanfaatkan untuk obat batuk anak',\n  '',\n  '5 bahan alami yang bisa dimanfaatkan untuk obat batuk anak'],\n ['5 harus dihindari ibu hamil agar janin sehat',\n  'tips makanan yang',\n  '5 makanan yang harus dihindari ibu hamil agar janin sehat'],\n [' membuat daging-dagingan ala vegetarian',\n  'cara',\n  'cara membuat daging-dagingan ala vegetarian'],\n [' jatuh belum lima menit masih amankah dimakan ',\n  'makanan yang',\n  'makanan yang jatuh belum lima menit masih amankah dimakan ?'],\n ['fimela fest 2019 : bersikap optimis , untuk mencintai ',\n  'cara diri sendiri',\n  'fimela fest 2019 : bersikap optimis , cara untuk mencintai diri sendiri'],\n ['5 mudah menyerah dalam memperjuangkan cinta',\n  'ini',\n  '5 zodiak ini mudah menyerah dalam memperjuangkan cinta'],\n ['penuh motivasi , 4 selalu memastikan mimpinya terwujud ',\n  'zodiak ini !',\n  'penuh motivasi , 4 zodiak ini selalu memastikan mimpinya terwujud !'],\n ['suka bersikap seperti membuatmu menyebalkan ',\n  '? ternyata ini !',\n  'suka bersikap seperti ini ternyata membuatmu menyebalkan !'],\n ['jangan dibuang , minyak zaitun kedaluwarsa bisa jadi makeup remover ',\n  'kocak !',\n  'jangan dibuang , minyak zaitun kedaluwarsa bisa jadi makeup remover !'],\n ['jangan sembarangan , dulu serba-serbi menurunkan dengan hipnoterapi',\n  'berat badan',\n  'jangan sembarangan , simak dulu serba-serbi menurunkan berat badan dengan hipnoterapi'],\n ['suka mendominasi percakapan seperti dirimu di mata orang lain',\n  'ini',\n  'suka mendominasi percakapan ? seperti ini dirimu di mata orang lain'],\n ['dalam cinta , terkadang harus menyakiti dan tersakiti saat membuat pilihan',\n  '',\n  'dalam cinta , terkadang harus menyakiti dan tersakiti saat membuat pilihan'],\n [' romantis bj habibie untuk ainun',\n  'kata-kata',\n  'kata-kata romantis bj habibie untuk ainun'],\n ['fimela fest 2019 : menghentikan beauty bullying di media sosial',\n  'cara',\n  'fimela fest 2019 : cara menghentikan beauty bullying di media sosial'],\n ['bahan-bahan saja yang sebaiknya ada dalam sampo anti-ketombe ',\n  'apa ?',\n  'bahan-bahan apa saja sih yang sebaiknya ada dalam sampo anti-ketombe ?'],\n ['review : sampo anti-ketombe supermarket yang influencer ternama',\n  'curi perhatian',\n  'review : sampo anti-ketombe supermarket yang curi perhatian influencer ternama'],\n ['rambut gampang lepek 3 mungkin ',\n  '? hal ini penyebabnya',\n  'rambut gampang lepek ? 3 hal ini mungkin penyebabnya'],\n ['3 masalah rambut jadi penyebab bad hair day',\n  'yang sering',\n  '3 masalah rambut yang sering jadi penyebab bad hair day'],\n [' yang mudah jatuh cinta pada pandangan pertama',\n  'zodiak ini',\n  'zodiak yang mudah jatuh cinta pada pandangan pertama'],\n ['kesalahanku menyakiti perasaan pria yang tulus mencintaiku',\n  '',\n  'kesalahanku menyakiti perasaan pria yang tulus mencintaiku'],\n [' memilih dan menyimpan kayu manis agar aromanya awet',\n  'tips',\n  'tips memilih dan menyimpan kayu manis agar aromanya awet'],\n [' agar tepung panir pada gorengan tidak mudah rontok',\n  'ini cara',\n  'cara agar tepung panir pada gorengan tidak mudah rontok'],\n [' mengolah putih semangka menjadi manisan',\n  'kulit',\n  'cara mengolah kulit putih semangka menjadi manisan'],\n [' efektif mengusir dan mencegah kutu pada beras ketan',\n  'ini cara',\n  'cara efektif mengusir dan mencegah kutu pada beras ketan'],\n ['cinta tak bisa dipaksakan meski sudah dekat satu sama lain',\n  '',\n  'cinta tak bisa dipaksakan meski sudah dekat satu sama lain'],\n [' menggunakan asam jawa agar masakan lebih sedap',\n  'tips perut',\n  'tips menggunakan asam jawa agar masakan lebih sedap'],\n ['liburan , sangat penting saat memilih hotel',\n  'alasan kenapa rating',\n  'liburan , alasan kenapa rating sangat penting saat memilih hotel'],\n [' menyimpan ubi agar tahan lama dan tidak bertunas',\n  'cara',\n  'cara menyimpan ubi agar tahan lama dan tidak bertunas'],\n ['suka membawa tas di tangan , ',\n  'begini kepribadianmu !',\n  'suka membawa tas di tangan , begini kepribadianmu !'],\n ['tidak takut gagal , 4 suka ambil risiko besar',\n  'zodiak ini',\n  'tidak takut gagal , 4 zodiak ini suka ambil risiko besar'],\n [' mengonsumsi pil kb bisa menurunkan gairah seksual perempuan ',\n  'benarkah ?',\n  'benarkah mengonsumsi pil kb bisa menurunkan gairah seksual perempuan ?'],\n ['meski sulit , bangun pagi punya sejumlah bagi kesehatan',\n  'manfaat',\n  'meski sulit , bangun pagi punya sejumlah manfaat bagi kesehatan'],\n [' bisa makin didekatkan',\n  'yang sering',\n  'yang sering didoakan bisa makin didekatkan'],\n [' niki zefanya jadi line up di smartfren wow concert',\n  'ini alasan',\n  'alasan niki zefanya jadi line up di smartfren wow concert'],\n ['nicky tirta : aku sekarang dekat sama ibu-ibu',\n  '',\n  'nicky tirta : aku sekarang dekat sama ibu-ibu'],\n ['5 lain bengkuang ',\n  'manfaat yang perlu diketahui',\n  '5 manfaat lain bengkuang yang perlu diketahui'],\n ['5 rekomendasi serum anti-aging dari merek lokal dengan harga terjangkau',\n  '',\n  '5 rekomendasi serum anti-aging dari merek lokal dengan harga terjangkau'],\n ['7 mengetahui anak kesepian , perhatikan tandanya ',\n  '!',\n  '7 cara mengetahui anak kesepian , perhatikan tandanya !'],\n ['6 yang hanya memikirkan ',\n  'zodiak diri sendiri',\n  '6 zodiak yang hanya memikirkan diri sendiri'],\n ['3 menu sarapan buruk bagi kesehatan',\n  'ini',\n  '3 menu sarapan ini ternyata buruk bagi kesehatan'],\n [' buat face mist alami untuk ',\n  'cara kulit berminyak',\n  'cara buat face mist alami untuk kulit berminyak'],\n ['4 jenis untuk turunkan kolesterol',\n  'sayuran yang tepat',\n  '4 jenis sayuran yang tepat untuk turunkan kolesterol'],\n ['4 tidak suka berada di alam terbuka',\n  'ini',\n  '4 zodiak ini tidak suka berada di alam terbuka'],\n [' menghilangkan bau amis dan alot pada kerang',\n  'tips',\n  'tips menghilangkan bau amis dan alot pada kerang'],\n ['fimela fest 2019 : 5 pentingnya perempuan berdamai dengan rasa takut',\n  'alasan',\n  'fimela fest 2019 : 5 alasan pentingnya perempuan berdamai dengan rasa takut'],\n ['3 kado untuk yang bisa dibeli setelah gajian',\n  'diri sendiri',\n  '3 kado untuk diri sendiri yang bisa dibeli setelah gajian'],\n ['3 paling pemalu', 'zodiak', '3 zodiak paling pemalu'],\n ['bolehkah berolahraga saat flu dan batuk ',\n  '?',\n  'bolehkah berolahraga saat flu dan batuk ?'],\n ['cinta yang dipaksakan akan sulit bertahan lama',\n  '',\n  'cinta yang dipaksakan akan sulit bertahan lama'],\n [' september , 3 terbaik',\n  'zodiak mingguan 16-22 ini akan alami karir',\n  'zodiak mingguan 16-22 september , 3 zodiak ini akan alami karir terbaik'],\n ['hati-hati , 4 pasangan sering alami pertengkaran dan perselisihan',\n  'zodiak ini',\n  'hati-hati , 4 pasangan zodiak ini sering alami pertengkaran dan perselisihan'],\n ['fimela fest 2019 : 6 langkah terbaik untuk mulai keuangan',\n  'tips mengelola',\n  'fimela fest 2019 : 6 langkah terbaik untuk mulai mengelola keuangan'],\n [' september , 3 terburuk',\n  'zodiak mingguan 16-22 ini akan alami karir',\n  'zodiak mingguan 16-22 september , 3 zodiak ini akan alami karir terburuk'],\n ['fimela fest 2019 : 15 membuat perempuan fearless luar biasa',\n  'hal',\n  'fimela fest 2019 : 15 hal membuat perempuan fearless luar biasa'],\n ['fimela fest 2019 : grow fearless sebagai kekuatan baru untuk memberdayakan perempuan',\n  '',\n  'fimela fest 2019 : grow fearless sebagai kekuatan baru untuk memberdayakan perempuan'],\n [' aman makan salmon mentah bahayanya ',\n  'apakah ? apa',\n  'apakah aman makan salmon mentah ? apa bahayanya ?'],\n ['koleksi jam tangan yang nyaman untuk semua profesi',\n  '',\n  'koleksi jam tangan yang nyaman untuk semua profesi'],\n ['dua hati yang terlalu berbeda sulit untuk disatukan bersama',\n  '',\n  'dua hati yang terlalu berbeda sulit untuk disatukan bersama'],\n [' september , 3 cinta terbaik',\n  'zodiak mingguan 16-22 ini akan alami',\n  'zodiak mingguan 16-22 september , 3 zodiak ini akan alami cinta terbaik'],\n [' september , 3 cinta terburuk',\n  'zodiak mingguan 16-22 ini akan alami',\n  'zodiak mingguan 16-22 september , 3 zodiak ini akan alami cinta terburuk'],\n [' , cinta laura jadi perhatian',\n  'unggah foto perut',\n  'unggah foto , perut cinta laura jadi perhatian'],\n ['pakai cadar , vebby palwinta dibilang sangat cantik',\n  '',\n  'pakai cadar , vebby palwinta dibilang sangat cantik'],\n ['pengalaman alice norin beberapa kali kerja bareng anak',\n  '',\n  'pengalaman alice norin beberapa kali kerja bareng anak'],\n [' google doodle kenang 70 tahun sosok chrisye',\n  'ini cara',\n  'cara google doodle kenang 70 tahun sosok chrisye'],\n [' raline shah pilih kedai kopi sebagai lini bisnis terbarunya',\n  'ini alasan',\n  'alasan raline shah pilih kedai kopi sebagai lini bisnis terbarunya'],\n ['ajak anak lari , zee zee shahab arahkan jadi atlet ',\n  'ini ?',\n  'ajak anak lari , zee zee shahab arahkan jadi atlet ?'],\n ['mata anak minus , gisella anastasia ',\n  'stres',\n  'mata anak minus , gisella anastasia stres'],\n ['10 group september 2019',\n  'member girl terpopuler',\n  '10 member girl group terpopuler september 2019'],\n ['4 ikon yang orang',\n  'fakta menarik jarang diketahui',\n  '4 fakta menarik ikon yang jarang diketahui orang'],\n ['anaknya trauma ke dokter gigi , zaskia adya mecca menyiasatinya',\n  'begini',\n  'anaknya trauma ke dokter gigi , begini cara zaskia adya mecca menyiasatinya'],\n ['momen anang hermansyah jadi ',\n  'comeback juri indonesian idol',\n  'momen comeback anang hermansyah jadi juri indonesian idol'],\n ['4 selebriti yang punya kembaran',\n  'hollywood ternyata',\n  '4 selebriti hollywood yang ternyata punya kembaran'],\n ['serunya marsha timothy ajak sma reuni nonton film bebas di bioskop',\n  'teman',\n  'serunya marsha timothy ajak teman sma reuni nonton film bebas di bioskop'],\n [' sifat reisa broto asmoro dilihat dari ',\n  'zodiak capricorn',\n  'intip sifat reisa broto asmoro dilihat dari zodiak capricorn'],\n ['agar selalu terlihat rapi , hindari 5 penyebab rambut kusut',\n  '',\n  'agar selalu terlihat rapi , hindari 5 penyebab rambut kusut'],\n ['ketahui kekurangan dan kelebihan menggunakan produk makeup yang tahan 24 jam',\n  '',\n  'ketahui kekurangan dan kelebihan menggunakan produk makeup yang tahan 24 jam'],\n [' menggunakan minyak jarak untuk hilangkan jerawat',\n  'cara',\n  'cara menggunakan minyak jarak untuk hilangkan jerawat'],\n ['3 resep masker rambut buatan sendiri dari minyak zaitun',\n  'jitu',\n  '3 resep jitu masker rambut buatan sendiri dari minyak zaitun'],\n [' agar wangi parfum dan tahan lama',\n  'tips masak lebih awet',\n  'tips agar wangi parfum lebih awet dan tahan lama'],\n ['bukan ketombe menghilangkan rasa di kepala',\n  ', ikuti tips gatal kulit',\n  'bukan ketombe , ikuti tips menghilangkan rasa gatal di kulit kepala'],\n [' makeup terkini dari panggung london fashion week',\n  '5 inspirasi',\n  '5 inspirasi makeup terkini dari panggung london fashion week'],\n ['5 tanda terlalu banyak menggunakan produk skincare',\n  'kulit',\n  '5 tanda kulit terlalu banyak menggunakan produk skincare'],\n ['6 yang terlalu keras pada diri mereka sendiri',\n  'zodiak',\n  '6 zodiak yang terlalu keras pada diri mereka sendiri'],\n ['usiamu terus bertambah tapi belum bisa bahagiakan orangtua ya , kita sama',\n  'ini ?',\n  'usiamu terus bertambah tapi belum bisa bahagiakan orangtua ? ya , kita sama'],\n ['rekomendasi buku untuk pasangan muda yang wajib dimiliki',\n  '',\n  'rekomendasi buku untuk pasangan muda yang wajib dimiliki'],\n ['fimela fest 2019 : 5 selebriti dunia yang gencar suarakan kesetaraan hak perempuan',\n  '',\n  'fimela fest 2019 : 5 selebriti dunia yang gencar suarakan kesetaraan hak perempuan'],\n ['tanda ambisius , jika punya koleksi ',\n  'kepribadian kamu benda ini !',\n  'tanda kepribadian ambisius , jika kamu punya koleksi benda ini !'],\n ['fimela fest 2019 : pentingnya self-love menerima itu bikin happy',\n  ', karena diri sendiri',\n  'fimela fest 2019 : pentingnya self-love , karena menerima diri sendiri itu bikin happy'],\n ['berkencan di usia 30 penting ',\n  '? ini tips yang harus dipahami',\n  'berkencan di usia 30 ? ini tips penting yang harus dipahami'],\n ['3 pertolongan pertama mengatasi mata lelah',\n  '',\n  '3 pertolongan pertama mengatasi mata lelah'],\n ['jangan tersinggung , 4 memang suka bicara ',\n  'zodiak ini blak-blakan',\n  'jangan tersinggung , 4 zodiak ini memang suka bicara blak-blakan'],\n ['saling melengkapi , 4 pasangan ',\n  'zodiak ini jarang bertengkar',\n  'saling melengkapi , 4 pasangan zodiak ini jarang bertengkar'],\n ['mudah beradaptasi , dia 5 yang sangat menikmati hidup nomaden',\n  'ini zodiak gaya',\n  'mudah beradaptasi , ini dia 5 zodiak yang sangat menikmati gaya hidup nomaden'],\n [' menyusun itinerary untuk travelling secara efektif',\n  'tips perut',\n  'tips menyusun itinerary untuk travelling secara efektif'],\n [' banyak buah pisang sebaiknya dimakan per hari ',\n  '?',\n  'berapa banyak buah pisang sebaiknya dimakan per hari ?'],\n ['saat merasa hubungan sudah tak sehat , itu saat terbaik untuk mengakhirinya',\n  '',\n  'saat merasa hubungan sudah tak sehat , itu saat terbaik untuk mengakhirinya'],\n ['makin dewasa , perempuan makin mudah cemas ',\n  'kenapa ?',\n  'makin dewasa , kenapa perempuan makin mudah cemas ?'],\n ['santan hingga daun pandan , bahan pelengkap jajanan tradisional',\n  'ini',\n  'santan hingga daun pandan , ini bahan pelengkap jajanan tradisional'],\n ['terlalu posesif hanya akan menyiksa ',\n  'diri sendiri',\n  'terlalu posesif hanya akan menyiksa diri sendiri'],\n [' buah pisang sangat baik dimakan penderita asam urat',\n  'ini alasan',\n  'ini alasan buah pisang sangat baik dimakan penderita asam urat'],\n ['5 dilakukan dengan barang-barang pemberian mantan',\n  'hal yang harus',\n  '5 hal yang harus dilakukan dengan barang-barang pemberian mantan'],\n ['praktikkan 6 fungsi baking soda untuk kecantikan dan kesehatan',\n  '',\n  'praktikkan 6 fungsi baking soda untuk kecantikan dan kesehatan'],\n [' memasak ikan yang paling baik dan sehat',\n  'ternyata ini cara',\n  'ternyata ini cara memasak ikan yang paling baik dan sehat'],\n ['5 mengakhiri hubungan dengan damai agar tidak terlalu menyakitkan',\n  'cara',\n  '5 cara mengakhiri hubungan dengan damai agar tidak terlalu menyakitkan'],\n ['legenda musik indonesia , 5 tentang chrisye',\n  'ini fakta',\n  'legenda musik indonesia , ini 5 fakta tentang chrisye'],\n ['5 gambarkan karakter dan musikalitas chrisye',\n  'lagu yang',\n  '5 lagu yang gambarkan karakter dan musikalitas chrisye'],\n [' call hingga cctv online , denada obati rindu dengan anak di singapura',\n  'video cara',\n  'video call hingga cctv online , cara denada obati rindu dengan anak di singapura'],\n ['bantah hubungan ray sahetapy ungkap sosok tiga setia gara',\n  'darah , mengerikan',\n  'bantah hubungan darah , ray sahetapy ungkap sosok tiga setia gara'],\n ['mengalami kdrt , tiga setia gara',\n  'begini fakta',\n  'mengalami kdrt , begini fakta tiga setia gara'],\n ['irish bella alami pendarahan di usia kandungan 6 bulan , ',\n  'ini',\n  'irish bella alami pendarahan di usia kandungan 6 bulan , ini penyebabnya'],\n ['bukti keabadian lagu chrisye dari masa ke masa',\n  '',\n  'bukti keabadian lagu chrisye dari masa ke masa'],\n [' soal kematian adik louis tomlinson',\n  'terungkap',\n  'terungkap soal kematian adik louis tomlinson'],\n ['4 mempermanis film pretty boys',\n  'lagu yang',\n  '4 lagu yang mempermanis cerita film pretty boys'],\n ['perempuan tanah jahanam rilis trailer baru , ketika tara basro menguak misteri keluarganya',\n  '',\n  'perempuan tanah jahanam rilis trailer baru , ketika tara basro menguak misteri keluarganya'],\n ['aurelie moeremans bilang asmaranya dengan marcello tahitoe kandas',\n  '',\n  'aurelie moeremans bilang asmaranya dengan marcello tahitoe kandas'],\n [' di balik nana mirdad , andrew white dan brad pitt',\n  'cerita foto',\n  'cerita di balik foto nana mirdad , andrew white dan brad pitt'],\n ['hijabers , sudah tepatkah merawat rambutmu cari tahu lewat kuis ',\n  'cara ? ini yuk',\n  'hijabers , sudah tepatkah cara merawat rambutmu ? cari tahu lewat kuis ini yuk'],\n [' paling efektif untuk mengatasi hiperpigmentasi',\n  'cara',\n  'cara paling efektif untuk mengatasi hiperpigmentasi'],\n [' membuat sendiri facial mist untuk wajah ',\n  'cara berminyak',\n  'cara membuat sendiri facial mist untuk wajah berminyak'],\n ['3 pilihan pembersih wajah esensial berdasarkan dan jenis ',\n  'manfaat kulit',\n  '3 pilihan pembersih wajah esensial berdasarkan manfaat dan jenis kulit'],\n [' algae dalam skincare untuk kesehatan ',\n  'manfaat kulit',\n  'manfaat algae dalam skincare untuk kesehatan kulit'],\n ['infusi perawatan yang terkemas dalam cushion high end',\n  'kulit',\n  'infusi perawatan kulit yang terkemas dalam cushion high end'],\n ['alis terasa semakin tipis cek beberapa ',\n  '? penyebabnya',\n  'alis terasa semakin tipis ? cek beberapa penyebabnya'],\n ['berhenti 5 yang dapat merusak anak rambut',\n  'melakukan kebiasaan',\n  'berhenti melakukan 5 kebiasaan yang dapat merusak anak rambut'],\n ['mengenali alergi anestesi sebelum prosedur kesehatan',\n  'melakukan',\n  'mengenali alergi anestesi sebelum melakukan prosedur kesehatan'],\n [' witch hazel ',\n  'manfaat untuk perawatan kulit',\n  'manfaat witch hazel untuk perawatan kulit'],\n ['fimela fest 2019 faktor dalam mindful parenting',\n  ': 3 yang perlu dipahami',\n  'fimela fest 2019 : 3 faktor yang perlu dipahami dalam mindful parenting'],\n ['fimela fest 2019 : biasakan anak sarapan tingkatkan pengetahuan',\n  '',\n  'fimela fest 2019 : biasakan anak sarapan tingkatkan pengetahuan'],\n [' musik seperti yang mampu meningkatkan motivasi dan semangat',\n  'ini',\n  'ternyata musik seperti ini yang mampu meningkatkan motivasi dan semangat'],\n ['4 pria pasangan terbaik dalam hubungan',\n  'alasan',\n  '4 alasan pria sensitif pasangan terbaik dalam hubungan'],\n ['jenis musik seperti yang tingkatkan konsentrasi dan produktivitas kerja',\n  'ini rinciannya',\n  'jenis musik seperti ini yang tingkatkan konsentrasi dan produktivitas kerja'],\n ['3 sissy priscillia mengatur keuangan keluarga agar tidak boros',\n  'cara',\n  '3 cara sissy priscillia mengatur keuangan keluarga agar tidak boros'],\n ['sebelum yoga , sebaiknya hindari mengonsumsi 4 makanan ',\n  'ini rinciannya',\n  'sebelum yoga , sebaiknya hindari mengonsumsi 4 makanan ini'],\n ['tidak lapar tapi ingin makan terus , 4 ',\n  'kenali',\n  'tidak lapar tapi ingin makan terus , kenali 4 penyebabnya'],\n ['4 yang suka memforsir secara berlebihan',\n  'zodiak diri sendiri',\n  '4 zodiak yang suka memforsir diri sendiri secara berlebihan'],\n ['pandai bersosialiasi , 3 sangat menikmati hidup',\n  'zodiak ini',\n  'pandai bersosialiasi , 3 zodiak ini sangat menikmati hidup'],\n ['ingin lebih cepat di malam hari pakai piyama dari bahan ',\n  'ini ?',\n  'ingin tidur lebih cepat di malam hari ? pakai piyama dari bahan ini'],\n ['berani jatuh cinta harus berani menerima pasangan adanya',\n  'apa ?',\n  'berani jatuh cinta harus berani menerima pasangan apa adanya'],\n ['selain uang , yang bikin orang enggan travelling sendiri',\n  'ini rinciannya',\n  'selain uang , ini yang bikin orang enggan travelling sendiri'],\n ['fimela fest 2019 : disebut , 3 sosok perempuan yang berperan penting mengangkat isu kesetaraan gender',\n  'jarang',\n  'fimela fest 2019 : jarang disebut , 3 sosok perempuan yang berperan penting mengangkat isu kesetaraan gender'],\n ['4 agar alat berbahan teflon ',\n  'tips masak lebih awet',\n  '4 tips agar alat masak berbahan teflon lebih awet'],\n [' turun cepat jika rajin sarapan , menurut studi',\n  'berat badan ini',\n  'berat badan turun cepat jika rajin sarapan ini , menurut studi'],\n [' menggunakan kartu kredit',\n  'tips aman dan',\n  'tips aman dan cerdas menggunakan kartu kredit'],\n ['3 mencegah pening saat gerakan yoga',\n  'tips',\n  '3 tips mencegah pening saat melakukan gerakan yoga'],\n ['luar biasa , air cucian beras untuk rambut',\n  'ini',\n  'luar biasa , ini manfaat air cucian beras untuk rambut'],\n ['5 agar pernikahan langgeng dan bahagia selalu',\n  'cara',\n  '5 cara agar pernikahan langgeng dan bahagia selalu'],\n ['fimela fest 2019 : 5 tanda dirimu sudah berhasil mencintai ',\n  'alasan diri sendiri',\n  'fimela fest 2019 : 5 tanda dirimu sudah berhasil mencintai diri sendiri'],\n [' mematangkan alpukat cepat dengan oven',\n  'tips perut',\n  'tips mematangkan alpukat cepat dengan oven'],\n ['fimela fest 2019 langkah merencanakan keuangan yang sehat',\n  ': 3 cara',\n  'fimela fest 2019 : 3 langkah merencanakan keuangan yang sehat'],\n ['menangislah menangis untuk tubuh',\n  ', karena ini manfaat',\n  'menangislah , karena ini manfaat menangis untuk tubuh'],\n ['5 yang memiliki body positivity',\n  'zodiak',\n  '5 zodiak yang memiliki body positivity'],\n ['3 ide destinasi dengan wellness retreat di negeri paman sam',\n  '',\n  '3 ide destinasi dengan wellness retreat di negeri paman sam'],\n [' mematangkan alpukat dengan buah apel',\n  'tips perut',\n  'tips mematangkan alpukat dengan buah apel'],\n ['jenis musik yang membuat orang tidak mudah saat bekerja',\n  'ini stres',\n  'jenis musik ini yang membuat orang tidak mudah stres saat bekerja'],\n ['4 waktu terbaik untuk dan manfaatnya',\n  'berhubungan intim',\n  '4 waktu terbaik untuk berhubungan intim dan manfaatnya'],\n ['siap kembali usai rehat , penampilan baru ',\n  'ini jungkook bts',\n  'siap kembali usai rehat , ini penampilan baru jungkook bts'],\n ['dikabarkan jalin asmara dengan , perempuan minta maaf',\n  'jungkook bts ini',\n  'dikabarkan jalin asmara dengan jungkook bts , perempuan ini minta maaf'],\n [' raisa dan cocok jadi penyanyi karakter mereka',\n  'kenapa zodiak gemini ? intip',\n  'kenapa raisa dan zodiak gemini cocok jadi penyanyi ? intip karakter mereka'],\n ['4 momen mengharukan b . i selama berkarier di ikon',\n  '',\n  '4 momen mengharukan b . i selama berkarier di ikon'],\n ['disebut lebih seram dari pengabdi setan , sinopsis film perempuan tanah jahanam',\n  'ini',\n  'disebut lebih seram dari pengabdi setan , ini sinopsis film perempuan tanah jahanam'],\n ['pilih olahraga zumba , putri marino',\n  'ini alasan',\n  'pilih olahraga zumba , ini alasan putri marino'],\n ['fimela fest 2019 : arti fearless women bagi asmara abigail',\n  'ini rinciannya',\n  'fimela fest 2019 : ini arti fearless women bagi asmara abigail'],\n ['tayang pada oktober 2019 , 5 perempuan tanah jahanam',\n  'ini fakta menarik',\n  'tayang pada oktober 2019 , ini 5 fakta menarik perempuan tanah jahanam'],\n ['tak perlu ke dokter , trik hilangkan milia',\n  'ini',\n  'tak perlu ke dokter kulit , ini trik hilangkan milia'],\n ['punya aplikasi makeup ',\n  'kulit sensitif ? simak tips yang tepat berikut ini',\n  'punya kulit sensitif ? simak tips aplikasi makeup yang tepat berikut ini'],\n ['rekomendasi parfum aroma musk yang patut dicoba',\n  '',\n  'rekomendasi parfum aroma musk yang patut dicoba'],\n ['perawatan seluruh tubuh , 3 cegah kering',\n  'kulit cara',\n  'perawatan kulit seluruh tubuh , simak 3 cara cegah kulit kering'],\n ['sudah cukupkah kandungan protein rambutmu ',\n  '?',\n  'sudah cukupkah kandungan protein rambutmu ?'],\n ['3 memanfaatkan baby oil kecantikan',\n  'cara untuk perawatan',\n  '3 cara memanfaatkan baby oil untuk perawatan kecantikan'],\n ['3 racikan tepung beras , pernah coba ',\n  'untuk perawatan kulit ?',\n  '3 racikan tepung beras untuk perawatan kulit , pernah coba ?'],\n [' ibu hamil rentan dan ',\n  'alasan stres cara mengatasinya',\n  'alasan ibu hamil rentan stres dan cara mengatasinya'],\n ['fimela fest 2019 : pola asuh terbaik untuk membuat anak merasa istimewa',\n  '',\n  'fimela fest 2019 : pola asuh terbaik untuk membuat anak merasa istimewa'],\n ['anak tidak mau , berbahaya ',\n  'makan nasi apakah ?',\n  'anak tidak mau makan nasi , apakah berbahaya ?'],\n ['3 penanganan kehamilan risiko tinggi , agar anak terlahir sehat',\n  '',\n  '3 penanganan kehamilan risiko tinggi , agar anak terlahir sehat'],\n ['tidak suka membesar-besarkan masalah , 3 sangat bijaksana',\n  'zodiak ini',\n  'tidak suka membesar-besarkan masalah , 3 zodiak ini sangat bijaksana'],\n [' redakan nyeri pms dengan diet sehat',\n  'tips perut',\n  'tips redakan nyeri pms dengan diet sehat'],\n ['efek minum air dalam botol yang telah terekspos sinar matahari terlalu lama',\n  '',\n  'efek minum air dalam botol yang telah terekspos sinar matahari terlalu lama'],\n ['merayakan kesendirian : tuhan takkan membiarkan hamba-nya sendirian',\n  '',\n  'merayakan kesendirian : tuhan takkan membiarkan hamba-nya sendirian'],\n [' makan sehat atasi kecemasan dan dari nutrisionis',\n  'tips',\n  'tips makan sehat atasi kecemasan dan stres dari nutrisionis'],\n ['4 dilakukan sebelum aerobik bagi yang olahraga',\n  'hal yang perlu jarang',\n  '4 hal yang perlu dilakukan sebelum aerobik bagi yang jarang olahraga'],\n [' menghindari nyeri karena duduk terlalu lama di perjalanan',\n  'tips',\n  'tips menghindari nyeri pinggang karena duduk terlalu lama di perjalanan'],\n [' menyimpan beras agar awet dan tidak berkutu',\n  'cara',\n  'cara menyimpan beras agar awet dan tidak berkutu'],\n ['3 yang paling cocok dengan perempuan ',\n  'zodiak scorpio',\n  '3 zodiak yang paling cocok dengan perempuan scorpio'],\n ['baik hati , 5 tidak pernah menyakiti orang lain',\n  'zodiak ini',\n  'baik hati , 5 zodiak ini tidak pernah tega menyakiti orang lain'],\n ['pilih tujuan biar nyaman nikmati liburan halal',\n  'yang tepat aman dan',\n  'pilih tujuan yang tepat biar aman dan nyaman nikmati liburan halal'],\n ['fimela fest 2019 : berani bekerja keras , itu karakter kuat perempuan fearless',\n  '',\n  'fimela fest 2019 : berani bekerja keras , itu karakter kuat perempuan fearless'],\n ['studi : bekerja 1 , 6 jam di jakarta setara selembar tiket bioskop',\n  'fakta menarik',\n  'studi menarik : bekerja 1 , 6 jam di jakarta setara selembar tiket bioskop'],\n ['3 efektif menghilangkan rasa pada talas atau taro',\n  'cara',\n  '3 cara efektif menghilangkan rasa gatal pada talas atau taro'],\n ['sudah berjuang keras tapi belum , ikhlaskan saja',\n  'berjodoh',\n  'sudah berjuang keras tapi belum berjodoh , ikhlaskan saja'],\n ['4 pasang yang sangat cocok bersama',\n  'zodiak ini',\n  '4 pasang zodiak yang sangat cocok bersama'],\n [' memilih asuransi kesehatan buatmu',\n  'tips yang tepat',\n  'tips memilih asuransi kesehatan yang tepat buatmu'],\n ['bersabarlah , 10 tanda pasangan selingkuh di belakangmu',\n  'ini rinciannya',\n  'bersabarlah , ini 10 tanda pasangan selingkuh di belakangmu'],\n ['selain harga terjangkau , inovasi pada smartphone yang dibutuhkan gen z',\n  'ini',\n  'selain harga terjangkau , ini inovasi pada smartphone yang dibutuhkan gen z'],\n ['makan makanan berserat bisa cegah kanker , ',\n  'ini',\n  'makan makanan berserat bisa cegah kanker , ini alasannya'],\n ['8 yang pria darimu saat pertama kali bertemu',\n  'hal',\n  '8 hal yang diperhatikan pria darimu saat pertama kali bertemu'],\n ['6 dari ahli gizi',\n  'tips mengelola stres',\n  '6 tips mengelola stres dari ahli gizi'],\n ['inspirasi 10 makanan enak yang terbuat dari singkong',\n  '',\n  'inspirasi 10 makanan enak yang terbuat dari singkong'],\n [' bisa mengandalkan mereka , 6 yang selalu memiliki inisiatif',\n  'kamu zodiak',\n  'kamu bisa mengandalkan mereka , 6 zodiak yang selalu memiliki inisiatif'],\n [' lola amaria besut film tentang olahraga 6 , 9 detik',\n  'cerita',\n  'cerita lola amaria besut film tentang olahraga 6 , 9 detik'],\n ['umumkan status gender , sam smith inginkan sebutan ',\n  'ini rinciannya',\n  'umumkan status gender , sam smith inginkan sebutan ini'],\n [' sekali aksi darius sinathrya donna agnesia',\n  'mesra , lihat gendong',\n  'mesra sekali , lihat aksi darius sinathrya gendong donna agnesia'],\n ['agatha pricilla ungkap cita-cita dunia musik',\n  'lain di',\n  'agatha pricilla ungkap cita-cita lain di dunia musik'],\n ['harry styles jadi penghambat reuni one direction ',\n  'ini ?',\n  'harry styles jadi penghambat reuni one direction ?'],\n ['rianti cartwright ungkap bahagia di ultah pernikahan ke-9',\n  '',\n  'rianti cartwright ungkap bahagia di ultah pernikahan ke-9'],\n [' luna f(x) usai tinggalkan entertainment',\n  'f ( x ) reaksi tak terduga sm',\n  'reaksi tak terduga luna f(x) usai tinggalkan sm entertainment'],\n ['bercerita tentang anak konflik palestina , sinopsis film hayya',\n  'ini',\n  'bercerita tentang anak konflik palestina , ini sinopsis film hayya'],\n ['nicky tirta yang santai soal jodoh karakternya melalui ',\n  ', lihat zodiak taurus',\n  'nicky tirta yang santai soal jodoh , lihat karakternya melalui zodiak taurus'],\n [' haru denada jual dua rumah miliknya demi pengobatan anak',\n  'cerita',\n  'cerita haru denada jual dua rumah miliknya demi pengobatan anak'],\n [' padu padan makeup sesuai dress yang dipakai , biar cantik di berbagai occasion',\n  'tips',\n  'tips padu padan makeup sesuai dress yang dipakai , biar cantik di berbagai occasion'],\n ['pentingnya menggunakan essence dan manfaatnya dalam perawatan ',\n  'kulit',\n  'pentingnya menggunakan essence dan manfaatnya dalam perawatan kulit'],\n ['fimela fest 2019 faktor seseorang beauty bullying , ',\n  ': 3 melakukan ini kata psikolog',\n  'fimela fest 2019 : 3 faktor seseorang melakukan beauty bullying , ini kata psikolog'],\n ['rekomendasi produk scrub wajah dengan harga yang ramah di kantong',\n  '',\n  'rekomendasi produk scrub wajah dengan harga yang ramah di kantong'],\n ['dipetisi karena bahas oplas & jimin , satria ',\n  'pajang foto bts ini kata mulia',\n  'dipetisi karena bahas oplas & pajang foto jimin bts , ini kata satria mulia'],\n ['nonton wimbledon , meghan markle tampil kasual kenakan jeans , sudah kembali langsing ',\n  'kocak !',\n  'nonton wimbledon , meghan markle tampil kasual kenakan jeans , sudah kembali langsing !'],\n ['sukses jadi artis , rumah mpok alpa yang sederhana di perkampungan',\n  'begini potret',\n  'sukses jadi artis , begini potret rumah mpok alpa yang sederhana di perkampungan'],\n [' admin lambe turah , sering diancam mau dibunuh - 500 juta sebulan',\n  'cerita penghasilan',\n  'cerita admin lambe turah , sering diancam mau dibunuh - penghasilan 500 juta sebulan'],\n [' , gisella anastasia ungkap penyebab cerai dari gading marten',\n  'blak-blakan',\n  'blak-blakan , gisella anastasia ungkap penyebab cerai dari gading marten'],\n ['sinopsis drama life episode 16 , akhir yang manis',\n  'cerita',\n  'sinopsis drama life episode 16 , akhir cerita yang manis'],\n ['tak ingin banyak dituntut , dita soedarjo ingin punya ',\n  'pacar ?',\n  'tak ingin banyak dituntut , dita soedarjo ingin punya pacar bule ?'],\n ['penggemar alami kecelakan , taylor swift kirim ucapan manis',\n  '',\n  'penggemar alami kecelakan , taylor swift kirim ucapan manis'],\n ['berkarir di australia , artis 90-an multitalenta siapkan banyak judul film',\n  'ini',\n  'berkarir di australia , artis 90-an multitalenta ini siapkan banyak judul film'],\n ['sangat suportif , monita tahalea makin jatuh hati dengan suami',\n  '',\n  'sangat suportif , monita tahalea makin jatuh hati dengan suami'],\n ['pernah main web drama bareng , interaksi exo dan mina gugudan bikin ',\n  'sehun fans gemas',\n  'pernah main web drama bareng , interaksi sehun exo dan mina gugudan bikin fans gemas'],\n ['makan gunungkidul , menu yang dipesan suju dan tvxq',\n  'malam di',\n  'makan malam di gunungkidul , ini menu yang dipesan suju dan tvxq'],\n [' serial pendek netflix yang wajib kalian tonton',\n  'inilah lisa',\n  'inilah serial pendek netflix yang wajib kalian tonton'],\n ['jelang pernikahan , ajun perwira merasa deg-degan',\n  '',\n  'jelang pernikahan , ajun perwira merasa deg-degan'],\n ['rencana melahirkan di luar negeri , nikita mirzani : pengen show off aja , biar sombong ',\n  '!',\n  'rencana melahirkan di luar negeri , nikita mirzani : pengen show off aja , biar sombong !'],\n [' hadiah istimewa penggemar di hari ulang tahun blackpink',\n  'inilah',\n  'inilah hadiah istimewa penggemar di hari ulang tahun lisa blackpink'],\n [\"' let me love you ' milik dj snake sebenarnya diciptakan untuk cl 2ne1 \",\n  'ini ?',\n  \"' let me love you ' milik dj snake sebenarnya diciptakan untuk cl 2ne1 ?\"],\n ['liburan bersama suami , cantiknya priyanka chopra gunakan bikini',\n  '',\n  'liburan bersama suami , cantiknya priyanka chopra gunakan bikini'],\n ['model majalah playboy mengaku dapat pesan tak senonoh dari tunangan jennifer lopez',\n  '',\n  'model majalah playboy mengaku dapat pesan tak senonoh dari tunangan jennifer lopez'],\n ['pesawat yang ditumpangi mendarat darurat , keanu reeves jadi pahlawan',\n  '',\n  'pesawat yang ditumpangi mendarat darurat , keanu reeves jadi pahlawan'],\n [' besar karena pangeran william kate middleton 1 permintaan ',\n  'marah selingkuh , ucap ini',\n  'marah besar karena pangeran william selingkuh , kate middleton ucap 1 permintaan ini'],\n ['7 pasangan dalam drama punya hubungan paling sehat ',\n  'ini !',\n  '7 pasangan dalam drama ini punya hubungan paling sehat !'],\n ['pmui festival hadirkan artis ternama dan pesulam professional dunia',\n  '',\n  'pmui festival hadirkan artis ternama dan pesulam professional dunia'],\n ['tak sesuai prediksi , asri welas harus jalani persalinan lebih awal ',\n  'kocak !',\n  'tak sesuai prediksi , asri welas harus jalani persalinan lebih awal !'],\n ['rencana pernikahan kevin aprilio , tak mau pakai uang sepeser pun ',\n  'addie ms !',\n  'rencana pernikahan kevin aprilio , tak mau pakai uang addie ms sepeser pun !'],\n ['tak hanya pandai menyanyi , eddy kim juga jago bermain gitar number',\n  '',\n  'tak hanya pandai menyanyi , eddy kim juga jago bermain gitar number'],\n ['kuliah di london , el rumi sudah nyoblos ',\n  'duluan !',\n  'kuliah di london , el rumi sudah nyoblos duluan !'],\n [' pohan imigran gelap oleh petugas bandara singapura',\n  'annisa diperlakukan bak',\n  'annisa pohan diperlakukan bak imigran gelap oleh petugas bandara singapura'],\n ['serunya dinner bareng prilly latuconsina di bali , bagi kecantikan hingga curhat',\n  'tips',\n  'serunya dinner bareng prilly latuconsina di bali , bagi tips kecantikan hingga curhat'],\n [' candid jepretan reino barack , rambut syahrini berantakan',\n  'unggah foto',\n  'unggah foto candid jepretan reino barack , rambut syahrini berantakan'],\n [\" captain america dibuat tetap hidup : '\",\n  \"ini alasan kenapa di ' avengers endgame\",\n  \"ini alasan kenapa captain america dibuat tetap hidup di ' avengers : endgame '\"],\n ['41 idola yang pilih tinggalkan ent , sebagian besar karena nggak cocok kontrak',\n  'sm',\n  '41 idola yang pilih tinggalkan sm ent , sebagian besar karena nggak cocok kontrak'],\n ['12 wajah asli blackpink - ',\n  'foto idol k-pop saat bangun tidur , ada lisa v bts !',\n  '12 foto wajah asli idol k-pop saat bangun tidur , ada lisa blackpink - v bts !'],\n [\"jisoo dan jennie blackpink ' cover keong ' , \",\n  'racun kocak banget !',\n  \"jisoo dan jennie blackpink ' cover keong racun ' , kocak banget !\"],\n ['adik angela gilsha larang bayi : ajarin diam atau mulutnya diselotip ',\n  'naik pesawat !',\n  'adik angela gilsha larang bayi naik pesawat : ajarin diam atau mulutnya diselotip !'],\n ['13 raja dan ratu dance (dancing machine) entertainment dari masa ke masa',\n  'sm',\n  '13 raja dan ratu dance (dancing machine) sm entertainment dari masa ke masa'],\n ['ditelepon sasaeng saat live , yang dilakukan ',\n  'ini jungkook bts',\n  'ditelepon sasaeng fans saat live , ini yang dilakukan jungkook bts'],\n ['kathryn mayorga , mengaku diperkosa cristiano ronaldo 10 tahun lalu',\n  '',\n  'kathryn mayorga , mengaku diperkosa cristiano ronaldo 10 tahun lalu'],\n ['detektif kematian tupac shakur ungkap pembunuh sang rapper yang sebenarnya',\n  '',\n  'detektif kematian tupac shakur ungkap pembunuh sang rapper yang sebenarnya'],\n ['disebut masuk islam karena sabrina , deddy corbuzier : cemen amat',\n  '',\n  'disebut masuk islam karena sabrina , deddy corbuzier : cemen amat'],\n ['bikin kuis , gibran rakabuming janjikan hadiah sneakers yeezy bernilai fantastis',\n  '',\n  'bikin kuis , gibran rakabuming janjikan hadiah sneakers yeezy bernilai fantastis'],\n [' persamaan kai exo dan krystal f(x) , bikin sendiri',\n  'f ( x ) viral ! gaya fans baper',\n  'viral ! persamaan gaya kai exo dan krystal f(x) , bikin fans baper sendiri'],\n [' punggung kai exo sering oleh army',\n  'foto ini dikira jungkook bts',\n  'foto punggung kai exo ini sering dikira jungkook bts oleh army'],\n [' pulang terpingkal , jicomfest 2019 hadirkan komika internasional paling ',\n  'lucu',\n  'dijamin pulang terpingkal , jicomfest 2019 hadirkan komika internasional paling lucu'],\n ['umumkan hubungan dengan ashley benson setelah satu tahun , delevigne',\n  'ini alasan',\n  'umumkan hubungan dengan ashley benson setelah satu tahun , ini alasan cara delevigne'],\n ['aktor ternama korea akui bersusah payah melunasi hutangnya',\n  'ini',\n  'aktor ternama korea ini akui bersusah payah melunasi hutangnya'],\n ['8 isual bomb s cha eun woo , beda gantengnya bikin galau milih',\n  'visual foto v bts',\n  '8 foto visual bomb v bts vs cha eun woo , beda gantengnya bikin galau milih'],\n ['syuting serial baru , pakai prilly latuconsina bikin ',\n  'hijab adem',\n  'syuting serial baru , pakai hijab prilly latuconsina bikin adem'],\n ['11 2019 yang tak boleh dilewatkan , masih gagal moveon',\n  'drama korea',\n  '11 drama korea 2019 yang tak boleh dilewatkan , masih gagal moveon'],\n [' sosok ceo baru entertainment , seorang ',\n  'inilah yg wanita',\n  'inilah sosok ceo baru yg entertainment , seorang wanita'],\n ['sah deddy corbuzier baca dua kalimat syahadat dibimbing gus miftah di jogja',\n  'kocak !',\n  'sah ! deddy corbuzier baca dua kalimat syahadat dibimbing gus miftah di jogja'],\n ['ada gilang dirga show di jicomfest 2019 , lagi yang melucu di hari pertama ',\n  'siapa ?',\n  'ada gilang dirga show di jicomfest 2019 , siapa lagi yang melucu di hari pertama ?'],\n ['perasaan deddy corbuzier setelah mualaf , bebas dan plong ',\n  '!',\n  'perasaan deddy corbuzier setelah mualaf , bebas dan plong !'],\n ['setelah pelembut pakaian , bikin minuman ludes terjual',\n  'jungkook bts ini',\n  'setelah pelembut pakaian , jungkook bts bikin minuman ini ludes terjual'],\n ['9 dewi pakai gaun mewah : , yoona & jennie blackpink',\n  'k-pop idol bak suzy snsd',\n  '9 k-pop idol bak dewi pakai gaun mewah : suzy , yoona snsd & jennie blackpink'],\n ['dipotret dengan kamera ponsel , jadi perbincangan ',\n  'foto v bts ini netizen',\n  'dipotret dengan kamera ponsel , foto v bts ini jadi perbincangan netizen'],\n ['antara chika jessica dan luna , manakah yang lebih mirip blackpink ',\n  'lucinta lisa ?',\n  'antara chika jessica dan lucinta luna , manakah yang lebih mirip lisa blackpink ?'],\n ['seungri akhirnya akui ikut sebarkan seks ilegal',\n  'viral video',\n  'seungri akhirnya akui ikut sebarkan video seks ilegal'],\n ['deolipa project rilis single bergenre blues dan menyayat hati',\n  'ketiga ,',\n  'deolipa project rilis single ketiga , bergenre blues dan menyayat hati'],\n ['bukti percakapan seungri bagikan telanjang di grup ',\n  'wanita foto',\n  'bukti percakapan seungri bagikan foto wanita telanjang di grup chat'],\n ['beberapa bintang bollywod cantik yang kini dapat penghargaan aktris terburuk',\n  '',\n  'beberapa bintang bollywod cantik yang kini dapat penghargaan aktris terburuk'],\n [\" produser ' persona ' pilih iu jadi utama\",\n  'ini alasan pemeran',\n  \"ini alasan produser ' persona ' pilih iu jadi pemeran utama\"],\n ['soal kembali berpindah keyakinan , pengacara steve emmanuel',\n  'ini tanggapan',\n  'soal kembali berpindah keyakinan , ini tanggapan pengacara steve emmanuel'],\n ['menikah sejak usia muda jauh dari miring',\n  ', pasangan seleb ini gosip',\n  'menikah sejak usia muda , pasangan seleb ini jauh dari gosip miring'],\n ['terjun ke dunia akting , para artis ada yang mulai sejak masih belia',\n  'ini',\n  'terjun ke dunia akting , para artis ini ada yang mulai sejak masih belia'],\n ['mulai go public , jennifer dunn - faisal haris : masha allah bahagia luar biasa',\n  '',\n  'mulai go public , jennifer dunn - faisal haris : masha allah bahagia luar biasa'],\n ['mantan staff wanna one ungkap perangai buruk kang daniel',\n  '',\n  'mantan staff wanna one ungkap perangai buruk kang daniel'],\n [' nasi , bomi apink masuk ugd',\n  'gara-gara',\n  'gara-gara nasi , bomi apink masuk ugd'],\n [\"sinopsis ' hobbs and shaw ' , aksi dua musuh berteman musnahkan mematikan \",\n  'virus !',\n  \"sinopsis ' hobbs and shaw ' , aksi dua musuh berteman musnahkan virus mematikan !\"],\n ['romance-thriller , terbaru yang ditonton streaming',\n  'ini deretan drama korea seru',\n  'romance-thriller , ini deretan drama korea terbaru yang seru ditonton streaming'],\n ['2 inisial baru dalam jaringan narkoba jefri nichol tertangkap , artis ',\n  '?',\n  '2 inisial baru dalam jaringan narkoba jefri nichol tertangkap , rekan artis ?'],\n ['terjawab , captain marvel temukan tony stark di luar angkasa',\n  'begini cara',\n  'terjawab , begini cara captain marvel temukan tony stark di luar angkasa'],\n [' pratama larang tonton aksinya di jicomfest 2019 ',\n  'andhika ussy sulistiawaty , ada apa ?',\n  'andhika pratama larang ussy sulistiawaty tonton aksinya di jicomfest 2019 , ada apa ?'],\n ['7 makin hitam legam , suga - johnny ',\n  'k-pop idol ganteng dengan rambut bts nct',\n  '7 k-pop idol makin ganteng dengan rambut hitam legam , suga bts - johnny nct'],\n [' sering datangi rumah kang daniel , sudah 7 bulan ',\n  'foto jihyo twice pacaran ?',\n  'foto jihyo twice sering datangi rumah kang daniel , sudah 7 bulan pacaran ?'],\n [' dan kang daniel , komentar dari korea',\n  'jihyo twice pacaran begini netizen',\n  'jihyo twice dan kang daniel pacaran , begini komentar dari netizen korea'],\n ['berkas nikah ungkap agama rina yang sebenarnya',\n  'ini nose',\n  'berkas nikah ini ungkap agama rina nose yang sebenarnya'],\n [' kaget gading marten saat dengar gempi sebut nama wijaya saputra',\n  'begini reaksi',\n  'reaksi kaget gading marten saat dengar gempi sebut nama wijaya saputra'],\n ['pelukan dan gandengan tangan , dan evelyn nada resmi ',\n  'roy kiyoshi anjani ?',\n  'pelukan dan gandengan tangan , roy kiyoshi dan evelyn nada anjani resmi pacaran ?'],\n [\"kang daniel - , lagu exo ' un village ' trending \",\n  'jihyo twice pacaran kenapa baekhyun ?',\n  \"kang daniel - jihyo twice pacaran , kenapa lagu baekhyun exo ' un village ' trending ?\"],\n ['5 irish bella jalani maternity shoot , cantik dan bagaikan boneka',\n  'foto elegan',\n  '5 foto irish bella jalani maternity shoot , cantik dan elegan bagaikan boneka'],\n ['9 rumah nabila syakieb , klasik dan kamar putrinya bagaikan ruangan ',\n  'foto princess',\n  '9 foto rumah nabila syakieb , klasik dan kamar putrinya bagaikan ruangan princess'],\n [' #antingaret berburu tiket konser kpop idola',\n  'tips perut',\n  'tips #antingaret berburu tiket konser kpop idola'],\n ['diary waktu sd beredar , agama exo ',\n  'terungkap',\n  'diary waktu sd beredar , agama sehun exo terungkap'],\n ['nama asli chef juna saat sertifikat kompetensi',\n  'terungkap unggah',\n  'nama asli chef juna terungkap saat unggah sertifikat kompetensi'],\n [' penampakan kamar shahrukh khan di mannat , luas dan mewah',\n  'terungkap ! begini',\n  'terungkap ! begini penampakan kamar shahrukh khan di mannat , luas dan mewah'],\n [' charlotte kembali bikin kate middleton meleleh ',\n  'princess pamer pose gemas , sampai !',\n  'princess charlotte kembali pamer pose gemas , sampai bikin kate middleton meleleh !'],\n [' ahmad kirim hewan kurban ke pesantren suami kartika putri',\n  'alasan',\n  'alasan raffi ahmad kirim hewan kurban ke pesantren suami kartika putri'],\n [' , takjub pada satu dari indonesia',\n  'terungkap choi siwon hal ini fans',\n  'terungkap , choi siwon takjub pada satu hal ini dari fans indonesia'],\n ['diego michiels baru menikah , istrinya dikabarkan sudah berbadan dua',\n  '',\n  'diego michiels baru menikah , istrinya dikabarkan sudah berbadan dua'],\n ['10 film horor indonesia tonton , bikin merinding',\n  'yang perlu kamu dijamin',\n  '10 film horor indonesia yang perlu kamu tonton , dijamin bikin merinding'],\n ['lebih meriah , festival pesona tambora 2019 hadirkan tari kolosal garapan denny malik',\n  '',\n  'lebih meriah , festival pesona tambora 2019 hadirkan tari kolosal garapan denny malik'],\n ['personil spice akhirnya buka suara soal tudingan hubungan sesama jenis',\n  'girl',\n  'personil spice girl akhirnya buka suara soal tudingan hubungan sesama jenis'],\n [' , tiga fangirl diantar ayah yunhyeong ikon',\n  'beruntung asal indonesia ini',\n  'beruntung , tiga fangirl asal indonesia ini diantar ayah yunhyeong ikon'],\n ['barusan millendaru sebut sang mantan sebagai yang paling disayang',\n  'putus , pacar',\n  'barusan putus , millendaru sebut sang mantan sebagai pacar yang paling disayang'],\n [' nikita mirzani tak berani berseteru dengan sosok ',\n  'terungkap ! ini',\n  'terungkap ! nikita mirzani tak berani berseteru dengan sosok ini'],\n ['iboma 2019 bakal bertabur bintang , saja pengisi acaranya',\n  'yuk intip siapa',\n  'iboma 2019 bakal bertabur bintang , yuk intip siapa saja pengisi acaranya'],\n [\" , editan krystal f(x) & jennie blackpink yang bikin kai exo ' '\",\n  '( x viral melongo',\n  \"viral , editan krystal f(x) & jennie blackpink yang bikin kai exo ' melongo '\"],\n ['pemilu semakin dekat , harapan prilly latuconsina',\n  'begini jawaban',\n  'pemilu semakin dekat , begini harapan prilly latuconsina'],\n [\"tolak tawaran ' mimican ' dari menteri , angel minta langsung ngamar\",\n  'vanessa',\n  \"tolak tawaran ' mimican ' dari menteri , vanessa angel minta langsung ngamar\"],\n [\"uang bukan , pemain ' ave ' tidak dibayar \",\n  'alasan maryam ?',\n  \"uang bukan alasan , pemain ' ave maryam ' tidak dibayar ?\"],\n [\"dulu panggil ' sailor moon ' , setelah putus vicky prasetyo sebut anggia ' nenek gayung '\",\n  '',\n  \"dulu panggil ' sailor moon ' , setelah putus vicky prasetyo sebut anggia ' nenek gayung '\"],\n [' lengkap x101 tahu',\n  'fakta produce yang perlu kamu',\n  'fakta lengkap produce x101 yang perlu kamu tahu'],\n ['diancam injak leher oleh nikita , tessa mariska samakan nm dengan pohon tauge ',\n  'ini ?',\n  'diancam injak leher oleh nikita , tessa mariska samakan nm dengan pohon tauge ?'],\n ['ditanya hotman , millendaru akui pernah dengan pria',\n  'berhubungan intim',\n  'ditanya hotman paris , millendaru akui pernah berhubungan intim dengan pria'],\n [\"10 unik yang mungkin lewatkan di mv blackpink ' this love '\",\n  'hal kamu kill',\n  \"10 hal unik yang mungkin kamu lewatkan di mv blackpink ' kill this love '\"],\n ['curhat pilu gisella anastasia , difoto diam-diam seperti satwa',\n  'diperlakukan',\n  'curhat pilu gisella anastasia , difoto diam-diam diperlakukan seperti satwa'],\n [\"bisnis toko kosmetik online , rency milano selipkan ' misi ' untuk ibu rumah tangga\",\n  '',\n  \"bisnis toko kosmetik online , rency milano selipkan ' misi ' untuk ibu rumah tangga\"],\n [\"semula kesal dipanggil ' babang tamvan ' , kini andika hasilkan 3 mobil - 2 rumah \",\n  '!',\n  \"semula kesal dipanggil ' babang tamvan ' , kini andika hasilkan 3 mobil - 2 rumah !\"],\n [' lengkap x101 tahu',\n  'fakta produce yang perlu kamu',\n  'fakta lengkap produce x101 yang perlu kamu tahu'],\n ['7 madam shim , berpengaruh dicurigai dalang kasus jang ja yeon & seungri',\n  'fakta wanita',\n  '7 fakta madam shim , wanita berpengaruh dicurigai dalang kasus jang ja yeon & seungri'],\n ['soal kasus penganiayaan kriss hatta , tata liem : kerasukan mitos madame kelinci',\n  '',\n  'soal kasus penganiayaan kriss hatta , tata liem : kerasukan mitos madame kelinci'],\n ['peringati ulang tahun jonghyun shinee , sang kakak buat kado istimewa',\n  '',\n  'peringati ulang tahun jonghyun shinee , sang kakak buat kado istimewa'],\n ['tak jadi anak emas jokowi . kaesang pangarep',\n  'begini tanggapan',\n  'tak jadi anak emas jokowi . begini tanggapan kaesang pangarep'],\n ['vebby palwinta akui sudah belajar taaruf , siap segera nikah ',\n  'ini ?',\n  'vebby palwinta akui sudah belajar taaruf , siap segera nikah ?'],\n [' selangkangan brandon salim selalu bila berkeringat',\n  'ternyata gatal',\n  'ternyata selangkangan brandon salim selalu gatal bila berkeringat'],\n ['sempat mengaku mualaf , kriss hatta tak pernah memeluk islam',\n  'ternyata',\n  'sempat mengaku mualaf , ternyata kriss hatta tak pernah memeluk islam'],\n ['liburan melulu , kini syahrini dan reino barack kompak makin gendut ',\n  '?',\n  'liburan melulu , kini syahrini dan reino barack kompak makin gendut ?'],\n ['nia ramadhani ungkap 1 yang bisa membuatnya dari rumah oleh suaminya',\n  'hal diusir',\n  'nia ramadhani ungkap 1 hal yang bisa membuatnya diusir dari rumah oleh suaminya'],\n ['album focus dari jus2 got7 ceritakan tentang panca indera , sudah dengerin ',\n  'ini ?',\n  'album focus dari jus2 got7 ceritakan tentang panca indera , sudah dengerin ?'],\n ['5 persiapan penting sebelum nonton jus2 <focus> premiere showcase tour in jakarta',\n  '',\n  '5 persiapan penting sebelum nonton jus2 <focus> premiere showcase tour in jakarta'],\n ['tanyakan tak pantas pada , reporter dihujat ',\n  'hal bts ini netizen',\n  'tanyakan hal tak pantas pada bts , reporter ini dihujat netizen'],\n ['tunjukkan dukungan untuk , park hyungsik dan park seo joon ',\n  'bts unggah ini',\n  'tunjukkan dukungan untuk bts , park hyungsik dan park seo joon unggah ini'],\n [\"sederet artis siapkan ' hadiah ' spesial bagi mereka yang nyoblos\",\n  'ini',\n  \"sederet artis ini siapkan ' hadiah ' spesial bagi mereka yang nyoblos\"],\n ['tora sudiro - adipati dolken tirukan selfie nicholas saputra , paling mirip ',\n  'siapa ?',\n  'tora sudiro - adipati dolken tirukan selfie nicholas saputra , siapa paling mirip ?'],\n ['genap 45 tahun , kejutan manis yang didapat victoria beckham di ulang tahunnya',\n  'intip',\n  'genap 45 tahun , intip kejutan manis yang didapat victoria beckham di ulang tahunnya'],\n ['kaki cedera tertimpa lemari , syahr lupakan rasa sakit dengan ',\n  'ini cara',\n  'kaki cedera tertimpa lemari , syahrini lupakan rasa sakit dengan cara ini'],\n ['sebut dirinya seperti monyet , kalau luna maya gelantungan di pohon',\n  'begini jawaban',\n  'sebut dirinya seperti monyet , begini kalau luna maya gelantungan di pohon'],\n [\"8 keseruan blackpink jadi bintang tamu ' the late late \",\n  \"potret show '\",\n  \"8 potret keseruan blackpink jadi bintang tamu ' the late late show '\"],\n ['bukan menjadi pembanding , perbedaan komik gundala versi baru dan klasik',\n  'ini',\n  'bukan menjadi pembanding , ini perbedaan komik gundala versi baru dan klasik'],\n [' keluarga blackpink , ayah tirinya orang swiss - ibunya cantik ',\n  'foto lisa banget',\n  'foto keluarga lisa blackpink , ayah tirinya orang swiss - ibunya cantik banget'],\n [' rumah blackpink di thailand , punya khas',\n  'foto lisa ciri',\n  'foto rumah lisa blackpink di thailand , punya ciri khas'],\n [' hui-jacqueline wong di taksi beredar luas',\n  'ketahuan selingkuh , video intim andy',\n  'ketahuan selingkuh , video intim andy hui-jacqueline wong di taksi beredar luas'],\n [\" ' warkop dki reborn 3 film pertama yang laksanakan mega premiere\",\n  \"heboh ! ' jadi\",\n  \"heboh ! ' warkop dki reborn 3 ' jadi film pertama yang laksanakan mega premiere\"],\n ['menikah di usia 44 tahun , inka christie rasakan getaran saat pertama kenal suami',\n  '',\n  'menikah di usia 44 tahun , inka christie rasakan getaran saat pertama kenal suami'],\n ['upi didaulat garap film jagat sinema bumilangit selanjutnya ',\n  '?',\n  'upi didaulat garap film jagat sinema bumilangit selanjutnya ?'],\n ['shawn mendes akhirnya jelaskan kondisi hubungannya dengan camila cabello',\n  '',\n  'shawn mendes akhirnya jelaskan kondisi hubungannya dengan camila cabello'],\n ['ruben onsu berencana ke ntt , bakal urus adopsi betrand peto ',\n  'ini ?',\n  'ruben onsu berencana ke ntt , bakal urus adopsi betrand peto ?'],\n ['bastian steel hidup dalam pergaulan bebas dan punya anak istri dalam film ',\n  'ini',\n  'bastian steel hidup dalam pergaulan bebas dan punya anak istri dalam film ini'],\n ['ria ricis wong , dan 8 lain ramai bikin giveaway senyum berhadiah ',\n  ', baim seleb menarik',\n  'ria ricis , baim wong , dan 8 seleb lain ramai bikin giveaway senyum berhadiah menarik'],\n ['ada sosok ari tulang di gundala , bisa tebak perankan ',\n  '?',\n  'ada sosok ari tulang di gundala , bisa tebak perankan siapa ?'],\n [\"7-8 september , bisa ' nikah ' dengan oppa di booth kapanlagi korea on off festival\",\n  'kamu zodiak',\n  \"7-8 september , kamu bisa ' nikah ' dengan oppa di booth kapanlagi korea on off festival\"],\n ['asha shara lepas karena ig : saya tau',\n  'diisukan hijab postingan malah gak',\n  'asha shara diisukan lepas hijab karena postingan ig : saya malah gak tau'],\n ['sinopsis drama big episode 8 , kejadian yang dialami gong yoo',\n  'aneh',\n  'sinopsis drama big episode 8 , kejadian aneh yang dialami gong yoo'],\n ['9 aktris cantik perankan karakter jelek di drama , - lee sung kyung',\n  'yang pernah suzy',\n  '9 aktris cantik yang pernah perankan karakter jelek di drama , suzy - lee sung kyung'],\n ['ogah disebut settingan , deddy corbuzier geram saat luna videokan aksi labrak',\n  'lucinta',\n  'ogah disebut settingan , deddy corbuzier geram saat lucinta luna videokan aksi labrak'],\n [\"14 ' : ' tahu sebelum nonton\",\n  'fakta menarik avengers endgame yang perlu kamu',\n  \"14 fakta menarik ' avengers : endgame ' yang perlu kamu tahu sebelum nonton\"],\n ['barbie kumalasari akui punya suara jazzy , cuma bisa dinikmati yang bermusikalitas ',\n  '!',\n  'barbie kumalasari akui punya suara jazzy , cuma bisa dinikmati yang bermusikalitas !'],\n ['mampir booth kapanlagi korea di on off festival , bisa dapetin total hadiah rp 10 juta',\n  '',\n  'mampir booth kapanlagi korea di on off festival , bisa dapetin total hadiah rp 10 juta'],\n ['pesinetron giovanni tobing mualaf , sudah sejak pasca menikah',\n  'ternyata',\n  'pesinetron giovanni tobing mualaf , ternyata sudah sejak pasca menikah'],\n ['barbie kumalasari bocorkan honor sekali tampil di tv , tembus dua digit ',\n  '!',\n  'barbie kumalasari bocorkan honor sekali tampil di tv , tembus dua digit !'],\n ['selalu diberitakan dari sisi negatif , pesan barbie kumalasari untuk putrinya',\n  'ini',\n  'selalu diberitakan dari sisi negatif , ini pesan barbie kumalasari untuk putrinya'],\n ['pernah tinggal di as , barbie kumalasari tak tahu kfc berasal dari amerika',\n  '',\n  'pernah tinggal di as , barbie kumalasari tak tahu kfc berasal dari amerika'],\n [\" angel ' ' papa baru , doddy sudrajat : ada bekas anak\",\n  'vanessa pamer gak',\n  \"vanessa angel ' pamer ' papa baru , doddy sudrajat : gak ada bekas anak\"],\n ['ratna galih program bayi tabung demi dapat anak perempuan , .',\n  'ini . .',\n  'ratna galih program bayi tabung demi dapat anak perempuan , ini alasannya . . .'],\n ['kekayaan barbie kumalasari kerap diragukan : biarin mengurangi pajak saya kan ',\n  'ini ?',\n  'kekayaan barbie kumalasari kerap diragukan : biarin mengurangi pajak saya kan ?'],\n ['isu salmafina pindah agama merebak , 15 pernah diterpa serupa',\n  'berikut artis yang hal',\n  'isu salmafina pindah agama merebak , berikut 15 artis yang pernah diterpa hal serupa'],\n ['jadi special guest minie tv , bayaran angel bisa buat beli pulau ',\n  'vanessa ?',\n  'jadi special guest minie tv , bayaran vanessa angel bisa buat beli pulau ?'],\n ['masalah semakin panjang , fairuz rafiq pernah alami kdrt dengan galih ginanjar ',\n  'a .',\n  'masalah semakin panjang , fairuz a . rafiq pernah alami kdrt dengan galih ginanjar ?'],\n [\"6 xana tang , bintang film ' mulan juga sahabat iqbaal ramadhan\",\n  \"fakta ' yang\",\n  \"6 fakta xana tang , bintang film ' mulan ' yang juga sahabat iqbaal ramadhan\"],\n ['masuk gang sempit , 4 rumah asli barbie kumalasari dan galih ginanjar',\n  'berikut fakta',\n  'masuk gang sempit , berikut 4 fakta rumah asli barbie kumalasari dan galih ginanjar'],\n [\"pablo benua dan rey utami ditahan , 12 juga jadi korban ' mulut sampah '\",\n  'seleb ini video',\n  \"pablo benua dan rey utami ditahan , 12 seleb ini juga jadi korban video ' mulut sampah '\"],\n ['10 kolaborasi yang nagih ',\n  'idol k-pop banget !',\n  '10 kolaborasi idol k-pop yang nagih banget !'],\n ['kevin aprilio betah emo , vicy melanie risih ',\n  'dengan rambut gaya ?',\n  'kevin aprilio betah dengan rambut gaya emo , vicy melanie risih ?'],\n ['nonton dan line up lain dalam jicomfest 2019 , harga tiketnya ',\n  'raditya dika berapa ?',\n  'nonton raditya dika dan line up lain dalam jicomfest 2019 , berapa harga tiketnya ?'],\n ['sederet fasilitas unik di rumah mewah selebriti indonesia mini golf - danau',\n  'geger , ada',\n  'sederet fasilitas unik di rumah mewah selebriti indonesia , ada mini golf - danau'],\n ['istri ajun perwira ungkap salmafina sunan sudah nyaman dengan keyakinan barunya ',\n  'ini ?',\n  'istri ajun perwira ungkap salmafina sunan sudah nyaman dengan keyakinan barunya ?'],\n ['9 kedekatan cut keke dan istri pertama suaminya yang akrab ',\n  'potret banget',\n  '9 potret kedekatan cut keke dan istri pertama suaminya yang akrab banget'],\n ['mantan pramugari bongkar kelakuan buruk di pesawat , yang terbaik ',\n  'k-pop idol ini siapa ?',\n  'mantan pramugari bongkar kelakuan buruk idol k-pop di pesawat , siapa yang terbaik ?'],\n ['barbie kumalasari tak penuhi pemeriksaan kepolisian , pengacaranya',\n  'begini penjelasan',\n  'barbie kumalasari tak penuhi pemeriksaan kepolisian , begini penjelasan pengacaranya'],\n [\"tessa mariska terseret kasus ' ikan asin ' \",\n  'ini , ada apa ?',\n  \"tessa mariska terseret kasus ' ikan asin ' , ada apa ?\"],\n ['6 sosok iyan sambiran suami nunung yang juga ditangkap karena narkoba',\n  'fakta',\n  '6 fakta sosok iyan sambiran suami nunung yang juga ditangkap karena narkoba'],\n ['spoiler improvindo di jicomfest 2019 , mc dani jamin bakal bikin ',\n  'ngakak',\n  'spoiler improvindo di jicomfest 2019 , mc dani jamin bakal bikin ngakak'],\n [' jika nunung srimulat tak pernah menyapa warga',\n  'fakta',\n  'terungkap fakta jika nunung srimulat tak pernah menyapa warga'],\n [' kabar masturbasi atlet dw , komentar mikha tambayong',\n  'heboh video begini',\n  'heboh kabar video masturbasi atlet dw , begini komentar mikha tambayong'],\n ['co working space dengan view laut pertama dan satu-satunya di jakarta',\n  '',\n  'co working space dengan view laut pertama dan satu-satunya di jakarta'],\n ['20 finalis siap perebutkan gelar puteri muslimah indonesia 2019 , juaranya ',\n  'siapa ?',\n  '20 finalis siap perebutkan gelar puteri muslimah indonesia 2019 , siapa juaranya ?'],\n ['rumah berlapis emas , dari sumber kekayaan muzdalifah ',\n  '?',\n  'rumah berlapis emas , dari mana sumber kekayaan muzdalifah ?'],\n [\"' aksi pamungkas , kelanjutan marvel cinematic universe\",\n  \"endgame ' jadi avengers begini\",\n  \"' endgame ' jadi aksi pamungkas avengers , begini kelanjutan marvel cinematic universe\"],\n [' air , kim jae wook akhirnya cium park min young',\n  'gara-gara',\n  'gara-gara air , kim jae wook akhirnya cium park min young'],\n [\" dengan tagar ' proud of akad ' , ivan gunawan sudah nikah \",\n  'posting foto ?',\n  \"posting foto dengan tagar ' proud of akad ' , ivan gunawan sudah nikah ?\"],\n [' upaya kate middleton damaikan pangeran william dan pangeran harry',\n  'begini',\n  'begini upaya kate middleton damaikan pangeran william dan pangeran harry'],\n ['ke new zealand tanpa kate middleton , pangeran william : kekuatan cinta akan menang',\n  '',\n  'ke new zealand tanpa kate middleton , pangeran william : kekuatan cinta akan menang'],\n [\"spoiler film ' : ' , pria babak di luar bioskop\",\n  'avengers endgame ini belur',\n  \"spoiler film ' avengers : endgame ' , pria ini babak belur di luar bioskop\"],\n ['hebat nurul bashira , puteri muslimah indonesia 2019 sabet 2 gelar sekaligus',\n  'kocak !',\n  'hebat ! nurul bashira , puteri muslimah indonesia 2019 sabet 2 gelar sekaligus'],\n ['sempat grogi , reino barack sudah sudah cium kening syahrini sebelum dijawab',\n  'reaksi lamaran',\n  'sempat grogi , reino barack sudah sudah cium kening syahrini sebelum lamaran dijawab'],\n ['kedatangan dan influencer di event wonderful noon , gimana keseruannya ',\n  'seleb ?',\n  'kedatangan seleb dan influencer di event wonderful noon , gimana keseruannya ?'],\n ['sinopsis drama w episode 9 , akankah ada happy ending untuk han hyo joo ',\n  'ini ?',\n  'sinopsis drama w episode 9 , akankah ada happy ending untuk han hyo joo ?'],\n ['baru nikah dengan fadel islami , muzdalifah dibuat naik pitam karena ',\n  'hal ini',\n  'baru nikah dengan fadel islami , muzdalifah dibuat naik pitam karena hal ini'],\n ['dengar cut tary akui 3 kali dengan ariel , suami',\n  'berhubungan begini reaksi',\n  'dengar cut tary akui 3 kali berhubungan dengan ariel , begini reaksi suami'],\n ['romantisnya chef arnold bersama sang istri hamil anak pertama',\n  'yang sedang',\n  'romantisnya chef arnold bersama sang istri yang sedang hamil anak pertama'],\n ['menangis di sungkeman syahr - reino , rosano barack beri wejangan penting .',\n  'ini alasannya . .',\n  'menangis di sungkeman syahrini - reino , rosano barack beri wejangan penting ini . . .'],\n [\"7 pasangan dalam dengan ' chemistry ' paling kuat\",\n  'drama korea',\n  \"7 pasangan dalam drama korea dengan ' chemistry ' paling kuat\"],\n [' ginanjar pernah takut rumahnya kebakaran',\n  'cerita panik',\n  'cerita ginanjar pernah panik takut rumahnya kebakaran'],\n ['pertama kali nyekar , syahrini bocorkan romantisnya reino barack',\n  'bareng suami',\n  'pertama kali nyekar bareng suami , syahrini bocorkan romantisnya reino barack'],\n ['tatap syahr penuh cinta , yang dirasakan reino barack jelang sungkeman',\n  'ini rinciannya',\n  'tatap syahrini penuh cinta , ini yang dirasakan reino barack jelang sungkeman'],\n ['pangeran harry beri tanda meghan markle sudah melahirkan ',\n  '?',\n  'pangeran harry beri tanda meghan markle sudah melahirkan ?'],\n [' kekayaan para bintang dari terendah hingga paling tinggi',\n  'inilah avengers',\n  'inilah kekayaan para bintang avengers dari terendah hingga paling tinggi'],\n ['dinner silaturahmi syahrini - reino barack digelar tanpa orangtua ',\n  ', ada apa ?',\n  'dinner silaturahmi syahrini - reino barack digelar tanpa orangtua , ada apa ?'],\n ['resmi jadi ayah , nama anak beserta artinya',\n  'ini raditya dika',\n  'resmi jadi ayah , ini nama anak raditya dika beserta artinya'],\n ['7 balita exo , bukti dari kecil sudah punya aura seorang ',\n  'foto baekhyun idol',\n  '7 foto balita baekhyun exo , bukti dari kecil sudah punya aura seorang idol'],\n ['7 penampilan cantik jisoo blackpink jadi cinta pertama song joong ki',\n  'potret',\n  '7 potret penampilan cantik jisoo blackpink jadi cinta pertama song joong ki'],\n ['langgar mitos usai pernikahan , penyebab perceraian song joong ki ',\n  'inikah ?',\n  'langgar mitos usai pernikahan , inikah penyebab perceraian song joong ki ?'],\n ['6 cowok mangkuk , - chanyeol exo',\n  'k-pop idol imut dengan rambut jungkook bts',\n  '6 k-pop idol cowok imut dengan rambut mangkuk , jungkook bts - chanyeol exo'],\n ['banjir komika favorit , dapetin tiket jicomfest 2019',\n  'begini cara',\n  'banjir komika favorit , begini cara dapetin tiket jicomfest 2019'],\n [' 7 drama populer mi sun , artis korea yang bunuh diri',\n  'inilah jeon',\n  'inilah 7 drama populer jeon mi sun , artis korea yang bunuh diri'],\n ['selang 4 tahun kepergian olga syahputra , kondisi rumahnya sekarang',\n  'begini jawaban',\n  'selang 4 tahun kepergian olga syahputra , begini kondisi rumahnya sekarang'],\n ['lama tak terlihat di televisi , kabar terbaru romy rafael',\n  'begini jawaban',\n  'lama tak terlihat di televisi , begini kabar terbaru romy rafael'],\n [\"pertama kali tahu soal ' ikan asin ' , suami fairuz a rafiq mau ngajak berantem aja\",\n  '',\n  \"pertama kali tahu soal ' ikan asin ' , suami fairuz a rafiq mau ngajak berantem aja\"],\n ['bukan zendaya , penyanyi satu perankan ariel little mermaid live action',\n  'ini yang bakal',\n  'bukan zendaya , penyanyi satu ini yang bakal perankan ariel little mermaid live action'],\n [\"11 zoha rahman , gadis muslim berhijab spider-man : far from home '\",\n  \"fakta di '\",\n  \"11 fakta zoha rahman , gadis muslim berhijab di ' spider-man : far from home '\"],\n ['pernah nyatakan ibunya idap bipolar , kondisi sebenarnya ibu barbie kumalasari',\n  'begini',\n  'pernah nyatakan ibunya idap bipolar , begini kondisi sebenarnya ibu barbie kumalasari'],\n ['nia ramadhani body singset , pakai swimsuit one piece',\n  'pamer',\n  'nia ramadhani pamer body singset , pakai swimsuit one piece'],\n ['3 dekat dengan diego michiels nikita willy juga ',\n  'wanita yang pernah , ada !',\n  '3 wanita yang pernah dekat dengan diego michiels , ada nikita willy juga !'],\n ['digrebeg di hotel , aktor ftv ridho illahi berduaan dengan selebgram chagii amelia ',\n  '?',\n  'digrebeg di hotel , aktor ftv ridho illahi berduaan dengan selebgram chagii amelia ?'],\n ['umur 3 bulan , wajah baby zalina anak raisa dan hamish daud sekarang',\n  'begini',\n  'umur 3 bulan , begini wajah baby zalina anak raisa dan hamish daud sekarang'],\n [' pendapatan paling besar , bias ',\n  'inilah member bts yang punya siapa nih ?',\n  'inilah member bts yang punya pendapatan paling besar , bias siapa nih ?'],\n ['bakal tampil di jicomfest 2019 , lawakan mli yang super gokil',\n  'intip video gaya',\n  'bakal tampil di jicomfest 2019 , intip video gaya lawakan mli yang super gokil'],\n [' persen level humormu , buktiin di jicomfest 2019',\n  'berapa ?',\n  'berapa persen level humormu , buktiin di jicomfest 2019'],\n [' dena rachman , tak mau ubah wajah - pegang gelar magister desain',\n  'fakta',\n  'fakta menarik dena rachman , tak mau ubah wajah - pegang gelar magister desain'],\n ['masih cinta , 5 pasangan indonesia yang balikan - rujuk setelah sempat cerai',\n  'seleb ?',\n  'masih cinta , 5 pasangan seleb indonesia yang balikan - rujuk setelah sempat cerai'],\n [\" black widow merelakan diri '\",\n  \"alasan di ' avengers endgame\",\n  \"alasan black widow merelakan diri di ' avengers endgame '\"],\n ['6 kemiripan nia ramadhani dan blackpink , cocok jadi kakak adik ',\n  'foto ?',\n  '6 foto kemiripan nia ramadhani dan lisa blackpink , cocok jadi kakak adik ?'],\n ['crazy rich pluit pria beli yacht ahmad cash 4 miliar ',\n  '! ini raffi',\n  'crazy rich pluit ! pria ini beli yacht raffi ahmad cash 4 miliar !'],\n ['9 transformasi song joong ki di drama baru , manly makin kekar & tetap ',\n  'potret',\n  '9 potret transformasi song joong ki di drama baru , manly makin kekar & tetap ganteng'],\n ['3 keunikan hubungan hamish - raisa - zalina , tak pernah sebelumnya',\n  'terungkap',\n  '3 keunikan hubungan hamish - raisa - zalina , tak pernah terungkap sebelumnya'],\n ['kabar duka datang dari prabowo subianto dan keluarga',\n  '',\n  'kabar duka datang dari prabowo subianto dan keluarga'],\n [\"12 cantik ming xi , model victoria ' s secret yang anak miliuner china\",\n  'potret dilamar',\n  \"12 potret cantik ming xi , model victoria ' s secret yang dilamar anak miliuner china\"],\n ['nikita mirzani susui baby arkana bukan pakai asi , tapi pakai asit',\n  '',\n  'nikita mirzani susui baby arkana bukan pakai asi , tapi pakai asit'],\n ['7 artis indonesia rayakan waisak , saja ',\n  'ini siapa ?',\n  '7 artis indonesia ini rayakan waisak , siapa saja ?'],\n [' nia ramadhani kesasar di rumah keluarga bakrie saat awal ',\n  'cerita yang pernah pacaran',\n  'cerita nia ramadhani yang pernah kesasar di rumah keluarga bakrie saat awal pacaran'],\n [' syahrini dan luna maya sepanggung bareng di shopee ramadan tv show',\n  'heboh !',\n  'heboh ! syahrini dan luna maya sepanggung bareng di shopee ramadan tv show'],\n ['sambut ramadan , 3 penyanyi muda berbagi kebahagiaan dengan anak-anak panti asuhan',\n  'ini',\n  'sambut ramadan , 3 penyanyi muda ini berbagi kebahagiaan dengan anak-anak panti asuhan'],\n [\"8 ' aladdin ' properti pakai perhiasan asli lho\",\n  'fakta',\n  \"8 fakta menarik ' aladdin ' properti pakai perhiasan asli lho\"],\n ['mengenal keluarga ustaz arifin ilham 3 8 anak sampai menantu yang cantik',\n  ': dari istri ,',\n  'mengenal keluarga ustaz arifin ilham : dari 3 istri , 8 anak sampai menantu yang cantik'],\n ['bikin rusak kalung berlian syahrini , ivan gunawan ',\n  'cerita panik',\n  'bikin rusak kalung berlian syahrini , ivan gunawan panik'],\n ['habis jutaan rupiah di supermarket , struk belanja nikita mirzani panjang ',\n  'banget !',\n  'habis jutaan rupiah di supermarket , struk belanja nikita mirzani panjang banget !'],\n ['model meniru sampai berbusana dari jennie blackpink',\n  'ini visual gaya',\n  'model ini meniru visual sampai gaya berbusana dari jennie blackpink'],\n ['cowok 22 tahun dicoret dari kartu keluarga , diumumkan lewat koran ',\n  'kocak !',\n  'cowok 22 tahun dicoret dari kartu keluarga , diumumkan lewat koran !'],\n ['6 film layar lebar perdana tayang di sctv untuk temani libur lebaran ',\n  'ini kamu',\n  '6 film layar lebar ini perdana tayang di sctv untuk temani libur lebaran kamu'],\n ['10 korea yang diperkirakan berangkat wajib militer tahun depan & exo',\n  'idol , ada bts',\n  '10 idol korea yang diperkirakan berangkat wajib militer tahun depan , ada bts & exo'],\n ['ashanty bukber bareng keluarga besar millendaru tampilannya ',\n  ', ada jadi sorotan',\n  'ashanty bukber bareng keluarga besar , ada millendaru tampilannya jadi sorotan'],\n ['10 vincent , pilot yang lisensinya dicabut karena prank limbad',\n  'fakta video',\n  '10 fakta vincent raditya , pilot yang lisensinya dicabut karena video prank limbad'],\n [\"dwayne johnson ' the rock ' bakal bergabung ke marvel cinematic universe \",\n  '?',\n  \"dwayne johnson ' the rock ' bakal bergabung ke marvel cinematic universe ?\"],\n [' kpop paling fashionable , bisa contek gayanya ',\n  'deretan idol nih !',\n  'deretan kpop idol paling fashionable , bisa contek gayanya nih !'],\n ['congrats meghan markle melahirkan bayi laki-laki',\n  '!',\n  'congrats ! meghan markle melahirkan bayi laki-laki'],\n ['2 jalani puasa pertama setelah putuskan jadi mualaf',\n  'ini',\n  '2 seleb ini jalani puasa pertama setelah putuskan jadi mualaf'],\n ['penampilan berhijab irish bella saat nonton bareng ammar zoni sukses ',\n  'curi perhatian',\n  'penampilan berhijab irish bella saat nonton bareng ammar zoni sukses curi perhatian'],\n [' perdana baby arkana nikita mirzani , cute ',\n  'foto anak ketiga banget !',\n  'foto perdana baby arkana anak ketiga nikita mirzani , cute banget !'],\n ['liburan ke eropa , spider-man punya kostum baru ',\n  '?',\n  'liburan ke eropa , spider-man punya kostum baru ?'],\n ['alami kecelakaan mobil , mantan tewas seketika',\n  'ini',\n  'alami kecelakaan mobil , mantan idol ini tewas seketika'],\n [\" unik ' pokemon detective pikachu ' , kini bisa ngomong seperti manusia\",\n  'fakta',\n  \"fakta unik ' pokemon detective pikachu ' , kini bisa ngomong seperti manusia\"],\n ['14 selebriti muslim & ikut puasa di bulan ramadan',\n  'ternyata ini',\n  '14 selebriti hollywood ini ternyata muslim & ikut puasa di bulan ramadan'],\n ['belakangi masjid super indah ammar zoni menatap irish bella yang berhijab',\n  'begini cara',\n  'belakangi masjid super indah begini cara ammar zoni menatap irish bella yang berhijab'],\n [\"sutradara ' : marvel akan umumkan karakter gay\",\n  \"avengers endgame ' ungkap\",\n  \"sutradara ' avengers : endgame ' ungkap marvel akan umumkan karakter gay\"],\n ['sophia latjuba datang ke ulang tahun gading , marten ungkap hubungan mereka',\n  'roy',\n  'sophia latjuba datang ke ulang tahun gading , roy marten ungkap hubungan mereka'],\n ['8 indonesia disebut hamil saat menikah , hoax',\n  'seleb ini duluan ternyata',\n  '8 seleb indonesia ini disebut hamil duluan saat menikah , ternyata hoax'],\n [' dari the voice setelah 16 season , adam levine ada masalah ',\n  'hengkang ?',\n  'hengkang dari the voice setelah 16 season , adam levine ada masalah ?'],\n [' dengan banyak , lamar odom keluarkan banyak dana untuk aborsi',\n  'wanita',\n  'tidur dengan banyak wanita , lamar odom keluarkan banyak dana untuk aborsi'],\n ['irina shayk - bradley cooper lady gaga ',\n  'putus , penyebabnya ?',\n  'irina shayk - bradley cooper putus , lady gaga penyebabnya ?'],\n [\"sederet rumor tim ' ' baru , akan dipimpin captain marvel \",\n  'menarik ?',\n  \"sederet rumor menarik tim ' avengers ' baru , akan dipimpin captain marvel ?\"],\n ['komentar tyson soal kaki melanie ricardo',\n  '',\n  'komentar tyson soal kaki melanie ricardo'],\n ['pasca , petinggi marvel studios sudah kantongi nama untuk fase 4',\n  'avengers endgame',\n  'pasca avengers endgame , petinggi marvel studios sudah kantongi nama untuk fase 4'],\n ['amber f(x) soal hubungan asmara dan mantan kekasihnya',\n  'f ( x ) cerita',\n  'amber f(x) cerita soal hubungan asmara dan mantan kekasihnya'],\n ['8 pernah mengaku naksir dengan lain , saja ',\n  'idol k-pop siapa ?',\n  '8 k-pop idol ini pernah mengaku naksir dengan idol lain , siapa saja ?'],\n ['11 cantik ayana jihye moon , mualaf korea puasa ramadan di indonesia',\n  'potret ootd hijab',\n  '11 potret ootd hijab cantik ayana jihye moon , mualaf korea puasa ramadan di indonesia'],\n ['di rusia rambut nabi muhammad dijaga 7 pesawat jet , di indonesia dijaga anak pendekar',\n  '',\n  'di rusia rambut nabi muhammad dijaga 7 pesawat jet , di indonesia dijaga anak pendekar'],\n ['digombalin penggemar , malu-malu jisoo blackpink',\n  'begini',\n  'digombalin penggemar , begini reaksi malu-malu jisoo blackpink'],\n ['5 tahun merantau di jakarta , akankah fendy chow memenuhi harapan sang ibu ',\n  '?',\n  '5 tahun merantau di jakarta , akankah fendy chow memenuhi harapan sang ibu ?'],\n ['8 tahun bernaung di jyp entertainment , soloist cantik memutuskan ',\n  'ini hengkang !',\n  '8 tahun bernaung di jyp entertainment , soloist cantik ini memutuskan hengkang !'],\n ['posisi digantikan anang , armand maulana menangis',\n  'juri indonesian idol',\n  'posisi juri indonesian idol digantikan anang , armand maulana menangis'],\n [' ahmad dhani bersama anak , mulan kangen ',\n  'unggah video jameela ?',\n  'unggah video ahmad dhani bersama anak , mulan jameela kangen ?'],\n ['dituding pansos , tiga setia gara : kalau mau , saya tendang pantat kim k aja',\n  'terkenal',\n  'dituding pansos , tiga setia gara : kalau mau terkenal , saya tendang pantat kim k aja'],\n [' kepedasan , tembus 16 juta viewer dalam 2 hari ',\n  'viral video choi siwon !',\n  'viral video choi siwon kepedasan , tembus 16 juta viewer dalam 2 hari !'],\n [\"6 ' squad ' di , benar-benar jadi ' friendship goals '\",\n  'drama korea',\n  \"6 ' squad ' di drama korea ini , benar-benar jadi ' friendship goals '\"],\n ['dancer saat , kalah dari ',\n  'k-pop terpopuler ini gak kece idol !',\n  'dancer k-pop terpopuler saat ini , gak kalah kece dari idol !'],\n ['chung ha dan ateez buka smartfren wow concert , seisi istora senayan bergemuruh ',\n  '!',\n  'chung ha dan ateez buka smartfren wow concert , seisi istora senayan bergemuruh !'],\n [\" di liburan , siapkan program ' bon voyage ' \",\n  'unggah foto bts ?',\n  \"unggah foto di liburan , bts siapkan program ' bon voyage ' ?\"],\n [\"disomasi barbie kumalasari , billy syahputra : gue nggak ' nyentil ' , sebelum ' disentil '\",\n  '',\n  \"disomasi barbie kumalasari , billy syahputra : gue nggak ' nyentil ' , sebelum ' disentil '\"],\n ['jadi gemuk punya double chin , jessica mila nyaris tak bisa dikenali',\n  '',\n  'jadi gemuk punya double chin , jessica mila nyaris tak bisa dikenali'],\n ['menangis saat anang gantikan posisinya di indonesian , armand maulana',\n  'idol ini alasan',\n  'menangis saat anang gantikan posisinya di indonesian idol , ini alasan armand maulana'],\n [' puteri indonesia 2019 dikirim ke ajang kecantikan internasional',\n  'top 3',\n  'top 3 puteri indonesia 2019 dikirim ke ajang kecantikan internasional'],\n [' barbie kumalasari 8 jam , sederet tulis menyindir',\n  'heboh naik pesawat seleb ini caption',\n  'heboh barbie kumalasari naik pesawat 8 jam , sederet seleb ini tulis caption menyindir'],\n [' 3 bulan jadi , bisa beli 2 mobil ',\n  'penghasilan verrell bramasta youtuber !',\n  'penghasilan verrell bramasta 3 bulan jadi youtuber , bisa beli 2 mobil !'],\n [\"selebritis yang jadi terseret jadi ' skandal , saja \",\n  \"korban ' bts siapa ?\",\n  \"selebritis yang jadi terseret jadi ' korban ' skandal bts , siapa saja ?\"],\n ['12 transformasi millendaru , dari cowok cantik berdada bidang - bikinian',\n  'doyan',\n  '12 transformasi millendaru , dari cowok cantik berdada bidang - doyan bikinian'],\n ['resmi diluncurkan , gebrakan baru di festival film indonesia 2019',\n  'ini',\n  'resmi diluncurkan , ini gebrakan baru di festival film indonesia 2019'],\n ['5 film indonesia terbaru yang bikin #antingaret berangkat ke bioskop',\n  'kamu',\n  '5 film indonesia terbaru yang bikin kamu #antingaret berangkat ke bioskop'],\n ['taemin shinee akan tampil di hut rcti ke-30 , shawol bisa bertemu ',\n  'beruntung !',\n  'taemin shinee akan tampil di hut rcti ke-30 , shawol beruntung bisa bertemu !'],\n [' bukti exo sosok religius , tak banyak yang tahu',\n  'ini sehun',\n  'ini bukti sehun exo sosok religius , tak banyak yang tahu'],\n ['dipenjara bareng galih ginanjar atau cerai , yang akan dipilih barbie kumalasari ',\n  '?',\n  'dipenjara bareng galih ginanjar atau cerai , mana yang akan dipilih barbie kumalasari ?'],\n [\"james gunn ungkap batman bakal muncul suice squad 2 ' \",\n  \"di '\",\n  \"james gunn ungkap batman bakal muncul di ' suice squad 2 ' ?\"],\n ['mia khalifa tentang panas berhijab , diteror isis ',\n  'buka-bukaan video !',\n  'mia khalifa buka-bukaan tentang video panas berhijab , diteror isis !'],\n [\"klarifikasi ria ricis soal timnya yang mendadak resign usai ' saya kembali '\",\n  'viral video',\n  \"klarifikasi ria ricis soal timnya yang mendadak resign usai video ' saya kembali '\"],\n ['ruben onsu ulang tahun , 16 transformasinya dari tembem abis - segar awet muda',\n  'ini',\n  'ruben onsu ulang tahun , ini 16 transformasinya dari tembem abis - segar awet muda'],\n ['hadiri resepsi anak raam punjabi , luna maya & bcl santap api menyala ',\n  'kocak !',\n  'hadiri resepsi anak raam punjabi , luna maya & bcl santap api menyala !'],\n ['12 artis pernah paskibra , saja mereka ',\n  'ini jadi anggota siapa ?',\n  '12 artis ini pernah jadi anggota paskibra , siapa saja mereka ?'],\n ['pelukan dengan reino barack , harga sweater syahr yang sampai 2 digit ',\n  'ini harganya !',\n  'pelukan dengan reino barack , ini harga sweater syahrini yang harganya sampai 2 digit !'],\n [\"10 idola dengan rahang tajam ' mengiris hati ' , kai exo sampai bobby ikon\",\n  '',\n  \"10 idola dengan rahang tajam ' mengiris hati ' , kai exo sampai bobby ikon\"],\n ['jual rumah demi shakira , kediaman denada ditawar keluarga menteri dengan harga ',\n  'segini',\n  'jual rumah demi shakira , kediaman denada ditawar keluarga menteri dengan harga segini'],\n ['nia ramadhani hadiri pernikahan anak raam punjabi , sebal sama bcl ',\n  'gara-gara ini',\n  'nia ramadhani hadiri pernikahan anak raam punjabi , sebal sama bcl gara-gara ini'],\n ['15 pasangan korea yang cinlok tak berakhir bahagia : putus - cerai',\n  'seleb',\n  '15 pasangan seleb korea yang cinlok tak berakhir bahagia : putus - cerai'],\n [' ali syakieb - citra bukan karena ',\n  'terkuak ! ini alasan kirana putus , rezky aditya',\n  'terkuak ! ini alasan ali syakieb - citra kirana putus , bukan karena rezky aditya'],\n [' , jemput impian bareng julian jacob ',\n  'yuk kamu !',\n  'yuk , jemput impian kamu bareng julian jacob !'],\n ['nama anak ditiru , franda : bayimu tak pantas pakai nama itu ',\n  'fans !',\n  'nama anak ditiru fans , franda : bayimu tak pantas pakai nama itu !'],\n ['kesal dianggap pansos , bukti sang ',\n  'bebby fey beber foto youtuber',\n  'kesal dianggap pansos , bebby fey beber bukti foto sang youtuber'],\n [\"hotman mengaku dapat panggilan ' gus lora ' , nu\",\n  'begini penjelasan',\n  \"hotman paris mengaku dapat panggilan ' gus lora ' , begini penjelasan nu\"],\n [' dilan , gombalan jaemin dream ',\n  'bak nct sukses bikin fans baper',\n  'bak dilan , gombalan jaemin nct dream sukses bikin fans baper'],\n [' jenner telanjang di pelukan travis ',\n  'kylie unggah foto scott',\n  'kylie jenner unggah foto telanjang di pelukan travis scott'],\n [' sederet tipe yang biasa ditemui dalam ',\n  'inilah pacar drama korea',\n  'inilah sederet tipe pacar yang biasa ditemui dalam drama korea'],\n ['inspirasi tas ala jenner , effortless stylish ',\n  'gaya pinggang kylie !',\n  'inspirasi gaya tas pinggang ala kylie jenner , effortless stylish !'],\n ['bisnis yang ditekuni dua anak bj habibie , sama-sama dan sukses',\n  'cerdas',\n  'bisnis yang ditekuni dua anak bj habibie , sama-sama cerdas dan sukses'],\n ['sandra dewi akhirnya wajah mikhael , ',\n  'pamer moeis ganteng banget !',\n  'sandra dewi akhirnya pamer wajah mikhael moeis , ganteng banget !'],\n ['dami kwon kakak bakal nikahi aktor kim min joon , detailnya',\n  'g-dragon begini',\n  'dami kwon kakak g-dragon bakal nikahi aktor kim min joon , begini detailnya'],\n ['camila cabello dan shawn mendes ala ikan , konfirmasi ',\n  'pamer ciuman pacaran ?',\n  'camila cabello dan shawn mendes pamer ciuman ala ikan , konfirmasi pacaran ?'],\n ['booming iklan mie sedaap versi , ',\n  'choi siwon ternyata begini rasanya',\n  'booming iklan mie sedaap versi choi siwon , ternyata begini rasanya'],\n ['karena buka restoran bertema papua',\n  'ini teuku rassya',\n  'karena ini teuku rassya buka restoran bertema papua'],\n [' jenner masalah hubungan seksual dengan travis ',\n  'kylie blak-blakan scott',\n  'kylie jenner blak-blakan masalah hubungan seksual dengan travis scott'],\n ['barbie kumalasari bakal ke amerika bareng boy william , ceritanya',\n  'begini',\n  'barbie kumalasari bakal ke amerika bareng boy william , begini ceritanya'],\n ['barbie kumalasari & galih ginanjar dikabarkan pisah , klarifikasi indra tarigan',\n  'begini jawaban',\n  'barbie kumalasari & galih ginanjar dikabarkan pisah , begini klarifikasi indra tarigan'],\n ['5 film terbaik indonesia yang nggak pernah bosan ditonton lagi , judul favoritmu ',\n  '?',\n  '5 film terbaik indonesia yang nggak pernah bosan ditonton lagi , apa judul favoritmu ?'],\n ['sharing sampo anti-ketombe favorit , #racunalo di medsos',\n  'misterius viral',\n  'sharing sampo anti-ketombe favorit , #racunalo viral di medsos'],\n ['kado pernikahan justin bieber , jam tangan mewah seharga 1 miliar ',\n  'kocak !',\n  'kado pernikahan justin bieber , jam tangan mewah seharga 1 miliar !'],\n [\"18 tahun setelah ' kkkg ' , kajol dan kareena kapoor satu frame lagi dan makin stunning \",\n  'kocak !',\n  \"18 tahun setelah ' kkkg ' , kajol dan kareena kapoor satu frame lagi dan makin stunning !\"],\n [' robby shine mantap berbisnis pusat kebugaran',\n  'ini',\n  'ini alasan robby shine mantap berbisnis pusat kebugaran'],\n ['halaman k nlagi korea resmi launching , aja ',\n  'apa isinya sih ?',\n  'halaman kapanlagi korea resmi launching , isinya apa aja sih ?'],\n [' ikut kontes puteri indonesia , luna merasa tersaingi ',\n  'rosa meldianti lucinta ?',\n  'rosa meldianti ikut kontes puteri indonesia , lucinta luna merasa tersaingi ?'],\n ['barbie kumalasari akhirnya klarifikasi setelah dihujat 8 jam',\n  'gara-gara naik pesawat',\n  'barbie kumalasari akhirnya klarifikasi setelah dihujat gara-gara naik pesawat 8 jam'],\n [' penilaian guru di masa lalu , deepika padukone ancam ranveer singh',\n  'kocak !',\n  'kocak ! gara-gara penilaian guru di masa lalu , deepika padukone ancam ranveer singh'],\n ['gisella anastasia akhirnya ungkap gugat cerai gading marten',\n  'alasan',\n  'gisella anastasia akhirnya ungkap alasan gugat cerai gading marten'],\n ['keluar dari grup wa geng menteri ceria , melaney ricardo & luna maya berantem ',\n  'ini ?',\n  'keluar dari grup wa geng menteri ceria , melaney ricardo & luna maya berantem ?'],\n ['khirani beranjak remaja , bagikan trik parentingnya',\n  'mayangsari',\n  'khirani beranjak remaja , mayangsari bagikan trik parentingnya'],\n ['pengakuan soal di hotel bersama ',\n  'atta halilintar berhubungan intim bebby fey',\n  'pengakuan atta halilintar soal berhubungan intim di hotel bersama bebby fey'],\n ['jelang pernikahan , hailey baldwin dapat pesta bachelorette yang dan nakal ',\n  'seru !',\n  'jelang pernikahan , hailey baldwin dapat pesta bachelorette yang seru dan nakal !'],\n ['4 tahun pergi kondisi makam olga syahputra',\n  ', seperti ini kepribadianmu',\n  '4 tahun pergi , seperti ini kondisi makam olga syahputra'],\n ['7 yang mirip karakter animasi disney , - taeyeon ',\n  'k-pop idol j-hope bts snsd',\n  '7 k-pop idol yang mirip karakter animasi disney , j-hope bts - taeyeon snsd'],\n ['betrand peto ke korea , gayanya di bandara total hampir mencapai rp 50 juta',\n  '',\n  'betrand peto ke korea , gayanya di bandara total hampir mencapai rp 50 juta'],\n [\"lagu ' location unknown ' , gempi putri gading dan gisel akhirnya dinotice honne\",\n  'misterius viral',\n  \"lagu ' location unknown ' viral , gempi putri gading dan gisel akhirnya dinotice honne\"],\n ['7 terbaru jessica iskandar - nia ramadhani , bidadari turun dari langit',\n  'pemotretan bak',\n  '7 pemotretan terbaru jessica iskandar - nia ramadhani , bak bidadari turun dari langit'],\n [\"syahrini tubuh mungilnya ' diunyel-unyel ' reino barack \",\n  'unggah video !',\n  \"syahrini unggah video tubuh mungilnya ' diunyel-unyel ' reino barack !\"],\n ['spider-man dikabarkan dari mcu , sony pictures',\n  'hengkang begini penjelasan',\n  'spider-man dikabarkan hengkang dari mcu , begini penjelasan sony pictures'],\n ['cut meyriska sakit selama 5 tahun , serangkaian pemeriksaan yang dilaluinya',\n  'ini',\n  'cut meyriska sakit perut selama 5 tahun , ini serangkaian pemeriksaan yang dilaluinya'],\n ['damai , melaney ricardo pelukan dengan elza syarief',\n  'unggah foto',\n  'damai , melaney ricardo unggah foto pelukan dengan elza syarief'],\n [' sangka , sampo favorit alodita ada di supermarket ',\n  'siapa ternyata !',\n  'siapa sangka , sampo favorit alodita ternyata ada di supermarket !'],\n [' kpop paling bersinar , yang ingin tonton konsernya ',\n  'deretan idol mana kamu ?',\n  'deretan kpop idol paling bersinar , mana yang ingin kamu tonton konsernya ?'],\n ['sound on dengerin nikmatnya para influencers seruput nongshim ramyun',\n  'kocak !',\n  'sound on ! dengerin nikmatnya para influencers seruput nongshim ramyun'],\n [' zaskia adya mecca atasi trauma putrinya periksa gigi',\n  'cara',\n  'cara zaskia adya mecca atasi trauma putrinya periksa gigi'],\n ['nikita mirzani ungkap kekasih mau sama dirinya : enak sayang',\n  'alasan kamu',\n  'nikita mirzani ungkap alasan kekasih mau sama dirinya : kamu enak sayang'],\n ['nikita mirzani meski kaya tapi nggak boros , sadar diri janda anak tiga banyak cicilan',\n  '',\n  'nikita mirzani meski kaya tapi nggak boros , sadar diri janda anak tiga banyak cicilan'],\n ['ruben onsu disebut punya tabungan rp 27 m , sederet sumber penghasilannya',\n  'ini',\n  'ruben onsu disebut punya tabungan rp 27 m , ini sederet sumber penghasilannya'],\n [' jadul rossa saat masih sma , tampil manis pendek',\n  'foto dengan rambut',\n  'foto jadul rossa saat masih sma , tampil manis dengan rambut pendek'],\n [\"peluncuran trailer ' gundala ' , abimana arasatya ungkap satu unik\",\n  'fakta',\n  \"peluncuran trailer ' gundala ' , abimana arasatya ungkap satu fakta unik\"],\n ['aksi gilang ramadhan dan 500 atraksi lainnya di festival dhol 2019',\n  '',\n  'aksi gilang ramadhan dan 500 atraksi lainnya di festival dhol 2019'],\n ['jokowi hadiri nikahan wartawan , anak ',\n  'ternyata seleb terkenal',\n  'jokowi hadiri nikahan wartawan , ternyata anak seleb terkenal'],\n [\" , millendaru ngaku pernah ada ' urusan ranjang ' dengan artis inisial zl\",\n  'raffi blak-blakan',\n  \"blak-blakan , millendaru ngaku pernah ada ' urusan ranjang ' dengan artis inisial zl\"],\n ['sebelum tertangkap narkoba , film jefri nichol ',\n  'ini deretan !',\n  'sebelum tertangkap narkoba , ini deretan film jefri nichol !'],\n ['dikabarkan shenina cinnamon bareng jefri nichol',\n  'putus , posting foto',\n  'dikabarkan putus , shenina cinnamon posting foto bareng jefri nichol'],\n ['jennifer dunn rumah baru , super megah lengkap dengan kolam renang mewah',\n  'pamer',\n  'jennifer dunn pamer rumah baru , super megah lengkap dengan kolam renang mewah'],\n [' angel mengenai putus dengan bibi',\n  'vanessa blak-blakan alasan',\n  'vanessa angel blak-blakan mengenai alasan putus dengan bibi'],\n [' celine evangelista pakai kerudung pemberkatan 7 bulan kehamilan',\n  'di acara',\n  'alasan celine evangelista pakai kerudung di acara pemberkatan 7 bulan kehamilan'],\n ['irwansyah main sinetron lagi bareng chelsea olivia , zaskia sungkar cemburu ',\n  'ini ?',\n  'irwansyah main sinetron lagi bareng chelsea olivia , zaskia sungkar cemburu ?'],\n ['momen saat nastusha cemburu jika ada yang deketin chelsea olivia',\n  'member gemas',\n  'momen gemas saat nastusha cemburu jika ada yang deketin chelsea olivia'],\n ['10 persiapan penting sebelum masuk area jicomfest 2019',\n  '',\n  '10 persiapan penting sebelum masuk area jicomfest 2019'],\n ['sederet cantik shandy aulia , tak absen olahraga meski hamil muda',\n  'begini potret',\n  'sederet potret cantik shandy aulia , tak absen olahraga meski hamil muda'],\n [\"harga starter pack sekolah saaih bikin ' sobat miskin ' \",\n  'halilintar melongo',\n  \"harga starter pack sekolah saaih halilintar bikin ' sobat miskin ' melongo\"],\n [\" yang dihapus dari versi asli ' : ' , masih bikin nangis\",\n  'video adegan avengers endgame',\n  \"video adegan yang dihapus dari versi asli ' avengers : endgame ' , masih bikin nangis\"],\n [' , jennifer dunn soal rumah barunya ',\n  'fakta mengejutkan terkuak bohong ?',\n  'fakta mengejutkan terkuak , jennifer dunn bohong soal rumah barunya ?'],\n ['9 film indonesia tayang di bioskop bulan agustus 2019',\n  'ini yang bakal',\n  '9 film indonesia yang bakal tayang di bioskop bulan agustus 2019'],\n ['dulu sehari 8 ronde , barbie kumalasari bakal minta bilik asmara untuk galih ',\n  'bercinta ?',\n  'dulu bercinta sehari 8 ronde , barbie kumalasari bakal minta bilik asmara untuk galih ?'],\n ['pernah pakai ganja , uus soal yang terlibat narkoba',\n  'ini tanggapan seleb',\n  'pernah pakai ganja , ini tanggapan uus soal seleb yang terlibat narkoba'],\n ['5 song hye kyo w magazine , cantik disney',\n  'potret pemotretan bak princess',\n  '5 potret song hye kyo pemotretan w magazine , cantik bak princess disney'],\n ['kalau pandji , ernest dan sepanggung , paling bikin ketawa ',\n  'raditya dika siapa kamu ?',\n  'kalau pandji , ernest dan raditya dika sepanggung , siapa paling bikin kamu ketawa ?'],\n [' pria yang sempat dekati cut meyriska , mulai artis - perwira',\n  'deretan',\n  'deretan pria yang sempat dekati cut meyriska , mulai artis - perwira'],\n [' angel bicara soal jodoh : cowok yang mau nerima aku ',\n  'vanessa siapa sih ?',\n  'vanessa angel bicara soal jodoh : siapa sih cowok yang mau nerima aku ?'],\n ['ikut ke lokasi syuting , yang dilakukan betrand peto',\n  'sarwendah inilah hal lucu',\n  'ikut sarwendah ke lokasi syuting , inilah hal lucu yang dilakukan betrand peto'],\n [' yang bikin uus memilih untuk berhenti pakai narkoba',\n  'ini alasan',\n  'ini alasan yang bikin uus memilih untuk berhenti pakai narkoba'],\n ['sinopsis drama rich man episode 3 , kerja keras suho exo terancam gagal ',\n  '!',\n  'sinopsis drama rich man episode 3 , kerja keras suho exo terancam gagal !'],\n ['kate middleton & pangeran william bawa ketiga anaknya naik ',\n  'pesawat murah',\n  'kate middleton & pangeran william bawa ketiga anaknya naik pesawat murah'],\n ['baru dibaptis , pengakuan anwar hadid soal perbedaaan agama dalam keluarga',\n  'ini rinciannya',\n  'baru dibaptis , ini pengakuan anwar hadid soal perbedaaan agama dalam keluarga'],\n ['tom holland akhirnya ungkap nasib film spider-man selanjutnya',\n  '',\n  'tom holland akhirnya ungkap nasib film spider-man selanjutnya'],\n [' , tyas mirasih akhirnya bongkar ahmad di masa lalu',\n  'blak-blakan perselingkuhan raffi',\n  'blak-blakan , tyas mirasih akhirnya bongkar perselingkuhan raffi ahmad di masa lalu'],\n ['brie larson tunjukkan kemampuan bermusik dengan cover lagu satu ',\n  'ini',\n  'brie larson tunjukkan kemampuan bermusik dengan cover lagu satu ini'],\n [' tana mongeau bawa ular ke vmas 2019 , tiru britney spears 18 tahun lalu ',\n  'youtuber gaya ?',\n  'youtuber tana mongeau bawa ular ke vmas 2019 , tiru gaya britney spears 18 tahun lalu ?'],\n [' orangtua , ayahnya - ibunya awet muda',\n  'foto jungkook bts ganteng banget',\n  'foto orangtua jungkook bts , ayahnya ganteng banget - ibunya awet muda'],\n ['maia estianty ungkap luna maya diam-diam tengah siapkan pernikahan ',\n  '!',\n  'maia estianty ungkap luna maya diam-diam tengah siapkan pernikahan !'],\n ['resmi jong hoon ditetapkan sebagai tersangka dalam kasus penyuapan polisi',\n  '! choi',\n  'resmi ! choi jong hoon ditetapkan sebagai tersangka dalam kasus penyuapan polisi'],\n ['lakukan li e , brand new boys bocorkan tanggal debut',\n  'v rayya',\n  'lakukan v live , brand new boys bocorkan tanggal debut'],\n ['suka film horor film horor tayang di bulan april',\n  '? berikut deretan yang bakal',\n  'suka film horor ? berikut deretan film horor yang bakal tayang di bulan april'],\n [\"jenita janet jajal filler terobosan baru ' algenesss ' , 100 % bahan alami \",\n  'kocak !',\n  \"jenita janet jajal filler terobosan baru ' algenesss ' , 100 % bahan alami !\"],\n ['rapat investor entertainment selesai digelar , hasilnya ',\n  '! ini',\n  'rapat investor yg entertainment selesai digelar , ini hasilnya !'],\n [\"rilis teaser pendek , serial ' strager things tanggal tayang season ketiga\",\n  \"' ungkap\",\n  \"rilis teaser pendek , serial ' strager things ' ungkap tanggal tayang season ketiga\"],\n ['lucunya lee dong wook tak bisa berhenti menangis karena ',\n  '!',\n  'lucunya lee dong wook tak bisa berhenti menangis karena ini !'],\n [\" ' us ' , film thriller jenaka yang bikin deg-degan\",\n  'potret',\n  \"potret ' us ' , film thriller jenaka yang bikin deg-degan\"],\n ['billy syahputra anggap hanya ',\n  'angela lee teman',\n  'billy syahputra anggap angela lee hanya teman'],\n [' girlband korea selatan , momoland',\n  'fakta',\n  'fakta menarik girlband korea selatan , momoland'],\n [' selebriti indonesia yang ngefans korea',\n  'deretan',\n  'deretan selebriti indonesia yang ngefans idol korea'],\n [' kasus jung joon young , ngaku pernah dilecehkan pria',\n  'heboh youtuber ini idol',\n  'heboh kasus jung joon young , youtuber ini ngaku pernah dilecehkan idol pria'],\n [' dengan tubuh berisi terbukti bikin pria lebih bahagia',\n  'wanita',\n  'wanita dengan tubuh berisi terbukti bikin pria lebih bahagia'],\n ['kronologi lengkap pemuda di bandung tusuk gadis pujaan karena cinta ditolak',\n  '',\n  'kronologi lengkap pemuda di bandung tusuk gadis pujaan karena cinta ditolak'],\n ['sarapan bikin ngantuk , mitos atau ',\n  'fakta ?',\n  'sarapan bikin ngantuk , mitos atau fakta ?'],\n ['puisi hairdryer dian sastro yang dan ',\n  'tak terduga reaksi netizen',\n  'puisi hairdryer dian sastro yang tak terduga dan reaksi netizen'],\n [' bersama habibie , syahrini : semoga dipertemukan dengan ibu ainun di ',\n  'unggah foto',\n  'unggah foto bersama habibie , syahrini : semoga dipertemukan dengan ibu ainun di surga'],\n ['acungkan pisau , pria resahkan pengunjung pantai kuta',\n  'ini',\n  'acungkan pisau , pria ini resahkan pengunjung pantai kuta'],\n ['minta anggaran naik ke sri mulyani , anggota dpr curhat terjebak di lift',\n  '',\n  'minta anggaran naik ke sri mulyani , anggota dpr curhat terjebak di lift'],\n ['senangnya suporter thailand diberi hadiah jersey dan syal indonesia',\n  '',\n  'senangnya suporter thailand diberi hadiah jersey dan syal indonesia'],\n [' pihak sd di bekasi soal pemukulan seorang siswa kepada teman-temannya',\n  'penjelasan video',\n  'penjelasan pihak sd di bekasi soal video pemukulan seorang siswa kepada teman-temannya'],\n ['sibuk hingga batal bertemu pimpinan kpk , agenda jokowi seharian',\n  'ini rinciannya',\n  'sibuk hingga batal bertemu pimpinan kpk , ini agenda jokowi seharian'],\n ['spanduk pecel lele hingga obat kuat jadi jakmania kritik persija',\n  'ini cara',\n  'spanduk pecel lele hingga obat kuat jadi cara jakmania kritik persija'],\n ['aplikasi google ungkap fitur-fitur kamera baru di pixel 4',\n  '',\n  'aplikasi google ungkap fitur-fitur kamera baru di pixel 4'],\n ['5 animasi spongebob squarepants tahu ',\n  'fakta menarik yang perlu kamu !',\n  '5 fakta menarik animasi spongebob squarepants yang perlu kamu tahu !'],\n ['chris hemsworth atau natalie portman , bintang utama thor : love and thunder',\n  'ini',\n  'chris hemsworth atau natalie portman , ini bintang utama thor : love and thunder'],\n [' anggota pansus pemindahan ibu kota bentukan dpr',\n  'ini rinciannya',\n  'ini anggota pansus pemindahan ibu kota bentukan dpr'],\n ['penemuan terbaru ungkap penyebab punahnya dinosaurus',\n  '',\n  'penemuan terbaru ungkap penyebab punahnya dinosaurus'],\n [' saut diajak makan pecel kpk setelah tulis surat pengunduran diri',\n  '3 pimpinan',\n  'cerita saut diajak makan pecel 3 pimpinan kpk setelah tulis surat pengunduran diri'],\n ['tim dokter jelaskan kondisi kesehatan bj habibie',\n  '',\n  'tim dokter jelaskan kondisi kesehatan bj habibie'],\n ['ketua hipmi lempar isyarat \" punya waktu longgar \" , presiden jokowi',\n  'ini',\n  'ketua hipmi lempar isyarat \" punya waktu longgar \" , ini respon presiden jokowi'],\n ['cinta ditolak , pemuda di bandung tusuk gadis pujaan',\n  '',\n  'cinta ditolak , pemuda di bandung tusuk gadis pujaan'],\n ['tarik mata-mata dari rusia , as alami \" kebutaan \"',\n  '',\n  'tarik mata-mata dari rusia , as alami \" kebutaan \"'],\n [' gabby , perempuan setinggi 2 , 2 meter yang selalu ditolak saat melamar kerja',\n  'cerita',\n  'cerita gabby , perempuan setinggi 2 , 2 meter yang selalu ditolak saat melamar kerja'],\n [' bocah 11 tahun dicabuli dan dibunuh saat akan pergi ngaji , diimingi uang hingga dijerat dengan sarung',\n  'fakta diketahui',\n  'fakta bocah 11 tahun dicabuli dan dibunuh saat akan pergi ngaji , diimingi uang hingga dijerat dengan sarung'],\n [' penggerebekan pasangan penginapan di buleleng disidak',\n  'viral video selingkuh ,',\n  'viral video penggerebekan pasangan selingkuh , penginapan di buleleng disidak'],\n ['diskriminasi hingga pelanggaran ham dinilai akar masalah papua tersentuh',\n  'yang belum',\n  'diskriminasi hingga pelanggaran ham dinilai akar masalah papua yang belum tersentuh'],\n ['jelang berakhirnya pemerintahan , 3 menteri jokowi pamit .',\n  '. .',\n  'jelang berakhirnya pemerintahan , 3 menteri jokowi pamit . . .'],\n ['gagal , rencana 3 . 000 orang main petak umpet di ikea',\n  '',\n  'gagal , rencana 3 . 000 orang main petak umpet di ikea'],\n ['6 shandy aulia hadapi julid',\n  'reaksi netizen',\n  '6 reaksi shandy aulia hadapi netizen julid'],\n [' buaya 1 , 8 meter dan anakonda sepanjang 8 meter , yang menang ',\n  'siapa ?',\n  'pertarungan buaya 1 , 8 meter dan anakonda sepanjang 8 meter , siapa yang menang ?'],\n [' langkah ditjen imigrasi setelah terima surat pencegahan dan pencabutan paspor veronica koman',\n  'ini',\n  'ini langkah ditjen imigrasi setelah terima surat pencegahan dan pencabutan paspor veronica koman'],\n [' kecelakaan bus mira vs innova di nganjuk-madiun , sempat ambil hingga 3 penumpang tewas',\n  'fakta video',\n  'fakta kecelakaan bus mira vs innova di nganjuk-madiun , sempat ambil video hingga 3 penumpang tewas'],\n [' hasrat pecatur andalan indonesia di piala dunia fide',\n  'ini rinciannya',\n  'ini hasrat pecatur andalan indonesia di piala dunia fide'],\n ['disebut oleh dprd hanya ban serep ridwan kamil , uu ruzhanul',\n  'ini',\n  'disebut oleh dprd hanya ban serep ridwan kamil , ini kata uu ruzhanul'],\n ['anak posesif , nicky tirta dilarang dekat dengan lain',\n  'wanita',\n  'anak posesif , nicky tirta dilarang dekat dengan wanita lain'],\n ['dirut sriwijaya air dicopot ', 'ini ?', 'dirut sriwijaya air dicopot ?'],\n [' pemutihan sim yang sudah mati , polisi sebut hoax',\n  'misterius viral',\n  'viral pemutihan sim yang sudah mati , polisi sebut hoax'],\n [' para seniman tolak revisi uu kpk',\n  'ini cara',\n  'ini cara para seniman tolak revisi uu kpk'],\n [' daihatsu sigra facelift',\n  'bocoran foto',\n  'bocoran foto daihatsu sigra facelift'],\n ['lambaian tangan meghan markle di tengah keramaian final us open .',\n  'innalillahi . .',\n  'lambaian tangan meghan markle di tengah keramaian final us open . . .'],\n ['kami mencari tahu cosplayer menyukai kostum karakter , jawabannya .',\n  'mengapa ini . .',\n  'kami mencari tahu mengapa cosplayer menyukai kostum karakter , ini jawabannya . . .'],\n ['lanjutkan penguatan , kurs rupiah hari di 6 bank',\n  'ini',\n  'lanjutkan penguatan , berikut kurs rupiah hari ini di 6 bank'],\n ['sisi buruk tote bag pengganti kantong plastik',\n  '',\n  'sisi buruk tote bag pengganti kantong plastik'],\n [' pesan terakhir istri yang gantung diri setelah cekcok dengan suami soal pelukan',\n  'ini foto',\n  'ini pesan terakhir istri yang gantung diri setelah cekcok dengan suami soal foto pelukan'],\n [' museum sejarah bentoel di malang dijual',\n  'ini alasan',\n  'ini alasan museum sejarah bentoel di malang dijual'],\n ['saat luhut dan susi pamit .', '. .', 'saat luhut dan susi pamit . . .'],\n [' bagi yang berniat memelihara vw kodok',\n  'tips',\n  'tips bagi yang berniat memelihara vw kodok'],\n ['karyawan amazon bakal turun ke jalan lakukan protes , ',\n  'apa alasannya ?',\n  'karyawan amazon bakal turun ke jalan lakukan protes , apa alasannya ?'],\n ['lewat siji , beda nikmati koleksi museum seni rupa dan keramik',\n  'ini cara',\n  'lewat siji , cara beda nikmati koleksi museum seni rupa dan keramik'],\n [' pilihan jenis gelas bisa pengaruhi rasa kopi ',\n  'bagaimana ?',\n  'bagaimana pilihan jenis gelas bisa pengaruhi rasa kopi ?'],\n ['waspada bahaya polutan udara di dalam ruangan',\n  '',\n  'waspada bahaya polutan udara di dalam ruangan'],\n ['sri mulyani ingin rekam medis 267 juta penduduk ri diidentifikasi , ',\n  '?',\n  'sri mulyani ingin rekam medis 267 juta penduduk ri diidentifikasi , kenapa ?'],\n ['4 hari pertama penerapan sistem ganjil genap di jakarta barat',\n  'fakta',\n  '4 fakta hari pertama penerapan sistem ganjil genap di jakarta barat'],\n ['cukup bayar rp 5 . 000 untuk masuk ke 5 museum di jakarta ',\n  'ini',\n  'cukup bayar rp 5 . 000 untuk masuk ke 5 museum di jakarta ini'],\n [' bupati mamberamo tengah papua saat puluhan mahasiswanya memilih pulang kampung',\n  'cerita',\n  'cerita bupati mamberamo tengah papua saat puluhan mahasiswanya memilih pulang kampung'],\n ['ketika menteri susi minta maaf dan akui dirinya sedikit tengil .',\n  'innalillahi . .',\n  'ketika menteri susi minta maaf dan akui dirinya sedikit tengil . . .'],\n ['bedanya teknologi hybrid e-power pada nissan note',\n  '',\n  'bedanya teknologi hybrid e-power pada nissan note'],\n [' beda penarikan dan pencabutan paspor pakar hukum',\n  'apa ? ini penjelasan',\n  'apa beda penarikan dan pencabutan paspor ? ini penjelasan pakar hukum'],\n ['dul jaelani : tolong maafkan saya . maafkan saya .',\n  '. .',\n  'dul jaelani : tolong maafkan saya . . . maafkan saya . . .'],\n ['disebut kerjanya cuma menembaki kapal , menteri susi',\n  'ini kata',\n  'disebut kerjanya cuma menembaki kapal , ini kata menteri susi'],\n [' sopir truk tanah jadi tersangka tabrakan beruntun di bintaro',\n  'fakta',\n  'fakta sopir truk tanah jadi tersangka tabrakan beruntun di bintaro'],\n ['kemal mochtar berhasil turunkan 50 kg dalam setahun , rahasianya ',\n  'berat badan apa ?',\n  'kemal mochtar berhasil turunkan berat badan 50 kg dalam setahun , apa rahasianya ?'],\n ['seorang polisi tepergok tanpa busana dengan istri orang , sanksi yang menanti',\n  'ini rinciannya',\n  'seorang polisi tepergok tanpa busana dengan istri orang , ini sanksi yang menanti'],\n ['kerap diarak orang jepang , itu mikoshi ',\n  'apa ?',\n  'kerap diarak orang jepang , apa itu mikoshi ?'],\n [' di indonesia , bisa terjadi ',\n  'hari tanpa bayangan bagaimana ?',\n  'hari tanpa bayangan di indonesia , bagaimana bisa terjadi ?'],\n [' jatuh bangun pemilik warung dian dan barokah unhas hingga jadi langganan mahasiswa',\n  'cerita',\n  'cerita jatuh bangun pemilik warung dian dan barokah unhas hingga jadi langganan mahasiswa'],\n ['diajak perang gubernur maluku , menteri susi',\n  'ini jawaban',\n  'diajak perang gubernur maluku , ini jawaban menteri susi'],\n [' , seorang pengendara keluarkan silat saat kena razia polisi',\n  'viral jurus',\n  'viral , seorang pengendara keluarkan jurus silat saat kena razia polisi'],\n [' kabut asap di sumatera dan kalimantan , penerbangan dibatalkan hingga warga sesak nafas',\n  'fakta diketahui',\n  'fakta kabut asap di sumatera dan kalimantan , penerbangan dibatalkan hingga warga sesak nafas'],\n ['7 kisah pasien ditandu menuju puskesmas , disebut \" ambulans desa \" hingga selamatkan ibu melahirkan',\n  '',\n  '7 kisah pasien ditandu menuju puskesmas , disebut \" ambulans desa \" hingga selamatkan ibu melahirkan'],\n ['cukai rokok tahun depan naik , pertimbangan pemerintah',\n  'ini rinciannya',\n  'cukai rokok tahun depan naik , ini pertimbangan pemerintah'],\n [' , penumpang berdiri 6 jam di pesawat demi istri bisa ',\n  'viral tidur',\n  'viral , penumpang berdiri 6 jam di pesawat demi istri bisa tidur'],\n ['16 renang yang tak bisa diremehkan',\n  'manfaat vitamin bagi tubuh',\n  '16 manfaat renang bagi tubuh yang tak bisa diremehkan'],\n ['saat 10 capim kpk \" dikunci \" dengan surat bermeterai .',\n  'ini . .',\n  'saat 10 capim kpk \" dikunci \" dengan surat bermeterai ini . . .'],\n [' bugil keliling samarinda , kronologi kejadiannya',\n  'viral video wanita naik motor ini',\n  'viral video wanita bugil naik motor keliling samarinda , ini kronologi kejadiannya'],\n ['polemik pb djarum vs kpai yang berujung stop audisi .',\n  'innalillahi . .',\n  'polemik pb djarum vs kpai yang berujung stop audisi . . .'],\n ['sby menitikkan air mata .',\n  'innalillahi . .',\n  'sby menitikkan air mata . . .'],\n ['armand maulana jadi juri anaknya di the voice | dipenjara , santunan ahmad dhani terhenti ',\n  'ini ?',\n  'armand maulana jadi juri anaknya di the voice | dipenjara , santunan ahmad dhani terhenti ?'],\n ['ditilang karena ganjil genap , mengurus denda tilang',\n  'begini cara',\n  'ditilang karena ganjil genap , begini cara mengurus denda tilang'],\n [' itu espresso dan istilah kedai kopi tahu',\n  'apa lain di yang harus kamu',\n  'apa itu espresso dan istilah lain di kedai kopi yang harus kamu tahu'],\n ['jangan makan pisang saat sarapan , ',\n  'ini',\n  'jangan makan pisang saat sarapan , ini alasannya'],\n ['duduk perkara ratusan mahasiswa papua pilih pulang kampung , berawal dari maklumat .',\n  '. .',\n  'duduk perkara ratusan mahasiswa papua pilih pulang kampung , berawal dari maklumat . . .'],\n ['ibu kota baru dikritik ridwan kamil terlalu luas , komentar gubernur kaltim',\n  'ini',\n  'ibu kota baru dikritik ridwan kamil terlalu luas , ini komentar gubernur kaltim'],\n ['samsung galaxy a20s dibekali tiga ',\n  'kamera belakang',\n  'samsung galaxy a20s dibekali tiga kamera belakang ?'],\n ['pindah ibu kota pengaruhi arus era kendaraan listrik ',\n  'ini ?',\n  'pindah ibu kota pengaruhi arus era kendaraan listrik ?'],\n ['pihak sekolah tidak setuju andreas diasuh wali kota ',\n  'malang , ini sebabnya',\n  'pihak sekolah tidak setuju andreas diasuh wali kota malang , ini sebabnya'],\n ['empat baru dalam sidang kasus narkoba jefri nichol',\n  'fakta',\n  'empat fakta baru terungkap dalam sidang kasus narkoba jefri nichol'],\n ['pemain nba tak boleh lagi bergaya ala ninja',\n  '',\n  'pemain nba tak boleh lagi bergaya ala ninja'],\n [' dan ekuinoks , sama atau beda ',\n  'hari tanpa bayangan ? ini penjelasannya',\n  'hari tanpa bayangan dan ekuinoks , sama atau beda ? ini penjelasannya'],\n ['turunkan 50 kg , kemal mochtar : jaga porsi makan dan gerak ',\n  'berat badan !',\n  'turunkan berat badan 50 kg , kemal mochtar : jaga porsi makan dan gerak !'],\n ['unik , saudara kembar sama-sama dilantik jadi kepala desa di gresik',\n  'ini',\n  'unik , saudara kembar ini sama-sama dilantik jadi kepala desa di gresik'],\n ['harga emas dunia turun untuk 3 hari beruntun , ',\n  'apa ?',\n  'harga emas dunia turun untuk 3 hari beruntun , apa sebabnya ?'],\n ['berbagai keluhan pengendara di hari pertama penerapan perluasan ganjil genap',\n  '',\n  'berbagai keluhan pengendara di hari pertama penerapan perluasan ganjil genap'],\n [' joker , segera hapus 24 aplikasi dari ponsel android ',\n  'virus ini anda',\n  'awas virus joker , segera hapus 24 aplikasi ini dari ponsel android anda'],\n [' kasus berujung pembunuhan , sisi kl snya',\n  'heboh perselingkuhan ini',\n  'heboh kasus perselingkuhan berujung pembunuhan , ini sisi klinisnya'],\n [' m rafli tak dimainkan sebagai striker di arema fc',\n  'ini alasan',\n  'alasan m rafli tak dimainkan sebagai striker di arema fc'],\n ['3 kabar terbaru ria irawan , belajar bicara hingga radioterapi',\n  '',\n  '3 kabar terbaru ria irawan , belajar bicara hingga radioterapi'],\n ['berbagai pelanggar ganjil genap suap petugas hingga telepon kerabat',\n  'reaksi , coba',\n  'berbagai reaksi pelanggar ganjil genap , coba suap petugas hingga telepon kerabat'],\n ['4 hari pertama ganjil genap di jakarta timur',\n  'fakta menarik',\n  '4 fakta menarik hari pertama ganjil genap di jakarta timur'],\n ['penyakit tbc , dari penyebab , gejala , pengobatan , hingga pencegahan',\n  '',\n  'penyakit tbc , dari penyebab , gejala , pengobatan , hingga pencegahan'],\n ...]"
     },
     "execution_count": 32,
     "metadata": {},
     "output_type": "execute_result"
    }
   ],
   "source": [
    "\n",
    "noise_chance = 0.4\n",
    "param_t = 4\n",
    "\n",
    "def prepareData():\n",
    "    input_lang = Lang(\"input\")\n",
    "    output_lang = Lang(\"output\")\n",
    "\n",
    "    d_pos_a = []\n",
    "    pairs_pos = []\n",
    "\n",
    "    for sentence in nonclickbait_l_c:\n",
    "        c = get_c(sentence, 1, param_t)\n",
    "        a = get_a(sentence, 1, param_t)\n",
    "        d_pos_a.append(a)\n",
    "        pairs_pos.append([c, a, sentence])\n",
    "\n",
    "    d_neg_a = []\n",
    "    pairs_neg = []\n",
    "\n",
    "    for sentence in clickbait_l_c:\n",
    "        c = get_c(sentence, 0, param_t)\n",
    "        a = get_a(sentence, 0, param_t)\n",
    "        d_neg_a.append(a)\n",
    "        pairs_neg.append([c, a, sentence])\n",
    "\n",
    "    #adding noise for pos\n",
    "    for pair in pairs_pos:\n",
    "        if random.random() < noise_chance:\n",
    "            real_a = pair[1].split()\n",
    "\n",
    "            if(len(real_a) == 0):\n",
    "                continue\n",
    "\n",
    "            for a in d_pos_a:\n",
    "                if(len(a) == 0):\n",
    "                    continue\n",
    "                a = a.split()\n",
    "                overlap = get_total_overlap(' '.join(real_a), ' '.join(a))\n",
    "                if overlap > 0 and ((overlap == len(real_a) - 1 and len(real_a) - len(a) == 1) or (overlap == len(real_a) and len(real_a) - len(a) == -1)):\n",
    "                    real_a = a\n",
    "                    break;\n",
    "            pair[1] = ' '.join(real_a)\n",
    "\n",
    "    #adding noise for neg\n",
    "    for pair in pairs_neg:\n",
    "        if random.random() < noise_chance:\n",
    "            real_a = pair[1].split()\n",
    "            if(len(real_a) == 0):\n",
    "                continue\n",
    "\n",
    "            for a in d_neg_a:\n",
    "                if(len(a) == 0):\n",
    "                    continue\n",
    "                a = a.split()\n",
    "\n",
    "                overlap = get_total_overlap(' '.join(real_a), ' '.join(a))\n",
    "                if overlap > 0 and ((overlap == len(real_a) - 1 and len(real_a) - len(a) == 1) or (overlap == len(real_a) and len(real_a) - len(a) == -1)):\n",
    "                    real_a = a\n",
    "                    break;\n",
    "            pair[1] = ' '.join(real_a)\n",
    "\n",
    "    pairs = np.concatenate((pairs_pos, pairs_neg), 0)\n",
    "    for pair in pairs:\n",
    "        input_lang.addSentence(pair[0])\n",
    "        input_lang.addSentence(pair[1])\n",
    "        output_lang.addSentence(pair[2])\n",
    "\n",
    "    print(\"Counted words:\")\n",
    "    print(input_lang.name, input_lang.n_words)\n",
    "    print(output_lang.name, output_lang.n_words)\n",
    "    return input_lang, output_lang, pairs, pairs_neg, pairs_pos\n",
    "\n",
    "input_lang, output_lang, pairs, pairs_click, pairs_nonclick = prepareData()\n",
    "\n",
    "pairs_click"
   ],
   "metadata": {
    "collapsed": false
   }
  },
  {
   "cell_type": "code",
   "execution_count": 33,
   "outputs": [
    {
     "data": {
      "text/plain": "                                                      0  \\\n0      driver di bekasi antar pesanan makanan pakai ...   \n1                 ada motor nyangkut bambu di sleman ,    \n2          pesan gamblang poyuono menolak revisi uu kpk   \n3      lima kendaraan alami kecelakaan beruntun di c...   \n4      maling di rumah mewah jakut terekam cctv bing...   \n...                                                 ...   \n6285   ungkap perasaan karena gelandangan bakal dike...   \n6286  istana bantah jokowi tak peka pada korban kabu...   \n6287   rilis special ' jelang , konsep dan koreograf...   \n6288  ada niat tambah momongan tanpa ikut program ha...   \n6289        txt akan segera , soobin akui ingin spoiler   \n\n                                    1  \\\n0                        viral ! ojol   \n1                  di atas kok bisa ?   \n2                                       \n3                         detik-detik   \n4                             kocak !   \n...                               ...   \n6285   tamara bleszynski miris dipuji   \n6286                         ' bareng   \n6287  twice teaser mv ' feel comeback   \n6288                                    \n6289             comeback gatal pamer   \n\n                                                      2  \n0     viral ! driver ojol di bekasi antar pesanan ma...  \n1     ada motor nyangkut di atas bambu di sleman , k...  \n2          pesan gamblang poyuono menolak revisi uu kpk  \n3     detik-detik lima kendaraan alami kecelakaan be...  \n4     kocak ! maling di rumah mewah jakut terekam cc...  \n...                                                 ...  \n6285  tamara bleszynski ungkap perasaan miris karena...  \n6286  istana bantah jokowi tak peka pada korban kabu...  \n6287  twice rilis teaser mv ' feel special ' jelang ...  \n6288  ada niat tambah momongan tanpa ikut program ha...  \n6289  txt akan segera comeback , soobin akui gatal i...  \n\n[6290 rows x 3 columns]",
      "text/html": "<div>\n<style scoped>\n    .dataframe tbody tr th:only-of-type {\n        vertical-align: middle;\n    }\n\n    .dataframe tbody tr th {\n        vertical-align: top;\n    }\n\n    .dataframe thead th {\n        text-align: right;\n    }\n</style>\n<table border=\"1\" class=\"dataframe\">\n  <thead>\n    <tr style=\"text-align: right;\">\n      <th></th>\n      <th>0</th>\n      <th>1</th>\n      <th>2</th>\n    </tr>\n  </thead>\n  <tbody>\n    <tr>\n      <th>0</th>\n      <td>driver di bekasi antar pesanan makanan pakai ...</td>\n      <td>viral ! ojol</td>\n      <td>viral ! driver ojol di bekasi antar pesanan ma...</td>\n    </tr>\n    <tr>\n      <th>1</th>\n      <td>ada motor nyangkut bambu di sleman ,</td>\n      <td>di atas kok bisa ?</td>\n      <td>ada motor nyangkut di atas bambu di sleman , k...</td>\n    </tr>\n    <tr>\n      <th>2</th>\n      <td>pesan gamblang poyuono menolak revisi uu kpk</td>\n      <td></td>\n      <td>pesan gamblang poyuono menolak revisi uu kpk</td>\n    </tr>\n    <tr>\n      <th>3</th>\n      <td>lima kendaraan alami kecelakaan beruntun di c...</td>\n      <td>detik-detik</td>\n      <td>detik-detik lima kendaraan alami kecelakaan be...</td>\n    </tr>\n    <tr>\n      <th>4</th>\n      <td>maling di rumah mewah jakut terekam cctv bing...</td>\n      <td>kocak !</td>\n      <td>kocak ! maling di rumah mewah jakut terekam cc...</td>\n    </tr>\n    <tr>\n      <th>...</th>\n      <td>...</td>\n      <td>...</td>\n      <td>...</td>\n    </tr>\n    <tr>\n      <th>6285</th>\n      <td>ungkap perasaan karena gelandangan bakal dike...</td>\n      <td>tamara bleszynski miris dipuji</td>\n      <td>tamara bleszynski ungkap perasaan miris karena...</td>\n    </tr>\n    <tr>\n      <th>6286</th>\n      <td>istana bantah jokowi tak peka pada korban kabu...</td>\n      <td>' bareng</td>\n      <td>istana bantah jokowi tak peka pada korban kabu...</td>\n    </tr>\n    <tr>\n      <th>6287</th>\n      <td>rilis special ' jelang , konsep dan koreograf...</td>\n      <td>twice teaser mv ' feel comeback</td>\n      <td>twice rilis teaser mv ' feel special ' jelang ...</td>\n    </tr>\n    <tr>\n      <th>6288</th>\n      <td>ada niat tambah momongan tanpa ikut program ha...</td>\n      <td></td>\n      <td>ada niat tambah momongan tanpa ikut program ha...</td>\n    </tr>\n    <tr>\n      <th>6289</th>\n      <td>txt akan segera , soobin akui ingin spoiler</td>\n      <td>comeback gatal pamer</td>\n      <td>txt akan segera comeback , soobin akui gatal i...</td>\n    </tr>\n  </tbody>\n</table>\n<p>6290 rows × 3 columns</p>\n</div>"
     },
     "execution_count": 33,
     "metadata": {},
     "output_type": "execute_result"
    }
   ],
   "source": [
    "pc = pd.DataFrame(pairs_click)\n",
    "pc"
   ],
   "metadata": {
    "collapsed": false
   }
  },
  {
   "cell_type": "code",
   "execution_count": 34,
   "outputs": [
    {
     "data": {
      "text/plain": "                                                      0 1   \\\n0     masuk radar pilwalkot medan , menantu jokowi b...      \n1     malaysia sudutkan ri : isu kabut asap hingga i...      \n2     kemensos salurkan rp 7 , 3 m bagi korban kerus...      \n3     mpr : amandemen uud 1945 tak akan melebar ke m...      \n4     peringati tahun baru islam , banyuwangi kembal...      \n...                                                 ... ..   \n5292  wamena papua kembali membara , kantor bupati d...      \n5293         bmkg angkat bicara soal langit merah jambi      \n5294  operasional bandara wamena dihentikan akibat r...      \n5295  asap karhutla riau mulai merambah ke nias , bm...      \n5296  tolak ruu pertanahan , ribuan petani siap gela...      \n\n                                                      2  \n0     masuk radar pilwalkot medan , menantu jokowi b...  \n1     malaysia sudutkan ri : isu kabut asap hingga i...  \n2     kemensos salurkan rp 7 , 3 m bagi korban kerus...  \n3     mpr : amandemen uud 1945 tak akan melebar ke m...  \n4     peringati tahun baru islam , banyuwangi kembal...  \n...                                                 ...  \n5292  wamena papua kembali membara , kantor bupati d...  \n5293         bmkg angkat bicara soal langit merah jambi  \n5294  operasional bandara wamena dihentikan akibat r...  \n5295  asap karhutla riau mulai merambah ke nias , bm...  \n5296  tolak ruu pertanahan , ribuan petani siap gela...  \n\n[5297 rows x 3 columns]",
      "text/html": "<div>\n<style scoped>\n    .dataframe tbody tr th:only-of-type {\n        vertical-align: middle;\n    }\n\n    .dataframe tbody tr th {\n        vertical-align: top;\n    }\n\n    .dataframe thead th {\n        text-align: right;\n    }\n</style>\n<table border=\"1\" class=\"dataframe\">\n  <thead>\n    <tr style=\"text-align: right;\">\n      <th></th>\n      <th>0</th>\n      <th>1</th>\n      <th>2</th>\n    </tr>\n  </thead>\n  <tbody>\n    <tr>\n      <th>0</th>\n      <td>masuk radar pilwalkot medan , menantu jokowi b...</td>\n      <td></td>\n      <td>masuk radar pilwalkot medan , menantu jokowi b...</td>\n    </tr>\n    <tr>\n      <th>1</th>\n      <td>malaysia sudutkan ri : isu kabut asap hingga i...</td>\n      <td></td>\n      <td>malaysia sudutkan ri : isu kabut asap hingga i...</td>\n    </tr>\n    <tr>\n      <th>2</th>\n      <td>kemensos salurkan rp 7 , 3 m bagi korban kerus...</td>\n      <td></td>\n      <td>kemensos salurkan rp 7 , 3 m bagi korban kerus...</td>\n    </tr>\n    <tr>\n      <th>3</th>\n      <td>mpr : amandemen uud 1945 tak akan melebar ke m...</td>\n      <td></td>\n      <td>mpr : amandemen uud 1945 tak akan melebar ke m...</td>\n    </tr>\n    <tr>\n      <th>4</th>\n      <td>peringati tahun baru islam , banyuwangi kembal...</td>\n      <td></td>\n      <td>peringati tahun baru islam , banyuwangi kembal...</td>\n    </tr>\n    <tr>\n      <th>...</th>\n      <td>...</td>\n      <td>...</td>\n      <td>...</td>\n    </tr>\n    <tr>\n      <th>5292</th>\n      <td>wamena papua kembali membara , kantor bupati d...</td>\n      <td></td>\n      <td>wamena papua kembali membara , kantor bupati d...</td>\n    </tr>\n    <tr>\n      <th>5293</th>\n      <td>bmkg angkat bicara soal langit merah jambi</td>\n      <td></td>\n      <td>bmkg angkat bicara soal langit merah jambi</td>\n    </tr>\n    <tr>\n      <th>5294</th>\n      <td>operasional bandara wamena dihentikan akibat r...</td>\n      <td></td>\n      <td>operasional bandara wamena dihentikan akibat r...</td>\n    </tr>\n    <tr>\n      <th>5295</th>\n      <td>asap karhutla riau mulai merambah ke nias , bm...</td>\n      <td></td>\n      <td>asap karhutla riau mulai merambah ke nias , bm...</td>\n    </tr>\n    <tr>\n      <th>5296</th>\n      <td>tolak ruu pertanahan , ribuan petani siap gela...</td>\n      <td></td>\n      <td>tolak ruu pertanahan , ribuan petani siap gela...</td>\n    </tr>\n  </tbody>\n</table>\n<p>5297 rows × 3 columns</p>\n</div>"
     },
     "execution_count": 34,
     "metadata": {},
     "output_type": "execute_result"
    }
   ],
   "source": [
    "pnc = pd.DataFrame(pairs_nonclick)\n",
    "pnc"
   ],
   "metadata": {
    "collapsed": false
   }
  },
  {
   "cell_type": "code",
   "execution_count": 35,
   "outputs": [
    {
     "name": "stdout",
     "output_type": "stream",
     "text": [
      "Counted words:\n",
      "input 13924\n",
      "output 13896\n"
     ]
    }
   ],
   "source": [
    "# for pair in pairs:\n",
    "#     input_lang.addSentence(pair[0])\n",
    "#     output_lang.addSentence(pair[1])\n",
    "# for pair in pairs:\n",
    "#     input_lang.addSentence(pair[1])\n",
    "#     output_lang.addSentence(pair[0])\n",
    "\n",
    "print(\"Counted words:\")\n",
    "print(input_lang.name, input_lang.n_words)\n",
    "print(output_lang.name, output_lang.n_words)"
   ],
   "metadata": {
    "collapsed": false
   }
  },
  {
   "cell_type": "markdown",
   "source": [
    "# Dataset:  Train, Validation, Test Split [100% Done]"
   ],
   "metadata": {
    "collapsed": false
   }
  },
  {
   "cell_type": "code",
   "execution_count": 36,
   "outputs": [],
   "source": [
    "def train_val_dataset(dataset, val_split=0.25):\n",
    "    train_idx, val_idx = train_test_split(list(range(len(dataset))), test_size=val_split)\n",
    "    datasets = {}\n",
    "    datasets['train'] = Subset(dataset, train_idx)\n",
    "    datasets['val'] = Subset(dataset, val_idx)\n",
    "    return datasets"
   ],
   "metadata": {
    "collapsed": false
   }
  },
  {
   "cell_type": "code",
   "execution_count": 70,
   "outputs": [],
   "source": [
    "from sklearn.model_selection import train_test_split\n",
    "\n",
    "train_data, test_data = train_test_split(pairs, test_size=0.3, random_state=42)\n",
    "# train_data, test_data = train_test_split(pairs, test_size=0.3, random_state=42)\n",
    "train_data, test_data  = train_test_split(pairs, test_size=0.2, random_state=42)\n",
    "train_data, validation_data = train_test_split(train_data, test_size=0.18, random_state=42)"
   ],
   "metadata": {
    "collapsed": false
   }
  },
  {
   "cell_type": "code",
   "execution_count": 71,
   "outputs": [
    {
     "name": "stdout",
     "output_type": "stream",
     "text": [
      "Number of training examples: 9840\n",
      "Number of testing examples: 3000\n",
      "Number of validation examples: 2160\n"
     ]
    }
   ],
   "source": [
    "print(f\"Number of training examples: {len(train_data)}\")\n",
    "print(f\"Number of testing examples: {len(test_data)}\")\n",
    "print(f\"Number of validation examples: {len(validation_data)}\")"
   ],
   "metadata": {
    "collapsed": false
   }
  },
  {
   "cell_type": "code",
   "execution_count": 72,
   "outputs": [
    {
     "name": "stdout",
     "output_type": "stream",
     "text": [
      "['kesaksian petugas bpdb yang bertemu beruang buas saat jalankan tugas padamkan kebakaran hutan', 'kesaksian petugas bpdb yang bertemu beruang buas saat jalankan tugas padamkan kebakaran hutan', 1]\n",
      "['bekasi gandeng 3 perusahaan olah sampah jadi listrik', 'bekasi gandeng 3 perusahaan olah sampah jadi listrik', 0]\n",
      "['menjajal lenovo v330-14arr , laptop 14 inci dengan amd ryzen 3', 'menjajal lenovo v330-14arr , laptop 14 inci dengan amd ryzen 3', 1]\n"
     ]
    }
   ],
   "source": [
    "print(f\"{train_data[0]}\")\n",
    "print(test_data[0])\n",
    "print(validation_data[0])"
   ],
   "metadata": {
    "collapsed": false
   }
  },
  {
   "cell_type": "markdown",
   "source": [
    "\n",
    "# STAGE 3: NN Model : Encoder, Decoder, Seq2Seq [100% Done]"
   ],
   "metadata": {
    "collapsed": false
   }
  },
  {
   "cell_type": "code",
   "execution_count": 40,
   "outputs": [],
   "source": [
    "class Maxout(nn.Module):\n",
    "    def __init__(self, pool_size):\n",
    "        super().__init__()\n",
    "        self._pool_size = pool_size\n",
    "\n",
    "    def forward(self, x):\n",
    "        assert x.shape[1] % self._pool_size == 0, \\\n",
    "            'Wrong input last dim size ({}) for Maxout({})'.format(x.shape[1], self._pool_size)\n",
    "        m, i = x.view(*x.shape[:1], x.shape[1] // self._pool_size, self._pool_size, *x.shape[2:]).max(2)\n",
    "        return m"
   ],
   "metadata": {
    "collapsed": false
   }
  },
  {
   "cell_type": "code",
   "execution_count": 41,
   "outputs": [],
   "source": [
    "class EncoderRNN(nn.Module):\n",
    "    def __init__(self, input_size, word_vec_size, hidden_size, weight):\n",
    "        super(EncoderRNN, self).__init__()\n",
    "        self.hidden_size = hidden_size\n",
    "\n",
    "        # self.embedding = nn.Embedding(input_size, word_vec_size)\n",
    "        self.embedding = nn.Embedding.from_pretrained(weight)\n",
    "\n",
    "        self.gru = nn.GRU(word_vec_size, hidden_size)\n",
    "\n",
    "    def forward(self, input, hidden):\n",
    "        embedded = self.embedding(input).view(1, 1, -1)\n",
    "        output = embedded\n",
    "        output, hidden = self.gru(output, hidden)\n",
    "        return output, hidden\n",
    "\n",
    "    def initHidden(self):\n",
    "        return torch.zeros(1, 1, self.hidden_size, device=device)"
   ],
   "metadata": {
    "collapsed": false
   }
  },
  {
   "cell_type": "code",
   "execution_count": 42,
   "outputs": [],
   "source": [
    "class DecoderRNN(nn.Module):\n",
    "    def __init__(self, hidden_size, word_vec_size, output_size, weight):\n",
    "        super(DecoderRNN, self).__init__()\n",
    "        self.hidden_size = hidden_size\n",
    "\n",
    "        # self.embedding = nn.Embedding(output_size, word_vec_size)\n",
    "        self.embedding = nn.Embedding.from_pretrained(weight)\n",
    "\n",
    "        self.gru = nn.GRU(word_vec_size, hidden_size)\n",
    "        self.out = nn.Linear(hidden_size, output_size)\n",
    "        self.softmax = nn.LogSoftmax(dim=1)\n",
    "        self.maxout = Maxout(1)\n",
    "\n",
    "    def forward(self, input, hidden):\n",
    "        output = self.embedding(input).view(1, 1, -1)\n",
    "        output = self.maxout(output)\n",
    "        output, hidden = self.gru(output, hidden)\n",
    "        output = self.softmax(self.out(output[0]))\n",
    "        return output, hidden\n",
    "\n",
    "    def initHidden(self):\n",
    "        return torch.zeros(1, 1, self.hidden_size, device=device)"
   ],
   "metadata": {
    "collapsed": false
   }
  },
  {
   "cell_type": "markdown",
   "source": [
    "# STAGE 5: Improvement : Add fast text model"
   ],
   "metadata": {
    "collapsed": false
   }
  },
  {
   "cell_type": "code",
   "execution_count": 43,
   "outputs": [],
   "source": [
    "# !pip install --upgrade gensim"
   ],
   "metadata": {
    "collapsed": false
   }
  },
  {
   "cell_type": "code",
   "execution_count": 50,
   "outputs": [],
   "source": [
    "from gensim.models.fasttext import load_facebook_model\n",
    "\n",
    "ft = load_facebook_model('fastext_model_tweet.bin')"
   ],
   "metadata": {
    "collapsed": false
   }
  },
  {
   "cell_type": "code",
   "execution_count": 51,
   "outputs": [],
   "source": [
    "# fast_text_path = \"2022_thesis_styletransfer/cp_fastext_model_tweet.bin\"\n",
    "# ft = load_facebook_model(fast_text_path)\n",
    "\n",
    "\n",
    "# fast_text_path = \"/content/drive/MyDrive/nlp_research/2022_thesis_styletransfer/cc.id.300.bin\"\n",
    "# ft = load_facebook_model(fast_text_path)\n",
    "\n",
    "# fast_text_path_mega = \"/content/drive/MyDrive/nlp_research/2022_thesis_styletransfer/fasttext.4B.id.300.epoch5.uncased.bin\"\n",
    "# ft = load_facebook_model(fast_text_path_mega)"
   ],
   "metadata": {
    "collapsed": false
   }
  },
  {
   "cell_type": "code",
   "execution_count": 52,
   "outputs": [
    {
     "data": {
      "text/plain": "100"
     },
     "execution_count": 52,
     "metadata": {},
     "output_type": "execute_result"
    }
   ],
   "source": [
    "ft.vector_size"
   ],
   "metadata": {
    "collapsed": false
   }
  },
  {
   "cell_type": "code",
   "execution_count": 53,
   "outputs": [],
   "source": [
    "embedding_matrix_ft_input = np.random.random((input_lang.n_words , ft.vector_size))\n",
    "embedding_matrix_ft_output = np.random.random((output_lang.n_words, ft.vector_size))\n",
    "\n",
    "embedding_matrix_ft_input_test = np.random.random((input_lang.n_words , ft.vector_size))\n",
    "\n",
    "# torch.zeros(max_length, encoder_a.hidden_size, device=device)"
   ],
   "metadata": {
    "collapsed": false
   }
  },
  {
   "cell_type": "code",
   "execution_count": 54,
   "outputs": [
    {
     "name": "stdout",
     "output_type": "stream",
     "text": [
      "17838\n",
      "100\n"
     ]
    }
   ],
   "source": [
    "print(input_lang.n_words)\n",
    "print(ft.vector_size)"
   ],
   "metadata": {
    "collapsed": false
   }
  },
  {
   "cell_type": "code",
   "execution_count": 55,
   "outputs": [],
   "source": [
    "for i, word in input_lang.index2word.items():\n",
    "    try:\n",
    "        embedding_matrix_ft_input[i] = ft.wv[word]\n",
    "    except:\n",
    "        pass\n",
    "\n",
    "for i, word in output_lang.index2word.items():\n",
    "    try:\n",
    "        embedding_matrix_ft_output[i] = ft.wv[word]\n",
    "    except:\n",
    "        pass"
   ],
   "metadata": {
    "collapsed": false
   }
  },
  {
   "cell_type": "code",
   "execution_count": 56,
   "outputs": [],
   "source": [
    "embedding_matrix_ft_input = torch.from_numpy(embedding_matrix_ft_input)\n",
    "embedding_matrix_ft_output = torch.from_numpy(embedding_matrix_ft_output)"
   ],
   "metadata": {
    "collapsed": false
   }
  },
  {
   "cell_type": "code",
   "execution_count": 57,
   "outputs": [
    {
     "name": "stdout",
     "output_type": "stream",
     "text": [
      "tensor([[-7.4259e-02,  1.6886e-01,  1.8216e-01,  ...,  9.6468e-02,\n",
      "          2.2153e-01, -5.3748e-02],\n",
      "        [-3.0592e-03, -1.5431e-03, -2.3437e-04,  ...,  1.4830e-03,\n",
      "          2.1542e-03, -1.5045e-03],\n",
      "        [ 9.2200e-02,  3.7329e-01, -5.2906e-01,  ..., -2.1978e-01,\n",
      "         -3.4488e-01, -5.9725e-01],\n",
      "        ...,\n",
      "        [-1.6759e-01,  1.6140e-01, -2.9487e-01,  ...,  2.0729e-01,\n",
      "          1.1030e-01, -8.4823e-02],\n",
      "        [-3.5527e-01,  1.1764e-01, -1.5893e-01,  ..., -3.5791e-01,\n",
      "         -8.7237e-02,  3.3565e-01],\n",
      "        [-3.8605e-01,  2.8141e-01, -4.0936e-01,  ...,  2.4223e-01,\n",
      "          3.4425e-01,  1.4227e-01]])\n"
     ]
    }
   ],
   "source": [
    "embedding_matrix_ft_output = embedding_matrix_ft_output.float()\n",
    "embedding_matrix_ft_input = embedding_matrix_ft_input.float()\n",
    "\n",
    "print(embedding_matrix_ft_output)"
   ],
   "metadata": {
    "collapsed": false
   }
  },
  {
   "cell_type": "code",
   "execution_count": 58,
   "outputs": [
    {
     "data": {
      "text/plain": "torch.Size([18268, 100])"
     },
     "execution_count": 58,
     "metadata": {},
     "output_type": "execute_result"
    }
   ],
   "source": [
    "embedding_matrix_ft_output.size()"
   ],
   "metadata": {
    "collapsed": false
   }
  },
  {
   "cell_type": "markdown",
   "source": [
    "# STAGE 3: Word to Index Conversion"
   ],
   "metadata": {
    "collapsed": false
   }
  },
  {
   "cell_type": "code",
   "execution_count": 52,
   "outputs": [],
   "source": [
    "#Preparing Training Data\n",
    "def indexesFromSentence(lang, sentence):\n",
    "    return [lang.word2index[word] for word in sentence.split(' ')]\n",
    "\n",
    "\n",
    "def tensorFromSentence(lang, sentence):\n",
    "    indexes = indexesFromSentence(lang, sentence)\n",
    "    indexes.append(EOS_token)\n",
    "    # print(\"Indexes\", indexes )\n",
    "    return torch.tensor(indexes, dtype=torch.long, device=device).view(-1, 1)\n",
    "\n",
    "\n",
    "def tensorsFromPair(pair):\n",
    "    input_c_tensor = tensorFromSentence(input_lang, pair[0])\n",
    "    input_a_tensor = tensorFromSentence(input_lang, pair[1])\n",
    "    target_tensor = tensorFromSentence(output_lang, pair[2])\n",
    "    # print(input_c_tensor)\n",
    "    # print(input_a_tensor)\n",
    "    return (input_c_tensor, input_a_tensor, target_tensor)"
   ],
   "metadata": {
    "collapsed": false
   }
  },
  {
   "cell_type": "code",
   "execution_count": 53,
   "outputs": [
    {
     "data": {
      "text/plain": "[(tensor([[  614],\n          [ 7197],\n          [ 1613],\n          [   34],\n          [  408],\n          [    6],\n          [ 1289],\n          [ 2056],\n          [   17],\n          [  249],\n          [10825],\n          [    1]]),\n  tensor([[13],\n          [ 1]]),\n  tensor([[  613],\n          [ 7195],\n          [ 1607],\n          [   33],\n          [  407],\n          [    6],\n          [ 1282],\n          [ 2050],\n          [   16],\n          [  248],\n          [10826],\n          [    1]]))]"
     },
     "execution_count": 53,
     "metadata": {},
     "output_type": "execute_result"
    }
   ],
   "source": [
    "training_pairs = [tensorsFromPair(random.choice(pairs_click)) for i in range(1)]\n",
    "training_pairs"
   ],
   "metadata": {
    "collapsed": false
   }
  },
  {
   "cell_type": "code",
   "execution_count": 54,
   "outputs": [],
   "source": [
    "#Training\n",
    "MAX_LENGTH = 50\n",
    "\n",
    "teacher_forcing_ratio = 0.5\n",
    "\n",
    "\n",
    "def train(input_c_tensor, input_a_tensor, target_tensor, encoder_c, encoder_a, decoder, encoder_c_optimizer, encoder_a_optimizer, decoder_optimizer, criterion, max_length=MAX_LENGTH):\n",
    "    encoder_c_hidden = encoder_c.initHidden()\n",
    "    encoder_a_hidden = encoder_a.initHidden()\n",
    "\n",
    "    # print(\"encoder_a_hidden\", encoder_a_hidden)\n",
    "\n",
    "    encoder_a_optimizer.zero_grad()\n",
    "    encoder_c_optimizer.zero_grad()\n",
    "    decoder_optimizer.zero_grad()\n",
    "\n",
    "    input_c_length = input_c_tensor.size(0)\n",
    "    input_a_length = input_a_tensor.size(0)\n",
    "    target_length = target_tensor.size(0)\n",
    "\n",
    "    encoder_c_outputs = torch.zeros(max_length, encoder_c.hidden_size, device=device)\n",
    "    encoder_a_outputs = torch.zeros(max_length, encoder_a.hidden_size, device=device)\n",
    "\n",
    "    loss = 0\n",
    "\n",
    "    for ei in range(input_c_length):\n",
    "        encoder_c_output, encoder_c_hidden = encoder_c(\n",
    "            input_c_tensor[ei], encoder_c_hidden)\n",
    "        encoder_c_outputs[ei] = encoder_c_output[0, 0]\n",
    "\n",
    "    for ei in range(input_a_length):\n",
    "        encoder_a_output, encoder_a_hidden = encoder_a(\n",
    "            input_a_tensor[ei], encoder_a_hidden)\n",
    "        encoder_a_outputs[ei] = encoder_a_output[0, 0]\n",
    "\n",
    "\n",
    "    decoder_input = torch.tensor([[SOS_token]], device=device)\n",
    "    decoder_hidden = torch.cat((encoder_c_hidden, encoder_a_hidden), 2)\n",
    "\n",
    "    use_teacher_forcing = True if random.random() < teacher_forcing_ratio else False\n",
    "\n",
    "    if use_teacher_forcing:\n",
    "        # Teacher forcing: Feed the target as the next input\n",
    "        for di in range(target_length):\n",
    "            decoder_output, decoder_hidden = decoder(decoder_input, decoder_hidden)\n",
    "            loss += criterion(decoder_output, target_tensor[di])\n",
    "            decoder_input = target_tensor[di]  # Teacher forcing\n",
    "\n",
    "    else:\n",
    "        # Without teacher forcing: use its own predictions as the next input\n",
    "        for di in range(target_length):\n",
    "            decoder_output, decoder_hidden = decoder(decoder_input, decoder_hidden)\n",
    "            topv, topi = decoder_output.topk(1)\n",
    "            decoder_input = topi.squeeze().detach()  # detach from history as input\n",
    "\n",
    "            loss += criterion(decoder_output, target_tensor[di])\n",
    "            if decoder_input.item() == EOS_token:\n",
    "                break\n",
    "\n",
    "    loss.backward()\n",
    "\n",
    "    encoder_c_optimizer.step()\n",
    "    encoder_a_optimizer.step()\n",
    "    decoder_optimizer.step()\n",
    "\n",
    "    return loss.item() / target_length"
   ],
   "metadata": {
    "collapsed": false
   }
  },
  {
   "cell_type": "markdown",
   "source": [
    "# STAGE 3: NN Model : Training Architecture"
   ],
   "metadata": {
    "collapsed": false
   }
  },
  {
   "cell_type": "code",
   "execution_count": 55,
   "outputs": [],
   "source": [
    "import time\n",
    "import math\n",
    "\n",
    "def asMinutes(s):\n",
    "    m = math.floor(s / 60)\n",
    "    s -= m * 60\n",
    "    return '%dm %ds' % (m, s)\n",
    "\n",
    "\n",
    "def timeSince(since, percent):\n",
    "    now = time.time()\n",
    "    s = now - since\n",
    "    es = s / (percent)\n",
    "    rs = es - s\n",
    "    return '%s (- %s)' % (asMinutes(s), asMinutes(rs))"
   ],
   "metadata": {
    "collapsed": false
   }
  },
  {
   "cell_type": "code",
   "execution_count": 56,
   "outputs": [],
   "source": [
    "import matplotlib.pyplot as plt\n",
    "plt.switch_backend('agg')\n",
    "import matplotlib.ticker as ticker\n",
    "import numpy as np\n",
    "\n",
    "\n",
    "def showPlot(points):\n",
    "    plt.figure()\n",
    "    fig, ax = plt.subplots()\n",
    "    # this locator puts ticks at regular intervals\n",
    "    loc = ticker.MultipleLocator(base=0.2)\n",
    "    ax.yaxis.set_major_locator(loc)\n",
    "    plt.plot(points)"
   ],
   "metadata": {
    "collapsed": false
   }
  },
  {
   "cell_type": "code",
   "execution_count": 73,
   "outputs": [
    {
     "name": "stdout",
     "output_type": "stream",
     "text": [
      "Number of training examples: 13500\n",
      "Number of testing examples: 1500\n",
      "['satu calon kades kalap dan histeris usai dibatalkan mendadak', 'satu calon kades kalap dan histeris usai dibatalkan mendadak', 0]\n",
      "['bekasi gandeng 3 perusahaan olah sampah jadi listrik', 'bekasi gandeng 3 perusahaan olah sampah jadi listrik', 0]\n"
     ]
    }
   ],
   "source": [
    "from sklearn.model_selection import train_test_split\n",
    "\n",
    "train_data, test_data = train_test_split(pairs, test_size=0.1, random_state=42)\n",
    "print(f\"Number of training examples: {len(train_data)}\")\n",
    "print(f\"Number of testing examples: {len(test_data)}\")\n",
    "print(f\"{train_data[0]}\")\n",
    "print(test_data[0])"
   ],
   "metadata": {
    "collapsed": false
   }
  },
  {
   "cell_type": "code",
   "execution_count": 57,
   "outputs": [],
   "source": [
    "def trainIters(\n",
    "        encoder_a,\n",
    "        encoder_c,\n",
    "        decoder,\n",
    "        n_iters,\n",
    "\n",
    "        criterion,\n",
    "        encoder_c_optimizer,\n",
    "        encoder_a_optimizer,\n",
    "        decoder_optimizer,\n",
    "\n",
    "        print_every=1000,\n",
    "        plot_every=100,\n",
    "        learning_rate=0.01):\n",
    "\n",
    "    encoder_a.train()\n",
    "    encoder_c.train()\n",
    "    decoder.train()\n",
    "\n",
    "    start = time.time()\n",
    "    plot_losses = []\n",
    "    print_loss_total = 0  # Reset every print_every\n",
    "    plot_loss_total = 0  # Reset every plot_every\n",
    "\n",
    "    # encoder_c_optimizer = optim.Adadelta(encoder_c.parameters(), lr=learning_rate)\n",
    "    # encoder_a_optimizer = optim.Adadelta(encoder_a.parameters(), lr=learning_rate)\n",
    "    # decoder_optimizer = optim.Adadelta(decoder.parameters(), lr=learning_rate)\n",
    "    # training_pairs = [tensorsFromPair(random.choice(pairs)) for i in range(n_iters)]\n",
    "\n",
    "    # training_pairs = [tensorsFromPair(random.choice(pairs_click)) for i in range(n_iters)]\n",
    "    training_pairs = [tensorsFromPair(train_data[i])for i in range(n_iters)]\n",
    "    # training_pairs = [tensorsFromPair(random.choice(pairs)) for i in range(n_iters)]\n",
    "\n",
    "    # criterion = nn.NLLLoss()\n",
    "\n",
    "    ouput_loss_total = 0\n",
    "\n",
    "    for iter in range(1, n_iters + 1):\n",
    "\n",
    "        training_pair = training_pairs[iter - 1]\n",
    "        input_a_tensor = training_pair[0]\n",
    "        input_c_tensor = training_pair[1]\n",
    "        target_tensor = training_pair[2]\n",
    "\n",
    "        loss = train(input_c_tensor, input_a_tensor, target_tensor,\n",
    "                     encoder_c, encoder_a, decoder,\n",
    "                     encoder_c_optimizer, encoder_c_optimizer, decoder_optimizer,\n",
    "                     criterion)\n",
    "\n",
    "        print_loss_total += loss\n",
    "        plot_loss_total += loss\n",
    "        ouput_loss_total += loss\n",
    "\n",
    "        if iter % print_every == 0:\n",
    "            print_loss_avg = print_loss_total / print_every\n",
    "            print_loss_total = 0\n",
    "            print('%s (%d %d%%) %.4f' % (timeSince(start, iter / n_iters),\n",
    "                                         iter, iter / n_iters * 100, print_loss_avg))\n",
    "    #\n",
    "    #     if iter % plot_every == 0:\n",
    "    #         plot_loss_avg = plot_loss_total / plot_every\n",
    "    #         plot_losses.append(plot_loss_avg)\n",
    "    #         plot_loss_total = 0\n",
    "    #\n",
    "    # showPlot(plot_losses)\n",
    "\n",
    "    return ouput_loss_total/n_iters"
   ],
   "metadata": {
    "collapsed": false
   }
  },
  {
   "cell_type": "code",
   "execution_count": 58,
   "outputs": [],
   "source": [
    "def evaluating(\n",
    "        encoder_a,\n",
    "        encoder_c,\n",
    "        decoder,\n",
    "\n",
    "        criterion,\n",
    "        n_iters,\n",
    "        plot_every : int =10,\n",
    "        max_length=MAX_LENGTH\n",
    "):\n",
    "\n",
    "    encoder_a.eval()\n",
    "    encoder_c.eval()\n",
    "    decoder.eval()\n",
    "\n",
    "    plot_losses = []\n",
    "    plot_loss_total = 0\n",
    "    loss_total_output = 0\n",
    "\n",
    "    # training_pairs = [tensorsFromPair(random.choice(pairs_click)) for i in range(n_iters)]\n",
    "    # training_pairs = [tensorsFromPair(random.choice(pairs)) for i in range(n_iters)]\n",
    "    training_pairs = [tensorsFromPair(test_data[i])for i in range(n_iters)]\n",
    "\n",
    "    start: float = time.time()\n",
    "\n",
    "    with torch.no_grad():\n",
    "        for iter  in  range(1, n_iters + 1):\n",
    "            # taking the pair and extract the c, a, target\n",
    "            training_pair = training_pairs[iter - 1]\n",
    "            input_c_tensor = training_pair[0]\n",
    "            input_a_tensor = training_pair[1]\n",
    "            target_tensor = training_pair[2]\n",
    "\n",
    "            # START: eval func\n",
    "            # init hidden\n",
    "            encoder_c_hidden = encoder_c.initHidden()\n",
    "            encoder_a_hidden = encoder_a.initHidden()\n",
    "\n",
    "            # len of sentence of c, a, t, that already; e.g input_c_length= len(input_c_tensor)\n",
    "            input_c_length = input_c_tensor.size(0)\n",
    "            input_a_length = input_a_tensor.size(0)\n",
    "            target_length = target_tensor.size(0)\n",
    "\n",
    "            encoder_c_outputs = torch.zeros(max_length, encoder_c.hidden_size, device=device)\n",
    "            encoder_a_outputs = torch.zeros(max_length, encoder_a.hidden_size, device=device)\n",
    "\n",
    "            loss = 0\n",
    "\n",
    "            for ei in range(input_c_length):\n",
    "                encoder_c_output, encoder_c_hidden = encoder_c(input_c_tensor[ei], encoder_c_hidden)\n",
    "                encoder_c_outputs[ei] = encoder_c_output[0, 0]\n",
    "\n",
    "            for ei in range(input_a_length):\n",
    "                encoder_a_output, encoder_a_hidden = encoder_a(input_a_tensor[ei], encoder_a_hidden)\n",
    "                encoder_a_outputs[ei] = encoder_a_output[0, 0]\n",
    "\n",
    "            decoder_input = torch.tensor([[SOS_token]], device=device)\n",
    "            decoder_hidden = torch.cat((encoder_c_hidden, encoder_a_hidden), 2)\n",
    "\n",
    "            use_teacher_forcing = True if random.random() < teacher_forcing_ratio else False\n",
    "\n",
    "            if use_teacher_forcing:\n",
    "                # Teacher forcing: Feed the target as the next input\n",
    "                for di in range(target_length):\n",
    "                    decoder_output, decoder_hidden = decoder(\n",
    "                        decoder_input, decoder_hidden)\n",
    "                    loss += criterion(decoder_output, target_tensor[di])\n",
    "                    decoder_input = target_tensor[di]  # Teacher forcing\n",
    "\n",
    "            else:\n",
    "            # Without teacher forcing: use its own predictions as the next input\n",
    "                for di in range(target_length):\n",
    "                    decoder_output, decoder_hidden = decoder(\n",
    "                        decoder_input, decoder_hidden)\n",
    "                    topv, topi = decoder_output.topk(1)\n",
    "                    decoder_input = topi.squeeze().detach()  # detach from history as input\n",
    "\n",
    "                    loss += criterion(decoder_output, target_tensor[di])\n",
    "                    if decoder_input.item() == EOS_token:\n",
    "                        break\n",
    "\n",
    "            l = loss.item() / target_length\n",
    "            # END: Eval Func\n",
    "\n",
    "            loss_total_output += l\n",
    "            plot_loss_total += l\n",
    "\n",
    "            if iter % plot_every == 0:\n",
    "                plot_loss_avg = plot_loss_total / plot_every\n",
    "                plot_losses.append(plot_loss_avg)\n",
    "                # print('%s (%d %d%%) %.4f' % (timeSince(start, iter / n_iters),\n",
    "                #                              iter, iter / n_iters * 100, plot_loss_avg))\n",
    "                plot_loss_total = 0\n",
    "\n",
    "        # showPlot(plot_losses)\n",
    "\n",
    "    return loss_total_output/ n_iters"
   ],
   "metadata": {
    "collapsed": false
   }
  },
  {
   "cell_type": "code",
   "execution_count": 59,
   "outputs": [],
   "source": [
    "# word_vec_size = 128\n",
    "word_vec_size = ft.vector_size\n",
    "hidden_size = 512\n",
    "\n",
    "# encoder_c = EncoderRNN(input_lang.n_words, word_vec_size, hidden_size).to(device)\n",
    "# encoder_a = EncoderRNN(input_lang.n_words, word_vec_size, hidden_size).to(device)\n",
    "# decoder = DecoderRNN(hidden_size + hidden_size, word_vec_size, output_lang.n_words).to(device)\n",
    "\n",
    "encoder_c = EncoderRNN(input_lang.n_words, word_vec_size, hidden_size, embedding_matrix_ft_input).to(device)\n",
    "encoder_a = EncoderRNN(input_lang.n_words, word_vec_size, hidden_size, embedding_matrix_ft_input).to(device)\n",
    "\n",
    "decoder = DecoderRNN(hidden_size + hidden_size, word_vec_size, output_lang.n_words, embedding_matrix_ft_output).to(device)"
   ],
   "metadata": {
    "collapsed": false
   }
  },
  {
   "cell_type": "code",
   "execution_count": 60,
   "outputs": [
    {
     "name": "stdout",
     "output_type": "stream",
     "text": [
      "5297\n",
      "3316\n",
      "8613\n"
     ]
    }
   ],
   "source": [
    "# trainIters(encoder_c, encoder_a, decoder, 200, print_every=100)\n",
    "# len(pairs_click)\n",
    "print(len(pairs) - len(pairs_click))\n",
    "print(len(pairs_click))\n",
    "print(len(pairs))"
   ],
   "metadata": {
    "collapsed": false
   }
  },
  {
   "cell_type": "code",
   "execution_count": 61,
   "outputs": [],
   "source": [
    "def epoch_time(start_time, end_time):\n",
    "    elapsed_time = end_time - start_time\n",
    "    elapsed_mins = int(elapsed_time / 60)\n",
    "    elapsed_secs = int(elapsed_time - (elapsed_mins * 60))\n",
    "    return elapsed_mins, elapsed_secs"
   ],
   "metadata": {
    "collapsed": false
   }
  },
  {
   "cell_type": "code",
   "execution_count": 62,
   "outputs": [
    {
     "name": "stdout",
     "output_type": "stream",
     "text": [
      "0m 35s (- 22m 58s) (50 2%) 8.7313\n",
      "0m 57s (- 18m 12s) (100 5%) 5.5482\n",
      "1m 19s (- 16m 25s) (150 7%) 5.6318\n",
      "1m 46s (- 15m 54s) (200 10%) 5.9161\n",
      "2m 8s (- 14m 56s) (250 12%) 4.7780\n",
      "2m 30s (- 14m 14s) (300 15%) 5.3833\n",
      "2m 52s (- 13m 33s) (350 17%) 5.5071\n",
      "3m 16s (- 13m 4s) (400 20%) 5.9503\n",
      "3m 36s (- 12m 26s) (450 22%) 4.7532\n",
      "3m 59s (- 11m 57s) (500 25%) 5.2679\n",
      "4m 18s (- 11m 22s) (550 27%) 4.6226\n",
      "4m 39s (- 10m 53s) (600 30%) 4.7787\n",
      "4m 58s (- 10m 19s) (650 32%) 4.2902\n",
      "5m 17s (- 9m 50s) (700 35%) 4.2425\n",
      "5m 40s (- 9m 28s) (750 37%) 4.7355\n",
      "6m 0s (- 9m 0s) (800 40%) 3.5813\n",
      "6m 27s (- 8m 44s) (850 42%) 5.8347\n",
      "6m 49s (- 8m 20s) (900 45%) 3.9243\n",
      "7m 13s (- 7m 59s) (950 47%) 4.8169\n",
      "7m 37s (- 7m 37s) (1000 50%) 4.5308\n",
      "8m 0s (- 7m 14s) (1050 52%) 4.6374\n",
      "8m 18s (- 6m 47s) (1100 55%) 3.2666\n",
      "8m 37s (- 6m 22s) (1150 57%) 3.7249\n",
      "9m 2s (- 6m 1s) (1200 60%) 4.7659\n",
      "9m 23s (- 5m 37s) (1250 62%) 4.4472\n",
      "9m 47s (- 5m 16s) (1300 65%) 3.9644\n",
      "10m 13s (- 4m 55s) (1350 67%) 4.6762\n",
      "10m 37s (- 4m 33s) (1400 70%) 4.0658\n",
      "10m 57s (- 4m 9s) (1450 72%) 3.5984\n",
      "11m 13s (- 3m 44s) (1500 75%) 3.6750\n",
      "11m 30s (- 3m 20s) (1550 77%) 3.7932\n",
      "11m 49s (- 2m 57s) (1600 80%) 4.4924\n",
      "12m 9s (- 2m 34s) (1650 82%) 4.6201\n",
      "12m 31s (- 2m 12s) (1700 85%) 5.3779\n",
      "12m 56s (- 1m 50s) (1750 87%) 6.5898\n",
      "13m 21s (- 1m 29s) (1800 90%) 6.7187\n",
      "13m 50s (- 1m 7s) (1850 92%) 7.4636\n",
      "14m 18s (- 0m 45s) (1900 95%) 6.7783\n",
      "14m 44s (- 0m 22s) (1950 97%) 6.6077\n",
      "15m 9s (- 0m 0s) (2000 100%) 6.1708\n",
      "Epoch: 01 | Time: 15m 22s\n",
      "\tTrain Loss: 5.056 | Train PPL: 157.036\n",
      "\t Val. Loss: 5.595 |  Val. PPL: 268.989\n",
      "Done\n"
     ]
    }
   ],
   "source": [
    "n_t = len(train_data)\n",
    "n_e = len(test_data)\n",
    "N_EPOCHS = 20\n",
    "best_valid_loss = float('inf')\n",
    "\n",
    "learning_rate=0.1\n",
    "# learning_rate = 0.001\n",
    "\n",
    "encoder_c_optimizer = optim.Adadelta(encoder_c.parameters(), lr=learning_rate)\n",
    "encoder_a_optimizer = optim.Adadelta(encoder_a.parameters(), lr=learning_rate)\n",
    "decoder_optimizer = optim.Adadelta(decoder.parameters(), lr=learning_rate)\n",
    "\n",
    "# encoder_optimizer = optim.Adam(encoder1.parameters(),lr=learning_rate)\n",
    "# decoder_optimizer = optim.Adam(decoder1.parameters(), lr=learning_rate)\n",
    "# style_embedder_optimizer = optim.Adam(style_embedder1.parameters(), lr=learning_rate)\n",
    "\n",
    "# PATH = \"delete_only_model.pt\"\n",
    "PATH = \"/content/drive/MyDrive/nlp_research/2022_thesis_styletransfer/checkpoint/delete_retrieve/delete_retrive_model.pt\"\n",
    "MAIN_PATH = \"/content/drive/MyDrive/nlp_research/2022_thesis_styletransfer/checkpoint/delete_retrieve/\"\n",
    "\n",
    "TRAINING_DATASET_SIZE = n_t\n",
    "EVALUATION_DATASET_SIZE = n_e\n",
    "\n",
    "# criterion = nn.NLLLoss()\n",
    "criterion = nn.CrossEntropyLoss()\n",
    "\n",
    "plot_train_loss = []\n",
    "plot_eval_loss = []\n",
    "\n",
    "perplexity_train = []\n",
    "perplexity_eval = []\n",
    "\n",
    "\n",
    "for epoch in range(N_EPOCHS):\n",
    "\n",
    "    start_time = time.time()\n",
    "\n",
    "    train_loss = trainIters(\n",
    "        encoder_a,\n",
    "        encoder_c,\n",
    "        decoder,\n",
    "        TRAINING_DATASET_SIZE,\n",
    "\n",
    "        criterion,\n",
    "        encoder_c_optimizer,\n",
    "        encoder_a_optimizer,\n",
    "        decoder_optimizer,\n",
    "        print_every=50\n",
    "    )\n",
    "\n",
    "    valid_loss = evaluating(encoder_a, encoder_c, decoder, criterion, EVALUATION_DATASET_SIZE, plot_every=50)\n",
    "\n",
    "    plot_train_loss.append(train_loss)\n",
    "    plot_eval_loss.append(valid_loss)\n",
    "\n",
    "\n",
    "    perplexity_train.append(math.exp(train_loss))\n",
    "    perplexity_eval.append(math.exp(valid_loss))\n",
    "\n",
    "    end_time = time.time()\n",
    "    epoch_mins, epoch_secs = epoch_time(start_time, end_time)\n",
    "\n",
    "    if valid_loss < best_valid_loss:\n",
    "        best_valid_loss = valid_loss\n",
    "        torch.save(encoder_a.state_dict(), MAIN_PATH +  'encoder_a-model.pt')\n",
    "        torch.save(encoder_c.state_dict(), MAIN_PATH  + 'encoder_c-model.pt')\n",
    "        torch.save(decoder.state_dict(), MAIN_PATH + 'decoder-model.pt')\n",
    "\n",
    "        torch.save({\n",
    "            'epoch': epoch,\n",
    "            'encoder_c_state_dict': encoder_c.state_dict(),\n",
    "            'encoder_a_state_dict': encoder_a.state_dict(),\n",
    "            'decoder_state_dict': decoder.state_dict(),\n",
    "            'encoder_c_optimizer_state_dict': encoder_c_optimizer.state_dict(),\n",
    "            'encoder_a_optimizer_state_dict': encoder_a_optimizer.state_dict(),\n",
    "            'decoder_optimizer_state_dict': decoder_optimizer.state_dict(),\n",
    "            'loss': train_loss,\n",
    "        }, PATH)\n",
    "\n",
    "    print(f'Epoch: {epoch+1:02} | Time: {epoch_mins}m {epoch_secs}s')\n",
    "    print(f'\\tTrain Loss: {train_loss:.3f} | Train PPL: {math.exp(train_loss):7.3f}')\n",
    "    print(f'\\t Val. Loss: {valid_loss:.3f} |  Val. PPL: {math.exp(valid_loss):7.3f}')\n",
    "    print(\"Done\")\n",
    "\n",
    "showPlot(plot_train_loss)\n",
    "showPlot(plot_eval_loss)"
   ],
   "metadata": {
    "collapsed": false
   }
  },
  {
   "cell_type": "markdown",
   "source": [
    "# Stage 3: Testing the DeleteRetrieve to Generate Text"
   ],
   "metadata": {
    "collapsed": false
   }
  },
  {
   "cell_type": "code",
   "execution_count": 63,
   "outputs": [],
   "source": [
    "def encoderStep(encoder_c, encoder_a, c, a, max_length=MAX_LENGTH):\n",
    "    input_c_tensor = tensorFromSentence(input_lang, c)\n",
    "    input_a_tensor = tensorFromSentence(input_lang, a)\n",
    "\n",
    "    input_c_length = input_c_tensor.size()[0]\n",
    "    input_a_length = input_a_tensor.size()[0]\n",
    "\n",
    "    encoder_c_hidden = encoder_c.initHidden()\n",
    "    encoder_a_hidden = encoder_a.initHidden()\n",
    "\n",
    "    encoder_c_outputs = torch.zeros(max_length, encoder_c.hidden_size, device=device)\n",
    "    encoder_a_outputs = torch.zeros(max_length, encoder_a.hidden_size, device=device)\n",
    "\n",
    "    for ei in range(input_c_length):\n",
    "        encoder_c_output, encoder_c_hidden = encoder_c(input_c_tensor[ei],\n",
    "                                                       encoder_c_hidden)\n",
    "        encoder_c_outputs[ei] += encoder_c_output[0, 0]\n",
    "\n",
    "\n",
    "    for ei in range(input_a_length):\n",
    "        encoder_a_output, encoder_a_hidden = encoder_a(input_a_tensor[ei],\n",
    "                                                       encoder_a_hidden)\n",
    "        encoder_a_outputs[ei] += encoder_a_output[0, 0]\n",
    "\n",
    "\n",
    "\n",
    "    return torch.cat((encoder_c_hidden, encoder_a_hidden), 2)"
   ],
   "metadata": {
    "collapsed": false
   }
  },
  {
   "cell_type": "code",
   "execution_count": 64,
   "outputs": [],
   "source": [
    "def get_c_embedding(encoder_c, c, max_length=MAX_LENGTH):\n",
    "    input_c_tensor = tensorFromSentence(input_lang, c)\n",
    "\n",
    "    input_c_length = input_c_tensor.size()[0]\n",
    "\n",
    "    encoder_c_hidden = encoder_c.initHidden()\n",
    "\n",
    "    encoder_c_outputs = torch.zeros(max_length, encoder_c.hidden_size, device=device)\n",
    "\n",
    "    for ei in range(input_c_length):\n",
    "        encoder_c_output, encoder_c_hidden = encoder_c(input_c_tensor[ei],\n",
    "                                                       encoder_c_hidden)\n",
    "        encoder_c_outputs[ei] += encoder_c_output[0, 0]\n",
    "\n",
    "    return encoder_c_hidden"
   ],
   "metadata": {
    "collapsed": false
   }
  },
  {
   "cell_type": "code",
   "execution_count": 65,
   "outputs": [],
   "source": [
    "ALPHA = 0.7\n",
    "\n",
    "class Node:\n",
    "    def __init__(self, p_t, i, d_hidden, lvl, node_parent=None):\n",
    "        self.p_t = p_t\n",
    "        self.i = i\n",
    "        self.d_hidden = d_hidden\n",
    "        self.lvl = lvl\n",
    "        self.node_parent = node_parent\n",
    "\n",
    "        self.p_sentence = self.sentenceProb()\n",
    "\n",
    "    def prepareToDecode(self):\n",
    "        d_in = self.i.squeeze()#.detatch()\n",
    "        return d_in, self.d_hidden\n",
    "\n",
    "    def sentenceProb(self):\n",
    "        if self.node_parent == None:\n",
    "            return self.p_t\n",
    "        return self.node_parent.sentenceProb() + self.p_t #addition because of log\n",
    "\n",
    "    def normProb(self):\n",
    "        #Normalised probability\n",
    "        #         return 1/((self.lvl+1)**ALPHA) * self.sentenceProb()\n",
    "        #perplexity\n",
    "        return torch.exp(self.sentenceProb()) ** (-1/(self.lvl+1))\n",
    "\n",
    "    def getToken(self):\n",
    "        return output_lang.index2word[self.i.item()]\n",
    "\n",
    "    def getTokens(self):\n",
    "        token = [self.getToken()]\n",
    "\n",
    "        if(self.node_parent == None):\n",
    "            return token\n",
    "        else:\n",
    "            return self.node_parent.getTokens() + token\n",
    "\n",
    "    def getSentence(self):\n",
    "        return ' '.join(self.getTokens())"
   ],
   "metadata": {
    "collapsed": false
   }
  },
  {
   "cell_type": "code",
   "execution_count": 66,
   "outputs": [],
   "source": [
    "BEAM_WIDTH = 10\n",
    "\n",
    "def evaluate(encoder_c, encoder_a, decoder, c, a, max_length=MAX_LENGTH):\n",
    "    with torch.no_grad():\n",
    "        decoder_input = torch.tensor([[SOS_token]], device=device)  # SOS\n",
    "\n",
    "        decoder_hidden = encoderStep(encoder_c, encoder_a, c, a)\n",
    "        decoded_words = []\n",
    "\n",
    "        #BEAM SEARCH\n",
    "\n",
    "        nodes = []\n",
    "        finished_nodes = []\n",
    "        for di in range(max_length):\n",
    "            if di == 0:\n",
    "                decoder_output, decoder_hidden = decoder(decoder_input, decoder_hidden)\n",
    "                top_ps, top_is = decoder_output.data.topk(BEAM_WIDTH)\n",
    "                top_ps = top_ps.view(-1)\n",
    "                top_is = top_is.view(-1)\n",
    "                for index in range(len(top_is)):\n",
    "                    p_t = top_ps[index]\n",
    "                    i = top_is[index]\n",
    "                    nodes.append(Node(p_t, i, decoder_hidden, di))\n",
    "            else:\n",
    "                prev_nodes = [x for x in nodes if x.lvl == di-1]\n",
    "                prev_nodes = sorted(prev_nodes, key=lambda x: x.p_sentence.item(), reverse=True)\n",
    "                prev_nodes = prev_nodes[:BEAM_WIDTH]\n",
    "                nodes = []\n",
    "                for node in prev_nodes:\n",
    "                    decoder_output, decoder_hidden = decoder(*node.prepareToDecode())\n",
    "                    top_ps, top_is = decoder_output.data.topk(BEAM_WIDTH)\n",
    "                    top_ps = top_ps.view(-1)\n",
    "                    top_is = top_is.view(-1)\n",
    "\n",
    "                    for index in range(len(top_is)):\n",
    "                        p_t = top_ps[index]\n",
    "                        i = top_is[index]\n",
    "                        child_node = Node(p_t, i, decoder_hidden, di, node)\n",
    "\n",
    "                        if i.item() == EOS_token:\n",
    "                            finished_nodes.append(child_node)\n",
    "                        else:\n",
    "                            nodes.append(child_node)\n",
    "\n",
    "        final_node = sorted(finished_nodes, key=lambda x: x.p_sentence.item(), reverse=True)[0]\n",
    "        return final_node.getTokens()\n",
    "\n",
    "# evaluate(encoder_c, encoder_a, decoder, \"the food\", \"great\")"
   ],
   "metadata": {
    "collapsed": false
   }
  },
  {
   "cell_type": "code",
   "execution_count": 67,
   "outputs": [],
   "source": [
    "def evaluateWithoutBeamSearch(encoder_c, encoder_a, decoder, c, a, max_length=MAX_LENGTH):\n",
    "    with torch.no_grad():\n",
    "        decoder_input = torch.tensor([[SOS_token]], device=device)  # SOS\n",
    "\n",
    "        decoder_hidden = encoderStep(encoder_c, encoder_a, c, a)\n",
    "        decoded_words = []\n",
    "\n",
    "        #BEAM SEARCH\n",
    "        for di in range(max_length):\n",
    "            decoder_output, decoder_hidden = decoder(decoder_input, decoder_hidden)\n",
    "\n",
    "            topv, topi = F.softmax(decoder_output).data.topk(1)\n",
    "\n",
    "            if topi.item() == EOS_token:\n",
    "                decoded_words.append('<EOS>')\n",
    "                break\n",
    "            else:\n",
    "                decoded_words.append(output_lang.index2word[topi.item()])\n",
    "\n",
    "            decoder_input = topi.squeeze().detach()\n",
    "\n",
    "        return decoded_words\n",
    "# ' '.join(evaluateWithoutBeamSearch(encoder_c, encoder_a, decoder, \"the food is\", \"great\"))"
   ],
   "metadata": {
    "collapsed": false
   }
  },
  {
   "cell_type": "code",
   "execution_count": 68,
   "outputs": [],
   "source": [
    "def evaluateRandomly(encoder_c, encoder_a, decoder, n=10):\n",
    "    for i in range(n):\n",
    "        pair = random.choice(pairs)\n",
    "        print('>', pair[0])\n",
    "        print('=', pair[1])\n",
    "        output_words = evaluate(encoder_c, encoder_a, decoder, pair[0], pair[1])\n",
    "        output_sentence = ' '.join(output_words)\n",
    "        print('<', output_sentence)\n",
    "        print('')"
   ],
   "metadata": {
    "collapsed": false
   }
  },
  {
   "cell_type": "code",
   "execution_count": 69,
   "outputs": [
    {
     "name": "stdout",
     "output_type": "stream",
     "text": [
      "> agus rahardjo pastikan aktivitas kpk berjalan seperti biasa\n",
      "= \n",
      "< , EOS\n",
      "\n",
      "> haris azhar kritik menkumham soal gel ngan didenda rp 1 juta : gembel enggak nonton pidato \n",
      "= anda\n",
      "< , EOS\n",
      "\n",
      "> ishlah , kunci pengurusan anak yatim menurut alquran\n",
      "= apa kata\n",
      "< , EOS\n",
      "\n",
      ">  mirip , polisi tilang ayah kandungnya\n",
      "= ini ternyata\n",
      "< , EOS\n",
      "\n",
      "> anies cabut kasasi perkara lahan sodetan ciliwung era ahok di ma\n",
      "= \n",
      "< , EOS\n",
      "\n",
      "> tinggal di lingkungan sineas , tetangga joko anwar ada tara basro sampai dimas anggara\n",
      "= \n",
      "< , EOS\n",
      "\n",
      "> 850 personel polisi siap amankan itdbi 2019\n",
      "= \n",
      "< , EOS\n",
      "\n",
      "> menu sehat dari sdn sebabkan balita meninggal di koja \n",
      "= ?\n",
      "< , EOS\n",
      "\n",
      ">  wartawan rekam tindakan represif aparat polisi jadi \n",
      "= viral , sikap ini sorotan\n",
      "< , EOS\n",
      "\n",
      "> tiga bulan , 400 tangki air dikirim ke warga lamongan atasi kekeringan\n",
      "= \n",
      "< , EOS\n",
      "\n"
     ]
    }
   ],
   "source": [
    "evaluateRandomly(encoder_c, encoder_a, decoder)"
   ],
   "metadata": {
    "collapsed": false
   }
  },
  {
   "cell_type": "code",
   "execution_count": 70,
   "outputs": [],
   "source": [
    "def DeleteAndRetrieve(sentence, style):\n",
    "    c_src = separate(sentence, 0)['c']\n",
    "    a_tgt = ' '.join(retrieve(sentence, not style)['a'])\n",
    "    return ' '.join(evaluate(encoder_c, encoder_a, decoder, c_src, a_tgt))"
   ],
   "metadata": {
    "collapsed": false
   }
  },
  {
   "cell_type": "markdown",
   "source": [
    "# STAGE 4: ADDITIONAL: FULL COPY ONLY ONE EPOCH"
   ],
   "metadata": {
    "collapsed": false
   }
  },
  {
   "cell_type": "code",
   "execution_count": 71,
   "outputs": [],
   "source": [
    "# class Maxout(nn.Module):\n",
    "#     def __init__(self, pool_size):\n",
    "#         super().__init__()\n",
    "#         self._pool_size = pool_size\n",
    "#\n",
    "#     def forward(self, x):\n",
    "#         assert x.shape[1] % self._pool_size == 0, \\\n",
    "#             'Wrong input last dim size ({}) for Maxout({})'.format(x.shape[1], self._pool_size)\n",
    "#         m, i = x.view(*x.shape[:1], x.shape[1] // self._pool_size, self._pool_size, *x.shape[2:]).max(2)\n",
    "#         return m"
   ],
   "metadata": {
    "collapsed": false
   }
  },
  {
   "cell_type": "code",
   "execution_count": 72,
   "outputs": [],
   "source": [
    "# class EncoderRNN(nn.Module):\n",
    "#     def __init__(self, input_size, word_vec_size, hidden_size):\n",
    "#         super(EncoderRNN, self).__init__()\n",
    "#         self.hidden_size = hidden_size\n",
    "#\n",
    "#         self.embedding = nn.Embedding(input_size, word_vec_size)\n",
    "#         self.gru = nn.GRU(word_vec_size, hidden_size)\n",
    "#\n",
    "#     def forward(self, input, hidden):\n",
    "#         embedded = self.embedding(input).view(1, 1, -1)\n",
    "#         output = embedded\n",
    "#         output, hidden = self.gru(output, hidden)\n",
    "#         return output, hidden\n",
    "#\n",
    "#     def initHidden(self):\n",
    "#         return torch.zeros(1, 1, self.hidden_size, device=device)"
   ],
   "metadata": {
    "collapsed": false
   }
  },
  {
   "cell_type": "code",
   "execution_count": 73,
   "outputs": [],
   "source": [
    "# class DecoderRNN(nn.Module):\n",
    "#     def __init__(self, hidden_size, word_vec_size, output_size):\n",
    "#         super(DecoderRNN, self).__init__()\n",
    "#         self.hidden_size = hidden_size\n",
    "#         self.embedding = nn.Embedding(output_size, word_vec_size)\n",
    "#         self.gru = nn.GRU(word_vec_size, hidden_size)\n",
    "#         self.out = nn.Linear(hidden_size, output_size)\n",
    "#         self.softmax = nn.LogSoftmax(dim=1)\n",
    "#         self.maxout = Maxout(1)\n",
    "#\n",
    "#     def forward(self, input, hidden):\n",
    "#         output = self.embedding(input).view(1, 1, -1)\n",
    "#         output = self.maxout(output)\n",
    "#         output, hidden = self.gru(output, hidden)\n",
    "#         output = self.softmax(self.out(output[0]))\n",
    "#         return output, hidden\n",
    "#\n",
    "#     def initHidden(self):\n",
    "#         return torch.zeros(1, 1, self.hidden_size, device=device)"
   ],
   "metadata": {
    "collapsed": false
   }
  },
  {
   "cell_type": "code",
   "execution_count": 74,
   "outputs": [],
   "source": [
    "# #Preparing Training Data\n",
    "# def indexesFromSentence(lang, sentence):\n",
    "#     return [lang.word2index[word] for word in sentence.split(' ')]\n",
    "#\n",
    "#\n",
    "# def tensorFromSentence(lang, sentence):\n",
    "#     indexes = indexesFromSentence(lang, sentence)\n",
    "#     indexes.append(EOS_token)\n",
    "#     return torch.tensor(indexes, dtype=torch.long, device=device).view(-1, 1)\n",
    "#\n",
    "#\n",
    "# def tensorsFromPair(pair):\n",
    "#     input_c_tensor = tensorFromSentence(input_lang, pair[0])\n",
    "#     input_a_tensor = tensorFromSentence(input_lang, pair[1])\n",
    "#     target_tensor = tensorFromSentence(output_lang, pair[2])\n",
    "#     return (input_c_tensor, input_a_tensor, target_tensor)"
   ],
   "metadata": {
    "collapsed": false
   }
  },
  {
   "cell_type": "code",
   "execution_count": 75,
   "outputs": [],
   "source": [
    "# #Training\n",
    "# MAX_LENGTH = 50\n",
    "#\n",
    "# teacher_forcing_ratio = 0.5\n",
    "#\n",
    "#\n",
    "# def train(input_c_tensor, input_a_tensor, target_tensor, encoder_c, encoder_a, decoder, encoder_c_optimizer, encoder_a_optimizer, decoder_optimizer, criterion, max_length=MAX_LENGTH):\n",
    "#     encoder_c_hidden = encoder_c.initHidden()\n",
    "#     encoder_a_hidden = encoder_a.initHidden()\n",
    "#\n",
    "#     encoder_a_optimizer.zero_grad()\n",
    "#     encoder_c_optimizer.zero_grad()\n",
    "#\n",
    "#     decoder_optimizer.zero_grad()\n",
    "#\n",
    "#     input_c_length = input_c_tensor.size(0)\n",
    "#     input_a_length = input_a_tensor.size(0)\n",
    "#\n",
    "#     target_length = target_tensor.size(0)\n",
    "#\n",
    "#     encoder_c_outputs = torch.zeros(max_length, encoder_c.hidden_size, device=device)\n",
    "#     encoder_a_outputs = torch.zeros(max_length, encoder_a.hidden_size, device=device)\n",
    "#\n",
    "#     loss = 0\n",
    "#\n",
    "#     for ei in range(input_c_length):\n",
    "#         encoder_c_output, encoder_c_hidden = encoder_c(\n",
    "#             input_c_tensor[ei], encoder_c_hidden)\n",
    "#         encoder_c_outputs[ei] = encoder_c_output[0, 0]\n",
    "#\n",
    "#     for ei in range(input_a_length):\n",
    "#         encoder_a_output, encoder_a_hidden = encoder_a(\n",
    "#             input_a_tensor[ei], encoder_a_hidden)\n",
    "#         encoder_a_outputs[ei] = encoder_a_output[0, 0]\n",
    "#\n",
    "#\n",
    "#     decoder_input = torch.tensor([[SOS_token]], device=device)\n",
    "#\n",
    "#     decoder_hidden = torch.cat((encoder_c_hidden, encoder_a_hidden), 2)\n",
    "#\n",
    "#     use_teacher_forcing = True if random.random() < teacher_forcing_ratio else False\n",
    "#\n",
    "#     if use_teacher_forcing:\n",
    "#         # Teacher forcing: Feed the target as the next input\n",
    "#         for di in range(target_length):\n",
    "#             decoder_output, decoder_hidden = decoder(\n",
    "#                 decoder_input, decoder_hidden)\n",
    "#             loss += criterion(decoder_output, target_tensor[di])\n",
    "#             decoder_input = target_tensor[di]  # Teacher forcing\n",
    "#\n",
    "#     else:\n",
    "#         # Without teacher forcing: use its own predictions as the next input\n",
    "#         for di in range(target_length):\n",
    "#             decoder_output, decoder_hidden = decoder(\n",
    "#                 decoder_input, decoder_hidden)\n",
    "#             topv, topi = decoder_output.topk(1)\n",
    "#             decoder_input = topi.squeeze().detach()  # detach from history as input\n",
    "#\n",
    "#             loss += criterion(decoder_output, target_tensor[di])\n",
    "#             if decoder_input.item() == EOS_token:\n",
    "#                 break\n",
    "#\n",
    "#     loss.backward()\n",
    "#\n",
    "#     encoder_c_optimizer.step()\n",
    "#     encoder_a_optimizer.step()\n",
    "#     decoder_optimizer.step()\n",
    "#\n",
    "#     return loss.item() / target_length"
   ],
   "metadata": {
    "collapsed": false
   }
  },
  {
   "cell_type": "code",
   "execution_count": 76,
   "outputs": [],
   "source": [
    "# import time\n",
    "# import math\n",
    "#\n",
    "# def asMinutes(s):\n",
    "#     m = math.floor(s / 60)\n",
    "#     s -= m * 60\n",
    "#     return '%dm %ds' % (m, s)\n",
    "#\n",
    "#\n",
    "# def timeSince(since, percent):\n",
    "#     now = time.time()\n",
    "#     s = now - since\n",
    "#     es = s / (percent)\n",
    "#     rs = es - s\n",
    "#     return '%s (- %s)' % (asMinutes(s), asMinutes(rs))"
   ],
   "metadata": {
    "collapsed": false
   }
  },
  {
   "cell_type": "code",
   "execution_count": 77,
   "outputs": [],
   "source": [
    "# import matplotlib.pyplot as plt\n",
    "# plt.switch_backend('agg')\n",
    "# import matplotlib.ticker as ticker\n",
    "# import numpy as np\n",
    "#\n",
    "#\n",
    "# def showPlot(points):\n",
    "#     plt.figure()\n",
    "#     fig, ax = plt.subplots()\n",
    "#     # this locator puts ticks at regular intervals\n",
    "#     loc = ticker.MultipleLocator(base=0.2)\n",
    "#     ax.yaxis.set_major_locator(loc)\n",
    "#     plt.plot(points)"
   ],
   "metadata": {
    "collapsed": false
   }
  },
  {
   "cell_type": "code",
   "execution_count": 78,
   "outputs": [],
   "source": [
    "# def trainIters(encoder_a, encoder_c, decoder, n_iters, print_every=1000, plot_every=100, learning_rate=0.01):\n",
    "#     start = time.time()\n",
    "#     plot_losses = []\n",
    "#     print_loss_total = 0  # Reset every print_every\n",
    "#     plot_loss_total = 0  # Reset every plot_every\n",
    "#\n",
    "#     encoder_c_optimizer = optim.Adadelta(encoder_c.parameters(), lr=learning_rate)\n",
    "#     encoder_a_optimizer = optim.Adadelta(encoder_a.parameters(), lr=learning_rate)\n",
    "#     decoder_optimizer = optim.Adadelta(decoder.parameters(), lr=learning_rate)\n",
    "#     training_pairs = [tensorsFromPair(random.choice(pairs))\n",
    "#                       for i in range(n_iters)]\n",
    "#     criterion = nn.NLLLoss()\n",
    "#\n",
    "#     for iter in range(1, n_iters + 1):\n",
    "#         training_pair = training_pairs[iter - 1]\n",
    "#         input_a_tensor = training_pair[0]\n",
    "#         input_c_tensor = training_pair[1]\n",
    "#\n",
    "#         target_tensor = training_pair[2]\n",
    "#         loss = train(input_c_tensor, input_a_tensor, target_tensor, encoder_c, encoder_a,\n",
    "#                      decoder, encoder_c_optimizer, encoder_c_optimizer, decoder_optimizer, criterion)\n",
    "#         print_loss_total += loss\n",
    "#         plot_loss_total += loss\n",
    "#\n",
    "#         if iter % print_every == 0:\n",
    "#             print_loss_avg = print_loss_total / print_every\n",
    "#             print_loss_total = 0\n",
    "#             print('%s (%d %d%%) %.4f' % (timeSince(start, iter / n_iters),\n",
    "#                                          iter, iter / n_iters * 100, print_loss_avg))\n",
    "#\n",
    "#         if iter % plot_every == 0:\n",
    "#             plot_loss_avg = plot_loss_total / plot_every\n",
    "#             plot_losses.append(plot_loss_avg)\n",
    "#             plot_loss_total = 0\n",
    "#\n",
    "#     showPlot(plot_losses)"
   ],
   "metadata": {
    "collapsed": false
   }
  },
  {
   "cell_type": "code",
   "execution_count": 79,
   "outputs": [],
   "source": [
    "# word_vec_size = 128\n",
    "# hidden_size = 512\n",
    "# encoder_c = EncoderRNN(input_lang.n_words, word_vec_size, hidden_size).to(device)\n",
    "# encoder_a = EncoderRNN(input_lang.n_words, word_vec_size, hidden_size).to(device)\n",
    "#\n",
    "# decoder = DecoderRNN(hidden_size + hidden_size, word_vec_size, output_lang.n_words).to(device)"
   ],
   "metadata": {
    "collapsed": false
   }
  },
  {
   "cell_type": "code",
   "execution_count": 80,
   "outputs": [],
   "source": [
    "# trainIters(encoder_c, encoder_a, decoder, 8613, print_every=200)"
   ],
   "metadata": {
    "collapsed": false
   }
  },
  {
   "cell_type": "markdown",
   "source": [
    "# STAGE 5: DELETE ONLY FUNCTION"
   ],
   "metadata": {
    "collapsed": false
   }
  },
  {
   "cell_type": "code",
   "execution_count": 59,
   "outputs": [],
   "source": [
    "# Resources: https://pytorch.org/tutorials/intermediate/seq2seq_translation_tutorial.html\n",
    "# Had to modify & adapt most of the code in the tutorial since this isn't translation & data preprocessing is different\n",
    "\n",
    "SOS_token = 0\n",
    "EOS_token = 1\n",
    "\n",
    "\n",
    "class Lang:\n",
    "    def __init__(self, name):\n",
    "        self.name = name\n",
    "        self.word2index = {}\n",
    "        self.word2count = {}\n",
    "        self.index2word = {0: \"SOS\", 1: \"EOS\"}\n",
    "        self.n_words = 2  # Count SOS and EOS\n",
    "\n",
    "    def addSentence(self, sentence):\n",
    "        for word in sentence.split(' '):\n",
    "            self.addWord(word)\n",
    "\n",
    "    def addWord(self, word):\n",
    "        if word not in self.word2index:\n",
    "            self.word2index[word] = self.n_words\n",
    "            self.word2count[word] = 1\n",
    "            self.index2word[self.n_words] = word\n",
    "            self.n_words += 1\n",
    "        else:\n",
    "            self.word2count[word] += 1"
   ],
   "metadata": {
    "collapsed": false
   }
  },
  {
   "cell_type": "code",
   "execution_count": 60,
   "outputs": [],
   "source": [
    "param_t = 4\n",
    "\n",
    "def prepareData():\n",
    "    input_lang = Lang(\"input\")\n",
    "    output_lang = Lang(\"output\")\n",
    "\n",
    "    pairs = []\n",
    "    pairs_pos = []\n",
    "    pairs_neg = []\n",
    "\n",
    "    for sentence in clickbait_l_c:\n",
    "        comp = [get_c(sentence, 1, param_t), sentence, 1]\n",
    "        pairs_neg.append(comp)\n",
    "        pairs.append(comp)\n",
    "\n",
    "    for sentence in nonclickbait_l_c:\n",
    "        comp = [get_c(sentence, 0, param_t), sentence, 0]\n",
    "        pairs_pos.append(comp)\n",
    "        pairs.append(comp)\n",
    "\n",
    "    for pair in pairs:\n",
    "        input_lang.addSentence(pair[0])\n",
    "        output_lang.addSentence(pair[1])\n",
    "\n",
    "    print(\"Counted words:\")\n",
    "    print(input_lang.name, input_lang.n_words)\n",
    "    print(output_lang.name, output_lang.n_words)\n",
    "    return input_lang, output_lang, pairs, pairs_pos, pairs_neg"
   ],
   "metadata": {
    "collapsed": false
   }
  },
  {
   "cell_type": "code",
   "execution_count": 32,
   "outputs": [
    {
     "name": "stderr",
     "output_type": "stream",
     "text": [
      "/var/folders/1n/2gdy6g815s301ygx2s35p6_80000gp/T/ipykernel_2115/4054946038.py:16: VisibleDeprecationWarning: Creating an ndarray from ragged nested sequences (which is a list-or-tuple of lists-or-tuples-or ndarrays with different lengths or shapes) is deprecated. If you meant to do this, you must specify 'dtype=object' when creating the ndarray.\n",
      "  return np.array(ngram_compare_arr)\n"
     ]
    },
    {
     "name": "stdout",
     "output_type": "stream",
     "text": [
      "Counted words:\n",
      "input 17838\n",
      "output 18268\n"
     ]
    }
   ],
   "source": [
    "input_lang, output_lang, pairs, pairs_nonclick, pairs_nonclick  = prepareData()"
   ],
   "metadata": {
    "collapsed": false
   }
  },
  {
   "cell_type": "code",
   "execution_count": 63,
   "outputs": [
    {
     "name": "stdout",
     "output_type": "stream",
     "text": [
      "Counted words:\n",
      "input 17838\n",
      "output 18268\n"
     ]
    }
   ],
   "source": [
    "# for pair in pairs:\n",
    "#     input_lang.addSentence(pair[0])\n",
    "#     output_lang.addSentence(pair[1])\n",
    "# for pair in pairs:\n",
    "#     input_lang.addSentence(pair[1])\n",
    "#     output_lang.addSentence(pair[0])\n",
    "\n",
    "print(\"Counted words:\")\n",
    "print(input_lang.name, input_lang.n_words)\n",
    "print(output_lang.name, output_lang.n_words)"
   ],
   "metadata": {
    "collapsed": false
   }
  },
  {
   "cell_type": "code",
   "execution_count": 64,
   "outputs": [],
   "source": [
    "# class EncoderRNN(nn.Module):\n",
    "#     def __init__(self, input_size, word_vec_size, hidden_size, weight, dropout):\n",
    "#         super(EncoderRNN, self).__init__()\n",
    "#         self.hidden_size = hidden_size\n",
    "#\n",
    "#         # self.embedding = nn.Embedding(input_size, word_vec_size)\n",
    "#         self.embedding = nn.Embedding.from_pretrained(weight)\n",
    "#         self.gru = nn.GRU(word_vec_size, hidden_size)\n",
    "#         self.dropout = nn.Dropout(dropout)\n",
    "#\n",
    "#     def forward(self, input, hidden):\n",
    "#         embedded = self.embedding(input).view(1, 1, -1)\n",
    "#         embedded = self.dropout(embedded)\n",
    "#         output = embedded\n",
    "#         output, hidden = self.gru(output, hidden)\n",
    "#         return output, hidden\n",
    "#\n",
    "#     def initHidden(self):\n",
    "#         return torch.zeros(1, 1, self.hidden_size, device=device)\n",
    "\n",
    "# encoder1 = EncoderRNN(input_lang.n_words, word_vec_size, hidden_size, embedding_matrix_ft_input, ENC_DROPOUT).to(device)\n",
    "\n",
    "\n",
    "class EncoderRNN(nn.Module):\n",
    "    def __init__(self, input_size, word_vec_size, hidden_size, weight):\n",
    "        super(EncoderRNN, self).__init__()\n",
    "        self.hidden_size = hidden_size\n",
    "\n",
    "        self.embedding = nn.Embedding.from_pretrained(weight)\n",
    "        self.gru = nn.GRU(word_vec_size, hidden_size)\n",
    "\n",
    "    def forward(self, input, hidden):\n",
    "        embedded = self.embedding(input).view(1, 1, -1)\n",
    "        output = embedded\n",
    "        output, hidden = self.gru(output, hidden)\n",
    "        return output, hidden\n",
    "\n",
    "    def initHidden(self):\n",
    "        return torch.zeros(1, 1, self.hidden_size, device=device)\n",
    "\n",
    "# class EncoderRNN(nn.Module):\n",
    "#     def __init__(self, input_size, word_vec_size, hidden_size, weight):\n",
    "#         super(EncoderRNN, self).__init__()\n",
    "#         self.hidden_size = hidden_size\n",
    "#         self.layer = 8\n",
    "#\n",
    "#         # self.embedding = nn.Embedding(input_size, word_vec_size)\n",
    "#         self.embedding = nn.Embedding.from_pretrained(weight)\n",
    "#         self.gru = nn.GRU(word_vec_size, hidden_size, self.layer)\n",
    "#\n",
    "#     def forward(self, input, hidden):\n",
    "#         embedded = self.embedding(input).view(1, 1, -1)\n",
    "#         output = embedded\n",
    "#         output, hidden = self.gru(output, hidden)\n",
    "#         return output, hidden\n",
    "#\n",
    "#     def initHidden(self):\n",
    "#         return torch.zeros(1, 1, self.hidden_size, device=device)"
   ],
   "metadata": {
    "collapsed": false
   }
  },
  {
   "cell_type": "code",
   "execution_count": 65,
   "outputs": [],
   "source": [
    "class StyleEmbedder(nn.Module):\n",
    "    def __init__(self, num_styles, dimensions):\n",
    "        super(StyleEmbedder, self).__init__()\n",
    "        self.dimensions = dimensions\n",
    "        self.embedding = nn.Embedding(num_styles, dimensions)\n",
    "\n",
    "    def forward(self, input):\n",
    "        embedded = self.embedding(input).view(1, 1, -1)\n",
    "        return embedded"
   ],
   "metadata": {
    "collapsed": false
   }
  },
  {
   "cell_type": "code",
   "execution_count": 66,
   "outputs": [],
   "source": [
    "class Maxout(nn.Module):\n",
    "    def __init__(self, pool_size):\n",
    "        super().__init__()\n",
    "        self._pool_size = pool_size\n",
    "\n",
    "    def forward(self, x):\n",
    "        assert x.shape[1] % self._pool_size == 0, \\\n",
    "            'Wrong input last dim size ({}) for Maxout({})'.format(x.shape[1], self._pool_size)\n",
    "        m, i = x.view(*x.shape[:1], x.shape[1] // self._pool_size, self._pool_size, *x.shape[2:]).max(2)\n",
    "        return m"
   ],
   "metadata": {
    "collapsed": false
   }
  },
  {
   "cell_type": "code",
   "execution_count": 67,
   "outputs": [],
   "source": [
    "class DecoderRNN(nn.Module):\n",
    "    def __init__(self, hidden_size, word_vec_size, output_size, weight):\n",
    "        super(DecoderRNN, self).__init__()\n",
    "        self.hidden_size = hidden_size\n",
    "        self.embedding = nn.Embedding.from_pretrained(weight)\n",
    "\n",
    "        self.gru = nn.GRU(word_vec_size, hidden_size)\n",
    "        self.out = nn.Linear(hidden_size, output_size)\n",
    "        self.softmax = nn.LogSoftmax(dim=1)\n",
    "        self.maxout = Maxout(1)\n",
    "\n",
    "    def forward(self, input, hidden):\n",
    "        output = self.embedding(input).view(1, 1, -1)\n",
    "        output = self.maxout(output)\n",
    "        output, hidden = self.gru(output, hidden)\n",
    "        output = self.softmax(self.out(output[0]))\n",
    "        return output, hidden\n",
    "\n",
    "    def initHidden(self):\n",
    "        return torch.zeros(1, 1, self.hidden_size, device=device)\n",
    "\n",
    "# class DecoderRNN(nn.Module):\n",
    "#     def __init__(self, hidden_size, word_vec_size, output_size, weight, dropout):\n",
    "#         super(DecoderRNN, self).__init__()\n",
    "#         self.hidden_size = hidden_size\n",
    "#         # self.layer = 8;\n",
    "#\n",
    "#         # self.embedding = nn.Embedding(output_size, word_vec_size)\n",
    "#         self.embedding = nn.Embedding.from_pretrained(weight)\n",
    "#\n",
    "#         # self.gru = nn.GRU(word_vec_size, hidden_size, self.layer)\n",
    "#         self.gru = nn.GRU(word_vec_size, hidden_size)\n",
    "#\n",
    "#         self.out = nn.Linear(hidden_size, output_size)\n",
    "#         self.softmax = nn.LogSoftmax(dim=1)\n",
    "#         self.maxout = Maxout(1)\n",
    "#         self.dropout = nn.Dropout(dropout)\n",
    "#\n",
    "#     def forward(self, input, hidden):\n",
    "#         output = self.embedding(input).view(1, 1, -1)\n",
    "#         output = self.maxout(output)\n",
    "#         output, hidden = self.gru(output, hidden)\n",
    "#         output = self.softmax(self.out(output[0]))\n",
    "#         return output, hidden\n",
    "#\n",
    "#     def initHidden(self):\n",
    "#         return torch.zeros(1, 1, self.hidden_size, device=device)\n",
    "\n",
    "\n",
    "# class DecoderRNN(nn.Module):\n",
    "#     def __init__(self, hidden_size, word_vec_size, output_size, weight):\n",
    "#         super(DecoderRNN, self).__init__()\n",
    "#         self.hidden_size = hidden_size\n",
    "#\n",
    "#         # self.embedding = nn.Embedding(output_size, word_vec_size)\n",
    "#         self.embedding = nn.Embedding.from_pretrained(weight)\n",
    "#\n",
    "#         self.gru = nn.GRU(word_vec_size, hidden_size)\n",
    "#         self.out = nn.Linear(hidden_size, output_size)\n",
    "#         self.softmax = nn.LogSoftmax(dim=1)\n",
    "#         self.maxout = Maxout(1)\n",
    "#         self.attention = nn.Linear(hidden_size + word_vec_size, hidden_size)\n",
    "#\n",
    "#\n",
    "#     def forward(self, input, hidden):\n",
    "#         # Calculate the attention weights\n",
    "#\n",
    "#         print(\"input type\", type(input) )\n",
    "#         print(\"hidden type\", type(hidden) )\n",
    "#\n",
    "#         print(\"input\", input.size())\n",
    "#         print(\"hidden\", hidden.size())\n",
    "#\n",
    "#         test2 = (input.view(1, 1, -1), hidden)\n",
    "#\n",
    "#         print(\"input_view\", len(test2))\n",
    "#\n",
    "#         attn_weights = F.softmax(self.attention(torch.cat(test2, 1)))\n",
    "#         # attn_weights = F.softmax(self.attention(torch.cat((input, hidden), 1)))\n",
    "#\n",
    "#         # Create a weighted sum of the input and hidden state using the attention weights as coefficients\n",
    "#         context = attn_weights * input + (1 - attn_weights) * hidden\n",
    "#\n",
    "#         # Pass the weighted sum through the GRU layer along with the embedded input to produce the decoder's output\n",
    "#         output, hidden = self.gru(torch.cat((context, self.embedding(input).view(1, 1, -1)), 2), hidden)\n",
    "#         output = self.softmax(self.out(output[0]))\n",
    "#         return output, hidden\n",
    "#\n",
    "#     def initHidden(self):\n",
    "#         return torch.zeros(1, 1, self.hidden_size, device=device)\n",
    "\n",
    "\n",
    "\n",
    "#\n",
    "# MAX_LENGTH = 20\n",
    "# class AttnDecoderRNN(nn.Module):\n",
    "#     def __init__(self, hidden_size, output_size, weight, dropout_p=0.1, max_length=MAX_LENGTH):\n",
    "#         super(AttnDecoderRNN, self).__init__()\n",
    "#         self.hidden_size = hidden_size\n",
    "#         self.output_size = output_size\n",
    "#         self.dropout_p = dropout_p\n",
    "#         self.max_length = max_length\n",
    "#\n",
    "#         # hidden_size = word_vec_size;\n",
    "#         # self.embedding = nn.Embedding.from_pretrained(weight)\n",
    "#         self.embedding = nn.Embedding(self.output_size, self.hidden_size)\n",
    "#         self.attn = nn.Linear(self.hidden_size * 2, self.max_length)\n",
    "#         self.attn_combine = nn.Linear(self.hidden_size * 2, self.hidden_size)\n",
    "#         self.dropout = nn.Dropout(self.dropout_p)\n",
    "#         self.gru = nn.GRU(self.hidden_size, self.hidden_size)\n",
    "#         self.out = nn.Linear(self.hidden_size, self.output_size)\n",
    "#\n",
    "#     def forward(self, input, hidden, encoder_outputs):\n",
    "#         embedded = self.embedding(input).view(1, 1, -1)\n",
    "#         embedded = self.dropout(embedded)\n",
    "#\n",
    "#         attn_weights = F.softmax(\n",
    "#             self.attn(torch.cat((embedded[0], hidden[0]), 1)), dim=1)\n",
    "#         attn_applied = torch.bmm(attn_weights.unsqueeze(0), encoder_outputs.unsqueeze(0))\n",
    "#\n",
    "#         output = torch.cat((embedded[0], attn_applied[0]), 1)\n",
    "#         output = self.attn_combine(output).unsqueeze(0)\n",
    "#\n",
    "#         output = F.relu(output)\n",
    "#         output, hidden = self.gru(output, hidden)\n",
    "#\n",
    "#         output = F.log_softmax(self.out(output[0]), dim=1)\n",
    "#         return output, hidden, attn_weights\n",
    "#\n",
    "#     def initHidden(self):\n",
    "#         return torch.zeros(1, 1, self.hidden_size, device=device)\n",
    "\n",
    "#\n",
    "# class Attention(nn.Module):\n",
    "#     def __init__(self, hidden_size):\n",
    "#         super(Attention, self).__init__()\n",
    "#         self.hidden_size = hidden_size\n",
    "#         self.attn = nn.Linear(self.hidden_size * 2, hidden_size)\n",
    "#         self.v = nn.Parameter(torch.rand(hidden_size))\n",
    "#         stdv = 1. / math.sqrt(self.v.size(0))\n",
    "#         self.v.data.normal_(mean=0, std=stdv)\n",
    "#\n",
    "#     def forward(self, hidden, encoder_outputs):\n",
    "#         timestep = encoder_outputs.size(0)\n",
    "#         h = hidden.repeat(timestep, 1, 1).transpose(0, 1)\n",
    "#         encoder_outputs = encoder_outputs.transpose(0, 1)\n",
    "#         attn_energies = self.score(h, encoder_outputs)\n",
    "#         return F.softmax(attn_energies, dim=1).unsqueeze(1)\n",
    "#\n",
    "#     def score(self, hidden, encoder_outputs):\n",
    "#\n",
    "#         print(\"hidden\", hidden)\n",
    "#         print(\"encoder_outputs\", encoder_outputs)\n",
    "#\n",
    "#         energy = F.relu(self.attn(torch.cat([hidden, encoder_outputs], 2)))\n",
    "#         energy = energy.transpose(1, 2)\n",
    "#         v = self.v.repeat(encoder_outputs.size(0), 1).unsqueeze(1)\n",
    "#         energy = torch.bmm(v, energy)\n",
    "#         return energy.squeeze(1)\n",
    "#\n",
    "#\n",
    "\n",
    "\n",
    "# class DecoderRNN(nn.Module):\n",
    "#     def __init__(self, hidden_size, word_vec_size, output_size, weight):\n",
    "#         super(DecoderRNN, self).__init__()\n",
    "#         self.hidden_size = hidden_size\n",
    "#         self.embedding = nn.Embedding.from_pretrained(weight)\n",
    "#         self.gru = nn.GRU(word_vec_size, hidden_size)\n",
    "#         self.out = nn.Linear(hidden_size, output_size)\n",
    "#         self.softmax = nn.LogSoftmax(dim=1)\n",
    "#         self.maxout = Maxout(1)\n",
    "#         self.attn = Attention(hidden_size)\n",
    "#\n",
    "#     def forward(self, input, hidden, encoder_outputs):\n",
    "#         output = self.embedding(input).view(1, 1, -1)\n",
    "#         output = self.maxout(output)\n",
    "#         output, hidden = self.gru(output, hidden)\n",
    "#         attn_weights = self.attn(output, encoder_outputs)\n",
    "#         context = attn_weights.bmm(encoder_outputs.transpose(0, 1))\n",
    "#         output = output.squeeze(0)\n",
    "#         context = context.squeeze(1)\n",
    "#         output = self.softmax(self.out(torch.cat([output, context], 1)))\n",
    "#         return output, hidden, attn_weights\n",
    "#\n",
    "#     def initHidden(self):\n",
    "#         return torch.zeros(1, 1, self.hidden_size, device=device)\n",
    "\n",
    "\n",
    "# class DecoderRNN(nn.Module):\n",
    "#     def __init__(self, hidden_size, word_vec_size, output_size, weight):\n",
    "#         super(DecoderRNN, self).__init__()\n",
    "#         self.hidden_size = hidden_size\n",
    "#\n",
    "#         self.embedding = nn.Embedding.from_pretrained(weight)\n",
    "#\n",
    "#         # Add an attention layer\n",
    "#         self.attention = nn.Linear(hidden_size + word_vec_size, hidden_size)\n",
    "#\n",
    "#         self.gru = nn.GRU(word_vec_size, hidden_size)\n",
    "#         self.out = nn.Linear(hidden_size, output_size)\n",
    "#         self.softmax = nn.LogSoftmax(dim=1)\n",
    "#         self.maxout = Maxout(1)\n",
    "#\n",
    "#     def forward(self, input, hidden, encoder_outputs):\n",
    "#         # Calculate the attention weights\n",
    "#         attn_weights = F.softmax(self.attention(torch.cat((input, hidden), 1)))\n",
    "#         # attn_weights = F.softmax(self.attention(torch.cat((input.unsqueeze(1), hidden), 1)))\n",
    "#\n",
    "#\n",
    "#         # Create a weighted sum of the encoder outputs using the attention weights as coefficients\n",
    "#         context = attn_weights.unsqueeze(0).bmm(encoder_outputs.unsqueeze(0))\n",
    "#\n",
    "#         # Pass the weighted sum through the GRU layer along with the embedded input to produce the decoder's output\n",
    "#         output, hidden = self.gru(torch.cat((context, self.embedding(input).view(1, 1, -1)), 2), hidden)\n",
    "#         output = self.softmax(self.out(output[0]))\n",
    "#         return output, hidden\n"
   ],
   "metadata": {
    "collapsed": false
   }
  },
  {
   "cell_type": "code",
   "execution_count": 68,
   "outputs": [],
   "source": [
    "#Preparing Training Data\n",
    "def indexesFromSentence(lang, sentence):\n",
    "    return [lang.word2index[word] for word in sentence.split(' ')]\n",
    "\n",
    "\n",
    "def tensorFromSentence(lang, sentence):\n",
    "    indexes = indexesFromSentence(lang, sentence)\n",
    "    indexes.append(EOS_token)\n",
    "    return torch.tensor(indexes, dtype=torch.long, device=device).view(-1, 1)\n",
    "\n",
    "def tensorFromStyle(style):\n",
    "    #     one_hot_encoded_style = []\n",
    "    #     if style:\n",
    "    #         one_hot_encoded_style = [1,0]\n",
    "    #     else:\n",
    "    #         one_hot_encoded_style = [0,1]\n",
    "    return torch.tensor(style, dtype=torch.long, device=device).view(-1, 1)\n",
    "\n",
    "def tensorsFromPair(pair):\n",
    "    input_tensor = tensorFromSentence(input_lang, pair[0])\n",
    "    target_tensor = tensorFromSentence(output_lang, pair[1])\n",
    "    style_tensor = tensorFromStyle(pair[2])\n",
    "    return (input_tensor, style_tensor, target_tensor)  #add style_tensor"
   ],
   "metadata": {
    "collapsed": false
   }
  },
  {
   "cell_type": "code",
   "execution_count": 69,
   "outputs": [],
   "source": [
    "#Trainin\n",
    "\n",
    "teacher_forcing_ratio = 0.5\n",
    "\n",
    "MAX_LENGTH = 50\n",
    "\n",
    "\n",
    "def train(\n",
    "        input_tensor,\n",
    "        style_tensor,\n",
    "        target_tensor,\n",
    "\n",
    "        encoder,\n",
    "        style_embedder,\n",
    "        decoder,\n",
    "\n",
    "        encoder_optimizer,\n",
    "        style_embedder_optimizer,\n",
    "        decoder_optimizer,\n",
    "\n",
    "        criterion,\n",
    "        max_length=MAX_LENGTH):\n",
    "\n",
    "\n",
    "    encoder_hidden = encoder.initHidden()\n",
    "\n",
    "    encoder_optimizer.zero_grad()\n",
    "    decoder_optimizer.zero_grad()\n",
    "    style_embedder_optimizer.zero_grad()\n",
    "\n",
    "    input_length = input_tensor.size(0)\n",
    "    target_length = target_tensor.size(0)\n",
    "\n",
    "    encoder_outputs = torch.zeros(max_length, encoder.hidden_size, device=device)\n",
    "\n",
    "    loss = 0\n",
    "\n",
    "    for ei in range(input_length):\n",
    "        encoder_output, encoder_hidden = encoder(\n",
    "            input_tensor[ei], encoder_hidden)\n",
    "        encoder_outputs[ei] = encoder_output[0, 0]\n",
    "\n",
    "    decoder_input = torch.tensor([[SOS_token]], device=device)\n",
    "\n",
    "    #calculate style embedding\n",
    "    style_embedding = style_embedder(style_tensor)\n",
    "\n",
    "    decoder_hidden = torch.cat((encoder_hidden, style_embedding), 2) #TODO: concatenate style embedding\n",
    "\n",
    "    use_teacher_forcing = True if random.random() < teacher_forcing_ratio else False\n",
    "\n",
    "    if use_teacher_forcing:\n",
    "        # Teacher forcing: Feed the target as the next input\n",
    "        for di in range(target_length):\n",
    "            decoder_output, decoder_hidden = decoder(decoder_input, decoder_hidden)\n",
    "            loss += criterion(decoder_output, target_tensor[di])\n",
    "            decoder_input = target_tensor[di]  # Teacher forcing\n",
    "\n",
    "    else:\n",
    "        # Without teacher forcing: use its own predictions as the next input\n",
    "        for di in range(target_length):\n",
    "            decoder_output, decoder_hidden = decoder(decoder_input, decoder_hidden)\n",
    "            topv, topi = decoder_output.topk(1)\n",
    "            decoder_input = topi.squeeze().detach()  # detach from history as input\n",
    "\n",
    "            loss += criterion(decoder_output, target_tensor[di])\n",
    "            if decoder_input.item() == EOS_token:\n",
    "                break\n",
    "\n",
    "    loss.backward()\n",
    "    encoder_optimizer.step()\n",
    "    style_embedder_optimizer.step()\n",
    "    decoder_optimizer.step()\n",
    "\n",
    "\n",
    "    return loss.item() / target_length"
   ],
   "metadata": {
    "collapsed": false
   }
  },
  {
   "cell_type": "code",
   "execution_count": 70,
   "outputs": [],
   "source": [
    "# # chatgpt;\n",
    "# # MAX_LENGTH = 20\n",
    "# MAX_LENGTH = 50\n",
    "# #Trainin\n",
    "# teacher_forcing_ratio = 0.5\n",
    "#\n",
    "# def train(\n",
    "#         input_tensor,\n",
    "#         style_tensor,\n",
    "#         target_tensor,\n",
    "#\n",
    "#         encoder,\n",
    "#         style_embedder,\n",
    "#         decoder,\n",
    "#\n",
    "#         encoder_optimizer,\n",
    "#         style_embedder_optimizer,\n",
    "#         decoder_optimizer,\n",
    "#\n",
    "#         criterion,\n",
    "#         max_length=MAX_LENGTH):\n",
    "#\n",
    "#\n",
    "#     encoder_hidden = encoder.initHidden()\n",
    "#\n",
    "#     encoder_optimizer.zero_grad()\n",
    "#     decoder_optimizer.zero_grad()\n",
    "#     style_embedder_optimizer.zero_grad()\n",
    "#\n",
    "#     input_length = input_tensor.size(0)\n",
    "#     target_length = target_tensor.size(0)\n",
    "#\n",
    "#     encoder_outputs = torch.zeros(max_length, encoder.hidden_size, device=device)\n",
    "#\n",
    "#     loss = 0\n",
    "#\n",
    "#     # Encode the input sequence using the encoder\n",
    "#     for ei in range(input_length):\n",
    "#         encoder_output, encoder_hidden = encoder(\n",
    "#             input_tensor[ei], encoder_hidden)\n",
    "#         encoder_outputs[ei] = encoder_output[0, 0]\n",
    "#\n",
    "#     # Compute the embedded style representation\n",
    "#     style_embedding = style_embedder(style_tensor)\n",
    "#\n",
    "#     # Initialize the decoder input and hidden state\n",
    "#     decoder_input = torch.tensor([[SOS_token]], device=device)\n",
    "#\n",
    "#     # Concatenate encoder_hidden and style_embedding along the last dimension\n",
    "#     decoder_hidden = torch.cat((encoder_hidden, style_embedding), 2)\n",
    "#     # decoder_hidden = torch.cat((encoder_hidden[0], style_embedding), 2)\n",
    "#\n",
    "#\n",
    "#     # Use teacher forcing if the random value is less than the teacher forcing ratio\n",
    "#     use_teacher_forcing = True if random.random() < teacher_forcing_ratio else False\n",
    "#\n",
    "#     # Decode the input sequence using the decoder and compute the loss\n",
    "#     if use_teacher_forcing:\n",
    "#         # Teacher forcing: Feed the target as the next input\n",
    "#         for di in range(target_length):\n",
    "#             decoder_output, decoder_hidden = decoder(decoder_input, decoder_hidden)\n",
    "#             loss += criterion(decoder_output, target_tensor[di])\n",
    "#             decoder_input = target_tensor[di]  # Teacher forcing\n",
    "#\n",
    "#\n",
    "#     else:\n",
    "#         # Without teacher forcing: use its own predictions as the next input\n",
    "#         for di in range(target_length):\n",
    "#             decoder_output, decoder_hidden = decoder(decoder_input, decoder_hidden)\n",
    "#             topv, topi = decoder_output.topk(1)\n",
    "#             decoder_input = topi.squeeze().detach()  # detach from history as input\n",
    "#\n",
    "#             loss += criterion(decoder_output, target_tensor[di])\n",
    "#             if decoder_input.item() == EOS_token:\n",
    "#                 break\n",
    "#\n",
    "#     # Backpropagate the loss and update the model weights\n",
    "#     loss.backward()\n",
    "#     encoder_optimizer.step()\n",
    "#     style_embedder_optimizer.step()\n",
    "#     decoder_optimizer.step()\n",
    "#\n",
    "#     return loss.item() / target_length\n",
    "#\n",
    "#\n"
   ],
   "metadata": {
    "collapsed": false
   }
  },
  {
   "cell_type": "code",
   "execution_count": 71,
   "outputs": [],
   "source": [
    "# #Trainin\n",
    "#\n",
    "# teacher_forcing_ratio = 0.5\n",
    "#\n",
    "#\n",
    "# def train(\n",
    "#         input_tensor,\n",
    "#         style_tensor,\n",
    "#         target_tensor,\n",
    "#\n",
    "#         encoder,\n",
    "#         style_embedder,\n",
    "#         decoder,\n",
    "#\n",
    "#         encoder_optimizer,\n",
    "#         style_embedder_optimizer,\n",
    "#         decoder_optimizer,\n",
    "#\n",
    "#         criterion,\n",
    "#         max_length=MAX_LENGTH):\n",
    "#\n",
    "#\n",
    "#     encoder_hidden = encoder.initHidden()\n",
    "#\n",
    "#     encoder_optimizer.zero_grad()\n",
    "#     decoder_optimizer.zero_grad()\n",
    "#     style_embedder_optimizer.zero_grad()\n",
    "#\n",
    "#     input_length = input_tensor.size(0)\n",
    "#     target_length = target_tensor.size(0)\n",
    "#\n",
    "#     encoder_outputs = torch.zeros(max_length, encoder.hidden_size, device=device)\n",
    "#\n",
    "#     loss = 0\n",
    "#\n",
    "#     for ei in range(input_length):\n",
    "#         encoder_output, encoder_hidden = encoder(\n",
    "#             input_tensor[ei], encoder_hidden)\n",
    "#         encoder_outputs[ei] = encoder_output[0, 0]\n",
    "#\n",
    "#     # for ei in range(input_length):\n",
    "#     #     encoder_output, encoder_hidden = encoder( input_tensor[ei], encoder_hidden)\n",
    "#     #     encoder_outputs[ei] = encoder_output[0, 0]\n",
    "#\n",
    "#\n",
    "#     decoder_input = torch.tensor([[SOS_token]], device=device)\n",
    "#\n",
    "#     # decoder_hidden = encoder_hidden\n",
    "#\n",
    "#     #calculate style embedding\n",
    "#     style_embedding = style_embedder(style_tensor)\n",
    "#\n",
    "#     decoder_hidden = torch.cat((encoder_hidden, style_embedding), 2) #TODO: concatenate style embedding\n",
    "#\n",
    "#     use_teacher_forcing = True if random.random() < teacher_forcing_ratio else False\n",
    "#\n",
    "#     # if use_teacher_forcing:\n",
    "#     #     # Teacher forcing: Feed the target as the next input\n",
    "#     #     for di in range(target_length):\n",
    "#     #         decoder_output, decoder_hidden, decoder_attention = decoder(decoder_input, decoder_hidden, encoder_outputs)\n",
    "#     #         loss += criterion(decoder_output, target_tensor[di])\n",
    "#     #         decoder_input = target_tensor[di]  # Teacher forcing\n",
    "#     #\n",
    "#     # else:\n",
    "#     # # Without teacher forcing: use its own predictions as the next input\n",
    "#     #     for di in range(target_length):\n",
    "#     #         decoder_output, decoder_hidden, decoder_attention = decoder(decoder_input, decoder_hidden, encoder_outputs)\n",
    "#     #         topv, topi = decoder_output.topk(1)\n",
    "#     #         decoder_input = topi.squeeze().detach()  # detach from history as input\n",
    "#     #\n",
    "#     #         loss += criterion(decoder_output, target_tensor[di])\n",
    "#     #         if decoder_input.item() == EOS_token:\n",
    "#     #             break\n",
    "#     # #\n",
    "#     if use_teacher_forcing:\n",
    "#         # Teacher forcing: Feed the target as the next input\n",
    "#         for di in range(target_length):\n",
    "#             decoder_output, decoder_hidden = decoder(decoder_input, decoder_hidden)\n",
    "#             loss += criterion(decoder_output, target_tensor[di])\n",
    "#             decoder_input = target_tensor[di]  # Teacher forcing\n",
    "#\n",
    "#     else:\n",
    "#         # Without teacher forcing: use its own predictions as the next input\n",
    "#         for di in range(target_length):\n",
    "#             decoder_output, decoder_hidden = decoder(decoder_input, decoder_hidden)\n",
    "#             topv, topi = decoder_output.topk(1)\n",
    "#             decoder_input = topi.squeeze().detach()  # detach from history as input\n",
    "#\n",
    "#             loss += criterion(decoder_output, target_tensor[di])\n",
    "#             if decoder_input.item() == EOS_token:\n",
    "#                 break\n",
    "#\n",
    "#     loss.backward()\n",
    "#     encoder_optimizer.step()\n",
    "#     style_embedder_optimizer.step()\n",
    "#     decoder_optimizer.step()\n",
    "#\n",
    "#\n",
    "#     return loss.item() / target_length"
   ],
   "metadata": {
    "collapsed": false
   }
  },
  {
   "cell_type": "code",
   "execution_count": 72,
   "outputs": [],
   "source": [
    "import matplotlib.pyplot as plt\n",
    "plt.switch_backend('agg')\n",
    "import matplotlib.ticker as ticker\n",
    "import numpy as np\n",
    "\n",
    "\n",
    "def showPlot(points):\n",
    "    plt.figure()\n",
    "    fig, ax = plt.subplots()\n",
    "    # this locator puts ticks at regular intervals\n",
    "    loc = ticker.MultipleLocator(base=0.2)\n",
    "    ax.yaxis.set_major_locator(loc)\n",
    "    plt.plot(points)\n",
    "\n",
    "import time\n",
    "import math\n",
    "\n",
    "def asMinutes(s):\n",
    "    m = math.floor(s / 60)\n",
    "    s -= m * 60\n",
    "    return '%dm %ds' % (m, s)\n",
    "\n",
    "def timeSince(since, percent):\n",
    "    now = time.time()\n",
    "    s = now - since\n",
    "    es = s / (percent)\n",
    "    rs = es - s\n",
    "    return '%s (- %s)' % (asMinutes(s), asMinutes(rs))"
   ],
   "metadata": {
    "collapsed": false
   }
  },
  {
   "cell_type": "code",
   "execution_count": 73,
   "outputs": [
    {
     "name": "stdout",
     "output_type": "stream",
     "text": [
      "Number of training examples: 14250\n",
      "Number of testing examples: 750\n",
      "[' dan jessi terancam kena pasal seksual celana dalam ', 'hyuna dan jessi terancam kena pasal seksual gara-gara umbar celana dalam ?', 1]\n",
      "['bekasi gandeng 3 perusahaan olah sampah jadi listrik', 'bekasi gandeng 3 perusahaan olah sampah jadi listrik', 0]\n"
     ]
    }
   ],
   "source": [
    "from sklearn.model_selection import train_test_split\n",
    "\n",
    "train_data, test_data = train_test_split(pairs, test_size=0.05, random_state=42)\n",
    "print(f\"Number of training examples: {len(train_data)}\")\n",
    "print(f\"Number of testing examples: {len(test_data)}\")\n",
    "print(f\"{train_data[0]}\")\n",
    "print(test_data[0])"
   ],
   "metadata": {
    "collapsed": false
   }
  },
  {
   "cell_type": "code",
   "execution_count": 74,
   "outputs": [],
   "source": [
    "def trainIters(\n",
    "        encoder,\n",
    "        style_embedder,\n",
    "        decoder,\n",
    "\n",
    "        criterion,\n",
    "        encoder_optimizer,\n",
    "        style_embedder_optimizer,\n",
    "        decoder_optimizer,\n",
    "\n",
    "        n_iters,\n",
    "        print_every=1000,\n",
    "        plot_every=100):\n",
    "\n",
    "    start = time.time()\n",
    "    plot_losses = []\n",
    "    print_loss_total = 0  # Reset every print_every\n",
    "    plot_loss_total = 0  # Reset every plot_every\n",
    "\n",
    "    encoder.train()\n",
    "    style_embedder.train()\n",
    "    decoder.train()\n",
    "\n",
    "    # training_pairs = [tensorsFromPair(random.choice(pairs))for i in range(n_iters)]\n",
    "    training_pairs = [tensorsFromPair(train_data[i])for i in range(n_iters)]\n",
    "    # criterion = nn.NLLLoss()\n",
    "\n",
    "    ouput_loss_total = 0\n",
    "\n",
    "    for iter in range(1, n_iters + 1):\n",
    "        training_pair = training_pairs[iter - 1]\n",
    "        input_tensor = training_pair[0]\n",
    "        style_tensor = training_pair[1]\n",
    "        target_tensor = training_pair[2]\n",
    "\n",
    "        loss = train(input_tensor, style_tensor, target_tensor, encoder, style_embedder,\n",
    "                     decoder, encoder_optimizer, style_embedder_optimizer, decoder_optimizer, criterion)\n",
    "\n",
    "        print_loss_total += loss\n",
    "        plot_loss_total += loss\n",
    "        ouput_loss_total += loss\n",
    "\n",
    "        if iter % print_every == 0:\n",
    "            print_loss_avg = print_loss_total / print_every\n",
    "            print_loss_total = 0\n",
    "            print('%s (%d %d%%) %.4f' % (timeSince(start, iter / n_iters),\n",
    "                                         iter, iter / n_iters * 100, print_loss_avg))\n",
    "\n",
    "        if iter % plot_every == 0:\n",
    "            plot_loss_avg = plot_loss_total / plot_every\n",
    "            plot_losses.append(plot_loss_avg)\n",
    "            plot_loss_total = 0\n",
    "\n",
    "    showPlot(plot_losses)\n",
    "    return ouput_loss_total/n_iters\n"
   ],
   "metadata": {
    "collapsed": false
   }
  },
  {
   "cell_type": "code",
   "execution_count": 75,
   "outputs": [],
   "source": [
    "def evaluating(\n",
    "        encoder,\n",
    "        style_embedder,\n",
    "        decoder,\n",
    "\n",
    "        criterion,\n",
    "        n_iters,\n",
    "        plot_every : int =10,\n",
    "        max_length=MAX_LENGTH\n",
    "):\n",
    "\n",
    "    encoder.eval()\n",
    "    style_embedder.eval()\n",
    "    decoder.eval()\n",
    "\n",
    "    plot_losses = []\n",
    "    plot_loss_total = 0\n",
    "    loss_total_output = 0\n",
    "\n",
    "    # training_pairs = [tensorsFromPair(random.choice(pairs)) for i in range(n_iters)]\n",
    "    training_pairs = [tensorsFromPair(train_data[i])for i in range(n_iters)]\n",
    "\n",
    "    start: float = time.time()\n",
    "\n",
    "    with torch.no_grad():\n",
    "        for iter  in  range(1, n_iters + 1):\n",
    "            # taking the pair and extract the c, a, target\n",
    "            training_pair = training_pairs[iter - 1]\n",
    "            input_tensor = training_pair[0]\n",
    "            style_tensor = training_pair[1]\n",
    "            target_tensor = training_pair[2]\n",
    "\n",
    "            encoder_hidden = encoder.initHidden()\n",
    "\n",
    "            encoder_optimizer.zero_grad()\n",
    "            decoder_optimizer.zero_grad()\n",
    "            style_embedder_optimizer.zero_grad()\n",
    "\n",
    "\n",
    "            input_length = input_tensor.size(0)\n",
    "            target_length = target_tensor.size(0)\n",
    "\n",
    "            encoder_outputs = torch.zeros(max_length, encoder.hidden_size, device=device)\n",
    "\n",
    "            loss = 0\n",
    "\n",
    "            # for ei in range(input_length):\n",
    "            #     encoder_output, encoder_hidden = encoder(\n",
    "            #         input_tensor[ei], encoder_hidden)\n",
    "            #     encoder_outputs[ei] = encoder_output[0, 0]\n",
    "\n",
    "            for ei in range(input_length):\n",
    "                encoder_output, encoder_hidden = encoder(\n",
    "                    input_tensor[ei], encoder_hidden)\n",
    "                encoder_outputs[ei] = encoder_output[0, 0]\n",
    "\n",
    "\n",
    "            decoder_input = torch.tensor([[SOS_token]], device=device)\n",
    "\n",
    "            #calculate style embedding\n",
    "            style_embedding = style_embedder(style_tensor)\n",
    "\n",
    "            decoder_hidden = torch.cat((encoder_hidden, style_embedding), 2) #TODO: concatenate style embedding\n",
    "\n",
    "            use_teacher_forcing = True if random.random() < teacher_forcing_ratio else False\n",
    "\n",
    "            if use_teacher_forcing:\n",
    "                # Teacher forcing: Feed the target as the next input\n",
    "                for di in range(target_length):\n",
    "                    decoder_output, decoder_hidden = decoder(\n",
    "                        decoder_input, decoder_hidden)\n",
    "                    loss += criterion(decoder_output, target_tensor[di])\n",
    "                    decoder_input = target_tensor[di]  # Teacher forcing\n",
    "\n",
    "            else:\n",
    "                # Without teacher forcing: use its own predictions as the next input\n",
    "                for di in range(target_length):\n",
    "                    decoder_output, decoder_hidden = decoder(\n",
    "                        decoder_input, decoder_hidden)\n",
    "                    topv, topi = decoder_output.topk(1)\n",
    "                    decoder_input = topi.squeeze().detach()  # detach from history as input\n",
    "\n",
    "                    loss += criterion(decoder_output, target_tensor[di])\n",
    "                    if decoder_input.item() == EOS_token:\n",
    "                        break\n",
    "\n",
    "            # if use_teacher_forcing:\n",
    "            #     # Teacher forcing: Feed the target as the next input\n",
    "            #     for di in range(target_length):\n",
    "            #         decoder_output, decoder_hidden, decoder_attention = decoder(\n",
    "            #             decoder_input, decoder_hidden, encoder_outputs)\n",
    "            #         loss += criterion(decoder_output, target_tensor[di])\n",
    "            #         decoder_input = target_tensor[di]  # Teacher forcing\n",
    "            #\n",
    "            # else:\n",
    "            #     # Without teacher forcing: use its own predictions as the next input\n",
    "            #     for di in range(target_length):\n",
    "            #         decoder_output, decoder_hidden, decoder_attention = decoder(\n",
    "            #             decoder_input, decoder_hidden, encoder_outputs)\n",
    "            #         topv, topi = decoder_output.topk(1)\n",
    "            #         decoder_input = topi.squeeze().detach()  # detach from history as input\n",
    "            #\n",
    "            #         loss += criterion(decoder_output, target_tensor[di])\n",
    "            #         if decoder_input.item() == EOS_token:\n",
    "            #             break\n",
    "\n",
    "\n",
    "            l = loss.item() / target_length\n",
    "\n",
    "            loss_total_output += l\n",
    "            plot_loss_total += l\n",
    "\n",
    "    return loss_total_output/ n_iters"
   ],
   "metadata": {
    "collapsed": false
   }
  },
  {
   "cell_type": "code",
   "execution_count": 76,
   "outputs": [],
   "source": [
    "# word_vec_size = 128\n",
    "word_vec_size = ft.vector_size\n",
    "\n",
    "hidden_size = 512\n",
    "style_vec_size = 128\n",
    "\n",
    "# hidden_size = ft.vector_size\n",
    "\n",
    "# ENC_DROPOUT = 0.5\n",
    "# DEC_DROPOUT = 0.5\n",
    "\n",
    "# encoder1 = EncoderRNN(input_lang.n_words, word_vec_size, hidden_size, embedding_matrix_ft_input ).to(device)\n",
    "# decoder1 = DecoderRNN(hidden_size + style_vec_size, word_vec_size, output_lang.n_words).to(device)\n",
    "\n",
    "# encoder1 = EncoderRNN(input_lang.n_words, word_vec_size, hidden_size, embedding_matrix_ft_input, ENC_DROPOUT).to(device)\n",
    "# decoder1 = DecoderRNN(hidden_size + style_vec_size, word_vec_size, output_lang.n_words, embedding_matrix_ft_output, DEC_DROPOUT).to(device)\n",
    "\n",
    "# decoder1 = AttnDecoderRNN(hidden_size + style_vec_size, output_lang.n_words, embedding_matrix_ft_output,  dropout_p=0.1).to(device)\n",
    "\n",
    "\n",
    "# encoder1 = EncoderRNN(input_lang.n_words, word_vec_size, hidden_size, embedding_matrix_ft_input).to(device)\n",
    "# decoder1 = DecoderRNN(hidden_size + style_vec_size, word_vec_size, output_lang.n_words, embedding_matrix_ft_output).to(device)\n",
    "#\n",
    "# style_embedder1 = StyleEmbedder(2, style_vec_size).to(device)"
   ],
   "metadata": {
    "collapsed": false
   }
  },
  {
   "cell_type": "code",
   "execution_count": 77,
   "outputs": [],
   "source": [
    "# word_vec_size = 128\n",
    "word_vec_size = ft.vector_size\n",
    "\n",
    "hidden_size = 512\n",
    "style_vec_size = 128\n",
    "\n",
    "encoder1 = EncoderRNN(input_lang.n_words, word_vec_size, hidden_size, embedding_matrix_ft_input).to(device)\n",
    "decoder1 = DecoderRNN(hidden_size + style_vec_size, word_vec_size, output_lang.n_words, embedding_matrix_ft_output).to(device)\n",
    "\n",
    "style_embedder1 = StyleEmbedder(2, style_vec_size).to(device)"
   ],
   "metadata": {
    "collapsed": false
   }
  },
  {
   "cell_type": "markdown",
   "source": [],
   "metadata": {
    "collapsed": false
   }
  },
  {
   "cell_type": "code",
   "execution_count": 78,
   "outputs": [],
   "source": [
    "import matplotlib.pyplot as plt\n",
    "plt.switch_backend('agg')\n",
    "import matplotlib.ticker as ticker\n",
    "import numpy as np\n",
    "\n",
    "\n",
    "def showPlot(points):\n",
    "    plt.figure()\n",
    "    fig, ax = plt.subplots()\n",
    "    # this locator puts ticks at regular intervals\n",
    "    loc = ticker.MultipleLocator(base=0.2)\n",
    "    ax.yaxis.set_major_locator(loc)\n",
    "    plt.plot(points)"
   ],
   "metadata": {
    "collapsed": false
   }
  },
  {
   "cell_type": "code",
   "execution_count": 79,
   "outputs": [],
   "source": [
    "def epoch_time(start_time, end_time):\n",
    "    elapsed_time = end_time - start_time\n",
    "    elapsed_mins = int(elapsed_time / 60)\n",
    "    elapsed_secs = int(elapsed_time - (elapsed_mins * 60))\n",
    "    return elapsed_mins, elapsed_secs"
   ],
   "metadata": {
    "collapsed": false
   }
  },
  {
   "cell_type": "code",
   "execution_count": 80,
   "outputs": [
    {
     "ename": "KeyboardInterrupt",
     "evalue": "",
     "output_type": "error",
     "traceback": [
      "\u001B[0;31m---------------------------------------------------------------------------\u001B[0m",
      "\u001B[0;31mKeyboardInterrupt\u001B[0m                         Traceback (most recent call last)",
      "Input \u001B[0;32mIn [80]\u001B[0m, in \u001B[0;36m<cell line: 57>\u001B[0;34m()\u001B[0m\n\u001B[1;32m     57\u001B[0m \u001B[38;5;28;01mfor\u001B[39;00m epoch \u001B[38;5;129;01min\u001B[39;00m \u001B[38;5;28mrange\u001B[39m(N_EPOCHS):\n\u001B[1;32m     59\u001B[0m     start_time \u001B[38;5;241m=\u001B[39m time\u001B[38;5;241m.\u001B[39mtime()\n\u001B[0;32m---> 61\u001B[0m     train_loss \u001B[38;5;241m=\u001B[39m \u001B[43mtrainIters\u001B[49m\u001B[43m(\u001B[49m\n\u001B[1;32m     62\u001B[0m \u001B[43m        \u001B[49m\u001B[43mencoder1\u001B[49m\u001B[43m,\u001B[49m\n\u001B[1;32m     63\u001B[0m \u001B[43m        \u001B[49m\u001B[43mstyle_embedder1\u001B[49m\u001B[43m,\u001B[49m\n\u001B[1;32m     64\u001B[0m \u001B[43m        \u001B[49m\u001B[43mdecoder1\u001B[49m\u001B[43m,\u001B[49m\n\u001B[1;32m     65\u001B[0m \u001B[43m        \u001B[49m\u001B[43mcriterion1\u001B[49m\u001B[43m,\u001B[49m\n\u001B[1;32m     66\u001B[0m \u001B[43m        \u001B[49m\u001B[43mencoder_optimizer\u001B[49m\u001B[43m,\u001B[49m\n\u001B[1;32m     67\u001B[0m \u001B[43m        \u001B[49m\u001B[43mstyle_embedder_optimizer\u001B[49m\u001B[43m,\u001B[49m\n\u001B[1;32m     68\u001B[0m \u001B[43m        \u001B[49m\u001B[43mdecoder_optimizer\u001B[49m\u001B[43m,\u001B[49m\n\u001B[1;32m     69\u001B[0m \u001B[43m        \u001B[49m\u001B[43mTRAINING_DATASET_SIZE\u001B[49m\u001B[43m,\u001B[49m\n\u001B[1;32m     70\u001B[0m \u001B[43m        \u001B[49m\u001B[43mprint_every\u001B[49m\u001B[38;5;241;43m=\u001B[39;49m\u001B[38;5;241;43m200\u001B[39;49m\n\u001B[1;32m     71\u001B[0m \u001B[43m    \u001B[49m\u001B[43m)\u001B[49m\n\u001B[1;32m     73\u001B[0m     \u001B[38;5;66;03m# valid_loss = evaluating(encoder_a, encoder_c, decoder, criterion, EVALUATION_DATASET_SIZE, plot_every=20)\u001B[39;00m\n\u001B[1;32m     75\u001B[0m     valid_loss \u001B[38;5;241m=\u001B[39m evaluating(\n\u001B[1;32m     76\u001B[0m         encoder1,\n\u001B[1;32m     77\u001B[0m         style_embedder1,\n\u001B[0;32m   (...)\u001B[0m\n\u001B[1;32m     80\u001B[0m         EVALUATION_DATASET_SIZE,\n\u001B[1;32m     81\u001B[0m         plot_every\u001B[38;5;241m=\u001B[39m\u001B[38;5;241m100\u001B[39m)\n",
      "Input \u001B[0;32mIn [74]\u001B[0m, in \u001B[0;36mtrainIters\u001B[0;34m(encoder, style_embedder, decoder, criterion, encoder_optimizer, style_embedder_optimizer, decoder_optimizer, n_iters, print_every, plot_every)\u001B[0m\n\u001B[1;32m     33\u001B[0m style_tensor \u001B[38;5;241m=\u001B[39m training_pair[\u001B[38;5;241m1\u001B[39m]\n\u001B[1;32m     34\u001B[0m target_tensor \u001B[38;5;241m=\u001B[39m training_pair[\u001B[38;5;241m2\u001B[39m]\n\u001B[0;32m---> 36\u001B[0m loss \u001B[38;5;241m=\u001B[39m \u001B[43mtrain\u001B[49m\u001B[43m(\u001B[49m\u001B[43minput_tensor\u001B[49m\u001B[43m,\u001B[49m\u001B[43m \u001B[49m\u001B[43mstyle_tensor\u001B[49m\u001B[43m,\u001B[49m\u001B[43m \u001B[49m\u001B[43mtarget_tensor\u001B[49m\u001B[43m,\u001B[49m\u001B[43m \u001B[49m\u001B[43mencoder\u001B[49m\u001B[43m,\u001B[49m\u001B[43m \u001B[49m\u001B[43mstyle_embedder\u001B[49m\u001B[43m,\u001B[49m\n\u001B[1;32m     37\u001B[0m \u001B[43m             \u001B[49m\u001B[43mdecoder\u001B[49m\u001B[43m,\u001B[49m\u001B[43m \u001B[49m\u001B[43mencoder_optimizer\u001B[49m\u001B[43m,\u001B[49m\u001B[43m \u001B[49m\u001B[43mstyle_embedder_optimizer\u001B[49m\u001B[43m,\u001B[49m\u001B[43m \u001B[49m\u001B[43mdecoder_optimizer\u001B[49m\u001B[43m,\u001B[49m\u001B[43m \u001B[49m\u001B[43mcriterion\u001B[49m\u001B[43m)\u001B[49m\n\u001B[1;32m     39\u001B[0m print_loss_total \u001B[38;5;241m+\u001B[39m\u001B[38;5;241m=\u001B[39m loss\n\u001B[1;32m     40\u001B[0m plot_loss_total \u001B[38;5;241m+\u001B[39m\u001B[38;5;241m=\u001B[39m loss\n",
      "Input \u001B[0;32mIn [69]\u001B[0m, in \u001B[0;36mtrain\u001B[0;34m(input_tensor, style_tensor, target_tensor, encoder, style_embedder, decoder, encoder_optimizer, style_embedder_optimizer, decoder_optimizer, criterion, max_length)\u001B[0m\n\u001B[1;32m     67\u001B[0m         \u001B[38;5;28;01mif\u001B[39;00m decoder_input\u001B[38;5;241m.\u001B[39mitem() \u001B[38;5;241m==\u001B[39m EOS_token:\n\u001B[1;32m     68\u001B[0m             \u001B[38;5;28;01mbreak\u001B[39;00m\n\u001B[0;32m---> 70\u001B[0m \u001B[43mloss\u001B[49m\u001B[38;5;241;43m.\u001B[39;49m\u001B[43mbackward\u001B[49m\u001B[43m(\u001B[49m\u001B[43m)\u001B[49m\n\u001B[1;32m     71\u001B[0m encoder_optimizer\u001B[38;5;241m.\u001B[39mstep()\n\u001B[1;32m     72\u001B[0m style_embedder_optimizer\u001B[38;5;241m.\u001B[39mstep()\n",
      "File \u001B[0;32m~/.conda/envs/workspace/lib/python3.8/site-packages/torch/_tensor.py:255\u001B[0m, in \u001B[0;36mTensor.backward\u001B[0;34m(self, gradient, retain_graph, create_graph, inputs)\u001B[0m\n\u001B[1;32m    246\u001B[0m \u001B[38;5;28;01mif\u001B[39;00m has_torch_function_unary(\u001B[38;5;28mself\u001B[39m):\n\u001B[1;32m    247\u001B[0m     \u001B[38;5;28;01mreturn\u001B[39;00m handle_torch_function(\n\u001B[1;32m    248\u001B[0m         Tensor\u001B[38;5;241m.\u001B[39mbackward,\n\u001B[1;32m    249\u001B[0m         (\u001B[38;5;28mself\u001B[39m,),\n\u001B[0;32m   (...)\u001B[0m\n\u001B[1;32m    253\u001B[0m         create_graph\u001B[38;5;241m=\u001B[39mcreate_graph,\n\u001B[1;32m    254\u001B[0m         inputs\u001B[38;5;241m=\u001B[39minputs)\n\u001B[0;32m--> 255\u001B[0m \u001B[43mtorch\u001B[49m\u001B[38;5;241;43m.\u001B[39;49m\u001B[43mautograd\u001B[49m\u001B[38;5;241;43m.\u001B[39;49m\u001B[43mbackward\u001B[49m\u001B[43m(\u001B[49m\u001B[38;5;28;43mself\u001B[39;49m\u001B[43m,\u001B[49m\u001B[43m \u001B[49m\u001B[43mgradient\u001B[49m\u001B[43m,\u001B[49m\u001B[43m \u001B[49m\u001B[43mretain_graph\u001B[49m\u001B[43m,\u001B[49m\u001B[43m \u001B[49m\u001B[43mcreate_graph\u001B[49m\u001B[43m,\u001B[49m\u001B[43m \u001B[49m\u001B[43minputs\u001B[49m\u001B[38;5;241;43m=\u001B[39;49m\u001B[43minputs\u001B[49m\u001B[43m)\u001B[49m\n",
      "File \u001B[0;32m~/.conda/envs/workspace/lib/python3.8/site-packages/torch/autograd/__init__.py:147\u001B[0m, in \u001B[0;36mbackward\u001B[0;34m(tensors, grad_tensors, retain_graph, create_graph, grad_variables, inputs)\u001B[0m\n\u001B[1;32m    144\u001B[0m \u001B[38;5;28;01mif\u001B[39;00m retain_graph \u001B[38;5;129;01mis\u001B[39;00m \u001B[38;5;28;01mNone\u001B[39;00m:\n\u001B[1;32m    145\u001B[0m     retain_graph \u001B[38;5;241m=\u001B[39m create_graph\n\u001B[0;32m--> 147\u001B[0m \u001B[43mVariable\u001B[49m\u001B[38;5;241;43m.\u001B[39;49m\u001B[43m_execution_engine\u001B[49m\u001B[38;5;241;43m.\u001B[39;49m\u001B[43mrun_backward\u001B[49m\u001B[43m(\u001B[49m\n\u001B[1;32m    148\u001B[0m \u001B[43m    \u001B[49m\u001B[43mtensors\u001B[49m\u001B[43m,\u001B[49m\u001B[43m \u001B[49m\u001B[43mgrad_tensors_\u001B[49m\u001B[43m,\u001B[49m\u001B[43m \u001B[49m\u001B[43mretain_graph\u001B[49m\u001B[43m,\u001B[49m\u001B[43m \u001B[49m\u001B[43mcreate_graph\u001B[49m\u001B[43m,\u001B[49m\u001B[43m \u001B[49m\u001B[43minputs\u001B[49m\u001B[43m,\u001B[49m\n\u001B[1;32m    149\u001B[0m \u001B[43m    \u001B[49m\u001B[43mallow_unreachable\u001B[49m\u001B[38;5;241;43m=\u001B[39;49m\u001B[38;5;28;43;01mTrue\u001B[39;49;00m\u001B[43m,\u001B[49m\u001B[43m \u001B[49m\u001B[43maccumulate_grad\u001B[49m\u001B[38;5;241;43m=\u001B[39;49m\u001B[38;5;28;43;01mTrue\u001B[39;49;00m\u001B[43m)\u001B[49m\n",
      "\u001B[0;31mKeyboardInterrupt\u001B[0m: "
     ]
    }
   ],
   "source": [
    "n_t = len(train_data)\n",
    "n_e = len(test_data)\n",
    "N_EPOCHS = 1\n",
    "best_valid_loss = float('inf')\n",
    "\n",
    "# learning_rate=0.1\n",
    "# learning_rate = 0.001\n",
    "\n",
    "# encoder_optimizer = optim.Adadelta(encoder1.parameters(), lr=learning_rate)\n",
    "# decoder_optimizer = optim.Adadelta(decoder1.parameters(), lr=learning_rate)\n",
    "# style_embedder_optimizer = optim.Adadelta(style_embedder1.parameters(), lr=learning_rate)\n",
    "\n",
    "# encoder_optimizer = optim.Adam(encoder1.parameters(),lr=learning_rate)\n",
    "# decoder_optimizer = optim.Adam(decoder1.parameters(), lr=learning_rate)\n",
    "# style_embedder_optimizer = optim.Adam(style_embedder1.parameters(), lr=learning_rate)\n",
    "\n",
    "# encoder_optimizer = optim.SGD(encoder1.parameters(), lr=learning_rate)\n",
    "# decoder_optimizer = optim.SGD(decoder1.parameters(), lr=learning_rate)\n",
    "# style_embedder_optimizer = optim.SGD(style_embedder1.parameters(), lr=learning_rate)\n",
    "#\n",
    "# encoder_optimizer = optim.RMSprop(encoder1.parameters(), lr=learning_rate)\n",
    "# decoder_optimizer = optim.RMSprop(decoder1.parameters(), lr=learning_rate)\n",
    "# style_embedder_optimizer = optim.RMSprop(style_embedder1.parameters(), lr=learning_rate)\n",
    "\n",
    "\n",
    "encoder_learning_rate = 0.001\n",
    "decoder_learning_rate = 0.002\n",
    "style_embedder_learning_rate = 0.003\n",
    "\n",
    "# Use different optimization algorithms for each optimizer\n",
    "encoder_optimizer = optim.Adam(encoder1.parameters(), lr=encoder_learning_rate)\n",
    "decoder_optimizer = optim.SGD(decoder1.parameters(), lr=decoder_learning_rate)\n",
    "style_embedder_optimizer = optim.Adam(style_embedder1.parameters(), lr=style_embedder_learning_rate)\n",
    "\n",
    "# Use a learning rate schedule to adjust the learning rates during training\n",
    "encoder_scheduler = optim.lr_scheduler.ReduceLROnPlateau(encoder_optimizer, 'min')\n",
    "decoder_scheduler = optim.lr_scheduler.ReduceLROnPlateau(decoder_optimizer, 'min')\n",
    "style_embedder_scheduler = optim.lr_scheduler.ReduceLROnPlateau(style_embedder_optimizer, 'min')\n",
    "\n",
    "criterion1 = nn.CrossEntropyLoss()\n",
    "\n",
    "TRAINING_DATASET_SIZE = n_t\n",
    "EVALUATION_DATASET_SIZE = n_e\n",
    "\n",
    "# PATH = \"delete_only_model.pt\"\n",
    "PATH = \"/content/drive/MyDrive/nlp_research/2022_thesis_styletransfer/checkpoint/delete_only_model.pt\"\n",
    "MAIN_PATH = \"/content/drive/MyDrive/nlp_research/2022_thesis_styletransfer/checkpoint/\"\n",
    "\n",
    "# criterion1 = nn.NLLLoss()\n",
    "\n",
    "\n",
    "plot_train_losses = []\n",
    "plot_eval_losses = []\n",
    "perplexity_train = []\n",
    "perplexity_eval = []\n",
    "\n",
    "for epoch in range(N_EPOCHS):\n",
    "\n",
    "    start_time = time.time()\n",
    "\n",
    "    train_loss = trainIters(\n",
    "        encoder1,\n",
    "        style_embedder1,\n",
    "        decoder1,\n",
    "        criterion1,\n",
    "        encoder_optimizer,\n",
    "        style_embedder_optimizer,\n",
    "        decoder_optimizer,\n",
    "        TRAINING_DATASET_SIZE,\n",
    "        print_every=200\n",
    "    )\n",
    "\n",
    "    # valid_loss = evaluating(encoder_a, encoder_c, decoder, criterion, EVALUATION_DATASET_SIZE, plot_every=20)\n",
    "\n",
    "    valid_loss = evaluating(\n",
    "        encoder1,\n",
    "        style_embedder1,\n",
    "        decoder1,\n",
    "        criterion1,\n",
    "        EVALUATION_DATASET_SIZE,\n",
    "        plot_every=100)\n",
    "\n",
    "    encoder_scheduler.step(valid_loss)\n",
    "    decoder_scheduler.step(valid_loss)\n",
    "    style_embedder_scheduler.step(valid_loss)\n",
    "\n",
    "    end_time = time.time()\n",
    "    epoch_mins, epoch_secs = epoch_time(start_time, end_time)\n",
    "\n",
    "    if valid_loss < best_valid_loss:\n",
    "        best_valid_loss = valid_loss\n",
    "        torch.save(encoder1.state_dict(), MAIN_PATH + 'encoder1-model.pt')\n",
    "        torch.save(style_embedder1.state_dict(),MAIN_PATH + 'style_embedder1-model.pt')\n",
    "        torch.save(decoder1.state_dict(),MAIN_PATH +  'decoder1-model.pt')\n",
    "\n",
    "        torch.save({\n",
    "            'epoch': epoch,\n",
    "            'encoder1_state_dict': encoder1.state_dict(),\n",
    "            'style_embedder1-model': style_embedder1.state_dict(),\n",
    "            'decoder1_state_dict': decoder1.state_dict(),\n",
    "            'encoder1_optimizer_state_dict': encoder_optimizer.state_dict(),\n",
    "            'decoder1_optimizer_state_dict': decoder_optimizer.state_dict(),\n",
    "            'style_embedder1_optimizer_state_dict': style_embedder_optimizer.state_dict(),\n",
    "            'loss': train_loss,\n",
    "        }, PATH)\n",
    "\n",
    "    # if valid_loss < best_valid_loss:\n",
    "    #     best_valid_loss = valid_loss\n",
    "    #     torch.save(encoder1.state_dict(), 'encoder1-model.pt')\n",
    "    #     torch.save(style_embedder1.state_dict(), 'style_embedder1-model.pt')\n",
    "    #     torch.save(decoder1.state_dict(), 'decoder1-model.pt')\n",
    "\n",
    "    plot_train_losses.append(train_loss)\n",
    "    plot_eval_losses.append(valid_loss)\n",
    "\n",
    "\n",
    "    perplexity_train.append(math.exp(train_loss))\n",
    "    perplexity_eval.append(math.exp(valid_loss))\n",
    "\n",
    "\n",
    "    print(f'Epoch: {epoch+1:02} | Time: {epoch_mins}m {epoch_secs}s')\n",
    "    print(f'\\tTrain Loss: {train_loss:.3f} | Train PPL: {math.exp(train_loss):7.3f}')\n",
    "    print(f'\\t Val. Loss: {valid_loss:.3f} |  Val. PPL: {math.exp(valid_loss):7.3f}')\n",
    "    print(\"Done\")\n",
    "\n",
    "showPlot(plot_train_losses)\n",
    "showPlot(plot_eval_losses)"
   ],
   "metadata": {
    "collapsed": false
   }
  },
  {
   "cell_type": "markdown",
   "source": [],
   "metadata": {
    "collapsed": false
   }
  },
  {
   "cell_type": "code",
   "execution_count": null,
   "outputs": [],
   "source": [],
   "metadata": {
    "collapsed": false
   }
  },
  {
   "cell_type": "markdown",
   "source": [
    "# Create Clickbait title for Nonclickbait dataset"
   ],
   "metadata": {
    "collapsed": false
   }
  },
  {
   "cell_type": "code",
   "execution_count": null,
   "outputs": [],
   "source": [
    "pairs"
   ],
   "metadata": {
    "collapsed": false
   }
  },
  {
   "cell_type": "markdown",
   "source": [
    "# BLEU Evaluation Metrics"
   ],
   "metadata": {
    "collapsed": false
   }
  },
  {
   "cell_type": "code",
   "execution_count": null,
   "outputs": [],
   "source": [],
   "metadata": {
    "collapsed": false,
    "pycharm": {
     "is_executing": true
    }
   }
  },
  {
   "cell_type": "code",
   "execution_count": null,
   "outputs": [],
   "source": [],
   "metadata": {
    "collapsed": false
   }
  }
 ],
 "metadata": {
  "kernelspec": {
   "display_name": "Python 3",
   "language": "python",
   "name": "python3"
  },
  "language_info": {
   "codemirror_mode": {
    "name": "ipython",
    "version": 2
   },
   "file_extension": ".py",
   "mimetype": "text/x-python",
   "name": "python",
   "nbconvert_exporter": "python",
   "pygments_lexer": "ipython2",
   "version": "2.7.6"
  }
 },
 "nbformat": 4,
 "nbformat_minor": 0
}
