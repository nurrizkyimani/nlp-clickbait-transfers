{
 "cells": [
  {
   "cell_type": "markdown",
   "source": [
    "\n",
    "# Instalation for Conda and PIP3\n"
   ],
   "metadata": {
    "collapsed": false
   }
  },
  {
   "cell_type": "code",
   "execution_count": 91,
   "metadata": {},
   "outputs": [],
   "source": [
    "# !conda install -c anaconda pandas -y\n",
    "# !conda install -c anaconda fse -y\n",
    "# !conda install -c conda-forge matplotlib -y\n",
    "# !pip3 install fse\n",
    "# !pip3 install pytorch-nlp\n",
    "# !pip3 install nltk"
   ]
  },
  {
   "cell_type": "markdown",
   "source": [
    "# Import : Dependency"
   ],
   "metadata": {
    "collapsed": false
   }
  },
  {
   "cell_type": "code",
   "execution_count": 92,
   "metadata": {},
   "outputs": [
    {
     "name": "stderr",
     "output_type": "stream",
     "text": [
      "[nltk_data] Downloading package punkt to\n",
      "[nltk_data]     /Users/nurrizkyimani/nltk_data...\n",
      "[nltk_data]   Package punkt is already up-to-date!\n"
     ]
    },
    {
     "data": {
      "text/plain": "True"
     },
     "execution_count": 92,
     "metadata": {},
     "output_type": "execute_result"
    }
   ],
   "source": [
    "import numpy as np # linear algebra\n",
    "import pandas as pd # data processing, CSV file I/O (e.g. pd.read_csv)\n",
    "\n",
    "import os\n",
    "\n",
    "import re\n",
    "import string\n",
    "import collections\n",
    "import fse\n",
    "import random\n",
    "\n",
    "import torch\n",
    "import torch.nn as nn\n",
    "from torch import optim\n",
    "import torch.nn.functional as F\n",
    "from torchnlp.metrics import get_moses_multi_bleu\n",
    "\n",
    "\n",
    "\n",
    "device = torch.device(\"cuda\" if torch.cuda.is_available() else \"cpu\")\n",
    "torch.manual_seed(1)\n",
    "\n",
    "import nltk\n",
    "nltk.download('punkt')\n",
    "\n",
    "# Any results you write to the current directory are saved as output."
   ]
  },
  {
   "cell_type": "markdown",
   "source": [
    "# Path: Local Path for taking the data"
   ],
   "metadata": {
    "collapsed": false
   }
  },
  {
   "cell_type": "code",
   "execution_count": 93,
   "outputs": [
    {
     "data": {
      "text/plain": "                                                  title          label  \\\n0     Viral! Driver Ojol di Bekasi Antar Pesanan Mak...      clickbait   \n1     Ada Motor Nyangkut di Atas Bambu di Sleman, Ko...      clickbait   \n2          Pesan Gamblang Poyuono Menolak Revisi UU KPK      clickbait   \n3     Kocak! Maling di Rumah Mewah Jakut Terekam CCT...      clickbait   \n4     Viral Video Diduga Baku Tembak di Sleman, Ini ...      clickbait   \n...                                                 ...            ...   \n8607  Smart SIM Diluncurkan, Wakapolri Harap Bisa Me...  non-clickbait   \n8608  Wamena Papua Kembali Membara, Kantor Bupati Di...  non-clickbait   \n8609         BMKG Angkat Bicara Soal Langit Merah Jambi  non-clickbait   \n8610  Operasional Bandara Wamena Dihentikan Akibat R...  non-clickbait   \n8611   Asap Karhutla Riau Mulai Merambah Ke Nias, BM...  non-clickbait   \n\n      label_score  \n0               1  \n1               1  \n2               1  \n3               1  \n4               1  \n...           ...  \n8607            0  \n8608            0  \n8609            0  \n8610            0  \n8611            0  \n\n[8612 rows x 3 columns]",
      "text/html": "<div>\n<style scoped>\n    .dataframe tbody tr th:only-of-type {\n        vertical-align: middle;\n    }\n\n    .dataframe tbody tr th {\n        vertical-align: top;\n    }\n\n    .dataframe thead th {\n        text-align: right;\n    }\n</style>\n<table border=\"1\" class=\"dataframe\">\n  <thead>\n    <tr style=\"text-align: right;\">\n      <th></th>\n      <th>title</th>\n      <th>label</th>\n      <th>label_score</th>\n    </tr>\n  </thead>\n  <tbody>\n    <tr>\n      <th>0</th>\n      <td>Viral! Driver Ojol di Bekasi Antar Pesanan Mak...</td>\n      <td>clickbait</td>\n      <td>1</td>\n    </tr>\n    <tr>\n      <th>1</th>\n      <td>Ada Motor Nyangkut di Atas Bambu di Sleman, Ko...</td>\n      <td>clickbait</td>\n      <td>1</td>\n    </tr>\n    <tr>\n      <th>2</th>\n      <td>Pesan Gamblang Poyuono Menolak Revisi UU KPK</td>\n      <td>clickbait</td>\n      <td>1</td>\n    </tr>\n    <tr>\n      <th>3</th>\n      <td>Kocak! Maling di Rumah Mewah Jakut Terekam CCT...</td>\n      <td>clickbait</td>\n      <td>1</td>\n    </tr>\n    <tr>\n      <th>4</th>\n      <td>Viral Video Diduga Baku Tembak di Sleman, Ini ...</td>\n      <td>clickbait</td>\n      <td>1</td>\n    </tr>\n    <tr>\n      <th>...</th>\n      <td>...</td>\n      <td>...</td>\n      <td>...</td>\n    </tr>\n    <tr>\n      <th>8607</th>\n      <td>Smart SIM Diluncurkan, Wakapolri Harap Bisa Me...</td>\n      <td>non-clickbait</td>\n      <td>0</td>\n    </tr>\n    <tr>\n      <th>8608</th>\n      <td>Wamena Papua Kembali Membara, Kantor Bupati Di...</td>\n      <td>non-clickbait</td>\n      <td>0</td>\n    </tr>\n    <tr>\n      <th>8609</th>\n      <td>BMKG Angkat Bicara Soal Langit Merah Jambi</td>\n      <td>non-clickbait</td>\n      <td>0</td>\n    </tr>\n    <tr>\n      <th>8610</th>\n      <td>Operasional Bandara Wamena Dihentikan Akibat R...</td>\n      <td>non-clickbait</td>\n      <td>0</td>\n    </tr>\n    <tr>\n      <th>8611</th>\n      <td>Asap Karhutla Riau Mulai Merambah Ke Nias, BM...</td>\n      <td>non-clickbait</td>\n      <td>0</td>\n    </tr>\n  </tbody>\n</table>\n<p>8612 rows × 3 columns</p>\n</div>"
     },
     "execution_count": 93,
     "metadata": {},
     "output_type": "execute_result"
    }
   ],
   "source": [
    "all_agree_path = \"2022_thesis_styletransfer/annotated/combined/csv/all_agree.csv\"\n",
    "all_agree_pd = pd.read_csv(all_agree_path)\n",
    "df_clickbait = all_agree_pd[all_agree_pd['label'] == \"clickbait\"]\n",
    "df_nonclickbait = all_agree_pd[all_agree_pd['label'] == \"non-clickbait\"]\n",
    "#creating a concatination of both df cickbait and nonclickbait\n",
    "df_both = pd.concat((df_clickbait, df_nonclickbait), ignore_index=True)\n",
    "df_both.head(-2)\n",
    "\n",
    "df_both_l = df_both.copy()\n",
    "df_both_l['label'] = df_both_l['label'].astype('category')\n",
    "df_both_l.head(-1)"
   ],
   "metadata": {
    "collapsed": false
   }
  },
  {
   "cell_type": "code",
   "execution_count": 94,
   "outputs": [
    {
     "data": {
      "text/plain": "                                                  title  label_score\n0     Viral! Driver Ojol di Bekasi Antar Pesanan Mak...            1\n1     Ada Motor Nyangkut di Atas Bambu di Sleman, Ko...            1\n2          Pesan Gamblang Poyuono Menolak Revisi UU KPK            1\n3     Kocak! Maling di Rumah Mewah Jakut Terekam CCT...            1\n4     Viral Video Diduga Baku Tembak di Sleman, Ini ...            1\n...                                                 ...          ...\n8603  Komnas HAM Minta Aparat Keamanan Tak Gunakan K...            0\n8604  Mahasiswa Minta TNI Turun Bersama Kawal Aksi D...            0\n8605  Polisi Pulangkan 56 Mahasiswa Setelah Sempat D...            0\n8606  KPK Tepis Tudingan Moeldoko Soal Hambat Investasi            0\n8607  Smart SIM Diluncurkan, Wakapolri Harap Bisa Me...            0\n\n[8608 rows x 2 columns]",
      "text/html": "<div>\n<style scoped>\n    .dataframe tbody tr th:only-of-type {\n        vertical-align: middle;\n    }\n\n    .dataframe tbody tr th {\n        vertical-align: top;\n    }\n\n    .dataframe thead th {\n        text-align: right;\n    }\n</style>\n<table border=\"1\" class=\"dataframe\">\n  <thead>\n    <tr style=\"text-align: right;\">\n      <th></th>\n      <th>title</th>\n      <th>label_score</th>\n    </tr>\n  </thead>\n  <tbody>\n    <tr>\n      <th>0</th>\n      <td>Viral! Driver Ojol di Bekasi Antar Pesanan Mak...</td>\n      <td>1</td>\n    </tr>\n    <tr>\n      <th>1</th>\n      <td>Ada Motor Nyangkut di Atas Bambu di Sleman, Ko...</td>\n      <td>1</td>\n    </tr>\n    <tr>\n      <th>2</th>\n      <td>Pesan Gamblang Poyuono Menolak Revisi UU KPK</td>\n      <td>1</td>\n    </tr>\n    <tr>\n      <th>3</th>\n      <td>Kocak! Maling di Rumah Mewah Jakut Terekam CCT...</td>\n      <td>1</td>\n    </tr>\n    <tr>\n      <th>4</th>\n      <td>Viral Video Diduga Baku Tembak di Sleman, Ini ...</td>\n      <td>1</td>\n    </tr>\n    <tr>\n      <th>...</th>\n      <td>...</td>\n      <td>...</td>\n    </tr>\n    <tr>\n      <th>8603</th>\n      <td>Komnas HAM Minta Aparat Keamanan Tak Gunakan K...</td>\n      <td>0</td>\n    </tr>\n    <tr>\n      <th>8604</th>\n      <td>Mahasiswa Minta TNI Turun Bersama Kawal Aksi D...</td>\n      <td>0</td>\n    </tr>\n    <tr>\n      <th>8605</th>\n      <td>Polisi Pulangkan 56 Mahasiswa Setelah Sempat D...</td>\n      <td>0</td>\n    </tr>\n    <tr>\n      <th>8606</th>\n      <td>KPK Tepis Tudingan Moeldoko Soal Hambat Investasi</td>\n      <td>0</td>\n    </tr>\n    <tr>\n      <th>8607</th>\n      <td>Smart SIM Diluncurkan, Wakapolri Harap Bisa Me...</td>\n      <td>0</td>\n    </tr>\n  </tbody>\n</table>\n<p>8608 rows × 2 columns</p>\n</div>"
     },
     "execution_count": 94,
     "metadata": {},
     "output_type": "execute_result"
    }
   ],
   "source": [
    "df_both_label = df_both_l.drop('label_score', axis=1)\n",
    "df_both = df_both_l.drop('label', axis=1)\n",
    "df_both.head(-5)"
   ],
   "metadata": {
    "collapsed": false
   }
  },
  {
   "cell_type": "code",
   "execution_count": 95,
   "outputs": [
    {
     "data": {
      "text/plain": "                                               title      label  \\\n0  Viral! Driver Ojol di Bekasi Antar Pesanan Mak...  clickbait   \n1  Ada Motor Nyangkut di Atas Bambu di Sleman, Ko...  clickbait   \n2       Pesan Gamblang Poyuono Menolak Revisi UU KPK  clickbait   \n3  Kocak! Maling di Rumah Mewah Jakut Terekam CCT...  clickbait   \n4  Viral Video Diduga Baku Tembak di Sleman, Ini ...  clickbait   \n\n   label_encoding  \n0               0  \n1               0  \n2               0  \n3               0  \n4               0  ",
      "text/html": "<div>\n<style scoped>\n    .dataframe tbody tr th:only-of-type {\n        vertical-align: middle;\n    }\n\n    .dataframe tbody tr th {\n        vertical-align: top;\n    }\n\n    .dataframe thead th {\n        text-align: right;\n    }\n</style>\n<table border=\"1\" class=\"dataframe\">\n  <thead>\n    <tr style=\"text-align: right;\">\n      <th></th>\n      <th>title</th>\n      <th>label</th>\n      <th>label_encoding</th>\n    </tr>\n  </thead>\n  <tbody>\n    <tr>\n      <th>0</th>\n      <td>Viral! Driver Ojol di Bekasi Antar Pesanan Mak...</td>\n      <td>clickbait</td>\n      <td>0</td>\n    </tr>\n    <tr>\n      <th>1</th>\n      <td>Ada Motor Nyangkut di Atas Bambu di Sleman, Ko...</td>\n      <td>clickbait</td>\n      <td>0</td>\n    </tr>\n    <tr>\n      <th>2</th>\n      <td>Pesan Gamblang Poyuono Menolak Revisi UU KPK</td>\n      <td>clickbait</td>\n      <td>0</td>\n    </tr>\n    <tr>\n      <th>3</th>\n      <td>Kocak! Maling di Rumah Mewah Jakut Terekam CCT...</td>\n      <td>clickbait</td>\n      <td>0</td>\n    </tr>\n    <tr>\n      <th>4</th>\n      <td>Viral Video Diduga Baku Tembak di Sleman, Ini ...</td>\n      <td>clickbait</td>\n      <td>0</td>\n    </tr>\n  </tbody>\n</table>\n</div>"
     },
     "execution_count": 95,
     "metadata": {},
     "output_type": "execute_result"
    }
   ],
   "source": [
    "from sklearn.preprocessing import LabelEncoder\n",
    "\n",
    "labelencoder = LabelEncoder()\n",
    "df_both_l['label_encoding'] = labelencoder.fit_transform(df_both_l['label'])\n",
    "\n",
    "df_encode_clean = df_both_l.copy()\n",
    "df_encode_clean = df_both = df_both_l.drop(['label_score'], axis=1)\n",
    "df_encode_clean.head()"
   ],
   "metadata": {
    "collapsed": false
   }
  },
  {
   "cell_type": "markdown",
   "source": [
    "# Preprocessing: lower casing"
   ],
   "metadata": {
    "collapsed": false
   }
  },
  {
   "cell_type": "code",
   "execution_count": 96,
   "outputs": [
    {
     "data": {
      "text/plain": "0       viral! driver ojol di bekasi antar pesanan mak...\n1       ada motor nyangkut di atas bambu di sleman, ko...\n2            pesan gamblang poyuono menolak revisi uu kpk\n3       kocak! maling di rumah mewah jakut terekam cct...\n4       viral video diduga baku tembak di sleman, ini ...\n                              ...                        \n8608    wamena papua kembali membara, kantor bupati di...\n8609           bmkg angkat bicara soal langit merah jambi\n8610    operasional bandara wamena dihentikan akibat r...\n8611     asap karhutla riau mulai merambah ke nias, bm...\n8612    tolak ruu pertanahan, ribuan petani siap gelar...\nName: title, Length: 8613, dtype: object"
     },
     "execution_count": 96,
     "metadata": {},
     "output_type": "execute_result"
    }
   ],
   "source": [
    "# preprocessing : lower casing\n",
    "df_encode_clean['title'] = df_encode_clean['title'].str.lower()\n",
    "df_encode_clean.title"
   ],
   "metadata": {
    "collapsed": false
   }
  },
  {
   "cell_type": "code",
   "execution_count": 97,
   "outputs": [
    {
     "data": {
      "text/plain": "                                                  title          label  \\\n0     viral ! driver ojol di bekasi antar pesanan ma...      clickbait   \n1     ada motor nyangkut di atas bambu di sleman , k...      clickbait   \n2          pesan gamblang poyuono menolak revisi uu kpk      clickbait   \n3     kocak ! maling di rumah mewah jakut terekam cc...      clickbait   \n4     viral video diduga baku tembak di sleman , ini...      clickbait   \n...                                                 ...            ...   \n8608  wamena papua kembali membara , kantor bupati d...  non-clickbait   \n8609         bmkg angkat bicara soal langit merah jambi  non-clickbait   \n8610  operasional bandara wamena dihentikan akibat r...  non-clickbait   \n8611  asap karhutla riau mulai merambah ke nias , bm...  non-clickbait   \n8612  tolak ruu pertanahan , ribuan petani siap gela...  non-clickbait   \n\n      label_encoding  \n0                  0  \n1                  0  \n2                  0  \n3                  0  \n4                  0  \n...              ...  \n8608               1  \n8609               1  \n8610               1  \n8611               1  \n8612               1  \n\n[8613 rows x 3 columns]",
      "text/html": "<div>\n<style scoped>\n    .dataframe tbody tr th:only-of-type {\n        vertical-align: middle;\n    }\n\n    .dataframe tbody tr th {\n        vertical-align: top;\n    }\n\n    .dataframe thead th {\n        text-align: right;\n    }\n</style>\n<table border=\"1\" class=\"dataframe\">\n  <thead>\n    <tr style=\"text-align: right;\">\n      <th></th>\n      <th>title</th>\n      <th>label</th>\n      <th>label_encoding</th>\n    </tr>\n  </thead>\n  <tbody>\n    <tr>\n      <th>0</th>\n      <td>viral ! driver ojol di bekasi antar pesanan ma...</td>\n      <td>clickbait</td>\n      <td>0</td>\n    </tr>\n    <tr>\n      <th>1</th>\n      <td>ada motor nyangkut di atas bambu di sleman , k...</td>\n      <td>clickbait</td>\n      <td>0</td>\n    </tr>\n    <tr>\n      <th>2</th>\n      <td>pesan gamblang poyuono menolak revisi uu kpk</td>\n      <td>clickbait</td>\n      <td>0</td>\n    </tr>\n    <tr>\n      <th>3</th>\n      <td>kocak ! maling di rumah mewah jakut terekam cc...</td>\n      <td>clickbait</td>\n      <td>0</td>\n    </tr>\n    <tr>\n      <th>4</th>\n      <td>viral video diduga baku tembak di sleman , ini...</td>\n      <td>clickbait</td>\n      <td>0</td>\n    </tr>\n    <tr>\n      <th>...</th>\n      <td>...</td>\n      <td>...</td>\n      <td>...</td>\n    </tr>\n    <tr>\n      <th>8608</th>\n      <td>wamena papua kembali membara , kantor bupati d...</td>\n      <td>non-clickbait</td>\n      <td>1</td>\n    </tr>\n    <tr>\n      <th>8609</th>\n      <td>bmkg angkat bicara soal langit merah jambi</td>\n      <td>non-clickbait</td>\n      <td>1</td>\n    </tr>\n    <tr>\n      <th>8610</th>\n      <td>operasional bandara wamena dihentikan akibat r...</td>\n      <td>non-clickbait</td>\n      <td>1</td>\n    </tr>\n    <tr>\n      <th>8611</th>\n      <td>asap karhutla riau mulai merambah ke nias , bm...</td>\n      <td>non-clickbait</td>\n      <td>1</td>\n    </tr>\n    <tr>\n      <th>8612</th>\n      <td>tolak ruu pertanahan , ribuan petani siap gela...</td>\n      <td>non-clickbait</td>\n      <td>1</td>\n    </tr>\n  </tbody>\n</table>\n<p>8613 rows × 3 columns</p>\n</div>"
     },
     "execution_count": 97,
     "metadata": {},
     "output_type": "execute_result"
    }
   ],
   "source": [
    "df_encode_clean_t =  df_encode_clean.copy()\n",
    "df_encode_clean_t['title'] = df_encode_clean_t['title'].apply(lambda y: \" \".join((re.sub(r'([!/?/./,/%/\\'/\\\"/-/:])', lambda x: ' ' + x.group()+' ' , y)).split()) , 1)\n",
    "df_encode_clean_t"
   ],
   "metadata": {
    "collapsed": false
   }
  },
  {
   "cell_type": "markdown",
   "source": [
    "create a space between the punctuation, DO NOT RUN TWICE"
   ],
   "metadata": {
    "collapsed": false
   }
  },
  {
   "cell_type": "markdown",
   "source": [
    "preprocessing: split between clickbait and nonclickbait"
   ],
   "metadata": {
    "collapsed": false
   }
  },
  {
   "cell_type": "code",
   "execution_count": 98,
   "outputs": [],
   "source": [
    "df_clickbait_clean = df_encode_clean_t[df_encode_clean_t['label'] == \"clickbait\"]\n",
    "df_nonclickbait_clean = df_encode_clean_t[df_encode_clean_t['label'] == \"non-clickbait\"]"
   ],
   "metadata": {
    "collapsed": false
   }
  },
  {
   "cell_type": "markdown",
   "source": [
    "make the df into a list only in clickbait and nonclickbait"
   ],
   "metadata": {
    "collapsed": false
   }
  },
  {
   "cell_type": "code",
   "execution_count": 99,
   "outputs": [],
   "source": [
    "import itertools\n",
    "d_both = pd.concat((df_clickbait_clean, df_nonclickbait_clean ), ignore_index=True)\n",
    "d_both = d_both.drop(['label', 'label_encoding'], axis=1)\n",
    "d_both = d_both.values.tolist()\n",
    "d_both = list(itertools.chain.from_iterable(d_both))"
   ],
   "metadata": {
    "collapsed": false
   }
  },
  {
   "cell_type": "code",
   "execution_count": 100,
   "outputs": [
    {
     "data": {
      "text/plain": "['viral ! driver ojol di bekasi antar pesanan makanan pakai sepeda',\n 'ada motor nyangkut di atas bambu di sleman , kok bisa ?',\n 'pesan gamblang poyuono menolak revisi uu kpk',\n 'kocak ! maling di rumah mewah jakut terekam cctv bingung cari jalan kabur',\n 'viral video diduga baku tembak di sleman , ini kata polisi',\n 'waspada ! ada penipuan catut pertamina , korbannya rugi puluhan juta',\n 'jaksa beberkan senpi-peluru tajam pembelian kivlan zen cs , ini rinciannya',\n 'sering quality time bersama keluarga ? ternyata ini 3 manfaatnya !',\n 'menteri jokowi 55 % profesional , ini kandidatnya ?',\n \"pria misterius berjubah putih viral di sumut , ingatkan ' tuhan murka '\",\n 'video porno di sumedang disebar pemeran pria , apa motifnya ?',\n 'terungkap ! video porno di sumedang diperankan pasangan selingkuh',\n 'kendaraan listrik bebas dari aturan ganjil-genap , ini alasannya',\n 'menanti \" kebijakan gila \" jokowi',\n 'akhirnya ! pemkot pekanbaru liburkan sd dan smp karena kabut asap',\n '2 ribu hektare lahan terbakar , udara di palembang tidak sehat !',\n 'viral bocah di bekasi disebut tewas akibat bully , begini kata ketua rt',\n 'anggota dprd banten ramai-ramai gadai sk , ini kata kemendagri',\n \"yuk ' bantu jokowi cari menteri ' , ikuti polling di detikcom !\",\n 'ini 10 poin aspirasi tokoh papua saat bertemu jokowi di istana',\n 'viral ! perampok bercelurit satroni rumah makan gratis untuk duafa di bogor',\n 'perhatian ! ini nama-nama kandidat menteri jokowi',\n \"pasang status ' single ' , inilah saat terakhir kehidupan novy chardon\",\n 'sidang gugatan ikan koi mati , saksi dari pln bicara ini',\n 'fenomena anggota dprd gadaikan sk ke bank , gejala apa ini ?',\n 'apa kabar denda rp 1 juta bagi pembeli di zona merah pkl bandung ?',\n 'geramnya keluarga pada hoax bj habibie meninggal dunia',\n 'video detik-detik mahasiswa merusak pagar dpr',\n 'ini penyebab sulitnya padamkan kebakaran di gunung sumbing',\n 'menlu indonesia-timor leste-australia bertemu di pbb , ini yang dibahas',\n 'ini lokasi diduga mahasiswa halu oleo kendari tertembak',\n 'purnomo-teguh daftar cawalkot solo , peluang gibran tertutup ?',\n 'rapat gabungan pimpinan mpr sepakat ubah tata tertib , ini rinciannya',\n 'panas ! mahasiswa-pendemo pro-uu kpk baru saling lempar botol di depan dpr',\n 'ylbhi sebut mahasiswa belum bisa dikontak usai demo di dpr , ini kata polri',\n \"video demo mahasiswa bandung yang sempat ' memanas '\",\n \"ini pengakuan ' gila ' pelaku pemerkosaan di bondowoso\",\n 'ini alasan hakim vonis seumur hidup prada deri yang mutilasi kekasihnya',\n 'tukang gigi ikut demo ruu kuhp , ini pasal yang sudah dibatalkan mk',\n 'beredar video polisi teriaki tni di mes pati tni al , ini penjelasan polri',\n 'bikin adem ! polwan surabaya lantunkan asmaul husna sambut pendemo',\n 'ini 7 tuntutan mahasiswa yang demo di depan dpr',\n 'ini alasan bogor dan bandung jadi kota favorit lomba sepeda',\n 'ada politikus hingga jurnalis , siapa paling cocok jadi mensos ?',\n 'pelajar demo ricuh hingga lewat tengah malam , ini kata mendikbud',\n \"' pasal unggas jalan-jalan ' di ruu kuhp ada kasus konkretnya , yuk baca !\",\n 'viral pelajar tewas saat hendak ikut demo dpr , begini kejadiannya',\n 'agar siswa tak demo turun ke jalan , ini yang dilakukan disdik jateng',\n 'seru ! ada mantan suami istri bertarung di pilkades serentak di sragen',\n \"gotong keranda mayat ' save kpk ' , massa gejayan memanggil : innalillahi . . .\",\n 'duarr ! bahan peledak terduga teroris jakut didisposal , warga tepuk tangan',\n 'ungkit aksi 1998 , ini 7 tuntutan massa #gejayanmemanggil',\n 'staf presiden berkunjung ke banyuwangi , ini lho tujuannya',\n 'ngeri ! aligator ditemukan hidup di kolam belakang sekolah',\n \"indonesia banyak ' dilirik ' saat sidang majelis umum pbb , ini alasannya\",\n 'mengenaskan ! dikira beruang liar , pria ini ditembak mati putranya',\n \"rkuhp denda gelandangan maksimal rp 1 juta , ini cerita para ' pengemis tajir '\",\n 'mulan jameela cs ditetapkan jadi anggota dpr , ini penjelasan gerindra',\n 'soal ruu kuhp , yuk baca lagi putusan mk soal zina dan lgbt',\n 'ini cara masyarakat simeulue mengantisipasi tsunami',\n \"ini rekayasa lalin di sekitar lokasi aksi ' gejayan memanggil '\",\n 'rusuh wamena , berikut ini rangkaian fakta-faktanya',\n 'gelombang demo tolak pelemahan kpk se-indonesia , ini titik-titiknya',\n 'bukan di china , ini long march massa aksi melintasi pertokoan magelang',\n \"viral cuitan ' sekolah yang pinter biar gajadi polisi ' , ridwan kamil : hoax !\",\n 'diskon ! naik trans semarang di 2 halte ini bisa bayar rp 10 aja',\n '5 manfaat pilates untuk ibu hamil , apa saja ?',\n 'selalu ingin tahu , 5 zodiak ini tidak bisa menghargai privasi orang lain',\n 'move on , ini 5 tanda mantan tak akan mengajakmu balikan',\n 'apakah ada manfaat minum air mineral ? ini faktanya',\n 'tetap tidur lelap , begini cara minum kopi tanpa harus melek semalaman',\n 'mudah bimbang , 5 zodiak ini sering dipengaruhi orang lain',\n 'suka kepo , 4 zodiak ini paling sering mengganggu privasi temannya !',\n '6 zodiak yang diprediksi paling jahat , mengapa ?',\n 'kepribadian ungkap cara menghabiskan uang , begini jika kamu ekstrovert',\n '4 foto terbaru yeonwoo momoland setelah vakum , wajah berubah ?',\n 'dikritik soal foto bikini , ini tanggapan shandy aulia',\n 'ini pengakuan kim kardashian mengenai psalm west',\n 'bukan teknis , ini tantangan berat ari lasso tur di 3 kota',\n 'jangan sampai terlewatkan , penggunaan toner pada rutinitas perawatan kulitmu',\n '8 kebiasaan yang bikin kamu lebih awet muda',\n '5 zodiak yang sering melanggar privasi seseorang',\n 'susu bubuk dan susu cair sama baiknya , ini kata ahli',\n '4 tanda pasangan siap berkomitmen dalam hubungan',\n 'tidak suka berbohong , 5 zodiak ini dikenal paling jujur',\n 'sering stres karena masalah uang ? simak tips mengatur keuangan ini',\n '4 zodiak yang kesulitan berterima kasih ke orang lain',\n '5 zodiak paling anarkis dan selalu membangkang terhadap otoritas untuk bisa hidup bebas',\n 'jika jalanmu cepat , seperti ini tipe kepribadianmu',\n 'kulit ubi jalan kaya nutrisi , ini cara makan ubi jalar bersama kulitnya',\n 'kerap ditanya kapan nikah , begini jawaban chand kelvin',\n 'ciptakan euforia , ini 5 fakta kedatangan nct dream ke indonesia',\n 'jajal dunia akting , ini yang membuat sivia azizah tertarik main di film nkcthi',\n 'bikin heboh , rossa diapit 6 anak muda nct dream',\n 'hari radio nasional , ini 8 selebriti indonesia yang merupakan penyiar radio',\n 'begini arti nama anak kedua sandra dewi',\n 'ingat kemal mochtar ? ini kisahnya turunkan bobot tubuh dari 120 kg jadi 60 kg',\n 'jalan kaki hingga yoga , ini 5 olahraga terbaik untuk ibu hamil',\n '4 fakta tentang autisme yang wajib diketahui',\n '19 hadiah untuk calon atau ibu mertua yang sulit ditaklukkan',\n 'mengapa kurang tidur bisa bikin gemuk ? ini alasan ilmiahnya',\n '4 zodiak ini rutin introspeksi diri dan bercermin dalam menjalani kehidupan',\n '4 zodiak ini akan alami masa terbaik di bulan agustus-september 2019',\n 'jangan dibuang , ini manfaat kupasan kulit kentang untuk kulit',\n 'punya nutrisi tinggi , ini cara mengolah kulit kentang agar bisa dimakan',\n 'diabetes hingga kanker , ini manfaat kulit pisang untuk kesehatan',\n 'bisa dimakan , ini manfaat kulit putih pada semangka !',\n 'secara ilmiah , ini alasan orang putus cinta balikan lagi dengan mantannya',\n 'menurut studi , ini waktu paling tapat untuk berhubungan intim',\n 'sesal shireen sungkar atas meninggalnya bj habibie , kenapa ?',\n 'bj habibie meninggal , begini sedihnya reza rahadian',\n 'dikira jadi pria feminin di film bebas , begini tanggapan baskara mahendra',\n 'begini rencana pemakaman bj habibie di tmp kalibata',\n 'raditya dika dan anak terserang autoimun , simak gejala yang terjadi',\n '5 hal penting yang harus diingat pemilik kulit sensitif',\n 'jangan panik , ini tips mengatasi anak rewel akibat demam tinggi',\n 'hati-hati gadget dapat membuat mata kering , ketahui alasannya',\n '10 fakta tentang cinta yang penting diketahui',\n 'putus cinta bukan masalah , 3 zodiak ini cepat move on',\n 'ini pentingnya air mineral untuk kesehatan',\n 'jangan dibuang , ini manfaat sehat kulit bawang bombay !',\n 'makanan pedas bisa meningkatkan nafsu makan , benarkah ?',\n '5 zodiak ini dikenal tak mau mengalah karena merasa paling benar',\n 'apakah air putih punya kalori ? ini faktanya',\n 'kunyit hingga buah bit , ini pewarna alami untuk makanan',\n 'mengurangi makan nasi , 5 alternatif pengganti nasi ini sangat bergizi !',\n 'tak perlu memaksa , ini 6 cara agar pria mau berkomitmen padamu',\n 'fimela fest 2019 : self love , ini alasan mencintai diri sendiri itu penting',\n 'suka menggantungkan tas di lengan , seperti ini kepribadianmu !',\n 'bisa diandalkan , 4 zodiak ini akan jadi sahabat yang paling kamu butuhkan',\n 'yeonjun txt ulang tahun , ini fakta yang perlu kamu tahu tentangnya',\n 'sudah terpilih , ini dia member yang jadi leader superm',\n 'dikabarkan jadi siti gahara di jagat sinema bumilangit , ini kata cinta laura',\n 'baru tayang , ini sinopsis warkop dki reborn',\n 'tips ampuh hilangkan noda hitam pada kulit wajah',\n 'ingin rambut terlihat prima saat bangun tidur ? ini rahasianya',\n 'alasan anak sebaiknya tidak konsumsi jus buah berlebihan',\n 'penuh motivasi , 4 zodiak ini selalu memastikan mimpinya terwujud !',\n 'suka bersikap seperti ini ternyata membuatmu menyebalkan !',\n 'suka mendominasi percakapan ? seperti ini dirimu di mata orang lain',\n 'rambut gampang lepek ? 3 hal ini mungkin penyebabnya',\n 'liburan , alasan kenapa rating sangat penting saat memilih hotel',\n 'suka membawa tas di tangan , begini kepribadianmu !',\n 'tidak takut gagal , 4 zodiak ini suka ambil risiko besar',\n '7 cara mengetahui anak kesepian , perhatikan tandanya !',\n '3 menu sarapan ini ternyata buruk bagi kesehatan',\n '4 zodiak ini tidak suka berada di alam terbuka',\n 'zodiak mingguan 16-22 september , 3 zodiak ini akan alami karir terbaik',\n 'hati-hati , 4 pasangan zodiak ini sering alami pertengkaran dan perselisihan',\n 'zodiak mingguan 16-22 september , 3 zodiak ini akan alami karir terburuk',\n 'zodiak mingguan 16-22 september , 3 zodiak ini akan alami cinta terbaik',\n 'zodiak mingguan 16-22 september , 3 zodiak ini akan alami cinta terburuk',\n '4 fakta menarik ikon yang jarang diketahui orang',\n 'anaknya trauma ke dokter gigi , begini cara zaskia adya mecca menyiasatinya',\n 'agar selalu terlihat rapi , hindari 5 penyebab rambut kusut',\n 'bukan ketombe , ikuti tips menghilangkan rasa gatal di kulit kepala',\n 'tanda kepribadian ambisius , jika kamu punya koleksi benda ini !',\n 'berkencan di usia 30 ? ini tips penting yang harus dipahami',\n 'jangan tersinggung , 4 zodiak ini memang suka bicara blak-blakan',\n 'saling melengkapi , 4 pasangan zodiak ini jarang bertengkar',\n 'mudah beradaptasi , ini dia 5 zodiak yang sangat menikmati gaya hidup nomaden',\n 'santan hingga daun pandan , ini bahan pelengkap jajanan tradisional',\n 'ini alasan buah pisang sangat baik dimakan penderita asam urat',\n 'ternyata ini cara memasak ikan yang paling baik dan sehat',\n 'legenda musik indonesia , ini 5 fakta tentang chrisye',\n 'mengalami kdrt , begini fakta tiga setia gara',\n 'irish bella alami pendarahan di usia kandungan 6 bulan , ini penyebabnya',\n 'hijabers , sudah tepatkah cara merawat rambutmu ? cari tahu lewat kuis ini yuk',\n 'alis terasa semakin tipis ? cek beberapa penyebabnya',\n 'ternyata musik seperti ini yang mampu meningkatkan motivasi dan semangat',\n 'sebelum yoga , sebaiknya hindari mengonsumsi 4 makanan ini',\n 'tidak lapar tapi ingin makan terus , kenali 4 penyebabnya',\n 'pandai bersosialiasi , 3 zodiak ini sangat menikmati hidup',\n 'ingin tidur lebih cepat di malam hari ? pakai piyama dari bahan ini',\n 'selain uang , ini yang bikin orang enggan travelling sendiri',\n 'berat badan turun cepat jika rajin sarapan ini , menurut studi',\n 'luar biasa , ini manfaat air cucian beras untuk rambut',\n 'menangislah , karena ini manfaat menangis untuk tubuh',\n 'jenis musik ini yang membuat orang tidak mudah stres saat bekerja',\n 'siap kembali usai rehat , ini penampilan baru jungkook bts',\n 'dikabarkan jalin asmara dengan jungkook bts , perempuan ini minta maaf',\n 'kenapa raisa dan zodiak gemini cocok jadi penyanyi ? intip karakter mereka',\n 'disebut lebih seram dari pengabdi setan , ini sinopsis film perempuan tanah jahanam',\n 'pilih olahraga zumba , ini alasan putri marino',\n 'tayang pada oktober 2019 , ini 5 fakta menarik perempuan tanah jahanam',\n 'tak perlu ke dokter kulit , ini trik hilangkan milia',\n 'punya kulit sensitif ? simak tips aplikasi makeup yang tepat berikut ini',\n 'perawatan kulit seluruh tubuh , simak 3 cara cegah kulit kering',\n 'sudah cukupkah kandungan protein rambutmu ?',\n '3 racikan tepung beras untuk perawatan kulit , pernah coba ?',\n 'alasan ibu hamil rentan stres dan cara mengatasinya',\n 'anak tidak mau makan nasi , apakah berbahaya ?',\n '3 penanganan kehamilan risiko tinggi , agar anak terlahir sehat',\n 'baik hati , 5 zodiak ini tidak pernah tega menyakiti orang lain',\n 'bersabarlah , ini 10 tanda pasangan selingkuh di belakangmu',\n 'selain harga terjangkau , ini inovasi pada smartphone yang dibutuhkan gen z',\n 'makan makanan berserat bisa cegah kanker , ini alasannya',\n '8 hal yang diperhatikan pria darimu saat pertama kali bertemu',\n 'kamu bisa mengandalkan mereka , 6 zodiak yang selalu memiliki inisiatif',\n 'umumkan status gender , sam smith inginkan sebutan ini',\n 'mesra sekali , lihat aksi darius sinathrya gendong donna agnesia',\n 'harry styles jadi penghambat reuni one direction ?',\n 'reaksi tak terduga luna f(x) usai tinggalkan sm entertainment',\n 'bercerita tentang anak konflik palestina , ini sinopsis film hayya',\n 'nicky tirta yang santai soal jodoh , lihat karakternya melalui zodiak taurus',\n 'fimela fest 2019 : 3 faktor seseorang melakukan beauty bullying , ini kata psikolog',\n 'dipetisi karena bahas oplas & pajang foto jimin bts , ini kata satria mulia',\n 'nonton wimbledon , meghan markle tampil kasual kenakan jeans , sudah kembali langsing !',\n 'sukses jadi artis , begini potret rumah mpok alpa yang sederhana di perkampungan',\n 'blak-blakan , gisella anastasia ungkap penyebab cerai dari gading marten',\n 'sinopsis drama life episode 16 , akhir cerita yang manis',\n 'tak ingin banyak dituntut , dita soedarjo ingin punya pacar bule ?',\n 'penggemar alami kecelakan , taylor swift kirim ucapan manis',\n 'berkarir di australia , artis 90-an multitalenta ini siapkan banyak judul film',\n 'sangat suportif , monita tahalea makin jatuh hati dengan suami',\n 'makan malam di gunungkidul , ini menu yang dipesan suju dan tvxq',\n 'inilah serial pendek netflix yang wajib kalian tonton',\n 'rencana melahirkan di luar negeri , nikita mirzani : pengen show off aja , biar sombong !',\n 'inilah hadiah istimewa penggemar di hari ulang tahun lisa blackpink',\n \"' let me love you ' milik dj snake sebenarnya diciptakan untuk cl 2ne1 ?\",\n 'liburan bersama suami , cantiknya priyanka chopra gunakan bikini',\n 'pesawat yang ditumpangi mendarat darurat , keanu reeves jadi pahlawan',\n 'marah besar karena pangeran william selingkuh , kate middleton ucap 1 permintaan ini',\n '7 pasangan dalam drama ini punya hubungan paling sehat !',\n 'kuliah di london , el rumi sudah nyoblos duluan !',\n 'annisa pohan diperlakukan bak imigran gelap oleh petugas bandara singapura',\n \"ini alasan kenapa captain america dibuat tetap hidup di ' avengers : endgame '\",\n '12 foto wajah asli idol k-pop saat bangun tidur , ada lisa blackpink - v bts !',\n \"jisoo dan jennie blackpink ' cover keong racun ' , kocak banget !\",\n 'adik angela gilsha larang bayi naik pesawat : ajarin diam atau mulutnya diselotip !',\n 'ditelepon sasaeng fans saat live , ini yang dilakukan jungkook bts',\n 'viral ! persamaan gaya kai exo dan krystal f(x) , bikin fans baper sendiri',\n 'foto punggung kai exo ini sering dikira jungkook bts oleh army',\n 'umumkan hubungan dengan ashley benson setelah satu tahun , ini alasan cara delevigne',\n 'aktor ternama korea ini akui bersusah payah melunasi hutangnya',\n '8 foto visual bomb v bts vs cha eun woo , beda gantengnya bikin galau milih',\n '11 drama korea 2019 yang tak boleh dilewatkan , masih gagal moveon',\n 'inilah sosok ceo baru yg entertainment , seorang wanita',\n 'ada gilang dirga show di jicomfest 2019 , siapa lagi yang melucu di hari pertama ?',\n 'perasaan deddy corbuzier setelah mualaf , bebas dan plong !',\n 'setelah pelembut pakaian , jungkook bts bikin minuman ini ludes terjual',\n '9 k-pop idol bak dewi pakai gaun mewah : suzy , yoona snsd & jennie blackpink',\n 'bukti percakapan seungri bagikan foto wanita telanjang di grup chat',\n \"ini alasan produser ' persona ' pilih iu jadi pemeran utama\",\n 'soal kembali berpindah keyakinan , ini tanggapan pengacara steve emmanuel',\n 'menikah sejak usia muda , pasangan seleb ini jauh dari gosip miring',\n 'terjun ke dunia akting , para artis ini ada yang mulai sejak masih belia',\n 'romance-thriller , ini deretan drama korea terbaru yang seru ditonton streaming',\n '2 inisial baru dalam jaringan narkoba jefri nichol tertangkap , rekan artis ?',\n 'terjawab , begini cara captain marvel temukan tony stark di luar angkasa',\n 'andhika pratama larang ussy sulistiawaty tonton aksinya di jicomfest 2019 , ada apa ?',\n '7 k-pop idol makin ganteng dengan rambut hitam legam , suga bts - johnny nct',\n 'foto jihyo twice sering datangi rumah kang daniel , sudah 7 bulan pacaran ?',\n 'jihyo twice dan kang daniel pacaran , begini komentar dari netizen korea',\n 'berkas nikah ini ungkap agama rina nose yang sebenarnya',\n 'reaksi kaget gading marten saat dengar gempi sebut nama wijaya saputra',\n 'pelukan dan gandengan tangan , roy kiyoshi dan evelyn nada anjani resmi pacaran ?',\n \"kang daniel - jihyo twice pacaran , kenapa lagu baekhyun exo ' un village ' trending ?\",\n '5 foto irish bella jalani maternity shoot , cantik dan elegan bagaikan boneka',\n 'diary waktu sd beredar , agama sehun exo terungkap',\n 'nama asli chef juna terungkap saat unggah sertifikat kompetensi',\n 'terungkap ! begini penampakan kamar shahrukh khan di mannat , luas dan mewah',\n 'princess charlotte kembali pamer pose gemas , sampai bikin kate middleton meleleh !',\n 'terungkap , choi siwon takjub pada satu hal ini dari fans indonesia',\n '10 film horor indonesia yang perlu kamu tonton , dijamin bikin merinding',\n 'beruntung , tiga fangirl asal indonesia ini diantar ayah yunhyeong ikon',\n 'terungkap ! nikita mirzani tak berani berseteru dengan sosok ini',\n \"viral , editan krystal f(x) & jennie blackpink yang bikin kai exo ' melongo '\",\n \"uang bukan alasan , pemain ' ave maryam ' tidak dibayar ?\",\n \"dulu panggil ' sailor moon ' , setelah putus vicky prasetyo sebut anggia ' nenek gayung '\",\n 'fakta lengkap produce x101 yang perlu kamu tahu',\n 'diancam injak leher oleh nikita , tessa mariska samakan nm dengan pohon tauge ?',\n \"10 hal unik yang mungkin kamu lewatkan di mv blackpink ' kill this love '\",\n \"semula kesal dipanggil ' babang tamvan ' , kini andika hasilkan 3 mobil - 2 rumah !\",\n 'fakta lengkap produce x101 yang perlu kamu tahu',\n '7 fakta madam shim , wanita berpengaruh dicurigai dalang kasus jang ja yeon & seungri',\n 'tak jadi anak emas jokowi . begini tanggapan kaesang pangarep',\n 'vebby palwinta akui sudah belajar taaruf , siap segera nikah ?',\n 'sempat mengaku mualaf , ternyata kriss hatta tak pernah memeluk islam',\n 'liburan melulu , kini syahrini dan reino barack kompak makin gendut ?',\n 'album focus dari jus2 got7 ceritakan tentang panca indera , sudah dengerin ?',\n 'tanyakan hal tak pantas pada bts , reporter ini dihujat netizen',\n \"sederet artis ini siapkan ' hadiah ' spesial bagi mereka yang nyoblos\",\n 'tora sudiro - adipati dolken tirukan selfie nicholas saputra , siapa paling mirip ?',\n 'genap 45 tahun , intip kejutan manis yang didapat victoria beckham di ulang tahunnya',\n 'kaki cedera tertimpa lemari , syahrini lupakan rasa sakit dengan cara ini',\n 'sebut dirinya seperti monyet , begini kalau luna maya gelantungan di pohon',\n 'bukan menjadi pembanding , ini perbedaan komik gundala versi baru dan klasik',\n 'foto keluarga lisa blackpink , ayah tirinya orang swiss - ibunya cantik banget',\n \"heboh ! ' warkop dki reborn 3 ' jadi film pertama yang laksanakan mega premiere\",\n 'upi didaulat garap film jagat sinema bumilangit selanjutnya ?',\n 'ruben onsu berencana ke ntt , bakal urus adopsi betrand peto ?',\n 'bastian steel hidup dalam pergaulan bebas dan punya anak istri dalam film ini',\n 'ada sosok ari tulang di gundala , bisa tebak perankan siapa ?',\n '9 aktris cantik yang pernah perankan karakter jelek di drama , suzy - lee sung kyung',\n \"14 fakta menarik ' avengers : endgame ' yang perlu kamu tahu sebelum nonton\",\n 'barbie kumalasari akui punya suara jazzy , cuma bisa dinikmati yang bermusikalitas !',\n 'barbie kumalasari bocorkan honor sekali tampil di tv , tembus dua digit !',\n 'selalu diberitakan dari sisi negatif , ini pesan barbie kumalasari untuk putrinya',\n 'ratna galih program bayi tabung demi dapat anak perempuan , ini alasannya . . .',\n 'kekayaan barbie kumalasari kerap diragukan : biarin mengurangi pajak saya kan ?',\n 'isu salmafina pindah agama merebak , berikut 15 artis yang pernah diterpa hal serupa',\n 'jadi special guest minie tv , bayaran vanessa angel bisa buat beli pulau ?',\n 'masalah semakin panjang , fairuz a . rafiq pernah alami kdrt dengan galih ginanjar ?',\n \"6 fakta xana tang , bintang film ' mulan ' yang juga sahabat iqbaal ramadhan\",\n 'masuk gang sempit , berikut 4 fakta rumah asli barbie kumalasari dan galih ginanjar',\n \"pablo benua dan rey utami ditahan , 12 seleb ini juga jadi korban video ' mulut sampah '\",\n '10 kolaborasi idol k-pop yang nagih banget !',\n 'kevin aprilio betah dengan rambut gaya emo , vicy melanie risih ?',\n 'nonton raditya dika dan line up lain dalam jicomfest 2019 , berapa harga tiketnya ?',\n 'istri ajun perwira ungkap salmafina sunan sudah nyaman dengan keyakinan barunya ?',\n 'mantan pramugari bongkar kelakuan buruk idol k-pop di pesawat , siapa yang terbaik ?',\n 'barbie kumalasari tak penuhi pemeriksaan kepolisian , begini penjelasan pengacaranya',\n \"tessa mariska terseret kasus ' ikan asin ' , ada apa ?\",\n '6 fakta sosok iyan sambiran suami nunung yang juga ditangkap karena narkoba',\n 'spoiler improvindo di jicomfest 2019 , mc dani jamin bakal bikin ngakak',\n 'heboh kabar video masturbasi atlet dw , begini komentar mikha tambayong',\n 'co working space dengan view laut pertama dan satu-satunya di jakarta',\n '20 finalis siap perebutkan gelar puteri muslimah indonesia 2019 , siapa juaranya ?',\n 'rumah berlapis emas , dari mana sumber kekayaan muzdalifah ?',\n \"' endgame ' jadi aksi pamungkas avengers , begini kelanjutan marvel cinematic universe\",\n 'gara-gara air , kim jae wook akhirnya cium park min young',\n \"posting foto dengan tagar ' proud of akad ' , ivan gunawan sudah nikah ?\",\n 'begini upaya kate middleton damaikan pangeran william dan pangeran harry',\n 'hebat ! nurul bashira , puteri muslimah indonesia 2019 sabet 2 gelar sekaligus',\n 'kedatangan seleb dan influencer di event wonderful noon , gimana keseruannya ?',\n 'baru nikah dengan fadel islami , muzdalifah dibuat naik pitam karena hal ini',\n 'dengar cut tary akui 3 kali berhubungan dengan ariel , begini reaksi suami',\n 'menangis di sungkeman syahrini - reino , rosano barack beri wejangan penting ini . . .',\n \"7 pasangan dalam drama korea dengan ' chemistry ' paling kuat\",\n 'tatap syahrini penuh cinta , ini yang dirasakan reino barack jelang sungkeman',\n 'pangeran harry beri tanda meghan markle sudah melahirkan ?',\n 'inilah kekayaan para bintang avengers dari terendah hingga paling tinggi',\n 'dinner silaturahmi syahrini - reino barack digelar tanpa orangtua , ada apa ?',\n 'resmi jadi ayah , ini nama anak raditya dika beserta artinya',\n '7 foto balita baekhyun exo , bukti dari kecil sudah punya aura seorang idol',\n 'langgar mitos usai pernikahan , inikah penyebab perceraian song joong ki ?',\n 'banjir komika favorit , begini cara dapetin tiket jicomfest 2019',\n 'selang 4 tahun kepergian olga syahputra , begini kondisi rumahnya sekarang',\n 'lama tak terlihat di televisi , begini kabar terbaru romy rafael',\n 'bukan zendaya , penyanyi satu ini yang bakal perankan ariel little mermaid live action',\n \"11 fakta zoha rahman , gadis muslim berhijab di ' spider-man : far from home '\",\n 'pernah nyatakan ibunya idap bipolar , begini kondisi sebenarnya ibu barbie kumalasari',\n '3 wanita yang pernah dekat dengan diego michiels , ada nikita willy juga !',\n 'digrebeg di hotel , aktor ftv ridho illahi berduaan dengan selebgram chagii amelia ?',\n 'umur 3 bulan , begini wajah baby zalina anak raisa dan hamish daud sekarang',\n 'inilah member bts yang punya pendapatan paling besar , bias siapa nih ?',\n 'bakal tampil di jicomfest 2019 , intip video gaya lawakan mli yang super gokil',\n 'masih cinta , 5 pasangan seleb indonesia yang balikan - rujuk setelah sempat cerai',\n \"alasan black widow merelakan diri di ' avengers endgame '\",\n '6 foto kemiripan nia ramadhani dan lisa blackpink , cocok jadi kakak adik ?',\n 'crazy rich pluit ! pria ini beli yacht raffi ahmad cash 4 miliar !',\n '3 keunikan hubungan hamish - raisa - zalina , tak pernah terungkap sebelumnya',\n \"12 potret cantik ming xi , model victoria ' s secret yang dilamar anak miliuner china\",\n '7 artis indonesia ini rayakan waisak , siapa saja ?',\n 'heboh ! syahrini dan luna maya sepanggung bareng di shopee ramadan tv show',\n 'sambut ramadan , 3 penyanyi muda ini berbagi kebahagiaan dengan anak-anak panti asuhan',\n \"8 fakta menarik ' aladdin ' properti pakai perhiasan asli lho\",\n 'habis jutaan rupiah di supermarket , struk belanja nikita mirzani panjang banget !',\n 'cowok 22 tahun dicoret dari kartu keluarga , diumumkan lewat koran !',\n '6 film layar lebar ini perdana tayang di sctv untuk temani libur lebaran kamu',\n '10 idol korea yang diperkirakan berangkat wajib militer tahun depan , ada bts & exo',\n '10 fakta vincent raditya , pilot yang lisensinya dicabut karena video prank limbad',\n \"dwayne johnson ' the rock ' bakal bergabung ke marvel cinematic universe ?\",\n 'deretan kpop idol paling fashionable , bisa contek gayanya nih !',\n '2 seleb ini jalani puasa pertama setelah putuskan jadi mualaf',\n 'liburan ke eropa , spider-man punya kostum baru ?',\n 'alami kecelakaan mobil , mantan idol ini tewas seketika',\n \"fakta unik ' pokemon detective pikachu ' , kini bisa ngomong seperti manusia\",\n '14 selebriti hollywood ini ternyata muslim & ikut puasa di bulan ramadan',\n 'sophia latjuba datang ke ulang tahun gading , roy marten ungkap hubungan mereka',\n '8 seleb indonesia ini disebut hamil duluan saat menikah , ternyata hoax',\n 'hengkang dari the voice setelah 16 season , adam levine ada masalah ?',\n 'irina shayk - bradley cooper putus , lady gaga penyebabnya ?',\n \"sederet rumor menarik tim ' avengers ' baru , akan dipimpin captain marvel ?\",\n 'pasca avengers endgame , petinggi marvel studios sudah kantongi nama untuk fase 4',\n '8 k-pop idol ini pernah mengaku naksir dengan idol lain , siapa saja ?',\n 'digombalin penggemar , begini reaksi malu-malu jisoo blackpink',\n '5 tahun merantau di jakarta , akankah fendy chow memenuhi harapan sang ibu ?',\n '8 tahun bernaung di jyp entertainment , soloist cantik ini memutuskan hengkang !',\n 'unggah video ahmad dhani bersama anak , mulan jameela kangen ?',\n 'viral video choi siwon kepedasan , tembus 16 juta viewer dalam 2 hari !',\n \"6 ' squad ' di drama korea ini , benar-benar jadi ' friendship goals '\",\n 'dancer k-pop terpopuler saat ini , gak kalah kece dari idol !',\n \"unggah foto di liburan , bts siapkan program ' bon voyage ' ?\",\n 'menangis saat anang gantikan posisinya di indonesian idol , ini alasan armand maulana',\n 'heboh barbie kumalasari naik pesawat 8 jam , sederet seleb ini tulis caption menyindir',\n 'penghasilan verrell bramasta 3 bulan jadi youtuber , bisa beli 2 mobil !',\n \"selebritis yang jadi terseret jadi ' korban ' skandal bts , siapa saja ?\",\n '12 transformasi millendaru , dari cowok cantik berdada bidang - doyan bikinian',\n 'resmi diluncurkan , ini gebrakan baru di festival film indonesia 2019',\n '5 film indonesia terbaru yang bikin kamu #antingaret berangkat ke bioskop',\n 'taemin shinee akan tampil di hut rcti ke-30 , shawol beruntung bisa bertemu !',\n 'ini bukti sehun exo sosok religius , tak banyak yang tahu',\n 'dipenjara bareng galih ginanjar atau cerai , mana yang akan dipilih barbie kumalasari ?',\n \"james gunn ungkap batman bakal muncul di ' suice squad 2 ' ?\",\n 'mia khalifa buka-bukaan tentang video panas berhijab , diteror isis !',\n 'ruben onsu ulang tahun , ini 16 transformasinya dari tembem abis - segar awet muda',\n '12 artis ini pernah jadi anggota paskibra , siapa saja mereka ?',\n 'pelukan dengan reino barack , ini harga sweater syahrini yang harganya sampai 2 digit !',\n \"10 idola dengan rahang tajam ' mengiris hati ' , kai exo sampai bobby ikon\",\n 'jual rumah demi shakira , kediaman denada ditawar keluarga menteri dengan harga segini',\n 'nia ramadhani hadiri pernikahan anak raam punjabi , sebal sama bcl gara-gara ini',\n '15 pasangan seleb korea yang cinlok tak berakhir bahagia : putus - cerai',\n 'terkuak ! ini alasan ali syakieb - citra kirana putus , bukan karena rezky aditya',\n 'yuk , jemput impian kamu bareng julian jacob !',\n 'nama anak ditiru fans , franda : bayimu tak pantas pakai nama itu !',\n \"hotman paris mengaku dapat panggilan ' gus lora ' , begini penjelasan nu\",\n 'inilah sederet tipe pacar yang biasa ditemui dalam drama korea',\n 'inspirasi gaya tas pinggang ala kylie jenner , effortless stylish !',\n 'sandra dewi akhirnya pamer wajah mikhael moeis , ganteng banget !',\n 'dami kwon kakak g-dragon bakal nikahi aktor kim min joon , begini detailnya',\n 'camila cabello dan shawn mendes pamer ciuman ala ikan , konfirmasi pacaran ?',\n 'booming iklan mie sedaap versi choi siwon , ternyata begini rasanya',\n 'karena ini teuku rassya buka restoran bertema papua',\n 'barbie kumalasari bakal ke amerika bareng boy william , begini ceritanya',\n 'barbie kumalasari & galih ginanjar dikabarkan pisah , begini klarifikasi indra tarigan',\n '5 film terbaik indonesia yang nggak pernah bosan ditonton lagi , apa judul favoritmu ?',\n 'kado pernikahan justin bieber , jam tangan mewah seharga 1 miliar !',\n \"18 tahun setelah ' kkkg ' , kajol dan kareena kapoor satu frame lagi dan makin stunning !\",\n 'ini alasan robby shine mantap berbisnis pusat kebugaran',\n 'halaman kapanlagi korea resmi launching , isinya apa aja sih ?',\n 'rosa meldianti ikut kontes puteri indonesia , lucinta luna merasa tersaingi ?',\n 'kocak ! gara-gara penilaian guru di masa lalu , deepika padukone ancam ranveer singh',\n 'keluar dari grup wa geng menteri ceria , melaney ricardo & luna maya berantem ?',\n 'pengakuan atta halilintar soal berhubungan intim di hotel bersama bebby fey',\n 'jelang pernikahan , hailey baldwin dapat pesta bachelorette yang seru dan nakal !',\n '4 tahun pergi , seperti ini kondisi makam olga syahputra',\n '7 k-pop idol yang mirip karakter animasi disney , j-hope bts - taeyeon snsd',\n '7 pemotretan terbaru jessica iskandar - nia ramadhani , bak bidadari turun dari langit',\n 'spider-man dikabarkan hengkang dari mcu , begini penjelasan sony pictures',\n 'cut meyriska sakit perut selama 5 tahun , ini serangkaian pemeriksaan yang dilaluinya',\n 'siapa sangka , sampo favorit alodita ternyata ada di supermarket !',\n 'deretan kpop idol paling bersinar , mana yang ingin kamu tonton konsernya ?',\n 'ruben onsu disebut punya tabungan rp 27 m , ini sederet sumber penghasilannya',\n \"peluncuran trailer ' gundala ' , abimana arasatya ungkap satu fakta unik\",\n 'jokowi hadiri nikahan wartawan , ternyata anak seleb terkenal',\n \"blak-blakan , millendaru ngaku pernah ada ' urusan ranjang ' dengan artis inisial zl\",\n 'sebelum tertangkap narkoba , ini deretan film jefri nichol !',\n 'jennifer dunn pamer rumah baru , super megah lengkap dengan kolam renang mewah',\n 'irwansyah main sinetron lagi bareng chelsea olivia , zaskia sungkar cemburu ?',\n '10 persiapan penting sebelum masuk area jicomfest 2019',\n \"harga starter pack sekolah saaih halilintar bikin ' sobat miskin ' melongo\",\n \"video adegan yang dihapus dari versi asli ' avengers : endgame ' , masih bikin nangis\",\n 'fakta mengejutkan terkuak , jennifer dunn bohong soal rumah barunya ?',\n 'dulu bercinta sehari 8 ronde , barbie kumalasari bakal minta bilik asmara untuk galih ?',\n 'kalau pandji , ernest dan raditya dika sepanggung , siapa paling bikin kamu ketawa ?',\n 'vanessa angel bicara soal jodoh : siapa sih cowok yang mau nerima aku ?',\n 'ikut sarwendah ke lokasi syuting , inilah hal lucu yang dilakukan betrand peto',\n 'ini alasan yang bikin uus memilih untuk berhenti pakai narkoba',\n 'baru dibaptis , ini pengakuan anwar hadid soal perbedaaan agama dalam keluarga',\n 'youtuber tana mongeau bawa ular ke vmas 2019 , tiru gaya britney spears 18 tahun lalu ?',\n 'foto orangtua jungkook bts , ayahnya ganteng banget - ibunya awet muda',\n 'suka film horor ? berikut deretan film horor yang bakal tayang di bulan april',\n \"jenita janet jajal filler terobosan baru ' algenesss ' , 100 % bahan alami !\",\n 'rapat investor yg entertainment selesai digelar , ini hasilnya !',\n 'lucunya lee dong wook tak bisa berhenti menangis karena ini !',\n 'fakta menarik girlband korea selatan , momoland',\n 'heboh kasus jung joon young , youtuber ini ngaku pernah dilecehkan idol pria',\n 'wanita dengan tubuh berisi terbukti bikin pria lebih bahagia',\n 'kronologi lengkap pemuda di bandung tusuk gadis pujaan karena cinta ditolak',\n 'sarapan bikin ngantuk , mitos atau fakta ?',\n 'sibuk hingga batal bertemu pimpinan kpk , ini agenda jokowi seharian',\n 'spanduk pecel lele hingga obat kuat jadi cara jakmania kritik persija',\n '5 fakta menarik animasi spongebob squarepants yang perlu kamu tahu !',\n 'chris hemsworth atau natalie portman , ini bintang utama thor : love and thunder',\n 'ini anggota pansus pemindahan ibu kota bentukan dpr',\n 'penemuan terbaru ungkap penyebab punahnya dinosaurus',\n 'ketua hipmi lempar isyarat \" punya waktu longgar \" , ini respon presiden jokowi',\n 'jelang berakhirnya pemerintahan , 3 menteri jokowi pamit . . .',\n '6 reaksi shandy aulia hadapi netizen julid',\n 'pertarungan buaya 1 , 8 meter dan anakonda sepanjang 8 meter , siapa yang menang ?',\n 'ini langkah ditjen imigrasi setelah terima surat pencegahan dan pencabutan paspor veronica koman',\n 'ini hasrat pecatur andalan indonesia di piala dunia fide',\n 'disebut oleh dprd hanya ban serep ridwan kamil , ini kata uu ruzhanul',\n 'dirut sriwijaya air dicopot ?',\n 'ini cara para seniman tolak revisi uu kpk',\n 'bocoran foto daihatsu sigra facelift',\n 'kami mencari tahu mengapa cosplayer menyukai kostum karakter , ini jawabannya . . .',\n 'ini pesan terakhir istri yang gantung diri setelah cekcok dengan suami soal foto pelukan',\n 'ini alasan museum sejarah bentoel di malang dijual',\n 'saat luhut dan susi pamit . . .',\n 'tips bagi yang berniat memelihara vw kodok',\n 'karyawan amazon bakal turun ke jalan lakukan protes , apa alasannya ?',\n 'lewat siji , cara beda nikmati koleksi museum seni rupa dan keramik',\n 'bagaimana pilihan jenis gelas bisa pengaruhi rasa kopi ?',\n 'sri mulyani ingin rekam medis 267 juta penduduk ri diidentifikasi , kenapa ?',\n '4 fakta hari pertama penerapan sistem ganjil genap di jakarta barat',\n 'cukup bayar rp 5 . 000 untuk masuk ke 5 museum di jakarta ini',\n 'ketika menteri susi minta maaf dan akui dirinya sedikit tengil . . .',\n 'apa beda penarikan dan pencabutan paspor ? ini penjelasan pakar hukum',\n 'dul jaelani : tolong maafkan saya . . . maafkan saya . . .',\n 'disebut kerjanya cuma menembaki kapal , ini kata menteri susi',\n 'fakta sopir truk tanah jadi tersangka tabrakan beruntun di bintaro',\n 'kemal mochtar berhasil turunkan berat badan 50 kg dalam setahun , apa rahasianya ?',\n 'seorang polisi tepergok tanpa busana dengan istri orang , ini sanksi yang menanti',\n 'kerap diarak orang jepang , apa itu mikoshi ?',\n 'hari tanpa bayangan di indonesia , bagaimana bisa terjadi ?',\n 'cerita jatuh bangun pemilik warung dian dan barokah unhas hingga jadi langganan mahasiswa',\n 'diajak perang gubernur maluku , ini jawaban menteri susi',\n 'viral , seorang pengendara keluarkan jurus silat saat kena razia polisi',\n '7 kisah pasien ditandu menuju puskesmas , disebut \" ambulans desa \" hingga selamatkan ibu melahirkan',\n 'cukai rokok tahun depan naik , ini pertimbangan pemerintah',\n 'viral , penumpang berdiri 6 jam di pesawat demi istri bisa tidur',\n '16 manfaat renang bagi tubuh yang tak bisa diremehkan',\n 'saat 10 capim kpk \" dikunci \" dengan surat bermeterai ini . . .',\n 'viral video wanita bugil naik motor keliling samarinda , ini kronologi kejadiannya',\n 'polemik pb djarum vs kpai yang berujung stop audisi . . .',\n 'sby menitikkan air mata . . .',\n 'armand maulana jadi juri anaknya di the voice | dipenjara , santunan ahmad dhani terhenti ?',\n 'ditilang karena ganjil genap , begini cara mengurus denda tilang',\n 'apa itu espresso dan istilah lain di kedai kopi yang harus kamu tahu',\n 'jangan makan pisang saat sarapan , ini alasannya',\n 'ibu kota baru dikritik ridwan kamil terlalu luas , ini komentar gubernur kaltim',\n 'pindah ibu kota pengaruhi arus era kendaraan listrik ?',\n 'pihak sekolah tidak setuju andreas diasuh wali kota malang , ini sebabnya',\n 'empat fakta baru terungkap dalam sidang kasus narkoba jefri nichol',\n 'hari tanpa bayangan dan ekuinoks , sama atau beda ? ini penjelasannya',\n 'harga emas dunia turun untuk 3 hari beruntun , apa sebabnya ?',\n 'berbagai keluhan pengendara di hari pertama penerapan perluasan ganjil genap',\n 'awas virus joker , segera hapus 24 aplikasi ini dari ponsel android anda',\n 'heboh kasus perselingkuhan berujung pembunuhan , ini sisi klinisnya',\n '4 fakta menarik hari pertama ganjil genap di jakarta timur',\n '5 cara bikin rumah minim cahaya alami tampak lebih terang',\n 'viral video polisi razia mertua sendiri saat operasi patuh , ini penjelasan kasatlantas polres bojonegoro',\n 'disantuni rp 5 juta oleh ahmad dhani , keluarga korban kecelakaan dul merasa cukup ?',\n 'inilah iphone yang paling laris di semester pertama 2019',\n 'cerita paul cummings dan fasilitas disabilitas stadion kanjuruhan',\n 'pelamar cpns kini boleh berusia 40 tahun , untuk posisi apa saja ?',\n 'diputar serentak 12 september , ini 5 fakta film warkop dki reborn 3',\n 'ini 5 bank yang tawarkan bunga deposito tertinggi',\n 'bagaimana persiapan mobil tua sebelum touring jarak jauh ?',\n 'banyak kapal vietnam masuk zee indonesia , ini yang dilakukan menteri susi',\n 'panas-panas , 5 minuman es asli indonesia ini bikin segar',\n 'soal pembatasan mobil tua , ini harapan komunitas volkswagen indonesia',\n 'pengendara yang tak bertanggung jawab harus dipidana !',\n 'betrand peto resmi pindah ke jakarta , begini hari pertama sekolahnya',\n 'ini kronologi kecelakaan bus mira vs innova di nganjuk-madiun',\n 'jack ma putuskan pensiun , alibaba bakal hadapi kondisi sulit ?',\n '4 fakta zara jkt48 dan peran virgo',\n 'uu ruzhanul disebut dprd hanya ban serep , ini tanggapan ridwan kamil',\n 'anggaran pilkada surakarta 2020 capai rp 17 , 8 miliar , ini rinciannya',\n 'tak bisa lakukan pencegahan , ini cara imigrasi pulangkan veronica koman',\n 'video youtube \" lemot \" di smartphone ? ini cara mengatasinya',\n \"jokowi sebut 141 juta penduduk ri ' naik kelas ' pada 2020 , apa maksudnya ?\",\n 'ini alasan perlunya terowongan di tol cisumdawu dan mrt',\n 'toyota calya 2019 meluncur , simak detail harganya',\n 'melemah , ini kurs rupiah di 6 bank besar',\n 'ini alasan mengapa trotoar kalimalang berada di tengah jalan',\n 'ekspor perikanan indonesia kalah dengan vietnam , ini masalahnya',\n 'tips tampil lebih unggul dibanding kandidat pencari kerja lain',\n 'sepekan terakhir suhu di bengkulu makin dingin , ini penyebabnya',\n 'disinggung iriana jokowi , begini kondisi terkini kali bahagia di bekasi',\n 'ini modal desa kutuh bisa raup puluhan miliar rupiah',\n 'apa saja kewenangan dewan pengawas dalam mengawasi kinerja kpk ?',\n 'satu bulan berstatus waspada , bagaimana kondisi gunung slamet ?',\n 'pemprov dki potong tunggakan pajak hingga 50 persen , ini rinciannya',\n 'berikut 5 keunggulan daihatsu sigra',\n '5 hal menarik balkonjazz festival 2019 , pasar balkon hingga ditutup yura yunita',\n 'berlangsung usai pulang kerja , ini daftar harga tiket laga timnas u-16',\n '5 fitur menarik toyota calya yang wajib diketahui',\n 'ini alasan kolonel beben ingin maju di pilkada tangsel 2020',\n 'daihatsu sigra 2019 resmi meluncur , ini ubahannya',\n 'kalah dari marquez , ini kata quartararo',\n 'tuduhan polisi , bantahan veronica koman . . .',\n 'terminal 2 bandara soekarno-hatta jadi terminal traveloka , apa sebabnya ?',\n 'lahan 26 perusahaan sawit di kalbar disegel terkait karhutla , ini daftarnya',\n 'pdi-p dukung jokowi merevisi uu kpk , ini alasannya . . .',\n '3 investor asing tertarik bangun lrt jawa timur , siapa saja ?',\n 'anak keseringan main hp , bagaimana dampaknya ?',\n 'ini penyebab bayi 4 bulan di sumsel meninggal , sesak napas diduga terpapar kabut asap',\n 'apa saja ketentuan penyadapan yang diatur dalam draf revisi uu kpk ?',\n 'bus persib dilempari batu dan 2 pemain terluka , begini kronologinya',\n 'ini jadwal update android 10 untuk ponsel realme',\n 'ini ubahan eksterior dan interior toyota calya 2019',\n 'sempat viral , ini plus minus toyota calya dan daihatsu sigra',\n 'intip 3 arloji seiko bertema monster hunt',\n 'fahri hamzah usul jokowi segera lantik firli cs , ini alasannya . . .',\n 'ada 10 varian , ini harga lengkap daihatsu sigra 2019',\n 'driver grabcar bisa beli rumah dengan bunga kpr tetap , ini syaratnya',\n '3 hal ini jadi penyebab rendahnya minat baca anak indonesia',\n '30 orang jadi tersangka kerusuhan di papua barat dan 12 dpo , ini perannya . . .',\n 'beragam modifikasi komunitas buat kendaraan listrik',\n 'viral stand up comedy kiky saputri yang bikin fadli zon geleng-geleng kepala',\n 'ini tahapan kompetisi voli liga mahasiswa jawa timur',\n 'perkenalkan , ini gadis , anggota dprd maluku berusia 24 tahun',\n 'viral , artis indonesia bernama tiga setia gara menangis karena disiksa suami di as',\n 'viral ! penyanyi tiga setia gara mengaku alami kdrt di amerika serikat',\n 'ini capaian umj di liga mahasiswa 2019',\n '\" pencuri mata \" , sebab pemuda kecanduan game online alami kebutaan',\n 'benarkah fadli zon marah setelah di-roasting komika kiky saputri ?',\n 'cara mengolah sayuran yang benar agar nutrisinya tidak hilang',\n 'ini 6 tips agar masyarakat aman pakai gas elpiji',\n 'jika as ingin gelar perundingan pelucutan senjata nuklir , ini yang diminta korea utara',\n '\" urusan ranjang bukan urusan negara . . . \"',\n 'kabut asap di riau , ini tips pencegahan dan penanganan kesehatannya',\n 'selain spongebob squarepants , ini 4 animasi yang pernah ditegur kpi',\n 'alasan veronica koman baru buka suara . . .',\n 'ini 4 tim yang lolos dari euro futsal championship 2019 palembang',\n 'begini kronologi pelemparan bus persib bandung',\n 'halmahera selatan diguncang gempa , ini bedanya dengan guncangan juli',\n 'mau sukses bisnis buzzer media sosial , lakukan cara ini !',\n 'apa jadinya jika hiu di bumi menghilang ?',\n 'daftar harga mobil bekas rp 100 jutaan , ada avanza dan xenia juga',\n 'tips menjaga kesehatan kulit ala catherine wilson',\n 'ingin jadi digital marketing sukses ? pastikan punya sifat ini',\n 'komentar marquez dan rossi soal insiden sesi kualifikasi gp san marino',\n 'kpi beri sanksi spongebob squarepants , ini penyebabnya',\n 'tips agar keuangan tak tergerus inflasi',\n 'daftar top skor liga inggris , tammy abraham samai aguero',\n 'viral penipuan ojek online berkedok istri sakit , cukup dengarkan saja',\n 'jalan-jalan ala bts , ini 5 pasar unik dan serba murah di seoul',\n 'cerita pengalaman jadi player escort di laga tira-persikabo vs persib . . .',\n 'ini kata saut situmorang soal masa depan kpk pasca 3 pimpinan serahkan mandat ke presiden',\n 'dua cara malaysia hadapi uni emirat arab',\n 'esemka jadi mobil dinas , ini harapan sekda jateng',\n 'layangkan surat keberatan , ini 4 poin tuntutan persib ke pt lib',\n '4 prioritas sebelum mendesain ruang kerja di rumah',\n 'wilayah jakbar tertinggi pelanggar ganjil genap hari pertama , ini alasannya . . .',\n 'indonesian idol kembali digelar , 5 musisi ini menjadi jurinya . . .',\n 'tak cuma gangguan paru , ini efek polusi udara bagi tubuh',\n 'jokowi ungkap kelemahan pengusaha muda indonesia , apa saja ?',\n '\" jangan keruk emas di tanah leluhur kami \"',\n 'gejolak kabut asap , ini prediksi dinamika atmosfer indonesia',\n 'ini penyebab kecelakaan di tol jagorawi yang tewaskan 3 orang',\n 'anita wahid memahami langkah kpk serahkan mandat ke presiden , tapi . . .',\n 'rumah nanas spongebob ada di dunia nyata , yuk intip !',\n '5 cara cegah kutu tak ikut anda setelah bepergian',\n 'diet bisa berdampak buruk pada kekuatan tulang , apa alasannya ?',\n 'kisah bayi \" spesial \" yang lahir \" serba \" 9 / 11',\n 'bukalapak dikabarkan phk karyawan , ada apa ?',\n 'ini jadwal update emui android 10 untuk ponsel huawei',\n 'ini sebab tinggi badan gabby terus bertambah hingga capai 2 , 2 meter',\n 'ingin usaha anda tumbuh ? simak tips dari pebisnis sukses ryan margolin',\n 'ini jenis olahraga yang bikin tinggi , mitos atau fakta ?',\n 'ekspor riau turun , karena kabut asap ?',\n 'cukup jalan kaki dari stasiun bogor , 5 tempat wisata murah di bogor',\n 'ini identitas mayat perempuan yang ditemukan di irigasi',\n 'indonesia vs thailand , alasan suporter tamu tak takut ke jakarta',\n 'menurut google , ini tantangan pertumbuhan startup di indonesia',\n 'foto kehamilannya dinyinyiri netizen , ini jawaban shandy aulia',\n 'akhir perhelatan sos run to care 2019 , ini jumlah donasi terkumpul',\n '5 tanaman paling mematikan di dunia , salah satunya ada di indonesia',\n '6 hal ini batasi pkl berjualan di trotoar',\n 'mahasiswa pariwisata , ini 6 kiat sukses di industri \" hospitality \"',\n 'ini bedanya yukata dengan kimono',\n 'alasan kesehatan dan umur , kivlan zen ajukan penangguhan penahanan',\n 'simak tips investasi sejak dini ala petenis andy roddick',\n 'anang dan ashanty jual rumah mewahnya di cinere , tertarik beli ?',\n 'pembangunan ibu kota baru bisa tangkal risiko resesi ?',\n 'mengenang chrisye , kenapa karya sang legendaris tak pernah mati ?',\n 'banyak warga jabar hanya makan kecap dan kerupuk , ini kata pakar gizi',\n 'benarkah zodiak berhubungan dengan kepribadian seseorang ?',\n 'alasan irish bella dan ammar zoni rahasiakan jenis kelamin calon bayinya',\n 'isu ganti simon mcmenemy , begini tanggapan rahmad darmawan',\n 'raline shah rela bolak-balik amerika-indonesia , ada apa ?',\n 'benarkah rutin makan jamur turunkan risiko kanker prostat pada pria ?',\n 'cara menyimpan twit orang lain di twitter tanpa ketahuan follower',\n 'kata once soal kabar republik cinta management bangkrut',\n 'video perampokan rumah makan gratis di bogor viral , begini kejadiannya',\n 'begini cara andre taulany dapat diskon besar saat beli harley',\n 'yuk , intip koleksi mobil presiden dan wakil presiden pertama di museum joang 45',\n 'wapres jusuf kalla setuju ada dewan pengawas kpk , tetapi . . .',\n 'tarif cukai rokok naik , bagaimana persaingan di industri saat ini ?',\n 'alasan shandy aulia matikan kolom komentar foto kehamilannya di ig',\n 'mahasiswa sodorkan 6 poin soal karhutla , gubernur sumsel siap mundur , jika . . .',\n 'cara polisi tindak pelanggar ganjil genap agar tidak lolos',\n 'lelang proyek jakarta international stadium diprotes , apa kata kementerian pupr ?',\n 'gojek resmi beroperasi di bandara soekarno-hatta , begini cara pesannya',\n 'masih bingung , siapa saja yang harus bayar pajak ?',\n 'usai esemka , bagaimana arah pengembangan mobil nasional ke depan ?',\n \"peserta magang dapat ' karpet merah ' jadi pegawai pln\",\n 'grab bakal pakai kendaraan listrik , apa untungnya bagi mitra pengemudi ?',\n 'ini rincian skema biaya pembangunan ibu kota baru',\n 'jokowi mau bangun istana negara di papua , ini kata bappenas',\n 'sandiaga uno akan kembali gabung dengan gerindra ?',\n 'belum ada tersangka kasus art tewas diterkam anjing , kenapa ?',\n '3 hal tentang permintaan pembangunan istana presiden di papua',\n 'muncul usulan dki gunakan dua wagub , mungkinkah ?',\n 'potret kemiskinan , keluarga di karawang ini tinggal di gubuk mirip kandang ayam',\n 'jokowi : saya paksa bumn terima 1 . 000 masyarakat papua',\n 'ide anies legalkan pkl di trotoar , langgar undang-undang ?',\n 'catat , gerhana matahari cincin terlihat di indonesia pada 26 desember 2019',\n 'sby dan air mata rindu untuk sang belahan hati , ani yudhoyono',\n 'metro sepekan : cerita kecelakaan tol cipularang , siapa wanita berbaju putih ?',\n 'top 3 news : usai raya meninggal , bagaimana kelanjutan kasus video syur vina garut ?',\n 'video : pria pamer ilmu tenaga dalam saat ditilang polisi',\n '100 hari ani yudhoyono berpulang , ini kenangan sby akan sosok memo',\n 'kisah pilu asih , diperkosa dan jadi tumbal pesugihan teman dekat',\n '4 fakta sidang perdana kasus narkoba jefri nichol',\n 'mengaku jadi korban pemerkosaan , ini 4 fakta menarik tentang barbie nouva',\n 'jadi korban perkosaan , kenapa barbie nouva tak lapor polisi ?',\n 'heboh pengakuan barbie nouva pernah diancam pistol dan diperkosa',\n 'elza syarief kecewa dengan perlakuan hotman paris',\n 'video : hailee stainfeld bakal gabung marvel ?',\n 'susah tidur , jefri nichol ditawari ganja di restoran fast food kemang',\n 'sandra dewi bikin iri karena tetap cantik dan singset usai melahirkan',\n 'pelatih timnas indonesia sebut dua pemain thailand ini punya kualitas pembeda',\n 'prediksi timnas indonesia vs thailand : pantang kalah lagi !',\n 'daftar alumnus audisi beasiswa bulu tangkis pb djarum',\n 'jelang timnas indonesia vs thailand , banyak faktor yang bebani skuat garuda',\n 'dikabarkan ingin ke mu , winger juventus marah besar',\n 'headline : audisi pb djarum disetop , bagaimana nasib regenerasi atlet bulu tangkis ?',\n '3 kemenangan terakhir timnas indonesia atas thailand',\n 'jadwal timnas indonesia vs thailand : saatnya bangkit !',\n 'hatem ben arfa dan 7 pemain bintang yang tak punya klub',\n 'wonderkid thailand siap bikin malu timnas indonesia di jakarta',\n '4 pertemuan timnas indonesia vs thailand yang tak terlupakan',\n 'persib incar bachdim dan ferdinand ? begini kata robert alberts',\n '5 pelatih dengan bayaran tertinggi di dunia',\n 'penuh gairah , petenis seksi ini cium mesra pacar baru usai gagal di as terbuka',\n 'susunan pemain timnas indonesia vs thailand : beto kembali jadi andalan',\n '3 kendala manchester united yang belum diatasi ole gunnar solskjaer',\n 'alexis sanchez tak sudi balik ke mu lagi',\n 'samsung galaxy a20s punya tiga kamera utama ?',\n 'pes 2020 resmi meluncur , cek spesifikasi pc kamu apakah bisa main gim ini ?',\n 'top 3 tekno : harga samsung galaxy a50s bikin penasaran',\n 'indonesia bakal alami hari tanpa bayangan pada 23 september , apa itu ?',\n 'ini bocoran spesifikasi , harga , dan fitur iphone 11 yang meluncur malam ini',\n 'ini 4 rahasia tubuh seksi georgina rodriguez , pacar cristiano ronaldo',\n 'punya visi berbeda , apa yang diusung arif-doni untuk duduki kursi panas pssi ?',\n 'ada peran klopp dalam transfer coutinho ke bayern munchen',\n 'fekir masih sakit hati kepada liverpool',\n 'alasan simon mcmenemy usai timnas indonesia kalah telak dari thailand',\n 'timnas indonesia babak belur lawan thailand',\n 'arsenal bikin kesalahan fatal jual iwobi',\n 'observatorium laut milik jerman hilang misterius , dugaan mengarah pada . . .',\n 'top 3 global : sejumlah asteroid melintasi bumi mencuri perhatian',\n 'wanita diduga bomber bunuh diri meledak dekat markas militer filipina , teror ?',\n 'tiga asteroid melintas kemarin dan pagi ini , bagaimana dampaknya untuk bumi ?',\n 'hari pencegahan bunuh diri sedunia , ayo ikut berperan',\n 'korut tembakkan proyektil usai setuju bertemu as akhir september , pertanda apa ?',\n 'menguak makhluk misterius di loch ness skotlandia , teka-teki mulai terpecah',\n 'detik-detik gajah mengamuk di pawai buddha sri lanka , 18 orang terluka',\n 'teleskop radio raksasa di china mendeteksi sinyal dari antariksa , alien ?',\n 'kerap bikin bingung awam , ini perbedaan antara asteroid , komet dan meteor',\n \"donald trump sebut perundingan damai as - taliban sudah ' mati '\",\n 'kisah istri polisi di hong kong berhadapan dengan suami saat demonstrasi',\n 'serempet pejalan kaki , pemotor arogan ditangkap polisi',\n 'perhatikan 4 hal ini sebelum memilih bbm',\n 'kocak , pengendara wanita mabuk laporkan dirinya sendiri ke polisi',\n 'honda genio gunakan rangka baru , apa kelebihannya ?',\n 'banyak yang tak tahu , ini koleksi mobil bj habibie',\n 'motor listrik ini menjawab tantangan di lintasan balap',\n 'perhatikan hal-hal ini saat bangun kustom motor',\n 'perhatikan hal ini sebelum ganti shockbreaker honda adv150',\n 'komunitas mobil komentari perluasan ganjil genap',\n 'posisi kalapas sukamiskin kembali diganti , mengapa ?',\n '3 harimau sumatra dikabarkan muncul di siak , ini penjelasan bbksda riau',\n 'warga geger , ada tiga karung ganja dalam septic tank',\n 'alasan pemuda partai golkar diy minta wali kota yogyakarta mengundurkan diri',\n 'kabut asap kebakaran hutan makin parah di jambi , siapa bertanggung jawab ?',\n '6 masjid indah yang jadi destinasi wisata favorit dunia',\n 'resep cilok anti-alot , mengunyah tak lagi susah',\n 'menikmati sunset pulau dewata di toko oleh-oleh',\n 'mana yang benar , 4 atau 5 destinasi super prioritas ?',\n 'peneliti singapura ungkap fakta mengejutkan soal tsunami aceh',\n 'begini cara atasi depresi pada anak yang perlu orangtua tahu',\n 'remaja sering berpikiran untuk bunuh diri , begini 6 cara mencegahnya',\n 'cara cegah orang bunuh diri lewat medsos',\n 'pertanyaan kapan nikah yang terus menerus bisa picu orang ingin bunuh diri ?',\n 'keinginan untuk bunuh diri bisa muncul karena 5 kondisi ini',\n 'kecanduan seks , ibu satu anak ini pernah tidur dengan lebih dari 100 orang',\n 'tak sengaja telan air mani , apa saja risikonya ?',\n '4 karya bj habibie di industri dirgantara yang bikin bangga indonesia',\n 'hasil lelang proyek stadion bmw digugat , ini kata menteri pupr',\n 'milenial bakal sulit punya rumah di ibu kota baru',\n 'subsidi listrik turun , bagaimana nasib pelanggan 450 va ?',\n 'bj habibie meninggal , menteri bambang kenang soal beda mazhab pembangunan',\n 'bj habibie punya jiwa entrepreneur tinggi',\n 'capim kpk lili pintauli : saya tidak setuju dewan pengawas',\n 'stafsus presiden paparkan bukti jokowi serius bangun papua',\n 'bj habibie meninggal dunia , annisa yudhoyono : beliau siap dipanggil . . .',\n 'melanie subono kabarkan bj habibie meninggal : sampai jumpa di keabadian . . .',\n 'jokowi mendadak kunjungi rspad , tempat bj habibie dirawat',\n 'fakta-fakta penemuan jenazah asih korban pesugihan teman dekatnya',\n 'saksikan pertarungan sengit psm makassar dan psis semarang live di indosiar',\n 'capim nawawi : ada persoalan di wadah pegawai kpk',\n 'siapa yang unggul , persija atau persipura ? saksikan live di indosiar malam ini',\n 'gerindra setuju wacana wagub dki jakarta lebih dari satu , tapi . . .',\n 'ini yang akan didalami dpr dalam fit and proper test capim kpk',\n '4 hal soal polemik pemenang tender proyek stadion bmw',\n 'lima capim kpk akan ikuti fit and proper test hari ini',\n 'gerindra : kalau masih bisa jalan di trotoar , ngapain pkl diusir ?',\n 'pan¬†beberkan¬†janji-janji anies baswedan yang belum terlaksana',\n 'cerita jokowi soal harga bbm dan semen di papua',\n 'top 3 news : kisah pilu asih , jadi tumbal pesugihan teman dekat',\n 'desa di bali ini denda rp 1 juta pendaki gunung agung',\n 'keluarga asih tak percaya , anaknya jadi korban pesugihan teman dekat',\n '4 janji jokowi saat bertemu dengan tokoh papua',\n '4 fakta soal sakitnya bj habibie',\n 'fakta-fakta kecelakaan nganjuk yang telan korban jiwa',\n 'bj habibie meninggal dunia , ahy : berbahagia kembali dengan bu ainun . . .',\n 'duka para artis atas meninggalnya bj habibie',\n 'mimpi disiram darah , elly sugigi kini mantap berhijab',\n 'vicky prasetyo diam-diam dekati sarita abdul mukti',\n 'marsha aruan sudah pakai makeup sejak smp',\n 'terungkap , bill skarsgard sang badut pennywise ternyata pria beranak satu',\n 'pengalaman manggung ari lasso , dari hotel mewah hingga lokasi banjir',\n 'cut meyriska tunjukkan tanda-tanda kehamilan ?',\n 'atta halilintar sindir tukang karang cerita , siapa yang dimaksud ?',\n 'winky wiryawan latihan olah tubuh dan menetralkan diri , buat apa ?',\n 'aguero hengkang , berikut 3 calon striker penggantinya',\n 'pelatih thailand puji dua pemain ini usai permalukan timnas indonesia',\n 'legenda mu puji performa daniel james',\n '3 hal yang harus dilakukan mu untuk membungkam leicester',\n 'lukaku lega bisa bermain di bawah asuhan conte',\n 'thiago silva sebut neymar bakal tetap jadi andalan psg',\n 'sergio ramos minta izin hengkang dari real madrid',\n 'bomber chelsea jadi korban rasial , sang ibu merasa terpukul',\n 'jadi sasaran kritikan , eks kapten mu akui kehilangan berat badan 8 kilogram',\n 'frank lampard ingin rekrut pemain ini untuk chelsea',\n 'hazard berpeluang lakoni debut bersama real madrid lawan levante ?',\n 'nilai pemain timnas indonesia saat dipecundangi thailand',\n 'podcast : audisi pb djarum dihentikan , bagaimana nasib atlet belia',\n 'kecerobohan ederson buat timnas brasil takluk dari peru',\n '5 calon kuat top skorer liga champions 2019-2020',\n 'berapa lama simon mcmenemy menduduki kursi pelatih timnas indonesia ?',\n '3 hal yang wajib segera dibenahi mu',\n 'fakta menarik persaingan liga inggris hingga pekan ke-4',\n \"ramos sebut bek liverpool lebih pantas menangkan ballon d ' or ketimbang cristiano ronaldo\",\n 'klub david beckham mulai menggoda lionel messi',\n 'absen lebih dari semusim , mantan bek juventus siap kembali bela ac milan',\n 'kapten real madrid : biarkan gareth bale bermain golf',\n 'mesin gol barcelona belum komplet saat menjamu valencia',\n 'sepak terjang cucu bj habibie di dunia sepak bola , sempat berguru ke eropa',\n 'neymar masih berpeluang kembali ke barcelona',\n 'sadio mane jawab rumor akan hengkang dari liverpool',\n 'sempat bikin miris , aksi bocah merokok di laga amal ternyata . . .',\n 'top 3 tekno : bocoran informasi spesifikasi , fitur dan harga iphone 11',\n 'video : melihat lebih dekat wujud iphone 11',\n 'dukung grafis tinggi untuk main gim , ini spesifikasi lengkap galaxy a50s',\n 'video top 3 : iphone 11 resmi dirilis , berapa harganya ?',\n 'video : iphone 11 resmi dirilis , lebih baik dari iphone x ?',\n 'apple umumkan ipad anyar 10 , 2 inci , harganya ?',\n 'berbulu dan suka menggigit , kenalkan pelatih gulat masa kecil khabib nurmagomedov',\n 'seksinya pacar cristiano ronaldo , georgina rodriguez , saat sesi foto busana transparan',\n 'mantan bek kiri mu ingin jadi pelatih',\n 'wonderkid inggris bikin mu gigit jari',\n 'mantan pemain barcelona divonis penjara dua tahun',\n 'anaknya menjadi korban rasisme , ibu striker chelsea menangis',\n 'rahim hingga kelamin pria , ini transplantasi dunia yang diklaim sukses',\n 'selain sebesar big ben , 6 asteroid raksasa ini pernah melintas dan dekati bumi',\n 'ini 17 pemenang hassan wirajuda perlindungan wni award 2019',\n 'gara-gara 4 hal sepele , sejumlah orang ini mendadak tajir',\n 'waspada , 4 benda umum di rumah ini ternyata bisa diretas',\n '6 kisah pilu dalam pesan terakhir korban tragedi 9 / 11',\n 'ngeri , bakteri sekarang bisa temukan cara untuk kebal dari antibiotik',\n 'kisah korban penculikan isis , alami kekerasan seksual hingga dijual 20 kali',\n 'lobster super langka ditemukan , begini penampakannya',\n 'romansa sebelum ajal menjemput di tragedi 9 / 11 : aku cinta padamu , sayang . . .',\n 'video : patroli kopi cara polisi dekatkan diri dengan warga',\n 'penampilan terbaru jaguar e-type 1964 setelah 30 tahun terdampar di hutan',\n 'land rover defender 2020 resmi diperkenalkan , intip kecanggihannya',\n 'diduga¬†rebadge merek cina , pemerintah jelaskan sistem perakitan esemka',\n 'suv mewah rolls-royce cullinan kena recall , apa yang bermasalah ?',\n 'dianggap sering kecelakaan , suv bakal dilarang di kota ini',\n 'terlihat mirip , polisi ini ternyata tilang ayah kandungnya',\n 'wajib diperhatikan , ini 5 ciri ban harus segera diganti',\n 'ingin buat sim international , ini syarat dan biayanya',\n 'honda zoomer terdaftar di samsat dki jakarta , berapa harganya ?',\n 'jangan sembarangan , begini teknik mengendarai sepeda motor dengan boks',\n 'cinta ditolak , pisau menghunjam',\n 'cerita mistis pemuda jember melihat karnaval di hutan angker',\n 'cerita petugas bpbd banyumas 24 jam kirim bantuan air bersih',\n 'tersebar video bercanda di dalam mobil sebelum kecelakaan maut nganjuk',\n 'bj habibie dan kisah museum yang belum terwujud',\n 'teka-teki kasus korupsi berjamaah dprd garut , siapa tersangkut ?',\n 'jejak kenangan bj habibie dalam rumah tua di gorontalo',\n 'suhu di gorontalo capai titik terendah , mengapa ?',\n 'cerita dr oz telat menyadari gejala awal alzheimer pada sang ibu',\n 'apa yang harus diperhatikan supaya gurita hidup aman dikonsumsi ?',\n 'kenali faktor risiko bunuh diri pada remaja',\n 'jadi konsumen cerdas , cek klik sebelum beli obat dan makanan',\n 'adakah waktu yang tepat untuk berhubungan seks ?',\n 'sering menahan buang air kecil , 4 penyakit ini siap mengintai',\n 'ini kekhawatiran abraham samad bila revisi uu kpk dibahas dpr-pemerintah',\n 'terungkap di balik wajah bj habibie yang tersenyum saat meninggal',\n 'mampukah indonesia jadi negara maju di 2045 ?',\n 'potret capim kpk : setuju sp 3 hingga kritik wadah pegawai',\n 'cerita ko-pilot pesawat gatotkaca n250 tentang sosok habibie',\n 'cinta habibie ke ainun , basuhan air zam-zam sebelum meninggal dunia',\n 'cerita sby tentang kedekatannya dengan bj habibie',\n 'sosok bj habibie di mata wapres jusuf kalla',\n 'bj habibie di mata jokowi hingga sby',\n 'melihat lebih dekat liang lahat untuk bj¬†habibie',\n 'sekjen mpr : pentingnya uud 1945 untuk cegah korupsi',\n 'ini rangkaian proses pemakaman jenazah bj habibie',\n 'melayat ke rumah duka , sandiaga uno ungkap pesan bj habibie',\n 'amien rais saat melihat jenazah bj habibie : wajahnya tersenyum',\n 'kenangan wiranto tentang bj habibie sejak jadi menteri hingga presiden ri',\n 'kritik kpk era agus rahardjo cs , ¬†capim nawawi : ini ott atau jebakan ?',\n 'agar masyarakat bisa melayat bj habibie , aturan ganjil genap di tiga jalan ini tak berlaku',\n 'headline : janji jokowi untuk papua , damai di bumi cenderawasih bakal terwujud ?',\n 'fakta mengejutkan terungkap usai kecelakaan nganjuk terjadi',\n 'mengingat tragedi berdarah tanjung priok 35 tahun silam',\n 'top 3 news : annisa pohan sebut bj habibie siap dipanggil karena ibu ainun menunggunya',\n '2 pesan terakhir bj habibie ke keponakannya',\n 'nasihat habibie untuk partai golkar dan pemerintah pusat',\n 'dukungan bj habibie yang dikenang menteri susi',\n 'selamat jalan profesor bj habibie . . .',\n 'jokowi : selamat jalan , mr crack . . .',\n 'doa untuk bj habibie yang dibacakan menteri agama',\n 'pesan bj habibie untuk kemajuan industri indonesia',\n 'menteri susi : harga ayam dan daging mahal , ayo makan ikan !',\n 'ingin dapat diskon tiket kereta api ? ini caranya',\n 'malaysia masuk negara berpendapatan menengah ke atas , indonesia kapan ?',\n 'dpr akan pilih 5 pimpinan kpk periode 2019-2023 malam ini ?',\n 'malam kelam aulia kesuma bunuh suami dan anak tirinya',\n 'kisah kesetiaan bj habibie kepada ainun hingga ajal menjemput',\n 'segudang prestasi bj habibie , dari jadi presiden hingga penemu teori kedirgantaraan',\n 'eks ajudan : saya malu melihat habibie-ainun seperti pengantin baru',\n 'pengusaha ajukan nama calon menteri ke jokowi , ini daftarnya',\n 'saat warga antre berfoto dan berdoa di makam bj habibie',\n 'cerita sinta nuriyah tentang bj habibie ingin ikut sahur keliling',\n 'cerita soal bj habibie dan krisis 1998',\n 'sejumlah tokoh hadiri tahlilan bj habibie',\n 'harga tanah naik 4 kali lipat , milenial susah beli rumah di kaltim ?',\n 'kpk tetapkan tersangka eks dirut petral , praktik mafia migas langsung hilang ?',\n 'asisten pribadi : meski sakit , bj habibie masih pikirkan negara',\n 'viral video xanana gusmao cium kening bj habibie , begini kisahnya',\n 'di cap capim kpk bermasalah , ini penjelasan johanis tanak',\n 'berita terkini bj habibie meninggal dan upacara pemakaman',\n 'menkumham sampaikan pandangan pemerintah soal revisi uu kpk , ini isinya',\n 'sctv tayangkan lagi film habibie & ainun , simak 5 fakta menariknya',\n '5 kata-kata mutiara bj habibie semasa hidup yang menyentuh hati',\n 'bicara soal gading marten , gisella anastasia menahan tangis',\n 'kenangan reza rahadian saat bj habibie menelepon pada tengah malam',\n 'cerita ruben onsu antar jemput anak sekolah',\n 'video : mengenal autoimun , penyakit yang diderita raditya dika',\n 'akhirnya maddox buka suara soal brad pitt',\n '3 fakta raymond hartanto , adik boy william yang meninggal dunia',\n 'ketemu marshanda , raffi ahmad dibuat salah tingkah',\n 'selain 6 , 9 detik , berikut 3 film biopik atlet indonesia',\n 'populer di era 60 hingga 80-an , ini profil pedangdut legendaris ida laila¬†',\n 'nasihat bj habibie tentang pengetahuan dan cinta',\n 'duka melly goeslaw untuk bj habibie : bahagia bertemu ibu ainun di surga',\n 'mengharukan , puisi perpisahan najwa shihab untuk bj habibie',\n 'cerita reza rahadian , dapat ilham peran bj habibie lewat mimpi',\n 'melanie soebono dapat pesan terakhir bj habibie , apa katanya ?',\n 'jadi komentator golden memories asia indosiar , ini 5 hit besar ruth sahanaya',\n 'pesan terakhir bj habibie untuk reza rahadian',\n 'miley cyrus dan kaitlynn carter sudah tinggal serumah ?',\n 'cerita bj habibie tentang kesukaan pada sinetron cinta fitri',\n 'digoda mu , fokus gelandang newcastle terganggu',\n 'pemain-pemain tercepat di serie a versi fifa 20 , siapa saja ?',\n 'mau lolos liga champions , mu dituntut menang lawan tim gurem',\n 'urusan transfer , mu siap menggila di bursa musim dingin',\n 'hukuman dikurangi , chelsea bakal bikin pusing ac milan',\n '3 faktor penyebab de ligt terpuruk di juventus',\n 'daniel james masih takjub jalani debut bersama mu',\n 'jadi sorotan , inilah beda reaksi kiper timnas indonesia dan winger thailand',\n 'ini alasan mkhitaryan tinggalkan arsenal',\n 'legenda liverpool sentil penyerang mu',\n 'bj habibie meninggal , persebaya : selamat jalan eyang . . . .',\n 'pertanyakan keseriusan barcelona boyong kembali neymar , lionel messi ngambek ?',\n '10 pemain tercepat di liga inggris versi fifa 20',\n 'mediasi bersama kemenpora , ini 4 kesepakatan pb djarum dengan kpai',\n 'karier kontroversial pelatih timnas indonesia simon mcmenemy',\n 'motogp : ini perbedaan jorge lorenzo dan marc marquez',\n 'saatnya mu bangkit',\n 'dituduh korupsi , agen kiper real madrid ditangkap',\n '3 calon mesin gol manchester city jika sergio aguero pergi',\n 'fiorentina vs juventus : kembalinya sarri , debut aaron ramsey ?',\n 'terungkap , gelandang mu batal pindah ke psg gara-gara neymar',\n '6 wonderkid yang diprediksi bersinar di liga champions 2019-2020',\n '3 tanda cristiano ronaldo bakal nikahi si seksi georgina rodriguez',\n 'ini harga trio iphone 11',\n 'top 3 tekno : kabar duka bj habibie meninggal dunia jadi sorotan',\n '4 pesawat bj habibie yang bikin indonesia bangga',\n 'pixel 4 akan hadir 15 oktober 2019 ?',\n 'video : bj habibie di mata para tokoh dunia',\n 'warganet ramaikan peluncuran iphone 11 dengan meme kocak',\n 'tanya tekno : apa bisa pasang dongle dan perangkat beda frekuensi ?',\n 'video : waspada handphone kw dijual di pasaran , berikut ciri-cirinya',\n 'viral , video persahabatan bj habibie dan xanana gusmao bikin warganet terharu',\n 'mertesacker pahami fans arsenal frustrasi lihat ozil',\n 'si cantik kartika berliana siap begadang kawal liga champions dan liga europa di vidio',\n '3 manajer tim liga inggris ini terancam pemecatan , salah satunya solskjaer',\n 'sosok bj habibie dalam kenangan asisten pelatih bali united',\n 'kesal dengan kondisi klub , presiden napoli tantang ingin beli ac milan',\n '10 pencetak gol termuda sepanjang sejarah liga spanyol',\n 'florentino perez cerita tentang kegagalan real madrid mendapatkan paul pogba',\n 'penasaran , chelsea kembali incar striker ac milan ?',\n 'video : viral video siswa pukuli teman-temannya',\n '6 perang paling berdarah dan mematikan dalam sejarah dunia',\n 'kabar bj habibie meninggal jadi sorotan dunia',\n 'begini cara astronot memperingati tragedi 9 / 11 dari angkasa luar',\n 'matikan gps dan kegiatan sehari-hari ini ternyata bisa bikin cerdas',\n 'bukan ufo , bangunan unik ini merupakan pabrik bir',\n 'penemuan air di planet berpotensi layak huni mirip bumi buka peluang riset alien ?',\n 'taipan pedalaman hingga weling , kenali 6 ular paling mematikan di dunia',\n 'jangan asal ngegas , ini yang mesti dilakukan sebelum motor jalan',\n 'warisan soeharto , ini mobil dinas bj habibie saat jadi presiden',\n 'mau jago gymkhana , simak triknya',\n 'permudah masyarakat melayat bj habibie , ganjil genap di 3 jalan ini tak berlaku',\n 'merek nasional , pemerintah maklumi esemka bima hanya ganti merek ?',\n 'kaya mendadak , pasutri ini beli 3 mobil lalu diburu polisi',\n 'tertarik tingkatkan skill berkendara motor , tempat ini bisa dicoba',\n 'suzuki punya naked bike terbaru , ini bocoran spesifikasi dan harganya',\n ...]"
     },
     "execution_count": 100,
     "metadata": {},
     "output_type": "execute_result"
    }
   ],
   "source": [
    "d_both"
   ],
   "metadata": {
    "collapsed": false
   }
  },
  {
   "cell_type": "code",
   "execution_count": 101,
   "outputs": [
    {
     "name": "stdout",
     "output_type": "stream",
     "text": [
      "['masuk radar pilwalkot medan , menantu jokowi bertemu dpw nasdem sumut', 'malaysia sudutkan ri : isu kabut asap hingga invasi babi', 'kemensos salurkan rp 7 , 3 m bagi korban kerusuhan sosial di papua', 'mpr : amandemen uud 1945 tak akan melebar ke mana-mana', 'peringati tahun baru islam , banyuwangi kembali gelar festival muharam']\n",
      "['viral ! driver ojol di bekasi antar pesanan makanan pakai sepeda', 'ada motor nyangkut di atas bambu di sleman , kok bisa ?', 'pesan gamblang poyuono menolak revisi uu kpk', 'kocak ! maling di rumah mewah jakut terekam cctv bingung cari jalan kabur', 'viral video diduga baku tembak di sleman , ini kata polisi']\n"
     ]
    }
   ],
   "source": [
    "# make the df into a list only in clickbait and nonclickbait\n",
    "\n",
    "df_clickbait_t = df_clickbait_clean.drop(['label', 'label_encoding'], axis=1).values.tolist()\n",
    "clickbait_l_c = list(itertools.chain.from_iterable(df_clickbait_t))\n",
    "\n",
    "df_nonclickbait_t = df_nonclickbait_clean.drop(['label', 'label_encoding'], axis=1).values.tolist()\n",
    "nonclickbait_l_c = list(itertools.chain.from_iterable(df_nonclickbait_t))\n",
    "\n",
    "print(nonclickbait_l_c[0:5])\n",
    "print(clickbait_l_c[0:5])"
   ],
   "metadata": {
    "collapsed": false
   }
  },
  {
   "cell_type": "markdown",
   "source": [
    "Creating the iterators and split training, test, and validation"
   ],
   "metadata": {
    "collapsed": false
   }
  },
  {
   "cell_type": "code",
   "execution_count": 102,
   "outputs": [
    {
     "data": {
      "text/plain": "['viral ! driver ojol di bekasi antar pesanan makanan pakai sepeda',\n 'ada motor nyangkut di atas bambu di sleman , kok bisa ?',\n 'pesan gamblang poyuono menolak revisi uu kpk',\n 'kocak ! maling di rumah mewah jakut terekam cctv bingung cari jalan kabur',\n 'viral video diduga baku tembak di sleman , ini kata polisi',\n 'waspada ! ada penipuan catut pertamina , korbannya rugi puluhan juta',\n 'jaksa beberkan senpi-peluru tajam pembelian kivlan zen cs , ini rinciannya',\n 'sering quality time bersama keluarga ? ternyata ini 3 manfaatnya !',\n 'menteri jokowi 55 % profesional , ini kandidatnya ?',\n \"pria misterius berjubah putih viral di sumut , ingatkan ' tuhan murka '\",\n 'video porno di sumedang disebar pemeran pria , apa motifnya ?',\n 'terungkap ! video porno di sumedang diperankan pasangan selingkuh',\n 'kendaraan listrik bebas dari aturan ganjil-genap , ini alasannya',\n 'menanti \" kebijakan gila \" jokowi',\n 'akhirnya ! pemkot pekanbaru liburkan sd dan smp karena kabut asap',\n '2 ribu hektare lahan terbakar , udara di palembang tidak sehat !',\n 'viral bocah di bekasi disebut tewas akibat bully , begini kata ketua rt',\n 'anggota dprd banten ramai-ramai gadai sk , ini kata kemendagri',\n \"yuk ' bantu jokowi cari menteri ' , ikuti polling di detikcom !\",\n 'ini 10 poin aspirasi tokoh papua saat bertemu jokowi di istana',\n 'viral ! perampok bercelurit satroni rumah makan gratis untuk duafa di bogor',\n 'perhatian ! ini nama-nama kandidat menteri jokowi',\n \"pasang status ' single ' , inilah saat terakhir kehidupan novy chardon\",\n 'sidang gugatan ikan koi mati , saksi dari pln bicara ini',\n 'fenomena anggota dprd gadaikan sk ke bank , gejala apa ini ?',\n 'apa kabar denda rp 1 juta bagi pembeli di zona merah pkl bandung ?',\n 'geramnya keluarga pada hoax bj habibie meninggal dunia',\n 'video detik-detik mahasiswa merusak pagar dpr',\n 'ini penyebab sulitnya padamkan kebakaran di gunung sumbing',\n 'menlu indonesia-timor leste-australia bertemu di pbb , ini yang dibahas',\n 'ini lokasi diduga mahasiswa halu oleo kendari tertembak',\n 'purnomo-teguh daftar cawalkot solo , peluang gibran tertutup ?',\n 'rapat gabungan pimpinan mpr sepakat ubah tata tertib , ini rinciannya',\n 'panas ! mahasiswa-pendemo pro-uu kpk baru saling lempar botol di depan dpr',\n 'ylbhi sebut mahasiswa belum bisa dikontak usai demo di dpr , ini kata polri',\n \"video demo mahasiswa bandung yang sempat ' memanas '\",\n \"ini pengakuan ' gila ' pelaku pemerkosaan di bondowoso\",\n 'ini alasan hakim vonis seumur hidup prada deri yang mutilasi kekasihnya',\n 'tukang gigi ikut demo ruu kuhp , ini pasal yang sudah dibatalkan mk',\n 'beredar video polisi teriaki tni di mes pati tni al , ini penjelasan polri',\n 'bikin adem ! polwan surabaya lantunkan asmaul husna sambut pendemo',\n 'ini 7 tuntutan mahasiswa yang demo di depan dpr',\n 'ini alasan bogor dan bandung jadi kota favorit lomba sepeda',\n 'ada politikus hingga jurnalis , siapa paling cocok jadi mensos ?',\n 'pelajar demo ricuh hingga lewat tengah malam , ini kata mendikbud',\n \"' pasal unggas jalan-jalan ' di ruu kuhp ada kasus konkretnya , yuk baca !\",\n 'viral pelajar tewas saat hendak ikut demo dpr , begini kejadiannya',\n 'agar siswa tak demo turun ke jalan , ini yang dilakukan disdik jateng',\n 'seru ! ada mantan suami istri bertarung di pilkades serentak di sragen',\n \"gotong keranda mayat ' save kpk ' , massa gejayan memanggil : innalillahi . . .\",\n 'duarr ! bahan peledak terduga teroris jakut didisposal , warga tepuk tangan',\n 'ungkit aksi 1998 , ini 7 tuntutan massa #gejayanmemanggil',\n 'staf presiden berkunjung ke banyuwangi , ini lho tujuannya',\n 'ngeri ! aligator ditemukan hidup di kolam belakang sekolah',\n \"indonesia banyak ' dilirik ' saat sidang majelis umum pbb , ini alasannya\",\n 'mengenaskan ! dikira beruang liar , pria ini ditembak mati putranya',\n \"rkuhp denda gelandangan maksimal rp 1 juta , ini cerita para ' pengemis tajir '\",\n 'mulan jameela cs ditetapkan jadi anggota dpr , ini penjelasan gerindra',\n 'soal ruu kuhp , yuk baca lagi putusan mk soal zina dan lgbt',\n 'ini cara masyarakat simeulue mengantisipasi tsunami',\n \"ini rekayasa lalin di sekitar lokasi aksi ' gejayan memanggil '\",\n 'rusuh wamena , berikut ini rangkaian fakta-faktanya',\n 'gelombang demo tolak pelemahan kpk se-indonesia , ini titik-titiknya',\n 'bukan di china , ini long march massa aksi melintasi pertokoan magelang',\n \"viral cuitan ' sekolah yang pinter biar gajadi polisi ' , ridwan kamil : hoax !\",\n 'diskon ! naik trans semarang di 2 halte ini bisa bayar rp 10 aja',\n '5 manfaat pilates untuk ibu hamil , apa saja ?',\n 'selalu ingin tahu , 5 zodiak ini tidak bisa menghargai privasi orang lain',\n 'move on , ini 5 tanda mantan tak akan mengajakmu balikan',\n 'apakah ada manfaat minum air mineral ? ini faktanya',\n 'tetap tidur lelap , begini cara minum kopi tanpa harus melek semalaman',\n 'mudah bimbang , 5 zodiak ini sering dipengaruhi orang lain',\n 'suka kepo , 4 zodiak ini paling sering mengganggu privasi temannya !',\n '6 zodiak yang diprediksi paling jahat , mengapa ?',\n 'kepribadian ungkap cara menghabiskan uang , begini jika kamu ekstrovert',\n '4 foto terbaru yeonwoo momoland setelah vakum , wajah berubah ?',\n 'dikritik soal foto bikini , ini tanggapan shandy aulia',\n 'ini pengakuan kim kardashian mengenai psalm west',\n 'bukan teknis , ini tantangan berat ari lasso tur di 3 kota',\n 'jangan sampai terlewatkan , penggunaan toner pada rutinitas perawatan kulitmu',\n '8 kebiasaan yang bikin kamu lebih awet muda',\n '5 zodiak yang sering melanggar privasi seseorang',\n 'susu bubuk dan susu cair sama baiknya , ini kata ahli',\n '4 tanda pasangan siap berkomitmen dalam hubungan',\n 'tidak suka berbohong , 5 zodiak ini dikenal paling jujur',\n 'sering stres karena masalah uang ? simak tips mengatur keuangan ini',\n '4 zodiak yang kesulitan berterima kasih ke orang lain',\n '5 zodiak paling anarkis dan selalu membangkang terhadap otoritas untuk bisa hidup bebas',\n 'jika jalanmu cepat , seperti ini tipe kepribadianmu',\n 'kulit ubi jalan kaya nutrisi , ini cara makan ubi jalar bersama kulitnya',\n 'kerap ditanya kapan nikah , begini jawaban chand kelvin',\n 'ciptakan euforia , ini 5 fakta kedatangan nct dream ke indonesia',\n 'jajal dunia akting , ini yang membuat sivia azizah tertarik main di film nkcthi',\n 'bikin heboh , rossa diapit 6 anak muda nct dream',\n 'hari radio nasional , ini 8 selebriti indonesia yang merupakan penyiar radio',\n 'begini arti nama anak kedua sandra dewi',\n 'ingat kemal mochtar ? ini kisahnya turunkan bobot tubuh dari 120 kg jadi 60 kg',\n 'jalan kaki hingga yoga , ini 5 olahraga terbaik untuk ibu hamil',\n '4 fakta tentang autisme yang wajib diketahui',\n '19 hadiah untuk calon atau ibu mertua yang sulit ditaklukkan',\n 'mengapa kurang tidur bisa bikin gemuk ? ini alasan ilmiahnya',\n '4 zodiak ini rutin introspeksi diri dan bercermin dalam menjalani kehidupan',\n '4 zodiak ini akan alami masa terbaik di bulan agustus-september 2019',\n 'jangan dibuang , ini manfaat kupasan kulit kentang untuk kulit',\n 'punya nutrisi tinggi , ini cara mengolah kulit kentang agar bisa dimakan',\n 'diabetes hingga kanker , ini manfaat kulit pisang untuk kesehatan',\n 'bisa dimakan , ini manfaat kulit putih pada semangka !',\n 'secara ilmiah , ini alasan orang putus cinta balikan lagi dengan mantannya',\n 'menurut studi , ini waktu paling tapat untuk berhubungan intim',\n 'sesal shireen sungkar atas meninggalnya bj habibie , kenapa ?',\n 'bj habibie meninggal , begini sedihnya reza rahadian',\n 'dikira jadi pria feminin di film bebas , begini tanggapan baskara mahendra',\n 'begini rencana pemakaman bj habibie di tmp kalibata',\n 'raditya dika dan anak terserang autoimun , simak gejala yang terjadi',\n '5 hal penting yang harus diingat pemilik kulit sensitif',\n 'jangan panik , ini tips mengatasi anak rewel akibat demam tinggi',\n 'hati-hati gadget dapat membuat mata kering , ketahui alasannya',\n '10 fakta tentang cinta yang penting diketahui',\n 'putus cinta bukan masalah , 3 zodiak ini cepat move on',\n 'ini pentingnya air mineral untuk kesehatan',\n 'jangan dibuang , ini manfaat sehat kulit bawang bombay !',\n 'makanan pedas bisa meningkatkan nafsu makan , benarkah ?',\n '5 zodiak ini dikenal tak mau mengalah karena merasa paling benar',\n 'apakah air putih punya kalori ? ini faktanya',\n 'kunyit hingga buah bit , ini pewarna alami untuk makanan',\n 'mengurangi makan nasi , 5 alternatif pengganti nasi ini sangat bergizi !',\n 'tak perlu memaksa , ini 6 cara agar pria mau berkomitmen padamu',\n 'fimela fest 2019 : self love , ini alasan mencintai diri sendiri itu penting',\n 'suka menggantungkan tas di lengan , seperti ini kepribadianmu !',\n 'bisa diandalkan , 4 zodiak ini akan jadi sahabat yang paling kamu butuhkan',\n 'yeonjun txt ulang tahun , ini fakta yang perlu kamu tahu tentangnya',\n 'sudah terpilih , ini dia member yang jadi leader superm',\n 'dikabarkan jadi siti gahara di jagat sinema bumilangit , ini kata cinta laura',\n 'baru tayang , ini sinopsis warkop dki reborn',\n 'tips ampuh hilangkan noda hitam pada kulit wajah',\n 'ingin rambut terlihat prima saat bangun tidur ? ini rahasianya',\n 'alasan anak sebaiknya tidak konsumsi jus buah berlebihan',\n 'penuh motivasi , 4 zodiak ini selalu memastikan mimpinya terwujud !',\n 'suka bersikap seperti ini ternyata membuatmu menyebalkan !',\n 'suka mendominasi percakapan ? seperti ini dirimu di mata orang lain',\n 'rambut gampang lepek ? 3 hal ini mungkin penyebabnya',\n 'liburan , alasan kenapa rating sangat penting saat memilih hotel',\n 'suka membawa tas di tangan , begini kepribadianmu !',\n 'tidak takut gagal , 4 zodiak ini suka ambil risiko besar',\n '7 cara mengetahui anak kesepian , perhatikan tandanya !',\n '3 menu sarapan ini ternyata buruk bagi kesehatan',\n '4 zodiak ini tidak suka berada di alam terbuka',\n 'zodiak mingguan 16-22 september , 3 zodiak ini akan alami karir terbaik',\n 'hati-hati , 4 pasangan zodiak ini sering alami pertengkaran dan perselisihan',\n 'zodiak mingguan 16-22 september , 3 zodiak ini akan alami karir terburuk',\n 'zodiak mingguan 16-22 september , 3 zodiak ini akan alami cinta terbaik',\n 'zodiak mingguan 16-22 september , 3 zodiak ini akan alami cinta terburuk',\n '4 fakta menarik ikon yang jarang diketahui orang',\n 'anaknya trauma ke dokter gigi , begini cara zaskia adya mecca menyiasatinya',\n 'agar selalu terlihat rapi , hindari 5 penyebab rambut kusut',\n 'bukan ketombe , ikuti tips menghilangkan rasa gatal di kulit kepala',\n 'tanda kepribadian ambisius , jika kamu punya koleksi benda ini !',\n 'berkencan di usia 30 ? ini tips penting yang harus dipahami',\n 'jangan tersinggung , 4 zodiak ini memang suka bicara blak-blakan',\n 'saling melengkapi , 4 pasangan zodiak ini jarang bertengkar',\n 'mudah beradaptasi , ini dia 5 zodiak yang sangat menikmati gaya hidup nomaden',\n 'santan hingga daun pandan , ini bahan pelengkap jajanan tradisional',\n 'ini alasan buah pisang sangat baik dimakan penderita asam urat',\n 'ternyata ini cara memasak ikan yang paling baik dan sehat',\n 'legenda musik indonesia , ini 5 fakta tentang chrisye',\n 'mengalami kdrt , begini fakta tiga setia gara',\n 'irish bella alami pendarahan di usia kandungan 6 bulan , ini penyebabnya',\n 'hijabers , sudah tepatkah cara merawat rambutmu ? cari tahu lewat kuis ini yuk',\n 'alis terasa semakin tipis ? cek beberapa penyebabnya',\n 'ternyata musik seperti ini yang mampu meningkatkan motivasi dan semangat',\n 'sebelum yoga , sebaiknya hindari mengonsumsi 4 makanan ini',\n 'tidak lapar tapi ingin makan terus , kenali 4 penyebabnya',\n 'pandai bersosialiasi , 3 zodiak ini sangat menikmati hidup',\n 'ingin tidur lebih cepat di malam hari ? pakai piyama dari bahan ini',\n 'selain uang , ini yang bikin orang enggan travelling sendiri',\n 'berat badan turun cepat jika rajin sarapan ini , menurut studi',\n 'luar biasa , ini manfaat air cucian beras untuk rambut',\n 'menangislah , karena ini manfaat menangis untuk tubuh',\n 'jenis musik ini yang membuat orang tidak mudah stres saat bekerja',\n 'siap kembali usai rehat , ini penampilan baru jungkook bts',\n 'dikabarkan jalin asmara dengan jungkook bts , perempuan ini minta maaf',\n 'kenapa raisa dan zodiak gemini cocok jadi penyanyi ? intip karakter mereka',\n 'disebut lebih seram dari pengabdi setan , ini sinopsis film perempuan tanah jahanam',\n 'pilih olahraga zumba , ini alasan putri marino',\n 'tayang pada oktober 2019 , ini 5 fakta menarik perempuan tanah jahanam',\n 'tak perlu ke dokter kulit , ini trik hilangkan milia',\n 'punya kulit sensitif ? simak tips aplikasi makeup yang tepat berikut ini',\n 'perawatan kulit seluruh tubuh , simak 3 cara cegah kulit kering',\n 'sudah cukupkah kandungan protein rambutmu ?',\n '3 racikan tepung beras untuk perawatan kulit , pernah coba ?',\n 'alasan ibu hamil rentan stres dan cara mengatasinya',\n 'anak tidak mau makan nasi , apakah berbahaya ?',\n '3 penanganan kehamilan risiko tinggi , agar anak terlahir sehat',\n 'baik hati , 5 zodiak ini tidak pernah tega menyakiti orang lain',\n 'bersabarlah , ini 10 tanda pasangan selingkuh di belakangmu',\n 'selain harga terjangkau , ini inovasi pada smartphone yang dibutuhkan gen z',\n 'makan makanan berserat bisa cegah kanker , ini alasannya',\n '8 hal yang diperhatikan pria darimu saat pertama kali bertemu',\n 'kamu bisa mengandalkan mereka , 6 zodiak yang selalu memiliki inisiatif',\n 'umumkan status gender , sam smith inginkan sebutan ini',\n 'mesra sekali , lihat aksi darius sinathrya gendong donna agnesia',\n 'harry styles jadi penghambat reuni one direction ?',\n 'reaksi tak terduga luna f(x) usai tinggalkan sm entertainment',\n 'bercerita tentang anak konflik palestina , ini sinopsis film hayya',\n 'nicky tirta yang santai soal jodoh , lihat karakternya melalui zodiak taurus',\n 'fimela fest 2019 : 3 faktor seseorang melakukan beauty bullying , ini kata psikolog',\n 'dipetisi karena bahas oplas & pajang foto jimin bts , ini kata satria mulia',\n 'nonton wimbledon , meghan markle tampil kasual kenakan jeans , sudah kembali langsing !',\n 'sukses jadi artis , begini potret rumah mpok alpa yang sederhana di perkampungan',\n 'blak-blakan , gisella anastasia ungkap penyebab cerai dari gading marten',\n 'sinopsis drama life episode 16 , akhir cerita yang manis',\n 'tak ingin banyak dituntut , dita soedarjo ingin punya pacar bule ?',\n 'penggemar alami kecelakan , taylor swift kirim ucapan manis',\n 'berkarir di australia , artis 90-an multitalenta ini siapkan banyak judul film',\n 'sangat suportif , monita tahalea makin jatuh hati dengan suami',\n 'makan malam di gunungkidul , ini menu yang dipesan suju dan tvxq',\n 'inilah serial pendek netflix yang wajib kalian tonton',\n 'rencana melahirkan di luar negeri , nikita mirzani : pengen show off aja , biar sombong !',\n 'inilah hadiah istimewa penggemar di hari ulang tahun lisa blackpink',\n \"' let me love you ' milik dj snake sebenarnya diciptakan untuk cl 2ne1 ?\",\n 'liburan bersama suami , cantiknya priyanka chopra gunakan bikini',\n 'pesawat yang ditumpangi mendarat darurat , keanu reeves jadi pahlawan',\n 'marah besar karena pangeran william selingkuh , kate middleton ucap 1 permintaan ini',\n '7 pasangan dalam drama ini punya hubungan paling sehat !',\n 'kuliah di london , el rumi sudah nyoblos duluan !',\n 'annisa pohan diperlakukan bak imigran gelap oleh petugas bandara singapura',\n \"ini alasan kenapa captain america dibuat tetap hidup di ' avengers : endgame '\",\n '12 foto wajah asli idol k-pop saat bangun tidur , ada lisa blackpink - v bts !',\n \"jisoo dan jennie blackpink ' cover keong racun ' , kocak banget !\",\n 'adik angela gilsha larang bayi naik pesawat : ajarin diam atau mulutnya diselotip !',\n 'ditelepon sasaeng fans saat live , ini yang dilakukan jungkook bts',\n 'viral ! persamaan gaya kai exo dan krystal f(x) , bikin fans baper sendiri',\n 'foto punggung kai exo ini sering dikira jungkook bts oleh army',\n 'umumkan hubungan dengan ashley benson setelah satu tahun , ini alasan cara delevigne',\n 'aktor ternama korea ini akui bersusah payah melunasi hutangnya',\n '8 foto visual bomb v bts vs cha eun woo , beda gantengnya bikin galau milih',\n '11 drama korea 2019 yang tak boleh dilewatkan , masih gagal moveon',\n 'inilah sosok ceo baru yg entertainment , seorang wanita',\n 'ada gilang dirga show di jicomfest 2019 , siapa lagi yang melucu di hari pertama ?',\n 'perasaan deddy corbuzier setelah mualaf , bebas dan plong !',\n 'setelah pelembut pakaian , jungkook bts bikin minuman ini ludes terjual',\n '9 k-pop idol bak dewi pakai gaun mewah : suzy , yoona snsd & jennie blackpink',\n 'bukti percakapan seungri bagikan foto wanita telanjang di grup chat',\n \"ini alasan produser ' persona ' pilih iu jadi pemeran utama\",\n 'soal kembali berpindah keyakinan , ini tanggapan pengacara steve emmanuel',\n 'menikah sejak usia muda , pasangan seleb ini jauh dari gosip miring',\n 'terjun ke dunia akting , para artis ini ada yang mulai sejak masih belia',\n 'romance-thriller , ini deretan drama korea terbaru yang seru ditonton streaming',\n '2 inisial baru dalam jaringan narkoba jefri nichol tertangkap , rekan artis ?',\n 'terjawab , begini cara captain marvel temukan tony stark di luar angkasa',\n 'andhika pratama larang ussy sulistiawaty tonton aksinya di jicomfest 2019 , ada apa ?',\n '7 k-pop idol makin ganteng dengan rambut hitam legam , suga bts - johnny nct',\n 'foto jihyo twice sering datangi rumah kang daniel , sudah 7 bulan pacaran ?',\n 'jihyo twice dan kang daniel pacaran , begini komentar dari netizen korea',\n 'berkas nikah ini ungkap agama rina nose yang sebenarnya',\n 'reaksi kaget gading marten saat dengar gempi sebut nama wijaya saputra',\n 'pelukan dan gandengan tangan , roy kiyoshi dan evelyn nada anjani resmi pacaran ?',\n \"kang daniel - jihyo twice pacaran , kenapa lagu baekhyun exo ' un village ' trending ?\",\n '5 foto irish bella jalani maternity shoot , cantik dan elegan bagaikan boneka',\n 'diary waktu sd beredar , agama sehun exo terungkap',\n 'nama asli chef juna terungkap saat unggah sertifikat kompetensi',\n 'terungkap ! begini penampakan kamar shahrukh khan di mannat , luas dan mewah',\n 'princess charlotte kembali pamer pose gemas , sampai bikin kate middleton meleleh !',\n 'terungkap , choi siwon takjub pada satu hal ini dari fans indonesia',\n '10 film horor indonesia yang perlu kamu tonton , dijamin bikin merinding',\n 'beruntung , tiga fangirl asal indonesia ini diantar ayah yunhyeong ikon',\n 'terungkap ! nikita mirzani tak berani berseteru dengan sosok ini',\n \"viral , editan krystal f(x) & jennie blackpink yang bikin kai exo ' melongo '\",\n \"uang bukan alasan , pemain ' ave maryam ' tidak dibayar ?\",\n \"dulu panggil ' sailor moon ' , setelah putus vicky prasetyo sebut anggia ' nenek gayung '\",\n 'fakta lengkap produce x101 yang perlu kamu tahu',\n 'diancam injak leher oleh nikita , tessa mariska samakan nm dengan pohon tauge ?',\n \"10 hal unik yang mungkin kamu lewatkan di mv blackpink ' kill this love '\",\n \"semula kesal dipanggil ' babang tamvan ' , kini andika hasilkan 3 mobil - 2 rumah !\",\n 'fakta lengkap produce x101 yang perlu kamu tahu',\n '7 fakta madam shim , wanita berpengaruh dicurigai dalang kasus jang ja yeon & seungri',\n 'tak jadi anak emas jokowi . begini tanggapan kaesang pangarep',\n 'vebby palwinta akui sudah belajar taaruf , siap segera nikah ?',\n 'sempat mengaku mualaf , ternyata kriss hatta tak pernah memeluk islam',\n 'liburan melulu , kini syahrini dan reino barack kompak makin gendut ?',\n 'album focus dari jus2 got7 ceritakan tentang panca indera , sudah dengerin ?',\n 'tanyakan hal tak pantas pada bts , reporter ini dihujat netizen',\n \"sederet artis ini siapkan ' hadiah ' spesial bagi mereka yang nyoblos\",\n 'tora sudiro - adipati dolken tirukan selfie nicholas saputra , siapa paling mirip ?',\n 'genap 45 tahun , intip kejutan manis yang didapat victoria beckham di ulang tahunnya',\n 'kaki cedera tertimpa lemari , syahrini lupakan rasa sakit dengan cara ini',\n 'sebut dirinya seperti monyet , begini kalau luna maya gelantungan di pohon',\n 'bukan menjadi pembanding , ini perbedaan komik gundala versi baru dan klasik',\n 'foto keluarga lisa blackpink , ayah tirinya orang swiss - ibunya cantik banget',\n \"heboh ! ' warkop dki reborn 3 ' jadi film pertama yang laksanakan mega premiere\",\n 'upi didaulat garap film jagat sinema bumilangit selanjutnya ?',\n 'ruben onsu berencana ke ntt , bakal urus adopsi betrand peto ?',\n 'bastian steel hidup dalam pergaulan bebas dan punya anak istri dalam film ini',\n 'ada sosok ari tulang di gundala , bisa tebak perankan siapa ?',\n '9 aktris cantik yang pernah perankan karakter jelek di drama , suzy - lee sung kyung',\n \"14 fakta menarik ' avengers : endgame ' yang perlu kamu tahu sebelum nonton\",\n 'barbie kumalasari akui punya suara jazzy , cuma bisa dinikmati yang bermusikalitas !',\n 'barbie kumalasari bocorkan honor sekali tampil di tv , tembus dua digit !',\n 'selalu diberitakan dari sisi negatif , ini pesan barbie kumalasari untuk putrinya',\n 'ratna galih program bayi tabung demi dapat anak perempuan , ini alasannya . . .',\n 'kekayaan barbie kumalasari kerap diragukan : biarin mengurangi pajak saya kan ?',\n 'isu salmafina pindah agama merebak , berikut 15 artis yang pernah diterpa hal serupa',\n 'jadi special guest minie tv , bayaran vanessa angel bisa buat beli pulau ?',\n 'masalah semakin panjang , fairuz a . rafiq pernah alami kdrt dengan galih ginanjar ?',\n \"6 fakta xana tang , bintang film ' mulan ' yang juga sahabat iqbaal ramadhan\",\n 'masuk gang sempit , berikut 4 fakta rumah asli barbie kumalasari dan galih ginanjar',\n \"pablo benua dan rey utami ditahan , 12 seleb ini juga jadi korban video ' mulut sampah '\",\n '10 kolaborasi idol k-pop yang nagih banget !',\n 'kevin aprilio betah dengan rambut gaya emo , vicy melanie risih ?',\n 'nonton raditya dika dan line up lain dalam jicomfest 2019 , berapa harga tiketnya ?',\n 'istri ajun perwira ungkap salmafina sunan sudah nyaman dengan keyakinan barunya ?',\n 'mantan pramugari bongkar kelakuan buruk idol k-pop di pesawat , siapa yang terbaik ?',\n 'barbie kumalasari tak penuhi pemeriksaan kepolisian , begini penjelasan pengacaranya',\n \"tessa mariska terseret kasus ' ikan asin ' , ada apa ?\",\n '6 fakta sosok iyan sambiran suami nunung yang juga ditangkap karena narkoba',\n 'spoiler improvindo di jicomfest 2019 , mc dani jamin bakal bikin ngakak',\n 'heboh kabar video masturbasi atlet dw , begini komentar mikha tambayong',\n 'co working space dengan view laut pertama dan satu-satunya di jakarta',\n '20 finalis siap perebutkan gelar puteri muslimah indonesia 2019 , siapa juaranya ?',\n 'rumah berlapis emas , dari mana sumber kekayaan muzdalifah ?',\n \"' endgame ' jadi aksi pamungkas avengers , begini kelanjutan marvel cinematic universe\",\n 'gara-gara air , kim jae wook akhirnya cium park min young',\n \"posting foto dengan tagar ' proud of akad ' , ivan gunawan sudah nikah ?\",\n 'begini upaya kate middleton damaikan pangeran william dan pangeran harry',\n 'hebat ! nurul bashira , puteri muslimah indonesia 2019 sabet 2 gelar sekaligus',\n 'kedatangan seleb dan influencer di event wonderful noon , gimana keseruannya ?',\n 'baru nikah dengan fadel islami , muzdalifah dibuat naik pitam karena hal ini',\n 'dengar cut tary akui 3 kali berhubungan dengan ariel , begini reaksi suami',\n 'menangis di sungkeman syahrini - reino , rosano barack beri wejangan penting ini . . .',\n \"7 pasangan dalam drama korea dengan ' chemistry ' paling kuat\",\n 'tatap syahrini penuh cinta , ini yang dirasakan reino barack jelang sungkeman',\n 'pangeran harry beri tanda meghan markle sudah melahirkan ?',\n 'inilah kekayaan para bintang avengers dari terendah hingga paling tinggi',\n 'dinner silaturahmi syahrini - reino barack digelar tanpa orangtua , ada apa ?',\n 'resmi jadi ayah , ini nama anak raditya dika beserta artinya',\n '7 foto balita baekhyun exo , bukti dari kecil sudah punya aura seorang idol',\n 'langgar mitos usai pernikahan , inikah penyebab perceraian song joong ki ?',\n 'banjir komika favorit , begini cara dapetin tiket jicomfest 2019',\n 'selang 4 tahun kepergian olga syahputra , begini kondisi rumahnya sekarang',\n 'lama tak terlihat di televisi , begini kabar terbaru romy rafael',\n 'bukan zendaya , penyanyi satu ini yang bakal perankan ariel little mermaid live action',\n \"11 fakta zoha rahman , gadis muslim berhijab di ' spider-man : far from home '\",\n 'pernah nyatakan ibunya idap bipolar , begini kondisi sebenarnya ibu barbie kumalasari',\n '3 wanita yang pernah dekat dengan diego michiels , ada nikita willy juga !',\n 'digrebeg di hotel , aktor ftv ridho illahi berduaan dengan selebgram chagii amelia ?',\n 'umur 3 bulan , begini wajah baby zalina anak raisa dan hamish daud sekarang',\n 'inilah member bts yang punya pendapatan paling besar , bias siapa nih ?',\n 'bakal tampil di jicomfest 2019 , intip video gaya lawakan mli yang super gokil',\n 'masih cinta , 5 pasangan seleb indonesia yang balikan - rujuk setelah sempat cerai',\n \"alasan black widow merelakan diri di ' avengers endgame '\",\n '6 foto kemiripan nia ramadhani dan lisa blackpink , cocok jadi kakak adik ?',\n 'crazy rich pluit ! pria ini beli yacht raffi ahmad cash 4 miliar !',\n '3 keunikan hubungan hamish - raisa - zalina , tak pernah terungkap sebelumnya',\n \"12 potret cantik ming xi , model victoria ' s secret yang dilamar anak miliuner china\",\n '7 artis indonesia ini rayakan waisak , siapa saja ?',\n 'heboh ! syahrini dan luna maya sepanggung bareng di shopee ramadan tv show',\n 'sambut ramadan , 3 penyanyi muda ini berbagi kebahagiaan dengan anak-anak panti asuhan',\n \"8 fakta menarik ' aladdin ' properti pakai perhiasan asli lho\",\n 'habis jutaan rupiah di supermarket , struk belanja nikita mirzani panjang banget !',\n 'cowok 22 tahun dicoret dari kartu keluarga , diumumkan lewat koran !',\n '6 film layar lebar ini perdana tayang di sctv untuk temani libur lebaran kamu',\n '10 idol korea yang diperkirakan berangkat wajib militer tahun depan , ada bts & exo',\n '10 fakta vincent raditya , pilot yang lisensinya dicabut karena video prank limbad',\n \"dwayne johnson ' the rock ' bakal bergabung ke marvel cinematic universe ?\",\n 'deretan kpop idol paling fashionable , bisa contek gayanya nih !',\n '2 seleb ini jalani puasa pertama setelah putuskan jadi mualaf',\n 'liburan ke eropa , spider-man punya kostum baru ?',\n 'alami kecelakaan mobil , mantan idol ini tewas seketika',\n \"fakta unik ' pokemon detective pikachu ' , kini bisa ngomong seperti manusia\",\n '14 selebriti hollywood ini ternyata muslim & ikut puasa di bulan ramadan',\n 'sophia latjuba datang ke ulang tahun gading , roy marten ungkap hubungan mereka',\n '8 seleb indonesia ini disebut hamil duluan saat menikah , ternyata hoax',\n 'hengkang dari the voice setelah 16 season , adam levine ada masalah ?',\n 'irina shayk - bradley cooper putus , lady gaga penyebabnya ?',\n \"sederet rumor menarik tim ' avengers ' baru , akan dipimpin captain marvel ?\",\n 'pasca avengers endgame , petinggi marvel studios sudah kantongi nama untuk fase 4',\n '8 k-pop idol ini pernah mengaku naksir dengan idol lain , siapa saja ?',\n 'digombalin penggemar , begini reaksi malu-malu jisoo blackpink',\n '5 tahun merantau di jakarta , akankah fendy chow memenuhi harapan sang ibu ?',\n '8 tahun bernaung di jyp entertainment , soloist cantik ini memutuskan hengkang !',\n 'unggah video ahmad dhani bersama anak , mulan jameela kangen ?',\n 'viral video choi siwon kepedasan , tembus 16 juta viewer dalam 2 hari !',\n \"6 ' squad ' di drama korea ini , benar-benar jadi ' friendship goals '\",\n 'dancer k-pop terpopuler saat ini , gak kalah kece dari idol !',\n \"unggah foto di liburan , bts siapkan program ' bon voyage ' ?\",\n 'menangis saat anang gantikan posisinya di indonesian idol , ini alasan armand maulana',\n 'heboh barbie kumalasari naik pesawat 8 jam , sederet seleb ini tulis caption menyindir',\n 'penghasilan verrell bramasta 3 bulan jadi youtuber , bisa beli 2 mobil !',\n \"selebritis yang jadi terseret jadi ' korban ' skandal bts , siapa saja ?\",\n '12 transformasi millendaru , dari cowok cantik berdada bidang - doyan bikinian',\n 'resmi diluncurkan , ini gebrakan baru di festival film indonesia 2019',\n '5 film indonesia terbaru yang bikin kamu #antingaret berangkat ke bioskop',\n 'taemin shinee akan tampil di hut rcti ke-30 , shawol beruntung bisa bertemu !',\n 'ini bukti sehun exo sosok religius , tak banyak yang tahu',\n 'dipenjara bareng galih ginanjar atau cerai , mana yang akan dipilih barbie kumalasari ?',\n \"james gunn ungkap batman bakal muncul di ' suice squad 2 ' ?\",\n 'mia khalifa buka-bukaan tentang video panas berhijab , diteror isis !',\n 'ruben onsu ulang tahun , ini 16 transformasinya dari tembem abis - segar awet muda',\n '12 artis ini pernah jadi anggota paskibra , siapa saja mereka ?',\n 'pelukan dengan reino barack , ini harga sweater syahrini yang harganya sampai 2 digit !',\n \"10 idola dengan rahang tajam ' mengiris hati ' , kai exo sampai bobby ikon\",\n 'jual rumah demi shakira , kediaman denada ditawar keluarga menteri dengan harga segini',\n 'nia ramadhani hadiri pernikahan anak raam punjabi , sebal sama bcl gara-gara ini',\n '15 pasangan seleb korea yang cinlok tak berakhir bahagia : putus - cerai',\n 'terkuak ! ini alasan ali syakieb - citra kirana putus , bukan karena rezky aditya',\n 'yuk , jemput impian kamu bareng julian jacob !',\n 'nama anak ditiru fans , franda : bayimu tak pantas pakai nama itu !',\n \"hotman paris mengaku dapat panggilan ' gus lora ' , begini penjelasan nu\",\n 'inilah sederet tipe pacar yang biasa ditemui dalam drama korea',\n 'inspirasi gaya tas pinggang ala kylie jenner , effortless stylish !',\n 'sandra dewi akhirnya pamer wajah mikhael moeis , ganteng banget !',\n 'dami kwon kakak g-dragon bakal nikahi aktor kim min joon , begini detailnya',\n 'camila cabello dan shawn mendes pamer ciuman ala ikan , konfirmasi pacaran ?',\n 'booming iklan mie sedaap versi choi siwon , ternyata begini rasanya',\n 'karena ini teuku rassya buka restoran bertema papua',\n 'barbie kumalasari bakal ke amerika bareng boy william , begini ceritanya',\n 'barbie kumalasari & galih ginanjar dikabarkan pisah , begini klarifikasi indra tarigan',\n '5 film terbaik indonesia yang nggak pernah bosan ditonton lagi , apa judul favoritmu ?',\n 'kado pernikahan justin bieber , jam tangan mewah seharga 1 miliar !',\n \"18 tahun setelah ' kkkg ' , kajol dan kareena kapoor satu frame lagi dan makin stunning !\",\n 'ini alasan robby shine mantap berbisnis pusat kebugaran',\n 'halaman kapanlagi korea resmi launching , isinya apa aja sih ?',\n 'rosa meldianti ikut kontes puteri indonesia , lucinta luna merasa tersaingi ?',\n 'kocak ! gara-gara penilaian guru di masa lalu , deepika padukone ancam ranveer singh',\n 'keluar dari grup wa geng menteri ceria , melaney ricardo & luna maya berantem ?',\n 'pengakuan atta halilintar soal berhubungan intim di hotel bersama bebby fey',\n 'jelang pernikahan , hailey baldwin dapat pesta bachelorette yang seru dan nakal !',\n '4 tahun pergi , seperti ini kondisi makam olga syahputra',\n '7 k-pop idol yang mirip karakter animasi disney , j-hope bts - taeyeon snsd',\n '7 pemotretan terbaru jessica iskandar - nia ramadhani , bak bidadari turun dari langit',\n 'spider-man dikabarkan hengkang dari mcu , begini penjelasan sony pictures',\n 'cut meyriska sakit perut selama 5 tahun , ini serangkaian pemeriksaan yang dilaluinya',\n 'siapa sangka , sampo favorit alodita ternyata ada di supermarket !',\n 'deretan kpop idol paling bersinar , mana yang ingin kamu tonton konsernya ?',\n 'ruben onsu disebut punya tabungan rp 27 m , ini sederet sumber penghasilannya',\n \"peluncuran trailer ' gundala ' , abimana arasatya ungkap satu fakta unik\",\n 'jokowi hadiri nikahan wartawan , ternyata anak seleb terkenal',\n \"blak-blakan , millendaru ngaku pernah ada ' urusan ranjang ' dengan artis inisial zl\",\n 'sebelum tertangkap narkoba , ini deretan film jefri nichol !',\n 'jennifer dunn pamer rumah baru , super megah lengkap dengan kolam renang mewah',\n 'irwansyah main sinetron lagi bareng chelsea olivia , zaskia sungkar cemburu ?',\n '10 persiapan penting sebelum masuk area jicomfest 2019',\n \"harga starter pack sekolah saaih halilintar bikin ' sobat miskin ' melongo\",\n \"video adegan yang dihapus dari versi asli ' avengers : endgame ' , masih bikin nangis\",\n 'fakta mengejutkan terkuak , jennifer dunn bohong soal rumah barunya ?',\n 'dulu bercinta sehari 8 ronde , barbie kumalasari bakal minta bilik asmara untuk galih ?',\n 'kalau pandji , ernest dan raditya dika sepanggung , siapa paling bikin kamu ketawa ?',\n 'vanessa angel bicara soal jodoh : siapa sih cowok yang mau nerima aku ?',\n 'ikut sarwendah ke lokasi syuting , inilah hal lucu yang dilakukan betrand peto',\n 'ini alasan yang bikin uus memilih untuk berhenti pakai narkoba',\n 'baru dibaptis , ini pengakuan anwar hadid soal perbedaaan agama dalam keluarga',\n 'youtuber tana mongeau bawa ular ke vmas 2019 , tiru gaya britney spears 18 tahun lalu ?',\n 'foto orangtua jungkook bts , ayahnya ganteng banget - ibunya awet muda',\n 'suka film horor ? berikut deretan film horor yang bakal tayang di bulan april',\n \"jenita janet jajal filler terobosan baru ' algenesss ' , 100 % bahan alami !\",\n 'rapat investor yg entertainment selesai digelar , ini hasilnya !',\n 'lucunya lee dong wook tak bisa berhenti menangis karena ini !',\n 'fakta menarik girlband korea selatan , momoland',\n 'heboh kasus jung joon young , youtuber ini ngaku pernah dilecehkan idol pria',\n 'wanita dengan tubuh berisi terbukti bikin pria lebih bahagia',\n 'kronologi lengkap pemuda di bandung tusuk gadis pujaan karena cinta ditolak',\n 'sarapan bikin ngantuk , mitos atau fakta ?',\n 'sibuk hingga batal bertemu pimpinan kpk , ini agenda jokowi seharian',\n 'spanduk pecel lele hingga obat kuat jadi cara jakmania kritik persija',\n '5 fakta menarik animasi spongebob squarepants yang perlu kamu tahu !',\n 'chris hemsworth atau natalie portman , ini bintang utama thor : love and thunder',\n 'ini anggota pansus pemindahan ibu kota bentukan dpr',\n 'penemuan terbaru ungkap penyebab punahnya dinosaurus',\n 'ketua hipmi lempar isyarat \" punya waktu longgar \" , ini respon presiden jokowi',\n 'jelang berakhirnya pemerintahan , 3 menteri jokowi pamit . . .',\n '6 reaksi shandy aulia hadapi netizen julid',\n 'pertarungan buaya 1 , 8 meter dan anakonda sepanjang 8 meter , siapa yang menang ?',\n 'ini langkah ditjen imigrasi setelah terima surat pencegahan dan pencabutan paspor veronica koman',\n 'ini hasrat pecatur andalan indonesia di piala dunia fide',\n 'disebut oleh dprd hanya ban serep ridwan kamil , ini kata uu ruzhanul',\n 'dirut sriwijaya air dicopot ?',\n 'ini cara para seniman tolak revisi uu kpk',\n 'bocoran foto daihatsu sigra facelift',\n 'kami mencari tahu mengapa cosplayer menyukai kostum karakter , ini jawabannya . . .',\n 'ini pesan terakhir istri yang gantung diri setelah cekcok dengan suami soal foto pelukan',\n 'ini alasan museum sejarah bentoel di malang dijual',\n 'saat luhut dan susi pamit . . .',\n 'tips bagi yang berniat memelihara vw kodok',\n 'karyawan amazon bakal turun ke jalan lakukan protes , apa alasannya ?',\n 'lewat siji , cara beda nikmati koleksi museum seni rupa dan keramik',\n 'bagaimana pilihan jenis gelas bisa pengaruhi rasa kopi ?',\n 'sri mulyani ingin rekam medis 267 juta penduduk ri diidentifikasi , kenapa ?',\n '4 fakta hari pertama penerapan sistem ganjil genap di jakarta barat',\n 'cukup bayar rp 5 . 000 untuk masuk ke 5 museum di jakarta ini',\n 'ketika menteri susi minta maaf dan akui dirinya sedikit tengil . . .',\n 'apa beda penarikan dan pencabutan paspor ? ini penjelasan pakar hukum',\n 'dul jaelani : tolong maafkan saya . . . maafkan saya . . .',\n 'disebut kerjanya cuma menembaki kapal , ini kata menteri susi',\n 'fakta sopir truk tanah jadi tersangka tabrakan beruntun di bintaro',\n 'kemal mochtar berhasil turunkan berat badan 50 kg dalam setahun , apa rahasianya ?',\n 'seorang polisi tepergok tanpa busana dengan istri orang , ini sanksi yang menanti',\n 'kerap diarak orang jepang , apa itu mikoshi ?',\n 'hari tanpa bayangan di indonesia , bagaimana bisa terjadi ?',\n 'cerita jatuh bangun pemilik warung dian dan barokah unhas hingga jadi langganan mahasiswa',\n 'diajak perang gubernur maluku , ini jawaban menteri susi',\n 'viral , seorang pengendara keluarkan jurus silat saat kena razia polisi',\n '7 kisah pasien ditandu menuju puskesmas , disebut \" ambulans desa \" hingga selamatkan ibu melahirkan',\n 'cukai rokok tahun depan naik , ini pertimbangan pemerintah',\n 'viral , penumpang berdiri 6 jam di pesawat demi istri bisa tidur',\n '16 manfaat renang bagi tubuh yang tak bisa diremehkan',\n 'saat 10 capim kpk \" dikunci \" dengan surat bermeterai ini . . .',\n 'viral video wanita bugil naik motor keliling samarinda , ini kronologi kejadiannya',\n 'polemik pb djarum vs kpai yang berujung stop audisi . . .',\n 'sby menitikkan air mata . . .',\n 'armand maulana jadi juri anaknya di the voice | dipenjara , santunan ahmad dhani terhenti ?',\n 'ditilang karena ganjil genap , begini cara mengurus denda tilang',\n 'apa itu espresso dan istilah lain di kedai kopi yang harus kamu tahu',\n 'jangan makan pisang saat sarapan , ini alasannya',\n 'ibu kota baru dikritik ridwan kamil terlalu luas , ini komentar gubernur kaltim',\n 'pindah ibu kota pengaruhi arus era kendaraan listrik ?',\n 'pihak sekolah tidak setuju andreas diasuh wali kota malang , ini sebabnya',\n 'empat fakta baru terungkap dalam sidang kasus narkoba jefri nichol',\n 'hari tanpa bayangan dan ekuinoks , sama atau beda ? ini penjelasannya',\n 'harga emas dunia turun untuk 3 hari beruntun , apa sebabnya ?',\n 'berbagai keluhan pengendara di hari pertama penerapan perluasan ganjil genap',\n 'awas virus joker , segera hapus 24 aplikasi ini dari ponsel android anda',\n 'heboh kasus perselingkuhan berujung pembunuhan , ini sisi klinisnya',\n '4 fakta menarik hari pertama ganjil genap di jakarta timur',\n '5 cara bikin rumah minim cahaya alami tampak lebih terang',\n 'viral video polisi razia mertua sendiri saat operasi patuh , ini penjelasan kasatlantas polres bojonegoro',\n 'disantuni rp 5 juta oleh ahmad dhani , keluarga korban kecelakaan dul merasa cukup ?',\n 'inilah iphone yang paling laris di semester pertama 2019',\n 'cerita paul cummings dan fasilitas disabilitas stadion kanjuruhan',\n 'pelamar cpns kini boleh berusia 40 tahun , untuk posisi apa saja ?',\n 'diputar serentak 12 september , ini 5 fakta film warkop dki reborn 3',\n 'ini 5 bank yang tawarkan bunga deposito tertinggi',\n 'bagaimana persiapan mobil tua sebelum touring jarak jauh ?',\n 'banyak kapal vietnam masuk zee indonesia , ini yang dilakukan menteri susi',\n 'panas-panas , 5 minuman es asli indonesia ini bikin segar',\n 'soal pembatasan mobil tua , ini harapan komunitas volkswagen indonesia',\n 'pengendara yang tak bertanggung jawab harus dipidana !',\n 'betrand peto resmi pindah ke jakarta , begini hari pertama sekolahnya',\n 'ini kronologi kecelakaan bus mira vs innova di nganjuk-madiun',\n 'jack ma putuskan pensiun , alibaba bakal hadapi kondisi sulit ?',\n '4 fakta zara jkt48 dan peran virgo',\n 'uu ruzhanul disebut dprd hanya ban serep , ini tanggapan ridwan kamil',\n 'anggaran pilkada surakarta 2020 capai rp 17 , 8 miliar , ini rinciannya',\n 'tak bisa lakukan pencegahan , ini cara imigrasi pulangkan veronica koman',\n 'video youtube \" lemot \" di smartphone ? ini cara mengatasinya',\n \"jokowi sebut 141 juta penduduk ri ' naik kelas ' pada 2020 , apa maksudnya ?\",\n 'ini alasan perlunya terowongan di tol cisumdawu dan mrt',\n 'toyota calya 2019 meluncur , simak detail harganya',\n 'melemah , ini kurs rupiah di 6 bank besar',\n 'ini alasan mengapa trotoar kalimalang berada di tengah jalan',\n 'ekspor perikanan indonesia kalah dengan vietnam , ini masalahnya',\n 'tips tampil lebih unggul dibanding kandidat pencari kerja lain',\n 'sepekan terakhir suhu di bengkulu makin dingin , ini penyebabnya',\n 'disinggung iriana jokowi , begini kondisi terkini kali bahagia di bekasi',\n 'ini modal desa kutuh bisa raup puluhan miliar rupiah',\n 'apa saja kewenangan dewan pengawas dalam mengawasi kinerja kpk ?',\n 'satu bulan berstatus waspada , bagaimana kondisi gunung slamet ?',\n 'pemprov dki potong tunggakan pajak hingga 50 persen , ini rinciannya',\n 'berikut 5 keunggulan daihatsu sigra',\n '5 hal menarik balkonjazz festival 2019 , pasar balkon hingga ditutup yura yunita',\n 'berlangsung usai pulang kerja , ini daftar harga tiket laga timnas u-16',\n '5 fitur menarik toyota calya yang wajib diketahui',\n 'ini alasan kolonel beben ingin maju di pilkada tangsel 2020',\n 'daihatsu sigra 2019 resmi meluncur , ini ubahannya',\n 'kalah dari marquez , ini kata quartararo',\n 'tuduhan polisi , bantahan veronica koman . . .',\n 'terminal 2 bandara soekarno-hatta jadi terminal traveloka , apa sebabnya ?',\n 'lahan 26 perusahaan sawit di kalbar disegel terkait karhutla , ini daftarnya',\n 'pdi-p dukung jokowi merevisi uu kpk , ini alasannya . . .',\n '3 investor asing tertarik bangun lrt jawa timur , siapa saja ?',\n 'anak keseringan main hp , bagaimana dampaknya ?',\n 'ini penyebab bayi 4 bulan di sumsel meninggal , sesak napas diduga terpapar kabut asap',\n 'apa saja ketentuan penyadapan yang diatur dalam draf revisi uu kpk ?',\n 'bus persib dilempari batu dan 2 pemain terluka , begini kronologinya',\n 'ini jadwal update android 10 untuk ponsel realme',\n 'ini ubahan eksterior dan interior toyota calya 2019',\n 'sempat viral , ini plus minus toyota calya dan daihatsu sigra',\n 'intip 3 arloji seiko bertema monster hunt',\n 'fahri hamzah usul jokowi segera lantik firli cs , ini alasannya . . .',\n 'ada 10 varian , ini harga lengkap daihatsu sigra 2019',\n 'driver grabcar bisa beli rumah dengan bunga kpr tetap , ini syaratnya',\n '3 hal ini jadi penyebab rendahnya minat baca anak indonesia',\n '30 orang jadi tersangka kerusuhan di papua barat dan 12 dpo , ini perannya . . .',\n 'beragam modifikasi komunitas buat kendaraan listrik',\n 'viral stand up comedy kiky saputri yang bikin fadli zon geleng-geleng kepala',\n 'ini tahapan kompetisi voli liga mahasiswa jawa timur',\n 'perkenalkan , ini gadis , anggota dprd maluku berusia 24 tahun',\n 'viral , artis indonesia bernama tiga setia gara menangis karena disiksa suami di as',\n 'viral ! penyanyi tiga setia gara mengaku alami kdrt di amerika serikat',\n 'ini capaian umj di liga mahasiswa 2019',\n '\" pencuri mata \" , sebab pemuda kecanduan game online alami kebutaan',\n 'benarkah fadli zon marah setelah di-roasting komika kiky saputri ?',\n 'cara mengolah sayuran yang benar agar nutrisinya tidak hilang',\n 'ini 6 tips agar masyarakat aman pakai gas elpiji',\n 'jika as ingin gelar perundingan pelucutan senjata nuklir , ini yang diminta korea utara',\n '\" urusan ranjang bukan urusan negara . . . \"',\n 'kabut asap di riau , ini tips pencegahan dan penanganan kesehatannya',\n 'selain spongebob squarepants , ini 4 animasi yang pernah ditegur kpi',\n 'alasan veronica koman baru buka suara . . .',\n 'ini 4 tim yang lolos dari euro futsal championship 2019 palembang',\n 'begini kronologi pelemparan bus persib bandung',\n 'halmahera selatan diguncang gempa , ini bedanya dengan guncangan juli',\n 'mau sukses bisnis buzzer media sosial , lakukan cara ini !',\n 'apa jadinya jika hiu di bumi menghilang ?',\n 'daftar harga mobil bekas rp 100 jutaan , ada avanza dan xenia juga',\n 'tips menjaga kesehatan kulit ala catherine wilson',\n 'ingin jadi digital marketing sukses ? pastikan punya sifat ini',\n 'komentar marquez dan rossi soal insiden sesi kualifikasi gp san marino',\n 'kpi beri sanksi spongebob squarepants , ini penyebabnya',\n 'tips agar keuangan tak tergerus inflasi',\n 'daftar top skor liga inggris , tammy abraham samai aguero',\n 'viral penipuan ojek online berkedok istri sakit , cukup dengarkan saja',\n 'jalan-jalan ala bts , ini 5 pasar unik dan serba murah di seoul',\n 'cerita pengalaman jadi player escort di laga tira-persikabo vs persib . . .',\n 'ini kata saut situmorang soal masa depan kpk pasca 3 pimpinan serahkan mandat ke presiden',\n 'dua cara malaysia hadapi uni emirat arab',\n 'esemka jadi mobil dinas , ini harapan sekda jateng',\n 'layangkan surat keberatan , ini 4 poin tuntutan persib ke pt lib',\n '4 prioritas sebelum mendesain ruang kerja di rumah',\n 'wilayah jakbar tertinggi pelanggar ganjil genap hari pertama , ini alasannya . . .',\n 'indonesian idol kembali digelar , 5 musisi ini menjadi jurinya . . .',\n 'tak cuma gangguan paru , ini efek polusi udara bagi tubuh',\n 'jokowi ungkap kelemahan pengusaha muda indonesia , apa saja ?',\n '\" jangan keruk emas di tanah leluhur kami \"',\n 'gejolak kabut asap , ini prediksi dinamika atmosfer indonesia',\n 'ini penyebab kecelakaan di tol jagorawi yang tewaskan 3 orang',\n 'anita wahid memahami langkah kpk serahkan mandat ke presiden , tapi . . .',\n 'rumah nanas spongebob ada di dunia nyata , yuk intip !',\n '5 cara cegah kutu tak ikut anda setelah bepergian',\n 'diet bisa berdampak buruk pada kekuatan tulang , apa alasannya ?',\n 'kisah bayi \" spesial \" yang lahir \" serba \" 9 / 11',\n 'bukalapak dikabarkan phk karyawan , ada apa ?',\n 'ini jadwal update emui android 10 untuk ponsel huawei',\n 'ini sebab tinggi badan gabby terus bertambah hingga capai 2 , 2 meter',\n 'ingin usaha anda tumbuh ? simak tips dari pebisnis sukses ryan margolin',\n 'ini jenis olahraga yang bikin tinggi , mitos atau fakta ?',\n 'ekspor riau turun , karena kabut asap ?',\n 'cukup jalan kaki dari stasiun bogor , 5 tempat wisata murah di bogor',\n 'ini identitas mayat perempuan yang ditemukan di irigasi',\n 'indonesia vs thailand , alasan suporter tamu tak takut ke jakarta',\n 'menurut google , ini tantangan pertumbuhan startup di indonesia',\n 'foto kehamilannya dinyinyiri netizen , ini jawaban shandy aulia',\n 'akhir perhelatan sos run to care 2019 , ini jumlah donasi terkumpul',\n '5 tanaman paling mematikan di dunia , salah satunya ada di indonesia',\n '6 hal ini batasi pkl berjualan di trotoar',\n 'mahasiswa pariwisata , ini 6 kiat sukses di industri \" hospitality \"',\n 'ini bedanya yukata dengan kimono',\n 'alasan kesehatan dan umur , kivlan zen ajukan penangguhan penahanan',\n 'simak tips investasi sejak dini ala petenis andy roddick',\n 'anang dan ashanty jual rumah mewahnya di cinere , tertarik beli ?',\n 'pembangunan ibu kota baru bisa tangkal risiko resesi ?',\n 'mengenang chrisye , kenapa karya sang legendaris tak pernah mati ?',\n 'banyak warga jabar hanya makan kecap dan kerupuk , ini kata pakar gizi',\n 'benarkah zodiak berhubungan dengan kepribadian seseorang ?',\n 'alasan irish bella dan ammar zoni rahasiakan jenis kelamin calon bayinya',\n 'isu ganti simon mcmenemy , begini tanggapan rahmad darmawan',\n 'raline shah rela bolak-balik amerika-indonesia , ada apa ?',\n 'benarkah rutin makan jamur turunkan risiko kanker prostat pada pria ?',\n 'cara menyimpan twit orang lain di twitter tanpa ketahuan follower',\n 'kata once soal kabar republik cinta management bangkrut',\n 'video perampokan rumah makan gratis di bogor viral , begini kejadiannya',\n 'begini cara andre taulany dapat diskon besar saat beli harley',\n 'yuk , intip koleksi mobil presiden dan wakil presiden pertama di museum joang 45',\n 'wapres jusuf kalla setuju ada dewan pengawas kpk , tetapi . . .',\n 'tarif cukai rokok naik , bagaimana persaingan di industri saat ini ?',\n 'alasan shandy aulia matikan kolom komentar foto kehamilannya di ig',\n 'mahasiswa sodorkan 6 poin soal karhutla , gubernur sumsel siap mundur , jika . . .',\n 'cara polisi tindak pelanggar ganjil genap agar tidak lolos',\n 'lelang proyek jakarta international stadium diprotes , apa kata kementerian pupr ?',\n 'gojek resmi beroperasi di bandara soekarno-hatta , begini cara pesannya',\n 'masih bingung , siapa saja yang harus bayar pajak ?',\n 'usai esemka , bagaimana arah pengembangan mobil nasional ke depan ?',\n \"peserta magang dapat ' karpet merah ' jadi pegawai pln\",\n 'grab bakal pakai kendaraan listrik , apa untungnya bagi mitra pengemudi ?',\n 'ini rincian skema biaya pembangunan ibu kota baru',\n 'jokowi mau bangun istana negara di papua , ini kata bappenas',\n 'sandiaga uno akan kembali gabung dengan gerindra ?',\n 'belum ada tersangka kasus art tewas diterkam anjing , kenapa ?',\n '3 hal tentang permintaan pembangunan istana presiden di papua',\n 'muncul usulan dki gunakan dua wagub , mungkinkah ?',\n 'potret kemiskinan , keluarga di karawang ini tinggal di gubuk mirip kandang ayam',\n 'jokowi : saya paksa bumn terima 1 . 000 masyarakat papua',\n 'ide anies legalkan pkl di trotoar , langgar undang-undang ?',\n 'catat , gerhana matahari cincin terlihat di indonesia pada 26 desember 2019',\n 'sby dan air mata rindu untuk sang belahan hati , ani yudhoyono',\n 'metro sepekan : cerita kecelakaan tol cipularang , siapa wanita berbaju putih ?',\n 'top 3 news : usai raya meninggal , bagaimana kelanjutan kasus video syur vina garut ?',\n 'video : pria pamer ilmu tenaga dalam saat ditilang polisi',\n '100 hari ani yudhoyono berpulang , ini kenangan sby akan sosok memo',\n 'kisah pilu asih , diperkosa dan jadi tumbal pesugihan teman dekat',\n '4 fakta sidang perdana kasus narkoba jefri nichol',\n 'mengaku jadi korban pemerkosaan , ini 4 fakta menarik tentang barbie nouva',\n 'jadi korban perkosaan , kenapa barbie nouva tak lapor polisi ?',\n 'heboh pengakuan barbie nouva pernah diancam pistol dan diperkosa',\n 'elza syarief kecewa dengan perlakuan hotman paris',\n 'video : hailee stainfeld bakal gabung marvel ?',\n 'susah tidur , jefri nichol ditawari ganja di restoran fast food kemang',\n 'sandra dewi bikin iri karena tetap cantik dan singset usai melahirkan',\n 'pelatih timnas indonesia sebut dua pemain thailand ini punya kualitas pembeda',\n 'prediksi timnas indonesia vs thailand : pantang kalah lagi !',\n 'daftar alumnus audisi beasiswa bulu tangkis pb djarum',\n 'jelang timnas indonesia vs thailand , banyak faktor yang bebani skuat garuda',\n 'dikabarkan ingin ke mu , winger juventus marah besar',\n 'headline : audisi pb djarum disetop , bagaimana nasib regenerasi atlet bulu tangkis ?',\n '3 kemenangan terakhir timnas indonesia atas thailand',\n 'jadwal timnas indonesia vs thailand : saatnya bangkit !',\n 'hatem ben arfa dan 7 pemain bintang yang tak punya klub',\n 'wonderkid thailand siap bikin malu timnas indonesia di jakarta',\n '4 pertemuan timnas indonesia vs thailand yang tak terlupakan',\n 'persib incar bachdim dan ferdinand ? begini kata robert alberts',\n '5 pelatih dengan bayaran tertinggi di dunia',\n 'penuh gairah , petenis seksi ini cium mesra pacar baru usai gagal di as terbuka',\n 'susunan pemain timnas indonesia vs thailand : beto kembali jadi andalan',\n '3 kendala manchester united yang belum diatasi ole gunnar solskjaer',\n 'alexis sanchez tak sudi balik ke mu lagi',\n 'samsung galaxy a20s punya tiga kamera utama ?',\n 'pes 2020 resmi meluncur , cek spesifikasi pc kamu apakah bisa main gim ini ?',\n 'top 3 tekno : harga samsung galaxy a50s bikin penasaran',\n 'indonesia bakal alami hari tanpa bayangan pada 23 september , apa itu ?',\n 'ini bocoran spesifikasi , harga , dan fitur iphone 11 yang meluncur malam ini',\n 'ini 4 rahasia tubuh seksi georgina rodriguez , pacar cristiano ronaldo',\n 'punya visi berbeda , apa yang diusung arif-doni untuk duduki kursi panas pssi ?',\n 'ada peran klopp dalam transfer coutinho ke bayern munchen',\n 'fekir masih sakit hati kepada liverpool',\n 'alasan simon mcmenemy usai timnas indonesia kalah telak dari thailand',\n 'timnas indonesia babak belur lawan thailand',\n 'arsenal bikin kesalahan fatal jual iwobi',\n 'observatorium laut milik jerman hilang misterius , dugaan mengarah pada . . .',\n 'top 3 global : sejumlah asteroid melintasi bumi mencuri perhatian',\n 'wanita diduga bomber bunuh diri meledak dekat markas militer filipina , teror ?',\n 'tiga asteroid melintas kemarin dan pagi ini , bagaimana dampaknya untuk bumi ?',\n 'hari pencegahan bunuh diri sedunia , ayo ikut berperan',\n 'korut tembakkan proyektil usai setuju bertemu as akhir september , pertanda apa ?',\n 'menguak makhluk misterius di loch ness skotlandia , teka-teki mulai terpecah',\n 'detik-detik gajah mengamuk di pawai buddha sri lanka , 18 orang terluka',\n 'teleskop radio raksasa di china mendeteksi sinyal dari antariksa , alien ?',\n 'kerap bikin bingung awam , ini perbedaan antara asteroid , komet dan meteor',\n \"donald trump sebut perundingan damai as - taliban sudah ' mati '\",\n 'kisah istri polisi di hong kong berhadapan dengan suami saat demonstrasi',\n 'serempet pejalan kaki , pemotor arogan ditangkap polisi',\n 'perhatikan 4 hal ini sebelum memilih bbm',\n 'kocak , pengendara wanita mabuk laporkan dirinya sendiri ke polisi',\n 'honda genio gunakan rangka baru , apa kelebihannya ?',\n 'banyak yang tak tahu , ini koleksi mobil bj habibie',\n 'motor listrik ini menjawab tantangan di lintasan balap',\n 'perhatikan hal-hal ini saat bangun kustom motor',\n 'perhatikan hal ini sebelum ganti shockbreaker honda adv150',\n 'komunitas mobil komentari perluasan ganjil genap',\n 'posisi kalapas sukamiskin kembali diganti , mengapa ?',\n '3 harimau sumatra dikabarkan muncul di siak , ini penjelasan bbksda riau',\n 'warga geger , ada tiga karung ganja dalam septic tank',\n 'alasan pemuda partai golkar diy minta wali kota yogyakarta mengundurkan diri',\n 'kabut asap kebakaran hutan makin parah di jambi , siapa bertanggung jawab ?',\n '6 masjid indah yang jadi destinasi wisata favorit dunia',\n 'resep cilok anti-alot , mengunyah tak lagi susah',\n 'menikmati sunset pulau dewata di toko oleh-oleh',\n 'mana yang benar , 4 atau 5 destinasi super prioritas ?',\n 'peneliti singapura ungkap fakta mengejutkan soal tsunami aceh',\n 'begini cara atasi depresi pada anak yang perlu orangtua tahu',\n 'remaja sering berpikiran untuk bunuh diri , begini 6 cara mencegahnya',\n 'cara cegah orang bunuh diri lewat medsos',\n 'pertanyaan kapan nikah yang terus menerus bisa picu orang ingin bunuh diri ?',\n 'keinginan untuk bunuh diri bisa muncul karena 5 kondisi ini',\n 'kecanduan seks , ibu satu anak ini pernah tidur dengan lebih dari 100 orang',\n 'tak sengaja telan air mani , apa saja risikonya ?',\n '4 karya bj habibie di industri dirgantara yang bikin bangga indonesia',\n 'hasil lelang proyek stadion bmw digugat , ini kata menteri pupr',\n 'milenial bakal sulit punya rumah di ibu kota baru',\n 'subsidi listrik turun , bagaimana nasib pelanggan 450 va ?',\n 'bj habibie meninggal , menteri bambang kenang soal beda mazhab pembangunan',\n 'bj habibie punya jiwa entrepreneur tinggi',\n 'capim kpk lili pintauli : saya tidak setuju dewan pengawas',\n 'stafsus presiden paparkan bukti jokowi serius bangun papua',\n 'bj habibie meninggal dunia , annisa yudhoyono : beliau siap dipanggil . . .',\n 'melanie subono kabarkan bj habibie meninggal : sampai jumpa di keabadian . . .',\n 'jokowi mendadak kunjungi rspad , tempat bj habibie dirawat',\n 'fakta-fakta penemuan jenazah asih korban pesugihan teman dekatnya',\n 'saksikan pertarungan sengit psm makassar dan psis semarang live di indosiar',\n 'capim nawawi : ada persoalan di wadah pegawai kpk',\n 'siapa yang unggul , persija atau persipura ? saksikan live di indosiar malam ini',\n 'gerindra setuju wacana wagub dki jakarta lebih dari satu , tapi . . .',\n 'ini yang akan didalami dpr dalam fit and proper test capim kpk',\n '4 hal soal polemik pemenang tender proyek stadion bmw',\n 'lima capim kpk akan ikuti fit and proper test hari ini',\n 'gerindra : kalau masih bisa jalan di trotoar , ngapain pkl diusir ?',\n 'pan¬†beberkan¬†janji-janji anies baswedan yang belum terlaksana',\n 'cerita jokowi soal harga bbm dan semen di papua',\n 'top 3 news : kisah pilu asih , jadi tumbal pesugihan teman dekat',\n 'desa di bali ini denda rp 1 juta pendaki gunung agung',\n 'keluarga asih tak percaya , anaknya jadi korban pesugihan teman dekat',\n '4 janji jokowi saat bertemu dengan tokoh papua',\n '4 fakta soal sakitnya bj habibie',\n 'fakta-fakta kecelakaan nganjuk yang telan korban jiwa',\n 'bj habibie meninggal dunia , ahy : berbahagia kembali dengan bu ainun . . .',\n 'duka para artis atas meninggalnya bj habibie',\n 'mimpi disiram darah , elly sugigi kini mantap berhijab',\n 'vicky prasetyo diam-diam dekati sarita abdul mukti',\n 'marsha aruan sudah pakai makeup sejak smp',\n 'terungkap , bill skarsgard sang badut pennywise ternyata pria beranak satu',\n 'pengalaman manggung ari lasso , dari hotel mewah hingga lokasi banjir',\n 'cut meyriska tunjukkan tanda-tanda kehamilan ?',\n 'atta halilintar sindir tukang karang cerita , siapa yang dimaksud ?',\n 'winky wiryawan latihan olah tubuh dan menetralkan diri , buat apa ?',\n 'aguero hengkang , berikut 3 calon striker penggantinya',\n 'pelatih thailand puji dua pemain ini usai permalukan timnas indonesia',\n 'legenda mu puji performa daniel james',\n '3 hal yang harus dilakukan mu untuk membungkam leicester',\n 'lukaku lega bisa bermain di bawah asuhan conte',\n 'thiago silva sebut neymar bakal tetap jadi andalan psg',\n 'sergio ramos minta izin hengkang dari real madrid',\n 'bomber chelsea jadi korban rasial , sang ibu merasa terpukul',\n 'jadi sasaran kritikan , eks kapten mu akui kehilangan berat badan 8 kilogram',\n 'frank lampard ingin rekrut pemain ini untuk chelsea',\n 'hazard berpeluang lakoni debut bersama real madrid lawan levante ?',\n 'nilai pemain timnas indonesia saat dipecundangi thailand',\n 'podcast : audisi pb djarum dihentikan , bagaimana nasib atlet belia',\n 'kecerobohan ederson buat timnas brasil takluk dari peru',\n '5 calon kuat top skorer liga champions 2019-2020',\n 'berapa lama simon mcmenemy menduduki kursi pelatih timnas indonesia ?',\n '3 hal yang wajib segera dibenahi mu',\n 'fakta menarik persaingan liga inggris hingga pekan ke-4',\n \"ramos sebut bek liverpool lebih pantas menangkan ballon d ' or ketimbang cristiano ronaldo\",\n 'klub david beckham mulai menggoda lionel messi',\n 'absen lebih dari semusim , mantan bek juventus siap kembali bela ac milan',\n 'kapten real madrid : biarkan gareth bale bermain golf',\n 'mesin gol barcelona belum komplet saat menjamu valencia',\n 'sepak terjang cucu bj habibie di dunia sepak bola , sempat berguru ke eropa',\n 'neymar masih berpeluang kembali ke barcelona',\n 'sadio mane jawab rumor akan hengkang dari liverpool',\n 'sempat bikin miris , aksi bocah merokok di laga amal ternyata . . .',\n 'top 3 tekno : bocoran informasi spesifikasi , fitur dan harga iphone 11',\n 'video : melihat lebih dekat wujud iphone 11',\n 'dukung grafis tinggi untuk main gim , ini spesifikasi lengkap galaxy a50s',\n 'video top 3 : iphone 11 resmi dirilis , berapa harganya ?',\n 'video : iphone 11 resmi dirilis , lebih baik dari iphone x ?',\n 'apple umumkan ipad anyar 10 , 2 inci , harganya ?',\n 'berbulu dan suka menggigit , kenalkan pelatih gulat masa kecil khabib nurmagomedov',\n 'seksinya pacar cristiano ronaldo , georgina rodriguez , saat sesi foto busana transparan',\n 'mantan bek kiri mu ingin jadi pelatih',\n 'wonderkid inggris bikin mu gigit jari',\n 'mantan pemain barcelona divonis penjara dua tahun',\n 'anaknya menjadi korban rasisme , ibu striker chelsea menangis',\n 'rahim hingga kelamin pria , ini transplantasi dunia yang diklaim sukses',\n 'selain sebesar big ben , 6 asteroid raksasa ini pernah melintas dan dekati bumi',\n 'ini 17 pemenang hassan wirajuda perlindungan wni award 2019',\n 'gara-gara 4 hal sepele , sejumlah orang ini mendadak tajir',\n 'waspada , 4 benda umum di rumah ini ternyata bisa diretas',\n '6 kisah pilu dalam pesan terakhir korban tragedi 9 / 11',\n 'ngeri , bakteri sekarang bisa temukan cara untuk kebal dari antibiotik',\n 'kisah korban penculikan isis , alami kekerasan seksual hingga dijual 20 kali',\n 'lobster super langka ditemukan , begini penampakannya',\n 'romansa sebelum ajal menjemput di tragedi 9 / 11 : aku cinta padamu , sayang . . .',\n 'video : patroli kopi cara polisi dekatkan diri dengan warga',\n 'penampilan terbaru jaguar e-type 1964 setelah 30 tahun terdampar di hutan',\n 'land rover defender 2020 resmi diperkenalkan , intip kecanggihannya',\n 'diduga¬†rebadge merek cina , pemerintah jelaskan sistem perakitan esemka',\n 'suv mewah rolls-royce cullinan kena recall , apa yang bermasalah ?',\n 'dianggap sering kecelakaan , suv bakal dilarang di kota ini',\n 'terlihat mirip , polisi ini ternyata tilang ayah kandungnya',\n 'wajib diperhatikan , ini 5 ciri ban harus segera diganti',\n 'ingin buat sim international , ini syarat dan biayanya',\n 'honda zoomer terdaftar di samsat dki jakarta , berapa harganya ?',\n 'jangan sembarangan , begini teknik mengendarai sepeda motor dengan boks',\n 'cinta ditolak , pisau menghunjam',\n 'cerita mistis pemuda jember melihat karnaval di hutan angker',\n 'cerita petugas bpbd banyumas 24 jam kirim bantuan air bersih',\n 'tersebar video bercanda di dalam mobil sebelum kecelakaan maut nganjuk',\n 'bj habibie dan kisah museum yang belum terwujud',\n 'teka-teki kasus korupsi berjamaah dprd garut , siapa tersangkut ?',\n 'jejak kenangan bj habibie dalam rumah tua di gorontalo',\n 'suhu di gorontalo capai titik terendah , mengapa ?',\n 'cerita dr oz telat menyadari gejala awal alzheimer pada sang ibu',\n 'apa yang harus diperhatikan supaya gurita hidup aman dikonsumsi ?',\n 'kenali faktor risiko bunuh diri pada remaja',\n 'jadi konsumen cerdas , cek klik sebelum beli obat dan makanan',\n 'adakah waktu yang tepat untuk berhubungan seks ?',\n 'sering menahan buang air kecil , 4 penyakit ini siap mengintai',\n 'ini kekhawatiran abraham samad bila revisi uu kpk dibahas dpr-pemerintah',\n 'terungkap di balik wajah bj habibie yang tersenyum saat meninggal',\n 'mampukah indonesia jadi negara maju di 2045 ?',\n 'potret capim kpk : setuju sp 3 hingga kritik wadah pegawai',\n 'cerita ko-pilot pesawat gatotkaca n250 tentang sosok habibie',\n 'cinta habibie ke ainun , basuhan air zam-zam sebelum meninggal dunia',\n 'cerita sby tentang kedekatannya dengan bj habibie',\n 'sosok bj habibie di mata wapres jusuf kalla',\n 'bj habibie di mata jokowi hingga sby',\n 'melihat lebih dekat liang lahat untuk bj¬†habibie',\n 'sekjen mpr : pentingnya uud 1945 untuk cegah korupsi',\n 'ini rangkaian proses pemakaman jenazah bj habibie',\n 'melayat ke rumah duka , sandiaga uno ungkap pesan bj habibie',\n 'amien rais saat melihat jenazah bj habibie : wajahnya tersenyum',\n 'kenangan wiranto tentang bj habibie sejak jadi menteri hingga presiden ri',\n 'kritik kpk era agus rahardjo cs , ¬†capim nawawi : ini ott atau jebakan ?',\n 'agar masyarakat bisa melayat bj habibie , aturan ganjil genap di tiga jalan ini tak berlaku',\n 'headline : janji jokowi untuk papua , damai di bumi cenderawasih bakal terwujud ?',\n 'fakta mengejutkan terungkap usai kecelakaan nganjuk terjadi',\n 'mengingat tragedi berdarah tanjung priok 35 tahun silam',\n 'top 3 news : annisa pohan sebut bj habibie siap dipanggil karena ibu ainun menunggunya',\n '2 pesan terakhir bj habibie ke keponakannya',\n 'nasihat habibie untuk partai golkar dan pemerintah pusat',\n 'dukungan bj habibie yang dikenang menteri susi',\n 'selamat jalan profesor bj habibie . . .',\n 'jokowi : selamat jalan , mr crack . . .',\n 'doa untuk bj habibie yang dibacakan menteri agama',\n 'pesan bj habibie untuk kemajuan industri indonesia',\n 'menteri susi : harga ayam dan daging mahal , ayo makan ikan !',\n 'ingin dapat diskon tiket kereta api ? ini caranya',\n 'malaysia masuk negara berpendapatan menengah ke atas , indonesia kapan ?',\n 'dpr akan pilih 5 pimpinan kpk periode 2019-2023 malam ini ?',\n 'malam kelam aulia kesuma bunuh suami dan anak tirinya',\n 'kisah kesetiaan bj habibie kepada ainun hingga ajal menjemput',\n 'segudang prestasi bj habibie , dari jadi presiden hingga penemu teori kedirgantaraan',\n 'eks ajudan : saya malu melihat habibie-ainun seperti pengantin baru',\n 'pengusaha ajukan nama calon menteri ke jokowi , ini daftarnya',\n 'saat warga antre berfoto dan berdoa di makam bj habibie',\n 'cerita sinta nuriyah tentang bj habibie ingin ikut sahur keliling',\n 'cerita soal bj habibie dan krisis 1998',\n 'sejumlah tokoh hadiri tahlilan bj habibie',\n 'harga tanah naik 4 kali lipat , milenial susah beli rumah di kaltim ?',\n 'kpk tetapkan tersangka eks dirut petral , praktik mafia migas langsung hilang ?',\n 'asisten pribadi : meski sakit , bj habibie masih pikirkan negara',\n 'viral video xanana gusmao cium kening bj habibie , begini kisahnya',\n 'di cap capim kpk bermasalah , ini penjelasan johanis tanak',\n 'berita terkini bj habibie meninggal dan upacara pemakaman',\n 'menkumham sampaikan pandangan pemerintah soal revisi uu kpk , ini isinya',\n 'sctv tayangkan lagi film habibie & ainun , simak 5 fakta menariknya',\n '5 kata-kata mutiara bj habibie semasa hidup yang menyentuh hati',\n 'bicara soal gading marten , gisella anastasia menahan tangis',\n 'kenangan reza rahadian saat bj habibie menelepon pada tengah malam',\n 'cerita ruben onsu antar jemput anak sekolah',\n 'video : mengenal autoimun , penyakit yang diderita raditya dika',\n 'akhirnya maddox buka suara soal brad pitt',\n '3 fakta raymond hartanto , adik boy william yang meninggal dunia',\n 'ketemu marshanda , raffi ahmad dibuat salah tingkah',\n 'selain 6 , 9 detik , berikut 3 film biopik atlet indonesia',\n 'populer di era 60 hingga 80-an , ini profil pedangdut legendaris ida laila¬†',\n 'nasihat bj habibie tentang pengetahuan dan cinta',\n 'duka melly goeslaw untuk bj habibie : bahagia bertemu ibu ainun di surga',\n 'mengharukan , puisi perpisahan najwa shihab untuk bj habibie',\n 'cerita reza rahadian , dapat ilham peran bj habibie lewat mimpi',\n 'melanie soebono dapat pesan terakhir bj habibie , apa katanya ?',\n 'jadi komentator golden memories asia indosiar , ini 5 hit besar ruth sahanaya',\n 'pesan terakhir bj habibie untuk reza rahadian',\n 'miley cyrus dan kaitlynn carter sudah tinggal serumah ?',\n 'cerita bj habibie tentang kesukaan pada sinetron cinta fitri',\n 'digoda mu , fokus gelandang newcastle terganggu',\n 'pemain-pemain tercepat di serie a versi fifa 20 , siapa saja ?',\n 'mau lolos liga champions , mu dituntut menang lawan tim gurem',\n 'urusan transfer , mu siap menggila di bursa musim dingin',\n 'hukuman dikurangi , chelsea bakal bikin pusing ac milan',\n '3 faktor penyebab de ligt terpuruk di juventus',\n 'daniel james masih takjub jalani debut bersama mu',\n 'jadi sorotan , inilah beda reaksi kiper timnas indonesia dan winger thailand',\n 'ini alasan mkhitaryan tinggalkan arsenal',\n 'legenda liverpool sentil penyerang mu',\n 'bj habibie meninggal , persebaya : selamat jalan eyang . . . .',\n 'pertanyakan keseriusan barcelona boyong kembali neymar , lionel messi ngambek ?',\n '10 pemain tercepat di liga inggris versi fifa 20',\n 'mediasi bersama kemenpora , ini 4 kesepakatan pb djarum dengan kpai',\n 'karier kontroversial pelatih timnas indonesia simon mcmenemy',\n 'motogp : ini perbedaan jorge lorenzo dan marc marquez',\n 'saatnya mu bangkit',\n 'dituduh korupsi , agen kiper real madrid ditangkap',\n '3 calon mesin gol manchester city jika sergio aguero pergi',\n 'fiorentina vs juventus : kembalinya sarri , debut aaron ramsey ?',\n 'terungkap , gelandang mu batal pindah ke psg gara-gara neymar',\n '6 wonderkid yang diprediksi bersinar di liga champions 2019-2020',\n '3 tanda cristiano ronaldo bakal nikahi si seksi georgina rodriguez',\n 'ini harga trio iphone 11',\n 'top 3 tekno : kabar duka bj habibie meninggal dunia jadi sorotan',\n '4 pesawat bj habibie yang bikin indonesia bangga',\n 'pixel 4 akan hadir 15 oktober 2019 ?',\n 'video : bj habibie di mata para tokoh dunia',\n 'warganet ramaikan peluncuran iphone 11 dengan meme kocak',\n 'tanya tekno : apa bisa pasang dongle dan perangkat beda frekuensi ?',\n 'video : waspada handphone kw dijual di pasaran , berikut ciri-cirinya',\n 'viral , video persahabatan bj habibie dan xanana gusmao bikin warganet terharu',\n 'mertesacker pahami fans arsenal frustrasi lihat ozil',\n 'si cantik kartika berliana siap begadang kawal liga champions dan liga europa di vidio',\n '3 manajer tim liga inggris ini terancam pemecatan , salah satunya solskjaer',\n 'sosok bj habibie dalam kenangan asisten pelatih bali united',\n 'kesal dengan kondisi klub , presiden napoli tantang ingin beli ac milan',\n '10 pencetak gol termuda sepanjang sejarah liga spanyol',\n 'florentino perez cerita tentang kegagalan real madrid mendapatkan paul pogba',\n 'penasaran , chelsea kembali incar striker ac milan ?',\n 'video : viral video siswa pukuli teman-temannya',\n '6 perang paling berdarah dan mematikan dalam sejarah dunia',\n 'kabar bj habibie meninggal jadi sorotan dunia',\n 'begini cara astronot memperingati tragedi 9 / 11 dari angkasa luar',\n 'matikan gps dan kegiatan sehari-hari ini ternyata bisa bikin cerdas',\n 'bukan ufo , bangunan unik ini merupakan pabrik bir',\n 'penemuan air di planet berpotensi layak huni mirip bumi buka peluang riset alien ?',\n 'taipan pedalaman hingga weling , kenali 6 ular paling mematikan di dunia',\n 'jangan asal ngegas , ini yang mesti dilakukan sebelum motor jalan',\n 'warisan soeharto , ini mobil dinas bj habibie saat jadi presiden',\n 'mau jago gymkhana , simak triknya',\n 'permudah masyarakat melayat bj habibie , ganjil genap di 3 jalan ini tak berlaku',\n 'merek nasional , pemerintah maklumi esemka bima hanya ganti merek ?',\n 'kaya mendadak , pasutri ini beli 3 mobil lalu diburu polisi',\n 'tertarik tingkatkan skill berkendara motor , tempat ini bisa dicoba',\n 'suzuki punya naked bike terbaru , ini bocoran spesifikasi dan harganya',\n ...]"
     },
     "execution_count": 102,
     "metadata": {},
     "output_type": "execute_result"
    }
   ],
   "source": [
    "# end result : list\n",
    "nonclickbait_l_c\n",
    "clickbait_l_c"
   ],
   "metadata": {
    "collapsed": false
   }
  },
  {
   "cell_type": "markdown",
   "source": [
    "# Exploratory Data Analysis"
   ],
   "metadata": {
    "collapsed": false
   }
  },
  {
   "cell_type": "markdown",
   "source": [
    "# N gram : Self Created"
   ],
   "metadata": {
    "collapsed": false
   }
  },
  {
   "cell_type": "code",
   "execution_count": 275,
   "outputs": [
    {
     "name": "stderr",
     "output_type": "stream",
     "text": [
      "[nltk_data] Downloading package punkt to\n",
      "[nltk_data]     /Users/nurrizkyimani/nltk_data...\n",
      "[nltk_data]   Package punkt is already up-to-date!\n"
     ]
    }
   ],
   "source": [
    "# Ngram: Self created\n",
    "# bikin tokenization fucntion with nltk;\n",
    "import nltk\n",
    "from nltk.util import ngrams\n",
    "nltk.download('punkt')\n",
    "\n",
    "# create the ngram of the list of sentence,\n",
    "# sentence_ex: list of sentence\n",
    "# min_length : minimal sentence\n",
    "# max_length : maximal len\n",
    "# return dict: 1,2 each with list of ngram of size n\n",
    "\n",
    "from collections import Counter\n",
    "\n",
    "def ngram_maker(list_sentences, min_length, max_length):\n",
    "    lengths = range(min_length, max_length + 1)\n",
    "    res_ngram = {length : [] for length in lengths}\n",
    "\n",
    "    for leng in lengths:\n",
    "        for sentence in list_sentences:\n",
    "            n_grams = ngrams(nltk.word_tokenize(sentence), leng)\n",
    "            for gram in n_grams:\n",
    "                temp_word = ' '.join(gram)\n",
    "                res_ngram[leng].append(temp_word)\n",
    "\n",
    "    return res_ngram\n",
    "\n",
    "def ngram_maker_v2(list_sentences, min_length, max_length):\n",
    "    lengths = range(min_length, max_length + 1)\n",
    "    res_ngram = {length : [] for length in lengths}\n",
    "\n",
    "    for leng in lengths:\n",
    "        for sentence in list_sentences:\n",
    "            temp_set = set()\n",
    "            n_grams = ngrams(nltk.word_tokenize(sentence), leng)\n",
    "\n",
    "            for grams in n_grams:\n",
    "                res = ' '.join(grams)\n",
    "                temp_set.add(res)\n",
    "                # print(temp_set)\n",
    "\n",
    "            for key in temp_set:\n",
    "                split_t = tuple(key.split(\" \"))\n",
    "                res_ngram[leng].append(split_t)\n",
    "\n",
    "    return res_ngram"
   ],
   "metadata": {
    "collapsed": false
   }
  },
  {
   "cell_type": "code",
   "execution_count": 273,
   "outputs": [],
   "source": [
    "def counter_for_ngram(ngram_dict, min_length, max_length):\n",
    "    lengths = range(min_length, max_length + 1)\n",
    "    ngram_count_res = {length : [] for length in lengths}\n",
    "\n",
    "    for key in ngram_dict:\n",
    "        ng_count = Counter(ngram_dict[key])\n",
    "        ngram_count_res[key] = ng_count\n",
    "\n",
    "    return ngram_count_res"
   ],
   "metadata": {
    "collapsed": false
   }
  },
  {
   "cell_type": "code",
   "execution_count": 279,
   "outputs": [],
   "source": [
    "param_span_t = 3\n",
    "clickbait_ngrams_v2= ngram_maker_v2(list_sentences=clickbait_l_c, min_length=1, max_length=param_span_t)\n",
    "clickbait_ngram_count_v2 = counter_for_ngram(ngram_dict=clickbait_ngrams_v2,min_length=1, max_length=param_span_t)\n",
    "\n",
    "non_clickbait_ngrams_v2= ngram_maker_v2(list_sentences=nonclickbait_l_c, min_length=1, max_length=param_span_t)\n",
    "non_clickbait_ngram_count_v2 = counter_for_ngram(ngram_dict=non_clickbait_ngrams_v2,min_length=1, max_length=param_span_t)"
   ],
   "metadata": {
    "collapsed": false
   }
  },
  {
   "cell_type": "code",
   "execution_count": 308,
   "outputs": [],
   "source": [
    "# get ngram from the word in the sentence reference only\n",
    "def ngram_from_sentence_v3(ori_sentence, min_length, max_length):\n",
    "    sent_in_arr = [ori_sentence]\n",
    "    res_ngram_sentence = []\n",
    "    stc_ngram_only = ngram_maker_v2(list_sentences=sent_in_arr, min_length=min_length, max_length=max_length)\n",
    "    return stc_ngram_only\n",
    "\n",
    "def count_ngram_sentence_only(ngram_dictionary, ngram_from_sentence, min_length, max_length):\n",
    "    lengths = range(min_length, max_length + 1)\n",
    "    ngram_compare_arr = []\n",
    "\n",
    "    for length in lengths:\n",
    "        for split in ngram_from_sentence[length]:\n",
    "            ngram_compare_arr.append([split, ngram_dictionary[length][split]])\n",
    "\n",
    "    return np.array(ngram_compare_arr)\n"
   ],
   "metadata": {
    "collapsed": false
   }
  },
  {
   "cell_type": "code",
   "execution_count": 315,
   "outputs": [
    {
     "name": "stderr",
     "output_type": "stream",
     "text": [
      "/var/folders/1n/2gdy6g815s301ygx2s35p6_80000gp/T/ipykernel_87335/840300411.py:17: VisibleDeprecationWarning: Creating an ndarray from ragged nested sequences (which is a list-or-tuple of lists-or-tuples-or ndarrays with different lengths or shapes) is deprecated. If you meant to do this, you must specify 'dtype=object' when creating the ndarray.\n",
      "  return np.array(ngram_compare_arr)\n"
     ]
    }
   ],
   "source": [
    "param_span_t = 3\n",
    "ngram_stc_only = ngram_from_sentence_v3(\"bj habibie meninggal\", 1, 2)\n",
    "res = count_ngram_sentence_only(non_clickbait_ngram_count_v2, ngram_stc_only,1, 2)"
   ],
   "metadata": {
    "collapsed": false
   }
  },
  {
   "cell_type": "code",
   "execution_count": 316,
   "outputs": [
    {
     "data": {
      "text/plain": "numpy.ndarray"
     },
     "execution_count": 316,
     "metadata": {},
     "output_type": "execute_result"
    }
   ],
   "source": [
    "type(res)"
   ],
   "metadata": {
    "collapsed": false
   }
  },
  {
   "cell_type": "code",
   "execution_count": 322,
   "outputs": [],
   "source": [
    "def salience_func(sentence, min_length, max_length, ref_bait, param_thres):\n",
    "    # ngram sentence as reference\n",
    "    sentence_ngram_ref = ngram_from_sentence_v3(ori_sentence=sentence, min_length=min_length, max_length=max_length)\n",
    "\n",
    "    # count the clickbait sentence, clickbait ngram count as based reference\n",
    "    counts_sentence_clickbait = count_ngram_sentence_only(clickbait_ngram_count_v2,sentence_ngram_ref,min_length,max_length)\n",
    "\n",
    "    print(counts_sentence_clickbait)\n",
    "\n",
    "    # count the non-clickbait sentence, non-clickbait ngram count as based reference\n",
    "    counts_sentence_nonclickbait = count_ngram_sentence_only(non_clickbait_ngram_count_v2,sentence_ngram_ref,min_length,max_length)\n",
    "\n",
    "\n",
    "    return counts_sentence_nonclickbait\n"
   ],
   "metadata": {
    "collapsed": false
   }
  },
  {
   "cell_type": "code",
   "execution_count": 323,
   "outputs": [
    {
     "name": "stdout",
     "output_type": "stream",
     "text": [
      "[[('bj',) 82]\n",
      " [('habibie',) 95]\n",
      " [('meninggal',) 34]\n",
      " [('bj', 'habibie') 82]\n",
      " [('habibie', 'meninggal') 13]]\n"
     ]
    },
    {
     "name": "stderr",
     "output_type": "stream",
     "text": [
      "/var/folders/1n/2gdy6g815s301ygx2s35p6_80000gp/T/ipykernel_87335/840300411.py:17: VisibleDeprecationWarning: Creating an ndarray from ragged nested sequences (which is a list-or-tuple of lists-or-tuples-or ndarrays with different lengths or shapes) is deprecated. If you meant to do this, you must specify 'dtype=object' when creating the ndarray.\n",
      "  return np.array(ngram_compare_arr)\n"
     ]
    }
   ],
   "source": [
    "salience_func(\"bj habibie meninggal\", 1, 2, \"isClickbait\", 5 )"
   ],
   "metadata": {
    "collapsed": false
   }
  },
  {
   "cell_type": "code",
   "execution_count": 333,
   "outputs": [],
   "source": [
    "def get_attribute_markers_test(s, style_src):\n",
    "    sentence = [s]\n",
    "\n",
    "    ngrams = get_counts(sentence, d_nonclick_ngrams_counts)\n",
    "    if len(ngrams) > 0:\n",
    "        ngrams = ngrams[:,1]\n",
    "\n",
    "    pos_counts = get_counts(sentence, d_nonclick_ngrams_counts)\n",
    "\n",
    "    print(pos_counts)\n",
    "    if len(pos_counts) > 0:\n",
    "        pos_counts = pos_counts[:,0]\n",
    "        print(pos_counts)\n",
    "\n",
    "    neg_counts = get_counts(sentence, d_clickbait_ngrams_counts)\n",
    "    if len(neg_counts) > 0:\n",
    "        neg_counts = neg_counts[:,0]\n",
    "\n",
    "    return pos_counts"
   ],
   "metadata": {
    "collapsed": false
   }
  },
  {
   "cell_type": "code",
   "execution_count": 334,
   "outputs": [
    {
     "name": "stdout",
     "output_type": "stream",
     "text": [
      "[[0 ('bj', 'habibie', 'meningggal')]\n",
      " [100 ('bj', 'habibie')]\n",
      " [100 ('bj', 'habibie')]\n",
      " [0 ('habibie', 'meningggal')]\n",
      " [100 ('bj',)]\n",
      " [100 ('bj',)]\n",
      " [100 ('bj',)]\n",
      " [219 ('habibie',)]\n",
      " [0 ('meningggal',)]]\n",
      "[0 100 100 0 100 100 100 219 0]\n"
     ]
    },
    {
     "name": "stderr",
     "output_type": "stream",
     "text": [
      "/var/folders/1n/2gdy6g815s301ygx2s35p6_80000gp/T/ipykernel_87335/3592875023.py:9: VisibleDeprecationWarning: Creating an ndarray from ragged nested sequences (which is a list-or-tuple of lists-or-tuples-or ndarrays with different lengths or shapes) is deprecated. If you meant to do this, you must specify 'dtype=object' when creating the ndarray.\n",
      "  return np.array(counts)\n"
     ]
    }
   ],
   "source": [
    "ttt = get_attribute_markers_test(\"bj habibie meningggal\", 0)"
   ],
   "metadata": {
    "collapsed": false
   }
  },
  {
   "cell_type": "code",
   "execution_count": 332,
   "outputs": [
    {
     "data": {
      "text/plain": "array([0, 100, 100, 0, 100, 100, 100, 219, 0], dtype=object)"
     },
     "execution_count": 332,
     "metadata": {},
     "output_type": "execute_result"
    }
   ],
   "source": [
    "ttt"
   ],
   "metadata": {
    "collapsed": false
   }
  },
  {
   "cell_type": "markdown",
   "source": [
    "# Ngram : Delete, get attribute and content section"
   ],
   "metadata": {
    "collapsed": false
   }
  },
  {
   "cell_type": "code",
   "execution_count": null,
   "outputs": [],
   "source": [
    "#these are methods that will become useful when extracting attribute markers\n",
    "#why do we need all this? well... that's like 5 hours of debugging...\n",
    "def flatten(foo):\n",
    "    return list(_flatten(foo))\n",
    "\n",
    "def _flatten(foo):\n",
    "    for x in foo:\n",
    "        if isinstance(x, collections.Iterable) and not isinstance(x, str):\n",
    "            for y in _flatten(x):\n",
    "                yield y\n",
    "        else:\n",
    "            yield x\n",
    "\n",
    "def array_to_string(a):\n",
    "    return ' '.join(flatten(a))\n",
    "\n",
    "def is_in_string_array(elements, original): #deprecated, does not take into account sequence order\n",
    "    return np.isin(array_to_string(elements).split(), array_to_string(original).split()).any()\n",
    "\n",
    "# no usage in the func\n",
    "def insert_string(string, inserted_string, index):\n",
    "    return string[:index] + inserted_string + string[index:]\n",
    "\n",
    "# modified from https://stackoverflow.com/questions/41752946/replacing-a-character-from-a-certain-index\n",
    "def replace_string(s, newstring, index, nofail=False):\n",
    "    # raise an error if index is outside of the string\n",
    "    if not nofail and index not in range(len(s)):\n",
    "        raise ValueError(\"index outside given string. index:\" + index)\n",
    "\n",
    "    # if not erroring, but the index is still not in the correct range..\n",
    "    if index < 0:  # add it to the beginning\n",
    "        return newstring + s\n",
    "    if index > len(s):  # add it to the end\n",
    "        return s + newstring\n",
    "\n",
    "    # insert the new string between \"slices\" of the original\n",
    "    return s[:index] + newstring + s[index + len(newstring):]"
   ],
   "metadata": {
    "collapsed": false
   }
  },
  {
   "cell_type": "markdown",
   "source": [
    "Get attribute marker, content"
   ],
   "metadata": {
    "collapsed": false
   }
  },
  {
   "cell_type": "code",
   "execution_count": null,
   "outputs": [],
   "source": [
    "# get the ngram count based on the reference sentence onlhy\n",
    "def get_counts(list1, counted_ngrams):\n",
    "    counts = []\n",
    "    list1_ngrams = generate_ngrams(list1)\n",
    "    list2_counts = counted_ngrams\n",
    "\n",
    "    for length in range(param_span,0, -1):\n",
    "        for v in list1_ngrams[length]:\n",
    "            counts.append([list2_counts[length][v], v])\n",
    "    return np.array(counts)\n",
    "\n",
    "def get_attribute_markers(s, style_src):\n",
    "    sentence = [s]\n",
    "\n",
    "    ngrams = get_counts(sentence, d_nonclick_ngrams_counts)\n",
    "\n",
    "    if len(ngrams) > 0:\n",
    "        ngrams = ngrams[:,1]\n",
    "\n",
    "    pos_counts = get_counts(sentence, d_nonclick_ngrams_counts)\n",
    "\n",
    "    if len(pos_counts) > 0:\n",
    "        pos_counts = pos_counts[:,0]\n",
    "\n",
    "    neg_counts = get_counts(sentence, d_clickbait_ngrams_counts)\n",
    "    if len(neg_counts) > 0:\n",
    "        neg_counts = neg_counts[:,0]\n",
    "\n",
    "    if(style_src):\n",
    "        importances = (pos_counts + param_smooth) / (neg_counts + param_smooth)\n",
    "    else:\n",
    "        importances = (neg_counts + param_smooth) / (pos_counts + param_smooth)\n",
    "\n",
    "    a = []\n",
    "\n",
    "    importances = np.vstack((importances, ngrams)).T\n",
    "    for importance in importances:\n",
    "        if importance[0] > param_threshold and not is_in_string_array(importance[1], a):\n",
    "            a.append(' '.join(importance[1]))\n",
    "    return a\n",
    "def separate(sentence, style_src):\n",
    "    attributes = get_attribute_markers(sentence, style_src)\n",
    "    c = sentence\n",
    "\n",
    "    replace_indexes = []\n",
    "    for a in attributes:\n",
    "        replace_index = -1\n",
    "        replace_index = c.find(a)\n",
    "        replace_indexes.append(replace_index)\n",
    "        c = c.replace(a, \" \"*len(a))\n",
    "\n",
    "    if len(attributes) == 0:\n",
    "        return {'c': c, 'a': [], 'i': [], 's': sentence}\n",
    "\n",
    "    replace_indexes, attributes = zip(*sorted(zip(replace_indexes, attributes)))\n",
    "    return {'c': c, 'a': attributes, 'i': replace_indexes, 's': sentence}\n",
    "\n",
    "def get_c(sentence, style):\n",
    "    return re.sub(' +', ' ', separate(sentence, style)['c'])\n",
    "\n",
    "def get_a(sentence, style):\n",
    "    a = separate(sentence, style)['a']\n",
    "    if len(a) > 0:\n",
    "        return ' '.join(a)\n",
    "    else:\n",
    "        return \"\""
   ],
   "metadata": {
    "collapsed": false
   }
  },
  {
   "cell_type": "code",
   "execution_count": 259,
   "outputs": [],
   "source": [
    "def get_counts_disect(list1, counted_ngrams):\n",
    "    counts = []\n",
    "    list1_ngrams = generate_ngrams(list1)\n",
    "    # print(list1_ngrams)\n",
    "    list2_counts = counted_ngrams\n",
    "    # print(list2_counts)\n",
    "\n",
    "    for length in range(param_span,0, -1):\n",
    "        for v in list1_ngrams[length]:\n",
    "            counts.append([list2_counts[length][v], v])\n",
    "    return np.array(counts)\n",
    "\n",
    "    # return \"d\""
   ],
   "metadata": {
    "collapsed": false
   }
  },
  {
   "cell_type": "code",
   "execution_count": 312,
   "outputs": [
    {
     "name": "stderr",
     "output_type": "stream",
     "text": [
      "/var/folders/1n/2gdy6g815s301ygx2s35p6_80000gp/T/ipykernel_87335/136999833.py:11: VisibleDeprecationWarning: Creating an ndarray from ragged nested sequences (which is a list-or-tuple of lists-or-tuples-or ndarrays with different lengths or shapes) is deprecated. If you meant to do this, you must specify 'dtype=object' when creating the ndarray.\n",
      "  return np.array(counts)\n"
     ]
    }
   ],
   "source": [
    "sentence = [\"ma tolak umroh jokowi\"]\n",
    "ngrams_res_t = get_counts_disect(sentence, d_nonclick_ngrams_counts)"
   ],
   "metadata": {
    "collapsed": false
   }
  },
  {
   "cell_type": "code",
   "execution_count": 313,
   "outputs": [
    {
     "data": {
      "text/plain": "numpy.ndarray"
     },
     "execution_count": 313,
     "metadata": {},
     "output_type": "execute_result"
    }
   ],
   "source": [
    "type(ngrams_res_t)"
   ],
   "metadata": {
    "collapsed": false
   }
  },
  {
   "cell_type": "markdown",
   "source": [
    "# TFIDF : Get similar sentence"
   ],
   "metadata": {
    "collapsed": false
   }
  },
  {
   "cell_type": "code",
   "execution_count": null,
   "outputs": [],
   "source": [
    "# ===== TF-IDF Weighted Word Overlap ===== #\n",
    "# docs pre-processing\n",
    "# docs = d_both.values.tolist()\n",
    "# d_pos = nonlickbait\n",
    "# d_neg = clickbait\n",
    "# d_pos = nonclickbait_l_c\n",
    "docs = d_both\n",
    "\n",
    "d_pos = nonclickbait_l_c\n",
    "d_neg = clickbait_l_c\n",
    "\n",
    "# creating dict_idf = {word: idf}\n",
    "from sklearn.feature_extraction.text import TfidfVectorizer\n",
    "tfidf_vectorizer=TfidfVectorizer(use_idf=True, stop_words=None)\n",
    "tfidf_vectorizer_vectors=tfidf_vectorizer.fit_transform(docs)\n",
    "dict_idf = dict(zip(tfidf_vectorizer.get_feature_names(), tfidf_vectorizer.idf_))\n",
    "\n",
    "def get_overlap(a, b):\n",
    "    #     print(a, b)\n",
    "    a_counter = collections.Counter(a.split())\n",
    "    b_counter = collections.Counter(b.split())\n",
    "    overlap = a_counter & b_counter\n",
    "    return overlap\n",
    "\n",
    "def get_weighted_overlap(a, b):\n",
    "    overlap = get_overlap(a, b)\n",
    "    a_counter = collections.Counter(a.split())\n",
    "    #calculate\n",
    "    weighted_overlap = 0\n",
    "    for word in overlap:\n",
    "\n",
    "        word_tf = a_counter[word]#/len(a.split()) -> commented out cause division by constant value doesn't matter\n",
    "\n",
    "        get_idf = dict_idf.get(word)\n",
    "        word_idf = 1 if get_idf == None else get_idf #get rid of error when idf not in dict\n",
    "\n",
    "        word_tfidf = word_tf*word_idf\n",
    "        weighted_overlap+=overlap[word]*word_tfidf\n",
    "\n",
    "    return weighted_overlap\n",
    "\n",
    "def get_closest_sentence_tfidf(sentence, style_src):\n",
    "    opposite_dataset = d_neg if style_src else d_pos\n",
    "\n",
    "    highest_overlap = 0\n",
    "    closest_sentence = \"\"\n",
    "\n",
    "    min_attribute_markers=len(get_attribute_markers(sentence, style_src))\n",
    "    num_markers = 0\n",
    "\n",
    "    previous_sentences = []\n",
    "    backoff_count = 0\n",
    "    while(num_markers < min_attribute_markers and backoff_count < param_backoff_limit):\n",
    "        for sentence_b in opposite_dataset:\n",
    "            weighted_overlap = get_weighted_overlap(sentence, sentence_b)\n",
    "            if weighted_overlap > highest_overlap and sentence_b not in previous_sentences:\n",
    "                highest_overlap = weighted_overlap\n",
    "                closest_sentence = sentence_b\n",
    "        highest_overlap = 0\n",
    "        backoff_count += 1\n",
    "        previous_sentences.append(closest_sentence)\n",
    "        num_markers = len(get_attribute_markers(closest_sentence, not style_src))\n",
    "\n",
    "    return closest_sentence"
   ],
   "metadata": {
    "collapsed": false
   }
  },
  {
   "cell_type": "code",
   "execution_count": null,
   "outputs": [],
   "source": [
    "# Retrieve using tfidf\n",
    "def retrieve(sentence, style_src):\n",
    "    return separate(get_closest_sentence_tfidf(sentence, style_src), not style_src)"
   ],
   "metadata": {
    "collapsed": false
   }
  },
  {
   "cell_type": "code",
   "execution_count": null,
   "outputs": [],
   "source": [
    "stc_test_retrieve = \"kocak ! maling di rumah mewah jakut terekam cctv bingung cari jalan kabur\"\n",
    "test_retrive = retrieve(stc_test_retrieve, 0)\n",
    "\n",
    "print(test_retrive)"
   ],
   "metadata": {
    "collapsed": false
   }
  },
  {
   "cell_type": "code",
   "execution_count": null,
   "outputs": [],
   "source": [
    "stc_test_retrieve = \"tim jibom disposal bahan peledak di rumah terduga teroris di jakut\"\n",
    "test_retrive = retrieve(stc_test_retrieve, 1)\n",
    "\n",
    "print(test_retrive)"
   ],
   "metadata": {
    "collapsed": false
   }
  },
  {
   "cell_type": "code",
   "execution_count": null,
   "outputs": [],
   "source": [
    "stc_test_retrieve = random.choice(nonclickbait_l_c)\n",
    "print(\"x sentence: {} \".format(stc_test_retrieve))\n",
    "stc_res = get_closest_sentence_tfidf(stc_test_retrieve, 1)\n",
    "print(\"y sentence: {} \".format(stc_res))"
   ],
   "metadata": {
    "collapsed": false
   }
  },
  {
   "cell_type": "markdown",
   "source": [
    "# Input Dict: Creating the lang dictionary, NN Preprocess; Training Prep"
   ],
   "metadata": {
    "collapsed": false
   }
  },
  {
   "cell_type": "code",
   "execution_count": null,
   "outputs": [],
   "source": [
    "# Resources: https://pytorch.org/tutorials/intermediate/seq2seq_translation_tutorial.html\n",
    "# Had to modify & adapt most of the code in the tutorial since this isn't translation & data preprocessing is different\n",
    "\n",
    "SOS_token = 0\n",
    "EOS_token = 1\n",
    "\n",
    "class Lang:\n",
    "    def __init__(self, name):\n",
    "        self.name = name\n",
    "        self.word2index = {}\n",
    "        self.word2count = {}\n",
    "        self.index2word = {0: \"SOS\", 1: \"EOS\"}\n",
    "        self.n_words = 2  # Count SOS and EOS\n",
    "\n",
    "    def addSentence(self, sentence):\n",
    "        for word in sentence.split(' '):\n",
    "            self.addWord(word)\n",
    "\n",
    "    def addWord(self, word):\n",
    "        if word not in self.word2index:\n",
    "            self.word2index[word] = self.n_words\n",
    "            self.word2count[word] = 1\n",
    "            self.index2word[self.n_words] = word\n",
    "            self.n_words += 1\n",
    "        else:\n",
    "            self.word2count[word] += 1"
   ],
   "metadata": {
    "collapsed": false
   }
  },
  {
   "cell_type": "code",
   "execution_count": null,
   "outputs": [],
   "source": [
    "# count the overlap; we need function for this;\n",
    "def get_overlap(a, b):\n",
    "    # print(a, b)\n",
    "    a_counter = collections.Counter(a.split())\n",
    "    # print(a_counter)\n",
    "    b_counter = collections.Counter(b.split())\n",
    "    overlap = a_counter & b_counter\n",
    "    return overlap\n",
    "\n",
    "def get_total_overlap(a, b):\n",
    "    return len(list(get_overlap(a, b).elements()))"
   ],
   "metadata": {
    "collapsed": false
   }
  },
  {
   "cell_type": "code",
   "execution_count": null,
   "outputs": [],
   "source": [
    "noise_chance = 0.1\n",
    "\n",
    "def prepareData():\n",
    "    input_lang = Lang(\"input\")\n",
    "    output_lang = Lang(\"output\")\n",
    "\n",
    "    d_pos_a = []\n",
    "\n",
    "    pairs_pos = []\n",
    "    for sentence in nonclickbait_l_c:\n",
    "        c = get_c(sentence, 1)\n",
    "        a = get_a(sentence, 1)\n",
    "        d_pos_a.append(a)\n",
    "        pairs_pos.append([c, a, sentence])\n",
    "\n",
    "    d_neg_a = []\n",
    "\n",
    "    pairs_neg = []\n",
    "    for sentence in clickbait_l_c:\n",
    "        c = get_c(sentence, 0)\n",
    "        a = get_a(sentence, 0)\n",
    "        d_neg_a.append(a)\n",
    "        pairs_neg.append([c, a, sentence])\n",
    "\n",
    "    #adding noise for pos\n",
    "    for pair in pairs_pos:\n",
    "        if random.random() < noise_chance:\n",
    "            real_a = pair[1].split()\n",
    "\n",
    "            if(len(real_a) == 0):\n",
    "                continue\n",
    "\n",
    "            for a in d_pos_a:\n",
    "                if(len(a) == 0):\n",
    "                    continue\n",
    "                a = a.split()\n",
    "\n",
    "                overlap = get_total_overlap(' '.join(real_a), ' '.join(a))\n",
    "                if overlap > 0 and ((overlap == len(real_a) - 1 and len(real_a) - len(a) == 1) or (overlap == len(real_a) and len(real_a) - len(a) == -1)):\n",
    "                    real_a = a\n",
    "                    break;\n",
    "            pair[1] = ' '.join(real_a)\n",
    "\n",
    "\n",
    "    #adding noise for neg\n",
    "    for pair in pairs_neg:\n",
    "        if random.random() < noise_chance:\n",
    "            real_a = pair[1].split()\n",
    "            if(len(real_a) == 0):\n",
    "                continue\n",
    "\n",
    "            for a in d_neg_a:\n",
    "                if(len(a) == 0):\n",
    "                    continue\n",
    "                a = a.split()\n",
    "\n",
    "                overlap = get_total_overlap(' '.join(real_a), ' '.join(a))\n",
    "                if overlap > 0 and ((overlap == len(real_a) - 1 and len(real_a) - len(a) == 1) or (overlap == len(real_a) and len(real_a) - len(a) == -1)):\n",
    "                    real_a = a\n",
    "                    break;\n",
    "            pair[1] = ' '.join(real_a)\n",
    "\n",
    "    #concat atas bawah;\n",
    "    pairs = np.concatenate((pairs_pos, pairs_neg), 0)\n",
    "\n",
    "    for pair in pairs:\n",
    "\n",
    "        input_lang.addSentence(pair[0])\n",
    "\n",
    "        input_lang.addSentence(pair[1])\n",
    "        # sentence full\n",
    "        output_lang.addSentence(pair[2])\n",
    "\n",
    "    print(\"Counted words:\")\n",
    "    print(input_lang.name, input_lang.n_words)\n",
    "    print(output_lang.name, output_lang.n_words)\n",
    "    return input_lang, output_lang, pairs"
   ],
   "metadata": {
    "collapsed": false
   }
  },
  {
   "cell_type": "markdown",
   "source": [
    "get the input_dict, output_dict, and pairs ()"
   ],
   "metadata": {
    "collapsed": false
   }
  },
  {
   "cell_type": "code",
   "execution_count": null,
   "outputs": [],
   "source": [
    "input_lang, output_lang, pairs = prepareData()"
   ],
   "metadata": {
    "collapsed": false
   }
  },
  {
   "cell_type": "code",
   "execution_count": null,
   "outputs": [],
   "source": [
    "for pair in pairs:\n",
    "    input_lang.addSentence(pair[0])\n",
    "    output_lang.addSentence(pair[1])\n",
    "for pair in pairs:\n",
    "    input_lang.addSentence(pair[1])\n",
    "    output_lang.addSentence(pair[0])"
   ],
   "metadata": {
    "collapsed": false
   }
  },
  {
   "cell_type": "code",
   "execution_count": null,
   "outputs": [],
   "source": [
    "print(\"Counted words:\")\n",
    "print(input_lang.name, input_lang.n_words)\n",
    "print(output_lang.name, output_lang.n_words)"
   ],
   "metadata": {
    "collapsed": false
   }
  },
  {
   "cell_type": "code",
   "execution_count": null,
   "outputs": [],
   "source": [
    "pairs.dtype"
   ],
   "metadata": {
    "collapsed": false
   }
  },
  {
   "cell_type": "markdown",
   "source": [
    "# Dataset:  Train, Validation, Test Split"
   ],
   "metadata": {
    "collapsed": false
   }
  },
  {
   "cell_type": "code",
   "execution_count": null,
   "outputs": [],
   "source": [
    "from torch.utils.data import Subset\n",
    "\n",
    "def train_val_dataset(dataset, val_split=0.25):\n",
    "    train_idx, val_idx = train_test_split(list(range(len(dataset))), test_size=val_split)\n",
    "    datasets = {}\n",
    "    datasets['train'] = Subset(dataset, train_idx)\n",
    "    datasets['val'] = Subset(dataset, val_idx)\n",
    "    return datasets"
   ],
   "metadata": {
    "collapsed": false
   }
  },
  {
   "cell_type": "code",
   "execution_count": null,
   "outputs": [],
   "source": [
    "from sklearn.model_selection import train_test_split\n",
    "\n",
    "train_data, test_data = train_test_split(pairs, test_size=0.3, random_state=42)"
   ],
   "metadata": {
    "collapsed": false
   }
  },
  {
   "cell_type": "code",
   "execution_count": null,
   "outputs": [],
   "source": [
    "from sklearn.model_selection import train_test_split\n",
    "\n",
    "train_data, test_data  = train_test_split(pairs, test_size=0.2, random_state=42)\n",
    "train_data, validation_data = train_test_split(train_data, test_size=0.18, random_state=42)"
   ],
   "metadata": {
    "collapsed": false
   }
  },
  {
   "cell_type": "code",
   "execution_count": null,
   "outputs": [],
   "source": [
    "print(f\"Number of training examples: {len(train_data)}\")\n",
    "print(f\"Number of testing examples: {len(test_data)}\")\n",
    "print(f\"Number of validation examples: {len(validation_data)}\")"
   ],
   "metadata": {
    "collapsed": false
   }
  },
  {
   "cell_type": "code",
   "execution_count": null,
   "outputs": [],
   "source": [
    "print(f\"{train_data[0]} => {train_data[0]} \")\n",
    "print(test_data[0])\n",
    "print(validation_data[0])"
   ],
   "metadata": {
    "collapsed": false
   }
  },
  {
   "cell_type": "markdown",
   "source": [
    "# Neural Network: Encoder Decoder"
   ],
   "metadata": {
    "collapsed": false
   }
  },
  {
   "cell_type": "code",
   "execution_count": null,
   "outputs": [],
   "source": [
    "class Maxout(nn.Module):\n",
    "    def __init__(self, pool_size):\n",
    "        super().__init__()\n",
    "        self._pool_size = pool_size\n",
    "\n",
    "    def forward(self, x):\n",
    "        assert x.shape[1] % self._pool_size == 0, \\\n",
    "            'Wrong input last dim size ({}) for Maxout({})'.format(x.shape[1], self._pool_size)\n",
    "        m, i = x.view(*x.shape[:1], x.shape[1] // self._pool_size, self._pool_size, *x.shape[2:]).max(2)\n",
    "        return m"
   ],
   "metadata": {
    "collapsed": false
   }
  },
  {
   "cell_type": "code",
   "execution_count": null,
   "outputs": [],
   "source": [
    "class EncoderRNN(nn.Module):\n",
    "    def __init__(self, input_size, word_vec_size, hidden_size):\n",
    "        super(EncoderRNN, self).__init__()\n",
    "        self.hidden_size = hidden_size\n",
    "\n",
    "        # self.LSTM = nn.LSTM(word_vec_size,hidden_size, num_layers=2)\n",
    "\n",
    "        self.embedding = nn.Embedding(input_size, word_vec_size)\n",
    "        self.gru = nn.GRU(word_vec_size, hidden_size)\n",
    "\n",
    "    def forward(self, input, hidden):\n",
    "        embedded = self.embedding(input).view(1, 1, -1)\n",
    "        output = embedded\n",
    "        output, hidden = self.gru(output, hidden)\n",
    "        return output, hidden\n",
    "\n",
    "    def initHidden(self):\n",
    "        return torch.zeros(1, 1, self.hidden_size, device=device)"
   ],
   "metadata": {
    "collapsed": false
   }
  },
  {
   "cell_type": "code",
   "execution_count": null,
   "outputs": [],
   "source": [
    "class DecoderRNN(nn.Module):\n",
    "    def __init__(self, hidden_size, word_vec_size, output_size):\n",
    "        super(DecoderRNN, self).__init__()\n",
    "        self.hidden_size = hidden_size\n",
    "        self.embedding = nn.Embedding(output_size, word_vec_size)\n",
    "\n",
    "        # self.LSTM = nn.LSTM(word_vec_size,hidden_size, num_layers=2)\n",
    "\n",
    "        self.gru = nn.GRU(word_vec_size, hidden_size)\n",
    "        self.out = nn.Linear(hidden_size, output_size)\n",
    "        self.softmax = nn.LogSoftmax(dim=1)\n",
    "        self.maxout = Maxout(1)\n",
    "\n",
    "    def forward(self, input, hidden):\n",
    "        output = self.embedding(input).view(1, 1, -1)\n",
    "        output = self.maxout(output)\n",
    "        output, hidden = self.gru(output, hidden)\n",
    "        output = self.softmax(self.out(output[0]))\n",
    "        return output, hidden\n",
    "\n",
    "    def initHidden(self):\n",
    "        return torch.zeros(1, 1, self.hidden_size, device=device)"
   ],
   "metadata": {
    "collapsed": false
   }
  },
  {
   "cell_type": "code",
   "execution_count": null,
   "outputs": [],
   "source": [
    "#Preparing Training Data\n",
    "def indexesFromSentence(lang, sentence):\n",
    "    return [lang.word2index[word] for word in sentence.split(' ')]\n",
    "\n",
    "def tensorFromSentence(lang, sentence):\n",
    "    indexes = indexesFromSentence(lang, sentence)\n",
    "    indexes.append(EOS_token)\n",
    "    return torch.tensor(indexes, dtype=torch.long, device=device).view(-1, 1)\n",
    "\n",
    "def tensorsFromPair(pair):\n",
    "    input_c_tensor = tensorFromSentence(input_lang, pair[0])\n",
    "    input_a_tensor = tensorFromSentence(input_lang, pair[1])\n",
    "    target_tensor = tensorFromSentence(output_lang, pair[2])\n",
    "    return input_c_tensor, input_a_tensor, target_tensor"
   ],
   "metadata": {
    "collapsed": false
   }
  },
  {
   "cell_type": "markdown",
   "source": [
    "# Training : Training and TrainingIters"
   ],
   "metadata": {
    "collapsed": false
   }
  },
  {
   "cell_type": "code",
   "execution_count": null,
   "outputs": [],
   "source": [
    "import time\n",
    "import math\n",
    "import matplotlib.pyplot as plt\n",
    "plt.switch_backend('agg')\n",
    "import matplotlib.ticker as ticker\n",
    "%matplotlib inline\n",
    "import numpy as np\n",
    "\n",
    "def asMinutes(s):\n",
    "    m = math.floor(s / 60)\n",
    "    s -= m * 60\n",
    "    return '%dm %ds' % (m, s)\n",
    "\n",
    "def timeSince(since, percent):\n",
    "    now = time.time()\n",
    "    s = now - since\n",
    "    es = s / (percent)\n",
    "    rs = es - s\n",
    "    return '%s (- %s)' % (asMinutes(s), asMinutes(rs))\n",
    "\n",
    "def showPlot(points):\n",
    "    plt.figure()\n",
    "    fig, ax = plt.subplots()\n",
    "    # this locator puts ticks at regular intervals\n",
    "    loc = ticker.MultipleLocator(base=0.2)\n",
    "    ax.yaxis.set_major_locator(loc)\n",
    "    plt.plot(points)"
   ],
   "metadata": {
    "collapsed": false
   }
  },
  {
   "cell_type": "code",
   "execution_count": null,
   "outputs": [],
   "source": [
    "#Training\n",
    "MAX_LENGTH = 40\n",
    "teacher_forcing_ratio = 0.5\n",
    "\n",
    "def train(input_c_tensor  , input_a_tensor, target_tensor, encoder_c, encoder_a, decoder, encoder_c_optimizer, encoder_a_optimizer, decoder_optimizer, criterion, max_length=MAX_LENGTH ):\n",
    "\n",
    "    # init hidden\n",
    "    encoder_c_hidden = encoder_c.initHidden()\n",
    "    encoder_a_hidden = encoder_a.initHidden()\n",
    "\n",
    "    # zero grad\n",
    "    encoder_a_optimizer.zero_grad()\n",
    "    encoder_c_optimizer.zero_grad()\n",
    "    decoder_optimizer.zero_grad()\n",
    "\n",
    "    # len of sentence of c, a, t, that already; e.g input_c_length= len(input_c_tensor)\n",
    "    input_c_length = input_c_tensor.size(0)\n",
    "    input_a_length = input_a_tensor.size(0)\n",
    "    target_length = target_tensor.size(0)\n",
    "\n",
    "    encoder_c_outputs = torch.zeros(max_length, encoder_c.hidden_size, device=device)\n",
    "    encoder_a_outputs = torch.zeros(max_length, encoder_a.hidden_size, device=device)\n",
    "\n",
    "    loss = 0\n",
    "\n",
    "    for ei in range(input_c_length):\n",
    "        encoder_c_output, encoder_c_hidden = encoder_c(input_c_tensor[ei], encoder_c_hidden)\n",
    "        encoder_c_outputs[ei] = encoder_c_output[0, 0]\n",
    "\n",
    "    for ei in range(input_a_length):\n",
    "        encoder_a_output, encoder_a_hidden = encoder_a(input_a_tensor[ei], encoder_a_hidden)\n",
    "        encoder_a_outputs[ei] = encoder_a_output[0, 0]\n",
    "\n",
    "    decoder_input = torch.tensor([[SOS_token]], device=device)\n",
    "    decoder_hidden = torch.cat((encoder_c_hidden, encoder_a_hidden), 2)\n",
    "\n",
    "    use_teacher_forcing = True if random.random() < teacher_forcing_ratio else False\n",
    "\n",
    "    # Teacher forcing: Feed the target as the next input\n",
    "    if use_teacher_forcing:\n",
    "        for di in range(target_length):\n",
    "            decoder_output, decoder_hidden = decoder(decoder_input, decoder_hidden)\n",
    "            loss += criterion(decoder_output, target_tensor[di])\n",
    "            decoder_input = target_tensor[di]  # Teacher forcing\n",
    "\n",
    "    # Without teacher forcing: use its own predictions as the next input\n",
    "    else:\n",
    "        for di in range(target_length):\n",
    "            decoder_output, decoder_hidden = decoder(\n",
    "                decoder_input, decoder_hidden)\n",
    "            topv, topi = decoder_output.topk(1)\n",
    "            decoder_input = topi.squeeze().detach()  # detach from history as input\n",
    "\n",
    "            loss += criterion(decoder_output, target_tensor[di])\n",
    "            if decoder_input.item() == EOS_token:\n",
    "                break\n",
    "\n",
    "    loss.backward()\n",
    "\n",
    "    encoder_c_optimizer.step()\n",
    "    encoder_a_optimizer.step()\n",
    "    decoder_optimizer.step()\n",
    "\n",
    "    return loss.item() / target_length"
   ],
   "metadata": {
    "collapsed": false
   }
  },
  {
   "cell_type": "code",
   "execution_count": null,
   "outputs": [],
   "source": [
    "def training(\n",
    "        encoder_a : EncoderRNN,\n",
    "        encoder_c : EncoderRNN,\n",
    "        decoder : DecoderRNN,\n",
    "        n_iters : int ,\n",
    "        data_pairs,\n",
    "        criterion,\n",
    "        learning_rate : float =0.01,\n",
    "        plot_every : int =10,\n",
    "        print_every : int =10,\n",
    "\n",
    "        ):\n",
    "\n",
    "    encoder_c.train()\n",
    "    encoder_a.train()\n",
    "    decoder.train()\n",
    "\n",
    "    start: float = time.time()\n",
    "    plot_losses = []\n",
    "    print_loss_total = 0\n",
    "    plot_loss_total = 0\n",
    "    print_loss_total_output = 0\n",
    "\n",
    "    encoder_c_optimizer : optim.Adadelta = optim.Adadelta(encoder_c.parameters(), lr= learning_rate)\n",
    "    encoder_a_optimizer : optim.Adadelta = optim.Adadelta(encoder_a.parameters(), lr= learning_rate)\n",
    "    decoder_optimizer :  optim.Adadelta = optim.Adadelta(decoder.parameters(), lr= learning_rate)\n",
    "\n",
    "    # train iterator\n",
    "    training_pairs = [tensorsFromPair(random.choice(data_pairs)) for i in range(n_iters)]\n",
    "    for iter  in  range(1, n_iters + 1):\n",
    "        # taking the pair and extract the c, a, target\n",
    "        training_pair = training_pairs[iter - 1]\n",
    "        input_tensor_c, input_tensor_a, target_tensor = training_pair[0], training_pair[1], training_pair[2]\n",
    "\n",
    "        # train each of the tensors\n",
    "        loss = train(\n",
    "\n",
    "            input_tensor_c,\n",
    "            input_tensor_a,\n",
    "            target_tensor,\n",
    "\n",
    "            encoder_a,\n",
    "            encoder_c ,\n",
    "            decoder,\n",
    "\n",
    "            encoder_a_optimizer,\n",
    "            encoder_c_optimizer,\n",
    "            decoder_optimizer,\n",
    "\n",
    "            criterion,\n",
    "        )\n",
    "\n",
    "        # get total loss and plot\n",
    "        print_loss_total_output += loss\n",
    "        print_loss_total += loss\n",
    "        plot_loss_total += loss\n",
    "\n",
    "        # START : print and plotting every certain index\n",
    "        if iter % print_every == 0:\n",
    "            print_loss_avg = print_loss_total / print_every\n",
    "            print_loss_total = 0\n",
    "            print('%s (%d %d%%) %.4f' % (timeSince(start, iter / n_iters),\n",
    "                                         iter, iter / n_iters * 100, print_loss_avg))\n",
    "\n",
    "        if iter % plot_every == 0:\n",
    "            plot_loss_avg = plot_loss_total / plot_every\n",
    "            plot_losses.append(plot_loss_avg)\n",
    "            plot_loss_total = 0\n",
    "\n",
    "    showPlot(plot_losses)\n",
    "    return print_loss_total_output / n_iters"
   ],
   "metadata": {
    "collapsed": false
   }
  },
  {
   "cell_type": "markdown",
   "source": [
    "# Training: Evaluation"
   ],
   "metadata": {
    "collapsed": false
   }
  },
  {
   "cell_type": "code",
   "execution_count": null,
   "outputs": [],
   "source": [
    "def encoderStep(encoder_c, encoder_a, c, a, max_length=MAX_LENGTH):\n",
    "    input_c_tensor = tensorFromSentence(input_lang, c)\n",
    "    input_a_tensor = tensorFromSentence(input_lang, a)\n",
    "\n",
    "    input_c_length = input_c_tensor.size()[0]\n",
    "    input_a_length = input_a_tensor.size()[0]\n",
    "\n",
    "    encoder_c_hidden = encoder_c.initHidden()\n",
    "    encoder_a_hidden = encoder_a.initHidden()\n",
    "\n",
    "    encoder_c_outputs = torch.zeros(max_length, encoder_c.hidden_size, device=device)\n",
    "    encoder_a_outputs = torch.zeros(max_length, encoder_a.hidden_size, device=device)\n",
    "\n",
    "    for ei in range(input_c_length):\n",
    "        encoder_c_output, encoder_c_hidden = encoder_c(input_c_tensor[ei],\n",
    "                                                       encoder_c_hidden)\n",
    "        encoder_c_outputs[ei] += encoder_c_output[0, 0]\n",
    "\n",
    "\n",
    "    for ei in range(input_a_length):\n",
    "        encoder_a_output, encoder_a_hidden = encoder_a(input_a_tensor[ei],\n",
    "                                                       encoder_a_hidden)\n",
    "        encoder_a_outputs[ei] += encoder_a_output[0, 0]\n",
    "\n",
    "\n",
    "\n",
    "    return torch.cat((encoder_c_hidden, encoder_a_hidden), 2)"
   ],
   "metadata": {
    "collapsed": false
   }
  },
  {
   "cell_type": "code",
   "execution_count": null,
   "outputs": [],
   "source": [
    "def get_c_embedding(encoder_c, c, max_length=MAX_LENGTH):\n",
    "    input_c_tensor = tensorFromSentence(input_lang, c)\n",
    "\n",
    "    input_c_length = input_c_tensor.size()[0]\n",
    "\n",
    "    encoder_c_hidden = encoder_c.initHidden()\n",
    "\n",
    "    encoder_c_outputs = torch.zeros(max_length, encoder_c.hidden_size, device=device)\n",
    "\n",
    "    for ei in range(input_c_length):\n",
    "        encoder_c_output, encoder_c_hidden = encoder_c(input_c_tensor[ei],\n",
    "                                                       encoder_c_hidden)\n",
    "        encoder_c_outputs[ei] += encoder_c_output[0, 0]\n",
    "\n",
    "    return encoder_c_hidden"
   ],
   "metadata": {
    "collapsed": false
   }
  },
  {
   "cell_type": "code",
   "execution_count": null,
   "outputs": [],
   "source": [
    "ALPHA = 0.7\n",
    "\n",
    "class Node:\n",
    "    def __init__(self, p_t, i, d_hidden, lvl, node_parent=None):\n",
    "        self.p_t = p_t\n",
    "        self.i = i\n",
    "        self.d_hidden = d_hidden\n",
    "        self.lvl = lvl\n",
    "        self.node_parent = node_parent\n",
    "\n",
    "        self.p_sentence = self.sentenceProb()\n",
    "\n",
    "    def prepareToDecode(self):\n",
    "        d_in = self.i.squeeze()#.detatch()\n",
    "        return d_in, self.d_hidden\n",
    "\n",
    "    def sentenceProb(self):\n",
    "        if self.node_parent == None:\n",
    "            return self.p_t\n",
    "        return self.node_parent.sentenceProb() + self.p_t #addition because of log\n",
    "\n",
    "    def normProb(self):\n",
    "        #Normalised probability\n",
    "        #         return 1/((self.lvl+1)**ALPHA) * self.sentenceProb()\n",
    "        #perplexity\n",
    "        return torch.exp(self.sentenceProb()) ** (-1/(self.lvl+1))\n",
    "\n",
    "    def getToken(self):\n",
    "        return output_lang.index2word[self.i.item()]\n",
    "\n",
    "    def getTokens(self):\n",
    "        token = [self.getToken()]\n",
    "\n",
    "        if(self.node_parent == None):\n",
    "            return token\n",
    "        else:\n",
    "            return self.node_parent.getTokens() + token\n",
    "\n",
    "    def getSentence(self):\n",
    "        return ' '.join(self.getTokens())"
   ],
   "metadata": {
    "collapsed": false
   }
  },
  {
   "cell_type": "code",
   "execution_count": null,
   "outputs": [],
   "source": [
    "def evaluate_with_beam(encoder_c, encoder_a, decoder, c, a, max_length=MAX_LENGTH):\n",
    "    with torch.no_grad():\n",
    "        decoder_input = torch.tensor([[SOS_token]], device=device)  # SOS\n",
    "\n",
    "    decoder_hidden = encoderStep(encoder_c, encoder_a, c, a)\n",
    "    decoded_words = []\n",
    "\n",
    "    #BEAM SEARCH\n",
    "\n",
    "    nodes = []\n",
    "    finished_nodes = []\n",
    "    for di in range(max_length):\n",
    "        if di == 0:\n",
    "            decoder_output, decoder_hidden = decoder(decoder_input, decoder_hidden)\n",
    "            top_ps, top_is = decoder_output.data.topk(BEAM_WIDTH)\n",
    "            top_ps = top_ps.view(-1)\n",
    "            top_is = top_is.view(-1)\n",
    "            for index in range(len(top_is)):\n",
    "                p_t = top_ps[index]\n",
    "                i = top_is[index]\n",
    "                nodes.append(Node(p_t, i, decoder_hidden, di))\n",
    "        else:\n",
    "            prev_nodes = [x for x in nodes if x.lvl == di-1]\n",
    "            prev_nodes = sorted(prev_nodes, key=lambda x: x.p_sentence.item(), reverse=True)\n",
    "            prev_nodes = prev_nodes[:BEAM_WIDTH]\n",
    "            nodes = []\n",
    "            for node in prev_nodes:\n",
    "                decoder_output, decoder_hidden = decoder(*node.prepareToDecode())\n",
    "                top_ps, top_is = decoder_output.data.topk(BEAM_WIDTH)\n",
    "                top_ps = top_ps.view(-1)\n",
    "                top_is = top_is.view(-1)\n",
    "\n",
    "                for index in range(len(top_is)):\n",
    "                    p_t = top_ps[index]\n",
    "                    i = top_is[index]\n",
    "                    child_node = Node(p_t, i, decoder_hidden, di, node)\n",
    "\n",
    "                    if i.item() == EOS_token:\n",
    "                        finished_nodes.append(child_node)\n",
    "                    else:\n",
    "                        nodes.append(child_node)\n",
    "\n",
    "    final_node = sorted(finished_nodes, key=lambda x: x.p_sentence.item(), reverse=True)[0]\n",
    "    return final_node.getTokens()\n",
    "\n"
   ],
   "metadata": {
    "collapsed": false
   }
  },
  {
   "cell_type": "code",
   "execution_count": null,
   "outputs": [],
   "source": [
    "def evaluating(\n",
    "        encoder_a,\n",
    "        encoder_c,\n",
    "\n",
    "        decoder,\n",
    "        criterion,\n",
    "\n",
    "        n_iters,\n",
    "\n",
    "        data_pairs,\n",
    "        plot_every : int =10,\n",
    "        max_length=MAX_LENGTH,\n",
    "):\n",
    "\n",
    "    encoder_a.eval()\n",
    "    encoder_c.eval()\n",
    "    decoder.eval()\n",
    "\n",
    "    plot_losses = []\n",
    "    plot_loss_total = 0\n",
    "    print_loss_total_output = 0\n",
    "\n",
    "    with torch.no_grad():\n",
    "        training_pairs = [tensorsFromPair(random.choice(data_pairs)) for i in range(n_iters)]\n",
    "        for iter  in  range(1, n_iters + 1):\n",
    "            # taking the pair and extract the c, a, target\n",
    "            training_pair = training_pairs[iter - 1]\n",
    "            input_c_tensor = training_pair[0]\n",
    "            input_a_tensor = training_pair[1]\n",
    "            target_tensor = training_pair[2]\n",
    "\n",
    "            # init hidden\n",
    "            encoder_c_hidden = encoder_c.initHidden()\n",
    "            encoder_a_hidden = encoder_a.initHidden()\n",
    "\n",
    "            # len of sentence of c, a, t, that already; e.g input_c_length= len(input_c_tensor)\n",
    "            input_c_length = input_c_tensor.size(0)\n",
    "            input_a_length = input_a_tensor.size(0)\n",
    "            target_length = target_tensor.size(0)\n",
    "\n",
    "            loss = 0\n",
    "\n",
    "            encoder_c_outputs = torch.zeros(max_length, encoder_c.hidden_size, device=device)\n",
    "            encoder_a_outputs = torch.zeros(max_length, encoder_a.hidden_size, device=device)\n",
    "\n",
    "            for ei in range(input_c_length):\n",
    "                encoder_c_output, encoder_c_hidden = encoder_c(input_c_tensor[ei], encoder_c_hidden)\n",
    "                encoder_c_outputs[ei] = encoder_c_output[0, 0]\n",
    "\n",
    "            for ei in range(input_a_length):\n",
    "                encoder_a_output, encoder_a_hidden = encoder_a(input_a_tensor[ei], encoder_a_hidden)\n",
    "                encoder_a_outputs[ei] = encoder_a_output[0, 0]\n",
    "\n",
    "            decoder_input = torch.tensor([[SOS_token]], device=device)\n",
    "            decoder_hidden = torch.cat((encoder_c_hidden, encoder_a_hidden), 2)\n",
    "\n",
    "            for di in range(target_length):\n",
    "                decoder_output, decoder_hidden = decoder(decoder_input, decoder_hidden)\n",
    "                topv, topi = decoder_output.topk(1)\n",
    "                decoder_input = topi.squeeze().detach()  # detach from history as input\n",
    "\n",
    "                # loss += criterion(decoder_input, target_tensor[di])\n",
    "\n",
    "                loss += criterion(decoder_output, target_tensor[di])\n",
    "                if decoder_input.item() == EOS_token:\n",
    "                    break\n",
    "\n",
    "            l = loss.item() / target_length\n",
    "            print_loss_total_output += l\n",
    "            plot_loss_total += l\n",
    "\n",
    "            if iter % plot_every == 0:\n",
    "\n",
    "                plot_loss_avg = plot_loss_total / plot_every\n",
    "                plot_losses.append(plot_loss_avg)\n",
    "                plot_loss_total = 0\n",
    "\n",
    "        torch.save(encoder_a.state_dict(), 'encoder-a-model.pt')\n",
    "        torch.save(encoder_c.state_dict(), 'encoder-c-model.pt')\n",
    "        torch.save(decoder.state_dict(), 'decoder-model.pt')\n",
    "\n",
    "        showPlot(plot_losses)\n",
    "\n",
    "    return plot_loss_total/ n_iters"
   ],
   "metadata": {
    "collapsed": false
   }
  },
  {
   "cell_type": "markdown",
   "source": [
    "# Running : Train, Evaluation, Testing Implementation"
   ],
   "metadata": {
    "collapsed": false
   }
  },
  {
   "cell_type": "code",
   "execution_count": null,
   "outputs": [],
   "source": [
    "print(f\"Number of training examples: {len(train_data)}\")\n",
    "print(f\"Number of testing examples: {len(test_data)}\")\n",
    "print(f\"Number of validation examples: {len(validation_data)}\")"
   ],
   "metadata": {
    "collapsed": false
   }
  },
  {
   "cell_type": "code",
   "execution_count": null,
   "outputs": [],
   "source": [
    "n_iters = 100\n",
    "tesf = [random.choice(train_data) for i in range(n_iters)]"
   ],
   "metadata": {
    "collapsed": false
   }
  },
  {
   "cell_type": "code",
   "execution_count": null,
   "outputs": [],
   "source": [
    "# n_iters = 1\n",
    "# training_pairs = [tensorsFromPair(random.choice(train_data)) for i in range(n_iters)]\n",
    "# print(*training_pairs, sep=\"\\n\")"
   ],
   "metadata": {
    "collapsed": false
   }
  },
  {
   "cell_type": "markdown",
   "source": [
    "## Local Training"
   ],
   "metadata": {
    "collapsed": false
   }
  },
  {
   "cell_type": "code",
   "execution_count": null,
   "outputs": [],
   "source": [
    "#INITIATION OF THE ENCODER DECODER\n",
    "# prev size\n",
    "word_vec_size = 128\n",
    "hidden_size = 512\n",
    "# word_size map of the input and the output of the words\n",
    "INPUT_DIM = input_lang.n_words # word counts\n",
    "OUTPUT_DIM = output_lang.n_words # word counts\n",
    "# dimension_size of embedding layers\n",
    "ENC_EMB_DIM = 128\n",
    "DEC_EMB_DIM = 128\n",
    "\n",
    "# hidden_size of the dimension that connect between input, hidden,output\n",
    "HID_DIM = 512\n",
    "# NN_LAYERS = 2\n",
    "\n",
    "# implementation in encoder both A and C\n",
    "encoder_c = EncoderRNN(INPUT_DIM, ENC_EMB_DIM, HID_DIM).to(device)\n",
    "encoder_a = EncoderRNN(INPUT_DIM, DEC_EMB_DIM, HID_DIM).to(device)\n",
    "\n",
    "# decoder\n",
    "decoder = DecoderRNN(HID_DIM + HID_DIM, word_vec_size, OUTPUT_DIM).to(device)"
   ],
   "metadata": {
    "collapsed": false
   }
  },
  {
   "cell_type": "markdown",
   "source": [],
   "metadata": {
    "collapsed": false
   }
  },
  {
   "cell_type": "code",
   "execution_count": null,
   "outputs": [],
   "source": [
    "# Running the Training -> trainingIters() -> train() : return -> None, but new develop encoder_a, encoder_c and decoder\n",
    "n_iters = 100\n",
    "# print_every = 1\n",
    "plot_every = 10\n",
    "learning_rate = 0.01\n",
    "criterion: nn.NLLLoss = nn.NLLLoss()\n",
    "\n",
    "\n",
    "training(\n",
    "    encoder_c,\n",
    "    encoder_a,\n",
    "    decoder,\n",
    "    n_iters,\n",
    "    train_data,\n",
    "    criterion,\n",
    "    learning_rate,\n",
    "    plot_every\n",
    ")\n",
    "\n",
    "evaluating(\n",
    "    encoder_a,\n",
    "    encoder_c,\n",
    "    decoder,\n",
    "    criterion,\n",
    "    n_iters,\n",
    "    validation_data,\n",
    "    plot_every\n",
    ")\n",
    "\n",
    "test = evaluating(\n",
    "    encoder_a,\n",
    "    encoder_c,\n",
    "    decoder,\n",
    "    criterion,\n",
    "    n_iters,\n",
    "    test_data\n",
    ")"
   ],
   "metadata": {
    "collapsed": false
   }
  },
  {
   "cell_type": "code",
   "execution_count": null,
   "outputs": [],
   "source": [
    "# # model.load_state_dict(torch.load('tut1-model.pt'))\n",
    "#\n",
    "# test_loss = evaluate(model, test_iterator, criterion)\n",
    "#\n",
    "# print(f'| Test Loss: {test_loss:.3f} | Test PPL: {math.exp(test_loss):7.3f} |')"
   ],
   "metadata": {
    "collapsed": false
   }
  },
  {
   "cell_type": "markdown",
   "source": [
    "# Prediction: Predict the Words"
   ],
   "metadata": {
    "collapsed": false
   }
  },
  {
   "cell_type": "code",
   "execution_count": null,
   "outputs": [],
   "source": [
    "encoder_c_l = torch.load(\"encoder-a-model.pt\")\n",
    "encoder_a_l = torch.load(\"encoder-c-model.pt\")\n",
    "decoder_l = torch.load(\"decoder-model.pt\")"
   ],
   "metadata": {
    "collapsed": false
   }
  },
  {
   "cell_type": "code",
   "execution_count": null,
   "outputs": [],
   "source": [
    "def predictNoBeam(\n",
    "        encoder_c : EncoderRNN,\n",
    "        encoder_a : EncoderRNN,\n",
    "        decoder : DecoderRNN,\n",
    "        a: string,\n",
    "        c : string,\n",
    "        max_length=MAX_LENGTH):\n",
    "\n",
    "    with torch.no_grad():\n",
    "        # START: encoder from a,c\n",
    "        input_tensor_c = tensorFromSentence(input_lang, c)\n",
    "        input_tensor_a = tensorFromSentence(input_lang, a)\n",
    "\n",
    "        input_length_c = input_tensor_c.size()[0]\n",
    "        input_length_a = input_tensor_a.size()[0]\n",
    "\n",
    "        encoder_hidden_c = encoder_c.initHidden()\n",
    "        encoder_hidden_a = encoder_a.initHidden()\n",
    "\n",
    "        encoder_outputs_c = torch.zeros(max_length, encoder_hidden_a.hidden_size, device=device)\n",
    "        encoder_outputs_a = torch.zeros(max_length, encoder_hidden_c.hidden_size, device=device)\n",
    "\n",
    "        for ei in range(input_length_c):\n",
    "            encoder_output_c, encoder_hidden_c = encoder_c(input_tensor_c[ei], encoder_hidden_c )\n",
    "            encoder_outputs_c[ei] += encoder_output_c[0, 0]\n",
    "\n",
    "        for ei in range(input_length_a):\n",
    "            encoder_output_a, encoder_hidden_a = encoder_a(input_tensor_a[ei], encoder_hidden_a)\n",
    "            encoder_outputs_a[ei] += encoder_output_a[0, 0]\n",
    "\n",
    "        enc_step = torch.cat((encoder_hidden_c, encoder_hidden_a), 2)\n",
    "\n",
    "        decoder_hidden = torch.cat((encoder_hidden_a, encoder_hidden_c), 2)\n",
    "\n",
    "        decoder_input = torch.tensor([[SOS_token]], device=device)  # SOS\n",
    "        decoded_words = []\n",
    "\n",
    "        for di in range(max_length):\n",
    "            decoder_output, decoder_hidden, decoder_attention = decoder(decoder_input, decoder_hidden)\n",
    "\n",
    "            topv, topi =  F.softmax(decoder_output).data.topk(1)\n",
    "\n",
    "            if topi.item() == EOS_token:\n",
    "                decoded_words.append('<EOS>')\n",
    "                break\n",
    "            else:\n",
    "                decoded_words.append(output_lang.index2word[topi.item()])\n",
    "\n",
    "            decoder_input = topi.squeeze().detach()\n",
    "\n",
    "        return decoded_words"
   ],
   "metadata": {
    "collapsed": false
   }
  },
  {
   "cell_type": "code",
   "execution_count": null,
   "outputs": [],
   "source": [
    "def predictRandomly(encoder_c, encoder_a, decoder, n=10):\n",
    "    for i in range(n):\n",
    "        pair = random.choice(pairs)\n",
    "        print('>', pair[0])\n",
    "        print('=', pair[1])\n",
    "        output_words = predictNoBeam(encoder_c, encoder_a, decoder, pair[0], pair[1])\n",
    "        output_sentence = ' '.join(output_words)\n",
    "        print('<', output_sentence)\n",
    "        print('')\n",
    "\n",
    "\n",
    "def DeleteAndRetrieve(sentence, style):\n",
    "    c_src = separate(sentence, 0)['c']\n",
    "    a_tgt = ' '.join(retrieve(sentence, not style)['a'])\n",
    "    return ' '.join(evaluate(encoder_c, encoder_a, decoder, c_src, a_tgt))"
   ],
   "metadata": {
    "collapsed": false
   }
  },
  {
   "cell_type": "code",
   "execution_count": null,
   "outputs": [],
   "source": [
    "# predictRandomly(encoder_c, encoder_a, decoder)"
   ],
   "metadata": {
    "collapsed": false
   }
  },
  {
   "cell_type": "markdown",
   "source": [
    "# Evaluation Metrics"
   ],
   "metadata": {
    "collapsed": false
   }
  },
  {
   "cell_type": "markdown",
   "source": [
    "## BLEU [50%]"
   ],
   "metadata": {
    "collapsed": false
   }
  },
  {
   "cell_type": "code",
   "execution_count": null,
   "outputs": [],
   "source": [
    "from torchtext.data.metrics import bleu_score\n",
    "\n",
    "def calculate_bleu(data, src_field, trg_field, model, device, max_len = 50):\n",
    "\n",
    "    trgs = []\n",
    "    pred_trgs = []\n",
    "\n",
    "    for datum in data:\n",
    "\n",
    "        src = vars(datum)['src']\n",
    "        trg = vars(datum)['trg']\n",
    "\n",
    "        # pred_trg, _ = translate_sentence(src, src_field, trg_field, model, device, max_len)\n",
    "\n",
    "        pred_trg = pred_trg[:-1]\n",
    "\n",
    "        pred_trgs.append(pred_trg)\n",
    "        trgs.append([trg])\n",
    "\n",
    "    return bleu_score(pred_trgs, trgs)"
   ],
   "metadata": {
    "collapsed": false
   }
  },
  {
   "cell_type": "markdown",
   "source": [
    "## Style Transfer Accuracy [0%]"
   ],
   "metadata": {
    "collapsed": false
   }
  },
  {
   "cell_type": "code",
   "execution_count": null,
   "outputs": [],
   "source": [
    "#tanya bu yunita kalau accuracy nya dimana;"
   ],
   "metadata": {
    "collapsed": false
   }
  },
  {
   "cell_type": "markdown",
   "source": [
    "# Cloud Training [30%]\n"
   ],
   "metadata": {
    "collapsed": false
   }
  },
  {
   "cell_type": "code",
   "execution_count": null,
   "outputs": [],
   "source": [
    "print(f\"Number of training examples: {len(train_data)}\")\n",
    "print(f\"Number of testing examples: {len(test_data)}\")\n",
    "print(f\"Number of validation examples: {len(validation_data)}\")"
   ],
   "metadata": {
    "collapsed": false
   }
  },
  {
   "cell_type": "code",
   "execution_count": null,
   "outputs": [],
   "source": [
    "# Running the Training -> trainingIters() -> train() : return -> None, but new develop encoder_a, encoder_c and decoder\n",
    "\n",
    "# Alternative 1 : FULL TRAINING\n",
    "# n_iters_train = len(train_data)\n",
    "# n_iters_eval = len(train_data)\n",
    "# n_iters_test = len(train_data)\n",
    "# plot_every = 200\n",
    "# learning_rate = 0.01\n",
    "# N_EPOCH = 1\n",
    "\n",
    "# # Alternative 1 : 1000\n",
    "# n_iters_train = len(train_data) - 4600\n",
    "# n_iters_eval = len(train_data) - 700\n",
    "# n_iters_test = len(train_data) - 200\n",
    "# plot_every = 100\n",
    "# learning_rate = 0.1\n",
    "\n",
    "# Alternative 1 : 500\n",
    "n_iters_train = 500\n",
    "n_iters_eval = 500\n",
    "n_iters_test = 500\n",
    "plot_every = 10\n",
    "learning_rate = 0.1\n",
    "\n",
    "training(\n",
    "    encoder_c,\n",
    "    encoder_a,\n",
    "    decoder,\n",
    "    n_iters_train,\n",
    "    train_data,\n",
    "    learning_rate,\n",
    "    plot_every\n",
    ")\n",
    "\n",
    "evaluating(\n",
    "    encoder_a,\n",
    "    encoder_c,\n",
    "    decoder,\n",
    "    criterion,\n",
    "    n_iters_eval,\n",
    "    validation_data,\n",
    "    plot_every\n",
    ")\n",
    "\n",
    "test = evaluating(\n",
    "    encoder_a,\n",
    "    encoder_c,\n",
    "    decoder,\n",
    "    criterion,\n",
    "    n_iters_test,\n",
    "    test_data\n",
    ")"
   ],
   "metadata": {
    "collapsed": false
   }
  },
  {
   "cell_type": "code",
   "execution_count": null,
   "outputs": [],
   "source": [
    "def epoch_time(start_time, end_time):\n",
    "    elapsed_time = end_time - start_time\n",
    "    elapsed_mins = int(elapsed_time / 60)\n",
    "    elapsed_secs = int(elapsed_time - (elapsed_mins * 60))\n",
    "    return elapsed_mins, elapsed_secs"
   ],
   "metadata": {
    "collapsed": false
   }
  },
  {
   "cell_type": "code",
   "execution_count": null,
   "outputs": [],
   "source": [
    "N_EPOCH = 2\n",
    "n_iters_train = 100\n",
    "n_iters_eval = 100\n",
    "n_iters_test = 100\n",
    "plot_every = 10\n",
    "learning_rate = 0.1\n",
    "\n",
    "plot_train_loss = []\n",
    "for epoch in range(N_EPOCH):\n",
    "    start_time = time.time()\n",
    "\n",
    "    train_loss = training(\n",
    "        encoder_c,\n",
    "        encoder_a,\n",
    "        decoder,\n",
    "        n_iters_train,\n",
    "        train_data,\n",
    "        learning_rate,\n",
    "        plot_every\n",
    "    )\n",
    "\n",
    "    evaluation_loss = evaluating(\n",
    "        encoder_a,\n",
    "        encoder_c,\n",
    "        decoder,\n",
    "        criterion,\n",
    "        n_iters_eval,\n",
    "        validation_data,\n",
    "        plot_every\n",
    "    )\n",
    "\n",
    "    end_time = time.time()\n",
    "    plot_train_loss.append(train_loss)\n",
    "    epoch_mins, epoch_secs = epoch_time(start_time, end_time)"
   ],
   "metadata": {
    "collapsed": false
   }
  },
  {
   "cell_type": "code",
   "execution_count": null,
   "outputs": [],
   "source": [
    "for epoch in range(N_EPOCH):\n",
    "    evaluation_loss = evaluating(\n",
    "        encoder_a,\n",
    "        encoder_c,\n",
    "        decoder,\n",
    "        criterion,\n",
    "        n_iters_eval,\n",
    "        validation_data,\n",
    "        plot_every\n",
    "    )"
   ],
   "metadata": {
    "collapsed": false
   }
  },
  {
   "cell_type": "code",
   "execution_count": null,
   "outputs": [],
   "source": [
    "print(plot_train_loss)\n",
    "showPlot(plot_train_loss)"
   ],
   "metadata": {
    "collapsed": false
   }
  },
  {
   "cell_type": "code",
   "execution_count": null,
   "outputs": [],
   "source": [
    "\n",
    "# Alternative 1 : FULL TRAINING\n",
    "n_iters_train = len(train_data)\n",
    "n_iters_eval = len(train_data)\n",
    "n_iters_test = len(train_data)\n",
    "plot_every = 200\n",
    "learning_rate = 0.01\n",
    "N_EPOCH = 50\n",
    "\n",
    "plot_train_loss = []\n",
    "for epoch in range(N_EPOCH):\n",
    "    start_time = time.time()\n",
    "\n",
    "    train_loss = training(\n",
    "        encoder_c,\n",
    "        encoder_a,\n",
    "        decoder,\n",
    "        n_iters_train,\n",
    "        train_data,\n",
    "        learning_rate,\n",
    "        plot_every\n",
    "    )\n",
    "\n",
    "    end_time = time.time()\n",
    "\n",
    "    plot_train_loss.append(train_loss)\n",
    "\n",
    "    # epoch_mins, epoch_secs = epoch_time(start_time, end_time)\n",
    "#"
   ],
   "metadata": {
    "collapsed": false
   }
  },
  {
   "cell_type": "code",
   "execution_count": null,
   "outputs": [],
   "source": [
    "print(plot_train_loss)\n",
    "showPlot(plot_train_loss)"
   ],
   "metadata": {
    "collapsed": false
   }
  },
  {
   "cell_type": "markdown",
   "source": [],
   "metadata": {
    "collapsed": false
   }
  }
 ],
 "metadata": {
  "kernelspec": {
   "display_name": "Python 3 (ipykernel)",
   "language": "python",
   "name": "python3"
  },
  "language_info": {
   "codemirror_mode": {
    "name": "ipython",
    "version": 3
   },
   "file_extension": ".py",
   "mimetype": "text/x-python",
   "name": "python",
   "nbconvert_exporter": "python",
   "pygments_lexer": "ipython3",
   "version": "3.8.13"
  }
 },
 "nbformat": 4,
 "nbformat_minor": 1
}
