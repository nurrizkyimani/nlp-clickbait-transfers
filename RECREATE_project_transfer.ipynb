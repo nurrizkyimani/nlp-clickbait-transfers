{
 "cells": [
  {
   "cell_type": "code",
   "execution_count": 3,
   "metadata": {
    "pycharm": {
     "name": "#%%\n"
    }
   },
   "outputs": [
    {
     "name": "stdout",
     "output_type": "stream",
     "text": [
      "Collecting package metadata (current_repodata.json): done\r\n",
      "Solving environment: done\r\n",
      "\r\n",
      "\r\n",
      "==> WARNING: A newer version of conda exists. <==\r\n",
      "  current version: 4.12.0\r\n",
      "  latest version: 4.14.0\r\n",
      "\r\n",
      "Please update conda by running\r\n",
      "\r\n",
      "    $ conda update -n base -c defaults conda\r\n",
      "\r\n",
      "\r\n",
      "\r\n",
      "## Package Plan ##\r\n",
      "\r\n",
      "  environment location: /Users/nurrizkyimani/.conda/envs/workspace\r\n",
      "\r\n",
      "  added / updated specs:\r\n",
      "    - pandas\r\n",
      "\r\n",
      "\r\n",
      "The following packages will be downloaded:\r\n",
      "\r\n",
      "    package                    |            build\r\n",
      "    ---------------------------|-----------------\r\n",
      "    blas-1.0                   |              mkl           5 KB  anaconda\r\n",
      "    bottleneck-1.3.4           |   py38h67323c0_0         129 KB  anaconda\r\n",
      "    ca-certificates-2022.4.26  |       hecd8cb5_0         132 KB  anaconda\r\n",
      "    certifi-2022.6.15          |   py38hecd8cb5_0         157 KB  anaconda\r\n",
      "    intel-openmp-2021.4.0      |    hecd8cb5_3538         1.2 MB  anaconda\r\n",
      "    mkl-2021.4.0               |     hecd8cb5_637       209.2 MB  anaconda\r\n",
      "    mkl-service-2.4.0          |   py38h9ed2024_0          48 KB  anaconda\r\n",
      "    mkl_fft-1.3.1              |   py38h4ab4a9b_0         187 KB  anaconda\r\n",
      "    mkl_random-1.2.2           |   py38hb2f4e1b_0         306 KB  anaconda\r\n",
      "    numexpr-2.8.1              |   py38h2e5f0a9_2         130 KB  anaconda\r\n",
      "    numpy-1.22.3               |   py38h2e5f0a9_0          10 KB  anaconda\r\n",
      "    numpy-base-1.22.3          |   py38h3b1a694_0         6.5 MB  anaconda\r\n",
      "    openssl-1.1.1o             |       hca72f7f_0         3.5 MB  anaconda\r\n",
      "    pandas-1.4.2               |   py38he9d5cce_0        11.9 MB  anaconda\r\n",
      "    ------------------------------------------------------------\r\n",
      "                                           Total:       233.3 MB\r\n",
      "\r\n",
      "The following NEW packages will be INSTALLED:\r\n",
      "\r\n",
      "  blas               anaconda/osx-64::blas-1.0-mkl\r\n",
      "  bottleneck         anaconda/osx-64::bottleneck-1.3.4-py38h67323c0_0\r\n",
      "  intel-openmp       anaconda/osx-64::intel-openmp-2021.4.0-hecd8cb5_3538\r\n",
      "  mkl                anaconda/osx-64::mkl-2021.4.0-hecd8cb5_637\r\n",
      "  mkl-service        anaconda/osx-64::mkl-service-2.4.0-py38h9ed2024_0\r\n",
      "  mkl_fft            anaconda/osx-64::mkl_fft-1.3.1-py38h4ab4a9b_0\r\n",
      "  mkl_random         anaconda/osx-64::mkl_random-1.2.2-py38hb2f4e1b_0\r\n",
      "  numexpr            anaconda/osx-64::numexpr-2.8.1-py38h2e5f0a9_2\r\n",
      "  numpy              anaconda/osx-64::numpy-1.22.3-py38h2e5f0a9_0\r\n",
      "  numpy-base         anaconda/osx-64::numpy-base-1.22.3-py38h3b1a694_0\r\n",
      "  pandas             anaconda/osx-64::pandas-1.4.2-py38he9d5cce_0\r\n",
      "\r\n",
      "The following packages will be SUPERSEDED by a higher-priority channel:\r\n",
      "\r\n",
      "  ca-certificates    pkgs/main::ca-certificates-2022.07.19~ --> anaconda::ca-certificates-2022.4.26-hecd8cb5_0\r\n",
      "  certifi                                         pkgs/main --> anaconda\r\n",
      "  openssl              pkgs/main::openssl-1.1.1q-hca72f7f_0 --> anaconda::openssl-1.1.1o-hca72f7f_0\r\n",
      "\r\n",
      "\r\n",
      "\r\n",
      "Downloading and Extracting Packages\r\n",
      "mkl-service-2.4.0    | 48 KB     | ##################################### | 100% \r\n",
      "pandas-1.4.2         | 11.9 MB   | ##################################### | 100% \r\n",
      "ca-certificates-2022 | 132 KB    | ##################################### | 100% \r\n",
      "numexpr-2.8.1        | 130 KB    | ##################################### | 100% \r\n",
      "intel-openmp-2021.4. | 1.2 MB    | ##################################### | 100% \r\n",
      "bottleneck-1.3.4     | 129 KB    | ##################################### | 100% \r\n",
      "mkl_random-1.2.2     | 306 KB    | ##################################### | 100% \r\n",
      "numpy-1.22.3         | 10 KB     | ##################################### | 100% \r\n",
      "blas-1.0             | 5 KB      | ##################################### | 100% \r\n",
      "numpy-base-1.22.3    | 6.5 MB    | ##################################### | 100% \r\n",
      "mkl_fft-1.3.1        | 187 KB    | ##################################### | 100% \r\n",
      "openssl-1.1.1o       | 3.5 MB    | ##################################### | 100% \r\n",
      "mkl-2021.4.0         | 209.2 MB  | ##################################### | 100% \r\n",
      "certifi-2022.6.15    | 157 KB    | ##################################### | 100% \r\n",
      "Preparing transaction: done\r\n",
      "Verifying transaction: done\r\n",
      "Executing transaction: done\r\n"
     ]
    }
   ],
   "source": [
    "!conda install -c anaconda pandas -y"
   ]
  },
  {
   "cell_type": "code",
   "execution_count": 6,
   "outputs": [
    {
     "name": "stdout",
     "output_type": "stream",
     "text": [
      "Collecting package metadata (current_repodata.json): done\r\n",
      "Solving environment: failed with initial frozen solve. Retrying with flexible solve.\r\n",
      "Collecting package metadata (repodata.json): done\r\n",
      "Solving environment: failed with initial frozen solve. Retrying with flexible solve.\r\n",
      "\r\n",
      "PackagesNotFoundError: The following packages are not available from current channels:\r\n",
      "\r\n",
      "  - fse\r\n",
      "\r\n",
      "Current channels:\r\n",
      "\r\n",
      "  - https://conda.anaconda.org/anaconda/osx-64\r\n",
      "  - https://conda.anaconda.org/anaconda/noarch\r\n",
      "  - https://repo.anaconda.com/pkgs/main/osx-64\r\n",
      "  - https://repo.anaconda.com/pkgs/main/noarch\r\n",
      "  - https://repo.anaconda.com/pkgs/r/osx-64\r\n",
      "  - https://repo.anaconda.com/pkgs/r/noarch\r\n",
      "\r\n",
      "To search for alternate channels that may provide the conda package you're\r\n",
      "looking for, navigate to\r\n",
      "\r\n",
      "    https://anaconda.org\r\n",
      "\r\n",
      "and use the search bar at the top of the page.\r\n",
      "\r\n",
      "\r\n"
     ]
    }
   ],
   "source": [
    "!conda install -c anaconda fse -y"
   ],
   "metadata": {
    "collapsed": false,
    "pycharm": {
     "name": "#%%\n"
    }
   }
  },
  {
   "cell_type": "code",
   "execution_count": 75,
   "outputs": [
    {
     "name": "stdout",
     "output_type": "stream",
     "text": [
      "Collecting package metadata (current_repodata.json): done\r\n",
      "Solving environment: done\r\n",
      "\r\n",
      "\r\n",
      "==> WARNING: A newer version of conda exists. <==\r\n",
      "  current version: 4.12.0\r\n",
      "  latest version: 4.14.0\r\n",
      "\r\n",
      "Please update conda by running\r\n",
      "\r\n",
      "    $ conda update -n base -c defaults conda\r\n",
      "\r\n",
      "\r\n",
      "\r\n",
      "## Package Plan ##\r\n",
      "\r\n",
      "  environment location: /Users/nurrizkyimani/.conda/envs/workspace\r\n",
      "\r\n",
      "  added / updated specs:\r\n",
      "    - matplotlib\r\n",
      "\r\n",
      "\r\n",
      "The following packages will be downloaded:\r\n",
      "\r\n",
      "    package                    |            build\r\n",
      "    ---------------------------|-----------------\r\n",
      "    ca-certificates-2022.6.15  |       h033912b_0         149 KB  conda-forge\r\n",
      "    certifi-2022.6.15          |     pyhd8ed1ab_1         154 KB  conda-forge\r\n",
      "    cycler-0.11.0              |     pyhd8ed1ab_0          10 KB  conda-forge\r\n",
      "    freetype-2.12.1            |       h3f81eb7_0         915 KB  conda-forge\r\n",
      "    kiwisolver-1.4.2           |   py38he9d5cce_0          55 KB\r\n",
      "    libzlib-1.2.12             |       hfe4f2af_2          63 KB  conda-forge\r\n",
      "    matplotlib-3.2.2           |                1           6 KB  conda-forge\r\n",
      "    matplotlib-base-3.2.2      |   py38h1300a51_1         7.0 MB  conda-forge\r\n",
      "    openssl-1.1.1q             |       hfe4f2af_0         1.9 MB  conda-forge\r\n",
      "    python_abi-3.8             |           2_cp38           4 KB  conda-forge\r\n",
      "    ------------------------------------------------------------\r\n",
      "                                           Total:        10.2 MB\r\n",
      "\r\n",
      "The following NEW packages will be INSTALLED:\r\n",
      "\r\n",
      "  cycler             conda-forge/noarch::cycler-0.11.0-pyhd8ed1ab_0\r\n",
      "  freetype           conda-forge/osx-64::freetype-2.12.1-h3f81eb7_0\r\n",
      "  kiwisolver         pkgs/main/osx-64::kiwisolver-1.4.2-py38he9d5cce_0\r\n",
      "  libzlib            conda-forge/osx-64::libzlib-1.2.12-hfe4f2af_2\r\n",
      "  matplotlib         conda-forge/osx-64::matplotlib-3.2.2-1\r\n",
      "  matplotlib-base    conda-forge/osx-64::matplotlib-base-3.2.2-py38h1300a51_1\r\n",
      "  python_abi         conda-forge/osx-64::python_abi-3.8-2_cp38\r\n",
      "\r\n",
      "The following packages will be UPDATED:\r\n",
      "\r\n",
      "  ca-certificates    anaconda::ca-certificates-2022.4.26-h~ --> conda-forge::ca-certificates-2022.6.15-h033912b_0\r\n",
      "  certifi            anaconda/osx-64::certifi-2022.6.15-py~ --> conda-forge/noarch::certifi-2022.6.15-pyhd8ed1ab_1\r\n",
      "  openssl               anaconda::openssl-1.1.1o-hca72f7f_0 --> conda-forge::openssl-1.1.1q-hfe4f2af_0\r\n",
      "\r\n",
      "\r\n",
      "\r\n",
      "Downloading and Extracting Packages\r\n",
      "kiwisolver-1.4.2     | 55 KB     | ##################################### | 100% \r\n",
      "ca-certificates-2022 | 149 KB    | ##################################### | 100% \r\n",
      "libzlib-1.2.12       | 63 KB     | ##################################### | 100% \r\n",
      "matplotlib-base-3.2. | 7.0 MB    | ##################################### | 100% \r\n",
      "certifi-2022.6.15    | 154 KB    | ##################################### | 100% \r\n",
      "cycler-0.11.0        | 10 KB     | ##################################### | 100% \r\n",
      "python_abi-3.8       | 4 KB      | ##################################### | 100% \r\n",
      "openssl-1.1.1q       | 1.9 MB    | ##################################### | 100% \r\n",
      "freetype-2.12.1      | 915 KB    | ##################################### | 100% \r\n",
      "matplotlib-3.2.2     | 6 KB      | ##################################### | 100% \r\n",
      "Preparing transaction: done\r\n",
      "Verifying transaction: done\r\n",
      "Executing transaction: done\r\n"
     ]
    }
   ],
   "source": [
    "!conda install -c conda-forge matplotlib -y"
   ],
   "metadata": {
    "collapsed": false,
    "pycharm": {
     "name": "#%%\n"
    }
   }
  },
  {
   "cell_type": "code",
   "execution_count": 9,
   "outputs": [
    {
     "name": "stdout",
     "output_type": "stream",
     "text": [
      "Collecting fse\r\n",
      "  Downloading fse-1.0.0-cp38-cp38-macosx_10_9_x86_64.whl (139 kB)\r\n",
      "\u001B[2K     \u001B[90m━━━━━━━━━━━━━━━━━━━━━━━━━━━━━━━━━━━━━━━\u001B[0m \u001B[32m139.7/139.7 kB\u001B[0m \u001B[31m1.3 MB/s\u001B[0m eta \u001B[36m0:00:00\u001B[0ma \u001B[36m0:00:01\u001B[0m\r\n",
      "\u001B[?25hRequirement already satisfied: numpy>=1.11.3 in /Users/nurrizkyimani/.conda/envs/workspace/lib/python3.8/site-packages (from fse) (1.23.2)\r\n",
      "Collecting scipy>=0.18.1\r\n",
      "  Downloading scipy-1.9.0-cp38-cp38-macosx_12_0_universal2.macosx_10_9_x86_64.whl (58.1 MB)\r\n",
      "\u001B[2K     \u001B[90m━━━━━━━━━━━━━━━━━━━━━━━━━━━━━━━━━━━━━━━━\u001B[0m \u001B[32m58.1/58.1 MB\u001B[0m \u001B[31m3.0 MB/s\u001B[0m eta \u001B[36m0:00:00\u001B[0m00:01\u001B[0m00:01\u001B[0m\r\n",
      "\u001B[?25hCollecting smart-open>=1.5.0\r\n",
      "  Downloading smart_open-6.1.0-py3-none-any.whl (58 kB)\r\n",
      "\u001B[2K     \u001B[90m━━━━━━━━━━━━━━━━━━━━━━━━━━━━━━━━━━━━━━━━\u001B[0m \u001B[32m58.6/58.6 kB\u001B[0m \u001B[31m1.3 MB/s\u001B[0m eta \u001B[36m0:00:00\u001B[0ma \u001B[36m0:00:01\u001B[0m\r\n",
      "\u001B[?25hCollecting huggingface-hub\r\n",
      "  Downloading huggingface_hub-0.9.1-py3-none-any.whl (120 kB)\r\n",
      "\u001B[2K     \u001B[90m━━━━━━━━━━━━━━━━━━━━━━━━━━━━━━━━━━━━━━━\u001B[0m \u001B[32m120.7/120.7 kB\u001B[0m \u001B[31m3.0 MB/s\u001B[0m eta \u001B[36m0:00:00\u001B[0ma \u001B[36m0:00:01\u001B[0m\r\n",
      "\u001B[?25hCollecting wordfreq>=2.2.1\r\n",
      "  Downloading wordfreq-3.0.1-py3-none-any.whl (56.8 MB)\r\n",
      "\u001B[2K     \u001B[90m━━━━━━━━━━━━━━━━━━━━━━━━━━━━━━━━━━━━━━━━\u001B[0m \u001B[32m56.8/56.8 MB\u001B[0m \u001B[31m2.7 MB/s\u001B[0m eta \u001B[36m0:00:00\u001B[0m00:01\u001B[0m00:01\u001B[0m\r\n",
      "\u001B[?25hCollecting gensim>=4\r\n",
      "  Downloading gensim-4.2.0-cp38-cp38-macosx_10_9_x86_64.whl (24.0 MB)\r\n",
      "\u001B[2K     \u001B[90m━━━━━━━━━━━━━━━━━━━━━━━━━━━━━━━━━━━━━━━━\u001B[0m \u001B[32m24.0/24.0 MB\u001B[0m \u001B[31m2.4 MB/s\u001B[0m eta \u001B[36m0:00:00\u001B[0m00:01\u001B[0m00:01\u001B[0m\r\n",
      "\u001B[?25hCollecting psutil\r\n",
      "  Downloading psutil-5.9.1-cp38-cp38-macosx_10_9_x86_64.whl (239 kB)\r\n",
      "\u001B[2K     \u001B[90m━━━━━━━━━━━━━━━━━━━━━━━━━━━━━━━━━━━━━━━\u001B[0m \u001B[32m239.2/239.2 kB\u001B[0m \u001B[31m2.2 MB/s\u001B[0m eta \u001B[36m0:00:00\u001B[0m00:01\u001B[0m00:01\u001B[0m\r\n",
      "\u001B[?25hCollecting scikit-learn>=0.19.1\r\n",
      "  Downloading scikit_learn-1.1.2-cp38-cp38-macosx_10_9_x86_64.whl (8.6 MB)\r\n",
      "\u001B[2K     \u001B[90m━━━━━━━━━━━━━━━━━━━━━━━━━━━━━━━━━━━━━━━━\u001B[0m \u001B[32m8.6/8.6 MB\u001B[0m \u001B[31m2.4 MB/s\u001B[0m eta \u001B[36m0:00:00\u001B[0m00:01\u001B[0m00:01\u001B[0m\r\n",
      "\u001B[?25hCollecting joblib>=1.0.0\r\n",
      "  Downloading joblib-1.1.0-py2.py3-none-any.whl (306 kB)\r\n",
      "\u001B[2K     \u001B[90m━━━━━━━━━━━━━━━━━━━━━━━━━━━━━━━━━━━━━━━\u001B[0m \u001B[32m307.0/307.0 kB\u001B[0m \u001B[31m2.4 MB/s\u001B[0m eta \u001B[36m0:00:00\u001B[0ma \u001B[36m0:00:01\u001B[0m\r\n",
      "\u001B[?25hCollecting threadpoolctl>=2.0.0\r\n",
      "  Downloading threadpoolctl-3.1.0-py3-none-any.whl (14 kB)\r\n",
      "Collecting langcodes>=3.0\r\n",
      "  Downloading langcodes-3.3.0-py3-none-any.whl (181 kB)\r\n",
      "\u001B[2K     \u001B[90m━━━━━━━━━━━━━━━━━━━━━━━━━━━━━━━━━━━━━━━\u001B[0m \u001B[32m181.6/181.6 kB\u001B[0m \u001B[31m3.2 MB/s\u001B[0m eta \u001B[36m0:00:00\u001B[0ma \u001B[36m0:00:01\u001B[0m\r\n",
      "\u001B[?25hCollecting msgpack>=1.0\r\n",
      "  Downloading msgpack-1.0.4-cp38-cp38-macosx_10_9_x86_64.whl (73 kB)\r\n",
      "\u001B[2K     \u001B[90m━━━━━━━━━━━━━━━━━━━━━━━━━━━━━━━━━━━━━━━━\u001B[0m \u001B[32m73.6/73.6 kB\u001B[0m \u001B[31m1.6 MB/s\u001B[0m eta \u001B[36m0:00:00\u001B[0ma \u001B[36m0:00:01\u001B[0m\r\n",
      "\u001B[?25hCollecting regex>=2020.04.04\r\n",
      "  Downloading regex-2022.8.17-cp38-cp38-macosx_10_9_x86_64.whl (290 kB)\r\n",
      "\u001B[2K     \u001B[90m━━━━━━━━━━━━━━━━━━━━━━━━━━━━━━━━━━━━━━━\u001B[0m \u001B[32m290.2/290.2 kB\u001B[0m \u001B[31m2.6 MB/s\u001B[0m eta \u001B[36m0:00:00\u001B[0ma \u001B[36m0:00:01\u001B[0m\r\n",
      "\u001B[?25hCollecting ftfy>=6.1\r\n",
      "  Downloading ftfy-6.1.1-py3-none-any.whl (53 kB)\r\n",
      "\u001B[2K     \u001B[90m━━━━━━━━━━━━━━━━━━━━━━━━━━━━━━━━━━━━━━━━\u001B[0m \u001B[32m53.1/53.1 kB\u001B[0m \u001B[31m1.1 MB/s\u001B[0m eta \u001B[36m0:00:00\u001B[0ma \u001B[36m0:00:01\u001B[0m\r\n",
      "\u001B[?25hCollecting filelock\r\n",
      "  Downloading filelock-3.8.0-py3-none-any.whl (10 kB)\r\n",
      "Collecting pyyaml>=5.1\r\n",
      "  Downloading PyYAML-6.0-cp38-cp38-macosx_10_9_x86_64.whl (192 kB)\r\n",
      "\u001B[2K     \u001B[90m━━━━━━━━━━━━━━━━━━━━━━━━━━━━━━━━━━━━━━━\u001B[0m \u001B[32m192.2/192.2 kB\u001B[0m \u001B[31m2.2 MB/s\u001B[0m eta \u001B[36m0:00:00\u001B[0ma \u001B[36m0:00:01\u001B[0m\r\n",
      "\u001B[?25hRequirement already satisfied: packaging>=20.9 in /Users/nurrizkyimani/.conda/envs/workspace/lib/python3.8/site-packages (from huggingface-hub->fse) (21.3)\r\n",
      "Requirement already satisfied: typing-extensions>=3.7.4.3 in /Users/nurrizkyimani/.conda/envs/workspace/lib/python3.8/site-packages (from huggingface-hub->fse) (4.3.0)\r\n",
      "Requirement already satisfied: requests in /Users/nurrizkyimani/.conda/envs/workspace/lib/python3.8/site-packages (from huggingface-hub->fse) (2.28.1)\r\n",
      "Requirement already satisfied: tqdm in /Users/nurrizkyimani/.conda/envs/workspace/lib/python3.8/site-packages (from huggingface-hub->fse) (4.64.0)\r\n",
      "Requirement already satisfied: wcwidth>=0.2.5 in /Users/nurrizkyimani/.conda/envs/workspace/lib/python3.8/site-packages (from ftfy>=6.1->wordfreq>=2.2.1->fse) (0.2.5)\r\n",
      "Requirement already satisfied: pyparsing!=3.0.5,>=2.0.2 in /Users/nurrizkyimani/.conda/envs/workspace/lib/python3.8/site-packages (from packaging>=20.9->huggingface-hub->fse) (3.0.4)\r\n",
      "Requirement already satisfied: urllib3<1.27,>=1.21.1 in /Users/nurrizkyimani/.conda/envs/workspace/lib/python3.8/site-packages (from requests->huggingface-hub->fse) (1.26.11)\r\n",
      "Requirement already satisfied: charset-normalizer<3,>=2 in /Users/nurrizkyimani/.conda/envs/workspace/lib/python3.8/site-packages (from requests->huggingface-hub->fse) (2.0.4)\r\n",
      "Requirement already satisfied: certifi>=2017.4.17 in /Users/nurrizkyimani/.conda/envs/workspace/lib/python3.8/site-packages (from requests->huggingface-hub->fse) (2022.6.15)\r\n",
      "Requirement already satisfied: idna<4,>=2.5 in /Users/nurrizkyimani/.conda/envs/workspace/lib/python3.8/site-packages (from requests->huggingface-hub->fse) (3.3)\r\n",
      "Installing collected packages: msgpack, threadpoolctl, smart-open, scipy, regex, pyyaml, psutil, langcodes, joblib, ftfy, filelock, wordfreq, scikit-learn, huggingface-hub, gensim, fse\r\n",
      "Successfully installed filelock-3.8.0 fse-1.0.0 ftfy-6.1.1 gensim-4.2.0 huggingface-hub-0.9.1 joblib-1.1.0 langcodes-3.3.0 msgpack-1.0.4 psutil-5.9.1 pyyaml-6.0 regex-2022.8.17 scikit-learn-1.1.2 scipy-1.9.0 smart-open-6.1.0 threadpoolctl-3.1.0 wordfreq-3.0.1\r\n"
     ]
    }
   ],
   "source": [
    "!pip3 install fse"
   ],
   "metadata": {
    "collapsed": false,
    "pycharm": {
     "name": "#%%\n"
    }
   }
  },
  {
   "cell_type": "code",
   "execution_count": 12,
   "outputs": [
    {
     "name": "stdout",
     "output_type": "stream",
     "text": [
      "Collecting pytorch-nlp\r\n",
      "\u001B[33m  WARNING: Retrying (Retry(total=4, connect=None, read=None, redirect=None, status=None)) after connection broken by 'ConnectTimeoutError(<pip._vendor.urllib3.connection.HTTPSConnection object at 0x7fa58d0f5910>, 'Connection to files.pythonhosted.org timed out. (connect timeout=15)')': /packages/4f/51/f0ee1efb75f7cc2e3065c5da1363d6be2eec79691b2821594f3f2329528c/pytorch_nlp-0.5.0-py3-none-any.whl\u001B[0m\u001B[33m\r\n",
      "\u001B[0m  Downloading pytorch_nlp-0.5.0-py3-none-any.whl (90 kB)\r\n",
      "\u001B[2K     \u001B[90m━━━━━━━━━━━━━━━━━━━━━━━━━━━━━━━━━━━━━━━\u001B[0m \u001B[32m90.1/90.1 kB\u001B[0m \u001B[31m886.5 kB/s\u001B[0m eta \u001B[36m0:00:00\u001B[0m \u001B[36m0:00:01\u001B[0m\r\n",
      "\u001B[?25hRequirement already satisfied: numpy in /Users/nurrizkyimani/.conda/envs/workspace/lib/python3.8/site-packages (from pytorch-nlp) (1.23.2)\r\n",
      "Requirement already satisfied: tqdm in /Users/nurrizkyimani/.conda/envs/workspace/lib/python3.8/site-packages (from pytorch-nlp) (4.64.0)\r\n",
      "Installing collected packages: pytorch-nlp\r\n",
      "Successfully installed pytorch-nlp-0.5.0\r\n"
     ]
    }
   ],
   "source": [
    "!pip3 install pytorch-nlp"
   ],
   "metadata": {
    "collapsed": false,
    "pycharm": {
     "name": "#%%\n"
    }
   }
  },
  {
   "cell_type": "code",
   "execution_count": 14,
   "outputs": [
    {
     "name": "stdout",
     "output_type": "stream",
     "text": [
      "Collecting nltk\r\n",
      "  Downloading nltk-3.7-py3-none-any.whl (1.5 MB)\r\n",
      "\u001B[2K     \u001B[90m━━━━━━━━━━━━━━━━━━━━━━━━━━━━━━━━━━━━━━━━\u001B[0m \u001B[32m1.5/1.5 MB\u001B[0m \u001B[31m1.7 MB/s\u001B[0m eta \u001B[36m0:00:00\u001B[0m00:01\u001B[0m00:01\u001B[0m\r\n",
      "\u001B[?25hRequirement already satisfied: tqdm in /Users/nurrizkyimani/.conda/envs/workspace/lib/python3.8/site-packages (from nltk) (4.64.0)\r\n",
      "Requirement already satisfied: joblib in /Users/nurrizkyimani/.conda/envs/workspace/lib/python3.8/site-packages (from nltk) (1.1.0)\r\n",
      "Collecting click\r\n",
      "  Downloading click-8.1.3-py3-none-any.whl (96 kB)\r\n",
      "\u001B[2K     \u001B[90m━━━━━━━━━━━━━━━━━━━━━━━━━━━━━━━━━━━━━━━━\u001B[0m \u001B[32m96.6/96.6 kB\u001B[0m \u001B[31m1.6 MB/s\u001B[0m eta \u001B[36m0:00:00\u001B[0ma \u001B[36m0:00:01\u001B[0m\r\n",
      "\u001B[?25hRequirement already satisfied: regex>=2021.8.3 in /Users/nurrizkyimani/.conda/envs/workspace/lib/python3.8/site-packages (from nltk) (2022.8.17)\r\n",
      "Installing collected packages: click, nltk\r\n",
      "Successfully installed click-8.1.3 nltk-3.7\r\n"
     ]
    }
   ],
   "source": [
    "!pip3 install nltk"
   ],
   "metadata": {
    "collapsed": false,
    "pycharm": {
     "name": "#%%\n"
    }
   }
  },
  {
   "cell_type": "markdown",
   "source": [
    "# Import"
   ],
   "metadata": {
    "collapsed": false,
    "pycharm": {
     "name": "#%% md\n"
    }
   }
  },
  {
   "cell_type": "code",
   "execution_count": 1,
   "metadata": {
    "pycharm": {
     "name": "#%%\n"
    }
   },
   "outputs": [
    {
     "name": "stderr",
     "output_type": "stream",
     "text": [
      "[nltk_data] Downloading package punkt to\n",
      "[nltk_data]     /Users/nurrizkyimani/nltk_data...\n",
      "[nltk_data]   Package punkt is already up-to-date!\n"
     ]
    },
    {
     "data": {
      "text/plain": "True"
     },
     "execution_count": 1,
     "metadata": {},
     "output_type": "execute_result"
    }
   ],
   "source": [
    "import numpy as np # linear algebra\n",
    "import pandas as pd # data processing, CSV file I/O (e.g. pd.read_csv)\n",
    "\n",
    "import os\n",
    "\n",
    "import re\n",
    "import string\n",
    "import collections\n",
    "import fse\n",
    "import random\n",
    "\n",
    "import torch\n",
    "import torch.nn as nn\n",
    "from torch import optim\n",
    "import torch.nn.functional as F\n",
    "from torchnlp.metrics import get_moses_multi_bleu\n",
    "\n",
    "device = torch.device(\"cuda\" if torch.cuda.is_available() else \"cpu\")\n",
    "torch.manual_seed(1)\n",
    "\n",
    "import nltk\n",
    "nltk.download('punkt')\n",
    "\n",
    "# Any results you write to the current directory are saved as output."
   ]
  },
  {
   "cell_type": "markdown",
   "source": [
    "# Local Path Data"
   ],
   "metadata": {
    "collapsed": false,
    "pycharm": {
     "name": "#%% md\n"
    }
   }
  },
  {
   "cell_type": "code",
   "execution_count": 2,
   "outputs": [],
   "source": [
    "all_agree_path = \"2022_thesis_styletransfer/annotated/combined/csv/all_agree.csv\""
   ],
   "metadata": {
    "collapsed": false,
    "pycharm": {
     "name": "#%%\n"
    }
   }
  },
  {
   "cell_type": "code",
   "execution_count": 3,
   "outputs": [],
   "source": [
    "all_agree_pd = pd.read_csv(all_agree_path)"
   ],
   "metadata": {
    "collapsed": false,
    "pycharm": {
     "name": "#%%\n"
    }
   }
  },
  {
   "cell_type": "code",
   "execution_count": 4,
   "metadata": {
    "pycharm": {
     "name": "#%%\n"
    }
   },
   "outputs": [
    {
     "data": {
      "text/plain": "                                               title          label  \\\n0  Masuk Radar Pilwalkot Medan, Menantu Jokowi Be...  non-clickbait   \n1  Malaysia Sudutkan RI: Isu Kabut Asap hingga In...  non-clickbait   \n2  Viral! Driver Ojol di Bekasi Antar Pesanan Mak...      clickbait   \n3  Kemensos Salurkan Rp 7,3 M bagi Korban Kerusuh...  non-clickbait   \n4  MPR: Amandemen UUD 1945 Tak Akan Melebar ke Ma...  non-clickbait   \n\n   label_score  \n0            0  \n1            0  \n2            1  \n3            0  \n4            0  ",
      "text/html": "<div>\n<style scoped>\n    .dataframe tbody tr th:only-of-type {\n        vertical-align: middle;\n    }\n\n    .dataframe tbody tr th {\n        vertical-align: top;\n    }\n\n    .dataframe thead th {\n        text-align: right;\n    }\n</style>\n<table border=\"1\" class=\"dataframe\">\n  <thead>\n    <tr style=\"text-align: right;\">\n      <th></th>\n      <th>title</th>\n      <th>label</th>\n      <th>label_score</th>\n    </tr>\n  </thead>\n  <tbody>\n    <tr>\n      <th>0</th>\n      <td>Masuk Radar Pilwalkot Medan, Menantu Jokowi Be...</td>\n      <td>non-clickbait</td>\n      <td>0</td>\n    </tr>\n    <tr>\n      <th>1</th>\n      <td>Malaysia Sudutkan RI: Isu Kabut Asap hingga In...</td>\n      <td>non-clickbait</td>\n      <td>0</td>\n    </tr>\n    <tr>\n      <th>2</th>\n      <td>Viral! Driver Ojol di Bekasi Antar Pesanan Mak...</td>\n      <td>clickbait</td>\n      <td>1</td>\n    </tr>\n    <tr>\n      <th>3</th>\n      <td>Kemensos Salurkan Rp 7,3 M bagi Korban Kerusuh...</td>\n      <td>non-clickbait</td>\n      <td>0</td>\n    </tr>\n    <tr>\n      <th>4</th>\n      <td>MPR: Amandemen UUD 1945 Tak Akan Melebar ke Ma...</td>\n      <td>non-clickbait</td>\n      <td>0</td>\n    </tr>\n  </tbody>\n</table>\n</div>"
     },
     "execution_count": 4,
     "metadata": {},
     "output_type": "execute_result"
    }
   ],
   "source": [
    "all_agree_pd.head()"
   ]
  },
  {
   "cell_type": "code",
   "execution_count": 5,
   "outputs": [],
   "source": [
    "df_clickbait = all_agree_pd[all_agree_pd['label'] == \"clickbait\"]\n",
    "df_nonclickbait = all_agree_pd[all_agree_pd['label'] == \"non-clickbait\"]"
   ],
   "metadata": {
    "collapsed": false,
    "pycharm": {
     "name": "#%%\n"
    }
   }
  },
  {
   "cell_type": "code",
   "execution_count": 6,
   "outputs": [],
   "source": [
    "# df_clickbait.label_score"
   ],
   "metadata": {
    "collapsed": false,
    "pycharm": {
     "name": "#%%\n"
    }
   }
  },
  {
   "cell_type": "code",
   "execution_count": 7,
   "outputs": [
    {
     "data": {
      "text/plain": "                                                  title          label  \\\n0     Viral! Driver Ojol di Bekasi Antar Pesanan Mak...      clickbait   \n1     Ada Motor Nyangkut di Atas Bambu di Sleman, Ko...      clickbait   \n2          Pesan Gamblang Poyuono Menolak Revisi UU KPK      clickbait   \n3     Kocak! Maling di Rumah Mewah Jakut Terekam CCT...      clickbait   \n4     Viral Video Diduga Baku Tembak di Sleman, Ini ...      clickbait   \n...                                                 ...            ...   \n8606  KPK Tepis Tudingan Moeldoko Soal Hambat Investasi  non-clickbait   \n8607  Smart SIM Diluncurkan, Wakapolri Harap Bisa Me...  non-clickbait   \n8608  Wamena Papua Kembali Membara, Kantor Bupati Di...  non-clickbait   \n8609         BMKG Angkat Bicara Soal Langit Merah Jambi  non-clickbait   \n8610  Operasional Bandara Wamena Dihentikan Akibat R...  non-clickbait   \n\n      label_score  \n0               1  \n1               1  \n2               1  \n3               1  \n4               1  \n...           ...  \n8606            0  \n8607            0  \n8608            0  \n8609            0  \n8610            0  \n\n[8611 rows x 3 columns]",
      "text/html": "<div>\n<style scoped>\n    .dataframe tbody tr th:only-of-type {\n        vertical-align: middle;\n    }\n\n    .dataframe tbody tr th {\n        vertical-align: top;\n    }\n\n    .dataframe thead th {\n        text-align: right;\n    }\n</style>\n<table border=\"1\" class=\"dataframe\">\n  <thead>\n    <tr style=\"text-align: right;\">\n      <th></th>\n      <th>title</th>\n      <th>label</th>\n      <th>label_score</th>\n    </tr>\n  </thead>\n  <tbody>\n    <tr>\n      <th>0</th>\n      <td>Viral! Driver Ojol di Bekasi Antar Pesanan Mak...</td>\n      <td>clickbait</td>\n      <td>1</td>\n    </tr>\n    <tr>\n      <th>1</th>\n      <td>Ada Motor Nyangkut di Atas Bambu di Sleman, Ko...</td>\n      <td>clickbait</td>\n      <td>1</td>\n    </tr>\n    <tr>\n      <th>2</th>\n      <td>Pesan Gamblang Poyuono Menolak Revisi UU KPK</td>\n      <td>clickbait</td>\n      <td>1</td>\n    </tr>\n    <tr>\n      <th>3</th>\n      <td>Kocak! Maling di Rumah Mewah Jakut Terekam CCT...</td>\n      <td>clickbait</td>\n      <td>1</td>\n    </tr>\n    <tr>\n      <th>4</th>\n      <td>Viral Video Diduga Baku Tembak di Sleman, Ini ...</td>\n      <td>clickbait</td>\n      <td>1</td>\n    </tr>\n    <tr>\n      <th>...</th>\n      <td>...</td>\n      <td>...</td>\n      <td>...</td>\n    </tr>\n    <tr>\n      <th>8606</th>\n      <td>KPK Tepis Tudingan Moeldoko Soal Hambat Investasi</td>\n      <td>non-clickbait</td>\n      <td>0</td>\n    </tr>\n    <tr>\n      <th>8607</th>\n      <td>Smart SIM Diluncurkan, Wakapolri Harap Bisa Me...</td>\n      <td>non-clickbait</td>\n      <td>0</td>\n    </tr>\n    <tr>\n      <th>8608</th>\n      <td>Wamena Papua Kembali Membara, Kantor Bupati Di...</td>\n      <td>non-clickbait</td>\n      <td>0</td>\n    </tr>\n    <tr>\n      <th>8609</th>\n      <td>BMKG Angkat Bicara Soal Langit Merah Jambi</td>\n      <td>non-clickbait</td>\n      <td>0</td>\n    </tr>\n    <tr>\n      <th>8610</th>\n      <td>Operasional Bandara Wamena Dihentikan Akibat R...</td>\n      <td>non-clickbait</td>\n      <td>0</td>\n    </tr>\n  </tbody>\n</table>\n<p>8611 rows × 3 columns</p>\n</div>"
     },
     "execution_count": 7,
     "metadata": {},
     "output_type": "execute_result"
    }
   ],
   "source": [
    "#creating a concatination of both df clickbait and nonclickbait\n",
    "df_both = pd.concat((df_clickbait, df_nonclickbait), ignore_index=True)\n",
    "df_both.head(-2)"
   ],
   "metadata": {
    "collapsed": false,
    "pycharm": {
     "name": "#%%\n"
    }
   }
  },
  {
   "cell_type": "code",
   "execution_count": 8,
   "outputs": [],
   "source": [
    "df_both_l = df_both.copy()\n",
    "\n",
    "df_both_l['label'] = df_both_l['label'].astype('category')"
   ],
   "metadata": {
    "collapsed": false,
    "pycharm": {
     "name": "#%%\n"
    }
   }
  },
  {
   "cell_type": "code",
   "execution_count": 9,
   "outputs": [
    {
     "data": {
      "text/plain": "                                                  title          label  \\\n0     Viral! Driver Ojol di Bekasi Antar Pesanan Mak...      clickbait   \n1     Ada Motor Nyangkut di Atas Bambu di Sleman, Ko...      clickbait   \n2          Pesan Gamblang Poyuono Menolak Revisi UU KPK      clickbait   \n3     Kocak! Maling di Rumah Mewah Jakut Terekam CCT...      clickbait   \n4     Viral Video Diduga Baku Tembak di Sleman, Ini ...      clickbait   \n...                                                 ...            ...   \n8607  Smart SIM Diluncurkan, Wakapolri Harap Bisa Me...  non-clickbait   \n8608  Wamena Papua Kembali Membara, Kantor Bupati Di...  non-clickbait   \n8609         BMKG Angkat Bicara Soal Langit Merah Jambi  non-clickbait   \n8610  Operasional Bandara Wamena Dihentikan Akibat R...  non-clickbait   \n8611   Asap Karhutla Riau Mulai Merambah Ke Nias, BM...  non-clickbait   \n\n      label_score  \n0               1  \n1               1  \n2               1  \n3               1  \n4               1  \n...           ...  \n8607            0  \n8608            0  \n8609            0  \n8610            0  \n8611            0  \n\n[8612 rows x 3 columns]",
      "text/html": "<div>\n<style scoped>\n    .dataframe tbody tr th:only-of-type {\n        vertical-align: middle;\n    }\n\n    .dataframe tbody tr th {\n        vertical-align: top;\n    }\n\n    .dataframe thead th {\n        text-align: right;\n    }\n</style>\n<table border=\"1\" class=\"dataframe\">\n  <thead>\n    <tr style=\"text-align: right;\">\n      <th></th>\n      <th>title</th>\n      <th>label</th>\n      <th>label_score</th>\n    </tr>\n  </thead>\n  <tbody>\n    <tr>\n      <th>0</th>\n      <td>Viral! Driver Ojol di Bekasi Antar Pesanan Mak...</td>\n      <td>clickbait</td>\n      <td>1</td>\n    </tr>\n    <tr>\n      <th>1</th>\n      <td>Ada Motor Nyangkut di Atas Bambu di Sleman, Ko...</td>\n      <td>clickbait</td>\n      <td>1</td>\n    </tr>\n    <tr>\n      <th>2</th>\n      <td>Pesan Gamblang Poyuono Menolak Revisi UU KPK</td>\n      <td>clickbait</td>\n      <td>1</td>\n    </tr>\n    <tr>\n      <th>3</th>\n      <td>Kocak! Maling di Rumah Mewah Jakut Terekam CCT...</td>\n      <td>clickbait</td>\n      <td>1</td>\n    </tr>\n    <tr>\n      <th>4</th>\n      <td>Viral Video Diduga Baku Tembak di Sleman, Ini ...</td>\n      <td>clickbait</td>\n      <td>1</td>\n    </tr>\n    <tr>\n      <th>...</th>\n      <td>...</td>\n      <td>...</td>\n      <td>...</td>\n    </tr>\n    <tr>\n      <th>8607</th>\n      <td>Smart SIM Diluncurkan, Wakapolri Harap Bisa Me...</td>\n      <td>non-clickbait</td>\n      <td>0</td>\n    </tr>\n    <tr>\n      <th>8608</th>\n      <td>Wamena Papua Kembali Membara, Kantor Bupati Di...</td>\n      <td>non-clickbait</td>\n      <td>0</td>\n    </tr>\n    <tr>\n      <th>8609</th>\n      <td>BMKG Angkat Bicara Soal Langit Merah Jambi</td>\n      <td>non-clickbait</td>\n      <td>0</td>\n    </tr>\n    <tr>\n      <th>8610</th>\n      <td>Operasional Bandara Wamena Dihentikan Akibat R...</td>\n      <td>non-clickbait</td>\n      <td>0</td>\n    </tr>\n    <tr>\n      <th>8611</th>\n      <td>Asap Karhutla Riau Mulai Merambah Ke Nias, BM...</td>\n      <td>non-clickbait</td>\n      <td>0</td>\n    </tr>\n  </tbody>\n</table>\n<p>8612 rows × 3 columns</p>\n</div>"
     },
     "execution_count": 9,
     "metadata": {},
     "output_type": "execute_result"
    }
   ],
   "source": [
    "df_both_l.head(-1)"
   ],
   "metadata": {
    "collapsed": false,
    "pycharm": {
     "name": "#%%\n"
    }
   }
  },
  {
   "cell_type": "code",
   "execution_count": 10,
   "outputs": [],
   "source": [
    "df_both_label = df_both_l.drop('label_score', axis=1)\n",
    "df_both = df_both_l.drop('label', axis=1)"
   ],
   "metadata": {
    "collapsed": false,
    "pycharm": {
     "name": "#%%\n"
    }
   }
  },
  {
   "cell_type": "code",
   "execution_count": 11,
   "outputs": [
    {
     "data": {
      "text/plain": "                                                  title  label_score\n0     Viral! Driver Ojol di Bekasi Antar Pesanan Mak...            1\n1     Ada Motor Nyangkut di Atas Bambu di Sleman, Ko...            1\n2          Pesan Gamblang Poyuono Menolak Revisi UU KPK            1\n3     Kocak! Maling di Rumah Mewah Jakut Terekam CCT...            1\n4     Viral Video Diduga Baku Tembak di Sleman, Ini ...            1\n...                                                 ...          ...\n8603  Komnas HAM Minta Aparat Keamanan Tak Gunakan K...            0\n8604  Mahasiswa Minta TNI Turun Bersama Kawal Aksi D...            0\n8605  Polisi Pulangkan 56 Mahasiswa Setelah Sempat D...            0\n8606  KPK Tepis Tudingan Moeldoko Soal Hambat Investasi            0\n8607  Smart SIM Diluncurkan, Wakapolri Harap Bisa Me...            0\n\n[8608 rows x 2 columns]",
      "text/html": "<div>\n<style scoped>\n    .dataframe tbody tr th:only-of-type {\n        vertical-align: middle;\n    }\n\n    .dataframe tbody tr th {\n        vertical-align: top;\n    }\n\n    .dataframe thead th {\n        text-align: right;\n    }\n</style>\n<table border=\"1\" class=\"dataframe\">\n  <thead>\n    <tr style=\"text-align: right;\">\n      <th></th>\n      <th>title</th>\n      <th>label_score</th>\n    </tr>\n  </thead>\n  <tbody>\n    <tr>\n      <th>0</th>\n      <td>Viral! Driver Ojol di Bekasi Antar Pesanan Mak...</td>\n      <td>1</td>\n    </tr>\n    <tr>\n      <th>1</th>\n      <td>Ada Motor Nyangkut di Atas Bambu di Sleman, Ko...</td>\n      <td>1</td>\n    </tr>\n    <tr>\n      <th>2</th>\n      <td>Pesan Gamblang Poyuono Menolak Revisi UU KPK</td>\n      <td>1</td>\n    </tr>\n    <tr>\n      <th>3</th>\n      <td>Kocak! Maling di Rumah Mewah Jakut Terekam CCT...</td>\n      <td>1</td>\n    </tr>\n    <tr>\n      <th>4</th>\n      <td>Viral Video Diduga Baku Tembak di Sleman, Ini ...</td>\n      <td>1</td>\n    </tr>\n    <tr>\n      <th>...</th>\n      <td>...</td>\n      <td>...</td>\n    </tr>\n    <tr>\n      <th>8603</th>\n      <td>Komnas HAM Minta Aparat Keamanan Tak Gunakan K...</td>\n      <td>0</td>\n    </tr>\n    <tr>\n      <th>8604</th>\n      <td>Mahasiswa Minta TNI Turun Bersama Kawal Aksi D...</td>\n      <td>0</td>\n    </tr>\n    <tr>\n      <th>8605</th>\n      <td>Polisi Pulangkan 56 Mahasiswa Setelah Sempat D...</td>\n      <td>0</td>\n    </tr>\n    <tr>\n      <th>8606</th>\n      <td>KPK Tepis Tudingan Moeldoko Soal Hambat Investasi</td>\n      <td>0</td>\n    </tr>\n    <tr>\n      <th>8607</th>\n      <td>Smart SIM Diluncurkan, Wakapolri Harap Bisa Me...</td>\n      <td>0</td>\n    </tr>\n  </tbody>\n</table>\n<p>8608 rows × 2 columns</p>\n</div>"
     },
     "execution_count": 11,
     "metadata": {},
     "output_type": "execute_result"
    }
   ],
   "source": [
    "df_both.head(-5)"
   ],
   "metadata": {
    "collapsed": false,
    "pycharm": {
     "name": "#%%\n"
    }
   }
  },
  {
   "cell_type": "code",
   "execution_count": 12,
   "outputs": [],
   "source": [
    "from sklearn.preprocessing import LabelEncoder\n",
    "\n",
    "labelencoder = LabelEncoder()\n",
    "\n",
    "df_both_l['label_encoding'] = labelencoder.fit_transform(df_both_l['label'])"
   ],
   "metadata": {
    "collapsed": false,
    "pycharm": {
     "name": "#%%\n"
    }
   }
  },
  {
   "cell_type": "code",
   "execution_count": 13,
   "outputs": [],
   "source": [
    "df_encode_clean = df_both_l.copy()\n",
    "\n",
    "df_encode_clean = df_both = df_both_l.drop(['label_score'], axis=1)"
   ],
   "metadata": {
    "collapsed": false,
    "pycharm": {
     "name": "#%%\n"
    }
   }
  },
  {
   "cell_type": "code",
   "execution_count": 14,
   "outputs": [
    {
     "data": {
      "text/plain": "                                               title      label  \\\n0  Viral! Driver Ojol di Bekasi Antar Pesanan Mak...  clickbait   \n1  Ada Motor Nyangkut di Atas Bambu di Sleman, Ko...  clickbait   \n2       Pesan Gamblang Poyuono Menolak Revisi UU KPK  clickbait   \n3  Kocak! Maling di Rumah Mewah Jakut Terekam CCT...  clickbait   \n4  Viral Video Diduga Baku Tembak di Sleman, Ini ...  clickbait   \n\n   label_encoding  \n0               0  \n1               0  \n2               0  \n3               0  \n4               0  ",
      "text/html": "<div>\n<style scoped>\n    .dataframe tbody tr th:only-of-type {\n        vertical-align: middle;\n    }\n\n    .dataframe tbody tr th {\n        vertical-align: top;\n    }\n\n    .dataframe thead th {\n        text-align: right;\n    }\n</style>\n<table border=\"1\" class=\"dataframe\">\n  <thead>\n    <tr style=\"text-align: right;\">\n      <th></th>\n      <th>title</th>\n      <th>label</th>\n      <th>label_encoding</th>\n    </tr>\n  </thead>\n  <tbody>\n    <tr>\n      <th>0</th>\n      <td>Viral! Driver Ojol di Bekasi Antar Pesanan Mak...</td>\n      <td>clickbait</td>\n      <td>0</td>\n    </tr>\n    <tr>\n      <th>1</th>\n      <td>Ada Motor Nyangkut di Atas Bambu di Sleman, Ko...</td>\n      <td>clickbait</td>\n      <td>0</td>\n    </tr>\n    <tr>\n      <th>2</th>\n      <td>Pesan Gamblang Poyuono Menolak Revisi UU KPK</td>\n      <td>clickbait</td>\n      <td>0</td>\n    </tr>\n    <tr>\n      <th>3</th>\n      <td>Kocak! Maling di Rumah Mewah Jakut Terekam CCT...</td>\n      <td>clickbait</td>\n      <td>0</td>\n    </tr>\n    <tr>\n      <th>4</th>\n      <td>Viral Video Diduga Baku Tembak di Sleman, Ini ...</td>\n      <td>clickbait</td>\n      <td>0</td>\n    </tr>\n  </tbody>\n</table>\n</div>"
     },
     "execution_count": 14,
     "metadata": {},
     "output_type": "execute_result"
    }
   ],
   "source": [
    "df_encode_clean.head()"
   ],
   "metadata": {
    "collapsed": false,
    "pycharm": {
     "name": "#%%\n"
    }
   }
  },
  {
   "cell_type": "markdown",
   "source": [
    "preprocessing: lower casing"
   ],
   "metadata": {
    "collapsed": false,
    "pycharm": {
     "name": "#%% md\n"
    }
   }
  },
  {
   "cell_type": "code",
   "execution_count": 15,
   "outputs": [],
   "source": [
    "# preprocessing : lower casing\n",
    "df_encode_clean['title'] = df_encode_clean['title'].str.lower()"
   ],
   "metadata": {
    "collapsed": false,
    "pycharm": {
     "name": "#%%\n"
    }
   }
  },
  {
   "cell_type": "code",
   "execution_count": 16,
   "outputs": [
    {
     "data": {
      "text/plain": "0       viral! driver ojol di bekasi antar pesanan mak...\n1       ada motor nyangkut di atas bambu di sleman, ko...\n2            pesan gamblang poyuono menolak revisi uu kpk\n3       kocak! maling di rumah mewah jakut terekam cct...\n4       viral video diduga baku tembak di sleman, ini ...\n                              ...                        \n8608    wamena papua kembali membara, kantor bupati di...\n8609           bmkg angkat bicara soal langit merah jambi\n8610    operasional bandara wamena dihentikan akibat r...\n8611     asap karhutla riau mulai merambah ke nias, bm...\n8612    tolak ruu pertanahan, ribuan petani siap gelar...\nName: title, Length: 8613, dtype: object"
     },
     "execution_count": 16,
     "metadata": {},
     "output_type": "execute_result"
    }
   ],
   "source": [
    "df_encode_clean.title"
   ],
   "metadata": {
    "collapsed": false,
    "pycharm": {
     "name": "#%%\n"
    }
   }
  },
  {
   "cell_type": "code",
   "execution_count": 17,
   "outputs": [],
   "source": [
    "df_encode_clean_t =  df_encode_clean.copy()\n",
    "\n",
    "df_encode_clean_t['title'] = df_encode_clean_t['title'].apply(lambda y: \" \".join((re.sub(r'([!/?/./,/%/\\'/\\\"/-/:])', lambda x: ' ' + x.group()+' ' , y)).split()) , 1)"
   ],
   "metadata": {
    "collapsed": false,
    "pycharm": {
     "name": "#%%\n"
    }
   }
  },
  {
   "cell_type": "markdown",
   "source": [
    "create a space between the punctuation, DO NOT RUN TWICE"
   ],
   "metadata": {
    "collapsed": false,
    "pycharm": {
     "name": "#%% md\n"
    }
   }
  },
  {
   "cell_type": "code",
   "execution_count": 18,
   "outputs": [
    {
     "data": {
      "text/plain": "                                                  title          label  \\\n0     viral ! driver ojol di bekasi antar pesanan ma...      clickbait   \n1     ada motor nyangkut di atas bambu di sleman , k...      clickbait   \n2          pesan gamblang poyuono menolak revisi uu kpk      clickbait   \n3     kocak ! maling di rumah mewah jakut terekam cc...      clickbait   \n4     viral video diduga baku tembak di sleman , ini...      clickbait   \n...                                                 ...            ...   \n8608  wamena papua kembali membara , kantor bupati d...  non-clickbait   \n8609         bmkg angkat bicara soal langit merah jambi  non-clickbait   \n8610  operasional bandara wamena dihentikan akibat r...  non-clickbait   \n8611  asap karhutla riau mulai merambah ke nias , bm...  non-clickbait   \n8612  tolak ruu pertanahan , ribuan petani siap gela...  non-clickbait   \n\n      label_encoding  \n0                  0  \n1                  0  \n2                  0  \n3                  0  \n4                  0  \n...              ...  \n8608               1  \n8609               1  \n8610               1  \n8611               1  \n8612               1  \n\n[8613 rows x 3 columns]",
      "text/html": "<div>\n<style scoped>\n    .dataframe tbody tr th:only-of-type {\n        vertical-align: middle;\n    }\n\n    .dataframe tbody tr th {\n        vertical-align: top;\n    }\n\n    .dataframe thead th {\n        text-align: right;\n    }\n</style>\n<table border=\"1\" class=\"dataframe\">\n  <thead>\n    <tr style=\"text-align: right;\">\n      <th></th>\n      <th>title</th>\n      <th>label</th>\n      <th>label_encoding</th>\n    </tr>\n  </thead>\n  <tbody>\n    <tr>\n      <th>0</th>\n      <td>viral ! driver ojol di bekasi antar pesanan ma...</td>\n      <td>clickbait</td>\n      <td>0</td>\n    </tr>\n    <tr>\n      <th>1</th>\n      <td>ada motor nyangkut di atas bambu di sleman , k...</td>\n      <td>clickbait</td>\n      <td>0</td>\n    </tr>\n    <tr>\n      <th>2</th>\n      <td>pesan gamblang poyuono menolak revisi uu kpk</td>\n      <td>clickbait</td>\n      <td>0</td>\n    </tr>\n    <tr>\n      <th>3</th>\n      <td>kocak ! maling di rumah mewah jakut terekam cc...</td>\n      <td>clickbait</td>\n      <td>0</td>\n    </tr>\n    <tr>\n      <th>4</th>\n      <td>viral video diduga baku tembak di sleman , ini...</td>\n      <td>clickbait</td>\n      <td>0</td>\n    </tr>\n    <tr>\n      <th>...</th>\n      <td>...</td>\n      <td>...</td>\n      <td>...</td>\n    </tr>\n    <tr>\n      <th>8608</th>\n      <td>wamena papua kembali membara , kantor bupati d...</td>\n      <td>non-clickbait</td>\n      <td>1</td>\n    </tr>\n    <tr>\n      <th>8609</th>\n      <td>bmkg angkat bicara soal langit merah jambi</td>\n      <td>non-clickbait</td>\n      <td>1</td>\n    </tr>\n    <tr>\n      <th>8610</th>\n      <td>operasional bandara wamena dihentikan akibat r...</td>\n      <td>non-clickbait</td>\n      <td>1</td>\n    </tr>\n    <tr>\n      <th>8611</th>\n      <td>asap karhutla riau mulai merambah ke nias , bm...</td>\n      <td>non-clickbait</td>\n      <td>1</td>\n    </tr>\n    <tr>\n      <th>8612</th>\n      <td>tolak ruu pertanahan , ribuan petani siap gela...</td>\n      <td>non-clickbait</td>\n      <td>1</td>\n    </tr>\n  </tbody>\n</table>\n<p>8613 rows × 3 columns</p>\n</div>"
     },
     "execution_count": 18,
     "metadata": {},
     "output_type": "execute_result"
    }
   ],
   "source": [
    "df_encode_clean_t"
   ],
   "metadata": {
    "collapsed": false,
    "pycharm": {
     "name": "#%%\n"
    }
   }
  },
  {
   "cell_type": "code",
   "execution_count": 19,
   "outputs": [],
   "source": [
    "# df_encode_clean['title'] = df_encode_clean['title'].replace({'.':' . ',', ':' , ','! ': '! ' , '? ': ' ? '}, regex=True);\n",
    "# df_encode_clean_punc = df_encode_clean.copy()\n",
    "# df_encode_clean_punc['title'] = df_encode_clean['title'].str.replace('\\.', ' . ').str.replace(',', ' , ').str.replace('?', ' ? ').str.replace('!', ' ! ')"
   ],
   "metadata": {
    "collapsed": false,
    "pycharm": {
     "name": "#%%\n"
    }
   }
  },
  {
   "cell_type": "code",
   "execution_count": 20,
   "outputs": [
    {
     "data": {
      "text/plain": "0       viral ! driver ojol di bekasi antar pesanan ma...\n1       ada motor nyangkut di atas bambu di sleman , k...\n2            pesan gamblang poyuono menolak revisi uu kpk\n3       kocak ! maling di rumah mewah jakut terekam cc...\n4       viral video diduga baku tembak di sleman , ini...\n                              ...                        \n8608    wamena papua kembali membara , kantor bupati d...\n8609           bmkg angkat bicara soal langit merah jambi\n8610    operasional bandara wamena dihentikan akibat r...\n8611    asap karhutla riau mulai merambah ke nias , bm...\n8612    tolak ruu pertanahan , ribuan petani siap gela...\nName: title, Length: 8613, dtype: object"
     },
     "execution_count": 20,
     "metadata": {},
     "output_type": "execute_result"
    }
   ],
   "source": [
    "df_encode_clean_t['title']"
   ],
   "metadata": {
    "collapsed": false,
    "pycharm": {
     "name": "#%%\n"
    }
   }
  },
  {
   "cell_type": "markdown",
   "source": [
    "preprocessing: split between clickbait and nonclickbait"
   ],
   "metadata": {
    "collapsed": false,
    "pycharm": {
     "name": "#%% md\n"
    }
   }
  },
  {
   "cell_type": "code",
   "execution_count": 22,
   "outputs": [],
   "source": [
    "df_clickbait_clean = df_encode_clean_t[df_encode_clean_t['label'] == \"clickbait\"]\n",
    "df_nonclickbait_clean = df_encode_clean_t[df_encode_clean_t['label'] == \"non-clickbait\"]"
   ],
   "metadata": {
    "collapsed": false,
    "pycharm": {
     "name": "#%%\n"
    }
   }
  },
  {
   "cell_type": "markdown",
   "source": [
    "make the df into a list only in clickbait and nonclickbait"
   ],
   "metadata": {
    "collapsed": false,
    "pycharm": {
     "name": "#%% md\n"
    }
   }
  },
  {
   "cell_type": "code",
   "execution_count": 23,
   "outputs": [],
   "source": [
    "# make the df into a list only in clickbait and nonclickbait\n",
    "\n",
    "import itertools\n",
    "\n",
    "df_clickbait_t = df_clickbait_clean.drop(['label', 'label_encoding'], axis=1).values.tolist()\n",
    "clickbait_l_c = list(itertools.chain.from_iterable(df_clickbait_t))\n",
    "\n",
    "df_nonclickbait_t = df_nonclickbait_clean.drop(['label', 'label_encoding'], axis=1).values.tolist()\n",
    "nonclickbait_l_c = list(itertools.chain.from_iterable(df_nonclickbait_t))"
   ],
   "metadata": {
    "collapsed": false,
    "pycharm": {
     "name": "#%%\n"
    }
   }
  },
  {
   "cell_type": "code",
   "execution_count": 25,
   "outputs": [
    {
     "data": {
      "text/plain": "['masuk radar pilwalkot medan , menantu jokowi bertemu dpw nasdem sumut',\n 'malaysia sudutkan ri : isu kabut asap hingga invasi babi',\n 'kemensos salurkan rp 7 , 3 m bagi korban kerusuhan sosial di papua',\n 'mpr : amandemen uud 1945 tak akan melebar ke mana-mana',\n 'peringati tahun baru islam , banyuwangi kembali gelar festival muharam',\n 'wanita asal kendari nyaris diperkosa di jalanan makassar , pelaku diburu',\n 'hnw sebut gbhn jamin rencana pembangunan ri jangka panjang',\n 'jakpro jawab protes adhi karya soal tender proyek jis diberi ke wika',\n 'lokasi istana presiden ri di papua 15 menit lewat jembatan holtekamp',\n 'hiasan taman asia afrika di bandung rusak diterjang angin kencang',\n 'polemik pb djarum dan kpai , fadli zon : mestinya bisa dimusyawarahkan',\n 'pengacara ajukan penangguhan penahanan kivlan zen',\n 'eksepsi bassist boomerang hubert henry dalam kasus ganja ditolak hakim',\n 'jenguk bj habibie di rspad , kepala bppt : beliau semangat recovery',\n 'jk jenguk habibie di rspad gatot soebroto',\n 'sebuah mobil tertimpa pohon di pondok indah , pengemudi terluka',\n 'demokrat akan bangun museum dan art gallery sby-ani di pacitan',\n 'mendagri jamin pelaksanaan uu otsus di papua dilanjutkan',\n 'tegaskan dukung pemerintah , pd : kami tak pernah kenal oposisi',\n 'peredaran snack tanpa izin dibongkar , omzet sebulan capai rp 1 , 5 miliar',\n 'mayat pria ditemukan di kalimalang bekasi , diduga korban tenggelam',\n 'pesan anak habibie ke penjenguk : mohon dimengerti , bapak perlu istirahat',\n 'kpk curhat pencegahan korupsi tak dianggap : banyak uang negara diselamatkan',\n 'act inisiasi gerakan nasional #indonesiadermawan',\n 'demokrat dukung langkah jokowi bangun istana di papua',\n 'menkum ham sudah kaji draf revisi uu kpk',\n 'mpr gelar diskusi evaluasi pelaksanaan uud di yogyakarta',\n 'kpk tanggapi dpr : penegakan hukum tak boleh terikat komitmen politik',\n 'pengacara sebut dakwaan kivlan zen dipaksakan',\n 'polisi belanda tembak mati istri dan 2 putrinya lalu bunuh diri',\n '6 perampok bersebo tembak warga hingga tewas di sumsel',\n 'tepis jadi penyebab tunggal kabut asap , ri akan surati malaysia',\n 'jokowi diminta mekarkan wilayah papua , jk : ada undang-undangnya',\n 'kadis pu dan 2 pns kabupaten mandailing natal ditahan kejati sumut',\n 'banding ditolak , hak politik eks bupati katingan dicabut hakim',\n 'kecelakaan beruntun 4 kendaraan di lenteng agung , 2 pemotor luka-luka',\n 'kpk bongkar mafia migas : transaksi lintas negara , tak mudah diungkap',\n 'diawasi di hong kong , aktivis joshua wong terbang ke berlin',\n 'anggota dprd surabaya gadaikan sk sebagai jaminan untuk potong gaji',\n 'ical jenguk bj habibie di rspad : kita doakan yang terbaik',\n '175 orang dan 4 korporasi jadi tersangka karhutla di sumatera-kalimantan',\n 'fenomena gadai sk anggota dewan juga terjadi di dprd serang',\n 'akademisi dan mahasiswa unair tolak revisi uu kpk',\n 'pegawai kpk surati fraksi di dpr , minta tak pilih capim yang lemahkan kpk',\n 'ekoturisme : pelajaran besar dari negara kecil',\n 'refleksi 5 tahun dpd ri , oso : kami ada untuk daerah',\n 'mui riau : pelaku karhutla orang tak taat beragama',\n 'penyelundupan 19 . 253 benih lobster tujuan singapura digagalkan di makassar',\n 'kecelakaan beruntun dan truk terbakar di cipularang , 2 orang luka',\n 'banyak berita negatif , hnw khawatirkan moral bangsa indonesia',\n 'kpk harap jeratan eks dirut petral bisa buka kotak pandora mafia migas',\n 'hamas tembak jatuh drone israel di jalur gaza',\n 'jpu keberatan kivlan zen didampingi kuasa hukum dari militer',\n 'dishub minta polda data kebutuhan e-tle di area perluasan ganjil genap',\n 'polisi olah tkp kecelakaan maut tewaskan 3 orang di nganjuk',\n 'uang miliaran rupiah milik pemprov sumut hilang , polisi turun tangan',\n 'menkum ham soal cabut paspor veronica koman : ada ketentuannya',\n 'lipi desak jokowi tolak revisi uu kpk yang lumpuhkan kinerja kpk',\n 'kasus penyerangan ditutup , pemotor naik trotoar tetap ditilang',\n 'bareskrim tangkap 2 pembobol yang rugikan bank bumn rp 16 miliar',\n 'datang ke pembekalan caleg terpilih demokrat , sby beri arahan tertutup',\n 'aktivis perempuan nilai ruu pks tersandera oleh ruu kuhp',\n 'belum teridentifikasi , 4 korban kecelakaan cipularang diduga perempuan',\n 'siswi smk bandung ditikam dekat sekolah karena tolak cinta pelaku',\n 'jika tak kunjung penuhi panggilan , veronica koman bakal jadi dpo',\n 'polisi simpulkan bos sembako di cilegon tewas bunuh diri',\n 'menengok pantai mustika banyuwangi',\n 'asap pekat selimuti riau , pemprov gelar salat minta hujan besok',\n 'soal kontrak politik capim kpk , fahri sebut agar taat undang-undang',\n 'caketum hipmi : pengusaha ri harus punya jiwa nasionalisme yang kuat',\n 'kpu solo ajukan dana rp 17 , 8 m untuk pilwalkot 2020',\n 'utusan khusus presiden akan gelar munas tokoh antaragama',\n 'panggil veronica koman , polisi tunggu hingga dua pekan ke depan',\n 'kpk tetapkan eks pejabat pertamina energy tersangka mafia migas',\n 'dipeluk istri sebelum jalani sidang , kivlan zen menangis',\n 'icw : jangan pertaruhkan kpk , pak jokowi',\n 'bocah di bekasi disebut tewas karena bully , kpad imbau keluarga melapor',\n 'jk soal revisi uu kpk : penuntutan tak perlu koordinasi dengan jaksa agung',\n 'komisi iii dpr pastikan tampung semua masukan soal capim kpk',\n 'tokoh papua yang diundang jokowi eks timses , istana : kebetulan saja',\n 'wagub jabar minta pekerja di lingkungan pemprov jabar daftar bpjs tk',\n 'anak dan cucu berkumpul temani bj habibie di rspad gatot soebroto',\n 'gara-gara puntung rokok , 28 hektare lahan di sulteng terbakar',\n 'topan faxai hantam jepang , 17 . 000 penumpang telantar di bandara narita',\n 'gajah mengamuk ketika ikut festival agama di sri lanka , 18 terluka',\n 'waduk pacal di bojonegoro surut , lahan pertanian di 4 kecamatan kekeringan',\n 'komisi iii dpr gelar rdpu tampung masukan soal seleksi capim kpk',\n 'hut ke-70 , brigif raider 13 ziarah ke makam bupati galuh ciamis',\n 'pesan kpk ke jokowi : pembangunan tak tercapai jika masih digerogoti korupsi',\n '40 perguruan tinggi muhammadiyah se-indonesia tolak revisi uu kpk',\n '1 . 904 pelanggar ditilang di hari perdana perluasan ganjil-genap kemarin',\n '4 bulan lagi polrestabes surabaya punya tempat parkir bertingkat',\n 'sepekan dilantik , anggota dprd jabar gadai sk ke bank',\n 'poyuono : jelas , pemerintah-dpr revisi uu kpk agar mudah rampok uang negara',\n 'ratusan mahasiswa surabaya dukung revisi uu kpk',\n 'abraham samad : jokowi harus minta dpr setop pembahasan revisi uu kpk',\n 'satgas karhutla investigasi penyebab kebakaran kebun tebu ptpn vii ogan ilir',\n 'fenomena anggota dewan gadaikan sk , di dprd surabaya juga ada',\n 'anies anggap perbaikan udara jakarta lewat ganjil genap tak bisa instan',\n 'tepis kabar bully , polisi sebut bocah meninggal di bekasi akibat tetanus',\n 'tokoh papua bicara ke jokowi soal persaingan penduduk dan lingkungan',\n 'kritik revisi uu kpk , rektor ipb-pemuka agama tolak pelemahan kpk',\n 'menggalang pembiayaan ibu kota baru',\n 'pasukan kostrad dikerahkan untuk tangkap pelaku karhutla di riau',\n 'satu-satunya korban selamat kecelakaan maut di nganjuk diciduk kasus narkoba',\n 'home industry arak di sidoarjo digerebek , dua orang diamankan',\n 'jokowi ke papua lagi paling telat oktober , resmikan jembatan holtekamp',\n 'trump umumkan perundingan damai dengan taliban sudah mati',\n 'jokowi janjikan 1 . 000 sarjana papua bekerja di bumn-perusahaan besar',\n 'ibu bayi yang kaki-tangannya putus di tangerang serahkan diri ke polisi',\n 'melihat ke belakang pengusutan kpk soal mafia migas terkait petral',\n 'banyuwangi dan perawat kolaborasi bikin sehat usaha wisata warga',\n 'dua korban kecelakaan maut di nganjuk ternyata dpo kasus narkoba',\n 'kabut asap bikin penerbangan di banjarmasin terganggu',\n 'tokoh papua minta jokowi bangun istana presiden di papua',\n 'jaksa kpk minta ma tolak pk novanto',\n 'tata cara umroh , urutan , dan bacaannya',\n '40 persen dewan ciamis gadaikan sk , ketua : daripada mencuri uang negara',\n 'seputar kecelakaan maut di jalur nganjuk-madiun yang tewaskan 3 orang',\n 'pj walkot makassar sebut rilis edaran antisipasi syiah rekomendasi mui',\n 'dipimpin ibas , demokrat gelar pembekalan anggota legislatif 2019-2024',\n 'jokowi : tahun depan istana presiden di papua mulai dibangun',\n 'jokowi undang tokoh papua ke istana hari ini',\n 'china geram atas pernyataan menlu as soal perlakuan terhadap uighur',\n 'oso soal revisi uu kpk : tentunya kita tidak akan melemahkan',\n '154 pelanggar ditilang di jakbar , alasannya tidak tahu ganjil genap',\n 'gubernur khofifah gandeng isei kembangkan one pesantren one product',\n 'sby jenguk bj habibie di rspad gatot soebroto',\n 'hut ke-74 , tni al akan terus tingkatkan sdm untuk indonesia maju',\n 'buka luwur sunan kudus , ribuan paket nasi berkat dibagikan',\n 'pdip nilai pidato kontemplasi sby sejalan dengan ide jokowi',\n 'pelemahan kpk dan masa depan demokrasi kita',\n 'kpk panggil wakil ketua komisi xi terkait kasus anggota dpr f-pan',\n 'kabut asap pekat di riau tak ganggu penerbangan',\n 'petugas cek pajak pelanggar ganjil genap hingga bagi-bagi cokelat',\n 'tim pelajar dki raih juara dua di olimpiade metropolis moskow',\n 'status tersangka veronica koman disoal , polri : ada praperadilan',\n 'pemkab ponorogo ajukan 531 formasi untuk cpns dan p3k',\n 'masih ada yang tak tahu ganjil genap , dishub : sosialisasi sudah maksimal',\n 'dishub dki : perluasan ganjil genap tingkatkan pengguna sepeda motor',\n 'asap karhutla tambah parah , jarak pandang di riau 800 meter',\n 'perluasan ganjil genap , dishub : volume lalu lintas turun signifikan',\n 'aktor intelektual rusuh papua dicari satu-satu',\n 'kpk umumkan tersangka kasus mafia migas terkait petral siang ini',\n 'puntung rokok , pembalut bekas , ada ratusan kilo sampah di pantai gold coast',\n 'asap pekat kepung pekanbaru , polantas bagikan masker ke pengendara',\n 'santri di probolinggo sambut 10 muharam dengan pawai obor',\n 'beda 2 eks komisioner kpai soal polemik dengan pb djarum',\n 'ratusan keluarga di queensland mengungsi hindari kebakaran yang kian memburuk',\n 'penerapan tilang elektronik di busway ditargetkan oktober 2019',\n 'dangdutan maut tewaskan 2 pria di bekasi , 4 pelaku ditangkap',\n 'jadi contoh tak baik , pemotor serang pejalan kaki di trotoar minta maaf',\n 'kebakaran gudang di penjaringan padam , kerugian ditaksir rp 2 m',\n 'atasi kabut asap dari indonesia , malaysia rencanakan hujan buatan',\n 'polisi bongkar perdagangan wanita di kepri , korbannya dijadikan psk',\n 'gegara potong kabel , anies disomasi apjatel',\n 'anggota baleg dpr : revisi uu kpk seimbangkan pencegahan dan penindakan',\n 'john chardon terbukti bersalah atas kematian istrinya novy',\n 'kpai : pengembangan bakat bulutangkis harus tetap jalan sesuai regulasi',\n 'berharap tak mati , kpk minta yasonna hati-hati',\n 'korut nyatakan siap bertemu as bahas denuklirisasi akhir september',\n 'bmkg prediksi cuaca jakarta cerah hari ini',\n 'polri akan teruskan pengajuan red notice veronica koman ke interpol',\n 'sebut personel polres jakbar satpam , ampg pro bamsoet akan dipolisikan',\n 'asap pekat , siswa sd di pekanbaru tetap sekolah',\n 'petani blitar biarkan tomat membusuk karena harga anjlok',\n 'dishub dki : perluasan ganjil genap hari pertama perbaiki kualitas udara',\n 'sby ajak rakyat dukung jokowi , istana : bentuk kesantunan politik',\n 'hari asyura , pemkot makassar rilis edaran antisipasi penyebaran syiah',\n 'polisi periksa kadis tersangka pencium pipi staf saat selfie pekan ini',\n 'bahas seleksi capim kpk , komisi iii akan temui koalisi masyarakat sipil',\n 'pabrik tiner di kalideres terbakar , 15 mobil damkar dikerahkan',\n 'sby ajak rakyat dukung jokowi , ppp : simpatik dan negarawan',\n 'jenguk bj habibie , sby batal buka pertemuan nasional fraksi demokrat',\n 'kualitas udara makin buruk , libur siswa sd di jambi diperpanjang',\n 'curhat warga desa digital di sukabumi , berburu sandi untuk wi-fi gratis',\n 'ada bus transj ditabrak mobil , lalin menteng arah rasuna said macet',\n 'pelanggar di jalur perluasan ganjil genap jakpus masih banyak',\n 'besok , polisi panggil ketum fpi terkait kasus dugaan makar',\n 'anggota dprd banten ramai-ramai gadai sk , pimpinan : itu ranah pribadi',\n 'bupati bogor ingin pemprov dki ikut bantu tangani sampah di kalibaru',\n 'polisi cek kebenaran kasus bocah di bekasi yang disebut tewas akibat bully',\n 'ibas banggakan kinerja sby , minta caleg terpilih demokrat jadikan contoh',\n 'korut tembakkan proyektil tak dikenal usai tawarkan dialog dengan as',\n 'airlangga tegaskan golkar bukan inisiator revisi uu kpk',\n 'kabin budi gunawan buka pertemuan jokowi dan 61 tokoh papua di istana',\n 'pemimpin hong kong ingatkan as jangan ikut campur soal aksi demo',\n 'pj walkot makassar minta edaran antisipasi syiah disikapi dengan tenang',\n 'cerita jokowi 12 kali ke papua : provinsi lain maksimal 3 kali',\n 'dari mantan atlet , artis hingga netizen ramai-ramai bela pb djarum',\n 'aspirasi tokoh papua : pak jokowi , generasi muda kami jangan dihukum',\n 'air pdam 60 ribu warga mampet dampak pembangunan alun-alun suroboyo',\n 'menlu bicara pentingnya diplomasi digital untuk kerja sama ekonomi',\n 'barang impor tanpa izin senilai rp 8 miliar dimusnahkan',\n 'polres sumedang buru penyebar video porno pasangan dewasa',\n 'kpu ungkap kendala 18 kpu daerah usulkan nphd pilkada',\n 'polres bogor kejar perampok bercelurit di rumah makan gratis untuk duafa',\n 'saat airlangga-siswono bicara soal revisi uu kpk dan seleksi capim',\n 'ketum fpi dipanggil terkait makar besok , pengacara minta jadwal ulang',\n \"kepala bppt doakan bj habibie ' eyang intelektual ' segera pulih\",\n 'hotel , kafe , rumah sakit di surabaya batasi air dampak pdam mampet',\n 'ptun : pemkot cimahi harus batalkan imb guest house di setra duta',\n 'pimpinan bank bumn di purbalingga jadi tersangka kredit fiktif rp 28 m',\n 'tokoh papua : benny wenda tak berhak atur nkri',\n 'kebakaran rumah di grobogan , pria penderita stroke tewas terbakar',\n 'lahan istana kepresidenan di papua segera disertifikatkan',\n 'daripada kritik pb djarum , kpai diminta fokus urus anak jalanan',\n 'alasan anggota dprd banten gadaikan sk : renovasi rumah-bayar kuliah anak',\n 'pengurus golkar protes perubahan prosedur rapat korbid',\n 'pemkot bandung evaluasi program street library yang digagas ridwan kamil',\n 'poyuono ajak rakyat kepung dpr-istana tolak revisi uu kpk',\n 'dishub dki : uji coba ganjil genap 3 minggu kemarin , kendaraan turun 25 %',\n 'siap sekali jalani sidang , kivlan zen ke pengadilan pakai kursi roda',\n '3 orang tewas dalam drama penembakan keluarga di belanda',\n 'anggota dprd surabaya gadai sk ke bank , ketua : itu wajar',\n \"laporan dicabut , kasus ' mobil goyang ' di halaman pengadilan berakhir damai\",\n 'siswi smk bandung dilarikan ke rs gegara ditikam dekat sekolah',\n 'putra bj habibie : apa pun yang terjadi terbaik buat bapak saya',\n 'puro pakualaman gelar upacara hajad dalem labuhan di pantai glagah',\n 'permukaan air susut , bekas desa di dasar waduk gajah mungkur muncul',\n '270 panwaslu telah usulkan nphd pilkada 2020',\n 'pdip jatim buka pendaftaran pilkada hingga 14 september',\n 'anggaran erp akan masuk apbd dki 2020',\n 'dua kecelakaan di tol cipularang , truk terbakar di km 91',\n 'truk oleng di tanjakan emen , satu penumpang tewas',\n 'jk soal efek kpk : pejabat bumn bukan lagi hati-hati , tapi sudah takut',\n 'perampok di rm gratis untuk duafa di bogor sempat dikira mau minta makan',\n 'jokowi diminta mekarkan wilayah papua , wiranto : masih masukan',\n 'google dan pajak media digital asing',\n 'ibas yudhoyono : kpk tak boleh dilemahkan , harus diperkuat !',\n 'kivlan zen didakwa kasus 4 senpi ilegal dan peluru tajam',\n 'jaksa ungkap duit ratusan juta habil marati ke kivlan zen cs',\n 'pesan habil marati soal duit senpi ke kivlan cs : ini untuk bangsa , tetap semangat',\n 'kivlan zen sebut kaliber 22 buat tikus , minta cari senpi baru sebelum pemilu',\n 'tersangka mafia migas bikin penampung duit suap di british virgin island',\n 'kasus mafia migas eks bos petral , kpk sudah geledah 5 lokasi',\n 'jk sebut jokowi segera kirim surat presiden ke dpr bahas revisi uu kpk',\n 'puluhan rumah di bantaran bengawan solo terancam terbawa longsor',\n 'ajukan eksepsi , kivlan zen : dakwaan tidak benar !',\n 'di komisi iii dpr , ipw cs dukung hasil pansel capim kpk',\n 'wali kota cirebon minta instansi swasta pasang cctv untuk intai penjahat',\n 'terdampak tol desari , jalan tanah baru depok akan diperlebar tahun ini',\n 'penyelundupan 74 ekor burung dilindungi berhasil digagalkan',\n 'angka aman pemangkasan pph korporasi',\n '9 pasangan mesum di buleleng bali terciduk operasi yustisi',\n 'seratusan karyawan pabrik boneka di sukabumi keracunan makanan',\n 'banyuwangi raih penghargaan dari kemenkum ham',\n 'polisi selidiki dari dan ke mana veronika koman alirkan dananya',\n 'gubernur edy rahmayadi ingin sungai deli seperti di rusia',\n 'pengakuan bos investasi bodong mojokerto yang rugikan korban hingga rp 7 m',\n 'sidang habil marati ditunda gara-gara tak didampingi pengacara',\n 'diminta jadwal ulang pemeriksaan , polisi tunggu kehadiran ketum fpi besok',\n 'garbi akan jadi partai gelora , fahri hamzah ikut bergabung',\n 'disebut ikut danai pembelian senpi kivlan , habil marati : semua fitnah',\n 'jk soal banyaknya ott kpk : kalau makin kurang itu prestasi',\n 'anggota komisi iii dpr ngaku dilobi pendukung capim kpk , tapi tak terima',\n 'mengaku dihamili , wanita asal blitar adukan kades ke polisi',\n 'penyandang disabilitas ikut penjaringan bacabup-bacawabup jember',\n 'aksi mahasiswa uns peringati kematian munir : jokowi tak serius',\n 'fadli zon pastikan sandiaga akan gabung lagi ke gerindra',\n 'kecelakaan maut di nganjuk tewaskan 3 orang , 10 saksi diperiksa',\n 'menteri lhk soal kabut asap di malaysia : jangan bilang hanya dari indonesia',\n 'munarman : tak di kertanegara 17 april , ketum fpi bingung dipanggil polisi',\n 'warga wonogiri tewas terbakar saat bersihkan pekarangan',\n 'dprd usul posisi wagub dki jakarta lebih dari satu orang',\n 'polisi : hari kedua ganjil genap di jl rs fatmawati , pelanggaran turun',\n 'ibu yang buang bayi mengenaskan di tangerang seorang mahasiswi',\n 'bantah media malaysia , bmkg : tak ada asap karhutla lintasi kuala lumpur',\n 'dipastikan gabung lagi ke gerindra , sandiaga akan bicara dengan prabowo',\n 'intelijen militer jerman perluas penyelidikan pengaruh ekstrem kanan',\n 'diduga korban tabrak lari , sati tewas di tol tb simatupang pagi tadi',\n 'hinca : sby minta kader pd pastikan pemerintahan jadi lebih baik',\n 'putra bj habibie : bapak tidak kritis , sudah stabil dan perlu istirahat',\n 'mobil crane ambruk timpa kapal di pelabuhan semarang',\n 'pria oknum pns diduga cabuli 4 gadis di bawah umur di sleman',\n 'buka career expo , gubernur khofifah kenalkan mobile training unit',\n 'putra habibie : bapak lemas karena beraktivitas terlalu banyak',\n 'pelaku pelecehan seksual di krl diamankan di stasiun duren kalibata',\n 'ketua dpr ingin penanganan papua lebih progresif',\n 'eks gubernur aceh abdullah puteh divonis 1 , 5 tahun penjara kasus penipuan',\n 'kasus dugaan penipuan rp 7 , 5 m , eks ketua hipmi sultra ditangkap',\n 'sandiaga bakal balikan dengan gerindra',\n 'keluarga akan batasi kunjungan tamu jenguk bj habibie',\n 'bermodal ganjil genap , anies perangi polusi bertahap',\n 'divonis 1 , 5 tahun bui , eks gubernur aceh abdullah puteh banding',\n 'air pdam mampet 4 hari , risma : kalau nggak gitu telkom bisa blackout',\n 'latihan gabungan , paskhas tni au terjun rebut bandara banyuwangi',\n 'taman nasional gunung merbabu terus pantau kebakaran hutan',\n 'ada kendala laa di stasiun klender , krl jatinegara-cakung terganggu',\n 'pengacara tak hadir , sidang 4 gugatan praperadilan kivlan zen ditunda',\n 'gempa m 3 , 4 terjadi di palu',\n 'mpr ikut ramaikan festival konstitusi dan anti korupsi di ugm',\n 'pemkot parepare akan gelar zikir doakan kesembuhan bj habibie',\n 'revisi uu kpk disebut bikin anggota dpr kebal hukum',\n 'wagub jabar uu sesalkan ada penusukan santri di cirebon',\n 'bayi mengenaskan di tangerang sempat dikubur ibunya sebelum dibuang',\n 'kualitas udara kota jambi malam hari masuk kategori berbahaya',\n 'pemprov dki danai pembangunan park and ride di bekasi 2020',\n 'kpk respons tudingan zalim adik imam nahrawi : ada 2 bukti kasus',\n 'kpk dalami aliran duit suap eks menpora imam nahrawi',\n 'pertamina kucurkan dana rp 625 juta atasi kebakaran di riau',\n 'fit and proper test capim kpk lanjut , giliran i nyoman wara diuji',\n 'kasus jasmas di surabaya , anggota dprd minta penyidikan yang objektif',\n 'pertemuan bilateral awali kegiatan menlu di high level week sidang umum pbb',\n 'malam-malam , sekdes-tni cek gunung sampah di pinggir kali ciliwung cilebut',\n 'stasiun mrt akan tampilkan ragam seni budaya indonesia',\n 'tangkap perusuh di slipi jakbar , seorang polisi terluka dipukul massa',\n 'kapolrestabes medan : jangan ada hoax , tidak ada yang meninggal',\n 'massa pro revisi uu demo di kpk , pesertanya ikut apa kata korlap',\n 'polisi prioritaskan perbaikan rumah warga yang rusak',\n 'randi mahasiswa halu oleo tewas tertembak , imm aksi tutup jl menteng raya',\n 'uang rp 1 , 6 m raib , 3 pejabat pemprov sumut dinonaktifkan',\n 'massa aksi di depan kpk bubarkan diri',\n 'berduka , tgb kenang beasiswa habibie saat kuliah di kairo mesir',\n 'minta pengesahan rkuhp ditunda , pemerintah gunakan waktu untuk sosialisasi',\n 'polri ungkap kronologi rusuh maut di jayapura , aparat diserang lebih dulu',\n 'petugas dishub laporkan aksi pemukulan driver ojol di senen ke polisi',\n 'memanas , mahasiswa penolak uu kpk baru-rkuhp lempar botol-dorong pagar',\n 'belum ada pengelola , pedagang hi-tech mall hanya bayar listrik dan air',\n 'rusuh wamena , 16 orang warga tewas',\n \"kordum ' gejayan memanggil ' bantah aksi ditunggangi kepentingan politik\",\n 'kpai minta polri kejar penyebar undangan pelajar untuk aksi ke dpr',\n 'waria spesialis pembobol vila di bali dituntut 1 , 5 tahun penjara',\n 'resah gelandangan bakal didenda , anak punk demo di jalan gatot subroto',\n 'jauhi pantai , warga ngungsi ke dataran tinggi gegara gempa ambon',\n 'warga riau terdakwa kasus narkoba divonis mati di pn medan',\n 'polisi tetapkan 27 tersangka pembakar lahan di sumsel',\n 'polres banyuwangi gelar expo untuk kendaraan warga yang hilang',\n 'satu tewas , seorang mahasiswa halu oleo kendari lainnya kritis',\n 'gelombang demo se-indonesia tolak uu kpk dan 4 ruu , jokowi lempar ke dpr',\n \"bubarkan diri , peserta aksi ' gejayan memanggil ' punguti sampah\",\n 'pemkot surabaya tawarkan pengelolaan hi-tech mall rp 18 , 5 m',\n 'ribuan warga bantul gelar kirab siwur jelang upacara nguras enceh',\n 'satgas karhutla pemprov dki akan dikirim ke kalteng',\n 'jelang pilkada 2020 , 3 . 412 warga sleman belum rekam e-ktp',\n 'demo tolak ruu kuhp juga digelar ribuan mahasiswa tulungagung',\n 'polri dalami kasus mahasiswa halu oleo yang tewas tertembak saat demo',\n 'sebulan berlalu , polisi terus buru perampok rm gratis bagi duafa di bogor',\n 'empat tangki air padamkan api yang keluar dari tanah di ponorogo',\n 'kadernya tewas saat berdemo di kendari , imm kecam keras tindakan represif',\n 'gunung merbabu masih membara , 600 ha lahan hangus terbakar',\n 'polisi pasang police line di lahan yang tanahnya keluarkan api',\n 'disdik sulsel : 213 pelajar yang ikut demo diamankan di polda',\n 'minta polisi tenang hadapi demo mahasiswa , prabowo contohkan prancis',\n 'al-azhar doa bersama untuk kesembuhan faisal amir , mahasiswa kampus lain hadir',\n 'konvoi pelajar serang polisi di medan , 5 orang diamankan',\n 'dokter pastikan mahasiswa halu oleo tewas tertembak',\n 'mahasiswa universitas halu oleo tewas tertembak saat demo',\n 'bmkg prediksi musim kemarau bisa berlanjut hingga november',\n 'ricuh demo depan unhas , polisi amankan sejumlah massa aksi',\n 'diduga danai aktivitas terorisme , 3 prt indonesia ditahan di singapura',\n 'penunggak pajak di kota bandung capai rp 1 triliun',\n '35 orang tewas di pesta pernikahan akibat serangan pasukan afghanistan',\n 'pemprov jambi : banyak buka lahan dibakar , kesadaran harus ditingkatkan',\n 'jelang hari jadi kota bandung , penataan pkl cicadas baru 40 persen',\n 'wamena rusuh , 7 polisi terluka karena serangan panah',\n 'bmkg : titik panas masih terpantau di kalteng-kalsel-kaltim',\n 'pemadaman karhutla di muba sumsel terkendala akses sulit',\n 'gerindra jateng jajaki koalisi dengan pdip di pilkada 2020',\n 'spanduknya bertebaran di solo , gibran : bentuk dukungan masyarakat',\n 'jaksa kpk cecar sofyan basir soal pertemuan dengan setya novanto',\n 'mpr sidang akhir masa jabatan 27 september , sahkan tatib 10 pimpinan',\n 'wamena rusuh , polisi : knpb berbaju seragam sma susupi aksi pelajar',\n 'bawa 45 bukti , kpk yakin penetapan tersangka bupati kudus sesuai prosedur',\n 'parkir sepeda motor penuh , ribuan mahasiswa jalan kaki ke dprd jatim',\n 'ambulans sempat dituduh bawa batu , pemprov dki minta rehabilitasi nama baik',\n 'terobos barikade polisi , mahasiswa-pelajar duduki gedung dprd sultra',\n '6 mahasiswa unjani ditangkap di jakarta , demonstran turun ke jalan',\n 'ruu kuhp tak dibatalkan , tukang gigi di jabar ancam geruduk dpr ri',\n 'kebakaran bedeng proyek di kemayoran jakpus , 9 mobil damkar dikerahkan',\n 'polisi sebut awal mula rusuh di wamena dari bentrok massa dan pelajar',\n 'polisi kini akui ada kesalahpahaman soal ambulans dki : tak bawa batu',\n 'tuntut ditemui anggota dprd , mahasiswa injak kawat berduri dan lempar botol',\n 'semarak oktoberfest , festival dan pesta bir terbesar dunia di munchen',\n 'ngaku diundang mahasiswa ikut demo , pelajar di cilegon diamankan polisi',\n 'tiba di kantor dprd sulsel , massa pelajar disambut mahasiswa',\n 'cerita mata najwa , kirim undangan terbuka ke ketua dpr',\n 'demo mahasiswa-pelajar ricuh , massa lempar batu ke gedung dprd sulsel',\n 'australia gagalkan penyeludupan 5 ton daun tembakau dari indonesia',\n 'menteri yohana larang pelajar demo lanjutan ke dpr',\n 'unilever akui rexona sebabkan kematian lima orang di australia',\n 'polda jateng akan disposal bahan peledak di 5 tempat penyimpanan',\n 'praperadilan bupati kudus , ahli paparkan pengertian tangkap tangan',\n 'diduga rusak mobil polisi , 8 pelajar diperiksa di polres bogor',\n 'pejabat kehutanan meninggal saat presentasi di rapat dengan menhub',\n 'awkarin dan pengikutnya turun ke jalan , pungut sampah sekitar dpr',\n 'singgung ruu kpk di simposium , prabowo : mungkin korupsi di ri menurun',\n 'kapolri : 1 perusuh tewas kekurangan oksigen , bukan pelajar atau mahasiswa',\n 'pelajar di makassar yang diamankan saat ingin demo masih di polda',\n 'meski disiram air , api yang keluar dari tanah di ponorogo tak padam',\n 'wiranto : demo rusuh bertujuan gagalkan pelantikan presiden',\n 'tanah yang keluarkan api di ponorogo bekas ditanami jagung dan ketela',\n 'anies percaya ambulans yang diamankan polisi tak langgar sop',\n 'aparat kembali siaga di jl gatsu dekat gedung dpr siang ini',\n 'wiranto deteksi gerakan baru di balik demo , ingin jatuhkan pemerintah',\n 'kemenpan setuju mal pelayanan publik bandung dibuat di pasar kosambi',\n \"geruduk dprd kudus , mahasiswa bacakan puisi wiji thukul ' peringatan '\",\n 'texas suntik mati seorang pria yang bunuh istri dan 2 anak tirinya',\n 'mutilasi kekasihnya , prada deri dihukum penjara seumur hidup',\n 'bolos demi demo , pelajar stm garut : kita protes undang-undang',\n 'dpr sahkan 5 anggota bpk hasil uji kelayakan komisi xi',\n 'dewan pers kutuk kekerasan terhadap jurnalis peliput demo',\n 'ratusan pelajar di tiga kota bergerak ikut aksi demo di dprd jatim',\n 'temui massa , ketua dprd wonosobo janji teruskan tuntutan mahasiswa ke dpr',\n '570 pelajar yang sempat demo di dpr dikembalikan ke orang tua',\n 'muhammadiyah diy keluarkan edaran merespons seruan demo pelajar',\n 'anies minta kepala sekolah cek keberadaan siswa usai ricuh demo di dpr',\n 'ruu kks : bssn bisa jadi saksi ahli forensik digital',\n '3 orang meninggal dunia akibat gempa ambon',\n 'wartawan korban pemukulan aparat di makassar lapor ke propam polda sulsel',\n 'menristek sebut sebagian aksi mahasiswa ditunggangi kepentingan lain',\n 'massa mahasiswa wonosobo bergerak geruduk gedung dprd',\n 'ribuan mahasiswa kepung kantor dewan surabaya sebelum ke dprd jatim',\n 'paripurna pengesahan ruu perkoperasian hanya dihadiri 75 anggota dpr',\n 'polisi tetapkan 40 tersangka demo ricuh di dprd sumut',\n 'gempa m 6 , 5 ambon , jembatan hingga kantor pemerintah rusak',\n 'karhutla tak cukup hanya jerat pidana',\n 'ribuan mahasiswa surabaya bergerak , arus lalu lintas merambat',\n 'kapolda jateng minta mahasiswa imbau agar pelajar tidak ikut demo',\n \"soal cuti ' rekreasi ' ruu pas , kemenkum ham jabar : nonton tv di lapas\",\n '2 orang jadi korban jiwa gempa m 6 , 5 di ambon',\n 'rumah warga dilahap api di tegal , seorang kakek tewas terbakar',\n 'anies apresiasi petugas ambulans dki : mereka berada di tempat menegangkan',\n 'rspp : 2 mahasiswa korban demo ricuh di dpr bakal dipulangkan , 1 orang dirawat',\n 'fahri minta penolak uu kpk bersikap jantan : tunjukkan kajiannya !',\n 'anies : pekerjaan petugas ambulans tak sederhana , ada potensi kena fitnah',\n 'karhutla , pembusukan politik , dan pembangunan berkelanjutan',\n 'kasus suap antar-bumn , kpk kembali panggil presdir ap ii',\n 'ratusan pelajar makassar dirazia saat ingin berdemo di dprd sulsel',\n 'ketua dpr : belum selesai dibahas , pengesahan ruu p-ks ditunda',\n 'rombongan mahasiswa dan pelajar mulai bergerak menuju dprd jatim',\n 'kapolda jatim tegaskan tak ada kekerasan saat amankan aksi demo',\n '11 korban demo pelajar di rs pelni dipulangkan',\n 'presiden iran serukan arab saudi hentikan serangan militer di yaman',\n 'sempat terganggu imbas demo ricuh , krl rangkasbitung-tn abang normal lagi',\n 'prof romli nilai kpk era agus rahardjo cs tak lagi miliki legitimasi',\n '15 kecamatan di dki berpotensi kekeringan , anies bentuk satgas air bersih',\n 'sekolah dan dispendik sidoarjo bentengi siswa dari hoaks ajakan demo',\n 'beredar pesan berantai ajakan demo untuk pelajar smp di brebes',\n 'gempa terjadi lagi di ambon , magnitudo 3 , 2',\n 'rs pelni : kondisi faisal amir cukup baik , sudah dapat berkomunikasi',\n 'ahli : masyarakat pesimis jika uu kpk baru digugat ke mk',\n 'mahasiswa bergerak , alun-alun kudus mulai dipenuhi massa aksi',\n 'kasus suap impor ikan , kpk cegah 2 orang ke luar negeri',\n 'perlakuan china terhadap warga uighur dikecam as dan 30 negara lain',\n 'pelajar demo rusuh di dpr , bem unj : semoga ini bukan dimanfaatkan oknum',\n 'menhub : bandara has hanandjoeddin belitung akan dikelola ap ii',\n 'mahasiswa sayangkan demo pelajar diwarnai kericuhan hingga dini hari',\n '5 ambulans yang diamankan polisi milik pemprov dki , disebut angkut molotov',\n 'dampak gempa m 6 , 8 di ambon , jembatan retak-kampus rusak ringan',\n 'gibran butuh 35 ribu ktp jika ingin jadi cawalkot independen di solo',\n 'kabut asap di medan sudah hilang',\n 'kpai akan cek pelajar yang diamankan polisi usai demo ricuh',\n 'beredar ajakan siswa smk di surabaya ikut demo',\n 'jl gatsu dekat dpr ditutup , kendaraan dialihkan ke jl gerbang pemuda',\n 'gempa m 6 , 8 di ambon , warga panik mengungsi ke tempat yang lebih tinggi',\n 'polisi pemukul anggota dprd sumut diamankan , f-gerindra akan konfirmasi',\n 'bmkg : gempa m 6 , 5 ambon dipicu sesar aktif',\n 'ruu kuhp ditunda : kumpul kebo tidak dihukum , hina presiden tak dipidana',\n 'massa bubar di slipi , polisi bergerak ke arah tomang',\n \"kisah haru ibu cari anaknya yang ikut demo di dpr : pulang ' nak\",\n 'polisi tangkap puluhan orang di kemanggisan slipi jaya',\n 'polisi bubarkan massa di slipi , lalin kembali normal',\n 'gletser mont blanc berisiko runtuh , warga dusun alpine italia dievakuasi',\n 'ada pembersihan sisa demo , ruas tol dalkot depan dpr masih ditutup',\n 'keutamaan salat subuh berjamaah di masjid bagi laki-laki',\n 'kapolri dan panglima tni datangi lokasi rusuh di slipi',\n 'massa masih bertahan , kapolres jakbar temui tokoh warga di slipi',\n 'massa di palmerah lempar batu-botol kaca , polisi tembak gas air mata',\n 'lempari mobil barracuda pakai botol kaca , massa di slipi dihalau tni',\n '30 tahun usai tembok berlin diruntuhkan , jerman timur merasa rendah diri',\n 'massa di jalan ks tubun bubar , personel tni berjaga di slipi',\n 'massa bubar , kapolres jakbar masih pantau situasi slipi',\n 'kenal di aplikasi kencan , pria paruh baya tipu korban dengan modus dinikahi',\n 'di pbb , menlu retno paparkan saran perkuat kerja sama kontraterorisme',\n 'hari berganti , massa bertahan di slipi',\n '5 ambulans di pejompongan diamankan polisi , diduga terkait demo ricuh',\n 'dibuka usai pembersihan sisa demo , tol dalkot cawang-pancoran padat',\n \"aksi ' polisi bersepatu ' masuk masjid yang dikecam hingga diperiksa propam\",\n 'gempa m 5 terjadi di labuan bajo ntt',\n 'bem si bantah aksi mahasiswa ditunggangi',\n 'wali kota jakut koordinasi dengan polisi soal ambulans diduga bawa molotov',\n 'ada penutupan jalan , sejumlah rute transj setop operasi',\n 'gempa m 6 , 8 terjadi di ambon , tak berpotensi tsunami',\n 'dinas lh dki kerok bekas gosong di jl gatot subroto sisa kericuhan',\n 'pilkades serentak di sragen , nasib 465 cakades ditentukan hari ini',\n 'rektor unair tak larang mahasiswa ikut demo',\n 'waketum gerindra soal pemukulan anggota dprd sumut : harusnya polisi persuasif',\n 'mobil tabrak warung dan rumah di banyumas , 1 orang tewas seketika',\n 'upaya gencarkan wisata kepulauan seribu diapresiasi',\n 'akses di belakang dpr ke palmerah disekat beton , pemotor terjebak',\n 'mahasiswa tetap desak jokowi terbitkan perppu kpk : ri darurat korupsi',\n 'gempa kembali terjadi di ambon , kali ini m 5 , 6',\n '5 ribu kades di jabar ikuti jambore desa',\n '2 . 000 polisi amankan aksi #surabayamenggugat',\n 'komisi x minta polisi usut penyebab massa pelajar ricuh hingga dini hari',\n 'ambon diguncang gempa , warga ngungsi ke rumah dinas gubernur',\n 'dinas marga dki benahi separator busway di depan dpr',\n 'dpr gelar paripurna bahas pengesahan ruu perkoperasian yang diprotes petani',\n 'pdip : gibran masih bisa daftar wali kota solo via dpd-dpp',\n 'kpk panggil stafsus imam nahrawi terkait kasus dana hibah koni',\n 'kesaksian warga soal kematian balita korban kekerasan keluarga angkat',\n 'sidang vonis prada deri yang mutilasi fera oktaria dijaga ketat tni',\n 'sempat ditutup beton , akses ke jalan gelora belakang dpr dibuka kembali',\n 'gotong keranda , massa mahasiswa kudus bergerak dari alun-alun ke dprd',\n 'antisipasi demo ricuh , polisi pasang kawat berduri di kantor gubernur sumbar',\n 'anies soal ambulans dki diamankan polisi : jangan tergesa ambil kesimpulan',\n 'kebakaran lahan di mega kuningan , asap membubung tinggi',\n 'polisi pulangkan 56 mahasiswa karawang yang sempat ikut demo di dpr',\n 'anies soal ambulans di lokasi demo : kaca pecah , petugasnya terluka',\n 'golkar beri sinyal kuat dukung gibran maju ke pilkada solo 2020',\n 'anies soal ambulans diamankan polda : 4 milik pmi , 1 milik pemprov dki',\n 'kpk panggil pejabat pupr terkait kasus proyek air minum yang jerat rizal djalil',\n 'tni au evakuasi 14 korban dan pengungsi pascarusuh di wamena',\n 'polisi dalami penyebar pesan berantai yang ajak pelajar demo di makassar',\n 'sakit hati diduga jadi motif laporan palsu perkosaan mahasiswi ub',\n '5 pengedar narkoba jaringan lapas bandung dibekuk , satu ibu rumah tangga',\n 'ruu kuhp : komandan tni yang tolak beri bantuan ke sipil dipidana 4 tahun',\n 'polisi amankan pelajar yang hendak demonstrasi di makassar',\n 'tolak ruu kuhp , siswa stm-mahasiswa di kendari turun ke jalan',\n 'polisi periksa 4 pelaku vandalisme jelang aksi #surabayamenggugat',\n 'menteri nasir : jokowi minta mahasiswa diajak dialog baik-baik',\n 'menristek akan sanksi rektor jika ada pengerahan mahasiswa untuk demo',\n 'lewat event skala internasional , pemkab kenalkan simeulue ke dunia',\n 'polisi tangkap 2 pembakar lahan di oki',\n 'mahasiswa surabaya bergerak , dprd jatim jadi sasaran aksi demo',\n 'demo mahasiswa di aceh : jangan cuma kpk yang diturunkan , mahar juga',\n 'pengesahan ruu p-ks ditunda , komisi viii dpr : rkuhp jadi rujukan',\n 'ruu kks : ada ancaman kepentingan indonesia , negara bisa putus koneksi data',\n 'ancam kebebasan pers , jurnalis ciayumajakuning demo tolak rkuhp',\n 'ibu yang inses dengan dua puteranya dan bunuh balita tidak sakit jiwa',\n 'terancam dikriminalisasi , ratusan tukang gigi demo tolak ruu kuhp',\n 'mahasiswa dan pelajar bergabung dalam aksi #magelangbergerak',\n 'merangsek ke dprd kalsel , mahasiswa jebol barikade polisi',\n '500 anggota jemaah nu geruduk pn blitar dukung pembacaan eksepsi tokohnya',\n 'mendikbud minta kepala daerah hingga ortu jaga anak agar tak ikut demo',\n 'selotip mulut , jurnalis kbb-cimahi tolak kekerasan dan rkuhp',\n 'mesir tangkap 1 . 000-an orang usai aksi demo gulingkan presiden sisi',\n 'melihat petugas dinas kehutanan rapikan tanaman yang terinjak massa demo',\n 'niat demo ke jakarta , seratusan pelajar smk cianjur diamankan polisi',\n 'bukan gibran , pengusaha muda yang dilobi pks jadi bakal cawalkot solo',\n 'polisi siapkan water cannon di enam titik demo #surabayamenggugat',\n \"demo mahasiswa di aceh bubar usai mahasiswa ' segel ' kantor dpra\",\n 'kapolri soal demo ricuh di dpr : mirip 21 mei , ada massa bayaran',\n 'puluhan wartawan sidoarjo demo tolak ruu kuhp dan kekerasan pada jurnalis',\n 'pks minta ruu kuhp tetap disahkan dengan penghapusan pasal kontroversial',\n 'dipenjara seumur hidup dan dipecat , prada deri pemutilasi kekasih menangis',\n 'karyawan salon jadi tersangka baru kasus seks gangbang garut',\n 'tni tegaskan solid bantu polri amankan demo anarkistis',\n 'panglima jelaskan soal gas air mata masuk ke mes pati tni al lumba-lumba',\n 'turun ke jalan , mahasiswa-pelajar tutup jalan urip sumoharjo makassar',\n \"ada ajakan ' indonesia bergerak ' , disdikpora diy : pelajar tetap sekolah\",\n 'pemprov beri pendampingan hukum ke petugas ambulans yang diamankan polisi',\n 'lemhannas soal demo ricuh di dpr : kebebasan tetap dibatasi rambu-rambu',\n 'polisi : 129 pelajar terpancing ajakan demo dpr yang dikirim via medsos',\n 'bmkg prediksi musim hujan di jatim akan mulai pada awal oktober',\n 'massa petani demo di gedung dprd sumut , tolak pengesahan ruu pertanahan',\n 'siswa smp brebes dapat ajakan demo , kepsek dan ortu diminta awasi anak',\n 'wamena rusuh , kantor pln ikut dibakar',\n 'gunung sampah di cilebut bogor bikin sungai ciliwung tercemar',\n 'oknum bpnt sunat jatah warga , komisi viii dpr dorong buwas lapor polisi',\n 'inggris yakin iran di balik serangan ke fasilitas minyak arab saudi',\n 'ada 2 kubu pendemo gelar aksi di dpr , lalin gatsu dialihkan',\n 'saat pertigaan colombo diduduki massa aksi gejayan memanggil',\n 'kpu : nphd pilkada 2020 paling lambat 1 oktober 2019',\n 'digugat caleg karena menangkan mulan cs , gerindra siap ikuti proses hukum',\n 'buka pendaftaran pilkada 2020 , nasdem : tidak ada mahar',\n 'penahanan mak susi diperpanjang hingga 40 hari ke depan',\n 'ada demo di gejayan sleman , polisi berlakukan sistem buka tutup',\n 'aniaya bayi hingga tewas , 4 remaja termasuk 1 wni ditangkap di malaysia',\n 'mahasiswa demo desak jokowi terbitkan perppu gantikan revisi uu kpk',\n 'kualitas udara di medan masuk kategori sangat tidak sehat',\n 'bamsoet ke jokowi : ada yang ribut sama istri karena rapat maraton rkuhp',\n \"berkas kasus ' kadis cium pipi staf saat selfie ' dilimpahkan ke jaksa\",\n 'pertamina borong penghargaan kompetisi inovasi di turki',\n 'who tegur tanzania karena tutupi kasus ebola',\n 'rektor brawijaya bantah serukan mahasiswa demo di dprd kota malang',\n 'polisi periksa guru bk-5 siswi terkait penemuan janin dalam kelas di sulbar',\n 'kpu lamongan optimistis pilbup tepat waktu meski 3 kali usulkan anggaran',\n 'golkar tiga kali geser anggota komisi xi jelang fit proper test bpk',\n 'ruu kuhp bisa jerat korporasi pembakar hutan',\n 'rusuh di expo waena jayapura , polisi : 1 anggota tni gugur , 2 brimob luka',\n 'kapolda kalsel lantik dirkrimum , dirkrimsus hingga 4 kapolres yang baru',\n 'bus wisata muat 19 pelajar sd terguling di ngawi',\n 'rommy bantah dakwaan kpk soal intervensi : menag bukan anak buah saya',\n 'tergeser mulan cs dari kursi dpr , sigit ibnu gugat kpu dan gerindra',\n 'bukan gibran , purnomo-teguh jadi bapaslon tunggal pdip di pilwalkot solo',\n 'camat sukaraja baru tahu ada gunung sampah 16 meter di cilebut bogor',\n 'aliansi mahasiswa nyatakan puncak demo di istana-dpr besok bebas politik',\n 'tim jibom disposal bahan peledak di rumah terduga teroris di jakut',\n \"geruduk gerindra garut , massa bawa spanduk ' mulan pelakor-perekor '\",\n 'bandara smb ii palembang diselimuti kabut asap',\n 'total 9 orang terduga teroris ditangkap di bekasi dan jakarta',\n 'mendagri sentil gubernur riau yang ke ln saat karhutla',\n 'sepekan jelang akhir periode , dpr bakal gelar 3 paripurna pengesahan ruu',\n 'baca eksepsi , rommy kaitkan ott dengan suara ppp di pemilu 2019',\n 'kabut asap masih selimuti bandara syamsudin noor , penerbangan terganggu',\n 'aliansi mahasiswa tuntut jokowi terbitkan perppu cabut uu kpk yang baru',\n 'wamena chaos , kantor bupati dibakar',\n 'warga sumedang kecewa sosialisasi pengurangan beras bpnt tidak merata',\n 'situs kemendagri dibajak , tjahjo pastikan data kependudukan aman',\n 'harap ruu kuhp disahkan , zulkifli hasan : tunggu semua setuju nggak sah-sah',\n 'ott di wisata air panas , satgas saber pungli mojokerto tangkap 3 orang',\n 'bppd bali ajukan revisi pasal rkuhp yang dinilai ganggu pariwisata',\n 'polri telusuri akun medsos penyebar hoax rasis pemicu demo rusuh wamena',\n 'pengalaman wni samuel adiprakoso melistriki kawasan terpencil di dunia',\n 'pagar kawat duri dan kendaraan taktis disiapkan jelang aksi di dpr',\n 'konsolidasi jelang pilkada serentak 2020 , kpu waspadai cyber attack',\n 'mahasiswa umi makassar turun ke jalan tolak revisi uu kpk',\n 'polisi pasang kawat berduri di depan gedung kpk',\n 'polisi halau aksi di uncen jayapura , duga demo terkait sidang pbb',\n 'total 6 terduga teroris kelompok jad ditangkap tim densus di bekasi',\n 'mahasiswa teatrikal gantung diri minta ciujung serang bersih dari limbah',\n 'rapimgab wagub dki digelar setelah akd dprd dibentuk',\n 'kabut asap kini selimuti seluruh daerah di aceh',\n 'polda metro siapkan 10 ribu personel amankan aksi di dpr dan kpk',\n 'terduga teroris yang ditangkap densus 88 di jakut rencanakan pengeboman',\n 'tagih janji jokowi , petani hutan lamongan ancam demo istana negara',\n 'siswa dan guru smk di ciamis deklarasi kawasan tanpa rokok',\n 'ada demo mahasiswa , sebagian sekolah di jayapura dipulangkan',\n 'pemkab cianjur bantu perbaiki rumah maestro mamaos yang hampir ambruk',\n 'warga bagi-bagi masker di lapangan merdeka medan',\n 'jaringan teroris jad bekasi dan jakarta ditangkap , barang bukti 500 gram tatp',\n 'demo rusuh , wamena masih chaos',\n 'polda jatim mutasi 32 kapolres dan perwira menengah',\n 'kpk panggil eks sesmenpora jadi saksi asisten imam nahrawi',\n 'penampakan barang bukti teroris di jakut : bahan peledak tatp-senpi',\n 'spanduk gibran bertebaran , satpol pp solo sigap membersihkan',\n 'luthfi hasan pulang malam hadiri pernikahan anaknya , kalapas : sesuai prosedur',\n 'ada penumpang mengamuk , american airlines mendarat darurat',\n 'empat parpol sepakat berkoalisi di pilbup jember 2020',\n 'kuhp saat ini : gelandangan dihukum 3 bulan penjara , lgbt tidak dipidana',\n 'pagi ini jarak pandang rendah terjadi di sejumlah bandara akibat kabut asap',\n 'kemenkes : bayi , ibu hamil , dan lansia rentan terhadap kabut asap',\n 'gubernur riau didesak tetapkan status darurat asap',\n '26 rumah terbakar di kembangan jakbar , 17 unit damkar dikerahkan',\n 'tol bekasi arah jakarta padat pagi ini',\n 'asap karhutla masih selimuti pulau natuna kepri',\n 'kabut asap tebal , sekolah di palembang diliburkan',\n 'pemberantasan korupsi di periode kedua',\n 'jalur sepeda masih terganggu , anies sebut perlu waktu',\n 'istana jawab komisioner tinggi ham soal kabut asap berpotensi tewaskan anak',\n 'gelar putera reformasi untuk jokowi jadi polemik , alumni trisakti menampik',\n 'dpr tak kunjung sahkan ruu p-ks , komnas perempuan : tak iba pada korban',\n 'pengamat nilai sterilisasi jalur sepeda dki dimulai dari trotoar yang steril',\n \"wagub jabar apresiasi pengelola bank sampah ' hade jaya ' di garut\",\n 'pks dki tegaskan dprd 2019-2024 tak bentuk pansus wagub',\n 'gempa m 5 , 1 terjadi di bengkulu , tak berpotensi tsunami',\n 'pemerintah akan lakukan hujan buatan atasi kabut asap di jambi',\n 'mahasiswa asal riau di medan galang dana untuk korban kabut asap',\n 'karhutla di kutai barat kaltim menjalar hingga cagar alam kersik luwai',\n 'gempa m 2 , 2 terjadi di berastagi sumut',\n 'truk hilang kendali di china , 10 orang tewas',\n 'dampak kabut asap , lion air group batalkan 21 penerbangan',\n 'jalan provinsi antara barus-pakkat ambles akibat luapan sungai',\n 'kabut asap masih tebal , matahari tak terlihat di medan',\n 'ada kabut asap , sekolah di medan batalkan upacara bendera',\n 'setelah diretas , situs kemendagri belum dapat diakses pagi ini',\n 'kabut asap karhutla masih pekat : udara tak sehat , aktivitas terhambat',\n 'asap masih pekat , pemkot pekanbaru liburkan pns hamil',\n 'kabut asap disorot pbb , komisi iv : peringatan untuk pemerintah',\n 'pagi ini tim sar gabungan evakuasi korban pesawat twin otter jatuh di papua',\n 'kabut asap buat warga padangsidimpuan sumut mengap-mengap',\n 'bamsoet : perbedaan pandangan politik jangan putus tali silaturahmi',\n 'polusi disorot ham pbb , walhi : pemerintah gagal lindungi hak hidup rakyat',\n 'deretan pertemuan lintas isu menanti delegasi ri di sidang majelis umum pbb',\n 'densus 88 polri gerebek rumah terduga teroris di cilincing jakut',\n 'kerusuhan di wamena , kantor kepala dinas dan beberapa ruko dibakar',\n 'belum deal , ruu p-ks terkendala perbedaan pendapat soal judul',\n 'polisi halau aksi mahasiswa di uncen jayapura',\n 'imbas demo rusuh , operasional bandara wamena dihentikan',\n 'kpk panggil sekretaris direktur pemasaran ptpn iii di kasus distribusi gula',\n 'polri-tni gelar apel pengamanan jelang unjuk rasa di dpr',\n 'mahasiswa demo di uncen , polisi blokade jalan abepura jayapura',\n 'vlog jokowi-jan ethes dianggap tak peka karhutla , istana angkat bicara',\n 'disdik sumsel soal libur sekolah karena asap : tergantung masing-masing daerah',\n 'demo rusuh di wamena , massa diduga mahasiswa yang kembali ke papua',\n 'guru teladan dimutasi , ratusan orang tua siswa geruduk sdn 2 lainungan',\n 'mahasiswa trisakti tolak pemberian gelar putera reformasi untuk jokowi',\n 'kontroversi ruu kuhp , wagub bali tenangkan wisatawan',\n 'diburu polisi , veronica koman masih aktif berkicau soal rusuh papua',\n 'polri duga demo rusuh di wamena dipicu hoax rasis : situasi sudah dikendalikan',\n 'polisi halau aksi di uncen jayapura , mahasiswa eksodus diantar ke waena',\n 'pilrek itb , kandidat yang masuk 10 besar diumumkan awal oktober',\n 'sepasang pengungsi rohingya tewas dalam baku tembak di bangladesh',\n 'ma kalahkan anies baswedan soal sengketa eks benteng gudang peluru cakung',\n 'polri : mahasiswa eksodus duduki aula uncen untuk provokasi',\n 'dua bandara di sumut masih tutup akibat kabut asap',\n 'kepala daerah di area karhutla dilarang ke ln , mendagri : termasuk presiden',\n 'demo rusuh di wamena , 6 orang provokator diamankan',\n 'terjebak 2 hari dalam mobil terkunci , perempuan di tuban tewas',\n 'pembunuh sales motor yang mayatnya terjerat tali tambang di hutan dibekuk',\n 'mendagri minta perencanaan anggaran pilkada 2020 segera dituntaskan',\n 'bamus dpr bahas ruu pesantren hari ini',\n \"massa di bandung bentangkan spanduk ' papua itu indonesia '\",\n 'korporasi tersangka karhutla jadi 9 perusahaan , 33 perusahaan disegel',\n 'sumsel dikepung asap , gubernur pergi kunker ke malaysia',\n 'mulan jameela ke dpr ri , gerindra garut digeruduk pendukung ervin',\n 'pimpinan dpr temui jokowi bahas ruu kuhp siang ini',\n 'bobol brankas , sopir taksi di bandara sultan hasanuddin ditangkap polisi',\n '2 terduga teroris ditangkap di bekasi merupakan pasangan suami istri',\n 'mahasiswa eksodus dipulangkan dari uncen , rusuh terjadi di expo waena',\n 'listrik hanya nyala 6 jam , warga masalembu ngadu ke dprd jatim',\n 'ajukan praperadilan , bupati kudus minta status tersangkanya dibatalkan',\n 'kabut asap selimuti aceh , nelayan sabang tak tahu arah pulang',\n 'klhk-kkp gandeng kpk tertibkan palanggar izin reklamasi di lampung-belitung',\n 'demo mahasiswa tolak pelemahan kpk di bintan ricuh',\n \"massa aksi ' gejayan memanggil ' mulai berkumpul di pertigaan colombo\",\n 'israel putuskan aliran listrik di sebagian wilayah tepi barat',\n 'rusuh di jayapura , prajurit tni praka zulkifli gugur akibat dibacok',\n 'bamsoet-fahri hamzah temui jokowi di istana bahas ruu kuhp',\n 'jadi cawagub dki , syaikhu tetap ikuti proses pelantikan dpr ri',\n 'polri tunggu laporan resmi untuk tangkap peretas situs kemendagri',\n 'sosok cheng ho , pelaut muslim yang jadi simbol diplomasi china modern',\n 'poliri sidik direksi truk gendut penyebab laka maut cipularang km 91',\n 'ribuan mahasiswa ciayumakuning demo tolak uu kpk baru dan rkuhp',\n 'rumah warga retak akibat getaran mesin pabrik kimia di cilegon',\n 'siswi smp penderita kanker tulang di mojokerto dirujuk ke rsu soetomo',\n 'imigran gelap suriah pura-pura jadi tim bola voli , ditangkap di yunani',\n 'rommy : kpk hilangkan peran khofifah-kiai asep di kasus jual-beli jabatan',\n 'expo waena jayapura kondusif , para perusuh diangkut ke mako brimob',\n 'gara-gara bakar sampah , tiga atap rumah warga terbakar',\n 'tahanan narkoba titipan polisi di lapas tulungagung tewas',\n 'wamena chaos , ada letusan tembakan diduga dari kkb',\n 'tim dentsu wakili indonesia di ajang kreatif periklanan asia pasifik',\n 'hendak ikut demo di dpr , ratusan mahasiswa bergerak dari ciputat',\n 'bppt beberkan kendala bikin hujan buatan : tertahan kabut asap',\n 'ke malaysia meski dilarang karena karhutla , gubernur sumsel langsung pulang',\n 'pasien kis diberi obat kedaluwarsa , polisi sita 2 . 358 butir digoxin',\n 'bupati anas cek kesiapan jelang tour de banyuwangi ijen',\n 'pelawak nurul qomar daftar cawalkot depok lewat pdip',\n 'pelaku pemerkosaan di bondowoso tertangkap setelah 7 bulan buron',\n 'polisi periksa 8 pelajar tekait perusakan mobil polisi di bogor',\n 'f-pks dpr bersyukur pengesahan ruu p-ks ditunda',\n 'bubarkan diri , massa tinggalkan keranda kpk di dprd kudus',\n 'mau nyagub , faldo maldini bersama psi gugat uu pilkada ke mk',\n 'kabut asap kian pekat , gubernur minta puskesmas di sumut siaga 24 jam',\n 'polisi amankan pelajar bawa batu dalam tas saat demo di dprd sulsel',\n 'demo pro-pimpinan baru di kpk memanas , massa bakar ban di depan polisi',\n 'resmi jadi kader pdip , gibran akan ambil formulir bakal cawalkot solo',\n 'hilangnya independensi pb pmii',\n 'menkum ham : ruu pertanahan dan ruu pemasyarakatan belum rampung',\n 'pasar kosambi akan jadi mal pelayanan publik , tunggu izin kemenpan rb',\n 'buwas bongkar oknum bpnt sunat anggaran , komisi viii bakal panggil mensos',\n 'jokowi minta aparat di papua tahan diri karena perusuh manfaatkan sidang pbb',\n 'curhat pilu warga yang tinggal dekat gunung sampah di cilebut bogor',\n 'wamena chaos , moeldoko duga ada provokasi agar ri dibawa ke sidang pbb',\n 'kpk minta rommy buktikan tudingan soal hilangkan peran khofifah-kiai asep',\n 'tiga bulan , 400 tangki air dikirim ke warga lamongan atasi kekeringan',\n 'massa demo penuhi jalan gatot subroto depan dpr , lalin ditutup',\n 'pemadaman kebakaran di jalur pendakian gunung semeru terkendala medan',\n 'bpnb : karhutla total 328 ribu ha , sebagian sulit padam karena gambut',\n 'massa pendemo di dprd sulsel kembali ricuh',\n 'pelajar ikut demo , yohana : aparat harus lihat mana anak dan dewasa',\n 'polri : 99 orang jadi tersangka demo rusuh',\n 'jokowi bertemu pimpinan ormas keagamaan , demo mahasiswa ikut dibahas',\n 'komisi ii bersama kpu-bawaslu kembali rapat evaluasi pemilu 2019',\n 'sejumlah siswa smk di surabaya rela jalan 6 km untuk demo di dprd jatim',\n 'polisi soal dpo teroris tunggangi demo di sumut : dia provokasi massa',\n 'diselimuti asap , 228 titik panas muncul di kalbar hari ini',\n 'spanduknya bertebaran di solo , gibran : bukan dari saya',\n 'polisi sebut bom tatp milik terduga teroris di jakut berdaya ledak tinggi',\n 'walhi : ruu pertanahan bisa persulit penegakan hukum soal karhutla',\n 'jokowi beda sikap soal ruu kpk dan rkuhp , moeldoko ungkit kasus rj lino',\n 'seorang wanita tewas terlindas truk di bekasi , sopir dicari polisi',\n 'kawat berduri diinjak , massa pro-pimpinan baru paksa masuk kpk',\n '850 personel polisi siap amankan itdbi 2019',\n 'banda aceh diselimuti kabut asap , 5 . 000 masker dibagikan ke warga',\n 'mahasiswa di makassar pakai duit hasil gadai 77 mobil rental buat judi online',\n 'massa mahasiswa turun ke jalan geruduk dprd banyumas tolak uu kpk-rkuhp',\n 'kemendagri tolak usulan tenaga ahli untuk setiap anggota dprd dki',\n 'jalur pendakian gunung arjuno kembali ditutup karena rawan kebakaran',\n 'jokowi bertemu romo magnis-mahfud md , bahas karhutla-uu kpk baru',\n '11 orang tewas akibat banjir bandang di india , 28 . 000 orang dievakuasi',\n '12 tersangka demo ricuh di depan dpr masih anak-anak',\n 'sweeping pelajar smk yang ikut demo , polisi temukan celurit dan pisau',\n 'aksi #surabayamenggugat diwarnai pelemparan benda diduga bom molotov',\n 'bocoran laporan knkt : jatuhnya lion air 737 max karena salah konstruksi',\n 'gugat uu pilkada , faldo maldini : usia saya kurang sehari maju cagub',\n '2 kubu pendemo di dpr berhadap-hadapan , saling balas omongan',\n 'usai bertemu jokowi , ketua dpr optimistis ruu kuhp disahkan',\n 'kebakaran di konservasi gunung arjuno-welirang karena aktivitas ilegal',\n 'fx rudy : peluang gibran cawalkot solo lewat pdip sudah tertutup',\n 'pgn gelar kompetisi jurnalistik berhadiah total rp 350 juta',\n 'asap di perbatasan aceh-sumut pekat , jarak pandang 100 meter',\n 'mahasiswa merasa dikhianati dpr karena tak dilibatkan dalam ruu kuhp',\n 'gibran rakabuming angkat bicara soal spanduknya yang dicopoti satpol pp',\n 'warga yang terkena ispa akibat karhutla capai 919 ribu orang',\n 'ratusan mahasiswa di malang tuntut pencabutan rkuhp',\n 'rusuh di jayapura : 1 prajurit tni gugur , 6 anggota brimob terluka',\n 'simpang tiga gejayan masih jadi panggung orasi demo mahasiswa',\n 'lewat seni anak-anak akan tampil percaya diri hingga dewasa',\n 'minum secangkir tiap hari , cokelat panas bisa mencegah diabetes',\n 'resep sederhana tumis udang bumbu bawang putih',\n 'minum cokelat panas bantu cegah kerusakan sel otak karena stroke',\n 'rasa ingin memiliki belum tentu artinya sama dengan cinta sejati',\n 'menu hari ini : fuyunghai mie instan , tumis tauge dan rolade sayur',\n 'edukasi pemenuhan gizi yang tepat untuk segala kalangan',\n 'resep tumis bayam saus tiram sedap',\n 'resep gateau chocolate tanpa tepung',\n 'kim kardashian dan kanye west kencan di malibu',\n 'caesar hito siap naik pelaminan tahun depan',\n 'film green religion tak kalah kompleks dengan pemaparan leonardo dicaprio',\n 'resep sayap ayam empuk bumbu kuning',\n 'resep buntil daun pepaya gurih sedap',\n 'menu hari ini : nasi goreng mangga , tumis pakcoy dan lontong mie',\n 'ekspedisi segaris , perjalanan 90 hari keliling indonesia lewat serial web',\n 'kisruh pb djarum vs kpai , tolak belakang industri rokok dan olahraga',\n 'resep cah baby kailan dengan bumbu bawang putih',\n 'masa berkabung nasional 3 hari sejak bj habibie meninggal dunia',\n 'rich brian dan niki siap tampil di hadapan publik indonesia',\n 'film lorong , rekor terberat prisia nasution jalani syuting lebih 24 jam',\n 'resep praktis udang goreng bumbu bawang',\n 'menu hari ini : tumis bayam saus tiram , buntil daun pepaya dan sayap ayam empuk',\n 'resep tum ayam khas bali',\n 'irresistible bazaar gelar 2 event selama bulan september',\n 'resep salad kentang mayo',\n 'dihina donald trump , chrissy teigen dapat dukungan',\n 'ryan reynolds dan blake lively berdonasi mendukung hak anak imigran',\n 'menu hari ini : salad kentang mayo , tum ayam dan fetucini gulai pedas',\n 'facebook cafe jakarta dibuka dengan layanan khusus proteksi privasi',\n 'resep sambal kemangi yang menggugah selera',\n 'resep ceker ayam dim sum',\n 'resep sambal kecap pedas sederhana',\n 'kemenkes : vape lebih bahaya dibanding rokok konvensional',\n 'kekebalan tubuh ibu selama kehamilan pengaruhi kecerdasan anak',\n 'alasan j . k rowling donasikan uangnya lebih dari 19 juta dolar',\n 'resep sup krim asparagus',\n 'resep cumi bakar bumbu rujak sederhana',\n 'menu hari ini : tumis kubis , bakwan jagung bayam dan sup ayam jahe',\n 'tanpa gula , cokelat panas bisa turunkan berat badan',\n 'salmafina sunan ungkap sunan kalijaga sudah bisa terima perpindahan keyakinannya',\n 'shopee liga 1 kembali bergulir eksklusif di indosiar',\n 'hadapi kritik terhadap karyanya , joko anwar mengaku tak mau sakit hati',\n \"sinopsis sinetron ' anak langit ' episode 1086 & 1087 tayang senin , 8 april 2019\",\n \"sinopsis sinetron ' anak langit ' episode 1088 tayang selasa , 9 april 2019\",\n \"sinopsis sinetron ' cinta suci ' episode 306 & 307 tayang selasa , 9 april 2019\",\n \"sinopsis sinetron ' cinta buta ' episode 76 tayang selasa , 9 april 2019\",\n \"sinopsis sinetron ' orang ketiga ' episode 631 tayang rabu , 10 april 2019\",\n \"sinopsis sinetron ' orang ketiga ' episode 630 tayang selasa , 9 april 2019\",\n \"sinopsis sinetron ' anak langit ' episode 1089 & 1090 tayang rabu , 10 april 2019\",\n 'anak domba , panggilan baru dari ibu buat salmafina sunan',\n \"sinopsis ' 100 days my prince ' episode 1 , lee yool bertemu dengan yoon yi seo\",\n \"sinopsis ' 100 days my prince ' episode 4 , won deuk pingsan usai hong sim marah\",\n \"adaptasi dari filipina , it ' s showtime indonesia hadirkan raffi & luna maya\",\n \"live action ' dora the explorer ' hadirkan petualangan ekstrim dora di kota yang hilang\",\n 'lama tiada kabar , bubu mantan kekasih syahrini kunjungi aisyahrani dan keluarga',\n \"rilis poster ' si doel the movie 2 ' , rano karno akui produksi di indonesia lebih mahal\",\n 'raffi ahmad akui senang sibuk , kini fokus pada proyek musik',\n \"sinopsis ' 100 days my prince ' episode 3 , hong sim dan suaminya terjebak dalam jerami\",\n 'sinopsis drama still 17 episode 15 , pengalaman pertama trip berdua',\n 'kuasa hukum ahmad dhani siapkan permohonan penangguhan berisi jaminan dari prabowo',\n \"tayang perdana ' welcome to waikiki 2 ' cetak rating tinggi\",\n 'sinopsis drama still 17 episode 16 , yang se jong bikin shin hye sun tersipu',\n 'persaingan perfilman tanah air di iboma 2019 , luna maya & vanesha prescilla bersaing',\n 'bergabung dengan rans music , monita tahalea akui senang',\n 'sinopsis drama still 17 episode 14 , kenangan masa lalu',\n \"reza rahadian sebut film ' my stupid boss 2 ' lebih bagus dari yang pertama\",\n 'sinopsis drama still 17 episode 23 , yang se jong & shin hye sun mulai saling terbuka',\n 'sinopsis drama still 17 episode 24 , first kiss yang manis',\n \"sinopsis sinetron ' cinta suci ' episode 309 & 310 tayang kamis , 11 april 2019\",\n 'krisdayanti terharu , saat didatangi aurel dan azriel saat ultah',\n \"sinopsis sinetron ' cinta buta ' episode 79 tayang kamis , 11 april 2019\",\n 'pernikahan ajun perwira akan pakai adat bali',\n 'terlibat dalam sinetron ppt jilid 12 , dubes amerika akui kerja keras',\n \"sinopsis sinetron ' orang ketiga ' episode 632 tayang kamis , 11 april 2019\",\n \"serunya lee sung kyung dan ra mi ran kejar-kejaran di trailer ' girls cop '\",\n \"' kita berbeda ' grup musik anak lalaila kids serukan persatuan\",\n 'angga dwimas sasongko dan nicoline bagi-bagi ilmu dengan calon content creator',\n \"sinopsis sinetron ' orang ketiga ' episode 633 tayang jumat , 12 april 2019\",\n \"sinopsis sinetron ' cinta buta ' episode 85 & 86 tayang senin , 15 april 2019\",\n 'setiap adzan berkumandang , roger danuarta langsung bergegas ke masjid',\n \"sinopsis sinetron ' cinta suci ' episode 314 tayang senin , 15 april 2019\",\n 'lakukan promosi di seoul , robert downey jr dapat sambutan hangat',\n 'minho shinee pamer foto cukur rambut , berangkat wamil diantar sahabat',\n \"sinopsis sinetron ' anak langit ' episode 1096 & 1097 tayang senin , 15 april 2019\",\n 'sinopsis drama still 17 episode 25 , titik cerah pencarian shin hye sun',\n 'song hye kyo tandatangani kontrak dengan rumah produksi hong kong milik wong kar wai',\n 'tanpa kabar , jeno dan jaemin nct dream diam-diam kunjungi indonesia',\n \"sinopsis ' the curse of the weeping woman ' , hantu la llorona penculik anak kecil\",\n 'dedey risjad mantan suami diana pungky nikahi gwen priscilla ex-personel mahadewi',\n 'akhirnya meghan markle dan pangeran harry temukan pengasuh untuk baby archie',\n \"perankan doyok di ' mendadak kaya ' , fedi nuril ingin bernasib seperti rami malek\",\n 'usai brand new music , kini starship entertainment yang keluhkan privasi trainee',\n 'anak sulung wisuda , tommy soeharto dan tata cahyani foto bersama',\n \"bintangi film ' stuber ' , iko uwais bertarung dengan dave bautista\",\n 'pesona jennie blackpink yang memikat , pernah nyanyi bareng seungri',\n \"kerja bareng aryan khan isi suara ' the lion king ' versi hindi , srk dituding nepotisme\",\n 'freddy prahmana terlibat konten horor youtube , syuting hingga luar negeri',\n 'pesbukers dihentikan dan pemain lain liburan ke eropa , sapri pantun pilih jualan',\n 'meski hamil , yasmine wildblood tetap full urus si sulung',\n 'jadi tulang punggung keluarga sepeninggal olga , billy syahputra : bersyukur sama allah',\n 'berawal nekat , gading marten terjun dunia fotografi',\n \"sinopsis ' 100 days my prince ' episode 5 , jasad putra mahkota berhasil ditemukan\",\n \"tulis ' orang-orang biasa ' , andrea hirata perjuangkan pendidikan untuk kaum tak mampu\",\n 'perayaan haul olga , billy syahputra cuma bisa mendoakan',\n 'duet bersama gempi di panggung , gisella anastasia yakin gading pasti bangga',\n 'billy syahputra undang anak yatim pada haul olga',\n 'peringati tahun ke-13 , miley cyrus jadi hannah montana kembali',\n 'sering ditinggal aktivitas ibunya , anak-anak cornelia agatha khawatir',\n 'dhawiyah resmi menikah , iis dahlia sampaikan rasa bahagia',\n \"sinopsis ' 100 days my prince ' episode 7 , moo yeon bertemu dengan putra mahkota\",\n 'jadi janda kedua kalinya , ratna dilla merasa puas',\n \"tak banyak yang tahu , agung hercules pernah berperan jadi milky man di ' saras 008 '\",\n \"sinopsis ' 100 days my prince ' episode 6 , kasim yang dibunuh dan hong sim diculik\",\n 'reza rahadian inginkan lebih banyak layar di momentum hari film nasional',\n \"' raven is odd ' , bentuk kepedulian rachel vennya terhadap kesehatan mental\",\n 'resepsi tania nadira didominasi royal blue - sebar 2000 undangan termasuk jokowi',\n 'bertabur bintang di axis stage , gilang dirga : jicomfest 2019 bikin komedi naik level',\n 'penggemar kang daniel donasikan 10 . 000 keping album untuk palang merah korea',\n 'ricky martin dan jwan yosef akhirnya bagikan wajah cantik anak mereka di ig',\n 'rapper nipsey hussle tewas setelah ditembak bertubi-tubi di depan tokonya',\n \"sinopsis ' 100 days my prince ' episode 8 , moo yeon terkena panah dan won deuk kecewa\",\n \"sinopsis sinetron ' cinta suci ' episode 295 tayang senin , 1 april 2019\",\n 'persiapan mepet , rina mubal arum tetap hadirkan koleksi glamour di ifw 2019',\n 'ditelepon reino barack saat mau manggung , syahrini : sabar sebentar lagi istri pulang',\n 'deretan film indonesia yang tayang di bioskop bulan april 2019',\n 'suri jabrik , gadis cantik keponakan luna maya yang ternyata jago surfing',\n \"sinopsis sinetron ' cinta buta ' tayang senin , 1 april 2019\",\n \"sinopsis ' 100 days my prince ' episode 9 , kasim yang masih hidup\",\n \"sinopsis sinetron ' orang ketiga ' tayang senin , 1 april 2019\",\n 'vicky prasetyo sedang berduka , sang kakek meninggal dunia',\n 'via vallen senang dangdut rajai musik indonesia',\n \"sinopsis sinetron ' anak langit ' tayang senin , 1 april 2019\",\n \"sinopsis ' 100 days my prince ' episode 10 , raja memberi perintah pada menteri membunuh\",\n \"sinopsis sinetron ' cinta suci ' episode 299 & 300 tayang kamis , 4 april 2019\",\n \"sinopsis sinetron ' cinta buta ' episode 69 tayang kamis , 4 april 2019\",\n \"sinopsis sinetron ' orang ketiga ' episode 626 tayang kamis , 4 april 2019\",\n \"sinopsis ' 100 days my prince ' episode 11 , putra mahkota ditemukan\",\n \"sinopsis sinetron ' anak langit ' episode 1081 tayang kamis , 4 april 2019\",\n \"trailer ' joker ' dengan joaquin phoenix , kisah sang legenda psikopat yang bikin iba\",\n 'daftar lengkap nominasi indonesian box office movie awards 2019 yang tayang di sctv',\n 'check up hasil usg , nikita mirzani bersyukur bayinya sehat',\n 'kalahkan kang daniel , akun instagram pangeran harry dan megan markle cetak rekor baru',\n 'masuk dua nominasi billboard music award , bts jadi trending topic di twitter',\n \"siap syuting , maudy ayunda terpilih perankan ainun di ' habibie & ainun 3 '\",\n 'bangga dan bahagia , reino barack bintangi iklan produk sendiri bareng syahrini',\n \"sinopsis sinetron ' anak langit ' episode 1082 tayang jumat , 5 april 2019\",\n 'usai kolaborasi , dul jaleni dan aliyah massaid makin akrab',\n 'sempet kena pukul dan alami memar , tatjana saphira tak kapok main film action',\n 'berfoto dengan rafathar , gigi al ghazali justru jadi sorotan netizen',\n 'nia ramadhani bangga putrinya raih medali di ajang internasional',\n 'kesehatan sang ayah memburuk , britney spears jalani perawatan mental',\n 'gading marten kurangi jadwal nge-host , lebih sibuk main film',\n \"jadi lawan main di ' rumput tetangga ' , kirana larasati puji akting gading marten\",\n \"sinopsis sinetron ' cinta suci ' episode 305 tayang senin , 8 april 2019\",\n 'lewat buku , brandon tanu beri tips atasi bullying',\n \"sinopsis sinetron ' orang ketiga ' episode 629 tayang senin , 8 april 2019\",\n 'segera comeback , bts rilis teaser terbaru bersama halsey',\n 'mantab berhijab dan buka usaha fashion , cut meyriska inspirasi nina zatulini',\n \"sinopsis sinetron ' cinta suci ' episode 308 tayang rabu , 10 april 2019\",\n 'kasus bullying di pontianak , astrid tiar : jangan salahkan anak langsung',\n 'sinopsis drama still 17 episode 19 , peluang emas menghampiri shin hye sun',\n 'sinopsis drama still 17 episode 18 , yang se jong akui perasaannya pada shin hye sun',\n \"sinopsis sinetron ' cinta buta ' episode 74 & 75 tayang senin , 8 april 2019\",\n \"sinopsis drama still 17 episode 27 , ' jika ' adalah kata yang menyakitkan\",\n 'sinopsis drama still 17 episode 17 , kejujuran shin hye sun yang memikat yang se jong',\n \"sinopsis sinetron ' cinta buta ' episode 86 tayang selasa , 16 april 2019\",\n 'sinopsis drama still 17 episode 29 , yang se jong adalah crescendo-ku',\n 'gereja katedral notre dame paris terbakar , anggun c sasmi rasakan kehancuran',\n 'sinopsis drama still 17 episode 30 , dukungan penuh yang se jong untuk shin hye sun',\n \"sinopsis sinetron ' cinta buta ' episode 89 tayang kamis , 18 april 2019\",\n \"sinopsis sinetron ' cinta suci ' episode 318 & 319 tayang kamis , 18 april 2019\",\n 'penampilan song joong ki di drama baru , kulit cokelat & tubuh makin kekar',\n 'sinopsis drama still 17 episode 31 , kesempatan emas untuk shin hye sun',\n \"sinopsis sinetron ' orang ketiga ' tayang kamis , 18 april 2019\",\n \"sinopsis sinetron ' anak langit ' episode 1101 tayang kamis , 18 april 2019\",\n 'dj snake dan harry styles terlihat hadiri konser blackpink',\n 'sinopsis drama big episode 1 , keajaiban yang dialami gong yoo',\n 'sinopsis drama big episode 2 , gong yoo yang terus berulah',\n 'sinopsis drama still 17 episode 32 , akhir kisah yang se jong dan shin hye sun',\n 'sinopsis drama big episode 3 , cinta pandangan pertama gong yoo & lee min jung',\n 'sinopsis drama the last empress episode 11 , shin sung-rok ungkap perselingkuhannya',\n 'sinopsis drama the last empress episode 10 , liciknya rencana lee elijah',\n 'sinopsis drama big episode 5 , perpisahan gong yoo & lee min jung',\n 'para desainer berbakat italian fashin school gelar fashion show mini',\n 'terancam hukuman mati , zul zivilia mengaku amat rindu anak-anaknya',\n 'nikita mirzani punya rumah mewah , menyesal beli marmer seharga 700 juta',\n 'kenyang pengalaman main sinetron , mehnaz marinez ingin coba film layar lebar',\n \"box office di korea , bioskop indonesia tayangkan ' the battle : roar to victory '\",\n 'dewi gita ingin bangkitkan antusiasme publik terhadap perayaan hari kartini',\n \"sinopsis sinetron ' orang ketiga ' tayang senin , 22 april 2019\",\n \"sinopsis sinetron ' cinta suci ' tayang senin , 22 april 2019\",\n 'sinopsis drama big episode 9 , gejolak hubungan gong yoo & lee min jung',\n 'okie agustina mantan istri pasha ungu diperiksa polisi selama 8 jam',\n 'rey utami & pablo terancam segera ditahan , farhat abbas upayakan penangguhan',\n \"joe taslim jadi sub zero di ' mortal kombat ' , mimpi yang kini terwujud\",\n 'setelah dikecam , istri andre taulany dibela lewat #savetaulany & jadi trending topic',\n \"sinopsis film ' dua garis biru ' , remaja pacaran kebablasan hingga hamil\",\n 'digrebeg di hotel bersama ridho illahi , chagii amelia akui salah dan khilaf',\n 'fico fachriza , line up jicomfest 2019 yang sering muncul di film',\n 'taqy malik mantan salmafina sunan kembangkan bisnisnya dari saffron sampai peternakan',\n 'unjuk gigi bareng komedian internasional , mo sidik jadi lineup english show jicomfest',\n 'siapkan diri untuk nostalgia di film the lion king 2019',\n \"sinopsis sinetron ' cinta suci ' episode 326 , tayang 23 april 2019\",\n \"sinopsis sinetron ' orang ketiga ' tayang rabu , 24 april 2019\",\n \"sinopsis sinetron ' orang ketiga ' tayang kamis , 25 april 2019\",\n 'gelar show di karanganyar , pandji pragiwaksono bicara soal indonesia',\n \"sinopsis ' anak langit ' episode 1111-1112 , tayang 25 april 2019\",\n 'program spesial mnctv di bulan ramadan , siraman qalbu hingga upin ipin',\n ...]"
     },
     "execution_count": 25,
     "metadata": {},
     "output_type": "execute_result"
    }
   ],
   "source": [
    "nonclickbait_l_c"
   ],
   "metadata": {
    "collapsed": false,
    "pycharm": {
     "name": "#%%\n"
    }
   }
  },
  {
   "cell_type": "markdown",
   "source": [],
   "metadata": {
    "collapsed": false,
    "pycharm": {
     "name": "#%% md\n"
    }
   }
  },
  {
   "cell_type": "code",
   "execution_count": 27,
   "outputs": [],
   "source": [
    "#Parameters:\n",
    "param_smooth = 1\n",
    "param_threshold = 5\n",
    "param_span = 4\n",
    "\n",
    "param_backoff_limit = 3\n",
    "\n",
    "#ngram has punctuation\n",
    "def has_punctuation(ngram): #damn I'm very proud of making this from scratch lol, looks elegant in one line\n",
    "    return True in [x in string.punctuation for x in ngram]\n",
    "\n",
    "def generate_ngrams(lines,  min_length: int =1, max_length=param_span) -> dict :\n",
    "    #     lines = placeholder + lines\n",
    "    lengths: range  = range(min_length, max_length + 1)\n",
    "    ngrams: dict  = {length: [] for length in lengths}\n",
    "    queue: collections.deque = collections.deque(maxlen=max_length)\n",
    "\n",
    "    def add_queue():\n",
    "        current = tuple(queue)\n",
    "        for length in lengths:\n",
    "            if len(current) >= length and not has_punctuation(current[:length]):\n",
    "                ngrams[length].append(current[:length])\n",
    "\n",
    "    short_by = 0\n",
    "    for line in lines:\n",
    "        short_by = max(0, max_length - len(lines))\n",
    "        for word in line.split():\n",
    "            queue.append(word)\n",
    "            if len(queue) >= max_length-short_by:\n",
    "                add_queue()\n",
    "\n",
    "    while len(queue) > min_length:\n",
    "        queue.popleft()\n",
    "        add_queue()\n",
    "    return ngrams\n",
    "\n",
    "#modified from & fixed their error of ngram with # of words < 4: https://gist.github.com/benhoyt/dfafeab26d7c02a52ed17b6229f0cb52\n",
    "def count_ngrams(lines, min_length=1, max_length=param_span):\n",
    "    \"\"\"Iterate through given lines iterator (file object or list of\n",
    "    lines) and return n-gram frequencies. The return value is a dict\n",
    "    mapping the length of the n-gram to a collections.Counter\n",
    "    object of n-gram tuple and number of times that n-gram occurred.\n",
    "    Returned dict includes n-grams of length min_length to max_length.\n",
    "    \"\"\"\n",
    "    lengths = range(min_length, max_length + 1)\n",
    "    ngrams = {length: collections.Counter() for length in lengths}\n",
    "    queue = collections.deque(maxlen=max_length)\n",
    "\n",
    "    # Helper function to add n-grams at start of current queue to dict\n",
    "    def add_queue():\n",
    "        current = tuple(queue)\n",
    "        for length in lengths:\n",
    "            if len(current) >= length and not has_punctuation(current[:length]):\n",
    "                ngrams[length][current[:length]] += 1\n",
    "\n",
    "    # Loop through all lines and words and add n-grams to dict\n",
    "    short_by = 0\n",
    "    for line in lines:\n",
    "        short_by = max(0, max_length - len(lines))\n",
    "        for word in line.split():\n",
    "            queue.append(word)\n",
    "            if len(queue) >= max_length - short_by:\n",
    "                add_queue()\n",
    "\n",
    "    # Make sure we get the n-grams at the tail end of the queue\n",
    "    while len(queue) > min_length:\n",
    "        queue.popleft()\n",
    "        add_queue()\n",
    "\n",
    "    return ngrams\n"
   ],
   "metadata": {
    "collapsed": false,
    "pycharm": {
     "name": "#%%\n"
    }
   }
  },
  {
   "cell_type": "markdown",
   "source": [],
   "metadata": {
    "collapsed": false,
    "pycharm": {
     "name": "#%% md\n"
    }
   }
  },
  {
   "cell_type": "code",
   "execution_count": 29,
   "outputs": [],
   "source": [
    "#Generate ngram counts for d_pos & d_neg\n",
    "d_nonclick_ngrams_counts = count_ngrams(nonclickbait_l_c)\n",
    "d_clickbait_ngrams_counts = count_ngrams(clickbait_l_c)"
   ],
   "metadata": {
    "collapsed": false,
    "pycharm": {
     "name": "#%%\n"
    }
   }
  },
  {
   "cell_type": "code",
   "execution_count": 30,
   "outputs": [
    {
     "data": {
      "text/plain": "{1: Counter({('masuk',): 35,\n          ('radar',): 1,\n          ('pilwalkot',): 5,\n          ('medan',): 19,\n          ('menantu',): 2,\n          ('jokowi',): 174,\n          ('bertemu',): 22,\n          ('dpw',): 1,\n          ('nasdem',): 5,\n          ('sumut',): 20,\n          ('malaysia',): 44,\n          ('sudutkan',): 1,\n          ('ri',): 39,\n          ('isu',): 6,\n          ('kabut',): 113,\n          ('asap',): 163,\n          ('hingga',): 77,\n          ('invasi',): 1,\n          ('babi',): 2,\n          ('kemensos',): 2,\n          ('salurkan',): 16,\n          ('rp',): 94,\n          ('7',): 32,\n          ('3',): 88,\n          ('m',): 42,\n          ('bagi',): 27,\n          ('korban',): 61,\n          ('kerusuhan',): 16,\n          ('sosial',): 7,\n          ('di',): 1348,\n          ('papua',): 130,\n          ('mpr',): 15,\n          ('amandemen',): 1,\n          ('uud',): 3,\n          ('1945',): 1,\n          ('tak',): 218,\n          ('akan',): 174,\n          ('melebar',): 1,\n          ('ke',): 347,\n          ('mana-mana',): 1,\n          ('peringati',): 11,\n          ('tahun',): 85,\n          ('baru',): 120,\n          ('islam',): 10,\n          ('banyuwangi',): 10,\n          ('kembali',): 71,\n          ('gelar',): 99,\n          ('festival',): 25,\n          ('muharam',): 4,\n          ('wanita',): 6,\n          ('asal',): 8,\n          ('kendari',): 8,\n          ('nyaris',): 4,\n          ('diperkosa',): 3,\n          ('jalanan',): 2,\n          ('makassar',): 27,\n          ('pelaku',): 24,\n          ('diburu',): 2,\n          ('hnw',): 3,\n          ('sebut',): 95,\n          ('gbhn',): 4,\n          ('jamin',): 6,\n          ('rencana',): 16,\n          ('pembangunan',): 31,\n          ('jangka',): 1,\n          ('panjang',): 11,\n          ('jakpro',): 3,\n          ('jawab',): 9,\n          ('protes',): 11,\n          ('adhi',): 1,\n          ('karya',): 7,\n          ('soal',): 114,\n          ('tender',): 3,\n          ('proyek',): 21,\n          ('jis',): 1,\n          ('diberi',): 7,\n          ('wika',): 1,\n          ('lokasi',): 14,\n          ('istana',): 30,\n          ('presiden',): 69,\n          ('15',): 33,\n          ('menit',): 8,\n          ('lewat',): 31,\n          ('jembatan',): 10,\n          ('holtekamp',): 3,\n          ('hiasan',): 1,\n          ('taman',): 5,\n          ('asia',): 15,\n          ('afrika',): 3,\n          ('bandung',): 27,\n          ('rusak',): 13,\n          ('diterjang',): 2,\n          ('angin',): 8,\n          ('kencang',): 1,\n          ('polemik',): 5,\n          ('pb',): 23,\n          ('djarum',): 24,\n          ('dan',): 464,\n          ('kpai',): 16,\n          ('fadli',): 3,\n          ('zon',): 3,\n          ('mestinya',): 1,\n          ('bisa',): 92,\n          ('dimusyawarahkan',): 1,\n          ('pengacara',): 9,\n          ('ajukan',): 19,\n          ('penangguhan',): 5,\n          ('penahanan',): 4,\n          ('kivlan',): 31,\n          ('zen',): 27,\n          ('eksepsi',): 6,\n          ('bassist',): 1,\n          ('boomerang',): 1,\n          ('hubert',): 1,\n          ('henry',): 2,\n          ('dalam',): 72,\n          ('kasus',): 75,\n          ('ganja',): 6,\n          ('ditolak',): 4,\n          ('hakim',): 8,\n          ('jenguk',): 13,\n          ('bj',): 100,\n          ('habibie',): 219,\n          ('rspad',): 14,\n          ('kepala',): 26,\n          ('bppt',): 7,\n          ('beliau',): 1,\n          ('semangat',): 6,\n          ('recovery',): 1,\n          ('jk',): 18,\n          ('gatot',): 8,\n          ('soebroto',): 4,\n          ('sebuah',): 3,\n          ('mobil',): 62,\n          ('tertimpa',): 3,\n          ('pohon',): 10,\n          ('pondok',): 7,\n          ('indah',): 3,\n          ('pengemudi',): 3,\n          ('terluka',): 17,\n          ('demokrat',): 23,\n          ('bangun',): 30,\n          ('museum',): 9,\n          ('art',): 2,\n          ('gallery',): 1,\n          ('sby-ani',): 1,\n          ('pacitan',): 2,\n          ('mendagri',): 9,\n          ('pelaksanaan',): 5,\n          ('uu',): 181,\n          ('otsus',): 2,\n          ('dilanjutkan',): 5,\n          ('tegaskan',): 18,\n          ('dukung',): 45,\n          ('pemerintah',): 95,\n          ('pd',): 3,\n          ('kami',): 16,\n          ('pernah',): 14,\n          ('kenal',): 3,\n          ('oposisi',): 2,\n          ('peredaran',): 4,\n          ('snack',): 1,\n          ('tanpa',): 26,\n          ('izin',): 25,\n          ('dibongkar',): 4,\n          ('omzet',): 1,\n          ('sebulan',): 8,\n          ('capai',): 20,\n          ('1',): 135,\n          ('5',): 71,\n          ('miliar',): 36,\n          ('mayat',): 7,\n          ('pria',): 12,\n          ('ditemukan',): 15,\n          ('kalimalang',): 12,\n          ('bekasi',): 37,\n          ('diduga',): 41,\n          ('tenggelam',): 2,\n          ('pesan',): 12,\n          ('anak',): 89,\n          ('penjenguk',): 3,\n          ('mohon',): 3,\n          ('dimengerti',): 1,\n          ('bapak',): 18,\n          ('perlu',): 23,\n          ('istirahat',): 7,\n          ('kpk',): 382,\n          ('curhat',): 4,\n          ('pencegahan',): 3,\n          ('korupsi',): 26,\n          ('dianggap',): 11,\n          ('banyak',): 27,\n          ('uang',): 26,\n          ('negara',): 39,\n          ('diselamatkan',): 1,\n          ('act',): 4,\n          ('inisiasi',): 6,\n          ('gerakan',): 12,\n          ('nasional',): 30,\n          ('#indonesiadermawan',): 2,\n          ('langkah',): 6,\n          ('menkum',): 3,\n          ('ham',): 20,\n          ('sudah',): 64,\n          ('kaji',): 5,\n          ('draf',): 1,\n          ('revisi',): 152,\n          ('diskusi',): 5,\n          ('evaluasi',): 16,\n          ('yogyakarta',): 9,\n          ('tanggapi',): 7,\n          ('dpr',): 201,\n          ('penegakan',): 2,\n          ('hukum',): 32,\n          ('boleh',): 6,\n          ('terikat',): 1,\n          ('komitmen',): 5,\n          ('politik',): 29,\n          ('dakwaan',): 5,\n          ('dipaksakan',): 1,\n          ('polisi',): 179,\n          ('belanda',): 8,\n          ('tembak',): 11,\n          ('mati',): 25,\n          ('istri',): 13,\n          ('2',): 107,\n          ('putrinya',): 3,\n          ('lalu',): 12,\n          ('bunuh',): 7,\n          ('diri',): 30,\n          ('6',): 60,\n          ('perampok',): 4,\n          ('bersebo',): 1,\n          ('warga',): 117,\n          ('tewas',): 65,\n          ('sumsel',): 12,\n          ('tepis',): 4,\n          ('jadi',): 222,\n          ('penyebab',): 13,\n          ('tunggal',): 8,\n          ('surati',): 7,\n          ('diminta',): 31,\n          ('mekarkan',): 2,\n          ('wilayah',): 20,\n          ('ada',): 99,\n          ('undang-undangnya',): 1,\n          ('kadis',): 6,\n          ('pu',): 3,\n          ('pns',): 10,\n          ('kabupaten',): 9,\n          ('mandailing',): 1,\n          ('natal',): 3,\n          ('ditahan',): 14,\n          ('kejati',): 3,\n          ('banding',): 4,\n          ('hak',): 10,\n          ('eks',): 20,\n          ('bupati',): 26,\n          ('katingan',): 1,\n          ('dicabut',): 6,\n          ('kecelakaan',): 30,\n          ('beruntun',): 6,\n          ('4',): 85,\n          ('kendaraan',): 22,\n          ('lenteng',): 3,\n          ('agung',): 13,\n          ('pemotor',): 5,\n          ('luka-luka',): 3,\n          ('bongkar',): 10,\n          ('mafia',): 19,\n          ('migas',): 18,\n          ('transaksi',): 11,\n          ('lintas',): 17,\n          ('mudah',): 2,\n          ('diungkap',): 1,\n          ('diawasi',): 3,\n          ('hong',): 22,\n          ('kong',): 19,\n          ('aktivis',): 13,\n          ('joshua',): 2,\n          ('wong',): 4,\n          ('terbang',): 8,\n          ('berlin',): 3,\n          ('anggota',): 60,\n          ('dprd',): 73,\n          ('surabaya',): 20,\n          ('gadaikan',): 6,\n          ('sk',): 12,\n          ('sebagai',): 24,\n          ('jaminan',): 8,\n          ('untuk',): 210,\n          ('potong',): 5,\n          ('gaji',): 9,\n          ('ical',): 1,\n          ('kita',): 16,\n          ('doakan',): 7,\n          ('yang',): 215,\n          ('terbaik',): 13,\n          ('175',): 3,\n          ('orang',): 102,\n          ('korporasi',): 5,\n          ('tersangka',): 56,\n          ('karhutla',): 88,\n          ('sumatera-kalimantan',): 1,\n          ('fenomena',): 3,\n          ('gadai',): 6,\n          ('dewan',): 36,\n          ('juga',): 13,\n          ('terjadi',): 23,\n          ('serang',): 18,\n          ('akademisi',): 7,\n          ('mahasiswa',): 140,\n          ('unair',): 4,\n          ('tolak',): 54,\n          ('pegawai',): 20,\n          ('fraksi',): 17,\n          ('minta',): 157,\n          ('pilih',): 13,\n          ('capim',): 36,\n          ('lemahkan',): 2,\n          ('ekoturisme',): 1,\n          ('pelajaran',): 3,\n          ('besar',): 27,\n          ('dari',): 161,\n          ('kecil',): 7,\n          ('refleksi',): 1,\n          ('dpd',): 8,\n          ('oso',): 2,\n          ('daerah',): 24,\n          ('mui',): 9,\n          ('riau',): 57,\n          ('taat',): 3,\n          ('beragama',): 1,\n          ('penyelundupan',): 4,\n          ('19',): 23,\n          ('253',): 1,\n          ('benih',): 3,\n          ('lobster',): 2,\n          ('tujuan',): 4,\n          ('singapura',): 10,\n          ('digagalkan',): 3,\n          ('truk',): 22,\n          ('terbakar',): 49,\n          ('cipularang',): 12,\n          ('luka',): 12,\n          ('berita',): 4,\n          ('negatif',): 3,\n          ('khawatirkan',): 1,\n          ('moral',): 1,\n          ('bangsa',): 14,\n          ('indonesia',): 248,\n          ('harap',): 15,\n          ('jeratan',): 1,\n          ('dirut',): 13,\n          ('petral',): 10,\n          ('buka',): 39,\n          ('kotak',): 3,\n          ('pandora',): 1,\n          ('hamas',): 1,\n          ('jatuh',): 5,\n          ('drone',): 17,\n          ('israel',): 9,\n          ('jalur',): 21,\n          ('gaza',): 4,\n          ('jpu',): 1,\n          ('keberatan',): 4,\n          ('didampingi',): 6,\n          ('kuasa',): 6,\n          ('militer',): 10,\n          ('dishub',): 13,\n          ('polda',): 34,\n          ('data',): 23,\n          ('kebutuhan',): 3,\n          ('e-tle',): 1,\n          ('area',): 3,\n          ('perluasan',): 23,\n          ('ganjil',): 47,\n          ('genap',): 47,\n          ('olah',): 5,\n          ('tkp',): 4,\n          ('maut',): 13,\n          ('tewaskan',): 11,\n          ('nganjuk',): 6,\n          ('miliaran',): 1,\n          ('rupiah',): 29,\n          ('milik',): 12,\n          ('pemprov',): 37,\n          ('hilang',): 21,\n          ('turun',): 51,\n          ('tangan',): 9,\n          ('cabut',): 10,\n          ('paspor',): 5,\n          ('veronica',): 31,\n          ('koman',): 32,\n          ('ketentuannya',): 1,\n          ('lipi',): 8,\n          ('desak',): 20,\n          ('lumpuhkan',): 1,\n          ('kinerja',): 13,\n          ('penyerangan',): 2,\n          ('ditutup',): 21,\n          ('naik',): 64,\n          ('trotoar',): 25,\n          ('tetap',): 34,\n          ('ditilang',): 5,\n          ('bareskrim',): 5,\n          ('tangkap',): 27,\n          ('pembobol',): 3,\n          ('rugikan',): 4,\n          ('bank',): 39,\n          ('bumn',): 20,\n          ('16',): 19,\n          ('datang',): 10,\n          ('pembekalan',): 6,\n          ('caleg',): 8,\n          ('terpilih',): 15,\n          ('sby',): 23,\n          ('beri',): 43,\n          ('arahan',): 2,\n          ('tertutup',): 7,\n          ('perempuan',): 16,\n          ('nilai',): 21,\n          ('ruu',): 74,\n          ('pks',): 13,\n          ('tersandera',): 1,\n          ('oleh',): 6,\n          ('kuhp',): 28,\n          ('belum',): 59,\n          ('teridentifikasi',): 2,\n          ('siswi',): 10,\n          ('smk',): 10,\n          ('ditikam',): 2,\n          ('dekat',): 11,\n          ('sekolah',): 40,\n          ('karena',): 53,\n          ('cinta',): 50,\n          ('jika',): 18,\n          ('kunjung',): 3,\n          ('penuhi',): 12,\n          ('panggilan',): 8,\n          ('bakal',): 69,\n          ('dpo',): 7,\n          ('simpulkan',): 1,\n          ('bos',): 8,\n          ('sembako',): 3,\n          ('cilegon',): 4,\n          ('menengok',): 1,\n          ('pantai',): 15,\n          ('mustika',): 3,\n          ('pekat',): 23,\n          ('selimuti',): 6,\n          ('salat',): 8,\n          ('hujan',): 25,\n          ('besok',): 21,\n          ('kontrak',): 13,\n          ('fahri',): 15,\n          ('agar',): 14,\n          ('undang-undang',): 11,\n          ('caketum',): 1,\n          ('hipmi',): 8,\n          ('pengusaha',): 20,\n          ('harus',): 47,\n          ('punya',): 15,\n          ('jiwa',): 8,\n          ('nasionalisme',): 1,\n          ('kuat',): 11,\n          ('kpu',): 12,\n          ('solo',): 23,\n          ('dana',): 35,\n          ('17',): 29,\n          ('8',): 44,\n          ('2020',): 78,\n          ('utusan',): 4,\n          ('khusus',): 13,\n          ('munas',): 7,\n          ('tokoh',): 17,\n          ('antaragama',): 1,\n          ('panggil',): 20,\n          ('tunggu',): 13,\n          ('dua',): 47,\n          ('pekan',): 31,\n          ('depan',): 45,\n          ('tetapkan',): 21,\n          ('pejabat',): 19,\n          ('pertamina',): 18,\n          ('energy',): 1,\n          ('dipeluk',): 1,\n          ('sebelum',): 12,\n          ('jalani',): 13,\n          ('sidang',): 27,\n          ('menangis',): 3,\n          ('icw',): 7,\n          ('jangan',): 25,\n          ('pertaruhkan',): 1,\n          ('pak',): 10,\n          ('bocah',): 3,\n          ('disebut',): 13,\n          ('bully',): 4,\n          ('kpad',): 1,\n          ('imbau',): 7,\n          ('keluarga',): 26,\n          ('melapor',): 1,\n          ('penuntutan',): 2,\n          ('koordinasi',): 9,\n          ('dengan',): 136,\n          ('jaksa',): 14,\n          ('komisi',): 28,\n          ('iii',): 19,\n          ('pastikan',): 28,\n          ('tampung',): 4,\n          ('semua',): 16,\n          ('masukan',): 6,\n          ('diundang',): 2,\n          ('timses',): 1,\n          ('kebetulan',): 1,\n          ('saja',): 3,\n          ('wagub',): 21,\n          ('jabar',): 34,\n          ('pekerja',): 7,\n          ('lingkungan',): 15,\n          ('daftar',): 7,\n          ('bpjs',): 28,\n          ('tk',): 4,\n          ('cucu',): 5,\n          ('berkumpul',): 3,\n          ('temani',): 2,\n          ('gara-gara',): 6,\n          ('puntung',): 2,\n          ('rokok',): 27,\n          ('28',): 4,\n          ('hektare',): 7,\n          ('lahan',): 46,\n          ('sulteng',): 1,\n          ('topan',): 3,\n          ('faxai',): 3,\n          ('hantam',): 3,\n          ('jepang',): 16,\n          ('000',): 40,\n          ('penumpang',): 18,\n          ('telantar',): 2,\n          ('bandara',): 48,\n          ('narita',): 1,\n          ('gajah',): 4,\n          ('mengamuk',): 3,\n          ('ketika',): 3,\n          ('ikut',): 50,\n          ('agama',): 8,\n          ('sri',): 22,\n          ('lanka',): 2,\n          ('18',): 18,\n          ('waduk',): 2,\n          ('pacal',): 1,\n          ('bojonegoro',): 1,\n          ('surut',): 3,\n          ('pertanian',): 11,\n          ('kecamatan',): 5,\n          ('kekeringan',): 12,\n          ('rdpu',): 1,\n          ('seleksi',): 7,\n          ('hut',): 4,\n          ('ke-70',): 1,\n          ('brigif',): 1,\n          ('raider',): 1,\n          ('13',): 9,\n          ('ziarah',): 4,\n          ('makam',): 8,\n          ('galuh',): 1,\n          ('ciamis',): 4,\n          ('tercapai',): 4,\n          ('masih',): 77,\n          ('digerogoti',): 1,\n          ('40',): 15,\n          ('perguruan',): 5,\n          ('tinggi',): 20,\n          ('muhammadiyah',): 8,\n          ('se-indonesia',): 3,\n          ('904',): 3,\n          ('pelanggar',): 14,\n          ('hari',): 105,\n          ('perdana',): 14,\n          ('ganjil-genap',): 7,\n          ('kemarin',): 2,\n          ('bulan',): 27,\n          ('lagi',): 34,\n          ('polrestabes',): 1,\n          ('tempat',): 14,\n          ('parkir',): 5,\n          ('bertingkat',): 1,\n          ('sepekan',): 6,\n          ('dilantik',): 7,\n          ('poyuono',): 3,\n          ('jelas',): 1,\n          ('pemerintah-dpr',): 1,\n          ('rampok',): 2,\n          ('ratusan',): 27,\n          ('abraham',): 5,\n          ('samad',): 3,\n          ('setop',): 3,\n          ('pembahasan',): 9,\n          ('satgas',): 10,\n          ('investigasi',): 7,\n          ('kebakaran',): 59,\n          ('kebun',): 5,\n          ('tebu',): 1,\n          ('ptpn',): 6,\n          ('vii',): 2,\n          ('ogan',): 1,\n          ('ilir',): 1,\n          ('anies',): 62,\n          ('anggap',): 9,\n          ('perbaikan',): 8,\n          ('udara',): 31,\n          ('jakarta',): 77,\n          ('instan',): 2,\n          ('kabar',): 12,\n          ('meninggal',): 47,\n          ('akibat',): 38,\n          ('tetanus',): 1,\n          ('bicara',): 17,\n          ('persaingan',): 4,\n          ('penduduk',): 7,\n          ('kritik',): 9,\n          ('rektor',): 9,\n          ('ipb-pemuka',): 1,\n          ('pelemahan',): 7,\n          ('menggalang',): 1,\n          ('pembiayaan',): 6,\n          ('ibu',): 62,\n          ('kota',): 121,\n          ('pasukan',): 5,\n          ('kostrad',): 2,\n          ('dikerahkan',): 7,\n          ('satu-satunya',): 3,\n          ('selamat',): 8,\n          ('diciduk',): 1,\n          ('narkoba',): 18,\n          ('home',): 3,\n          ('industry',): 1,\n          ('arak',): 1,\n          ('sidoarjo',): 3,\n          ('digerebek',): 3,\n          ('diamankan',): 23,\n          ('paling',): 9,\n          ('telat',): 1,\n          ('oktober',): 22,\n          ('resmikan',): 11,\n          ('trump',): 30,\n          ('umumkan',): 12,\n          ('perundingan',): 4,\n          ('damai',): 15,\n          ('taliban',): 11,\n          ('janjikan',): 4,\n          ('sarjana',): 2,\n          ('bekerja',): 6,\n          ('bumn-perusahaan',): 1,\n          ('bayi',): 10,\n          ('kaki-tangannya',): 1,\n          ('putus',): 4,\n          ('tangerang',): 13,\n          ('serahkan',): 15,\n          ('melihat',): 4,\n          ('belakang',): 6,\n          ('pengusutan',): 1,\n          ('terkait',): 32,\n          ('perawat',): 1,\n          ('kolaborasi',): 7,\n          ('bikin',): 29,\n          ('sehat',): 14,\n          ('usaha',): 17,\n          ('wisata',): 20,\n          ('ternyata',): 3,\n          ('penerbangan',): 27,\n          ('banjarmasin',): 5,\n          ('terganggu',): 13,\n          ('ma',): 9,\n          ('pk',): 5,\n          ('novanto',): 7,\n          ('tata',): 7,\n          ('cara',): 7,\n          ('umroh',): 1,\n          ('urutan',): 1,\n          ('bacaannya',): 1,\n          ('persen',): 42,\n          ('ketua',): 45,\n          ('daripada',): 3,\n          ('mencuri',): 1,\n          ('seputar',): 2,\n          ('nganjuk-madiun',): 2,\n          ('pj',): 2,\n          ('walkot',): 3,\n          ('rilis',): 19,\n          ('edaran',): 6,\n          ('antisipasi',): 14,\n          ('syiah',): 3,\n          ('rekomendasi',): 5,\n          ('dipimpin',): 2,\n          ('ibas',): 6,\n          ('legislatif',): 1,\n          ('2019-2024',): 4,\n          ('mulai',): 42,\n          ('dibangun',): 6,\n          ('undang',): 7,\n          ('ini',): 115,\n          ('china',): 50,\n          ('geram',): 1,\n          ('atas',): 32,\n          ('pernyataan',): 3,\n          ('menlu',): 8,\n          ('as',): 65,\n          ('perlakuan',): 2,\n          ('terhadap',): 17,\n          ('uighur',): 2,\n          ('tentunya',): 1,\n          ('tidak',): 65,\n          ('melemahkan',): 1,\n          ('154',): 1,\n          ('jakbar',): 8,\n          ('alasannya',): 1,\n          ('tahu',): 13,\n          ('gubernur',): 44,\n          ('khofifah',): 6,\n          ('gandeng',): 32,\n          ('isei',): 1,\n          ('kembangkan',): 27,\n          ('one',): 4,\n          ('pesantren',): 20,\n          ('product',): 1,\n          ('ke-74',): 2,\n          ('tni',): 45,\n          ('al',): 7,\n          ('terus',): 28,\n          ('tingkatkan',): 20,\n          ('sdm',): 7,\n          ('maju',): 12,\n          ('luwur',): 1,\n          ('sunan',): 5,\n          ('kudus',): 12,\n          ('ribuan',): 26,\n          ('paket',): 5,\n          ('nasi',): 3,\n          ('berkat',): 3,\n          ('dibagikan',): 2,\n          ('pdip',): 23,\n          ('pidato',): 4,\n          ('kontemplasi',): 3,\n          ('sejalan',): 2,\n          ('ide',): 1,\n          ('masa',): 11,\n          ('demokrasi',): 12,\n          ('wakil',): 21,\n          ('xi',): 8,\n          ('f-pan',): 1,\n          ('ganggu',): 8,\n          ('petugas',): 15,\n          ('cek',): 9,\n          ('pajak',): 24,\n          ('bagi-bagi',): 3,\n          ('cokelat',): 6,\n          ('tim',): 39,\n          ('pelajar',): 47,\n          ('dki',): 94,\n          ('raih',): 33,\n          ('juara',): 23,\n          ('olimpiade',): 4,\n          ('metropolis',): 1,\n          ('moskow',): 2,\n          ('status',): 12,\n          ('disoal',): 1,\n          ('polri',): 28,\n          ('praperadilan',): 6,\n          ('pemkab',): 19,\n          ('ponorogo',): 4,\n          ('531',): 1,\n          ('formasi',): 1,\n          ('cpns',): 3,\n          ('p3k',): 1,\n          ('sosialisasi',): 4,\n          ('maksimal',): 6,\n          ('pengguna',): 9,\n          ('sepeda',): 12,\n          ('motor',): 23,\n          ('tambah',): 12,\n          ('parah',): 7,\n          ('jarak',): 12,\n          ('pandang',): 11,\n          ('800',): 4,\n          ('meter',): 9,\n          ('volume',): 1,\n          ('signifikan',): 3,\n          ('aktor',): 4,\n          ('intelektual',): 3,\n          ('rusuh',): 32,\n          ('dicari',): 4,\n          ('satu-satu',): 1,\n          ('siang',): 16,\n          ('pembalut',): 1,\n          ('bekas',): 11,\n          ('kilo',): 2,\n          ('sampah',): 26,\n          ('gold',): 3,\n          ('coast',): 2,\n          ('kepung',): 4,\n          ('pekanbaru',): 14,\n          ('polantas',): 1,\n          ('bagikan',): 9,\n          ('masker',): 10,\n          ('pengendara',): 7,\n          ('santri',): 9,\n          ('probolinggo',): 2,\n          ('sambut',): 7,\n          ('10',): 49,\n          ('pawai',): 1,\n          ('obor',): 1,\n          ('beda',): 5,\n          ('komisioner',): 4,\n          ('queensland',): 1,\n          ('mengungsi',): 5,\n          ('hindari',): 3,\n          ('kian',): 8,\n          ('memburuk',): 6,\n          ('penerapan',): 2,\n          ('tilang',): 8,\n          ('elektronik',): 5,\n          ('busway',): 2,\n          ('ditargetkan',): 9,\n          ('2019',): 298,\n          ('dangdutan',): 1,\n          ('ditangkap',): 24,\n          ('contoh',): 3,\n          ('baik',): 13,\n          ('pejalan',): 1,\n          ('kaki',): 6,\n          ('maaf',): 5,\n          ('gudang',): 12,\n          ('penjaringan',): 3,\n          ('padam',): 4,\n          ('kerugian',): 7,\n          ('ditaksir',): 1,\n          ('atasi',): 28,\n          ('rencanakan',): 4,\n          ('buatan',): 14,\n          ('perdagangan',): 11,\n          ('kepri',): 10,\n          ('korbannya',): 1,\n          ('dijadikan',): 3,\n          ('psk',): 2,\n          ('gegara',): 3,\n          ('kabel',): 8,\n          ('disomasi',): 2,\n          ('apjatel',): 2,\n          ('baleg',): 2,\n          ('seimbangkan',): 1,\n          ('penindakan',): 2,\n          ('john',): 4,\n          ('chardon',): 1,\n          ('terbukti',): 1,\n          ('bersalah',): 1,\n          ('kematian',): 10,\n          ('istrinya',): 2,\n          ('novy',): 1,\n          ('pengembangan',): 9,\n          ('bakat',): 2,\n          ('bulutangkis',): 3,\n          ('jalan',): 82,\n          ('sesuai',): 12,\n          ('regulasi',): 10,\n          ('berharap',): 13,\n          ('yasonna',): 9,\n          ('hati-hati',): 4,\n          ('korut',): 6,\n          ('nyatakan',): 8,\n          ('siap',): 85,\n          ('bahas',): 31,\n          ('denuklirisasi',): 2,\n          ('akhir',): 38,\n          ('september',): 32,\n          ('bmkg',): 23,\n          ('prediksi',): 25,\n          ('cuaca',): 12,\n          ('cerah',): 10,\n          ('teruskan',): 3,\n          ('pengajuan',): 1,\n          ('red',): 3,\n          ('notice',): 3,\n          ('interpol',): 1,\n          ('personel',): 7,\n          ('polres',): 12,\n          ('satpam',): 1,\n          ('ampg',): 2,\n          ('pro',): 14,\n          ('bamsoet',): 9,\n          ('dipolisikan',): 2,\n          ('siswa',): 25,\n          ('sd',): 7,\n          ('petani',): 18,\n          ('blitar',): 6,\n          ('biarkan',): 2,\n          ('tomat',): 1,\n          ('membusuk',): 2,\n          ('harga',): 46,\n          ('anjlok',): 3,\n          ('pertama',): 46,\n          ('perbaiki',): 5,\n          ('kualitas',): 20,\n          ('ajak',): 27,\n          ('rakyat',): 11,\n          ('bentuk',): 26,\n          ('kesantunan',): 1,\n          ('asyura',): 1,\n          ('pemkot',): 23,\n          ('penyebaran',): 2,\n          ('periksa',): 15,\n          ('pencium',): 1,\n          ('pipi',): 2,\n          ('staf',): 2,\n          ('saat',): 73,\n          ('selfie',): 3,\n          ('temui',): 15,\n          ('koalisi',): 14,\n          ('masyarakat',): 46,\n          ('sipil',): 7,\n          ('pabrik',): 17,\n          ('tiner',): 1,\n          ('kalideres',): 5,\n          ('damkar',): 5,\n          ('ppp',): 7,\n          ('simpatik',): 1,\n          ('negarawan',): 5,\n          ('batal',): 8,\n          ('pertemuan',): 19,\n          ('makin',): 20,\n          ('buruk',): 12,\n          ('libur',): 7,\n          ('jambi',): 22,\n          ('diperpanjang',): 5,\n          ('desa',): 19,\n          ('digital',): 20,\n          ('sukabumi',): 8,\n          ('berburu',): 1,\n          ('sandi',): 3,\n          ('wi-fi',): 3,\n          ('gratis',): 11,\n          ('bus',): 18,\n          ('transj',): 2,\n          ('ditabrak',): 4,\n          ('lalin',): 6,\n          ('menteng',): 3,\n          ('arah',): 7,\n          ('rasuna',): 1,\n          ('said',): 3,\n          ('macet',): 6,\n          ('jakpus',): 5,\n          ('ketum',): 9,\n          ('fpi',): 8,\n          ('dugaan',): 13,\n          ('makar',): 7,\n          ('banten',): 5,\n          ('ramai-ramai',): 2,\n          ('pimpinan',): 47,\n          ('itu',): 15,\n          ('ranah',): 1,\n          ('pribadi',): 7,\n          ('bogor',): 22,\n          ('ingin',): 60,\n          ('bantu',): 25,\n          ('tangani',): 10,\n          ('kalibaru',): 1,\n          ('kebenaran',): 2,\n          ('banggakan',): 1,\n          ('jadikan',): 3,\n          ('tembakkan',): 3,\n          ('proyektil',): 3,\n          ('dikenal',): 2,\n          ('usai',): 47,\n          ('tawarkan',): 12,\n          ('dialog',): 4,\n          ('airlangga',): 9,\n          ('golkar',): 21,\n          ('bukan',): 32,\n          ('inisiator',): 3,\n          ('kabin',): 1,\n          ('budi',): 10,\n          ('gunawan',): 3,\n          ('61',): 2,\n          ('pemimpin',): 7,\n          ('ingatkan',): 14,\n          ('campur',): 4,\n          ('aksi',): 63,\n          ('demo',): 135,\n          ('disikapi',): 1,\n          ('tenang',): 4,\n          ('cerita',): 5,\n          ('12',): 11,\n          ('kali',): 22,\n          ('provinsi',): 7,\n          ('lain',): 12,\n          ('mantan',): 24,\n          ('atlet',): 10,\n          ('artis',): 4,\n          ('netizen',): 3,\n          ...}),\n 2: Counter({('masuk', 'radar'): 1,\n          ('radar', 'pilwalkot'): 1,\n          ('pilwalkot', 'medan'): 1,\n          ('menantu', 'jokowi'): 1,\n          ('jokowi', 'bertemu'): 4,\n          ('bertemu', 'dpw'): 1,\n          ('dpw', 'nasdem'): 1,\n          ('nasdem', 'sumut'): 1,\n          ('sumut', 'malaysia'): 1,\n          ('malaysia', 'sudutkan'): 1,\n          ('sudutkan', 'ri'): 1,\n          ('isu', 'kabut'): 1,\n          ('kabut', 'asap'): 113,\n          ('asap', 'hingga'): 1,\n          ('hingga', 'invasi'): 1,\n          ('invasi', 'babi'): 1,\n          ('babi', 'kemensos'): 1,\n          ('kemensos', 'salurkan'): 1,\n          ('salurkan', 'rp'): 1,\n          ('rp', '7'): 6,\n          ('3', 'm'): 3,\n          ('m', 'bagi'): 1,\n          ('bagi', 'korban'): 1,\n          ('korban', 'kerusuhan'): 1,\n          ('kerusuhan', 'sosial'): 1,\n          ('sosial', 'di'): 1,\n          ('di', 'papua'): 33,\n          ('papua', 'mpr'): 1,\n          ('amandemen', 'uud'): 1,\n          ('uud', '1945'): 1,\n          ('1945', 'tak'): 1,\n          ('tak', 'akan'): 8,\n          ('akan', 'melebar'): 1,\n          ('melebar', 'ke'): 1,\n          ('ke', 'mana-mana'): 1,\n          ('mana-mana', 'peringati'): 1,\n          ('peringati', 'tahun'): 3,\n          ('tahun', 'baru'): 2,\n          ('baru', 'islam'): 2,\n          ('banyuwangi', 'kembali'): 2,\n          ('kembali', 'gelar'): 5,\n          ('gelar', 'festival'): 4,\n          ('festival', 'muharam'): 2,\n          ('muharam', 'wanita'): 1,\n          ('wanita', 'asal'): 2,\n          ('asal', 'kendari'): 1,\n          ('kendari', 'nyaris'): 1,\n          ('nyaris', 'diperkosa'): 1,\n          ('diperkosa', 'di'): 1,\n          ('di', 'jalanan'): 1,\n          ('jalanan', 'makassar'): 1,\n          ('pelaku', 'diburu'): 1,\n          ('diburu', 'hnw'): 1,\n          ('hnw', 'sebut'): 1,\n          ('sebut', 'gbhn'): 1,\n          ('gbhn', 'jamin'): 1,\n          ('jamin', 'rencana'): 1,\n          ('rencana', 'pembangunan'): 1,\n          ('pembangunan', 'ri'): 1,\n          ('ri', 'jangka'): 1,\n          ('jangka', 'panjang'): 1,\n          ('panjang', 'jakpro'): 1,\n          ('jakpro', 'jawab'): 1,\n          ('jawab', 'protes'): 1,\n          ('protes', 'adhi'): 1,\n          ('adhi', 'karya'): 1,\n          ('karya', 'soal'): 1,\n          ('soal', 'tender'): 1,\n          ('tender', 'proyek'): 1,\n          ('proyek', 'jis'): 1,\n          ('jis', 'diberi'): 1,\n          ('diberi', 'ke'): 1,\n          ('ke', 'wika'): 1,\n          ('wika', 'lokasi'): 1,\n          ('lokasi', 'istana'): 1,\n          ('istana', 'presiden'): 8,\n          ('presiden', 'ri'): 1,\n          ('ri', 'di'): 3,\n          ('papua', '15'): 1,\n          ('15', 'menit'): 2,\n          ('menit', 'lewat'): 1,\n          ('lewat', 'jembatan'): 1,\n          ('jembatan', 'holtekamp'): 3,\n          ('holtekamp', 'hiasan'): 1,\n          ('hiasan', 'taman'): 1,\n          ('taman', 'asia'): 1,\n          ('asia', 'afrika'): 1,\n          ('afrika', 'di'): 1,\n          ('di', 'bandung'): 5,\n          ('bandung', 'rusak'): 1,\n          ('rusak', 'diterjang'): 1,\n          ('diterjang', 'angin'): 1,\n          ('angin', 'kencang'): 1,\n          ('kencang', 'polemik'): 1,\n          ('polemik', 'pb'): 1,\n          ('pb', 'djarum'): 18,\n          ('djarum', 'dan'): 2,\n          ('dan', 'kpai'): 2,\n          ('fadli', 'zon'): 3,\n          ('mestinya', 'bisa'): 1,\n          ('bisa', 'dimusyawarahkan'): 1,\n          ('dimusyawarahkan', 'pengacara'): 1,\n          ('pengacara', 'ajukan'): 1,\n          ('ajukan', 'penangguhan'): 3,\n          ('penangguhan', 'penahanan'): 2,\n          ('penahanan', 'kivlan'): 1,\n          ('kivlan', 'zen'): 27,\n          ('zen', 'eksepsi'): 1,\n          ('eksepsi', 'bassist'): 1,\n          ('bassist', 'boomerang'): 1,\n          ('boomerang', 'hubert'): 1,\n          ('hubert', 'henry'): 1,\n          ('henry', 'dalam'): 1,\n          ('dalam', 'kasus'): 2,\n          ('kasus', 'ganja'): 1,\n          ('ganja', 'ditolak'): 1,\n          ('ditolak', 'hakim'): 1,\n          ('hakim', 'jenguk'): 1,\n          ('jenguk', 'bj'): 9,\n          ('bj', 'habibie'): 100,\n          ('habibie', 'di'): 10,\n          ('di', 'rspad'): 10,\n          ('kepala', 'bppt'): 3,\n          ('beliau', 'semangat'): 1,\n          ('semangat', 'recovery'): 1,\n          ('recovery', 'jk'): 1,\n          ('jk', 'jenguk'): 2,\n          ('jenguk', 'habibie'): 4,\n          ('rspad', 'gatot'): 4,\n          ('gatot', 'soebroto'): 4,\n          ('soebroto', 'sebuah'): 1,\n          ('sebuah', 'mobil'): 1,\n          ('mobil', 'tertimpa'): 1,\n          ('tertimpa', 'pohon'): 3,\n          ('pohon', 'di'): 5,\n          ('di', 'pondok'): 4,\n          ('pondok', 'indah'): 3,\n          ('pengemudi', 'terluka'): 1,\n          ('terluka', 'demokrat'): 1,\n          ('demokrat', 'akan'): 3,\n          ('akan', 'bangun'): 6,\n          ('bangun', 'museum'): 3,\n          ('museum', 'dan'): 2,\n          ('dan', 'art'): 1,\n          ('art', 'gallery'): 1,\n          ('gallery', 'sby-ani'): 1,\n          ('sby-ani', 'di'): 1,\n          ('di', 'pacitan'): 2,\n          ('pacitan', 'mendagri'): 1,\n          ('mendagri', 'jamin'): 1,\n          ('jamin', 'pelaksanaan'): 2,\n          ('pelaksanaan', 'uu'): 2,\n          ('uu', 'otsus'): 2,\n          ('otsus', 'di'): 1,\n          ('papua', 'dilanjutkan'): 3,\n          ('dilanjutkan', 'tegaskan'): 1,\n          ('tegaskan', 'dukung'): 1,\n          ('dukung', 'pemerintah'): 2,\n          ('kami', 'tak'): 1,\n          ('tak', 'pernah'): 2,\n          ('pernah', 'kenal'): 1,\n          ('kenal', 'oposisi'): 1,\n          ('oposisi', 'peredaran'): 1,\n          ('peredaran', 'snack'): 1,\n          ('snack', 'tanpa'): 1,\n          ('tanpa', 'izin'): 3,\n          ('izin', 'dibongkar'): 1,\n          ('omzet', 'sebulan'): 1,\n          ('sebulan', 'capai'): 1,\n          ('capai', 'rp'): 4,\n          ('rp', '1'): 11,\n          ('5', 'miliar'): 3,\n          ('miliar', 'mayat'): 1,\n          ('mayat', 'pria'): 2,\n          ('pria', 'ditemukan'): 2,\n          ('ditemukan', 'di'): 4,\n          ('di', 'kalimalang'): 2,\n          ('kalimalang', 'bekasi'): 1,\n          ('diduga', 'korban'): 2,\n          ('korban', 'tenggelam'): 2,\n          ('tenggelam', 'pesan'): 1,\n          ('pesan', 'anak'): 1,\n          ('anak', 'habibie'): 1,\n          ('habibie', 'ke'): 5,\n          ('ke', 'penjenguk'): 1,\n          ('mohon', 'dimengerti'): 1,\n          ('bapak', 'perlu'): 1,\n          ('perlu', 'istirahat'): 2,\n          ('istirahat', 'kpk'): 1,\n          ('kpk', 'curhat'): 1,\n          ('curhat', 'pencegahan'): 1,\n          ('pencegahan', 'korupsi'): 1,\n          ('korupsi', 'tak'): 1,\n          ('tak', 'dianggap'): 1,\n          ('banyak', 'uang'): 1,\n          ('uang', 'negara'): 4,\n          ('negara', 'diselamatkan'): 1,\n          ('diselamatkan', 'act'): 1,\n          ('act', 'inisiasi'): 2,\n          ('inisiasi', 'gerakan'): 3,\n          ('gerakan', 'nasional'): 3,\n          ('nasional', '#indonesiadermawan'): 2,\n          ('#indonesiadermawan', 'demokrat'): 1,\n          ('demokrat', 'dukung'): 2,\n          ('dukung', 'langkah'): 1,\n          ('langkah', 'jokowi'): 2,\n          ('jokowi', 'bangun'): 4,\n          ('bangun', 'istana'): 6,\n          ('istana', 'di'): 3,\n          ('papua', 'menkum'): 1,\n          ('menkum', 'ham'): 3,\n          ('ham', 'sudah'): 1,\n          ('sudah', 'kaji'): 1,\n          ('kaji', 'draf'): 1,\n          ('draf', 'revisi'): 1,\n          ('revisi', 'uu'): 135,\n          ('uu', 'kpk'): 130,\n          ('kpk', 'mpr'): 1,\n          ('mpr', 'gelar'): 3,\n          ('gelar', 'diskusi'): 3,\n          ('diskusi', 'evaluasi'): 2,\n          ('evaluasi', 'pelaksanaan'): 2,\n          ('pelaksanaan', 'uud'): 2,\n          ('uud', 'di'): 2,\n          ('di', 'yogyakarta'): 5,\n          ('yogyakarta', 'kpk'): 1,\n          ('kpk', 'tanggapi'): 1,\n          ('tanggapi', 'dpr'): 1,\n          ('penegakan', 'hukum'): 2,\n          ('hukum', 'tak'): 1,\n          ('tak', 'boleh'): 4,\n          ('boleh', 'terikat'): 1,\n          ('terikat', 'komitmen'): 1,\n          ('komitmen', 'politik'): 1,\n          ('politik', 'pengacara'): 1,\n          ('pengacara', 'sebut'): 1,\n          ('sebut', 'dakwaan'): 1,\n          ('dakwaan', 'kivlan'): 1,\n          ('zen', 'dipaksakan'): 1,\n          ('dipaksakan', 'polisi'): 1,\n          ('polisi', 'belanda'): 1,\n          ('belanda', 'tembak'): 1,\n          ('tembak', 'mati'): 2,\n          ('mati', 'istri'): 1,\n          ('istri', 'dan'): 2,\n          ('dan', '2'): 3,\n          ('2', 'putrinya'): 1,\n          ('putrinya', 'lalu'): 1,\n          ('lalu', 'bunuh'): 1,\n          ('bunuh', 'diri'): 4,\n          ('diri', '6'): 1,\n          ('6', 'perampok'): 1,\n          ('perampok', 'bersebo'): 1,\n          ('bersebo', 'tembak'): 1,\n          ('tembak', 'warga'): 1,\n          ('warga', 'hingga'): 1,\n          ('hingga', 'tewas'): 2,\n          ('tewas', 'di'): 4,\n          ('di', 'sumsel'): 3,\n          ('sumsel', 'tepis'): 1,\n          ('tepis', 'jadi'): 1,\n          ('jadi', 'penyebab'): 4,\n          ('penyebab', 'tunggal'): 1,\n          ('tunggal', 'kabut'): 1,\n          ('ri', 'akan'): 1,\n          ('akan', 'surati'): 2,\n          ('surati', 'malaysia'): 1,\n          ('malaysia', 'jokowi'): 1,\n          ('jokowi', 'diminta'): 4,\n          ('diminta', 'mekarkan'): 2,\n          ('mekarkan', 'wilayah'): 2,\n          ('wilayah', 'papua'): 5,\n          ('ada', 'undang-undangnya'): 1,\n          ('undang-undangnya', 'kadis'): 1,\n          ('kadis', 'pu'): 2,\n          ('pu', 'dan'): 2,\n          ('2', 'pns'): 1,\n          ('pns', 'kabupaten'): 1,\n          ('kabupaten', 'mandailing'): 1,\n          ('mandailing', 'natal'): 1,\n          ('natal', 'ditahan'): 1,\n          ('ditahan', 'kejati'): 1,\n          ('kejati', 'sumut'): 1,\n          ('sumut', 'banding'): 1,\n          ('banding', 'ditolak'): 1,\n          ('hak', 'politik'): 1,\n          ('politik', 'eks'): 1,\n          ('eks', 'bupati'): 2,\n          ('bupati', 'katingan'): 1,\n          ('katingan', 'dicabut'): 1,\n          ('dicabut', 'hakim'): 1,\n          ('hakim', 'kecelakaan'): 1,\n          ('kecelakaan', 'beruntun'): 4,\n          ('beruntun', '4'): 1,\n          ('4', 'kendaraan'): 1,\n          ('kendaraan', 'di'): 4,\n          ('di', 'lenteng'): 3,\n          ('lenteng', 'agung'): 3,\n          ('2', 'pemotor'): 1,\n          ('pemotor', 'luka-luka'): 1,\n          ('luka-luka', 'kpk'): 1,\n          ('kpk', 'bongkar'): 1,\n          ('bongkar', 'mafia'): 1,\n          ('mafia', 'migas'): 16,\n          ('transaksi', 'lintas'): 1,\n          ('lintas', 'negara'): 4,\n          ('tak', 'mudah'): 1,\n          ('mudah', 'diungkap'): 1,\n          ('diungkap', 'diawasi'): 1,\n          ('diawasi', 'di'): 2,\n          ('di', 'hong'): 5,\n          ('hong', 'kong'): 19,\n          ('aktivis', 'joshua'): 2,\n          ('joshua', 'wong'): 2,\n          ('wong', 'terbang'): 2,\n          ('terbang', 'ke'): 3,\n          ('ke', 'berlin'): 2,\n          ('berlin', 'anggota'): 1,\n          ('anggota', 'dprd'): 20,\n          ('dprd', 'surabaya'): 3,\n          ('surabaya', 'gadaikan'): 1,\n          ('gadaikan', 'sk'): 6,\n          ('sk', 'sebagai'): 1,\n          ('sebagai', 'jaminan'): 1,\n          ('jaminan', 'untuk'): 1,\n          ('untuk', 'potong'): 1,\n          ('potong', 'gaji'): 1,\n          ('gaji', 'ical'): 1,\n          ('ical', 'jenguk'): 1,\n          ('kita', 'doakan'): 1,\n          ('doakan', 'yang'): 1,\n          ('yang', 'terbaik'): 1,\n          ('terbaik', '175'): 1,\n          ('175', 'orang'): 2,\n          ('orang', 'dan'): 1,\n          ('dan', '4'): 4,\n          ('4', 'korporasi'): 2,\n          ('korporasi', 'jadi'): 1,\n          ('jadi', 'tersangka'): 11,\n          ('tersangka', 'karhutla'): 5,\n          ('karhutla', 'di'): 19,\n          ('di', 'sumatera-kalimantan'): 1,\n          ('sumatera-kalimantan', 'fenomena'): 1,\n          ('fenomena', 'gadai'): 1,\n          ('gadai', 'sk'): 5,\n          ('sk', 'anggota'): 1,\n          ('anggota', 'dewan'): 5,\n          ('dewan', 'juga'): 1,\n          ('juga', 'terjadi'): 1,\n          ('terjadi', 'di'): 13,\n          ('di', 'dprd'): 13,\n          ('dprd', 'serang'): 1,\n          ('serang', 'akademisi'): 1,\n          ('akademisi', 'dan'): 2,\n          ('dan', 'mahasiswa'): 2,\n          ('mahasiswa', 'unair'): 1,\n          ('unair', 'tolak'): 1,\n          ('tolak', 'revisi'): 16,\n          ('kpk', 'pegawai'): 1,\n          ('pegawai', 'kpk'): 13,\n          ('kpk', 'surati'): 3,\n          ('surati', 'fraksi'): 1,\n          ('fraksi', 'di'): 3,\n          ('di', 'dpr'): 30,\n          ('minta', 'tak'): 2,\n          ('tak', 'pilih'): 2,\n          ('pilih', 'capim'): 2,\n          ('capim', 'yang'): 2,\n          ('yang', 'lemahkan'): 2,\n          ('lemahkan', 'kpk'): 2,\n          ('kpk', 'ekoturisme'): 1,\n          ('pelajaran', 'besar'): 1,\n          ('besar', 'dari'): 1,\n          ('dari', 'negara'): 1,\n          ('negara', 'kecil'): 1,\n          ('kecil', 'refleksi'): 1,\n          ('refleksi', '5'): 1,\n          ('5', 'tahun'): 7,\n          ('tahun', 'dpd'): 1,\n          ('dpd', 'ri'): 3,\n          ('kami', 'ada'): 1,\n          ('ada', 'untuk'): 1,\n          ('untuk', 'daerah'): 1,\n          ('daerah', 'mui'): 1,\n          ('mui', 'riau'): 1,\n          ('pelaku', 'karhutla'): 4,\n          ('karhutla', 'orang'): 1,\n          ('orang', 'tak'): 1,\n          ('tak', 'taat'): 1,\n          ('taat', 'beragama'): 1,\n          ('beragama', 'penyelundupan'): 1,\n          ('penyelundupan', '19'): 1,\n          ('253', 'benih'): 1,\n          ('benih', 'lobster'): 1,\n          ('lobster', 'tujuan'): 1,\n          ('tujuan', 'singapura'): 1,\n          ('singapura', 'digagalkan'): 1,\n          ('digagalkan', 'di'): 1,\n          ('di', 'makassar'): 7,\n          ('makassar', 'kecelakaan'): 1,\n          ('beruntun', 'dan'): 1,\n          ('dan', 'truk'): 2,\n          ('truk', 'terbakar'): 3,\n          ('terbakar', 'di'): 9,\n          ('di', 'cipularang'): 3,\n          ('2', 'orang'): 3,\n          ('orang', 'luka'): 1,\n          ('luka', 'banyak'): 1,\n          ('banyak', 'berita'): 1,\n          ('berita', 'negatif'): 1,\n          ('hnw', 'khawatirkan'): 1,\n          ('khawatirkan', 'moral'): 1,\n          ('moral', 'bangsa'): 1,\n          ('bangsa', 'indonesia'): 2,\n          ('indonesia', 'kpk'): 2,\n          ('kpk', 'harap'): 2,\n          ('harap', 'jeratan'): 1,\n          ('jeratan', 'eks'): 1,\n          ('eks', 'dirut'): 3,\n          ('dirut', 'petral'): 6,\n          ('petral', 'bisa'): 1,\n          ('bisa', 'buka'): 1,\n          ('buka', 'kotak'): 1,\n          ('kotak', 'pandora'): 1,\n          ('pandora', 'mafia'): 1,\n          ('migas', 'hamas'): 1,\n          ('hamas', 'tembak'): 1,\n          ('tembak', 'jatuh'): 1,\n          ('jatuh', 'drone'): 1,\n          ('drone', 'israel'): 1,\n          ('israel', 'di'): 1,\n          ('di', 'jalur'): 7,\n          ('jalur', 'gaza'): 1,\n          ('gaza', 'jpu'): 1,\n          ('jpu', 'keberatan'): 1,\n          ('keberatan', 'kivlan'): 1,\n          ('zen', 'didampingi'): 1,\n          ('didampingi', 'kuasa'): 1,\n          ('kuasa', 'hukum'): 5,\n          ('hukum', 'dari'): 1,\n          ('dari', 'militer'): 1,\n          ('militer', 'dishub'): 1,\n          ('dishub', 'minta'): 1,\n          ('minta', 'polda'): 1,\n          ('polda', 'data'): 1,\n          ('data', 'kebutuhan'): 1,\n          ('kebutuhan', 'e-tle'): 1,\n          ('e-tle', 'di'): 1,\n          ('di', 'area'): 2,\n          ('area', 'perluasan'): 1,\n          ('perluasan', 'ganjil'): 18,\n          ('ganjil', 'genap'): 47,\n          ('genap', 'polisi'): 1,\n          ('polisi', 'olah'): 1,\n          ('olah', 'tkp'): 4,\n          ('tkp', 'kecelakaan'): 1,\n          ('kecelakaan', 'maut'): 9,\n          ('maut', 'tewaskan'): 2,\n          ('tewaskan', '3'): 4,\n          ('3', 'orang'): 8,\n          ('orang', 'di'): 7,\n          ('di', 'nganjuk'): 5,\n          ('nganjuk', 'uang'): 1,\n          ('uang', 'miliaran'): 1,\n          ('miliaran', 'rupiah'): 1,\n          ('rupiah', 'milik'): 1,\n          ('milik', 'pemprov'): 3,\n          ('pemprov', 'sumut'): 2,\n          ('sumut', 'hilang'): 1,\n          ('polisi', 'turun'): 1,\n          ('turun', 'tangan'): 2,\n          ('tangan', 'menkum'): 1,\n          ('ham', 'soal'): 2,\n          ('soal', 'cabut'): 1,\n          ('cabut', 'paspor'): 2,\n          ('paspor', 'veronica'): 5,\n          ('veronica', 'koman'): 30,\n          ('ada', 'ketentuannya'): 1,\n          ('ketentuannya', 'lipi'): 1,\n          ('lipi', 'desak'): 1,\n          ('desak', 'jokowi'): 4,\n          ('jokowi', 'tolak'): 2,\n          ('kpk', 'yang'): 9,\n          ('yang', 'lumpuhkan'): 1,\n          ('lumpuhkan', 'kinerja'): 1,\n          ('kinerja', 'kpk'): 2,\n          ('kpk', 'kasus'): 2,\n          ('kasus', 'penyerangan'): 1,\n          ('penyerangan', 'ditutup'): 1,\n          ('pemotor', 'naik'): 1,\n          ('naik', 'trotoar'): 1,\n          ('trotoar', 'tetap'): 1,\n          ('tetap', 'ditilang'): 1,\n          ('ditilang', 'bareskrim'): 1,\n          ('bareskrim', 'tangkap'): 1,\n          ('tangkap', '2'): 2,\n          ('2', 'pembobol'): 2,\n          ('pembobol', 'yang'): 1,\n          ('yang', 'rugikan'): 2,\n          ('rugikan', 'bank'): 2,\n          ('bank', 'bumn'): 3,\n          ('bumn', 'rp'): 2,\n          ('rp', '16'): 1,\n          ('16', 'miliar'): 1,\n          ('miliar', 'datang'): 1,\n          ('datang', 'ke'): 5,\n          ('ke', 'pembekalan'): 1,\n          ('pembekalan', 'caleg'): 4,\n          ('caleg', 'terpilih'): 4,\n          ('terpilih', 'demokrat'): 3,\n          ('sby', 'beri'): 1,\n          ('beri', 'arahan'): 1,\n          ('arahan', 'tertutup'): 1,\n          ('tertutup', 'aktivis'): 1,\n          ('aktivis', 'perempuan'): 1,\n          ('perempuan', 'nilai'): 1,\n          ('nilai', 'ruu'): 1,\n          ('ruu', 'pks'): 3,\n          ('pks', 'tersandera'): 1,\n          ('tersandera', 'oleh'): 1,\n          ('oleh', 'ruu'): 1,\n          ('ruu', 'kuhp'): 22,\n          ('kuhp', 'belum'): 1,\n          ('belum', 'teridentifikasi'): 1,\n          ('4', 'korban'): 2,\n          ('korban', 'kecelakaan'): 6,\n          ('kecelakaan', 'cipularang'): 2,\n          ('cipularang', 'diduga'): 1,\n          ('diduga', 'perempuan'): 1,\n          ('perempuan', 'siswi'): 1,\n          ('siswi', 'smk'): 3,\n          ('smk', 'bandung'): 2,\n          ('bandung', 'ditikam'): 1,\n          ('ditikam', 'dekat'): 2,\n          ('dekat', 'sekolah'): 2,\n          ('sekolah', 'karena'): 2,\n          ('karena', 'tolak'): 1,\n          ('tolak', 'cinta'): 1,\n          ('cinta', 'pelaku'): 1,\n          ('pelaku', 'jika'): 1,\n          ('jika', 'tak'): 2,\n          ('tak', 'kunjung'): 3,\n          ('kunjung', 'penuhi'): 1,\n          ('penuhi', 'panggilan'): 3,\n          ('koman', 'bakal'): 1,\n          ('bakal', 'jadi'): 3,\n          ('jadi', 'dpo'): 2,\n          ('dpo', 'polisi'): 1,\n          ('polisi', 'simpulkan'): 1,\n          ('simpulkan', 'bos'): 1,\n          ('bos', 'sembako'): 1,\n          ('sembako', 'di'): 1,\n          ('di', 'cilegon'): 4,\n          ('cilegon', 'tewas'): 1,\n          ('tewas', 'bunuh'): 1,\n          ('diri', 'menengok'): 1,\n          ('menengok', 'pantai'): 1,\n          ('pantai', 'mustika'): 3,\n          ('mustika', 'banyuwangi'): 2,\n          ('banyuwangi', 'asap'): 1,\n          ('asap', 'pekat'): 8,\n          ('pekat', 'selimuti'): 1,\n          ('selimuti', 'riau'): 2,\n          ('pemprov', 'gelar'): 1,\n          ('gelar', 'salat'): 1,\n          ('salat', 'minta'): 2,\n          ('minta', 'hujan'): 5,\n          ('hujan', 'besok'): 1,\n          ('besok', 'soal'): 1,\n          ('soal', 'kontrak'): 2,\n          ('kontrak', 'politik'): 6,\n          ('politik', 'capim'): 2,\n          ('capim', 'kpk'): 32,\n          ('fahri', 'sebut'): 1,\n          ('sebut', 'agar'): 1,\n          ('agar', 'taat'): 1,\n          ('taat', 'undang-undang'): 1,\n          ('undang-undang', 'caketum'): 1,\n          ('caketum', 'hipmi'): 1,\n          ('pengusaha', 'ri'): 1,\n          ('ri', 'harus'): 1,\n          ('harus', 'punya'): 1,\n          ('punya', 'jiwa'): 1,\n          ('jiwa', 'nasionalisme'): 1,\n          ('nasionalisme', 'yang'): 1,\n          ('yang', 'kuat'): 1,\n          ('kuat', 'kpu'): 1,\n          ('kpu', 'solo'): 2,\n          ('solo', 'ajukan'): 2,\n          ('ajukan', 'dana'): 1,\n          ('dana', 'rp'): 4,\n          ('rp', '17'): 3,\n          ('8', 'm'): 1,\n          ('m', 'untuk'): 4,\n          ('untuk', 'pilwalkot'): 1,\n          ('pilwalkot', '2020'): 1,\n          ('2020', 'utusan'): 1,\n          ('utusan', 'khusus'): 1,\n          ('khusus', 'presiden'): 1,\n          ('presiden', 'akan'): 2,\n          ('akan', 'gelar'): 6,\n          ('gelar', 'munas'): 1,\n          ('munas', 'tokoh'): 1,\n          ('tokoh', 'antaragama'): 1,\n          ('antaragama', 'panggil'): 1,\n          ('panggil', 'veronica'): 1,\n          ('polisi', 'tunggu'): 2,\n          ('tunggu', 'hingga'): 1,\n          ('hingga', 'dua'): 1,\n          ('dua', 'pekan'): 2,\n          ('pekan', 'ke'): 2,\n          ('ke', 'depan'): 6,\n          ('depan', 'kpk'): 2,\n          ('kpk', 'tetapkan'): 4,\n          ('tetapkan', 'eks'): 2,\n          ('eks', 'pejabat'): 1,\n          ('pejabat', 'pertamina'): 1,\n          ('pertamina', 'energy'): 1,\n          ('energy', 'tersangka'): 1,\n          ('tersangka', 'mafia'): 3,\n          ('migas', 'dipeluk'): 1,\n          ('dipeluk', 'istri'): 1,\n          ('istri', 'sebelum'): 1,\n          ('sebelum', 'jalani'): 1,\n          ('jalani', 'sidang'): 6,\n          ('zen', 'menangis'): 1,\n          ('menangis', 'icw'): 1,\n          ('jangan', 'pertaruhkan'): 1,\n          ('pertaruhkan', 'kpk'): 1,\n          ('pak', 'jokowi'): 3,\n          ('jokowi', 'bocah'): 1,\n          ('bocah', 'di'): 2,\n          ('di', 'bekasi'): 17,\n          ('bekasi', 'disebut'): 1,\n          ('disebut', 'tewas'): 2,\n          ('tewas', 'karena'): 3,\n          ('karena', 'bully'): 1,\n          ('kpad', 'imbau'): 1,\n          ('imbau', 'keluarga'): 1,\n          ('keluarga', 'melapor'): 1,\n          ('melapor', 'jk'): 1,\n          ('jk', 'soal'): 4,\n          ('soal', 'revisi'): 10,\n          ('penuntutan', 'tak'): 1,\n          ('tak', 'perlu'): 3,\n          ('perlu', 'koordinasi'): 2,\n          ('koordinasi', 'dengan'): 7,\n          ('dengan', 'jaksa'): 1,\n          ('jaksa', 'agung'): 1,\n          ('agung', 'komisi'): 1,\n          ('komisi', 'iii'): 11,\n          ('iii', 'dpr'): 7,\n          ('dpr', 'pastikan'): 1,\n          ('pastikan', 'tampung'): 1,\n          ('tampung', 'semua'): 1,\n          ('semua', 'masukan'): 1,\n          ('masukan', 'soal'): 2,\n          ('soal', 'capim'): 2,\n          ('kpk', 'tokoh'): 1,\n          ('tokoh', 'papua'): 12,\n          ('papua', 'yang'): 2,\n          ('yang', 'diundang'): 1,\n          ('diundang', 'jokowi'): 1,\n          ('jokowi', 'eks'): 1,\n          ('eks', 'timses'): 1,\n          ('kebetulan', 'saja'): 1,\n          ('saja', 'wagub'): 1,\n          ('wagub', 'jabar'): 5,\n          ('jabar', 'minta'): 1,\n          ('minta', 'pekerja'): 1,\n          ('pekerja', 'di'): 1,\n          ('di', 'lingkungan'): 2,\n          ('lingkungan', 'pemprov'): 1,\n          ('pemprov', 'jabar'): 7,\n          ('jabar', 'daftar'): 1,\n          ('daftar', 'bpjs'): 1,\n          ('bpjs', 'tk'): 1,\n          ('tk', 'anak'): 1,\n          ('anak', 'dan'): 4,\n          ('dan', 'cucu'): 1,\n          ('cucu', 'berkumpul'): 1,\n          ('berkumpul', 'temani'): 1,\n          ('temani', 'bj'): 1,\n          ('soebroto', 'gara-gara'): 1,\n          ('gara-gara', 'puntung'): 1,\n          ('puntung', 'rokok'): 2,\n          ('28', 'hektare'): 1,\n          ('hektare', 'lahan'): 4,\n          ('lahan', 'di'): 8,\n          ('di', 'sulteng'): 1,\n          ('sulteng', 'terbakar'): 1,\n          ('terbakar', 'topan'): 1,\n          ('topan', 'faxai'): 3,\n          ('faxai', 'hantam'): 1,\n          ('hantam', 'jepang'): 1,\n          ('000', 'penumpang'): 1,\n          ('penumpang', 'telantar'): 1,\n          ('telantar', 'di'): 1,\n          ('di', 'bandara'): 11,\n          ('bandara', 'narita'): 1,\n          ('narita', 'gajah'): 1,\n          ('gajah', 'mengamuk'): 1,\n          ('mengamuk', 'ketika'): 1,\n          ('ketika', 'ikut'): 1,\n          ('ikut', 'festival'): 1,\n          ('festival', 'agama'): 2,\n          ('agama', 'di'): 2,\n          ('di', 'sri'): 2,\n          ('sri', 'lanka'): 2,\n          ('18', 'terluka'): 2,\n          ('terluka', 'waduk'): 1,\n          ('waduk', 'pacal'): 1,\n          ('pacal', 'di'): 1,\n          ('di', 'bojonegoro'): 1,\n          ('bojonegoro', 'surut'): 1,\n          ('lahan', 'pertanian'): 1,\n          ('pertanian', 'di'): 1,\n          ('di', '4'): 3,\n          ('4', 'kecamatan'): 1,\n          ('kecamatan', 'kekeringan'): 1,\n          ('kekeringan', 'komisi'): 1,\n          ('dpr', 'gelar'): 3,\n          ('gelar', 'rdpu'): 1,\n          ('rdpu', 'tampung'): 1,\n          ('tampung', 'masukan'): 1,\n          ('soal', 'seleksi'): 1,\n          ('seleksi', 'capim'): 4,\n          ('kpk', 'hut'): 1,\n          ('hut', 'ke-70'): 1,\n          ('brigif', 'raider'): 1,\n          ('raider', '13'): 1,\n          ('13', 'ziarah'): 1,\n          ('ziarah', 'ke'): 4,\n          ('ke', 'makam'): 6,\n          ('makam', 'bupati'): 1,\n          ('bupati', 'galuh'): 1,\n          ('galuh', 'ciamis'): 1,\n          ('ciamis', 'pesan'): 1,\n          ('pesan', 'kpk'): 1,\n          ('kpk', 'ke'): 11,\n          ('ke', 'jokowi'): 6,\n          ('pembangunan', 'tak'): 1,\n          ('tak', 'tercapai'): 1,\n          ('tercapai', 'jika'): 1,\n          ('jika', 'masih'): 1,\n          ('masih', 'digerogoti'): 1,\n          ('digerogoti', 'korupsi'): 1,\n          ('korupsi', '40'): 1,\n          ('40', 'perguruan'): 1,\n          ('perguruan', 'tinggi'): 5,\n          ('tinggi', 'muhammadiyah'): 1,\n          ('muhammadiyah', 'se-indonesia'): 1,\n          ('se-indonesia', 'tolak'): 2,\n          ('kpk', '1'): 1,\n          ('904', 'pelanggar'): 2,\n          ('pelanggar', 'ditilang'): 2,\n          ('ditilang', 'di'): 2,\n          ('di', 'hari'): 8,\n          ('hari', 'perdana'): 1,\n          ('perdana', 'perluasan'): 1,\n          ('perluasan', 'ganjil-genap'): 3,\n          ('ganjil-genap', 'kemarin'): 1,\n          ('kemarin', '4'): 1,\n          ('4', 'bulan'): 2,\n          ('bulan', 'lagi'): 2,\n          ('lagi', 'polrestabes'): 1,\n          ('polrestabes', 'surabaya'): 1,\n          ('surabaya', 'punya'): 1,\n          ('punya', 'tempat'): 1,\n          ('tempat', 'parkir'): 1,\n          ('parkir', 'bertingkat'): 1,\n          ('bertingkat', 'sepekan'): 1,\n          ('sepekan', 'dilantik'): 1,\n          ('dprd', 'jabar'): 3,\n          ('jabar', 'gadai'): 2,\n          ('sk', 'ke'): 3,\n          ('ke', 'bank'): 3,\n          ('bank', 'poyuono'): 1,\n          ('pemerintah-dpr', 'revisi'): 1,\n          ('kpk', 'agar'): 1,\n          ('agar', 'mudah'): 1,\n          ('mudah', 'rampok'): 1,\n          ('rampok', 'uang'): 1,\n          ('negara', 'ratusan'): 1,\n          ('ratusan', 'mahasiswa'): 4,\n          ('mahasiswa', 'surabaya'): 3,\n          ('surabaya', 'dukung'): 1,\n          ('dukung', 'revisi'): 5,\n          ('kpk', 'abraham'): 1,\n          ('abraham', 'samad'): 2,\n          ('jokowi', 'harus'): 1,\n          ('harus', 'minta'): 1,\n          ('minta', 'dpr'): 5,\n          ('dpr', 'setop'): 1,\n          ('setop', 'pembahasan'): 1,\n          ('pembahasan', 'revisi'): 4,\n          ('kpk', 'satgas'): 1,\n          ('satgas', 'karhutla'): 2,\n          ('karhutla', 'investigasi'): 1,\n          ('investigasi', 'penyebab'): 1,\n          ('penyebab', 'kebakaran'): 2,\n          ('kebakaran', 'kebun'): 1,\n          ('kebun', 'tebu'): 1,\n          ('tebu', 'ptpn'): 1,\n          ('ptpn', 'vii'): 1,\n          ('vii', 'ogan'): 1,\n          ('ogan', 'ilir'): 1,\n          ('ilir', 'fenomena'): 1,\n          ('fenomena', 'anggota'): 1,\n          ('dewan', 'gadaikan'): 1,\n          ('surabaya', 'juga'): 1,\n          ('juga', 'ada'): 1,\n          ('ada', 'anies'): 1,\n          ('anies', 'anggap'): 1,\n          ('anggap', 'perbaikan'): 1,\n          ('perbaikan', 'udara'): 1,\n          ('udara', 'jakarta'): 4,\n          ('jakarta', 'lewat'): 2,\n          ('lewat', 'ganjil'): 1,\n          ('genap', 'tak'): 2,\n          ('tak', 'bisa'): 6,\n          ('bisa', 'instan'): 1,\n          ('instan', 'tepis'): 1,\n          ('tepis', 'kabar'): 1,\n          ('kabar', 'bully'): 1,\n          ('polisi', 'sebut'): 6,\n          ('sebut', 'bocah'): 1,\n          ('bocah', 'meninggal'): 1,\n          ('meninggal', 'di'): 2,\n          ('bekasi', 'akibat'): 1,\n          ('akibat', 'tetanus'): 1,\n          ('tetanus', 'tokoh'): 1,\n          ('papua', 'bicara'): 1,\n          ('bicara', 'ke'): 1,\n          ('jokowi', 'soal'): 3,\n          ('soal', 'persaingan'): 1,\n          ('persaingan', 'penduduk'): 1,\n          ('penduduk', 'dan'): 1,\n          ('dan', 'lingkungan'): 1,\n          ('lingkungan', 'kritik'): 1,\n          ('kritik', 'revisi'): 1,\n          ('rektor', 'ipb-pemuka'): 1,\n          ('ipb-pemuka', 'agama'): 1,\n          ('agama', 'tolak'): 1,\n          ('tolak', 'pelemahan'): 3,\n          ('pelemahan', 'kpk'): 6,\n          ('kpk', 'menggalang'): 1,\n          ('menggalang', 'pembiayaan'): 1,\n          ('pembiayaan', 'ibu'): 1,\n          ('ibu', 'kota'): 42,\n          ('kota', 'baru'): 22,\n          ('baru', 'pasukan'): 1,\n          ('pasukan', 'kostrad'): 1,\n          ('kostrad', 'dikerahkan'): 1,\n          ('dikerahkan', 'untuk'): 1,\n          ('untuk', 'tangkap'): 2,\n          ('tangkap', 'pelaku'): 1,\n          ('di', 'riau'): 23,\n          ('riau', 'satu-satunya'): 1,\n          ('satu-satunya', 'korban'): 1,\n          ('korban', 'selamat'): 1,\n          ('selamat', 'kecelakaan'): 1,\n          ('maut', 'di'): 7,\n          ('nganjuk', 'diciduk'): 1,\n          ('diciduk', 'kasus'): 1,\n          ('kasus', 'narkoba'): 4,\n          ('narkoba', 'home'): 1,\n          ('home', 'industry'): 1,\n          ('industry', 'arak'): 1,\n          ('arak', 'di'): 1,\n          ('di', 'sidoarjo'): 1,\n          ('sidoarjo', 'digerebek'): 1,\n          ('dua', 'orang'): 3,\n          ('orang', 'diamankan'): 2,\n          ('diamankan', 'jokowi'): 2,\n          ('jokowi', 'ke'): 1,\n          ('ke', 'papua'): 5,\n          ('papua', 'lagi'): 1,\n          ('lagi', 'paling'): 1,\n          ('paling', 'telat'): 1,\n          ('telat', 'oktober'): 1,\n          ('resmikan', 'jembatan'): 1,\n          ('holtekamp', 'trump'): 1,\n          ('trump', 'umumkan'): 1,\n          ('umumkan', 'perundingan'): 1,\n          ('perundingan', 'damai'): 3,\n          ('damai', 'dengan'): 2,\n          ('dengan', 'taliban'): 4,\n          ('taliban', 'sudah'): 2,\n          ('sudah', 'mati'): 2,\n          ('mati', 'jokowi'): 1,\n          ('jokowi', 'janjikan'): 2,\n          ('janjikan', '1'): 1,\n          ('000', 'sarjana'): 1,\n          ('sarjana', 'papua'): 1,\n          ('papua', 'bekerja'): 1,\n          ('bekerja', 'di'): 1,\n          ('di', 'bumn-perusahaan'): 1,\n          ('bumn-perusahaan', 'besar'): 1,\n          ('besar', 'ibu'): 1,\n          ('ibu', 'bayi'): 1,\n          ('bayi', 'yang'): 2,\n          ('yang', 'kaki-tangannya'): 1,\n          ('kaki-tangannya', 'putus'): 1,\n          ('putus', 'di'): 1,\n          ('di', 'tangerang'): 7,\n          ('tangerang', 'serahkan'): 1,\n          ('serahkan', 'diri'): 1,\n          ('diri', 'ke'): 2,\n          ('ke', 'polisi'): 9,\n          ('polisi', 'melihat'): 1,\n          ('melihat', 'ke'): 1,\n          ('ke', 'belakang'): 1,\n          ('belakang', 'pengusutan'): 1,\n          ('pengusutan', 'kpk'): 1,\n          ('kpk', 'soal'): 2,\n          ('soal', 'mafia'): 1,\n          ('migas', 'terkait'): 2,\n          ('terkait', 'petral'): 2,\n          ('petral', 'banyuwangi'): 1,\n          ('banyuwangi', 'dan'): 1,\n          ('dan', 'perawat'): 1,\n          ('perawat', 'kolaborasi'): 1,\n          ('kolaborasi', 'bikin'): 1,\n          ('bikin', 'sehat'): 1,\n          ('sehat', 'usaha'): 1,\n          ('usaha', 'wisata'): 2,\n          ('wisata', 'warga'): 2,\n          ('warga', 'dua'): 1,\n          ('dua', 'korban'): 1,\n          ('nganjuk', 'ternyata'): 1,\n          ('ternyata', 'dpo'): 1,\n          ('dpo', 'kasus'): 1,\n          ('narkoba', 'kabut'): 1,\n          ('asap', 'bikin'): 1,\n          ('bikin', 'penerbangan'): 1,\n          ('penerbangan', 'di'): 5,\n          ('di', 'banjarmasin'): 3,\n          ('banjarmasin', 'terganggu'): 1,\n          ('terganggu', 'tokoh'): 1,\n          ('papua', 'minta'): 2,\n          ('minta', 'jokowi'): 8,\n          ('presiden', 'di'): 6,\n          ('papua', 'jaksa'): 2,\n          ('jaksa', 'kpk'): 2,\n          ('kpk', 'minta'): 7,\n          ('minta', 'ma'): 1,\n          ('ma', 'tolak'): 1,\n          ('tolak', 'pk'): 2,\n          ('pk', 'novanto'): 2,\n          ('novanto', 'tata'): 1,\n          ('tata', 'cara'): 1,\n          ('cara', 'umroh'): 1,\n          ('dan', 'bacaannya'): 1,\n          ('bacaannya', '40'): 1,\n          ('40', 'persen'): 2,\n          ('persen', 'dewan'): 1,\n          ('dewan', 'ciamis'): 1,\n          ('ciamis', 'gadaikan'): 1,\n          ('daripada', 'mencuri'): 1,\n          ('mencuri', 'uang'): 1,\n          ('negara', 'seputar'): 1,\n          ('seputar', 'kecelakaan'): 1,\n          ('jalur', 'nganjuk-madiun'): 1,\n          ('nganjuk-madiun', 'yang'): 1,\n          ('yang', 'tewaskan'): 2,\n          ('orang', 'pj'): 1,\n          ('pj', 'walkot'): 2,\n          ('walkot', 'makassar'): 2,\n          ('makassar', 'sebut'): 1,\n          ('sebut', 'rilis'): 1,\n          ('rilis', 'edaran'): 2,\n          ('edaran', 'antisipasi'): 3,\n          ('antisipasi', 'syiah'): 2,\n          ('syiah', 'rekomendasi'): 1,\n          ('rekomendasi', 'mui'): 1,\n          ('mui', 'dipimpin'): 1,\n          ('dipimpin', 'ibas'): 1,\n          ('demokrat', 'gelar'): 1,\n          ('gelar', 'pembekalan'): 1,\n          ('pembekalan', 'anggota'): 1,\n          ('anggota', 'legislatif'): 1,\n          ('legislatif', '2019-2024'): 1,\n          ('2019-2024', 'jokowi'): 1,\n          ('tahun', 'depan'): 11,\n          ('depan', 'istana'): 2,\n          ('papua', 'mulai'): 2,\n          ('mulai', 'dibangun'): 1,\n          ('dibangun', 'jokowi'): 1,\n          ('jokowi', 'undang'): 3,\n          ('undang', 'tokoh'): 1,\n          ('papua', 'ke'): 2,\n          ('ke', 'istana'): 2,\n          ('istana', 'hari'): 1,\n          ('hari', 'ini'): 51,\n          ('ini', 'china'): 1,\n          ('china', 'geram'): 1,\n          ('geram', 'atas'): 1,\n          ('atas', 'pernyataan'): 1,\n          ('pernyataan', 'menlu'): 1,\n          ...}),\n 3: Counter({('masuk', 'radar', 'pilwalkot'): 1,\n          ('radar', 'pilwalkot', 'medan'): 1,\n          ('menantu', 'jokowi', 'bertemu'): 1,\n          ('jokowi', 'bertemu', 'dpw'): 1,\n          ('bertemu', 'dpw', 'nasdem'): 1,\n          ('dpw', 'nasdem', 'sumut'): 1,\n          ('nasdem', 'sumut', 'malaysia'): 1,\n          ('sumut', 'malaysia', 'sudutkan'): 1,\n          ('malaysia', 'sudutkan', 'ri'): 1,\n          ('isu', 'kabut', 'asap'): 1,\n          ('kabut', 'asap', 'hingga'): 1,\n          ('asap', 'hingga', 'invasi'): 1,\n          ('hingga', 'invasi', 'babi'): 1,\n          ('invasi', 'babi', 'kemensos'): 1,\n          ('babi', 'kemensos', 'salurkan'): 1,\n          ('kemensos', 'salurkan', 'rp'): 1,\n          ('salurkan', 'rp', '7'): 1,\n          ('3', 'm', 'bagi'): 1,\n          ('m', 'bagi', 'korban'): 1,\n          ('bagi', 'korban', 'kerusuhan'): 1,\n          ('korban', 'kerusuhan', 'sosial'): 1,\n          ('kerusuhan', 'sosial', 'di'): 1,\n          ('sosial', 'di', 'papua'): 1,\n          ('di', 'papua', 'mpr'): 1,\n          ('amandemen', 'uud', '1945'): 1,\n          ('uud', '1945', 'tak'): 1,\n          ('1945', 'tak', 'akan'): 1,\n          ('tak', 'akan', 'melebar'): 1,\n          ('akan', 'melebar', 'ke'): 1,\n          ('melebar', 'ke', 'mana-mana'): 1,\n          ('ke', 'mana-mana', 'peringati'): 1,\n          ('mana-mana', 'peringati', 'tahun'): 1,\n          ('peringati', 'tahun', 'baru'): 2,\n          ('tahun', 'baru', 'islam'): 2,\n          ('banyuwangi', 'kembali', 'gelar'): 2,\n          ('kembali', 'gelar', 'festival'): 2,\n          ('gelar', 'festival', 'muharam'): 2,\n          ('festival', 'muharam', 'wanita'): 1,\n          ('muharam', 'wanita', 'asal'): 1,\n          ('wanita', 'asal', 'kendari'): 1,\n          ('asal', 'kendari', 'nyaris'): 1,\n          ('kendari', 'nyaris', 'diperkosa'): 1,\n          ('nyaris', 'diperkosa', 'di'): 1,\n          ('diperkosa', 'di', 'jalanan'): 1,\n          ('di', 'jalanan', 'makassar'): 1,\n          ('pelaku', 'diburu', 'hnw'): 1,\n          ('diburu', 'hnw', 'sebut'): 1,\n          ('hnw', 'sebut', 'gbhn'): 1,\n          ('sebut', 'gbhn', 'jamin'): 1,\n          ('gbhn', 'jamin', 'rencana'): 1,\n          ('jamin', 'rencana', 'pembangunan'): 1,\n          ('rencana', 'pembangunan', 'ri'): 1,\n          ('pembangunan', 'ri', 'jangka'): 1,\n          ('ri', 'jangka', 'panjang'): 1,\n          ('jangka', 'panjang', 'jakpro'): 1,\n          ('panjang', 'jakpro', 'jawab'): 1,\n          ('jakpro', 'jawab', 'protes'): 1,\n          ('jawab', 'protes', 'adhi'): 1,\n          ('protes', 'adhi', 'karya'): 1,\n          ('adhi', 'karya', 'soal'): 1,\n          ('karya', 'soal', 'tender'): 1,\n          ('soal', 'tender', 'proyek'): 1,\n          ('tender', 'proyek', 'jis'): 1,\n          ('proyek', 'jis', 'diberi'): 1,\n          ('jis', 'diberi', 'ke'): 1,\n          ('diberi', 'ke', 'wika'): 1,\n          ('ke', 'wika', 'lokasi'): 1,\n          ('wika', 'lokasi', 'istana'): 1,\n          ('lokasi', 'istana', 'presiden'): 1,\n          ('istana', 'presiden', 'ri'): 1,\n          ('presiden', 'ri', 'di'): 1,\n          ('ri', 'di', 'papua'): 1,\n          ('di', 'papua', '15'): 1,\n          ('papua', '15', 'menit'): 1,\n          ('15', 'menit', 'lewat'): 1,\n          ('menit', 'lewat', 'jembatan'): 1,\n          ('lewat', 'jembatan', 'holtekamp'): 1,\n          ('jembatan', 'holtekamp', 'hiasan'): 1,\n          ('holtekamp', 'hiasan', 'taman'): 1,\n          ('hiasan', 'taman', 'asia'): 1,\n          ('taman', 'asia', 'afrika'): 1,\n          ('asia', 'afrika', 'di'): 1,\n          ('afrika', 'di', 'bandung'): 1,\n          ('di', 'bandung', 'rusak'): 1,\n          ('bandung', 'rusak', 'diterjang'): 1,\n          ('rusak', 'diterjang', 'angin'): 1,\n          ('diterjang', 'angin', 'kencang'): 1,\n          ('angin', 'kencang', 'polemik'): 1,\n          ('kencang', 'polemik', 'pb'): 1,\n          ('polemik', 'pb', 'djarum'): 1,\n          ('pb', 'djarum', 'dan'): 2,\n          ('djarum', 'dan', 'kpai'): 2,\n          ('mestinya', 'bisa', 'dimusyawarahkan'): 1,\n          ('bisa', 'dimusyawarahkan', 'pengacara'): 1,\n          ('dimusyawarahkan', 'pengacara', 'ajukan'): 1,\n          ('pengacara', 'ajukan', 'penangguhan'): 1,\n          ('ajukan', 'penangguhan', 'penahanan'): 2,\n          ('penangguhan', 'penahanan', 'kivlan'): 1,\n          ('penahanan', 'kivlan', 'zen'): 1,\n          ('kivlan', 'zen', 'eksepsi'): 1,\n          ('zen', 'eksepsi', 'bassist'): 1,\n          ('eksepsi', 'bassist', 'boomerang'): 1,\n          ('bassist', 'boomerang', 'hubert'): 1,\n          ('boomerang', 'hubert', 'henry'): 1,\n          ('hubert', 'henry', 'dalam'): 1,\n          ('henry', 'dalam', 'kasus'): 1,\n          ('dalam', 'kasus', 'ganja'): 1,\n          ('kasus', 'ganja', 'ditolak'): 1,\n          ('ganja', 'ditolak', 'hakim'): 1,\n          ('ditolak', 'hakim', 'jenguk'): 1,\n          ('hakim', 'jenguk', 'bj'): 1,\n          ('jenguk', 'bj', 'habibie'): 9,\n          ('bj', 'habibie', 'di'): 6,\n          ('habibie', 'di', 'rspad'): 7,\n          ('beliau', 'semangat', 'recovery'): 1,\n          ('semangat', 'recovery', 'jk'): 1,\n          ('recovery', 'jk', 'jenguk'): 1,\n          ('jk', 'jenguk', 'habibie'): 2,\n          ('jenguk', 'habibie', 'di'): 3,\n          ('di', 'rspad', 'gatot'): 3,\n          ('rspad', 'gatot', 'soebroto'): 4,\n          ('gatot', 'soebroto', 'sebuah'): 1,\n          ('soebroto', 'sebuah', 'mobil'): 1,\n          ('sebuah', 'mobil', 'tertimpa'): 1,\n          ('mobil', 'tertimpa', 'pohon'): 1,\n          ('tertimpa', 'pohon', 'di'): 3,\n          ('pohon', 'di', 'pondok'): 2,\n          ('di', 'pondok', 'indah'): 3,\n          ('pengemudi', 'terluka', 'demokrat'): 1,\n          ('terluka', 'demokrat', 'akan'): 1,\n          ('demokrat', 'akan', 'bangun'): 2,\n          ('akan', 'bangun', 'museum'): 2,\n          ('bangun', 'museum', 'dan'): 2,\n          ('museum', 'dan', 'art'): 1,\n          ('dan', 'art', 'gallery'): 1,\n          ('art', 'gallery', 'sby-ani'): 1,\n          ('gallery', 'sby-ani', 'di'): 1,\n          ('sby-ani', 'di', 'pacitan'): 1,\n          ('di', 'pacitan', 'mendagri'): 1,\n          ('pacitan', 'mendagri', 'jamin'): 1,\n          ('mendagri', 'jamin', 'pelaksanaan'): 1,\n          ('jamin', 'pelaksanaan', 'uu'): 2,\n          ('pelaksanaan', 'uu', 'otsus'): 2,\n          ('uu', 'otsus', 'di'): 1,\n          ('otsus', 'di', 'papua'): 1,\n          ('di', 'papua', 'dilanjutkan'): 2,\n          ('papua', 'dilanjutkan', 'tegaskan'): 1,\n          ('dilanjutkan', 'tegaskan', 'dukung'): 1,\n          ('tegaskan', 'dukung', 'pemerintah'): 1,\n          ('kami', 'tak', 'pernah'): 1,\n          ('tak', 'pernah', 'kenal'): 1,\n          ('pernah', 'kenal', 'oposisi'): 1,\n          ('kenal', 'oposisi', 'peredaran'): 1,\n          ('oposisi', 'peredaran', 'snack'): 1,\n          ('peredaran', 'snack', 'tanpa'): 1,\n          ('snack', 'tanpa', 'izin'): 1,\n          ('tanpa', 'izin', 'dibongkar'): 1,\n          ('omzet', 'sebulan', 'capai'): 1,\n          ('sebulan', 'capai', 'rp'): 1,\n          ('capai', 'rp', '1'): 2,\n          ('5', 'miliar', 'mayat'): 1,\n          ('miliar', 'mayat', 'pria'): 1,\n          ('mayat', 'pria', 'ditemukan'): 2,\n          ('pria', 'ditemukan', 'di'): 2,\n          ('ditemukan', 'di', 'kalimalang'): 1,\n          ('di', 'kalimalang', 'bekasi'): 1,\n          ('diduga', 'korban', 'tenggelam'): 1,\n          ('korban', 'tenggelam', 'pesan'): 1,\n          ('tenggelam', 'pesan', 'anak'): 1,\n          ('pesan', 'anak', 'habibie'): 1,\n          ('anak', 'habibie', 'ke'): 1,\n          ('habibie', 'ke', 'penjenguk'): 1,\n          ('bapak', 'perlu', 'istirahat'): 1,\n          ('perlu', 'istirahat', 'kpk'): 1,\n          ('istirahat', 'kpk', 'curhat'): 1,\n          ('kpk', 'curhat', 'pencegahan'): 1,\n          ('curhat', 'pencegahan', 'korupsi'): 1,\n          ('pencegahan', 'korupsi', 'tak'): 1,\n          ('korupsi', 'tak', 'dianggap'): 1,\n          ('banyak', 'uang', 'negara'): 1,\n          ('uang', 'negara', 'diselamatkan'): 1,\n          ('negara', 'diselamatkan', 'act'): 1,\n          ('diselamatkan', 'act', 'inisiasi'): 1,\n          ('act', 'inisiasi', 'gerakan'): 2,\n          ('inisiasi', 'gerakan', 'nasional'): 2,\n          ('gerakan', 'nasional', '#indonesiadermawan'): 2,\n          ('nasional', '#indonesiadermawan', 'demokrat'): 1,\n          ('#indonesiadermawan', 'demokrat', 'dukung'): 1,\n          ('demokrat', 'dukung', 'langkah'): 1,\n          ('dukung', 'langkah', 'jokowi'): 1,\n          ('langkah', 'jokowi', 'bangun'): 1,\n          ('jokowi', 'bangun', 'istana'): 4,\n          ('bangun', 'istana', 'di'): 2,\n          ('istana', 'di', 'papua'): 3,\n          ('di', 'papua', 'menkum'): 1,\n          ('papua', 'menkum', 'ham'): 1,\n          ('menkum', 'ham', 'sudah'): 1,\n          ('ham', 'sudah', 'kaji'): 1,\n          ('sudah', 'kaji', 'draf'): 1,\n          ('kaji', 'draf', 'revisi'): 1,\n          ('draf', 'revisi', 'uu'): 1,\n          ('revisi', 'uu', 'kpk'): 108,\n          ('uu', 'kpk', 'mpr'): 1,\n          ('kpk', 'mpr', 'gelar'): 1,\n          ('mpr', 'gelar', 'diskusi'): 3,\n          ('gelar', 'diskusi', 'evaluasi'): 2,\n          ('diskusi', 'evaluasi', 'pelaksanaan'): 2,\n          ('evaluasi', 'pelaksanaan', 'uud'): 2,\n          ('pelaksanaan', 'uud', 'di'): 2,\n          ('uud', 'di', 'yogyakarta'): 1,\n          ('di', 'yogyakarta', 'kpk'): 1,\n          ('yogyakarta', 'kpk', 'tanggapi'): 1,\n          ('kpk', 'tanggapi', 'dpr'): 1,\n          ('penegakan', 'hukum', 'tak'): 1,\n          ('hukum', 'tak', 'boleh'): 1,\n          ('tak', 'boleh', 'terikat'): 1,\n          ('boleh', 'terikat', 'komitmen'): 1,\n          ('terikat', 'komitmen', 'politik'): 1,\n          ('komitmen', 'politik', 'pengacara'): 1,\n          ('politik', 'pengacara', 'sebut'): 1,\n          ('pengacara', 'sebut', 'dakwaan'): 1,\n          ('sebut', 'dakwaan', 'kivlan'): 1,\n          ('dakwaan', 'kivlan', 'zen'): 1,\n          ('kivlan', 'zen', 'dipaksakan'): 1,\n          ('zen', 'dipaksakan', 'polisi'): 1,\n          ('dipaksakan', 'polisi', 'belanda'): 1,\n          ('polisi', 'belanda', 'tembak'): 1,\n          ('belanda', 'tembak', 'mati'): 1,\n          ('tembak', 'mati', 'istri'): 1,\n          ('mati', 'istri', 'dan'): 1,\n          ('istri', 'dan', '2'): 2,\n          ('dan', '2', 'putrinya'): 1,\n          ('2', 'putrinya', 'lalu'): 1,\n          ('putrinya', 'lalu', 'bunuh'): 1,\n          ('lalu', 'bunuh', 'diri'): 1,\n          ('bunuh', 'diri', '6'): 1,\n          ('diri', '6', 'perampok'): 1,\n          ('6', 'perampok', 'bersebo'): 1,\n          ('perampok', 'bersebo', 'tembak'): 1,\n          ('bersebo', 'tembak', 'warga'): 1,\n          ('tembak', 'warga', 'hingga'): 1,\n          ('warga', 'hingga', 'tewas'): 1,\n          ('hingga', 'tewas', 'di'): 1,\n          ('tewas', 'di', 'sumsel'): 1,\n          ('di', 'sumsel', 'tepis'): 1,\n          ('sumsel', 'tepis', 'jadi'): 1,\n          ('tepis', 'jadi', 'penyebab'): 1,\n          ('jadi', 'penyebab', 'tunggal'): 1,\n          ('penyebab', 'tunggal', 'kabut'): 1,\n          ('tunggal', 'kabut', 'asap'): 1,\n          ('ri', 'akan', 'surati'): 1,\n          ('akan', 'surati', 'malaysia'): 1,\n          ('surati', 'malaysia', 'jokowi'): 1,\n          ('malaysia', 'jokowi', 'diminta'): 1,\n          ('jokowi', 'diminta', 'mekarkan'): 2,\n          ('diminta', 'mekarkan', 'wilayah'): 2,\n          ('mekarkan', 'wilayah', 'papua'): 2,\n          ('ada', 'undang-undangnya', 'kadis'): 1,\n          ('undang-undangnya', 'kadis', 'pu'): 1,\n          ('kadis', 'pu', 'dan'): 1,\n          ('pu', 'dan', '2'): 1,\n          ('dan', '2', 'pns'): 1,\n          ('2', 'pns', 'kabupaten'): 1,\n          ('pns', 'kabupaten', 'mandailing'): 1,\n          ('kabupaten', 'mandailing', 'natal'): 1,\n          ('mandailing', 'natal', 'ditahan'): 1,\n          ('natal', 'ditahan', 'kejati'): 1,\n          ('ditahan', 'kejati', 'sumut'): 1,\n          ('kejati', 'sumut', 'banding'): 1,\n          ('sumut', 'banding', 'ditolak'): 1,\n          ('hak', 'politik', 'eks'): 1,\n          ('politik', 'eks', 'bupati'): 1,\n          ('eks', 'bupati', 'katingan'): 1,\n          ('bupati', 'katingan', 'dicabut'): 1,\n          ('katingan', 'dicabut', 'hakim'): 1,\n          ('dicabut', 'hakim', 'kecelakaan'): 1,\n          ('hakim', 'kecelakaan', 'beruntun'): 1,\n          ('kecelakaan', 'beruntun', '4'): 1,\n          ('beruntun', '4', 'kendaraan'): 1,\n          ('4', 'kendaraan', 'di'): 1,\n          ('kendaraan', 'di', 'lenteng'): 1,\n          ('di', 'lenteng', 'agung'): 3,\n          ('2', 'pemotor', 'luka-luka'): 1,\n          ('pemotor', 'luka-luka', 'kpk'): 1,\n          ('luka-luka', 'kpk', 'bongkar'): 1,\n          ('kpk', 'bongkar', 'mafia'): 1,\n          ('bongkar', 'mafia', 'migas'): 1,\n          ('transaksi', 'lintas', 'negara'): 1,\n          ('tak', 'mudah', 'diungkap'): 1,\n          ('mudah', 'diungkap', 'diawasi'): 1,\n          ('diungkap', 'diawasi', 'di'): 1,\n          ('diawasi', 'di', 'hong'): 2,\n          ('di', 'hong', 'kong'): 5,\n          ('aktivis', 'joshua', 'wong'): 2,\n          ('joshua', 'wong', 'terbang'): 2,\n          ('wong', 'terbang', 'ke'): 2,\n          ('terbang', 'ke', 'berlin'): 2,\n          ('ke', 'berlin', 'anggota'): 1,\n          ('berlin', 'anggota', 'dprd'): 1,\n          ('anggota', 'dprd', 'surabaya'): 2,\n          ('dprd', 'surabaya', 'gadaikan'): 1,\n          ('surabaya', 'gadaikan', 'sk'): 1,\n          ('gadaikan', 'sk', 'sebagai'): 1,\n          ('sk', 'sebagai', 'jaminan'): 1,\n          ('sebagai', 'jaminan', 'untuk'): 1,\n          ('jaminan', 'untuk', 'potong'): 1,\n          ('untuk', 'potong', 'gaji'): 1,\n          ('potong', 'gaji', 'ical'): 1,\n          ('gaji', 'ical', 'jenguk'): 1,\n          ('ical', 'jenguk', 'bj'): 1,\n          ('kita', 'doakan', 'yang'): 1,\n          ('doakan', 'yang', 'terbaik'): 1,\n          ('yang', 'terbaik', '175'): 1,\n          ('terbaik', '175', 'orang'): 1,\n          ('175', 'orang', 'dan'): 1,\n          ('orang', 'dan', '4'): 1,\n          ('dan', '4', 'korporasi'): 2,\n          ('4', 'korporasi', 'jadi'): 1,\n          ('korporasi', 'jadi', 'tersangka'): 1,\n          ('jadi', 'tersangka', 'karhutla'): 1,\n          ('tersangka', 'karhutla', 'di'): 3,\n          ('karhutla', 'di', 'sumatera-kalimantan'): 1,\n          ('di', 'sumatera-kalimantan', 'fenomena'): 1,\n          ('sumatera-kalimantan', 'fenomena', 'gadai'): 1,\n          ('fenomena', 'gadai', 'sk'): 1,\n          ('gadai', 'sk', 'anggota'): 1,\n          ('sk', 'anggota', 'dewan'): 1,\n          ('anggota', 'dewan', 'juga'): 1,\n          ('dewan', 'juga', 'terjadi'): 1,\n          ('juga', 'terjadi', 'di'): 1,\n          ('terjadi', 'di', 'dprd'): 1,\n          ('di', 'dprd', 'serang'): 1,\n          ('dprd', 'serang', 'akademisi'): 1,\n          ('serang', 'akademisi', 'dan'): 1,\n          ('akademisi', 'dan', 'mahasiswa'): 2,\n          ('dan', 'mahasiswa', 'unair'): 1,\n          ('mahasiswa', 'unair', 'tolak'): 1,\n          ('unair', 'tolak', 'revisi'): 1,\n          ('tolak', 'revisi', 'uu'): 16,\n          ('uu', 'kpk', 'pegawai'): 1,\n          ('kpk', 'pegawai', 'kpk'): 1,\n          ('pegawai', 'kpk', 'surati'): 1,\n          ('kpk', 'surati', 'fraksi'): 1,\n          ('surati', 'fraksi', 'di'): 1,\n          ('fraksi', 'di', 'dpr'): 3,\n          ('minta', 'tak', 'pilih'): 1,\n          ('tak', 'pilih', 'capim'): 2,\n          ('pilih', 'capim', 'yang'): 2,\n          ('capim', 'yang', 'lemahkan'): 2,\n          ('yang', 'lemahkan', 'kpk'): 2,\n          ('lemahkan', 'kpk', 'ekoturisme'): 1,\n          ('pelajaran', 'besar', 'dari'): 1,\n          ('besar', 'dari', 'negara'): 1,\n          ('dari', 'negara', 'kecil'): 1,\n          ('negara', 'kecil', 'refleksi'): 1,\n          ('kecil', 'refleksi', '5'): 1,\n          ('refleksi', '5', 'tahun'): 1,\n          ('5', 'tahun', 'dpd'): 1,\n          ('tahun', 'dpd', 'ri'): 1,\n          ('kami', 'ada', 'untuk'): 1,\n          ('ada', 'untuk', 'daerah'): 1,\n          ('untuk', 'daerah', 'mui'): 1,\n          ('daerah', 'mui', 'riau'): 1,\n          ('pelaku', 'karhutla', 'orang'): 1,\n          ('karhutla', 'orang', 'tak'): 1,\n          ('orang', 'tak', 'taat'): 1,\n          ('tak', 'taat', 'beragama'): 1,\n          ('taat', 'beragama', 'penyelundupan'): 1,\n          ('beragama', 'penyelundupan', '19'): 1,\n          ('253', 'benih', 'lobster'): 1,\n          ('benih', 'lobster', 'tujuan'): 1,\n          ('lobster', 'tujuan', 'singapura'): 1,\n          ('tujuan', 'singapura', 'digagalkan'): 1,\n          ('singapura', 'digagalkan', 'di'): 1,\n          ('digagalkan', 'di', 'makassar'): 1,\n          ('di', 'makassar', 'kecelakaan'): 1,\n          ('makassar', 'kecelakaan', 'beruntun'): 1,\n          ('kecelakaan', 'beruntun', 'dan'): 1,\n          ('beruntun', 'dan', 'truk'): 1,\n          ('dan', 'truk', 'terbakar'): 1,\n          ('truk', 'terbakar', 'di'): 2,\n          ('terbakar', 'di', 'cipularang'): 1,\n          ('2', 'orang', 'luka'): 1,\n          ('orang', 'luka', 'banyak'): 1,\n          ('luka', 'banyak', 'berita'): 1,\n          ('banyak', 'berita', 'negatif'): 1,\n          ('hnw', 'khawatirkan', 'moral'): 1,\n          ('khawatirkan', 'moral', 'bangsa'): 1,\n          ('moral', 'bangsa', 'indonesia'): 1,\n          ('bangsa', 'indonesia', 'kpk'): 1,\n          ('indonesia', 'kpk', 'harap'): 1,\n          ('kpk', 'harap', 'jeratan'): 1,\n          ('harap', 'jeratan', 'eks'): 1,\n          ('jeratan', 'eks', 'dirut'): 1,\n          ('eks', 'dirut', 'petral'): 3,\n          ('dirut', 'petral', 'bisa'): 1,\n          ('petral', 'bisa', 'buka'): 1,\n          ('bisa', 'buka', 'kotak'): 1,\n          ('buka', 'kotak', 'pandora'): 1,\n          ('kotak', 'pandora', 'mafia'): 1,\n          ('pandora', 'mafia', 'migas'): 1,\n          ('mafia', 'migas', 'hamas'): 1,\n          ('migas', 'hamas', 'tembak'): 1,\n          ('hamas', 'tembak', 'jatuh'): 1,\n          ('tembak', 'jatuh', 'drone'): 1,\n          ('jatuh', 'drone', 'israel'): 1,\n          ('drone', 'israel', 'di'): 1,\n          ('israel', 'di', 'jalur'): 1,\n          ('di', 'jalur', 'gaza'): 1,\n          ('jalur', 'gaza', 'jpu'): 1,\n          ('gaza', 'jpu', 'keberatan'): 1,\n          ('jpu', 'keberatan', 'kivlan'): 1,\n          ('keberatan', 'kivlan', 'zen'): 1,\n          ('kivlan', 'zen', 'didampingi'): 1,\n          ('zen', 'didampingi', 'kuasa'): 1,\n          ('didampingi', 'kuasa', 'hukum'): 1,\n          ('kuasa', 'hukum', 'dari'): 1,\n          ('hukum', 'dari', 'militer'): 1,\n          ('dari', 'militer', 'dishub'): 1,\n          ('militer', 'dishub', 'minta'): 1,\n          ('dishub', 'minta', 'polda'): 1,\n          ('minta', 'polda', 'data'): 1,\n          ('polda', 'data', 'kebutuhan'): 1,\n          ('data', 'kebutuhan', 'e-tle'): 1,\n          ('kebutuhan', 'e-tle', 'di'): 1,\n          ('e-tle', 'di', 'area'): 1,\n          ('di', 'area', 'perluasan'): 1,\n          ('area', 'perluasan', 'ganjil'): 1,\n          ('perluasan', 'ganjil', 'genap'): 18,\n          ('ganjil', 'genap', 'polisi'): 1,\n          ('genap', 'polisi', 'olah'): 1,\n          ('polisi', 'olah', 'tkp'): 1,\n          ('olah', 'tkp', 'kecelakaan'): 1,\n          ('tkp', 'kecelakaan', 'maut'): 1,\n          ('kecelakaan', 'maut', 'tewaskan'): 1,\n          ('maut', 'tewaskan', '3'): 1,\n          ('tewaskan', '3', 'orang'): 3,\n          ('3', 'orang', 'di'): 2,\n          ('orang', 'di', 'nganjuk'): 1,\n          ('di', 'nganjuk', 'uang'): 1,\n          ('nganjuk', 'uang', 'miliaran'): 1,\n          ('uang', 'miliaran', 'rupiah'): 1,\n          ('miliaran', 'rupiah', 'milik'): 1,\n          ('rupiah', 'milik', 'pemprov'): 1,\n          ('milik', 'pemprov', 'sumut'): 1,\n          ('pemprov', 'sumut', 'hilang'): 1,\n          ('polisi', 'turun', 'tangan'): 1,\n          ('turun', 'tangan', 'menkum'): 1,\n          ('tangan', 'menkum', 'ham'): 1,\n          ('menkum', 'ham', 'soal'): 1,\n          ('ham', 'soal', 'cabut'): 1,\n          ('soal', 'cabut', 'paspor'): 1,\n          ('cabut', 'paspor', 'veronica'): 2,\n          ('paspor', 'veronica', 'koman'): 5,\n          ('ada', 'ketentuannya', 'lipi'): 1,\n          ('ketentuannya', 'lipi', 'desak'): 1,\n          ('lipi', 'desak', 'jokowi'): 1,\n          ('desak', 'jokowi', 'tolak'): 1,\n          ('jokowi', 'tolak', 'revisi'): 2,\n          ('uu', 'kpk', 'yang'): 5,\n          ('kpk', 'yang', 'lumpuhkan'): 1,\n          ('yang', 'lumpuhkan', 'kinerja'): 1,\n          ('lumpuhkan', 'kinerja', 'kpk'): 1,\n          ('kinerja', 'kpk', 'kasus'): 1,\n          ('kpk', 'kasus', 'penyerangan'): 1,\n          ('kasus', 'penyerangan', 'ditutup'): 1,\n          ('pemotor', 'naik', 'trotoar'): 1,\n          ('naik', 'trotoar', 'tetap'): 1,\n          ('trotoar', 'tetap', 'ditilang'): 1,\n          ('tetap', 'ditilang', 'bareskrim'): 1,\n          ('ditilang', 'bareskrim', 'tangkap'): 1,\n          ('bareskrim', 'tangkap', '2'): 1,\n          ('tangkap', '2', 'pembobol'): 1,\n          ('2', 'pembobol', 'yang'): 1,\n          ('pembobol', 'yang', 'rugikan'): 1,\n          ('yang', 'rugikan', 'bank'): 1,\n          ('rugikan', 'bank', 'bumn'): 2,\n          ('bank', 'bumn', 'rp'): 2,\n          ('bumn', 'rp', '16'): 1,\n          ('rp', '16', 'miliar'): 1,\n          ('16', 'miliar', 'datang'): 1,\n          ('miliar', 'datang', 'ke'): 1,\n          ('datang', 'ke', 'pembekalan'): 1,\n          ('ke', 'pembekalan', 'caleg'): 1,\n          ('pembekalan', 'caleg', 'terpilih'): 3,\n          ('caleg', 'terpilih', 'demokrat'): 3,\n          ('sby', 'beri', 'arahan'): 1,\n          ('beri', 'arahan', 'tertutup'): 1,\n          ('arahan', 'tertutup', 'aktivis'): 1,\n          ('tertutup', 'aktivis', 'perempuan'): 1,\n          ('aktivis', 'perempuan', 'nilai'): 1,\n          ('perempuan', 'nilai', 'ruu'): 1,\n          ('nilai', 'ruu', 'pks'): 1,\n          ('ruu', 'pks', 'tersandera'): 1,\n          ('pks', 'tersandera', 'oleh'): 1,\n          ('tersandera', 'oleh', 'ruu'): 1,\n          ('oleh', 'ruu', 'kuhp'): 1,\n          ('ruu', 'kuhp', 'belum'): 1,\n          ('kuhp', 'belum', 'teridentifikasi'): 1,\n          ('4', 'korban', 'kecelakaan'): 1,\n          ('korban', 'kecelakaan', 'cipularang'): 1,\n          ('kecelakaan', 'cipularang', 'diduga'): 1,\n          ('cipularang', 'diduga', 'perempuan'): 1,\n          ('diduga', 'perempuan', 'siswi'): 1,\n          ('perempuan', 'siswi', 'smk'): 1,\n          ('siswi', 'smk', 'bandung'): 2,\n          ('smk', 'bandung', 'ditikam'): 1,\n          ('bandung', 'ditikam', 'dekat'): 1,\n          ('ditikam', 'dekat', 'sekolah'): 2,\n          ('dekat', 'sekolah', 'karena'): 1,\n          ('sekolah', 'karena', 'tolak'): 1,\n          ('karena', 'tolak', 'cinta'): 1,\n          ('tolak', 'cinta', 'pelaku'): 1,\n          ('cinta', 'pelaku', 'jika'): 1,\n          ('pelaku', 'jika', 'tak'): 1,\n          ('jika', 'tak', 'kunjung'): 1,\n          ('tak', 'kunjung', 'penuhi'): 1,\n          ('kunjung', 'penuhi', 'panggilan'): 1,\n          ('veronica', 'koman', 'bakal'): 1,\n          ('koman', 'bakal', 'jadi'): 1,\n          ('bakal', 'jadi', 'dpo'): 1,\n          ('jadi', 'dpo', 'polisi'): 1,\n          ('dpo', 'polisi', 'simpulkan'): 1,\n          ('polisi', 'simpulkan', 'bos'): 1,\n          ('simpulkan', 'bos', 'sembako'): 1,\n          ('bos', 'sembako', 'di'): 1,\n          ('sembako', 'di', 'cilegon'): 1,\n          ('di', 'cilegon', 'tewas'): 1,\n          ('cilegon', 'tewas', 'bunuh'): 1,\n          ('tewas', 'bunuh', 'diri'): 1,\n          ('bunuh', 'diri', 'menengok'): 1,\n          ('diri', 'menengok', 'pantai'): 1,\n          ('menengok', 'pantai', 'mustika'): 1,\n          ('pantai', 'mustika', 'banyuwangi'): 2,\n          ('mustika', 'banyuwangi', 'asap'): 1,\n          ('banyuwangi', 'asap', 'pekat'): 1,\n          ('asap', 'pekat', 'selimuti'): 1,\n          ('pekat', 'selimuti', 'riau'): 1,\n          ('pemprov', 'gelar', 'salat'): 1,\n          ('gelar', 'salat', 'minta'): 1,\n          ('salat', 'minta', 'hujan'): 2,\n          ('minta', 'hujan', 'besok'): 1,\n          ('hujan', 'besok', 'soal'): 1,\n          ('besok', 'soal', 'kontrak'): 1,\n          ('soal', 'kontrak', 'politik'): 2,\n          ('kontrak', 'politik', 'capim'): 2,\n          ('politik', 'capim', 'kpk'): 2,\n          ('fahri', 'sebut', 'agar'): 1,\n          ('sebut', 'agar', 'taat'): 1,\n          ('agar', 'taat', 'undang-undang'): 1,\n          ('taat', 'undang-undang', 'caketum'): 1,\n          ('undang-undang', 'caketum', 'hipmi'): 1,\n          ('pengusaha', 'ri', 'harus'): 1,\n          ('ri', 'harus', 'punya'): 1,\n          ('harus', 'punya', 'jiwa'): 1,\n          ('punya', 'jiwa', 'nasionalisme'): 1,\n          ('jiwa', 'nasionalisme', 'yang'): 1,\n          ('nasionalisme', 'yang', 'kuat'): 1,\n          ('yang', 'kuat', 'kpu'): 1,\n          ('kuat', 'kpu', 'solo'): 1,\n          ('kpu', 'solo', 'ajukan'): 2,\n          ('solo', 'ajukan', 'dana'): 1,\n          ('ajukan', 'dana', 'rp'): 1,\n          ('dana', 'rp', '17'): 1,\n          ('8', 'm', 'untuk'): 1,\n          ('m', 'untuk', 'pilwalkot'): 1,\n          ('untuk', 'pilwalkot', '2020'): 1,\n          ('pilwalkot', '2020', 'utusan'): 1,\n          ('2020', 'utusan', 'khusus'): 1,\n          ('utusan', 'khusus', 'presiden'): 1,\n          ('khusus', 'presiden', 'akan'): 1,\n          ('presiden', 'akan', 'gelar'): 1,\n          ('akan', 'gelar', 'munas'): 1,\n          ('gelar', 'munas', 'tokoh'): 1,\n          ('munas', 'tokoh', 'antaragama'): 1,\n          ('tokoh', 'antaragama', 'panggil'): 1,\n          ('antaragama', 'panggil', 'veronica'): 1,\n          ('panggil', 'veronica', 'koman'): 1,\n          ('polisi', 'tunggu', 'hingga'): 1,\n          ('tunggu', 'hingga', 'dua'): 1,\n          ('hingga', 'dua', 'pekan'): 1,\n          ('dua', 'pekan', 'ke'): 1,\n          ('pekan', 'ke', 'depan'): 1,\n          ('ke', 'depan', 'kpk'): 1,\n          ('depan', 'kpk', 'tetapkan'): 1,\n          ('kpk', 'tetapkan', 'eks'): 2,\n          ('tetapkan', 'eks', 'pejabat'): 1,\n          ('eks', 'pejabat', 'pertamina'): 1,\n          ('pejabat', 'pertamina', 'energy'): 1,\n          ('pertamina', 'energy', 'tersangka'): 1,\n          ('energy', 'tersangka', 'mafia'): 1,\n          ('tersangka', 'mafia', 'migas'): 3,\n          ('mafia', 'migas', 'dipeluk'): 1,\n          ('migas', 'dipeluk', 'istri'): 1,\n          ('dipeluk', 'istri', 'sebelum'): 1,\n          ('istri', 'sebelum', 'jalani'): 1,\n          ('sebelum', 'jalani', 'sidang'): 1,\n          ('kivlan', 'zen', 'menangis'): 1,\n          ('zen', 'menangis', 'icw'): 1,\n          ('jangan', 'pertaruhkan', 'kpk'): 1,\n          ('pak', 'jokowi', 'bocah'): 1,\n          ('jokowi', 'bocah', 'di'): 1,\n          ('bocah', 'di', 'bekasi'): 2,\n          ('di', 'bekasi', 'disebut'): 1,\n          ('bekasi', 'disebut', 'tewas'): 1,\n          ('disebut', 'tewas', 'karena'): 1,\n          ('tewas', 'karena', 'bully'): 1,\n          ('kpad', 'imbau', 'keluarga'): 1,\n          ('imbau', 'keluarga', 'melapor'): 1,\n          ('keluarga', 'melapor', 'jk'): 1,\n          ('melapor', 'jk', 'soal'): 1,\n          ('jk', 'soal', 'revisi'): 2,\n          ('soal', 'revisi', 'uu'): 10,\n          ('penuntutan', 'tak', 'perlu'): 1,\n          ('tak', 'perlu', 'koordinasi'): 1,\n          ('perlu', 'koordinasi', 'dengan'): 1,\n          ('koordinasi', 'dengan', 'jaksa'): 1,\n          ('dengan', 'jaksa', 'agung'): 1,\n          ('jaksa', 'agung', 'komisi'): 1,\n          ('agung', 'komisi', 'iii'): 1,\n          ('komisi', 'iii', 'dpr'): 7,\n          ('iii', 'dpr', 'pastikan'): 1,\n          ('dpr', 'pastikan', 'tampung'): 1,\n          ('pastikan', 'tampung', 'semua'): 1,\n          ('tampung', 'semua', 'masukan'): 1,\n          ('semua', 'masukan', 'soal'): 1,\n          ('masukan', 'soal', 'capim'): 1,\n          ('soal', 'capim', 'kpk'): 2,\n          ('capim', 'kpk', 'tokoh'): 1,\n          ('kpk', 'tokoh', 'papua'): 1,\n          ('tokoh', 'papua', 'yang'): 2,\n          ('papua', 'yang', 'diundang'): 1,\n          ('yang', 'diundang', 'jokowi'): 1,\n          ('diundang', 'jokowi', 'eks'): 1,\n          ('jokowi', 'eks', 'timses'): 1,\n          ('kebetulan', 'saja', 'wagub'): 1,\n          ('saja', 'wagub', 'jabar'): 1,\n          ('wagub', 'jabar', 'minta'): 1,\n          ('jabar', 'minta', 'pekerja'): 1,\n          ('minta', 'pekerja', 'di'): 1,\n          ('pekerja', 'di', 'lingkungan'): 1,\n          ('di', 'lingkungan', 'pemprov'): 1,\n          ('lingkungan', 'pemprov', 'jabar'): 1,\n          ('pemprov', 'jabar', 'daftar'): 1,\n          ('jabar', 'daftar', 'bpjs'): 1,\n          ('daftar', 'bpjs', 'tk'): 1,\n          ('bpjs', 'tk', 'anak'): 1,\n          ('tk', 'anak', 'dan'): 1,\n          ('anak', 'dan', 'cucu'): 1,\n          ('dan', 'cucu', 'berkumpul'): 1,\n          ('cucu', 'berkumpul', 'temani'): 1,\n          ('berkumpul', 'temani', 'bj'): 1,\n          ('temani', 'bj', 'habibie'): 1,\n          ('gatot', 'soebroto', 'gara-gara'): 1,\n          ('soebroto', 'gara-gara', 'puntung'): 1,\n          ('gara-gara', 'puntung', 'rokok'): 1,\n          ('28', 'hektare', 'lahan'): 1,\n          ('hektare', 'lahan', 'di'): 1,\n          ('lahan', 'di', 'sulteng'): 1,\n          ('di', 'sulteng', 'terbakar'): 1,\n          ('sulteng', 'terbakar', 'topan'): 1,\n          ('terbakar', 'topan', 'faxai'): 1,\n          ('topan', 'faxai', 'hantam'): 1,\n          ('faxai', 'hantam', 'jepang'): 1,\n          ('000', 'penumpang', 'telantar'): 1,\n          ('penumpang', 'telantar', 'di'): 1,\n          ('telantar', 'di', 'bandara'): 1,\n          ('di', 'bandara', 'narita'): 1,\n          ('bandara', 'narita', 'gajah'): 1,\n          ('narita', 'gajah', 'mengamuk'): 1,\n          ('gajah', 'mengamuk', 'ketika'): 1,\n          ('mengamuk', 'ketika', 'ikut'): 1,\n          ('ketika', 'ikut', 'festival'): 1,\n          ('ikut', 'festival', 'agama'): 1,\n          ('festival', 'agama', 'di'): 2,\n          ('agama', 'di', 'sri'): 2,\n          ('di', 'sri', 'lanka'): 2,\n          ('18', 'terluka', 'waduk'): 1,\n          ('terluka', 'waduk', 'pacal'): 1,\n          ('waduk', 'pacal', 'di'): 1,\n          ('pacal', 'di', 'bojonegoro'): 1,\n          ('di', 'bojonegoro', 'surut'): 1,\n          ('lahan', 'pertanian', 'di'): 1,\n          ('pertanian', 'di', '4'): 1,\n          ('di', '4', 'kecamatan'): 1,\n          ('4', 'kecamatan', 'kekeringan'): 1,\n          ('kecamatan', 'kekeringan', 'komisi'): 1,\n          ('kekeringan', 'komisi', 'iii'): 1,\n          ('iii', 'dpr', 'gelar'): 1,\n          ('dpr', 'gelar', 'rdpu'): 1,\n          ('gelar', 'rdpu', 'tampung'): 1,\n          ('rdpu', 'tampung', 'masukan'): 1,\n          ('tampung', 'masukan', 'soal'): 1,\n          ('masukan', 'soal', 'seleksi'): 1,\n          ('soal', 'seleksi', 'capim'): 1,\n          ('seleksi', 'capim', 'kpk'): 3,\n          ('capim', 'kpk', 'hut'): 1,\n          ('kpk', 'hut', 'ke-70'): 1,\n          ('brigif', 'raider', '13'): 1,\n          ('raider', '13', 'ziarah'): 1,\n          ('13', 'ziarah', 'ke'): 1,\n          ('ziarah', 'ke', 'makam'): 4,\n          ('ke', 'makam', 'bupati'): 1,\n          ('makam', 'bupati', 'galuh'): 1,\n          ('bupati', 'galuh', 'ciamis'): 1,\n          ('galuh', 'ciamis', 'pesan'): 1,\n          ('ciamis', 'pesan', 'kpk'): 1,\n          ('pesan', 'kpk', 'ke'): 1,\n          ('kpk', 'ke', 'jokowi'): 2,\n          ('pembangunan', 'tak', 'tercapai'): 1,\n          ('tak', 'tercapai', 'jika'): 1,\n          ('tercapai', 'jika', 'masih'): 1,\n          ('jika', 'masih', 'digerogoti'): 1,\n          ('masih', 'digerogoti', 'korupsi'): 1,\n          ('digerogoti', 'korupsi', '40'): 1,\n          ('korupsi', '40', 'perguruan'): 1,\n          ('40', 'perguruan', 'tinggi'): 1,\n          ('perguruan', 'tinggi', 'muhammadiyah'): 1,\n          ('tinggi', 'muhammadiyah', 'se-indonesia'): 1,\n          ('muhammadiyah', 'se-indonesia', 'tolak'): 1,\n          ('se-indonesia', 'tolak', 'revisi'): 1,\n          ('uu', 'kpk', '1'): 1,\n          ('904', 'pelanggar', 'ditilang'): 1,\n          ('pelanggar', 'ditilang', 'di'): 2,\n          ('ditilang', 'di', 'hari'): 1,\n          ('di', 'hari', 'perdana'): 1,\n          ('hari', 'perdana', 'perluasan'): 1,\n          ('perdana', 'perluasan', 'ganjil-genap'): 1,\n          ('perluasan', 'ganjil-genap', 'kemarin'): 1,\n          ('ganjil-genap', 'kemarin', '4'): 1,\n          ('kemarin', '4', 'bulan'): 1,\n          ('4', 'bulan', 'lagi'): 1,\n          ('bulan', 'lagi', 'polrestabes'): 1,\n          ('lagi', 'polrestabes', 'surabaya'): 1,\n          ('polrestabes', 'surabaya', 'punya'): 1,\n          ('surabaya', 'punya', 'tempat'): 1,\n          ('punya', 'tempat', 'parkir'): 1,\n          ('tempat', 'parkir', 'bertingkat'): 1,\n          ('parkir', 'bertingkat', 'sepekan'): 1,\n          ('bertingkat', 'sepekan', 'dilantik'): 1,\n          ('anggota', 'dprd', 'jabar'): 3,\n          ('dprd', 'jabar', 'gadai'): 2,\n          ('jabar', 'gadai', 'sk'): 2,\n          ('gadai', 'sk', 'ke'): 2,\n          ('sk', 'ke', 'bank'): 3,\n          ('ke', 'bank', 'poyuono'): 1,\n          ('pemerintah-dpr', 'revisi', 'uu'): 1,\n          ('uu', 'kpk', 'agar'): 1,\n          ('kpk', 'agar', 'mudah'): 1,\n          ('agar', 'mudah', 'rampok'): 1,\n          ('mudah', 'rampok', 'uang'): 1,\n          ('rampok', 'uang', 'negara'): 1,\n          ('uang', 'negara', 'ratusan'): 1,\n          ('negara', 'ratusan', 'mahasiswa'): 1,\n          ('ratusan', 'mahasiswa', 'surabaya'): 1,\n          ('mahasiswa', 'surabaya', 'dukung'): 1,\n          ('surabaya', 'dukung', 'revisi'): 1,\n          ('dukung', 'revisi', 'uu'): 5,\n          ('uu', 'kpk', 'abraham'): 1,\n          ('kpk', 'abraham', 'samad'): 1,\n          ('jokowi', 'harus', 'minta'): 1,\n          ('harus', 'minta', 'dpr'): 1,\n          ('minta', 'dpr', 'setop'): 1,\n          ('dpr', 'setop', 'pembahasan'): 1,\n          ('setop', 'pembahasan', 'revisi'): 1,\n          ('pembahasan', 'revisi', 'uu'): 4,\n          ('uu', 'kpk', 'satgas'): 1,\n          ('kpk', 'satgas', 'karhutla'): 1,\n          ('satgas', 'karhutla', 'investigasi'): 1,\n          ('karhutla', 'investigasi', 'penyebab'): 1,\n          ('investigasi', 'penyebab', 'kebakaran'): 1,\n          ('penyebab', 'kebakaran', 'kebun'): 1,\n          ('kebakaran', 'kebun', 'tebu'): 1,\n          ('kebun', 'tebu', 'ptpn'): 1,\n          ('tebu', 'ptpn', 'vii'): 1,\n          ('ptpn', 'vii', 'ogan'): 1,\n          ('vii', 'ogan', 'ilir'): 1,\n          ('ogan', 'ilir', 'fenomena'): 1,\n          ('ilir', 'fenomena', 'anggota'): 1,\n          ('fenomena', 'anggota', 'dewan'): 1,\n          ('anggota', 'dewan', 'gadaikan'): 1,\n          ('dewan', 'gadaikan', 'sk'): 1,\n          ('di', 'dprd', 'surabaya'): 1,\n          ('dprd', 'surabaya', 'juga'): 1,\n          ('surabaya', 'juga', 'ada'): 1,\n          ('juga', 'ada', 'anies'): 1,\n          ('ada', 'anies', 'anggap'): 1,\n          ('anies', 'anggap', 'perbaikan'): 1,\n          ('anggap', 'perbaikan', 'udara'): 1,\n          ('perbaikan', 'udara', 'jakarta'): 1,\n          ('udara', 'jakarta', 'lewat'): 1,\n          ('jakarta', 'lewat', 'ganjil'): 1,\n          ('lewat', 'ganjil', 'genap'): 1,\n          ('ganjil', 'genap', 'tak'): 2,\n          ('genap', 'tak', 'bisa'): 1,\n          ('tak', 'bisa', 'instan'): 1,\n          ('bisa', 'instan', 'tepis'): 1,\n          ('instan', 'tepis', 'kabar'): 1,\n          ('tepis', 'kabar', 'bully'): 1,\n          ('polisi', 'sebut', 'bocah'): 1,\n          ('sebut', 'bocah', 'meninggal'): 1,\n          ('bocah', 'meninggal', 'di'): 1,\n          ('meninggal', 'di', 'bekasi'): 1,\n          ('di', 'bekasi', 'akibat'): 1,\n          ('bekasi', 'akibat', 'tetanus'): 1,\n          ('akibat', 'tetanus', 'tokoh'): 1,\n          ('tetanus', 'tokoh', 'papua'): 1,\n          ('tokoh', 'papua', 'bicara'): 1,\n          ('papua', 'bicara', 'ke'): 1,\n          ('bicara', 'ke', 'jokowi'): 1,\n          ('ke', 'jokowi', 'soal'): 1,\n          ('jokowi', 'soal', 'persaingan'): 1,\n          ('soal', 'persaingan', 'penduduk'): 1,\n          ('persaingan', 'penduduk', 'dan'): 1,\n          ('penduduk', 'dan', 'lingkungan'): 1,\n          ('dan', 'lingkungan', 'kritik'): 1,\n          ('lingkungan', 'kritik', 'revisi'): 1,\n          ('kritik', 'revisi', 'uu'): 1,\n          ('rektor', 'ipb-pemuka', 'agama'): 1,\n          ('ipb-pemuka', 'agama', 'tolak'): 1,\n          ('agama', 'tolak', 'pelemahan'): 1,\n          ('tolak', 'pelemahan', 'kpk'): 3,\n          ('pelemahan', 'kpk', 'menggalang'): 1,\n          ('kpk', 'menggalang', 'pembiayaan'): 1,\n          ('menggalang', 'pembiayaan', 'ibu'): 1,\n          ('pembiayaan', 'ibu', 'kota'): 1,\n          ('ibu', 'kota', 'baru'): 22,\n          ('kota', 'baru', 'pasukan'): 1,\n          ('baru', 'pasukan', 'kostrad'): 1,\n          ('pasukan', 'kostrad', 'dikerahkan'): 1,\n          ('kostrad', 'dikerahkan', 'untuk'): 1,\n          ('dikerahkan', 'untuk', 'tangkap'): 1,\n          ('untuk', 'tangkap', 'pelaku'): 1,\n          ('tangkap', 'pelaku', 'karhutla'): 1,\n          ('pelaku', 'karhutla', 'di'): 2,\n          ('karhutla', 'di', 'riau'): 7,\n          ('di', 'riau', 'satu-satunya'): 1,\n          ('riau', 'satu-satunya', 'korban'): 1,\n          ('satu-satunya', 'korban', 'selamat'): 1,\n          ('korban', 'selamat', 'kecelakaan'): 1,\n          ('selamat', 'kecelakaan', 'maut'): 1,\n          ('kecelakaan', 'maut', 'di'): 5,\n          ('maut', 'di', 'nganjuk'): 3,\n          ('di', 'nganjuk', 'diciduk'): 1,\n          ('nganjuk', 'diciduk', 'kasus'): 1,\n          ('diciduk', 'kasus', 'narkoba'): 1,\n          ('kasus', 'narkoba', 'home'): 1,\n          ('narkoba', 'home', 'industry'): 1,\n          ('home', 'industry', 'arak'): 1,\n          ('industry', 'arak', 'di'): 1,\n          ('arak', 'di', 'sidoarjo'): 1,\n          ('di', 'sidoarjo', 'digerebek'): 1,\n          ('dua', 'orang', 'diamankan'): 1,\n          ('orang', 'diamankan', 'jokowi'): 1,\n          ('diamankan', 'jokowi', 'ke'): 1,\n          ('jokowi', 'ke', 'papua'): 1,\n          ('ke', 'papua', 'lagi'): 1,\n          ('papua', 'lagi', 'paling'): 1,\n          ('lagi', 'paling', 'telat'): 1,\n          ('paling', 'telat', 'oktober'): 1,\n          ('resmikan', 'jembatan', 'holtekamp'): 1,\n          ('jembatan', 'holtekamp', 'trump'): 1,\n          ('holtekamp', 'trump', 'umumkan'): 1,\n          ('trump', 'umumkan', 'perundingan'): 1,\n          ('umumkan', 'perundingan', 'damai'): 1,\n          ('perundingan', 'damai', 'dengan'): 2,\n          ('damai', 'dengan', 'taliban'): 2,\n          ('dengan', 'taliban', 'sudah'): 2,\n          ('taliban', 'sudah', 'mati'): 2,\n          ('sudah', 'mati', 'jokowi'): 1,\n          ('mati', 'jokowi', 'janjikan'): 1,\n          ('jokowi', 'janjikan', '1'): 1,\n          ('000', 'sarjana', 'papua'): 1,\n          ('sarjana', 'papua', 'bekerja'): 1,\n          ('papua', 'bekerja', 'di'): 1,\n          ('bekerja', 'di', 'bumn-perusahaan'): 1,\n          ('di', 'bumn-perusahaan', 'besar'): 1,\n          ('bumn-perusahaan', 'besar', 'ibu'): 1,\n          ('besar', 'ibu', 'bayi'): 1,\n          ('ibu', 'bayi', 'yang'): 1,\n          ('bayi', 'yang', 'kaki-tangannya'): 1,\n          ('yang', 'kaki-tangannya', 'putus'): 1,\n          ('kaki-tangannya', 'putus', 'di'): 1,\n          ('putus', 'di', 'tangerang'): 1,\n          ('di', 'tangerang', 'serahkan'): 1,\n          ('tangerang', 'serahkan', 'diri'): 1,\n          ('serahkan', 'diri', 'ke'): 1,\n          ('diri', 'ke', 'polisi'): 1,\n          ('ke', 'polisi', 'melihat'): 1,\n          ('polisi', 'melihat', 'ke'): 1,\n          ('melihat', 'ke', 'belakang'): 1,\n          ('ke', 'belakang', 'pengusutan'): 1,\n          ('belakang', 'pengusutan', 'kpk'): 1,\n          ('pengusutan', 'kpk', 'soal'): 1,\n          ('kpk', 'soal', 'mafia'): 1,\n          ('soal', 'mafia', 'migas'): 1,\n          ('mafia', 'migas', 'terkait'): 2,\n          ('migas', 'terkait', 'petral'): 2,\n          ('terkait', 'petral', 'banyuwangi'): 1,\n          ('petral', 'banyuwangi', 'dan'): 1,\n          ('banyuwangi', 'dan', 'perawat'): 1,\n          ('dan', 'perawat', 'kolaborasi'): 1,\n          ('perawat', 'kolaborasi', 'bikin'): 1,\n          ('kolaborasi', 'bikin', 'sehat'): 1,\n          ('bikin', 'sehat', 'usaha'): 1,\n          ('sehat', 'usaha', 'wisata'): 1,\n          ('usaha', 'wisata', 'warga'): 2,\n          ('wisata', 'warga', 'dua'): 1,\n          ('warga', 'dua', 'korban'): 1,\n          ('dua', 'korban', 'kecelakaan'): 1,\n          ('korban', 'kecelakaan', 'maut'): 3,\n          ('di', 'nganjuk', 'ternyata'): 1,\n          ('nganjuk', 'ternyata', 'dpo'): 1,\n          ('ternyata', 'dpo', 'kasus'): 1,\n          ('dpo', 'kasus', 'narkoba'): 1,\n          ('kasus', 'narkoba', 'kabut'): 1,\n          ('narkoba', 'kabut', 'asap'): 1,\n          ('kabut', 'asap', 'bikin'): 1,\n          ('asap', 'bikin', 'penerbangan'): 1,\n          ('bikin', 'penerbangan', 'di'): 1,\n          ('penerbangan', 'di', 'banjarmasin'): 2,\n          ('di', 'banjarmasin', 'terganggu'): 1,\n          ('banjarmasin', 'terganggu', 'tokoh'): 1,\n          ('terganggu', 'tokoh', 'papua'): 1,\n          ('tokoh', 'papua', 'minta'): 1,\n          ('papua', 'minta', 'jokowi'): 1,\n          ('minta', 'jokowi', 'bangun'): 1,\n          ('bangun', 'istana', 'presiden'): 3,\n          ('istana', 'presiden', 'di'): 6,\n          ('presiden', 'di', 'papua'): 6,\n          ('di', 'papua', 'jaksa'): 2,\n          ('papua', 'jaksa', 'kpk'): 1,\n          ('jaksa', 'kpk', 'minta'): 1,\n          ('kpk', 'minta', 'ma'): 1,\n          ('minta', 'ma', 'tolak'): 1,\n          ('ma', 'tolak', 'pk'): 1,\n          ('tolak', 'pk', 'novanto'): 1,\n          ('pk', 'novanto', 'tata'): 1,\n          ('novanto', 'tata', 'cara'): 1,\n          ('tata', 'cara', 'umroh'): 1,\n          ('dan', 'bacaannya', '40'): 1,\n          ('bacaannya', '40', 'persen'): 1,\n          ('40', 'persen', 'dewan'): 1,\n          ('persen', 'dewan', 'ciamis'): 1,\n          ('dewan', 'ciamis', 'gadaikan'): 1,\n          ('ciamis', 'gadaikan', 'sk'): 1,\n          ('daripada', 'mencuri', 'uang'): 1,\n          ('mencuri', 'uang', 'negara'): 1,\n          ('uang', 'negara', 'seputar'): 1,\n          ('negara', 'seputar', 'kecelakaan'): 1,\n          ('seputar', 'kecelakaan', 'maut'): 1,\n          ('maut', 'di', 'jalur'): 1,\n          ('di', 'jalur', 'nganjuk-madiun'): 1,\n          ('jalur', 'nganjuk-madiun', 'yang'): 1,\n          ('nganjuk-madiun', 'yang', 'tewaskan'): 1,\n          ('yang', 'tewaskan', '3'): 2,\n          ('3', 'orang', 'pj'): 1,\n          ('orang', 'pj', 'walkot'): 1,\n          ('pj', 'walkot', 'makassar'): 2,\n          ('walkot', 'makassar', 'sebut'): 1,\n          ('makassar', 'sebut', 'rilis'): 1,\n          ('sebut', 'rilis', 'edaran'): 1,\n          ('rilis', 'edaran', 'antisipasi'): 2,\n          ('edaran', 'antisipasi', 'syiah'): 2,\n          ('antisipasi', 'syiah', 'rekomendasi'): 1,\n          ('syiah', 'rekomendasi', 'mui'): 1,\n          ('rekomendasi', 'mui', 'dipimpin'): 1,\n          ('mui', 'dipimpin', 'ibas'): 1,\n          ('demokrat', 'gelar', 'pembekalan'): 1,\n          ('gelar', 'pembekalan', 'anggota'): 1,\n          ('pembekalan', 'anggota', 'legislatif'): 1,\n          ('anggota', 'legislatif', '2019-2024'): 1,\n          ('legislatif', '2019-2024', 'jokowi'): 1,\n          ('tahun', 'depan', 'istana'): 1,\n          ('depan', 'istana', 'presiden'): 1,\n          ('di', 'papua', 'mulai'): 2,\n          ('papua', 'mulai', 'dibangun'): 1,\n          ('mulai', 'dibangun', 'jokowi'): 1,\n          ('dibangun', 'jokowi', 'undang'): 1,\n          ('jokowi', 'undang', 'tokoh'): 1,\n          ('undang', 'tokoh', 'papua'): 1,\n          ('tokoh', 'papua', 'ke'): 1,\n          ('papua', 'ke', 'istana'): 1,\n          ('ke', 'istana', 'hari'): 1,\n          ('istana', 'hari', 'ini'): 1,\n          ('hari', 'ini', 'china'): 1,\n          ('ini', 'china', 'geram'): 1,\n          ('china', 'geram', 'atas'): 1,\n          ('geram', 'atas', 'pernyataan'): 1,\n          ('atas', 'pernyataan', 'menlu'): 1,\n          ('pernyataan', 'menlu', 'as'): 1,\n          ('menlu', 'as', 'soal'): 1,\n          ('as', 'soal', 'perlakuan'): 1,\n          ('soal', 'perlakuan', 'terhadap'): 1,\n          ('perlakuan', 'terhadap', 'uighur'): 1,\n          ('terhadap', 'uighur', 'oso'): 1,\n          ('uighur', 'oso', 'soal'): 1,\n          ('oso', 'soal', 'revisi'): 1,\n          ('tentunya', 'kita', 'tidak'): 1,\n          ('kita', 'tidak', 'akan'): 2,\n          ...}),\n 4: Counter({('masuk', 'radar', 'pilwalkot', 'medan'): 1,\n          ('menantu', 'jokowi', 'bertemu', 'dpw'): 1,\n          ('jokowi', 'bertemu', 'dpw', 'nasdem'): 1,\n          ('bertemu', 'dpw', 'nasdem', 'sumut'): 1,\n          ('dpw', 'nasdem', 'sumut', 'malaysia'): 1,\n          ('nasdem', 'sumut', 'malaysia', 'sudutkan'): 1,\n          ('sumut', 'malaysia', 'sudutkan', 'ri'): 1,\n          ('isu', 'kabut', 'asap', 'hingga'): 1,\n          ('kabut', 'asap', 'hingga', 'invasi'): 1,\n          ('asap', 'hingga', 'invasi', 'babi'): 1,\n          ('hingga', 'invasi', 'babi', 'kemensos'): 1,\n          ('invasi', 'babi', 'kemensos', 'salurkan'): 1,\n          ('babi', 'kemensos', 'salurkan', 'rp'): 1,\n          ('kemensos', 'salurkan', 'rp', '7'): 1,\n          ('3', 'm', 'bagi', 'korban'): 1,\n          ('m', 'bagi', 'korban', 'kerusuhan'): 1,\n          ('bagi', 'korban', 'kerusuhan', 'sosial'): 1,\n          ('korban', 'kerusuhan', 'sosial', 'di'): 1,\n          ('kerusuhan', 'sosial', 'di', 'papua'): 1,\n          ('sosial', 'di', 'papua', 'mpr'): 1,\n          ('amandemen', 'uud', '1945', 'tak'): 1,\n          ('uud', '1945', 'tak', 'akan'): 1,\n          ('1945', 'tak', 'akan', 'melebar'): 1,\n          ('tak', 'akan', 'melebar', 'ke'): 1,\n          ('akan', 'melebar', 'ke', 'mana-mana'): 1,\n          ('melebar', 'ke', 'mana-mana', 'peringati'): 1,\n          ('ke', 'mana-mana', 'peringati', 'tahun'): 1,\n          ('mana-mana', 'peringati', 'tahun', 'baru'): 1,\n          ('peringati', 'tahun', 'baru', 'islam'): 2,\n          ('banyuwangi', 'kembali', 'gelar', 'festival'): 2,\n          ('kembali', 'gelar', 'festival', 'muharam'): 2,\n          ('gelar', 'festival', 'muharam', 'wanita'): 1,\n          ('festival', 'muharam', 'wanita', 'asal'): 1,\n          ('muharam', 'wanita', 'asal', 'kendari'): 1,\n          ('wanita', 'asal', 'kendari', 'nyaris'): 1,\n          ('asal', 'kendari', 'nyaris', 'diperkosa'): 1,\n          ('kendari', 'nyaris', 'diperkosa', 'di'): 1,\n          ('nyaris', 'diperkosa', 'di', 'jalanan'): 1,\n          ('diperkosa', 'di', 'jalanan', 'makassar'): 1,\n          ('pelaku', 'diburu', 'hnw', 'sebut'): 1,\n          ('diburu', 'hnw', 'sebut', 'gbhn'): 1,\n          ('hnw', 'sebut', 'gbhn', 'jamin'): 1,\n          ('sebut', 'gbhn', 'jamin', 'rencana'): 1,\n          ('gbhn', 'jamin', 'rencana', 'pembangunan'): 1,\n          ('jamin', 'rencana', 'pembangunan', 'ri'): 1,\n          ('rencana', 'pembangunan', 'ri', 'jangka'): 1,\n          ('pembangunan', 'ri', 'jangka', 'panjang'): 1,\n          ('ri', 'jangka', 'panjang', 'jakpro'): 1,\n          ('jangka', 'panjang', 'jakpro', 'jawab'): 1,\n          ('panjang', 'jakpro', 'jawab', 'protes'): 1,\n          ('jakpro', 'jawab', 'protes', 'adhi'): 1,\n          ('jawab', 'protes', 'adhi', 'karya'): 1,\n          ('protes', 'adhi', 'karya', 'soal'): 1,\n          ('adhi', 'karya', 'soal', 'tender'): 1,\n          ('karya', 'soal', 'tender', 'proyek'): 1,\n          ('soal', 'tender', 'proyek', 'jis'): 1,\n          ('tender', 'proyek', 'jis', 'diberi'): 1,\n          ('proyek', 'jis', 'diberi', 'ke'): 1,\n          ('jis', 'diberi', 'ke', 'wika'): 1,\n          ('diberi', 'ke', 'wika', 'lokasi'): 1,\n          ('ke', 'wika', 'lokasi', 'istana'): 1,\n          ('wika', 'lokasi', 'istana', 'presiden'): 1,\n          ('lokasi', 'istana', 'presiden', 'ri'): 1,\n          ('istana', 'presiden', 'ri', 'di'): 1,\n          ('presiden', 'ri', 'di', 'papua'): 1,\n          ('ri', 'di', 'papua', '15'): 1,\n          ('di', 'papua', '15', 'menit'): 1,\n          ('papua', '15', 'menit', 'lewat'): 1,\n          ('15', 'menit', 'lewat', 'jembatan'): 1,\n          ('menit', 'lewat', 'jembatan', 'holtekamp'): 1,\n          ('lewat', 'jembatan', 'holtekamp', 'hiasan'): 1,\n          ('jembatan', 'holtekamp', 'hiasan', 'taman'): 1,\n          ('holtekamp', 'hiasan', 'taman', 'asia'): 1,\n          ('hiasan', 'taman', 'asia', 'afrika'): 1,\n          ('taman', 'asia', 'afrika', 'di'): 1,\n          ('asia', 'afrika', 'di', 'bandung'): 1,\n          ('afrika', 'di', 'bandung', 'rusak'): 1,\n          ('di', 'bandung', 'rusak', 'diterjang'): 1,\n          ('bandung', 'rusak', 'diterjang', 'angin'): 1,\n          ('rusak', 'diterjang', 'angin', 'kencang'): 1,\n          ('diterjang', 'angin', 'kencang', 'polemik'): 1,\n          ('angin', 'kencang', 'polemik', 'pb'): 1,\n          ('kencang', 'polemik', 'pb', 'djarum'): 1,\n          ('polemik', 'pb', 'djarum', 'dan'): 1,\n          ('pb', 'djarum', 'dan', 'kpai'): 2,\n          ('mestinya', 'bisa', 'dimusyawarahkan', 'pengacara'): 1,\n          ('bisa', 'dimusyawarahkan', 'pengacara', 'ajukan'): 1,\n          ('dimusyawarahkan', 'pengacara', 'ajukan', 'penangguhan'): 1,\n          ('pengacara', 'ajukan', 'penangguhan', 'penahanan'): 1,\n          ('ajukan', 'penangguhan', 'penahanan', 'kivlan'): 1,\n          ('penangguhan', 'penahanan', 'kivlan', 'zen'): 1,\n          ('penahanan', 'kivlan', 'zen', 'eksepsi'): 1,\n          ('kivlan', 'zen', 'eksepsi', 'bassist'): 1,\n          ('zen', 'eksepsi', 'bassist', 'boomerang'): 1,\n          ('eksepsi', 'bassist', 'boomerang', 'hubert'): 1,\n          ('bassist', 'boomerang', 'hubert', 'henry'): 1,\n          ('boomerang', 'hubert', 'henry', 'dalam'): 1,\n          ('hubert', 'henry', 'dalam', 'kasus'): 1,\n          ('henry', 'dalam', 'kasus', 'ganja'): 1,\n          ('dalam', 'kasus', 'ganja', 'ditolak'): 1,\n          ('kasus', 'ganja', 'ditolak', 'hakim'): 1,\n          ('ganja', 'ditolak', 'hakim', 'jenguk'): 1,\n          ('ditolak', 'hakim', 'jenguk', 'bj'): 1,\n          ('hakim', 'jenguk', 'bj', 'habibie'): 1,\n          ('jenguk', 'bj', 'habibie', 'di'): 3,\n          ('bj', 'habibie', 'di', 'rspad'): 4,\n          ('beliau', 'semangat', 'recovery', 'jk'): 1,\n          ('semangat', 'recovery', 'jk', 'jenguk'): 1,\n          ('recovery', 'jk', 'jenguk', 'habibie'): 1,\n          ('jk', 'jenguk', 'habibie', 'di'): 2,\n          ('jenguk', 'habibie', 'di', 'rspad'): 3,\n          ('habibie', 'di', 'rspad', 'gatot'): 3,\n          ('di', 'rspad', 'gatot', 'soebroto'): 3,\n          ('rspad', 'gatot', 'soebroto', 'sebuah'): 1,\n          ('gatot', 'soebroto', 'sebuah', 'mobil'): 1,\n          ('soebroto', 'sebuah', 'mobil', 'tertimpa'): 1,\n          ('sebuah', 'mobil', 'tertimpa', 'pohon'): 1,\n          ('mobil', 'tertimpa', 'pohon', 'di'): 1,\n          ('tertimpa', 'pohon', 'di', 'pondok'): 2,\n          ('pohon', 'di', 'pondok', 'indah'): 2,\n          ('pengemudi', 'terluka', 'demokrat', 'akan'): 1,\n          ('terluka', 'demokrat', 'akan', 'bangun'): 1,\n          ('demokrat', 'akan', 'bangun', 'museum'): 2,\n          ('akan', 'bangun', 'museum', 'dan'): 1,\n          ('bangun', 'museum', 'dan', 'art'): 1,\n          ('museum', 'dan', 'art', 'gallery'): 1,\n          ('dan', 'art', 'gallery', 'sby-ani'): 1,\n          ('art', 'gallery', 'sby-ani', 'di'): 1,\n          ('gallery', 'sby-ani', 'di', 'pacitan'): 1,\n          ('sby-ani', 'di', 'pacitan', 'mendagri'): 1,\n          ('di', 'pacitan', 'mendagri', 'jamin'): 1,\n          ('pacitan', 'mendagri', 'jamin', 'pelaksanaan'): 1,\n          ('mendagri', 'jamin', 'pelaksanaan', 'uu'): 1,\n          ('jamin', 'pelaksanaan', 'uu', 'otsus'): 2,\n          ('pelaksanaan', 'uu', 'otsus', 'di'): 1,\n          ('uu', 'otsus', 'di', 'papua'): 1,\n          ('otsus', 'di', 'papua', 'dilanjutkan'): 1,\n          ('di', 'papua', 'dilanjutkan', 'tegaskan'): 1,\n          ('papua', 'dilanjutkan', 'tegaskan', 'dukung'): 1,\n          ('dilanjutkan', 'tegaskan', 'dukung', 'pemerintah'): 1,\n          ('kami', 'tak', 'pernah', 'kenal'): 1,\n          ('tak', 'pernah', 'kenal', 'oposisi'): 1,\n          ('pernah', 'kenal', 'oposisi', 'peredaran'): 1,\n          ('kenal', 'oposisi', 'peredaran', 'snack'): 1,\n          ('oposisi', 'peredaran', 'snack', 'tanpa'): 1,\n          ('peredaran', 'snack', 'tanpa', 'izin'): 1,\n          ('snack', 'tanpa', 'izin', 'dibongkar'): 1,\n          ('omzet', 'sebulan', 'capai', 'rp'): 1,\n          ('sebulan', 'capai', 'rp', '1'): 1,\n          ('5', 'miliar', 'mayat', 'pria'): 1,\n          ('miliar', 'mayat', 'pria', 'ditemukan'): 1,\n          ('mayat', 'pria', 'ditemukan', 'di'): 2,\n          ('pria', 'ditemukan', 'di', 'kalimalang'): 1,\n          ('ditemukan', 'di', 'kalimalang', 'bekasi'): 1,\n          ('diduga', 'korban', 'tenggelam', 'pesan'): 1,\n          ('korban', 'tenggelam', 'pesan', 'anak'): 1,\n          ('tenggelam', 'pesan', 'anak', 'habibie'): 1,\n          ('pesan', 'anak', 'habibie', 'ke'): 1,\n          ('anak', 'habibie', 'ke', 'penjenguk'): 1,\n          ('bapak', 'perlu', 'istirahat', 'kpk'): 1,\n          ('perlu', 'istirahat', 'kpk', 'curhat'): 1,\n          ('istirahat', 'kpk', 'curhat', 'pencegahan'): 1,\n          ('kpk', 'curhat', 'pencegahan', 'korupsi'): 1,\n          ('curhat', 'pencegahan', 'korupsi', 'tak'): 1,\n          ('pencegahan', 'korupsi', 'tak', 'dianggap'): 1,\n          ('banyak', 'uang', 'negara', 'diselamatkan'): 1,\n          ('uang', 'negara', 'diselamatkan', 'act'): 1,\n          ('negara', 'diselamatkan', 'act', 'inisiasi'): 1,\n          ('diselamatkan', 'act', 'inisiasi', 'gerakan'): 1,\n          ('act', 'inisiasi', 'gerakan', 'nasional'): 2,\n          ('inisiasi', 'gerakan', 'nasional', '#indonesiadermawan'): 2,\n          ('gerakan', 'nasional', '#indonesiadermawan', 'demokrat'): 1,\n          ('nasional', '#indonesiadermawan', 'demokrat', 'dukung'): 1,\n          ('#indonesiadermawan', 'demokrat', 'dukung', 'langkah'): 1,\n          ('demokrat', 'dukung', 'langkah', 'jokowi'): 1,\n          ('dukung', 'langkah', 'jokowi', 'bangun'): 1,\n          ('langkah', 'jokowi', 'bangun', 'istana'): 1,\n          ('jokowi', 'bangun', 'istana', 'di'): 2,\n          ('bangun', 'istana', 'di', 'papua'): 2,\n          ('istana', 'di', 'papua', 'menkum'): 1,\n          ('di', 'papua', 'menkum', 'ham'): 1,\n          ('papua', 'menkum', 'ham', 'sudah'): 1,\n          ('menkum', 'ham', 'sudah', 'kaji'): 1,\n          ('ham', 'sudah', 'kaji', 'draf'): 1,\n          ('sudah', 'kaji', 'draf', 'revisi'): 1,\n          ('kaji', 'draf', 'revisi', 'uu'): 1,\n          ('draf', 'revisi', 'uu', 'kpk'): 1,\n          ('revisi', 'uu', 'kpk', 'mpr'): 1,\n          ('uu', 'kpk', 'mpr', 'gelar'): 1,\n          ('kpk', 'mpr', 'gelar', 'diskusi'): 1,\n          ('mpr', 'gelar', 'diskusi', 'evaluasi'): 2,\n          ('gelar', 'diskusi', 'evaluasi', 'pelaksanaan'): 2,\n          ('diskusi', 'evaluasi', 'pelaksanaan', 'uud'): 2,\n          ('evaluasi', 'pelaksanaan', 'uud', 'di'): 2,\n          ('pelaksanaan', 'uud', 'di', 'yogyakarta'): 1,\n          ('uud', 'di', 'yogyakarta', 'kpk'): 1,\n          ('di', 'yogyakarta', 'kpk', 'tanggapi'): 1,\n          ('yogyakarta', 'kpk', 'tanggapi', 'dpr'): 1,\n          ('penegakan', 'hukum', 'tak', 'boleh'): 1,\n          ('hukum', 'tak', 'boleh', 'terikat'): 1,\n          ('tak', 'boleh', 'terikat', 'komitmen'): 1,\n          ('boleh', 'terikat', 'komitmen', 'politik'): 1,\n          ('terikat', 'komitmen', 'politik', 'pengacara'): 1,\n          ('komitmen', 'politik', 'pengacara', 'sebut'): 1,\n          ('politik', 'pengacara', 'sebut', 'dakwaan'): 1,\n          ('pengacara', 'sebut', 'dakwaan', 'kivlan'): 1,\n          ('sebut', 'dakwaan', 'kivlan', 'zen'): 1,\n          ('dakwaan', 'kivlan', 'zen', 'dipaksakan'): 1,\n          ('kivlan', 'zen', 'dipaksakan', 'polisi'): 1,\n          ('zen', 'dipaksakan', 'polisi', 'belanda'): 1,\n          ('dipaksakan', 'polisi', 'belanda', 'tembak'): 1,\n          ('polisi', 'belanda', 'tembak', 'mati'): 1,\n          ('belanda', 'tembak', 'mati', 'istri'): 1,\n          ('tembak', 'mati', 'istri', 'dan'): 1,\n          ('mati', 'istri', 'dan', '2'): 1,\n          ('istri', 'dan', '2', 'putrinya'): 1,\n          ('dan', '2', 'putrinya', 'lalu'): 1,\n          ('2', 'putrinya', 'lalu', 'bunuh'): 1,\n          ('putrinya', 'lalu', 'bunuh', 'diri'): 1,\n          ('lalu', 'bunuh', 'diri', '6'): 1,\n          ('bunuh', 'diri', '6', 'perampok'): 1,\n          ('diri', '6', 'perampok', 'bersebo'): 1,\n          ('6', 'perampok', 'bersebo', 'tembak'): 1,\n          ('perampok', 'bersebo', 'tembak', 'warga'): 1,\n          ('bersebo', 'tembak', 'warga', 'hingga'): 1,\n          ('tembak', 'warga', 'hingga', 'tewas'): 1,\n          ('warga', 'hingga', 'tewas', 'di'): 1,\n          ('hingga', 'tewas', 'di', 'sumsel'): 1,\n          ('tewas', 'di', 'sumsel', 'tepis'): 1,\n          ('di', 'sumsel', 'tepis', 'jadi'): 1,\n          ('sumsel', 'tepis', 'jadi', 'penyebab'): 1,\n          ('tepis', 'jadi', 'penyebab', 'tunggal'): 1,\n          ('jadi', 'penyebab', 'tunggal', 'kabut'): 1,\n          ('penyebab', 'tunggal', 'kabut', 'asap'): 1,\n          ('ri', 'akan', 'surati', 'malaysia'): 1,\n          ('akan', 'surati', 'malaysia', 'jokowi'): 1,\n          ('surati', 'malaysia', 'jokowi', 'diminta'): 1,\n          ('malaysia', 'jokowi', 'diminta', 'mekarkan'): 1,\n          ('jokowi', 'diminta', 'mekarkan', 'wilayah'): 2,\n          ('diminta', 'mekarkan', 'wilayah', 'papua'): 2,\n          ('ada', 'undang-undangnya', 'kadis', 'pu'): 1,\n          ('undang-undangnya', 'kadis', 'pu', 'dan'): 1,\n          ('kadis', 'pu', 'dan', '2'): 1,\n          ('pu', 'dan', '2', 'pns'): 1,\n          ('dan', '2', 'pns', 'kabupaten'): 1,\n          ('2', 'pns', 'kabupaten', 'mandailing'): 1,\n          ('pns', 'kabupaten', 'mandailing', 'natal'): 1,\n          ('kabupaten', 'mandailing', 'natal', 'ditahan'): 1,\n          ('mandailing', 'natal', 'ditahan', 'kejati'): 1,\n          ('natal', 'ditahan', 'kejati', 'sumut'): 1,\n          ('ditahan', 'kejati', 'sumut', 'banding'): 1,\n          ('kejati', 'sumut', 'banding', 'ditolak'): 1,\n          ('hak', 'politik', 'eks', 'bupati'): 1,\n          ('politik', 'eks', 'bupati', 'katingan'): 1,\n          ('eks', 'bupati', 'katingan', 'dicabut'): 1,\n          ('bupati', 'katingan', 'dicabut', 'hakim'): 1,\n          ('katingan', 'dicabut', 'hakim', 'kecelakaan'): 1,\n          ('dicabut', 'hakim', 'kecelakaan', 'beruntun'): 1,\n          ('hakim', 'kecelakaan', 'beruntun', '4'): 1,\n          ('kecelakaan', 'beruntun', '4', 'kendaraan'): 1,\n          ('beruntun', '4', 'kendaraan', 'di'): 1,\n          ('4', 'kendaraan', 'di', 'lenteng'): 1,\n          ('kendaraan', 'di', 'lenteng', 'agung'): 1,\n          ('2', 'pemotor', 'luka-luka', 'kpk'): 1,\n          ('pemotor', 'luka-luka', 'kpk', 'bongkar'): 1,\n          ('luka-luka', 'kpk', 'bongkar', 'mafia'): 1,\n          ('kpk', 'bongkar', 'mafia', 'migas'): 1,\n          ('tak', 'mudah', 'diungkap', 'diawasi'): 1,\n          ('mudah', 'diungkap', 'diawasi', 'di'): 1,\n          ('diungkap', 'diawasi', 'di', 'hong'): 1,\n          ('diawasi', 'di', 'hong', 'kong'): 2,\n          ('aktivis', 'joshua', 'wong', 'terbang'): 2,\n          ('joshua', 'wong', 'terbang', 'ke'): 2,\n          ('wong', 'terbang', 'ke', 'berlin'): 2,\n          ('terbang', 'ke', 'berlin', 'anggota'): 1,\n          ('ke', 'berlin', 'anggota', 'dprd'): 1,\n          ('berlin', 'anggota', 'dprd', 'surabaya'): 1,\n          ('anggota', 'dprd', 'surabaya', 'gadaikan'): 1,\n          ('dprd', 'surabaya', 'gadaikan', 'sk'): 1,\n          ('surabaya', 'gadaikan', 'sk', 'sebagai'): 1,\n          ('gadaikan', 'sk', 'sebagai', 'jaminan'): 1,\n          ('sk', 'sebagai', 'jaminan', 'untuk'): 1,\n          ('sebagai', 'jaminan', 'untuk', 'potong'): 1,\n          ('jaminan', 'untuk', 'potong', 'gaji'): 1,\n          ('untuk', 'potong', 'gaji', 'ical'): 1,\n          ('potong', 'gaji', 'ical', 'jenguk'): 1,\n          ('gaji', 'ical', 'jenguk', 'bj'): 1,\n          ('ical', 'jenguk', 'bj', 'habibie'): 1,\n          ('kita', 'doakan', 'yang', 'terbaik'): 1,\n          ('doakan', 'yang', 'terbaik', '175'): 1,\n          ('yang', 'terbaik', '175', 'orang'): 1,\n          ('terbaik', '175', 'orang', 'dan'): 1,\n          ('175', 'orang', 'dan', '4'): 1,\n          ('orang', 'dan', '4', 'korporasi'): 1,\n          ('dan', '4', 'korporasi', 'jadi'): 1,\n          ('4', 'korporasi', 'jadi', 'tersangka'): 1,\n          ('korporasi', 'jadi', 'tersangka', 'karhutla'): 1,\n          ('jadi', 'tersangka', 'karhutla', 'di'): 1,\n          ('tersangka', 'karhutla', 'di', 'sumatera-kalimantan'): 1,\n          ('karhutla', 'di', 'sumatera-kalimantan', 'fenomena'): 1,\n          ('di', 'sumatera-kalimantan', 'fenomena', 'gadai'): 1,\n          ('sumatera-kalimantan', 'fenomena', 'gadai', 'sk'): 1,\n          ('fenomena', 'gadai', 'sk', 'anggota'): 1,\n          ('gadai', 'sk', 'anggota', 'dewan'): 1,\n          ('sk', 'anggota', 'dewan', 'juga'): 1,\n          ('anggota', 'dewan', 'juga', 'terjadi'): 1,\n          ('dewan', 'juga', 'terjadi', 'di'): 1,\n          ('juga', 'terjadi', 'di', 'dprd'): 1,\n          ('terjadi', 'di', 'dprd', 'serang'): 1,\n          ('di', 'dprd', 'serang', 'akademisi'): 1,\n          ('dprd', 'serang', 'akademisi', 'dan'): 1,\n          ('serang', 'akademisi', 'dan', 'mahasiswa'): 1,\n          ('akademisi', 'dan', 'mahasiswa', 'unair'): 1,\n          ('dan', 'mahasiswa', 'unair', 'tolak'): 1,\n          ('mahasiswa', 'unair', 'tolak', 'revisi'): 1,\n          ('unair', 'tolak', 'revisi', 'uu'): 1,\n          ('tolak', 'revisi', 'uu', 'kpk'): 15,\n          ('revisi', 'uu', 'kpk', 'pegawai'): 1,\n          ('uu', 'kpk', 'pegawai', 'kpk'): 1,\n          ('kpk', 'pegawai', 'kpk', 'surati'): 1,\n          ('pegawai', 'kpk', 'surati', 'fraksi'): 1,\n          ('kpk', 'surati', 'fraksi', 'di'): 1,\n          ('surati', 'fraksi', 'di', 'dpr'): 1,\n          ('minta', 'tak', 'pilih', 'capim'): 1,\n          ('tak', 'pilih', 'capim', 'yang'): 2,\n          ('pilih', 'capim', 'yang', 'lemahkan'): 2,\n          ('capim', 'yang', 'lemahkan', 'kpk'): 2,\n          ('yang', 'lemahkan', 'kpk', 'ekoturisme'): 1,\n          ('pelajaran', 'besar', 'dari', 'negara'): 1,\n          ('besar', 'dari', 'negara', 'kecil'): 1,\n          ('dari', 'negara', 'kecil', 'refleksi'): 1,\n          ('negara', 'kecil', 'refleksi', '5'): 1,\n          ('kecil', 'refleksi', '5', 'tahun'): 1,\n          ('refleksi', '5', 'tahun', 'dpd'): 1,\n          ('5', 'tahun', 'dpd', 'ri'): 1,\n          ('kami', 'ada', 'untuk', 'daerah'): 1,\n          ('ada', 'untuk', 'daerah', 'mui'): 1,\n          ('untuk', 'daerah', 'mui', 'riau'): 1,\n          ('pelaku', 'karhutla', 'orang', 'tak'): 1,\n          ('karhutla', 'orang', 'tak', 'taat'): 1,\n          ('orang', 'tak', 'taat', 'beragama'): 1,\n          ('tak', 'taat', 'beragama', 'penyelundupan'): 1,\n          ('taat', 'beragama', 'penyelundupan', '19'): 1,\n          ('253', 'benih', 'lobster', 'tujuan'): 1,\n          ('benih', 'lobster', 'tujuan', 'singapura'): 1,\n          ('lobster', 'tujuan', 'singapura', 'digagalkan'): 1,\n          ('tujuan', 'singapura', 'digagalkan', 'di'): 1,\n          ('singapura', 'digagalkan', 'di', 'makassar'): 1,\n          ('digagalkan', 'di', 'makassar', 'kecelakaan'): 1,\n          ('di', 'makassar', 'kecelakaan', 'beruntun'): 1,\n          ('makassar', 'kecelakaan', 'beruntun', 'dan'): 1,\n          ('kecelakaan', 'beruntun', 'dan', 'truk'): 1,\n          ('beruntun', 'dan', 'truk', 'terbakar'): 1,\n          ('dan', 'truk', 'terbakar', 'di'): 1,\n          ('truk', 'terbakar', 'di', 'cipularang'): 1,\n          ('2', 'orang', 'luka', 'banyak'): 1,\n          ('orang', 'luka', 'banyak', 'berita'): 1,\n          ('luka', 'banyak', 'berita', 'negatif'): 1,\n          ('hnw', 'khawatirkan', 'moral', 'bangsa'): 1,\n          ('khawatirkan', 'moral', 'bangsa', 'indonesia'): 1,\n          ('moral', 'bangsa', 'indonesia', 'kpk'): 1,\n          ('bangsa', 'indonesia', 'kpk', 'harap'): 1,\n          ('indonesia', 'kpk', 'harap', 'jeratan'): 1,\n          ('kpk', 'harap', 'jeratan', 'eks'): 1,\n          ('harap', 'jeratan', 'eks', 'dirut'): 1,\n          ('jeratan', 'eks', 'dirut', 'petral'): 1,\n          ('eks', 'dirut', 'petral', 'bisa'): 1,\n          ('dirut', 'petral', 'bisa', 'buka'): 1,\n          ('petral', 'bisa', 'buka', 'kotak'): 1,\n          ('bisa', 'buka', 'kotak', 'pandora'): 1,\n          ('buka', 'kotak', 'pandora', 'mafia'): 1,\n          ('kotak', 'pandora', 'mafia', 'migas'): 1,\n          ('pandora', 'mafia', 'migas', 'hamas'): 1,\n          ('mafia', 'migas', 'hamas', 'tembak'): 1,\n          ('migas', 'hamas', 'tembak', 'jatuh'): 1,\n          ('hamas', 'tembak', 'jatuh', 'drone'): 1,\n          ('tembak', 'jatuh', 'drone', 'israel'): 1,\n          ('jatuh', 'drone', 'israel', 'di'): 1,\n          ('drone', 'israel', 'di', 'jalur'): 1,\n          ('israel', 'di', 'jalur', 'gaza'): 1,\n          ('di', 'jalur', 'gaza', 'jpu'): 1,\n          ('jalur', 'gaza', 'jpu', 'keberatan'): 1,\n          ('gaza', 'jpu', 'keberatan', 'kivlan'): 1,\n          ('jpu', 'keberatan', 'kivlan', 'zen'): 1,\n          ('keberatan', 'kivlan', 'zen', 'didampingi'): 1,\n          ('kivlan', 'zen', 'didampingi', 'kuasa'): 1,\n          ('zen', 'didampingi', 'kuasa', 'hukum'): 1,\n          ('didampingi', 'kuasa', 'hukum', 'dari'): 1,\n          ('kuasa', 'hukum', 'dari', 'militer'): 1,\n          ('hukum', 'dari', 'militer', 'dishub'): 1,\n          ('dari', 'militer', 'dishub', 'minta'): 1,\n          ('militer', 'dishub', 'minta', 'polda'): 1,\n          ('dishub', 'minta', 'polda', 'data'): 1,\n          ('minta', 'polda', 'data', 'kebutuhan'): 1,\n          ('polda', 'data', 'kebutuhan', 'e-tle'): 1,\n          ('data', 'kebutuhan', 'e-tle', 'di'): 1,\n          ('kebutuhan', 'e-tle', 'di', 'area'): 1,\n          ('e-tle', 'di', 'area', 'perluasan'): 1,\n          ('di', 'area', 'perluasan', 'ganjil'): 1,\n          ('area', 'perluasan', 'ganjil', 'genap'): 1,\n          ('perluasan', 'ganjil', 'genap', 'polisi'): 1,\n          ('ganjil', 'genap', 'polisi', 'olah'): 1,\n          ('genap', 'polisi', 'olah', 'tkp'): 1,\n          ('polisi', 'olah', 'tkp', 'kecelakaan'): 1,\n          ('olah', 'tkp', 'kecelakaan', 'maut'): 1,\n          ('tkp', 'kecelakaan', 'maut', 'tewaskan'): 1,\n          ('kecelakaan', 'maut', 'tewaskan', '3'): 1,\n          ('maut', 'tewaskan', '3', 'orang'): 1,\n          ('tewaskan', '3', 'orang', 'di'): 1,\n          ('3', 'orang', 'di', 'nganjuk'): 1,\n          ('orang', 'di', 'nganjuk', 'uang'): 1,\n          ('di', 'nganjuk', 'uang', 'miliaran'): 1,\n          ('nganjuk', 'uang', 'miliaran', 'rupiah'): 1,\n          ('uang', 'miliaran', 'rupiah', 'milik'): 1,\n          ('miliaran', 'rupiah', 'milik', 'pemprov'): 1,\n          ('rupiah', 'milik', 'pemprov', 'sumut'): 1,\n          ('milik', 'pemprov', 'sumut', 'hilang'): 1,\n          ('polisi', 'turun', 'tangan', 'menkum'): 1,\n          ('turun', 'tangan', 'menkum', 'ham'): 1,\n          ('tangan', 'menkum', 'ham', 'soal'): 1,\n          ('menkum', 'ham', 'soal', 'cabut'): 1,\n          ('ham', 'soal', 'cabut', 'paspor'): 1,\n          ('soal', 'cabut', 'paspor', 'veronica'): 1,\n          ('cabut', 'paspor', 'veronica', 'koman'): 2,\n          ('ada', 'ketentuannya', 'lipi', 'desak'): 1,\n          ('ketentuannya', 'lipi', 'desak', 'jokowi'): 1,\n          ('lipi', 'desak', 'jokowi', 'tolak'): 1,\n          ('desak', 'jokowi', 'tolak', 'revisi'): 1,\n          ('jokowi', 'tolak', 'revisi', 'uu'): 2,\n          ('revisi', 'uu', 'kpk', 'yang'): 4,\n          ('uu', 'kpk', 'yang', 'lumpuhkan'): 1,\n          ('kpk', 'yang', 'lumpuhkan', 'kinerja'): 1,\n          ('yang', 'lumpuhkan', 'kinerja', 'kpk'): 1,\n          ('lumpuhkan', 'kinerja', 'kpk', 'kasus'): 1,\n          ('kinerja', 'kpk', 'kasus', 'penyerangan'): 1,\n          ('kpk', 'kasus', 'penyerangan', 'ditutup'): 1,\n          ('pemotor', 'naik', 'trotoar', 'tetap'): 1,\n          ('naik', 'trotoar', 'tetap', 'ditilang'): 1,\n          ('trotoar', 'tetap', 'ditilang', 'bareskrim'): 1,\n          ('tetap', 'ditilang', 'bareskrim', 'tangkap'): 1,\n          ('ditilang', 'bareskrim', 'tangkap', '2'): 1,\n          ('bareskrim', 'tangkap', '2', 'pembobol'): 1,\n          ('tangkap', '2', 'pembobol', 'yang'): 1,\n          ('2', 'pembobol', 'yang', 'rugikan'): 1,\n          ('pembobol', 'yang', 'rugikan', 'bank'): 1,\n          ('yang', 'rugikan', 'bank', 'bumn'): 1,\n          ('rugikan', 'bank', 'bumn', 'rp'): 2,\n          ('bank', 'bumn', 'rp', '16'): 1,\n          ('bumn', 'rp', '16', 'miliar'): 1,\n          ('rp', '16', 'miliar', 'datang'): 1,\n          ('16', 'miliar', 'datang', 'ke'): 1,\n          ('miliar', 'datang', 'ke', 'pembekalan'): 1,\n          ('datang', 'ke', 'pembekalan', 'caleg'): 1,\n          ('ke', 'pembekalan', 'caleg', 'terpilih'): 1,\n          ('pembekalan', 'caleg', 'terpilih', 'demokrat'): 2,\n          ('sby', 'beri', 'arahan', 'tertutup'): 1,\n          ('beri', 'arahan', 'tertutup', 'aktivis'): 1,\n          ('arahan', 'tertutup', 'aktivis', 'perempuan'): 1,\n          ('tertutup', 'aktivis', 'perempuan', 'nilai'): 1,\n          ('aktivis', 'perempuan', 'nilai', 'ruu'): 1,\n          ('perempuan', 'nilai', 'ruu', 'pks'): 1,\n          ('nilai', 'ruu', 'pks', 'tersandera'): 1,\n          ('ruu', 'pks', 'tersandera', 'oleh'): 1,\n          ('pks', 'tersandera', 'oleh', 'ruu'): 1,\n          ('tersandera', 'oleh', 'ruu', 'kuhp'): 1,\n          ('oleh', 'ruu', 'kuhp', 'belum'): 1,\n          ('ruu', 'kuhp', 'belum', 'teridentifikasi'): 1,\n          ('4', 'korban', 'kecelakaan', 'cipularang'): 1,\n          ('korban', 'kecelakaan', 'cipularang', 'diduga'): 1,\n          ('kecelakaan', 'cipularang', 'diduga', 'perempuan'): 1,\n          ('cipularang', 'diduga', 'perempuan', 'siswi'): 1,\n          ('diduga', 'perempuan', 'siswi', 'smk'): 1,\n          ('perempuan', 'siswi', 'smk', 'bandung'): 1,\n          ('siswi', 'smk', 'bandung', 'ditikam'): 1,\n          ('smk', 'bandung', 'ditikam', 'dekat'): 1,\n          ('bandung', 'ditikam', 'dekat', 'sekolah'): 1,\n          ('ditikam', 'dekat', 'sekolah', 'karena'): 1,\n          ('dekat', 'sekolah', 'karena', 'tolak'): 1,\n          ('sekolah', 'karena', 'tolak', 'cinta'): 1,\n          ('karena', 'tolak', 'cinta', 'pelaku'): 1,\n          ('tolak', 'cinta', 'pelaku', 'jika'): 1,\n          ('cinta', 'pelaku', 'jika', 'tak'): 1,\n          ('pelaku', 'jika', 'tak', 'kunjung'): 1,\n          ('jika', 'tak', 'kunjung', 'penuhi'): 1,\n          ('tak', 'kunjung', 'penuhi', 'panggilan'): 1,\n          ('veronica', 'koman', 'bakal', 'jadi'): 1,\n          ('koman', 'bakal', 'jadi', 'dpo'): 1,\n          ('bakal', 'jadi', 'dpo', 'polisi'): 1,\n          ('jadi', 'dpo', 'polisi', 'simpulkan'): 1,\n          ('dpo', 'polisi', 'simpulkan', 'bos'): 1,\n          ('polisi', 'simpulkan', 'bos', 'sembako'): 1,\n          ('simpulkan', 'bos', 'sembako', 'di'): 1,\n          ('bos', 'sembako', 'di', 'cilegon'): 1,\n          ('sembako', 'di', 'cilegon', 'tewas'): 1,\n          ('di', 'cilegon', 'tewas', 'bunuh'): 1,\n          ('cilegon', 'tewas', 'bunuh', 'diri'): 1,\n          ('tewas', 'bunuh', 'diri', 'menengok'): 1,\n          ('bunuh', 'diri', 'menengok', 'pantai'): 1,\n          ('diri', 'menengok', 'pantai', 'mustika'): 1,\n          ('menengok', 'pantai', 'mustika', 'banyuwangi'): 1,\n          ('pantai', 'mustika', 'banyuwangi', 'asap'): 1,\n          ('mustika', 'banyuwangi', 'asap', 'pekat'): 1,\n          ('banyuwangi', 'asap', 'pekat', 'selimuti'): 1,\n          ('asap', 'pekat', 'selimuti', 'riau'): 1,\n          ('pemprov', 'gelar', 'salat', 'minta'): 1,\n          ('gelar', 'salat', 'minta', 'hujan'): 1,\n          ('salat', 'minta', 'hujan', 'besok'): 1,\n          ('minta', 'hujan', 'besok', 'soal'): 1,\n          ('hujan', 'besok', 'soal', 'kontrak'): 1,\n          ('besok', 'soal', 'kontrak', 'politik'): 1,\n          ('soal', 'kontrak', 'politik', 'capim'): 1,\n          ('kontrak', 'politik', 'capim', 'kpk'): 2,\n          ('fahri', 'sebut', 'agar', 'taat'): 1,\n          ('sebut', 'agar', 'taat', 'undang-undang'): 1,\n          ('agar', 'taat', 'undang-undang', 'caketum'): 1,\n          ('taat', 'undang-undang', 'caketum', 'hipmi'): 1,\n          ('pengusaha', 'ri', 'harus', 'punya'): 1,\n          ('ri', 'harus', 'punya', 'jiwa'): 1,\n          ('harus', 'punya', 'jiwa', 'nasionalisme'): 1,\n          ('punya', 'jiwa', 'nasionalisme', 'yang'): 1,\n          ('jiwa', 'nasionalisme', 'yang', 'kuat'): 1,\n          ('nasionalisme', 'yang', 'kuat', 'kpu'): 1,\n          ('yang', 'kuat', 'kpu', 'solo'): 1,\n          ('kuat', 'kpu', 'solo', 'ajukan'): 1,\n          ('kpu', 'solo', 'ajukan', 'dana'): 1,\n          ('solo', 'ajukan', 'dana', 'rp'): 1,\n          ('ajukan', 'dana', 'rp', '17'): 1,\n          ('8', 'm', 'untuk', 'pilwalkot'): 1,\n          ('m', 'untuk', 'pilwalkot', '2020'): 1,\n          ('untuk', 'pilwalkot', '2020', 'utusan'): 1,\n          ('pilwalkot', '2020', 'utusan', 'khusus'): 1,\n          ('2020', 'utusan', 'khusus', 'presiden'): 1,\n          ('utusan', 'khusus', 'presiden', 'akan'): 1,\n          ('khusus', 'presiden', 'akan', 'gelar'): 1,\n          ('presiden', 'akan', 'gelar', 'munas'): 1,\n          ('akan', 'gelar', 'munas', 'tokoh'): 1,\n          ('gelar', 'munas', 'tokoh', 'antaragama'): 1,\n          ('munas', 'tokoh', 'antaragama', 'panggil'): 1,\n          ('tokoh', 'antaragama', 'panggil', 'veronica'): 1,\n          ('antaragama', 'panggil', 'veronica', 'koman'): 1,\n          ('polisi', 'tunggu', 'hingga', 'dua'): 1,\n          ('tunggu', 'hingga', 'dua', 'pekan'): 1,\n          ('hingga', 'dua', 'pekan', 'ke'): 1,\n          ('dua', 'pekan', 'ke', 'depan'): 1,\n          ('pekan', 'ke', 'depan', 'kpk'): 1,\n          ('ke', 'depan', 'kpk', 'tetapkan'): 1,\n          ('depan', 'kpk', 'tetapkan', 'eks'): 1,\n          ('kpk', 'tetapkan', 'eks', 'pejabat'): 1,\n          ('tetapkan', 'eks', 'pejabat', 'pertamina'): 1,\n          ('eks', 'pejabat', 'pertamina', 'energy'): 1,\n          ('pejabat', 'pertamina', 'energy', 'tersangka'): 1,\n          ('pertamina', 'energy', 'tersangka', 'mafia'): 1,\n          ('energy', 'tersangka', 'mafia', 'migas'): 1,\n          ('tersangka', 'mafia', 'migas', 'dipeluk'): 1,\n          ('mafia', 'migas', 'dipeluk', 'istri'): 1,\n          ('migas', 'dipeluk', 'istri', 'sebelum'): 1,\n          ('dipeluk', 'istri', 'sebelum', 'jalani'): 1,\n          ('istri', 'sebelum', 'jalani', 'sidang'): 1,\n          ('kivlan', 'zen', 'menangis', 'icw'): 1,\n          ('pak', 'jokowi', 'bocah', 'di'): 1,\n          ('jokowi', 'bocah', 'di', 'bekasi'): 1,\n          ('bocah', 'di', 'bekasi', 'disebut'): 1,\n          ('di', 'bekasi', 'disebut', 'tewas'): 1,\n          ('bekasi', 'disebut', 'tewas', 'karena'): 1,\n          ('disebut', 'tewas', 'karena', 'bully'): 1,\n          ('kpad', 'imbau', 'keluarga', 'melapor'): 1,\n          ('imbau', 'keluarga', 'melapor', 'jk'): 1,\n          ('keluarga', 'melapor', 'jk', 'soal'): 1,\n          ('melapor', 'jk', 'soal', 'revisi'): 1,\n          ('jk', 'soal', 'revisi', 'uu'): 2,\n          ('soal', 'revisi', 'uu', 'kpk'): 10,\n          ('penuntutan', 'tak', 'perlu', 'koordinasi'): 1,\n          ('tak', 'perlu', 'koordinasi', 'dengan'): 1,\n          ('perlu', 'koordinasi', 'dengan', 'jaksa'): 1,\n          ('koordinasi', 'dengan', 'jaksa', 'agung'): 1,\n          ('dengan', 'jaksa', 'agung', 'komisi'): 1,\n          ('jaksa', 'agung', 'komisi', 'iii'): 1,\n          ('agung', 'komisi', 'iii', 'dpr'): 1,\n          ('komisi', 'iii', 'dpr', 'pastikan'): 1,\n          ('iii', 'dpr', 'pastikan', 'tampung'): 1,\n          ('dpr', 'pastikan', 'tampung', 'semua'): 1,\n          ('pastikan', 'tampung', 'semua', 'masukan'): 1,\n          ('tampung', 'semua', 'masukan', 'soal'): 1,\n          ('semua', 'masukan', 'soal', 'capim'): 1,\n          ('masukan', 'soal', 'capim', 'kpk'): 1,\n          ('soal', 'capim', 'kpk', 'tokoh'): 1,\n          ('capim', 'kpk', 'tokoh', 'papua'): 1,\n          ('kpk', 'tokoh', 'papua', 'yang'): 1,\n          ('tokoh', 'papua', 'yang', 'diundang'): 1,\n          ('papua', 'yang', 'diundang', 'jokowi'): 1,\n          ('yang', 'diundang', 'jokowi', 'eks'): 1,\n          ('diundang', 'jokowi', 'eks', 'timses'): 1,\n          ('kebetulan', 'saja', 'wagub', 'jabar'): 1,\n          ('saja', 'wagub', 'jabar', 'minta'): 1,\n          ('wagub', 'jabar', 'minta', 'pekerja'): 1,\n          ('jabar', 'minta', 'pekerja', 'di'): 1,\n          ('minta', 'pekerja', 'di', 'lingkungan'): 1,\n          ('pekerja', 'di', 'lingkungan', 'pemprov'): 1,\n          ('di', 'lingkungan', 'pemprov', 'jabar'): 1,\n          ('lingkungan', 'pemprov', 'jabar', 'daftar'): 1,\n          ('pemprov', 'jabar', 'daftar', 'bpjs'): 1,\n          ('jabar', 'daftar', 'bpjs', 'tk'): 1,\n          ('daftar', 'bpjs', 'tk', 'anak'): 1,\n          ('bpjs', 'tk', 'anak', 'dan'): 1,\n          ('tk', 'anak', 'dan', 'cucu'): 1,\n          ('anak', 'dan', 'cucu', 'berkumpul'): 1,\n          ('dan', 'cucu', 'berkumpul', 'temani'): 1,\n          ('cucu', 'berkumpul', 'temani', 'bj'): 1,\n          ('berkumpul', 'temani', 'bj', 'habibie'): 1,\n          ('temani', 'bj', 'habibie', 'di'): 1,\n          ('rspad', 'gatot', 'soebroto', 'gara-gara'): 1,\n          ('gatot', 'soebroto', 'gara-gara', 'puntung'): 1,\n          ('soebroto', 'gara-gara', 'puntung', 'rokok'): 1,\n          ('28', 'hektare', 'lahan', 'di'): 1,\n          ('hektare', 'lahan', 'di', 'sulteng'): 1,\n          ('lahan', 'di', 'sulteng', 'terbakar'): 1,\n          ('di', 'sulteng', 'terbakar', 'topan'): 1,\n          ('sulteng', 'terbakar', 'topan', 'faxai'): 1,\n          ('terbakar', 'topan', 'faxai', 'hantam'): 1,\n          ('topan', 'faxai', 'hantam', 'jepang'): 1,\n          ('000', 'penumpang', 'telantar', 'di'): 1,\n          ('penumpang', 'telantar', 'di', 'bandara'): 1,\n          ('telantar', 'di', 'bandara', 'narita'): 1,\n          ('di', 'bandara', 'narita', 'gajah'): 1,\n          ('bandara', 'narita', 'gajah', 'mengamuk'): 1,\n          ('narita', 'gajah', 'mengamuk', 'ketika'): 1,\n          ('gajah', 'mengamuk', 'ketika', 'ikut'): 1,\n          ('mengamuk', 'ketika', 'ikut', 'festival'): 1,\n          ('ketika', 'ikut', 'festival', 'agama'): 1,\n          ('ikut', 'festival', 'agama', 'di'): 1,\n          ('festival', 'agama', 'di', 'sri'): 2,\n          ('agama', 'di', 'sri', 'lanka'): 2,\n          ('18', 'terluka', 'waduk', 'pacal'): 1,\n          ('terluka', 'waduk', 'pacal', 'di'): 1,\n          ('waduk', 'pacal', 'di', 'bojonegoro'): 1,\n          ('pacal', 'di', 'bojonegoro', 'surut'): 1,\n          ('lahan', 'pertanian', 'di', '4'): 1,\n          ('pertanian', 'di', '4', 'kecamatan'): 1,\n          ('di', '4', 'kecamatan', 'kekeringan'): 1,\n          ('4', 'kecamatan', 'kekeringan', 'komisi'): 1,\n          ('kecamatan', 'kekeringan', 'komisi', 'iii'): 1,\n          ('kekeringan', 'komisi', 'iii', 'dpr'): 1,\n          ('komisi', 'iii', 'dpr', 'gelar'): 1,\n          ('iii', 'dpr', 'gelar', 'rdpu'): 1,\n          ('dpr', 'gelar', 'rdpu', 'tampung'): 1,\n          ('gelar', 'rdpu', 'tampung', 'masukan'): 1,\n          ('rdpu', 'tampung', 'masukan', 'soal'): 1,\n          ('tampung', 'masukan', 'soal', 'seleksi'): 1,\n          ('masukan', 'soal', 'seleksi', 'capim'): 1,\n          ('soal', 'seleksi', 'capim', 'kpk'): 1,\n          ('seleksi', 'capim', 'kpk', 'hut'): 1,\n          ('capim', 'kpk', 'hut', 'ke-70'): 1,\n          ('brigif', 'raider', '13', 'ziarah'): 1,\n          ('raider', '13', 'ziarah', 'ke'): 1,\n          ('13', 'ziarah', 'ke', 'makam'): 1,\n          ('ziarah', 'ke', 'makam', 'bupati'): 1,\n          ('ke', 'makam', 'bupati', 'galuh'): 1,\n          ('makam', 'bupati', 'galuh', 'ciamis'): 1,\n          ('bupati', 'galuh', 'ciamis', 'pesan'): 1,\n          ('galuh', 'ciamis', 'pesan', 'kpk'): 1,\n          ('ciamis', 'pesan', 'kpk', 'ke'): 1,\n          ('pesan', 'kpk', 'ke', 'jokowi'): 1,\n          ('pembangunan', 'tak', 'tercapai', 'jika'): 1,\n          ('tak', 'tercapai', 'jika', 'masih'): 1,\n          ('tercapai', 'jika', 'masih', 'digerogoti'): 1,\n          ('jika', 'masih', 'digerogoti', 'korupsi'): 1,\n          ('masih', 'digerogoti', 'korupsi', '40'): 1,\n          ('digerogoti', 'korupsi', '40', 'perguruan'): 1,\n          ('korupsi', '40', 'perguruan', 'tinggi'): 1,\n          ('40', 'perguruan', 'tinggi', 'muhammadiyah'): 1,\n          ('perguruan', 'tinggi', 'muhammadiyah', 'se-indonesia'): 1,\n          ('tinggi', 'muhammadiyah', 'se-indonesia', 'tolak'): 1,\n          ('muhammadiyah', 'se-indonesia', 'tolak', 'revisi'): 1,\n          ('se-indonesia', 'tolak', 'revisi', 'uu'): 1,\n          ('revisi', 'uu', 'kpk', '1'): 1,\n          ('904', 'pelanggar', 'ditilang', 'di'): 1,\n          ('pelanggar', 'ditilang', 'di', 'hari'): 1,\n          ('ditilang', 'di', 'hari', 'perdana'): 1,\n          ('di', 'hari', 'perdana', 'perluasan'): 1,\n          ('hari', 'perdana', 'perluasan', 'ganjil-genap'): 1,\n          ('perdana', 'perluasan', 'ganjil-genap', 'kemarin'): 1,\n          ('perluasan', 'ganjil-genap', 'kemarin', '4'): 1,\n          ('ganjil-genap', 'kemarin', '4', 'bulan'): 1,\n          ('kemarin', '4', 'bulan', 'lagi'): 1,\n          ('4', 'bulan', 'lagi', 'polrestabes'): 1,\n          ('bulan', 'lagi', 'polrestabes', 'surabaya'): 1,\n          ('lagi', 'polrestabes', 'surabaya', 'punya'): 1,\n          ('polrestabes', 'surabaya', 'punya', 'tempat'): 1,\n          ('surabaya', 'punya', 'tempat', 'parkir'): 1,\n          ('punya', 'tempat', 'parkir', 'bertingkat'): 1,\n          ('tempat', 'parkir', 'bertingkat', 'sepekan'): 1,\n          ('parkir', 'bertingkat', 'sepekan', 'dilantik'): 1,\n          ('anggota', 'dprd', 'jabar', 'gadai'): 2,\n          ('dprd', 'jabar', 'gadai', 'sk'): 2,\n          ('jabar', 'gadai', 'sk', 'ke'): 1,\n          ('gadai', 'sk', 'ke', 'bank'): 2,\n          ('sk', 'ke', 'bank', 'poyuono'): 1,\n          ('pemerintah-dpr', 'revisi', 'uu', 'kpk'): 1,\n          ('revisi', 'uu', 'kpk', 'agar'): 1,\n          ('uu', 'kpk', 'agar', 'mudah'): 1,\n          ('kpk', 'agar', 'mudah', 'rampok'): 1,\n          ('agar', 'mudah', 'rampok', 'uang'): 1,\n          ('mudah', 'rampok', 'uang', 'negara'): 1,\n          ('rampok', 'uang', 'negara', 'ratusan'): 1,\n          ('uang', 'negara', 'ratusan', 'mahasiswa'): 1,\n          ('negara', 'ratusan', 'mahasiswa', 'surabaya'): 1,\n          ('ratusan', 'mahasiswa', 'surabaya', 'dukung'): 1,\n          ('mahasiswa', 'surabaya', 'dukung', 'revisi'): 1,\n          ('surabaya', 'dukung', 'revisi', 'uu'): 1,\n          ('dukung', 'revisi', 'uu', 'kpk'): 4,\n          ('revisi', 'uu', 'kpk', 'abraham'): 1,\n          ('uu', 'kpk', 'abraham', 'samad'): 1,\n          ('jokowi', 'harus', 'minta', 'dpr'): 1,\n          ('harus', 'minta', 'dpr', 'setop'): 1,\n          ('minta', 'dpr', 'setop', 'pembahasan'): 1,\n          ('dpr', 'setop', 'pembahasan', 'revisi'): 1,\n          ('setop', 'pembahasan', 'revisi', 'uu'): 1,\n          ('pembahasan', 'revisi', 'uu', 'kpk'): 3,\n          ('revisi', 'uu', 'kpk', 'satgas'): 1,\n          ('uu', 'kpk', 'satgas', 'karhutla'): 1,\n          ('kpk', 'satgas', 'karhutla', 'investigasi'): 1,\n          ('satgas', 'karhutla', 'investigasi', 'penyebab'): 1,\n          ('karhutla', 'investigasi', 'penyebab', 'kebakaran'): 1,\n          ('investigasi', 'penyebab', 'kebakaran', 'kebun'): 1,\n          ('penyebab', 'kebakaran', 'kebun', 'tebu'): 1,\n          ('kebakaran', 'kebun', 'tebu', 'ptpn'): 1,\n          ('kebun', 'tebu', 'ptpn', 'vii'): 1,\n          ('tebu', 'ptpn', 'vii', 'ogan'): 1,\n          ('ptpn', 'vii', 'ogan', 'ilir'): 1,\n          ('vii', 'ogan', 'ilir', 'fenomena'): 1,\n          ('ogan', 'ilir', 'fenomena', 'anggota'): 1,\n          ('ilir', 'fenomena', 'anggota', 'dewan'): 1,\n          ('fenomena', 'anggota', 'dewan', 'gadaikan'): 1,\n          ('anggota', 'dewan', 'gadaikan', 'sk'): 1,\n          ('di', 'dprd', 'surabaya', 'juga'): 1,\n          ('dprd', 'surabaya', 'juga', 'ada'): 1,\n          ('surabaya', 'juga', 'ada', 'anies'): 1,\n          ('juga', 'ada', 'anies', 'anggap'): 1,\n          ('ada', 'anies', 'anggap', 'perbaikan'): 1,\n          ('anies', 'anggap', 'perbaikan', 'udara'): 1,\n          ('anggap', 'perbaikan', 'udara', 'jakarta'): 1,\n          ('perbaikan', 'udara', 'jakarta', 'lewat'): 1,\n          ('udara', 'jakarta', 'lewat', 'ganjil'): 1,\n          ('jakarta', 'lewat', 'ganjil', 'genap'): 1,\n          ('lewat', 'ganjil', 'genap', 'tak'): 1,\n          ('ganjil', 'genap', 'tak', 'bisa'): 1,\n          ('genap', 'tak', 'bisa', 'instan'): 1,\n          ('tak', 'bisa', 'instan', 'tepis'): 1,\n          ('bisa', 'instan', 'tepis', 'kabar'): 1,\n          ('instan', 'tepis', 'kabar', 'bully'): 1,\n          ('polisi', 'sebut', 'bocah', 'meninggal'): 1,\n          ('sebut', 'bocah', 'meninggal', 'di'): 1,\n          ('bocah', 'meninggal', 'di', 'bekasi'): 1,\n          ('meninggal', 'di', 'bekasi', 'akibat'): 1,\n          ('di', 'bekasi', 'akibat', 'tetanus'): 1,\n          ('bekasi', 'akibat', 'tetanus', 'tokoh'): 1,\n          ('akibat', 'tetanus', 'tokoh', 'papua'): 1,\n          ('tetanus', 'tokoh', 'papua', 'bicara'): 1,\n          ('tokoh', 'papua', 'bicara', 'ke'): 1,\n          ('papua', 'bicara', 'ke', 'jokowi'): 1,\n          ('bicara', 'ke', 'jokowi', 'soal'): 1,\n          ('ke', 'jokowi', 'soal', 'persaingan'): 1,\n          ('jokowi', 'soal', 'persaingan', 'penduduk'): 1,\n          ('soal', 'persaingan', 'penduduk', 'dan'): 1,\n          ('persaingan', 'penduduk', 'dan', 'lingkungan'): 1,\n          ('penduduk', 'dan', 'lingkungan', 'kritik'): 1,\n          ('dan', 'lingkungan', 'kritik', 'revisi'): 1,\n          ('lingkungan', 'kritik', 'revisi', 'uu'): 1,\n          ('kritik', 'revisi', 'uu', 'kpk'): 1,\n          ('rektor', 'ipb-pemuka', 'agama', 'tolak'): 1,\n          ('ipb-pemuka', 'agama', 'tolak', 'pelemahan'): 1,\n          ('agama', 'tolak', 'pelemahan', 'kpk'): 1,\n          ('tolak', 'pelemahan', 'kpk', 'menggalang'): 1,\n          ('pelemahan', 'kpk', 'menggalang', 'pembiayaan'): 1,\n          ('kpk', 'menggalang', 'pembiayaan', 'ibu'): 1,\n          ('menggalang', 'pembiayaan', 'ibu', 'kota'): 1,\n          ('pembiayaan', 'ibu', 'kota', 'baru'): 1,\n          ('ibu', 'kota', 'baru', 'pasukan'): 1,\n          ('kota', 'baru', 'pasukan', 'kostrad'): 1,\n          ('baru', 'pasukan', 'kostrad', 'dikerahkan'): 1,\n          ('pasukan', 'kostrad', 'dikerahkan', 'untuk'): 1,\n          ('kostrad', 'dikerahkan', 'untuk', 'tangkap'): 1,\n          ('dikerahkan', 'untuk', 'tangkap', 'pelaku'): 1,\n          ('untuk', 'tangkap', 'pelaku', 'karhutla'): 1,\n          ('tangkap', 'pelaku', 'karhutla', 'di'): 1,\n          ('pelaku', 'karhutla', 'di', 'riau'): 2,\n          ('karhutla', 'di', 'riau', 'satu-satunya'): 1,\n          ('di', 'riau', 'satu-satunya', 'korban'): 1,\n          ('riau', 'satu-satunya', 'korban', 'selamat'): 1,\n          ('satu-satunya', 'korban', 'selamat', 'kecelakaan'): 1,\n          ('korban', 'selamat', 'kecelakaan', 'maut'): 1,\n          ('selamat', 'kecelakaan', 'maut', 'di'): 1,\n          ('kecelakaan', 'maut', 'di', 'nganjuk'): 3,\n          ('maut', 'di', 'nganjuk', 'diciduk'): 1,\n          ('di', 'nganjuk', 'diciduk', 'kasus'): 1,\n          ('nganjuk', 'diciduk', 'kasus', 'narkoba'): 1,\n          ('diciduk', 'kasus', 'narkoba', 'home'): 1,\n          ('kasus', 'narkoba', 'home', 'industry'): 1,\n          ('narkoba', 'home', 'industry', 'arak'): 1,\n          ('home', 'industry', 'arak', 'di'): 1,\n          ('industry', 'arak', 'di', 'sidoarjo'): 1,\n          ('arak', 'di', 'sidoarjo', 'digerebek'): 1,\n          ('dua', 'orang', 'diamankan', 'jokowi'): 1,\n          ('orang', 'diamankan', 'jokowi', 'ke'): 1,\n          ('diamankan', 'jokowi', 'ke', 'papua'): 1,\n          ('jokowi', 'ke', 'papua', 'lagi'): 1,\n          ('ke', 'papua', 'lagi', 'paling'): 1,\n          ('papua', 'lagi', 'paling', 'telat'): 1,\n          ('lagi', 'paling', 'telat', 'oktober'): 1,\n          ('resmikan', 'jembatan', 'holtekamp', 'trump'): 1,\n          ('jembatan', 'holtekamp', 'trump', 'umumkan'): 1,\n          ('holtekamp', 'trump', 'umumkan', 'perundingan'): 1,\n          ('trump', 'umumkan', 'perundingan', 'damai'): 1,\n          ('umumkan', 'perundingan', 'damai', 'dengan'): 1,\n          ('perundingan', 'damai', 'dengan', 'taliban'): 2,\n          ('damai', 'dengan', 'taliban', 'sudah'): 2,\n          ('dengan', 'taliban', 'sudah', 'mati'): 2,\n          ('taliban', 'sudah', 'mati', 'jokowi'): 1,\n          ('sudah', 'mati', 'jokowi', 'janjikan'): 1,\n          ('mati', 'jokowi', 'janjikan', '1'): 1,\n          ('000', 'sarjana', 'papua', 'bekerja'): 1,\n          ('sarjana', 'papua', 'bekerja', 'di'): 1,\n          ('papua', 'bekerja', 'di', 'bumn-perusahaan'): 1,\n          ('bekerja', 'di', 'bumn-perusahaan', 'besar'): 1,\n          ('di', 'bumn-perusahaan', 'besar', 'ibu'): 1,\n          ('bumn-perusahaan', 'besar', 'ibu', 'bayi'): 1,\n          ('besar', 'ibu', 'bayi', 'yang'): 1,\n          ('ibu', 'bayi', 'yang', 'kaki-tangannya'): 1,\n          ('bayi', 'yang', 'kaki-tangannya', 'putus'): 1,\n          ('yang', 'kaki-tangannya', 'putus', 'di'): 1,\n          ('kaki-tangannya', 'putus', 'di', 'tangerang'): 1,\n          ('putus', 'di', 'tangerang', 'serahkan'): 1,\n          ('di', 'tangerang', 'serahkan', 'diri'): 1,\n          ('tangerang', 'serahkan', 'diri', 'ke'): 1,\n          ('serahkan', 'diri', 'ke', 'polisi'): 1,\n          ('diri', 'ke', 'polisi', 'melihat'): 1,\n          ('ke', 'polisi', 'melihat', 'ke'): 1,\n          ('polisi', 'melihat', 'ke', 'belakang'): 1,\n          ('melihat', 'ke', 'belakang', 'pengusutan'): 1,\n          ('ke', 'belakang', 'pengusutan', 'kpk'): 1,\n          ('belakang', 'pengusutan', 'kpk', 'soal'): 1,\n          ('pengusutan', 'kpk', 'soal', 'mafia'): 1,\n          ('kpk', 'soal', 'mafia', 'migas'): 1,\n          ('soal', 'mafia', 'migas', 'terkait'): 1,\n          ('mafia', 'migas', 'terkait', 'petral'): 2,\n          ('migas', 'terkait', 'petral', 'banyuwangi'): 1,\n          ('terkait', 'petral', 'banyuwangi', 'dan'): 1,\n          ('petral', 'banyuwangi', 'dan', 'perawat'): 1,\n          ('banyuwangi', 'dan', 'perawat', 'kolaborasi'): 1,\n          ('dan', 'perawat', 'kolaborasi', 'bikin'): 1,\n          ('perawat', 'kolaborasi', 'bikin', 'sehat'): 1,\n          ('kolaborasi', 'bikin', 'sehat', 'usaha'): 1,\n          ('bikin', 'sehat', 'usaha', 'wisata'): 1,\n          ('sehat', 'usaha', 'wisata', 'warga'): 1,\n          ('usaha', 'wisata', 'warga', 'dua'): 1,\n          ('wisata', 'warga', 'dua', 'korban'): 1,\n          ('warga', 'dua', 'korban', 'kecelakaan'): 1,\n          ('dua', 'korban', 'kecelakaan', 'maut'): 1,\n          ('korban', 'kecelakaan', 'maut', 'di'): 1,\n          ('maut', 'di', 'nganjuk', 'ternyata'): 1,\n          ('di', 'nganjuk', 'ternyata', 'dpo'): 1,\n          ('nganjuk', 'ternyata', 'dpo', 'kasus'): 1,\n          ('ternyata', 'dpo', 'kasus', 'narkoba'): 1,\n          ('dpo', 'kasus', 'narkoba', 'kabut'): 1,\n          ('kasus', 'narkoba', 'kabut', 'asap'): 1,\n          ('narkoba', 'kabut', 'asap', 'bikin'): 1,\n          ('kabut', 'asap', 'bikin', 'penerbangan'): 1,\n          ('asap', 'bikin', 'penerbangan', 'di'): 1,\n          ('bikin', 'penerbangan', 'di', 'banjarmasin'): 1,\n          ('penerbangan', 'di', 'banjarmasin', 'terganggu'): 1,\n          ('di', 'banjarmasin', 'terganggu', 'tokoh'): 1,\n          ('banjarmasin', 'terganggu', 'tokoh', 'papua'): 1,\n          ('terganggu', 'tokoh', 'papua', 'minta'): 1,\n          ('tokoh', 'papua', 'minta', 'jokowi'): 1,\n          ('papua', 'minta', 'jokowi', 'bangun'): 1,\n          ('minta', 'jokowi', 'bangun', 'istana'): 1,\n          ('jokowi', 'bangun', 'istana', 'presiden'): 2,\n          ('bangun', 'istana', 'presiden', 'di'): 3,\n          ('istana', 'presiden', 'di', 'papua'): 6,\n          ('presiden', 'di', 'papua', 'jaksa'): 1,\n          ('di', 'papua', 'jaksa', 'kpk'): 1,\n          ('papua', 'jaksa', 'kpk', 'minta'): 1,\n          ('jaksa', 'kpk', 'minta', 'ma'): 1,\n          ('kpk', 'minta', 'ma', 'tolak'): 1,\n          ('minta', 'ma', 'tolak', 'pk'): 1,\n          ('ma', 'tolak', 'pk', 'novanto'): 1,\n          ('tolak', 'pk', 'novanto', 'tata'): 1,\n          ('pk', 'novanto', 'tata', 'cara'): 1,\n          ('novanto', 'tata', 'cara', 'umroh'): 1,\n          ('dan', 'bacaannya', '40', 'persen'): 1,\n          ('bacaannya', '40', 'persen', 'dewan'): 1,\n          ('40', 'persen', 'dewan', 'ciamis'): 1,\n          ('persen', 'dewan', 'ciamis', 'gadaikan'): 1,\n          ('dewan', 'ciamis', 'gadaikan', 'sk'): 1,\n          ('daripada', 'mencuri', 'uang', 'negara'): 1,\n          ('mencuri', 'uang', 'negara', 'seputar'): 1,\n          ('uang', 'negara', 'seputar', 'kecelakaan'): 1,\n          ('negara', 'seputar', 'kecelakaan', 'maut'): 1,\n          ('seputar', 'kecelakaan', 'maut', 'di'): 1,\n          ('kecelakaan', 'maut', 'di', 'jalur'): 1,\n          ('maut', 'di', 'jalur', 'nganjuk-madiun'): 1,\n          ('di', 'jalur', 'nganjuk-madiun', 'yang'): 1,\n          ('jalur', 'nganjuk-madiun', 'yang', 'tewaskan'): 1,\n          ('nganjuk-madiun', 'yang', 'tewaskan', '3'): 1,\n          ('yang', 'tewaskan', '3', 'orang'): 1,\n          ('tewaskan', '3', 'orang', 'pj'): 1,\n          ('3', 'orang', 'pj', 'walkot'): 1,\n          ('orang', 'pj', 'walkot', 'makassar'): 1,\n          ('pj', 'walkot', 'makassar', 'sebut'): 1,\n          ('walkot', 'makassar', 'sebut', 'rilis'): 1,\n          ('makassar', 'sebut', 'rilis', 'edaran'): 1,\n          ('sebut', 'rilis', 'edaran', 'antisipasi'): 1,\n          ('rilis', 'edaran', 'antisipasi', 'syiah'): 1,\n          ('edaran', 'antisipasi', 'syiah', 'rekomendasi'): 1,\n          ('antisipasi', 'syiah', 'rekomendasi', 'mui'): 1,\n          ('syiah', 'rekomendasi', 'mui', 'dipimpin'): 1,\n          ('rekomendasi', 'mui', 'dipimpin', 'ibas'): 1,\n          ('demokrat', 'gelar', 'pembekalan', 'anggota'): 1,\n          ('gelar', 'pembekalan', 'anggota', 'legislatif'): 1,\n          ('pembekalan', 'anggota', 'legislatif', '2019-2024'): 1,\n          ('anggota', 'legislatif', '2019-2024', 'jokowi'): 1,\n          ('tahun', 'depan', 'istana', 'presiden'): 1,\n          ('depan', 'istana', 'presiden', 'di'): 1,\n          ('presiden', 'di', 'papua', 'mulai'): 1,\n          ('di', 'papua', 'mulai', 'dibangun'): 1,\n          ('papua', 'mulai', 'dibangun', 'jokowi'): 1,\n          ('mulai', 'dibangun', 'jokowi', 'undang'): 1,\n          ('dibangun', 'jokowi', 'undang', 'tokoh'): 1,\n          ('jokowi', 'undang', 'tokoh', 'papua'): 1,\n          ('undang', 'tokoh', 'papua', 'ke'): 1,\n          ('tokoh', 'papua', 'ke', 'istana'): 1,\n          ('papua', 'ke', 'istana', 'hari'): 1,\n          ('ke', 'istana', 'hari', 'ini'): 1,\n          ('istana', 'hari', 'ini', 'china'): 1,\n          ('hari', 'ini', 'china', 'geram'): 1,\n          ('ini', 'china', 'geram', 'atas'): 1,\n          ('china', 'geram', 'atas', 'pernyataan'): 1,\n          ('geram', 'atas', 'pernyataan', 'menlu'): 1,\n          ('atas', 'pernyataan', 'menlu', 'as'): 1,\n          ('pernyataan', 'menlu', 'as', 'soal'): 1,\n          ('menlu', 'as', 'soal', 'perlakuan'): 1,\n          ('as', 'soal', 'perlakuan', 'terhadap'): 1,\n          ('soal', 'perlakuan', 'terhadap', 'uighur'): 1,\n          ('perlakuan', 'terhadap', 'uighur', 'oso'): 1,\n          ('terhadap', 'uighur', 'oso', 'soal'): 1,\n          ('uighur', 'oso', 'soal', 'revisi'): 1,\n          ('oso', 'soal', 'revisi', 'uu'): 1,\n          ('tentunya', 'kita', 'tidak', 'akan'): 1,\n          ('kita', 'tidak', 'akan', 'melemahkan'): 1,\n          ('tidak', 'akan', 'melemahkan', '154'): 1,\n          ('akan', 'melemahkan', '154', 'pelanggar'): 1,\n          ('melemahkan', '154', 'pelanggar', 'ditilang'): 1,\n          ('154', 'pelanggar', 'ditilang', 'di'): 1,\n          ('pelanggar', 'ditilang', 'di', 'jakbar'): 1,\n          ('alasannya', 'tidak', 'tahu', 'ganjil'): 1,\n          ('tidak', 'tahu', 'ganjil', 'genap'): 1,\n          ('tahu', 'ganjil', 'genap', 'gubernur'): 1,\n          ('ganjil', 'genap', 'gubernur', 'khofifah'): 1,\n          ('genap', 'gubernur', 'khofifah', 'gandeng'): 1,\n          ('gubernur', 'khofifah', 'gandeng', 'isei'): 1,\n          ('khofifah', 'gandeng', 'isei', 'kembangkan'): 1,\n          ('gandeng', 'isei', 'kembangkan', 'one'): 1,\n          ('isei', 'kembangkan', 'one', 'pesantren'): 1,\n          ('kembangkan', 'one', 'pesantren', 'one'): 1,\n          ('one', 'pesantren', 'one', 'product'): 1,\n          ('pesantren', 'one', 'product', 'sby'): 1,\n          ('one', 'product', 'sby', 'jenguk'): 1,\n          ('product', 'sby', 'jenguk', 'bj'): 1,\n          ('sby', 'jenguk', 'bj', 'habibie'): 1,\n          ('rspad', 'gatot', 'soebroto', 'hut'): 1,\n          ('gatot', 'soebroto', 'hut', 'ke-74'): 1,\n          ('tni', 'al', 'akan', 'terus'): 1,\n          ('al', 'akan', 'terus', 'tingkatkan'): 1,\n          ('akan', 'terus', 'tingkatkan', 'sdm'): 1,\n          ('terus', 'tingkatkan', 'sdm', 'untuk'): 1,\n          ('tingkatkan', 'sdm', 'untuk', 'indonesia'): 1,\n          ('sdm', 'untuk', 'indonesia', 'maju'): 1,\n          ('untuk', 'indonesia', 'maju', 'buka'): 1,\n          ('indonesia', 'maju', 'buka', 'luwur'): 1,\n          ('maju', 'buka', 'luwur', 'sunan'): 1,\n          ('buka', 'luwur', 'sunan', 'kudus'): 1,\n          ('ribuan', 'paket', 'nasi', 'berkat'): 1,\n          ('paket', 'nasi', 'berkat', 'dibagikan'): 1,\n          ('nasi', 'berkat', 'dibagikan', 'pdip'): 1,\n          ('berkat', 'dibagikan', 'pdip', 'nilai'): 1,\n          ('dibagikan', 'pdip', 'nilai', 'pidato'): 1,\n          ('pdip', 'nilai', 'pidato', 'kontemplasi'): 1,\n          ('nilai', 'pidato', 'kontemplasi', 'sby'): 1,\n          ('pidato', 'kontemplasi', 'sby', 'sejalan'): 1,\n          ('kontemplasi', 'sby', 'sejalan', 'dengan'): 1,\n          ('sby', 'sejalan', 'dengan', 'ide'): 1,\n          ('sejalan', 'dengan', 'ide', 'jokowi'): 1,\n          ('dengan', 'ide', 'jokowi', 'pelemahan'): 1,\n          ('ide', 'jokowi', 'pelemahan', 'kpk'): 1,\n          ('jokowi', 'pelemahan', 'kpk', 'dan'): 1,\n          ('pelemahan', 'kpk', 'dan', 'masa'): 1,\n          ('kpk', 'dan', 'masa', 'depan'): 1,\n          ('dan', 'masa', 'depan', 'demokrasi'): 1,\n          ('masa', 'depan', 'demokrasi', 'kita'): 1,\n          ('depan', 'demokrasi', 'kita', 'kpk'): 1,\n          ...})}"
     },
     "execution_count": 30,
     "metadata": {},
     "output_type": "execute_result"
    }
   ],
   "source": [
    "d_nonclick_ngrams_counts"
   ],
   "metadata": {
    "collapsed": false,
    "pycharm": {
     "name": "#%%\n"
    }
   }
  },
  {
   "cell_type": "code",
   "execution_count": 64,
   "outputs": [],
   "source": [
    "#these are methods that will become useful when extracting attribute markers\n",
    "#why do we need all this? well... that's like 5 hours of debugging...\n",
    "def flatten(foo):\n",
    "    return list(_flatten(foo))\n",
    "\n",
    "def _flatten(foo):\n",
    "    for x in foo:\n",
    "        if isinstance(x, collections.Iterable) and not isinstance(x, str):\n",
    "            for y in _flatten(x):\n",
    "                yield y\n",
    "        else:\n",
    "            yield x\n",
    "\n",
    "def array_to_string(a):\n",
    "    return ' '.join(flatten(a))\n",
    "\n",
    "def is_in_string_array(elements, original): #deprecated, does not take into account sequence order\n",
    "    return np.isin(array_to_string(elements).split(), array_to_string(original).split()).any()\n",
    "\n",
    "# no usage in the func\n",
    "def insert_string(string, inserted_string, index):\n",
    "    return string[:index] + inserted_string + string[index:]\n",
    "\n",
    "# modified from https://stackoverflow.com/questions/41752946/replacing-a-character-from-a-certain-index\n",
    "def replace_string(s, newstring, index, nofail=False):\n",
    "    # raise an error if index is outside of the string\n",
    "    if not nofail and index not in range(len(s)):\n",
    "        raise ValueError(\"index outside given string. index:\" + index)\n",
    "\n",
    "    # if not erroring, but the index is still not in the correct range..\n",
    "    if index < 0:  # add it to the beginning\n",
    "        return newstring + s\n",
    "    if index > len(s):  # add it to the end\n",
    "        return s + newstring\n",
    "\n",
    "    # insert the new string between \"slices\" of the original\n",
    "    return s[:index] + newstring + s[index + len(newstring):]\n",
    "\n",
    "def get_counts(list1, counted_ngrams):\n",
    "    counts = []\n",
    "    list1_ngrams = generate_ngrams(list1)\n",
    "    list2_counts = counted_ngrams\n",
    "\n",
    "    for length in range(param_span,0, -1):\n",
    "        for v in list1_ngrams[length]:\n",
    "            counts.append([list2_counts[length][v], v])\n",
    "    return np.array(counts)\n",
    "\n",
    "def get_attribute_markers(s, style_src):\n",
    "    sentence = [s]\n",
    "\n",
    "    ngrams = get_counts(sentence, d_nonclick_ngrams_counts)\n",
    "    if len(ngrams) > 0:\n",
    "        ngrams = ngrams[:,1]\n",
    "\n",
    "    pos_counts = get_counts(sentence, d_nonclick_ngrams_counts)\n",
    "    if len(pos_counts) > 0:\n",
    "        pos_counts = pos_counts[:,0]\n",
    "\n",
    "    neg_counts = get_counts(sentence, d_clickbait_ngrams_counts)\n",
    "    if len(neg_counts) > 0:\n",
    "        neg_counts = neg_counts[:,0]\n",
    "\n",
    "\n",
    "    if(style_src):\n",
    "        importances = (pos_counts + param_smooth) / (neg_counts + param_smooth)\n",
    "    else:\n",
    "        importances = (neg_counts + param_smooth) / (pos_counts + param_smooth)\n",
    "\n",
    "    a = []\n",
    "\n",
    "    importances = np.vstack((importances, ngrams)).T\n",
    "    for importance in importances:\n",
    "        if importance[0] > param_threshold and not is_in_string_array(importance[1], a):\n",
    "            a.append(' '.join(importance[1]))\n",
    "    return a\n",
    "\n",
    "def separate(sentence, style_src):\n",
    "    attributes = get_attribute_markers(sentence, style_src)\n",
    "    c = sentence\n",
    "\n",
    "    replace_indexes = []\n",
    "    for a in attributes:\n",
    "        replace_index = -1\n",
    "        replace_index = c.find(a)\n",
    "        replace_indexes.append(replace_index)\n",
    "        c = c.replace(a, \" \"*len(a))\n",
    "\n",
    "    if len(attributes) == 0:\n",
    "        return {'c': c, 'a': [], 'i': [], 's': sentence}\n",
    "\n",
    "    replace_indexes, attributes = zip(*sorted(zip(replace_indexes, attributes)))\n",
    "    return {'c': c, 'a': attributes, 'i': replace_indexes, 's': sentence}\n",
    "\n",
    "def get_c(sentence, style):\n",
    "    return re.sub(' +', ' ', separate(sentence, style)['c'])\n",
    "\n",
    "def get_a(sentence, style):\n",
    "    a = separate(sentence, style)['a']\n",
    "    if len(a) > 0:\n",
    "        return ' '.join(a)\n",
    "    else:\n",
    "        return \"\""
   ],
   "metadata": {
    "collapsed": false,
    "pycharm": {
     "name": "#%%\n"
    }
   }
  },
  {
   "cell_type": "markdown",
   "source": [
    "# Creating the lang dictionary"
   ],
   "metadata": {
    "collapsed": false,
    "pycharm": {
     "name": "#%% md\n"
    }
   }
  },
  {
   "cell_type": "code",
   "execution_count": 32,
   "outputs": [],
   "source": [
    "# Resources: https://pytorch.org/tutorials/intermediate/seq2seq_translation_tutorial.html\n",
    "# Had to modify & adapt most of the code in the tutorial since this isn't translation & data preprocessing is different\n",
    "\n",
    "SOS_token = 0\n",
    "EOS_token = 1\n",
    "\n",
    "class Lang:\n",
    "    def __init__(self, name):\n",
    "        self.name = name\n",
    "        self.word2index = {}\n",
    "        self.word2count = {}\n",
    "        self.index2word = {0: \"SOS\", 1: \"EOS\"}\n",
    "        self.n_words = 2  # Count SOS and EOS\n",
    "\n",
    "    def addSentence(self, sentence):\n",
    "        for word in sentence.split(' '):\n",
    "            self.addWord(word)\n",
    "\n",
    "    def addWord(self, word):\n",
    "        if word not in self.word2index:\n",
    "            self.word2index[word] = self.n_words\n",
    "            self.word2count[word] = 1\n",
    "            self.index2word[self.n_words] = word\n",
    "            self.n_words += 1\n",
    "        else:\n",
    "            self.word2count[word] += 1"
   ],
   "metadata": {
    "collapsed": false,
    "pycharm": {
     "name": "#%%\n"
    }
   }
  },
  {
   "cell_type": "code",
   "execution_count": 37,
   "outputs": [],
   "source": [
    "# count the overlap; we need function for this;\n",
    "def get_overlap(a, b):\n",
    "    # print(a, b)\n",
    "    a_counter = collections.Counter(a.split())\n",
    "    # print(a_counter)\n",
    "    b_counter = collections.Counter(b.split())\n",
    "    overlap = a_counter & b_counter\n",
    "    return overlap\n",
    "\n",
    "\n",
    "def get_total_overlap(a, b):\n",
    "    return len(list(get_overlap(a, b).elements()))"
   ],
   "metadata": {
    "collapsed": false,
    "pycharm": {
     "name": "#%%\n"
    }
   }
  },
  {
   "cell_type": "code",
   "execution_count": 39,
   "outputs": [],
   "source": [
    "def get_total_overlap(a, b):\n",
    "    return len(list(get_overlap(a, b).elements()))"
   ],
   "metadata": {
    "collapsed": false,
    "pycharm": {
     "name": "#%%\n"
    }
   }
  },
  {
   "cell_type": "code",
   "execution_count": 41,
   "outputs": [
    {
     "name": "stderr",
     "output_type": "stream",
     "text": [
      "/var/folders/1n/2gdy6g815s301ygx2s35p6_80000gp/T/ipykernel_80666/2938137875.py:9: VisibleDeprecationWarning: Creating an ndarray from ragged nested sequences (which is a list-or-tuple of lists-or-tuples-or ndarrays with different lengths or shapes) is deprecated. If you meant to do this, you must specify 'dtype=object' when creating the ndarray.\n",
      "  return np.array(counts)\n"
     ]
    }
   ],
   "source": [
    "noise_chance = 0.1\n",
    "\n",
    "input_lang = Lang(\"input\")\n",
    "output_lang = Lang(\"output\")\n",
    "\n",
    "d_pos_a = []\n",
    "\n",
    "pairs_pos = []\n",
    "for sentence in nonclickbait_l_c:\n",
    "    c = get_c(sentence, 1)\n",
    "    a = get_a(sentence, 1)\n",
    "    d_pos_a.append(a)\n",
    "    pairs_pos.append([c, a, sentence])\n",
    "\n",
    "d_neg_a = []\n",
    "\n",
    "pairs_neg = []\n",
    "for sentence in clickbait_l_c:\n",
    "    c = get_c(sentence, 0)\n",
    "    a = get_a(sentence, 0)\n",
    "    d_neg_a.append(a)\n",
    "    pairs_neg.append([c, a, sentence])"
   ],
   "metadata": {
    "collapsed": false,
    "pycharm": {
     "name": "#%%\n"
    }
   }
  },
  {
   "cell_type": "code",
   "execution_count": 47,
   "outputs": [],
   "source": [
    "noise_chance = 0.1\n",
    "\n",
    "def prepareData():\n",
    "    input_lang = Lang(\"input\")\n",
    "    output_lang = Lang(\"output\")\n",
    "\n",
    "    d_pos_a = []\n",
    "\n",
    "    pairs_pos = []\n",
    "    for sentence in nonclickbait_l_c:\n",
    "        c = get_c(sentence, 1)\n",
    "        a = get_a(sentence, 1)\n",
    "        d_pos_a.append(a)\n",
    "        pairs_pos.append([c, a, sentence])\n",
    "\n",
    "    d_neg_a = []\n",
    "\n",
    "    pairs_neg = []\n",
    "    for sentence in clickbait_l_c:\n",
    "        c = get_c(sentence, 0)\n",
    "        a = get_a(sentence, 0)\n",
    "        d_neg_a.append(a)\n",
    "        pairs_neg.append([c, a, sentence])\n",
    "\n",
    "    #adding noise for pos\n",
    "    for pair in pairs_pos:\n",
    "        if random.random() < noise_chance:\n",
    "            real_a = pair[1].split()\n",
    "\n",
    "            if(len(real_a) == 0):\n",
    "                continue\n",
    "\n",
    "            for a in d_pos_a:\n",
    "                if(len(a) == 0):\n",
    "                    continue\n",
    "                a = a.split()\n",
    "\n",
    "                overlap = get_total_overlap(' '.join(real_a), ' '.join(a))\n",
    "                if overlap > 0 and ((overlap == len(real_a) - 1 and len(real_a) - len(a) == 1) or (overlap == len(real_a) and len(real_a) - len(a) == -1)):\n",
    "                    real_a = a\n",
    "                    break;\n",
    "            pair[1] = ' '.join(real_a)\n",
    "\n",
    "\n",
    "    #adding noise for neg\n",
    "    for pair in pairs_neg:\n",
    "        if random.random() < noise_chance:\n",
    "            real_a = pair[1].split()\n",
    "            if(len(real_a) == 0):\n",
    "                continue\n",
    "\n",
    "            for a in d_neg_a:\n",
    "                if(len(a) == 0):\n",
    "                    continue\n",
    "                a = a.split()\n",
    "\n",
    "                overlap = get_total_overlap(' '.join(real_a), ' '.join(a))\n",
    "                if overlap > 0 and ((overlap == len(real_a) - 1 and len(real_a) - len(a) == 1) or (overlap == len(real_a) and len(real_a) - len(a) == -1)):\n",
    "                    real_a = a\n",
    "                    break;\n",
    "            pair[1] = ' '.join(real_a)\n",
    "\n",
    "    #concat atas bawah;\n",
    "    pairs = np.concatenate((pairs_pos, pairs_neg), 0)\n",
    "\n",
    "    for pair in pairs:\n",
    "\n",
    "        input_lang.addSentence(pair[0])\n",
    "\n",
    "        input_lang.addSentence(pair[1])\n",
    "        # sentence full\n",
    "        output_lang.addSentence(pair[2])\n",
    "\n",
    "    print(\"Counted words:\")\n",
    "    print(input_lang.name, input_lang.n_words)\n",
    "    print(output_lang.name, output_lang.n_words)\n",
    "    return input_lang, output_lang, pairs"
   ],
   "metadata": {
    "collapsed": false,
    "pycharm": {
     "name": "#%%\n"
    }
   }
  },
  {
   "cell_type": "code",
   "execution_count": 48,
   "outputs": [
    {
     "name": "stderr",
     "output_type": "stream",
     "text": [
      "/var/folders/1n/2gdy6g815s301ygx2s35p6_80000gp/T/ipykernel_80666/2938137875.py:9: VisibleDeprecationWarning: Creating an ndarray from ragged nested sequences (which is a list-or-tuple of lists-or-tuples-or ndarrays with different lengths or shapes) is deprecated. If you meant to do this, you must specify 'dtype=object' when creating the ndarray.\n",
      "  return np.array(counts)\n"
     ]
    },
    {
     "name": "stdout",
     "output_type": "stream",
     "text": [
      "Counted words:\n",
      "input 13961\n",
      "output 13896\n"
     ]
    }
   ],
   "source": [
    "input_lang, output_lang, pairs = prepareData()"
   ],
   "metadata": {
    "collapsed": false,
    "pycharm": {
     "name": "#%%\n"
    }
   }
  },
  {
   "cell_type": "code",
   "execution_count": null,
   "outputs": [],
   "source": [
    "for pair in pairs:\n",
    "    input_lang.addSentence(pair[0])\n",
    "    output_lang.addSentence(pair[1])\n",
    "for pair in pairs:\n",
    "    input_lang.addSentence(pair[1])\n",
    "    output_lang.addSentence(pair[0])"
   ],
   "metadata": {
    "collapsed": false,
    "pycharm": {
     "name": "#%%\n"
    }
   }
  },
  {
   "cell_type": "code",
   "execution_count": 66,
   "outputs": [
    {
     "name": "stdout",
     "output_type": "stream",
     "text": [
      "Counted words:\n",
      "input 13961\n",
      "output 13896\n"
     ]
    }
   ],
   "source": [
    "print(\"Counted words:\")\n",
    "print(input_lang.name, input_lang.n_words)\n",
    "print(output_lang.name, output_lang.n_words)"
   ],
   "metadata": {
    "collapsed": false,
    "pycharm": {
     "name": "#%%\n"
    }
   }
  },
  {
   "cell_type": "markdown",
   "source": [
    "# Neural Network"
   ],
   "metadata": {
    "collapsed": false,
    "pycharm": {
     "name": "#%% md\n"
    }
   }
  },
  {
   "cell_type": "markdown",
   "source": [],
   "metadata": {
    "collapsed": false,
    "pycharm": {
     "name": "#%% md\n"
    }
   }
  },
  {
   "cell_type": "code",
   "execution_count": 67,
   "outputs": [],
   "source": [
    "class Maxout(nn.Module):\n",
    "    def __init__(self, pool_size):\n",
    "        super().__init__()\n",
    "        self._pool_size = pool_size\n",
    "\n",
    "    def forward(self, x):\n",
    "        assert x.shape[1] % self._pool_size == 0, \\\n",
    "            'Wrong input last dim size ({}) for Maxout({})'.format(x.shape[1], self._pool_size)\n",
    "        m, i = x.view(*x.shape[:1], x.shape[1] // self._pool_size, self._pool_size, *x.shape[2:]).max(2)\n",
    "        return m"
   ],
   "metadata": {
    "collapsed": false,
    "pycharm": {
     "name": "#%%\n"
    }
   }
  },
  {
   "cell_type": "code",
   "execution_count": 68,
   "outputs": [],
   "source": [
    "class EncoderRNN(nn.Module):\n",
    "    def __init__(self, input_size, word_vec_size, hidden_size):\n",
    "        super(EncoderRNN, self).__init__()\n",
    "        self.hidden_size = hidden_size\n",
    "\n",
    "        self.embedding = nn.Embedding(input_size, word_vec_size)\n",
    "        self.gru = nn.GRU(word_vec_size, hidden_size)\n",
    "\n",
    "    def forward(self, input, hidden):\n",
    "        embedded = self.embedding(input).view(1, 1, -1)\n",
    "        output = embedded\n",
    "        output, hidden = self.gru(output, hidden)\n",
    "        return output, hidden\n",
    "\n",
    "    def initHidden(self):\n",
    "        return torch.zeros(1, 1, self.hidden_size, device=device)\n"
   ],
   "metadata": {
    "collapsed": false,
    "pycharm": {
     "name": "#%%\n"
    }
   }
  },
  {
   "cell_type": "code",
   "execution_count": 69,
   "outputs": [],
   "source": [
    "class DecoderRNN(nn.Module):\n",
    "    def __init__(self, hidden_size, word_vec_size, output_size):\n",
    "        super(DecoderRNN, self).__init__()\n",
    "        self.hidden_size = hidden_size\n",
    "        self.embedding = nn.Embedding(output_size, word_vec_size)\n",
    "        self.gru = nn.GRU(word_vec_size, hidden_size)\n",
    "        self.out = nn.Linear(hidden_size, output_size)\n",
    "        self.softmax = nn.LogSoftmax(dim=1)\n",
    "        self.maxout = Maxout(1)\n",
    "\n",
    "    def forward(self, input, hidden):\n",
    "        output = self.embedding(input).view(1, 1, -1)\n",
    "        output = self.maxout(output)\n",
    "        output, hidden = self.gru(output, hidden)\n",
    "        output = self.softmax(self.out(output[0]))\n",
    "        return output, hidden\n",
    "\n",
    "    def initHidden(self):\n",
    "        return torch.zeros(1, 1, self.hidden_size, device=device)"
   ],
   "metadata": {
    "collapsed": false,
    "pycharm": {
     "name": "#%%\n"
    }
   }
  },
  {
   "cell_type": "code",
   "execution_count": 70,
   "outputs": [],
   "source": [
    "#Preparing Training Data\n",
    "def indexesFromSentence(lang, sentence):\n",
    "    return [lang.word2index[word] for word in sentence.split(' ')]\n",
    "\n",
    "\n",
    "def tensorFromSentence(lang, sentence):\n",
    "    indexes = indexesFromSentence(lang, sentence)\n",
    "    indexes.append(EOS_token)\n",
    "    return torch.tensor(indexes, dtype=torch.long, device=device).view(-1, 1)\n",
    "\n",
    "\n",
    "def tensorsFromPair(pair):\n",
    "    input_c_tensor = tensorFromSentence(input_lang, pair[0])\n",
    "    input_a_tensor = tensorFromSentence(input_lang, pair[1])\n",
    "    target_tensor = tensorFromSentence(output_lang, pair[2])\n",
    "    return input_c_tensor, input_a_tensor, target_tensor"
   ],
   "metadata": {
    "collapsed": false,
    "pycharm": {
     "name": "#%%\n"
    }
   }
  },
  {
   "cell_type": "code",
   "execution_count": 71,
   "outputs": [],
   "source": [
    "#Training\n",
    "MAX_LENGTH = 50\n",
    "teacher_forcing_ratio = 0.5\n",
    "\n",
    "def train(input_c_tensor,\n",
    "          input_a_tensor,\n",
    "          target_tensor,\n",
    "          encoder_c,\n",
    "          encoder_a,\n",
    "          decoder,\n",
    "          encoder_c_optimizer,\n",
    "          encoder_a_optimizer,\n",
    "          decoder_optimizer,\n",
    "          criterion,\n",
    "          max_length=MAX_LENGTH\n",
    "          ):\n",
    "    encoder_c_hidden = encoder_c.initHidden()\n",
    "    encoder_a_hidden = encoder_a.initHidden()\n",
    "\n",
    "    encoder_a_optimizer.zero_grad()\n",
    "    encoder_c_optimizer.zero_grad()\n",
    "\n",
    "    decoder_optimizer.zero_grad()\n",
    "\n",
    "    input_c_length = input_c_tensor.size(0)\n",
    "    input_a_length = input_a_tensor.size(0)\n",
    "\n",
    "    target_length = target_tensor.size(0)\n",
    "\n",
    "    encoder_c_outputs = torch.zeros(max_length, encoder_c.hidden_size, device=device)\n",
    "    encoder_a_outputs = torch.zeros(max_length, encoder_a.hidden_size, device=device)\n",
    "\n",
    "    loss = 0\n",
    "\n",
    "    for ei in range(input_c_length):\n",
    "        encoder_c_output, encoder_c_hidden = encoder_c(\n",
    "            input_c_tensor[ei], encoder_c_hidden)\n",
    "        encoder_c_outputs[ei] = encoder_c_output[0, 0]\n",
    "\n",
    "    for ei in range(input_a_length):\n",
    "        encoder_a_output, encoder_a_hidden = encoder_a(\n",
    "            input_a_tensor[ei], encoder_a_hidden)\n",
    "        encoder_a_outputs[ei] = encoder_a_output[0, 0]\n",
    "\n",
    "\n",
    "    decoder_input = torch.tensor([[SOS_token]], device=device)\n",
    "\n",
    "    decoder_hidden = torch.cat((encoder_c_hidden, encoder_a_hidden), 2)\n",
    "\n",
    "    use_teacher_forcing = True if random.random() < teacher_forcing_ratio else False\n",
    "\n",
    "    if use_teacher_forcing:\n",
    "        # Teacher forcing: Feed the target as the next input\n",
    "        for di in range(target_length):\n",
    "            decoder_output, decoder_hidden = decoder(\n",
    "                decoder_input, decoder_hidden)\n",
    "            loss += criterion(decoder_output, target_tensor[di])\n",
    "            decoder_input = target_tensor[di]  # Teacher forcing\n",
    "\n",
    "    else:\n",
    "        # Without teacher forcing: use its own predictions as the next input\n",
    "        for di in range(target_length):\n",
    "            decoder_output, decoder_hidden = decoder(\n",
    "                decoder_input, decoder_hidden)\n",
    "            topv, topi = decoder_output.topk(1)\n",
    "            decoder_input = topi.squeeze().detach()  # detach from history as input\n",
    "\n",
    "            loss += criterion(decoder_output, target_tensor[di])\n",
    "            if decoder_input.item() == EOS_token:\n",
    "                break\n",
    "\n",
    "    loss.backward()\n",
    "\n",
    "    encoder_c_optimizer.step()\n",
    "    encoder_a_optimizer.step()\n",
    "    decoder_optimizer.step()\n",
    "\n",
    "    return loss.item() / target_length"
   ],
   "metadata": {
    "collapsed": false,
    "pycharm": {
     "name": "#%%\n"
    }
   }
  },
  {
   "cell_type": "code",
   "execution_count": 72,
   "outputs": [],
   "source": [
    "import time\n",
    "import math\n",
    "\n",
    "def asMinutes(s):\n",
    "    m = math.floor(s / 60)\n",
    "    s -= m * 60\n",
    "    return '%dm %ds' % (m, s)\n",
    "\n",
    "\n",
    "def timeSince(since, percent):\n",
    "    now = time.time()\n",
    "    s = now - since\n",
    "    es = s / (percent)\n",
    "    rs = es - s\n",
    "    return '%s (- %s)' % (asMinutes(s), asMinutes(rs))"
   ],
   "metadata": {
    "collapsed": false,
    "pycharm": {
     "name": "#%%\n"
    }
   }
  },
  {
   "cell_type": "code",
   "execution_count": 76,
   "outputs": [],
   "source": [
    "import matplotlib.pyplot as plt\n",
    "plt.switch_backend('agg')\n",
    "import matplotlib.ticker as ticker\n",
    "import numpy as np\n",
    "\n",
    "\n",
    "def showPlot(points):\n",
    "    plt.figure()\n",
    "    fig, ax = plt.subplots()\n",
    "    # this locator puts ticks at regular intervals\n",
    "    loc = ticker.MultipleLocator(base=0.2)\n",
    "    ax.yaxis.set_major_locator(loc)\n",
    "    plt.plot(points)"
   ],
   "metadata": {
    "collapsed": false,
    "pycharm": {
     "name": "#%%\n"
    }
   }
  },
  {
   "cell_type": "code",
   "execution_count": 98,
   "outputs": [
    {
     "name": "stdout",
     "output_type": "stream",
     "text": [
      "criterion ->  NLLLoss()\n",
      "0m 1s (- 0m 0s) (1 100%) 9.5593\n",
      "[9.559278048001802]\n"
     ]
    }
   ],
   "source": [
    "# # testing aja ;\n",
    "#\n",
    "# word_vec_size = 128\n",
    "# hidden_size = 512\n",
    "# learning_rate = 0.5\n",
    "# n_iters = 1\n",
    "#\n",
    "# encoder_c = EncoderRNN(input_lang.n_words, word_vec_size= word_vec_size, hidden_size = hidden_size)\n",
    "# encoder_a = EncoderRNN(input_lang.n_words, word_vec_size= word_vec_size, hidden_size = hidden_size)\n",
    "#\n",
    "# # print(encoder_a.embedding)\n",
    "# # print(encoder_c.embedding)\n",
    "#\n",
    "# decoder = DecoderRNN(hidden_size + hidden_size, word_vec_size, output_lang.n_words).to(device)\n",
    "# #\n",
    "# encoder_c_optimizer : optim.Adadelta = optim.Adadelta(encoder_c.parameters(), lr= learning_rate)\n",
    "# encoder_a_optimizer : optim.Adadelta = optim.Adadelta(encoder_a.parameters(), lr= learning_rate)\n",
    "# decoder_optimizer :  optim.Adadelta = optim.Adadelta(decoder.parameters(), lr= learning_rate)\n",
    "#\n",
    "# start: float = time.time()\n",
    "# plot_losses = []\n",
    "# print_loss_total = 0\n",
    "# plot_loss_total = 0\n",
    "#\n",
    "# training_pairs = [tensorsFromPair(random.choice(pairs)) for i in range(n_iters)]\n",
    "# criterion: nn.NLLLoss = nn.NLLLoss()\n",
    "#\n",
    "# print(\"criterion -> \", criterion )\n",
    "#\n",
    "# print_every = 1\n",
    "# plot_every = 1\n",
    "#\n",
    "# for iter in  range(1, n_iters + 1):\n",
    "#     training_pair = training_pairs[iter - 1]\n",
    "#     # print(training_pair)\n",
    "#\n",
    "#     input_tensor_c = training_pair[0]\n",
    "#     input_tensor_a = training_pair[1]\n",
    "#     target_tensor = training_pair[2]\n",
    "#\n",
    "#     loss = train(\n",
    "#         input_tensor_c,\n",
    "#         input_tensor_a,\n",
    "#         target_tensor,\n",
    "#         encoder_a,\n",
    "#         encoder_c ,\n",
    "#         decoder,\n",
    "#         encoder_a_optimizer,\n",
    "#         encoder_c_optimizer,\n",
    "#         decoder_optimizer,\n",
    "#         criterion,\n",
    "#     )\n",
    "#\n",
    "#     print_loss_total += loss\n",
    "#     plot_loss_total += loss\n",
    "#\n",
    "#\n",
    "#\n",
    "#     if iter % print_every == 0:\n",
    "#         print_loss_avg = print_loss_total / print_every\n",
    "#         print_loss_total = 0\n",
    "#         print('%s (%d %d%%) %.4f' % (timeSince(start, iter / n_iters),\n",
    "#                                      iter, iter / n_iters * 100, print_loss_avg))\n",
    "#\n",
    "#     if iter % plot_every == 0:\n",
    "#         plot_loss_avg = plot_loss_total / plot_every\n",
    "#         plot_losses.append(plot_loss_avg)\n",
    "#         plot_loss_total = 0\n",
    "#\n",
    "# #\n",
    "# # print(print_loss_total)\n",
    "# # print(plot_loss_total)\n",
    "#\n",
    "# print(plot_losses)"
   ],
   "metadata": {
    "collapsed": false,
    "pycharm": {
     "name": "#%%\n"
    }
   }
  },
  {
   "cell_type": "code",
   "execution_count": 83,
   "outputs": [],
   "source": [
    "# res  = training_pairs = [tensorsFromPair(random.choice(pairs)) for i in range(10)]\n",
    "#\n",
    "# print(len(res[1]))\n",
    "#\n",
    "# print(res[1])"
   ],
   "metadata": {
    "collapsed": false,
    "pycharm": {
     "name": "#%%\n"
    }
   }
  },
  {
   "cell_type": "code",
   "execution_count": 109,
   "outputs": [],
   "source": [
    "def trainIters(\n",
    "        encoder_a : EncoderRNN,\n",
    "        encoder_c : EncoderRNN,\n",
    "        decoder : DecoderRNN,\n",
    "        n_iters : int ,\n",
    "        print_every : int =1000,\n",
    "        plot_every : int =100,\n",
    "        learning_rate : float =0.01,):\n",
    "\n",
    "    start: float = time.time()\n",
    "    plot_losses = []\n",
    "    print_loss_total = 0\n",
    "    plot_loss_total = 0\n",
    "\n",
    "    encoder_c_optimizer : optim.Adadelta = optim.Adadelta(encoder_c.parameters(), lr= learning_rate)\n",
    "    encoder_a_optimizer : optim.Adadelta = optim.Adadelta(encoder_a.parameters(), lr= learning_rate)\n",
    "    decoder_optimizer :  optim.Adadelta = optim.Adadelta(decoder.parameters(), lr= learning_rate)\n",
    "\n",
    "    training_pairs = [tensorsFromPair(random.choice(pairs)) for i in range(n_iters)]\n",
    "    criterion: nn.NLLLoss = nn.NLLLoss()\n",
    "\n",
    "\n",
    "    for iter  in  range(1, n_iters + 1):\n",
    "        training_pair = training_pairs[iter - 1]\n",
    "        input_tensor_c = training_pair[0]\n",
    "        input_tensor_a = training_pair[1]\n",
    "        target_tensor = training_pair[2]\n",
    "\n",
    "        loss = train(\n",
    "            input_tensor_c,\n",
    "            input_tensor_a,\n",
    "            target_tensor,\n",
    "            encoder_a,\n",
    "             encoder_c ,\n",
    "            decoder,\n",
    "            encoder_a_optimizer,\n",
    "            encoder_c_optimizer,\n",
    "            decoder_optimizer,\n",
    "            criterion,\n",
    "        )\n",
    "\n",
    "        print_loss_total += loss\n",
    "        plot_loss_total += loss\n",
    "\n",
    "        if iter % print_every == 0:\n",
    "            print_loss_avg = print_loss_total / print_every\n",
    "            print_loss_total = 0\n",
    "            print('%s (%d %d%%) %.4f' % (timeSince(start, iter / n_iters),\n",
    "                                         iter, iter / n_iters * 100, print_loss_avg))\n",
    "\n",
    "        if iter % plot_every == 0:\n",
    "            plot_loss_avg = plot_loss_total / plot_every\n",
    "            plot_losses.append(plot_loss_avg)\n",
    "            plot_loss_total = 0\n",
    "\n",
    "        showPlot(plot_losses)\n"
   ],
   "metadata": {
    "collapsed": false,
    "pycharm": {
     "name": "#%%\n"
    }
   }
  },
  {
   "cell_type": "code",
   "execution_count": 110,
   "outputs": [],
   "source": [
    "word_vec_size = 128\n",
    "hidden_size = 512\n",
    "\n",
    "device\n",
    "\n",
    "EncoderRNN(input_lang.n_words, word_vec_size, hidden_size).to(device)\n",
    "encoder_c = EncoderRNN(input_lang.n_words, word_vec_size, hidden_size).to(device)\n",
    "encoder_a = EncoderRNN(input_lang.n_words, word_vec_size, hidden_size).to(device)\n",
    "\n",
    "decoder = DecoderRNN(hidden_size + hidden_size, word_vec_size, output_lang.n_words).to(device)"
   ],
   "metadata": {
    "collapsed": false,
    "pycharm": {
     "name": "#%%\n"
    }
   }
  },
  {
   "cell_type": "code",
   "execution_count": 113,
   "outputs": [
    {
     "name": "stderr",
     "output_type": "stream",
     "text": [
      "/var/folders/1n/2gdy6g815s301ygx2s35p6_80000gp/T/ipykernel_80666/3257233148.py:8: RuntimeWarning: More than 20 figures have been opened. Figures created through the pyplot interface (`matplotlib.pyplot.figure`) are retained until explicitly closed and may consume too much memory. (To control this warning, see the rcParam `figure.max_open_warning`).\n",
      "  plt.figure()\n",
      "/var/folders/1n/2gdy6g815s301ygx2s35p6_80000gp/T/ipykernel_80666/3257233148.py:9: RuntimeWarning: More than 20 figures have been opened. Figures created through the pyplot interface (`matplotlib.pyplot.figure`) are retained until explicitly closed and may consume too much memory. (To control this warning, see the rcParam `figure.max_open_warning`).\n",
      "  fig, ax = plt.subplots()\n"
     ]
    },
    {
     "name": "stdout",
     "output_type": "stream",
     "text": [
      "0m 8s (- 1m 15s) (10 10%) 9.5387\n",
      "0m 15s (- 1m 1s) (20 20%) 9.5340\n",
      "0m 22s (- 0m 53s) (30 30%) 9.5390\n",
      "0m 30s (- 0m 45s) (40 40%) 9.5375\n",
      "0m 37s (- 0m 37s) (50 50%) 9.5429\n",
      "0m 45s (- 0m 30s) (60 60%) 9.5469\n",
      "0m 52s (- 0m 22s) (70 70%) 9.5361\n",
      "1m 0s (- 0m 15s) (80 80%) 9.5415\n",
      "1m 8s (- 0m 7s) (90 90%) 9.5260\n",
      "1m 15s (- 0m 0s) (100 100%) 9.5211\n"
     ]
    }
   ],
   "source": [
    "trainIters(encoder_c, encoder_a, decoder, 100, print_every=10, plot_every=10, learning_rate= 0.01)"
   ],
   "metadata": {
    "collapsed": false,
    "pycharm": {
     "name": "#%%\n"
    }
   }
  },
  {
   "cell_type": "code",
   "execution_count": null,
   "outputs": [],
   "source": [
    "def evaluate(encoder, decoder, sentence, max_length=MAX_LENGTH):\n",
    "    with torch.no_grad():\n"
   ],
   "metadata": {
    "collapsed": false,
    "pycharm": {
     "name": "#%%\n"
    }
   }
  }
 ],
 "metadata": {
  "kernelspec": {
   "display_name": "Python 3 (ipykernel)",
   "language": "python",
   "name": "python3"
  },
  "language_info": {
   "codemirror_mode": {
    "name": "ipython",
    "version": 3
   },
   "file_extension": ".py",
   "mimetype": "text/x-python",
   "name": "python",
   "nbconvert_exporter": "python",
   "pygments_lexer": "ipython3",
   "version": "3.8.13"
  }
 },
 "nbformat": 4,
 "nbformat_minor": 1
}