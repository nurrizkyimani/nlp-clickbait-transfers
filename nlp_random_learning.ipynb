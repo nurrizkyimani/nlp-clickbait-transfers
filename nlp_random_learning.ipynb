{
 "cells": [
  {
   "cell_type": "code",
   "execution_count": 2,
   "metadata": {
    "collapsed": true,
    "pycharm": {
     "name": "#%%\n"
    }
   },
   "outputs": [],
   "source": [
    "import numpy as np\n",
    "import pandas as pd"
   ]
  },
  {
   "cell_type": "code",
   "execution_count": 4,
   "outputs": [
    {
     "data": {
      "text/plain": "24"
     },
     "execution_count": 4,
     "metadata": {},
     "output_type": "execute_result"
    }
   ],
   "source": [
    "(lambda x: x*2)(12)"
   ],
   "metadata": {
    "collapsed": false,
    "pycharm": {
     "name": "#%%\n"
    }
   }
  },
  {
   "cell_type": "code",
   "execution_count": 7,
   "outputs": [
    {
     "data": {
      "text/plain": "[2, 4, 6, 8]"
     },
     "execution_count": 7,
     "metadata": {},
     "output_type": "execute_result"
    }
   ],
   "source": [
    "list_1 = [1,2,3,4,5,6,7,8,9]\n",
    "filter(lambda x: x%2==0, list_1)"
   ],
   "metadata": {
    "collapsed": false,
    "pycharm": {
     "name": "#%%\n"
    }
   }
  },
  {
   "cell_type": "code",
   "execution_count": 8,
   "outputs": [
    {
     "data": {
      "text/plain": "[2, 4, 6, 8]"
     },
     "execution_count": 8,
     "metadata": {},
     "output_type": "execute_result"
    }
   ],
   "source": [
    "list(filter(lambda x: x%2==0, list_1))"
   ],
   "metadata": {
    "collapsed": false,
    "pycharm": {
     "name": "#%%\n"
    }
   }
  },
  {
   "cell_type": "code",
   "execution_count": 9,
   "outputs": [
    {
     "data": {
      "text/plain": "[1, 8, 27, 64, 125, 216, 343, 512, 729]"
     },
     "execution_count": 9,
     "metadata": {},
     "output_type": "execute_result"
    }
   ],
   "source": [
    "list_1 = [1,2,3,4,5,6,7,8,9]\n",
    "cubed = map(lambda x: pow(x,3), list_1)\n",
    "list(cubed)"
   ],
   "metadata": {
    "collapsed": false,
    "pycharm": {
     "name": "#%%\n"
    }
   }
  },
  {
   "cell_type": "code",
   "execution_count": 11,
   "outputs": [
    {
     "data": {
      "text/plain": "   Name    Status  Birthyear\n0  Luke    Father       1976\n1  Gina    Mother       1984\n2   Sam       Son       2013\n3  Emma  Daughter       2016",
      "text/html": "<div>\n<style scoped>\n    .dataframe tbody tr th:only-of-type {\n        vertical-align: middle;\n    }\n\n    .dataframe tbody tr th {\n        vertical-align: top;\n    }\n\n    .dataframe thead th {\n        text-align: right;\n    }\n</style>\n<table border=\"1\" class=\"dataframe\">\n  <thead>\n    <tr style=\"text-align: right;\">\n      <th></th>\n      <th>Name</th>\n      <th>Status</th>\n      <th>Birthyear</th>\n    </tr>\n  </thead>\n  <tbody>\n    <tr>\n      <th>0</th>\n      <td>Luke</td>\n      <td>Father</td>\n      <td>1976</td>\n    </tr>\n    <tr>\n      <th>1</th>\n      <td>Gina</td>\n      <td>Mother</td>\n      <td>1984</td>\n    </tr>\n    <tr>\n      <th>2</th>\n      <td>Sam</td>\n      <td>Son</td>\n      <td>2013</td>\n    </tr>\n    <tr>\n      <th>3</th>\n      <td>Emma</td>\n      <td>Daughter</td>\n      <td>2016</td>\n    </tr>\n  </tbody>\n</table>\n</div>"
     },
     "execution_count": 11,
     "metadata": {},
     "output_type": "execute_result"
    }
   ],
   "source": [
    "df = pd.DataFrame({\n",
    "    'Name': ['Luke','Gina','Sam','Emma'],\n",
    "    'Status': ['Father', 'Mother', 'Son', 'Daughter'],\n",
    "    'Birthyear': [1976, 1984, 2013, 2016],\n",
    "})\n",
    "\n",
    "df.head()"
   ],
   "metadata": {
    "collapsed": false,
    "pycharm": {
     "name": "#%%\n"
    }
   }
  },
  {
   "cell_type": "code",
   "execution_count": 12,
   "outputs": [],
   "source": [
    "df['age'] = df['Birthyear'].apply(lambda x: 2021-x)"
   ],
   "metadata": {
    "collapsed": false,
    "pycharm": {
     "name": "#%%\n"
    }
   }
  },
  {
   "cell_type": "code",
   "execution_count": 16,
   "outputs": [
    {
     "data": {
      "text/plain": "<bound method NDFrame.head of 0    45\n1    37\n2     8\n3     5\nName: age, dtype: int64>"
     },
     "execution_count": 16,
     "metadata": {},
     "output_type": "execute_result"
    }
   ],
   "source": [
    "df.age.head"
   ],
   "metadata": {
    "collapsed": false,
    "pycharm": {
     "name": "#%%\n"
    }
   }
  },
  {
   "cell_type": "code",
   "execution_count": 17,
   "outputs": [
    {
     "data": {
      "text/plain": "[45, 37]"
     },
     "execution_count": 17,
     "metadata": {},
     "output_type": "execute_result"
    }
   ],
   "source": [
    "# list(filter(lambda x: x>18, df['age']))\n",
    "list(filter(lambda x: x> 18, df.age))"
   ],
   "metadata": {
    "collapsed": false,
    "pycharm": {
     "name": "#%%\n"
    }
   }
  },
  {
   "cell_type": "code",
   "execution_count": 18,
   "outputs": [],
   "source": [
    "df['double_age'] = df['age'].map(lambda x: x*2)"
   ],
   "metadata": {
    "collapsed": false,
    "pycharm": {
     "name": "#%%\n"
    }
   }
  },
  {
   "cell_type": "code",
   "execution_count": 21,
   "outputs": [],
   "source": [
    "df['Gender'] = df['Status'].map(lambda x: 'Male' if x=='Father' or x=='son' else 'Female')"
   ],
   "metadata": {
    "collapsed": false,
    "pycharm": {
     "name": "#%%\n"
    }
   }
  },
  {
   "cell_type": "code",
   "execution_count": 22,
   "outputs": [
    {
     "data": {
      "text/plain": "   Name    Status  Birthyear  age  double_age  Gender\n0  Luke    Father       1976   45          90    Male\n1  Gina    Mother       1984   37          74  Female\n2   Sam       Son       2013    8          16  Female\n3  Emma  Daughter       2016    5          10  Female",
      "text/html": "<div>\n<style scoped>\n    .dataframe tbody tr th:only-of-type {\n        vertical-align: middle;\n    }\n\n    .dataframe tbody tr th {\n        vertical-align: top;\n    }\n\n    .dataframe thead th {\n        text-align: right;\n    }\n</style>\n<table border=\"1\" class=\"dataframe\">\n  <thead>\n    <tr style=\"text-align: right;\">\n      <th></th>\n      <th>Name</th>\n      <th>Status</th>\n      <th>Birthyear</th>\n      <th>age</th>\n      <th>double_age</th>\n      <th>Gender</th>\n    </tr>\n  </thead>\n  <tbody>\n    <tr>\n      <th>0</th>\n      <td>Luke</td>\n      <td>Father</td>\n      <td>1976</td>\n      <td>45</td>\n      <td>90</td>\n      <td>Male</td>\n    </tr>\n    <tr>\n      <th>1</th>\n      <td>Gina</td>\n      <td>Mother</td>\n      <td>1984</td>\n      <td>37</td>\n      <td>74</td>\n      <td>Female</td>\n    </tr>\n    <tr>\n      <th>2</th>\n      <td>Sam</td>\n      <td>Son</td>\n      <td>2013</td>\n      <td>8</td>\n      <td>16</td>\n      <td>Female</td>\n    </tr>\n    <tr>\n      <th>3</th>\n      <td>Emma</td>\n      <td>Daughter</td>\n      <td>2016</td>\n      <td>5</td>\n      <td>10</td>\n      <td>Female</td>\n    </tr>\n  </tbody>\n</table>\n</div>"
     },
     "execution_count": 22,
     "metadata": {},
     "output_type": "execute_result"
    }
   ],
   "source": [
    "df.head()"
   ],
   "metadata": {
    "collapsed": false,
    "pycharm": {
     "name": "#%%\n"
    }
   }
  },
  {
   "cell_type": "code",
   "execution_count": 23,
   "outputs": [
    {
     "name": "stdout",
     "output_type": "stream",
     "text": [
      "['Bruce', 'Wayne', 'Is', 'Batman']\n",
      "['bruce', 'wayne', 'is', 'batman']\n",
      "bruce wayne is batman\n"
     ]
    }
   ],
   "source": [
    "import re\n",
    "\n",
    "def putSpace(input):\n",
    "\n",
    "    # regex [A-Z][a-z]* means any string starting\n",
    "    # with capital character followed by many\n",
    "    # lowercase letters\n",
    "    words = re.findall('[A-Z][a-z]*', input)\n",
    "\n",
    "    print(words)\n",
    "\n",
    "    # Change first letter of each word into lower\n",
    "    # case\n",
    "    for i in range(0,len(words)):\n",
    "        words[i]=words[i][0].lower()+words[i][1:]\n",
    "\n",
    "    print(words)\n",
    "    print(' '.join(words))\n",
    "\n",
    "# Driver program\n",
    "if __name__ == \"__main__\":\n",
    "    input = 'BruceWayneIsBatman'\n",
    "    putSpace(input)"
   ],
   "metadata": {
    "collapsed": false,
    "pycharm": {
     "name": "#%%\n"
    }
   }
  },
  {
   "cell_type": "code",
   "execution_count": 24,
   "outputs": [],
   "source": [
    "text_try = \"digrebeg di hotel, aktor ftv ridho illahi berduaan dengan selebgram chagii wow! amelia?\""
   ],
   "metadata": {
    "collapsed": false,
    "pycharm": {
     "name": "#%%\n"
    }
   }
  },
  {
   "cell_type": "code",
   "execution_count": 26,
   "outputs": [],
   "source": [
    "df['Status'] = df['Status'].replace({'.':' . ',', ':' , ', '!': \" ! \", \"?\": \" ? \"},regex=True)"
   ],
   "metadata": {
    "collapsed": false,
    "pycharm": {
     "name": "#%%\n"
    }
   }
  },
  {
   "cell_type": "code",
   "execution_count": 34,
   "outputs": [
    {
     "name": "stdout",
     "output_type": "stream",
     "text": [
      "digrebeg di hotel ,  aktor ftv ridho illahi berduaan dengan selebgram chagii amelia?\n"
     ]
    }
   ],
   "source": [
    "text_try = text_try.replace(\".\", \" . \" )\n",
    "\n",
    "res_text = text_try.replace(\",\", \" , \" )\n",
    "\n",
    "# res_text = text_try.replace({'.':' . ',', ':' , ', '!': \" ! \", \"?\": \" ? \"}, )\n",
    "\n",
    "print(res_text)"
   ],
   "metadata": {
    "collapsed": false,
    "pycharm": {
     "name": "#%%\n"
    }
   }
  },
  {
   "cell_type": "code",
   "execution_count": 41,
   "outputs": [
    {
     "name": "stdout",
     "output_type": "stream",
     "text": [
      "sering quality time bersama keluarg\u0001 \u0002 \u0003ternyata ini 3,000 ma\u0001 \u0002 \u00033 seperti manfaatny\u0001 \u0002 \u0003\n"
     ]
    }
   ],
   "source": [
    "rule = \"([\\D])([^\\w^\\s])([\\s$\\D])?\"\n",
    "\n",
    "text = \"sering quality time bersama keluarga? ternyata ini 3,000 man,3 seperti manfaatnya!\"\n",
    "\n",
    "clean = re.compile(rule)\n",
    "output = re.sub(clean, '\\1 \\2 \\3' , text)\n",
    "\n",
    "print(output)\n",
    "# res = text.apply(lambda y: \" \".join((re.sub(r'([!/?/./,/%/\\'/\\\"/-/:])', lambda x: ' ' + x.group()+' ' , y)).split()) , 1)"
   ],
   "metadata": {
    "collapsed": false,
    "pycharm": {
     "name": "#%%\n"
    }
   }
  },
  {
   "cell_type": "code",
   "execution_count": null,
   "outputs": [],
   "source": [],
   "metadata": {
    "collapsed": false,
    "pycharm": {
     "name": "#%%\n"
    }
   }
  }
 ],
 "metadata": {
  "kernelspec": {
   "display_name": "Python 3",
   "language": "python",
   "name": "python3"
  },
  "language_info": {
   "codemirror_mode": {
    "name": "ipython",
    "version": 2
   },
   "file_extension": ".py",
   "mimetype": "text/x-python",
   "name": "python",
   "nbconvert_exporter": "python",
   "pygments_lexer": "ipython2",
   "version": "2.7.6"
  }
 },
 "nbformat": 4,
 "nbformat_minor": 0
}